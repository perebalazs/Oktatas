{
 "cells": [
  {
   "cell_type": "code",
   "execution_count": 29,
   "metadata": {},
   "outputs": [
    {
     "name": "stderr",
     "output_type": "stream",
     "text": [
      "Warning : Gmsh has aleady been initialized\n"
     ]
    }
   ],
   "source": [
    "import gmsh\n",
    "gmsh.initialize()\n",
    "using LinearAlgebra, SparseArrays"
   ]
  },
  {
   "cell_type": "code",
   "execution_count": 30,
   "metadata": {},
   "outputs": [
    {
     "data": {
      "text/plain": [
       "100"
      ]
     },
     "metadata": {},
     "output_type": "display_data"
    }
   ],
   "source": [
    "# Data\n",
    "height = 100\n",
    "base = 100\n",
    "elemSize = 100"
   ]
  },
  {
   "cell_type": "code",
   "execution_count": 31,
   "metadata": {},
   "outputs": [],
   "source": [
    "gmsh.model.add(\"rectangle\")\n",
    "\n",
    "p1 = gmsh.model.occ.addPoint(-1, -1, 0)\n",
    "p2 = gmsh.model.occ.addPoint(1, -1, 0)\n",
    "p3 = gmsh.model.occ.addPoint(1, 1, 0)\n",
    "p4 = gmsh.model.occ.addPoint(-1, 1, 0)\n",
    "\n",
    "l1 = gmsh.model.occ.addLine(p1, p2)\n",
    "l2 = gmsh.model.occ.addLine(p2, p3)\n",
    "l3 = gmsh.model.occ.addLine(p3, p4)\n",
    "l4 = gmsh.model.occ.addLine(p4, p1)\n",
    "\n",
    "cl1 = gmsh.model.occ.addCurveLoop([l1, l2, l3, l4])\n",
    "\n",
    "sf1 = gmsh.model.occ.addPlaneSurface([cl1])\n",
    "\n",
    "gmsh.model.occ.synchronize()"
   ]
  },
  {
   "cell_type": "code",
   "execution_count": 32,
   "metadata": {},
   "outputs": [],
   "source": [
    "supp1 = gmsh.model.addPhysicalGroup(1, [l1])\n",
    "gmsh.model.setPhysicalName(1, supp1, \"FixBottomY\")\n",
    "supp2 = gmsh.model.addPhysicalGroup(1, [l4])\n",
    "gmsh.model.setPhysicalName(1, supp2, \"FixLeftX\")\n",
    "trac1 = gmsh.model.addPhysicalGroup(1, [l3])\n",
    "gmsh.model.setPhysicalName(1, trac1, \"ForceTopY\")"
   ]
  },
  {
   "cell_type": "code",
   "execution_count": 33,
   "metadata": {},
   "outputs": [
    {
     "name": "stdout",
     "output_type": "stream",
     "text": [
      "Info    : Meshing 1D...\n",
      "Info    : [  0%] Meshing curve 1 (Line)\n",
      "Info    : [ 30%] Meshing curve 2 (Line)\n",
      "Info    : [ 50%] Meshing curve 3 (Line)\n",
      "Info    : [ 80%] Meshing curve 4 (Line)\n",
      "Info    : Done meshing 1D (Wall 0.00234304s, CPU 0.002123s)\n",
      "Info    : 4 nodes 8 elements\n",
      "Info    : Meshing 2D...\n",
      "Info    : Meshing surface 1 (Plane, Frontal-Delaunay for Quads)\n",
      "Info    : Done meshing 2D (Wall 0.00149058s, CPU 0.001484s)\n",
      "Info    : 4 nodes 10 elements\n",
      "Info    : Recombining 2D mesh...\n",
      "Info    : Blossom: 1 internal 2 closed\n",
      "Info    : Blossom recombination completed (Wall 0.000122031s, CPU 0.000119s): 1 quads, 0 triangles, 0 invalid quads, 0 quads with Q < 0.1, avg Q = 1, min Q = 1\n",
      "Info    : Done recombining 2D mesh (Wall 0.000180732s, CPU 0.000186s)\n"
     ]
    }
   ],
   "source": [
    "all = gmsh.model.getEntities(0);\n",
    "gmsh.model.mesh.setSize(all, elemSize) # element size\n",
    "gmsh.model.mesh.setAlgorithm(2, sf1, 8)\n",
    "gmsh.model.mesh.generate(1)\n",
    "gmsh.model.mesh.generate(2)\n",
    "gmsh.model.mesh.recombine()\n",
    "# másodfokú elemekhez:\n",
    "#gmsh.option.setNumber(\"Mesh.SecondOrderIncomplete\", 1)\n",
    "#gmsh.model.mesh.setOrder(2)\n",
    "\n",
    "gmsh.option.setNumber(\"Geometry.CurveLabels\", 1)\n",
    "gmsh.option.setNumber(\"Mesh.Points\", 1)\n",
    "gmsh.option.setNumber(\"Mesh.Lines\", 1)\n",
    "gmsh.option.setNumber(\"Mesh.NodeLabels\", 1)\n",
    "gmsh.option.setNumber(\"Mesh.LineLabels\", 1)\n",
    "gmsh.option.setNumber(\"Mesh.SurfaceLabels\", 1)"
   ]
  },
  {
   "cell_type": "code",
   "execution_count": 34,
   "metadata": {},
   "outputs": [
    {
     "data": {
      "text/plain": [
       "3×3 Matrix{Float64}:\n",
       " 2.69231e5  1.15385e5      0.0\n",
       " 1.15385e5  2.69231e5      0.0\n",
       " 0.0        0.0        76923.1"
      ]
     },
     "metadata": {},
     "output_type": "display_data"
    }
   ],
   "source": [
    "# SA\n",
    "E = 2e5\n",
    "ν = 0.3\n",
    "D = E / ((1 + ν) * (1 - 2ν)) * [1-ν ν 0; ν 1-ν 0; 0 0 (1-2ν)/2]"
   ]
  },
  {
   "cell_type": "code",
   "execution_count": 35,
   "metadata": {},
   "outputs": [
    {
     "data": {
      "text/plain": [
       "3×3 Matrix{Float64}:\n",
       "     2.1978e5  65934.1           0.0\n",
       " 65934.1           2.1978e5      0.0\n",
       "     0.0           0.0       76923.1"
      ]
     },
     "metadata": {},
     "output_type": "display_data"
    }
   ],
   "source": [
    "# ÁSF\n",
    "E = 2e5\n",
    "ν = 0.3\n",
    "D = E / (1 - ν^2) * [1 ν 0; ν 1 0; 0 0 (1-ν)/2]"
   ]
  },
  {
   "cell_type": "code",
   "execution_count": 36,
   "metadata": {},
   "outputs": [
    {
     "data": {
      "text/plain": [
       "8×8 SparseMatrixCSC{Float64, Int64} with 64 stored entries:\n",
       "  98901.1    35714.3   -60439.6   …  -35714.3    10989.0     2747.25\n",
       "  35714.3    98901.1     2747.25     -49450.5    -2747.25  -60439.6\n",
       " -60439.6     2747.25   98901.1       -2747.25  -49450.5    35714.3\n",
       "  -2747.25   10989.0   -35714.3      -60439.6    35714.3   -49450.5\n",
       " -49450.5   -35714.3    10989.0       35714.3   -60439.6    -2747.25\n",
       " -35714.3   -49450.5    -2747.25  …   98901.1     2747.25   10989.0\n",
       "  10989.0    -2747.25  -49450.5        2747.25   98901.1   -35714.3\n",
       "   2747.25  -60439.6    35714.3       10989.0   -35714.3    98901.1"
      ]
     },
     "metadata": {},
     "output_type": "display_data"
    }
   ],
   "source": [
    "# Merevségi mátrix felépítése\n",
    "nodeTags, nodeCoords, nodeParams = gmsh.model.mesh.getNodes(-1, -1)\n",
    "elemTypes, elemTags, elemNodeTags = gmsh.model.mesh.getElements(2, -1)\n",
    "nn = []\n",
    "I = []\n",
    "J = []\n",
    "V = []\n",
    "V = convert(Vector{Float64}, V)\n",
    "#sizehint!(I, 8 * 8 * noe)\n",
    "#sizehint!(J, 8 * 8 * noe)\n",
    "#sizehint!(V, 8 * 8 * noe)\n",
    "for i in 1:length(elemTypes)\n",
    "    et = elemTypes[i]\n",
    "    elementName, dim, order, numNodes::Int64, localNodeCoord, numPrimaryNodes = gmsh.model.mesh.getElementProperties(et)\n",
    "    intPoints, intWeights = gmsh.model.mesh.getIntegrationPoints(et, \"Gauss3\")\n",
    "    numIntPoints = length(intWeights)\n",
    "    comp, fun, ori = gmsh.model.mesh.getBasisFunctions(et, intPoints, \"Lagrange\")\n",
    "    h = reshape(fun, :, numIntPoints)\n",
    "    comp, dfun, ori = gmsh.model.mesh.getBasisFunctions(et, intPoints, \"GradLagrange\")\n",
    "    #display(ori)\n",
    "    ∇h = reshape(dfun, :, numIntPoints)\n",
    "    nnet = zeros(Int, length(elemTags[i]), numNodes)\n",
    "    for j in 1:length(elemTags[i])\n",
    "        elem = elemTags[i][j]\n",
    "        for k in 1:numNodes\n",
    "            nnet[j, k] = elemNodeTags[i][(j-1)*numNodes+k]\n",
    "        end\n",
    "        jac, jacDet, coord = gmsh.model.mesh.getJacobian(elem, intPoints)\n",
    "        Jac = reshape(jac, 3, :)\n",
    "        #display(reshape(coord, 3, :))\n",
    "        invJac = similar(Jac)\n",
    "        for k in 1:numIntPoints\n",
    "            invJac[1:3, 3*k-2:3*k] = inv(Jac[1:3, 3*k-2:3*k])\n",
    "        end\n",
    "        ∂h = zeros(3, numNodes * numIntPoints)\n",
    "        for k in 1:numIntPoints, l in 1:numNodes\n",
    "            ∂h[1:3, (k-1)*numIntPoints+l] = invJac[1:3, k*3-2:k*3] * ∇h[l*3-2:l*3, k]\n",
    "        end\n",
    "        #display(∂h)\n",
    "        B = zeros(3 * numIntPoints, 2 * numNodes)\n",
    "        for k in 1:numIntPoints\n",
    "            for l in 1:numNodes\n",
    "                B[k*3-0, l*2-0] = B[k*3-2, l*2-1] = ∂h[1, (k-1)*numIntPoints+l]\n",
    "                B[k*3-0, l*2-1] = B[k*3-1, l*2-0] = ∂h[2, (k-1)*numIntPoints+l]\n",
    "            end\n",
    "        end\n",
    "        K1 = zeros(2 * numNodes, 2 * numNodes)\n",
    "        for k in 1:numIntPoints\n",
    "            B1 = B[k*3-2:k*3, 1:2*numNodes]\n",
    "            #display(B1)\n",
    "            K1 += B1' * D * B1 * jacDet[k] * intWeights[k]\n",
    "        end\n",
    "        #display(K1)\n",
    "        Iidx = zeros(Int, numNodes * 2, numNodes * 2)\n",
    "        Jidx = zeros(Int, numNodes * 2, numNodes * 2)\n",
    "        for k in 1:numNodes*2, l in 1:numNodes*2\n",
    "            Iidx[k, l] = k\n",
    "            Jidx[k, l] = l\n",
    "        end\n",
    "        nn2 = zeros(Int, 2 * numNodes)\n",
    "        nn2[1:2:2*numNodes] = 2 * nnet[j, 1:numNodes] .- 1\n",
    "        nn2[2:2:2*numNodes] = 2 * nnet[j, 1:numNodes]\n",
    "        #display(nn2)\n",
    "        append!(I, nn2[Iidx[:]])\n",
    "        append!(J, nn2[Jidx[:]])\n",
    "        append!(V, K1[:])\n",
    "    end\n",
    "    push!(nn, nnet)\n",
    "end\n",
    "K = sparse(I, J, V)\n",
    "#display(I')\n",
    "#display(J')\n",
    "#display(V')\n",
    "K0 = copy(K)\n"
   ]
  },
  {
   "cell_type": "code",
   "execution_count": 37,
   "metadata": {},
   "outputs": [
    {
     "data": {
      "text/plain": [
       "4×4 Matrix{Float64}:\n",
       " 0.95  0.0  0.0  0.0\n",
       " 0.0   0.0  1.0  0.0\n",
       " 0.0   0.0  0.0  1.0\n",
       " 0.05  1.0  0.0  0.0"
      ]
     },
     "metadata": {},
     "output_type": "display_data"
    },
    {
     "data": {
      "text/plain": [
       "12×4 Matrix{Float64}:\n",
       " -0.475   0.0  -0.5   0.0\n",
       " -0.5    -0.5   0.0   0.0\n",
       "  0.0     0.0   0.0   0.0\n",
       "  0.475   0.0   0.5   0.0\n",
       "  0.0     0.0  -0.5  -0.5\n",
       "  0.0     0.0   0.0   0.0\n",
       "  0.025   0.5   0.0   0.5\n",
       "  0.0     0.0   0.5   0.5\n",
       "  0.0     0.0   0.0   0.0\n",
       " -0.025  -0.5   0.0  -0.5\n",
       "  0.5     0.5   0.0   0.0\n",
       "  0.0     0.0   0.0   0.0"
      ]
     },
     "metadata": {},
     "output_type": "display_data"
    },
    {
     "data": {
      "text/plain": [
       "3×4 Matrix{Float64}:\n",
       " -1.0  -1.0   1.0  1.0\n",
       " -0.9   1.0  -1.0  1.0\n",
       "  0.0   0.0   0.0  0.0"
      ]
     },
     "metadata": {},
     "output_type": "display_data"
    },
    {
     "data": {
      "text/plain": [
       "3×12 Matrix{Float64}:\n",
       " 1.0  0.0  0.0  1.0  0.0  0.0  1.0  0.0  0.0  1.0  0.0  0.0\n",
       " 0.0  1.0  0.0  0.0  1.0  0.0  0.0  1.0  0.0  0.0  1.0  0.0\n",
       " 0.0  0.0  1.0  0.0  0.0  1.0  0.0  0.0  1.0  0.0  0.0  1.0"
      ]
     },
     "metadata": {},
     "output_type": "display_data"
    }
   ],
   "source": [
    "intPoints, intWeights = gmsh.model.mesh.getIntegrationPoints(3, \"Gauss3\")\n",
    "numIntPoints = length(intWeights)\n",
    "intPoints = [-1.0, -0.9, 0, -1.0, 1, 0, 1.0, -1, 0, 1.0, 1.0, 0]\n",
    "comp, fun, ori = gmsh.model.mesh.getBasisFunctions(3, intPoints, \"Lagrange\", [0])\n",
    "display(reshape(fun, :, numIntPoints))\n",
    "comp, dfun, ori = gmsh.model.mesh.getBasisFunctions(3, intPoints, \"GradLagrange\", [0])\n",
    "display(reshape(dfun, :, numIntPoints))\n",
    "#display(dfun)\n",
    "jacobians, determinants, coord = gmsh.model.mesh.getJacobian(9, intPoints)\n",
    "display(reshape(coord, 3, :))\n",
    "display(reshape(jacobians, :, numIntPoints * 3))"
   ]
  },
  {
   "cell_type": "code",
   "execution_count": 38,
   "metadata": {},
   "outputs": [
    {
     "data": {
      "text/plain": [
       "8-element Vector{Float64}:\n",
       " 0.0\n",
       " 0.0\n",
       " 0.0\n",
       " 0.0\n",
       " 0.0\n",
       " 1.0\n",
       " 0.0\n",
       " 1.0"
      ]
     },
     "metadata": {},
     "output_type": "display_data"
    }
   ],
   "source": [
    "# Teher vektor felépítése\n",
    "p = [0, 1]\n",
    "dof, dof = size(K)\n",
    "f = zeros(dof)\n",
    "tags = gmsh.model.getEntitiesForPhysicalGroup(1, trac1)\n",
    "for i ∈ 1:length(tags)\n",
    "    elementTypes, elementTags, elemNodeTags = gmsh.model.mesh.getElements(1, tags[i])\n",
    "    if length(elementTypes) != 1\n",
    "        error(\"A peremen nem csak egyfajta végeselem van!\")\n",
    "    end\n",
    "    elements = elementTags[1]\n",
    "    nnoe = reshape(elemNodeTags[1], 2, :)'\n",
    "    elementName, dim, order, numNodes::Int64, localNodeCoord, numPrimaryNodes = gmsh.model.mesh.getElementProperties(elementTypes[1])\n",
    "    intPoints, intWeights = gmsh.model.mesh.getIntegrationPoints(elementTypes[1], \"Gauss3\")\n",
    "    numIntPoints = length(intWeights)\n",
    "    comp, fun, ori = gmsh.model.mesh.getBasisFunctions(elementTypes[1], intPoints, \"Lagrange\")\n",
    "    h = reshape(fun, :, numNodes)\n",
    "    comp, dfun, ori = gmsh.model.mesh.getBasisFunctions(elementTypes[1], intPoints, \"GradLagrange\")\n",
    "    ∇h = reshape(dfun, :, numNodes)\n",
    "    #nnet = zeros(Int, length(elemTags[i]), numNodes)\n",
    "    #nnet = zeros(Int, numNodes)\n",
    "    H = zeros(2 * numIntPoints, 2 * numNodes)\n",
    "    for j in 1:numIntPoints\n",
    "        for k in 1:numNodes\n",
    "            H[j*2-1, k*2-1] = h[j, k]\n",
    "            H[j*2-0, k*2-0] = h[j, k]\n",
    "        end\n",
    "    end\n",
    "    for l in 1:length(elementTags[1])\n",
    "        elem = elementTags[1][l]\n",
    "        jac, jacDet, coord = gmsh.model.mesh.getJacobian(elem, intPoints)\n",
    "        Jac = reshape(jac, 3, :)\n",
    "        f1 = zeros(2 * numNodes)\n",
    "        for j in 1:numIntPoints\n",
    "            H1 = H[j*2-1:j*2, 1:2*numNodes]\n",
    "            Ja = √((Jac[1, 3*j-2])^2 + (Jac[2, 3*j-2])^2)\n",
    "            f1 += H1' * p * Ja * intWeights[j]\n",
    "        end\n",
    "        nn2 = zeros(Int, 2 * numNodes)\n",
    "        nn2[1:2:2*numNodes] = 2 * nnoe[l, 1:numNodes] .- 1\n",
    "        nn2[2:2:2*numNodes] = 2 * nnoe[l, 1:numNodes]\n",
    "        f[nn2] += f1\n",
    "    end\n",
    "end\n",
    "display(f)"
   ]
  },
  {
   "cell_type": "code",
   "execution_count": 39,
   "metadata": {},
   "outputs": [
    {
     "data": {
      "text/plain": [
       "2-element Vector{UInt64}:\n",
       " 0x0000000000000002\n",
       " 0x0000000000000004"
      ]
     },
     "metadata": {},
     "output_type": "display_data"
    },
    {
     "data": {
      "text/plain": [
       "8×8 SparseMatrixCSC{Float64, Int64} with 64 stored entries:\n",
       "  98901.1    35714.3   -60439.6   …  -35714.3    10989.0     2747.25\n",
       "  35714.3    98901.1     2747.25     -49450.5    -2747.25  -60439.6\n",
       " -60439.6     2747.25   98901.1       -2747.25  -49450.5    35714.3\n",
       "  -2747.25   10989.0   -35714.3      -60439.6    35714.3   -49450.5\n",
       " -49450.5   -35714.3    10989.0       35714.3   -60439.6    -2747.25\n",
       " -35714.3   -49450.5    -2747.25  …   98901.1     2747.25   10989.0\n",
       "  10989.0    -2747.25  -49450.5        2747.25   98901.1   -35714.3\n",
       "   2747.25  -60439.6    35714.3       10989.0   -35714.3    98901.1"
      ]
     },
     "metadata": {},
     "output_type": "display_data"
    },
    {
     "data": {
      "text/plain": [
       "8×8 SparseMatrixCSC{Float64, Int64} with 38 stored entries:\n",
       "  98901.1    ⋅   -60439.6    ⋅   -49450.5   -35714.3    10989.0     2747.25\n",
       "       ⋅    1.0        ⋅     ⋅         ⋅          ⋅          ⋅          ⋅ \n",
       " -60439.6    ⋅    98901.1    ⋅    10989.0    -2747.25  -49450.5    35714.3\n",
       "       ⋅     ⋅         ⋅    1.0        ⋅          ⋅          ⋅          ⋅ \n",
       " -49450.5    ⋅    10989.0    ⋅    98901.1    35714.3   -60439.6    -2747.25\n",
       " -35714.3    ⋅    -2747.25   ⋅    35714.3    98901.1     2747.25   10989.0\n",
       "  10989.0    ⋅   -49450.5    ⋅   -60439.6     2747.25   98901.1   -35714.3\n",
       "   2747.25   ⋅    35714.3    ⋅    -2747.25   10989.0   -35714.3    98901.1"
      ]
     },
     "metadata": {},
     "output_type": "display_data"
    }
   ],
   "source": [
    "nodeTags, coord = gmsh.model.mesh.getNodesForPhysicalGroup(1, supp1)\n",
    "nodeTags *= 2\n",
    "display(nodeTags)\n",
    "display(K)\n",
    "for i ∈ nodeTags\n",
    "    K[i, :] .= 0\n",
    "    K[:, i] .= 0\n",
    "    K[i, i] = 1\n",
    "    f[i] = 0\n",
    "end\n",
    "dropzeros!(K)\n",
    "display(K)"
   ]
  },
  {
   "cell_type": "code",
   "execution_count": 40,
   "metadata": {},
   "outputs": [
    {
     "data": {
      "text/plain": [
       "8×8 SparseMatrixCSC{Float64, Int64} with 38 stored entries:\n",
       "  98901.1    ⋅   -60439.6    ⋅   -49450.5   -35714.3    10989.0     2747.25\n",
       "       ⋅    1.0        ⋅     ⋅         ⋅          ⋅          ⋅          ⋅ \n",
       " -60439.6    ⋅    98901.1    ⋅    10989.0    -2747.25  -49450.5    35714.3\n",
       "       ⋅     ⋅         ⋅    1.0        ⋅          ⋅          ⋅          ⋅ \n",
       " -49450.5    ⋅    10989.0    ⋅    98901.1    35714.3   -60439.6    -2747.25\n",
       " -35714.3    ⋅    -2747.25   ⋅    35714.3    98901.1     2747.25   10989.0\n",
       "  10989.0    ⋅   -49450.5    ⋅   -60439.6     2747.25   98901.1   -35714.3\n",
       "   2747.25   ⋅    35714.3    ⋅    -2747.25   10989.0   -35714.3    98901.1"
      ]
     },
     "metadata": {},
     "output_type": "display_data"
    },
    {
     "data": {
      "text/plain": [
       "8×8 SparseMatrixCSC{Float64, Int64} with 20 stored entries:\n",
       " 1.0   ⋅        ⋅     ⋅        ⋅         ⋅     ⋅        ⋅ \n",
       "  ⋅   1.0       ⋅     ⋅        ⋅         ⋅     ⋅        ⋅ \n",
       "  ⋅    ⋅   98901.1    ⋅   10989.0   -2747.25   ⋅   35714.3\n",
       "  ⋅    ⋅        ⋅    1.0       ⋅         ⋅     ⋅        ⋅ \n",
       "  ⋅    ⋅   10989.0    ⋅   98901.1   35714.3    ⋅   -2747.25\n",
       "  ⋅    ⋅   -2747.25   ⋅   35714.3   98901.1    ⋅   10989.0\n",
       "  ⋅    ⋅        ⋅     ⋅        ⋅         ⋅    1.0       ⋅ \n",
       "  ⋅    ⋅   35714.3    ⋅   -2747.25  10989.0    ⋅   98901.1"
      ]
     },
     "metadata": {},
     "output_type": "display_data"
    }
   ],
   "source": [
    "nodeTags, coord = gmsh.model.mesh.getNodesForPhysicalGroup(1, supp2)\n",
    "nodeTags *= 2\n",
    "nodeTags .-= 1\n",
    "display(K)\n",
    "for i ∈ nodeTags\n",
    "    K[i, :] .= 0\n",
    "    K[:, i] .= 0\n",
    "    K[i, i] = 1\n",
    "    f[i] = 0\n",
    "end\n",
    "dropzeros!(K)\n",
    "display(K)"
   ]
  },
  {
   "cell_type": "code",
   "execution_count": 41,
   "metadata": {},
   "outputs": [
    {
     "data": {
      "text/plain": [
       "8-element Vector{Float64}:\n",
       "  0.0\n",
       "  0.0\n",
       " -3.0e-6\n",
       "  0.0\n",
       " -2.999999999999999e-6\n",
       "  9.999999999999999e-6\n",
       "  0.0\n",
       "  1.0e-5"
      ]
     },
     "metadata": {},
     "output_type": "display_data"
    }
   ],
   "source": [
    "q = K \\ f"
   ]
  },
  {
   "cell_type": "code",
   "execution_count": 42,
   "metadata": {},
   "outputs": [
    {
     "data": {
      "text/plain": [
       "0.0005"
      ]
     },
     "metadata": {},
     "output_type": "display_data"
    }
   ],
   "source": [
    "p[2] / (E / height)"
   ]
  },
  {
   "cell_type": "code",
   "execution_count": 43,
   "metadata": {},
   "outputs": [
    {
     "data": {
      "text/plain": [
       "8-element Vector{Float64}:\n",
       " -6.591949208711867e-17\n",
       " -1.0\n",
       "  0.0\n",
       " -0.9999999999999999\n",
       "  1.214306433183765e-16\n",
       "  1.0\n",
       " -1.1102230246251565e-16\n",
       "  0.9999999999999999"
      ]
     },
     "metadata": {},
     "output_type": "display_data"
    }
   ],
   "source": [
    "K0 * q"
   ]
  },
  {
   "cell_type": "code",
   "execution_count": 44,
   "metadata": {},
   "outputs": [
    {
     "data": {
      "text/plain": [
       "200000.0"
      ]
     },
     "metadata": {},
     "output_type": "display_data"
    }
   ],
   "source": [
    "k = base * E / height"
   ]
  },
  {
   "cell_type": "code",
   "execution_count": 45,
   "metadata": {},
   "outputs": [],
   "source": [
    "nodeTags, nodeCoords, nodeParams = gmsh.model.mesh.getNodes(-1, -1)\n",
    "non = length(nodeTags)\n",
    "uvec = gmsh.view.add(\"uvec\")\n",
    "u = [zeros(3) for i in 1:non]\n",
    "for i in 1:non, j in 1:2\n",
    "    u[i][j] = q[(i-1)*2+j]\n",
    "end\n",
    "\n",
    "gmsh.view.addModelData(uvec, 0, \"rectangle\", \"NodeData\", nodeTags, u)\n"
   ]
  },
  {
   "cell_type": "code",
   "execution_count": 46,
   "metadata": {},
   "outputs": [],
   "source": [
    "nodeTags, nodeCoords, nodeParams = gmsh.model.mesh.getNodes(-1, -1)\n",
    "non = length(nodeTags)\n",
    "ux = gmsh.view.add(\"ux\")\n",
    "u = [zeros(3) for i in 1:non]\n",
    "for i in 1:non, j in 1:1\n",
    "    u[i][j] = q[(i-1)*2+j]\n",
    "end\n",
    "\n",
    "gmsh.view.addModelData(ux, 0, \"rectangle\", \"NodeData\", nodeTags, u)\n"
   ]
  },
  {
   "cell_type": "code",
   "execution_count": 47,
   "metadata": {},
   "outputs": [],
   "source": [
    "nodeTags, nodeCoords, nodeParams = gmsh.model.mesh.getNodes(-1, -1)\n",
    "non = length(nodeTags)\n",
    "uy = gmsh.view.add(\"uy\")\n",
    "u = [zeros(3) for i in 1:non]\n",
    "for i in 1:non, j in 2:2\n",
    "    u[i][j] = q[(i-1)*2+j]\n",
    "end\n",
    "\n",
    "gmsh.view.addModelData(uy, 0, \"rectangle\", \"NodeData\", nodeTags, u)\n"
   ]
  },
  {
   "cell_type": "code",
   "execution_count": 48,
   "metadata": {},
   "outputs": [
    {
     "name": "stdout",
     "output_type": "stream",
     "text": [
      "Info    : Writing 'rect.msh'...\n",
      "Info    : Done writing 'rect.msh'\n",
      "Info    : Writing 'rect.pos'...\n",
      "Info    : Done writing 'rect.pos'\n"
     ]
    }
   ],
   "source": [
    "#gmsh.write(\"rect.geo\")\n",
    "gmsh.write(\"rect.msh\")\n",
    "gmsh.write(\"rect.pos\")"
   ]
  },
  {
   "cell_type": "code",
   "execution_count": 49,
   "metadata": {},
   "outputs": [
    {
     "name": "stdout",
     "output_type": "stream",
     "text": [
      "-------------------------------------------------------\n",
      "Version       : 4.11.1\n",
      "License       : GNU General Public License\n",
      "Build OS      : Linux64-sdk\n",
      "Build date    : 20221221\n",
      "Build host    : gmsh.info\n",
      "Build options : 64Bit ALGLIB[contrib] ANN[contrib] Bamg Blas[petsc] Blossom Cgns DIntegration Dlopen DomHex Eigen[contrib] Fltk Gmm[contrib] Hxt Jpeg Kbipack Lapack[petsc] LinuxJoystick MathEx[contrib] Med Mesh Metis[contrib] Mmg Mpeg Netgen ONELAB ONELABMetamodel OpenCASCADE OpenCASCADE-CAF OpenGL OpenMP OptHom PETSc Parser Plugins Png Post QuadMeshingTools QuadTri Solver TetGen/BR Voro++[contrib] WinslowUntangler Zlib\n",
      "FLTK version  : 1.4.0\n",
      "PETSc version : 3.14.4 (real arithmtic)\n",
      "OCC version   : 7.6.1\n",
      "MED version   : 4.1.0\n",
      "Packaged by   : geuzaine\n",
      "Web site      : https://gmsh.info\n",
      "Issue tracker : https://gitlab.onelab.info/gmsh/gmsh/issues\n",
      "-------------------------------------------------------\n"
     ]
    }
   ],
   "source": [
    "gmsh.fltk.run()"
   ]
  },
  {
   "cell_type": "code",
   "execution_count": 50,
   "metadata": {},
   "outputs": [],
   "source": [
    "gmsh.finalize()"
   ]
  }
 ],
 "metadata": {
  "kernelspec": {
   "display_name": "Julia 1.9.3",
   "language": "julia",
   "name": "julia-1.9"
  },
  "language_info": {
   "file_extension": ".jl",
   "mimetype": "application/julia",
   "name": "julia",
   "version": "1.9.3"
  },
  "orig_nbformat": 4
 },
 "nbformat": 4,
 "nbformat_minor": 2
}
