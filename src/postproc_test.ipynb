{
 "cells": [
  {
   "cell_type": "code",
   "execution_count": 1,
   "metadata": {},
   "outputs": [],
   "source": [
    "import gmsh\n",
    "gmsh.initialize()"
   ]
  },
  {
   "cell_type": "code",
   "execution_count": 2,
   "metadata": {},
   "outputs": [
    {
     "data": {
      "text/plain": [
       "2"
      ]
     },
     "metadata": {},
     "output_type": "display_data"
    }
   ],
   "source": [
    "# Data\n",
    "l = 100\n",
    "b = 10\n",
    "es = 2"
   ]
  },
  {
   "cell_type": "code",
   "execution_count": 3,
   "metadata": {},
   "outputs": [],
   "source": [
    "gmsh.model.add(\"rectangle\")\n",
    "rect = gmsh.model.occ.addRectangle(0, 0, 0, l, b, 0) # geometry: base x height\n",
    "#gmsh.model.occ.mesh.setSize([2, rect], 20)\n",
    "gmsh.model.occ.synchronize()"
   ]
  },
  {
   "cell_type": "code",
   "execution_count": 4,
   "metadata": {},
   "outputs": [
    {
     "data": {
      "text/plain": [
       "1"
      ]
     },
     "metadata": {},
     "output_type": "display_data"
    }
   ],
   "source": [
    "contact = gmsh.model.addPhysicalGroup(1, [2], 1)"
   ]
  },
  {
   "cell_type": "code",
   "execution_count": 5,
   "metadata": {},
   "outputs": [
    {
     "name": "stdout",
     "output_type": "stream",
     "text": [
      "Info    : Meshing 1D...\n",
      "Info    : [  0%] Meshing curve 1 (Line)\n",
      "Info    : [ 30%] Meshing curve 2 (Line)\n",
      "Info    : [ 50%] Meshing curve 3 (Line)\n",
      "Info    : [ 80%] Meshing curve 4 (Line)\n",
      "Info    : Done meshing 1D (Wall 0.00088272s, CPU 0.000875s)\n",
      "Info    : 110 nodes 114 elements\n",
      "Info    : Meshing 2D...\n",
      "Info    : Meshing surface 0 (Plane, Frontal-Delaunay for Quads)\n",
      "Info    : Done meshing 2D (Wall 0.088311s, CPU 0.064365s)\n",
      "Info    : 306 nodes 614 elements\n",
      "Info    : Recombining 2D mesh...\n",
      "Info    : Blossom: 695 internal 106 closed\n",
      "Info    : Blossom recombination completed (Wall 0.0140983s, CPU 0.011959s): 250 quads, 0 triangles, 0 invalid quads, 0 quads with Q < 0.1, avg Q = 0.998471, min Q = 0.974973\n",
      "Info    : Done recombining 2D mesh (Wall 0.0141842s, CPU 0.012052s)\n"
     ]
    }
   ],
   "source": [
    "ov = gmsh.model.getEntities(0);\n",
    "gmsh.model.mesh.setSize(ov, es) # element size\n",
    "gmsh.model.mesh.setAlgorithm(2, rect, 8)\n",
    "gmsh.model.mesh.generate(1)\n",
    "gmsh.model.mesh.generate(2)\n",
    "gmsh.model.mesh.recombine()"
   ]
  },
  {
   "cell_type": "code",
   "execution_count": 6,
   "metadata": {},
   "outputs": [
    {
     "data": {
      "text/plain": [
       "3×306 Matrix{Float64}:\n",
       " 0.0  100.0  100.0   0.0  2.0  4.0  6.0  …  20.0  14.0  8.0  50.0511   92.0\n",
       " 0.0    0.0   10.0  10.0  0.0  0.0  0.0      6.0   6.0  6.0   4.07361   6.0\n",
       " 0.0    0.0    0.0   0.0  0.0  0.0  0.0      0.0   0.0  0.0   0.0       0.0"
      ]
     },
     "metadata": {},
     "output_type": "display_data"
    },
    {
     "data": {
      "text/plain": [
       "250×4 adjoint(::Matrix{Int64}) with eltype Int64:\n",
       "   1    3  145   57\n",
       "   4  146  145    3\n",
       "   6  143  196    5\n",
       "   4    5  196  146\n",
       "   2   58  143    6\n",
       "   7    9  147  110\n",
       "  10  144  147    9\n",
       "  11  111  144   10\n",
       "  11   12  197  111\n",
       "  13  148  197   12\n",
       "   ⋮            \n",
       " 188  283  296  267\n",
       " 186  282  298  269\n",
       " 185  281  299  270\n",
       " 184  280  300  271\n",
       " 183  279  301  272\n",
       " 182  278  302  273\n",
       " 181  277  303  274\n",
       " 180  276  304  275\n",
       " 235  134  220  297"
      ]
     },
     "metadata": {},
     "output_type": "display_data"
    }
   ],
   "source": [
    "entities = gmsh.model.getEntities(2)\n",
    "nodeTags, nodeCoords, nodeParams = gmsh.model.mesh.getNodes(-1, -1)\n",
    "elemTypes, elemTags, elemNodeTags = gmsh.model.mesh.getElements(2, -1)\n",
    "#println(Int64.(elemNodeTags[1]))\n",
    "#display(nodeCoords)\n",
    "xynodes = reshape(nodeCoords, 3, :)\n",
    "display(xynodes)\n",
    "connectivity = (Int64.(reshape(elemNodeTags[1], 4, :)))'\n",
    "display(connectivity)"
   ]
  },
  {
   "cell_type": "code",
   "execution_count": 7,
   "metadata": {},
   "outputs": [
    {
     "data": {
      "text/plain": [
       "6-element Vector{Int64}:\n",
       " 1\n",
       " 2\n",
       " 3\n",
       " 4\n",
       " 5\n",
       " 6"
      ]
     },
     "metadata": {},
     "output_type": "display_data"
    },
    {
     "data": {
      "text/plain": [
       "3×6 Matrix{Float64}:\n",
       " 100.0  100.0  100.0  100.0  100.0  100.0\n",
       "   0.0   10.0    2.0    4.0    6.0    8.0\n",
       "   0.0    0.0    0.0    0.0    0.0    0.0"
      ]
     },
     "metadata": {},
     "output_type": "display_data"
    }
   ],
   "source": [
    "cnodes, xyznodes = gmsh.model.mesh.getNodesForPhysicalGroup(1, 1)\n",
    "display(convert.(Int, cnodes))\n",
    "display(reshape(xyznodes, 3, :))"
   ]
  },
  {
   "cell_type": "code",
   "execution_count": 8,
   "metadata": {},
   "outputs": [
    {
     "data": {
      "text/plain": [
       "1-element Vector{Int32}:\n",
       " 2"
      ]
     },
     "metadata": {},
     "output_type": "display_data"
    }
   ],
   "source": [
    "gmsh.model.getEntitiesForPhysicalGroup(-1, 1)"
   ]
  },
  {
   "cell_type": "markdown",
   "metadata": {},
   "source": [
    "```julia\n",
    "    gmsh.view.addModelData(tag, step, modelName, dataType, tags, data, time = 0., numComponents = -1, partition = 0)\n",
    "\n",
    "Add model-based post-processing data to the view with tag `tag`. `modelName`\n",
    "identifies the model the data is attached to. `dataType` specifies the type of\n",
    "data, currently either \"NodeData\", \"ElementData\" or \"ElementNodeData\". `step`\n",
    "specifies the identifier (>= 0) of the data in a sequence. `tags` gives the tags\n",
    "of the nodes or elements in the mesh to which the data is associated. `data` is\n",
    "a vector of the same length as `tags`: each entry is the vector of double\n",
    "precision numbers representing the data associated with the corresponding tag.\n",
    "The optional `time` argument associate a time value with the data.\n",
    "`numComponents` gives the number of data components (1 for scalar data, 3 for\n",
    "vector data, etc.) per entity; if negative, it is automatically inferred (when\n",
    "possible) from the input data. `partition` allows one to specify data in several\n",
    "sub-sets.\n",
    "\n",
    "Types:\n",
    " - `tag`: integer\n",
    " - `step`: integer\n",
    " - `modelName`: string\n",
    " - `dataType`: string\n",
    " - `tags`: vector of sizes\n",
    " - `data`: vector of vectors of doubles\n",
    " - `time`: double\n",
    " - `numComponents`: integer\n",
    " - `partition`: integer\n",
    "```"
   ]
  },
  {
   "cell_type": "markdown",
   "metadata": {},
   "source": [
    "```julia\n",
    "import gmsh\n",
    "import sys\n",
    "\n",
    "gmsh.initialize(sys.argv)\n",
    "\n",
    "# Copied from discrete.py...\n",
    "gmsh.model.add(\"test\")\n",
    "gmsh.model.addDiscreteEntity(2, 1)\n",
    "gmsh.model.mesh.addNodes(2, 1, [1, 2, 3, 4],\n",
    "                         [0., 0., 0., 1., 0., 0., 1., 1., 0., 0., 1., 0.])\n",
    "gmsh.model.mesh.addElements(2, 1, [2], [[1, 2]], [[1, 2, 3, 1, 3, 4]])\n",
    "# ... end of copy\n",
    "\n",
    "# Create a new post-processing view\n",
    "t = gmsh.view.add(\"some data\")\n",
    "\n",
    "# add 10 steps of model-based data, on the nodes of the mesh\n",
    "for step in range(0, 10):\n",
    "    gmsh.view.addModelData(\n",
    "        t,\n",
    "        step,\n",
    "        \"test\",\n",
    "        \"NodeData\",\n",
    "        [1, 2, 3, 4],  # tags of nodes\n",
    "        [[10.], [10.], [12. + step], [13. + step]])  # data, per node\n",
    "\n",
    "gmsh.view.write(t, \"data.msh\")\n",
    "\n",
    "gmsh.finalize()\n",
    "```"
   ]
  },
  {
   "cell_type": "code",
   "execution_count": 9,
   "metadata": {},
   "outputs": [],
   "source": [
    "t = gmsh.view.add(\"test\")\n",
    "u = [zeros(3) for i in 1:306]\n",
    "for j ∈ 0:100\n",
    "    for i ∈ 1:306\n",
    "        u[i] = [sin(j / 10 * xynodes[1, i] / l), sin(j / 10 * xynodes[1, i] / b), 0]\n",
    "    end\n",
    "    gmsh.view.addModelData(t, j, \"rectangle\", \"NodeData\", nodeTags, u, j * 0.1)\n",
    "end"
   ]
  },
  {
   "cell_type": "code",
   "execution_count": 10,
   "metadata": {},
   "outputs": [],
   "source": [
    "t2 = gmsh.view.add(\"tensor\")\n",
    "s = [zeros(9) for i in 1:306]\n",
    "for i ∈ 1:306\n",
    "    s[i] = [0, 1, 0, 1, 0, 0, 0, 0, 0]\n",
    "end\n",
    "gmsh.view.addModelData(t2, 0, \"rectangle\", \"NodeData\", nodeTags, s)"
   ]
  },
  {
   "cell_type": "code",
   "execution_count": 11,
   "metadata": {},
   "outputs": [
    {
     "name": "stdout",
     "output_type": "stream",
     "text": [
      "-------------------------------------------------------\n",
      "Version       : 4.11.1\n",
      "License       : GNU General Public License\n",
      "Build OS      : Linux64-sdk\n",
      "Build date    : 20221221\n",
      "Build host    : gmsh.info\n",
      "Build options : 64Bit ALGLIB[contrib] ANN[contrib] Bamg Blas[petsc] Blossom Cgns DIntegration Dlopen DomHex Eigen[contrib] Fltk Gmm[contrib] Hxt Jpeg Kbipack Lapack[petsc] LinuxJoystick MathEx[contrib] Med Mesh Metis[contrib] Mmg Mpeg Netgen ONELAB ONELABMetamodel OpenCASCADE OpenCASCADE-CAF OpenGL OpenMP OptHom PETSc Parser Plugins Png Post QuadMeshingTools QuadTri Solver TetGen/BR Voro++[contrib] WinslowUntangler Zlib\n",
      "FLTK version  : 1.4.0\n",
      "PETSc version : 3.14.4 (real arithmtic)\n",
      "OCC version   : 7.6.1\n",
      "MED version   : 4.1.0\n",
      "Packaged by   : geuzaine\n",
      "Web site      : https://gmsh.info\n",
      "Issue tracker : https://gitlab.onelab.info/gmsh/gmsh/issues\n",
      "-------------------------------------------------------\n"
     ]
    }
   ],
   "source": [
    "gmsh.option.setNumber(\"Mesh.NodeLabels\", 0)\n",
    "\n",
    "gmsh.fltk.run()\n",
    "gmsh.finalize()"
   ]
  }
 ],
 "metadata": {
  "kernelspec": {
   "display_name": "Julia 1.9.3",
   "language": "julia",
   "name": "julia-1.9"
  },
  "language_info": {
   "file_extension": ".jl",
   "mimetype": "application/julia",
   "name": "julia",
   "version": "1.9.3"
  },
  "varInspector": {
   "cols": {
    "lenName": 16,
    "lenType": 16,
    "lenVar": 40
   },
   "kernels_config": {
    "python": {
     "delete_cmd_postfix": "",
     "delete_cmd_prefix": "del ",
     "library": "var_list.py",
     "varRefreshCmd": "print(var_dic_list())"
    },
    "r": {
     "delete_cmd_postfix": ") ",
     "delete_cmd_prefix": "rm(",
     "library": "var_list.r",
     "varRefreshCmd": "cat(var_dic_list()) "
    }
   },
   "types_to_exclude": [
    "module",
    "function",
    "builtin_function_or_method",
    "instance",
    "_Feature"
   ],
   "window_display": false
  }
 },
 "nbformat": 4,
 "nbformat_minor": 2
}
