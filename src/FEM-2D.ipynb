{
 "cells": [
  {
   "cell_type": "code",
   "execution_count": 273,
   "metadata": {
    "slideshow": {
     "slide_type": ""
    },
    "tags": []
   },
   "outputs": [],
   "source": [
    "import gmsh\n",
    "gmsh.initialize()\n",
    "using LinearAlgebra, SparseArrays"
   ]
  },
  {
   "cell_type": "code",
   "execution_count": 274,
   "metadata": {},
   "outputs": [
    {
     "data": {
      "text/plain": [
       "0"
      ]
     },
     "execution_count": 274,
     "metadata": {},
     "output_type": "execute_result"
    }
   ],
   "source": [
    "# Adatok\n",
    "height = 100\n",
    "base = 100\n",
    "elemSize = 20\n",
    "\n",
    "approxOrder = 2\n",
    "internalNodes = 1\n",
    "quadElements = 0"
   ]
  },
  {
   "cell_type": "code",
   "execution_count": 275,
   "metadata": {},
   "outputs": [],
   "source": [
    "# Geometria megrajzolása\n",
    "gmsh.model.add(\"rectangle\")\n",
    "\n",
    "p1 = gmsh.model.occ.addPoint(0, 0, 0)\n",
    "p2 = gmsh.model.occ.addPoint(base, 0, 0)\n",
    "p23 = gmsh.model.occ.addPoint(base, height / 2, 0)\n",
    "p3 = gmsh.model.occ.addPoint(base, height, 0)\n",
    "p4 = gmsh.model.occ.addPoint(0, height, 0)\n",
    "\n",
    "l1 = gmsh.model.occ.addLine(p1, p2)\n",
    "l2 = gmsh.model.occ.addLine(p2, p23)\n",
    "l23 = gmsh.model.occ.addLine(p23, p3)\n",
    "l3 = gmsh.model.occ.addLine(p3, p4)\n",
    "l4 = gmsh.model.occ.addLine(p4, p1)\n",
    "\n",
    "cl1 = gmsh.model.occ.addCurveLoop([l1, l2, l23, l3, l4])\n",
    "\n",
    "l5 = gmsh.model.occ.addCircle(base / 2, height / 2, 0, min(base, height) / 4)\n",
    "cl2 = gmsh.model.occ.addCurveLoop([l5])\n",
    "\n",
    "sf1 = gmsh.model.occ.addPlaneSurface([cl1, cl2])\n",
    "\n",
    "#p5 = gmsh.model.occ.addPoint(0, height / 2, 0)\n",
    "#p6 = gmsh.model.occ.addPoint(base, height / 2, 0)\n",
    "#l5 = gmsh.model.occ.addLine(p5, p6)\n",
    "\n",
    "gmsh.model.occ.synchronize()"
   ]
  },
  {
   "cell_type": "code",
   "execution_count": 276,
   "metadata": {},
   "outputs": [
    {
     "data": {
      "text/plain": [
       "f_xy (generic function with 3 methods)"
      ]
     },
     "execution_count": 276,
     "metadata": {},
     "output_type": "execute_result"
    }
   ],
   "source": [
    "fixUX = []\n",
    "\n",
    "function fix_ux(groupOfLines, name=\"FixUX\", grp=fixUX)\n",
    "    supp = gmsh.model.addPhysicalGroup(1, groupOfLines)\n",
    "    gmsh.model.setPhysicalName(1, supp, name)\n",
    "    push!(grp, supp)\n",
    "end\n",
    "\n",
    "fixUY = []\n",
    "\n",
    "function fix_uy(groupOfLines, name=\"FixUY\", grp=fixUY)\n",
    "    supp = gmsh.model.addPhysicalGroup(1, groupOfLines)\n",
    "    gmsh.model.setPhysicalName(1, supp, name)\n",
    "    push!(grp, supp)\n",
    "end\n",
    "\n",
    "FXY = []\n",
    "\n",
    "function f_xy(groupOfLines, fx, fy, name=\"traction\", grp=FXY)\n",
    "    trac = gmsh.model.addPhysicalGroup(1, groupOfLines)\n",
    "    gmsh.model.setPhysicalName(1, trac, name)\n",
    "    push!(grp, [trac, fx, fy])\n",
    "end"
   ]
  },
  {
   "cell_type": "code",
   "execution_count": 277,
   "metadata": {},
   "outputs": [
    {
     "data": {
      "text/plain": [
       "1-element Vector{Any}:\n",
       " [3, 1, 0]"
      ]
     },
     "execution_count": 277,
     "metadata": {},
     "output_type": "execute_result"
    }
   ],
   "source": [
    "# megfogások\n",
    "fix_ux([l1])\n",
    "fix_uy([l1])\n",
    "\n",
    "# terhelések\n",
    "f_xy([l23], 1, 0)"
   ]
  },
  {
   "cell_type": "code",
   "execution_count": 278,
   "metadata": {},
   "outputs": [
    {
     "name": "stdout",
     "output_type": "stream",
     "text": [
      "Info    : Meshing 1D...\n",
      "Info    : [  0%] Meshing curve 1 (Line)\n",
      "Info    : [ 20%] Meshing curve 2 (Line)\n",
      "Info    : [ 40%] Meshing curve 3 (Line)\n",
      "Info    : [ 50%] Meshing curve 4 (Line)\n",
      "Info    : [ 70%] Meshing curve 5 (Line)\n",
      "Info    : [ 90%] Meshing curve 6 (Circle)\n",
      "Info    : Done meshing 1D (Wall 0.000667177s, CPU 0.000666s)\n",
      "Info    : 29 nodes 35 elements\n",
      "Info    : Meshing 2D...\n",
      "Info    : Meshing surface 1 (Plane, Frontal-Delaunay)\n",
      "Info    : Done meshing 2D (Wall 0.00970952s, CPU 0.008579s)\n",
      "Info    : 46 nodes 98 elements\n",
      "Info    : Meshing order 2 (curvilinear on)...\n",
      "Info    : [  0%] Meshing curve 1 order 2\n",
      "Info    : [ 20%] Meshing curve 2 order 2\n",
      "Info    : [ 30%] Meshing curve 3 order 2\n",
      "Info    : [ 50%] Meshing curve 4 order 2\n",
      "Info    : [ 60%] Meshing curve 5 order 2\n",
      "Info    : [ 80%] Meshing curve 6 order 2\n",
      "Info    : [ 90%] Meshing surface 1 order 2\n",
      "Info    : Surface mesh: worst distortion = 0.562192 (0 elements in ]0, 0.2]); worst gamma = 0.856124\n",
      "Info    : Done meshing order 2 (Wall 0.00109973s, CPU 0.000818s)\n"
     ]
    }
   ],
   "source": [
    "# Végeselemes felosztás elvégzése\n",
    "\n",
    "# lekérjük az összes csomópontot\n",
    "all = gmsh.model.getEntities(0)\n",
    "# megadjuk, hogy a csomóponthoz rendelt eleméret mekkora legyen\n",
    "gmsh.model.mesh.setSize(all, elemSize)\n",
    "# kiválasztjuk a 8-as számú hálózó algoritmust a 2D-s sf1 felülethez\n",
    "gmsh.model.mesh.setAlgorithm(2, sf1, 6)\n",
    "# legeneráljuk a hálót a felület kontúrjához (1D-s)\n",
    "gmsh.model.mesh.generate(1)\n",
    "# legeneráljuk a hálót a felülethez (2D-s)\n",
    "gmsh.model.mesh.generate(2)\n",
    "# a legenerált háromszög elemeket négyszög elemekké alakítjuk\n",
    "if quadElements == 1\n",
    "    gmsh.model.mesh.recombine()\n",
    "end\n",
    "# másodfokú elemekhez:\n",
    "# belső csomópontok használata\n",
    "if internalNodes == 1\n",
    "    gmsh.option.setNumber(\"Mesh.SecondOrderIncomplete\", 0) # 0:belső csomópontokkal 1:csak éleken lévő csomópontokkal\n",
    "else\n",
    "    gmsh.option.setNumber(\"Mesh.SecondOrderIncomplete\", 1) # 0:belső csomópontokkal 1:csak éleken lévő csomópontokkal\n",
    "end\n",
    "# közelítés fokszáma (1-től 5-ig)\n",
    "gmsh.model.mesh.setOrder(approxOrder)"
   ]
  },
  {
   "cell_type": "code",
   "execution_count": 279,
   "metadata": {},
   "outputs": [
    {
     "name": "stdout",
     "output_type": "stream",
     "text": [
      "-------------------------------------------------------\n",
      "Version       : 4.11.1\n",
      "License       : GNU General Public License\n",
      "Build OS      : Linux64-sdk\n",
      "Build date    : 20221221\n",
      "Build host    : gmsh.info\n",
      "Build options : 64Bit ALGLIB[contrib] ANN[contrib] Bamg Blas[petsc] Blossom Cgns DIntegration Dlopen DomHex Eigen[contrib] Fltk Gmm[contrib] Hxt Jpeg Kbipack Lapack[petsc] LinuxJoystick MathEx[contrib] Med Mesh Metis[contrib] Mmg Mpeg Netgen ONELAB ONELABMetamodel OpenCASCADE OpenCASCADE-CAF OpenGL OpenMP OptHom PETSc Parser Plugins Png Post QuadMeshingTools QuadTri Solver TetGen/BR Voro++[contrib] WinslowUntangler Zlib\n",
      "FLTK version  : 1.4.0\n",
      "PETSc version : 3.14.4 (real arithmtic)\n",
      "OCC version   : 7.6.1\n",
      "MED version   : 4.1.0\n",
      "Packaged by   : geuzaine\n",
      "Web site      : https://gmsh.info\n",
      "Issue tracker : https://gitlab.onelab.info/gmsh/gmsh/issues\n",
      "-------------------------------------------------------\n"
     ]
    }
   ],
   "source": [
    "gmsh.fltk.run()"
   ]
  },
  {
   "cell_type": "code",
   "execution_count": 280,
   "metadata": {},
   "outputs": [],
   "source": [
    "# Néhány láthatósági beállítás 0:kikapcs. 1:bekapcs.\n",
    "gmsh.option.setNumber(\"Geometry.CurveLabels\", 0)\n",
    "gmsh.option.setNumber(\"Mesh.Points\", 0)\n",
    "gmsh.option.setNumber(\"Mesh.Lines\", 0)\n",
    "gmsh.option.setNumber(\"Mesh.SurfaceEdges\", 0)\n",
    "gmsh.option.setNumber(\"Mesh.NodeLabels\", 0)\n",
    "gmsh.option.setNumber(\"Mesh.LineLabels\", 0)\n",
    "gmsh.option.setNumber(\"Mesh.SurfaceLabels\", 0)"
   ]
  },
  {
   "cell_type": "code",
   "execution_count": 281,
   "metadata": {},
   "outputs": [
    {
     "data": {
      "text/plain": [
       "3×3 Matrix{Float64}:\n",
       " 2.69231e5  1.15385e5      0.0\n",
       " 1.15385e5  2.69231e5      0.0\n",
       " 0.0        0.0        76923.1"
      ]
     },
     "execution_count": 281,
     "metadata": {},
     "output_type": "execute_result"
    }
   ],
   "source": [
    "# Anyagállandók mátrixa SA feladathoz\n",
    "E = 2e5\n",
    "ν = 0.3\n",
    "D = E / ((1 + ν) * (1 - 2ν)) * [1-ν ν 0; ν 1-ν 0; 0 0 (1-2ν)/2]"
   ]
  },
  {
   "cell_type": "code",
   "execution_count": 282,
   "metadata": {},
   "outputs": [
    {
     "data": {
      "text/plain": [
       "3×3 Matrix{Float64}:\n",
       "     2.1978e5  65934.1           0.0\n",
       " 65934.1           2.1978e5      0.0\n",
       "     0.0           0.0       76923.1"
      ]
     },
     "execution_count": 282,
     "metadata": {},
     "output_type": "execute_result"
    }
   ],
   "source": [
    "# Anyagállandók mátrixa ÁSF feladathoz\n",
    "E = 2e5\n",
    "ν = 0.3\n",
    "D = E / (1 - ν^2) * [1 ν 0; ν 1 0; 0 0 (1-ν)/2]"
   ]
  },
  {
   "cell_type": "code",
   "execution_count": 283,
   "metadata": {},
   "outputs": [
    {
     "data": {
      "text/plain": [
       "310×310 SparseMatrixCSC{Float64, Int64} with 6260 stored entries:\n",
       "⎡⠕⣥⣧⡲⠢⠒⠲⠠⠀⠈⠈⠁⠀⠀⠀⢠⢀⠺⠖⡀⠀⠀⠀⠀⠀⢀⢀⠀⠠⠖⠠⠨⢥⣄⡀⠐⠆⣀⠂⠐⎤\n",
       "⎢⢩⡻⠕⢅⣀⠀⠀⠀⠀⠀⠀⠀⠀⠀⠀⡐⠨⡈⡭⠂⣀⠀⠀⠀⠀⠀⠀⢀⡀⡭⠀⠈⠑⠪⠅⢀⡀⠒⣀⠁⎥\n",
       "⎢⢨⠂⠀⠘⠑⣤⣄⠒⠐⠒⠂⠄⠠⠄⠠⡅⠀⣵⣦⣠⠄⠀⠀⠀⠄⠀⠀⠈⣥⣦⠐⠒⠀⠀⠀⢈⡆⠀⡁⠤⎥\n",
       "⎢⠘⡂⠀⠀⢠⠙⢻⣶⣦⠀⠀⠀⠀⠀⠀⠁⡆⢻⡿⠀⠀⠀⠀⠀⠀⠄⠆⠀⢙⣫⣤⡄⠀⣶⢠⠘⠱⠆⠓⠀⎥\n",
       "⎢⡀⠀⠀⠀⢰⠀⠈⠛⢻⣶⣦⡀⠀⠀⠀⠰⢣⢰⣮⡄⠀⠀⠀⠀⢠⠀⠄⠀⠀⠀⣶⣶⡶⠉⠘⡄⢨⢡⠀⠀⎥\n",
       "⎢⠆⠀⠀⠀⠈⠄⠀⠀⠈⠻⠻⣦⡀⣤⠀⢌⡔⠼⢹⠃⠤⣤⣤⡀⠄⡄⣄⠄⠀⠀⠈⠹⠏⠀⠀⠂⠘⠘⠀⠀⎥\n",
       "⎢⠀⠀⠀⠀⠀⠆⠀⠀⠀⠀⠀⣬⡛⢌⠓⢚⡜⠖⠈⠓⠎⣑⠦⡙⠎⠐⠑⠑⠀⠀⠀⠀⠀⠀⠀⠀⠀⠀⠀⠀⎥\n",
       "⎢⠀⣀⢀⠠⠄⠦⠄⠀⢀⡀⡀⢄⣹⢀⡑⢌⣼⢶⣤⡴⠬⣑⠦⣈⢂⢀⣀⡤⠤⢀⣀⣀⣀⡀⠀⠠⢄⡀⠠⠄⎥\n",
       "⎢⣠⡐⡂⠢⢄⣤⣬⣉⢉⣒⣐⡍⢲⠍⢲⣟⣑⣼⡛⣶⡾⠛⠋⠑⡔⠑⢉⡓⣬⢙⣓⣁⣂⡙⢊⣢⠈⠑⡌⢢⎥\n",
       "⎢⠘⠡⠣⠋⠈⣻⠛⠋⠊⠿⠷⠒⢦⠀⢀⡿⢻⣬⠻⣦⡴⠶⡔⠦⡰⠢⠮⢙⣼⠛⠉⠉⠾⠞⠟⢦⠳⠶⠈⠃⎥\n",
       "⎢⠀⠀⠀⠘⠀⠁⠀⠀⠀⠀⠀⣧⢎⢡⢆⢣⣾⠋⢰⡏⠻⣦⡓⡠⠱⣄⢀⠎⠃⠀⠀⠀⠀⠀⠀⠘⠀⠀⠀⠀⎥\n",
       "⎢⠀⠀⠀⠀⠀⠀⠀⠀⠀⠀⠀⠻⣌⠣⡈⢣⢏⠀⠰⡍⠙⡨⠛⢄⠠⢊⢦⡋⠀⠀⠀⠀⠀⠀⠀⠀⠀⠀⠀⠀⎥\n",
       "⎢⠀⢀⠀⠀⠀⠁⠀⠄⠀⠒⠀⠥⢊⠁⠈⢐⢔⠉⠰⡊⠑⢦⡠⢂⠑⢄⢆⠀⠀⠀⠀⠀⠀⠀⡠⠂⠀⢔⠀⠈⎥\n",
       "⎢⠀⠐⠀⢀⡀⠀⠈⠁⠀⠁⠀⠝⢕⠀⠀⡼⢧⠰⣎⢃⡠⠔⡬⠳⠈⠑⠑⢄⡀⠐⠦⠀⠙⠋⠀⠀⡈⠂⢠⡀⎥\n",
       "⎢⢠⠆⡄⡬⠡⣿⡷⣰⠀⠀⠀⠀⠀⠀⠀⢃⣆⢛⣶⠛⠉⠀⠀⠀⠀⠀⢀⠈⠻⣦⡀⡀⠀⢰⣀⠘⡆⠀⠰⡂⎥\n",
       "⎢⡀⡂⡀⠀⢰⠀⠀⠿⢸⣿⣆⡀⠀⠀⠀⢸⠝⢸⡇⠀⠀⠀⠀⠀⠀⠀⠈⠃⠀⠨⣿⣿⣫⡂⠨⠃⠀⠀⠀⠀⎥\n",
       "⎢⠁⢷⡱⡀⠀⠀⢠⣤⡜⠋⠋⠁⠀⠀⠀⠸⣌⠸⣺⠇⠀⠀⠀⠀⠀⠀⡷⠀⢀⣀⠫⠺⠻⣦⡀⠁⢸⠆⢀⡀⎥\n",
       "⎢⢀⠈⠁⢁⡀⢀⣀⠒⠒⠤⠠⠀⠀⠀⠀⡀⠪⣰⠻⣅⣀⠀⠀⠀⠠⠊⠀⠀⣀⠘⠦⠂⠄⠈⠑⢄⠀⠪⡀⠁⎥\n",
       "⎢⠈⢡⢠⠈⠈⠉⠱⠆⠆⣒⣒⠀⠀⠀⠀⠱⢆⠀⢹⡆⠀⠀⠀⠀⢀⢄⠢⠈⠈⠉⠀⠀⠲⠖⡠⡀⢱⣶⠈⠁⎥\n",
       "⎣⢈⠀⠄⠘⠁⡌⠙⠀⠀⠀⠀⠀⠀⠀⠀⠆⠢⣉⠦⠀⠀⠀⠀⠀⡀⠀⠀⠲⠰⠢⠀⠀⠀⠰⠄⠈⠆⠀⡑⢌⎦"
      ]
     },
     "metadata": {},
     "output_type": "display_data"
    }
   ],
   "source": [
    "# Merevségi mátrix felépítése\n",
    "# csomópontok sorszámának lekérése\n",
    "nodeTags, nodeCoords, nodeParams = gmsh.model.mesh.getNodes(-1, -1)\n",
    "# végeselemek típusának, sorszámának és kapcsolati mátrixának (connectivity matrix) lekérése\n",
    "elemTypes, elemTags, elemNodeTags = gmsh.model.mesh.getElements(2, -1)\n",
    "# a lefoglalandó memória méretének becslése\n",
    "lengthOfIJV = sum([(div(length(elemNodeTags[i]), length(elemTags[i])) * 2)^2 * length(elemTags[i]) for i in 1:length(elemTags)])\n",
    "nn = []\n",
    "I = []\n",
    "J = []\n",
    "V = []\n",
    "V = convert(Vector{Float64}, V)\n",
    "sizehint!(I, lengthOfIJV)\n",
    "sizehint!(J, lengthOfIJV)\n",
    "sizehint!(V, lengthOfIJV)\n",
    "for i in 1:length(elemTypes)\n",
    "    et = elemTypes[i]\n",
    "    elementName, dim, order, numNodes::Int64, localNodeCoord, numPrimaryNodes = gmsh.model.mesh.getElementProperties(et)\n",
    "    intPoints, intWeights = gmsh.model.mesh.getIntegrationPoints(et, \"Gauss\" * string(2approxOrder))\n",
    "    numIntPoints = length(intWeights)\n",
    "    comp, dfun, ori = gmsh.model.mesh.getBasisFunctions(et, intPoints, \"GradLagrange\")\n",
    "    ∇h = reshape(dfun, :, numIntPoints)\n",
    "    nnet = zeros(Int, length(elemTags[i]), numNodes)\n",
    "    invJac = zeros(3, 3numIntPoints)\n",
    "    Iidx = zeros(Int, numNodes * 2, numNodes * 2)\n",
    "    Jidx = zeros(Int, numNodes * 2, numNodes * 2)\n",
    "    for k in 1:numNodes*2, l in 1:numNodes*2\n",
    "        Iidx[k, l] = l\n",
    "        Jidx[k, l] = k\n",
    "    end\n",
    "    ∂h = zeros(3, numNodes * numIntPoints) # ∂h-t mindig csak felül kellene írni, nem kell újra és újra memóriát foglalni neki.\n",
    "    B = zeros(3 * numIntPoints, 2 * numNodes) # B-t mindig csak felül kellene írni?\n",
    "    K1 = zeros(2 * numNodes, 2 * numNodes)\n",
    "    nn2 = zeros(Int, 2 * numNodes)\n",
    "    for j in 1:length(elemTags[i])\n",
    "        elem = elemTags[i][j]\n",
    "        for k in 1:numNodes\n",
    "            nnet[j, k] = elemNodeTags[i][(j-1)*numNodes+k]\n",
    "        end\n",
    "        jac, jacDet, coord = gmsh.model.mesh.getJacobian(elem, intPoints)\n",
    "        Jac = reshape(jac, 3, :)\n",
    "        for k in 1:numIntPoints\n",
    "            invJac[1:3, 3*k-2:3*k] = inv(Jac[1:3, 3*k-2:3*k])'\n",
    "        end\n",
    "        ∂h *= 0\n",
    "        for k in 1:numIntPoints, l in 1:numNodes\n",
    "            ∂h[1:2, (k-1)*numNodes+l] = invJac[1:2, k*3-2:k*3-1] * ∇h[l*3-2:l*3-1, k] #??????????????????\n",
    "        end\n",
    "        B *= 0\n",
    "        for k in 1:numIntPoints, l in 1:numNodes\n",
    "            B[k*3-0, l*2-0] = B[k*3-2, l*2-1] = ∂h[1, (k-1)*numNodes+l]\n",
    "            B[k*3-0, l*2-1] = B[k*3-1, l*2-0] = ∂h[2, (k-1)*numNodes+l]\n",
    "        end\n",
    "        K1 *= 0\n",
    "        for k in 1:numIntPoints\n",
    "            B1 = B[k*3-2:k*3, 1:2*numNodes]\n",
    "            K1 += B1' * D * B1 * jacDet[k] * intWeights[k]\n",
    "        end\n",
    "        nn2[1:2:2*numNodes] = 2 * nnet[j, 1:numNodes] .- 1\n",
    "        nn2[2:2:2*numNodes] = 2 * nnet[j, 1:numNodes]\n",
    "        append!(I, nn2[Iidx[:]])\n",
    "        append!(J, nn2[Jidx[:]])\n",
    "        append!(V, K1[:])\n",
    "    end\n",
    "    push!(nn, nnet)\n",
    "end\n",
    "K = sparse(I, J, V)\n",
    "K0 = copy(K)\n",
    "display(K)\n",
    "#collect(K)"
   ]
  },
  {
   "cell_type": "code",
   "execution_count": 284,
   "metadata": {},
   "outputs": [
    {
     "data": {
      "text/plain": [
       "310-element Vector{Float64}:\n",
       " 0.0\n",
       " 0.0\n",
       " 0.0\n",
       " 0.0\n",
       " 2.777777777777782\n",
       " 0.0\n",
       " 2.777777777777784\n",
       " 0.0\n",
       " 0.0\n",
       " 0.0\n",
       " 0.0\n",
       " 0.0\n",
       " 0.0\n",
       " ⋮\n",
       " 0.0\n",
       " 0.0\n",
       " 0.0\n",
       " 0.0\n",
       " 0.0\n",
       " 0.0\n",
       " 0.0\n",
       " 0.0\n",
       " 0.0\n",
       " 0.0\n",
       " 0.0\n",
       " 0.0"
      ]
     },
     "metadata": {},
     "output_type": "display_data"
    }
   ],
   "source": [
    "# Teher vektor felépítése\n",
    "dof, dof = size(K)\n",
    "f = zeros(dof)\n",
    "for i in 1:length(FXY)\n",
    "    edge, tracX, tracY = FXY[i]\n",
    "    trac = [tracX, tracY]\n",
    "    tags = gmsh.model.getEntitiesForPhysicalGroup(1, edge)\n",
    "    for i ∈ 1:length(tags)\n",
    "        elementTypes, elementTags, elemNodeTags = gmsh.model.mesh.getElements(1, tags[i])\n",
    "        if length(elementTypes) != 1\n",
    "            error(\"A peremen nem csak egyfajta végeselem van!\")\n",
    "        end\n",
    "        elementName, dim, order, numNodes::Int64, localNodeCoord, numPrimaryNodes = gmsh.model.mesh.getElementProperties(elementTypes[1])\n",
    "        nnoe = reshape(elemNodeTags[1], numNodes, :)'\n",
    "        intPoints, intWeights = gmsh.model.mesh.getIntegrationPoints(elementTypes[1], \"Gauss\" * string(approxOrder))\n",
    "        numIntPoints = length(intWeights)\n",
    "        comp, fun, ori = gmsh.model.mesh.getBasisFunctions(elementTypes[1], intPoints, \"Lagrange\")\n",
    "        h = reshape(fun, :, numIntPoints)\n",
    "        comp, dfun, ori = gmsh.model.mesh.getBasisFunctions(elementTypes[1], intPoints, \"GradLagrange\")\n",
    "        ∇h = reshape(dfun, :, numIntPoints)\n",
    "        H = zeros(2 * numIntPoints, 2 * numNodes)\n",
    "        for j in 1:numIntPoints\n",
    "            for k in 1:numNodes\n",
    "                H[j*2-1, k*2-1] = h[k, j]\n",
    "                H[j*2-0, k*2-0] = h[k, j]\n",
    "            end\n",
    "        end\n",
    "        f1 = zeros(2 * numNodes)\n",
    "        nn2 = zeros(Int, 2 * numNodes)\n",
    "        for l in 1:length(elementTags[1])\n",
    "            elem = elementTags[1][l]\n",
    "            jac, jacDet, coord = gmsh.model.mesh.getJacobian(elem, intPoints)\n",
    "            Jac = reshape(jac, 3, :)\n",
    "            f1 *= 0\n",
    "            for j in 1:numIntPoints\n",
    "                H1 = H[j*2-1:j*2, 1:2*numNodes]\n",
    "                Ja = √((Jac[1, 3*j-2])^2 + (Jac[2, 3*j-2])^2)\n",
    "                f1 += H1' * trac * Ja * intWeights[j]\n",
    "            end\n",
    "            nn2[1:2:2*numNodes] = 2 * nnoe[l, 1:numNodes] .- 1\n",
    "            nn2[2:2:2*numNodes] = 2 * nnoe[l, 1:numNodes]\n",
    "            f[nn2] += f1\n",
    "        end\n",
    "    end\n",
    "end\n",
    "display(f)"
   ]
  },
  {
   "cell_type": "code",
   "execution_count": 285,
   "metadata": {},
   "outputs": [],
   "source": [
    "for i in 1:length(fixUX)\n",
    "    nodeTags, coord = gmsh.model.mesh.getNodesForPhysicalGroup(1, fixUX[i])\n",
    "    nodeTags *= 2\n",
    "    nodeTags .-= 1\n",
    "    for i ∈ nodeTags\n",
    "        K[i, :] .= 0\n",
    "        K[:, i] .= 0\n",
    "        K[i, i] = 1\n",
    "        f[i] = 0\n",
    "    end\n",
    "    dropzeros!(K)\n",
    "end\n",
    "#collect(K)"
   ]
  },
  {
   "cell_type": "code",
   "execution_count": 286,
   "metadata": {},
   "outputs": [],
   "source": [
    "for i in 1:length(fixUY)\n",
    "    nodeTags, coord = gmsh.model.mesh.getNodesForPhysicalGroup(1, fixUY[i])\n",
    "    nodeTags *= 2\n",
    "    for i ∈ nodeTags\n",
    "        K[i, :] .= 0\n",
    "        K[:, i] .= 0\n",
    "        K[i, i] = 1\n",
    "        f[i] = 0\n",
    "    end\n",
    "    dropzeros!(K)\n",
    "end\n",
    "#collect(K)"
   ]
  },
  {
   "cell_type": "code",
   "execution_count": 287,
   "metadata": {},
   "outputs": [],
   "source": [
    "#=\n",
    "nodeTags, coord = gmsh.model.mesh.getNodesForPhysicalGroup(1, supp1)\n",
    "nodeTags *= 2\n",
    "for i ∈ nodeTags\n",
    "    K[i, :] .= 0\n",
    "    K[:, i] .= 0\n",
    "    K[i, i] = 1\n",
    "    f[i] = 0\n",
    "end\n",
    "dropzeros!(K)\n",
    "=#"
   ]
  },
  {
   "cell_type": "code",
   "execution_count": 288,
   "metadata": {},
   "outputs": [],
   "source": [
    "#=\n",
    "nodeTags, coord = gmsh.model.mesh.getNodesForPhysicalGroup(1, supp1)\n",
    "nodeTags *= 2\n",
    "nodeTags .-= 1\n",
    "for i ∈ nodeTags\n",
    "    K[i, :] .= 0\n",
    "    K[:, i] .= 0\n",
    "    K[i, i] = 1\n",
    "    f[i] = 0\n",
    "end\n",
    "dropzeros!(K)\n",
    "=#"
   ]
  },
  {
   "cell_type": "code",
   "execution_count": 289,
   "metadata": {},
   "outputs": [
    {
     "data": {
      "text/plain": [
       "310-element Vector{Float64}:\n",
       "  0.0\n",
       "  0.0\n",
       "  0.0\n",
       "  0.0\n",
       "  0.001493416091177376\n",
       " -0.0008574277371372919\n",
       "  0.0028573052241897936\n",
       " -0.0006719929199316505\n",
       "  0.0\n",
       "  0.0\n",
       "  0.0\n",
       "  0.0\n",
       "  0.0\n",
       "  ⋮\n",
       "  0.0012558855750528337\n",
       " -0.0005639301676192684\n",
       "  0.002502359556638503\n",
       " -0.00039048265444644744\n",
       "  0.0025277338788439463\n",
       " -0.00024785416187526286\n",
       "  0.0001127019017835381\n",
       " -1.1532267813679769e-5\n",
       "  0.0002051468136513548\n",
       " -0.0001335096931855444\n",
       "  0.0014581414668884613\n",
       " -0.00036174676817068665"
      ]
     },
     "execution_count": 289,
     "metadata": {},
     "output_type": "execute_result"
    }
   ],
   "source": [
    "q = K \\ f"
   ]
  },
  {
   "cell_type": "code",
   "execution_count": 290,
   "metadata": {},
   "outputs": [
    {
     "data": {
      "text/plain": [
       "0.0"
      ]
     },
     "execution_count": 290,
     "metadata": {},
     "output_type": "execute_result"
    }
   ],
   "source": [
    "FXY[1][3] / (E / height)"
   ]
  },
  {
   "cell_type": "code",
   "execution_count": 291,
   "metadata": {},
   "outputs": [
    {
     "data": {
      "text/plain": [
       "-0.0"
      ]
     },
     "execution_count": 291,
     "metadata": {},
     "output_type": "execute_result"
    }
   ],
   "source": [
    "-(FXY[1][3] / E) * ν * base"
   ]
  },
  {
   "cell_type": "code",
   "execution_count": 292,
   "metadata": {
    "scrolled": true
   },
   "outputs": [
    {
     "data": {
      "text/plain": [
       "310-element Vector{Float64}:\n",
       "  -4.02082939708811\n",
       " -13.458513564418235\n",
       "  -4.465375662323323\n",
       "  16.691798015559648\n",
       "   2.777777777777846\n",
       "   3.078415461263762e-14\n",
       "   2.7777777777779127\n",
       "   4.424748089319219e-14\n",
       "  -1.4177012626148298\n",
       "  -3.608798706245217\n",
       "  -5.252190387138512\n",
       "   1.7882047383139072\n",
       "  -5.324521486854348\n",
       "   ⋮\n",
       "   5.684341886080802e-14\n",
       "  -4.618527782440651e-14\n",
       "   3.552713678800501e-14\n",
       "  -7.815970093361102e-14\n",
       "   3.9168668308775523e-13\n",
       "   5.684341886080802e-14\n",
       "  -5.329070518200751e-15\n",
       "   3.552713678800501e-15\n",
       "  -1.4876988529977098e-14\n",
       "  -4.263256414560601e-14\n",
       "  -4.231627010591311e-13\n",
       "  -8.526512829121202e-14"
      ]
     },
     "execution_count": 292,
     "metadata": {},
     "output_type": "execute_result"
    }
   ],
   "source": [
    "K0 * q"
   ]
  },
  {
   "cell_type": "code",
   "execution_count": 293,
   "metadata": {},
   "outputs": [
    {
     "data": {
      "text/plain": [
       "200000.0"
      ]
     },
     "execution_count": 293,
     "metadata": {},
     "output_type": "execute_result"
    }
   ],
   "source": [
    "k = base * E / height"
   ]
  },
  {
   "cell_type": "code",
   "execution_count": 294,
   "metadata": {},
   "outputs": [],
   "source": [
    "# Feszültségek számítása\n",
    "# csomópontok sorszámának lekérése\n",
    "nodeTags, nodeCoords, nodeParams = gmsh.model.mesh.getNodes(-1, -1)\n",
    "# végeselemek típusának, sorszámának és kapcsolati mátrixának (connectivity matrix) lekérése\n",
    "elemTypes, elemTags, elemNodeTags = gmsh.model.mesh.getElements(2, -1)\n",
    "numElem = Int[]\n",
    "σ = Vector{Float64}[]\n",
    "σx = Vector{Float64}[]\n",
    "σy = Vector{Float64}[]\n",
    "σxy = Vector{Float64}[]\n",
    "for i in 1:length(elemTypes)\n",
    "    et = elemTypes[i]\n",
    "    elementName, dim, order, numNodes::Int64, localNodeCoord, numPrimaryNodes = gmsh.model.mesh.getElementProperties(et)\n",
    "    s0 = zeros(3numNodes) # csak SA és ÁSF feladatnál, FSZ-nél már 4 kell\n",
    "    nodeCoord = zeros(numNodes * 3)\n",
    "    for k in 1:dim, j = 1:numNodes\n",
    "        nodeCoord[k+(j-1)*3] = localNodeCoord[k+(j-1)*dim]\n",
    "    end\n",
    "    comp, dfun, ori = gmsh.model.mesh.getBasisFunctions(et, nodeCoord, \"GradLagrange\")\n",
    "    ∇h = reshape(dfun, :, numNodes)\n",
    "    nnet = zeros(Int, length(elemTags[i]), numNodes)\n",
    "    invJac = zeros(3, 3numNodes)\n",
    "    ∂h = zeros(3, numNodes * numNodes)\n",
    "    B = zeros(3 * numNodes, 2 * numNodes)\n",
    "    nn2 = zeros(Int, 2 * numNodes)\n",
    "    for j in 1:length(elemTags[i])\n",
    "        elem = elemTags[i][j]\n",
    "        for k in 1:numNodes\n",
    "            nnet[j, k] = elemNodeTags[i][(j-1)*numNodes+k]\n",
    "        end\n",
    "        jac, jacDet, coord = gmsh.model.mesh.getJacobian(elem, nodeCoord)\n",
    "        Jac = reshape(jac, 3, :)\n",
    "        for k in 1:numNodes\n",
    "            invJac[1:3, 3*k-2:3*k] = inv(Jac[1:3, 3*k-2:3*k])'\n",
    "        end\n",
    "        ∂h *= 0\n",
    "        for k in 1:numNodes, l in 1:numNodes\n",
    "            ∂h[1:2, (k-1)*numNodes+l] = invJac[1:2, k*3-2:k*3-1] * ∇h[l*3-2:l*3-1, k] #??????????????????\n",
    "        end\n",
    "        B *= 0\n",
    "        for k in 1:numNodes, l in 1:numNodes\n",
    "            B[k*3-0, l*2-0] = B[k*3-2, l*2-1] = ∂h[1, (k-1)*numNodes+l]\n",
    "            B[k*3-0, l*2-1] = B[k*3-1, l*2-0] = ∂h[2, (k-1)*numNodes+l]\n",
    "        end\n",
    "        push!(numElem, elem)\n",
    "        nn2[1:2:2*numNodes] = 2 * nnet[j, 1:numNodes] .- 1\n",
    "        nn2[2:2:2*numNodes] = 2 * nnet[j, 1:numNodes]\n",
    "        s = zeros(9numNodes) # tenzornak 9 eleme van\n",
    "        sx = zeros(numNodes)\n",
    "        sy = zeros(numNodes)\n",
    "        sxy = zeros(numNodes)\n",
    "        for k in 1:numNodes\n",
    "            B1 = B[k*3-2:k*3, 1:2*numNodes]\n",
    "            s0 = D * B1 * q[nn2]\n",
    "            s[(k-1)*9+1:k*9] = [s0[1], s0[3], 0, s0[3], s0[2], 0, 0, 0, 0]\n",
    "            sx[k] = s0[1]\n",
    "            sy[k] = s0[2]\n",
    "            sxy[k] = s0[3]\n",
    "        end\n",
    "        push!(σ, s)\n",
    "        push!(σx, sx)\n",
    "        push!(σy, sy)\n",
    "        push!(σxy, sxy)\n",
    "    end\n",
    "end"
   ]
  },
  {
   "cell_type": "code",
   "execution_count": 295,
   "metadata": {},
   "outputs": [],
   "source": [
    "gmsh.option.setNumber(\"View.IntervalsType\", 3)\n",
    "gmsh.option.setNumber(\"View.VectorType\", 5)\n",
    "gmsh.option.setString(\"View.Format\", \"%.6g\")"
   ]
  },
  {
   "cell_type": "code",
   "execution_count": 296,
   "metadata": {},
   "outputs": [],
   "source": [
    "nodeTags, nodeCoords, nodeParams = gmsh.model.mesh.getNodes(-1, -1)\n",
    "non = length(nodeTags)\n",
    "uvec = gmsh.view.add(\"uvec\")\n",
    "u = zeros(3 * non)\n",
    "for i in 1:length(nodeTags)\n",
    "    u[3i-2] = q[2*nodeTags[i]-1]\n",
    "    u[3i-1] = q[2*nodeTags[i]-0]\n",
    "end\n",
    "gmsh.view.addHomogeneousModelData(uvec, 0, \"rectangle\", \"NodeData\", nodeTags, u, 0, 3)\n",
    "\n",
    "gmsh.view.option.setNumber(uvec, \"AdaptVisualizationGrid\", 1)\n",
    "gmsh.view.option.setNumber(uvec, \"TargetError\", -1e-4)\n",
    "gmsh.view.option.setNumber(uvec, \"MaxRecursionLevel\", approxOrder + 1)\n",
    "gmsh.view.option.setNumber(uvec, \"Visible\", 1)\n"
   ]
  },
  {
   "cell_type": "code",
   "execution_count": 297,
   "metadata": {},
   "outputs": [],
   "source": [
    "nodeTags, nodeCoords, nodeParams = gmsh.model.mesh.getNodes(-1, -1)\n",
    "non = length(nodeTags)\n",
    "ux = gmsh.view.add(\"ux\")\n",
    "u = zeros(non)\n",
    "for i in 1:length(nodeTags)\n",
    "    u[i] = q[2*nodeTags[i]-1]\n",
    "    #u[3i-1] = q[2*nodeTags[i]-0]\n",
    "end\n",
    "gmsh.view.addHomogeneousModelData(ux, 0, \"rectangle\", \"NodeData\", nodeTags, u, 0, 1)\n",
    "\n",
    "gmsh.view.option.setNumber(ux, \"AdaptVisualizationGrid\", 1)\n",
    "gmsh.view.option.setNumber(ux, \"TargetError\", -1e-4)\n",
    "gmsh.view.option.setNumber(ux, \"MaxRecursionLevel\", approxOrder + 1)\n",
    "gmsh.view.option.setNumber(ux, \"Visible\", 0)\n"
   ]
  },
  {
   "cell_type": "code",
   "execution_count": 298,
   "metadata": {},
   "outputs": [],
   "source": [
    "nodeTags, nodeCoords, nodeParams = gmsh.model.mesh.getNodes(-1, -1)\n",
    "non = length(nodeTags)\n",
    "uy = gmsh.view.add(\"uy\")\n",
    "u = zeros(non)\n",
    "for i in 1:length(nodeTags)\n",
    "    #u[3i-2] = q[2*nodeTags[i]-1]\n",
    "    u[i] = q[2*nodeTags[i]-0]\n",
    "end\n",
    "gmsh.view.addHomogeneousModelData(uy, 0, \"rectangle\", \"NodeData\", nodeTags, u, 0, 1)\n",
    "\n",
    "gmsh.view.option.setNumber(uy, \"AdaptVisualizationGrid\", 1)\n",
    "gmsh.view.option.setNumber(uy, \"TargetError\", -1e-4)\n",
    "gmsh.view.option.setNumber(uy, \"MaxRecursionLevel\", approxOrder + 1)\n",
    "gmsh.view.option.setNumber(uy, \"Visible\", 0)\n"
   ]
  },
  {
   "cell_type": "code",
   "execution_count": 299,
   "metadata": {},
   "outputs": [
    {
     "name": "stdout",
     "output_type": "stream",
     "text": [
      "Info    : Running Plugin(Smooth)...\n",
      "Info    : Done running Plugin(Smooth)\n"
     ]
    }
   ],
   "source": [
    "S = gmsh.view.add(\"σ\")\n",
    "gmsh.view.addModelData(S, 0, \"rectangle\", \"ElementNodeData\", numElem, σ, 0, 9)\n",
    "\n",
    "gmsh.plugin.setNumber(\"Smooth\", \"View\", -1)\n",
    "gmsh.plugin.run(\"Smooth\")\n",
    "\n",
    "gmsh.view.option.setNumber(S, \"AdaptVisualizationGrid\", 1)\n",
    "gmsh.view.option.setNumber(S, \"TargetError\", -1e-4)\n",
    "gmsh.view.option.setNumber(S, \"MaxRecursionLevel\", approxOrder + 1)\n",
    "gmsh.view.option.setNumber(S, \"Visible\", 0)"
   ]
  },
  {
   "cell_type": "code",
   "execution_count": 300,
   "metadata": {},
   "outputs": [
    {
     "name": "stdout",
     "output_type": "stream",
     "text": [
      "Info    : Running Plugin(Smooth)...\n",
      "Info    : Done running Plugin(Smooth)\n"
     ]
    }
   ],
   "source": [
    "Sx = gmsh.view.add(\"σx\")\n",
    "gmsh.view.addModelData(Sx, 0, \"rectangle\", \"ElementNodeData\", numElem, σx, 0, 1)\n",
    "\n",
    "gmsh.plugin.setNumber(\"Smooth\", \"View\", -1)\n",
    "gmsh.plugin.run(\"Smooth\")\n",
    "\n",
    "gmsh.view.option.setNumber(Sx, \"AdaptVisualizationGrid\", 1)\n",
    "gmsh.view.option.setNumber(Sx, \"TargetError\", -1e-4)\n",
    "gmsh.view.option.setNumber(Sx, \"MaxRecursionLevel\", approxOrder + 1)\n",
    "gmsh.view.option.setNumber(Sx, \"Visible\", 0)"
   ]
  },
  {
   "cell_type": "code",
   "execution_count": 301,
   "metadata": {},
   "outputs": [
    {
     "name": "stdout",
     "output_type": "stream",
     "text": [
      "Info    : Running Plugin(Smooth)...\n",
      "Info    : Done running Plugin(Smooth)\n"
     ]
    }
   ],
   "source": [
    "Sy = gmsh.view.add(\"σy\")\n",
    "gmsh.view.addModelData(Sy, 0, \"rectangle\", \"ElementNodeData\", numElem, σy, 0, 1)\n",
    "\n",
    "gmsh.plugin.setNumber(\"Smooth\", \"View\", -1)\n",
    "gmsh.plugin.run(\"Smooth\")\n",
    "\n",
    "gmsh.view.option.setNumber(Sy, \"AdaptVisualizationGrid\", 1)\n",
    "gmsh.view.option.setNumber(Sy, \"TargetError\", -1e-4)\n",
    "gmsh.view.option.setNumber(Sy, \"MaxRecursionLevel\", approxOrder + 1)\n",
    "gmsh.view.option.setNumber(Sy, \"Visible\", 0)"
   ]
  },
  {
   "cell_type": "code",
   "execution_count": 302,
   "metadata": {},
   "outputs": [
    {
     "name": "stdout",
     "output_type": "stream",
     "text": [
      "Info    : Running Plugin(Smooth)...\n",
      "Info    : Done running Plugin(Smooth)\n"
     ]
    }
   ],
   "source": [
    "Sxy = gmsh.view.add(\"τxy\")\n",
    "gmsh.view.addModelData(Sxy, 0, \"rectangle\", \"ElementNodeData\", numElem, σxy, 0, 1)\n",
    "\n",
    "gmsh.plugin.setNumber(\"Smooth\", \"View\", -1)\n",
    "gmsh.plugin.run(\"Smooth\")\n",
    "\n",
    "gmsh.view.option.setNumber(Sxy, \"AdaptVisualizationGrid\", 1)\n",
    "gmsh.view.option.setNumber(Sxy, \"TargetError\", -1e-4)\n",
    "gmsh.view.option.setNumber(Sxy, \"MaxRecursionLevel\", approxOrder + 1)\n",
    "gmsh.view.option.setNumber(Sxy, \"Visible\", 0)"
   ]
  },
  {
   "cell_type": "code",
   "execution_count": 303,
   "metadata": {},
   "outputs": [],
   "source": [
    "#xy = gmsh.view.add(\"2D Plot\")\n",
    "#data = [1.0, 2, 3, 0, 0, 0, 0, 0, 0]\n",
    "#push!(data, 1, 1, 2)\n",
    "#gmsh.view.addListData(xy, \"SL\", 1, data)"
   ]
  },
  {
   "cell_type": "code",
   "execution_count": 304,
   "metadata": {},
   "outputs": [],
   "source": [
    "#gmsh.write(\"rect.msh\")\n",
    "#gmsh.write(\"rect.opt\")\n",
    "#gmsh.write(\"rect.pos\")"
   ]
  },
  {
   "cell_type": "code",
   "execution_count": 305,
   "metadata": {},
   "outputs": [
    {
     "name": "stdout",
     "output_type": "stream",
     "text": [
      "-------------------------------------------------------\n",
      "Version       : 4.11.1\n",
      "License       : GNU General Public License\n",
      "Build OS      : Linux64-sdk\n",
      "Build date    : 20221221\n",
      "Build host    : gmsh.info\n",
      "Build options : 64Bit ALGLIB[contrib] ANN[contrib] Bamg Blas[petsc] Blossom Cgns DIntegration Dlopen DomHex Eigen[contrib] Fltk Gmm[contrib] Hxt Jpeg Kbipack Lapack[petsc] LinuxJoystick MathEx[contrib] Med Mesh Metis[contrib] Mmg Mpeg Netgen ONELAB ONELABMetamodel OpenCASCADE OpenCASCADE-CAF OpenGL OpenMP OptHom PETSc Parser Plugins Png Post QuadMeshingTools QuadTri Solver TetGen/BR Voro++[contrib] WinslowUntangler Zlib\n",
      "FLTK version  : 1.4.0\n",
      "PETSc version : 3.14.4 (real arithmtic)\n",
      "OCC version   : 7.6.1\n",
      "MED version   : 4.1.0\n",
      "Packaged by   : geuzaine\n",
      "Web site      : https://gmsh.info\n",
      "Issue tracker : https://gitlab.onelab.info/gmsh/gmsh/issues\n",
      "-------------------------------------------------------\n"
     ]
    }
   ],
   "source": [
    "gmsh.fltk.run()"
   ]
  },
  {
   "cell_type": "code",
   "execution_count": 306,
   "metadata": {
    "slideshow": {
     "slide_type": ""
    },
    "tags": []
   },
   "outputs": [],
   "source": [
    "gmsh.finalize()"
   ]
  }
 ],
 "metadata": {
  "kernelspec": {
   "display_name": "Julia 1.9.3",
   "language": "julia",
   "name": "julia-1.9"
  },
  "language_info": {
   "file_extension": ".jl",
   "mimetype": "application/julia",
   "name": "julia",
   "version": "1.9.3"
  },
  "varInspector": {
   "cols": {
    "lenName": 16,
    "lenType": 16,
    "lenVar": 40
   },
   "kernels_config": {
    "python": {
     "delete_cmd_postfix": "",
     "delete_cmd_prefix": "del ",
     "library": "var_list.py",
     "varRefreshCmd": "print(var_dic_list())"
    },
    "r": {
     "delete_cmd_postfix": ") ",
     "delete_cmd_prefix": "rm(",
     "library": "var_list.r",
     "varRefreshCmd": "cat(var_dic_list()) "
    }
   },
   "types_to_exclude": [
    "module",
    "function",
    "builtin_function_or_method",
    "instance",
    "_Feature"
   ],
   "window_display": false
  }
 },
 "nbformat": 4,
 "nbformat_minor": 4
}
