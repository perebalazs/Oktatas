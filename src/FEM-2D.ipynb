{
 "cells": [
  {
   "cell_type": "code",
   "execution_count": 76,
   "metadata": {},
   "outputs": [],
   "source": [
    "import gmsh\n",
    "gmsh.initialize()\n",
    "using LinearAlgebra, SparseArrays"
   ]
  },
  {
   "cell_type": "code",
   "execution_count": 77,
   "metadata": {},
   "outputs": [
    {
     "data": {
      "text/plain": [
       "1"
      ]
     },
     "metadata": {},
     "output_type": "display_data"
    }
   ],
   "source": [
    "# Adatok\n",
    "height = 1000\n",
    "base = 1000\n",
    "elemSize = 10\n",
    "traction = 1\n",
    "\n",
    "approxOrder = 3\n",
    "internalNodes = 1\n",
    "quadElements = 1"
   ]
  },
  {
   "cell_type": "code",
   "execution_count": 78,
   "metadata": {},
   "outputs": [],
   "source": [
    "# Geometria megrajzolása\n",
    "gmsh.model.add(\"rectangle\")\n",
    "\n",
    "p1 = gmsh.model.occ.addPoint(0, 0, 0)\n",
    "p2 = gmsh.model.occ.addPoint(base, 0, 0)\n",
    "p3 = gmsh.model.occ.addPoint(base, height, 0)\n",
    "p4 = gmsh.model.occ.addPoint(0, height, 0)\n",
    "\n",
    "l1 = gmsh.model.occ.addLine(p1, p2)\n",
    "l2 = gmsh.model.occ.addLine(p2, p3)\n",
    "l3 = gmsh.model.occ.addLine(p3, p4)\n",
    "l4 = gmsh.model.occ.addLine(p4, p1)\n",
    "\n",
    "cl1 = gmsh.model.occ.addCurveLoop([l1, l2, l3, l4])\n",
    "\n",
    "sf1 = gmsh.model.occ.addPlaneSurface([cl1])\n",
    "\n",
    "gmsh.model.occ.synchronize()"
   ]
  },
  {
   "cell_type": "code",
   "execution_count": 79,
   "metadata": {},
   "outputs": [],
   "source": [
    "# Megfogások és terhelések helyének megadása\n",
    "# az egyes peremfeltételek helyét megadó geometriai objektumokat\n",
    "# csoportokba rendezzük\n",
    "\n",
    "# megfogás 1\n",
    "supp1 = gmsh.model.addPhysicalGroup(1, [l1])\n",
    "gmsh.model.setPhysicalName(1, supp1, \"FixBottomY\")\n",
    "\n",
    "# megfogás 2\n",
    "supp2 = gmsh.model.addPhysicalGroup(1, [l4])\n",
    "gmsh.model.setPhysicalName(1, supp2, \"FixLeftX\")\n",
    "\n",
    "# terhelés\n",
    "trac1 = gmsh.model.addPhysicalGroup(1, [l3])\n",
    "gmsh.model.setPhysicalName(1, trac1, \"ForceTopY\")"
   ]
  },
  {
   "cell_type": "code",
   "execution_count": 80,
   "metadata": {},
   "outputs": [
    {
     "name": "stdout",
     "output_type": "stream",
     "text": [
      "Info    : Meshing 1D...\n",
      "Info    : [  0%] Meshing curve 1 (Line)\n",
      "Info    : [ 30%] Meshing curve 2 (Line)\n",
      "Info    : [ 50%] Meshing curve 3 (Line)\n",
      "Info    : [ 80%] Meshing curve 4 (Line)\n",
      "Info    : Done meshing 1D (Wall 0.000508879s, CPU 0.000511s)\n",
      "Info    : 400 nodes 404 elements\n",
      "Info    : Meshing 2D...\n",
      "Info    : Meshing surface 1 (Plane, Frontal-Delaunay for Quads)\n",
      "Info    : Done meshing 2D (Wall 1.28753s, CPU 1.24473s)\n",
      "Info    : 10202 nodes 20406 elements\n",
      "Info    : Recombining 2D mesh...\n",
      "Info    : Blossom: 29803 internal 396 closed\n",
      "Info    : Blossom recombination completed (Wall 0.328099s, CPU 0.327976s): 10000 quads, 0 triangles, 0 invalid quads, 0 quads with Q < 0.1, avg Q = 0.999484, min Q = 0.974711\n",
      "Info    : Done recombining 2D mesh (Wall 0.330148s, CPU 0.330015s)\n",
      "Info    : Meshing order 3 (curvilinear on)...\n",
      "Info    : [  0%] Meshing curve 1 order 3\n",
      "Info    : [ 20%] Meshing curve 2 order 3\n",
      "Info    : [ 40%] Meshing curve 3 order 3\n",
      "Info    : [ 60%] Meshing curve 4 order 3\n",
      "Info    : [ 80%] Meshing surface 1 order 3\n",
      "Info    : Done meshing order 3 (Wall 0.180467s, CPU 0.180418s)\n"
     ]
    }
   ],
   "source": [
    "# Végeselemes felosztás elvégzése\n",
    "\n",
    "# lekérjük az összes csomópontot\n",
    "all = gmsh.model.getEntities(0)\n",
    "# megadjuk, hogy a csomóponthoz rendelt eleméret mekkora legyen\n",
    "gmsh.model.mesh.setSize(all, elemSize)\n",
    "# kiválasztjuk a 8-as számú hálózó algoritmust a 2D-s sf1 felülethez\n",
    "gmsh.model.mesh.setAlgorithm(2, sf1, 8)\n",
    "# legeneráljuk a hálót a felület kontúrjához (1D-s)\n",
    "gmsh.model.mesh.generate(1)\n",
    "# legeneráljuk a hálót a felülethez (2D-s)\n",
    "gmsh.model.mesh.generate(2)\n",
    "# a legenerált háromszög elemeket négyszög elemekké alakítjuk\n",
    "if quadElements == 1\n",
    "    gmsh.model.mesh.recombine()\n",
    "end\n",
    "# másodfokú elemekhez:\n",
    "# belső csomópontok használata\n",
    "if internalNodes == 1\n",
    "    gmsh.option.setNumber(\"Mesh.SecondOrderIncomplete\", 0) # 0:belső csomópontokkal 1:csak éleken lévő csomópontokkal\n",
    "else\n",
    "    gmsh.option.setNumber(\"Mesh.SecondOrderIncomplete\", 1) # 0:belső csomópontokkal 1:csak éleken lévő csomópontokkal\n",
    "end\n",
    "# közelítés fokszáma (1-től 5-ig)\n",
    "gmsh.model.mesh.setOrder(approxOrder)"
   ]
  },
  {
   "cell_type": "code",
   "execution_count": 81,
   "metadata": {},
   "outputs": [],
   "source": [
    "# Néhány láthatósági beállítás 0:kikapcs. 1:bekapcs.\n",
    "gmsh.option.setNumber(\"Geometry.CurveLabels\", 0)\n",
    "gmsh.option.setNumber(\"Mesh.Points\", 0)\n",
    "gmsh.option.setNumber(\"Mesh.Lines\", 0)\n",
    "gmsh.option.setNumber(\"Mesh.SurfaceEdges\", 0)\n",
    "gmsh.option.setNumber(\"Mesh.NodeLabels\", 0)\n",
    "gmsh.option.setNumber(\"Mesh.LineLabels\", 0)\n",
    "gmsh.option.setNumber(\"Mesh.SurfaceLabels\", 0)"
   ]
  },
  {
   "cell_type": "code",
   "execution_count": 82,
   "metadata": {},
   "outputs": [
    {
     "data": {
      "text/plain": [
       "3×3 Matrix{Float64}:\n",
       " 2.69231e5  1.15385e5      0.0\n",
       " 1.15385e5  2.69231e5      0.0\n",
       " 0.0        0.0        76923.1"
      ]
     },
     "metadata": {},
     "output_type": "display_data"
    }
   ],
   "source": [
    "# Anyagállandók mátrixa SA feladathoz\n",
    "E = 2e5\n",
    "ν = 0.3\n",
    "D = E / ((1 + ν) * (1 - 2ν)) * [1-ν ν 0; ν 1-ν 0; 0 0 (1-2ν)/2]"
   ]
  },
  {
   "cell_type": "code",
   "execution_count": 83,
   "metadata": {},
   "outputs": [
    {
     "data": {
      "text/plain": [
       "3×3 Matrix{Float64}:\n",
       "     2.1978e5  65934.1           0.0\n",
       " 65934.1           2.1978e5      0.0\n",
       "     0.0           0.0       76923.1"
      ]
     },
     "metadata": {},
     "output_type": "display_data"
    }
   ],
   "source": [
    "# Anyagállandók mátrixa ÁSF feladathoz\n",
    "E = 2e5\n",
    "ν = 0.3\n",
    "D = E / (1 - ν^2) * [1 ν 0; ν 1 0; 0 0 (1-ν)/2]"
   ]
  },
  {
   "cell_type": "code",
   "execution_count": 84,
   "metadata": {},
   "outputs": [
    {
     "data": {
      "text/plain": [
       "11"
      ]
     },
     "metadata": {},
     "output_type": "display_data"
    }
   ],
   "source": [
    "a = [[1, 2, 3, 7], [4, 5, 6, 3, 5], [7, 8]]\n",
    "sum([length(a[i]) for i in 1:length(a)])"
   ]
  },
  {
   "cell_type": "code",
   "execution_count": 85,
   "metadata": {},
   "outputs": [
    {
     "data": {
      "text/plain": [
       "181202×181202 SparseMatrixCSC{Float64, Int64} with 9012004 stored entries:\n",
       "⎡⠻⣦⡀⠀⠀⣄⣶⣆⠀⢸⡼⠷⠶⢶⣶⣦⣤⣤⣤⣄⣀⡀⠀⠀⠀⠀⠀⠀⠀⠀⢠⡀⢠⡀⠀⠀⠀⠀⠀⢠⎤\n",
       "⎢⠀⠈⠻⣦⡀⣿⣧⠹⣧⠈⣇⠀⠀⠀⠀⠀⠀⠉⠉⠉⠛⠛⠻⠷⢶⣦⣄⣀⡀⠀⠈⢻⡌⠻⠶⣤⣄⡀⣦⣼⎥\n",
       "⎢⠀⢤⣤⣬⣿⣿⣿⣤⣼⣷⣽⠀⠀⠀⠀⠠⠤⠤⠠⠄⢤⢤⣄⣀⣀⣤⣬⣭⣽⣿⣶⣠⣿⣀⣤⣤⣬⣿⡏⣿⎥\n",
       "⎢⠸⢿⣍⡛⠛⣿⡿⣯⡛⠻⡝⠺⠿⠲⠶⠦⠤⠬⢬⣭⣭⣉⣉⣉⡉⠛⠛⠛⠛⠛⢻⣙⠛⣉⡙⠛⠙⠋⠛⢻⎥\n",
       "⎢⣀⣀⡉⠛⢶⣿⣿⡈⠻⣦⣳⣀⣀⣀⣀⣀⣀⣀⣀⠀⠀⠀⠉⠉⠉⠉⠓⠒⠒⠶⣄⠘⠷⠈⠉⠙⠓⠲⡟⢓⎥\n",
       "⎢⢶⡏⠉⠙⠓⠛⣳⡉⠙⢺⢻⣶⣶⣆⠀⠁⠈⠉⠉⠉⠉⠉⠉⠉⠉⠉⠛⠓⠒⠒⠚⠉⠓⠉⠁⠉⠙⠒⠁⠘⎥\n",
       "⎢⢸⣇⠀⠀⠀⠀⢻⡃⠀⢸⠸⢿⣿⣿⣿⣦⡀⠀⠀⠀⠀⠀⠀⠀⠀⠀⠀⠀⠀⠀⠀⠀⠀⠀⠀⠀⠀⠀⠀⢀⎥\n",
       "⎢⠸⣿⠀⠀⠀⡀⠸⡇⠀⢸⠄⠀⠻⣿⣿⣿⣷⣖⡄⠀⠀⠀⠀⠀⠀⠀⠀⠀⠀⠀⢸⠀⠀⠀⠀⠀⠀⠀⠀⢀⎥\n",
       "⎢⠀⣿⡄⠀⠀⡇⡀⡇⠀⢸⡆⠀⠀⠈⢹⢿⣿⣿⣷⣤⠀⠀⠀⠀⠀⠀⠀⠀⠀⠀⢸⠆⢸⠀⠀⠀⠀⠀⠀⢸⎥\n",
       "⎢⠀⢿⡇⠀⠀⠆⡆⣷⠀⠘⡇⠀⠀⠀⠀⠉⠙⣿⣿⣿⣷⡆⠀⠀⠀⠀⠀⠀⠀⠀⢸⡇⢸⡀⠀⠀⠀⠀⠀⠰⎥\n",
       "⎢⠀⠸⣿⠀⠀⣗⡇⢻⠀⠀⡇⠀⠀⠀⠀⠀⠀⠀⠹⠿⣿⣿⣧⡀⠀⠀⠀⠀⠀⠀⠘⣇⠈⣧⠀⠀⠀⠀⠀⢸⎥\n",
       "⎢⠀⠀⢿⡆⠀⢹⡇⢸⡇⠀⡇⠀⠀⠀⠀⠀⠀⠀⠀⠀⠉⠻⣿⣿⣆⡀⠀⠀⠀⠀⠀⢿⠀⢹⣇⠀⠀⠀⠀⠈⎥\n",
       "⎢⠀⠀⠸⣷⠀⣼⣧⠈⡇⠀⡇⠀⠀⠀⠀⠀⠀⠀⠀⠀⠀⠀⠈⠹⢿⣷⡄⠀⠀⠀⠀⢸⡀⠀⠹⣦⡄⠀⣇⣢⎥\n",
       "⎢⠀⠀⠀⢹⡆⣿⣿⠀⢹⠀⢿⠀⠀⠀⠀⠀⠀⠀⠀⠀⠀⠀⠀⠀⠀⠉⢿⣷⣄⠀⠀⠘⡇⠀⠀⠘⢿⡀⡹⣸⎥\n",
       "⎢⠀⠀⠀⠈⣷⣿⣿⠀⢸⡄⢸⠀⠀⠀⠀⠀⠀⠀⠀⠀⠀⠀⠀⠀⠀⠀⠀⠙⠻⣦⡀⠀⣷⠀⠀⠀⠀⢷⡀⢳⎥\n",
       "⎢⠀⠲⣦⣀⠘⣻⣟⢲⣀⠙⡞⠀⠀⠀⠒⠒⠲⠖⠶⠶⠶⢤⣤⣄⣀⣀⣀⠀⠀⠈⠻⣦⡸⣦⣄⣀⡀⠀⢃⢙⎥\n",
       "⎢⠀⠲⣦⡉⠛⢻⡟⢠⡙⠃⡝⠀⠀⠀⠀⠀⠒⠒⠒⠲⠦⣤⣄⣀⠀⠈⠉⠉⠙⠛⠲⣮⠻⣦⡀⠉⠉⠛⡋⠙⎥\n",
       "⎢⠀⠀⠘⣧⠀⣿⣷⠈⣇⠀⡅⠀⠀⠀⠀⠀⠀⠀⠀⠀⠀⠀⠉⠙⠳⣦⣀⠀⠀⠀⠀⢹⡄⠈⠻⣦⡄⠀⣧⠠⎥\n",
       "⎢⠀⠀⠀⠹⣦⣿⡷⠀⢹⡀⢳⠀⠀⠀⠀⠀⠀⠀⠀⠀⠀⠀⠀⠀⠀⠉⠛⠳⢤⣄⠀⠈⣧⠀⠀⠉⠻⣦⡿⣶⎥\n",
       "⎣⠀⣀⣈⣿⣯⣭⣿⣀⢿⢉⣁⠀⠀⢀⠀⢀⣀⣀⢀⡀⣀⣀⡀⠀⠩⣹⣓⣪⢤⣈⣍⢐⣏⠈⠉⡛⢻⣯⠿⣧⎦"
      ]
     },
     "metadata": {},
     "output_type": "display_data"
    }
   ],
   "source": [
    "# Merevségi mátrix felépítése\n",
    "# csomópontok sorszámának lekérése\n",
    "nodeTags, nodeCoords, nodeParams = gmsh.model.mesh.getNodes(-1, -1)\n",
    "# végeselemek típusának, sorszámának és kapcsolati mátrixának (connectivity matrix) lekérése\n",
    "elemTypes, elemTags, elemNodeTags = gmsh.model.mesh.getElements(2, -1)\n",
    "# a lefoglalandó memória méretének becslése\n",
    "lengthOfIJV = sum([(div(length(elemNodeTags[i]), length(elemTags[i])) * 2)^2 * length(elemTags[i]) for i in 1:length(elemTags)])\n",
    "nn = []\n",
    "I = []\n",
    "J = []\n",
    "V = []\n",
    "V = convert(Vector{Float64}, V)\n",
    "sizehint!(I, lengthOfIJV)\n",
    "sizehint!(J, lengthOfIJV)\n",
    "sizehint!(V, lengthOfIJV)\n",
    "for i in 1:length(elemTypes)\n",
    "    et = elemTypes[i]\n",
    "    elementName, dim, order, numNodes::Int64, localNodeCoord, numPrimaryNodes = gmsh.model.mesh.getElementProperties(et)\n",
    "    intPoints, intWeights = gmsh.model.mesh.getIntegrationPoints(et, \"Gauss\" * string(2approxOrder))\n",
    "    numIntPoints = length(intWeights)\n",
    "    comp, dfun, ori = gmsh.model.mesh.getBasisFunctions(et, intPoints, \"GradLagrange\")\n",
    "    ∇h = reshape(dfun, :, numIntPoints)\n",
    "    nnet = zeros(Int, length(elemTags[i]), numNodes)\n",
    "    invJac = zeros(3, 3numIntPoints)\n",
    "    Iidx = zeros(Int, numNodes * 2, numNodes * 2)\n",
    "    Jidx = zeros(Int, numNodes * 2, numNodes * 2)\n",
    "    for k in 1:numNodes*2, l in 1:numNodes*2\n",
    "        Iidx[k, l] = l\n",
    "        Jidx[k, l] = k\n",
    "    end\n",
    "    ∂h = zeros(3, numNodes * numIntPoints) # ∂h-t mindig csak felül kellene írni, nem kell újra és újra memóriát foglalni neki.\n",
    "    B = zeros(3 * numIntPoints, 2 * numNodes) # B-t mindig csak felül kellene írni?\n",
    "    K1 = zeros(2 * numNodes, 2 * numNodes)\n",
    "    nn2 = zeros(Int, 2 * numNodes)\n",
    "    for j in 1:length(elemTags[i])\n",
    "        elem = elemTags[i][j]\n",
    "        for k in 1:numNodes\n",
    "            nnet[j, k] = elemNodeTags[i][(j-1)*numNodes+k]\n",
    "        end\n",
    "        jac, jacDet, coord = gmsh.model.mesh.getJacobian(elem, intPoints)\n",
    "        Jac = reshape(jac, 3, :)\n",
    "        for k in 1:numIntPoints\n",
    "            invJac[1:3, 3*k-2:3*k] = inv(Jac[1:3, 3*k-2:3*k])'\n",
    "        end\n",
    "        #∂h = zeros(3, numNodes * numIntPoints) # ∂h-t mindig csak felül kellene írni, nem kell újra és újra memóriát foglalni neki.\n",
    "        ∂h *= 0\n",
    "        for k in 1:numIntPoints, l in 1:numNodes\n",
    "            ∂h[1:2, (k-1)*numNodes+l] = invJac[1:2, k*3-2:k*3-1] * ∇h[l*3-2:l*3-1, k] #??????????????????\n",
    "        end\n",
    "        #B = zeros(3 * numIntPoints, 2 * numNodes) # B-t mindig csak felül kellene írni?\n",
    "        B *= 0\n",
    "        for k in 1:numIntPoints, l in 1:numNodes\n",
    "            B[k*3-0, l*2-0] = B[k*3-2, l*2-1] = ∂h[1, (k-1)*numNodes+l]\n",
    "            B[k*3-0, l*2-1] = B[k*3-1, l*2-0] = ∂h[2, (k-1)*numNodes+l]\n",
    "        end\n",
    "        #K1 = zeros(2 * numNodes, 2 * numNodes)\n",
    "        K1 *= 0\n",
    "        for k in 1:numIntPoints\n",
    "            B1 = B[k*3-2:k*3, 1:2*numNodes]\n",
    "            K1 += B1' * D * B1 * jacDet[k] * intWeights[k]\n",
    "        end\n",
    "        nn2[1:2:2*numNodes] = 2 * nnet[j, 1:numNodes] .- 1\n",
    "        nn2[2:2:2*numNodes] = 2 * nnet[j, 1:numNodes]\n",
    "        append!(I, nn2[Iidx[:]])\n",
    "        append!(J, nn2[Jidx[:]])\n",
    "        append!(V, K1[:])\n",
    "    end\n",
    "    push!(nn, nnet)\n",
    "end\n",
    "K = sparse(I, J, V)\n",
    "K0 = copy(K)\n",
    "display(K)"
   ]
  },
  {
   "cell_type": "code",
   "execution_count": 86,
   "metadata": {},
   "outputs": [
    {
     "data": {
      "text/plain": [
       "181202-element Vector{Float64}:\n",
       " 0.0\n",
       " 0.0\n",
       " 0.0\n",
       " 0.0\n",
       " 0.0\n",
       " 1.2500000000000324\n",
       " 0.0\n",
       " 1.2499999999999898\n",
       " 0.0\n",
       " 0.0\n",
       " ⋮\n",
       " 0.0\n",
       " 0.0\n",
       " 0.0\n",
       " 0.0\n",
       " 0.0\n",
       " 0.0\n",
       " 0.0\n",
       " 0.0\n",
       " 0.0"
      ]
     },
     "metadata": {},
     "output_type": "display_data"
    }
   ],
   "source": [
    "# Teher vektor felépítése\n",
    "p = [0, 1]\n",
    "dof, dof = size(K)\n",
    "f = zeros(dof)\n",
    "tags = gmsh.model.getEntitiesForPhysicalGroup(1, trac1)\n",
    "for i ∈ 1:length(tags)\n",
    "    elementTypes, elementTags, elemNodeTags = gmsh.model.mesh.getElements(1, tags[i])\n",
    "    if length(elementTypes) != 1\n",
    "        error(\"A peremen nem csak egyfajta végeselem van!\")\n",
    "    end\n",
    "    #elements = elementTags[1]\n",
    "    elementName, dim, order, numNodes::Int64, localNodeCoord, numPrimaryNodes = gmsh.model.mesh.getElementProperties(elementTypes[1])\n",
    "    nnoe = reshape(elemNodeTags[1], numNodes, :)'\n",
    "    intPoints, intWeights = gmsh.model.mesh.getIntegrationPoints(elementTypes[1], \"Gauss\" * string(approxOrder))\n",
    "    numIntPoints = length(intWeights)\n",
    "    comp, fun, ori = gmsh.model.mesh.getBasisFunctions(elementTypes[1], intPoints, \"Lagrange\")\n",
    "    h = reshape(fun, :, numIntPoints)\n",
    "    comp, dfun, ori = gmsh.model.mesh.getBasisFunctions(elementTypes[1], intPoints, \"GradLagrange\")\n",
    "    ∇h = reshape(dfun, :, numIntPoints)\n",
    "    H = zeros(2 * numIntPoints, 2 * numNodes)\n",
    "    for j in 1:numIntPoints\n",
    "        for k in 1:numNodes\n",
    "            H[j*2-1, k*2-1] = h[k, j]\n",
    "            H[j*2-0, k*2-0] = h[k, j]\n",
    "        end\n",
    "    end\n",
    "    f1 = zeros(2 * numNodes)\n",
    "    nn2 = zeros(Int, 2 * numNodes)\n",
    "    for l in 1:length(elementTags[1])\n",
    "        elem = elementTags[1][l]\n",
    "        jac, jacDet, coord = gmsh.model.mesh.getJacobian(elem, intPoints)\n",
    "        Jac = reshape(jac, 3, :)\n",
    "        f1 *= 0\n",
    "        for j in 1:numIntPoints\n",
    "            H1 = H[j*2-1:j*2, 1:2*numNodes]\n",
    "            Ja = √((Jac[1, 3*j-2])^2 + (Jac[2, 3*j-2])^2)\n",
    "            f1 += H1' * p * Ja * intWeights[j]\n",
    "        end\n",
    "        nn2[1:2:2*numNodes] = 2 * nnoe[l, 1:numNodes] .- 1\n",
    "        nn2[2:2:2*numNodes] = 2 * nnoe[l, 1:numNodes]\n",
    "        f[nn2] += f1\n",
    "    end\n",
    "end\n",
    "display(f)"
   ]
  },
  {
   "cell_type": "code",
   "execution_count": 87,
   "metadata": {},
   "outputs": [
    {
     "data": {
      "text/plain": [
       "181202×181202 SparseMatrixCSC{Float64, Int64} with 8989761 stored entries:\n",
       "⎡⠻⣦⡀⠀⠀⣄⣶⣆⠀⢸⡼⠷⠶⢶⣶⣦⣤⣤⣤⣄⣀⡀⠀⠀⠀⠀⠀⠀⠀⠀⢠⡀⢠⡀⠀⠀⠀⠀⠀⢠⎤\n",
       "⎢⠀⠈⠻⣦⡀⣿⣧⠹⣧⠈⣇⠀⠀⠀⠀⠀⠀⠉⠉⠉⠛⠛⠻⠷⢶⣦⣄⣀⡀⠀⠈⢻⡌⠻⠶⣤⣄⡀⣦⣼⎥\n",
       "⎢⠀⢤⣤⣬⣿⣿⣿⣤⣼⣷⣽⠀⠀⠀⠀⠠⠤⠤⠠⠄⢤⢤⣄⣀⣀⣤⣬⣭⣽⣿⣶⣠⣿⣀⣤⣤⣬⣿⡏⣿⎥\n",
       "⎢⠸⢿⣍⡛⠛⣿⡿⣯⡛⠻⡝⠺⠿⠲⠶⠦⠤⠬⢬⣭⣭⣉⣉⣉⡉⠛⠛⠛⠛⠛⢻⣙⠛⣉⡙⠛⠙⠋⠛⢻⎥\n",
       "⎢⣀⣀⡉⠛⢶⣿⣿⡈⠻⣦⣳⣀⣀⣀⣀⣀⣀⣀⣀⠀⠀⠀⠉⠉⠉⠉⠓⠒⠒⠶⣄⠘⠷⠈⠉⠙⠓⠲⡟⢓⎥\n",
       "⎢⢶⡏⠉⠙⠓⠛⣳⡉⠙⢺⢻⣶⣶⣆⠀⠁⠈⠉⠉⠉⠉⠉⠉⠉⠉⠉⠛⠓⠒⠒⠚⠉⠓⠉⠁⠉⠙⠒⠁⠘⎥\n",
       "⎢⢸⣇⠀⠀⠀⠀⢻⡃⠀⢸⠸⢿⣿⣿⣿⣦⡀⠀⠀⠀⠀⠀⠀⠀⠀⠀⠀⠀⠀⠀⠀⠀⠀⠀⠀⠀⠀⠀⠀⢀⎥\n",
       "⎢⠸⣿⠀⠀⠀⡀⠸⡇⠀⢸⠄⠀⠻⣿⣿⣿⣷⣖⡄⠀⠀⠀⠀⠀⠀⠀⠀⠀⠀⠀⢸⠀⠀⠀⠀⠀⠀⠀⠀⢀⎥\n",
       "⎢⠀⣿⡄⠀⠀⡇⡀⡇⠀⢸⡆⠀⠀⠈⢹⢿⣿⣿⣷⣤⠀⠀⠀⠀⠀⠀⠀⠀⠀⠀⢸⠆⢸⠀⠀⠀⠀⠀⠀⢸⎥\n",
       "⎢⠀⢿⡇⠀⠀⠆⡆⣷⠀⠘⡇⠀⠀⠀⠀⠉⠙⣿⣿⣿⣷⡆⠀⠀⠀⠀⠀⠀⠀⠀⢸⡇⢸⡀⠀⠀⠀⠀⠀⠰⎥\n",
       "⎢⠀⠸⣿⠀⠀⣗⡇⢻⠀⠀⡇⠀⠀⠀⠀⠀⠀⠀⠹⠿⣿⣿⣧⡀⠀⠀⠀⠀⠀⠀⠘⣇⠈⣧⠀⠀⠀⠀⠀⢸⎥\n",
       "⎢⠀⠀⢿⡆⠀⢹⡇⢸⡇⠀⡇⠀⠀⠀⠀⠀⠀⠀⠀⠀⠉⠻⣿⣿⣆⡀⠀⠀⠀⠀⠀⢿⠀⢹⣇⠀⠀⠀⠀⠈⎥\n",
       "⎢⠀⠀⠸⣷⠀⣼⣧⠈⡇⠀⡇⠀⠀⠀⠀⠀⠀⠀⠀⠀⠀⠀⠈⠹⢿⣷⡄⠀⠀⠀⠀⢸⡀⠀⠹⣦⡄⠀⣇⣢⎥\n",
       "⎢⠀⠀⠀⢹⡆⣿⣿⠀⢹⠀⢿⠀⠀⠀⠀⠀⠀⠀⠀⠀⠀⠀⠀⠀⠀⠉⢿⣷⣄⠀⠀⠘⡇⠀⠀⠘⢿⡀⡹⣸⎥\n",
       "⎢⠀⠀⠀⠈⣷⣿⣿⠀⢸⡄⢸⠀⠀⠀⠀⠀⠀⠀⠀⠀⠀⠀⠀⠀⠀⠀⠀⠙⠻⣦⡀⠀⣷⠀⠀⠀⠀⢷⡀⢳⎥\n",
       "⎢⠀⠲⣦⣀⠘⣻⣟⢲⣀⠙⡞⠀⠀⠀⠒⠒⠲⠖⠶⠶⠶⢤⣤⣄⣀⣀⣀⠀⠀⠈⠻⣦⡸⣦⣄⣀⡀⠀⢃⢙⎥\n",
       "⎢⠀⠲⣦⡉⠛⢻⡟⢠⡙⠃⡝⠀⠀⠀⠀⠀⠒⠒⠒⠲⠦⣤⣄⣀⠀⠈⠉⠉⠙⠛⠲⣮⠻⣦⡀⠉⠉⠛⡋⠙⎥\n",
       "⎢⠀⠀⠘⣧⠀⣿⣷⠈⣇⠀⡅⠀⠀⠀⠀⠀⠀⠀⠀⠀⠀⠀⠉⠙⠳⣦⣀⠀⠀⠀⠀⢹⡄⠈⠻⣦⡄⠀⣧⠠⎥\n",
       "⎢⠀⠀⠀⠹⣦⣿⡷⠀⢹⡀⢳⠀⠀⠀⠀⠀⠀⠀⠀⠀⠀⠀⠀⠀⠀⠉⠛⠳⢤⣄⠀⠈⣧⠀⠀⠉⠻⣦⡿⣶⎥\n",
       "⎣⠀⣀⣈⣿⣯⣭⣿⣀⢿⢉⣁⠀⠀⢀⠀⢀⣀⣀⢀⡀⣀⣀⡀⠀⠩⣹⣓⣪⢤⣈⣍⢐⣏⠈⠉⡛⢻⣯⠿⣧⎦"
      ]
     },
     "metadata": {},
     "output_type": "display_data"
    }
   ],
   "source": [
    "nodeTags, coord = gmsh.model.mesh.getNodesForPhysicalGroup(1, supp1)\n",
    "nodeTags *= 2\n",
    "for i ∈ nodeTags\n",
    "    K[i, :] .= 0\n",
    "    K[:, i] .= 0\n",
    "    K[i, i] = 1\n",
    "    f[i] = 0\n",
    "end\n",
    "dropzeros!(K)"
   ]
  },
  {
   "cell_type": "code",
   "execution_count": 88,
   "metadata": {},
   "outputs": [
    {
     "data": {
      "text/plain": [
       "181202×181202 SparseMatrixCSC{Float64, Int64} with 8967579 stored entries:\n",
       "⎡⠻⣦⡀⠀⠀⣄⣶⣆⠀⢸⡼⠷⠶⢶⣶⣦⣤⣤⣤⣄⣀⡀⠀⠀⠀⠀⠀⠀⠀⠀⢠⡀⢠⡀⠀⠀⠀⠀⠀⢠⎤\n",
       "⎢⠀⠈⠻⣦⡀⣿⣧⠹⣧⠈⣇⠀⠀⠀⠀⠀⠀⠉⠉⠉⠛⠛⠻⠷⢶⣦⣄⣀⡀⠀⠈⢻⡌⠻⠶⣤⣄⡀⣦⣼⎥\n",
       "⎢⠀⢤⣤⣬⣿⣿⣿⣤⣼⣷⣽⠀⠀⠀⠀⠠⠤⠤⠠⠄⢤⢤⣄⣀⣀⣤⣬⣭⣽⣿⣶⣠⣿⣀⣤⣤⣬⣿⡏⣿⎥\n",
       "⎢⠸⢿⣍⡛⠛⣿⡿⣯⡛⠻⡝⠺⠿⠲⠶⠦⠤⠬⢬⣭⣭⣉⣉⣉⡉⠛⠛⠛⠛⠛⢻⣙⠛⣉⡙⠛⠙⠋⠛⢻⎥\n",
       "⎢⣀⣀⡉⠛⢶⣿⣿⡈⠻⣦⣳⣀⣀⣀⣀⣀⣀⣀⣀⠀⠀⠀⠉⠉⠉⠉⠓⠒⠒⠶⣄⠘⠷⠈⠉⠙⠓⠲⡟⢓⎥\n",
       "⎢⢶⡏⠉⠙⠓⠛⣳⡉⠙⢺⢻⣶⣶⣆⠀⠁⠈⠉⠉⠉⠉⠉⠉⠉⠉⠉⠛⠓⠒⠒⠚⠉⠓⠉⠁⠉⠙⠒⠁⠘⎥\n",
       "⎢⢸⣇⠀⠀⠀⠀⢻⡃⠀⢸⠸⢿⣿⣿⣿⣦⡀⠀⠀⠀⠀⠀⠀⠀⠀⠀⠀⠀⠀⠀⠀⠀⠀⠀⠀⠀⠀⠀⠀⢀⎥\n",
       "⎢⠸⣿⠀⠀⠀⡀⠸⡇⠀⢸⠄⠀⠻⣿⣿⣿⣷⣖⡄⠀⠀⠀⠀⠀⠀⠀⠀⠀⠀⠀⢸⠀⠀⠀⠀⠀⠀⠀⠀⢀⎥\n",
       "⎢⠀⣿⡄⠀⠀⡇⡀⡇⠀⢸⡆⠀⠀⠈⢹⢿⣿⣿⣷⣤⠀⠀⠀⠀⠀⠀⠀⠀⠀⠀⢸⠆⢸⠀⠀⠀⠀⠀⠀⢸⎥\n",
       "⎢⠀⢿⡇⠀⠀⠆⡆⣷⠀⠘⡇⠀⠀⠀⠀⠉⠙⣿⣿⣿⣷⡆⠀⠀⠀⠀⠀⠀⠀⠀⢸⡇⢸⡀⠀⠀⠀⠀⠀⠰⎥\n",
       "⎢⠀⠸⣿⠀⠀⣗⡇⢻⠀⠀⡇⠀⠀⠀⠀⠀⠀⠀⠹⠿⣿⣿⣧⡀⠀⠀⠀⠀⠀⠀⠘⣇⠈⣧⠀⠀⠀⠀⠀⢸⎥\n",
       "⎢⠀⠀⢿⡆⠀⢹⡇⢸⡇⠀⡇⠀⠀⠀⠀⠀⠀⠀⠀⠀⠉⠻⣿⣿⣆⡀⠀⠀⠀⠀⠀⢿⠀⢹⣇⠀⠀⠀⠀⠈⎥\n",
       "⎢⠀⠀⠸⣷⠀⣼⣧⠈⡇⠀⡇⠀⠀⠀⠀⠀⠀⠀⠀⠀⠀⠀⠈⠹⢿⣷⡄⠀⠀⠀⠀⢸⡀⠀⠹⣦⡄⠀⣇⣢⎥\n",
       "⎢⠀⠀⠀⢹⡆⣿⣿⠀⢹⠀⢿⠀⠀⠀⠀⠀⠀⠀⠀⠀⠀⠀⠀⠀⠀⠉⢿⣷⣄⠀⠀⠘⡇⠀⠀⠘⢿⡀⡹⣸⎥\n",
       "⎢⠀⠀⠀⠈⣷⣿⣿⠀⢸⡄⢸⠀⠀⠀⠀⠀⠀⠀⠀⠀⠀⠀⠀⠀⠀⠀⠀⠙⠻⣦⡀⠀⣷⠀⠀⠀⠀⢷⡀⢳⎥\n",
       "⎢⠀⠲⣦⣀⠘⣻⣟⢲⣀⠙⡞⠀⠀⠀⠒⠒⠲⠖⠶⠶⠶⢤⣤⣄⣀⣀⣀⠀⠀⠈⠻⣦⡸⣦⣄⣀⡀⠀⢃⢙⎥\n",
       "⎢⠀⠲⣦⡉⠛⢻⡟⢠⡙⠃⡝⠀⠀⠀⠀⠀⠒⠒⠒⠲⠦⣤⣄⣀⠀⠈⠉⠉⠙⠛⠲⣮⠻⣦⡀⠉⠉⠛⡋⠙⎥\n",
       "⎢⠀⠀⠘⣧⠀⣿⣷⠈⣇⠀⡅⠀⠀⠀⠀⠀⠀⠀⠀⠀⠀⠀⠉⠙⠳⣦⣀⠀⠀⠀⠀⢹⡄⠈⠻⣦⡄⠀⣧⠠⎥\n",
       "⎢⠀⠀⠀⠹⣦⣿⡷⠀⢹⡀⢳⠀⠀⠀⠀⠀⠀⠀⠀⠀⠀⠀⠀⠀⠀⠉⠛⠳⢤⣄⠀⠈⣧⠀⠀⠉⠻⣦⡿⣶⎥\n",
       "⎣⠀⣀⣈⣿⣯⣭⣿⣀⢿⢉⣁⠀⠀⢀⠀⢀⣀⣀⢀⡀⣀⣀⡀⠀⠩⣹⣓⣪⢤⣈⣍⢐⣏⠈⠉⡛⢻⣯⠿⣧⎦"
      ]
     },
     "metadata": {},
     "output_type": "display_data"
    }
   ],
   "source": [
    "nodeTags, coord = gmsh.model.mesh.getNodesForPhysicalGroup(1, supp2)\n",
    "nodeTags *= 2\n",
    "nodeTags .-= 1\n",
    "for i ∈ nodeTags\n",
    "    K[i, :] .= 0\n",
    "    K[:, i] .= 0\n",
    "    K[i, i] = 1\n",
    "    f[i] = 0\n",
    "end\n",
    "dropzeros!(K)"
   ]
  },
  {
   "cell_type": "code",
   "execution_count": 89,
   "metadata": {},
   "outputs": [
    {
     "data": {
      "text/plain": [
       "181202-element Vector{Float64}:\n",
       "  0.0\n",
       "  0.0\n",
       " -0.0014999999999941074\n",
       "  0.0\n",
       " -0.0014999999999963348\n",
       "  0.004999999999993549\n",
       "  0.0\n",
       "  0.004999999999990859\n",
       " -1.49999999999199e-5\n",
       "  0.0\n",
       "  ⋮\n",
       "  0.0024678431499649393\n",
       " -0.0007599959873130867\n",
       "  0.002537660896019818\n",
       " -0.0007550260258546747\n",
       "  0.002537596867717633\n",
       " -0.0007550601267149788\n",
       "  0.0025211420427589224\n",
       " -0.0007600378256493482\n",
       "  0.0025212741774846698"
      ]
     },
     "metadata": {},
     "output_type": "display_data"
    }
   ],
   "source": [
    "q = K \\ f"
   ]
  },
  {
   "cell_type": "code",
   "execution_count": 90,
   "metadata": {},
   "outputs": [
    {
     "data": {
      "text/plain": [
       "0.005"
      ]
     },
     "metadata": {},
     "output_type": "display_data"
    }
   ],
   "source": [
    "p[2] / (E / height)"
   ]
  },
  {
   "cell_type": "code",
   "execution_count": 91,
   "metadata": {},
   "outputs": [
    {
     "data": {
      "text/plain": [
       "-0.0015"
      ]
     },
     "metadata": {},
     "output_type": "display_data"
    }
   ],
   "source": [
    "-(p[2] / E) * ν * base"
   ]
  },
  {
   "cell_type": "code",
   "execution_count": 92,
   "metadata": {},
   "outputs": [
    {
     "data": {
      "text/plain": [
       "181202-element Vector{Float64}:\n",
       " -1.156408302449563e-12\n",
       " -1.2499999999971871\n",
       "  1.5432100042289676e-14\n",
       " -1.2499999999988756\n",
       " -2.842170943040401e-14\n",
       "  1.2499999999999005\n",
       " -1.1368683772161603e-12\n",
       "  1.2500000000001705\n",
       "  1.3322676295501878e-15\n",
       " -2.499999999994368\n",
       "  ⋮\n",
       "  0.0\n",
       " -1.580957587066223e-13\n",
       "  6.821210263296962e-13\n",
       "  0.0\n",
       "  1.1368683772161603e-13\n",
       "  4.707345624410664e-14\n",
       " -1.1368683772161603e-12\n",
       " -2.333688797762079e-13\n",
       "  0.0"
      ]
     },
     "metadata": {},
     "output_type": "display_data"
    }
   ],
   "source": [
    "K0 * q"
   ]
  },
  {
   "cell_type": "code",
   "execution_count": 93,
   "metadata": {},
   "outputs": [
    {
     "data": {
      "text/plain": [
       "200000.0"
      ]
     },
     "metadata": {},
     "output_type": "display_data"
    }
   ],
   "source": [
    "k = base * E / height"
   ]
  },
  {
   "cell_type": "code",
   "execution_count": 94,
   "metadata": {},
   "outputs": [],
   "source": [
    "gmsh.option.setNumber(\"View.IntervalsType\", 3)\n",
    "gmsh.option.setNumber(\"View.VectorType\", 5)"
   ]
  },
  {
   "cell_type": "code",
   "execution_count": 95,
   "metadata": {},
   "outputs": [],
   "source": [
    "nodeTags, nodeCoords, nodeParams = gmsh.model.mesh.getNodes(-1, -1)\n",
    "non = length(nodeTags)\n",
    "uvec = gmsh.view.add(\"uvec\")\n",
    "u = zeros(3 * non)\n",
    "for i in 1:length(nodeTags)\n",
    "    u[3i-2] = q[2*nodeTags[i]-1]\n",
    "    u[3i-1] = q[2*nodeTags[i]-0]\n",
    "end\n",
    "gmsh.view.addHomogeneousModelData(uvec, 0, \"rectangle\", \"NodeData\", nodeTags, u, 0, 3)\n"
   ]
  },
  {
   "cell_type": "code",
   "execution_count": 96,
   "metadata": {},
   "outputs": [],
   "source": [
    "nodeTags, nodeCoords, nodeParams = gmsh.model.mesh.getNodes(-1, -1)\n",
    "non = length(nodeTags)\n",
    "ux = gmsh.view.add(\"ux\")\n",
    "u = zeros(non)\n",
    "for i in 1:length(nodeTags)\n",
    "    u[i] = q[2*nodeTags[i]-1]\n",
    "    #u[3i-1] = q[2*nodeTags[i]-0]\n",
    "end\n",
    "gmsh.view.addHomogeneousModelData(ux, 0, \"rectangle\", \"NodeData\", nodeTags, u, 0, 1)\n"
   ]
  },
  {
   "cell_type": "code",
   "execution_count": 97,
   "metadata": {},
   "outputs": [],
   "source": [
    "nodeTags, nodeCoords, nodeParams = gmsh.model.mesh.getNodes(-1, -1)\n",
    "non = length(nodeTags)\n",
    "uy = gmsh.view.add(\"uy\")\n",
    "u = zeros(non)\n",
    "for i in 1:length(nodeTags)\n",
    "    #u[3i-2] = q[2*nodeTags[i]-1]\n",
    "    u[i] = q[2*nodeTags[i]-0]\n",
    "end\n",
    "gmsh.view.addHomogeneousModelData(uy, 0, \"rectangle\", \"NodeData\", nodeTags, u, 0, 1)\n"
   ]
  },
  {
   "cell_type": "code",
   "execution_count": 98,
   "metadata": {},
   "outputs": [],
   "source": [
    "#gmsh.write(\"rect.geo\")\n",
    "#gmsh.write(\"rect.msh\")\n",
    "#gmsh.write(\"rect.pos\")"
   ]
  },
  {
   "cell_type": "code",
   "execution_count": 99,
   "metadata": {},
   "outputs": [
    {
     "name": "stdout",
     "output_type": "stream",
     "text": [
      "-------------------------------------------------------\n",
      "Version       : 4.11.1\n",
      "License       : GNU General Public License\n",
      "Build OS      : Linux64-sdk\n",
      "Build date    : 20221221\n",
      "Build host    : gmsh.info\n",
      "Build options : 64Bit ALGLIB[contrib] ANN[contrib] Bamg Blas[petsc] Blossom Cgns DIntegration Dlopen DomHex Eigen[contrib] Fltk Gmm[contrib] Hxt Jpeg Kbipack Lapack[petsc] LinuxJoystick MathEx[contrib] Med Mesh Metis[contrib] Mmg Mpeg Netgen ONELAB ONELABMetamodel OpenCASCADE OpenCASCADE-CAF OpenGL OpenMP OptHom PETSc Parser Plugins Png Post QuadMeshingTools QuadTri Solver TetGen/BR Voro++[contrib] WinslowUntangler Zlib\n",
      "FLTK version  : 1.4.0\n",
      "PETSc version : 3.14.4 (real arithmtic)\n",
      "OCC version   : 7.6.1\n",
      "MED version   : 4.1.0\n",
      "Packaged by   : geuzaine\n",
      "Web site      : https://gmsh.info\n",
      "Issue tracker : https://gitlab.onelab.info/gmsh/gmsh/issues\n",
      "-------------------------------------------------------\n"
     ]
    }
   ],
   "source": [
    "gmsh.fltk.run()"
   ]
  },
  {
   "cell_type": "code",
   "execution_count": 100,
   "metadata": {},
   "outputs": [],
   "source": [
    "gmsh.finalize()"
   ]
  }
 ],
 "metadata": {
  "kernelspec": {
   "display_name": "Julia 1.9.3",
   "language": "julia",
   "name": "julia-1.9"
  },
  "language_info": {
   "file_extension": ".jl",
   "mimetype": "application/julia",
   "name": "julia",
   "version": "1.9.3"
  },
  "varInspector": {
   "cols": {
    "lenName": 16,
    "lenType": 16,
    "lenVar": 40
   },
   "kernels_config": {
    "python": {
     "delete_cmd_postfix": "",
     "delete_cmd_prefix": "del ",
     "library": "var_list.py",
     "varRefreshCmd": "print(var_dic_list())"
    },
    "r": {
     "delete_cmd_postfix": ") ",
     "delete_cmd_prefix": "rm(",
     "library": "var_list.r",
     "varRefreshCmd": "cat(var_dic_list()) "
    }
   },
   "types_to_exclude": [
    "module",
    "function",
    "builtin_function_or_method",
    "instance",
    "_Feature"
   ],
   "window_display": false
  }
 },
 "nbformat": 4,
 "nbformat_minor": 2
}
