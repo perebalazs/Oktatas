{
 "cells": [
  {
   "cell_type": "code",
   "execution_count": 1,
   "metadata": {
    "slideshow": {
     "slide_type": ""
    },
    "tags": []
   },
   "outputs": [],
   "source": [
    "import gmsh\n",
    "gmsh.initialize()\n",
    "using LinearAlgebra, SparseArrays"
   ]
  },
  {
   "cell_type": "code",
   "execution_count": 2,
   "metadata": {},
   "outputs": [],
   "source": [
    "struct PlaneStressProblem\n",
    "    name::String\n",
    "    E::Float64\n",
    "    ν::Float64\n",
    "    b::Float64\n",
    "end"
   ]
  },
  {
   "cell_type": "code",
   "execution_count": 3,
   "metadata": {
    "tags": [
     "hide-input"
    ]
   },
   "outputs": [
    {
     "data": {
      "text/plain": [
       "traction (generic function with 1 method)"
      ]
     },
     "metadata": {},
     "output_type": "display_data"
    }
   ],
   "source": [
    "function displacementConstraint(groupOfLines; ux=1im, uy=1im)\n",
    "    phg = gmsh.model.addPhysicalGroup(1, groupOfLines)\n",
    "    gmsh.model.setPhysicalName(1, phg, \"support\")\n",
    "    bc0 = phg, ux, uy\n",
    "    return bc0\n",
    "end\n",
    "\n",
    "function traction(groupOfLines; fx=0, fy=0, thickness=1)\n",
    "    phg = gmsh.model.addPhysicalGroup(1, groupOfLines)\n",
    "    gmsh.model.setPhysicalName(1, phg, \"load\")\n",
    "    ld0 = phg, fx, fy, thickness\n",
    "    return ld0\n",
    "end"
   ]
  },
  {
   "cell_type": "code",
   "execution_count": 4,
   "metadata": {},
   "outputs": [
    {
     "data": {
      "text/plain": [
       "generateMesh (generic function with 1 method)"
      ]
     },
     "metadata": {},
     "output_type": "display_data"
    }
   ],
   "source": [
    "# Végeselemes felosztás elvégzése\n",
    "function generateMesh(problem, surf, elemSize; approxOrder=1, algorithm=6, quadrangle=0, internalNodes=0)\n",
    "    gmsh.model.setCurrent(problem.name)\n",
    "    # lekérjük az összes csomópontot\n",
    "    all = gmsh.model.getEntities(0)\n",
    "    # megadjuk, hogy a csomóponthoz rendelt eleméret mekkora legyen\n",
    "    gmsh.model.mesh.setSize(all, elemSize)\n",
    "    # kiválasztjuk a 8-as számú hálózó algoritmust a 2D-s sf1 felülethez\n",
    "    gmsh.model.mesh.setAlgorithm(2, surf, algorithm)\n",
    "    # legeneráljuk a hálót a felület kontúrjához (1D-s)\n",
    "    gmsh.model.mesh.generate(1)\n",
    "    # legeneráljuk a hálót a felülethez (2D-s)\n",
    "    gmsh.model.mesh.generate(2)\n",
    "    # a legenerált háromszög elemeket négyszög elemekké alakítjuk\n",
    "    if quadrangle\n",
    "        gmsh.model.mesh.recombine()\n",
    "    end\n",
    "    # másodfokú elemekhez:\n",
    "    # belső csomópontok használata\n",
    "    if internalNodes\n",
    "        gmsh.option.setNumber(\"Mesh.SecondOrderIncomplete\", 0) # 0:belső csomópontokkal 1:csak éleken lévő csomópontokkal\n",
    "    else\n",
    "        gmsh.option.setNumber(\"Mesh.SecondOrderIncomplete\", 1) # 0:belső csomópontokkal 1:csak éleken lévő csomópontokkal\n",
    "    end\n",
    "    # közelítés fokszáma (1-től 5-ig)\n",
    "    gmsh.model.mesh.setOrder(approxOrder)\n",
    "end"
   ]
  },
  {
   "cell_type": "code",
   "execution_count": 5,
   "metadata": {},
   "outputs": [
    {
     "data": {
      "text/plain": [
       "stiffnessMatrixPlaneStress (generic function with 1 method)"
      ]
     },
     "metadata": {},
     "output_type": "display_data"
    }
   ],
   "source": [
    "# Merevségi mátrix felépítése\n",
    "function stiffnessMatrixPlaneStress(problem)\n",
    "    # anyagállandók mátrixa\n",
    "    E = problem.E\n",
    "    ν = problem.ν\n",
    "    b = problem.b\n",
    "    D = E / (1 - ν^2) * [1 ν 0; ν 1 0; 0 0 (1-ν)/2] # ÁSF feladat\n",
    "    #D = E / ((1 + ν) * (1 - 2ν)) * [1-ν ν 0; ν 1-ν 0; 0 0 (1-2ν)/2] # SA feladat\n",
    "    # modell kiválasztása\n",
    "    gmsh.model.setCurrent(problem.name)\n",
    "    # csomópontok sorszámának lekérése\n",
    "    #nodeTags, nodeCoords, nodeParams = gmsh.model.mesh.getNodes(-1, -1)\n",
    "    # végeselemek típusának, sorszámának és kapcsolati mátrixának (connectivity matrix) lekérése\n",
    "    elemTypes, elemTags, elemNodeTags = gmsh.model.mesh.getElements(2, -1)\n",
    "    # a lefoglalandó memória méretének becslése\n",
    "    lengthOfIJV = sum([(div(length(elemNodeTags[i]), length(elemTags[i])) * 2)^2 * length(elemTags[i]) for i in 1:length(elemTags)])\n",
    "    nn = []\n",
    "    I = []\n",
    "    J = []\n",
    "    V = []\n",
    "    V = convert(Vector{Float64}, V)\n",
    "    sizehint!(I, lengthOfIJV)\n",
    "    sizehint!(J, lengthOfIJV)\n",
    "    sizehint!(V, lengthOfIJV)\n",
    "    for i in 1:length(elemTypes)\n",
    "        et = elemTypes[i]\n",
    "        elementName, dim, order, numNodes::Int64, localNodeCoord, numPrimaryNodes = gmsh.model.mesh.getElementProperties(et)\n",
    "        intPoints, intWeights = gmsh.model.mesh.getIntegrationPoints(et, \"Gauss\" * string(2order))\n",
    "        numIntPoints = length(intWeights)\n",
    "        comp, dfun, ori = gmsh.model.mesh.getBasisFunctions(et, intPoints, \"GradLagrange\")\n",
    "        ∇h = reshape(dfun, :, numIntPoints)\n",
    "        nnet = zeros(Int, length(elemTags[i]), numNodes)\n",
    "        invJac = zeros(3, 3numIntPoints)\n",
    "        Iidx = zeros(Int, numNodes * 2, numNodes * 2)\n",
    "        Jidx = zeros(Int, numNodes * 2, numNodes * 2)\n",
    "        for k in 1:numNodes*2, l in 1:numNodes*2\n",
    "            Iidx[k, l] = l\n",
    "            Jidx[k, l] = k\n",
    "        end\n",
    "        ∂h = zeros(3, numNodes * numIntPoints) # ∂h-t mindig csak felül kellene írni, nem kell újra és újra memóriát foglalni neki.\n",
    "        B = zeros(3 * numIntPoints, 2 * numNodes) # B-t mindig csak felül kellene írni?\n",
    "        K1 = zeros(2 * numNodes, 2 * numNodes)\n",
    "        nn2 = zeros(Int, 2 * numNodes)\n",
    "        for j in 1:length(elemTags[i])\n",
    "            elem = elemTags[i][j]\n",
    "            for k in 1:numNodes\n",
    "                nnet[j, k] = elemNodeTags[i][(j-1)*numNodes+k]\n",
    "            end\n",
    "            jac, jacDet, coord = gmsh.model.mesh.getJacobian(elem, intPoints)\n",
    "            Jac = reshape(jac, 3, :)\n",
    "            for k in 1:numIntPoints\n",
    "                invJac[1:3, 3*k-2:3*k] = inv(Jac[1:3, 3*k-2:3*k])'\n",
    "            end\n",
    "            ∂h *= 0\n",
    "            for k in 1:numIntPoints, l in 1:numNodes\n",
    "                ∂h[1:2, (k-1)*numNodes+l] = invJac[1:2, k*3-2:k*3-1] * ∇h[l*3-2:l*3-1, k] #??????????????????\n",
    "            end\n",
    "            B *= 0\n",
    "            for k in 1:numIntPoints, l in 1:numNodes\n",
    "                B[k*3-0, l*2-0] = B[k*3-2, l*2-1] = ∂h[1, (k-1)*numNodes+l]\n",
    "                B[k*3-0, l*2-1] = B[k*3-1, l*2-0] = ∂h[2, (k-1)*numNodes+l]\n",
    "            end\n",
    "            K1 *= 0\n",
    "            for k in 1:numIntPoints\n",
    "                B1 = B[k*3-2:k*3, 1:2*numNodes]\n",
    "                K1 += B1' * D * B1 * jacDet[k] * b * intWeights[k]\n",
    "            end\n",
    "            nn2[1:2:2*numNodes] = 2 * nnet[j, 1:numNodes] .- 1\n",
    "            nn2[2:2:2*numNodes] = 2 * nnet[j, 1:numNodes]\n",
    "            append!(I, nn2[Iidx[:]])\n",
    "            append!(J, nn2[Jidx[:]])\n",
    "            append!(V, K1[:])\n",
    "        end\n",
    "        push!(nn, nnet)\n",
    "    end\n",
    "    K = sparse(I, J, V)\n",
    "    return K\n",
    "end"
   ]
  },
  {
   "cell_type": "code",
   "execution_count": 6,
   "metadata": {},
   "outputs": [
    {
     "data": {
      "text/plain": [
       "applyBoundaryConditions! (generic function with 1 method)"
      ]
     },
     "metadata": {},
     "output_type": "display_data"
    }
   ],
   "source": [
    "function applyBoundaryConditions!(problem, stiffMat, supports, tractions)\n",
    "    gmsh.model.setCurrent(problem.name)\n",
    "    dof, dof = size(stiffMat)\n",
    "    fp = zeros(dof)\n",
    "    for n in 1:length(tractions)\n",
    "        phg, fx, fy, b = tractions[n]\n",
    "        f = [fx, fy]\n",
    "        tags = gmsh.model.getEntitiesForPhysicalGroup(1, phg)\n",
    "        for i ∈ 1:length(tags)\n",
    "            elementTypes, elementTags, elemNodeTags = gmsh.model.mesh.getElements(1, tags[i])\n",
    "            if length(elementTypes) != 1\n",
    "                error(\"A peremen nem csak egyfajta végeselem van!\")\n",
    "            end\n",
    "            elementName, dim, order, numNodes::Int64, localNodeCoord, numPrimaryNodes = gmsh.model.mesh.getElementProperties(elementTypes[1])\n",
    "            nnoe = reshape(elemNodeTags[1], numNodes, :)'\n",
    "            intPoints, intWeights = gmsh.model.mesh.getIntegrationPoints(elementTypes[1], \"Gauss\" * string(order))\n",
    "            numIntPoints = length(intWeights)\n",
    "            comp, fun, ori = gmsh.model.mesh.getBasisFunctions(elementTypes[1], intPoints, \"Lagrange\")\n",
    "            h = reshape(fun, :, numIntPoints)\n",
    "            #comp, dfun, ori = gmsh.model.mesh.getBasisFunctions(elementTypes[1], intPoints, \"GradLagrange\")\n",
    "            #∇h = reshape(dfun, :, numIntPoints)\n",
    "            H = zeros(2 * numIntPoints, 2 * numNodes)\n",
    "            for j in 1:numIntPoints\n",
    "                for k in 1:numNodes\n",
    "                    H[j*2-1, k*2-1] = h[k, j]\n",
    "                    H[j*2-0, k*2-0] = h[k, j]\n",
    "                end\n",
    "            end\n",
    "            f1 = zeros(2 * numNodes)\n",
    "            nn2 = zeros(Int, 2 * numNodes)\n",
    "            for l in 1:length(elementTags[1])\n",
    "                elem = elementTags[1][l]\n",
    "                jac, jacDet, coord = gmsh.model.mesh.getJacobian(elem, intPoints)\n",
    "                Jac = reshape(jac, 3, :)\n",
    "                f1 *= 0\n",
    "                for j in 1:numIntPoints\n",
    "                    H1 = H[j*2-1:j*2, 1:2*numNodes]\n",
    "                    Ja = √((Jac[1, 3*j-2])^2 + (Jac[2, 3*j-2])^2)\n",
    "                    f1 += H1' * f * Ja * b * intWeights[j]\n",
    "                end\n",
    "                nn2[1:2:2*numNodes] = 2 * nnoe[l, 1:numNodes] .- 1\n",
    "                nn2[2:2:2*numNodes] = 2 * nnoe[l, 1:numNodes]\n",
    "                fp[nn2] += f1\n",
    "            end\n",
    "        end\n",
    "\n",
    "    end\n",
    "\n",
    "    for i in 1:length(supports)\n",
    "        phg, ux, uy = supports[i]\n",
    "        nodeTags, coord = gmsh.model.mesh.getNodesForPhysicalGroup(1, phg)\n",
    "        if ux != 1im\n",
    "            nodeTagsX = copy(nodeTags)\n",
    "            nodeTagsX *= 2\n",
    "            nodeTagsX .-= 1\n",
    "            f0 = spzeros(dof, length(nodeTagsX))\n",
    "            f0 = stiffMat[:, nodeTagsX] * ux\n",
    "            f0 = sum(f0, dims=2)\n",
    "            fp -= f0\n",
    "        end\n",
    "        if uy != 1im\n",
    "            nodeTagsY = copy(nodeTags)\n",
    "            nodeTagsY *= 2\n",
    "            f0 = spzeros(dof, length(nodeTagsY))\n",
    "            f0 = stiffMat[:, nodeTagsY] * uy\n",
    "            f0 = sum(f0, dims=2)\n",
    "            fp -= f0\n",
    "        end\n",
    "    end\n",
    "    for i in 1:length(supports)\n",
    "        phg, ux, uy = supports[i]\n",
    "        nodeTags, coord = gmsh.model.mesh.getNodesForPhysicalGroup(1, phg)\n",
    "        if ux != 1im\n",
    "            nodeTagsX = copy(nodeTags)\n",
    "            nodeTagsX *= 2\n",
    "            nodeTagsX .-= 1\n",
    "            for j ∈ nodeTagsX\n",
    "                #display(j)\n",
    "                stiffMat[j, :] .= 0\n",
    "                stiffMat[:, j] .= 0\n",
    "                stiffMat[j, j] = 1\n",
    "                fp[j] = ux\n",
    "            end\n",
    "        end\n",
    "        display(\"---------------------------------\")\n",
    "        if uy != 1im\n",
    "            nodeTagsY = copy(nodeTags)\n",
    "            nodeTagsY *= 2\n",
    "            for j ∈ nodeTagsY\n",
    "                #display(j)\n",
    "                stiffMat[j, :] .= 0\n",
    "                stiffMat[:, j] .= 0\n",
    "                stiffMat[j, j] = 1\n",
    "                fp[j] = uy\n",
    "            end\n",
    "        end\n",
    "    end\n",
    "\n",
    "    dropzeros!(stiffMat)\n",
    "    return stiffMat, fp\n",
    "end"
   ]
  },
  {
   "cell_type": "code",
   "execution_count": 7,
   "metadata": {},
   "outputs": [
    {
     "data": {
      "text/plain": [
       "solveDisplacement (generic function with 1 method)"
      ]
     },
     "metadata": {},
     "output_type": "display_data"
    }
   ],
   "source": [
    "function solveDisplacement(K, f)\n",
    "    return K \\ f\n",
    "end"
   ]
  },
  {
   "cell_type": "code",
   "execution_count": 8,
   "metadata": {},
   "outputs": [
    {
     "data": {
      "text/plain": [
       "solveStressPlaneStress (generic function with 1 method)"
      ]
     },
     "metadata": {},
     "output_type": "display_data"
    }
   ],
   "source": [
    "# Feszültségek számítása\n",
    "function solveStressPlaneStress(problem, q)\n",
    "    E = problem.E\n",
    "    ν = problem.ν\n",
    "    D = E / (1 - ν^2) * [1 ν 0; ν 1 0; 0 0 (1-ν)/2] # ÁSF feladat\n",
    "    gmsh.model.setCurrent(problem.name)\n",
    "    # csomópontok sorszámának lekérése\n",
    "    nodeTags, nodeCoords, nodeParams = gmsh.model.mesh.getNodes(-1, -1)\n",
    "    # végeselemek típusának, sorszámának és kapcsolati mátrixának (connectivity matrix) lekérése\n",
    "    elemTypes, elemTags, elemNodeTags = gmsh.model.mesh.getElements(2, -1)\n",
    "    numElem = Int[]\n",
    "    σ = Vector{Float64}[]\n",
    "    #σx = Vector{Float64}[]\n",
    "    #σy = Vector{Float64}[]\n",
    "    #σxy = Vector{Float64}[]\n",
    "    for i in 1:length(elemTypes)\n",
    "        et = elemTypes[i]\n",
    "        elementName, dim, order, numNodes::Int64, localNodeCoord, numPrimaryNodes = gmsh.model.mesh.getElementProperties(et)\n",
    "        s0 = zeros(3numNodes) # csak SA és ÁSF feladatnál, FSZ-nél már 4 kell\n",
    "        nodeCoord = zeros(numNodes * 3)\n",
    "        for k in 1:dim, j = 1:numNodes\n",
    "            nodeCoord[k+(j-1)*3] = localNodeCoord[k+(j-1)*dim]\n",
    "        end\n",
    "        comp, dfun, ori = gmsh.model.mesh.getBasisFunctions(et, nodeCoord, \"GradLagrange\")\n",
    "        ∇h = reshape(dfun, :, numNodes)\n",
    "        nnet = zeros(Int, length(elemTags[i]), numNodes)\n",
    "        invJac = zeros(3, 3numNodes)\n",
    "        ∂h = zeros(3, numNodes * numNodes)\n",
    "        B = zeros(3 * numNodes, 2 * numNodes)\n",
    "        nn2 = zeros(Int, 2 * numNodes)\n",
    "        for j in 1:length(elemTags[i])\n",
    "            elem = elemTags[i][j]\n",
    "            for k in 1:numNodes\n",
    "                nnet[j, k] = elemNodeTags[i][(j-1)*numNodes+k]\n",
    "            end\n",
    "            jac, jacDet, coord = gmsh.model.mesh.getJacobian(elem, nodeCoord)\n",
    "            Jac = reshape(jac, 3, :)\n",
    "            for k in 1:numNodes\n",
    "                invJac[1:3, 3*k-2:3*k] = inv(Jac[1:3, 3*k-2:3*k])'\n",
    "            end\n",
    "            ∂h *= 0\n",
    "            for k in 1:numNodes, l in 1:numNodes\n",
    "                ∂h[1:2, (k-1)*numNodes+l] = invJac[1:2, k*3-2:k*3-1] * ∇h[l*3-2:l*3-1, k] #??????????????????\n",
    "            end\n",
    "            B *= 0\n",
    "            for k in 1:numNodes, l in 1:numNodes\n",
    "                B[k*3-0, l*2-0] = B[k*3-2, l*2-1] = ∂h[1, (k-1)*numNodes+l]\n",
    "                B[k*3-0, l*2-1] = B[k*3-1, l*2-0] = ∂h[2, (k-1)*numNodes+l]\n",
    "            end\n",
    "            push!(numElem, elem)\n",
    "            nn2[1:2:2*numNodes] = 2 * nnet[j, 1:numNodes] .- 1\n",
    "            nn2[2:2:2*numNodes] = 2 * nnet[j, 1:numNodes]\n",
    "            s = zeros(9numNodes) # tenzornak 9 eleme van\n",
    "            #sx = zeros(numNodes)\n",
    "            #sy = zeros(numNodes)\n",
    "            #sxy = zeros(numNodes)\n",
    "            for k in 1:numNodes\n",
    "                B1 = B[k*3-2:k*3, 1:2*numNodes]\n",
    "                s0 = D * B1 * q[nn2]\n",
    "                s[(k-1)*9+1:k*9] = [s0[1], s0[3], 0, s0[3], s0[2], 0, 0, 0, 0]\n",
    "                #sx[k] = s0[1]\n",
    "                #sy[k] = s0[2]\n",
    "                #sxy[k] = s0[3]\n",
    "            end\n",
    "            push!(σ, s)\n",
    "            #push!(σx, sx)\n",
    "            #push!(σy, sy)\n",
    "            #push!(σxy, sxy)\n",
    "        end\n",
    "    end\n",
    "    return σ, numElem\n",
    "end"
   ]
  },
  {
   "cell_type": "code",
   "execution_count": 9,
   "metadata": {},
   "outputs": [
    {
     "data": {
      "text/plain": [
       "showResultUvec (generic function with 1 method)"
      ]
     },
     "metadata": {},
     "output_type": "display_data"
    }
   ],
   "source": [
    "function showResultUvec(problem, q; name=\"uvec\", visible=false)\n",
    "    gmsh.model.setCurrent(problem.name)\n",
    "    elemTypes, elemTags, elemNodeTags = gmsh.model.mesh.getElements(2, -1)\n",
    "    elementName, dim, order, numNodes::Int64, localNodeCoord, numPrimaryNodes = gmsh.model.mesh.getElementProperties(elemTypes[1])\n",
    "    nodeTags, nodeCoords, nodeParams = gmsh.model.mesh.getNodes(-1, -1)\n",
    "    non = length(nodeTags)\n",
    "    uvec = gmsh.view.add(name)\n",
    "    u = zeros(3 * non)\n",
    "    for i in 1:length(nodeTags)\n",
    "        u[3i-2] = q[2*nodeTags[i]-1]\n",
    "        u[3i-1] = q[2*nodeTags[i]-0]\n",
    "    end\n",
    "    gmsh.view.addHomogeneousModelData(uvec, 0, problem.name, \"NodeData\", nodeTags, u, 0, 3)\n",
    "\n",
    "    gmsh.view.option.setNumber(uvec, \"AdaptVisualizationGrid\", 1)\n",
    "    gmsh.view.option.setNumber(uvec, \"TargetError\", -1e-4)\n",
    "    gmsh.view.option.setNumber(uvec, \"MaxRecursionLevel\", order + 1)\n",
    "    if visible == false\n",
    "        gmsh.view.option.setNumber(uvec, \"Visible\", 0)\n",
    "    end\n",
    "    return uvec\n",
    "end"
   ]
  },
  {
   "cell_type": "code",
   "execution_count": 10,
   "metadata": {},
   "outputs": [
    {
     "data": {
      "text/plain": [
       "showResultUX (generic function with 1 method)"
      ]
     },
     "metadata": {},
     "output_type": "display_data"
    }
   ],
   "source": [
    "function showResultUX(problem, q; name=\"ux\", visible=false)\n",
    "    gmsh.model.setCurrent(problem.name)\n",
    "    elemTypes, elemTags, elemNodeTags = gmsh.model.mesh.getElements(2, -1)\n",
    "    elementName, dim, order, numNodes::Int64, localNodeCoord, numPrimaryNodes = gmsh.model.mesh.getElementProperties(elemTypes[1])\n",
    "    nodeTags, nodeCoords, nodeParams = gmsh.model.mesh.getNodes(-1, -1)\n",
    "    non = length(nodeTags)\n",
    "    ux = gmsh.view.add(name)\n",
    "    u = zeros(non)\n",
    "    for i in 1:length(nodeTags)\n",
    "        u[i] = q[2*nodeTags[i]-1]\n",
    "    end\n",
    "    gmsh.view.addHomogeneousModelData(ux, 0, problem.name, \"NodeData\", nodeTags, u, 0, 1)\n",
    "\n",
    "    gmsh.view.option.setNumber(ux, \"AdaptVisualizationGrid\", 1)\n",
    "    gmsh.view.option.setNumber(ux, \"TargetError\", -1e-4)\n",
    "    gmsh.view.option.setNumber(ux, \"MaxRecursionLevel\", order + 1)\n",
    "    if visible == false\n",
    "        gmsh.view.option.setNumber(ux, \"Visible\", 0)\n",
    "    end\n",
    "    return ux\n",
    "end"
   ]
  },
  {
   "cell_type": "code",
   "execution_count": 11,
   "metadata": {},
   "outputs": [
    {
     "data": {
      "text/plain": [
       "showResultUY (generic function with 1 method)"
      ]
     },
     "metadata": {},
     "output_type": "display_data"
    }
   ],
   "source": [
    "function showResultUY(problem, q; name=\"uy\", visible=false)\n",
    "    gmsh.model.setCurrent(problem.name)\n",
    "    elemTypes, elemTags, elemNodeTags = gmsh.model.mesh.getElements(2, -1)\n",
    "    elementName, dim, order, numNodes::Int64, localNodeCoord, numPrimaryNodes = gmsh.model.mesh.getElementProperties(elemTypes[1])\n",
    "    nodeTags, nodeCoords, nodeParams = gmsh.model.mesh.getNodes(-1, -1)\n",
    "    non = length(nodeTags)\n",
    "    uy = gmsh.view.add(name)\n",
    "    u = zeros(non)\n",
    "    for i in 1:length(nodeTags)\n",
    "        u[i] = q[2*nodeTags[i]-0]\n",
    "    end\n",
    "    gmsh.view.addHomogeneousModelData(uy, 0, problem.name, \"NodeData\", nodeTags, u, 0, 1)\n",
    "\n",
    "    gmsh.view.option.setNumber(uy, \"AdaptVisualizationGrid\", 1)\n",
    "    gmsh.view.option.setNumber(uy, \"TargetError\", -1e-4)\n",
    "    gmsh.view.option.setNumber(uy, \"MaxRecursionLevel\", order + 1)\n",
    "    if visible == false\n",
    "        gmsh.view.option.setNumber(uy, \"Visible\", 0)\n",
    "    end\n",
    "    return uy\n",
    "end"
   ]
  },
  {
   "cell_type": "code",
   "execution_count": 12,
   "metadata": {},
   "outputs": [
    {
     "data": {
      "text/plain": [
       "showResultS (generic function with 1 method)"
      ]
     },
     "metadata": {},
     "output_type": "display_data"
    }
   ],
   "source": [
    "function showResultS(problem, S; name=\"σ\", visible=true, smooth=true)\n",
    "    gmsh.model.setCurrent(problem.name)\n",
    "    elemTypes, elemTags, elemNodeTags = gmsh.model.mesh.getElements(2, -1)\n",
    "    elementName, dim, order, numNodes::Int64, localNodeCoord, numPrimaryNodes = gmsh.model.mesh.getElementProperties(elemTypes[1])\n",
    "    σ, numElem = S\n",
    "    S = gmsh.view.add(name)\n",
    "    gmsh.view.addModelData(S, 0, problem.name, \"ElementNodeData\", numElem, σ, 0, 9)\n",
    "\n",
    "    if smooth == true\n",
    "        gmsh.plugin.setNumber(\"Smooth\", \"View\", -1)\n",
    "        gmsh.plugin.run(\"Smooth\")\n",
    "    end\n",
    "\n",
    "    gmsh.view.option.setNumber(S, \"AdaptVisualizationGrid\", 1)\n",
    "    gmsh.view.option.setNumber(S, \"TargetError\", -1e-4)\n",
    "    gmsh.view.option.setNumber(S, \"MaxRecursionLevel\", order + 1)\n",
    "    if visible == false\n",
    "        gmsh.view.option.setNumber(S, \"Visible\", 0)\n",
    "    end\n",
    "    return S\n",
    "end"
   ]
  },
  {
   "cell_type": "code",
   "execution_count": 13,
   "metadata": {},
   "outputs": [
    {
     "data": {
      "text/plain": [
       "showResultSX (generic function with 1 method)"
      ]
     },
     "metadata": {},
     "output_type": "display_data"
    }
   ],
   "source": [
    "function showResultSX(problem, S; name=\"σx\", visible=false, smooth=true)\n",
    "    gmsh.model.setCurrent(problem.name)\n",
    "    elemTypes, elemTags, elemNodeTags = gmsh.model.mesh.getElements(2, -1)\n",
    "    elementName, dim, order, numNodes::Int64, localNodeCoord, numPrimaryNodes = gmsh.model.mesh.getElementProperties(elemTypes[1])\n",
    "    σ, numElem = S\n",
    "    S = gmsh.view.add(name)\n",
    "    σx = []\n",
    "    sizehint!(σx, length(numElem))\n",
    "    for i in 1:length(σ)\n",
    "        sx = zeros(div(length(σ[i]), 9))\n",
    "        for j in 1:(div(length(σ[i]), 9))\n",
    "            sx[j] = σ[i][9j-8]\n",
    "        end\n",
    "        push!(σx, sx)\n",
    "    end\n",
    "\n",
    "    gmsh.view.addModelData(S, 0, problem.name, \"ElementNodeData\", numElem, σx, 0, 1)\n",
    "\n",
    "    if smooth == true\n",
    "        gmsh.plugin.setNumber(\"Smooth\", \"View\", -1)\n",
    "        gmsh.plugin.run(\"Smooth\")\n",
    "    end\n",
    "\n",
    "    gmsh.view.option.setNumber(S, \"AdaptVisualizationGrid\", 1)\n",
    "    gmsh.view.option.setNumber(S, \"TargetError\", -1e-4)\n",
    "    gmsh.view.option.setNumber(S, \"MaxRecursionLevel\", order + 1)\n",
    "    if visible == false\n",
    "        gmsh.view.option.setNumber(S, \"Visible\", 0)\n",
    "    end\n",
    "    return S\n",
    "end"
   ]
  },
  {
   "cell_type": "code",
   "execution_count": 14,
   "metadata": {},
   "outputs": [
    {
     "data": {
      "text/plain": [
       "showResultSY (generic function with 1 method)"
      ]
     },
     "metadata": {},
     "output_type": "display_data"
    }
   ],
   "source": [
    "function showResultSY(problem, S; name=\"σy\", visible=false, smooth=true)\n",
    "    gmsh.model.setCurrent(problem.name)\n",
    "    elemTypes, elemTags, elemNodeTags = gmsh.model.mesh.getElements(2, -1)\n",
    "    elementName, dim, order, numNodes::Int64, localNodeCoord, numPrimaryNodes = gmsh.model.mesh.getElementProperties(elemTypes[1])\n",
    "    σ, numElem = S\n",
    "    S = gmsh.view.add(name)\n",
    "    σy = []\n",
    "    sizehint!(σy, length(numElem))\n",
    "    for i in 1:length(σ)\n",
    "        sy = zeros(div(length(σ[i]), 9))\n",
    "        for j in 1:(div(length(σ[i]), 9))\n",
    "            sy[j] = σ[i][9j-4]\n",
    "        end\n",
    "        push!(σy, sy)\n",
    "    end\n",
    "\n",
    "    gmsh.view.addModelData(S, 0, problem.name, \"ElementNodeData\", numElem, σy, 0, 1)\n",
    "\n",
    "    if smooth == true\n",
    "        gmsh.plugin.setNumber(\"Smooth\", \"View\", -1)\n",
    "        gmsh.plugin.run(\"Smooth\")\n",
    "    end\n",
    "\n",
    "    #gmsh.view.option.setNumber(S, \"AdaptVisualizationGrid\", 1)\n",
    "    gmsh.view.option.setNumber(S, \"TargetError\", -1e-4)\n",
    "    gmsh.view.option.setNumber(S, \"MaxRecursionLevel\", order + 1)\n",
    "    if visible == false\n",
    "        gmsh.view.option.setNumber(S, \"Visible\", 0)\n",
    "    end\n",
    "    return S\n",
    "end"
   ]
  },
  {
   "cell_type": "code",
   "execution_count": 15,
   "metadata": {},
   "outputs": [
    {
     "data": {
      "text/plain": [
       "showResultSXY (generic function with 1 method)"
      ]
     },
     "metadata": {},
     "output_type": "display_data"
    }
   ],
   "source": [
    "function showResultSXY(problem, S; name=\"τxy\", visible=false, smooth=true)\n",
    "    gmsh.model.setCurrent(problem.name)\n",
    "    elemTypes, elemTags, elemNodeTags = gmsh.model.mesh.getElements(2, -1)\n",
    "    elementName, dim, order, numNodes::Int64, localNodeCoord, numPrimaryNodes = gmsh.model.mesh.getElementProperties(elemTypes[1])\n",
    "    σ, numElem = S\n",
    "    S = gmsh.view.add(name)\n",
    "    σxy = []\n",
    "    sizehint!(σxy, length(numElem))\n",
    "    for i in 1:length(σ)\n",
    "        sxy = zeros(div(length(σ[i]), 9))\n",
    "        for j in 1:(div(length(σ[i]), 9))\n",
    "            sxy[j] = σ[i][9j-7]\n",
    "        end\n",
    "        push!(σxy, sxy)\n",
    "    end\n",
    "\n",
    "    gmsh.view.addModelData(S, 0, problem.name, \"ElementNodeData\", numElem, σxy, 0, 1)\n",
    "\n",
    "    if smooth == true\n",
    "        gmsh.plugin.setNumber(\"Smooth\", \"View\", -1)\n",
    "        gmsh.plugin.run(\"Smooth\")\n",
    "    end\n",
    "\n",
    "    gmsh.view.option.setNumber(S, \"AdaptVisualizationGrid\", 1)\n",
    "    gmsh.view.option.setNumber(S, \"TargetError\", -1e-4)\n",
    "    gmsh.view.option.setNumber(S, \"MaxRecursionLevel\", order + 1)\n",
    "    if visible == false\n",
    "        gmsh.view.option.setNumber(S, \"Visible\", 0)\n",
    "    end\n",
    "    return S\n",
    "end"
   ]
  },
  {
   "cell_type": "code",
   "execution_count": 16,
   "metadata": {},
   "outputs": [
    {
     "data": {
      "text/plain": [
       "plotOnPath (generic function with 1 method)"
      ]
     },
     "metadata": {},
     "output_type": "display_data"
    }
   ],
   "source": [
    "function plotOnPath(problem, path, field, points; numOfStep=0, name=\"path\", visible=false)\n",
    "    gmsh.model.setCurrent(problem.name)\n",
    "    dataType, tags, data, time, numComponents = gmsh.view.getModelData(field, numOfStep)\n",
    "    bounds = gmsh.model.getParametrizationBounds(1, path)\n",
    "    bound1 = bounds[1][1]\n",
    "    bound2 = bounds[2][1]\n",
    "    step0 = (bound2 - bound1) / (points - 1)\n",
    "    cv = zeros(4)\n",
    "    CoordValue = []\n",
    "    pt0 = gmsh.model.getValue(1, path, [bound1])\n",
    "    for i in 1:points\n",
    "        pt1 = gmsh.model.getValue(1, path, [bound1 + (i - 1) * step0])\n",
    "        cv[1:3] = pt1 - pt0\n",
    "        val, dis = gmsh.view.probe(field, pt1[1], pt1[2], pt1[3])\n",
    "        if dis == 0\n",
    "            if numComponents == 1\n",
    "                v = val[1]\n",
    "            elseif numComponents == 3\n",
    "                v = √(val[1]^2 + val[1]^2 + val[1]^2)\n",
    "            elseif numComponents == 9\n",
    "                v = √(0.5 * ((val[1] - val[5])^2 + (val[5] - val[9])^2 + (val[9] - val[1])^2 + 6 * (val[2]^2 + val[3]^2 + val[6]^2)))\n",
    "            else\n",
    "                error(\"Vagy skalás vagy vektor vagy tenzor...\")\n",
    "            end\n",
    "        else\n",
    "            v = 0\n",
    "        end\n",
    "        cv[4] = v\n",
    "        append!(CoordValue, cv)\n",
    "    end\n",
    "    pathView = gmsh.view.add(name)\n",
    "    gmsh.view.addListData(pathView, \"SP\", points, CoordValue)\n",
    "\n",
    "    gmsh.view.option.setNumber(pathView, \"Type\", 2)\n",
    "    gmsh.view.option.setNumber(pathView, \"Axes\", 1)\n",
    "\n",
    "    if visible == false\n",
    "        gmsh.view.option.setNumber(pathView, \"Visible\", 0)\n",
    "    end\n",
    "    return pathView\n",
    "end"
   ]
  },
  {
   "cell_type": "code",
   "execution_count": 17,
   "metadata": {},
   "outputs": [
    {
     "data": {
      "text/plain": [
       "PlaneStressProblem(\"rectangle\", 200000.0, 0.3, 1.0)"
      ]
     },
     "metadata": {},
     "output_type": "display_data"
    }
   ],
   "source": [
    "# Adatok\n",
    "E = 2e5\n",
    "ν = 0.3\n",
    "thickness = 1\n",
    "height = 100\n",
    "base = 100\n",
    "elemSize = 22 #22\n",
    "\n",
    "approxOrder = 6\n",
    "internalNodes = true\n",
    "quadElements = true\n",
    "\n",
    "problem = PlaneStressProblem(\"rectangle\", E, ν, thickness)"
   ]
  },
  {
   "cell_type": "code",
   "execution_count": 18,
   "metadata": {},
   "outputs": [],
   "source": [
    "# Geometria megrajzolása\n",
    "gmsh.model.add(problem.name)\n",
    "\n",
    "p1 = gmsh.model.occ.addPoint(0, 0, 0)\n",
    "p2 = gmsh.model.occ.addPoint(base, 0, 0)\n",
    "#p23 = gmsh.model.occ.addPoint(base, height / 2, 0)\n",
    "p3 = gmsh.model.occ.addPoint(base, height, 0)\n",
    "p4 = gmsh.model.occ.addPoint(0, height, 0)\n",
    "\n",
    "l1 = gmsh.model.occ.addLine(p1, p2)\n",
    "l2 = gmsh.model.occ.addLine(p2, p3)\n",
    "#l23 = gmsh.model.occ.addLine(p23, p3)\n",
    "l3 = gmsh.model.occ.addLine(p3, p4)\n",
    "l4 = gmsh.model.occ.addLine(p4, p1)\n",
    "\n",
    "cl1 = gmsh.model.occ.addCurveLoop([l1, l2, l3, l4])\n",
    "\n",
    "l5 = gmsh.model.occ.addCircle(base / 2, height / 2, 0, min(base, height) / 4)\n",
    "cl2 = gmsh.model.occ.addCurveLoop([l5])\n",
    "\n",
    "sf1 = gmsh.model.occ.addPlaneSurface([cl1, cl2])\n",
    "#display(sf1)\n",
    "\n",
    "#cp1 = gmsh.model.occ.addPoint(base / 2, height / 2, 0)\n",
    "#cl1 = gmsh.model.occ.addLine(p1, p3)\n",
    "#cl2 = gmsh.model.occ.addLine(p2, p4)\n",
    "\n",
    "#sf2 = gmsh.model.occ.fragment([(2, sf1)], [(1, cl1)])\n",
    "#gmsh.model.occ.removeAllDuplicates()\n",
    "\n",
    "#p5 = gmsh.model.occ.addPoint(0, height / 2, 0)\n",
    "#p6 = gmsh.model.occ.addPoint(base, height / 2, 0)\n",
    "#l5 = gmsh.model.occ.addLine(p5, p6)\n",
    "\n",
    "gmsh.model.occ.synchronize()\n",
    "#sf2"
   ]
  },
  {
   "cell_type": "code",
   "execution_count": 19,
   "metadata": {},
   "outputs": [
    {
     "data": {
      "text/plain": [
       "(Tuple{Int32, Int32}[(1, 7), (2, 1), (2, 2), (1, 17)], Vector{Tuple{Int32, Int32}}[[(2, 1), (2, 2)], [(1, 9), (1, 17)], [(1, 7)]])"
      ]
     },
     "metadata": {},
     "output_type": "display_data"
    }
   ],
   "source": [
    "p5 = gmsh.model.occ.addPoint(0, height / 2, 0)\n",
    "p6 = gmsh.model.occ.addPoint(base / 3, height / 2, 0)\n",
    "p7 = gmsh.model.occ.addPoint(3base / 4, height / 2, 0)\n",
    "p8 = gmsh.model.occ.addPoint(base, height / 2, 0)\n",
    "l6 = gmsh.model.occ.addLine(p5, p6)\n",
    "l7 = gmsh.model.occ.addLine(p7, p8)\n",
    "sf2 = gmsh.model.occ.fragment([(2, sf1)], [(1, l6), (1, l7)])\n",
    "gmsh.model.occ.synchronize()\n",
    "sf2"
   ]
  },
  {
   "cell_type": "code",
   "execution_count": 20,
   "metadata": {},
   "outputs": [
    {
     "data": {
      "text/plain": [
       "1-element Vector{Tuple{Int32, Int32}}:\n",
       " (1, 17)"
      ]
     },
     "metadata": {},
     "output_type": "display_data"
    }
   ],
   "source": [
    "ee = 1\n",
    "innerline = gmsh.model.getEntitiesInBoundingBox(base / 4 - ee, height / 2 - ee, 0 - ee, 3base / 4 + ee, height / 2 + ee, 0 + ee, 1)"
   ]
  },
  {
   "cell_type": "code",
   "execution_count": 21,
   "metadata": {},
   "outputs": [],
   "source": [
    "gmsh.model.occ.remove(innerline, true)\n",
    "gmsh.model.occ.synchronize()"
   ]
  },
  {
   "cell_type": "code",
   "execution_count": 22,
   "metadata": {},
   "outputs": [
    {
     "name": "stdout",
     "output_type": "stream",
     "text": [
      "Info    : Writing 'rectangle.brep'...\n",
      "Info    : Done writing 'rectangle.brep'\n"
     ]
    }
   ],
   "source": [
    "gmsh.write(\"rectangle.brep\")"
   ]
  },
  {
   "cell_type": "code",
   "execution_count": 23,
   "metadata": {},
   "outputs": [
    {
     "data": {
      "text/plain": [
       "1-element Vector{Tuple{Int32, Int32}}:\n",
       " (1, 14)"
      ]
     },
     "metadata": {},
     "output_type": "display_data"
    }
   ],
   "source": [
    "supp = gmsh.model.getEntitiesInBoundingBox(0 - ee, 0 - ee, 0 - ee, 0 + ee, height + ee, 0 + ee, 1)\n",
    "load = gmsh.model.getEntitiesInBoundingBox(0 - ee, height - ee, 0 - ee, base + ee, height + ee, 0 + ee, 1)"
   ]
  },
  {
   "cell_type": "code",
   "execution_count": 24,
   "metadata": {},
   "outputs": [
    {
     "data": {
      "text/plain": [
       "(2, 0, 1, 1)"
      ]
     },
     "metadata": {},
     "output_type": "display_data"
    }
   ],
   "source": [
    "supp1 = displacementConstraint([supp[i][2] for i in 1:length(supp)], ux=0, uy=0)\n",
    "load1 = traction([load[i][2] for i in 1:length(load)], fx=0, fy=1, thickness=thickness)"
   ]
  },
  {
   "cell_type": "code",
   "execution_count": 25,
   "metadata": {},
   "outputs": [
    {
     "name": "stdout",
     "output_type": "stream",
     "text": [
      "Info    : Meshing 1D...\n",
      "Info    : [  0%] Meshing curve 7 (Line)\n",
      "Info    : [ 10%] Meshing curve 8 (Line)\n",
      "Info    : [ 20%] Meshing curve 9 (Line)\n",
      "Info    : [ 30%] Meshing curve 10 (Circle)\n",
      "Info    : [ 40%] Meshing curve 11 (Line)\n",
      "Info    : [ 50%] Meshing curve 12 (Line)\n",
      "Info    : [ 60%] Meshing curve 13 (Line)\n",
      "Info    : [ 70%] Meshing curve 14 (Line)\n",
      "Info    : [ 80%] Meshing curve 15 (Line)\n",
      "Info    : [ 90%] Meshing curve 16 (Circle)\n",
      "Info    : Done meshing 1D (Wall 0.00113941s, CPU 0.001101s)\n",
      "Info    : 32 nodes 42 elements\n",
      "Info    : Meshing 2D...\n",
      "Info    : [  0%] Meshing surface 1 (Plane, Frontal-Delaunay for Quads)\n",
      "Info    : [ 50%] Meshing surface 2 (Plane, Frontal-Delaunay)\n",
      "Info    : Done meshing 2D (Wall 0.00227143s, CPU 0.002078s)\n",
      "Info    : 48 nodes 108 elements\n",
      "Info    : Recombining 2D mesh...\n",
      "Info    : Blossom recombination completed (Wall 0.000196648s, CPU 0.000196s): 12 quads, 3 triangles, 0 invalid quads, 0 quads with Q < 0.1, avg Q = 0.833016, min Q = 0.665865\n",
      "Info    : Blossom recombination completed (Wall 0.000690559s, CPU 0.000687s): 19 quads, 1 triangles, 0 invalid quads, 0 quads with Q < 0.1, avg Q = 0.675897, min Q = 0.439555\n",
      "Info    : Done recombining 2D mesh (Wall 0.000925745s, CPU 0.000925s)\n",
      "Info    : Meshing order 6 (curvilinear on)...\n",
      "Info    : [  0%] Meshing curve 7 order 6\n",
      "Info    : [ 10%] Meshing curve 8 order 6\n",
      "Info    : [ 20%] Meshing curve 9 order 6\n",
      "Info    : [ 30%] Meshing curve 10 order 6\n",
      "Info    : [ 40%] Meshing curve 11 order 6\n",
      "Info    : [ 50%] Meshing curve 12 order 6\n",
      "Info    : [ 50%] Meshing curve 13 order 6\n",
      "Info    : [ 60%] Meshing curve 14 order 6\n",
      "Info    : [ 70%] Meshing curve 15 order 6\n",
      "Info    : [ 80%] Meshing curve 16 order 6\n",
      "Info    : [ 90%] Meshing surface 1 order 6\n",
      "Info    : [100%] Meshing surface 2 order 6\n",
      "Info    : Surface mesh: worst distortion = 0.626068 (0 elements in ]0, 0.2]); worst gamma = 0.826771\n",
      "Info    : Done meshing order 6 (Wall 0.00341273s, CPU 0.003402s)\n"
     ]
    },
    {
     "name": "stderr",
     "output_type": "stream",
     "text": [
      "Warning : Cannot apply Blossom: odd number of triangles (27) in surface 1\n",
      "Warning : Cannot apply Blossom: odd number of triangles (39) in surface 2\n"
     ]
    }
   ],
   "source": [
    "generateMesh(problem, sf1, elemSize, approxOrder=approxOrder, algorithm=8, quadrangle=quadElements, internalNodes=internalNodes)"
   ]
  },
  {
   "cell_type": "code",
   "execution_count": 26,
   "metadata": {},
   "outputs": [
    {
     "name": "stdout",
     "output_type": "stream",
     "text": [
      "Info    : Removing duplicate mesh nodes...\n",
      "Info    : Found 0 duplicate nodes \n",
      "Info    : No duplicate nodes found\n"
     ]
    }
   ],
   "source": [
    "gmsh.model.mesh.removeDuplicateNodes()\n",
    "gmsh.model.mesh.renumberNodes()"
   ]
  },
  {
   "cell_type": "code",
   "execution_count": 27,
   "metadata": {},
   "outputs": [],
   "source": [
    "# 4.12 verziótól...\n",
    "#oldTags, newTags = gmsh.model.mesh.computeRenumbering(\"RCMK\") # \"RCMK\", \"Hilbert\", \"Metis\"\n",
    "#gmsh.model.mesh.renumberNodes(oldTags, newTags)"
   ]
  },
  {
   "cell_type": "code",
   "execution_count": 28,
   "metadata": {},
   "outputs": [
    {
     "name": "stdout",
     "output_type": "stream",
     "text": [
      "Info    : Writing 'rectangle.msh'...\n",
      "Info    : Done writing 'rectangle.msh'\n"
     ]
    }
   ],
   "source": [
    "gmsh.write(\"rectangle.msh\")"
   ]
  },
  {
   "cell_type": "code",
   "execution_count": 29,
   "metadata": {},
   "outputs": [
    {
     "name": "stdout",
     "output_type": "stream",
     "text": [
      "-------------------------------------------------------\n",
      "Version       : 4.12.1-git-38a28aaaf\n",
      "License       : GNU General Public License\n",
      "Build OS      : Linux64-sdk\n",
      "Build date    : 20240111\n",
      "Build host    : gmsh.info\n",
      "Build options : 64Bit ALGLIB[contrib] ANN[contrib] Bamg Blas[petsc] Blossom Cgns DIntegration Dlopen DomHex Eigen[contrib] Fltk Gmm[contrib] Hxt Jpeg Kbipack Lapack[petsc] LinuxJoystick MathEx[contrib] Med Mesh Metis[contrib] Mmg Mpeg Netgen ONELAB ONELABMetamodel OpenCASCADE OpenCASCADE-CAF OpenGL OpenMP OptHom PETSc Parser Plugins Png Post QuadMeshingTools QuadTri Solver TetGen/BR Voro++[contrib] WinslowUntangler Zlib\n",
      "FLTK version  : 1.4.0\n",
      "PETSc version : 3.14.4 (real arithmtic)\n",
      "OCC version   : 7.7.2\n",
      "MED version   : 4.1.0\n",
      "Packaged by   : geuzaine\n",
      "Web site      : https://gmsh.info\n",
      "Issue tracker : https://gitlab.onelab.info/gmsh/gmsh/issues\n",
      "-------------------------------------------------------\n"
     ]
    }
   ],
   "source": [
    "gmsh.fltk.run()"
   ]
  },
  {
   "cell_type": "code",
   "execution_count": 30,
   "metadata": {},
   "outputs": [],
   "source": [
    "# Néhány láthatósági beállítás 0:kikapcs. 1:bekapcs.\n",
    "gmsh.option.setNumber(\"Geometry.CurveLabels\", 0)\n",
    "gmsh.option.setNumber(\"Geometry.Points\", 0)\n",
    "gmsh.option.setNumber(\"Geometry.Curves\", 0)\n",
    "gmsh.option.setNumber(\"Mesh.Points\", 0)\n",
    "gmsh.option.setNumber(\"Mesh.Lines\", 0)\n",
    "gmsh.option.setNumber(\"Mesh.SurfaceEdges\", 0)\n",
    "gmsh.option.setNumber(\"Mesh.NodeLabels\", 0)\n",
    "gmsh.option.setNumber(\"Mesh.LineLabels\", 0)\n",
    "gmsh.option.setNumber(\"Mesh.SurfaceLabels\", 0)"
   ]
  },
  {
   "cell_type": "code",
   "execution_count": 31,
   "metadata": {},
   "outputs": [
    {
     "data": {
      "text/plain": [
       "2556×2556 SparseMatrixCSC{Float64, Int64} with 299952 stored entries:\n",
       "⎡⣿⣿⡿⠀⠛⣭⠛⠀⠀⠀⠘⠛⠘⠛⠛⠀⠀⠀⠀⢸⣧⡆⣤⠀⢠⢸⢾⠀⠐⠇⣥⣧⡗⠂⣭⣿⠸⣧⡄⠀⎤\n",
       "⎢⠛⠋⣿⣿⡧⡋⢿⣤⣯⣹⣛⢀⣸⠲⢠⡼⢼⡧⠿⠿⠏⠁⠈⠀⠀⠈⠀⠘⠻⠿⠇⠉⠃⠋⠀⠙⠛⠂⠉⠉⎥\n",
       "⎢⡟⣤⡭⠫⠿⣧⡸⠟⠩⠭⠙⠛⠉⠀⠘⠛⠀⠛⠃⢻⣄⣀⣄⣀⣀⣀⢠⣤⡄⡀⡄⠀⡀⣤⣤⡤⠤⠀⣀⣀⎥\n",
       "⎢⠛⠀⠛⣷⣶⠎⢿⣷⣒⠒⠚⠒⠚⠻⢻⡿⠿⣶⡟⠛⠁⠉⠈⠈⠉⠉⠀⠀⠁⠁⠀⠀⠁⠉⠀⠀⠀⠀⠉⠉⎥\n",
       "⎢⠀⠀⣏⣻⡇⡆⢸⠘⣻⣾⣀⢘⣛⠀⠈⠁⢈⡁⠀⠀⠀⠀⠀⠀⠀⠀⠀⠀⠀⠀⠀⠀⠀⠀⠀⠀⠀⠀⠀⠀⎥\n",
       "⎢⣶⠀⠛⢘⣷⠀⢺⠀⣀⢘⢻⣶⣐⠐⠒⠒⠀⠂⠀⠒⠀⠀⠀⠀⠀⠀⠀⠀⠀⠀⠀⠀⠀⠀⠀⠀⠀⠀⠀⠀⎥\n",
       "⎢⣶⠀⢲⡚⠃⠀⣾⡀⠛⠘⢐⠘⢻⣶⣒⣐⣀⠀⠒⠂⠀⠀⠀⠀⠀⠀⠀⠀⠀⠀⠀⠀⠀⠀⠀⠀⠀⠀⠀⠀⎥\n",
       "⎢⠛⠀⣀⡶⣶⠀⣿⡶⠆⠀⢸⠀⢘⢸⠻⣦⣤⡖⣂⣤⠀⠀⠀⠀⠀⠀⠀⠀⠀⠀⠀⠀⠀⠀⠀⠀⠀⠀⠀⠀⎥\n",
       "⎢⠀⠀⠶⡷⣤⠀⢻⣧⠆⠰⠠⠀⠀⠘⢠⠿⠻⣦⡄⠤⠀⠀⠀⠀⠀⠀⠀⠀⠀⠀⠀⠀⠀⠀⠀⠀⠀⠀⠀⠀⎥\n",
       "⎢⣀⣀⣿⡇⣭⣀⣿⠉⠀⠀⢠⠀⠸⠀⠈⣼⠀⡍⠿⣧⣀⣀⣀⣀⣀⣀⣀⣀⣀⣀⣀⣀⣀⣀⡀⣀⠀⣀⣀⣀⎥\n",
       "⎢⠩⠿⠏⠁⠀⢹⡅⠀⠀⠀⠀⠀⠀⠀⠀⠀⠀⠀⠀⢸⣿⣿⡏⢩⣭⠩⠬⠉⠉⠍⠉⠿⠏⠉⠉⠉⠉⠉⠡⠤⎥\n",
       "⎢⠀⠛⠂⠀⠀⢹⡂⠀⠀⠀⠀⠀⠀⠀⠀⠀⠀⠀⠀⢸⡏⣉⣿⣿⣐⣒⠈⠉⠂⠀⠛⠃⠀⠒⠀⠀⠀⠀⠒⠀⎥\n",
       "⎢⣀⣒⡀⠀⠀⢸⡇⠀⠀⠀⠀⠀⠀⠀⠀⠀⠀⠀⠀⢸⡇⡛⢰⢸⢻⣶⣀⠀⢀⡀⠂⡀⣀⡀⠀⣀⠀⠒⠂⠀⎥\n",
       "⎢⠚⠓⣀⠀⠀⣶⠀⠀⠀⠀⠀⠀⠀⠀⠀⠀⠀⠀⠀⢸⡆⠃⡆⠀⠀⠘⢻⣶⣂⠀⠂⠀⠀⣒⡒⢂⣀⠀⠀⠀⎥\n",
       "⎢⠴⠄⣿⡆⠀⠩⠅⠀⠀⠀⠀⠀⠀⠀⠀⠀⠀⠀⠀⢸⡇⠄⠈⠀⠀⠰⠈⠘⢻⣶⡆⠀⠶⠏⠁⠀⠠⠄⠩⠤⎥\n",
       "⎢⠥⣿⡍⠁⠀⠉⠀⠀⠀⠀⠀⠀⠀⠀⠀⠀⠀⠀⠀⢸⣧⡄⠿⠀⠈⠠⠈⠀⠈⠉⠿⣧⡄⠀⠉⠥⠀⠉⠁⠀⎥\n",
       "⎢⠹⠉⡭⠀⠀⣬⡅⠀⠀⠀⠀⠀⠀⠀⠀⠀⠀⠀⠀⢸⡏⠁⢠⠀⠀⠸⢠⢠⡼⠇⠀⠉⠿⣧⡄⠠⠬⠁⣬⠉⎥\n",
       "⎢⣧⣿⣄⠀⠀⡿⠀⠀⠀⠀⠀⠀⠀⠀⠀⠀⠀⠀⠀⢨⡇⠀⠀⠀⠀⢠⠸⢈⠁⠀⠇⡄⠀⡉⠿⣧⣀⠀⠀⠀⎥\n",
       "⎢⠶⣦⠻⠀⠀⠃⠀⠀⠀⠀⠀⠀⠀⠀⠀⠀⠀⠀⠀⢠⡇⠀⠀⠀⢠⠀⠀⠘⠀⠆⡄⠀⠆⠃⠀⠘⠻⣦⡄⠀⎥\n",
       "⎣⠀⠉⡇⠀⠀⢸⡇⠀⠀⠀⠀⠀⠀⠀⠀⠀⠀⠀⠀⢸⠁⡆⠘⠀⠈⠀⠀⠀⠃⡆⠁⠀⡆⠛⠀⠀⠀⠉⢻⣶⎦"
      ]
     },
     "metadata": {},
     "output_type": "display_data"
    }
   ],
   "source": [
    "K = stiffnessMatrixPlaneStress(problem)"
   ]
  },
  {
   "cell_type": "code",
   "execution_count": 32,
   "metadata": {},
   "outputs": [
    {
     "data": {
      "text/plain": [
       "\"---------------------------------\""
      ]
     },
     "metadata": {},
     "output_type": "display_data"
    },
    {
     "data": {
      "text/plain": [
       "(sparse([1, 2, 3, 4, 5, 6, 7, 8, 77, 78  …  2547, 2548, 2549, 2550, 2551, 2552, 2553, 2554, 2555, 2556], [1, 2, 3, 4, 5, 6, 7, 7, 7, 7  …  2556, 2556, 2556, 2556, 2556, 2556, 2556, 2556, 2556, 2556], [1.0, 1.0, 1.0, 1.0, 1.0, 1.0, 71549.70918837996, 35940.70748288647, 830.9323011598054, 260.8872291090479  …  -596278.0761656122, -8.0610093252719585e6, -314496.30102190573, -6.515977189057238e6, -1.5236883768937266e6, -7.407639574774877e6, 533934.9415727534, -6.643748625544916e6, 660588.6024839561, 1.1153231206736334e7], 2556, 2556), [0.0; 0.0; … ; 0.0; 0.0;;])"
      ]
     },
     "metadata": {},
     "output_type": "display_data"
    }
   ],
   "source": [
    "K, f = applyBoundaryConditions!(problem, K, [supp1], [load1])"
   ]
  },
  {
   "cell_type": "code",
   "execution_count": 33,
   "metadata": {},
   "outputs": [
    {
     "data": {
      "text/plain": [
       "Inf"
      ]
     },
     "metadata": {},
     "output_type": "display_data"
    }
   ],
   "source": [
    "det(K)"
   ]
  },
  {
   "cell_type": "code",
   "execution_count": 34,
   "metadata": {},
   "outputs": [
    {
     "data": {
      "text/plain": [
       "2556×1 Matrix{Float64}:\n",
       "  0.0\n",
       "  0.0\n",
       "  0.0\n",
       "  0.0\n",
       "  0.0\n",
       "  0.0\n",
       " -0.0008017826738634591\n",
       "  0.003434990816028011\n",
       "  0.0\n",
       "  0.0\n",
       "  ⋮\n",
       "  0.00042740020521891736\n",
       "  0.00012368377263503205\n",
       "  0.00036649231716788186\n",
       "  0.0001216479436411787\n",
       "  0.0003691443533738647\n",
       "  0.0001388647981007874\n",
       "  0.00042043606772800094\n",
       "  0.00013323665330401747\n",
       "  0.00039548420434794556"
      ]
     },
     "metadata": {},
     "output_type": "display_data"
    }
   ],
   "source": [
    "q = solveDisplacement(K, f)"
   ]
  },
  {
   "cell_type": "code",
   "execution_count": 35,
   "metadata": {},
   "outputs": [
    {
     "data": {
      "text/plain": [
       "([[-0.9661711185860101, -0.00013652931406658077, 0.0, -0.00013652931406658077, 0.00010855547273286303, 0.0, 0.0, 0.0, 0.0, 0.19487987798263462  …  0.0, -0.45536984408266906, 0.02540585480702609, 0.0, 0.02540585480702609, 0.12199078178672523, 0.0, 0.0, 0.0, 0.0], [-2.359981024576464, 2.3652701021528326, 0.0, 2.3652701021528326, -2.379463076406309, 0.0, 0.0, 0.0, 0.0, 0.5940917396701896  …  0.0, -1.2431340419483101, 1.095993096124412, 0.0, 1.095993096124412, -1.0067619605257467, 0.0, 0.0, 0.0, 0.0], [2.2986359438849293, 2.297644854175986, 0.0, 2.297644854175986, 2.2985633801433134, 0.0, 0.0, 0.0, 0.0, 0.1965335105772686  …  0.0, 0.8143154740982708, 0.36552962899844704, 0.0, 0.36552962899844704, 1.171937806287745, 0.0, 0.0, 0.0, 0.0], [-0.9957743323979864, 1.4489957009976362, 0.0, 1.4489957009976362, 1.781353821215418, 0.0, 0.0, 0.0, 0.0, -0.8384092863224647  …  0.0, -1.1895956002455397, 1.5869389555205273, 0.0, 1.5869389555205273, 1.1931425965934044, 0.0, 0.0, 0.0, 0.0], [-0.007880402028847697, -5.927321792810255e-6, 0.0, -5.927321792810255e-6, -0.006126274295720291, 0.0, 0.0, 0.0, 0.0, -0.0009346122719379735  …  0.0, -0.1352212243498956, -0.312347226626504, 0.0, -0.312347226626504, -0.060929295925059884, 0.0, 0.0, 0.0, 0.0], [0.15495510406516538, 0.97469078273434, 0.0, 0.97469078273434, 0.7860611040335025, 0.0, 0.0, 0.0, 0.0, 0.5353797124833644  …  0.0, 0.15190652486557132, 0.46004273801808027, 0.0, 0.46004273801808027, -0.11598745645096123, 0.0, 0.0, 0.0, 0.0], [0.8432985947628094, 0.24779655360873287, 0.0, 0.24779655360873287, 0.07708186827390334, 0.0, 0.0, 0.0, 0.0, 1.167384140640897  …  0.0, 2.4918318014134413, 0.27189129722825095, 0.0, 0.27189129722825095, 0.19549359508414843, 0.0, 0.0, 0.0, 0.0], [-3.785264245137476e-5, -7.268777855469616e-6, 0.0, -7.268777855469616e-6, -0.7939485647102026, 0.0, 0.0, 0.0, 0.0, 2.59177806991584e-5  …  0.0, 0.14990261122592008, -0.17013638306720968, 0.0, -0.17013638306720968, -0.2545011125544291, 0.0, 0.0, 0.0, 0.0], [-0.8764339870941127, 0.8946284190081251, 0.0, 0.8946284190081251, 0.42732936099658525, 0.0, 0.0, 0.0, 0.0, 0.4200944586625228  …  0.0, -0.241525136346974, 1.290765540885999, 0.0, 1.290765540885999, 0.42319824437518877, 0.0, 0.0, 0.0, 0.0], [0.8588112189422019, 0.2612726840115968, 0.0, 0.2612726840115968, 0.1281059279668952, 0.0, 0.0, 0.0, 0.0, -0.8768448003623234  …  0.0, -0.04132081985160335, 0.5983666062848141, 0.0, 0.5983666062848141, 0.45674276145567033, 0.0, 0.0, 0.0, 0.0]  …  [-4.6001886912927645, 0.03702162501809281, 0.0, 0.03702162501809281, 0.7764405552536833, 0.0, 0.0, 0.0, 0.0, -1.4345321031561689  …  0.0, -2.4685176318037745, 0.7414214783520959, 0.0, 0.7414214783520959, 1.217202011266789, 0.0, 0.0, 0.0, 0.0], [1.2185978590815065, 1.1910329443973302, 0.0, 1.1910329443973302, 0.7565250861392262, 0.0, 0.0, 0.0, 0.0, 0.9415408930542497  …  0.0, 1.3764828267299147, 1.3756298278451942, 0.0, 1.3756298278451942, 0.27474390350697736, 0.0, 0.0, 0.0, 0.0], [-0.20422303613241904, 0.8755346024493385, 0.0, 0.8755346024493385, 0.983826838357585, 0.0, 0.0, 0.0, 0.0, 0.0001147221316906144  …  0.0, -0.37329189409935826, 0.6408958985192577, 0.0, 0.6408958985192577, 1.151199044940426, 0.0, 0.0, 0.0, 0.0], [-0.26437269318313034, -0.4551716637334466, 0.0, -0.4551716637334466, 0.9998685762306918, 0.0, 0.0, 0.0, 0.0, 0.0011838851823016139  …  0.0, 0.15127106361663423, -0.3638069609405397, 0.0, -0.3638069609405397, 1.126866235074565, 0.0, 0.0, 0.0, 0.0], [-15.467091290623891, 4.357665441303741, 0.0, 4.357665441303741, -4.640127387178901, 0.0, 0.0, 0.0, 0.0, -1.3566150599765505  …  0.0, -3.5900403091768816, 0.8696542583753083, 0.0, 0.8696542583753083, 0.5430040380090755, 0.0, 0.0, 0.0, 0.0], [-0.20424513071186545, 0.8755405951878097, 0.0, 0.8755405951878097, 0.9838500659550846, 0.0, 0.0, 0.0, 0.0, 0.15493499193476556  …  0.0, -0.04188063109621204, 0.6392836680140787, 0.0, 0.6392836680140787, 0.816608718940481, 0.0, 0.0, 0.0, 0.0], [0.5547680066083368, 1.4910550563577507, 0.0, 1.4910550563577507, 0.1664304019832699, 0.0, 0.0, 0.0, 0.0, 0.420152325161879  …  0.0, 1.0201133903422577, 1.4762644551101989, 0.0, 1.4762644551101989, 0.2121470217464556, 0.0, 0.0, 0.0, 0.0], [2.1297413402731977, 4.040587031650039e-5, 0.0, 4.040587031650039e-5, 1.0001496546033457, 0.0, 0.0, 0.0, 0.0, -1.8237318821606379  …  0.0, 0.023122287106036726, 0.9732492902128961, 0.0, 0.9732492902128961, 0.6867478386097384, 0.0, 0.0, 0.0, 0.0], [-0.5059448578619831, 0.8772724791098487, 0.0, 0.8772724791098487, 0.9682313183615862, 0.0, 0.0, 0.0, 0.0, -0.8261217447318419  …  0.0, -0.7901288436750489, 0.7348463636175226, 0.0, 0.7348463636175226, 0.5137166223393952, 0.0, 0.0, 0.0, 0.0], [3.6581786903293514, 3.6669294159314276, 0.0, 3.6669294159314276, 3.65964578723465, 0.0, 0.0, 0.0, 0.0, 1.209305441122296  …  0.0, 1.7261364216925568, 1.6715241427310155, 0.0, 1.6715241427310155, 1.9611890703374772, 0.0, 0.0, 0.0, 0.0]], [43, 44, 45, 58, 46, 47, 48, 49, 50, 51  …  68, 69, 70, 71, 72, 73, 74, 75, 76, 77])"
      ]
     },
     "metadata": {},
     "output_type": "display_data"
    }
   ],
   "source": [
    "S = solveStressPlaneStress(problem, q)"
   ]
  },
  {
   "cell_type": "code",
   "execution_count": 36,
   "metadata": {},
   "outputs": [],
   "source": [
    "gmsh.option.setNumber(\"View.IntervalsType\", 3)\n",
    "gmsh.option.setNumber(\"View.VectorType\", 5)\n",
    "gmsh.option.setString(\"View.Format\", \"%.6g\")"
   ]
  },
  {
   "cell_type": "code",
   "execution_count": 37,
   "metadata": {},
   "outputs": [
    {
     "data": {
      "text/plain": [
       "1"
      ]
     },
     "metadata": {},
     "output_type": "display_data"
    }
   ],
   "source": [
    "#u = showResultUvec(problem, q, name=\"uvec\", visible=false)\n",
    "#ux = showResultUX(problem, q, name=\"ux\", visible=false)\n",
    "#uy = showResultUY(problem, q, name=\"uy\", visible=false)\n",
    "#s = showResultS(problem, S, name=\"σ\", visible=false, smooth=false)\n",
    "#sx = showResultSX(problem, S, name=\"σx\", visible=false, smooth=false)\n",
    "sy = showResultSY(problem, S, name=\"σy\", visible=true, smooth=false)\n",
    "#sxy = showResultSXY(problem, S, name=\"τxy\", visible=false, smooth=false)"
   ]
  },
  {
   "cell_type": "code",
   "execution_count": 38,
   "metadata": {},
   "outputs": [],
   "source": [
    "pp1 = gmsh.model.occ.addPoint(0, height / 2, 0)\n",
    "pp2 = gmsh.model.occ.addPoint(base / 4, height / 2, 0)\n",
    "pp3 = gmsh.model.occ.addPoint(base / 8, height / 4, 0)\n",
    "\n",
    "pl1 = gmsh.model.occ.addLine(pp1, pp2)\n",
    "pl2 = gmsh.model.occ.addSpline([pp1, pp3, pp2])\n",
    "\n",
    "\n",
    "gmsh.model.occ.synchronize()"
   ]
  },
  {
   "cell_type": "code",
   "execution_count": 39,
   "metadata": {},
   "outputs": [],
   "source": [
    "#plotOnPath(problem, pl1, s, 100, name=\"σred\", visible=false);"
   ]
  },
  {
   "cell_type": "code",
   "execution_count": 40,
   "metadata": {},
   "outputs": [],
   "source": [
    "#gmsh.option.setNumber(\"PostProcessing.Binary\", 1)\n",
    "#gmsh.option.setNumber(\"PostProcessing.SaveMesh\", 1)\n",
    "\n",
    "#gmsh.write(\"rect.msh\")\n",
    "#gmsh.write(\"rect.opt\")\n",
    "#gmsh.view.write(4, \"rect.pos\")"
   ]
  },
  {
   "cell_type": "code",
   "execution_count": 41,
   "metadata": {},
   "outputs": [
    {
     "name": "stdout",
     "output_type": "stream",
     "text": [
      "-------------------------------------------------------\n",
      "Version       : 4.12.1-git-38a28aaaf\n",
      "License       : GNU General Public License\n",
      "Build OS      : Linux64-sdk\n",
      "Build date    : 20240111\n",
      "Build host    : gmsh.info\n",
      "Build options : 64Bit ALGLIB[contrib] ANN[contrib] Bamg Blas[petsc] Blossom Cgns DIntegration Dlopen DomHex Eigen[contrib] Fltk Gmm[contrib] Hxt Jpeg Kbipack Lapack[petsc] LinuxJoystick MathEx[contrib] Med Mesh Metis[contrib] Mmg Mpeg Netgen ONELAB ONELABMetamodel OpenCASCADE OpenCASCADE-CAF OpenGL OpenMP OptHom PETSc Parser Plugins Png Post QuadMeshingTools QuadTri Solver TetGen/BR Voro++[contrib] WinslowUntangler Zlib\n",
      "FLTK version  : 1.4.0\n",
      "PETSc version : 3.14.4 (real arithmtic)\n",
      "OCC version   : 7.7.2\n",
      "MED version   : 4.1.0\n",
      "Packaged by   : geuzaine\n",
      "Web site      : https://gmsh.info\n",
      "Issue tracker : https://gitlab.onelab.info/gmsh/gmsh/issues\n",
      "-------------------------------------------------------\n"
     ]
    }
   ],
   "source": [
    "gmsh.fltk.run()"
   ]
  },
  {
   "cell_type": "code",
   "execution_count": 42,
   "metadata": {
    "slideshow": {
     "slide_type": ""
    },
    "tags": []
   },
   "outputs": [],
   "source": [
    "gmsh.finalize()"
   ]
  }
 ],
 "metadata": {
  "kernelspec": {
   "display_name": "Julia 1.10.0",
   "language": "julia",
   "name": "julia-1.10"
  },
  "language_info": {
   "file_extension": ".jl",
   "mimetype": "application/julia",
   "name": "julia",
   "version": "1.10.0"
  },
  "varInspector": {
   "cols": {
    "lenName": 16,
    "lenType": 16,
    "lenVar": 40
   },
   "kernels_config": {
    "python": {
     "delete_cmd_postfix": "",
     "delete_cmd_prefix": "del ",
     "library": "var_list.py",
     "varRefreshCmd": "print(var_dic_list())"
    },
    "r": {
     "delete_cmd_postfix": ") ",
     "delete_cmd_prefix": "rm(",
     "library": "var_list.r",
     "varRefreshCmd": "cat(var_dic_list()) "
    }
   },
   "types_to_exclude": [
    "module",
    "function",
    "builtin_function_or_method",
    "instance",
    "_Feature"
   ],
   "window_display": false
  }
 },
 "nbformat": 4,
 "nbformat_minor": 4
}
