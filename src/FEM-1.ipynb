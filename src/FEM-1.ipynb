{
 "cells": [
  {
   "cell_type": "code",
   "execution_count": 29,
   "metadata": {},
   "outputs": [
    {
     "name": "stderr",
     "output_type": "stream",
     "text": [
      "Warning : Gmsh has aleady been initialized\n"
     ]
    }
   ],
   "source": [
    "import gmsh\n",
    "gmsh.initialize()"
   ]
  },
  {
   "cell_type": "code",
   "execution_count": 30,
   "metadata": {},
   "outputs": [
    {
     "data": {
      "text/plain": [
       "2"
      ]
     },
     "metadata": {},
     "output_type": "display_data"
    }
   ],
   "source": [
    "# Data\n",
    "l = 100\n",
    "b = 10\n",
    "es = 2"
   ]
  },
  {
   "cell_type": "code",
   "execution_count": 31,
   "metadata": {},
   "outputs": [],
   "source": [
    "gmsh.model.add(\"rectangle\")\n",
    "\n",
    "p1 = gmsh.model.occ.addPoint(0, 0, 0)\n",
    "p2 = gmsh.model.occ.addPoint(100, 0, 0)\n",
    "p3 = gmsh.model.occ.addPoint(100, 200, 0)\n",
    "p4 = gmsh.model.occ.addPoint(0, 200, 0)\n",
    "\n",
    "l1 = gmsh.model.occ.addLine(p1, p2)\n",
    "l2 = gmsh.model.occ.addLine(p2, p3)\n",
    "l3 = gmsh.model.occ.addLine(p3, p4)\n",
    "l4 = gmsh.model.occ.addLine(p4, p1)\n",
    "\n",
    "cl1 = gmsh.model.occ.addCurveLoop([l1, l2, l3, l4])\n",
    "\n",
    "sf1 = gmsh.model.occ.addPlaneSurface([cl1])\n",
    "\n",
    "gmsh.model.occ.synchronize()"
   ]
  },
  {
   "cell_type": "code",
   "execution_count": 32,
   "metadata": {},
   "outputs": [
    {
     "name": "stdout",
     "output_type": "stream",
     "text": [
      "Info    : Meshing 1D...\n",
      "Info    : [  0%] Meshing curve 1 (Line)\n",
      "Info    : [ 30%] Meshing curve 2 (Line)\n",
      "Info    : [ 50%] Meshing curve 3 (Line)\n",
      "Info    : [ 80%] Meshing curve 4 (Line)\n",
      "Info    : Done meshing 1D (Wall 0.0130298s, CPU 0.002876s)\n",
      "Info    : 24 nodes 28 elements\n",
      "Info    : Meshing 2D...\n",
      "Info    : Meshing surface 1 (Plane, Frontal-Delaunay for Quads)\n",
      "Info    : Done meshing 2D (Wall 0.0805975s, CPU 0.032784s)\n",
      "Info    : 45 nodes 92 elements\n",
      "Info    : Recombining 2D mesh...\n",
      "Info    : Blossom: 84 internal 21 closed\n",
      "Info    : Blossom recombination completed (Wall 0.014922s, CPU 0.006664s): 32 quads, 0 triangles, 0 invalid quads, 0 quads with Q < 0.1, avg Q = 1, min Q = 1\n",
      "Info    : Done recombining 2D mesh (Wall 0.0150541s, CPU 0.006762s)\n"
     ]
    }
   ],
   "source": [
    "all = gmsh.model.getEntities(0);\n",
    "gmsh.model.mesh.setSize(all, 25) # element size\n",
    "gmsh.model.mesh.setAlgorithm(2, sf1, 8)\n",
    "gmsh.model.mesh.generate(1)\n",
    "gmsh.model.mesh.generate(2)\n",
    "gmsh.model.mesh.recombine()\n",
    "# másodfokú elemekhez:\n",
    "#gmsh.option.setNumber(\"Mesh.SecondOrderIncomplete\", 1)\n",
    "#gmsh.model.mesh.setOrder(2)\n",
    "\n",
    "gmsh.option.setNumber(\"Mesh.Points\", 1)"
   ]
  },
  {
   "cell_type": "code",
   "execution_count": 33,
   "metadata": {},
   "outputs": [
    {
     "data": {
      "text/plain": [
       "(UInt64[0x0000000000000001, 0x0000000000000002, 0x0000000000000003, 0x0000000000000004, 0x0000000000000005, 0x0000000000000006, 0x0000000000000007, 0x0000000000000008, 0x0000000000000009, 0x000000000000000a  …  0x0000000000000024, 0x0000000000000025, 0x0000000000000026, 0x0000000000000027, 0x0000000000000028, 0x0000000000000029, 0x000000000000002a, 0x000000000000002b, 0x000000000000002c, 0x000000000000002d], [0.0, 0.0, 0.0, 100.0, 0.0, 0.0, 100.0, 200.0, 0.0, 0.0  …  0.0, 50.0, 150.0, 0.0, 50.0, 125.0, 0.0, 50.0, 75.0, 0.0], Float64[])"
      ]
     },
     "metadata": {},
     "output_type": "display_data"
    }
   ],
   "source": [
    "nodeTags, nodeCoords, nodeParams = gmsh.model.mesh.getNodes(-1, -1)"
   ]
  },
  {
   "cell_type": "code",
   "execution_count": 34,
   "metadata": {},
   "outputs": [
    {
     "data": {
      "text/plain": [
       "(15, UInt64[0x0000000000000001], 0, 1)"
      ]
     },
     "metadata": {},
     "output_type": "display_data"
    }
   ],
   "source": [
    "gmsh.model.mesh.getElement(1)"
   ]
  },
  {
   "cell_type": "code",
   "execution_count": 35,
   "metadata": {},
   "outputs": [
    {
     "data": {
      "text/plain": [
       "3-element Vector{Int32}:\n",
       "  1\n",
       "  3\n",
       " 15"
      ]
     },
     "metadata": {},
     "output_type": "display_data"
    }
   ],
   "source": [
    "gmsh.model.mesh.getElementTypes()"
   ]
  },
  {
   "cell_type": "code",
   "execution_count": 36,
   "metadata": {},
   "outputs": [
    {
     "data": {
      "text/plain": [
       "3×45 Matrix{Float64}:\n",
       " 0.0  100.0  100.0    0.0  25.0  50.0  …  50.0   50.0   50.0   50.0  50.0\n",
       " 0.0    0.0  200.0  200.0   0.0   0.0     50.0  100.0  150.0  125.0  75.0\n",
       " 0.0    0.0    0.0    0.0   0.0   0.0      0.0    0.0    0.0    0.0   0.0"
      ]
     },
     "metadata": {},
     "output_type": "display_data"
    },
    {
     "data": {
      "text/plain": [
       "32×4 adjoint(::Matrix{Int64}) with eltype Int64:\n",
       " 27  43  39  36\n",
       "  1   5  33  24\n",
       "  2   8  34   7\n",
       " 11  12  38  26\n",
       "  3  15  35  14\n",
       " 24  33  40  23\n",
       " 28  44  43  27\n",
       " 40  41  45  30\n",
       " 29  30  45  42\n",
       " 17   4  18  36\n",
       "  ⋮          \n",
       " 30  22  23  40\n",
       " 34  25  41  31\n",
       " 42  45  37  26\n",
       " 44  28  29  42\n",
       " 38  32  43  44\n",
       " 31  41  40  33\n",
       " 32  35  39  43\n",
       " 25  37  45  41\n",
       " 26  38  44  42"
      ]
     },
     "metadata": {},
     "output_type": "display_data"
    }
   ],
   "source": [
    "entities = gmsh.model.getEntities(2)\n",
    "nodeTags, nodeCoords, nodeParams = gmsh.model.mesh.getNodes(-1, -1)\n",
    "elemTypes, elemTags, elemNodeTags = gmsh.model.mesh.getElements(2, -1)\n",
    "#println(Int64.(elemNodeTags[1]))\n",
    "#display(nodeCoords)\n",
    "xynodes = reshape(nodeCoords, 3, :)\n",
    "display(xynodes)\n",
    "connectivity = (Int64.(reshape(elemNodeTags[1], 4, :)))'\n",
    "display(connectivity)"
   ]
  },
  {
   "cell_type": "code",
   "execution_count": 37,
   "metadata": {},
   "outputs": [
    {
     "data": {
      "text/plain": [
       "1×32 adjoint(::Vector{Int64}) with eltype Int64:\n",
       " 29  30  31  32  33  34  35  36  37  …  52  53  54  55  56  57  58  59  60"
      ]
     },
     "metadata": {},
     "output_type": "display_data"
    }
   ],
   "source": [
    "et = gmsh.model.mesh.getElementsByType(3)\n",
    "convert.(Int64, et[1])'"
   ]
  },
  {
   "cell_type": "code",
   "execution_count": 38,
   "metadata": {},
   "outputs": [
    {
     "data": {
      "text/plain": [
       "3×4 Matrix{Float64}:\n",
       " -0.57735  -0.57735   0.57735  0.57735\n",
       " -0.57735   0.57735  -0.57735  0.57735\n",
       "  0.0       0.0       0.0      0.0"
      ]
     },
     "metadata": {},
     "output_type": "display_data"
    },
    {
     "data": {
      "text/plain": [
       "4-element Vector{Float64}:\n",
       " 1.0\n",
       " 1.0\n",
       " 1.0\n",
       " 1.0"
      ]
     },
     "metadata": {},
     "output_type": "display_data"
    }
   ],
   "source": [
    "xx, ww = gmsh.model.mesh.getIntegrationPoints(3, \"Gauss3\")\n",
    "display(reshape(xx, 3, :))\n",
    "display(ww)"
   ]
  },
  {
   "cell_type": "code",
   "execution_count": 39,
   "metadata": {},
   "outputs": [
    {
     "data": {
      "text/plain": [
       "12-element Vector{Int64}:\n",
       " -1\n",
       " -1\n",
       "  0\n",
       "  1\n",
       " -1\n",
       "  0\n",
       "  1\n",
       "  1\n",
       "  0\n",
       " -1\n",
       "  1\n",
       "  0"
      ]
     },
     "metadata": {},
     "output_type": "display_data"
    }
   ],
   "source": [
    "xx0 = [-1, -1, 0, 1, -1, 0, 1, 1, 0, -1, 1, 0]"
   ]
  },
  {
   "cell_type": "code",
   "execution_count": 40,
   "metadata": {},
   "outputs": [
    {
     "data": {
      "text/plain": [
       "1"
      ]
     },
     "metadata": {},
     "output_type": "display_data"
    },
    {
     "data": {
      "text/plain": [
       "4×4 Matrix{Float64}:\n",
       " 1.0  0.0  0.0  0.0\n",
       " 0.0  1.0  0.0  0.0\n",
       " 0.0  0.0  1.0  0.0\n",
       " 0.0  0.0  0.0  1.0"
      ]
     },
     "metadata": {},
     "output_type": "display_data"
    },
    {
     "data": {
      "text/plain": [
       "1"
      ]
     },
     "metadata": {},
     "output_type": "display_data"
    }
   ],
   "source": [
    "comp, fun, ori = gmsh.model.mesh.getBasisFunctions(3, xx0, \"Lagrange1\")\n",
    "display(comp)\n",
    "display(reshape(fun, 4, :))\n",
    "display(ori)"
   ]
  },
  {
   "cell_type": "code",
   "execution_count": 41,
   "metadata": {},
   "outputs": [
    {
     "data": {
      "text/plain": [
       "3"
      ]
     },
     "metadata": {},
     "output_type": "display_data"
    },
    {
     "data": {
      "text/plain": [
       "12×4 Matrix{Float64}:\n",
       " -0.5  -0.5   0.0   0.0\n",
       " -0.5   0.0   0.0  -0.5\n",
       "  0.0   0.0   0.0   0.0\n",
       "  0.5   0.5   0.0   0.0\n",
       "  0.0  -0.5  -0.5   0.0\n",
       "  0.0   0.0   0.0   0.0\n",
       "  0.0   0.0   0.5   0.5\n",
       "  0.0   0.5   0.5   0.0\n",
       "  0.0   0.0   0.0   0.0\n",
       "  0.0   0.0  -0.5  -0.5\n",
       "  0.5   0.0   0.0   0.5\n",
       "  0.0   0.0   0.0   0.0"
      ]
     },
     "metadata": {},
     "output_type": "display_data"
    },
    {
     "data": {
      "text/plain": [
       "1"
      ]
     },
     "metadata": {},
     "output_type": "display_data"
    }
   ],
   "source": [
    "comp, fun, ori = gmsh.model.mesh.getBasisFunctions(3, xx0, \"GradLagrange1\")\n",
    "display(comp)\n",
    "display(reshape(fun, :, 4))\n",
    "display(ori)"
   ]
  },
  {
   "cell_type": "code",
   "execution_count": 45,
   "metadata": {},
   "outputs": [
    {
     "data": {
      "text/plain": [
       "12×3 adjoint(::Matrix{Float64}) with eltype Float64:\n",
       " 12.5   0.0  0.0\n",
       "  0.0  12.5  0.0\n",
       "  0.0   0.0  1.0\n",
       " 12.5   0.0  0.0\n",
       "  0.0  12.5  0.0\n",
       "  0.0   0.0  1.0\n",
       " 12.5   0.0  0.0\n",
       "  0.0  12.5  0.0\n",
       "  0.0   0.0  1.0\n",
       " 12.5   0.0  0.0\n",
       "  0.0  12.5  0.0\n",
       "  0.0   0.0  1.0"
      ]
     },
     "metadata": {},
     "output_type": "display_data"
    },
    {
     "data": {
      "text/plain": [
       "4-element Vector{Float64}:\n",
       " 156.25\n",
       " 156.25\n",
       " 156.25\n",
       " 156.25"
      ]
     },
     "metadata": {},
     "output_type": "display_data"
    },
    {
     "data": {
      "text/plain": [
       "3×4 Matrix{Float64}:\n",
       " 0.0  25.0  25.0   0.0\n",
       " 0.0   0.0  25.0  25.0\n",
       " 0.0   0.0   0.0   0.0"
      ]
     },
     "metadata": {},
     "output_type": "display_data"
    }
   ],
   "source": [
    "jac, det, coord = gmsh.model.mesh.getJacobian(30, xx0)\n",
    "display(reshape(jac, 3, :)')\n",
    "display(det)\n",
    "display(reshape(coord, 3, :))"
   ]
  },
  {
   "cell_type": "code",
   "execution_count": 46,
   "metadata": {},
   "outputs": [
    {
     "data": {
      "text/plain": [
       "384×3 adjoint(::Matrix{Float64}) with eltype Float64:\n",
       "  12.5   0.0  0.0\n",
       "   0.0  12.5  0.0\n",
       "   0.0   0.0  1.0\n",
       "  12.5   0.0  0.0\n",
       "   0.0  12.5  0.0\n",
       "   0.0   0.0  1.0\n",
       "  12.5   0.0  0.0\n",
       "   0.0  12.5  0.0\n",
       "   0.0   0.0  1.0\n",
       "  12.5   0.0  0.0\n",
       "   ⋮          \n",
       "   0.0  12.5  0.0\n",
       " -12.5   0.0  0.0\n",
       "   0.0  -0.0  1.0\n",
       "   0.0  12.5  0.0\n",
       " -12.5   0.0  0.0\n",
       "   0.0  -0.0  1.0\n",
       "   0.0  12.5  0.0\n",
       " -12.5   0.0  0.0\n",
       "   0.0  -0.0  1.0"
      ]
     },
     "metadata": {},
     "output_type": "display_data"
    },
    {
     "data": {
      "text/plain": [
       "128-element Vector{Float64}:\n",
       " 156.25\n",
       " 156.25\n",
       " 156.25\n",
       " 156.25\n",
       " 156.25\n",
       " 156.25\n",
       " 156.25\n",
       " 156.25\n",
       " 156.25\n",
       " 156.25\n",
       "   ⋮\n",
       " 156.25\n",
       " 156.25\n",
       " 156.25\n",
       " 156.25\n",
       " 156.25\n",
       " 156.25\n",
       " 156.25\n",
       " 156.25\n",
       " 156.25"
      ]
     },
     "metadata": {},
     "output_type": "display_data"
    },
    {
     "data": {
      "text/plain": [
       "3×128 Matrix{Float64}:\n",
       "  25.0   50.0   50.0   25.0  0.0  25.0  …  50.0   75.0   75.0   50.0   50.0\n",
       " 150.0  150.0  175.0  175.0  0.0   0.0     50.0  100.0  125.0  125.0  100.0\n",
       "   0.0    0.0    0.0    0.0  0.0   0.0      0.0    0.0    0.0    0.0    0.0"
      ]
     },
     "metadata": {},
     "output_type": "display_data"
    }
   ],
   "source": [
    "jac, det, coord = gmsh.model.mesh.getJacobians(3, xx0)\n",
    "display(reshape(jac, 3, :)')\n",
    "display(det)\n",
    "display(reshape(coord, 3, :))"
   ]
  },
  {
   "cell_type": "code",
   "execution_count": 43,
   "metadata": {},
   "outputs": [
    {
     "name": "stdout",
     "output_type": "stream",
     "text": [
      "-------------------------------------------------------\n",
      "Version       : 4.11.1\n",
      "License       : GNU General Public License\n",
      "Build OS      : Linux64-sdk\n",
      "Build date    : 20221221\n",
      "Build host    : gmsh.info\n",
      "Build options : 64Bit ALGLIB[contrib] ANN[contrib] Bamg Blas[petsc] Blossom Cgns DIntegration Dlopen DomHex Eigen[contrib] Fltk Gmm[contrib] Hxt Jpeg Kbipack Lapack[petsc] LinuxJoystick MathEx[contrib] Med Mesh Metis[contrib] Mmg Mpeg Netgen ONELAB ONELABMetamodel OpenCASCADE OpenCASCADE-CAF OpenGL OpenMP OptHom PETSc Parser Plugins Png Post QuadMeshingTools QuadTri Solver TetGen/BR Voro++[contrib] WinslowUntangler Zlib\n",
      "FLTK version  : 1.4.0\n",
      "PETSc version : 3.14.4 (real arithmtic)\n",
      "OCC version   : 7.6.1\n",
      "MED version   : 4.1.0\n",
      "Packaged by   : geuzaine\n",
      "Web site      : https://gmsh.info\n",
      "Issue tracker : https://gitlab.onelab.info/gmsh/gmsh/issues\n",
      "-------------------------------------------------------\n"
     ]
    }
   ],
   "source": [
    "gmsh.fltk.run()\n",
    "#gmsh.finalize()"
   ]
  }
 ],
 "metadata": {
  "kernelspec": {
   "display_name": "Julia 1.9.3",
   "language": "julia",
   "name": "julia-1.9"
  },
  "language_info": {
   "file_extension": ".jl",
   "mimetype": "application/julia",
   "name": "julia",
   "version": "1.9.3"
  },
  "orig_nbformat": 4
 },
 "nbformat": 4,
 "nbformat_minor": 2
}
