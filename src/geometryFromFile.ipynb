{
 "cells": [
  {
   "cell_type": "code",
   "execution_count": 1,
   "metadata": {},
   "outputs": [],
   "source": [
    "using LinearAlgebra, SparseArrays\n",
    "import gmsh\n",
    "gmsh.initialize()\n",
    "\n",
    "include(\"FEM.jl\")\n",
    "using .FEM"
   ]
  },
  {
   "cell_type": "code",
   "execution_count": 2,
   "metadata": {},
   "outputs": [
    {
     "data": {
      "text/plain": [
       "Main.FEM.Problem(\"rectangle\", \"PlaneStress\", 200000.0, 0.3, 7.85e-9, 1.0)"
      ]
     },
     "metadata": {},
     "output_type": "display_data"
    }
   ],
   "source": [
    "# Adatok\n",
    "E = 2e5\n",
    "ν = 0.3\n",
    "thickness = 1\n",
    "height = 100\n",
    "base = 100\n",
    "elemSize = 5 #22\n",
    "\n",
    "approxOrder = 2\n",
    "internalNodes = true\n",
    "quadElements = false\n",
    "\n",
    "problem = FEM.Problem(\"rectangle\", type=\"PlaneStress\", E=E, ν=ν, b=thickness)"
   ]
  },
  {
   "cell_type": "code",
   "execution_count": 3,
   "metadata": {},
   "outputs": [
    {
     "name": "stdout",
     "output_type": "stream",
     "text": [
      "Info    : Reading 'rectangle.msh'...\n",
      "Info    : 20 entities\n",
      "Info    : 67 nodes\n",
      "Info    : 11 elements\n",
      "Info    : Done reading 'rectangle.msh'\n"
     ]
    }
   ],
   "source": [
    "gmsh.open(\"rectangle.msh\")"
   ]
  },
  {
   "cell_type": "code",
   "execution_count": 4,
   "metadata": {},
   "outputs": [
    {
     "data": {
      "text/plain": [
       "(\"top\", 0, 1, 1)"
      ]
     },
     "metadata": {},
     "output_type": "display_data"
    }
   ],
   "source": [
    "bc1 = FEM.displacementConstraint(\"bottom\", uy=0)\n",
    "bc2 = FEM.displacementConstraint(\"left\", ux=0)\n",
    "ld1 = FEM.traction(\"top\", fy=1)"
   ]
  },
  {
   "cell_type": "code",
   "execution_count": 5,
   "metadata": {},
   "outputs": [
    {
     "name": "stdout",
     "output_type": "stream",
     "text": [
      "-------------------------------------------------------\n",
      "Version       : 4.12.1-git-38a28aaaf\n",
      "License       : GNU General Public License\n",
      "Build OS      : Linux64-sdk\n",
      "Build date    : 20240111\n",
      "Build host    : gmsh.info\n",
      "Build options : 64Bit ALGLIB[contrib] ANN[contrib] Bamg Blas[petsc] Blossom Cgns DIntegration Dlopen DomHex Eigen[contrib] Fltk Gmm[contrib] Hxt Jpeg Kbipack Lapack[petsc] LinuxJoystick MathEx[contrib] Med Mesh Metis[contrib] Mmg Mpeg Netgen ONELAB ONELABMetamodel OpenCASCADE OpenCASCADE-CAF OpenGL OpenMP OptHom PETSc Parser Plugins Png Post QuadMeshingTools QuadTri Solver TetGen/BR Voro++[contrib] WinslowUntangler Zlib\n",
      "FLTK version  : 1.4.0\n",
      "PETSc version : 3.14.4 (real arithmtic)\n",
      "OCC version   : 7.7.2\n",
      "MED version   : 4.1.0\n",
      "Packaged by   : geuzaine\n",
      "Web site      : https://gmsh.info\n",
      "Issue tracker : https://gitlab.onelab.info/gmsh/gmsh/issues\n",
      "-------------------------------------------------------\n"
     ]
    }
   ],
   "source": [
    "gmsh.fltk.run()"
   ]
  },
  {
   "cell_type": "code",
   "execution_count": 6,
   "metadata": {},
   "outputs": [],
   "source": [
    "# Néhány láthatósági beállítás 0:kikapcs. 1:bekapcs.\n",
    "gmsh.option.setNumber(\"Geometry.CurveLabels\", 0)\n",
    "gmsh.option.setNumber(\"Geometry.Points\", 0)\n",
    "gmsh.option.setNumber(\"Geometry.Curves\", 0)\n",
    "gmsh.option.setNumber(\"Mesh.Points\", 0)\n",
    "gmsh.option.setNumber(\"Mesh.Lines\", 0)\n",
    "gmsh.option.setNumber(\"Mesh.SurfaceEdges\", 0)\n",
    "gmsh.option.setNumber(\"Mesh.NodeLabels\", 0)\n",
    "gmsh.option.setNumber(\"Mesh.LineLabels\", 0)\n",
    "gmsh.option.setNumber(\"Mesh.SurfaceLabels\", 0)"
   ]
  },
  {
   "cell_type": "code",
   "execution_count": 7,
   "metadata": {},
   "outputs": [
    {
     "data": {
      "text/plain": [
       "0×0 SparseMatrixCSC{Float64, Int64} with 0 stored entries"
      ]
     },
     "metadata": {},
     "output_type": "display_data"
    }
   ],
   "source": [
    "K = FEM.stiffnessMatrixPlaneStress(problem)"
   ]
  },
  {
   "cell_type": "code",
   "execution_count": 8,
   "metadata": {},
   "outputs": [
    {
     "name": "stderr",
     "output_type": "stream",
     "text": [
      "Error   : Physical name 'top' does not exist\n"
     ]
    },
    {
     "ename": "ErrorException",
     "evalue": "Physical name 'top' does not exist",
     "output_type": "error",
     "traceback": [
      "Physical name 'top' does not exist\n",
      "\n",
      "Stacktrace:\n",
      " [1] error(s::String)\n",
      "   @ Base ./error.jl:35\n",
      " [2] getEntitiesForPhysicalName(name::String)\n",
      "   @ gmsh.model ~/usr/lib/gmsh.jl:638\n",
      " [3] applyBoundaryConditions!(problem::Main.FEM.Problem, stiffMat::SparseMatrixCSC{Float64, Int64}, massMat::SparseMatrixCSC{Float64, Int64}, dampMat::SparseMatrixCSC{Float64, Int64}, supports::Vector{Tuple{String, Number, Number}}, tractions::Vector{Tuple{String, Int64, Int64, Int64}})\n",
      "   @ Main.FEM ~/Dokumentumok/GitHub/Oktatas/src/FEM.jl:248\n",
      " [4] applyBoundaryConditions!(problem::Main.FEM.Problem, stiffMat::SparseMatrixCSC{Float64, Int64}, supports::Vector{Tuple{String, Number, Number}}, tractions::Vector{Tuple{String, Int64, Int64, Int64}})\n",
      "   @ Main.FEM ~/Dokumentumok/GitHub/Oktatas/src/FEM.jl:222\n",
      " [5] top-level scope\n",
      "   @ ~/Dokumentumok/GitHub/Oktatas/src/geometryFromFile.ipynb:1"
     ]
    }
   ],
   "source": [
    "K, f = FEM.applyBoundaryConditions!(problem, K, [bc1, bc2], [ld1])"
   ]
  },
  {
   "cell_type": "code",
   "execution_count": 9,
   "metadata": {},
   "outputs": [],
   "source": [
    "#det(K)"
   ]
  },
  {
   "cell_type": "code",
   "execution_count": 10,
   "metadata": {},
   "outputs": [
    {
     "ename": "UndefVarError",
     "evalue": "UndefVarError: `f` not defined",
     "output_type": "error",
     "traceback": [
      "UndefVarError: `f` not defined\n",
      "\n",
      "Stacktrace:\n",
      " [1] top-level scope\n",
      "   @ ~/Dokumentumok/GitHub/Oktatas/src/geometryFromFile.ipynb:1"
     ]
    }
   ],
   "source": [
    "q = FEM.solveDisplacement(K, f)"
   ]
  },
  {
   "cell_type": "code",
   "execution_count": 11,
   "metadata": {},
   "outputs": [
    {
     "ename": "UndefVarError",
     "evalue": "UndefVarError: `q` not defined",
     "output_type": "error",
     "traceback": [
      "UndefVarError: `q` not defined\n",
      "\n",
      "Stacktrace:\n",
      " [1] top-level scope\n",
      "   @ ~/Dokumentumok/GitHub/Oktatas/src/geometryFromFile.ipynb:1"
     ]
    }
   ],
   "source": [
    "S = FEM.solveStressPlaneStress(problem, q)"
   ]
  },
  {
   "cell_type": "code",
   "execution_count": 12,
   "metadata": {},
   "outputs": [],
   "source": [
    "gmsh.option.setNumber(\"View.IntervalsType\", 3)\n",
    "gmsh.option.setNumber(\"View.VectorType\", 5)\n",
    "gmsh.option.setString(\"View.Format\", \"%.6g\")"
   ]
  },
  {
   "cell_type": "code",
   "execution_count": 13,
   "metadata": {},
   "outputs": [
    {
     "ename": "UndefVarError",
     "evalue": "UndefVarError: `q` not defined",
     "output_type": "error",
     "traceback": [
      "UndefVarError: `q` not defined\n",
      "\n",
      "Stacktrace:\n",
      " [1] top-level scope\n",
      "   @ ~/Dokumentumok/GitHub/Oktatas/src/geometryFromFile.ipynb:1"
     ]
    }
   ],
   "source": [
    "u = FEM.showResultUvec(problem, q, name=\"uvec\", visible=false)\n",
    "ux = FEM.showResultUX(problem, q, name=\"ux\", visible=false)\n",
    "uy = FEM.showResultUY(problem, q, name=\"uy\", visible=false)\n",
    "s = FEM.showResultS(problem, S, name=\"σ\", visible=false, smooth=false)\n",
    "sx = FEM.showResultSX(problem, S, name=\"σx\", visible=false, smooth=false)\n",
    "sy = FEM.showResultSY(problem, S, name=\"σy\", visible=true, smooth=true)\n",
    "sxy = FEM.showResultSXY(problem, S, name=\"τxy\", visible=false, smooth=false)"
   ]
  },
  {
   "cell_type": "code",
   "execution_count": 14,
   "metadata": {},
   "outputs": [],
   "source": [
    "pp1 = gmsh.model.occ.addPoint(0, height / 2, 0)\n",
    "pp2 = gmsh.model.occ.addPoint(base / 4, height / 2, 0)\n",
    "pp3 = gmsh.model.occ.addPoint(base / 8, height / 4, 0)\n",
    "\n",
    "pl1 = gmsh.model.occ.addLine(pp1, pp2)\n",
    "pl2 = gmsh.model.occ.addSpline([pp1, pp3, pp2])\n",
    "\n",
    "\n",
    "gmsh.model.occ.synchronize()"
   ]
  },
  {
   "cell_type": "code",
   "execution_count": 15,
   "metadata": {},
   "outputs": [
    {
     "ename": "UndefVarError",
     "evalue": "UndefVarError: `sy` not defined",
     "output_type": "error",
     "traceback": [
      "UndefVarError: `sy` not defined\n",
      "\n",
      "Stacktrace:\n",
      " [1] top-level scope\n",
      "   @ ~/Dokumentumok/GitHub/Oktatas/src/geometryFromFile.ipynb:1"
     ]
    }
   ],
   "source": [
    "FEM.plotOnPath(problem, pl1, sy, 100, name=\"σred\", visible=false);"
   ]
  },
  {
   "cell_type": "code",
   "execution_count": 16,
   "metadata": {},
   "outputs": [],
   "source": [
    "#gmsh.option.setNumber(\"PostProcessing.Binary\", 1)\n",
    "#gmsh.option.setNumber(\"PostProcessing.SaveMesh\", 1)\n",
    "\n",
    "#gmsh.write(\"rect.msh\")\n",
    "#gmsh.write(\"rect.opt\")\n",
    "#gmsh.view.write(4, \"rect.pos\")"
   ]
  },
  {
   "cell_type": "code",
   "execution_count": 17,
   "metadata": {},
   "outputs": [
    {
     "name": "stdout",
     "output_type": "stream",
     "text": [
      "-------------------------------------------------------\n",
      "Version       : 4.12.1-git-38a28aaaf\n",
      "License       : GNU General Public License\n",
      "Build OS      : Linux64-sdk\n",
      "Build date    : 20240111\n",
      "Build host    : gmsh.info\n",
      "Build options : 64Bit ALGLIB[contrib] ANN[contrib] Bamg Blas[petsc] Blossom Cgns DIntegration Dlopen DomHex Eigen[contrib] Fltk Gmm[contrib] Hxt Jpeg Kbipack Lapack[petsc] LinuxJoystick MathEx[contrib] Med Mesh Metis[contrib] Mmg Mpeg Netgen ONELAB ONELABMetamodel OpenCASCADE OpenCASCADE-CAF OpenGL OpenMP OptHom PETSc Parser Plugins Png Post QuadMeshingTools QuadTri Solver TetGen/BR Voro++[contrib] WinslowUntangler Zlib\n",
      "FLTK version  : 1.4.0\n",
      "PETSc version : 3.14.4 (real arithmtic)\n",
      "OCC version   : 7.7.2\n",
      "MED version   : 4.1.0\n",
      "Packaged by   : geuzaine\n",
      "Web site      : https://gmsh.info\n",
      "Issue tracker : https://gitlab.onelab.info/gmsh/gmsh/issues\n",
      "-------------------------------------------------------\n"
     ]
    }
   ],
   "source": [
    "gmsh.fltk.run()"
   ]
  },
  {
   "cell_type": "code",
   "execution_count": 18,
   "metadata": {
    "slideshow": {
     "slide_type": ""
    },
    "tags": []
   },
   "outputs": [],
   "source": [
    "gmsh.finalize()"
   ]
  }
 ],
 "metadata": {
  "kernelspec": {
   "display_name": "Julia 1.10.0",
   "language": "julia",
   "name": "julia-1.10"
  },
  "language_info": {
   "file_extension": ".jl",
   "mimetype": "application/julia",
   "name": "julia",
   "version": "1.10.0"
  },
  "varInspector": {
   "cols": {
    "lenName": 16,
    "lenType": 16,
    "lenVar": 40
   },
   "kernels_config": {
    "python": {
     "delete_cmd_postfix": "",
     "delete_cmd_prefix": "del ",
     "library": "var_list.py",
     "varRefreshCmd": "print(var_dic_list())"
    },
    "r": {
     "delete_cmd_postfix": ") ",
     "delete_cmd_prefix": "rm(",
     "library": "var_list.r",
     "varRefreshCmd": "cat(var_dic_list()) "
    }
   },
   "types_to_exclude": [
    "module",
    "function",
    "builtin_function_or_method",
    "instance",
    "_Feature"
   ],
   "window_display": false
  }
 },
 "nbformat": 4,
 "nbformat_minor": 4
}
