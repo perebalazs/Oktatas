{
 "cells": [
  {
   "cell_type": "code",
   "execution_count": 49,
   "metadata": {},
   "outputs": [],
   "source": [
    "import gmsh\n",
    "gmsh.initialize()\n",
    "using LinearAlgebra, SparseArrays"
   ]
  },
  {
   "cell_type": "code",
   "execution_count": 50,
   "metadata": {},
   "outputs": [
    {
     "data": {
      "text/plain": [
       "1"
      ]
     },
     "metadata": {},
     "output_type": "display_data"
    }
   ],
   "source": [
    "# Adatok\n",
    "E = 2e5\n",
    "ν = 0.3\n",
    "ρ = 7.85e-9\n",
    "\n",
    "height = 10\n",
    "base = 100\n",
    "elemSize = 1\n",
    "\n",
    "approxOrder = 1\n",
    "internalNodes = 0\n",
    "quadElements = 1"
   ]
  },
  {
   "cell_type": "code",
   "execution_count": 51,
   "metadata": {},
   "outputs": [],
   "source": [
    "# Geometria megrajzolása\n",
    "gmsh.model.add(\"rectangle\")\n",
    "\n",
    "p1 = gmsh.model.occ.addPoint(0, 0, 0)\n",
    "p2 = gmsh.model.occ.addPoint(base, 0, 0)\n",
    "p3 = gmsh.model.occ.addPoint(base, height, 0)\n",
    "p4 = gmsh.model.occ.addPoint(0, height, 0)\n",
    "\n",
    "l1 = gmsh.model.occ.addLine(p1, p2)\n",
    "l2 = gmsh.model.occ.addLine(p2, p3)\n",
    "l3 = gmsh.model.occ.addLine(p3, p4)\n",
    "l4 = gmsh.model.occ.addLine(p4, p1)\n",
    "\n",
    "cl1 = gmsh.model.occ.addCurveLoop([l1, l2, l3, l4])\n",
    "\n",
    "sf1 = gmsh.model.occ.addPlaneSurface([cl1])\n",
    "\n",
    "gmsh.model.occ.synchronize()"
   ]
  },
  {
   "cell_type": "code",
   "execution_count": 52,
   "metadata": {},
   "outputs": [],
   "source": [
    "# Megfogások és terhelések helyének megadása\n",
    "# az egyes peremfeltételek helyét megadó geometriai objektumokat\n",
    "# csoportokba rendezzük\n",
    "\n",
    "# merev fa az ütközés utáni pillanattól\n",
    "supp = gmsh.model.addPhysicalGroup(1, [l2])\n",
    "gmsh.model.setPhysicalName(1, supp, \"FixRightX\")"
   ]
  },
  {
   "cell_type": "code",
   "execution_count": 53,
   "metadata": {},
   "outputs": [
    {
     "name": "stdout",
     "output_type": "stream",
     "text": [
      "Info    : Meshing 1D...\n",
      "Info    : [  0%] Meshing curve 1 (Line)\n",
      "Info    : [ 30%] Meshing curve 2 (Line)\n",
      "Info    : [ 50%] Meshing curve 3 (Line)\n",
      "Info    : [ 80%] Meshing curve 4 (Line)\n",
      "Info    : Done meshing 1D (Wall 0.000630906s, CPU 0.000515s)\n",
      "Info    : 220 nodes 224 elements\n",
      "Info    : Meshing 2D...\n",
      "Info    : Meshing surface 1 (Plane, Frontal-Delaunay for Quads)\n",
      "Info    : Done meshing 2D (Wall 0.147205s, CPU 0.128746s)\n",
      "Info    : 1111 nodes 2224 elements\n",
      "Info    : Recombining 2D mesh...\n",
      "Info    : Blossom: 2890 internal 216 closed\n",
      "Info    : Blossom recombination completed (Wall 0.0329683s, CPU 0.032243s): 1000 quads, 0 triangles, 0 invalid quads, 0 quads with Q < 0.1, avg Q = 0.999062, min Q = 0.963526\n",
      "Info    : Done recombining 2D mesh (Wall 0.0332397s, CPU 0.03252s)\n"
     ]
    }
   ],
   "source": [
    "# Végeselemes felosztás elvégzése\n",
    "\n",
    "# lekérjük az összes csomópontot\n",
    "all = gmsh.model.getEntities(0)\n",
    "# megadjuk, hogy a csomóponthoz rendelt eleméret mekkora legyen\n",
    "gmsh.model.mesh.setSize(all, elemSize)\n",
    "# kiválasztjuk a 8-as számú hálózó algoritmust a 2D-s sf1 felülethez\n",
    "gmsh.model.mesh.setAlgorithm(2, sf1, 8)\n",
    "# legeneráljuk a hálót a felület kontúrjához (1D-s)\n",
    "gmsh.model.mesh.generate(1)\n",
    "# legeneráljuk a hálót a felülethez (2D-s)\n",
    "gmsh.model.mesh.generate(2)\n",
    "# a legenerált háromszög elemeket négyszög elemekké alakítjuk\n",
    "if quadElements == 1\n",
    "    gmsh.model.mesh.recombine()\n",
    "end\n",
    "# másodfokú elemekhez:\n",
    "# belső csomópontok használata\n",
    "if internalNodes == 1\n",
    "    gmsh.option.setNumber(\"Mesh.SecondOrderIncomplete\", 0) # 0:belső csomópontokkal 1:csak éleken lévő csomópontokkal\n",
    "else\n",
    "    gmsh.option.setNumber(\"Mesh.SecondOrderIncomplete\", 1) # 0:belső csomópontokkal 1:csak éleken lévő csomópontokkal\n",
    "end\n",
    "# közelítés fokszáma (1-től 5-ig)\n",
    "gmsh.model.mesh.setOrder(approxOrder)"
   ]
  },
  {
   "cell_type": "code",
   "execution_count": 54,
   "metadata": {},
   "outputs": [],
   "source": [
    "# Néhány láthatósági beállítás 0:kikapcs. 1:bekapcs.\n",
    "gmsh.option.setNumber(\"Geometry.CurveLabels\", 0)\n",
    "gmsh.option.setNumber(\"Mesh.Points\", 0)\n",
    "gmsh.option.setNumber(\"Mesh.Lines\", 0)\n",
    "gmsh.option.setNumber(\"Mesh.SurfaceEdges\", 1)\n",
    "gmsh.option.setNumber(\"Mesh.NodeLabels\", 0)\n",
    "gmsh.option.setNumber(\"Mesh.LineLabels\", 0)\n",
    "gmsh.option.setNumber(\"Mesh.SurfaceLabels\", 0)"
   ]
  },
  {
   "cell_type": "code",
   "execution_count": 55,
   "metadata": {},
   "outputs": [
    {
     "data": {
      "text/plain": [
       "3×3 Matrix{Float64}:\n",
       " 2.69231e5  1.15385e5      0.0\n",
       " 1.15385e5  2.69231e5      0.0\n",
       " 0.0        0.0        76923.1"
      ]
     },
     "metadata": {},
     "output_type": "display_data"
    }
   ],
   "source": [
    "# Anyagállandók mátrixa SA feladathoz\n",
    "D = E / ((1 + ν) * (1 - 2ν)) * [1-ν ν 0; ν 1-ν 0; 0 0 (1-2ν)/2]"
   ]
  },
  {
   "cell_type": "code",
   "execution_count": 56,
   "metadata": {},
   "outputs": [
    {
     "data": {
      "text/plain": [
       "3×3 Matrix{Float64}:\n",
       "     2.1978e5  65934.1           0.0\n",
       " 65934.1           2.1978e5      0.0\n",
       "     0.0           0.0       76923.1"
      ]
     },
     "metadata": {},
     "output_type": "display_data"
    }
   ],
   "source": [
    "# Anyagállandók mátrixa ÁSF feladathoz\n",
    "D = E / (1 - ν^2) * [1 ν 0; ν 1 0; 0 0 (1-ν)/2]"
   ]
  },
  {
   "cell_type": "code",
   "execution_count": 57,
   "metadata": {},
   "outputs": [
    {
     "data": {
      "text/plain": [
       "2222×2222 SparseMatrixCSC{Float64, Int64} with 37324 stored entries:\n",
       "⎡⠻⣦⡀⠀⠃⠀⠀⠐⡆⠘⣇⠀⢧⠀⠀⠀⠀⠀⠀⠀⠀⠀⠀⠀⠀⠀⠀⠀⠀⠀⠀⠀⠀⠀⠀⠀⠀⠀⠀⠀⎤\n",
       "⎢⠀⠈⠻⣦⡀⠀⠀⠀⢳⠀⢹⡀⠈⢧⠀⠀⠀⠀⠀⠀⠀⠀⠀⠀⠀⠀⠀⠀⠀⠀⠀⠀⠀⠀⠀⠀⠀⠀⠀⠀⎥\n",
       "⎢⠉⠀⠀⠈⠻⣦⡀⠀⠘⡎⠉⡇⡀⠈⢧⢀⠀⠀⠀⠀⠀⠀⠀⠀⠀⠀⠀⠀⠀⠀⠀⠀⠀⠀⠀⠀⠀⠀⠀⠀⎥\n",
       "⎢⢀⠀⠀⠀⠀⠈⠻⣦⡀⢳⡀⢹⠁⠀⠈⢧⠀⠀⠀⠀⠀⠀⠀⠀⠀⠀⠀⠀⠀⠀⠀⠀⠀⠀⠀⠀⠀⠀⠀⠀⎥\n",
       "⎢⣈⠉⠙⠒⡲⠤⢤⣈⠑⣤⡁⣾⡏⠓⡦⣬⠻⣬⣛⡢⡂⢈⢸⢤⡠⠀⠀⠀⠀⠀⠀⠀⠀⠀⠀⠀⠀⠀⠀⠀⎥\n",
       "⎢⠉⠙⠓⠲⠧⠤⣄⣈⣡⣬⡻⣮⡝⠲⣥⣸⠻⡉⢙⣦⡇⡘⡮⣄⣰⠀⠀⡀⠀⠀⠀⠀⠀⠀⠀⠀⠀⠀⠀⠀⎥\n",
       "⎢⠉⠓⠦⣄⡀⠈⠁⠀⢯⠉⢳⡉⠻⢆⠉⠸⣮⠹⡽⡍⠅⠹⣎⠀⠩⠀⠁⠉⠀⠀⠀⠀⠀⠀⠀⠀⠀⠀⠀⠀⎥\n",
       "⎢⠀⠀⠀⠀⠉⢓⠦⣄⡈⣯⣁⣻⣃⡀⠑⢄⢘⣆⣉⠹⣇⣀⠋⢧⣀⠀⡀⠀⣀⡀⠀⠀⠀⠀⠀⠀⠀⠀⠀⠀⎥\n",
       "⎢⠀⠀⠀⠀⠀⠀⠀⠀⡛⣦⡟⠢⣎⡛⠲⢴⣑⢜⣧⠢⣞⣯⢳⠦⣟⠦⣂⡶⠎⡇⠲⠄⠠⠀⠀⠀⠀⠀⠀⠀⎥\n",
       "⎢⠀⠀⠀⠀⠀⠀⠀⠀⠻⡸⠳⣴⡗⠯⣇⡘⠩⡛⠿⣧⡫⡽⣾⣀⢻⠀⡺⣥⡶⢧⣄⠀⠀⠀⠀⠀⠀⠀⠀⠀⎥\n",
       "⎢⠀⠀⠀⠀⠀⠀⠀⠀⡈⢈⣉⠩⣅⡁⠉⢹⡾⣽⣏⡮⣿⣿⣾⠍⡿⠘⣆⡧⣳⣿⡌⠳⢾⠀⠄⠴⡆⠀⠀⠀⎥\n",
       "⎢⠀⠀⠀⠀⠀⠀⠀⠀⠒⣖⠊⢯⠊⠙⠯⣄⠹⡖⠚⢻⡞⠟⠑⢄⠒⣆⠊⠿⡏⠳⢦⡀⠰⠀⠀⠀⠀⠀⠀⠀⎥\n",
       "⎢⠀⠀⠀⠀⠀⠀⠀⠀⠀⠊⠐⠚⠃⠂⠀⠘⠻⡝⠛⠒⣛⠋⠸⢤⣑⢜⠛⡲⣅⢳⢦⣙⡸⣴⣄⠙⢦⢤⣀⡄⎥\n",
       "⎢⠀⠀⠀⠀⠀⠀⠀⠀⠀⠀⠀⠠⡅⠀⠀⠈⢨⡼⠞⣮⠬⡽⣮⡄⢻⡠⠵⣧⡿⢭⣄⠻⢯⢀⡍⠳⣍⡀⠉⠅⎥\n",
       "⎢⠀⠀⠀⠀⠀⠀⠀⠀⠀⠀⠀⠀⠀⠀⠀⠸⠮⠥⠼⣏⣽⣾⢯⡉⢥⣙⡟⣏⡿⣯⣌⠙⢮⢀⣁⣿⣭⢉⣀⣄⎥\n",
       "⎢⠀⠀⠀⠀⠀⠀⠀⠀⠀⠀⠀⠀⠀⠀⠀⠀⠘⠆⠀⠙⢦⡉⠈⠳⣌⢳⣤⡙⣆⠙⠛⢄⠨⠿⣧⣤⢿⢳⡤⣄⎥\n",
       "⎢⠀⠀⠀⠀⠀⠀⠀⠀⠀⠀⠀⠀⠀⠀⠀⠀⠀⠂⠀⠀⠚⠓⠐⠂⢒⣮⠋⢓⠊⢓⣦⡆⢱⣶⣼⡟⣲⣴⣿⣿⎥\n",
       "⎢⠀⠀⠀⠀⠀⠀⠀⠀⠀⠀⠀⠀⠀⠀⠀⠀⠀⠀⠀⠀⢀⡅⠀⠀⣄⠙⢧⡉⣥⣼⠉⣿⣶⠿⣛⣼⣾⢻⣿⣏⎥\n",
       "⎢⠀⠀⠀⠀⠀⠀⠀⠀⠀⠀⠀⠀⠀⠀⠀⠀⠀⠀⠀⠀⠈⠉⠀⠀⠈⣗⠃⠹⡇⢛⢿⣓⢘⣾⣾⣛⣻⣾⣾⡿⎥\n",
       "⎣⠀⠀⠀⠀⠀⠀⠀⠀⠀⠀⠀⠀⠀⠀⠀⠀⠀⠀⠀⠀⠀⠀⠀⠀⠀⠼⠇⠄⠀⢼⠀⢯⣿⣿⡿⢿⣾⡿⣿⣿⎦"
      ]
     },
     "metadata": {},
     "output_type": "display_data"
    }
   ],
   "source": [
    "# Merevségi mátrix felépítése\n",
    "# csomópontok sorszámának lekérése\n",
    "nodeTags, nodeCoords, nodeParams = gmsh.model.mesh.getNodes(-1, -1)\n",
    "# végeselemek típusának, sorszámának és kapcsolati mátrixának (connectivity matrix) lekérése\n",
    "elemTypes, elemTags, elemNodeTags = gmsh.model.mesh.getElements(2, -1)\n",
    "# a lefoglalandó memória méretének becslése\n",
    "lengthOfIJV = sum([(div(length(elemNodeTags[i]), length(elemTags[i])) * 2)^2 * length(elemTags[i]) for i in 1:length(elemTags)])\n",
    "nn = []\n",
    "I = []\n",
    "J = []\n",
    "V = []\n",
    "V = convert(Vector{Float64}, V)\n",
    "sizehint!(I, lengthOfIJV)\n",
    "sizehint!(J, lengthOfIJV)\n",
    "sizehint!(V, lengthOfIJV)\n",
    "for i in 1:length(elemTypes)\n",
    "    et = elemTypes[i]\n",
    "    elementName, dim, order, numNodes::Int64, localNodeCoord, numPrimaryNodes = gmsh.model.mesh.getElementProperties(et)\n",
    "    intPoints, intWeights = gmsh.model.mesh.getIntegrationPoints(et, \"Gauss\" * string(2approxOrder))\n",
    "    numIntPoints = length(intWeights)\n",
    "    comp, dfun, ori = gmsh.model.mesh.getBasisFunctions(et, intPoints, \"GradLagrange\")\n",
    "    ∇h = reshape(dfun, :, numIntPoints)\n",
    "    nnet = zeros(Int, length(elemTags[i]), numNodes)\n",
    "    invJac = zeros(3, 3numIntPoints)\n",
    "    Iidx = zeros(Int, numNodes * 2, numNodes * 2)\n",
    "    Jidx = zeros(Int, numNodes * 2, numNodes * 2)\n",
    "    for k in 1:numNodes*2, l in 1:numNodes*2\n",
    "        Iidx[k, l] = l\n",
    "        Jidx[k, l] = k\n",
    "    end\n",
    "    ∂h = zeros(3, numNodes * numIntPoints) # ∂h-t mindig csak felül kellene írni, nem kell újra és újra memóriát foglalni neki.\n",
    "    B = zeros(3 * numIntPoints, 2 * numNodes) # B-t mindig csak felül kellene írni?\n",
    "    K1 = zeros(2 * numNodes, 2 * numNodes)\n",
    "    nn2 = zeros(Int, 2 * numNodes)\n",
    "    for j in 1:length(elemTags[i])\n",
    "        elem = elemTags[i][j]\n",
    "        for k in 1:numNodes\n",
    "            nnet[j, k] = elemNodeTags[i][(j-1)*numNodes+k]\n",
    "        end\n",
    "        jac, jacDet, coord = gmsh.model.mesh.getJacobian(elem, intPoints)\n",
    "        Jac = reshape(jac, 3, :)\n",
    "        for k in 1:numIntPoints\n",
    "            invJac[1:3, 3*k-2:3*k] = inv(Jac[1:3, 3*k-2:3*k])'\n",
    "        end\n",
    "        #∂h = zeros(3, numNodes * numIntPoints) # ∂h-t mindig csak felül kellene írni, nem kell újra és újra memóriát foglalni neki.\n",
    "        ∂h *= 0\n",
    "        for k in 1:numIntPoints, l in 1:numNodes\n",
    "            ∂h[1:2, (k-1)*numNodes+l] = invJac[1:2, k*3-2:k*3-1] * ∇h[l*3-2:l*3-1, k] #??????????????????\n",
    "        end\n",
    "        #B = zeros(3 * numIntPoints, 2 * numNodes) # B-t mindig csak felül kellene írni?\n",
    "        B *= 0\n",
    "        for k in 1:numIntPoints, l in 1:numNodes\n",
    "            B[k*3-0, l*2-0] = B[k*3-2, l*2-1] = ∂h[1, (k-1)*numNodes+l]\n",
    "            B[k*3-0, l*2-1] = B[k*3-1, l*2-0] = ∂h[2, (k-1)*numNodes+l]\n",
    "        end\n",
    "        #K1 = zeros(2 * numNodes, 2 * numNodes)\n",
    "        K1 *= 0\n",
    "        for k in 1:numIntPoints\n",
    "            B1 = B[k*3-2:k*3, 1:2*numNodes]\n",
    "            K1 += B1' * D * B1 * jacDet[k] * intWeights[k]\n",
    "        end\n",
    "        nn2[1:2:2*numNodes] = 2 * nnet[j, 1:numNodes] .- 1\n",
    "        nn2[2:2:2*numNodes] = 2 * nnet[j, 1:numNodes]\n",
    "        append!(I, nn2[Iidx[:]])\n",
    "        append!(J, nn2[Jidx[:]])\n",
    "        append!(V, K1[:])\n",
    "    end\n",
    "    push!(nn, nnet)\n",
    "end\n",
    "K = sparse(I, J, V)\n",
    "K0 = copy(K)\n",
    "display(K)"
   ]
  },
  {
   "cell_type": "code",
   "execution_count": 61,
   "metadata": {},
   "outputs": [
    {
     "data": {
      "text/plain": [
       "2222×2222 SparseMatrixCSC{Float64, Int64} with 37324 stored entries:\n",
       "⎡⠻⣦⡀⠀⠃⠀⠀⠐⡆⠘⣇⠀⢧⠀⠀⠀⠀⠀⠀⠀⠀⠀⠀⠀⠀⠀⠀⠀⠀⠀⠀⠀⠀⠀⠀⠀⠀⠀⠀⠀⎤\n",
       "⎢⠀⠈⠻⣦⡀⠀⠀⠀⢳⠀⢹⡀⠈⢧⠀⠀⠀⠀⠀⠀⠀⠀⠀⠀⠀⠀⠀⠀⠀⠀⠀⠀⠀⠀⠀⠀⠀⠀⠀⠀⎥\n",
       "⎢⠉⠀⠀⠈⠻⣦⡀⠀⠘⡎⠉⡇⡀⠈⢧⢀⠀⠀⠀⠀⠀⠀⠀⠀⠀⠀⠀⠀⠀⠀⠀⠀⠀⠀⠀⠀⠀⠀⠀⠀⎥\n",
       "⎢⢀⠀⠀⠀⠀⠈⠻⣦⡀⢳⡀⢹⠁⠀⠈⢧⠀⠀⠀⠀⠀⠀⠀⠀⠀⠀⠀⠀⠀⠀⠀⠀⠀⠀⠀⠀⠀⠀⠀⠀⎥\n",
       "⎢⣈⠉⠙⠒⡲⠤⢤⣈⠑⣤⡁⣾⡏⠓⡦⣬⠻⣬⣛⡢⡂⢈⢸⢤⡠⠀⠀⠀⠀⠀⠀⠀⠀⠀⠀⠀⠀⠀⠀⠀⎥\n",
       "⎢⠉⠙⠓⠲⠧⠤⣄⣈⣡⣬⡻⣮⡝⠲⣥⣸⠻⡉⢙⣦⡇⡘⡮⣄⣰⠀⠀⡀⠀⠀⠀⠀⠀⠀⠀⠀⠀⠀⠀⠀⎥\n",
       "⎢⠉⠓⠦⣄⡀⠈⠁⠀⢯⠉⢳⡉⠻⢆⠉⠸⣮⠹⡽⡍⠅⠹⣎⠀⠩⠀⠁⠉⠀⠀⠀⠀⠀⠀⠀⠀⠀⠀⠀⠀⎥\n",
       "⎢⠀⠀⠀⠀⠉⢓⠦⣄⡈⣯⣁⣻⣃⡀⠑⢄⢘⣆⣉⠹⣇⣀⠋⢧⣀⠀⡀⠀⣀⡀⠀⠀⠀⠀⠀⠀⠀⠀⠀⠀⎥\n",
       "⎢⠀⠀⠀⠀⠀⠀⠀⠀⡛⣦⡟⠢⣎⡛⠲⢴⣑⢜⣧⠢⣞⣯⢳⠦⣟⠦⣂⡶⠎⡇⠲⠄⠠⠀⠀⠀⠀⠀⠀⠀⎥\n",
       "⎢⠀⠀⠀⠀⠀⠀⠀⠀⠻⡸⠳⣴⡗⠯⣇⡘⠩⡛⠿⣧⡫⡽⣾⣀⢻⠀⡺⣥⡶⢧⣄⠀⠀⠀⠀⠀⠀⠀⠀⠀⎥\n",
       "⎢⠀⠀⠀⠀⠀⠀⠀⠀⡈⢈⣉⠩⣅⡁⠉⢹⡾⣽⣏⡮⣿⣿⣾⠍⡿⠘⣆⡧⣳⣿⡌⠳⢾⠀⠄⠴⡆⠀⠀⠀⎥\n",
       "⎢⠀⠀⠀⠀⠀⠀⠀⠀⠒⣖⠊⢯⠊⠙⠯⣄⠹⡖⠚⢻⡞⠟⠑⢄⠒⣆⠊⠿⡏⠳⢦⡀⠰⠀⠀⠀⠀⠀⠀⠀⎥\n",
       "⎢⠀⠀⠀⠀⠀⠀⠀⠀⠀⠊⠐⠚⠃⠂⠀⠘⠻⡝⠛⠒⣛⠋⠸⢤⣑⢜⠛⡲⣅⢳⢦⣙⡸⣴⣄⠙⢦⢤⣀⡄⎥\n",
       "⎢⠀⠀⠀⠀⠀⠀⠀⠀⠀⠀⠀⠠⡅⠀⠀⠈⢨⡼⠞⣮⠬⡽⣮⡄⢻⡠⠵⣧⡿⢭⣄⠻⢯⢀⡍⠳⣍⡀⠉⠅⎥\n",
       "⎢⠀⠀⠀⠀⠀⠀⠀⠀⠀⠀⠀⠀⠀⠀⠀⠸⠮⠥⠼⣏⣽⣾⢯⡉⢥⣙⡟⣏⡿⣯⣌⠙⢮⢀⣁⣿⣭⢉⣀⣄⎥\n",
       "⎢⠀⠀⠀⠀⠀⠀⠀⠀⠀⠀⠀⠀⠀⠀⠀⠀⠘⠆⠀⠙⢦⡉⠈⠳⣌⢳⣤⡙⣆⠙⠛⢄⠨⠿⣧⣤⢿⢳⡤⣄⎥\n",
       "⎢⠀⠀⠀⠀⠀⠀⠀⠀⠀⠀⠀⠀⠀⠀⠀⠀⠀⠂⠀⠀⠚⠓⠐⠂⢒⣮⠋⢓⠊⢓⣦⡆⢱⣶⣼⡟⣲⣴⣿⣿⎥\n",
       "⎢⠀⠀⠀⠀⠀⠀⠀⠀⠀⠀⠀⠀⠀⠀⠀⠀⠀⠀⠀⠀⢀⡅⠀⠀⣄⠙⢧⡉⣥⣼⠉⣿⣶⠿⣛⣼⣾⢻⣿⣏⎥\n",
       "⎢⠀⠀⠀⠀⠀⠀⠀⠀⠀⠀⠀⠀⠀⠀⠀⠀⠀⠀⠀⠀⠈⠉⠀⠀⠈⣗⠃⠹⡇⢛⢿⣓⢘⣾⣾⣛⣻⣾⣾⡿⎥\n",
       "⎣⠀⠀⠀⠀⠀⠀⠀⠀⠀⠀⠀⠀⠀⠀⠀⠀⠀⠀⠀⠀⠀⠀⠀⠀⠀⠼⠇⠄⠀⢼⠀⢯⣿⣿⡿⢿⣾⡿⣿⣿⎦"
      ]
     },
     "metadata": {},
     "output_type": "display_data"
    }
   ],
   "source": [
    "# Tömeg mátrix felépítése\n",
    "# csomópontok sorszámának lekérése\n",
    "nodeTags, nodeCoords, nodeParams = gmsh.model.mesh.getNodes(-1, -1)\n",
    "# végeselemek típusának, sorszámának és kapcsolati mátrixának (connectivity matrix) lekérése\n",
    "elemTypes, elemTags, elemNodeTags = gmsh.model.mesh.getElements(2, -1)\n",
    "# a lefoglalandó memória méretének becslése\n",
    "lengthOfIJV = sum([(div(length(elemNodeTags[i]), length(elemTags[i])) * 2)^2 * length(elemTags[i]) for i in 1:length(elemTags)])\n",
    "nn = []\n",
    "I = []\n",
    "J = []\n",
    "V = [] # Ezt vajon nem kellene átnevezni másnak? Ebben voltak a K elemei is... A 'sparse' parancs készített róla másolatot?\n",
    "V = convert(Vector{Float64}, V)\n",
    "sizehint!(I, lengthOfIJV)\n",
    "sizehint!(J, lengthOfIJV)\n",
    "sizehint!(V, lengthOfIJV)\n",
    "for i in 1:length(elemTypes)\n",
    "    et = elemTypes[i]\n",
    "    elementName, dim, order, numNodes::Int64, localNodeCoord, numPrimaryNodes = gmsh.model.mesh.getElementProperties(et)\n",
    "    intPoints, intWeights = gmsh.model.mesh.getIntegrationPoints(et, \"Gauss\" * string(2approxOrder))\n",
    "    numIntPoints = length(intWeights)\n",
    "    comp, fun, ori = gmsh.model.mesh.getBasisFunctions(et, intPoints, \"Lagrange\")\n",
    "    h = reshape(fun, :, numIntPoints)\n",
    "    #comp, dfun, ori = gmsh.model.mesh.getBasisFunctions(et, intPoints, \"GradLagrange\")\n",
    "    #∇h = reshape(dfun, :, numIntPoints)\n",
    "    nnet = zeros(Int, length(elemTags[i]), numNodes)\n",
    "    #invJac = zeros(3, 3numIntPoints)\n",
    "    Iidx = zeros(Int, numNodes * 2, numNodes * 2)\n",
    "    Jidx = zeros(Int, numNodes * 2, numNodes * 2)\n",
    "    for k in 1:numNodes*2, l in 1:numNodes*2\n",
    "        Iidx[k, l] = l\n",
    "        Jidx[k, l] = k\n",
    "    end\n",
    "    nn2 = zeros(Int, 2 * numNodes)\n",
    "    H = zeros(2 * numIntPoints, 2 * numNodes)\n",
    "    for k in 1:numIntPoints, l in 1:numNodes\n",
    "        H[k*2-1, l*2-1] = H[k*2-0, l*2-0] = h[(k-1)*numNodes+l]\n",
    "    end\n",
    "    M1 = zeros(2 * numNodes, 2 * numNodes)\n",
    "    for j in 1:length(elemTags[i])\n",
    "        elem = elemTags[i][j]\n",
    "        for k in 1:numNodes\n",
    "            nnet[j, k] = elemNodeTags[i][(j-1)*numNodes+k]\n",
    "        end\n",
    "        jac, jacDet, coord = gmsh.model.mesh.getJacobian(elem, intPoints)\n",
    "        #Jac = reshape(jac, 3, :)\n",
    "        #for k in 1:numIntPoints\n",
    "        #    invJac[1:3, 3*k-2:3*k] = inv(Jac[1:3, 3*k-2:3*k])'\n",
    "        #end\n",
    "        #∂h = zeros(3, numNodes * numIntPoints)\n",
    "        #for k in 1:numIntPoints, l in 1:numNodes\n",
    "        #    ∂h[1:2, (k-1)*numNodes+l] = invJac[1:2, k*3-2:k*3-1] * ∇h[l*3-2:l*3-1, k] #??????????????????\n",
    "        #end\n",
    "        #B = zeros(3 * numIntPoints, 2 * numNodes)\n",
    "        #for k in 1:numIntPoints, l in 1:numNodes\n",
    "        #    B[k*3-0, l*2-0] = B[k*3-2, l*2-1] = ∂h[1, (k-1)*numNodes+l]\n",
    "        #    B[k*3-0, l*2-1] = B[k*3-1, l*2-0] = ∂h[2, (k-1)*numNodes+l]\n",
    "        #end\n",
    "        #H = zeros(2 * numIntPoints, 2 * numNodes)\n",
    "        #for k in 1:numIntPoints, l in 1:numNodes\n",
    "        #    H[k*2-1, l*2-1] = H[k*2-0, l*2-0] = h[(k-1)*numNodes+l]\n",
    "        #end\n",
    "        #M1 = zeros(2 * numNodes, 2 * numNodes)\n",
    "        M1 *= 0\n",
    "        for k in 1:numIntPoints\n",
    "            H1 = H[k*2-1:k*2, 1:2*numNodes]\n",
    "            M1 += H1' * H1 * jacDet[k] * intWeights[k]\n",
    "        end\n",
    "        M1 *= ρ\n",
    "        nn2[1:2:2*numNodes] = 2 * nnet[j, 1:numNodes] .- 1\n",
    "        nn2[2:2:2*numNodes] = 2 * nnet[j, 1:numNodes]\n",
    "        append!(I, nn2[Iidx[:]])\n",
    "        append!(J, nn2[Jidx[:]])\n",
    "        append!(V, M1[:])\n",
    "    end\n",
    "    push!(nn, nnet)\n",
    "end\n",
    "M = sparse(I, J, V)\n",
    "M0 = copy(M)\n",
    "display(M)"
   ]
  },
  {
   "cell_type": "code",
   "execution_count": 64,
   "metadata": {},
   "outputs": [
    {
     "data": {
      "text/plain": [
       "1-element Vector{Float64}:\n",
       " 3.3132019640894e14"
      ]
     },
     "metadata": {},
     "output_type": "display_data"
    }
   ],
   "source": [
    "#using SymRCM\n",
    "using Arpack\n",
    "#perm = symrcm(K)\n",
    "#Kp = K[perm, perm]\n",
    "#Mp = M[perm, perm]\n",
    "#ω², ϕ = Arpack.eigs(Kp, Mp; nev=1, which=:LM)\n",
    "ω², ϕ = Arpack.eigs(K, M; nev=1, which=:LM)\n",
    "\n",
    "#if norm(Kp * ϕ - λ²[1] * Mp * ϕ) > 1e-6\n",
    "if norm(K * ϕ - ω²[1] * M * ϕ) > 1e-6\n",
    "    error(\"Túl nagy a hiba a legnagyobb sajátérték számításánál\")\n",
    "end\n",
    "display(real(ω²))"
   ]
  },
  {
   "cell_type": "code",
   "execution_count": 33,
   "metadata": {},
   "outputs": [
    {
     "data": {
      "text/plain": [
       "2222-element Vector{Float64}:\n",
       " 0.0\n",
       " 0.0\n",
       " 0.0\n",
       " 0.0\n",
       " 0.0\n",
       " 0.0\n",
       " 0.0\n",
       " 0.0\n",
       " 0.0\n",
       " 0.0\n",
       " ⋮\n",
       " 0.0\n",
       " 0.0\n",
       " 0.0\n",
       " 0.0\n",
       " 0.0\n",
       " 0.0\n",
       " 0.0\n",
       " 0.0\n",
       " 0.0"
      ]
     },
     "metadata": {},
     "output_type": "display_data"
    }
   ],
   "source": [
    "# Teher vektor felépítése\n",
    "p = [0, 1]\n",
    "dof, dof = size(K)\n",
    "f = zeros(dof)\n",
    "#tags = gmsh.model.getEntitiesForPhysicalGroup(1, trac1)\n",
    "tags = []\n",
    "for i ∈ 1:length(tags)\n",
    "    elementTypes, elementTags, elemNodeTags = gmsh.model.mesh.getElements(1, tags[i])\n",
    "    if length(elementTypes) != 1\n",
    "        error(\"A peremen nem csak egyfajta végeselem van!\")\n",
    "    end\n",
    "    #elements = elementTags[1]\n",
    "    elementName, dim, order, numNodes::Int64, localNodeCoord, numPrimaryNodes = gmsh.model.mesh.getElementProperties(elementTypes[1])\n",
    "    nnoe = reshape(elemNodeTags[1], numNodes, :)'\n",
    "    intPoints, intWeights = gmsh.model.mesh.getIntegrationPoints(elementTypes[1], \"Gauss\" * string(approxOrder))\n",
    "    numIntPoints = length(intWeights)\n",
    "    comp, fun, ori = gmsh.model.mesh.getBasisFunctions(elementTypes[1], intPoints, \"Lagrange\")\n",
    "    h = reshape(fun, :, numIntPoints)\n",
    "    comp, dfun, ori = gmsh.model.mesh.getBasisFunctions(elementTypes[1], intPoints, \"GradLagrange\")\n",
    "    ∇h = reshape(dfun, :, numIntPoints)\n",
    "    H = zeros(2 * numIntPoints, 2 * numNodes)\n",
    "    for j in 1:numIntPoints\n",
    "        for k in 1:numNodes\n",
    "            H[j*2-1, k*2-1] = h[k, j]\n",
    "            H[j*2-0, k*2-0] = h[k, j]\n",
    "        end\n",
    "    end\n",
    "    f1 = zeros(2 * numNodes)\n",
    "    nn2 = zeros(Int, 2 * numNodes)\n",
    "    for l in 1:length(elementTags[1])\n",
    "        elem = elementTags[1][l]\n",
    "        jac, jacDet, coord = gmsh.model.mesh.getJacobian(elem, intPoints)\n",
    "        Jac = reshape(jac, 3, :)\n",
    "        f1 *= 0\n",
    "        for j in 1:numIntPoints\n",
    "            H1 = H[j*2-1:j*2, 1:2*numNodes]\n",
    "            Ja = √((Jac[1, 3*j-2])^2 + (Jac[2, 3*j-2])^2)\n",
    "            f1 += H1' * p * Ja * intWeights[j]\n",
    "        end\n",
    "        nn2[1:2:2*numNodes] = 2 * nnoe[l, 1:numNodes] .- 1\n",
    "        nn2[2:2:2*numNodes] = 2 * nnoe[l, 1:numNodes]\n",
    "        f[nn2] += f1\n",
    "    end\n",
    "end\n",
    "display(f)"
   ]
  },
  {
   "cell_type": "code",
   "execution_count": 34,
   "metadata": {},
   "outputs": [
    {
     "ename": "UndefVarError",
     "evalue": "UndefVarError: `supp1` not defined",
     "output_type": "error",
     "traceback": [
      "UndefVarError: `supp1` not defined\n",
      "\n",
      "Stacktrace:\n",
      " [1] top-level scope\n",
      "   @ ~/Dokumentumok/GitHub/Oktatas/src/FEM-2Dt.ipynb:1"
     ]
    }
   ],
   "source": [
    "nodeTags, coord = gmsh.model.mesh.getNodesForPhysicalGroup(1, supp1)\n",
    "nodeTags *= 2\n",
    "for i ∈ nodeTags\n",
    "    K[i, :] .= 0\n",
    "    K[:, i] .= 0\n",
    "    K[i, i] = 1\n",
    "    f[i] = 0\n",
    "end\n",
    "dropzeros!(K)"
   ]
  },
  {
   "cell_type": "code",
   "execution_count": 35,
   "metadata": {},
   "outputs": [
    {
     "ename": "UndefVarError",
     "evalue": "UndefVarError: `supp2` not defined",
     "output_type": "error",
     "traceback": [
      "UndefVarError: `supp2` not defined\n",
      "\n",
      "Stacktrace:\n",
      " [1] top-level scope\n",
      "   @ ~/Dokumentumok/GitHub/Oktatas/src/FEM-2Dt.ipynb:1"
     ]
    }
   ],
   "source": [
    "nodeTags, coord = gmsh.model.mesh.getNodesForPhysicalGroup(1, supp2)\n",
    "nodeTags *= 2\n",
    "nodeTags .-= 1\n",
    "for i ∈ nodeTags\n",
    "    K[i, :] .= 0\n",
    "    K[:, i] .= 0\n",
    "    K[i, i] = 1\n",
    "    f[i] = 0\n",
    "end\n",
    "dropzeros!(K)"
   ]
  },
  {
   "cell_type": "code",
   "execution_count": 36,
   "metadata": {},
   "outputs": [
    {
     "data": {
      "text/plain": [
       "2222-element Vector{Float64}:\n",
       " 0.0\n",
       " 0.0\n",
       " 0.0\n",
       " 0.0\n",
       " 0.0\n",
       " 0.0\n",
       " 0.0\n",
       " 0.0\n",
       " 0.0\n",
       " 0.0\n",
       " ⋮\n",
       " 0.0\n",
       " 0.0\n",
       " 0.0\n",
       " 0.0\n",
       " 0.0\n",
       " 0.0\n",
       " 0.0\n",
       " 0.0\n",
       " 0.0"
      ]
     },
     "metadata": {},
     "output_type": "display_data"
    }
   ],
   "source": [
    "q = K \\ f"
   ]
  },
  {
   "cell_type": "code",
   "execution_count": 37,
   "metadata": {},
   "outputs": [
    {
     "data": {
      "text/plain": [
       "5.0e-5"
      ]
     },
     "metadata": {},
     "output_type": "display_data"
    }
   ],
   "source": [
    "p[2] / (E / height)"
   ]
  },
  {
   "cell_type": "code",
   "execution_count": 38,
   "metadata": {},
   "outputs": [
    {
     "data": {
      "text/plain": [
       "-0.00015000000000000001"
      ]
     },
     "metadata": {},
     "output_type": "display_data"
    }
   ],
   "source": [
    "-(p[2] / E) * ν * base"
   ]
  },
  {
   "cell_type": "code",
   "execution_count": 39,
   "metadata": {},
   "outputs": [
    {
     "data": {
      "text/plain": [
       "2222-element Vector{Float64}:\n",
       " 0.0\n",
       " 0.0\n",
       " 0.0\n",
       " 0.0\n",
       " 0.0\n",
       " 0.0\n",
       " 0.0\n",
       " 0.0\n",
       " 0.0\n",
       " 0.0\n",
       " ⋮\n",
       " 0.0\n",
       " 0.0\n",
       " 0.0\n",
       " 0.0\n",
       " 0.0\n",
       " 0.0\n",
       " 0.0\n",
       " 0.0\n",
       " 0.0"
      ]
     },
     "metadata": {},
     "output_type": "display_data"
    }
   ],
   "source": [
    "K0 * q"
   ]
  },
  {
   "cell_type": "code",
   "execution_count": 40,
   "metadata": {},
   "outputs": [
    {
     "data": {
      "text/plain": [
       "2.0e6"
      ]
     },
     "metadata": {},
     "output_type": "display_data"
    }
   ],
   "source": [
    "k = base * E / height"
   ]
  },
  {
   "cell_type": "code",
   "execution_count": 41,
   "metadata": {},
   "outputs": [],
   "source": [
    "gmsh.option.setNumber(\"View.IntervalsType\", 3)\n",
    "gmsh.option.setNumber(\"View.VectorType\", 5)"
   ]
  },
  {
   "cell_type": "code",
   "execution_count": 42,
   "metadata": {},
   "outputs": [],
   "source": [
    "nodeTags, nodeCoords, nodeParams = gmsh.model.mesh.getNodes(-1, -1)\n",
    "non = length(nodeTags)\n",
    "uvec = gmsh.view.add(\"uvec\")\n",
    "u = zeros(3 * non)\n",
    "for i in 1:length(nodeTags)\n",
    "    u[3i-2] = q[2*nodeTags[i]-1]\n",
    "    u[3i-1] = q[2*nodeTags[i]-0]\n",
    "end\n",
    "gmsh.view.addHomogeneousModelData(uvec, 0, \"rectangle\", \"NodeData\", nodeTags, u, 0, 3)\n"
   ]
  },
  {
   "cell_type": "code",
   "execution_count": 43,
   "metadata": {},
   "outputs": [],
   "source": [
    "nodeTags, nodeCoords, nodeParams = gmsh.model.mesh.getNodes(-1, -1)\n",
    "non = length(nodeTags)\n",
    "ux = gmsh.view.add(\"ux\")\n",
    "u = zeros(non)\n",
    "for i in 1:length(nodeTags)\n",
    "    u[i] = q[2*nodeTags[i]-1]\n",
    "    #u[3i-1] = q[2*nodeTags[i]-0]\n",
    "end\n",
    "gmsh.view.addHomogeneousModelData(ux, 0, \"rectangle\", \"NodeData\", nodeTags, u, 0, 1)\n"
   ]
  },
  {
   "cell_type": "code",
   "execution_count": 44,
   "metadata": {},
   "outputs": [],
   "source": [
    "nodeTags, nodeCoords, nodeParams = gmsh.model.mesh.getNodes(-1, -1)\n",
    "non = length(nodeTags)\n",
    "uy = gmsh.view.add(\"uy\")\n",
    "u = zeros(non)\n",
    "for i in 1:length(nodeTags)\n",
    "    #u[3i-2] = q[2*nodeTags[i]-1]\n",
    "    u[i] = q[2*nodeTags[i]-0]\n",
    "end\n",
    "gmsh.view.addHomogeneousModelData(uy, 0, \"rectangle\", \"NodeData\", nodeTags, u, 0, 1)\n"
   ]
  },
  {
   "cell_type": "code",
   "execution_count": 45,
   "metadata": {},
   "outputs": [],
   "source": [
    "#gmsh.write(\"rect.geo\")\n",
    "#gmsh.write(\"rect.msh\")\n",
    "#gmsh.write(\"rect.pos\")"
   ]
  },
  {
   "cell_type": "code",
   "execution_count": 46,
   "metadata": {},
   "outputs": [
    {
     "name": "stdout",
     "output_type": "stream",
     "text": [
      "-------------------------------------------------------\n",
      "Version       : 4.11.1\n",
      "License       : GNU General Public License\n",
      "Build OS      : Linux64-sdk\n",
      "Build date    : 20221221\n",
      "Build host    : gmsh.info\n",
      "Build options : 64Bit ALGLIB[contrib] ANN[contrib] Bamg Blas[petsc] Blossom Cgns DIntegration Dlopen DomHex Eigen[contrib] Fltk Gmm[contrib] Hxt Jpeg Kbipack Lapack[petsc] LinuxJoystick MathEx[contrib] Med Mesh Metis[contrib] Mmg Mpeg Netgen ONELAB ONELABMetamodel OpenCASCADE OpenCASCADE-CAF OpenGL OpenMP OptHom PETSc Parser Plugins Png Post QuadMeshingTools QuadTri Solver TetGen/BR Voro++[contrib] WinslowUntangler Zlib\n",
      "FLTK version  : 1.4.0\n",
      "PETSc version : 3.14.4 (real arithmtic)\n",
      "OCC version   : 7.6.1\n",
      "MED version   : 4.1.0\n",
      "Packaged by   : geuzaine\n",
      "Web site      : https://gmsh.info\n",
      "Issue tracker : https://gitlab.onelab.info/gmsh/gmsh/issues\n",
      "-------------------------------------------------------\n"
     ]
    }
   ],
   "source": [
    "gmsh.fltk.run()"
   ]
  },
  {
   "cell_type": "code",
   "execution_count": 47,
   "metadata": {},
   "outputs": [],
   "source": [
    "gmsh.finalize()"
   ]
  }
 ],
 "metadata": {
  "kernelspec": {
   "display_name": "Julia 1.9.3",
   "language": "julia",
   "name": "julia-1.9"
  },
  "language_info": {
   "file_extension": ".jl",
   "mimetype": "application/julia",
   "name": "julia",
   "version": "1.9.3"
  },
  "varInspector": {
   "cols": {
    "lenName": 16,
    "lenType": 16,
    "lenVar": 40
   },
   "kernels_config": {
    "python": {
     "delete_cmd_postfix": "",
     "delete_cmd_prefix": "del ",
     "library": "var_list.py",
     "varRefreshCmd": "print(var_dic_list())"
    },
    "r": {
     "delete_cmd_postfix": ") ",
     "delete_cmd_prefix": "rm(",
     "library": "var_list.r",
     "varRefreshCmd": "cat(var_dic_list()) "
    }
   },
   "types_to_exclude": [
    "module",
    "function",
    "builtin_function_or_method",
    "instance",
    "_Feature"
   ],
   "window_display": false
  }
 },
 "nbformat": 4,
 "nbformat_minor": 2
}
