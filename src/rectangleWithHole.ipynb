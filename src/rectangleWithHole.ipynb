{
 "cells": [
  {
   "cell_type": "code",
   "execution_count": 1,
   "metadata": {},
   "outputs": [],
   "source": [
    "using LinearAlgebra, SparseArrays\n",
    "import gmsh\n",
    "gmsh.initialize()\n",
    "\n",
    "include(\"FEM.jl\")\n",
    "using .FEM"
   ]
  },
  {
   "cell_type": "code",
   "execution_count": 2,
   "metadata": {},
   "outputs": [
    {
     "data": {
      "text/plain": [
       "Main.FEM.Problem(\"rectangle\", \"PlaneStress\", 200000.0, 0.3, 7.85e-9, 1.0)"
      ]
     },
     "metadata": {},
     "output_type": "display_data"
    }
   ],
   "source": [
    "# Adatok\n",
    "E = 2e5\n",
    "ν = 0.3\n",
    "thickness = 1\n",
    "height = 100\n",
    "base = 100\n",
    "elemSize = 22 #22\n",
    "\n",
    "approxOrder = 2\n",
    "internalNodes = true\n",
    "quadElements = true\n",
    "\n",
    "problem = FEM.Problem(\"rectangle\", type=\"PlaneStress\", E=E, ν=ν, b=thickness)"
   ]
  },
  {
   "cell_type": "code",
   "execution_count": 3,
   "metadata": {},
   "outputs": [],
   "source": [
    "# Geometria megrajzolása\n",
    "gmsh.model.add(problem.name)\n",
    "\n",
    "p1 = gmsh.model.occ.addPoint(0, 0, 0)\n",
    "p2 = gmsh.model.occ.addPoint(base, 0, 0)\n",
    "#p23 = gmsh.model.occ.addPoint(base, height / 2, 0)\n",
    "p3 = gmsh.model.occ.addPoint(base, height, 0)\n",
    "p4 = gmsh.model.occ.addPoint(0, height, 0)\n",
    "\n",
    "l1 = gmsh.model.occ.addLine(p1, p2)\n",
    "l2 = gmsh.model.occ.addLine(p2, p3)\n",
    "#l23 = gmsh.model.occ.addLine(p23, p3)\n",
    "l3 = gmsh.model.occ.addLine(p3, p4)\n",
    "l4 = gmsh.model.occ.addLine(p4, p1)\n",
    "\n",
    "cl1 = gmsh.model.occ.addCurveLoop([l1, l2, l3, l4])\n",
    "\n",
    "l5 = gmsh.model.occ.addCircle(base / 2, height / 2, 0, min(base, height) / 4)\n",
    "cl2 = gmsh.model.occ.addCurveLoop([l5])\n",
    "\n",
    "sf1 = gmsh.model.occ.addPlaneSurface([cl1, cl2])\n",
    "#display(sf1)\n",
    "\n",
    "#cp1 = gmsh.model.occ.addPoint(base / 2, height / 2, 0)\n",
    "#cl1 = gmsh.model.occ.addLine(p1, p3)\n",
    "#cl2 = gmsh.model.occ.addLine(p2, p4)\n",
    "\n",
    "#sf2 = gmsh.model.occ.fragment([(2, sf1)], [(1, cl1)])\n",
    "#gmsh.model.occ.removeAllDuplicates()\n",
    "\n",
    "#p5 = gmsh.model.occ.addPoint(0, height / 2, 0)\n",
    "#p6 = gmsh.model.occ.addPoint(base, height / 2, 0)\n",
    "#l5 = gmsh.model.occ.addLine(p5, p6)\n",
    "\n",
    "gmsh.model.occ.synchronize()\n",
    "#sf2"
   ]
  },
  {
   "cell_type": "code",
   "execution_count": 4,
   "metadata": {},
   "outputs": [
    {
     "data": {
      "text/plain": [
       "(Tuple{Int32, Int32}[(1, 7), (2, 1), (2, 2), (1, 17)], Vector{Tuple{Int32, Int32}}[[(2, 1), (2, 2)], [(1, 9), (1, 17)], [(1, 7)]])"
      ]
     },
     "metadata": {},
     "output_type": "display_data"
    }
   ],
   "source": [
    "p5 = gmsh.model.occ.addPoint(0, height / 2, 0)\n",
    "p6 = gmsh.model.occ.addPoint(base / 3, height / 2, 0)\n",
    "p7 = gmsh.model.occ.addPoint(3base / 4, height / 2, 0)\n",
    "p8 = gmsh.model.occ.addPoint(base, height / 2, 0)\n",
    "l6 = gmsh.model.occ.addLine(p5, p6)\n",
    "l7 = gmsh.model.occ.addLine(p7, p8)\n",
    "sf2 = gmsh.model.occ.fragment([(2, sf1)], [(1, l6), (1, l7)])\n",
    "gmsh.model.occ.synchronize()\n",
    "sf2"
   ]
  },
  {
   "cell_type": "code",
   "execution_count": 5,
   "metadata": {},
   "outputs": [
    {
     "data": {
      "text/plain": [
       "1-element Vector{Tuple{Int32, Int32}}:\n",
       " (1, 17)"
      ]
     },
     "metadata": {},
     "output_type": "display_data"
    }
   ],
   "source": [
    "ee = 1\n",
    "innerline = gmsh.model.getEntitiesInBoundingBox(base / 4 - ee, height / 2 - ee, 0 - ee, 3base / 4 + ee, height / 2 + ee, 0 + ee, 1)"
   ]
  },
  {
   "cell_type": "code",
   "execution_count": 6,
   "metadata": {},
   "outputs": [],
   "source": [
    "gmsh.model.occ.remove(innerline, true)\n",
    "gmsh.model.occ.synchronize()"
   ]
  },
  {
   "cell_type": "code",
   "execution_count": 7,
   "metadata": {},
   "outputs": [
    {
     "data": {
      "text/plain": [
       "1-element Vector{Tuple{Int32, Int32}}:\n",
       " (1, 14)"
      ]
     },
     "metadata": {},
     "output_type": "display_data"
    }
   ],
   "source": [
    "supp = gmsh.model.getEntitiesInBoundingBox(0 - ee, 0 - ee, 0 - ee, 0 + ee, height + ee, 0 + ee, 1)\n",
    "load = gmsh.model.getEntitiesInBoundingBox(0 - ee, height - ee, 0 - ee, base + ee, height + ee, 0 + ee, 1)"
   ]
  },
  {
   "cell_type": "code",
   "execution_count": 8,
   "metadata": {},
   "outputs": [
    {
     "data": {
      "text/plain": [
       "(\"load\", 0, 1, 1)"
      ]
     },
     "metadata": {},
     "output_type": "display_data"
    }
   ],
   "source": [
    "supp1 = FEM.displacementConstraintOnLines([supp[i][2] for i in 1:length(supp)], ux=0, uy=0)\n",
    "load1 = FEM.tractionOnLines([load[i][2] for i in 1:length(load)], fx=0, fy=1, thickness=thickness)"
   ]
  },
  {
   "cell_type": "code",
   "execution_count": 9,
   "metadata": {},
   "outputs": [
    {
     "name": "stdout",
     "output_type": "stream",
     "text": [
      "Info    : Meshing 1D...\n",
      "Info    : [  0%] Meshing curve 7 (Line)\n",
      "Info    : [ 10%] Meshing curve 8 (Line)\n",
      "Info    : [ 20%] Meshing curve 9 (Line)\n",
      "Info    : [ 30%] Meshing curve 10 (Circle)\n",
      "Info    : [ 40%] Meshing curve 11 (Line)\n",
      "Info    : [ 50%] Meshing curve 12 (Line)\n",
      "Info    : [ 60%] Meshing curve 13 (Line)\n",
      "Info    : [ 70%] Meshing curve 14 (Line)\n",
      "Info    : [ 80%] Meshing curve 15 (Line)\n",
      "Info    : [ 90%] Meshing curve 16 (Circle)\n",
      "Info    : Done meshing 1D (Wall 0.000732718s, CPU 0.000735s)\n",
      "Info    : 32 nodes 42 elements\n",
      "Info    : Meshing 2D...\n",
      "Info    : [  0%] Meshing surface 1 (Plane, Frontal-Delaunay for Quads)\n",
      "Info    : [ 50%] Meshing surface 2 (Plane, Frontal-Delaunay)\n",
      "Info    : Done meshing 2D (Wall 0.00191217s, CPU 0.001909s)\n",
      "Info    : 48 nodes 108 elements\n",
      "Info    : Recombining 2D mesh...\n",
      "Info    : Blossom recombination completed (Wall 0.00018713s, CPU 0.000187s): 12 quads, 3 triangles, 0 invalid quads, 0 quads with Q < 0.1, avg Q = 0.833016, min Q = 0.665865\n",
      "Info    : Blossom recombination completed (Wall 0.000500132s, CPU 0.0005s): 19 quads, 1 triangles, 0 invalid quads, 0 quads with Q < 0.1, avg Q = 0.675897, min Q = 0.439555\n",
      "Info    : Done recombining 2D mesh (Wall 0.000706872s, CPU 0.000707s)\n",
      "Info    : Meshing order 2 (curvilinear on)...\n",
      "Info    : [  0%] Meshing curve 7 order 2\n",
      "Info    : [ 10%] Meshing curve 8 order 2\n",
      "Info    : [ 20%] Meshing curve 9 order 2\n",
      "Info    : [ 30%] Meshing curve 10 order 2\n",
      "Info    : [ 40%] Meshing curve 11 order 2\n",
      "Info    : [ 50%] Meshing curve 12 order 2\n",
      "Info    : [ 50%] Meshing curve 13 order 2\n",
      "Info    : [ 60%] Meshing curve 14 order 2\n",
      "Info    : [ 70%] Meshing curve 15 order 2\n",
      "Info    : [ 80%] Meshing curve 16 order 2\n",
      "Info    : [ 90%] Meshing surface 1 order 2\n",
      "Info    : [100%] Meshing surface 2 order 2\n",
      "Info    : Surface mesh: worst distortion = 0.673805 (0 elements in ]0, 0.2]); worst gamma = 0.826771\n",
      "Info    : Done meshing order 2 (Wall 0.000850975s, CPU 0.000852s)\n"
     ]
    },
    {
     "name": "stderr",
     "output_type": "stream",
     "text": [
      "Warning : Cannot apply Blossom: odd number of triangles (27) in surface 1\n",
      "Warning : Cannot apply Blossom: odd number of triangles (39) in surface 2\n"
     ]
    }
   ],
   "source": [
    "FEM.generateMesh(problem, sf1, elemSize, approxOrder=approxOrder, algorithm=8, quadrangle=quadElements, internalNodes=internalNodes)"
   ]
  },
  {
   "cell_type": "code",
   "execution_count": 10,
   "metadata": {},
   "outputs": [
    {
     "name": "stdout",
     "output_type": "stream",
     "text": [
      "Info    : Removing duplicate mesh nodes...\n",
      "Info    : Found 0 duplicate nodes \n",
      "Info    : No duplicate nodes found\n"
     ]
    }
   ],
   "source": [
    "gmsh.model.mesh.removeDuplicateNodes()\n",
    "gmsh.model.mesh.renumberNodes()"
   ]
  },
  {
   "cell_type": "code",
   "execution_count": 11,
   "metadata": {},
   "outputs": [],
   "source": [
    "#FEM.revertTriangles(problem)"
   ]
  },
  {
   "cell_type": "code",
   "execution_count": 12,
   "metadata": {},
   "outputs": [
    {
     "name": "stdout",
     "output_type": "stream",
     "text": [
      "-------------------------------------------------------\n",
      "Version       : 4.12.0\n",
      "License       : GNU General Public License\n",
      "Build OS      : Linux64-sdk\n",
      "Build date    : 20231221\n",
      "Build host    : gmsh.info\n",
      "Build options : 64Bit ALGLIB[contrib] ANN[contrib] Bamg Blas[petsc] Blossom Cgns DIntegration Dlopen DomHex Eigen[contrib] Fltk Gmm[contrib] Hxt Jpeg Kbipack Lapack[petsc] LinuxJoystick MathEx[contrib] Med Mesh Metis[contrib] Mmg Mpeg Netgen ONELAB ONELABMetamodel OpenCASCADE OpenCASCADE-CAF OpenGL OpenMP OptHom PETSc Parser Plugins Png Post QuadMeshingTools QuadTri Solver TetGen/BR Voro++[contrib] WinslowUntangler Zlib\n",
      "FLTK version  : 1.4.0\n",
      "PETSc version : 3.14.4 (real arithmtic)\n",
      "OCC version   : 7.7.2\n",
      "MED version   : 4.1.0\n",
      "Packaged by   : geuzaine\n",
      "Web site      : https://gmsh.info\n",
      "Issue tracker : https://gitlab.onelab.info/gmsh/gmsh/issues\n",
      "-------------------------------------------------------\n"
     ]
    }
   ],
   "source": [
    "gmsh.fltk.run()"
   ]
  },
  {
   "cell_type": "code",
   "execution_count": 13,
   "metadata": {},
   "outputs": [],
   "source": [
    "# Néhány láthatósági beállítás 0:kikapcs. 1:bekapcs.\n",
    "gmsh.option.setNumber(\"Geometry.CurveLabels\", 0)\n",
    "gmsh.option.setNumber(\"Geometry.Points\", 0)\n",
    "gmsh.option.setNumber(\"Geometry.Curves\", 0)\n",
    "gmsh.option.setNumber(\"Mesh.Points\", 0)\n",
    "gmsh.option.setNumber(\"Mesh.Lines\", 0)\n",
    "gmsh.option.setNumber(\"Mesh.SurfaceEdges\", 0)\n",
    "gmsh.option.setNumber(\"Mesh.NodeLabels\", 0)\n",
    "gmsh.option.setNumber(\"Mesh.LineLabels\", 0)\n",
    "gmsh.option.setNumber(\"Mesh.SurfaceLabels\", 0)"
   ]
  },
  {
   "cell_type": "code",
   "execution_count": 14,
   "metadata": {},
   "outputs": [
    {
     "data": {
      "text/plain": [
       "324×324 SparseMatrixCSC{Float64, Int64} with 8784 stored entries:\n",
       "⎡⣿⣿⡟⠻⠲⠐⠀⢨⠀⠀⠀⡇⡇⠰⠶⠀⣽⠀⠀⠀⢸⣯⣥⠀⠀⠀⠰⠇⠀⠀⠀⠀⠲⠀⠈⠶⠊⠀⠞⠁⎤\n",
       "⎢⣿⡉⢿⣷⣿⡸⠀⢰⠀⠀⠀⠁⠁⢀⣀⠀⠉⠀⠀⠀⠈⠉⠉⠀⠀⠗⣸⣆⡸⠀⡀⢀⢿⠀⢲⣀⣷⠂⣿⡆⎥\n",
       "⎢⢘⠂⣛⡻⣿⣿⠀⢀⡀⡀⠀⠀⠀⠐⠒⡀⣀⠀⠀⠀⠀⢀⠀⣀⢀⣀⣿⡯⣿⡀⠇⠨⡓⠀⣀⡿⣿⡀⣛⢅⎥\n",
       "⎢⡀⣀⢀⣀⠀⢀⠿⢇⡸⡸⠏⠎⠁⠷⠎⠉⣸⠏⠀⠿⠆⢀⡀⣸⢇⢹⠇⡿⠀⠀⠈⠀⠀⠸⣇⡀⢀⠾⢰⡉⎥\n",
       "⎢⠀⠀⠀⠀⠀⠨⣒⡪⢿⢗⠀⢐⠐⠀⠀⠀⢽⣗⢗⣒⠀⠨⢑⣿⡺⠈⠀⠁⠀⠀⠀⠀⠀⠀⠉⠁⠀⠀⠀⠀⎥\n",
       "⎢⠤⠤⠄⠀⠀⠀⡫⠅⢀⢀⣟⣽⣧⡃⠀⠀⢸⣟⣘⣻⢧⠇⢀⡄⣤⡄⠀⠀⠀⠀⠀⠀⠀⠀⠀⠀⠀⠀⠀⠀⎥\n",
       "⎢⢉⡉⠁⢀⢀⠀⢥⡄⠐⠀⠭⠻⠿⣧⣄⠀⠘⠿⠂⠭⠘⠁⠐⠃⠛⣧⣤⣤⠀⢠⠀⠀⢠⣤⠀⣀⠀⣤⣤⠀⎥\n",
       "⎢⠘⠃⠀⠘⠘⠠⡎⠁⠀⠀⠀⠀⠀⠙⢻⣶⡆⠀⠀⠀⠀⠀⠀⠀⠀⣿⣾⢻⡦⡾⣶⣶⠘⠉⡦⠟⠠⢽⠋⣶⎥\n",
       "⎢⠓⠛⠃⠀⠀⠘⡶⠞⢷⢷⣶⢶⣶⡄⠈⠉⠿⣧⢷⣶⠾⠞⢿⡿⠾⠏⠉⠈⠁⠁⠀⠁⠀⠀⠈⠁⠈⠁⠀⠈⎥\n",
       "⎢⠀⠀⠀⠀⠀⠀⣤⡄⢹⢱⣶⣸⡌⡄⠀⠀⢹⣷⠱⣦⡆⠆⠙⢫⡍⠀⠀⠀⠀⠀⠀⠀⠀⠀⠀⠀⠀⠀⠀⠀⎥\n",
       "⎢⡶⣶⡆⠀⠀⢀⠈⢁⡀⡀⠭⠗⠖⠀⠀⠀⣺⠇⠨⠍⢵⢗⣒⣂⢒⠂⠀⠀⠀⠀⠀⠀⠀⠀⠀⠀⠀⠀⠀⠀⎥\n",
       "⎢⠁⠛⠃⠀⠀⢠⣀⣨⣵⣴⠀⠴⠴⠀⠀⠀⣿⡷⡷⣀⠸⢸⡿⣯⣶⠄⠀⠀⠀⠀⠀⠀⠀⠀⠀⠀⠀⠀⠀⠀⎥\n",
       "⎢⠀⠀⢤⠄⠀⢰⣍⣑⡚⠊⠀⠿⠿⣤⣤⣤⡾⠇⠃⠉⠸⠐⠘⠟⠿⣧⣤⣤⠠⣤⣤⠀⣤⣤⣤⡄⢠⣤⡄⣤⎥\n",
       "⎢⠴⠆⠲⢾⡿⡿⣭⡥⠄⠀⠀⠀⠀⣿⣾⣛⡃⠀⠀⠀⠀⠀⠀⠀⠀⣿⣿⣿⡛⡻⡿⣋⠶⣯⡥⢿⠿⣭⣷⡍⎥\n",
       "⎢⠀⠀⠒⠊⠛⠻⠀⠀⠀⠀⠀⠀⠀⣀⣨⡯⠅⠀⠀⠀⠀⠀⠀⠀⠀⣦⣿⡨⢿⣷⣀⠍⢒⡀⠠⠌⠻⠄⠀⠡⎥\n",
       "⎢⠀⠀⠀⢈⡉⡁⠂⠀⠀⠀⠀⠀⠀⠀⢸⣿⠄⠀⠀⠀⠀⠀⠀⠀⠀⠛⡿⢫⡄⠜⡟⣭⠀⠀⠂⢉⠁⠐⠀⡒⎥\n",
       "⎢⠘⠂⠛⠓⠙⠈⣀⡀⠀⠀⠀⠀⠀⣶⡖⠀⠀⠀⠀⠀⠀⠀⠀⠀⠀⣿⡼⣧⠘⠰⠀⠀⠻⣦⡉⠒⠉⣥⣏⠀⎥\n",
       "⎢⢢⡄⠘⢲⣤⡼⠉⠹⠇⠀⠀⠀⠀⢠⣬⠏⠆⠀⠀⠀⠀⠀⠀⠀⠀⠿⣥⣏⡀⠆⡌⢀⢣⠈⠿⣧⡼⠏⡔⡻⎥\n",
       "⎢⠊⠀⠹⠛⠛⠻⣠⡔⠀⠀⠀⠀⠀⣤⣄⣆⠆⠀⠀⠀⠀⠀⠀⠀⠀⣶⡟⣧⠛⠆⢁⠀⠇⣤⡶⠏⠻⣦⣽⣲⎥\n",
       "⎣⠞⠁⠻⠿⠟⢜⡔⠲⠀⠀⠀⠀⠀⠛⢫⣤⡀⠀⠀⠀⠀⠀⠀⠀⠀⣭⡝⠿⠄⡀⢠⠠⠋⠙⣴⡩⢳⣻⠻⣦⎦"
      ]
     },
     "metadata": {},
     "output_type": "display_data"
    }
   ],
   "source": [
    "K = FEM.stiffnessMatrixPlaneStress(problem)"
   ]
  },
  {
   "cell_type": "code",
   "execution_count": 15,
   "metadata": {},
   "outputs": [
    {
     "data": {
      "text/plain": [
       "(sparse([1, 2, 3, 4, 5, 6, 7, 8, 29, 30  …  209, 210, 237, 238, 285, 286, 301, 302, 323, 324], [1, 2, 3, 4, 5, 6, 7, 7, 7, 7  …  324, 324, 324, 324, 324, 324, 324, 324, 324, 324], [1.0, 1.0, 1.0, 1.0, 1.0, 1.0, 86734.3579664428, 37282.780656038696, 608.8723881595861, 1094.5613028608718  …  -76564.01936561312, -110839.7370132661, -76232.2752249562, -279618.1910540355, -110920.9706323013, -216979.6077097057, 61317.33206316463, -25946.07346846445, 40540.71698777883, 876698.543217759], 324, 324), [0.0; 0.0; … ; 0.0; 0.0;;])"
      ]
     },
     "metadata": {},
     "output_type": "display_data"
    }
   ],
   "source": [
    "K, f = FEM.applyBoundaryConditions!(problem, K, [supp1], [load1])"
   ]
  },
  {
   "cell_type": "code",
   "execution_count": 16,
   "metadata": {},
   "outputs": [],
   "source": [
    "#det(K)"
   ]
  },
  {
   "cell_type": "code",
   "execution_count": 17,
   "metadata": {},
   "outputs": [
    {
     "data": {
      "text/plain": [
       "324×1 Matrix{Float64}:\n",
       "  0.0\n",
       "  0.0\n",
       "  0.0\n",
       "  0.0\n",
       "  0.0\n",
       "  0.0\n",
       " -0.0007917832559534723\n",
       "  0.0033893938953249683\n",
       "  0.0\n",
       "  0.0\n",
       "  ⋮\n",
       "  0.003006269189994094\n",
       "  2.5937398603410267e-5\n",
       "  0.00010492950606503738\n",
       " -0.0006837114535935956\n",
       "  0.0022209341206345912\n",
       " -0.000245136557188368\n",
       "  0.0028920870788818635\n",
       "  0.0001327278953209777\n",
       "  0.0003899671724426412"
      ]
     },
     "metadata": {},
     "output_type": "display_data"
    }
   ],
   "source": [
    "q = FEM.solveDisplacement(K, f)"
   ]
  },
  {
   "cell_type": "code",
   "execution_count": 18,
   "metadata": {},
   "outputs": [
    {
     "data": {
      "text/plain": [
       "([[-1.1269459154863233, -0.19944216755407096, 0.0, -0.19944216755407096, -0.10181394668311478, 0.0, 0.0, 0.0, 0.0, 0.38710475824011403  …  0.0, -0.8201460864368124, 0.09748274929899313, 0.0, 0.09748274929899313, -0.027613902735577484, 0.0, 0.0, 0.0, 0.0], [-2.722774574353191, 1.9301438435136533, 0.0, 1.9301438435136533, -1.653848536475212, 0.0, 0.0, 0.0, 0.0, 1.0627573974245585  …  0.0, -2.6930081371968146, 1.5951782361776576, 0.0, 1.5951782361776576, -1.19753209544259, 0.0, 0.0, 0.0, 0.0], [1.8396495931957695, 1.602889859911155, 0.0, 1.602889859911155, 2.1439786179270106, 0.0, 0.0, 0.0, 0.0, 0.1970461080669391  …  0.0, 1.140945608099964, 0.838917008530123, 0.0, 0.838917008530123, 1.4806961539078136, 0.0, 0.0, 0.0, 0.0], [-1.0032038211579701, 1.7993978906617984, 0.0, 1.7993978906617984, 1.5594908226118094, 0.0, 0.0, 0.0, 0.0, -0.6805958222426665  …  0.0, -1.3717797456252492, 1.0726693622091739, 0.0, 1.0726693622091739, 1.248813776328185, 0.0, 0.0, 0.0, 0.0], [0.10361758359437181, -0.10007253710937186, 0.0, -0.10007253710937186, 0.13512260161367493, 0.0, 0.0, 0.0, 0.0, 0.03605656539589183  …  0.0, -0.12887631966535512, -0.17965414442523156, 0.0, -0.17965414442523156, -0.06442596339589834, 0.0, 0.0, 0.0, 0.0], [0.08612065357037765, 1.1661211396245428, 0.0, 1.1661211396245428, 0.7797000317798098, 0.0, 0.0, 0.0, 0.0, 0.40727844422653364  …  0.0, 0.19221200262000931, 0.4031585453481394, 0.0, 0.4031585453481394, -0.03772693569138348, 0.0, 0.0, 0.0, 0.0], [0.7522118088725884, 0.21197963084165317, 0.0, 0.21197963084165317, -0.0078501031978431, 0.0, 0.0, 0.0, 0.0, 1.1576940280383081  …  0.0, 2.419621162254506, 0.24011274367162883, 0.0, 0.24011274367162883, 0.19415780167631314, 0.0, 0.0, 0.0, 0.0], [-0.04283128168922634, -0.2876336030476061, 0.0, -0.2876336030476061, -0.9047870682032985, 0.0, 0.0, 0.0, 0.0, -0.10356851152569524  …  0.0, 0.21137744152669657, -0.0736082138040587, 0.0, -0.0736082138040587, -0.2511212256289795, 0.0, 0.0, 0.0, 0.0], [-0.9304658975016402, 1.0402056945100229, 0.0, 1.0402056945100229, 0.467570429576186, 0.0, 0.0, 0.0, 0.0, 0.48579201978512687  …  0.0, -0.23920783089838543, 1.2453231140103471, 0.0, 1.2453231140103471, 0.38086616235920523, 0.0, 0.0, 0.0, 0.0], [0.8090215248696944, 0.2750663232024865, 0.0, 0.2750663232024865, 0.17830476200798556, 0.0, 0.0, 0.0, 0.0, -0.9000001146146499  …  0.0, -0.009765779719141054, 0.5844660874766975, 0.0, 0.5844660874766975, 0.42652891925018166, 0.0, 0.0, 0.0, 0.0]  …  [-4.927497716544814, 0.15116862671202017, 0.0, 0.15116862671202017, 0.6022291173858092, 0.0, 0.0, 0.0, 0.0, -1.499415570601312  …  0.0, -2.3962441497238167, 0.6830038236375334, 0.0, 0.6830038236375334, 1.229479398039993, 0.0, 0.0, 0.0, 0.0], [1.3209241815977908, 1.1923365789953175, 0.0, 1.1923365789953175, 1.0321229589022152, 0.0, 0.0, 0.0, 0.0, 0.9686037848182347  …  0.0, 1.3033038512543256, 1.3759570225275344, 0.0, 1.3759570225275344, 0.3119805282765552, 0.0, 0.0, 0.0, 0.0], [-0.2627786271899628, 0.8758580111775226, 0.0, 0.8758580111775226, 0.7855898940352795, 0.0, 0.0, 0.0, 0.0, 0.08330298690470284  …  0.0, -0.3695384599432082, 0.6033835858205832, 0.0, 0.6033835858205832, 1.2119150796558973, 0.0, 0.0, 0.0, 0.0], [-0.24865043820889277, -0.6971583370639161, 0.0, -0.6971583370639161, 1.0146996272907127, 0.0, 0.0, 0.0, 0.0, -0.03191372815390703  …  0.0, 0.18913813653272613, -0.24231094170134307, 0.0, -0.24231094170134307, 1.1637021575915951, 0.0, 0.0, 0.0, 0.0], [-8.81919396101679, 2.4053486985047328, 0.0, 2.4053486985047328, -2.645758188305037, 0.0, 0.0, 0.0, 0.0, -1.4054546648283321  …  0.0, -3.3584688449444378, 0.7476908589668468, 0.0, 0.7476908589668468, 0.5480175458698961, 0.0, 0.0, 0.0, 0.0], [-0.3267138627685237, 0.8766933867885228, 0.0, 0.8766933867885228, 0.9704819404392885, 0.0, 0.0, 0.0, 0.0, 0.037183986886428017  …  0.0, -0.007104424467509141, 0.5484633022131428, 0.0, 0.5484633022131428, 0.8046399396857032, 0.0, 0.0, 0.0, 0.0], [0.5736138333013657, 1.4549454148294414, 0.0, 1.4549454148294414, 0.17208414999040972, 0.0, 0.0, 0.0, 0.0, 0.4737189640982108  …  0.0, 0.939411916069741, 1.4337808805312315, 0.0, 1.4337808805312315, 0.1942072395748789, 0.0, 0.0, 0.0, 0.0], [2.461343824044793, 0.3384576630850229, 0.0, 0.3384576630850229, 1.3526148610018836, 0.0, 0.0, 0.0, 0.0, -1.4903288516434834  …  0.0, -0.07937468779012222, 0.7568159709307711, 0.0, 0.7568159709307711, 0.545827889676605, 0.0, 0.0, 0.0, 0.0], [0.2159484379114773, 0.6903136313518976, 0.0, 0.6903136313518976, 1.3415110166947666, 0.0, 0.0, 0.0, 0.0, -1.1426200735734497  …  0.0, -0.6723314057446623, 0.650848172591136, 0.0, 0.650848172591136, 0.4653949121565899, 0.0, 0.0, 0.0, 0.0], [3.4592689844734723, 3.312950748457897, 0.0, 3.312950748457897, 4.256597912674565, 0.0, 0.0, 0.0, 0.0, 1.0410566115002606  …  0.0, 1.4682978473737405, 1.6281303323014762, 0.0, 1.6281303323014762, 2.0973423950144863, 0.0, 0.0, 0.0, 0.0]], [43, 44, 45, 58, 46, 47, 48, 49, 50, 51  …  68, 69, 70, 71, 72, 73, 74, 75, 76, 77])"
      ]
     },
     "metadata": {},
     "output_type": "display_data"
    }
   ],
   "source": [
    "S = FEM.solveStressPlaneStress(problem, q)"
   ]
  },
  {
   "cell_type": "code",
   "execution_count": 19,
   "metadata": {},
   "outputs": [],
   "source": [
    "gmsh.option.setNumber(\"View.IntervalsType\", 3)\n",
    "gmsh.option.setNumber(\"View.VectorType\", 5)\n",
    "gmsh.option.setString(\"View.Format\", \"%.6g\")"
   ]
  },
  {
   "cell_type": "code",
   "execution_count": 20,
   "metadata": {},
   "outputs": [
    {
     "data": {
      "text/plain": [
       "7"
      ]
     },
     "metadata": {},
     "output_type": "display_data"
    }
   ],
   "source": [
    "u = FEM.showResultUvec(problem, q, name=\"uvec\", visible=false)\n",
    "ux = FEM.showResultUX(problem, q, name=\"ux\", visible=false)\n",
    "uy = FEM.showResultUY(problem, q, name=\"uy\", visible=false)\n",
    "s = FEM.showResultS(problem, S, name=\"σ\", visible=false, smooth=false)\n",
    "sx = FEM.showResultSX(problem, S, name=\"σx\", visible=false, smooth=false)\n",
    "sy = FEM.showResultSY(problem, S, name=\"σy\", visible=true, smooth=false)\n",
    "sxy = FEM.showResultSXY(problem, S, name=\"τxy\", visible=false, smooth=false)"
   ]
  },
  {
   "cell_type": "code",
   "execution_count": 21,
   "metadata": {},
   "outputs": [],
   "source": [
    "pp1 = gmsh.model.occ.addPoint(0, height / 2, 0)\n",
    "pp2 = gmsh.model.occ.addPoint(base / 4, height / 2, 0)\n",
    "pp3 = gmsh.model.occ.addPoint(base / 8, height / 4, 0)\n",
    "\n",
    "pl1 = gmsh.model.occ.addLine(pp1, pp2)\n",
    "pl2 = gmsh.model.occ.addSpline([pp1, pp3, pp2])\n",
    "\n",
    "\n",
    "gmsh.model.occ.synchronize()"
   ]
  },
  {
   "cell_type": "code",
   "execution_count": 22,
   "metadata": {},
   "outputs": [],
   "source": [
    "FEM.plotOnPath(problem, pl1, sy, 100, name=\"σred\", visible=false);"
   ]
  },
  {
   "cell_type": "code",
   "execution_count": 23,
   "metadata": {},
   "outputs": [],
   "source": [
    "#gmsh.option.setNumber(\"PostProcessing.Binary\", 1)\n",
    "#gmsh.option.setNumber(\"PostProcessing.SaveMesh\", 1)\n",
    "\n",
    "#gmsh.write(\"rect.msh\")\n",
    "#gmsh.write(\"rect.opt\")\n",
    "#gmsh.view.write(4, \"rect.pos\")"
   ]
  },
  {
   "cell_type": "code",
   "execution_count": 24,
   "metadata": {},
   "outputs": [
    {
     "name": "stdout",
     "output_type": "stream",
     "text": [
      "-------------------------------------------------------\n",
      "Version       : 4.12.0\n",
      "License       : GNU General Public License\n",
      "Build OS      : Linux64-sdk\n",
      "Build date    : 20231221\n",
      "Build host    : gmsh.info\n",
      "Build options : 64Bit ALGLIB[contrib] ANN[contrib] Bamg Blas[petsc] Blossom Cgns DIntegration Dlopen DomHex Eigen[contrib] Fltk Gmm[contrib] Hxt Jpeg Kbipack Lapack[petsc] LinuxJoystick MathEx[contrib] Med Mesh Metis[contrib] Mmg Mpeg Netgen ONELAB ONELABMetamodel OpenCASCADE OpenCASCADE-CAF OpenGL OpenMP OptHom PETSc Parser Plugins Png Post QuadMeshingTools QuadTri Solver TetGen/BR Voro++[contrib] WinslowUntangler Zlib\n",
      "FLTK version  : 1.4.0\n",
      "PETSc version : 3.14.4 (real arithmtic)\n",
      "OCC version   : 7.7.2\n",
      "MED version   : 4.1.0\n",
      "Packaged by   : geuzaine\n",
      "Web site      : https://gmsh.info\n",
      "Issue tracker : https://gitlab.onelab.info/gmsh/gmsh/issues\n",
      "-------------------------------------------------------\n"
     ]
    }
   ],
   "source": [
    "gmsh.fltk.run()"
   ]
  },
  {
   "cell_type": "code",
   "execution_count": 25,
   "metadata": {
    "slideshow": {
     "slide_type": ""
    },
    "tags": []
   },
   "outputs": [],
   "source": [
    "gmsh.finalize()"
   ]
  }
 ],
 "metadata": {
  "kernelspec": {
   "display_name": "Julia 1.10.0",
   "language": "julia",
   "name": "julia-1.10"
  },
  "language_info": {
   "file_extension": ".jl",
   "mimetype": "application/julia",
   "name": "julia",
   "version": "1.10.0"
  },
  "varInspector": {
   "cols": {
    "lenName": 16,
    "lenType": 16,
    "lenVar": 40
   },
   "kernels_config": {
    "python": {
     "delete_cmd_postfix": "",
     "delete_cmd_prefix": "del ",
     "library": "var_list.py",
     "varRefreshCmd": "print(var_dic_list())"
    },
    "r": {
     "delete_cmd_postfix": ") ",
     "delete_cmd_prefix": "rm(",
     "library": "var_list.r",
     "varRefreshCmd": "cat(var_dic_list()) "
    }
   },
   "types_to_exclude": [
    "module",
    "function",
    "builtin_function_or_method",
    "instance",
    "_Feature"
   ],
   "window_display": false
  }
 },
 "nbformat": 4,
 "nbformat_minor": 4
}
