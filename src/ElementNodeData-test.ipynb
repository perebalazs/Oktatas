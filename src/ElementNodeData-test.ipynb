{
 "cells": [
  {
   "cell_type": "code",
   "execution_count": 1,
   "metadata": {},
   "outputs": [],
   "source": [
    "import gmsh\n",
    "gmsh.initialize()"
   ]
  },
  {
   "cell_type": "code",
   "execution_count": 2,
   "metadata": {},
   "outputs": [],
   "source": [
    "# Geometria megrajzolása\n",
    "gmsh.model.add(\"rectangle\")\n",
    "\n",
    "p1 = gmsh.model.occ.addPoint(0, 0, 0)\n",
    "p2 = gmsh.model.occ.addPoint(2, 0, 0)\n",
    "p3 = gmsh.model.occ.addPoint(2, 1, 0)\n",
    "p4 = gmsh.model.occ.addPoint(0, 1, 0)\n",
    "\n",
    "l1 = gmsh.model.occ.addLine(p1, p2)\n",
    "l2 = gmsh.model.occ.addLine(p2, p3)\n",
    "l3 = gmsh.model.occ.addLine(p3, p4)\n",
    "l4 = gmsh.model.occ.addLine(p4, p1)\n",
    "\n",
    "cl1 = gmsh.model.occ.addCurveLoop([l1, l2, l3, l4])\n",
    "\n",
    "sf1 = gmsh.model.occ.addPlaneSurface([cl1])\n",
    "\n",
    "gmsh.model.occ.synchronize()"
   ]
  },
  {
   "cell_type": "code",
   "execution_count": 3,
   "metadata": {},
   "outputs": [
    {
     "name": "stdout",
     "output_type": "stream",
     "text": [
      "Info    : Meshing 1D...\n",
      "Info    : [  0%] Meshing curve 1 (Line)\n",
      "Info    : [ 30%] Meshing curve 2 (Line)\n",
      "Info    : [ 50%] Meshing curve 3 (Line)\n",
      "Info    : [ 80%] Meshing curve 4 (Line)\n",
      "Info    : Done meshing 1D (Wall 0.000428044s, CPU 0.000403s)\n",
      "Info    : 6 nodes 10 elements\n",
      "Info    : Meshing 2D...\n",
      "Info    : Meshing surface 1 (Plane, Frontal-Delaunay for Quads)\n",
      "Info    : Done meshing 2D (Wall 0.000366734s, CPU 0.000367s)\n",
      "Info    : 6 nodes 14 elements\n",
      "Info    : Recombining 2D mesh...\n",
      "Info    : Blossom: 3 internal 4 closed\n",
      "Info    : Blossom recombination completed (Wall 6.9226e-05s, CPU 6.9e-05s): 2 quads, 0 triangles, 0 invalid quads, 0 quads with Q < 0.1, avg Q = 1, min Q = 1\n",
      "Info    : Done recombining 2D mesh (Wall 8.1765e-05s, CPU 8.5e-05s)\n",
      "Info    : Meshing order 2 (curvilinear on)...\n",
      "Info    : [  0%] Meshing curve 1 order 2\n",
      "Info    : [ 20%] Meshing curve 2 order 2\n",
      "Info    : [ 40%] Meshing curve 3 order 2\n",
      "Info    : [ 60%] Meshing curve 4 order 2\n",
      "Info    : [ 80%] Meshing surface 1 order 2\n",
      "Info    : Done meshing order 2 (Wall 0.000179371s, CPU 0.000183s)\n"
     ]
    }
   ],
   "source": [
    "# Végeselemes felosztás elvégzése\n",
    "\n",
    "# lekérjük az összes csomópontot\n",
    "all = gmsh.model.getEntities(0)\n",
    "# megadjuk, hogy a csomóponthoz rendelt eleméret mekkora legyen\n",
    "gmsh.model.mesh.setSize(all, 1)\n",
    "# kiválasztjuk a 8-as számú hálózó algoritmust a 2D-s sf1 felülethez\n",
    "gmsh.model.mesh.setAlgorithm(2, sf1, 8)\n",
    "# legeneráljuk a hálót a felület kontúrjához (1D-s)\n",
    "gmsh.model.mesh.generate(1)\n",
    "# legeneráljuk a hálót a felülethez (2D-s)\n",
    "gmsh.model.mesh.generate(2)\n",
    "# a legenerált háromszög elemeket négyszög elemekké alakítjuk\n",
    "gmsh.model.mesh.recombine()\n",
    "\n",
    "gmsh.model.mesh.setOrder(2)"
   ]
  },
  {
   "cell_type": "code",
   "execution_count": 4,
   "metadata": {},
   "outputs": [],
   "source": [
    "# Néhány láthatósági beállítás 0:kikapcs. 1:bekapcs.\n",
    "gmsh.option.setNumber(\"Geometry.CurveLabels\", 0)\n",
    "gmsh.option.setNumber(\"Mesh.Points\", 0)\n",
    "gmsh.option.setNumber(\"Mesh.Lines\", 0)\n",
    "gmsh.option.setNumber(\"Mesh.SurfaceEdges\", 1)\n",
    "gmsh.option.setNumber(\"Mesh.NodeLabels\", 1)\n",
    "gmsh.option.setNumber(\"Mesh.LineLabels\", 0)\n",
    "gmsh.option.setNumber(\"Mesh.SurfaceLabels\", 0)"
   ]
  },
  {
   "cell_type": "code",
   "execution_count": 5,
   "metadata": {},
   "outputs": [],
   "source": [
    "gmsh.option.setNumber(\"View.IntervalsType\", 2)\n",
    "gmsh.option.setNumber(\"View.VectorType\", 2)\n",
    "gmsh.option.setNumber(\"View.GlyphLocation\", 2)"
   ]
  },
  {
   "cell_type": "code",
   "execution_count": 6,
   "metadata": {},
   "outputs": [
    {
     "data": {
      "text/plain": [
       "15-element Vector{UInt64}:\n",
       " 0x0000000000000001\n",
       " 0x0000000000000002\n",
       " 0x0000000000000003\n",
       " 0x0000000000000004\n",
       " 0x0000000000000005\n",
       " 0x0000000000000006\n",
       " 0x0000000000000007\n",
       " 0x0000000000000008\n",
       " 0x0000000000000009\n",
       " 0x000000000000000a\n",
       " 0x000000000000000b\n",
       " 0x000000000000000c\n",
       " 0x000000000000000d\n",
       " 0x000000000000000e\n",
       " 0x000000000000000f"
      ]
     },
     "metadata": {},
     "output_type": "display_data"
    },
    {
     "data": {
      "text/plain": [
       "15-element Vector{UInt64}:\n",
       " 0x0000000000000001\n",
       " 0x0000000000000002\n",
       " 0x0000000000000003\n",
       " 0x0000000000000004\n",
       " 0x0000000000000005\n",
       " 0x0000000000000006\n",
       " 0x0000000000000007\n",
       " 0x0000000000000008\n",
       " 0x0000000000000009\n",
       " 0x000000000000000a\n",
       " 0x000000000000000b\n",
       " 0x000000000000000c\n",
       " 0x000000000000000d\n",
       " 0x000000000000000e\n",
       " 0x000000000000000f"
      ]
     },
     "metadata": {},
     "output_type": "display_data"
    }
   ],
   "source": [
    "uvec = gmsh.view.add(\"u\")\n",
    "nodeTags, nodeCoords, nodeParams = gmsh.model.mesh.getNodes(-1, -1)\n",
    "display(nodeTags)\n",
    "uu = [1, 0, 0,\n",
    "    1, 0, 0,\n",
    "    1, 0, 0,\n",
    "    1, 0, 0,\n",
    "    1, 0, 0,\n",
    "    0, 1, 0,\n",
    "    0, 1, 0,\n",
    "    0, 1, 0,\n",
    "    1, 0, 0,\n",
    "    0, 1, 0,\n",
    "    0, 1, 0,\n",
    "    0, 1, 0,\n",
    "    0, 1, 0,\n",
    "    0, 1, 0,\n",
    "    0, 1, 0]\n",
    "#nodeTags = [1, 2, 3, 4, 5, 6, 7, 8, 9, 10, 11, 12, 13, 14, 15]\n",
    "gmsh.view.addHomogeneousModelData(uvec, 0, \"rectangle\", \"NodeData\", nodeTags, uu, 0, 3)\n",
    "nodeTags"
   ]
  },
  {
   "cell_type": "code",
   "execution_count": 7,
   "metadata": {},
   "outputs": [
    {
     "data": {
      "text/plain": [
       "15-element Vector{UInt64}:\n",
       " 0x0000000000000001\n",
       " 0x0000000000000002\n",
       " 0x0000000000000003\n",
       " 0x0000000000000004\n",
       " 0x0000000000000005\n",
       " 0x0000000000000006\n",
       " 0x0000000000000007\n",
       " 0x0000000000000008\n",
       " 0x0000000000000009\n",
       " 0x000000000000000a\n",
       " 0x000000000000000b\n",
       " 0x000000000000000c\n",
       " 0x000000000000000d\n",
       " 0x000000000000000e\n",
       " 0x000000000000000f"
      ]
     },
     "metadata": {},
     "output_type": "display_data"
    },
    {
     "data": {
      "text/plain": [
       "15-element Vector{UInt64}:\n",
       " 0x0000000000000001\n",
       " 0x0000000000000002\n",
       " 0x0000000000000003\n",
       " 0x0000000000000004\n",
       " 0x0000000000000005\n",
       " 0x0000000000000006\n",
       " 0x0000000000000007\n",
       " 0x0000000000000008\n",
       " 0x0000000000000009\n",
       " 0x000000000000000a\n",
       " 0x000000000000000b\n",
       " 0x000000000000000c\n",
       " 0x000000000000000d\n",
       " 0x000000000000000e\n",
       " 0x000000000000000f"
      ]
     },
     "metadata": {},
     "output_type": "display_data"
    }
   ],
   "source": [
    "uvec = gmsh.view.add(\"v\")\n",
    "nodeTags, nodeCoords, nodeParams = gmsh.model.mesh.getNodes(-1, -1)\n",
    "display(nodeTags)\n",
    "uu = [[1.0, 0, 0],\n",
    "    [1, 0, 0],\n",
    "    [1, 0, 0],\n",
    "    [1, 0, 0],\n",
    "    [1, 0, 0],\n",
    "    [0, 1, 0],\n",
    "    [0, 1, 0],\n",
    "    [0, 1, 0],\n",
    "    [1, 0, 0],\n",
    "    [0, 1, 0],\n",
    "    [0, 1, 0],\n",
    "    [0, 1, 0],\n",
    "    [0, 1, 0],\n",
    "    [0, 1, 0],\n",
    "    [0, 1, 0]]\n",
    "#nodeTags = [1, 2, 3, 4, 5, 6, 7, 8, 9, 10, 11, 12, 13, 14, 15]\n",
    "gmsh.view.addModelData(uvec, 0, \"rectangle\", \"NodeData\", nodeTags, uu, 0, 3)\n",
    "nodeTags"
   ]
  },
  {
   "cell_type": "code",
   "execution_count": 8,
   "metadata": {},
   "outputs": [
    {
     "data": {
      "text/plain": [
       "9×2 Matrix{UInt64}:\n",
       " 0x0000000000000002  0x0000000000000001\n",
       " 0x0000000000000003  0x0000000000000005\n",
       " 0x0000000000000009  0x0000000000000009\n",
       " 0x0000000000000005  0x0000000000000004\n",
       " 0x0000000000000008  0x0000000000000006\n",
       " 0x000000000000000a  0x000000000000000d\n",
       " 0x000000000000000d  0x000000000000000b\n",
       " 0x0000000000000007  0x000000000000000c\n",
       " 0x000000000000000e  0x000000000000000f"
      ]
     },
     "metadata": {},
     "output_type": "display_data"
    },
    {
     "data": {
      "text/plain": [
       "1-element Vector{Vector{UInt64}}:\n",
       " [0x000000000000000b, 0x000000000000000c]"
      ]
     },
     "metadata": {},
     "output_type": "display_data"
    },
    {
     "data": {
      "text/plain": [
       "9×2 Matrix{UInt64}:\n",
       " 0x0000000000000002  0x0000000000000001\n",
       " 0x0000000000000003  0x0000000000000005\n",
       " 0x0000000000000009  0x0000000000000009\n",
       " 0x0000000000000005  0x0000000000000004\n",
       " 0x0000000000000008  0x0000000000000006\n",
       " 0x000000000000000a  0x000000000000000d\n",
       " 0x000000000000000d  0x000000000000000b\n",
       " 0x0000000000000007  0x000000000000000c\n",
       " 0x000000000000000e  0x000000000000000f"
      ]
     },
     "metadata": {},
     "output_type": "display_data"
    },
    {
     "name": "stdout",
     "output_type": "stream",
     "text": [
      "Info    : Running Plugin(Smooth)...\n",
      "Info    : Done running Plugin(Smooth)\n"
     ]
    },
    {
     "data": {
      "text/plain": [
       "2"
      ]
     },
     "metadata": {},
     "output_type": "display_data"
    }
   ],
   "source": [
    "uvec = gmsh.view.add(\"σ\")\n",
    "elemTypes, elemTags, elemNodeTags = gmsh.model.mesh.getElements(2, -1)\n",
    "display(reshape(elemNodeTags[1], 9, :))\n",
    "ss = [0, 0, 0, 0, 0, 0, 0, 0, 0,\n",
    "    0, 0, 0, 0, 0, 0, 0, 0, 0,\n",
    "    0, 0, 0, 0, 0, 0, 0, 0, 0,\n",
    "    0, 0, 0, 0, 0, 0, 0, 0, 0,\n",
    "    0, 0, 0, 0, 0, 0, 0, 0, 0,\n",
    "    0, 0, 0, 0, 0, 0, 0, 0, 0,\n",
    "    0, 0, 0, 0, 0, 0, 0, 0, 0,\n",
    "    0, 0, 0, 0, 0, 0, 0, 0, 0,\n",
    "    0, 0, 0, 0, 0, 0, 0, 0, 0,\n",
    "    0, 0, 0, 0, 0, 0, 0, 0, 0,\n",
    "    0, 0, 0, 0, 0, 0, 0, 0, 0,\n",
    "    0, 0, 0, 0, 0, 0, 0, 0, 0,\n",
    "    0, 0, 0, 0, 0, 0, 0, 0, 0,\n",
    "    0, 0, 0, 0, 0, 0, 0, 0, 0,\n",
    "    0, 0, 0, 0, 0, 0, 0, 0, 0,\n",
    "    0, 0, 0, 0, 0, 0, 0, 0, 0,\n",
    "    0, 0, 0, 0, 0, 0, 0, 0, 0,\n",
    "    0, 0, 0, 0, 0, 0, 0, 0, 0]\n",
    "#elemTags = [11, 12]\n",
    "#elementNodeTags = [1, 2, 3, 4, 5, 6]\n",
    "gmsh.view.addHomogeneousModelData(uvec, 0, \"rectangle\", \"ElementNodeData\", elemTags[1], ss, 0, 9)\n",
    "display(elemTags)\n",
    "#display(reshape(elemTags[1], 2, :))\n",
    "display(reshape(elemNodeTags[1], 9, :))\n",
    "\n",
    "gmsh.plugin.setNumber(\"Smooth\", \"View\", 1)\n",
    "gmsh.plugin.run(\"Smooth\")"
   ]
  },
  {
   "cell_type": "code",
   "execution_count": 9,
   "metadata": {},
   "outputs": [
    {
     "data": {
      "text/plain": [
       "9×2 Matrix{UInt64}:\n",
       " 0x0000000000000002  0x0000000000000001\n",
       " 0x0000000000000003  0x0000000000000005\n",
       " 0x0000000000000009  0x0000000000000009\n",
       " 0x0000000000000005  0x0000000000000004\n",
       " 0x0000000000000008  0x0000000000000006\n",
       " 0x000000000000000a  0x000000000000000d\n",
       " 0x000000000000000d  0x000000000000000b\n",
       " 0x0000000000000007  0x000000000000000c\n",
       " 0x000000000000000e  0x000000000000000f"
      ]
     },
     "metadata": {},
     "output_type": "display_data"
    },
    {
     "data": {
      "text/plain": [
       "1×2 Matrix{UInt64}:\n",
       " 0x000000000000000b  0x000000000000000c"
      ]
     },
     "metadata": {},
     "output_type": "display_data"
    },
    {
     "data": {
      "text/plain": [
       "1×18 Matrix{UInt64}:\n",
       " 0x0000000000000002  0x0000000000000003  …  0x000000000000000f"
      ]
     },
     "metadata": {},
     "output_type": "display_data"
    },
    {
     "name": "stdout",
     "output_type": "stream",
     "text": [
      "Info    : Running Plugin(Smooth)...\n",
      "Info    : Done running Plugin(Smooth)\n"
     ]
    },
    {
     "data": {
      "text/plain": [
       "4"
      ]
     },
     "metadata": {},
     "output_type": "display_data"
    }
   ],
   "source": [
    "T = gmsh.view.add(\"T\")\n",
    "elemTypes, elemTags, elemNodeTags = gmsh.model.mesh.getElements(2, -1)\n",
    "display(reshape(elemNodeTags[1], 9, :))\n",
    "display(reshape(elemTags[1], 1, :))\n",
    "TT = [[1, 0, 0, 0, 0, 0, 0, 0, 3],\n",
    "    [0, 0, 0, 0, 0, 0, 0, 0, 3]]\n",
    "#elemTags = [11, 12]\n",
    "#elementNodeTags = [1, 2, 3, 4, 5, 6]\n",
    "gmsh.view.addModelData(T, 0, \"rectangle\", \"ElementNodeData\", elemTags[1], TT, 0, 1)\n",
    "#display(reshape(elemTags[1], 2, :))\n",
    "display(reshape(elemNodeTags[1], 1, :))\n",
    "\n",
    "gmsh.plugin.setNumber(\"Smooth\", \"View\", -1)\n",
    "gmsh.plugin.run(\"Smooth\")"
   ]
  },
  {
   "cell_type": "code",
   "execution_count": 10,
   "metadata": {},
   "outputs": [
    {
     "data": {
      "text/plain": [
       "([3.0], 0.0)"
      ]
     },
     "metadata": {},
     "output_type": "display_data"
    }
   ],
   "source": [
    "gmsh.view.probe(T, 0.5, 0.5, 0)"
   ]
  },
  {
   "cell_type": "code",
   "execution_count": 11,
   "metadata": {},
   "outputs": [],
   "source": [
    "#gmsh.write(\"rect.geo\")\n",
    "#gmsh.write(\"rect.msh\")\n",
    "#gmsh.write(\"rect.pos\")"
   ]
  },
  {
   "cell_type": "code",
   "execution_count": 12,
   "metadata": {},
   "outputs": [
    {
     "name": "stdout",
     "output_type": "stream",
     "text": [
      "-------------------------------------------------------\n",
      "Version       : 4.11.1\n",
      "License       : GNU General Public License\n",
      "Build OS      : Linux64-sdk\n",
      "Build date    : 20221221\n",
      "Build host    : gmsh.info\n",
      "Build options : 64Bit ALGLIB[contrib] ANN[contrib] Bamg Blas[petsc] Blossom Cgns DIntegration Dlopen DomHex Eigen[contrib] Fltk Gmm[contrib] Hxt Jpeg Kbipack Lapack[petsc] LinuxJoystick MathEx[contrib] Med Mesh Metis[contrib] Mmg Mpeg Netgen ONELAB ONELABMetamodel OpenCASCADE OpenCASCADE-CAF OpenGL OpenMP OptHom PETSc Parser Plugins Png Post QuadMeshingTools QuadTri Solver TetGen/BR Voro++[contrib] WinslowUntangler Zlib\n",
      "FLTK version  : 1.4.0\n",
      "PETSc version : 3.14.4 (real arithmtic)\n",
      "OCC version   : 7.6.1\n",
      "MED version   : 4.1.0\n",
      "Packaged by   : geuzaine\n",
      "Web site      : https://gmsh.info\n",
      "Issue tracker : https://gitlab.onelab.info/gmsh/gmsh/issues\n",
      "-------------------------------------------------------\n"
     ]
    }
   ],
   "source": [
    "gmsh.fltk.run()"
   ]
  },
  {
   "cell_type": "code",
   "execution_count": 13,
   "metadata": {},
   "outputs": [],
   "source": [
    "gmsh.finalize()"
   ]
  }
 ],
 "metadata": {
  "kernelspec": {
   "display_name": "Julia 1.9.3",
   "language": "julia",
   "name": "julia-1.9"
  },
  "language_info": {
   "file_extension": ".jl",
   "mimetype": "application/julia",
   "name": "julia",
   "version": "1.9.3"
  },
  "varInspector": {
   "cols": {
    "lenName": 16,
    "lenType": 16,
    "lenVar": 40
   },
   "kernels_config": {
    "python": {
     "delete_cmd_postfix": "",
     "delete_cmd_prefix": "del ",
     "library": "var_list.py",
     "varRefreshCmd": "print(var_dic_list())"
    },
    "r": {
     "delete_cmd_postfix": ") ",
     "delete_cmd_prefix": "rm(",
     "library": "var_list.r",
     "varRefreshCmd": "cat(var_dic_list()) "
    }
   },
   "types_to_exclude": [
    "module",
    "function",
    "builtin_function_or_method",
    "instance",
    "_Feature"
   ],
   "window_display": false
  }
 },
 "nbformat": 4,
 "nbformat_minor": 2
}
