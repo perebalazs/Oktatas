{
 "cells": [
  {
   "cell_type": "code",
   "execution_count": 1,
   "metadata": {},
   "outputs": [],
   "source": [
    "using LinearAlgebra, SparseArrays\n",
    "import gmsh\n",
    "gmsh.initialize()\n",
    "\n",
    "include(\"FEM.jl\")\n",
    "using .FEM"
   ]
  },
  {
   "cell_type": "code",
   "execution_count": 2,
   "metadata": {},
   "outputs": [
    {
     "data": {
      "text/plain": [
       "Main.FEM.Problem(\"bending2D\", \"PlaneStress\", 2, 200000.0, 0.3, 7.85e-9, 1.0)"
      ]
     },
     "metadata": {},
     "output_type": "display_data"
    }
   ],
   "source": [
    "problem = FEM.Problem(\"bending2D\", type=\"PlaneStress\", dim=2)"
   ]
  },
  {
   "cell_type": "code",
   "execution_count": 3,
   "metadata": {},
   "outputs": [
    {
     "name": "stdout",
     "output_type": "stream",
     "text": [
      "Info    : Reading 'bending2D.geo'...\n",
      "Info    : Meshing 1D...\n",
      "Info    : [  0%] Meshing curve 1 (Line)\n",
      "Info    : [ 30%] Meshing curve 2 (Line)\n",
      "Info    : [ 50%] Meshing curve 3 (Line)\n",
      "Info    : [ 80%] Meshing curve 4 (Line)\n",
      "Info    : Done meshing 1D (Wall 0.000524836s, CPU 0.000524s)\n",
      "Info    : Meshing 2D...\n",
      "Info    : Meshing surface 1 (Plane, Frontal-Delaunay)\n",
      "Info    : Done meshing 2D (Wall 0.0188191s, CPU 0.018413s)\n",
      "Info    : 181 nodes 364 elements\n",
      "Info    : Done reading 'bending2D.geo'\n"
     ]
    }
   ],
   "source": [
    "gmsh.open(\"bending2D.geo\")"
   ]
  },
  {
   "cell_type": "code",
   "execution_count": 4,
   "metadata": {},
   "outputs": [
    {
     "data": {
      "text/plain": [
       "1-element Vector{Tuple{Int32, Int32}}:\n",
       " (2, 1)"
      ]
     },
     "metadata": {},
     "output_type": "display_data"
    }
   ],
   "source": [
    "gmsh.model.getEntitiesForPhysicalName(\"body\")\n",
    "#gmsh.model.mesh.getElements(3, 1)"
   ]
  },
  {
   "cell_type": "code",
   "execution_count": 5,
   "metadata": {},
   "outputs": [],
   "source": [
    "#gmsh.fltk.run()"
   ]
  },
  {
   "cell_type": "code",
   "execution_count": 6,
   "metadata": {},
   "outputs": [],
   "source": [
    "# Néhány láthatósági beállítás 0:kikapcs. 1:bekapcs.\n",
    "gmsh.option.setNumber(\"Geometry.CurveLabels\", 0)\n",
    "gmsh.option.setNumber(\"Geometry.Points\", 0)\n",
    "gmsh.option.setNumber(\"Geometry.Curves\", 0)\n",
    "gmsh.option.setNumber(\"Mesh.Points\", 0)\n",
    "gmsh.option.setNumber(\"Mesh.Lines\", 0)\n",
    "gmsh.option.setNumber(\"Mesh.SurfaceEdges\", 0)\n",
    "gmsh.option.setNumber(\"Mesh.NodeLabels\", 0)\n",
    "gmsh.option.setNumber(\"Mesh.LineLabels\", 0)\n",
    "gmsh.option.setNumber(\"Mesh.SurfaceLabels\", 0)"
   ]
  },
  {
   "cell_type": "code",
   "execution_count": 7,
   "metadata": {},
   "outputs": [
    {
     "data": {
      "text/plain": [
       "362×362 SparseMatrixCSC{Float64, Int64} with 4436 stored entries:\n",
       "⎡⠿⣧⡀⠀⠀⠀⠀⠀⠓⠂⠀⠀⠀⠀⠀⠀⠎⠀⠀⠀⠠⡀⠀⢠⠀⠀⠀⠀⢀⡀⠀⠀⠀⠀⠀⠀⠀⠀⠸⠇⎤\n",
       "⎢⠀⠈⠻⣦⡀⠀⠀⠀⠀⠀⠀⠀⠀⠀⠀⠀⠀⠀⠀⠀⠀⠙⣇⠀⠀⣠⠀⠀⢚⠃⠀⠀⠀⠀⠀⠀⠀⠀⠀⠀⎥\n",
       "⎢⠀⠀⠀⠈⠻⣦⡀⠀⠀⠀⠀⠀⠀⠀⠀⠀⠀⠀⢀⠜⠀⠀⠈⠀⢀⡋⡄⠀⠀⠀⡰⠂⠀⠀⠀⠀⠀⠀⠀⠀⎥\n",
       "⎢⠀⠀⠀⠀⠀⠈⠻⣦⡀⠀⠀⠀⠀⠀⠀⠀⢀⠆⠉⠀⠀⠀⠀⠀⠀⠀⠃⠀⠀⠰⡅⠀⡄⠀⠀⠀⠀⠀⡀⠀⎥\n",
       "⎢⠹⠀⠀⠀⠀⠀⠀⠈⠛⣤⡀⠀⠀⠀⠀⠀⠈⠀⠀⠀⢄⠀⠀⢣⡄⠀⢀⡀⠀⠀⠀⠀⠀⠀⠀⠀⠀⠐⠱⠁⎥\n",
       "⎢⠀⠀⠀⠀⠀⠀⠀⠀⠀⠈⠻⣦⡀⠀⠀⠀⠀⠀⠀⠀⡄⠙⠰⠀⠸⠀⢨⠁⠀⠀⠀⡀⠀⠀⠀⠀⠀⣀⠀⠀⎥\n",
       "⎢⠀⠀⠀⠀⠀⠀⠀⠀⠀⠀⠀⠈⠻⣦⡀⠀⠀⠀⢀⡼⠁⠀⠀⠒⠀⠀⠀⠳⠀⢄⠀⠀⠀⠀⠀⠀⠀⠉⠀⠀⎥\n",
       "⎢⠀⠀⠀⠀⠀⠀⠀⠀⠀⠀⠀⠀⠀⠈⠻⣦⡀⢰⠟⠀⠀⠀⠀⠀⠀⠰⠀⠈⡇⠀⠀⠀⠀⠀⠀⠀⠀⠀⡀⠀⎥\n",
       "⎢⠊⠁⠀⠀⠀⠀⠠⠔⠂⠀⠀⠀⠀⠀⢀⣈⠛⢄⡀⠀⠀⠀⠀⠃⠀⢀⠄⠀⡀⠠⠖⢐⡦⣄⡀⠀⠀⠘⡛⠁⎥\n",
       "⎢⠀⠀⠀⠀⣀⠔⠃⠀⠀⠀⠀⠀⣀⡴⠛⠁⠀⠈⠛⢄⡀⠀⠀⠀⠐⡊⠥⣘⠃⡴⢣⡀⠀⠉⠛⢗⣆⣀⠀⠀⎥\n",
       "⎢⠀⠢⣄⠀⠀⠀⠀⠀⠀⠑⣄⠉⠁⠀⠀⠀⠀⠀⠀⠈⠑⣤⡀⠸⢢⠀⢸⡇⣠⡄⠈⠹⢶⣤⡄⠀⠁⠙⠘⠚⎥\n",
       "⎢⠀⣀⠉⠙⠂⠀⠀⠀⠤⣀⠐⠂⢠⠀⠀⠀⠤⠀⠀⠀⣀⡈⠑⣤⡐⠚⠐⣤⠙⠁⣀⢀⡀⠈⠙⠙⢢⡤⠤⠤⎥\n",
       "⎢⠀⠀⠀⣠⡤⠰⠀⠀⠀⠉⠒⠂⠀⠀⢀⡀⠀⢀⡰⠠⠈⠒⣰⠈⠱⣦⠆⠀⠀⠀⠉⠀⠙⣂⢒⣠⣦⠆⠀⠀⎥\n",
       "⎢⠀⠀⠀⠀⠀⠉⠉⠀⠀⠰⠆⠒⢤⡀⡀⠀⠀⠁⣁⢣⠶⠶⠐⣤⠈⠁⠻⢆⠀⠀⠰⠆⠶⠁⢁⡐⢂⠗⠀⠀⎥\n",
       "⎢⠀⠰⠾⠐⠀⠀⢀⡀⠀⠀⠀⠀⠀⢄⠉⠉⠀⡈⢉⡤⠀⠾⠗⠀⠀⠀⠀⠀⠻⢆⠀⠈⢁⠾⠇⣣⠆⠀⠀⠀⎥\n",
       "⎢⠀⠀⠀⠀⠰⠊⠁⠉⠀⠀⠀⠠⠀⠀⠀⠀⢘⢁⠉⠲⣆⡀⠀⢘⠃⠀⠰⠆⡀⠀⣻⢞⡋⢀⡈⠈⠀⠶⡀⣀⎥\n",
       "⎢⠀⠀⠀⠀⠀⠀⠀⠉⠀⠀⠀⠀⠀⠀⠀⠀⠈⢯⡄⠀⠘⣷⡀⠈⠳⢠⠜⠃⣡⡔⠋⢈⡻⣮⡅⠀⠀⠀⠀⠀⎥\n",
       "⎢⠀⠀⠀⠀⠀⠀⠀⠀⠀⠀⠀⠀⠀⠀⠀⠀⠀⠈⢿⢄⠀⠉⣗⠀⠘⣰⢁⠰⠭⣡⡂⠈⠁⠉⢿⣷⣄⠀⠀⠀⎥\n",
       "⎢⠀⠀⠀⠀⠀⠀⠀⠀⢀⠀⠀⢠⡄⠀⠀⠀⣀⠀⠈⢹⣅⠀⠈⡶⠨⠟⢬⠔⠈⠁⢠⡄⠀⠀⠀⠙⠿⣧⢀⣀⎥\n",
       "⎣⠶⠆⠀⠀⠀⠀⠀⠈⠕⠂⠀⠀⠀⠀⠀⠈⠟⠈⠀⠀⣲⠀⠀⡇⠀⠀⠀⠀⠀⠀⠀⢨⠀⠀⠀⠀⠀⢰⡿⣯⎦"
      ]
     },
     "metadata": {},
     "output_type": "display_data"
    }
   ],
   "source": [
    "K = FEM.stiffnessMatrixSolid(problem, \"xxxx\")"
   ]
  },
  {
   "cell_type": "code",
   "execution_count": 8,
   "metadata": {},
   "outputs": [
    {
     "data": {
      "text/plain": [
       "(\"load\", 0, -1, 0)"
      ]
     },
     "metadata": {},
     "output_type": "display_data"
    }
   ],
   "source": [
    "supp = FEM.displacementConstraint(\"supp\", ux=0, uy=0)\n",
    "load = FEM.traction(\"load\", fy=-1)"
   ]
  },
  {
   "cell_type": "code",
   "execution_count": 9,
   "metadata": {},
   "outputs": [
    {
     "data": {
      "text/plain": [
       "(sparse([1, 2, 3, 4, 73, 74, 75, 76, 357, 358  …  209, 210, 289, 290, 343, 344, 347, 348, 361, 362], [1, 2, 3, 3, 3, 3, 3, 3, 3, 3  …  362, 362, 362, 362, 362, 362, 362, 362, 362, 362], [1.0, 1.0, 115949.76838939142, -46832.083053104674, -51668.96563286312, -6751.749694420043, 1656.872831484543, -17844.738681046856, -65937.67558801285, 71428.57142857157  …  79275.45714062147, -76531.20244084157, 82.49325820556987, -46133.44195506869, -82680.7828348008, -81864.17298575482, -38546.93528320095, -153629.61875752662, -691.6696770319813, 509047.9667898627], 362, 362), [0.0; 0.0; … ; 0.0; 0.0;;])"
      ]
     },
     "metadata": {},
     "output_type": "display_data"
    }
   ],
   "source": [
    "K, f = FEM.applyBoundaryConditions!(problem, K, [supp], [load])"
   ]
  },
  {
   "cell_type": "code",
   "execution_count": 10,
   "metadata": {},
   "outputs": [],
   "source": [
    "#det(K)"
   ]
  },
  {
   "cell_type": "code",
   "execution_count": 11,
   "metadata": {},
   "outputs": [
    {
     "data": {
      "text/plain": [
       "362×1 Matrix{Float64}:\n",
       "  0.0\n",
       "  0.0\n",
       " -0.0133650226538134\n",
       " -0.17966738317225822\n",
       "  0.013364942641543493\n",
       " -0.1796672206849433\n",
       "  0.0\n",
       "  0.0\n",
       " -0.0008242580369268306\n",
       " -0.0004012184687728759\n",
       "  ⋮\n",
       " -0.00011975344306294091\n",
       "  0.00029926000921432595\n",
       " -0.0001192671807757428\n",
       " -0.008597525718126114\n",
       " -0.17466366857132587\n",
       "  2.903142700826205e-7\n",
       " -0.00037760614298289923\n",
       "  1.5458159367825594e-5\n",
       " -0.16954041157956726"
      ]
     },
     "metadata": {},
     "output_type": "display_data"
    }
   ],
   "source": [
    "q = FEM.solveDisplacement(K, f)"
   ]
  },
  {
   "cell_type": "code",
   "execution_count": 12,
   "metadata": {},
   "outputs": [
    {
     "data": {
      "text/plain": [
       "([[-12.57605739931895, -0.7633445309583082, 0.0, -0.7633445309583082, -0.3979290569374103, 0.0, 0.0, 0.0, 0.0, -12.57605739931895  …  0.0, -12.57605739931895, -0.7633445309583082, 0.0, -0.7633445309583082, -0.3979290569374103, 0.0, 0.0, 0.0, 0.0], [-12.334711566882001, -1.3647651795212, 0.0, -1.3647651795212, 0.41974973790006853, 0.0, 0.0, 0.0, 0.0, -12.334711566882001  …  0.0, -12.334711566882001, -1.3647651795212, 0.0, -1.3647651795212, 0.41974973790006853, 0.0, 0.0, 0.0, 0.0], [-0.07173666989208995, -1.2146604044658047, 0.0, -1.2146604044658047, -0.36470147823465693, 0.0, 0.0, 0.0, 0.0, -0.07173666989208995  …  0.0, -0.07173666989208995, -1.2146604044658047, 0.0, -1.2146604044658047, -0.36470147823465693, 0.0, 0.0, 0.0, 0.0], [0.1638195599983232, -1.3662433535293632, 0.0, -1.3662433535293632, 0.4071505882371949, 0.0, 0.0, 0.0, 0.0, 0.1638195599983232  …  0.0, 0.1638195599983232, -1.3662433535293632, 0.0, -1.3662433535293632, 0.4071505882371949, 0.0, 0.0, 0.0, 0.0], [-0.011964831325076827, -1.3176242560332685, 0.0, -1.3176242560332685, 0.037240297280549665, 0.0, 0.0, 0.0, 0.0, -0.011964831325076827  …  0.0, -0.011964831325076827, -1.3176242560332685, 0.0, -1.3176242560332685, 0.037240297280549665, 0.0, 0.0, 0.0, 0.0], [-3.1603867222119373, -0.6581059268208024, 0.0, -0.6581059268208024, -0.08165873518486488, 0.0, 0.0, 0.0, 0.0, -3.1603867222119373  …  0.0, -3.1603867222119373, -0.6581059268208024, 0.0, -0.6581059268208024, -0.08165873518486488, 0.0, 0.0, 0.0, 0.0], [11.08596168463622, -0.6431819940906955, 0.0, -0.6431819940906955, 0.2901101185193453, 0.0, 0.0, 0.0, 0.0, 11.08596168463622  …  0.0, 11.08596168463622, -0.6431819940906955, 0.0, -0.6431819940906955, 0.2901101185193453, 0.0, 0.0, 0.0, 0.0], [-25.124406899148422, -0.2532154438264796, 0.0, -0.2532154438264796, -0.768063360449692, 0.0, 0.0, 0.0, 0.0, -25.124406899148422  …  0.0, -25.124406899148422, -0.2532154438264796, 0.0, -0.2532154438264796, -0.768063360449692, 0.0, 0.0, 0.0, 0.0], [1.514097955099792, -0.6621528913556572, 0.0, -0.6621528913556572, 0.04333491108692422, 0.0, 0.0, 0.0, 0.0, 1.514097955099792  …  0.0, 1.514097955099792, -0.6621528913556572, 0.0, -0.6621528913556572, 0.04333491108692422, 0.0, 0.0, 0.0, 0.0], [-49.49478843379728, -0.26020548580983394, 0.0, -0.26020548580983394, 1.6889849695512247, 0.0, 0.0, 0.0, 0.0, -49.49478843379728  …  0.0, -49.49478843379728, -0.26020548580983394, 0.0, -0.26020548580983394, 1.6889849695512247, 0.0, 0.0, 0.0, 0.0]  …  [-27.110878228642292, -5.499899754195534, 0.0, -5.499899754195534, -0.5064348578828479, 0.0, 0.0, 0.0, 0.0, -27.110878228642292  …  0.0, -27.110878228642292, -5.499899754195534, 0.0, -5.499899754195534, -0.5064348578828479, 0.0, 0.0, 0.0, 0.0], [1.0083809053469193, -1.0491562425720604, 0.0, -1.0491562425720604, 0.019522337765128794, 0.0, 0.0, 0.0, 0.0, 1.0083809053469193  …  0.0, 1.0083809053469193, -1.0491562425720604, 0.0, -1.0491562425720604, 0.019522337765128794, 0.0, 0.0, 0.0, 0.0], [0.3445132277108952, -1.4651580951039551, 0.0, -1.4651580951039551, 0.0577827682004591, 0.0, 0.0, 0.0, 0.0, 0.3445132277108952  …  0.0, 0.3445132277108952, -1.4651580951039551, 0.0, -1.4651580951039551, 0.0577827682004591, 0.0, 0.0, 0.0, 0.0], [-16.009701435284622, 1.4536434423212536, 0.0, 1.4536434423212536, -1.5718104799010346, 0.0, 0.0, 0.0, 0.0, -16.009701435284622  …  0.0, -16.009701435284622, 1.4536434423212536, 0.0, 1.4536434423212536, -1.5718104799010346, 0.0, 0.0, 0.0, 0.0], [-25.198958423539104, 3.628979049912199, 0.0, 3.628979049912199, -3.4470952214979276, 0.0, 0.0, 0.0, 0.0, -25.198958423539104  …  0.0, -25.198958423539104, 3.628979049912199, 0.0, 3.628979049912199, -3.4470952214979276, 0.0, 0.0, 0.0, 0.0], [0.0029913947425472126, -1.1246451062390441, 0.0, -1.1246451062390441, -0.2338308153911104, 0.0, 0.0, 0.0, 0.0, 0.0029913947425472126  …  0.0, 0.0029913947425472126, -1.1246451062390441, 0.0, -1.1246451062390441, -0.2338308153911104, 0.0, 0.0, 0.0, 0.0], [0.004631256558559102, -1.1377389980821588, 0.0, -1.1377389980821588, 0.24786257898811787, 0.0, 0.0, 0.0, 0.0, 0.004631256558559102  …  0.0, 0.004631256558559102, -1.1377389980821588, 0.0, -1.1377389980821588, 0.24786257898811787, 0.0, 0.0, 0.0, 0.0], [25.27781492730126, 3.4974319649230026, 0.0, 3.4974319649230026, 3.108678546869127, 0.0, 0.0, 0.0, 0.0, 25.27781492730126  …  0.0, 25.27781492730126, 3.4974319649230026, 0.0, 3.4974319649230026, 3.108678546869127, 0.0, 0.0, 0.0, 0.0], [-0.012068286836229524, -1.3118997277977076, 0.0, -1.3118997277977076, 0.0026435780498894465, 0.0, 0.0, 0.0, 0.0, -0.012068286836229524  …  0.0, -0.012068286836229524, -1.3118997277977076, 0.0, -1.3118997277977076, 0.0026435780498894465, 0.0, 0.0, 0.0, 0.0], [0.3977211106552845, -5.409687693999546, 0.0, -5.409687693999546, -0.3681755897203066, 0.0, 0.0, 0.0, 0.0, 0.3977211106552845  …  0.0, 0.3977211106552845, -5.409687693999546, 0.0, -5.409687693999546, -0.3681755897203066, 0.0, 0.0, 0.0, 0.0]], [9, 10, 11, 12, 13, 14, 15, 16, 17, 18  …  283, 284, 285, 286, 287, 288, 289, 290, 291, 292])"
      ]
     },
     "metadata": {},
     "output_type": "display_data"
    }
   ],
   "source": [
    "S = FEM.solveStress(problem, q)"
   ]
  },
  {
   "cell_type": "code",
   "execution_count": 13,
   "metadata": {},
   "outputs": [],
   "source": [
    "gmsh.option.setNumber(\"View.IntervalsType\", 3)\n",
    "gmsh.option.setNumber(\"View.VectorType\", 5)\n",
    "gmsh.option.setString(\"View.Format\", \"%.6g\")"
   ]
  },
  {
   "cell_type": "code",
   "execution_count": 14,
   "metadata": {},
   "outputs": [
    {
     "name": "stdout",
     "output_type": "stream",
     "text": [
      "Info    : Running Plugin(Smooth)...\n",
      "Info    : Done running Plugin(Smooth)\n",
      "Info    : Running Plugin(Smooth)...\n",
      "Info    : Done running Plugin(Smooth)\n",
      "Info    : Running Plugin(Smooth)...\n",
      "Info    : Done running Plugin(Smooth)\n",
      "Info    : Running Plugin(Smooth)...\n",
      "Info    : Done running Plugin(Smooth)\n",
      "Info    : Running Plugin(Smooth)...\n",
      "Info    : Done running Plugin(Smooth)\n",
      "Info    : Running Plugin(Smooth)...\n",
      "Info    : Done running Plugin(Smooth)\n",
      "Info    : Running Plugin(Smooth)...\n",
      "Info    : Done running Plugin(Smooth)\n"
     ]
    },
    {
     "data": {
      "text/plain": [
       "10"
      ]
     },
     "metadata": {},
     "output_type": "display_data"
    }
   ],
   "source": [
    "u = FEM.showResultUvec(problem, q, name=\"uvec\", visible=false)\n",
    "ux = FEM.showResultUX(problem, q, name=\"ux\", visible=false)\n",
    "uy = FEM.showResultUY(problem, q, name=\"uy\", visible=false)\n",
    "s = FEM.showStressResults(problem, S, \"s\", name=\"σ\", visible=true, smooth=true)\n",
    "sx = FEM.showStressResults(problem, S, \"sx\", name=\"σx\", visible=false, smooth=true)\n",
    "sy = FEM.showStressResults(problem, S, \"sy\", name=\"σy\", visible=false, smooth=true)\n",
    "sz = FEM.showStressResults(problem, S, \"sz\", name=\"σz\", visible=false, smooth=true)\n",
    "sxy = FEM.showStressResults(problem, S, \"sxy\", name=\"τxy\", visible=false, smooth=true)\n",
    "syz = FEM.showStressResults(problem, S, \"syz\", name=\"τyz\", visible=false, smooth=true)\n",
    "szx = FEM.showStressResults(problem, S, \"szx\", name=\"τzx\", visible=false, smooth=true)"
   ]
  },
  {
   "cell_type": "code",
   "execution_count": 15,
   "metadata": {},
   "outputs": [],
   "source": [
    "#pp1 = gmsh.model.occ.addPoint(50, 0, 5)\n",
    "#pp2 = gmsh.model.occ.addPoint(50, 10, 5)\n",
    "#pp3 = gmsh.model.occ.addPoint(base / 8, height / 4, 0)\n",
    "\n",
    "#pl1 = gmsh.model.occ.addLine(pp1, pp2)\n",
    "#pl2 = gmsh.model.occ.addSpline([pp1, pp3, pp2])\n",
    "\n",
    "\n",
    "#gmsh.model.occ.synchronize()"
   ]
  },
  {
   "cell_type": "code",
   "execution_count": 16,
   "metadata": {},
   "outputs": [],
   "source": [
    "#FEM.plotOnPath(problem, pl1, sx, 100, name=\"σred\", visible=false);"
   ]
  },
  {
   "cell_type": "code",
   "execution_count": 17,
   "metadata": {},
   "outputs": [],
   "source": [
    "#gmsh.option.setNumber(\"PostProcessing.Binary\", 1)\n",
    "#gmsh.option.setNumber(\"PostProcessing.SaveMesh\", 1)\n",
    "\n",
    "#gmsh.write(\"rect.msh\")\n",
    "#gmsh.write(\"rect.opt\")\n",
    "#gmsh.view.write(4, \"rect.pos\")"
   ]
  },
  {
   "cell_type": "code",
   "execution_count": 18,
   "metadata": {},
   "outputs": [
    {
     "name": "stdout",
     "output_type": "stream",
     "text": [
      "-------------------------------------------------------\n",
      "Version       : 4.12.1-git-38a28aaaf\n",
      "License       : GNU General Public License\n",
      "Build OS      : Linux64-sdk\n",
      "Build date    : 20240111\n",
      "Build host    : gmsh.info\n",
      "Build options : 64Bit ALGLIB[contrib] ANN[contrib] Bamg Blas[petsc] Blossom Cgns DIntegration Dlopen DomHex Eigen[contrib] Fltk Gmm[contrib] Hxt Jpeg Kbipack Lapack[petsc] LinuxJoystick MathEx[contrib] Med Mesh Metis[contrib] Mmg Mpeg Netgen ONELAB ONELABMetamodel OpenCASCADE OpenCASCADE-CAF OpenGL OpenMP OptHom PETSc Parser Plugins Png Post QuadMeshingTools QuadTri Solver TetGen/BR Voro++[contrib] WinslowUntangler Zlib\n",
      "FLTK version  : 1.4.0\n",
      "PETSc version : 3.14.4 (real arithmtic)\n",
      "OCC version   : 7.7.2\n",
      "MED version   : 4.1.0\n",
      "Packaged by   : geuzaine\n",
      "Web site      : https://gmsh.info\n",
      "Issue tracker : https://gitlab.onelab.info/gmsh/gmsh/issues\n",
      "-------------------------------------------------------\n"
     ]
    }
   ],
   "source": [
    "gmsh.fltk.run()"
   ]
  },
  {
   "cell_type": "code",
   "execution_count": 19,
   "metadata": {
    "slideshow": {
     "slide_type": ""
    },
    "tags": []
   },
   "outputs": [],
   "source": [
    "gmsh.finalize()"
   ]
  }
 ],
 "metadata": {
  "kernelspec": {
   "display_name": "Julia 1.10.0",
   "language": "julia",
   "name": "julia-1.10"
  },
  "language_info": {
   "file_extension": ".jl",
   "mimetype": "application/julia",
   "name": "julia",
   "version": "1.10.0"
  },
  "varInspector": {
   "cols": {
    "lenName": 16,
    "lenType": 16,
    "lenVar": 40
   },
   "kernels_config": {
    "python": {
     "delete_cmd_postfix": "",
     "delete_cmd_prefix": "del ",
     "library": "var_list.py",
     "varRefreshCmd": "print(var_dic_list())"
    },
    "r": {
     "delete_cmd_postfix": ") ",
     "delete_cmd_prefix": "rm(",
     "library": "var_list.r",
     "varRefreshCmd": "cat(var_dic_list()) "
    }
   },
   "types_to_exclude": [
    "module",
    "function",
    "builtin_function_or_method",
    "instance",
    "_Feature"
   ],
   "window_display": false
  }
 },
 "nbformat": 4,
 "nbformat_minor": 4
}
