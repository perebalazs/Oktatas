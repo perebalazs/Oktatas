{
 "cells": [
  {
   "cell_type": "code",
   "execution_count": 73,
   "metadata": {},
   "outputs": [],
   "source": [
    "import gmsh\n",
    "gmsh.initialize()\n",
    "using LinearAlgebra, SparseArrays"
   ]
  },
  {
   "cell_type": "code",
   "execution_count": 74,
   "metadata": {},
   "outputs": [
    {
     "name": "stdout",
     "output_type": "stream",
     "text": [
      "Info    : Meshing 1D...\n",
      "Info    : Done meshing 1D (Wall 1.2798e-05s, CPU 1.6e-05s)\n",
      "Info    : Meshing 2D...\n",
      "Info    : Done meshing 2D (Wall 3.4503e-05s, CPU 2.9e-05s)\n",
      "Info    : Meshing 3D...\n",
      "Info    : Done meshing 3D (Wall 1.6345e-05s, CPU 1.4e-05s)\n",
      "Info    : 8 nodes 1 elements\n"
     ]
    }
   ],
   "source": [
    "# Geometria megrajzolása\n",
    "gmsh.model.add(\"quad-element\")\n",
    "surf = gmsh.model.addDiscreteEntity(2)\n",
    "\n",
    "gmsh.model.mesh.addNodes(2, surf, [1, 2, 3, 4, 5, 6, 7, 8], [0, 0, 0, 2, 0, 0, 2, 2, 0, 0, 2, 0, 1, 0, 0, 2, 1, 0, 1, 2, 0, 0.5, 1, 0])\n",
    "gmsh.model.mesh.addElementsByType(surf, 16, [1], [1, 2, 3, 4, 5, 6, 7, 8])\n",
    "\n",
    "gmsh.model.mesh.generate(3)"
   ]
  },
  {
   "cell_type": "code",
   "execution_count": 75,
   "metadata": {},
   "outputs": [],
   "source": [
    "# Néhány láthatósági beállítás 0:kikapcs. 1:bekapcs.\n",
    "gmsh.option.setNumber(\"Geometry.CurveLabels\", 0)\n",
    "gmsh.option.setNumber(\"Mesh.Points\", 1)\n",
    "gmsh.option.setNumber(\"Mesh.Lines\", 0)\n",
    "gmsh.option.setNumber(\"Mesh.SurfaceEdges\", 0)\n",
    "gmsh.option.setNumber(\"Mesh.NodeLabels\", 1)\n",
    "gmsh.option.setNumber(\"Mesh.LineLabels\", 0)\n",
    "gmsh.option.setNumber(\"Mesh.SurfaceLabels\", 0)"
   ]
  },
  {
   "cell_type": "code",
   "execution_count": 76,
   "metadata": {},
   "outputs": [
    {
     "data": {
      "text/plain": [
       "0"
      ]
     },
     "metadata": {},
     "output_type": "display_data"
    }
   ],
   "source": [
    "S = gmsh.view.add(\"σ\")"
   ]
  },
  {
   "cell_type": "code",
   "execution_count": 77,
   "metadata": {},
   "outputs": [],
   "source": [
    "gmsh.view.setInterpolationMatrices(S, \"Quadrangle\", 8,\n",
    "    [-0.25, 0.25, 0.25, 0.25, -0.25, -0.25, 0, 0,\n",
    "        -0.25, 0.25, 0.25, -0.25, 0.25, -0.25, 0, 0,\n",
    "        -0.25, 0.25, 0.25, 0.25, 0.25, 0.25, 0, 0,\n",
    "        -0.25, 0.25, 0.25, -0.25, -0.25, 0.25, 0, 0,\n",
    "        0.5, -0.5, 0, 0, 0, 0.5, 0, -0.5,\n",
    "        0.5, 0, -0.5, 0, -0.5, 0, 0.5, 0,\n",
    "        0.5, -0.5, 0, 0, 0, -0.5, 0, 0.5,\n",
    "        0.5, 0, -0.5, 0, 0.5, 0, -0.5, 0],\n",
    "    [0, 0, 0,\n",
    "        2, 0, 0,\n",
    "        0, 2, 0,\n",
    "        1, 1, 0,\n",
    "        1, 2, 0,\n",
    "        2, 1, 0,\n",
    "        1, 0, 0,\n",
    "        0, 1, 0])\n",
    "\n",
    "gmsh.view.option.setNumber(S, \"AdaptVisualizationGrid\", 1)\n",
    "gmsh.view.option.setNumber(S, \"TargetError\", 1e-2)\n",
    "gmsh.view.option.setNumber(S, \"MaxRecursionLevel\", 1)"
   ]
  },
  {
   "cell_type": "code",
   "execution_count": 78,
   "metadata": {},
   "outputs": [],
   "source": [
    "s = []\n",
    "s0 = [1, 0, 0, 0, 1, 0, 0, 0]\n",
    "push!(s, s0)\n",
    "gmsh.view.addModelData(S, 0, \"quad-element\", \"ElementNodeData\", [1], s, 0, 1)\n",
    "\n",
    "#gmsh.plugin.setNumber(\"Smooth\", \"View\", -1)\n",
    "#gmsh.plugin.run(\"Smooth\")"
   ]
  },
  {
   "cell_type": "code",
   "execution_count": 79,
   "metadata": {},
   "outputs": [
    {
     "data": {
      "text/plain": [
       "([1.0], 0.0)"
      ]
     },
     "metadata": {},
     "output_type": "display_data"
    }
   ],
   "source": [
    "gmsh.view.probe(0, 0, 0, 0)"
   ]
  },
  {
   "cell_type": "code",
   "execution_count": 80,
   "metadata": {},
   "outputs": [
    {
     "name": "stdout",
     "output_type": "stream",
     "text": [
      "-------------------------------------------------------\n",
      "Version       : 4.11.1\n",
      "License       : GNU General Public License\n",
      "Build OS      : Linux64-sdk\n",
      "Build date    : 20221221\n",
      "Build host    : gmsh.info\n",
      "Build options : 64Bit ALGLIB[contrib] ANN[contrib] Bamg Blas[petsc] Blossom Cgns DIntegration Dlopen DomHex Eigen[contrib] Fltk Gmm[contrib] Hxt Jpeg Kbipack Lapack[petsc] LinuxJoystick MathEx[contrib] Med Mesh Metis[contrib] Mmg Mpeg Netgen ONELAB ONELABMetamodel OpenCASCADE OpenCASCADE-CAF OpenGL OpenMP OptHom PETSc Parser Plugins Png Post QuadMeshingTools QuadTri Solver TetGen/BR Voro++[contrib] WinslowUntangler Zlib\n",
      "FLTK version  : 1.4.0\n",
      "PETSc version : 3.14.4 (real arithmtic)\n",
      "OCC version   : 7.6.1\n",
      "MED version   : 4.1.0\n",
      "Packaged by   : geuzaine\n",
      "Web site      : https://gmsh.info\n",
      "Issue tracker : https://gitlab.onelab.info/gmsh/gmsh/issues\n",
      "-------------------------------------------------------\n"
     ]
    }
   ],
   "source": [
    "gmsh.fltk.run()"
   ]
  },
  {
   "cell_type": "code",
   "execution_count": 81,
   "metadata": {},
   "outputs": [],
   "source": [
    "gmsh.finalize()"
   ]
  }
 ],
 "metadata": {
  "kernelspec": {
   "display_name": "Julia 1.9.3",
   "language": "julia",
   "name": "julia-1.9"
  },
  "language_info": {
   "file_extension": ".jl",
   "mimetype": "application/julia",
   "name": "julia",
   "version": "1.9.3"
  }
 },
 "nbformat": 4,
 "nbformat_minor": 2
}
