{
 "cells": [
  {
   "cell_type": "code",
   "execution_count": 1,
   "metadata": {},
   "outputs": [],
   "source": [
    "using LinearAlgebra, SparseArrays\n",
    "using Arpack\n",
    "import gmsh\n",
    "gmsh.initialize()\n",
    "\n",
    "include(\"FEM.jl\")\n",
    "using .FEM"
   ]
  },
  {
   "cell_type": "code",
   "execution_count": 2,
   "metadata": {},
   "outputs": [
    {
     "data": {
      "text/plain": [
       "Main.FEM.Problem(\"rectangle\", \"PlaneStress\", 200000.0, 0.3, 7.85e-9, 1.0)"
      ]
     },
     "metadata": {},
     "output_type": "display_data"
    }
   ],
   "source": [
    "# Adatok\n",
    "E = 2e5\n",
    "ν = 0.3\n",
    "ρ = 7.85e-9\n",
    "thickness = 1\n",
    "height = 10\n",
    "base = 100\n",
    "elemSize = 2 #22\n",
    "\n",
    "approxOrder = 2\n",
    "internalNodes = true\n",
    "quadElements = true\n",
    "\n",
    "problem = FEM.Problem(\"rectangle\", type=\"PlaneStress\", E=E, ν=ν, ρ=ρ, b=thickness)"
   ]
  },
  {
   "cell_type": "code",
   "execution_count": 3,
   "metadata": {},
   "outputs": [],
   "source": [
    "# Geometria megrajzolása\n",
    "gmsh.model.add(problem.name)\n",
    "\n",
    "p1 = gmsh.model.occ.addPoint(0, 0, 0)\n",
    "p2 = gmsh.model.occ.addPoint(base, 0, 0)\n",
    "#p23 = gmsh.model.occ.addPoint(base, height / 2, 0)\n",
    "p3 = gmsh.model.occ.addPoint(base, height, 0)\n",
    "p4 = gmsh.model.occ.addPoint(0, height, 0)\n",
    "\n",
    "l1 = gmsh.model.occ.addLine(p1, p2)\n",
    "l2 = gmsh.model.occ.addLine(p2, p3)\n",
    "#l23 = gmsh.model.occ.addLine(p23, p3)\n",
    "l3 = gmsh.model.occ.addLine(p3, p4)\n",
    "l4 = gmsh.model.occ.addLine(p4, p1)\n",
    "\n",
    "cl1 = gmsh.model.occ.addCurveLoop([l1, l2, l3, l4])\n",
    "\n",
    "l5 = gmsh.model.occ.addCircle(base / 2, height / 2, 0, min(base, height) / 4)\n",
    "cl2 = gmsh.model.occ.addCurveLoop([l5])\n",
    "\n",
    "sf1 = gmsh.model.occ.addPlaneSurface([cl1, cl2])\n",
    "#display(sf1)\n",
    "\n",
    "#cp1 = gmsh.model.occ.addPoint(base / 2, height / 2, 0)\n",
    "#cl1 = gmsh.model.occ.addLine(p1, p3)\n",
    "#cl2 = gmsh.model.occ.addLine(p2, p4)\n",
    "\n",
    "#sf2 = gmsh.model.occ.fragment([(2, sf1)], [(1, cl1)])\n",
    "#gmsh.model.occ.removeAllDuplicates()\n",
    "\n",
    "#p5 = gmsh.model.occ.addPoint(0, height / 2, 0)\n",
    "#p6 = gmsh.model.occ.addPoint(base, height / 2, 0)\n",
    "#l5 = gmsh.model.occ.addLine(p5, p6)\n",
    "\n",
    "gmsh.model.occ.synchronize()\n",
    "#sf2"
   ]
  },
  {
   "cell_type": "code",
   "execution_count": 4,
   "metadata": {},
   "outputs": [],
   "source": [
    "phg = gmsh.model.addPhysicalGroup(1, [l2])\n",
    "gmsh.model.setPhysicalName(1, phg, \"supp\")\n",
    "phg = gmsh.model.addPhysicalGroup(1, [l4])\n",
    "gmsh.model.setPhysicalName(1, phg, \"load\")"
   ]
  },
  {
   "cell_type": "code",
   "execution_count": 5,
   "metadata": {},
   "outputs": [
    {
     "data": {
      "text/plain": [
       "(\"load\", 1, 0, 1)"
      ]
     },
     "metadata": {},
     "output_type": "display_data"
    }
   ],
   "source": [
    "supp = FEM.displacementConstraint(\"supp\", ux=0, uy=0)\n",
    "load = FEM.traction(\"load\", fx=1, fy=0, thickness=thickness)"
   ]
  },
  {
   "cell_type": "code",
   "execution_count": 6,
   "metadata": {},
   "outputs": [
    {
     "name": "stdout",
     "output_type": "stream",
     "text": [
      "Info    : Meshing 1D...\n",
      "Info    : [  0%] Meshing curve 1 (Line)\n",
      "Info    : [ 20%] Meshing curve 2 (Line)\n",
      "Info    : [ 40%] Meshing curve 3 (Line)\n",
      "Info    : [ 60%] Meshing curve 4 (Line)\n",
      "Info    : [ 80%] Meshing curve 5 (Circle)\n",
      "Info    : Done meshing 1D (Wall 0.000515684s, CPU 0.000491s)\n",
      "Info    : 118 nodes 123 elements\n",
      "Info    : Meshing 2D...\n",
      "Info    : Meshing surface 1 (Plane, Frontal-Delaunay)\n",
      "Info    : Done meshing 2D (Wall 0.0223246s, CPU 0.022202s)\n",
      "Info    : 359 nodes 723 elements\n",
      "Info    : Recombining 2D mesh...\n",
      "Info    : Blossom: 841 internal 118 closed\n",
      "Info    : Blossom recombination completed (Wall 0.0145551s, CPU 0.014551s): 294 quads, 0 triangles, 0 invalid quads, 0 quads with Q < 0.1, avg Q = 0.799105, min Q = 0.508151\n",
      "Info    : Done recombining 2D mesh (Wall 0.0146704s, CPU 0.01467s)\n",
      "Info    : Meshing order 2 (curvilinear on)...\n",
      "Info    : [  0%] Meshing curve 1 order 2\n",
      "Info    : [ 20%] Meshing curve 2 order 2\n",
      "Info    : [ 40%] Meshing curve 3 order 2\n",
      "Info    : [ 50%] Meshing curve 4 order 2\n",
      "Info    : [ 70%] Meshing curve 5 order 2\n",
      "Info    : [ 90%] Meshing surface 1 order 2\n",
      "Info    : Done meshing order 2 (Wall 0.00641124s, CPU 0.006409s)\n"
     ]
    }
   ],
   "source": [
    "FEM.generateMesh(problem, sf1, elemSize, approxOrder=approxOrder, algorithm=6, quadrangle=quadElements, internalNodes=internalNodes)"
   ]
  },
  {
   "cell_type": "code",
   "execution_count": 7,
   "metadata": {},
   "outputs": [
    {
     "name": "stdout",
     "output_type": "stream",
     "text": [
      "-------------------------------------------------------\n",
      "Version       : 4.12.1-git-38a28aaaf\n",
      "License       : GNU General Public License\n",
      "Build OS      : Linux64-sdk\n",
      "Build date    : 20240111\n",
      "Build host    : gmsh.info\n",
      "Build options : 64Bit ALGLIB[contrib] ANN[contrib] Bamg Blas[petsc] Blossom Cgns DIntegration Dlopen DomHex Eigen[contrib] Fltk Gmm[contrib] Hxt Jpeg Kbipack Lapack[petsc] LinuxJoystick MathEx[contrib] Med Mesh Metis[contrib] Mmg Mpeg Netgen ONELAB ONELABMetamodel OpenCASCADE OpenCASCADE-CAF OpenGL OpenMP OptHom PETSc Parser Plugins Png Post QuadMeshingTools QuadTri Solver TetGen/BR Voro++[contrib] WinslowUntangler Zlib\n",
      "FLTK version  : 1.4.0\n",
      "PETSc version : 3.14.4 (real arithmtic)\n",
      "OCC version   : 7.7.2\n",
      "MED version   : 4.1.0\n",
      "Packaged by   : geuzaine\n",
      "Web site      : https://gmsh.info\n",
      "Issue tracker : https://gitlab.onelab.info/gmsh/gmsh/issues\n",
      "-------------------------------------------------------\n"
     ]
    }
   ],
   "source": [
    "ENV[\"LIBGL_ALWAYS_SOFTWARE\"] = \"true\"\n",
    "gmsh.fltk.run()\n",
    "#gmsh.fltk.wait(3)"
   ]
  },
  {
   "cell_type": "code",
   "execution_count": 8,
   "metadata": {},
   "outputs": [],
   "source": [
    "# Néhány láthatósági beállítás 0:kikapcs. 1:bekapcs.\n",
    "gmsh.option.setNumber(\"Geometry.CurveLabels\", 0)\n",
    "gmsh.option.setNumber(\"Geometry.Points\", 0)\n",
    "gmsh.option.setNumber(\"Geometry.Curves\", 0)\n",
    "gmsh.option.setNumber(\"Mesh.Points\", 0)\n",
    "gmsh.option.setNumber(\"Mesh.Lines\", 0)\n",
    "gmsh.option.setNumber(\"Mesh.SurfaceEdges\", 0)\n",
    "gmsh.option.setNumber(\"Mesh.NodeLabels\", 0)\n",
    "gmsh.option.setNumber(\"Mesh.LineLabels\", 0)\n",
    "gmsh.option.setNumber(\"Mesh.SurfaceLabels\", 0)"
   ]
  },
  {
   "cell_type": "code",
   "execution_count": 9,
   "metadata": {},
   "outputs": [
    {
     "data": {
      "text/plain": [
       "2588×2588 SparseMatrixCSC{Float64, Int64} with 77152 stored entries:\n",
       "⎡⠻⣦⣳⣜⠀⠃⠘⣦⢸⢸⠤⢰⢰⢐⣃⣠⡐⣄⠤⠄⠀⠠⣄⢠⡲⠤⠼⠂⠐⡖⣰⢀⠃⠀⠀⠀⠀⡐⡐⡃⎤\n",
       "⎢⣙⢾⡵⣯⡀⣀⠀⢺⣹⠰⠒⢸⣹⠠⡥⠴⠄⠦⠒⠂⠀⠐⢮⣹⣝⢚⡓⠀⠀⠆⠼⡡⡁⠀⠀⠀⠀⠄⢌⠄⎥\n",
       "⎢⠤⠀⠀⢨⣻⢞⡳⠆⡧⠂⢌⡧⣻⠁⡗⠴⡣⢚⡁⢈⣹⠦⠀⣉⠀⡇⢈⢈⠀⠀⠁⣟⡷⠌⠀⠀⠀⠐⢻⠀⎥\n",
       "⎢⠲⣤⣠⣀⠹⠎⠵⣧⢳⣥⣄⣳⣽⣠⣯⣾⣵⣉⣀⡄⠘⢓⣀⣀⣠⣧⣤⣤⠠⣶⣀⣏⢿⣆⣀⠀⢀⠼⠹⡀⎥\n",
       "⎢⣒⣒⢓⡚⠩⠋⠝⣶⣿⣿⣊⡟⣿⣻⣿⣾⣷⣿⠁⡈⠹⠛⣀⠋⢛⡋⢙⣚⣿⣿⣿⣿⣸⠉⠐⠛⣿⣻⣿⣟⎥\n",
       "⎢⢀⣃⣘⣀⠦⡵⢤⣹⣮⠼⣻⣾⢿⣿⣭⡉⠌⠠⣟⡛⠦⣴⣂⣶⣾⣿⡛⡿⠤⠤⢢⠲⣘⣶⣾⣻⢯⣏⢇⣅⎥\n",
       "⎢⢐⢒⠓⡚⠟⠚⠓⣻⣿⣻⣿⣷⣿⣿⡛⣚⣒⣃⠀⡽⢃⡼⣺⢿⡿⣝⣿⣿⣘⣛⣟⣲⣾⣾⢿⣦⣿⣟⣗⣛⎥\n",
       "⎢⠉⣸⢁⡏⢙⡍⣫⣿⣻⣿⡇⠻⣻⢨⣿⣿⣭⣹⠀⠐⢘⠁⣵⠀⠛⢚⠘⠛⢿⣻⠿⡟⠉⡀⠀⠀⠛⡟⡟⠛⎥\n",
       "⎢⠐⢬⠠⡅⣩⢊⡕⢻⣽⣿⠂⡁⠼⢸⣇⣻⣿⢟⡀⠀⡨⠑⠈⠀⠀⠐⠀⢀⢇⢿⣪⢫⠴⠂⠀⠀⢉⡲⣝⣙⎥\n",
       "⎢⠀⠇⠸⠀⡁⢈⠀⠼⡁⠠⣿⠹⣄⡤⢀⠀⠀⠈⣿⣿⡀⠰⠇⢨⠰⡠⣧⡯⠀⠀⡀⡠⠀⢀⢀⣠⡄⢄⡀⢀⎥\n",
       "⎢⠀⡀⢀⠀⠳⡞⢶⢀⣷⠂⢈⣧⣉⡴⠖⠐⢆⠊⢀⡈⡻⣮⡀⢉⡉⣏⢉⣈⠀⠒⠁⠲⢈⢥⢀⣤⠶⠀⠒⠆⎥\n",
       "⎢⠀⣙⣎⣳⡄⢠⠀⢸⡤⠘⢨⣼⣾⣞⠑⠛⠂⠀⡉⣁⡄⢈⣻⣾⣾⣤⡄⣨⡠⠣⡙⠙⠰⣲⣖⢀⡐⠀⠀⠃⎥\n",
       "⎢⠘⡎⣳⢙⠤⠤⠤⣾⡿⠰⣾⣿⣟⢯⣻⢀⢀⠀⠐⡢⡧⢬⠚⣿⣻⣾⣷⣛⢉⣐⣉⠂⢊⠑⠣⠤⠈⢙⠚⡛⎥\n",
       "⎢⠲⠃⠙⠈⡂⢐⠀⣿⣳⢰⣿⡬⣿⣿⣶⠀⠀⢀⡭⡿⡃⢰⡀⣩⣽⢻⢿⣷⡀⠀⢓⣀⠎⣱⣬⠭⢷⣶⢴⣶⎥\n",
       "⎢⢰⠤⠠⠄⠀⠀⢠⣦⣿⣿⠀⡇⣶⢸⣿⣳⣭⣕⠀⠀⢠⠀⠤⡊⢃⢰⠀⠈⣿⣿⣼⡍⣈⠂⠀⠀⠙⢶⣷⣅⎥\n",
       "⎢⠐⢚⠖⡣⣥⢤⡤⢼⣿⣿⢨⡒⢻⣹⣿⠧⡮⣚⠀⡨⢡⡀⣗⠈⠣⠘⠙⢰⡖⠿⣛⣼⣾⣍⠉⠀⣶⡶⣼⡏⎥\n",
       "⎢⠉⠀⠁⠈⡙⠏⠻⢷⡖⠚⢲⣼⣺⣿⠃⠠⠰⠃⠀⢀⠆⣔⢰⣢⢎⠐⢎⣡⠢⠘⡞⢿⢻⣶⣶⠢⣶⡜⡏⠁⎥\n",
       "⎢⠀⠀⠀⠀⠀⠀⠀⠘⣴⠀⣾⣻⠻⣷⠀⠀⠀⠀⠀⣰⠀⣴⠘⢙⠉⡆⡆⡟⠀⠀⠃⠀⠸⡛⢻⣶⡆⠀⠄⠀⎥\n",
       "⎢⢀⠠⠀⠄⢀⠀⣀⡔⣿⣻⡯⢷⣿⢿⣿⠤⢣⡰⠀⢍⠘⠃⠐⠈⣆⢀⢹⣷⢳⣄⢸⡿⣘⠿⠈⠉⣿⣿⣗⣿⎥\n",
       "⎣⠴⠨⠂⠕⠛⠒⠓⠢⣿⢿⠍⢵⣽⢹⣿⠉⣗⢹⠀⢈⠸⠄⠤⠀⣾⠠⢰⣷⠝⢿⡶⠿⠏⠉⠀⠁⣽⣽⣵⣿⎦"
      ]
     },
     "metadata": {},
     "output_type": "display_data"
    }
   ],
   "source": [
    "K = FEM.stiffnessMatrixPlaneStress(problem)"
   ]
  },
  {
   "cell_type": "code",
   "execution_count": 10,
   "metadata": {},
   "outputs": [
    {
     "data": {
      "text/plain": [
       "2588×2588 SparseMatrixCSC{Float64, Int64} with 2588 stored entries:\n",
       "⎡⠑⢄⠀⠀⠀⠀⠀⠀⠀⠀⠀⠀⠀⠀⠀⠀⠀⠀⠀⠀⠀⠀⠀⠀⠀⠀⠀⠀⠀⠀⠀⠀⠀⠀⠀⠀⠀⠀⠀⠀⎤\n",
       "⎢⠀⠀⠑⢄⠀⠀⠀⠀⠀⠀⠀⠀⠀⠀⠀⠀⠀⠀⠀⠀⠀⠀⠀⠀⠀⠀⠀⠀⠀⠀⠀⠀⠀⠀⠀⠀⠀⠀⠀⠀⎥\n",
       "⎢⠀⠀⠀⠀⠑⢄⠀⠀⠀⠀⠀⠀⠀⠀⠀⠀⠀⠀⠀⠀⠀⠀⠀⠀⠀⠀⠀⠀⠀⠀⠀⠀⠀⠀⠀⠀⠀⠀⠀⠀⎥\n",
       "⎢⠀⠀⠀⠀⠀⠀⠑⢄⠀⠀⠀⠀⠀⠀⠀⠀⠀⠀⠀⠀⠀⠀⠀⠀⠀⠀⠀⠀⠀⠀⠀⠀⠀⠀⠀⠀⠀⠀⠀⠀⎥\n",
       "⎢⠀⠀⠀⠀⠀⠀⠀⠀⠑⢄⠀⠀⠀⠀⠀⠀⠀⠀⠀⠀⠀⠀⠀⠀⠀⠀⠀⠀⠀⠀⠀⠀⠀⠀⠀⠀⠀⠀⠀⠀⎥\n",
       "⎢⠀⠀⠀⠀⠀⠀⠀⠀⠀⠀⠑⢄⠀⠀⠀⠀⠀⠀⠀⠀⠀⠀⠀⠀⠀⠀⠀⠀⠀⠀⠀⠀⠀⠀⠀⠀⠀⠀⠀⠀⎥\n",
       "⎢⠀⠀⠀⠀⠀⠀⠀⠀⠀⠀⠀⠀⠑⢄⠀⠀⠀⠀⠀⠀⠀⠀⠀⠀⠀⠀⠀⠀⠀⠀⠀⠀⠀⠀⠀⠀⠀⠀⠀⠀⎥\n",
       "⎢⠀⠀⠀⠀⠀⠀⠀⠀⠀⠀⠀⠀⠀⠀⠑⢄⠀⠀⠀⠀⠀⠀⠀⠀⠀⠀⠀⠀⠀⠀⠀⠀⠀⠀⠀⠀⠀⠀⠀⠀⎥\n",
       "⎢⠀⠀⠀⠀⠀⠀⠀⠀⠀⠀⠀⠀⠀⠀⠀⠀⠑⢄⠀⠀⠀⠀⠀⠀⠀⠀⠀⠀⠀⠀⠀⠀⠀⠀⠀⠀⠀⠀⠀⠀⎥\n",
       "⎢⠀⠀⠀⠀⠀⠀⠀⠀⠀⠀⠀⠀⠀⠀⠀⠀⠀⠀⠑⢄⠀⠀⠀⠀⠀⠀⠀⠀⠀⠀⠀⠀⠀⠀⠀⠀⠀⠀⠀⠀⎥\n",
       "⎢⠀⠀⠀⠀⠀⠀⠀⠀⠀⠀⠀⠀⠀⠀⠀⠀⠀⠀⠀⠀⠑⢄⠀⠀⠀⠀⠀⠀⠀⠀⠀⠀⠀⠀⠀⠀⠀⠀⠀⠀⎥\n",
       "⎢⠀⠀⠀⠀⠀⠀⠀⠀⠀⠀⠀⠀⠀⠀⠀⠀⠀⠀⠀⠀⠀⠀⠑⢄⠀⠀⠀⠀⠀⠀⠀⠀⠀⠀⠀⠀⠀⠀⠀⠀⎥\n",
       "⎢⠀⠀⠀⠀⠀⠀⠀⠀⠀⠀⠀⠀⠀⠀⠀⠀⠀⠀⠀⠀⠀⠀⠀⠀⠑⢄⠀⠀⠀⠀⠀⠀⠀⠀⠀⠀⠀⠀⠀⠀⎥\n",
       "⎢⠀⠀⠀⠀⠀⠀⠀⠀⠀⠀⠀⠀⠀⠀⠀⠀⠀⠀⠀⠀⠀⠀⠀⠀⠀⠀⠑⢄⠀⠀⠀⠀⠀⠀⠀⠀⠀⠀⠀⠀⎥\n",
       "⎢⠀⠀⠀⠀⠀⠀⠀⠀⠀⠀⠀⠀⠀⠀⠀⠀⠀⠀⠀⠀⠀⠀⠀⠀⠀⠀⠀⠀⠑⢄⠀⠀⠀⠀⠀⠀⠀⠀⠀⠀⎥\n",
       "⎢⠀⠀⠀⠀⠀⠀⠀⠀⠀⠀⠀⠀⠀⠀⠀⠀⠀⠀⠀⠀⠀⠀⠀⠀⠀⠀⠀⠀⠀⠀⠑⢄⠀⠀⠀⠀⠀⠀⠀⠀⎥\n",
       "⎢⠀⠀⠀⠀⠀⠀⠀⠀⠀⠀⠀⠀⠀⠀⠀⠀⠀⠀⠀⠀⠀⠀⠀⠀⠀⠀⠀⠀⠀⠀⠀⠀⠑⢄⠀⠀⠀⠀⠀⠀⎥\n",
       "⎢⠀⠀⠀⠀⠀⠀⠀⠀⠀⠀⠀⠀⠀⠀⠀⠀⠀⠀⠀⠀⠀⠀⠀⠀⠀⠀⠀⠀⠀⠀⠀⠀⠀⠀⠑⢄⠀⠀⠀⠀⎥\n",
       "⎢⠀⠀⠀⠀⠀⠀⠀⠀⠀⠀⠀⠀⠀⠀⠀⠀⠀⠀⠀⠀⠀⠀⠀⠀⠀⠀⠀⠀⠀⠀⠀⠀⠀⠀⠀⠀⠑⢄⠀⠀⎥\n",
       "⎣⠀⠀⠀⠀⠀⠀⠀⠀⠀⠀⠀⠀⠀⠀⠀⠀⠀⠀⠀⠀⠀⠀⠀⠀⠀⠀⠀⠀⠀⠀⠀⠀⠀⠀⠀⠀⠀⠀⠑⢄⎦"
      ]
     },
     "metadata": {},
     "output_type": "display_data"
    }
   ],
   "source": [
    "M = FEM.massMatrixPlaneStress(problem)"
   ]
  },
  {
   "cell_type": "code",
   "execution_count": 11,
   "metadata": {},
   "outputs": [
    {
     "data": {
      "text/plain": [
       "2588×2588 SparseMatrixCSC{Float64, Int64} with 77152 stored entries:\n",
       "⎡⠻⣦⣳⣜⠀⠃⠘⣦⢸⢸⠤⢰⢰⢐⣃⣠⡐⣄⠤⠄⠀⠠⣄⢠⡲⠤⠼⠂⠐⡖⣰⢀⠃⠀⠀⠀⠀⡐⡐⡃⎤\n",
       "⎢⣙⢾⡵⣯⡀⣀⠀⢺⣹⠰⠒⢸⣹⠠⡥⠴⠄⠦⠒⠂⠀⠐⢮⣹⣝⢚⡓⠀⠀⠆⠼⡡⡁⠀⠀⠀⠀⠄⢌⠄⎥\n",
       "⎢⠤⠀⠀⢨⣻⢞⡳⠆⡧⠂⢌⡧⣻⠁⡗⠴⡣⢚⡁⢈⣹⠦⠀⣉⠀⡇⢈⢈⠀⠀⠁⣟⡷⠌⠀⠀⠀⠐⢻⠀⎥\n",
       "⎢⠲⣤⣠⣀⠹⠎⠵⣧⢳⣥⣄⣳⣽⣠⣯⣾⣵⣉⣀⡄⠘⢓⣀⣀⣠⣧⣤⣤⠠⣶⣀⣏⢿⣆⣀⠀⢀⠼⠹⡀⎥\n",
       "⎢⣒⣒⢓⡚⠩⠋⠝⣶⣿⣿⣊⡟⣿⣻⣿⣾⣷⣿⠁⡈⠹⠛⣀⠋⢛⡋⢙⣚⣿⣿⣿⣿⣸⠉⠐⠛⣿⣻⣿⣟⎥\n",
       "⎢⢀⣃⣘⣀⠦⡵⢤⣹⣮⠼⣻⣾⢿⣿⣭⡉⠌⠠⣟⡛⠦⣴⣂⣶⣾⣿⡛⡿⠤⠤⢢⠲⣘⣶⣾⣻⢯⣏⢇⣅⎥\n",
       "⎢⢐⢒⠓⡚⠟⠚⠓⣻⣿⣻⣿⣷⣿⣿⡛⣚⣒⣃⠀⡽⢃⡼⣺⢿⡿⣝⣿⣿⣘⣛⣟⣲⣾⣾⢿⣦⣿⣟⣗⣛⎥\n",
       "⎢⠉⣸⢁⡏⢙⡍⣫⣿⣻⣿⡇⠻⣻⢨⣿⣿⣭⣹⠀⠐⢘⠁⣵⠀⠛⢚⠘⠛⢿⣻⠿⡟⠉⡀⠀⠀⠛⡟⡟⠛⎥\n",
       "⎢⠐⢬⠠⡅⣩⢊⡕⢻⣽⣿⠂⡁⠼⢸⣇⣻⣿⢟⡀⠀⡨⠑⠈⠀⠀⠐⠀⢀⢇⢿⣪⢫⠴⠂⠀⠀⢉⡲⣝⣙⎥\n",
       "⎢⠀⠇⠸⠀⡁⢈⠀⠼⡁⠠⣿⠹⣄⡤⢀⠀⠀⠈⣿⣿⡀⠰⠇⢨⠰⡠⣧⡯⠀⠀⡀⡠⠀⢀⢀⣠⡄⢄⡀⢀⎥\n",
       "⎢⠀⡀⢀⠀⠳⡞⢶⢀⣷⠂⢈⣧⣉⡴⠖⠐⢆⠊⢀⡈⡻⣮⡀⢉⡉⣏⢉⣈⠀⠒⠁⠲⢈⢥⢀⣤⠶⠀⠒⠆⎥\n",
       "⎢⠀⣙⣎⣳⡄⢠⠀⢸⡤⠘⢨⣼⣾⣞⠑⠛⠂⠀⡉⣁⡄⢈⣻⣾⣾⣤⡄⣨⡠⠣⡙⠙⠰⣲⣖⢀⡐⠀⠀⠃⎥\n",
       "⎢⠘⡎⣳⢙⠤⠤⠤⣾⡿⠰⣾⣿⣟⢯⣻⢀⢀⠀⠐⡢⡧⢬⠚⣿⣻⣾⣷⣛⢉⣐⣉⠂⢊⠑⠣⠤⠈⢙⠚⡛⎥\n",
       "⎢⠲⠃⠙⠈⡂⢐⠀⣿⣳⢰⣿⡬⣿⣿⣶⠀⠀⢀⡭⡿⡃⢰⡀⣩⣽⢻⢿⣷⡀⠀⢓⣀⠎⣱⣬⠭⢷⣶⢴⣶⎥\n",
       "⎢⢰⠤⠠⠄⠀⠀⢠⣦⣿⣿⠀⡇⣶⢸⣿⣳⣭⣕⠀⠀⢠⠀⠤⡊⢃⢰⠀⠈⣿⣿⣼⡍⣈⠂⠀⠀⠙⢶⣷⣅⎥\n",
       "⎢⠐⢚⠖⡣⣥⢤⡤⢼⣿⣿⢨⡒⢻⣹⣿⠧⡮⣚⠀⡨⢡⡀⣗⠈⠣⠘⠙⢰⡖⠿⣛⣼⣾⣍⠉⠀⣶⡶⣼⡏⎥\n",
       "⎢⠉⠀⠁⠈⡙⠏⠻⢷⡖⠚⢲⣼⣺⣿⠃⠠⠰⠃⠀⢀⠆⣔⢰⣢⢎⠐⢎⣡⠢⠘⡞⢿⢻⣶⣶⠢⣶⡜⡏⠁⎥\n",
       "⎢⠀⠀⠀⠀⠀⠀⠀⠘⣴⠀⣾⣻⠻⣷⠀⠀⠀⠀⠀⣰⠀⣴⠘⢙⠉⡆⡆⡟⠀⠀⠃⠀⠸⡛⢻⣶⡆⠀⠄⠀⎥\n",
       "⎢⢀⠠⠀⠄⢀⠀⣀⡔⣿⣻⡯⢷⣿⢿⣿⠤⢣⡰⠀⢍⠘⠃⠐⠈⣆⢀⢹⣷⢳⣄⢸⡿⣘⠿⠈⠉⣿⣿⣗⣿⎥\n",
       "⎣⠴⠨⠂⠕⠛⠒⠓⠢⣿⢿⠍⢵⣽⢹⣿⠉⣗⢹⠀⢈⠸⠄⠤⠀⣾⠠⢰⣷⠝⢿⡶⠿⠏⠉⠀⠁⣽⣽⣵⣿⎦"
      ]
     },
     "metadata": {},
     "output_type": "display_data"
    }
   ],
   "source": [
    "C = 1e-8 * K"
   ]
  },
  {
   "cell_type": "code",
   "execution_count": 12,
   "metadata": {},
   "outputs": [],
   "source": [
    "K, M, C, f = FEM.applyBoundaryConditions!(problem, K, M, C, [supp], [load]);"
   ]
  },
  {
   "cell_type": "code",
   "execution_count": 13,
   "metadata": {},
   "outputs": [
    {
     "data": {
      "text/plain": [
       "2.7452732708927537e-7"
      ]
     },
     "metadata": {},
     "output_type": "display_data"
    }
   ],
   "source": [
    "Tₘᵢₙ = FEM.smallestPeriodTime(K, M)"
   ]
  },
  {
   "cell_type": "code",
   "execution_count": 14,
   "metadata": {},
   "outputs": [
    {
     "data": {
      "text/plain": [
       "2588×1 Matrix{Float64}:\n",
       "  0.0005387852269263491\n",
       " -7.6115437689389405e-6\n",
       "  0.0\n",
       "  0.0\n",
       "  0.0\n",
       "  0.0\n",
       "  0.000538762506926716\n",
       "  7.3884565755569184e-6\n",
       "  0.0\n",
       "  0.0\n",
       "  ⋮\n",
       " -7.853248222284115e-7\n",
       "  3.1421379658552815e-5\n",
       "  3.6610079548423785e-6\n",
       "  2.9191277887710163e-5\n",
       " -4.04847997703222e-6\n",
       "  0.00030929112484203146\n",
       " -3.5355086539642655e-6\n",
       "  0.00022889873554789056\n",
       " -3.545778249026863e-6"
      ]
     },
     "metadata": {},
     "output_type": "display_data"
    }
   ],
   "source": [
    "q = FEM.solveDisplacement(K, f)"
   ]
  },
  {
   "cell_type": "markdown",
   "metadata": {},
   "source": [
    "$$\\mathbf{M}\\ddot{\\mathbf{q}}+\\mathbf{C}\\dot{\\mathbf{q}}+\\mathbf{K}\\mathbf{q}=\\mathbf{f}$$\n",
    "$$\\mathbf{M}\\ddot{\\mathbf{q}}_n+\\mathbf{C}\\dot{\\mathbf{q}}_n+\\mathbf{K}\\mathbf{q}_n=\\mathbf{f}_n$$\n",
    "$$\\ddot{\\mathbf{q}}_n = \\frac{\\mathbf{q}_{n+1}-2\\mathbf{q}_{n}+\\mathbf{q}_{n-1}}{\\Delta t^2}$$\n",
    "$$\\dot{\\mathbf{q}}_n = \\frac{\\mathbf{q}_{n}-\\mathbf{q}_{n-1}}{\\Delta t}$$\n",
    "$$\\mathbf{M}\\frac{\\mathbf{q}_{n+1}-2\\mathbf{q}_{n}+\\mathbf{q}_{n-1}}{\\Delta t^2}+\\mathbf{C}\\frac{\\mathbf{q}_{n}-\\mathbf{q}_{n-1}}{\\Delta t}+\\mathbf{K}\\mathbf{q}_n=\\mathbf{f}_n$$\n",
    "$$\\mathbf{M}(\\mathbf{q}_{n+1}-2\\mathbf{q}_{n}+\\mathbf{q}_{n-1})+\\Delta t\\mathbf{C}(\\mathbf{q}_{n}-\\mathbf{q}_{n-1})+\\Delta t^2\\mathbf{K}\\mathbf{q}_n=\\Delta t^2\\mathbf{f}_n$$\n",
    "$$\\mathbf{M}\\mathbf{q}_{n+1}=\\left(2\\mathbf{M}-\\Delta t\\mathbf{C}-\\Delta t^{2}\\mathbf{K}\\right)\\mathbf{q}_{n}+(\\Delta t\\mathbf{C}-\\mathbf{M})\\mathbf{q}_{n-1}+\\Delta t^{2}\\mathbf{f}_{n}$$"
   ]
  },
  {
   "cell_type": "code",
   "execution_count": 15,
   "metadata": {},
   "outputs": [
    {
     "data": {
      "text/plain": [
       "(2588, 557)"
      ]
     },
     "metadata": {},
     "output_type": "display_data"
    }
   ],
   "source": [
    "c = √(problem.E / problem.ρ)\n",
    "ξₘₐₓ = 1e-1\n",
    "β = ξₘₐₓ * Tₘᵢₙ / π\n",
    "C = β * K\n",
    "u, v, t = FEM.CDM(K, M, C, base / c * 2, Tₘᵢₙ / π * (√(1 + ξₘₐₓ^2) - ξₘₐₓ) * 0.9)\n",
    "size(u)"
   ]
  },
  {
   "cell_type": "code",
   "execution_count": 16,
   "metadata": {},
   "outputs": [
    {
     "data": {
      "text/plain": [
       "\"elemTags = Vector{UInt64}[[0x000000000000007c, 0x000000000000007d, 0x000000000000007e, 0x000000000000007f, 0x0000000000000080, 0x0000000000000081, 0x0000000000000082, 0x0000000000000083, 0x0000000000000084, 0x0000000000000085, 0x0000000000000086, 0x0000000000000087, 0x0\"\u001b[93m\u001b[1m ⋯ 5367 bytes ⋯ \u001b[22m\u001b[39m\"00000194, 0x0000000000000195, 0x0000000000000196, 0x0000000000000197, 0x0000000000000198, 0x0000000000000199, 0x000000000000019a, 0x000000000000019b, 0x000000000000019c, 0x000000000000019d, 0x000000000000019e, 0x000000000000019f, 0x00000000000001a0, 0x00000000000001a1]]\""
      ]
     },
     "metadata": {},
     "output_type": "display_data"
    },
    {
     "data": {
      "text/plain": [
       "([[-0.9663738559958264, 0.036019482518845396, 0.0, 0.036019482518845396, -0.07407900603346898, 0.0, 0.0, 0.0, 0.0, -1.0354483194027035  …  0.0, -0.9668919524784818, 0.08222141866118841, 0.0, 0.08222141866118841, -0.06944499369215112, 0.0, 0.0, 0.0, 0.0], [-0.9663975402210722, -0.03620082482717023, 0.0, -0.03620082482717023, -0.07394270689526714, 0.0, 0.0, 0.0, 0.0, -0.8666344017434887  …  0.0, -0.9672985009444018, -0.08230552506090555, 0.0, -0.08230552506090555, -0.06929267675986953, 0.0, 0.0, 0.0, 0.0], [-0.9999999984234273, 7.77702388332208e-9, 0.0, 7.77702388332208e-9, -3.4356889555553494e-10, 0.0, 0.0, 0.0, 0.0, -1.000000008850516  …  0.0, -1.0000000054696279, 1.71188851022092e-9, 0.0, 1.71188851022092e-9, -6.326500601172569e-9, 0.0, 0.0, 0.0, 0.0], [-0.8796445431632653, 0.0689614230525848, 0.0, 0.0689614230525848, -0.1395809017410744, 0.0, 0.0, 0.0, 0.0, -0.9634592443352236  …  0.0, -0.9671010679707414, 0.07171717379132521, 0.0, 0.07171717379132521, -0.06674995118174032, 0.0, 0.0, 0.0, 0.0], [-0.8801542074254203, -0.07019244514658629, 0.0, -0.07019244514658629, -0.13891617175193, 0.0, 0.0, 0.0, 0.0, -1.0533101976898838  …  0.0, -0.9678218924088737, -0.07194555227106968, 0.0, -0.07194555227106968, -0.06651886205420032, 0.0, 0.0, 0.0, 0.0], [-1.5954850603594946, 0.19012632658749282, 0.0, 0.19012632658749282, -0.16156207423691937, 0.0, 0.0, 0.0, 0.0, -3.326915312337404  …  0.0, -2.0047742760483382, -0.00023121032700717213, 0.0, -0.00023121032700717213, -0.25954495266623795, 0.0, 0.0, 0.0, 0.0], [-0.8579902966017463, 0.09774510912012879, 0.0, 0.09774510912012879, -0.12977302631454676, 0.0, 0.0, 0.0, 0.0, -1.0506896942512407  …  0.0, -0.9257083872424746, 0.16514043646809157, 0.0, 0.16514043646809157, -0.08987448482238211, 0.0, 0.0, 0.0, 0.0], [-0.8585320776106286, -0.09817032661196436, 0.0, -0.09817032661196436, -0.12935624886837743, 0.0, 0.0, 0.0, 0.0, -0.6878401756533482  …  0.0, -0.9268459946115846, -0.16524531277276724, 0.0, -0.16524531277276724, -0.08964307002135785, 0.0, 0.0, 0.0, 0.0], [-1.0000000082295104, -3.4855907223019233e-8, 0.0, -3.4855907223019233e-8, -4.8777031913527225e-8, 0.0, 0.0, 0.0, 0.0, -1.0000000056845988  …  0.0, -1.0000000091189156, -1.3996920776528835e-8, 0.0, -1.3996920776528835e-8, -2.4081016125609978e-8, 0.0, 0.0, 0.0, 0.0], [-1.0574252542178344, 0.005285812589447749, 0.0, 0.005285812589447749, 0.006948383757316878, 0.0, 0.0, 0.0, 0.0, -1.020833806252691  …  0.0, -1.0323010010864104, 0.019720554261922398, 0.0, 0.019720554261922398, -0.00794637012151711, 0.0, 0.0, 0.0, 0.0]  …  [-1.000000013299829, 2.487217329797056e-8, 0.0, 2.487217329797056e-8, -2.5355023969275692e-8, 0.0, 0.0, 0.0, 0.0, -1.000000007277331  …  0.0, -1.0000000080797824, 9.994938737500476e-9, 0.0, 9.994938737500476e-9, -2.0259182387238894e-8, 0.0, 0.0, 0.0, 0.0], [-1.0167049213651616, 0.006167045646017257, 0.0, 0.006167045646017257, -0.05124788062500668, 0.0, 0.0, 0.0, 0.0, -1.0000282944962047  …  0.0, -1.0115538000573563, 0.03135120584520241, 0.0, 0.03135120584520241, -0.06288518558680184, 0.0, 0.0, 0.0, 0.0], [-1.000000004928612, -3.681283376423859e-9, 0.0, -3.681283376423859e-9, 1.3130786458148691e-9, 0.0, 0.0, 0.0, 0.0, -1.000000001287924  …  0.0, -1.000000001539561, -5.270837394015302e-9, 0.0, -5.270837394015302e-9, 2.265650334010161e-9, 0.0, 0.0, 0.0, 0.0], [-1.0000000070402473, 3.1168612779550613e-9, 0.0, 3.1168612779550613e-9, -1.2662014770015162e-9, 0.0, 0.0, 0.0, 0.0, -0.9999999985920134  …  0.0, -1.000000002730245, 4.849386117026318e-9, 0.0, 4.849386117026318e-9, 1.6959249560244416e-9, 0.0, 0.0, 0.0, 0.0], [-1.018918305507711, -0.008923567398220988, 0.0, -0.008923567398220988, -0.044726966718691974, 0.0, 0.0, 0.0, 0.0, -1.0005379740841838  …  0.0, -1.0089598937748965, -0.027777942689691804, 0.0, -0.027777942689691804, -0.061851457471648275, 0.0, 0.0, 0.0, 0.0], [-1.0000000088840628, 2.205283898868939e-9, 0.0, 2.205283898868939e-9, -1.7558991483035413e-9, 0.0, 0.0, 0.0, 0.0, -1.0000000058942695  …  0.0, -1.0000000087794354, -3.098107707877329e-10, 0.0, -3.098107707877329e-10, -6.560833099023e-9, 0.0, 0.0, 0.0, 0.0], [-0.9951263939415482, 0.009640635697543426, 0.0, 0.009640635697543426, 0.0028591683516639432, 0.0, 0.0, 0.0, 0.0, -1.0091424549741999  …  0.0, -1.0052634009158448, 0.007719292431304595, 0.0, 0.007719292431304595, 0.0012144333541564412, 0.0, 0.0, 0.0, 0.0], [-0.9929660018280076, -0.010270165830657324, 0.0, -0.010270165830657324, 0.003767387439916392, 0.0, 0.0, 0.0, 0.0, -0.9926031444895381  …  0.0, -1.002969831141349, -0.007966763658311688, 0.0, -0.007966763658311688, -0.0007862436720155186, 0.0, 0.0, 0.0, 0.0], [-1.4560822327614211, 0.05389903274416777, 0.0, 0.05389903274416777, 0.3082398330279532, 0.0, 0.0, 0.0, 0.0, -0.7118125836620954  …  0.0, -1.1266705036925835, 0.2299566230184308, 0.0, 0.2299566230184308, 0.1223240931176941, 0.0, 0.0, 0.0, 0.0], [-1.456822484624099, -0.05264600094991677, 0.0, -0.05264600094991677, 0.30795557376564664, 0.0, 0.0, 0.0, 0.0, -1.2873376802790963  …  0.0, -1.1290634111388076, -0.2293140273040587, 0.0, -0.2293140273040587, 0.12252300010590389, 0.0, 0.0, 0.0, 0.0]], [124, 125, 126, 127, 128, 129, 130, 131, 132, 133  …  408, 409, 410, 411, 412, 413, 414, 415, 416, 417])"
      ]
     },
     "metadata": {},
     "output_type": "display_data"
    }
   ],
   "source": [
    "S = FEM.solveStressPlaneStress(problem, q)"
   ]
  },
  {
   "cell_type": "code",
   "execution_count": 17,
   "metadata": {},
   "outputs": [],
   "source": [
    "gmsh.option.setNumber(\"View.IntervalsType\", 3)\n",
    "gmsh.option.setNumber(\"View.VectorType\", 5)\n",
    "gmsh.option.setString(\"View.Format\", \"%.6g\")"
   ]
  },
  {
   "cell_type": "code",
   "execution_count": 18,
   "metadata": {
    "notebookRunGroups": {
     "groupValue": ""
    }
   },
   "outputs": [
    {
     "data": {
      "text/plain": [
       "\"uvec done\""
      ]
     },
     "metadata": {},
     "output_type": "display_data"
    },
    {
     "data": {
      "text/plain": [
       "\"ux done\""
      ]
     },
     "metadata": {},
     "output_type": "display_data"
    },
    {
     "data": {
      "text/plain": [
       "\"uy done\""
      ]
     },
     "metadata": {},
     "output_type": "display_data"
    },
    {
     "data": {
      "text/plain": [
       "\"s done\""
      ]
     },
     "metadata": {},
     "output_type": "display_data"
    },
    {
     "data": {
      "text/plain": [
       "\"numElem = [124, 125, 126, 127, 128, 129, 130, 131, 132, 133, 134, 135, 136, 137, 138, 139, 140, 141, 142, 143, 144, 145, 146, 147, 148, 149, 150, 151, 152, 153, 154, 155, 156, 157, 158, 159, 160, 161, 162, 163, 164, 165, 166, 167, 168, 169, 170, 171, 172, 173, 174, 175, \"\u001b[93m\u001b[1m ⋯ 939 bytes ⋯ \u001b[22m\u001b[39m\" 364, 365, 366, 367, 368, 369, 370, 371, 372, 373, 374, 375, 376, 377, 378, 379, 380, 381, 382, 383, 384, 385, 386, 387, 388, 389, 390, 391, 392, 393, 394, 395, 396, 397, 398, 399, 400, 401, 402, 403, 404, 405, 406, 407, 408, 409, 410, 411, 412, 413, 414, 415, 416, 417]\""
      ]
     },
     "metadata": {},
     "output_type": "display_data"
    },
    {
     "data": {
      "text/plain": [
       "294-element Vector{Int64}:\n",
       " 124\n",
       " 125\n",
       " 126\n",
       " 127\n",
       " 128\n",
       " 129\n",
       " 130\n",
       " 131\n",
       " 132\n",
       " 133\n",
       "   ⋮\n",
       " 409\n",
       " 410\n",
       " 411\n",
       " 412\n",
       " 413\n",
       " 414\n",
       " 415\n",
       " 416\n",
       " 417"
      ]
     },
     "metadata": {},
     "output_type": "display_data"
    },
    {
     "data": {
      "text/plain": [
       "294-element Vector{Any}:\n",
       " [-0.9663738559958264, -1.0354483194027035, -1.0579654261138334, -0.8659990833099247, -0.9882048298179733, -1.0458003455904505, -0.9465584462469533, -0.9159585949354518, -0.9668919524784818]\n",
       " [-0.9663975402210722, -0.8666344017434887, -1.0582735708332192, -1.0355195890078182, -0.9163155226690748, -0.9471970757061566, -1.0459996688191084, -0.9883425272588795, -0.9672985009444018]\n",
       " [-0.9999999984234273, -1.000000008850516, -1.0000000090156058, -0.9999999993386782, -1.0000000043972117, -1.0000000085612237, -1.0000000073130162, -0.9999999987416366, -1.0000000054696279]\n",
       " [-0.8796445431632653, -0.9634592443352236, -1.0191234104423519, -1.0527407978854515, -0.9181239020047104, -0.9871658357827892, -1.0383213858590592, -0.9490829169720179, -0.9671010679707414]\n",
       " [-0.8801542074254203, -1.0533101976898838, -1.0193088960518664, -0.963551594090339, -0.9502156144892356, -1.038710209400723, -0.9873738553837464, -0.9184581420023192, -0.9678218924088737]\n",
       " [-1.5954850603594946, -3.326915312337404, -1.5954010834366905, -0.7845990199367223, -2.531682142811323, -2.5314418592663532, -1.2964359636699578, -1.2959890152585927, -2.0047742760483382]\n",
       " [-0.8579902966017463, -1.0506896942512407, -1.10883672348233, -0.6855357717141362, -0.9351099209342149, -1.0850800971757337, -0.9005521605865795, -0.7827464508450451, -0.9257083872424746]\n",
       " [-0.8585320776106286, -0.6878401756533482, -1.1096091030090738, -1.0510151621668409, -0.7841956025404611, -0.9021588491421406, -1.0856248249848752, -0.9357597575585791, -0.9268459946115846]\n",
       " [-1.0000000082295104, -1.0000000056845988, -0.999999998943491, -1.0000000065736518, -1.0000000109066227, -1.0000000024929057, -1.0000000061228786, -1.0000000083953546, -1.0000000091189156]\n",
       " [-1.0574252542178344, -1.020833806252691, -1.0085868331204775, -1.0047155683962665, -1.0518176700558393, -1.0140603186320682, -1.0128243550735636, -1.0315421246508953, -1.0323010010864104]\n",
       " ⋮\n",
       " [-1.0167049213651616, -1.0000282944962047, -1.0423424029511543, -1.0014672493303929, -1.0197608115284358, -1.0132218047587784, -1.0067939742832683, -1.0069073584095634, -1.0115538000573563]\n",
       " [-1.000000004928612, -1.000000001287924, -0.999999998972321, -0.999999997882229, -1.0000000026546347, -1.0000000003104574, -0.9999999982480632, -1.0000000030353833, -1.000000001539561]\n",
       " [-1.0000000070402473, -0.9999999985920134, -0.9999999992451156, -1.0000000023208364, -1.000000004494715, -0.999999998730619, -1.0000000012693688, -1.0000000045123179, -1.000000002730245]\n",
       " [-1.018918305507711, -1.0005379740841838, -1.0383434226534198, -1.0031513657407742, -1.007793818760816, -1.0051796370409387, -1.012943420903066, -1.0226529289737631, -1.0089598937748965]\n",
       " [-1.0000000088840628, -1.0000000058942695, -1.0000000101449151, -1.0000000111159473, -1.0000000079008566, -1.0000000073920756, -1.0000000106245404, -1.0000000095037087, -1.0000000087794354]\n",
       " [-0.9951263939415482, -1.0091424549741999, -1.0161022830142283, -0.9944206647622713, -1.0031202624541329, -1.0120056918259448, -1.00802997807374, -0.9946590025629451, -1.0052634009158448]\n",
       " [-0.9929660018280076, -0.9926031444895381, -1.0114976967025098, -1.0109621618740912, -0.992894273719285, -1.0035039002672816, -1.0114747197495053, -1.0022827633087856, -1.002969831141349]\n",
       " [-1.4560822327614211, -0.7118125836620954, -0.8571116345604477, -1.2856819332206155, -1.2027617902248777, -0.783203681111032, -1.0339755424025183, -1.3842840961999379, -1.1266705036925835]\n",
       " [-1.456822484624099, -1.2873376802790963, -0.8612948108096954, -0.7159703615377255, -1.385593689353018, -1.0368714623517103, -0.7867858996980471, -1.2049509827851792, -1.1290634111388076]"
      ]
     },
     "metadata": {},
     "output_type": "display_data"
    },
    {
     "data": {
      "text/plain": [
       "\"sx done\""
      ]
     },
     "metadata": {},
     "output_type": "display_data"
    },
    {
     "data": {
      "text/plain": [
       "\"sy done\""
      ]
     },
     "metadata": {},
     "output_type": "display_data"
    },
    {
     "data": {
      "text/plain": [
       "\"sxy done\""
      ]
     },
     "metadata": {},
     "output_type": "display_data"
    },
    {
     "data": {
      "text/plain": [
       "\"vvec done\""
      ]
     },
     "metadata": {},
     "output_type": "display_data"
    }
   ],
   "source": [
    "uvec = FEM.showResultUvec(problem, q, name=\"uvec\", visible=false)\n",
    "display(\"uvec done\")\n",
    "ux = FEM.showResultUX(problem, q, name=\"ux\", visible=false)\n",
    "display(\"ux done\")\n",
    "uy = FEM.showResultUY(problem, q, name=\"uy\", visible=false)\n",
    "display(\"uy done\")\n",
    "s = FEM.showResultS(problem, S, name=\"σ\", visible=false, smooth=false)\n",
    "display(\"s done\")\n",
    "sx = FEM.showResultSX(problem, S, name=\"σx\", visible=false, smooth=false)\n",
    "display(\"sx done\")\n",
    "sy = FEM.showResultSY(problem, S, name=\"σy\", visible=false, smooth=false)\n",
    "display(\"sy done\")\n",
    "sxy = FEM.showResultSXY(problem, S, name=\"τxy\", visible=false, smooth=false)\n",
    "display(\"sxy done\")\n",
    "vvec = FEM.showResultsVTvec(problem, v, t, name=\"v(t)\", visible=true)\n",
    "display(\"vvec done\")\n",
    "#vvec = FEM.showResultUvec(problem, v[:, 1000], name=\"v(500)\", visible=true)"
   ]
  },
  {
   "cell_type": "code",
   "execution_count": 19,
   "metadata": {},
   "outputs": [],
   "source": [
    "pp1 = gmsh.model.occ.addPoint(0, height / 2, 0)\n",
    "pp2 = gmsh.model.occ.addPoint(base, height / 2, 0)\n",
    "pp3 = gmsh.model.occ.addPoint(base / 8, height / 4, 0)\n",
    "\n",
    "pl1 = gmsh.model.occ.addLine(pp1, pp2)\n",
    "pl2 = gmsh.model.occ.addSpline([pp1, pp3, pp2])\n",
    "\n",
    "\n",
    "gmsh.model.occ.synchronize()"
   ]
  },
  {
   "cell_type": "code",
   "execution_count": 20,
   "metadata": {},
   "outputs": [
    {
     "data": {
      "text/plain": [
       "84"
      ]
     },
     "metadata": {},
     "output_type": "display_data"
    },
    {
     "data": {
      "text/plain": [
       "\"elemTags = Vector{UInt64}[[0x000000000000007c, 0x000000000000007d, 0x000000000000007e, 0x000000000000007f, 0x0000000000000080, 0x0000000000000081, 0x0000000000000082, 0x0000000000000083, 0x0000000000000084, 0x0000000000000085, 0x0000000000000086, 0x0000000000000087, 0x0\"\u001b[93m\u001b[1m ⋯ 5367 bytes ⋯ \u001b[22m\u001b[39m\"00000194, 0x0000000000000195, 0x0000000000000196, 0x0000000000000197, 0x0000000000000198, 0x0000000000000199, 0x000000000000019a, 0x000000000000019b, 0x000000000000019c, 0x000000000000019d, 0x000000000000019e, 0x000000000000019f, 0x00000000000001a0, 0x00000000000001a1]]\""
      ]
     },
     "metadata": {},
     "output_type": "display_data"
    }
   ],
   "source": [
    "sts = ceil(Int64, (base / c * 2) / 6 / (Tₘᵢₙ / π * (√(1 + ξₘₐₓ^2) - ξₘₐₓ)))\n",
    "display(sts)\n",
    "Sp = FEM.solveStressPlaneStress(problem, u[:, sts])\n",
    "sp = FEM.showResultS(problem, Sp, name=\"σ at t\", visible=false, smooth=false)\n",
    "FEM.plotOnPath(problem, pl1, sp, 500, name=\"σred on path\", visible=false);"
   ]
  },
  {
   "cell_type": "code",
   "execution_count": 21,
   "metadata": {},
   "outputs": [],
   "source": [
    "#gmsh.option.setNumber(\"PostProcessing.Binary\", 1)\n",
    "#gmsh.option.setNumber(\"PostProcessing.SaveMesh\", 1)\n",
    "\n",
    "#gmsh.write(\"rect.msh\")\n",
    "#gmsh.write(\"rect.opt\")\n",
    "#gmsh.view.write(4, \"rect.pos\")"
   ]
  },
  {
   "cell_type": "code",
   "execution_count": 22,
   "metadata": {},
   "outputs": [
    {
     "name": "stdout",
     "output_type": "stream",
     "text": [
      "-------------------------------------------------------\n",
      "Version       : 4.12.1-git-38a28aaaf\n",
      "License       : GNU General Public License\n",
      "Build OS      : Linux64-sdk\n",
      "Build date    : 20240111\n",
      "Build host    : gmsh.info\n",
      "Build options : 64Bit ALGLIB[contrib] ANN[contrib] Bamg Blas[petsc] Blossom Cgns DIntegration Dlopen DomHex Eigen[contrib] Fltk Gmm[contrib] Hxt Jpeg Kbipack Lapack[petsc] LinuxJoystick MathEx[contrib] Med Mesh Metis[contrib] Mmg Mpeg Netgen ONELAB ONELABMetamodel OpenCASCADE OpenCASCADE-CAF OpenGL OpenMP OptHom PETSc Parser Plugins Png Post QuadMeshingTools QuadTri Solver TetGen/BR Voro++[contrib] WinslowUntangler Zlib\n",
      "FLTK version  : 1.4.0\n",
      "PETSc version : 3.14.4 (real arithmtic)\n",
      "OCC version   : 7.7.2\n",
      "MED version   : 4.1.0\n",
      "Packaged by   : geuzaine\n",
      "Web site      : https://gmsh.info\n",
      "Issue tracker : https://gitlab.onelab.info/gmsh/gmsh/issues\n",
      "-------------------------------------------------------\n"
     ]
    }
   ],
   "source": [
    "ENV[\"LIBGL_ALWAYS_SOFTWARE\"] = \"false\"\n",
    "gmsh.fltk.run()"
   ]
  },
  {
   "cell_type": "code",
   "execution_count": 23,
   "metadata": {
    "slideshow": {
     "slide_type": ""
    },
    "tags": []
   },
   "outputs": [],
   "source": [
    "gmsh.finalize()"
   ]
  }
 ],
 "metadata": {
  "kernelspec": {
   "display_name": "Julia 1.10.0",
   "language": "julia",
   "name": "julia-1.10"
  },
  "language_info": {
   "file_extension": ".jl",
   "mimetype": "application/julia",
   "name": "julia",
   "version": "1.10.0"
  },
  "varInspector": {
   "cols": {
    "lenName": 16,
    "lenType": 16,
    "lenVar": 40
   },
   "kernels_config": {
    "python": {
     "delete_cmd_postfix": "",
     "delete_cmd_prefix": "del ",
     "library": "var_list.py",
     "varRefreshCmd": "print(var_dic_list())"
    },
    "r": {
     "delete_cmd_postfix": ") ",
     "delete_cmd_prefix": "rm(",
     "library": "var_list.r",
     "varRefreshCmd": "cat(var_dic_list()) "
    }
   },
   "types_to_exclude": [
    "module",
    "function",
    "builtin_function_or_method",
    "instance",
    "_Feature"
   ],
   "window_display": false
  }
 },
 "nbformat": 4,
 "nbformat_minor": 4
}
