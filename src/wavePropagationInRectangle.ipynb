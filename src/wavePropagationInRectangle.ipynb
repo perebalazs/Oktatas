{
 "cells": [
  {
   "cell_type": "code",
   "execution_count": null,
   "metadata": {},
   "outputs": [],
   "source": [
    "using LinearAlgebra, SparseArrays\n",
    "using Arpack\n",
    "import gmsh\n",
    "gmsh.initialize()\n",
    "\n",
    "include(\"FEM.jl\")\n",
    "using .FEM"
   ]
  },
  {
   "cell_type": "code",
   "execution_count": null,
   "metadata": {},
   "outputs": [],
   "source": [
    "# Adatok\n",
    "E = 2e5\n",
    "ν = 0.3\n",
    "ρ = 7.85e-9\n",
    "thickness = 1\n",
    "height = 10\n",
    "base = 100\n",
    "elemSize = 2 #22\n",
    "\n",
    "approxOrder = 5\n",
    "internalNodes = true\n",
    "quadElements = true\n",
    "\n",
    "problem = FEM.Problem(\"rectangle\", type=\"PlaneStress\", E=E, ν=ν, ρ=ρ, b=thickness)"
   ]
  },
  {
   "cell_type": "code",
   "execution_count": null,
   "metadata": {},
   "outputs": [],
   "source": [
    "# Geometria megrajzolása\n",
    "gmsh.model.add(problem.name)\n",
    "\n",
    "p1 = gmsh.model.occ.addPoint(0, 0, 0)\n",
    "p2 = gmsh.model.occ.addPoint(base, 0, 0)\n",
    "#p23 = gmsh.model.occ.addPoint(base, height / 2, 0)\n",
    "p3 = gmsh.model.occ.addPoint(base, height, 0)\n",
    "p4 = gmsh.model.occ.addPoint(0, height, 0)\n",
    "\n",
    "l1 = gmsh.model.occ.addLine(p1, p2)\n",
    "l2 = gmsh.model.occ.addLine(p2, p3)\n",
    "#l23 = gmsh.model.occ.addLine(p23, p3)\n",
    "l3 = gmsh.model.occ.addLine(p3, p4)\n",
    "l4 = gmsh.model.occ.addLine(p4, p1)\n",
    "\n",
    "cl1 = gmsh.model.occ.addCurveLoop([l1, l2, l3, l4])\n",
    "\n",
    "l5 = gmsh.model.occ.addCircle(base / 2, height / 2, 0, min(base, height) / 4)\n",
    "cl2 = gmsh.model.occ.addCurveLoop([l5])\n",
    "\n",
    "sf1 = gmsh.model.occ.addPlaneSurface([cl1, cl2])\n",
    "#display(sf1)\n",
    "\n",
    "#cp1 = gmsh.model.occ.addPoint(base / 2, height / 2, 0)\n",
    "#cl1 = gmsh.model.occ.addLine(p1, p3)\n",
    "#cl2 = gmsh.model.occ.addLine(p2, p4)\n",
    "\n",
    "#sf2 = gmsh.model.occ.fragment([(2, sf1)], [(1, cl1)])\n",
    "#gmsh.model.occ.removeAllDuplicates()\n",
    "\n",
    "#p5 = gmsh.model.occ.addPoint(0, height / 2, 0)\n",
    "#p6 = gmsh.model.occ.addPoint(base, height / 2, 0)\n",
    "#l5 = gmsh.model.occ.addLine(p5, p6)\n",
    "\n",
    "gmsh.model.occ.synchronize()\n",
    "#sf2"
   ]
  },
  {
   "cell_type": "code",
   "execution_count": null,
   "metadata": {},
   "outputs": [],
   "source": [
    "phg = gmsh.model.addPhysicalGroup(1, [l2])\n",
    "gmsh.model.setPhysicalName(1, phg, \"supp\")\n",
    "phg = gmsh.model.addPhysicalGroup(1, [l4])\n",
    "gmsh.model.setPhysicalName(1, phg, \"load\")"
   ]
  },
  {
   "cell_type": "code",
   "execution_count": null,
   "metadata": {},
   "outputs": [],
   "source": [
    "supp = FEM.displacementConstraint(\"supp\", ux=0, uy=0)\n",
    "load = FEM.traction(\"load\", fx=1, fy=0, thickness=thickness)"
   ]
  },
  {
   "cell_type": "code",
   "execution_count": null,
   "metadata": {},
   "outputs": [],
   "source": [
    "FEM.generateMesh(problem, sf1, elemSize, approxOrder=approxOrder, algorithm=6, quadrangle=quadElements, internalNodes=internalNodes)"
   ]
  },
  {
   "cell_type": "code",
   "execution_count": null,
   "metadata": {},
   "outputs": [],
   "source": [
    "ENV[\"LIBGL_ALWAYS_SOFTWARE\"] = \"true\"\n",
    "gmsh.fltk.run()\n",
    "#gmsh.fltk.wait(3)"
   ]
  },
  {
   "cell_type": "code",
   "execution_count": null,
   "metadata": {},
   "outputs": [],
   "source": [
    "# Néhány láthatósági beállítás 0:kikapcs. 1:bekapcs.\n",
    "gmsh.option.setNumber(\"Geometry.CurveLabels\", 0)\n",
    "gmsh.option.setNumber(\"Geometry.Points\", 0)\n",
    "gmsh.option.setNumber(\"Geometry.Curves\", 0)\n",
    "gmsh.option.setNumber(\"Mesh.Points\", 0)\n",
    "gmsh.option.setNumber(\"Mesh.Lines\", 0)\n",
    "gmsh.option.setNumber(\"Mesh.SurfaceEdges\", 0)\n",
    "gmsh.option.setNumber(\"Mesh.NodeLabels\", 0)\n",
    "gmsh.option.setNumber(\"Mesh.LineLabels\", 0)\n",
    "gmsh.option.setNumber(\"Mesh.SurfaceLabels\", 0)"
   ]
  },
  {
   "cell_type": "code",
   "execution_count": null,
   "metadata": {},
   "outputs": [],
   "source": [
    "K = FEM.stiffnessMatrixPlaneStress(problem)"
   ]
  },
  {
   "cell_type": "code",
   "execution_count": null,
   "metadata": {},
   "outputs": [],
   "source": [
    "M = FEM.massMatrixPlaneStress(problem)"
   ]
  },
  {
   "cell_type": "code",
   "execution_count": null,
   "metadata": {},
   "outputs": [],
   "source": [
    "C = 1e-8 * K"
   ]
  },
  {
   "cell_type": "code",
   "execution_count": null,
   "metadata": {},
   "outputs": [],
   "source": [
    "K, M, C, f = FEM.applyBoundaryConditions!(problem, K, M, C, [supp], [load]);"
   ]
  },
  {
   "cell_type": "code",
   "execution_count": null,
   "metadata": {},
   "outputs": [],
   "source": [
    "Tₘᵢₙ = FEM.smallestPeriodTime(K, M)"
   ]
  },
  {
   "cell_type": "code",
   "execution_count": null,
   "metadata": {},
   "outputs": [],
   "source": [
    "q = FEM.solveDisplacement(K, f)"
   ]
  },
  {
   "cell_type": "markdown",
   "metadata": {},
   "source": [
    "$$\\mathbf{M}\\ddot{\\mathbf{q}}+\\mathbf{C}\\dot{\\mathbf{q}}+\\mathbf{K}\\mathbf{q}=\\mathbf{f}$$\n",
    "$$\\mathbf{M}\\ddot{\\mathbf{q}}_n+\\mathbf{C}\\dot{\\mathbf{q}}_n+\\mathbf{K}\\mathbf{q}_n=\\mathbf{f}_n$$\n",
    "$$\\ddot{\\mathbf{q}}_n = \\frac{\\mathbf{q}_{n+1}-2\\mathbf{q}_{n}+\\mathbf{q}_{n-1}}{\\Delta t^2}$$\n",
    "$$\\dot{\\mathbf{q}}_n = \\frac{\\mathbf{q}_{n}-\\mathbf{q}_{n-1}}{\\Delta t}$$\n",
    "$$\\mathbf{M}\\frac{\\mathbf{q}_{n+1}-2\\mathbf{q}_{n}+\\mathbf{q}_{n-1}}{\\Delta t^2}+\\mathbf{C}\\frac{\\mathbf{q}_{n}-\\mathbf{q}_{n-1}}{\\Delta t}+\\mathbf{K}\\mathbf{q}_n=\\mathbf{f}_n$$\n",
    "$$\\mathbf{M}(\\mathbf{q}_{n+1}-2\\mathbf{q}_{n}+\\mathbf{q}_{n-1})+\\Delta t\\mathbf{C}(\\mathbf{q}_{n}-\\mathbf{q}_{n-1})+\\Delta t^2\\mathbf{K}\\mathbf{q}_n=\\Delta t^2\\mathbf{f}_n$$\n",
    "$$\\mathbf{M}\\mathbf{q}_{n+1}=\\left(2\\mathbf{M}-\\Delta t\\mathbf{C}-\\Delta t^{2}\\mathbf{K}\\right)\\mathbf{q}_{n}+(\\Delta t\\mathbf{C}-\\mathbf{M})\\mathbf{q}_{n-1}+\\Delta t^{2}\\mathbf{f}_{n}$$"
   ]
  },
  {
   "cell_type": "code",
   "execution_count": null,
   "metadata": {},
   "outputs": [],
   "source": [
    "c = √(problem.E / problem.ρ)\n",
    "ξₘₐₓ = 1e-1\n",
    "β = ξₘₐₓ * Tₘᵢₙ / π\n",
    "C = β * K\n",
    "u, v, t = FEM.CDM(K, M, C, base / c * 2, Tₘᵢₙ / π * (√(1 + ξₘₐₓ^2) - ξₘₐₓ) * 0.9)\n",
    "size(u)"
   ]
  },
  {
   "cell_type": "code",
   "execution_count": null,
   "metadata": {},
   "outputs": [],
   "source": [
    "S = FEM.solveStressPlaneStress(problem, q)"
   ]
  },
  {
   "cell_type": "code",
   "execution_count": null,
   "metadata": {},
   "outputs": [],
   "source": [
    "gmsh.option.setNumber(\"View.IntervalsType\", 3)\n",
    "gmsh.option.setNumber(\"View.VectorType\", 5)\n",
    "gmsh.option.setString(\"View.Format\", \"%.6g\")"
   ]
  },
  {
   "cell_type": "code",
   "execution_count": null,
   "metadata": {
    "notebookRunGroups": {
     "groupValue": ""
    }
   },
   "outputs": [],
   "source": [
    "uvec = FEM.showResultUvec(problem, q, name=\"uvec\", visible=false)\n",
    "display(\"uvec done\")\n",
    "ux = FEM.showResultUX(problem, q, name=\"ux\", visible=false)\n",
    "display(\"ux done\")\n",
    "uy = FEM.showResultUY(problem, q, name=\"uy\", visible=false)\n",
    "display(\"uy done\")\n",
    "s = FEM.showResultS(problem, S, name=\"σ\", visible=false, smooth=false)\n",
    "display(\"s done\")\n",
    "sx = FEM.showResultSX(problem, S, name=\"σx\", visible=false, smooth=false)\n",
    "display(\"sx done\")\n",
    "sy = FEM.showResultSY(problem, S, name=\"σy\", visible=false, smooth=false)\n",
    "display(\"sy done\")\n",
    "sxy = FEM.showResultSXY(problem, S, name=\"τxy\", visible=false, smooth=false)\n",
    "display(\"sxy done\")\n",
    "#vvec = FEM.showResultsVTvec(problem, v, t, name=\"v(t)\", visible=true)\n",
    "display(\"vvec done\")\n",
    "#vvec = FEM.showResultUvec(problem, v[:, 1000], name=\"v(500)\", visible=true)"
   ]
  },
  {
   "cell_type": "code",
   "execution_count": null,
   "metadata": {},
   "outputs": [],
   "source": [
    "pp1 = gmsh.model.occ.addPoint(0, height / 2, 0)\n",
    "pp2 = gmsh.model.occ.addPoint(base, height / 2, 0)\n",
    "pp3 = gmsh.model.occ.addPoint(base / 8, height / 4, 0)\n",
    "\n",
    "pl1 = gmsh.model.occ.addLine(pp1, pp2)\n",
    "pl2 = gmsh.model.occ.addSpline([pp1, pp3, pp2])\n",
    "\n",
    "\n",
    "gmsh.model.occ.synchronize()"
   ]
  },
  {
   "cell_type": "code",
   "execution_count": null,
   "metadata": {},
   "outputs": [],
   "source": [
    "sts = ceil(Int64, (base / c * 2) / 6 / (Tₘᵢₙ / π * (√(1 + ξₘₐₓ^2) - ξₘₐₓ)))\n",
    "display(sts)\n",
    "Sp = FEM.solveStressPlaneStress(problem, u[:, sts])\n",
    "sp = FEM.showResultS(problem, Sp, name=\"σ at t\", visible=false, smooth=false)\n",
    "FEM.plotOnPath(problem, pl1, sp, 500, name=\"σred on path\", visible=false);"
   ]
  },
  {
   "cell_type": "code",
   "execution_count": null,
   "metadata": {},
   "outputs": [],
   "source": [
    "#gmsh.option.setNumber(\"PostProcessing.Binary\", 1)\n",
    "#gmsh.option.setNumber(\"PostProcessing.SaveMesh\", 1)\n",
    "\n",
    "#gmsh.write(\"rect.msh\")\n",
    "#gmsh.write(\"rect.opt\")\n",
    "#gmsh.view.write(4, \"rect.pos\")"
   ]
  },
  {
   "cell_type": "code",
   "execution_count": null,
   "metadata": {},
   "outputs": [],
   "source": [
    "ENV[\"LIBGL_ALWAYS_SOFTWARE\"] = \"false\"\n",
    "gmsh.fltk.run()"
   ]
  },
  {
   "cell_type": "code",
   "execution_count": null,
   "metadata": {
    "slideshow": {
     "slide_type": ""
    },
    "tags": []
   },
   "outputs": [],
   "source": [
    "gmsh.finalize()"
   ]
  }
 ],
 "metadata": {
  "kernelspec": {
   "display_name": "Julia 1.9.3",
   "language": "julia",
   "name": "julia-1.9"
  },
  "language_info": {
   "file_extension": ".jl",
   "mimetype": "application/julia",
   "name": "julia",
   "version": "1.9.3"
  },
  "varInspector": {
   "cols": {
    "lenName": 16,
    "lenType": 16,
    "lenVar": 40
   },
   "kernels_config": {
    "python": {
     "delete_cmd_postfix": "",
     "delete_cmd_prefix": "del ",
     "library": "var_list.py",
     "varRefreshCmd": "print(var_dic_list())"
    },
    "r": {
     "delete_cmd_postfix": ") ",
     "delete_cmd_prefix": "rm(",
     "library": "var_list.r",
     "varRefreshCmd": "cat(var_dic_list()) "
    }
   },
   "types_to_exclude": [
    "module",
    "function",
    "builtin_function_or_method",
    "instance",
    "_Feature"
   ],
   "window_display": false
  }
 },
 "nbformat": 4,
 "nbformat_minor": 4
}
