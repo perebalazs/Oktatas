{
 "cells": [
  {
   "cell_type": "code",
   "execution_count": 1,
   "metadata": {},
   "outputs": [],
   "source": [
    "import gmsh\n",
    "gmsh.initialize()\n",
    "using LinearAlgebra, SparseArrays"
   ]
  },
  {
   "cell_type": "code",
   "execution_count": 2,
   "metadata": {},
   "outputs": [],
   "source": [
    "gmsh.model.add(\"rectangle\")\n",
    "\n",
    "p1 = gmsh.model.occ.addPoint(0, 0, 0)\n",
    "p2 = gmsh.model.occ.addPoint(-3, 4, 0)\n",
    "\n",
    "l1 = gmsh.model.occ.addLine(p1, p2)\n",
    "\n",
    "gmsh.model.occ.synchronize()"
   ]
  },
  {
   "cell_type": "code",
   "execution_count": 3,
   "metadata": {},
   "outputs": [
    {
     "name": "stdout",
     "output_type": "stream",
     "text": [
      "Info    : Meshing 1D...\n",
      "Info    : Meshing curve 1 (Line)\n",
      "Info    : Done meshing 1D (Wall 0.000164667s, CPU 0.000143s)\n",
      "Info    : 3 nodes 4 elements\n"
     ]
    }
   ],
   "source": [
    "all = gmsh.model.getEntities(0)\n",
    "gmsh.model.mesh.setSize(all, 2.5)  # element size\n",
    "#gmsh.model.mesh.setAlgorithm(2, sf1, 8)\n",
    "gmsh.model.mesh.generate(1)\n",
    "\n",
    "gmsh.option.setNumber(\"Geometry.CurveLabels\", 1)\n",
    "gmsh.option.setNumber(\"Mesh.Points\", 1)\n",
    "gmsh.option.setNumber(\"Mesh.Lines\", 1)\n",
    "gmsh.option.setNumber(\"Mesh.NodeLabels\", 1)\n",
    "gmsh.option.setNumber(\"Mesh.LineLabels\", 1)"
   ]
  },
  {
   "cell_type": "code",
   "execution_count": 4,
   "metadata": {},
   "outputs": [
    {
     "data": {
      "text/plain": [
       "0x0000000000000003"
      ]
     },
     "metadata": {},
     "output_type": "display_data"
    },
    {
     "data": {
      "text/plain": [
       "2.5"
      ]
     },
     "metadata": {},
     "output_type": "display_data"
    },
    {
     "data": {
      "text/plain": [
       "1×2 adjoint(::Vector{UInt64}) with eltype UInt64:\n",
       " 0x0000000000000001  0x0000000000000003"
      ]
     },
     "metadata": {},
     "output_type": "display_data"
    },
    {
     "data": {
      "text/plain": [
       "1-element Vector{Vector{UInt64}}:\n",
       " [0x0000000000000003, 0x0000000000000004]"
      ]
     },
     "metadata": {},
     "output_type": "display_data"
    },
    {
     "data": {
      "text/plain": [
       "1-element Vector{Vector{UInt64}}:\n",
       " [0x0000000000000001, 0x0000000000000003, 0x0000000000000003, 0x0000000000000002]"
      ]
     },
     "metadata": {},
     "output_type": "display_data"
    },
    {
     "data": {
      "text/plain": [
       "2"
      ]
     },
     "metadata": {},
     "output_type": "display_data"
    },
    {
     "data": {
      "text/plain": [
       "2×2 Matrix{UInt64}:\n",
       " 0x0000000000000001  0x0000000000000003\n",
       " 0x0000000000000003  0x0000000000000002"
      ]
     },
     "metadata": {},
     "output_type": "display_data"
    }
   ],
   "source": [
    "dimTags = gmsh.model.getEntities(1)\n",
    "elementTypes, elementTags, nodeTags = gmsh.model.mesh.getElements(dimTags[1][1], dimTags[1][1])\n",
    "elementName, dim, order, numNodes::Int64, localNodeCoord, numPrimaryNodes = gmsh.model.mesh.getElementProperties(elementTypes[1])\n",
    "intPoints, intWeights = gmsh.model.mesh.getIntegrationPoints(elementTypes[1], \"Gauss3\")\n",
    "display(elementTags[1][1])\n",
    "jac, jacDet, coord = gmsh.model.mesh.getJacobian(elementTags[1][1], intPoints)\n",
    "Jac = reshape(jac, 3, :)\n",
    "display(√(Jac[1, 1]^2 + Jac[2, 1]^2) * 2)\n",
    "nn = zeros(Int, 2)\n",
    "nn = ((reshape(nodeTags[1], numNodes, :))[1:2, 1])'\n",
    "display(nn)\n",
    "display(elementTags)\n",
    "display(nodeTags)\n",
    "display(numNodes)\n",
    "reshape(nodeTags[1], numNodes, :)"
   ]
  },
  {
   "cell_type": "code",
   "execution_count": 5,
   "metadata": {},
   "outputs": [
    {
     "name": "stdout",
     "output_type": "stream",
     "text": [
      "-------------------------------------------------------\n",
      "Version       : 4.11.1\n",
      "License       : GNU General Public License\n",
      "Build OS      : Linux64-sdk\n",
      "Build date    : 20221221\n",
      "Build host    : gmsh.info\n",
      "Build options : 64Bit ALGLIB[contrib] ANN[contrib] Bamg Blas[petsc] Blossom Cgns DIntegration Dlopen DomHex Eigen[contrib] Fltk Gmm[contrib] Hxt Jpeg Kbipack Lapack[petsc] LinuxJoystick MathEx[contrib] Med Mesh Metis[contrib] Mmg Mpeg Netgen ONELAB ONELABMetamodel OpenCASCADE OpenCASCADE-CAF OpenGL OpenMP OptHom PETSc Parser Plugins Png Post QuadMeshingTools QuadTri Solver TetGen/BR Voro++[contrib] WinslowUntangler Zlib\n",
      "FLTK version  : 1.4.0\n",
      "PETSc version : 3.14.4 (real arithmtic)\n",
      "OCC version   : 7.6.1\n",
      "MED version   : 4.1.0\n",
      "Packaged by   : geuzaine\n",
      "Web site      : https://gmsh.info\n",
      "Issue tracker : https://gitlab.onelab.info/gmsh/gmsh/issues\n",
      "-------------------------------------------------------\n"
     ]
    }
   ],
   "source": [
    "gmsh.fltk.run()"
   ]
  },
  {
   "cell_type": "code",
   "execution_count": 6,
   "metadata": {},
   "outputs": [],
   "source": [
    "gmsh.finalize()"
   ]
  }
 ],
 "metadata": {
  "kernelspec": {
   "display_name": "Julia 1.9.3",
   "language": "julia",
   "name": "julia-1.9"
  },
  "language_info": {
   "file_extension": ".jl",
   "mimetype": "application/julia",
   "name": "julia",
   "version": "1.9.3"
  }
 },
 "nbformat": 4,
 "nbformat_minor": 2
}
