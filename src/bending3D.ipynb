{
 "cells": [
  {
   "cell_type": "code",
   "execution_count": 1,
   "metadata": {},
   "outputs": [],
   "source": [
    "using LinearAlgebra, SparseArrays\n",
    "import gmsh\n",
    "gmsh.initialize()\n",
    "\n",
    "include(\"FEM.jl\")\n",
    "using .FEM"
   ]
  },
  {
   "cell_type": "code",
   "execution_count": 2,
   "metadata": {},
   "outputs": [
    {
     "data": {
      "text/plain": [
       "Main.FEM.Problem(\"bending3D\", \"Solid\", 3, 200000.0, 0.3, 7.85e-9, 1.0)"
      ]
     },
     "metadata": {},
     "output_type": "display_data"
    }
   ],
   "source": [
    "problem = FEM.Problem(\"bending3D\")"
   ]
  },
  {
   "cell_type": "code",
   "execution_count": 3,
   "metadata": {},
   "outputs": [
    {
     "name": "stdout",
     "output_type": "stream",
     "text": [
      "Info    : Reading 'bending3D.geo'...\n",
      "Info    : Meshing 1D...\n",
      "Info    : [  0%] Meshing curve 1 (Line)\n",
      "Info    : [ 10%] Meshing curve 2 (Line)\n",
      "Info    : [ 20%] Meshing curve 3 (Line)\n",
      "Info    : [ 30%] Meshing curve 4 (Line)\n",
      "Info    : [ 40%] Meshing curve 5 (Line)\n",
      "Info    : [ 50%] Meshing curve 6 (Line)\n",
      "Info    : [ 50%] Meshing curve 7 (Line)\n",
      "Info    : [ 60%] Meshing curve 8 (Line)\n",
      "Info    : [ 70%] Meshing curve 9 (Line)\n",
      "Info    : [ 80%] Meshing curve 10 (Line)\n",
      "Info    : [ 90%] Meshing curve 11 (Line)\n",
      "Info    : [100%] Meshing curve 12 (Line)\n",
      "Info    : Done meshing 1D (Wall 0.00123169s, CPU 0.00122s)\n",
      "Info    : Meshing 2D...\n",
      "Info    : [  0%] Meshing surface 1 (Plane, Frontal-Delaunay)\n",
      "Info    : [ 20%] Meshing surface 2 (Plane, Frontal-Delaunay)\n",
      "Info    : [ 40%] Meshing surface 3 (Plane, Frontal-Delaunay)\n",
      "Info    : [ 50%] Meshing surface 4 (Plane, Frontal-Delaunay)\n",
      "Info    : [ 70%] Meshing surface 5 (Plane, Frontal-Delaunay)\n",
      "Info    : [ 90%] Meshing surface 6 (Plane, Frontal-Delaunay)\n",
      "Info    : Done meshing 2D (Wall 0.0302686s, CPU 0.030217s)\n",
      "Info    : Meshing 3D...\n",
      "Info    : 3D Meshing 1 volume with 1 connected component\n",
      "Info    : Tetrahedrizing 614 nodes...\n",
      "Info    : Done tetrahedrizing 622 nodes (Wall 0.0123324s, CPU 0.012329s)\n",
      "Info    : Reconstructing mesh...\n",
      "Info    :  - Creating surface mesh\n",
      "Info    :  - Identifying boundary edges\n",
      "Info    :  - Recovering boundary\n",
      "Info    : Done reconstructing mesh (Wall 0.0232665s, CPU 0.023264s)\n",
      "Info    : Found volume 1\n",
      "Info    : It. 0 - 0 nodes created - worst tet radius 1.97446 (nodes removed 0 0)\n",
      "Info    : 3D refinement terminated (726 nodes total):\n",
      "Info    :  - 0 Delaunay cavities modified for star shapeness\n",
      "Info    :  - 0 nodes could not be inserted\n",
      "Info    :  - 2346 tetrahedra created in 0.00876097 sec. (267778 tets/s)\n",
      "Info    : 0 node relocations\n",
      "Info    : Done meshing 3D (Wall 0.0537915s, CPU 0.053787s)\n",
      "Info    : Optimizing mesh...\n",
      "Info    : Optimizing volume 1\n",
      "Info    : Optimization starts (volume = 10000) with worst = 7.52441e-05 / average = 0.779326:\n",
      "Info    : 0.00 < quality < 0.10 :         4 elements\n",
      "Info    : 0.10 < quality < 0.20 :         9 elements\n",
      "Info    : 0.20 < quality < 0.30 :         7 elements\n",
      "Info    : 0.30 < quality < 0.40 :        57 elements\n",
      "Info    : 0.40 < quality < 0.50 :        31 elements\n",
      "Info    : 0.50 < quality < 0.60 :        73 elements\n",
      "Info    : 0.60 < quality < 0.70 :       420 elements\n",
      "Info    : 0.70 < quality < 0.80 :       512 elements\n",
      "Info    : 0.80 < quality < 0.90 :       779 elements\n",
      "Info    : 0.90 < quality < 1.00 :       454 elements\n",
      "Info    : 20 edge swaps, 0 node relocations (volume = 10000): worst = 0.33144 / average = 0.785629 (Wall 0.0010781s, CPU 0.001077s)\n",
      "Info    : No ill-shaped tets in the mesh :-)\n",
      "Info    : 0.00 < quality < 0.10 :         0 elements\n",
      "Info    : 0.10 < quality < 0.20 :         0 elements\n",
      "Info    : 0.20 < quality < 0.30 :         0 elements\n",
      "Info    : 0.30 < quality < 0.40 :        56 elements\n",
      "Info    : 0.40 < quality < 0.50 :        25 elements\n",
      "Info    : 0.50 < quality < 0.60 :        72 elements\n",
      "Info    : 0.60 < quality < 0.70 :       419 elements\n",
      "Info    : 0.70 < quality < 0.80 :       522 elements\n",
      "Info    : 0.80 < quality < 0.90 :       778 elements\n",
      "Info    : 0.90 < quality < 1.00 :       454 elements\n",
      "Info    : Done optimizing mesh (Wall 0.00418587s, CPU 0.004182s)\n",
      "Info    : 726 nodes 3726 elements\n",
      "Info    : Done reading 'bending3D.geo'\n"
     ]
    }
   ],
   "source": [
    "gmsh.open(\"bending3D.geo\")"
   ]
  },
  {
   "cell_type": "code",
   "execution_count": 4,
   "metadata": {},
   "outputs": [
    {
     "data": {
      "text/plain": [
       "1-element Vector{Tuple{Int32, Int32}}:\n",
       " (3, 1)"
      ]
     },
     "metadata": {},
     "output_type": "display_data"
    }
   ],
   "source": [
    "gmsh.model.getEntitiesForPhysicalName(\"body\")\n",
    "#gmsh.model.mesh.getElements(3, 1)"
   ]
  },
  {
   "cell_type": "code",
   "execution_count": 5,
   "metadata": {},
   "outputs": [],
   "source": [
    "#gmsh.fltk.run()"
   ]
  },
  {
   "cell_type": "code",
   "execution_count": 6,
   "metadata": {},
   "outputs": [],
   "source": [
    "# Néhány láthatósági beállítás 0:kikapcs. 1:bekapcs.\n",
    "gmsh.option.setNumber(\"Geometry.CurveLabels\", 0)\n",
    "gmsh.option.setNumber(\"Geometry.Points\", 0)\n",
    "gmsh.option.setNumber(\"Geometry.Curves\", 0)\n",
    "gmsh.option.setNumber(\"Mesh.Points\", 0)\n",
    "gmsh.option.setNumber(\"Mesh.Lines\", 0)\n",
    "gmsh.option.setNumber(\"Mesh.SurfaceEdges\", 0)\n",
    "gmsh.option.setNumber(\"Mesh.NodeLabels\", 0)\n",
    "gmsh.option.setNumber(\"Mesh.LineLabels\", 0)\n",
    "gmsh.option.setNumber(\"Mesh.SurfaceLabels\", 0)"
   ]
  },
  {
   "cell_type": "code",
   "execution_count": 7,
   "metadata": {},
   "outputs": [
    {
     "data": {
      "text/plain": [
       "2178×2178 SparseMatrixCSC{Float64, Int64} with 72468 stored entries:\n",
       "⎡⣿⢟⡁⠘⠀⠘⠀⠃⠀⢾⣼⠀⠆⠀⠂⠀⡇⠀⡄⠀⠄⢨⡇⢤⠀⠠⠀⣸⠀⡂⠀⠂⠀⣛⠀⠀⠀⠀⠀⠀⎤\n",
       "⎢⣁⠈⠻⣦⡀⠀⠀⠀⠀⠀⠰⣟⣼⢿⢇⠀⡁⠀⠀⠀⠀⠀⡞⡪⢞⡏⠀⢈⡀⠀⢀⡀⠀⡀⠀⠀⠸⡝⣸⠂⎥\n",
       "⎢⣀⠀⠀⠈⠻⣦⡀⠀⠀⠀⢠⠞⠷⠯⠏⠘⣄⡀⣀⢀⠀⢀⣀⣀⠀⣀⠀⢰⡧⠿⠫⠞⠀⣇⠀⠀⠠⢋⡊⡿⎥\n",
       "⎢⠤⠀⠀⠀⠀⠈⠻⣦⡀⠀⠀⠀⠀⠀⠀⠀⠰⣭⡞⡿⡀⠠⠜⠷⠾⠚⠁⠡⣠⣠⣀⡀⠀⠄⠀⠀⠐⢊⡙⡠⎥\n",
       "⎢⣠⣄⠀⠀⠀⠀⠀⠈⠻⣦⣀⠀⡄⠀⡄⠀⡸⠚⡞⠗⡅⢨⡄⣀⠀⢠⠀⢠⠺⡧⠋⡟⠀⣠⢠⢠⡄⠋⠻⠏⎥\n",
       "⎢⠒⠛⣴⢦⣠⠖⠀⠀⠀⠘⠻⢆⣵⣶⣶⣶⣇⠀⠁⠀⠀⠘⣧⠼⣦⢆⠀⢛⡦⣡⣠⢀⠀⡛⣸⢾⡳⣆⣴⣴⎥\n",
       "⎢⠈⠁⣶⣟⡽⡇⠀⠀⠀⠉⢱⣿⣿⣿⣿⣿⠋⠀⠀⠀⠀⠀⢗⡜⣥⡗⠀⠐⡇⠻⣗⡃⠀⠳⡿⣿⢺⣿⢗⣯⎥\n",
       "⎢⠈⠀⠉⠑⣋⠁⠀⠀⠀⠉⢸⣿⣿⣿⣿⣿⡓⠀⠀⠀⠀⠀⠁⠀⠉⠁⠀⠈⠁⠉⠘⠉⠀⣸⡾⣿⣷⣿⢿⣽⎥\n",
       "⎢⠉⠉⠁⠈⠀⠹⡔⣦⣲⠊⠉⠙⠋⠀⠙⠈⠛⢄⣶⣶⣶⣶⠴⡶⠒⢲⡀⠬⢤⡰⣒⣀⠀⢉⣼⣮⢿⣳⣼⡖⎥\n",
       "⎢⠀⠉⠀⠀⠀⢘⣾⡭⢾⠍⠁⠀⠀⠀⠀⠀⢸⣿⣿⣿⣿⣿⣍⡯⠔⣱⠄⡄⡸⠏⡧⡓⠀⢠⣾⡾⣫⡷⣣⣷⎥\n",
       "⎢⡀⣁⠀⠀⠀⢀⠀⡈⡁⣉⣀⠀⠀⠀⠀⠀⢸⣿⣿⣿⣿⣿⣁⢀⠀⠀⠀⠀⢁⠀⡉⠀⠀⣸⣷⣯⡿⣿⡿⣿⎥\n",
       "⎢⠉⣍⡺⡩⠀⢸⢶⡅⠀⢩⣉⡟⣙⠵⠁⠀⢰⡧⡧⡽⠁⢘⣛⣼⣿⣷⣿⣿⠈⠀⠀⠀⠀⢹⣼⣯⣿⡷⡲⠋⎥\n",
       "⎢⠀⡀⡾⠵⠀⢠⣺⠃⠀⣀⠨⢟⢥⠿⠇⠀⢸⣀⢔⣡⠀⠀⢿⣿⣟⣽⣿⣇⠀⠀⠀⠀⠀⢠⣛⣿⡿⣿⣺⡟⎥\n",
       "⎢⣀⣠⡀⢀⢀⣀⠅⡀⠀⣀⣤⢀⢀⠀⡀⠀⡀⡌⠀⠥⠀⠀⣿⣿⠿⢿⡿⣯⠀⢀⠀⡀⣀⢘⢿⢿⡿⡿⠻⡞⎥\n",
       "⎢⠠⠠⠀⠈⣭⡏⠀⣺⠾⡦⠌⣫⣭⡉⡅⠀⢀⡳⡶⠎⠁⠐⠂⠀⠀⠀⠀⢀⣱⣾⣿⣿⣿⣿⣽⣿⣾⡿⣿⣿⎥\n",
       "⎢⠠⠀⠀⠰⣫⠆⠀⠸⣯⠤⠀⢚⠽⠹⡖⠀⠘⢸⢭⠫⠃⠈⠀⠀⠀⠀⠀⠠⣿⣿⣕⣽⣿⣥⣓⢯⢴⣛⣾⣿⎥\n",
       "⎢⣤⢠⠀⠠⠤⢤⠀⠄⠀⣠⣤⠠⢤⡀⣀⣠⡄⢀⠀⣀⣀⣠⣄⣀⠀⣀⣀⢘⣿⣿⠟⣿⣿⣿⣿⣻⣼⡿⣿⣻⎥\n",
       "⎢⠀⠀⠀⠀⠀⠀⠀⠀⠀⣒⣲⣞⣿⣯⣾⣯⡲⣿⣺⡿⡽⣿⡶⣿⣿⣼⣿⣗⣷⣿⡽⣜⣿⣻⣿⣿⣿⣿⣿⣿⎥\n",
       "⎢⠀⠀⣖⠦⡤⢂⡰⢀⡤⠉⠹⢮⣾⣶⣽⣿⢿⣳⢯⡾⣿⣯⢿⡿⣿⣯⣿⡯⣾⡿⣴⢳⣶⡿⣿⣿⢿⣷⣿⣿⎥\n",
       "⎣⠀⠀⠲⠚⣮⡬⠓⡨⡿⠆⢐⣿⡽⣵⣟⣷⢲⠿⢭⣾⣿⣯⡼⠊⣾⠾⣻⠦⣿⣿⣾⣿⣿⣻⣿⣿⣿⣿⣿⣿⎦"
      ]
     },
     "metadata": {},
     "output_type": "display_data"
    }
   ],
   "source": [
    "K = FEM.stiffnessMatrixSolid(problem, \"xxxx\")"
   ]
  },
  {
   "cell_type": "code",
   "execution_count": 8,
   "metadata": {},
   "outputs": [
    {
     "data": {
      "text/plain": [
       "(\"load\", 0, -1, 0)"
      ]
     },
     "metadata": {},
     "output_type": "display_data"
    }
   ],
   "source": [
    "supp = FEM.displacementConstraint(\"supp\", ux=0, uy=0, uz=0)\n",
    "load = FEM.traction(\"load\", fy=-1)"
   ]
  },
  {
   "cell_type": "code",
   "execution_count": 9,
   "metadata": {},
   "outputs": [
    {
     "data": {
      "text/plain": [
       "(sparse([1, 2, 3, 4, 5, 6, 7, 8, 9, 10  …  1950, 2146, 2147, 2148, 2149, 2150, 2151, 2176, 2177, 2178], [1, 2, 3, 4, 5, 6, 7, 8, 9, 10  …  2178, 2178, 2178, 2178, 2178, 2178, 2178, 2178, 2178, 2178], [1.0, 1.0, 1.0, 1.0, 1.0, 1.0, 1.0, 1.0, 1.0, 1.0  …  -225391.20136712628, 4952.2647812990945, 31883.052895653684, 91041.0885562553, 9663.793685872703, 31787.159863010053, -350033.77192999027, 60335.68095687806, -131657.52651253296, 2.4398922952139294e6], 2178, 2178), [0.0; 0.0; … ; 0.0; 0.0;;])"
      ]
     },
     "metadata": {},
     "output_type": "display_data"
    }
   ],
   "source": [
    "K, f = FEM.applyBoundaryConditions!(problem, K, [supp], [load])"
   ]
  },
  {
   "cell_type": "code",
   "execution_count": 10,
   "metadata": {},
   "outputs": [],
   "source": [
    "#det(K)"
   ]
  },
  {
   "cell_type": "code",
   "execution_count": 11,
   "metadata": {},
   "outputs": [
    {
     "data": {
      "text/plain": [
       "2178×1 Matrix{Float64}:\n",
       "  0.0\n",
       "  0.0\n",
       "  0.0\n",
       "  0.0\n",
       "  0.0\n",
       "  0.0\n",
       "  0.0\n",
       "  0.0\n",
       "  0.0\n",
       "  0.0\n",
       "  ⋮\n",
       " -0.004817856749452492\n",
       " -0.12142453466347355\n",
       " -0.0002334375831396031\n",
       "  0.004813754326950902\n",
       " -0.12142263315898377\n",
       " -0.0002248970995028556\n",
       " -0.003301706987651072\n",
       " -0.03721265624137535\n",
       " -0.00015824431468476258"
      ]
     },
     "metadata": {},
     "output_type": "display_data"
    }
   ],
   "source": [
    "q = FEM.solveDisplacement(K, f)"
   ]
  },
  {
   "cell_type": "code",
   "execution_count": 12,
   "metadata": {},
   "outputs": [
    {
     "data": {
      "text/plain": [
       "([[6.13346617000086, 1.8002252987104959, 0.7606109331937333, 1.8002252987104959, -2.4553347864963713, -0.7944279770072997, 0.7606109331937333, -0.7944279770072997, -0.6506951631215079, 6.13346617000086  …  -0.6506951631215079, 6.13346617000086, 1.8002252987104959, 0.7606109331937333, 1.8002252987104959, -2.4553347864963713, -0.7944279770072997, 0.7606109331937333, -0.7944279770072997, -0.6506951631215079], [-5.796633891709464, -3.6419197155078193, -0.6611966893964681, -3.6419197155078193, 2.8521637525962933, 0.861410421587067, -0.6611966893964681, 0.861410421587067, 0.7647575016667563, -5.796633891709464  …  0.7647575016667563, -5.796633891709464, -3.6419197155078193, -0.6611966893964681, -3.6419197155078193, 2.8521637525962933, 0.861410421587067, -0.6611966893964681, 0.861410421587067, 0.7647575016667563], [7.065821415349479, -3.3364452646208647, 0.0572348540699948, -3.3364452646208647, -2.089274790583265, -0.8313091961376152, 0.0572348540699948, -0.8313091961376152, -0.27383164117605885, 7.065821415349479  …  -0.27383164117605885, 7.065821415349479, -3.3364452646208647, 0.0572348540699948, -3.3364452646208647, -2.089274790583265, -0.8313091961376152, 0.0572348540699948, -0.8313091961376152, -0.27383164117605885], [5.6676942626324, -3.2460227342439927, -0.3108400392430546, -3.2460227342439927, -2.5017982400387955, -0.7300062464187063, -0.3108400392430546, -0.7300062464187063, -0.6624169357229313, 5.6676942626324  …  -0.6624169357229313, 5.6676942626324, -3.2460227342439927, -0.3108400392430546, -3.2460227342439927, -2.5017982400387955, -0.7300062464187063, -0.3108400392430546, -0.7300062464187063, -0.6624169357229313], [2.2296432068031096, -0.4339992712005119, 0.21798927318144834, -0.4339992712005119, -0.3395659017938104, -0.2827230166832191, 0.21798927318144834, -0.2827230166832191, 0.030727111753343417, 2.2296432068031096  …  0.030727111753343417, 2.2296432068031096, -0.4339992712005119, 0.21798927318144834, -0.4339992712005119, -0.3395659017938104, -0.2827230166832191, 0.21798927318144834, -0.2827230166832191, 0.030727111753343417], [-8.971476830781398, 2.0491186439266422, 0.37158112550090394, 2.0491186439266422, 1.4898484259586287, 0.8619158878082834, 0.37158112550090394, 0.8619158878082834, -0.5960985654357907, -8.971476830781398  …  -0.5960985654357907, -8.971476830781398, 2.0491186439266422, 0.37158112550090394, 2.0491186439266422, 1.4898484259586287, 0.8619158878082834, 0.37158112550090394, 0.8619158878082834, -0.5960985654357907], [8.051506934454316, 1.6730313411465374, 0.7071858669009692, 1.6730313411465374, -1.4801642379098703, -0.7300062463947065, 0.7071858669009692, -0.7300062463947065, 0.3592170664784682, 8.051506934454316  …  0.3592170664784682, 8.051506934454316, 1.6730313411465374, 0.7071858669009692, 1.6730313411465374, -1.4801642379098703, -0.7300062463947065, 0.7071858669009692, -0.7300062463947065, 0.3592170664784682], [-2.4061399758902287, -0.7335067123094883, 0.035783202436561225, -0.7335067123094883, -0.20027025984803104, -0.02524731181752461, 0.035783202436561225, -0.02524731181752461, -0.5224475349846224, -2.4061399758902287  …  -0.5224475349846224, -2.4061399758902287, -0.7335067123094883, 0.035783202436561225, -0.7335067123094883, -0.20027025984803104, -0.02524731181752461, 0.035783202436561225, -0.02524731181752461, -0.5224475349846224], [1.1492562295062223, -1.304228262706328, 0.06079089187196833, -1.304228262706328, -0.8015176516409624, -0.2830478806233188, 0.06079089187196833, -0.2830478806233188, -0.43216048145189445, 1.1492562295062223  …  -0.43216048145189445, 1.1492562295062223, -1.304228262706328, 0.06079089187196833, -1.304228262706328, -0.8015176516409624, -0.2830478806233188, 0.06079089187196833, -0.2830478806233188, -0.43216048145189445], [0.009782394933548912, -1.0440653971624532, 0.00674310927056556, -1.0440653971624532, -0.035694620643000594, -0.037080573665467416, 0.00674310927056556, -0.037080573665467416, 0.006174175241287497, 0.009782394933548912  …  0.006174175241287497, 0.009782394933548912, -1.0440653971624532, 0.00674310927056556, -1.0440653971624532, -0.035694620643000594, -0.037080573665467416, 0.00674310927056556, -0.037080573665467416, 0.006174175241287497]  …  [-12.430505228856529, -2.8938264568607193, 1.4835273347806541, -2.8938264568607193, 2.7165788784796696, -1.2252433882538178, 1.4835273347806541, -1.2252433882538178, -0.2537925700287431, -12.430505228856529  …  -0.2537925700287431, -12.430505228856529, -2.8938264568607193, 1.4835273347806541, -2.8938264568607193, 2.7165788784796696, -1.2252433882538178, 1.4835273347806541, -1.2252433882538178, -0.2537925700287431], [-20.716419101206718, -0.713456711486347, -0.8096765068930588, -0.713456711486347, -1.4851713737185088, -0.7460458392849648, -0.8096765068930588, -0.7460458392849648, -2.3195025564015723, -20.716419101206718  …  -2.3195025564015723, -20.716419101206718, -0.713456711486347, -0.8096765068930588, -0.713456711486347, -1.4851713737185088, -0.7460458392849648, -0.8096765068930588, -0.7460458392849648, -2.3195025564015723], [30.498810989373716, -3.2762276390708944, 1.044345986684747, -3.2762276390708944, 1.6540329049220563, -3.999568607979092, 1.044345986684747, -3.999568607979092, 0.6815730181913944, 30.498810989373716  …  0.6815730181913944, 30.498810989373716, -3.2762276390708944, 1.044345986684747, -3.2762276390708944, 1.6540329049220563, -3.999568607979092, 1.044345986684747, -3.999568607979092, 0.6815730181913944], [12.40719464995451, 2.759695938778108, 3.359876942900798, 2.759695938778108, -3.208650451013769, -2.2306731515986127, 3.359876942900798, -2.2306731515986127, -4.381535499965914, 12.40719464995451  …  -4.381535499965914, 12.40719464995451, 2.759695938778108, 3.359876942900798, 2.759695938778108, -3.208650451013769, -2.2306731515986127, 3.359876942900798, -2.2306731515986127, -4.381535499965914], [12.097736984836018, 0.434647699934296, 1.4364638041970401, 0.434647699934296, -2.4911419126024414, -1.0912053517950582, 1.4364638041970401, -1.0912053517950582, 0.4081378051822657, 12.097736984836018  …  0.4081378051822657, 12.097736984836018, 0.434647699934296, 1.4364638041970401, 0.434647699934296, -2.4911419126024414, -1.0912053517950582, 1.4364638041970401, -1.0912053517950582, 0.4081378051822657], [20.141919740159793, -1.7493611660424602, -0.7394751923777995, -1.7493611660424602, 1.5915984867088477, -0.617683857530312, -0.7394751923777995, -0.617683857530312, 2.1643608249149837, 20.141919740159793  …  2.1643608249149837, 20.141919740159793, -1.7493611660424602, -0.7394751923777995, -1.7493611660424602, 1.5915984867088477, -0.617683857530312, -0.7394751923777995, -0.617683857530312, 2.1643608249149837], [-12.043955559509417, 0.2655088304078571, 1.4514216913434645, 0.2655088304078571, 2.662576520077393, 0.9850608671699328, 1.4514216913434645, 0.9850608671699328, -0.39014104210950107, -12.043955559509417  …  -0.39014104210950107, -12.043955559509417, 0.2655088304078571, 1.4514216913434645, 0.2655088304078571, 2.662576520077393, 0.9850608671699328, 1.4514216913434645, 0.9850608671699328, -0.39014104210950107], [-20.216371019900375, -1.9073574030124107, -0.7481748050195369, -1.9073574030124107, -1.3888249610178613, 0.5498850770117603, -0.7481748050195369, 0.5498850770117603, -2.083148858828332, -20.216371019900375  …  -2.083148858828332, -20.216371019900375, -1.9073574030124107, -0.7481748050195369, -1.9073574030124107, -1.3888249610178613, 0.5498850770117603, -0.7481748050195369, 0.5498850770117603, -2.083148858828332], [19.721102398075228, -2.8341744709498764, 0.4723088942744796, -2.8341744709498764, -0.7212706444828818, 1.1875545815791095, 0.4723088942744796, 1.1875545815791095, 0.8600552510060413, 19.721102398075228  …  0.8600552510060413, 19.721102398075228, -2.8341744709498764, 0.4723088942744796, -2.8341744709498764, -0.7212706444828818, 1.1875545815791095, 0.4723088942744796, 1.1875545815791095, 0.8600552510060413], [4.0336923366285244, -0.7224423214286918, -2.680481769457576, -0.7224423214286918, -3.0396545634411622, 0.07444057562383051, -2.680481769457576, 0.07444057562383051, -4.663047175560896, 4.0336923366285244  …  -4.663047175560896, 4.0336923366285244, -0.7224423214286918, -2.680481769457576, -0.7224423214286918, -3.0396545634411622, 0.07444057562383051, -2.680481769457576, 0.07444057562383051, -4.663047175560896]], [89, 90, 91, 92, 93, 94, 95, 96, 97, 98  …  2405, 2406, 2407, 2408, 2409, 2410, 2411, 2412, 2413, 2414])"
      ]
     },
     "metadata": {},
     "output_type": "display_data"
    }
   ],
   "source": [
    "S = FEM.solveStress(problem, q)"
   ]
  },
  {
   "cell_type": "code",
   "execution_count": 13,
   "metadata": {},
   "outputs": [],
   "source": [
    "gmsh.option.setNumber(\"View.IntervalsType\", 3)\n",
    "gmsh.option.setNumber(\"View.VectorType\", 5)\n",
    "gmsh.option.setString(\"View.Format\", \"%.6g\")"
   ]
  },
  {
   "cell_type": "code",
   "execution_count": 14,
   "metadata": {},
   "outputs": [
    {
     "name": "stdout",
     "output_type": "stream",
     "text": [
      "Info    : Running Plugin(Smooth)...\n",
      "Info    : Done running Plugin(Smooth)\n",
      "Info    : Running Plugin(Smooth)...\n",
      "Info    : Done running Plugin(Smooth)\n",
      "Info    : Running Plugin(Smooth)...\n",
      "Info    : Done running Plugin(Smooth)\n",
      "Info    : Running Plugin(Smooth)...\n",
      "Info    : Done running Plugin(Smooth)\n",
      "Info    : Running Plugin(Smooth)...\n",
      "Info    : Done running Plugin(Smooth)\n",
      "Info    : Running Plugin(Smooth)...\n",
      "Info    : Done running Plugin(Smooth)\n",
      "Info    : Running Plugin(Smooth)...\n",
      "Info    : Done running Plugin(Smooth)\n"
     ]
    },
    {
     "data": {
      "text/plain": [
       "11"
      ]
     },
     "metadata": {},
     "output_type": "display_data"
    }
   ],
   "source": [
    "u = FEM.showResultUvec(problem, q, name=\"uvec\", visible=false)\n",
    "ux = FEM.showResultUX(problem, q, name=\"ux\", visible=false)\n",
    "uy = FEM.showResultUY(problem, q, name=\"uy\", visible=false)\n",
    "uz = FEM.showResultUZ(problem, q, name=\"uz\", visible=false)\n",
    "s = FEM.showStressResults(problem, S, \"s\", name=\"σ\", visible=true, smooth=true)\n",
    "sx = FEM.showStressResults(problem, S, \"sx\", name=\"σx\", visible=false, smooth=true)\n",
    "sy = FEM.showStressResults(problem, S, \"sy\", name=\"σy\", visible=false, smooth=true)\n",
    "sz = FEM.showStressResults(problem, S, \"sz\", name=\"σz\", visible=false, smooth=true)\n",
    "sxy = FEM.showStressResults(problem, S, \"sxy\", name=\"τxy\", visible=false, smooth=true)\n",
    "syz = FEM.showStressResults(problem, S, \"syz\", name=\"τyz\", visible=false, smooth=true)\n",
    "szx = FEM.showStressResults(problem, S, \"szx\", name=\"τzx\", visible=false, smooth=true)"
   ]
  },
  {
   "cell_type": "code",
   "execution_count": 15,
   "metadata": {},
   "outputs": [],
   "source": [
    "#pp1 = gmsh.model.occ.addPoint(50, 0, 5)\n",
    "#pp2 = gmsh.model.occ.addPoint(50, 10, 5)\n",
    "#pp3 = gmsh.model.occ.addPoint(base / 8, height / 4, 0)\n",
    "\n",
    "#pl1 = gmsh.model.occ.addLine(pp1, pp2)\n",
    "#pl2 = gmsh.model.occ.addSpline([pp1, pp3, pp2])\n",
    "\n",
    "\n",
    "#gmsh.model.occ.synchronize()"
   ]
  },
  {
   "cell_type": "code",
   "execution_count": 16,
   "metadata": {},
   "outputs": [],
   "source": [
    "#FEM.plotOnPath(problem, pl1, sx, 100, name=\"σred\", visible=false);"
   ]
  },
  {
   "cell_type": "code",
   "execution_count": 17,
   "metadata": {},
   "outputs": [],
   "source": [
    "#gmsh.option.setNumber(\"PostProcessing.Binary\", 1)\n",
    "#gmsh.option.setNumber(\"PostProcessing.SaveMesh\", 1)\n",
    "\n",
    "#gmsh.write(\"rect.msh\")\n",
    "#gmsh.write(\"rect.opt\")\n",
    "#gmsh.view.write(4, \"rect.pos\")"
   ]
  },
  {
   "cell_type": "code",
   "execution_count": 18,
   "metadata": {},
   "outputs": [
    {
     "name": "stdout",
     "output_type": "stream",
     "text": [
      "-------------------------------------------------------\n",
      "Version       : 4.12.1-git-38a28aaaf\n",
      "License       : GNU General Public License\n",
      "Build OS      : Linux64-sdk\n",
      "Build date    : 20240111\n",
      "Build host    : gmsh.info\n",
      "Build options : 64Bit ALGLIB[contrib] ANN[contrib] Bamg Blas[petsc] Blossom Cgns DIntegration Dlopen DomHex Eigen[contrib] Fltk Gmm[contrib] Hxt Jpeg Kbipack Lapack[petsc] LinuxJoystick MathEx[contrib] Med Mesh Metis[contrib] Mmg Mpeg Netgen ONELAB ONELABMetamodel OpenCASCADE OpenCASCADE-CAF OpenGL OpenMP OptHom PETSc Parser Plugins Png Post QuadMeshingTools QuadTri Solver TetGen/BR Voro++[contrib] WinslowUntangler Zlib\n",
      "FLTK version  : 1.4.0\n",
      "PETSc version : 3.14.4 (real arithmtic)\n",
      "OCC version   : 7.7.2\n",
      "MED version   : 4.1.0\n",
      "Packaged by   : geuzaine\n",
      "Web site      : https://gmsh.info\n",
      "Issue tracker : https://gitlab.onelab.info/gmsh/gmsh/issues\n",
      "-------------------------------------------------------\n"
     ]
    }
   ],
   "source": [
    "gmsh.fltk.run()"
   ]
  },
  {
   "cell_type": "code",
   "execution_count": 19,
   "metadata": {
    "slideshow": {
     "slide_type": ""
    },
    "tags": []
   },
   "outputs": [],
   "source": [
    "gmsh.finalize()"
   ]
  }
 ],
 "metadata": {
  "kernelspec": {
   "display_name": "Julia 1.10.0",
   "language": "julia",
   "name": "julia-1.10"
  },
  "language_info": {
   "file_extension": ".jl",
   "mimetype": "application/julia",
   "name": "julia",
   "version": "1.10.0"
  },
  "varInspector": {
   "cols": {
    "lenName": 16,
    "lenType": 16,
    "lenVar": 40
   },
   "kernels_config": {
    "python": {
     "delete_cmd_postfix": "",
     "delete_cmd_prefix": "del ",
     "library": "var_list.py",
     "varRefreshCmd": "print(var_dic_list())"
    },
    "r": {
     "delete_cmd_postfix": ") ",
     "delete_cmd_prefix": "rm(",
     "library": "var_list.r",
     "varRefreshCmd": "cat(var_dic_list()) "
    }
   },
   "types_to_exclude": [
    "module",
    "function",
    "builtin_function_or_method",
    "instance",
    "_Feature"
   ],
   "window_display": false
  }
 },
 "nbformat": 4,
 "nbformat_minor": 4
}
