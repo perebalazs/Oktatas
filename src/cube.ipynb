{
 "cells": [
  {
   "cell_type": "code",
   "execution_count": 1,
   "metadata": {},
   "outputs": [],
   "source": [
    "using LinearAlgebra, SparseArrays\n",
    "import gmsh\n",
    "gmsh.initialize()\n",
    "\n",
    "include(\"FEM3D.jl\")\n",
    "using .FEM"
   ]
  },
  {
   "cell_type": "code",
   "execution_count": 2,
   "metadata": {},
   "outputs": [
    {
     "data": {
      "text/plain": [
       "Main.FEM.Problem(\"cube2\", \"Solid\", 200000.0, 0.3, 7.85e-9, 1.0)"
      ]
     },
     "metadata": {},
     "output_type": "display_data"
    }
   ],
   "source": [
    "# Adatok\n",
    "E = 2e5\n",
    "ν = 0.3\n",
    "height = 100\n",
    "base = 100\n",
    "depth = 100\n",
    "elemSize = 10\n",
    "\n",
    "approxOrder = 1\n",
    "internalNodes = true\n",
    "quadElements = false\n",
    "\n",
    "problem = FEM.Problem(\"cube2\")"
   ]
  },
  {
   "cell_type": "code",
   "execution_count": 3,
   "metadata": {},
   "outputs": [],
   "source": [
    "#gmsh.model.occ.synchronize()"
   ]
  },
  {
   "cell_type": "code",
   "execution_count": 4,
   "metadata": {},
   "outputs": [
    {
     "name": "stdout",
     "output_type": "stream",
     "text": [
      "Info    : Reading 'cube2.geo'...\n",
      "Info    : Meshing 1D...\n",
      "Info    : [  0%] Meshing curve 1 (Line)\n",
      "Info    : [ 10%] Meshing curve 2 (Line)\n",
      "Info    : [ 20%] Meshing curve 3 (Line)\n",
      "Info    : [ 30%] Meshing curve 4 (Line)\n",
      "Info    : [ 40%] Meshing curve 5 (Line)\n",
      "Info    : [ 50%] Meshing curve 6 (Line)\n",
      "Info    : [ 50%] Meshing curve 7 (Line)\n",
      "Info    : [ 60%] Meshing curve 8 (Line)\n",
      "Info    : [ 70%] Meshing curve 9 (Line)\n",
      "Info    : [ 80%] Meshing curve 10 (Line)\n",
      "Info    : [ 90%] Meshing curve 11 (Line)\n",
      "Info    : [100%] Meshing curve 12 (Line)\n",
      "Info    : Done meshing 1D (Wall 0.00159142s, CPU 0.001593s)\n",
      "Info    : Meshing 2D...\n",
      "Info    : [  0%] Meshing surface 1 (Plane, Frontal-Delaunay)\n",
      "Info    : [ 20%] Meshing surface 2 (Plane, Frontal-Delaunay)\n",
      "Info    : [ 40%] Meshing surface 3 (Plane, Frontal-Delaunay)\n",
      "Info    : [ 50%] Meshing surface 4 (Plane, Frontal-Delaunay)\n",
      "Info    : [ 70%] Meshing surface 5 (Plane, Frontal-Delaunay)\n",
      "Info    : [ 90%] Meshing surface 6 (Plane, Frontal-Delaunay)\n",
      "Info    : Done meshing 2D (Wall 0.00622387s, CPU 0.006165s)\n",
      "Info    : Meshing 3D...\n",
      "Info    : 3D Meshing 1 volume with 1 connected component\n",
      "Info    : Tetrahedrizing 86 nodes...\n",
      "Info    : Done tetrahedrizing 94 nodes (Wall 0.00150795s, CPU 0.001505s)\n",
      "Info    : Reconstructing mesh...\n",
      "Info    :  - Creating surface mesh\n",
      "Info    :  - Identifying boundary edges\n",
      "Info    :  - Recovering boundary\n",
      "Info    : Done reconstructing mesh (Wall 0.00340653s, CPU 0.003401s)\n",
      "Info    : Found volume 1\n",
      "Info    : It. 0 - 0 nodes created - worst tet radius 0.906164 (nodes removed 0 0)\n",
      "Info    : 3D refinement terminated (86 nodes total):\n",
      "Info    :  - 0 Delaunay cavities modified for star shapeness\n",
      "Info    :  - 0 nodes could not be inserted\n",
      "Info    :  - 201 tetrahedra created in 2.7062e-05 sec. (7427389 tets/s)\n",
      "Info    : 0 node relocations\n",
      "Info    : Done meshing 3D (Wall 0.00652535s, CPU 0.006435s)\n",
      "Info    : Optimizing mesh...\n",
      "Info    : Optimizing volume 1\n",
      "Info    : Optimization starts (volume = 10000) with worst = 0.343555 / average = 0.615044:\n",
      "Info    : 0.00 < quality < 0.10 :         0 elements\n",
      "Info    : 0.10 < quality < 0.20 :         0 elements\n",
      "Info    : 0.20 < quality < 0.30 :         0 elements\n",
      "Info    : 0.30 < quality < 0.40 :         8 elements\n",
      "Info    : 0.40 < quality < 0.50 :        33 elements\n",
      "Info    : 0.50 < quality < 0.60 :        70 elements\n",
      "Info    : 0.60 < quality < 0.70 :        19 elements\n",
      "Info    : 0.70 < quality < 0.80 :         7 elements\n",
      "Info    : 0.80 < quality < 0.90 :        56 elements\n",
      "Info    : 0.90 < quality < 1.00 :         0 elements\n",
      "Info    : No ill-shaped tets in the mesh :-)\n",
      "Info    : 0.00 < quality < 0.10 :         0 elements\n",
      "Info    : 0.10 < quality < 0.20 :         0 elements\n",
      "Info    : 0.20 < quality < 0.30 :         0 elements\n",
      "Info    : 0.30 < quality < 0.40 :         8 elements\n",
      "Info    : 0.40 < quality < 0.50 :        33 elements\n",
      "Info    : 0.50 < quality < 0.60 :        70 elements\n",
      "Info    : 0.60 < quality < 0.70 :        19 elements\n",
      "Info    : 0.70 < quality < 0.80 :         7 elements\n",
      "Info    : 0.80 < quality < 0.90 :        56 elements\n",
      "Info    : 0.90 < quality < 1.00 :         0 elements\n",
      "Info    : Done optimizing mesh (Wall 0.000469941s, CPU 0.000471s)\n",
      "Info    : Meshing order 4 (curvilinear on)...\n",
      "Info    : [  0%] Meshing curve 1 order 4\n",
      "Info    : [ 10%] Meshing curve 2 order 4\n",
      "Info    : [ 20%] Meshing curve 3 order 4\n",
      "Info    : [ 20%] Meshing curve 4 order 4\n",
      "Info    : [ 30%] Meshing curve 5 order 4\n",
      "Info    : [ 30%] Meshing curve 6 order 4\n",
      "Info    : [ 40%] Meshing curve 7 order 4\n",
      "Info    : [ 40%] Meshing curve 8 order 4\n",
      "Info    : [ 50%] Meshing curve 9 order 4\n",
      "Info    : [ 50%] Meshing curve 10 order 4\n",
      "Info    : [ 60%] Meshing curve 11 order 4\n",
      "Info    : [ 60%] Meshing curve 12 order 4\n",
      "Info    : [ 70%] Meshing surface 1 order 4\n",
      "Info    : [ 70%] Meshing surface 2 order 4\n",
      "Info    : [ 80%] Meshing surface 3 order 4\n",
      "Info    : [ 80%] Meshing surface 4 order 4\n",
      "Info    : [ 90%] Meshing surface 5 order 4\n",
      "Info    : [ 90%] Meshing surface 6 order 4\n",
      "Info    : [100%] Meshing volume 1 order 4\n",
      "Info    : Surface mesh: worst distortion = 1 (0 elements in ]0, 0.2]); worst gamma = 0.828427\n",
      "Info    : Volume mesh: worst distortion = 1 (0 elements in ]0, 0.2])\n",
      "Info    : Done meshing order 4 (Wall 0.0100286s, CPU 0.009877s)\n",
      "Info    : 2855 nodes 425 elements\n",
      "Info    : Writing 'cube2.msh'...\n",
      "Info    : Done writing 'cube2.msh'\n",
      "Info    : Done reading 'cube2.geo'\n"
     ]
    }
   ],
   "source": [
    "gmsh.open(\"cube2.geo\")"
   ]
  },
  {
   "cell_type": "code",
   "execution_count": 5,
   "metadata": {},
   "outputs": [
    {
     "name": "stdout",
     "output_type": "stream",
     "text": [
      "-------------------------------------------------------\n",
      "Version       : 4.12.1-git-38a28aaaf\n",
      "License       : GNU General Public License\n",
      "Build OS      : Linux64-sdk\n",
      "Build date    : 20240111\n",
      "Build host    : gmsh.info\n",
      "Build options : 64Bit ALGLIB[contrib] ANN[contrib] Bamg Blas[petsc] Blossom Cgns DIntegration Dlopen DomHex Eigen[contrib] Fltk Gmm[contrib] Hxt Jpeg Kbipack Lapack[petsc] LinuxJoystick MathEx[contrib] Med Mesh Metis[contrib] Mmg Mpeg Netgen ONELAB ONELABMetamodel OpenCASCADE OpenCASCADE-CAF OpenGL OpenMP OptHom PETSc Parser Plugins Png Post QuadMeshingTools QuadTri Solver TetGen/BR Voro++[contrib] WinslowUntangler Zlib\n",
      "FLTK version  : 1.4.0\n",
      "PETSc version : 3.14.4 (real arithmtic)\n",
      "OCC version   : 7.7.2\n",
      "MED version   : 4.1.0\n",
      "Packaged by   : geuzaine\n",
      "Web site      : https://gmsh.info\n",
      "Issue tracker : https://gitlab.onelab.info/gmsh/gmsh/issues\n",
      "-------------------------------------------------------\n"
     ]
    }
   ],
   "source": [
    "gmsh.fltk.run()"
   ]
  },
  {
   "cell_type": "code",
   "execution_count": 6,
   "metadata": {},
   "outputs": [],
   "source": [
    "# Néhány láthatósági beállítás 0:kikapcs. 1:bekapcs.\n",
    "gmsh.option.setNumber(\"Geometry.CurveLabels\", 0)\n",
    "gmsh.option.setNumber(\"Geometry.Points\", 0)\n",
    "gmsh.option.setNumber(\"Geometry.Curves\", 0)\n",
    "gmsh.option.setNumber(\"Mesh.Points\", 0)\n",
    "gmsh.option.setNumber(\"Mesh.Lines\", 0)\n",
    "gmsh.option.setNumber(\"Mesh.SurfaceEdges\", 0)\n",
    "gmsh.option.setNumber(\"Mesh.NodeLabels\", 0)\n",
    "gmsh.option.setNumber(\"Mesh.LineLabels\", 0)\n",
    "gmsh.option.setNumber(\"Mesh.SurfaceLabels\", 0)"
   ]
  },
  {
   "cell_type": "code",
   "execution_count": 7,
   "metadata": {},
   "outputs": [
    {
     "data": {
      "text/plain": [
       "Main.FEM.Problem(\"cube2\", \"Solid\", 200000.0, 0.3, 7.85e-9, 1.0)"
      ]
     },
     "metadata": {},
     "output_type": "display_data"
    }
   ],
   "source": [
    "problem"
   ]
  },
  {
   "cell_type": "code",
   "execution_count": 8,
   "metadata": {},
   "outputs": [
    {
     "data": {
      "text/plain": [
       "8565×8565 SparseMatrixCSC{Float64, Int64} with 1598625 stored entries:\n",
       "⎡⡿⣯⣭⣽⣧⣤⣤⡿⠡⡤⠄⣿⣤⣤⡄⣿⣤⡤⠤⡤⣤⣤⣤⣤⣤⣤⣤⣤⣤⣭⣭⣅⣼⣤⣤⣼⣭⡿⢿⣿⎤\n",
       "⎢⣇⣿⣿⣿⣹⣿⣏⣿⣿⣾⠷⣟⣟⣞⣿⣯⣿⣿⣽⣷⣿⣿⣿⣿⣿⣾⣿⣿⣿⣯⣶⣯⣝⣛⣯⣿⣿⣇⣈⣿⎥\n",
       "⎢⠉⣿⣷⣾⠻⣦⡙⡏⠀⠄⠀⡟⠳⣄⠁⡿⣧⡄⠂⣄⣤⣤⢀⣶⣴⣤⣤⠰⠷⠉⠁⠐⠛⠛⠛⠃⠙⡍⠱⠏⎥\n",
       "⎢⣤⡿⣯⣽⡷⠬⠿⣧⣤⠤⢥⣧⠤⠼⡦⣷⠦⠿⡽⠭⠥⠼⠿⠥⠭⠥⠭⠿⠬⣿⣭⣷⢦⣶⣶⣮⡷⣧⣤⣾⎥\n",
       "⎢⠁⡦⣻⣿⠀⠄⠀⡟⠻⣦⣹⡏⠻⣆⣹⡏⢵⣄⢷⣀⡶⣤⣀⡾⣰⣶⣦⣘⢶⡁⠉⠛⠋⠉⠛⠋⠛⡇⠀⠏⎥\n",
       "⎢⣤⣥⣽⢧⣤⠤⠥⣷⡷⠾⠿⣧⡤⢬⣽⡧⠒⠯⠺⠭⠦⠾⠭⠶⠱⠷⠮⠭⠌⣧⡿⠷⢦⣤⣴⣿⣿⣧⡤⣮⎥\n",
       "⎢⠀⣿⣻⢽⠙⢦⣀⡇⠻⢦⡀⣏⠻⣦⣻⡆⠂⠀⢀⣤⡶⠶⣠⡟⣸⡴⢶⣜⠳⡀⣀⡀⠙⠉⠋⠁⣋⡆⠈⢃⎥\n",
       "⎢⣤⣭⡿⣿⣥⡤⢬⣯⡷⠾⠷⡿⠻⠾⡿⣯⡤⢤⣤⠴⠦⠶⠿⢴⠴⠤⠾⢷⡬⣧⣷⣭⣿⣿⢯⣿⣿⣧⡤⣿⎥\n",
       "⎢⠀⡿⣿⣿⠉⠿⣬⡇⠑⢷⡼⡄⠈⠀⠀⣏⠻⣦⣻⣤⠻⢾⣤⠟⡿⡟⢷⣬⢛⡀⣀⡉⠁⠁⠈⢉⡈⡇⠈⢃⎥\n",
       "⎢⠀⡧⢷⣿⠈⢤⡗⡏⠙⢳⡞⡆⠀⣴⢀⡟⠛⣾⢻⣶⡆⠶⣶⡟⣾⡖⡆⣚⠉⠛⠒⠉⠁⠀⠉⠙⠉⡇⠀⠓⎥\n",
       "⎢⠀⣿⣿⣿⠀⣿⣁⡇⠘⣯⣨⡇⢸⡏⢨⡇⣻⣆⢨⡍⢻⣶⣈⢔⣯⢽⣷⡀⢘⠀⠀⠀⠀⠀⠀⠀⠀⡇⠀⠀⎥\n",
       "⎢⠀⣿⣿⣿⢠⣴⠟⡇⣠⡼⢣⡇⣤⠾⢛⣇⣤⠟⣼⠿⢂⢜⠻⣦⣳⢇⡾⢿⣌⠀⠀⠀⠀⠀⡀⡀⣀⠃⢀⡄⎥\n",
       "⎢⠀⣿⣻⣿⠐⣿⠇⡇⢰⣾⢵⡆⢒⡾⠐⡇⣿⠯⢺⠿⣏⣟⠽⢞⡿⣯⣷⠽⢶⠀⠀⠀⠀⠀⠀⠀⠀⡄⠀⠂⎥\n",
       "⎢⠀⣿⣿⣿⢀⡛⣧⡇⣈⢻⡎⡇⣘⢷⢾⣇⡙⣷⣨⢩⠙⠻⣾⣏⣝⡟⠻⣦⡸⠆⠀⠀⡀⠀⣀⡀⣀⡇⢀⡀⎥\n",
       "⎢⡄⣿⡿⣿⡝⠃⣦⣧⠜⠳⠦⣥⠙⠢⠦⣯⠛⠰⣧⠀⠒⠐⠂⠙⠘⠓⠲⠎⠻⣦⣶⡆⠁⠀⠉⠵⣶⣦⡜⣧⎥\n",
       "⎢⠇⢿⡼⣿⢁⠀⢧⣿⣧⠀⢿⡏⠀⠸⡝⣿⡄⠸⡜⠀⠀⠀⠀⠀⠀⠀⠀⠀⠸⠿⠿⣧⡄⣤⣤⢿⡭⠍⠁⠿⎥\n",
       "⎢⠒⣿⣷⢹⣿⠀⢨⣷⡏⠀⠈⣷⡗⠀⣿⣿⠅⠀⠁⠀⠀⠀⠀⠀⠀⠀⠀⠈⠁⠀⠀⣭⣿⣿⣿⠿⣾⠀⠒⡗⎥\n",
       "⎢⣀⣿⣯⣿⠿⠀⡸⣿⡿⠀⣴⣿⠏⠀⣯⣷⡆⢀⣇⠀⠀⠀⠀⠨⠀⠀⠀⠸⢇⡄⣤⣟⣿⡟⣿⣿⣿⡆⣀⣧⎥\n",
       "⎢⣧⡿⠿⢿⡗⠤⠽⣯⠿⠤⠿⣿⠫⠼⠿⣿⠦⠬⠧⠤⠤⠤⠤⠘⠀⠤⠤⠼⠸⣿⡇⠏⠚⠛⠻⠿⠿⣧⡄⣿⎥\n",
       "⎣⣿⣷⣦⣼⡵⠆⣠⣿⡤⠄⡠⣯⠦⢀⣤⣯⠦⢀⢤⠀⠀⠀⠀⠴⠠⠀⠀⠰⠶⣭⣥⡄⢼⠤⠤⣼⣤⣭⣿⣿⎦"
      ]
     },
     "metadata": {},
     "output_type": "display_data"
    }
   ],
   "source": [
    "K = FEM.stiffnessMatrixSolid(problem)"
   ]
  },
  {
   "attachments": {
    "image.png": {
     "image/png": "[encoded data removed]"
    }
   },
   "cell_type": "markdown",
   "metadata": {},
   "source": [
    "![image.png](attachment:image.png)"
   ]
  },
  {
   "cell_type": "code",
   "execution_count": 9,
   "metadata": {},
   "outputs": [
    {
     "data": {
      "text/plain": [
       "(\"load\", 0, -1, 0)"
      ]
     },
     "metadata": {},
     "output_type": "display_data"
    }
   ],
   "source": [
    "supp = FEM.displacementConstraint(\"supp\", ux=0, uy=0, uz=0)\n",
    "load = FEM.traction(\"load\", fy=-1)"
   ]
  },
  {
   "cell_type": "code",
   "execution_count": 10,
   "metadata": {},
   "outputs": [
    {
     "data": {
      "text/plain": [
       "(sparse([1, 2, 3, 4, 5, 6, 7, 8, 9, 10  …  8484, 8485, 8486, 8487, 8488, 8489, 8490, 8563, 8564, 8565], [1, 2, 3, 4, 5, 6, 7, 8, 9, 10  …  8565, 8565, 8565, 8565, 8565, 8565, 8565, 8565, 8565, 8565], [1.0, 1.0, 1.0, 1.0, 1.0, 1.0, 1.0, 1.0, 1.0, 1.0  …  -338624.33862388635, -43413.37674745366, -43413.37674744288, 8682.675347414526, 477547.14421472774, -43413.376746922404, -338624.3386240524, 2.3514280087510997e-6, 2.3600248511002064e-6, 3.056301722974964e6], 8565, 8565), [0.0; 0.0; … ; 0.0; 0.0;;])"
      ]
     },
     "metadata": {},
     "output_type": "display_data"
    }
   ],
   "source": [
    "K, f = FEM.applyBoundaryConditions!(problem, K, [supp], [load])"
   ]
  },
  {
   "cell_type": "code",
   "execution_count": 11,
   "metadata": {},
   "outputs": [],
   "source": [
    "#det(K)"
   ]
  },
  {
   "cell_type": "code",
   "execution_count": 12,
   "metadata": {},
   "outputs": [
    {
     "data": {
      "text/plain": [
       "8565×1 Matrix{Float64}:\n",
       "  0.0\n",
       "  0.0\n",
       "  0.0\n",
       "  0.0\n",
       "  0.0\n",
       "  0.0\n",
       "  0.0\n",
       "  0.0\n",
       "  0.0\n",
       "  0.0\n",
       "  ⋮\n",
       "  0.00031955953722380686\n",
       " -0.0001987033246346444\n",
       " -7.451871836604842e-5\n",
       " -0.0003195599102803633\n",
       " -0.00019870222872434663\n",
       "  7.452370675097039e-5\n",
       " -0.007451241384969514\n",
       " -0.1925380736431441\n",
       "  2.6564843094083606e-6"
      ]
     },
     "metadata": {},
     "output_type": "display_data"
    }
   ],
   "source": [
    "q = FEM.solveDisplacement(K, f)"
   ]
  },
  {
   "cell_type": "code",
   "execution_count": 13,
   "metadata": {},
   "outputs": [
    {
     "data": {
      "text/plain": [
       "([[-18.04350708516264, -0.08374368987852653, -0.06032755408748942, -0.08374368987852653, -0.01640577414333233, -0.0027248658739471112, -0.06032755408748942, -0.0027248658739471112, -0.004072643454974045, 0.01342974896505463  …  0.0009801877180463103, -4.307115634684278, -1.3764076492255883, -0.008409571732639887, -1.3764076492255883, 0.002045009108579965, 9.251893528062301e-8, -0.008409571732639887, 9.251893528062301e-8, 0.0009166914448579533], [-0.035857498116834884, -1.7056087086723166, -0.007026432964055517, -1.7056087086723166, -0.004970277015097094, -0.0036494056049206016, -0.007026432964055517, -0.0036494056049206016, -0.007578895875502682, 23.901826356912284  …  0.0010106091274904275, -0.00683286471702198, -1.4138170680529616, 0.0003725651459933216, -1.4138170680529616, -0.002260325781893655, -0.0004923527953175859, 0.0003725651459933216, -0.0004923527953175859, -0.002210798595885414], [24.050557900987055, -0.05655656638495638, -0.07989554454116714, -0.05655656638495638, 0.007828973778662984, 0.004796230238044909, -0.07989554454116714, 0.004796230238044909, 0.02074554005405993, 21.02377277748665  …  -0.0033083375655282854, 10.877008132176751, -1.0507494794915921, -0.015757201125230973, -1.0507494794915921, 0.00025089076347306616, -0.00015483177815490802, -0.015757201125230973, -0.00015483177815490802, 0.0002583684027024358], [18.06812735031441, -0.08503111697570018, -0.08735484159718432, -0.08503111697570018, 0.011364696218100434, -0.002453273693518462, -0.08735484159718432, -0.002453273693518462, -0.003009859783311253, 14.991239481246616  …  0.001076551774678998, 4.313920741904831, -1.309413866579181, 0.0013622451036988481, -1.309413866579181, -0.000910203482189953, 0.00038836888232606545, 0.0013622451036988481, 0.00038836888232606545, -0.0009021751672277922], [-0.04183671342251824, -1.7248968130133504, 0.0036441263793036923, -1.7248968130133504, 0.006100344214208436, 0.0003024109804281928, 0.0036441263793036923, 0.0003024109804281928, -0.0057865755528288074, -0.002459992239387484  …  0.001645054236453447, 16.87268323350448, -1.050563017448404, -0.015053236169567795, -1.050563017448404, 0.0009710735809944637, -0.0003547603212810051, -0.015053236169567795, -0.0003547603212810051, 0.0006022533897342974], [-0.004119986189081207, -1.7211774852957864, -0.002882916560317444, -1.7211774852957864, 0.001877835449069355, -0.0016800449632930856, -0.002882916560317444, -0.0016800449632930856, -0.0043193603261014605, 0.003991024520118037  …  0.0005988108216612442, -0.003251636809586573, -1.4136116632190614, 0.001046269857673114, -1.4136116632190614, -0.0018820503730712108, -0.0007103228204799066, 0.001046269857673114, -0.0007103228204799066, -0.001265851245246513], [32.976385847804885, -0.0017762809977833812, -0.001617004315781572, -0.0017762809977833812, -0.009503048449602147, -0.001763126467347882, -0.001617004315781572, -0.001763126467347882, -0.0027696467555919924, 0.0007733410519176139  …  0.007115897010842254, -0.01055899561166885, -1.4165395697812935, 0.0008188084994301095, -1.4165395697812935, -0.0023148934119473297, 0.0003119866971488776, 0.0008188084994301095, 0.0003119866971488776, -0.002333963761957902], [-0.036027303189726675, -1.7146104733954808, 0.007525087561265428, -1.7146104733954808, -0.00454716734534354, -0.003190943165962852, 0.007525087561265428, -0.003190943165962852, -0.0072380059508568954, -0.0008866528909118308  …  0.0010651527879801392, -16.123139176814373, -1.0500682764272828, 0.016351254334169438, -1.0500682764272828, 0.0010820703274356802, -7.555783302528598e-5, 0.016351254334169438, -7.555783302528598e-5, 0.0007830665235930567], [27.04094076462307, 0.019446503536915707, 0.006196097234999285, 0.019446503536915707, 0.019544049009020625, -0.00259037181661248, 0.006196097234999285, -0.00259037181661248, 0.004508209170380972, -27.09014814170371  …  0.006683606004152409, 6.560413506310677, -1.3084131185117, -0.0020544368465323804, -1.3084131185117, -0.0014995962178643296, 0.001014339227952498, -0.0020544368465323804, 0.001014339227952498, -0.0011425223875263235], [-26.999152639233138, 0.00608326103079907, 0.00580528246946083, 0.00608326103079907, 0.002277733700084994, -0.000662160196325616, 0.00580528246946083, -0.000662160196325616, 0.006723182124099836, 26.967009451654807  …  0.0043621725409175305, 6.564151218805716, -1.3762034583575815, -0.00793153827500537, -1.3762034583575815, 0.0018537580085609129, -0.0001329491585037028, -0.00793153827500537, -0.0001329491585037028, 0.001632872124212259]  …  [8.987437329196759, 0.007643580067731926, 0.00818326216840317, 0.007643580067731926, -0.006089965061711222, 0.001985588387811767, 0.00818326216840317, 0.001985588387811767, -0.005396873220270049, 11.991122760868244  …  0.0013985082188630038, 6.751372942041107, -0.6947477712362926, -0.05664842926553977, -0.6947477712362926, 7.541584455239558e-5, -0.00026551759688481057, -0.05664842926553977, -0.00026551759688481057, -4.22442295942016e-5], [-12.002203518355136, -0.060873314796991644, -0.05004074969876254, -0.060873314796991644, -0.0021937807734140335, 0.004427737153138992, -0.05004074969876254, 0.004427737153138992, -0.010981165315554264, -5.998129098448063  …  -0.0003556928672465709, -6.750524263006006, -0.6949525191845497, -0.056454253729667066, -0.6949525191845497, 0.0007023260840210988, 0.0007339531183679199, -0.056454253729667066, 0.0007339531183679199, 0.0009045432601297865], [0.25665950671749843, -0.41972577768680425, 0.03472394116247996, -0.41972577768680425, -0.304336843606892, -0.07134237255986936, 0.03472394116247996, -0.07134237255986936, 0.031078159183499876, -0.014730853820370239  …  -0.02182846178883996, 0.5694341059660457, -1.1057448322526753, 0.030595914747145594, -1.1057448322526753, -0.00978926095480151, 0.02555779275112897, 0.030595914747145594, 0.02555779275112897, -0.031307007621881364], [-3.1150443746724474, -0.06817965065208272, -0.04378806775493942, -0.06817965065208272, -0.061581281268974, -0.04508011944788077, -0.04378806775493942, -0.04508011944788077, -0.019392474913572988, 0.015203196122111469  …  0.04731263698300994, -0.5698046596035692, -1.1061331614745522, 0.03111424802957044, -1.1061331614745522, 0.009926129967533254, -0.025467481326540392, 0.03111424802957044, -0.025467481326540392, 0.030735255648817697], [3.1176289023605404, -0.06372863922401871, 0.05387231730161423, -0.06372863922401871, 0.06479363021350482, -0.044681217788167055, 0.05387231730161423, -0.044681217788167055, 0.027020148809331124, 0.256931934960533  …  -0.04912059874479108, 0.5696863937138738, -1.1056309603381067, -0.03065478341190367, -1.1056309603381067, -0.009446782920727842, -0.02549388195718808, -0.03065478341190367, -0.02549388195718808, -0.03113921324570694], [1.6547875025211063, -0.7619744315458984, 0.5335818647869807, -0.7619744315458984, 0.6147030293377398, -0.16828469901125645, 0.5335818647869807, -0.16828469901125645, 0.8059085885001886, 64.64513590118149  …  6.848761540580925, 30.75015774732286, -2.0902422605051143, 1.3261379768833468, -2.0902422605051143, 1.037890731898786, 0.4013093368440466, 1.3261379768833468, 0.4013093368440466, 2.694642798116363], [-1.7602008236759834, -0.7695607762629767, -0.47355724274206995, -0.7695607762629767, -0.7697766659624764, -0.16992276931163786, -0.47355724274206995, -0.16992276931163786, -0.7066023663822163, 0.3591885462620091  …  -8.549322233608876, -30.753333663746858, -2.0932510227803878, -1.3261577159131548, -2.0932510227803878, -1.0313771321929135, 0.39930224189451363, -1.3261577159131548, 0.39930224189451363, -2.687562939281543], [56.99713068419436, -0.544249322247829, -0.5903828483573864, -0.544249322247829, -1.439656818579003, -0.7959127205184755, -0.5903828483573864, -0.7959127205184755, 0.9308489124340422, 64.6563196223348  …  3.093546302057476, 30.74831603665994, -2.0909241161850125, -1.3247691142963796, -2.0909241161850125, 1.0326211528581837, -0.4002175981465596, -1.3247691142963796, -0.4002175981465596, 2.689606180490162], [-64.65625710967437, -9.16534461359319, 15.067203874108241, -9.16534461359319, -12.090288881921373, 7.704632032604984, 15.067203874108241, 7.704632032604984, -14.712155376695296, 0.3586253048774647  …  0.29308454445833254, -30.74839818873459, -2.0912885650055615, 1.325049697854758, -2.0912885650055615, -1.0351454807450153, -0.4004001447476191, 1.325049697854758, -0.4004001447476191, -2.6904248024677075], [-3.131484432409449, -0.0630804252159078, 0.05471750716995135, -0.0630804252159078, -0.07022837312271357, 0.03758490587301774, 0.05471750716995135, 0.03758490587301774, -0.0265641725904604, -0.2564438338946132  …  0.04983416337499798, -0.5691979859413047, -1.1059069993710842, -0.031208544127687043, -1.1059069993710842, 0.008911847919795435, 0.02537592768592249, -0.031208544127687043, 0.02537592768592249, 0.03069047456365656]], [225, 226, 227, 228, 229, 230, 231, 232, 233, 234  …  416, 417, 418, 419, 420, 421, 422, 423, 424, 425])"
      ]
     },
     "metadata": {},
     "output_type": "display_data"
    }
   ],
   "source": [
    "S = FEM.solveStressPlaneStress(problem, q)"
   ]
  },
  {
   "cell_type": "code",
   "execution_count": 14,
   "metadata": {},
   "outputs": [],
   "source": [
    "gmsh.option.setNumber(\"View.IntervalsType\", 3)\n",
    "gmsh.option.setNumber(\"View.VectorType\", 5)\n",
    "gmsh.option.setString(\"View.Format\", \"%.6g\")"
   ]
  },
  {
   "cell_type": "code",
   "execution_count": 15,
   "metadata": {},
   "outputs": [
    {
     "name": "stdout",
     "output_type": "stream",
     "text": [
      "Info    : Running Plugin(Smooth)...\n",
      "Info    : Done running Plugin(Smooth)\n",
      "Info    : Running Plugin(Smooth)...\n",
      "Info    : Done running Plugin(Smooth)\n"
     ]
    },
    {
     "data": {
      "text/plain": [
       "7"
      ]
     },
     "metadata": {},
     "output_type": "display_data"
    }
   ],
   "source": [
    "u = FEM.showResultUvec(problem, q, name=\"uvec\", visible=false)\n",
    "ux = FEM.showResultUX(problem, q, name=\"ux\", visible=false)\n",
    "uy = FEM.showResultUY(problem, q, name=\"uy\", visible=false)\n",
    "s = FEM.showResultS(problem, S, name=\"σ\", visible=false, smooth=false)\n",
    "sx = FEM.showResultSX(problem, S, name=\"σx\", visible=true, smooth=true)\n",
    "sy = FEM.showResultSY(problem, S, name=\"σy\", visible=false, smooth=true)\n",
    "sxy = FEM.showResultSXY(problem, S, name=\"τxy\", visible=false, smooth=false)"
   ]
  },
  {
   "cell_type": "code",
   "execution_count": 16,
   "metadata": {},
   "outputs": [],
   "source": [
    "pp1 = gmsh.model.occ.addPoint(50, 0, 5)\n",
    "pp2 = gmsh.model.occ.addPoint(50, 10, 5)\n",
    "pp3 = gmsh.model.occ.addPoint(base / 8, height / 4, 0)\n",
    "\n",
    "pl1 = gmsh.model.occ.addLine(pp1, pp2)\n",
    "pl2 = gmsh.model.occ.addSpline([pp1, pp3, pp2])\n",
    "\n",
    "\n",
    "gmsh.model.occ.synchronize()"
   ]
  },
  {
   "cell_type": "code",
   "execution_count": 17,
   "metadata": {},
   "outputs": [],
   "source": [
    "FEM.plotOnPath(problem, pl1, sx, 100, name=\"σred\", visible=false);"
   ]
  },
  {
   "cell_type": "code",
   "execution_count": 18,
   "metadata": {},
   "outputs": [],
   "source": [
    "#gmsh.option.setNumber(\"PostProcessing.Binary\", 1)\n",
    "#gmsh.option.setNumber(\"PostProcessing.SaveMesh\", 1)\n",
    "\n",
    "#gmsh.write(\"rect.msh\")\n",
    "#gmsh.write(\"rect.opt\")\n",
    "#gmsh.view.write(4, \"rect.pos\")"
   ]
  },
  {
   "cell_type": "code",
   "execution_count": 19,
   "metadata": {},
   "outputs": [
    {
     "name": "stdout",
     "output_type": "stream",
     "text": [
      "-------------------------------------------------------\n",
      "Version       : 4.12.1-git-38a28aaaf\n",
      "License       : GNU General Public License\n",
      "Build OS      : Linux64-sdk\n",
      "Build date    : 20240111\n",
      "Build host    : gmsh.info\n",
      "Build options : 64Bit ALGLIB[contrib] ANN[contrib] Bamg Blas[petsc] Blossom Cgns DIntegration Dlopen DomHex Eigen[contrib] Fltk Gmm[contrib] Hxt Jpeg Kbipack Lapack[petsc] LinuxJoystick MathEx[contrib] Med Mesh Metis[contrib] Mmg Mpeg Netgen ONELAB ONELABMetamodel OpenCASCADE OpenCASCADE-CAF OpenGL OpenMP OptHom PETSc Parser Plugins Png Post QuadMeshingTools QuadTri Solver TetGen/BR Voro++[contrib] WinslowUntangler Zlib\n",
      "FLTK version  : 1.4.0\n",
      "PETSc version : 3.14.4 (real arithmtic)\n",
      "OCC version   : 7.7.2\n",
      "MED version   : 4.1.0\n",
      "Packaged by   : geuzaine\n",
      "Web site      : https://gmsh.info\n",
      "Issue tracker : https://gitlab.onelab.info/gmsh/gmsh/issues\n",
      "-------------------------------------------------------\n"
     ]
    }
   ],
   "source": [
    "gmsh.fltk.run()"
   ]
  },
  {
   "cell_type": "code",
   "execution_count": 20,
   "metadata": {
    "slideshow": {
     "slide_type": ""
    },
    "tags": []
   },
   "outputs": [],
   "source": [
    "gmsh.finalize()"
   ]
  }
 ],
 "metadata": {
  "kernelspec": {
   "display_name": "Julia 1.10.0",
   "language": "julia",
   "name": "julia-1.10"
  },
  "language_info": {
   "file_extension": ".jl",
   "mimetype": "application/julia",
   "name": "julia",
   "version": "1.10.0"
  },
  "varInspector": {
   "cols": {
    "lenName": 16,
    "lenType": 16,
    "lenVar": 40
   },
   "kernels_config": {
    "python": {
     "delete_cmd_postfix": "",
     "delete_cmd_prefix": "del ",
     "library": "var_list.py",
     "varRefreshCmd": "print(var_dic_list())"
    },
    "r": {
     "delete_cmd_postfix": ") ",
     "delete_cmd_prefix": "rm(",
     "library": "var_list.r",
     "varRefreshCmd": "cat(var_dic_list()) "
    }
   },
   "types_to_exclude": [
    "module",
    "function",
    "builtin_function_or_method",
    "instance",
    "_Feature"
   ],
   "window_display": false
  }
 },
 "nbformat": 4,
 "nbformat_minor": 4
}
