{
 "cells": [
  {
   "cell_type": "code",
   "execution_count": 29,
   "metadata": {
    "slideshow": {
     "slide_type": ""
    },
    "tags": []
   },
   "outputs": [],
   "source": [
    "import gmsh\n",
    "gmsh.initialize()\n",
    "using LinearAlgebra, SparseArrays"
   ]
  },
  {
   "cell_type": "code",
   "execution_count": 30,
   "metadata": {},
   "outputs": [],
   "source": [
    "struct PlaneStressProblem\n",
    "    name::String\n",
    "    E::Float64\n",
    "    ν::Float64\n",
    "    b::Float64\n",
    "end"
   ]
  },
  {
   "cell_type": "code",
   "execution_count": 31,
   "metadata": {
    "tags": [
     "hide-input"
    ]
   },
   "outputs": [
    {
     "data": {
      "text/plain": [
       "traction (generic function with 1 method)"
      ]
     },
     "execution_count": 31,
     "metadata": {},
     "output_type": "execute_result"
    }
   ],
   "source": [
    "function displacementConstraint(groupOfLines; ux=1im, uy=1im)\n",
    "    phg = gmsh.model.addPhysicalGroup(1, groupOfLines)\n",
    "    gmsh.model.setPhysicalName(1, phg, \"support\")\n",
    "    bc0 = phg, ux, uy\n",
    "    return bc0\n",
    "end\n",
    "\n",
    "function traction(groupOfLines; fx=0, fy=0, thickness=1)\n",
    "    phg = gmsh.model.addPhysicalGroup(1, groupOfLines)\n",
    "    gmsh.model.setPhysicalName(1, phg, \"load\")\n",
    "    ld0 = phg, fx, fy, thickness\n",
    "    return ld0\n",
    "end"
   ]
  },
  {
   "cell_type": "code",
   "execution_count": 32,
   "metadata": {},
   "outputs": [
    {
     "data": {
      "text/plain": [
       "generateMesh (generic function with 1 method)"
      ]
     },
     "execution_count": 32,
     "metadata": {},
     "output_type": "execute_result"
    }
   ],
   "source": [
    "# Végeselemes felosztás elvégzése\n",
    "function generateMesh(problem, surf, elemSize; approxOrder=1, algorithm=6, quadrangle=0, internalNodes=0)\n",
    "    gmsh.model.setCurrent(problem.name)\n",
    "    # lekérjük az összes csomópontot\n",
    "    all = gmsh.model.getEntities(0)\n",
    "    # megadjuk, hogy a csomóponthoz rendelt eleméret mekkora legyen\n",
    "    gmsh.model.mesh.setSize(all, elemSize)\n",
    "    # kiválasztjuk a 8-as számú hálózó algoritmust a 2D-s sf1 felülethez\n",
    "    gmsh.model.mesh.setAlgorithm(2, surf, algorithm)\n",
    "    # legeneráljuk a hálót a felület kontúrjához (1D-s)\n",
    "    gmsh.model.mesh.generate(1)\n",
    "    # legeneráljuk a hálót a felülethez (2D-s)\n",
    "    gmsh.model.mesh.generate(2)\n",
    "    # a legenerált háromszög elemeket négyszög elemekké alakítjuk\n",
    "    if quadrangle\n",
    "        gmsh.model.mesh.recombine()\n",
    "    end\n",
    "    # másodfokú elemekhez:\n",
    "    # belső csomópontok használata\n",
    "    if internalNodes\n",
    "        gmsh.option.setNumber(\"Mesh.SecondOrderIncomplete\", 0) # 0:belső csomópontokkal 1:csak éleken lévő csomópontokkal\n",
    "    else\n",
    "        gmsh.option.setNumber(\"Mesh.SecondOrderIncomplete\", 1) # 0:belső csomópontokkal 1:csak éleken lévő csomópontokkal\n",
    "    end\n",
    "    # közelítés fokszáma (1-től 5-ig)\n",
    "    gmsh.model.mesh.setOrder(approxOrder)\n",
    "end"
   ]
  },
  {
   "cell_type": "code",
   "execution_count": 33,
   "metadata": {},
   "outputs": [
    {
     "data": {
      "text/plain": [
       "stiffnessMatrixPlaneStress (generic function with 1 method)"
      ]
     },
     "execution_count": 33,
     "metadata": {},
     "output_type": "execute_result"
    }
   ],
   "source": [
    "# Merevségi mátrix felépítése\n",
    "function stiffnessMatrixPlaneStress(problem)\n",
    "    # anyagállandók mátrixa\n",
    "    E = problem.E\n",
    "    ν = problem.ν\n",
    "    b = problem.b\n",
    "    D = E / (1 - ν^2) * [1 ν 0; ν 1 0; 0 0 (1-ν)/2] # ÁSF feladat\n",
    "    #D = E / ((1 + ν) * (1 - 2ν)) * [1-ν ν 0; ν 1-ν 0; 0 0 (1-2ν)/2] # SA feladat\n",
    "    # modell kiválasztása\n",
    "    gmsh.model.setCurrent(problem.name)\n",
    "    # csomópontok sorszámának lekérése\n",
    "    #nodeTags, nodeCoords, nodeParams = gmsh.model.mesh.getNodes(-1, -1)\n",
    "    # végeselemek típusának, sorszámának és kapcsolati mátrixának (connectivity matrix) lekérése\n",
    "    elemTypes, elemTags, elemNodeTags = gmsh.model.mesh.getElements(2, -1)\n",
    "    # a lefoglalandó memória méretének becslése\n",
    "    lengthOfIJV = sum([(div(length(elemNodeTags[i]), length(elemTags[i])) * 2)^2 * length(elemTags[i]) for i in 1:length(elemTags)])\n",
    "    nn = []\n",
    "    I = []\n",
    "    J = []\n",
    "    V = []\n",
    "    V = convert(Vector{Float64}, V)\n",
    "    sizehint!(I, lengthOfIJV)\n",
    "    sizehint!(J, lengthOfIJV)\n",
    "    sizehint!(V, lengthOfIJV)\n",
    "    for i in 1:length(elemTypes)\n",
    "        et = elemTypes[i]\n",
    "        elementName, dim, order, numNodes::Int64, localNodeCoord, numPrimaryNodes = gmsh.model.mesh.getElementProperties(et)\n",
    "        intPoints, intWeights = gmsh.model.mesh.getIntegrationPoints(et, \"Gauss\" * string(2order))\n",
    "        numIntPoints = length(intWeights)\n",
    "        comp, dfun, ori = gmsh.model.mesh.getBasisFunctions(et, intPoints, \"GradLagrange\")\n",
    "        ∇h = reshape(dfun, :, numIntPoints)\n",
    "        nnet = zeros(Int, length(elemTags[i]), numNodes)\n",
    "        invJac = zeros(3, 3numIntPoints)\n",
    "        Iidx = zeros(Int, numNodes * 2, numNodes * 2)\n",
    "        Jidx = zeros(Int, numNodes * 2, numNodes * 2)\n",
    "        for k in 1:numNodes*2, l in 1:numNodes*2\n",
    "            Iidx[k, l] = l\n",
    "            Jidx[k, l] = k\n",
    "        end\n",
    "        ∂h = zeros(3, numNodes * numIntPoints) # ∂h-t mindig csak felül kellene írni, nem kell újra és újra memóriát foglalni neki.\n",
    "        B = zeros(3 * numIntPoints, 2 * numNodes) # B-t mindig csak felül kellene írni?\n",
    "        K1 = zeros(2 * numNodes, 2 * numNodes)\n",
    "        nn2 = zeros(Int, 2 * numNodes)\n",
    "        for j in 1:length(elemTags[i])\n",
    "            elem = elemTags[i][j]\n",
    "            for k in 1:numNodes\n",
    "                nnet[j, k] = elemNodeTags[i][(j-1)*numNodes+k]\n",
    "            end\n",
    "            jac, jacDet, coord = gmsh.model.mesh.getJacobian(elem, intPoints)\n",
    "            Jac = reshape(jac, 3, :)\n",
    "            for k in 1:numIntPoints\n",
    "                invJac[1:3, 3*k-2:3*k] = inv(Jac[1:3, 3*k-2:3*k])'\n",
    "            end\n",
    "            ∂h *= 0\n",
    "            for k in 1:numIntPoints, l in 1:numNodes\n",
    "                ∂h[1:2, (k-1)*numNodes+l] = invJac[1:2, k*3-2:k*3-1] * ∇h[l*3-2:l*3-1, k] #??????????????????\n",
    "            end\n",
    "            B *= 0\n",
    "            for k in 1:numIntPoints, l in 1:numNodes\n",
    "                B[k*3-0, l*2-0] = B[k*3-2, l*2-1] = ∂h[1, (k-1)*numNodes+l]\n",
    "                B[k*3-0, l*2-1] = B[k*3-1, l*2-0] = ∂h[2, (k-1)*numNodes+l]\n",
    "            end\n",
    "            K1 *= 0\n",
    "            for k in 1:numIntPoints\n",
    "                B1 = B[k*3-2:k*3, 1:2*numNodes]\n",
    "                K1 += B1' * D * B1 * jacDet[k] * b * intWeights[k]\n",
    "            end\n",
    "            nn2[1:2:2*numNodes] = 2 * nnet[j, 1:numNodes] .- 1\n",
    "            nn2[2:2:2*numNodes] = 2 * nnet[j, 1:numNodes]\n",
    "            append!(I, nn2[Iidx[:]])\n",
    "            append!(J, nn2[Jidx[:]])\n",
    "            append!(V, K1[:])\n",
    "        end\n",
    "        push!(nn, nnet)\n",
    "    end\n",
    "    K = sparse(I, J, V)\n",
    "    return K\n",
    "end"
   ]
  },
  {
   "cell_type": "code",
   "execution_count": 34,
   "metadata": {},
   "outputs": [
    {
     "data": {
      "text/plain": [
       "applyBoundaryConditions! (generic function with 1 method)"
      ]
     },
     "execution_count": 34,
     "metadata": {},
     "output_type": "execute_result"
    }
   ],
   "source": [
    "function applyBoundaryConditions!(problem, stiffMat, supports, tractions)\n",
    "    gmsh.model.setCurrent(problem.name)\n",
    "    dof, dof = size(stiffMat)\n",
    "    fp = zeros(dof)\n",
    "    for n in 1:length(tractions)\n",
    "        phg, fx, fy, b = tractions[n]\n",
    "        f = [fx, fy]\n",
    "        tags = gmsh.model.getEntitiesForPhysicalGroup(1, phg)\n",
    "        for i ∈ 1:length(tags)\n",
    "            elementTypes, elementTags, elemNodeTags = gmsh.model.mesh.getElements(1, tags[i])\n",
    "            if length(elementTypes) != 1\n",
    "                error(\"A peremen nem csak egyfajta végeselem van!\")\n",
    "            end\n",
    "            elementName, dim, order, numNodes::Int64, localNodeCoord, numPrimaryNodes = gmsh.model.mesh.getElementProperties(elementTypes[1])\n",
    "            nnoe = reshape(elemNodeTags[1], numNodes, :)'\n",
    "            intPoints, intWeights = gmsh.model.mesh.getIntegrationPoints(elementTypes[1], \"Gauss\" * string(order))\n",
    "            numIntPoints = length(intWeights)\n",
    "            comp, fun, ori = gmsh.model.mesh.getBasisFunctions(elementTypes[1], intPoints, \"Lagrange\")\n",
    "            h = reshape(fun, :, numIntPoints)\n",
    "            #comp, dfun, ori = gmsh.model.mesh.getBasisFunctions(elementTypes[1], intPoints, \"GradLagrange\")\n",
    "            #∇h = reshape(dfun, :, numIntPoints)\n",
    "            H = zeros(2 * numIntPoints, 2 * numNodes)\n",
    "            for j in 1:numIntPoints\n",
    "                for k in 1:numNodes\n",
    "                    H[j*2-1, k*2-1] = h[k, j]\n",
    "                    H[j*2-0, k*2-0] = h[k, j]\n",
    "                end\n",
    "            end\n",
    "            f1 = zeros(2 * numNodes)\n",
    "            nn2 = zeros(Int, 2 * numNodes)\n",
    "            for l in 1:length(elementTags[1])\n",
    "                elem = elementTags[1][l]\n",
    "                jac, jacDet, coord = gmsh.model.mesh.getJacobian(elem, intPoints)\n",
    "                Jac = reshape(jac, 3, :)\n",
    "                f1 *= 0\n",
    "                for j in 1:numIntPoints\n",
    "                    H1 = H[j*2-1:j*2, 1:2*numNodes]\n",
    "                    Ja = √((Jac[1, 3*j-2])^2 + (Jac[2, 3*j-2])^2)\n",
    "                    f1 += H1' * f * Ja * b * intWeights[j]\n",
    "                end\n",
    "                nn2[1:2:2*numNodes] = 2 * nnoe[l, 1:numNodes] .- 1\n",
    "                nn2[2:2:2*numNodes] = 2 * nnoe[l, 1:numNodes]\n",
    "                fp[nn2] += f1\n",
    "            end\n",
    "        end\n",
    "\n",
    "    end\n",
    "\n",
    "    for i in 1:length(supports)\n",
    "        phg, ux, uy = supports[i]\n",
    "        nodeTags, coord = gmsh.model.mesh.getNodesForPhysicalGroup(1, phg)\n",
    "        if ux != 1im\n",
    "            nodeTagsX = copy(nodeTags)\n",
    "            nodeTagsX *= 2\n",
    "            nodeTagsX .-= 1\n",
    "            f0 = spzeros(dof, length(nodeTagsX))\n",
    "            f0 = stiffMat[:, nodeTagsX] * ux\n",
    "            f0 = sum(f0, dims=2)\n",
    "            fp -= f0\n",
    "        end\n",
    "        if uy != 1im\n",
    "            nodeTagsY = copy(nodeTags)\n",
    "            nodeTagsY *= 2\n",
    "            f0 = spzeros(dof, length(nodeTagsY))\n",
    "            f0 = stiffMat[:, nodeTagsY] * uy\n",
    "            f0 = sum(f0, dims=2)\n",
    "            fp -= f0\n",
    "        end\n",
    "    end\n",
    "    for i in 1:length(supports)\n",
    "        phg, ux, uy = supports[i]\n",
    "        nodeTags, coord = gmsh.model.mesh.getNodesForPhysicalGroup(1, phg)\n",
    "        if ux != 1im\n",
    "            nodeTagsX = copy(nodeTags)\n",
    "            nodeTagsX *= 2\n",
    "            nodeTagsX .-= 1\n",
    "            for j ∈ nodeTagsX\n",
    "                #display(j)\n",
    "                stiffMat[j, :] .= 0\n",
    "                stiffMat[:, j] .= 0\n",
    "                stiffMat[j, j] = 1\n",
    "                fp[j] = ux\n",
    "            end\n",
    "        end\n",
    "        display(\"---------------------------------\")\n",
    "        if uy != 1im\n",
    "            nodeTagsY = copy(nodeTags)\n",
    "            nodeTagsY *= 2\n",
    "            for j ∈ nodeTagsY\n",
    "                #display(j)\n",
    "                stiffMat[j, :] .= 0\n",
    "                stiffMat[:, j] .= 0\n",
    "                stiffMat[j, j] = 1\n",
    "                fp[j] = uy\n",
    "            end\n",
    "        end\n",
    "    end\n",
    "\n",
    "    dropzeros!(stiffMat)\n",
    "    return stiffMat, fp\n",
    "end"
   ]
  },
  {
   "cell_type": "code",
   "execution_count": 35,
   "metadata": {},
   "outputs": [
    {
     "data": {
      "text/plain": [
       "solveDisplacement (generic function with 1 method)"
      ]
     },
     "execution_count": 35,
     "metadata": {},
     "output_type": "execute_result"
    }
   ],
   "source": [
    "function solveDisplacement(K, f)\n",
    "    return K \\ f\n",
    "end"
   ]
  },
  {
   "cell_type": "code",
   "execution_count": 36,
   "metadata": {},
   "outputs": [
    {
     "data": {
      "text/plain": [
       "solveStressPlaneStress (generic function with 1 method)"
      ]
     },
     "execution_count": 36,
     "metadata": {},
     "output_type": "execute_result"
    }
   ],
   "source": [
    "# Feszültségek számítása\n",
    "function solveStressPlaneStress(problem, q)\n",
    "    E = problem.E\n",
    "    ν = problem.ν\n",
    "    D = E / (1 - ν^2) * [1 ν 0; ν 1 0; 0 0 (1-ν)/2] # ÁSF feladat\n",
    "    gmsh.model.setCurrent(problem.name)\n",
    "    # csomópontok sorszámának lekérése\n",
    "    nodeTags, nodeCoords, nodeParams = gmsh.model.mesh.getNodes(-1, -1)\n",
    "    # végeselemek típusának, sorszámának és kapcsolati mátrixának (connectivity matrix) lekérése\n",
    "    elemTypes, elemTags, elemNodeTags = gmsh.model.mesh.getElements(2, -1)\n",
    "    numElem = Int[]\n",
    "    σ = Vector{Float64}[]\n",
    "    #σx = Vector{Float64}[]\n",
    "    #σy = Vector{Float64}[]\n",
    "    #σxy = Vector{Float64}[]\n",
    "    for i in 1:length(elemTypes)\n",
    "        et = elemTypes[i]\n",
    "        elementName, dim, order, numNodes::Int64, localNodeCoord, numPrimaryNodes = gmsh.model.mesh.getElementProperties(et)\n",
    "        s0 = zeros(3numNodes) # csak SA és ÁSF feladatnál, FSZ-nél már 4 kell\n",
    "        nodeCoord = zeros(numNodes * 3)\n",
    "        for k in 1:dim, j = 1:numNodes\n",
    "            nodeCoord[k+(j-1)*3] = localNodeCoord[k+(j-1)*dim]\n",
    "        end\n",
    "        comp, dfun, ori = gmsh.model.mesh.getBasisFunctions(et, nodeCoord, \"GradLagrange\")\n",
    "        ∇h = reshape(dfun, :, numNodes)\n",
    "        nnet = zeros(Int, length(elemTags[i]), numNodes)\n",
    "        invJac = zeros(3, 3numNodes)\n",
    "        ∂h = zeros(3, numNodes * numNodes)\n",
    "        B = zeros(3 * numNodes, 2 * numNodes)\n",
    "        nn2 = zeros(Int, 2 * numNodes)\n",
    "        for j in 1:length(elemTags[i])\n",
    "            elem = elemTags[i][j]\n",
    "            for k in 1:numNodes\n",
    "                nnet[j, k] = elemNodeTags[i][(j-1)*numNodes+k]\n",
    "            end\n",
    "            jac, jacDet, coord = gmsh.model.mesh.getJacobian(elem, nodeCoord)\n",
    "            Jac = reshape(jac, 3, :)\n",
    "            for k in 1:numNodes\n",
    "                invJac[1:3, 3*k-2:3*k] = inv(Jac[1:3, 3*k-2:3*k])'\n",
    "            end\n",
    "            ∂h *= 0\n",
    "            for k in 1:numNodes, l in 1:numNodes\n",
    "                ∂h[1:2, (k-1)*numNodes+l] = invJac[1:2, k*3-2:k*3-1] * ∇h[l*3-2:l*3-1, k] #??????????????????\n",
    "            end\n",
    "            B *= 0\n",
    "            for k in 1:numNodes, l in 1:numNodes\n",
    "                B[k*3-0, l*2-0] = B[k*3-2, l*2-1] = ∂h[1, (k-1)*numNodes+l]\n",
    "                B[k*3-0, l*2-1] = B[k*3-1, l*2-0] = ∂h[2, (k-1)*numNodes+l]\n",
    "            end\n",
    "            push!(numElem, elem)\n",
    "            nn2[1:2:2*numNodes] = 2 * nnet[j, 1:numNodes] .- 1\n",
    "            nn2[2:2:2*numNodes] = 2 * nnet[j, 1:numNodes]\n",
    "            s = zeros(9numNodes) # tenzornak 9 eleme van\n",
    "            #sx = zeros(numNodes)\n",
    "            #sy = zeros(numNodes)\n",
    "            #sxy = zeros(numNodes)\n",
    "            for k in 1:numNodes\n",
    "                B1 = B[k*3-2:k*3, 1:2*numNodes]\n",
    "                s0 = D * B1 * q[nn2]\n",
    "                s[(k-1)*9+1:k*9] = [s0[1], s0[3], 0, s0[3], s0[2], 0, 0, 0, 0]\n",
    "                #sx[k] = s0[1]\n",
    "                #sy[k] = s0[2]\n",
    "                #sxy[k] = s0[3]\n",
    "            end\n",
    "            push!(σ, s)\n",
    "            #push!(σx, sx)\n",
    "            #push!(σy, sy)\n",
    "            #push!(σxy, sxy)\n",
    "        end\n",
    "    end\n",
    "    return σ, numElem\n",
    "end"
   ]
  },
  {
   "cell_type": "code",
   "execution_count": 37,
   "metadata": {},
   "outputs": [
    {
     "data": {
      "text/plain": [
       "showResultUvec (generic function with 1 method)"
      ]
     },
     "execution_count": 37,
     "metadata": {},
     "output_type": "execute_result"
    }
   ],
   "source": [
    "function showResultUvec(problem, q; name=\"uvec\", visible=false)\n",
    "    gmsh.model.setCurrent(problem.name)\n",
    "    elemTypes, elemTags, elemNodeTags = gmsh.model.mesh.getElements(2, -1)\n",
    "    elementName, dim, order, numNodes::Int64, localNodeCoord, numPrimaryNodes = gmsh.model.mesh.getElementProperties(elemTypes[1])\n",
    "    nodeTags, nodeCoords, nodeParams = gmsh.model.mesh.getNodes(-1, -1)\n",
    "    non = length(nodeTags)\n",
    "    uvec = gmsh.view.add(name)\n",
    "    u = zeros(3 * non)\n",
    "    for i in 1:length(nodeTags)\n",
    "        u[3i-2] = q[2*nodeTags[i]-1]\n",
    "        u[3i-1] = q[2*nodeTags[i]-0]\n",
    "    end\n",
    "    gmsh.view.addHomogeneousModelData(uvec, 0, problem.name, \"NodeData\", nodeTags, u, 0, 3)\n",
    "\n",
    "    gmsh.view.option.setNumber(uvec, \"AdaptVisualizationGrid\", 1)\n",
    "    gmsh.view.option.setNumber(uvec, \"TargetError\", -1e-4)\n",
    "    gmsh.view.option.setNumber(uvec, \"MaxRecursionLevel\", order + 1)\n",
    "    if visible == false\n",
    "        gmsh.view.option.setNumber(uvec, \"Visible\", 0)\n",
    "    end\n",
    "    return uvec\n",
    "end"
   ]
  },
  {
   "cell_type": "code",
   "execution_count": 38,
   "metadata": {},
   "outputs": [
    {
     "data": {
      "text/plain": [
       "showResultUX (generic function with 1 method)"
      ]
     },
     "execution_count": 38,
     "metadata": {},
     "output_type": "execute_result"
    }
   ],
   "source": [
    "function showResultUX(problem, q; name=\"ux\", visible=false)\n",
    "    gmsh.model.setCurrent(problem.name)\n",
    "    elemTypes, elemTags, elemNodeTags = gmsh.model.mesh.getElements(2, -1)\n",
    "    elementName, dim, order, numNodes::Int64, localNodeCoord, numPrimaryNodes = gmsh.model.mesh.getElementProperties(elemTypes[1])\n",
    "    nodeTags, nodeCoords, nodeParams = gmsh.model.mesh.getNodes(-1, -1)\n",
    "    non = length(nodeTags)\n",
    "    ux = gmsh.view.add(name)\n",
    "    u = zeros(non)\n",
    "    for i in 1:length(nodeTags)\n",
    "        u[i] = q[2*nodeTags[i]-1]\n",
    "    end\n",
    "    gmsh.view.addHomogeneousModelData(ux, 0, problem.name, \"NodeData\", nodeTags, u, 0, 1)\n",
    "\n",
    "    gmsh.view.option.setNumber(ux, \"AdaptVisualizationGrid\", 1)\n",
    "    gmsh.view.option.setNumber(ux, \"TargetError\", -1e-4)\n",
    "    gmsh.view.option.setNumber(ux, \"MaxRecursionLevel\", order + 1)\n",
    "    if visible == false\n",
    "        gmsh.view.option.setNumber(ux, \"Visible\", 0)\n",
    "    end\n",
    "    return ux\n",
    "end"
   ]
  },
  {
   "cell_type": "code",
   "execution_count": 39,
   "metadata": {},
   "outputs": [
    {
     "data": {
      "text/plain": [
       "showResultUY (generic function with 1 method)"
      ]
     },
     "execution_count": 39,
     "metadata": {},
     "output_type": "execute_result"
    }
   ],
   "source": [
    "function showResultUY(problem, q; name=\"uy\", visible=false)\n",
    "    gmsh.model.setCurrent(problem.name)\n",
    "    elemTypes, elemTags, elemNodeTags = gmsh.model.mesh.getElements(2, -1)\n",
    "    elementName, dim, order, numNodes::Int64, localNodeCoord, numPrimaryNodes = gmsh.model.mesh.getElementProperties(elemTypes[1])\n",
    "    nodeTags, nodeCoords, nodeParams = gmsh.model.mesh.getNodes(-1, -1)\n",
    "    non = length(nodeTags)\n",
    "    uy = gmsh.view.add(name)\n",
    "    u = zeros(non)\n",
    "    for i in 1:length(nodeTags)\n",
    "        u[i] = q[2*nodeTags[i]-0]\n",
    "    end\n",
    "    gmsh.view.addHomogeneousModelData(uy, 0, problem.name, \"NodeData\", nodeTags, u, 0, 1)\n",
    "\n",
    "    gmsh.view.option.setNumber(uy, \"AdaptVisualizationGrid\", 1)\n",
    "    gmsh.view.option.setNumber(uy, \"TargetError\", -1e-4)\n",
    "    gmsh.view.option.setNumber(uy, \"MaxRecursionLevel\", order + 1)\n",
    "    if visible == false\n",
    "        gmsh.view.option.setNumber(uy, \"Visible\", 0)\n",
    "    end\n",
    "    return uy\n",
    "end"
   ]
  },
  {
   "cell_type": "code",
   "execution_count": 40,
   "metadata": {},
   "outputs": [
    {
     "data": {
      "text/plain": [
       "showResultS (generic function with 1 method)"
      ]
     },
     "execution_count": 40,
     "metadata": {},
     "output_type": "execute_result"
    }
   ],
   "source": [
    "function showResultS(problem, S; name=\"σ\", visible=true, smooth=true)\n",
    "    gmsh.model.setCurrent(problem.name)\n",
    "    elemTypes, elemTags, elemNodeTags = gmsh.model.mesh.getElements(2, -1)\n",
    "    elementName, dim, order, numNodes::Int64, localNodeCoord, numPrimaryNodes = gmsh.model.mesh.getElementProperties(elemTypes[1])\n",
    "    σ, numElem = S\n",
    "    S = gmsh.view.add(name)\n",
    "    gmsh.view.addModelData(S, 0, problem.name, \"ElementNodeData\", numElem, σ, 0, 9)\n",
    "\n",
    "    if smooth == true\n",
    "        gmsh.plugin.setNumber(\"Smooth\", \"View\", -1)\n",
    "        gmsh.plugin.run(\"Smooth\")\n",
    "    end\n",
    "\n",
    "    gmsh.view.option.setNumber(S, \"AdaptVisualizationGrid\", 1)\n",
    "    gmsh.view.option.setNumber(S, \"TargetError\", -1e-4)\n",
    "    gmsh.view.option.setNumber(S, \"MaxRecursionLevel\", order + 1)\n",
    "    if visible == false\n",
    "        gmsh.view.option.setNumber(S, \"Visible\", 0)\n",
    "    end\n",
    "    return S\n",
    "end"
   ]
  },
  {
   "cell_type": "code",
   "execution_count": 41,
   "metadata": {},
   "outputs": [
    {
     "data": {
      "text/plain": [
       "showResultSX (generic function with 1 method)"
      ]
     },
     "execution_count": 41,
     "metadata": {},
     "output_type": "execute_result"
    }
   ],
   "source": [
    "function showResultSX(problem, S; name=\"σx\", visible=false, smooth=true)\n",
    "    gmsh.model.setCurrent(problem.name)\n",
    "    elemTypes, elemTags, elemNodeTags = gmsh.model.mesh.getElements(2, -1)\n",
    "    elementName, dim, order, numNodes::Int64, localNodeCoord, numPrimaryNodes = gmsh.model.mesh.getElementProperties(elemTypes[1])\n",
    "    σ, numElem = S\n",
    "    S = gmsh.view.add(name)\n",
    "    σx = []\n",
    "    sizehint!(σx, length(numElem))\n",
    "    for i in 1:length(σ)\n",
    "        sx = zeros(div(length(σ[i]), 9))\n",
    "        for j in 1:(div(length(σ[i]), 9))\n",
    "            sx[j] = σ[i][9j-8]\n",
    "        end\n",
    "        push!(σx, sx)\n",
    "    end\n",
    "\n",
    "    gmsh.view.addModelData(S, 0, problem.name, \"ElementNodeData\", numElem, σx, 0, 1)\n",
    "\n",
    "    if smooth == true\n",
    "        gmsh.plugin.setNumber(\"Smooth\", \"View\", -1)\n",
    "        gmsh.plugin.run(\"Smooth\")\n",
    "    end\n",
    "\n",
    "    gmsh.view.option.setNumber(S, \"AdaptVisualizationGrid\", 1)\n",
    "    gmsh.view.option.setNumber(S, \"TargetError\", -1e-4)\n",
    "    gmsh.view.option.setNumber(S, \"MaxRecursionLevel\", order + 1)\n",
    "    if visible == false\n",
    "        gmsh.view.option.setNumber(S, \"Visible\", 0)\n",
    "    end\n",
    "    return S\n",
    "end"
   ]
  },
  {
   "cell_type": "code",
   "execution_count": 42,
   "metadata": {},
   "outputs": [
    {
     "data": {
      "text/plain": [
       "showResultSY (generic function with 1 method)"
      ]
     },
     "execution_count": 42,
     "metadata": {},
     "output_type": "execute_result"
    }
   ],
   "source": [
    "function showResultSY(problem, S; name=\"σy\", visible=false, smooth=true)\n",
    "    gmsh.model.setCurrent(problem.name)\n",
    "    elemTypes, elemTags, elemNodeTags = gmsh.model.mesh.getElements(2, -1)\n",
    "    elementName, dim, order, numNodes::Int64, localNodeCoord, numPrimaryNodes = gmsh.model.mesh.getElementProperties(elemTypes[1])\n",
    "    σ, numElem = S\n",
    "    S = gmsh.view.add(name)\n",
    "    σy = []\n",
    "    sizehint!(σy, length(numElem))\n",
    "    for i in 1:length(σ)\n",
    "        sy = zeros(div(length(σ[i]), 9))\n",
    "        for j in 1:(div(length(σ[i]), 9))\n",
    "            sy[j] = σ[i][9j-4]\n",
    "        end\n",
    "        push!(σy, sy)\n",
    "    end\n",
    "\n",
    "    gmsh.view.addModelData(S, 0, problem.name, \"ElementNodeData\", numElem, σy, 0, 1)\n",
    "\n",
    "    if smooth == true\n",
    "        gmsh.plugin.setNumber(\"Smooth\", \"View\", -1)\n",
    "        gmsh.plugin.run(\"Smooth\")\n",
    "    end\n",
    "\n",
    "    gmsh.view.option.setNumber(S, \"AdaptVisualizationGrid\", 1)\n",
    "    gmsh.view.option.setNumber(S, \"TargetError\", -1e-4)\n",
    "    gmsh.view.option.setNumber(S, \"MaxRecursionLevel\", order + 1)\n",
    "    if visible == false\n",
    "        gmsh.view.option.setNumber(S, \"Visible\", 0)\n",
    "    end\n",
    "    return S\n",
    "end"
   ]
  },
  {
   "cell_type": "code",
   "execution_count": 43,
   "metadata": {},
   "outputs": [
    {
     "data": {
      "text/plain": [
       "showResultSXY (generic function with 1 method)"
      ]
     },
     "execution_count": 43,
     "metadata": {},
     "output_type": "execute_result"
    }
   ],
   "source": [
    "function showResultSXY(problem, S; name=\"τxy\", visible=false, smooth=true)\n",
    "    gmsh.model.setCurrent(problem.name)\n",
    "    elemTypes, elemTags, elemNodeTags = gmsh.model.mesh.getElements(2, -1)\n",
    "    elementName, dim, order, numNodes::Int64, localNodeCoord, numPrimaryNodes = gmsh.model.mesh.getElementProperties(elemTypes[1])\n",
    "    σ, numElem = S\n",
    "    S = gmsh.view.add(name)\n",
    "    σxy = []\n",
    "    sizehint!(σxy, length(numElem))\n",
    "    for i in 1:length(σ)\n",
    "        sxy = zeros(div(length(σ[i]), 9))\n",
    "        for j in 1:(div(length(σ[i]), 9))\n",
    "            sxy[j] = σ[i][9j-7]\n",
    "        end\n",
    "        push!(σxy, sxy)\n",
    "    end\n",
    "\n",
    "    gmsh.view.addModelData(S, 0, problem.name, \"ElementNodeData\", numElem, σxy, 0, 1)\n",
    "\n",
    "    if smooth == true\n",
    "        gmsh.plugin.setNumber(\"Smooth\", \"View\", -1)\n",
    "        gmsh.plugin.run(\"Smooth\")\n",
    "    end\n",
    "\n",
    "    gmsh.view.option.setNumber(S, \"AdaptVisualizationGrid\", 1)\n",
    "    gmsh.view.option.setNumber(S, \"TargetError\", -1e-4)\n",
    "    gmsh.view.option.setNumber(S, \"MaxRecursionLevel\", order + 1)\n",
    "    if visible == false\n",
    "        gmsh.view.option.setNumber(S, \"Visible\", 0)\n",
    "    end\n",
    "    return S\n",
    "end"
   ]
  },
  {
   "cell_type": "code",
   "execution_count": 44,
   "metadata": {},
   "outputs": [
    {
     "data": {
      "text/plain": [
       "plotOnPath (generic function with 1 method)"
      ]
     },
     "execution_count": 44,
     "metadata": {},
     "output_type": "execute_result"
    }
   ],
   "source": [
    "function plotOnPath(problem, path, field, points; numOfStep=0, name=\"path\", visible=false)\n",
    "    gmsh.model.setCurrent(problem.name)\n",
    "    dataType, tags, data, time, numComponents = gmsh.view.getModelData(field, numOfStep)\n",
    "    bounds = gmsh.model.getParametrizationBounds(1, path)\n",
    "    bound1 = bounds[1][1]\n",
    "    bound2 = bounds[2][1]\n",
    "    step0 = (bound2 - bound1) / (points - 1)\n",
    "    cv = zeros(4)\n",
    "    CoordValue = []\n",
    "    pt0 = gmsh.model.getValue(1, path, [bound1])\n",
    "    for i in 1:points\n",
    "        pt1 = gmsh.model.getValue(1, path, [bound1 + (i - 1) * step0])\n",
    "        cv[1:3] = pt1 - pt0\n",
    "        val, dis = gmsh.view.probe(field, pt1[1], pt1[2], pt1[3])\n",
    "        if dis == 0\n",
    "            if numComponents == 1\n",
    "                v = val[1]\n",
    "            elseif numComponents == 3\n",
    "                v = √(val[1]^2 + val[1]^2 + val[1]^2)\n",
    "            elseif numComponents == 9\n",
    "                v = √(0.5 * ((val[1] - val[5])^2 + (val[5] - val[9])^2 + (val[9] - val[1])^2 + 6 * (val[2]^2 + val[3]^2 + val[6]^2)))\n",
    "            else\n",
    "                error(\"Vagy skalás vagy vektor vagy tenzor...\")\n",
    "            end\n",
    "        else\n",
    "            v = 0\n",
    "        end\n",
    "        cv[4] = v\n",
    "        append!(CoordValue, cv)\n",
    "    end\n",
    "    pathView = gmsh.view.add(name)\n",
    "    gmsh.view.addListData(pathView, \"SP\", points, CoordValue)\n",
    "\n",
    "    gmsh.view.option.setNumber(pathView, \"Type\", 2)\n",
    "    gmsh.view.option.setNumber(pathView, \"Axes\", 1)\n",
    "\n",
    "    if visible == false\n",
    "        gmsh.view.option.setNumber(pathView, \"Visible\", 0)\n",
    "    end\n",
    "    return pathView\n",
    "end"
   ]
  },
  {
   "cell_type": "code",
   "execution_count": 45,
   "metadata": {},
   "outputs": [
    {
     "data": {
      "text/plain": [
       "PlaneStressProblem(\"rectangle\", 200000.0, 0.3, 1.0)"
      ]
     },
     "execution_count": 45,
     "metadata": {},
     "output_type": "execute_result"
    }
   ],
   "source": [
    "# Adatok\n",
    "E = 2e5\n",
    "ν = 0.3\n",
    "thickness = 1\n",
    "height = 100\n",
    "base = 100\n",
    "elemSize = 1 #22\n",
    "\n",
    "approxOrder = 1\n",
    "internalNodes = true\n",
    "quadElements = true\n",
    "\n",
    "problem = PlaneStressProblem(\"rectangle\", E, ν, thickness)"
   ]
  },
  {
   "cell_type": "code",
   "execution_count": 46,
   "metadata": {},
   "outputs": [],
   "source": [
    "# Geometria megrajzolása\n",
    "gmsh.model.add(problem.name)\n",
    "\n",
    "p1 = gmsh.model.occ.addPoint(0, 0, 0)\n",
    "p2 = gmsh.model.occ.addPoint(base, 0, 0)\n",
    "#p23 = gmsh.model.occ.addPoint(base, height / 2, 0)\n",
    "p3 = gmsh.model.occ.addPoint(base, height, 0)\n",
    "p4 = gmsh.model.occ.addPoint(0, height, 0)\n",
    "\n",
    "l1 = gmsh.model.occ.addLine(p1, p2)\n",
    "l2 = gmsh.model.occ.addLine(p2, p3)\n",
    "#l23 = gmsh.model.occ.addLine(p23, p3)\n",
    "l3 = gmsh.model.occ.addLine(p3, p4)\n",
    "l4 = gmsh.model.occ.addLine(p4, p1)\n",
    "\n",
    "cl1 = gmsh.model.occ.addCurveLoop([l1, l2, l3, l4])\n",
    "\n",
    "l5 = gmsh.model.occ.addCircle(base / 2, height / 2, 0, min(base, height) / 4)\n",
    "cl2 = gmsh.model.occ.addCurveLoop([l5])\n",
    "\n",
    "sf1 = gmsh.model.occ.addPlaneSurface([cl1, cl2])\n",
    "#display(sf1)\n",
    "\n",
    "#cp1 = gmsh.model.occ.addPoint(base / 2, height / 2, 0)\n",
    "#cl1 = gmsh.model.occ.addLine(p1, p3)\n",
    "#cl2 = gmsh.model.occ.addLine(p2, p4)\n",
    "\n",
    "#sf2 = gmsh.model.occ.fragment([(2, sf1)], [(1, cl1)])\n",
    "#gmsh.model.occ.removeAllDuplicates()\n",
    "\n",
    "#p5 = gmsh.model.occ.addPoint(0, height / 2, 0)\n",
    "#p6 = gmsh.model.occ.addPoint(base, height / 2, 0)\n",
    "#l5 = gmsh.model.occ.addLine(p5, p6)\n",
    "\n",
    "gmsh.model.occ.synchronize()\n",
    "#sf2"
   ]
  },
  {
   "cell_type": "code",
   "execution_count": 47,
   "metadata": {},
   "outputs": [
    {
     "data": {
      "text/plain": [
       "(Tuple{Int32, Int32}[(1, 7), (2, 1), (2, 2), (1, 17)], Vector{Tuple{Int32, Int32}}[[(2, 1), (2, 2)], [(1, 9), (1, 17)], [(1, 7)]])"
      ]
     },
     "execution_count": 47,
     "metadata": {},
     "output_type": "execute_result"
    }
   ],
   "source": [
    "p5 = gmsh.model.occ.addPoint(0, height / 2, 0)\n",
    "p6 = gmsh.model.occ.addPoint(base / 3, height / 2, 0)\n",
    "p7 = gmsh.model.occ.addPoint(3base / 4, height / 2, 0)\n",
    "p8 = gmsh.model.occ.addPoint(base, height / 2, 0)\n",
    "l6 = gmsh.model.occ.addLine(p5, p6)\n",
    "l7 = gmsh.model.occ.addLine(p7, p8)\n",
    "sf2 = gmsh.model.occ.fragment([(2, sf1)], [(1, l6), (1, l7)])\n",
    "gmsh.model.occ.synchronize()\n",
    "sf2"
   ]
  },
  {
   "cell_type": "code",
   "execution_count": 48,
   "metadata": {},
   "outputs": [
    {
     "data": {
      "text/plain": [
       "1-element Vector{Tuple{Int32, Int32}}:\n",
       " (1, 17)"
      ]
     },
     "execution_count": 48,
     "metadata": {},
     "output_type": "execute_result"
    }
   ],
   "source": [
    "ee = 1\n",
    "innerline = gmsh.model.getEntitiesInBoundingBox(base / 4 - ee, height / 2 - ee, 0 - ee, 3base / 4 + ee, height / 2 + ee, 0 + ee, 1)"
   ]
  },
  {
   "cell_type": "code",
   "execution_count": 49,
   "metadata": {},
   "outputs": [],
   "source": [
    "gmsh.model.occ.remove(innerline, true)\n",
    "gmsh.model.occ.synchronize()"
   ]
  },
  {
   "cell_type": "code",
   "execution_count": 50,
   "metadata": {},
   "outputs": [
    {
     "name": "stdout",
     "output_type": "stream",
     "text": [
      "Info    : Writing 'rectangle.brep'...\n",
      "Info    : Done writing 'rectangle.brep'\n"
     ]
    }
   ],
   "source": [
    "gmsh.write(\"rectangle.brep\")"
   ]
  },
  {
   "cell_type": "code",
   "execution_count": 51,
   "metadata": {},
   "outputs": [
    {
     "data": {
      "text/plain": [
       "1-element Vector{Tuple{Int32, Int32}}:\n",
       " (1, 14)"
      ]
     },
     "execution_count": 51,
     "metadata": {},
     "output_type": "execute_result"
    }
   ],
   "source": [
    "supp = gmsh.model.getEntitiesInBoundingBox(0 - ee, 0 - ee, 0 - ee, 0 + ee, height + ee, 0 + ee, 1)\n",
    "load = gmsh.model.getEntitiesInBoundingBox(0 - ee, height - ee, 0 - ee, base + ee, height + ee, 0 + ee, 1)"
   ]
  },
  {
   "cell_type": "code",
   "execution_count": 52,
   "metadata": {},
   "outputs": [
    {
     "data": {
      "text/plain": [
       "(2, 0, 1, 1)"
      ]
     },
     "execution_count": 52,
     "metadata": {},
     "output_type": "execute_result"
    }
   ],
   "source": [
    "supp1 = displacementConstraint([supp[i][2] for i in 1:length(supp)], ux=0, uy=0)\n",
    "load1 = traction([load[i][2] for i in 1:length(load)], fx=0, fy=1, thickness=thickness)"
   ]
  },
  {
   "cell_type": "code",
   "execution_count": 53,
   "metadata": {},
   "outputs": [
    {
     "name": "stdout",
     "output_type": "stream",
     "text": [
      "Info    : Meshing 1D...\n",
      "Info    : [  0%] Meshing curve 7 (Line)\n",
      "Info    : [ 10%] Meshing curve 8 (Line)\n",
      "Info    : [ 20%] Meshing curve 9 (Line)\n",
      "Info    : [ 30%] Meshing curve 10 (Circle)\n",
      "Info    : [ 40%] Meshing curve 11 (Line)\n",
      "Info    : [ 50%] Meshing curve 12 (Line)\n",
      "Info    : [ 60%] Meshing curve 13 (Line)\n",
      "Info    : [ 70%] Meshing curve 14 (Line)\n",
      "Info    : [ 80%] Meshing curve 15 (Line)\n",
      "Info    : [ 90%] Meshing curve 16 (Circle)\n",
      "Info    : Done meshing 1D (Wall 0.00115644s, CPU 0.001151s)\n",
      "Info    : 606 nodes 616 elements\n",
      "Info    : Meshing 2D...\n",
      "Info    : [  0%] Meshing surface 1 (Plane, Frontal-Delaunay for Quads)\n",
      "Info    : [ 50%] Meshing surface 2 (Plane, Frontal-Delaunay)\n",
      "Info    : Done meshing 2D (Wall 0.450804s, CPU 0.449046s)\n",
      "Info    : 9129 nodes 18316 elements\n",
      "Info    : Recombining 2D mesh...\n",
      "Info    : Blossom recombination completed (Wall 0.102248s, CPU 0.101225s): 4033 quads, 187 triangles, 0 invalid quads, 0 quads with Q < 0.1, avg Q = 0.951401, min Q = 0.526059\n",
      "Info    : Blossom recombination completed (Wall 0.126474s, CPU 0.126458s): 4113 quads, 1209 triangles, 0 invalid quads, 0 quads with Q < 0.1, avg Q = 0.776787, min Q = 0.505691\n",
      "Info    : Done recombining 2D mesh (Wall 0.230466s, CPU 0.229434s)\n"
     ]
    },
    {
     "name": "stderr",
     "output_type": "stream",
     "text": [
      "Warning : Cannot apply Blossom: odd number of triangles (8255) in surface 1\n",
      "Warning : Cannot apply Blossom: odd number of triangles (9445) in surface 2\n"
     ]
    }
   ],
   "source": [
    "generateMesh(problem, sf1, elemSize, approxOrder=approxOrder, algorithm=8, quadrangle=quadElements, internalNodes=internalNodes)"
   ]
  },
  {
   "cell_type": "code",
   "execution_count": 54,
   "metadata": {},
   "outputs": [
    {
     "name": "stdout",
     "output_type": "stream",
     "text": [
      "Info    : Removing duplicate mesh nodes...\n",
      "Info    : Found 0 duplicate nodes \n",
      "Info    : No duplicate nodes found\n"
     ]
    }
   ],
   "source": [
    "gmsh.model.mesh.removeDuplicateNodes()\n",
    "gmsh.model.mesh.renumberNodes()"
   ]
  },
  {
   "cell_type": "code",
   "execution_count": 55,
   "metadata": {},
   "outputs": [],
   "source": [
    "# 4.12 verziótól...\n",
    "#oldTags, newTags = gmsh.model.mesh.computeRenumbering(\"RCMK\") # \"RCMK\", \"Hilbert\", \"Metis\"\n",
    "#gmsh.model.mesh.renumberNodes(oldTags, newTags)"
   ]
  },
  {
   "cell_type": "code",
   "execution_count": 56,
   "metadata": {},
   "outputs": [
    {
     "name": "stdout",
     "output_type": "stream",
     "text": [
      "Info    : Writing 'rectangle.msh'...\n",
      "Info    : Done writing 'rectangle.msh'\n"
     ]
    }
   ],
   "source": [
    "gmsh.write(\"rectangle.msh\")"
   ]
  },
  {
   "cell_type": "code",
   "execution_count": 57,
   "metadata": {},
   "outputs": [
    {
     "name": "stdout",
     "output_type": "stream",
     "text": [
      "-------------------------------------------------------\n",
      "Version       : 4.12.0\n",
      "License       : GNU General Public License\n",
      "Build OS      : Linux64-sdk\n",
      "Build date    : 20231221\n",
      "Build host    : gmsh.info\n",
      "Build options : 64Bit ALGLIB[contrib] ANN[contrib] Bamg Blas[petsc] Blossom Cgns DIntegration Dlopen DomHex Eigen[contrib] Fltk Gmm[contrib] Hxt Jpeg Kbipack Lapack[petsc] LinuxJoystick MathEx[contrib] Med Mesh Metis[contrib] Mmg Mpeg Netgen ONELAB ONELABMetamodel OpenCASCADE OpenCASCADE-CAF OpenGL OpenMP OptHom PETSc Parser Plugins Png Post QuadMeshingTools QuadTri Solver TetGen/BR Voro++[contrib] WinslowUntangler Zlib\n",
      "FLTK version  : 1.4.0\n",
      "PETSc version : 3.14.4 (real arithmtic)\n",
      "OCC version   : 7.7.2\n",
      "MED version   : 4.1.0\n",
      "Packaged by   : geuzaine\n",
      "Web site      : https://gmsh.info\n",
      "Issue tracker : https://gitlab.onelab.info/gmsh/gmsh/issues\n",
      "-------------------------------------------------------\n"
     ]
    }
   ],
   "source": [
    "gmsh.fltk.run()"
   ]
  },
  {
   "cell_type": "code",
   "execution_count": 58,
   "metadata": {},
   "outputs": [],
   "source": [
    "# Néhány láthatósági beállítás 0:kikapcs. 1:bekapcs.\n",
    "gmsh.option.setNumber(\"Geometry.CurveLabels\", 0)\n",
    "gmsh.option.setNumber(\"Geometry.Points\", 0)\n",
    "gmsh.option.setNumber(\"Geometry.Curves\", 0)\n",
    "gmsh.option.setNumber(\"Mesh.Points\", 0)\n",
    "gmsh.option.setNumber(\"Mesh.Lines\", 0)\n",
    "gmsh.option.setNumber(\"Mesh.SurfaceEdges\", 0)\n",
    "gmsh.option.setNumber(\"Mesh.NodeLabels\", 0)\n",
    "gmsh.option.setNumber(\"Mesh.LineLabels\", 0)\n",
    "gmsh.option.setNumber(\"Mesh.SurfaceLabels\", 0)"
   ]
  },
  {
   "cell_type": "code",
   "execution_count": 59,
   "metadata": {},
   "outputs": [
    {
     "data": {
      "text/plain": [
       "18246×18246 SparseMatrixCSC{Float64, Int64} with 316148 stored entries:\n",
       "⎡⡿⣯⣼⣭⣥⠀⠀⠀⠀⠀⠀⠀⠀⠀⠀⠀⠀⠀⠀⠀⠿⠀⠀⠀⠀⠀⠀⠀⠀⠰⠀⠶⠦⠖⠾⠀⠀⠠⠾⠿⎤\n",
       "⎢⡖⣿⣿⣿⣷⣶⣴⠀⠀⠀⠀⠀⠀⠀⠀⠀⠀⠀⠀⠀⠛⠀⠀⠀⠀⠀⠀⠀⠀⠀⠈⠛⠀⠊⠉⠀⠀⠑⠚⠛⎥\n",
       "⎢⠁⠛⢹⣿⣿⣿⣿⣶⣴⠀⠀⠀⠀⠀⠀⠀⠀⠀⠀⠀⠀⠀⠀⠀⠀⠀⠀⠀⠀⠀⠀⠀⠀⠀⠀⠀⠀⠀⠀⠀⎥\n",
       "⎢⠀⠀⠐⠛⢻⣿⣿⣿⣿⣧⣄⠀⠀⠀⠀⠀⠀⠀⠀⠀⠀⠀⠀⠀⠀⠀⠀⠀⠀⠀⠀⠀⠀⠀⠀⠀⠀⠀⠀⠀⎥\n",
       "⎢⠀⠀⠀⠀⠐⠛⠿⣿⣿⣿⣿⣶⡄⠀⠀⠀⠀⠀⠀⠀⠀⠀⠀⠀⠀⠀⠀⠀⠀⠀⠀⠀⠀⠀⠀⠀⠀⠀⠀⠀⎥\n",
       "⎢⠀⠀⠀⠀⠀⠀⠀⠙⢻⣿⣿⣿⣿⣶⣀⢀⠀⠀⠀⠀⠀⠀⠀⠀⠀⠀⠀⠀⠀⠀⠀⠀⠀⠀⠀⠀⠀⠀⠀⠀⎥\n",
       "⎢⠀⠀⠀⠀⠀⠀⠀⠀⠀⠉⢻⣿⣿⣿⣿⣾⡀⠀⠀⠀⠀⠀⠀⠀⠀⠀⠀⠀⠀⠀⠀⠀⠀⠀⠀⠀⠀⠀⠀⠀⎥\n",
       "⎢⠀⠀⠀⠀⠀⠀⠀⠀⠀⠀⠀⢘⣻⣿⣿⣿⣿⣦⣀⠀⠀⠀⠀⠀⠀⠀⠀⠀⠀⠀⠀⠀⠀⠀⠀⠀⠀⠀⠀⠀⎥\n",
       "⎢⠀⠀⠀⠀⠀⠀⠀⠀⠀⠀⠀⠀⠀⠈⠻⣿⣿⣿⣿⡀⠀⠀⠀⠀⠀⠀⠀⠀⠀⠀⠀⠀⠀⠀⠀⠀⠀⠀⠀⠀⎥\n",
       "⎢⠀⠀⠀⠀⠀⠀⠀⠀⠀⠀⠀⠀⠀⠀⠀⠘⠛⠻⢿⣷⡀⠀⠀⠀⠀⠀⠀⠀⠀⠀⠀⠀⠀⠀⠀⠀⠀⠀⠀⠀⎥\n",
       "⎢⠛⠃⠛⠀⠀⠀⠀⠀⠀⠀⠀⠀⠀⠀⠀⠀⠀⠀⠀⠈⢻⣶⣶⠂⣶⣴⣶⢘⣦⡸⣞⢻⣿⣿⣿⣿⣿⣿⣿⠛⎥\n",
       "⎢⠀⠀⠀⠀⠀⠀⠀⠀⠀⠀⠀⠀⠀⠀⠀⠀⠀⠀⠀⠀⠸⠛⠿⣧⣿⣿⣯⡏⡿⢐⡟⢸⣿⣿⣿⣿⣿⣿⢿⠀⎥\n",
       "⎢⠀⠀⠀⠀⠀⠀⠀⠀⠀⠀⠀⠀⠀⠀⠀⠀⠀⠀⠀⠀⢘⣿⣿⣿⣿⣿⣿⣯⣿⣿⡿⣼⣿⣿⣿⣿⣿⣿⣷⣤⎥\n",
       "⎢⠀⠀⠀⠀⠀⠀⠀⠀⠀⠀⠀⠀⠀⠀⠀⠀⠀⠀⠀⠀⣘⢛⡯⠿⡿⣿⣿⣿⣿⣿⣿⣿⣿⣿⣿⣿⣿⣿⣿⣿⎥\n",
       "⎢⢀⡀⠀⠀⠀⠀⠀⠀⠀⠀⠀⠀⠀⠀⠀⠀⠀⠀⠀⠀⣈⡻⢛⢋⣿⣿⣿⣿⣿⣿⣿⣿⣿⣿⣿⣿⣿⣿⣿⣿⎥\n",
       "⎢⢠⡄⣦⠀⠀⠀⠀⠀⠀⠀⠀⠀⠀⠀⠀⠀⠀⠀⠀⠀⣾⣙⣛⣉⣛⣯⣿⣿⣿⣿⣿⣿⣿⣿⣿⣿⣿⣿⣿⣿⎥\n",
       "⎢⢨⠇⡠⠀⠀⠀⠀⠀⠀⠀⠀⠀⠀⠀⠀⠀⠀⠀⠀⠀⣿⣿⣿⣿⣿⣿⣿⣿⣿⣿⣿⣿⣿⣿⣿⣿⣿⣿⣿⣿⎥\n",
       "⎢⠚⠃⠃⠀⠀⠀⠀⠀⠀⠀⠀⠀⠀⠀⠀⠀⠀⠀⠀⠀⣿⣿⣿⣿⣿⣿⣿⣿⣿⣿⣿⣿⣿⣿⣿⣿⣿⣿⣿⣿⎥\n",
       "⎢⠀⡀⢄⠀⠀⠀⠀⠀⠀⠀⠀⠀⠀⠀⠀⠀⠀⠀⠀⠀⣿⣿⣿⣿⣿⣿⣿⣿⣿⣿⣿⣿⣿⣿⣿⣿⣿⣿⣿⣿⎥\n",
       "⎣⣾⡇⣾⠀⠀⠀⠀⠀⠀⠀⠀⠀⠀⠀⠀⠀⠀⠀⠀⠀⣿⠛⠛⠓⠙⣿⣿⣿⣿⣿⣿⣿⣿⣿⣿⣿⣿⣿⣿⣿⎦"
      ]
     },
     "execution_count": 59,
     "metadata": {},
     "output_type": "execute_result"
    }
   ],
   "source": [
    "K = stiffnessMatrixPlaneStress(problem)"
   ]
  },
  {
   "cell_type": "code",
   "execution_count": 60,
   "metadata": {},
   "outputs": [
    {
     "data": {
      "text/plain": [
       "\"---------------------------------\""
      ]
     },
     "metadata": {},
     "output_type": "display_data"
    },
    {
     "data": {
      "text/plain": [
       "(sparse([1, 2, 3, 4, 5, 6, 7, 8, 205, 206  …  16017, 16018, 17761, 17762, 17781, 17782, 18013, 18014, 18245, 18246], [1, 2, 3, 4, 5, 6, 7, 7, 7, 7  …  18246, 18246, 18246, 18246, 18246, 18246, 18246, 18246, 18246, 18246], [1.0, 1.0, 1.0, 1.0, 1.0, 1.0, 109285.37291471686, 41856.55937915367, -65710.4946921174, -5018.879842012609  …  -59098.976623093025, -110020.68288283818, 68019.46088504296, -54868.89007574774, -68089.51584122231, -61685.025133661125, 61463.45575080145, -27224.812382795, -17905.13727812016, 447627.9289747237], 18246, 18246), [0.0; 0.0; … ; 0.0; 0.0;;])"
      ]
     },
     "execution_count": 60,
     "metadata": {},
     "output_type": "execute_result"
    }
   ],
   "source": [
    "K, f = applyBoundaryConditions!(problem, K, [supp1], [load1])"
   ]
  },
  {
   "cell_type": "code",
   "execution_count": 61,
   "metadata": {},
   "outputs": [
    {
     "data": {
      "text/plain": [
       "Inf"
      ]
     },
     "execution_count": 61,
     "metadata": {},
     "output_type": "execute_result"
    }
   ],
   "source": [
    "det(K)"
   ]
  },
  {
   "cell_type": "code",
   "execution_count": 62,
   "metadata": {},
   "outputs": [
    {
     "data": {
      "text/plain": [
       "18246×1 Matrix{Float64}:\n",
       "  0.0\n",
       "  0.0\n",
       "  0.0\n",
       "  0.0\n",
       "  0.0\n",
       "  0.0\n",
       " -0.0008012557245295743\n",
       "  0.0034305562038550188\n",
       "  0.0\n",
       "  0.0\n",
       "  0.0\n",
       "  0.0\n",
       "  0.0\n",
       "  ⋮\n",
       " -0.0001440612677927867\n",
       "  0.002311553584417846\n",
       "  0.00015296712752263156\n",
       "  0.0004919411258834223\n",
       " -0.0008291223054616938\n",
       "  0.0028599632481219363\n",
       " -0.00032128804404058474\n",
       "  0.0031172306819568884\n",
       " -0.0003158674290870538\n",
       "  0.003098217228344352\n",
       " -8.6011423073169e-5\n",
       "  8.009150105609168e-5"
      ]
     },
     "execution_count": 62,
     "metadata": {},
     "output_type": "execute_result"
    }
   ],
   "source": [
    "q = solveDisplacement(K, f)"
   ]
  },
  {
   "cell_type": "code",
   "execution_count": 63,
   "metadata": {},
   "outputs": [
    {
     "data": {
      "text/plain": [
       "([[-0.7569833407919292, 0.7549689044060673, 0.0, 0.7549689044060673, 0.4074422735362999, 0.0, 0.0, 0.0, 0.0, -0.7569833407919292  …  0.0, -0.7569833407919292, 0.7549689044060673, 0.0, 0.7549689044060673, 0.4074422735362999, 0.0, 0.0, 0.0, 0.0], [-0.6810572250532164, 1.2460028062453397, 0.0, 1.2460028062453397, 0.4349745932326726, 0.0, 0.0, 0.0, 0.0, -0.6810572250532164  …  0.0, -0.6810572250532164, 1.2460028062453397, 0.0, 1.2460028062453397, 0.4349745932326726, 0.0, 0.0, 0.0, 0.0], [1.0509669071249428, 0.8820056405923843, 0.0, 0.8820056405923843, -0.4473277157646957, 0.0, 0.0, 0.0, 0.0, 1.0509669071249428  …  0.0, 1.0509669071249428, 0.8820056405923843, 0.0, 0.8820056405923843, -0.4473277157646957, 0.0, 0.0, 0.0, 0.0], [-1.603749528250992, 1.169065112796085, 0.0, 1.169065112796085, -1.201254426789085, 0.0, 0.0, 0.0, 0.0, -1.603749528250992  …  0.0, -1.603749528250992, 1.169065112796085, 0.0, 1.169065112796085, -1.201254426789085, 0.0, 0.0, 0.0, 0.0], [0.37362750409031936, 0.7325903713363358, 0.0, 0.7325903713363358, 2.239573542911385, 0.0, 0.0, 0.0, 0.0, 0.37362750409031936  …  0.0, 0.37362750409031936, 0.7325903713363358, 0.0, 0.7325903713363358, 2.239573542911385, 0.0, 0.0, 0.0, 0.0], [1.0367936146075452, 0.5448619984039775, 0.0, 0.5448619984039775, -0.47321288611414564, 0.0, 0.0, 0.0, 0.0, 1.0367936146075452  …  0.0, 1.0367936146075452, 0.5448619984039775, 0.0, 0.5448619984039775, -0.47321288611414564, 0.0, 0.0, 0.0, 0.0], [0.27922222385558065, 0.35030247251029023, 0.0, 0.35030247251029023, 0.07430837355306678, 0.0, 0.0, 0.0, 0.0, 0.27922222385558065  …  0.0, 0.27922222385558065, 0.35030247251029023, 0.0, 0.35030247251029023, 0.07430837355306678, 0.0, 0.0, 0.0, 0.0], [0.54163647713562, 0.8907400388825232, 0.0, 0.8907400388825232, 0.7346327525110813, 0.0, 0.0, 0.0, 0.0, 0.54163647713562  …  0.0, 0.54163647713562, 0.8907400388825232, 0.0, 0.8907400388825232, 0.7346327525110813, 0.0, 0.0, 0.0, 0.0], [0.5203857051737508, 0.09252705312888547, 0.0, 0.09252705312888547, 0.5705461530476498, 0.0, 0.0, 0.0, 0.0, 0.5203857051737508  …  0.0, 0.5203857051737508, 0.09252705312888547, 0.0, 0.09252705312888547, 0.5705461530476498, 0.0, 0.0, 0.0, 0.0], [0.7188885462109404, 0.24812503750382345, 0.0, 0.24812503750382345, 0.9547259084366262, 0.0, 0.0, 0.0, 0.0, 0.7188885462109404  …  0.0, 0.7188885462109404, 0.24812503750382345, 0.0, 0.24812503750382345, 0.9547259084366262, 0.0, 0.0, 0.0, 0.0]  …  [-0.0046571128248408256, -0.011866516336896915, 0.0, -0.011866516336896915, 2.0714018859395256, 0.0, 0.0, 0.0, 0.0, -0.04202054405038225  …  0.0, 0.021874826412922266, -0.04174647160304997, 0.0, -0.04174647160304997, 2.0442290349993906, 0.0, 0.0, 0.0, 0.0], [-4.17752951610185, 1.3975191738117843, 0.0, 1.3975191738117843, -0.38150885041209914, 0.0, 0.0, 0.0, 0.0, -4.02851382720587  …  0.0, -4.430172858108198, 1.3717153818334173, 0.0, 1.3717153818334173, -0.3810095367331232, 0.0, 0.0, 0.0, 0.0], [0.6767379816092701, -0.1348384398724097, 0.0, -0.1348384398724097, 1.0116580294992454, 0.0, 0.0, 0.0, 0.0, 0.6485479320126599  …  0.0, 0.615846792037992, -0.12610914496810247, 0.0, -0.12610914496810247, 0.991055453926032, 0.0, 0.0, 0.0, 0.0], [1.27253661985135, -0.16748239228600795, 0.0, -0.16748239228600795, 1.0525691627999598, 0.0, 0.0, 0.0, 0.0, 1.3315757800562702  …  0.0, 1.1744020776053694, -0.2165986011999899, 0.0, -0.2165986011999899, 0.9682758872645996, 0.0, 0.0, 0.0, 0.0], [0.0010118125954304835, 0.04727618047293675, 0.0, 0.04727618047293675, 1.4881740498760592, 0.0, 0.0, 0.0, 0.0, 0.005092081082717803  …  0.0, -0.009345888814540015, 0.05772983281456433, 0.0, 0.05772983281456433, 1.4827464984037764, 0.0, 0.0, 0.0, 0.0], [1.4628798112037003, 0.09237068883614438, 0.0, 0.09237068883614438, 0.9090016551085253, 0.0, 0.0, 0.0, 0.0, 1.792189570026241  …  0.0, 1.5794403195966729, -0.0147638514872073, 0.0, -0.0147638514872073, 0.916756766617915, 0.0, 0.0, 0.0, 0.0], [-0.002393060609227504, -0.045455745142612476, 0.0, -0.045455745142612476, 1.7321316001807348, 0.0, 0.0, 0.0, 0.0, 0.006385848465621624  …  0.0, -0.00753862164532193, -0.04696080231838881, 0.0, -0.04696080231838881, 1.7054242204940888, 0.0, 0.0, 0.0, 0.0], [0.6860241466067899, 1.4847636364368264, 0.0, 1.4847636364368264, 0.258437236032944, 0.0, 0.0, 0.0, 0.0, 0.6696076395455358  …  0.0, 0.6254302551876219, 1.493785100828914, 0.0, 1.493785100828914, 0.24140402682068943, 0.0, 0.0, 0.0, 0.0], [-0.007854893299100496, 0.14338249422369367, 0.0, 0.14338249422369367, 1.6970180775607184, 0.0, 0.0, 0.0, 0.0, -0.04536936578444106  …  0.0, 0.028750463500494705, 0.10043566099506658, 0.0, 0.10043566099506658, 1.653767275059566, 0.0, 0.0, 0.0, 0.0], [-2.5948050190249505, 1.1369431939682129, 0.0, 1.1369431939682129, -0.5615369182887808, 0.0, 0.0, 0.0, 0.0, -2.1663558177792592  …  0.0, -2.4941813126000745, 0.9728287519747908, 0.0, 0.9728287519747908, -0.4503996748309621, 0.0, 0.0, 0.0, 0.0]], [617, 618, 619, 620, 621, 622, 623, 624, 625, 626  …  10149, 10150, 10151, 10152, 10153, 10154, 10155, 10156, 10157, 10158])"
      ]
     },
     "execution_count": 63,
     "metadata": {},
     "output_type": "execute_result"
    }
   ],
   "source": [
    "S = solveStressPlaneStress(problem, q)"
   ]
  },
  {
   "cell_type": "code",
   "execution_count": 64,
   "metadata": {},
   "outputs": [],
   "source": [
    "gmsh.option.setNumber(\"View.IntervalsType\", 3)\n",
    "gmsh.option.setNumber(\"View.VectorType\", 5)\n",
    "gmsh.option.setString(\"View.Format\", \"%.6g\")"
   ]
  },
  {
   "cell_type": "code",
   "execution_count": 65,
   "metadata": {},
   "outputs": [
    {
     "data": {
      "text/plain": [
       "1"
      ]
     },
     "execution_count": 65,
     "metadata": {},
     "output_type": "execute_result"
    }
   ],
   "source": [
    "#u = showResultUvec(problem, q, name=\"uvec\", visible=false)\n",
    "#ux = showResultUX(problem, q, name=\"ux\", visible=false)\n",
    "#uy = showResultUY(problem, q, name=\"uy\", visible=false)\n",
    "#s = showResultS(problem, S, name=\"σ\", visible=false, smooth=false)\n",
    "#sx = showResultSX(problem, S, name=\"σx\", visible=false, smooth=false)\n",
    "sy = showResultSY(problem, S, name=\"σy\", visible=true, smooth=false)\n",
    "#sxy = showResultSXY(problem, S, name=\"τxy\", visible=false, smooth=false)"
   ]
  },
  {
   "cell_type": "code",
   "execution_count": 66,
   "metadata": {},
   "outputs": [],
   "source": [
    "pp1 = gmsh.model.occ.addPoint(0, height / 2, 0)\n",
    "pp2 = gmsh.model.occ.addPoint(base / 4, height / 2, 0)\n",
    "pp3 = gmsh.model.occ.addPoint(base / 8, height / 4, 0)\n",
    "\n",
    "pl1 = gmsh.model.occ.addLine(pp1, pp2)\n",
    "pl2 = gmsh.model.occ.addSpline([pp1, pp3, pp2])\n",
    "\n",
    "\n",
    "gmsh.model.occ.synchronize()"
   ]
  },
  {
   "cell_type": "code",
   "execution_count": 67,
   "metadata": {},
   "outputs": [],
   "source": [
    "#plotOnPath(problem, pl1, s, 100, name=\"σred\", visible=false);"
   ]
  },
  {
   "cell_type": "code",
   "execution_count": 68,
   "metadata": {},
   "outputs": [],
   "source": [
    "#gmsh.option.setNumber(\"PostProcessing.Binary\", 1)\n",
    "#gmsh.option.setNumber(\"PostProcessing.SaveMesh\", 1)\n",
    "\n",
    "#gmsh.write(\"rect.msh\")\n",
    "#gmsh.write(\"rect.opt\")\n",
    "#gmsh.view.write(4, \"rect.pos\")"
   ]
  },
  {
   "cell_type": "code",
   "execution_count": 69,
   "metadata": {},
   "outputs": [
    {
     "name": "stdout",
     "output_type": "stream",
     "text": [
      "-------------------------------------------------------\n",
      "Version       : 4.12.0\n",
      "License       : GNU General Public License\n",
      "Build OS      : Linux64-sdk\n",
      "Build date    : 20231221\n",
      "Build host    : gmsh.info\n",
      "Build options : 64Bit ALGLIB[contrib] ANN[contrib] Bamg Blas[petsc] Blossom Cgns DIntegration Dlopen DomHex Eigen[contrib] Fltk Gmm[contrib] Hxt Jpeg Kbipack Lapack[petsc] LinuxJoystick MathEx[contrib] Med Mesh Metis[contrib] Mmg Mpeg Netgen ONELAB ONELABMetamodel OpenCASCADE OpenCASCADE-CAF OpenGL OpenMP OptHom PETSc Parser Plugins Png Post QuadMeshingTools QuadTri Solver TetGen/BR Voro++[contrib] WinslowUntangler Zlib\n",
      "FLTK version  : 1.4.0\n",
      "PETSc version : 3.14.4 (real arithmtic)\n",
      "OCC version   : 7.7.2\n",
      "MED version   : 4.1.0\n",
      "Packaged by   : geuzaine\n",
      "Web site      : https://gmsh.info\n",
      "Issue tracker : https://gitlab.onelab.info/gmsh/gmsh/issues\n",
      "-------------------------------------------------------\n"
     ]
    }
   ],
   "source": [
    "gmsh.fltk.run()"
   ]
  },
  {
   "cell_type": "code",
   "execution_count": 70,
   "metadata": {
    "slideshow": {
     "slide_type": ""
    },
    "tags": []
   },
   "outputs": [],
   "source": [
    "gmsh.finalize()"
   ]
  }
 ],
 "metadata": {
  "kernelspec": {
   "display_name": "Julia 1.10.0",
   "language": "julia",
   "name": "julia-1.9"
  },
  "language_info": {
   "file_extension": ".jl",
   "mimetype": "application/julia",
   "name": "julia",
   "version": "1.10.0"
  },
  "varInspector": {
   "cols": {
    "lenName": 16,
    "lenType": 16,
    "lenVar": 40
   },
   "kernels_config": {
    "python": {
     "delete_cmd_postfix": "",
     "delete_cmd_prefix": "del ",
     "library": "var_list.py",
     "varRefreshCmd": "print(var_dic_list())"
    },
    "r": {
     "delete_cmd_postfix": ") ",
     "delete_cmd_prefix": "rm(",
     "library": "var_list.r",
     "varRefreshCmd": "cat(var_dic_list()) "
    }
   },
   "types_to_exclude": [
    "module",
    "function",
    "builtin_function_or_method",
    "instance",
    "_Feature"
   ],
   "window_display": false
  }
 },
 "nbformat": 4,
 "nbformat_minor": 4
}
