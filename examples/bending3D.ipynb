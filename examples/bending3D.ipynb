{
 "cells": [
  {
   "cell_type": "code",
   "execution_count": 1,
   "metadata": {},
   "outputs": [],
   "source": [
    "using LinearAlgebra, SparseArrays\n",
    "import gmsh\n",
    "gmsh.initialize()\n",
    "\n",
    "include(\"../src/FEM.jl\")\n",
    "using .FEM"
   ]
  },
  {
   "cell_type": "code",
   "execution_count": 2,
   "metadata": {},
   "outputs": [
    {
     "data": {
      "text/plain": [
       "Main.FEM.Problem(\"bending3D\", \"Solid\", 3, 200000.0, 0.3, 7.85e-9, 1.0)"
      ]
     },
     "metadata": {},
     "output_type": "display_data"
    }
   ],
   "source": [
    "problem = FEM.Problem(\"bending3D\")"
   ]
  },
  {
   "cell_type": "code",
   "execution_count": 3,
   "metadata": {},
   "outputs": [
    {
     "name": "stdout",
     "output_type": "stream",
     "text": [
      "Info    : Reading 'bending3D.geo'...\n",
      "Info    : Meshing 1D...\n",
      "Info    : [  0%] Meshing curve 1 (Line)\n",
      "Info    : [ 10%] Meshing curve 2 (Line)\n",
      "Info    : [ 20%] Meshing curve 3 (Line)\n",
      "Info    : [ 30%] Meshing curve 4 (Line)\n",
      "Info    : [ 40%] Meshing curve 5 (Line)\n",
      "Info    : [ 50%] Meshing curve 6 (Line)\n",
      "Info    : [ 50%] Meshing curve 7 (Line)\n",
      "Info    : [ 60%] Meshing curve 8 (Line)\n",
      "Info    : [ 70%] Meshing curve 9 (Line)\n",
      "Info    : [ 80%] Meshing curve 10 (Line)\n",
      "Info    : [ 90%] Meshing curve 11 (Line)\n",
      "Info    : [100%] Meshing curve 12 (Line)\n",
      "Info    : Done meshing 1D (Wall 0.00200987s, CPU 0.002011s)\n",
      "Info    : Meshing 2D...\n",
      "Info    : [  0%] Meshing surface 1 (Plane, Frontal-Delaunay)\n",
      "Info    : [ 20%] Meshing surface 2 (Plane, Frontal-Delaunay)\n",
      "Info    : [ 40%] Meshing surface 3 (Plane, Frontal-Delaunay)\n",
      "Info    : [ 50%] Meshing surface 4 (Plane, Frontal-Delaunay)\n",
      "Info    : [ 70%] Meshing surface 5 (Plane, Frontal-Delaunay)\n",
      "Info    : [ 90%] Meshing surface 6 (Plane, Frontal-Delaunay)\n",
      "Info    : Done meshing 2D (Wall 0.00919514s, CPU 0.009169s)\n",
      "Info    : Meshing 3D...\n",
      "Info    : 3D Meshing 1 volume with 1 connected component\n",
      "Info    : Tetrahedrizing 86 nodes...\n",
      "Info    : Done tetrahedrizing 94 nodes (Wall 0.0012557s, CPU 0.000432s)\n",
      "Info    : Reconstructing mesh...\n",
      "Info    :  - Creating surface mesh\n",
      "Info    :  - Identifying boundary edges\n",
      "Info    :  - Recovering boundary\n",
      "Info    : Done reconstructing mesh (Wall 0.0024593s, CPU 0.001437s)\n",
      "Info    : Found volume 1\n",
      "Info    : It. 0 - 0 nodes created - worst tet radius 1 (nodes removed 0 0)\n",
      "Info    : 3D refinement terminated (87 nodes total):\n",
      "Info    :  - 0 Delaunay cavities modified for star shapeness\n",
      "Info    :  - 0 nodes could not be inserted\n",
      "Info    :  - 202 tetrahedra created in 8.2299e-05 sec. (2454464 tets/s)\n",
      "Info    : 0 node relocations\n",
      "Info    : Done meshing 3D (Wall 0.00663884s, CPU 0.003063s)\n",
      "Info    : Optimizing mesh...\n",
      "Info    : Optimizing volume 1\n",
      "Info    : Optimization starts (volume = 10000) with worst = 0.343555 / average = 0.656881:\n",
      "Info    : 0.00 < quality < 0.10 :         0 elements\n",
      "Info    : 0.10 < quality < 0.20 :         0 elements\n",
      "Info    : 0.20 < quality < 0.30 :         0 elements\n",
      "Info    : 0.30 < quality < 0.40 :         8 elements\n",
      "Info    : 0.40 < quality < 0.50 :        20 elements\n",
      "Info    : 0.50 < quality < 0.60 :        65 elements\n",
      "Info    : 0.60 < quality < 0.70 :        21 elements\n",
      "Info    : 0.70 < quality < 0.80 :         4 elements\n",
      "Info    : 0.80 < quality < 0.90 :        68 elements\n",
      "Info    : 0.90 < quality < 1.00 :         0 elements\n",
      "Info    : No ill-shaped tets in the mesh :-)\n",
      "Info    : 0.00 < quality < 0.10 :         0 elements\n",
      "Info    : 0.10 < quality < 0.20 :         0 elements\n",
      "Info    : 0.20 < quality < 0.30 :         0 elements\n",
      "Info    : 0.30 < quality < 0.40 :         8 elements\n",
      "Info    : 0.40 < quality < 0.50 :        20 elements\n",
      "Info    : 0.50 < quality < 0.60 :        65 elements\n",
      "Info    : 0.60 < quality < 0.70 :        21 elements\n",
      "Info    : 0.70 < quality < 0.80 :         4 elements\n",
      "Info    : 0.80 < quality < 0.90 :        68 elements\n",
      "Info    : 0.90 < quality < 1.00 :         0 elements\n",
      "Info    : Done optimizing mesh (Wall 0.000234518s, CPU 0.000235s)\n",
      "Info    : Meshing order 3 (curvilinear on)...\n",
      "Info    : [  0%] Meshing curve 1 order 3\n",
      "Info    : [ 10%] Meshing curve 2 order 3\n",
      "Info    : [ 20%] Meshing curve 3 order 3\n",
      "Info    : [ 20%] Meshing curve 4 order 3\n",
      "Info    : [ 30%] Meshing curve 5 order 3\n",
      "Info    : [ 30%] Meshing curve 6 order 3\n",
      "Info    : [ 40%] Meshing curve 7 order 3\n",
      "Info    : [ 40%] Meshing curve 8 order 3\n",
      "Info    : [ 50%] Meshing curve 9 order 3\n",
      "Info    : [ 50%] Meshing curve 10 order 3\n",
      "Info    : [ 60%] Meshing curve 11 order 3\n",
      "Info    : [ 60%] Meshing curve 12 order 3\n",
      "Info    : [ 70%] Meshing surface 1 order 3\n",
      "Info    : [ 70%] Meshing surface 2 order 3\n",
      "Info    : [ 80%] Meshing surface 3 order 3\n",
      "Info    : [ 80%] Meshing surface 4 order 3\n",
      "Info    : [ 90%] Meshing surface 5 order 3\n",
      "Info    : [ 90%] Meshing surface 6 order 3\n",
      "Info    : [100%] Meshing volume 1 order 3\n",
      "Info    : Surface mesh: worst distortion = 1 (0 elements in ]0, 0.2]); worst gamma = 0.828427\n",
      "Info    : Volume mesh: worst distortion = 1 (0 elements in ]0, 0.2])\n",
      "Info    : Done meshing order 3 (Wall 0.00353965s, CPU 0.003537s)\n",
      "Info    : 1319 nodes 426 elements\n",
      "Info    : Done reading 'bending3D.geo'\n"
     ]
    }
   ],
   "source": [
    "gmsh.open(\"bending3D.geo\")"
   ]
  },
  {
   "cell_type": "code",
   "execution_count": 4,
   "metadata": {},
   "outputs": [
    {
     "name": "stdout",
     "output_type": "stream",
     "text": [
      "-------------------------------------------------------\n",
      "Version       : 4.12.2\n",
      "License       : GNU General Public License\n",
      "Build OS      : Linux64-sdk\n",
      "Build date    : 20240121\n",
      "Build host    : gmsh.info\n",
      "Build options : 64Bit ALGLIB[contrib] ANN[contrib] Bamg Blas[petsc] Blossom Cgns DIntegration Dlopen DomHex Eigen[contrib] Fltk Gmm[contrib] Hxt Jpeg Kbipack Lapack[petsc] LinuxJoystick MathEx[contrib] Med Mesh Metis[contrib] Mmg Mpeg Netgen ONELAB ONELABMetamodel OpenCASCADE OpenCASCADE-CAF OpenGL OpenMP OptHom PETSc Parser Plugins Png Post QuadMeshingTools QuadTri Solver TetGen/BR Voro++[contrib] WinslowUntangler Zlib\n",
      "FLTK version  : 1.4.0\n",
      "PETSc version : 3.14.4 (real arithmtic)\n",
      "OCC version   : 7.7.2\n",
      "MED version   : 4.1.0\n",
      "Packaged by   : geuzaine\n",
      "Web site      : https://gmsh.info\n",
      "Issue tracker : https://gitlab.onelab.info/gmsh/gmsh/issues\n",
      "-------------------------------------------------------\n"
     ]
    }
   ],
   "source": [
    "gmsh.fltk.run()"
   ]
  },
  {
   "cell_type": "code",
   "execution_count": 5,
   "metadata": {},
   "outputs": [],
   "source": [
    "# Néhány láthatósági beállítás 0:kikapcs. 1:bekapcs.\n",
    "gmsh.option.setNumber(\"Geometry.CurveLabels\", 0)\n",
    "gmsh.option.setNumber(\"Geometry.Points\", 0)\n",
    "gmsh.option.setNumber(\"Geometry.Curves\", 0)\n",
    "gmsh.option.setNumber(\"Mesh.Points\", 0)\n",
    "gmsh.option.setNumber(\"Mesh.Lines\", 0)\n",
    "gmsh.option.setNumber(\"Mesh.SurfaceEdges\", 0)\n",
    "gmsh.option.setNumber(\"Mesh.NodeLabels\", 0)\n",
    "gmsh.option.setNumber(\"Mesh.LineLabels\", 0)\n",
    "gmsh.option.setNumber(\"Mesh.SurfaceLabels\", 0)"
   ]
  },
  {
   "cell_type": "code",
   "execution_count": 6,
   "metadata": {},
   "outputs": [
    {
     "data": {
      "text/plain": [
       "3957×3957 SparseMatrixCSC{Float64, Int64} with 456471 stored entries:\n",
       "⎡⣿⣿⣽⢩⠛⣿⣷⣤⣤⣼⢻⣤⠠⠤⣿⣷⣤⣤⢼⣳⣤⣤⢼⣧⣶⣼⣧⣴⣮⢥⣭⣤⣿⣷⣧⢼⡟⣿⣿⣤⎤\n",
       "⎢⡗⣛⣻⣾⡀⣛⡛⠛⣛⣻⣶⣶⣶⣗⣷⡶⠾⢷⣾⣛⣛⣛⣻⣾⣾⣟⡷⣛⣛⣳⣻⣟⣻⣟⣻⣿⡃⣒⣿⣒⎥\n",
       "⎢⣿⣤⣤⢨⣿⣿⣤⠤⠤⣼⠯⠉⠩⠩⣿⠤⠤⠤⢸⡯⠭⠭⢽⡯⠬⢽⡧⠬⢼⡯⣿⠥⣥⠭⠭⣥⣿⡿⣿⠤⎥\n",
       "⎢⠙⣿⣿⠈⠀⡟⢻⣶⡀⣿⠑⠄⠀⠀⡏⠳⢄⡀⢸⠻⣦⡀⢨⢷⠞⣬⠷⣶⢏⠀⠉⢀⡿⡿⣆⠹⠇⣠⢌⣤⎥\n",
       "⎢⣀⣿⣿⣸⣀⣧⣤⣬⣿⣿⣀⣀⣀⣐⣃⣀⣘⣓⣸⣤⣌⣻⣾⣠⣸⣇⣄⣥⣟⣒⣶⣟⣇⣧⣿⣾⣆⣁⣈⣉⎥\n",
       "⎢⠛⣶⢸⣿⡏⠃⠑⠄⠀⢸⠻⣦⡄⢸⡟⠷⣆⠀⣾⢷⣦⠀⢸⣵⠾⣘⢧⣴⡝⠃⠀⠀⣵⣷⡇⢰⡏⢉⣙⣀⎥\n",
       "⎢⠀⡆⢼⢿⡇⡂⠀⠀⢀⢸⣀⣉⣻⣾⣧⡄⠘⢷⢿⢀⣈⣿⣼⣉⠠⡇⠀⢓⢶⣶⣾⡓⣌⣉⣾⣶⡆⠉⡋⠉⎥\n",
       "⎢⢿⣿⢹⡿⠛⡟⢯⡉⠉⢸⢿⡍⠉⠿⡿⣯⡍⠉⣯⣉⠀⠉⠹⣯⣭⠩⣍⣩⡽⠿⠛⠉⢭⣯⡿⢻⡝⠋⠻⠉⎥\n",
       "⎢⠀⣿⢾⣇⠀⡇⠀⠱⢶⢸⠈⠙⢶⣄⡇⠉⢻⣶⡯⠀⠉⠀⠘⠉⠡⡏⠙⠷⠶⣦⣰⢶⠟⠍⢶⣶⡁⠚⠻⠛⎥\n",
       "⎢⢶⣳⣾⢻⡶⡶⣶⡒⠒⣾⢾⣟⠛⢓⡏⢻⠋⠋⢻⣶⡖⠒⢲⢺⣿⢳⡏⢒⡶⠞⠿⠓⣾⣷⡚⢻⠲⠖⠿⠒⎥\n",
       "⎢⠀⣿⣿⢸⡇⡇⠈⠻⣦⣹⠈⠛⣦⣼⡄⠀⠃⠀⢸⠉⢻⣶⣼⠛⢉⡖⠀⣏⣥⣄⣤⣴⡟⡿⣧⣈⡃⠴⡶⠶⎥\n",
       "⎢⠶⣷⣻⣾⡷⡷⢦⣖⠚⣻⢖⣶⡖⢻⡷⣦⡖⠀⣸⣒⣶⠛⢻⣶⣸⢳⣴⡖⠄⠓⠛⠃⢷⣶⡟⠓⡷⠶⠖⠒⎥\n",
       "⎢⣘⣿⣾⢿⣆⣇⡚⣥⠶⢾⣚⢣⠤⠦⡇⡛⡥⠦⢿⣛⢣⠴⢶⣚⢻⣶⣣⠈⡃⠂⠀⠶⣾⣿⠰⠾⣅⢠⣤⣤⎥\n",
       "⎢⢉⣿⣽⢫⡉⡏⢹⣧⠄⣽⢉⣷⢤⢀⡇⣹⢷⡄⢫⢉⡤⢤⢰⠿⡉⠚⠿⣧⡡⠀⠠⢤⣽⣿⣤⢰⡏⡴⠳⠶⎥\n",
       "⎢⠎⣟⢿⣸⡶⡷⠋⠑⢻⢹⠷⠉⢸⣷⣷⡏⠸⣧⣸⠏⠁⢿⢤⠁⠩⠈⠁⠊⣿⣿⣿⣼⠏⠋⣷⣿⠱⠂⠲⠀⎥\n",
       "⎢⠃⣿⣿⢾⠟⡟⠃⢀⣼⢿⠀⠀⢾⠻⡟⠀⢰⣞⢿⠃⢀⣿⠿⠀⢠⡄⠀⣆⣛⣿⢿⣷⡅⡀⣻⣿⠟⠷⠾⠶⎥\n",
       "⎢⢿⣿⣿⢾⡅⡟⣿⡯⠭⣽⢵⣿⡆⢹⡧⣷⡟⠅⢾⣿⣿⡭⢹⣷⣾⣿⣷⣿⡯⠁⠁⠩⣿⣿⡯⢹⡇⠀⡏⠀⎥\n",
       "⎢⣉⣟⣿⣾⠇⣧⣌⡙⣻⣿⢉⣉⢺⣿⣿⣋⢸⣷⣾⣈⡉⢻⢿⠉⣰⡆⢀⣛⣽⣿⣿⣾⣏⣋⣿⣿⡇⠀⢚⠀⎥\n",
       "⎢⣿⣭⢩⢨⣿⡿⠉⣡⠌⢹⡏⢉⡌⠉⡷⠉⣡⠈⢸⠆⢉⡌⢹⡏⠁⣙⢋⡭⠱⠂⢿⡅⠉⠉⠉⠉⣿⣿⣷⣤⎥\n",
       "⎣⠛⣿⢻⢻⠛⡟⠂⣵⡆⢸⠓⢸⡏⠈⡟⠂⣿⠂⢻⠃⢸⡏⢸⠁⠀⣿⢹⡆⠘⠂⢺⡇⠋⠉⠚⠐⠙⣿⣿⣿⎦"
      ]
     },
     "metadata": {},
     "output_type": "display_data"
    }
   ],
   "source": [
    "K = FEM.stiffnessMatrix(problem)"
   ]
  },
  {
   "cell_type": "code",
   "execution_count": 7,
   "metadata": {},
   "outputs": [
    {
     "data": {
      "text/plain": [
       "(\"load\", 0, -1, 0)"
      ]
     },
     "metadata": {},
     "output_type": "display_data"
    }
   ],
   "source": [
    "supp = FEM.displacementConstraint(\"supp\", ux=0, uy=0, uz=0)\n",
    "load = FEM.traction(\"load\", fy=-1)"
   ]
  },
  {
   "cell_type": "code",
   "execution_count": 8,
   "metadata": {},
   "outputs": [
    {
     "data": {
      "text/plain": [
       "(sparse([1, 2, 3, 4, 5, 6, 7, 8, 9, 10  …  3930, 3940, 3941, 3942, 3952, 3953, 3954, 3955, 3956, 3957], [1, 2, 3, 4, 5, 6, 7, 8, 9, 10  …  3957, 3957, 3957, 3957, 3957, 3957, 3957, 3957, 3957, 3957], [1.0, 1.0, 1.0, 1.0, 1.0, 1.0, 1.0, 1.0, 1.0, 1.0  …  -111263.73626327184, -2.033710018167767e-7, -417239.01098897494, -194711.5384620511, -2.363221938139759e-7, 2.3431130102835596e-7, -166895.60439514305, -4.81745075830986e-7, 4.772506727590553e-7, 2.280906593405065e6], 3957, 3957), [0.0; 0.0; … ; 0.0; 0.0;;])"
      ]
     },
     "metadata": {},
     "output_type": "display_data"
    }
   ],
   "source": [
    "K, f = FEM.applyBoundaryConditions!(problem, K, [supp], [load])"
   ]
  },
  {
   "cell_type": "code",
   "execution_count": 9,
   "metadata": {},
   "outputs": [
    {
     "data": {
      "text/plain": [
       "3957×1 Matrix{Float64}:\n",
       "  0.0\n",
       "  0.0\n",
       "  0.0\n",
       "  0.0\n",
       "  0.0\n",
       "  0.0\n",
       "  0.0\n",
       "  0.0\n",
       "  0.0\n",
       "  0.0\n",
       "  ⋮\n",
       "  0.003631792246852705\n",
       " -0.058691448041721335\n",
       "  5.184883834508301e-5\n",
       " -0.007271852809419789\n",
       " -0.058769019734762805\n",
       " -5.170150221969204e-5\n",
       " -0.007271839248953249\n",
       " -0.058769185002445726\n",
       "  5.1599762504800414e-5"
      ]
     },
     "metadata": {},
     "output_type": "display_data"
    }
   ],
   "source": [
    "q = FEM.solveDisplacement(K, f)"
   ]
  },
  {
   "cell_type": "code",
   "execution_count": 10,
   "metadata": {},
   "outputs": [
    {
     "data": {
      "text/plain": [
       "Main.FEM.StressField([[59.47684351178468, -0.4300961528011411, 0.2788649985126678, -0.4300961528011411, 0.1129948403914085, -0.33300406348256845, 0.2788649985126678, -0.33300406348256845, 1.979261340838308, 0.5957717102170892  …  -0.17941961323333278, -36.9526891534216, -0.5826548504692879, 0.3829204990187577, -0.5826548504692879, 0.14567426727113642, 0.11865942972343078, 0.3829204990187577, 0.11865942972343078, 0.14043215361232697], [38.972887582833124, 0.04305896336231871, -0.012786429098024792, 0.04305896336231871, -0.0206212444092273, -0.001328643996639362, -0.012786429098024792, -0.001328643996639362, -0.035068520073934906, -39.11295867955725  …  -0.006138806205283771, -25.347876943095997, -0.7472658860230617, 0.0008061028971433155, -0.7472658860230617, -0.002617671477631589, 0.0030041300573592396, 0.0008061028971433155, 0.0030041300573592396, -0.010253013975813907], [51.02032054852775, -0.017985418987780864, -0.0061754468213190425, -0.017985418987780864, 0.005036936102726486, -0.0028649177923370872, -0.0061754468213190425, -0.0028649177923370872, -0.006744892921819456, 53.75239497059829  …  -0.01595020205664799, 17.371564765705937, -1.2789951056084476, -0.018781506552668983, -1.2789951056084476, 0.01506147650863543, 0.008970201651595715, -0.018781506552668983, 0.008970201651595715, -0.010404892338509164], [44.92523441952926, 0.04831505193277234, -0.02017889791425919, 0.04831505193277234, -0.03411628102424302, 8.332369898534149e-5, -0.02017889791425919, 8.332369898534149e-5, -0.03197838151269572, 0.01704679083936913  …  0.0019047017563234014, -29.355837724083127, -0.8712529300286622, 0.04097926421217793, -0.8712529300286622, -0.0013042024921059436, 0.004019974043525758, 0.04097926421217793, 0.004019974043525758, -0.011027663578027536], [50.99382030536884, -0.020959099107077387, -0.008607542026545921, -0.020959099107077387, -0.006320310965609366, -0.002864917792243388, -0.008607542026545921, -0.002864917792243388, -0.018102139989983, 0.008671050172445367  …  -0.00601326195534746, 16.664300681884004, -1.268828968738921, -0.004815367181780255, -1.268828968738921, -0.0031890793738105216, -0.0010781594495168781, -0.004815367181780255, -0.0010781594495168781, -0.002196073301644841], [53.48188329809547, -0.007919206160912623, -0.31341918653067385, -0.007919206160912623, -0.13623689931469585, 0.06886419435240257, -0.31341918653067385, 0.06886419435240257, -0.26385056507363913, -51.154384675800536  …  -0.01786411642649366, -17.029835685641537, -1.2283694739537552, -0.005707580227565613, -1.2283694739537552, -0.016654665944190405, -0.001774394996540098, -0.005707580227565613, -0.001774394996540098, -0.0078419145962223], [14.913883497347324, 0.029714592399790636, 0.0066635485644844115, 0.029714592399790636, -0.037007319372967196, 0.0012136274284599285, 0.0066635485644844115, 0.0012136274284599285, -0.03452701327788876, -0.034134052589361245  …  0.004677692479845888, -4.674471941086329, -1.269044009925301, 0.007439779026202528, -1.269044009925301, 0.003816145156980255, 0.0010158072748287538, 0.007439779026202528, 0.0010158072748287538, -0.005858845841042459], [-36.15352209324717, -0.18554432897064013, 0.12499479250490772, -0.18554432897064013, -0.05335532947886357, -0.001585923114173358, 0.12499479250490772, -0.001585923114173358, -0.030449620691026524, 33.03225078674517  …  0.007889884576750994, -0.03969426010966548, -1.4262624038955054, 0.00045102089405810153, -1.4262624038955054, -0.014812746940111728, -0.0003186872633456717, 0.00045102089405810153, -0.0003186872633456717, -0.016150041628204673], [0.22578364076891994, -0.8001813104800214, -0.14387603862997866, -0.8001813104800214, 0.19803897124580744, -0.48772155220288554, -0.14387603862997866, -0.48772155220288554, 0.172410420258233, 53.68398492014997  …  -0.12217426286724242, 18.00095454110639, -1.3169003620762318, 0.0714125670929735, -1.3169003620762318, 0.11150890382309164, -0.041112037645586075, 0.0714125670929735, -0.041112037645586075, 0.040569502952312764], [0.8097364399664853, -0.6117972827209428, -0.2565557035120738, -0.6117972827209428, 0.16520076290265373, -0.6212927174432166, -0.2565557035120738, -0.6212927174432166, 0.20965812844960718, -52.52207434383016  …  -0.006254174959256842, -18.954057679518925, -1.4878889251863754, 0.06433805256406516, -1.4878889251863754, -0.05804023607948583, 0.17272207812605567, 0.06433805256406516, 0.17272207812605567, -0.22565540344139157]  …  [0.3104911789524535, -0.257944633789336, 0.03365900350134327, -0.257944633789336, -0.3302110792180415, -0.07983093836082691, 0.03365900350134327, -0.07983093836082691, 0.035785871660790614, 0.06800838896411746  …  -0.015236617026451266, 0.5648345848952453, -1.318453553075591, 0.005329709984549703, -1.318453553075591, 0.06980810500338572, 0.03184964468283633, 0.005329709984549703, 0.03184964468283633, 0.010540990076268485], [-0.05132784352363594, -1.71853866916143, -0.039566230530275255, -1.71853866916143, 0.0821647554432328, -0.01808579805762972, -0.039566230530275255, -0.01808579805762972, -0.02878505103552259, -0.07090642987956852  …  0.015241948056899823, -0.5744680180551537, -0.7754522159242968, -0.030329961365776256, -0.7754522159242968, 0.2075561485428421, 0.0014379659739891621, -0.030329961365776256, 0.0014379659739891621, 0.07659703014979155], [-0.024923812227680996, -1.7157733058414237, -0.006273573039937335, -1.7157733058414237, 0.004389295274124398, 0.0027884223302651594, -0.006273573039937335, 0.0027884223302651594, 0.005895879446335586, -29.90762302692177  …  0.0059407676290685885, -19.331609825435002, -0.7788899858698799, 0.04056969528995829, -0.7788899858698799, -0.000618030352483423, -0.001230228232360084, 0.04056969528995829, -0.001230228232360084, 0.0009531184476827548], [-0.0446951227436031, -1.7170647800681602, 0.005033597464288974, -1.7170647800681602, -0.007607064757071711, -0.006285728060255641, 0.005033597464288974, -0.006285728060255641, -0.0020952418199664397, -27.03838228061639  …  -0.005682393002825581, -19.332970652378382, -0.7799186332502953, -0.04040468859197247, -0.7799186332502953, -0.002750497709752331, 0.0004918065522892563, -0.04040468859197247, 0.0004918065522892563, -0.001088449351240861], [29.909564042082188, -0.08701990931983575, 0.08414376157112587, -0.08701990931983575, -0.014368283650600944, -0.010163551324891393, 0.08414376157112587, -0.010163551324891393, -0.029012450814157376, 27.020454557574066  …  0.0046291333360222175, 9.319367347480133, -1.2593020348701203, 0.012851454150918833, -1.2593020348701203, -0.006147950564751259, -0.00011633056016988009, 0.012851454150918833, -0.00011633056016988009, -0.002335121555541164], [-0.006120394182809142, -1.7214969763501582, -0.0027019519306428585, -1.7214969763501582, -0.009767925313928751, 0.0003263946125651146, -0.0027019519306428585, 0.0003263946125651146, -0.011776277839621537, 27.047873509128866  …  0.00524455454646322, 19.333679409749614, -0.7795960431009906, -0.040740843930594385, -0.7795960431009906, 0.0006983319655198272, -0.0018194057013185402, -0.040740843930594385, -0.0018194057013185402, -0.0022032187731650943], [30.091973372829305, -0.08683287512777581, 0.083641105079677, -0.08683287512777581, 0.01276642191835542, 0.009030966059689501, 0.083641105079677, 0.009030966059689501, 0.028909776828488276, -0.044001536916048536  …  -0.0009675437075653548, 10.68732075721218, -1.2615623745697195, 0.01507958407857296, -1.2615623745697195, 0.00763064806665259, 2.382977050397803e-5, 0.01507958407857296, 2.382977050397803e-5, 0.002113064761981809], [30.09197524163227, -0.08666673085389592, -0.08364700698018261, -0.08666673085389592, 0.01622910125088417, -0.008115452029325527, -0.08364700698018261, -0.008115452029325527, 0.030797922055212368, 32.93348324778327  …  -0.00850950350419688, 10.686654966957592, -1.2615480331917412, -0.013318219286623018, -1.2615480331917412, 0.0048845564482995485, 0.0014613162201304603, -0.013318219286623018, 0.0014613162201304603, 0.006624247790394833], [-30.089322505847367, -0.08737788321311885, -0.08409547026727157, -0.08737788321311885, -0.012208355601270426, 0.01020491370830939, -0.08409547026727157, 0.01020491370830939, -0.028029708814815812, -32.96202185601758  …  0.00443011690834294, -10.683910688114738, -1.2617983440375098, -0.01428153627798131, -1.2617983440375098, -0.006507621627296345, -0.00012982299319512272, -0.01428153627798131, -0.00012982299319512272, -0.0023782839113286602], [0.005436995820638381, -1.717265747098337, -0.003497530272570097, -1.717265747098337, -0.008017813656063532, -0.004349425118812238, -0.003497530272570097, -0.004349425118812238, -0.004000769759516652, -32.93150161582252  …  0.006911526471220952, -20.66870836778997, -0.7795612048778723, 0.0412103991718367, -0.7795612048778723, 0.0005961616176648477, 0.0018422171475533235, 0.0412103991718367, 0.0018422171475533235, -0.0031339781239192455]], [9, 10, 11, 12, 13, 14, 15, 16, 17, 18  …  201, 202, 203, 204, 205, 206, 207, 208, 209, 210])"
      ]
     },
     "metadata": {},
     "output_type": "display_data"
    }
   ],
   "source": [
    "S = FEM.solveStress(problem, q)"
   ]
  },
  {
   "cell_type": "code",
   "execution_count": 11,
   "metadata": {},
   "outputs": [],
   "source": [
    "gmsh.option.setNumber(\"View.IntervalsType\", 3)\n",
    "gmsh.option.setNumber(\"View.VectorType\", 5)\n",
    "gmsh.option.setString(\"View.Format\", \"%.6g\")"
   ]
  },
  {
   "cell_type": "code",
   "execution_count": 12,
   "metadata": {},
   "outputs": [
    {
     "data": {
      "text/plain": [
       "\"uvec..ok\""
      ]
     },
     "metadata": {},
     "output_type": "display_data"
    },
    {
     "data": {
      "text/plain": [
       "\"ux..ok\""
      ]
     },
     "metadata": {},
     "output_type": "display_data"
    },
    {
     "data": {
      "text/plain": [
       "\"uy..ok\""
      ]
     },
     "metadata": {},
     "output_type": "display_data"
    },
    {
     "data": {
      "text/plain": [
       "\"uz..ok\""
      ]
     },
     "metadata": {},
     "output_type": "display_data"
    },
    {
     "data": {
      "text/plain": [
       "\"s..ok\""
      ]
     },
     "metadata": {},
     "output_type": "display_data"
    },
    {
     "data": {
      "text/plain": [
       "\"sx..ok\""
      ]
     },
     "metadata": {},
     "output_type": "display_data"
    },
    {
     "data": {
      "text/plain": [
       "\"sy..ok\""
      ]
     },
     "metadata": {},
     "output_type": "display_data"
    },
    {
     "data": {
      "text/plain": [
       "\"sz..ok\""
      ]
     },
     "metadata": {},
     "output_type": "display_data"
    },
    {
     "data": {
      "text/plain": [
       "\"sxy..ok\""
      ]
     },
     "metadata": {},
     "output_type": "display_data"
    },
    {
     "data": {
      "text/plain": [
       "\"syz..ok\""
      ]
     },
     "metadata": {},
     "output_type": "display_data"
    },
    {
     "data": {
      "text/plain": [
       "\"szx..ok\""
      ]
     },
     "metadata": {},
     "output_type": "display_data"
    },
    {
     "name": "stdout",
     "output_type": "stream",
     "text": [
      "Info    : Running Plugin(Smooth)...\n",
      "Info    : Done running Plugin(Smooth)\n",
      "Info    : Running Plugin(Smooth)...\n",
      "Info    : Done running Plugin(Smooth)\n",
      "Info    : Running Plugin(Smooth)...\n",
      "Info    : Done running Plugin(Smooth)\n",
      "Info    : Running Plugin(Smooth)...\n",
      "Info    : Done running Plugin(Smooth)\n",
      "Info    : Running Plugin(Smooth)...\n",
      "Info    : Done running Plugin(Smooth)\n",
      "Info    : Running Plugin(Smooth)...\n",
      "Info    : Done running Plugin(Smooth)\n",
      "Info    : Running Plugin(Smooth)...\n",
      "Info    : Done running Plugin(Smooth)\n"
     ]
    },
    {
     "data": {
      "text/plain": [
       "11"
      ]
     },
     "metadata": {},
     "output_type": "display_data"
    }
   ],
   "source": [
    "u = FEM.showDoFResults(problem, q, \"uvec\", name=\"uvec\", visible=false)\n",
    "ux = FEM.showDoFResults(problem, q, \"ux\", name=\"ux\", visible=false)\n",
    "uy = FEM.showDoFResults(problem, q, \"uy\", name=\"uy\", visible=false)\n",
    "uz = FEM.showDoFResults(problem, q, \"uz\", name=\"uz\", visible=false)\n",
    "s = FEM.showStressResults(problem, S, \"s\", name=\"σ\", visible=true, smooth=true)\n",
    "sx = FEM.showStressResults(problem, S, \"sx\", name=\"σx\", visible=false, smooth=true)\n",
    "sy = FEM.showStressResults(problem, S, \"sy\", name=\"σy\", visible=false, smooth=true)\n",
    "sz = FEM.showStressResults(problem, S, \"sz\", name=\"σz\", visible=false, smooth=true)\n",
    "sxy = FEM.showStressResults(problem, S, \"sxy\", name=\"τxy\", visible=false, smooth=true)\n",
    "syz = FEM.showStressResults(problem, S, \"syz\", name=\"τyz\", visible=false, smooth=true)\n",
    "szx = FEM.showStressResults(problem, S, \"szx\", name=\"τzx\", visible=false, smooth=true)"
   ]
  },
  {
   "cell_type": "code",
   "execution_count": 13,
   "metadata": {},
   "outputs": [],
   "source": [
    "FEM.plotOnPath(problem, \"path\", sx, 100, name=\"σx\", visible=false);\n",
    "FEM.plotOnPath(problem, \"path\", sxy, 100, name=\"τxy\", visible=false);\n",
    "FEM.plotOnPath(problem, \"path\", ux, 100, name=\"ux\", visible=false);"
   ]
  },
  {
   "cell_type": "code",
   "execution_count": 14,
   "metadata": {},
   "outputs": [],
   "source": [
    "#gmsh.option.setNumber(\"PostProcessing.Binary\", 1)\n",
    "#gmsh.option.setNumber(\"PostProcessing.SaveMesh\", 1)\n",
    "\n",
    "#gmsh.write(\"rect.msh\")\n",
    "#gmsh.write(\"rect.opt\")\n",
    "#gmsh.view.write(4, \"rect.pos\")"
   ]
  },
  {
   "cell_type": "code",
   "execution_count": 15,
   "metadata": {},
   "outputs": [
    {
     "name": "stdout",
     "output_type": "stream",
     "text": [
      "-------------------------------------------------------\n",
      "Version       : 4.12.2\n",
      "License       : GNU General Public License\n",
      "Build OS      : Linux64-sdk\n",
      "Build date    : 20240121\n",
      "Build host    : gmsh.info\n",
      "Build options : 64Bit ALGLIB[contrib] ANN[contrib] Bamg Blas[petsc] Blossom Cgns DIntegration Dlopen DomHex Eigen[contrib] Fltk Gmm[contrib] Hxt Jpeg Kbipack Lapack[petsc] LinuxJoystick MathEx[contrib] Med Mesh Metis[contrib] Mmg Mpeg Netgen ONELAB ONELABMetamodel OpenCASCADE OpenCASCADE-CAF OpenGL OpenMP OptHom PETSc Parser Plugins Png Post QuadMeshingTools QuadTri Solver TetGen/BR Voro++[contrib] WinslowUntangler Zlib\n",
      "FLTK version  : 1.4.0\n",
      "PETSc version : 3.14.4 (real arithmtic)\n",
      "OCC version   : 7.7.2\n",
      "MED version   : 4.1.0\n",
      "Packaged by   : geuzaine\n",
      "Web site      : https://gmsh.info\n",
      "Issue tracker : https://gitlab.onelab.info/gmsh/gmsh/issues\n",
      "-------------------------------------------------------\n"
     ]
    }
   ],
   "source": [
    "gmsh.fltk.run()"
   ]
  },
  {
   "cell_type": "code",
   "execution_count": 16,
   "metadata": {
    "slideshow": {
     "slide_type": ""
    },
    "tags": []
   },
   "outputs": [],
   "source": [
    "gmsh.finalize()"
   ]
  }
 ],
 "metadata": {
  "kernelspec": {
   "display_name": "Julia 1.10.0",
   "language": "julia",
   "name": "julia-1.10"
  },
  "language_info": {
   "file_extension": ".jl",
   "mimetype": "application/julia",
   "name": "julia",
   "version": "1.10.0"
  },
  "varInspector": {
   "cols": {
    "lenName": 16,
    "lenType": 16,
    "lenVar": 40
   },
   "kernels_config": {
    "python": {
     "delete_cmd_postfix": "",
     "delete_cmd_prefix": "del ",
     "library": "var_list.py",
     "varRefreshCmd": "print(var_dic_list())"
    },
    "r": {
     "delete_cmd_postfix": ") ",
     "delete_cmd_prefix": "rm(",
     "library": "var_list.r",
     "varRefreshCmd": "cat(var_dic_list()) "
    }
   },
   "types_to_exclude": [
    "module",
    "function",
    "builtin_function_or_method",
    "instance",
    "_Feature"
   ],
   "window_display": false
  }
 },
 "nbformat": 4,
 "nbformat_minor": 4
}
