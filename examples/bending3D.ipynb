{
 "cells": [
  {
   "cell_type": "code",
   "execution_count": 49,
   "metadata": {},
   "outputs": [
    {
     "name": "stderr",
     "output_type": "stream",
     "text": [
      "WARNING: replacing module FEM.\n"
     ]
    }
   ],
   "source": [
    "using LinearAlgebra, SparseArrays\n",
    "import gmsh\n",
    "gmsh.initialize()\n",
    "\n",
    "include(\"../src/FEM.jl\")\n",
    "using .FEM"
   ]
  },
  {
   "cell_type": "code",
   "execution_count": 50,
   "metadata": {},
   "outputs": [
    {
     "data": {
      "text/plain": [
       "Main.FEM.Problem(\"bending3D\", \"Solid\", 3, 200000.0, 0.3, 7.85e-9, 1.0)"
      ]
     },
     "metadata": {},
     "output_type": "display_data"
    }
   ],
   "source": [
    "problem = FEM.Problem(\"bending3D\")"
   ]
  },
  {
   "cell_type": "code",
   "execution_count": 51,
   "metadata": {},
   "outputs": [
    {
     "name": "stdout",
     "output_type": "stream",
     "text": [
      "Info    : Reading 'bending3D.geo'...\n",
      "Info    : Meshing 1D...\n",
      "Info    : [  0%] Meshing curve 1 (Line)\n",
      "Info    : [ 10%] Meshing curve 2 (Line)\n",
      "Info    : [ 20%] Meshing curve 3 (Line)\n",
      "Info    : [ 30%] Meshing curve 4 (Line)\n",
      "Info    : [ 40%] Meshing curve 5 (Line)\n",
      "Info    : [ 50%] Meshing curve 6 (Line)\n",
      "Info    : [ 50%] Meshing curve 7 (Line)\n",
      "Info    : [ 60%] Meshing curve 8 (Line)\n",
      "Info    : [ 70%] Meshing curve 9 (Line)\n",
      "Info    : [ 80%] Meshing curve 10 (Line)\n",
      "Info    : [ 90%] Meshing curve 11 (Line)\n",
      "Info    : [100%] Meshing curve 12 (Line)\n",
      "Info    : Done meshing 1D (Wall 0.00132849s, CPU 0.000371s)\n",
      "Info    : Meshing 2D...\n",
      "Info    : [  0%] Meshing surface 1 (Plane, Frontal-Delaunay)\n",
      "Info    : [ 20%] Meshing surface 2 (Plane, Frontal-Delaunay)\n",
      "Info    : [ 40%] Meshing surface 3 (Plane, Frontal-Delaunay)\n",
      "Info    : [ 50%] Meshing surface 4 (Plane, Frontal-Delaunay)\n",
      "Info    : [ 70%] Meshing surface 5 (Plane, Frontal-Delaunay)\n",
      "Info    : [ 90%] Meshing surface 6 (Plane, Frontal-Delaunay)\n",
      "Info    : Done meshing 2D (Wall 0.00670089s, CPU 0.006079s)\n",
      "Info    : Meshing 3D...\n",
      "Info    : 3D Meshing 1 volume with 1 connected component\n",
      "Info    : Tetrahedrizing 86 nodes...\n",
      "Info    : Done tetrahedrizing 94 nodes (Wall 0.00128266s, CPU 0.001281s)\n",
      "Info    : Reconstructing mesh...\n",
      "Info    :  - Creating surface mesh\n",
      "Info    :  - Identifying boundary edges\n",
      "Info    :  - Recovering boundary\n",
      "Info    : Done reconstructing mesh (Wall 0.00317978s, CPU 0.002821s)\n",
      "Info    : Found volume 1\n",
      "Info    : It. 0 - 0 nodes created - worst tet radius 1 (nodes removed 0 0)\n",
      "Info    : 3D refinement terminated (87 nodes total):\n",
      "Info    :  - 0 Delaunay cavities modified for star shapeness\n",
      "Info    :  - 0 nodes could not be inserted\n",
      "Info    :  - 202 tetrahedra created in 0.000184902 sec. (1092470 tets/s)\n",
      "Info    : 0 node relocations\n",
      "Info    : Done meshing 3D (Wall 0.00665686s, CPU 0.005816s)\n",
      "Info    : Optimizing mesh...\n",
      "Info    : Optimizing volume 1\n",
      "Info    : Optimization starts (volume = 10000) with worst = 0.343555 / average = 0.656881:\n",
      "Info    : 0.00 < quality < 0.10 :         0 elements\n",
      "Info    : 0.10 < quality < 0.20 :         0 elements\n",
      "Info    : 0.20 < quality < 0.30 :         0 elements\n",
      "Info    : 0.30 < quality < 0.40 :         8 elements\n",
      "Info    : 0.40 < quality < 0.50 :        20 elements\n",
      "Info    : 0.50 < quality < 0.60 :        65 elements\n",
      "Info    : 0.60 < quality < 0.70 :        21 elements\n",
      "Info    : 0.70 < quality < 0.80 :         4 elements\n",
      "Info    : 0.80 < quality < 0.90 :        68 elements\n",
      "Info    : 0.90 < quality < 1.00 :         0 elements\n",
      "Info    : No ill-shaped tets in the mesh :-)\n",
      "Info    : 0.00 < quality < 0.10 :         0 elements\n",
      "Info    : 0.10 < quality < 0.20 :         0 elements\n",
      "Info    : 0.20 < quality < 0.30 :         0 elements\n",
      "Info    : 0.30 < quality < 0.40 :         8 elements\n",
      "Info    : 0.40 < quality < 0.50 :        20 elements\n",
      "Info    : 0.50 < quality < 0.60 :        65 elements\n",
      "Info    : 0.60 < quality < 0.70 :        21 elements\n",
      "Info    : 0.70 < quality < 0.80 :         4 elements\n",
      "Info    : 0.80 < quality < 0.90 :        68 elements\n",
      "Info    : 0.90 < quality < 1.00 :         0 elements\n",
      "Info    : Done optimizing mesh (Wall 0.000446993s, CPU 0.000447s)\n",
      "Info    : Meshing order 3 (curvilinear on)...\n",
      "Info    : [  0%] Meshing curve 1 order 3\n",
      "Info    : [ 10%] Meshing curve 2 order 3\n",
      "Info    : [ 20%] Meshing curve 3 order 3\n",
      "Info    : [ 20%] Meshing curve 4 order 3\n",
      "Info    : [ 30%] Meshing curve 5 order 3\n",
      "Info    : [ 30%] Meshing curve 6 order 3\n",
      "Info    : [ 40%] Meshing curve 7 order 3\n",
      "Info    : [ 40%] Meshing curve 8 order 3\n",
      "Info    : [ 50%] Meshing curve 9 order 3\n",
      "Info    : [ 50%] Meshing curve 10 order 3\n",
      "Info    : [ 60%] Meshing curve 11 order 3\n",
      "Info    : [ 60%] Meshing curve 12 order 3\n",
      "Info    : [ 70%] Meshing surface 1 order 3\n",
      "Info    : [ 70%] Meshing surface 2 order 3\n",
      "Info    : [ 80%] Meshing surface 3 order 3\n",
      "Info    : [ 80%] Meshing surface 4 order 3\n",
      "Info    : [ 90%] Meshing surface 5 order 3\n",
      "Info    : [ 90%] Meshing surface 6 order 3\n",
      "Info    : [100%] Meshing volume 1 order 3\n",
      "Info    : Surface mesh: worst distortion = 1 (0 elements in ]0, 0.2]); worst gamma = 0.828427\n",
      "Info    : Volume mesh: worst distortion = 1 (0 elements in ]0, 0.2])\n",
      "Info    : Done meshing order 3 (Wall 0.00707805s, CPU 0.00639s)\n",
      "Info    : 1319 nodes 426 elements\n",
      "Info    : Done reading 'bending3D.geo'\n"
     ]
    }
   ],
   "source": [
    "gmsh.open(\"bending3D.geo\")"
   ]
  },
  {
   "cell_type": "code",
   "execution_count": 52,
   "metadata": {},
   "outputs": [
    {
     "name": "stdout",
     "output_type": "stream",
     "text": [
      "-------------------------------------------------------\n",
      "Version       : 4.12.2\n",
      "License       : GNU General Public License\n",
      "Build OS      : Linux64-sdk\n",
      "Build date    : 20240121\n",
      "Build host    : gmsh.info\n",
      "Build options : 64Bit ALGLIB[contrib] ANN[contrib] Bamg Blas[petsc] Blossom Cgns DIntegration Dlopen DomHex Eigen[contrib] Fltk Gmm[contrib] Hxt Jpeg Kbipack Lapack[petsc] LinuxJoystick MathEx[contrib] Med Mesh Metis[contrib] Mmg Mpeg Netgen ONELAB ONELABMetamodel OpenCASCADE OpenCASCADE-CAF OpenGL OpenMP OptHom PETSc Parser Plugins Png Post QuadMeshingTools QuadTri Solver TetGen/BR Voro++[contrib] WinslowUntangler Zlib\n",
      "FLTK version  : 1.4.0\n",
      "PETSc version : 3.14.4 (real arithmtic)\n",
      "OCC version   : 7.7.2\n",
      "MED version   : 4.1.0\n",
      "Packaged by   : geuzaine\n",
      "Web site      : https://gmsh.info\n",
      "Issue tracker : https://gitlab.onelab.info/gmsh/gmsh/issues\n",
      "-------------------------------------------------------\n"
     ]
    }
   ],
   "source": [
    "gmsh.fltk.run()"
   ]
  },
  {
   "cell_type": "code",
   "execution_count": 53,
   "metadata": {},
   "outputs": [],
   "source": [
    "# Néhány láthatósági beállítás 0:kikapcs. 1:bekapcs.\n",
    "gmsh.option.setNumber(\"Geometry.CurveLabels\", 0)\n",
    "gmsh.option.setNumber(\"Geometry.Points\", 0)\n",
    "gmsh.option.setNumber(\"Geometry.Curves\", 0)\n",
    "gmsh.option.setNumber(\"Mesh.Points\", 0)\n",
    "gmsh.option.setNumber(\"Mesh.Lines\", 0)\n",
    "gmsh.option.setNumber(\"Mesh.SurfaceEdges\", 0)\n",
    "gmsh.option.setNumber(\"Mesh.NodeLabels\", 0)\n",
    "gmsh.option.setNumber(\"Mesh.LineLabels\", 0)\n",
    "gmsh.option.setNumber(\"Mesh.SurfaceLabels\", 0)"
   ]
  },
  {
   "cell_type": "code",
   "execution_count": 54,
   "metadata": {},
   "outputs": [
    {
     "data": {
      "text/plain": [
       "3957×3957 SparseMatrixCSC{Float64, Int64} with 456471 stored entries:\n",
       "⎡⣿⣿⣽⢩⠛⣿⣷⣤⣤⣼⢻⣤⠠⠤⣿⣷⣤⣤⢼⣳⣤⣤⢼⣧⣶⣼⣧⣴⣮⢥⣭⣤⣿⣷⣧⢼⡟⣿⣿⣤⎤\n",
       "⎢⡗⣛⣻⣾⡀⣛⡛⠛⣛⣻⣶⣶⣶⣗⣷⡶⠾⢷⣾⣛⣛⣛⣻⣾⣾⣟⡷⣛⣛⣳⣻⣟⣻⣟⣻⣿⡃⣒⣿⣒⎥\n",
       "⎢⣿⣤⣤⢨⣿⣿⣤⠤⠤⣼⠯⠉⠩⠩⣿⠤⠤⠤⢸⡯⠭⠭⢽⡯⠬⢽⡧⠬⢼⡯⣿⠥⣥⠭⠭⣥⣿⡿⣿⠤⎥\n",
       "⎢⠙⣿⣿⠈⠀⡟⢻⣶⡀⣿⠑⠄⠀⠀⡏⠳⢄⡀⢸⠻⣦⡀⢨⢷⠞⣬⠷⣶⢏⠀⠉⢀⡿⡿⣆⠹⠇⣠⢌⣤⎥\n",
       "⎢⣀⣿⣿⣸⣀⣧⣤⣬⣿⣿⣀⣀⣀⣐⣃⣀⣘⣓⣸⣤⣌⣻⣾⣠⣸⣇⣄⣥⣟⣒⣶⣟⣇⣧⣿⣾⣆⣁⣈⣉⎥\n",
       "⎢⠛⣶⢸⣿⡏⠃⠑⠄⠀⢸⠻⣦⡄⢸⡟⠷⣆⠀⣾⢷⣦⠀⢸⣵⠾⣘⢧⣴⡝⠃⠀⠀⣵⣷⡇⢰⡏⢉⣙⣀⎥\n",
       "⎢⠀⡆⢼⢿⡇⡂⠀⠀⢀⢸⣀⣉⣻⣾⣧⡄⠘⢷⢿⢀⣈⣿⣼⣉⠠⡇⠀⢓⢶⣶⣾⡓⣌⣉⣾⣶⡆⠉⡋⠉⎥\n",
       "⎢⢿⣿⢹⡿⠛⡟⢯⡉⠉⢸⢿⡍⠉⠿⡿⣯⡍⠉⣯⣉⠀⠉⠹⣯⣭⠩⣍⣩⡽⠿⠛⠉⢭⣯⡿⢻⡝⠋⠻⠉⎥\n",
       "⎢⠀⣿⢾⣇⠀⡇⠀⠱⢶⢸⠈⠙⢶⣄⡇⠉⢻⣶⡯⠀⠉⠀⠘⠉⠡⡏⠙⠷⠶⣦⣰⢶⠟⠍⢶⣶⡁⠚⠻⠛⎥\n",
       "⎢⢶⣳⣾⢻⡶⡶⣶⡒⠒⣾⢾⣟⠛⢓⡏⢻⠋⠋⢻⣶⡖⠒⢲⢺⣿⢳⡏⢒⡶⠞⠿⠓⣾⣷⡚⢻⠲⠖⠿⠒⎥\n",
       "⎢⠀⣿⣿⢸⡇⡇⠈⠻⣦⣹⠈⠛⣦⣼⡄⠀⠃⠀⢸⠉⢻⣶⣼⠛⢉⡖⠀⣏⣥⣄⣤⣴⡟⡿⣧⣈⡃⠴⡶⠶⎥\n",
       "⎢⠶⣷⣻⣾⡷⡷⢦⣖⠚⣻⢖⣶⡖⢻⡷⣦⡖⠀⣸⣒⣶⠛⢻⣶⣸⢳⣴⡖⠄⠓⠛⠃⢷⣶⡟⠓⡷⠶⠖⠒⎥\n",
       "⎢⣘⣿⣾⢿⣆⣇⡚⣥⠶⢾⣚⢣⠤⠦⡇⡛⡥⠦⢿⣛⢣⠴⢶⣚⢻⣶⣣⠈⡃⠂⠀⠶⣾⣿⠰⠾⣅⢠⣤⣤⎥\n",
       "⎢⢉⣿⣽⢫⡉⡏⢹⣧⠄⣽⢉⣷⢤⢀⡇⣹⢷⡄⢫⢉⡤⢤⢰⠿⡉⠚⠿⣧⡡⠀⠠⢤⣽⣿⣤⢰⡏⡴⠳⠶⎥\n",
       "⎢⠎⣟⢿⣸⡶⡷⠋⠑⢻⢹⠷⠉⢸⣷⣷⡏⠸⣧⣸⠏⠁⢿⢤⠁⠩⠈⠁⠊⣿⣿⣿⣼⠏⠋⣷⣿⠱⠂⠲⠀⎥\n",
       "⎢⠃⣿⣿⢾⠟⡟⠃⢀⣼⢿⠀⠀⢾⠻⡟⠀⢰⣞⢿⠃⢀⣿⠿⠀⢠⡄⠀⣆⣛⣿⢿⣷⡅⡀⣻⣿⠟⠷⠾⠶⎥\n",
       "⎢⢿⣿⣿⢾⡅⡟⣿⡯⠭⣽⢵⣿⡆⢹⡧⣷⡟⠅⢾⣿⣿⡭⢹⣷⣾⣿⣷⣿⡯⠁⠁⠩⣿⣿⡯⢹⡇⠀⡏⠀⎥\n",
       "⎢⣉⣟⣿⣾⠇⣧⣌⡙⣻⣿⢉⣉⢺⣿⣿⣋⢸⣷⣾⣈⡉⢻⢿⠉⣰⡆⢀⣛⣽⣿⣿⣾⣏⣋⣿⣿⡇⠀⢚⠀⎥\n",
       "⎢⣿⣭⢩⢨⣿⡿⠉⣡⠌⢹⡏⢉⡌⠉⡷⠉⣡⠈⢸⠆⢉⡌⢹⡏⠁⣙⢋⡭⠱⠂⢿⡅⠉⠉⠉⠉⣿⣿⣷⣤⎥\n",
       "⎣⠛⣿⢻⢻⠛⡟⠂⣵⡆⢸⠓⢸⡏⠈⡟⠂⣿⠂⢻⠃⢸⡏⢸⠁⠀⣿⢹⡆⠘⠂⢺⡇⠋⠉⠚⠐⠙⣿⣿⣿⎦"
      ]
     },
     "metadata": {},
     "output_type": "display_data"
    }
   ],
   "source": [
    "K = FEM.stiffnessMatrix(problem)"
   ]
  },
  {
   "cell_type": "code",
   "execution_count": 55,
   "metadata": {},
   "outputs": [
    {
     "data": {
      "text/plain": [
       "(\"load\", 0, -1, 0)"
      ]
     },
     "metadata": {},
     "output_type": "display_data"
    }
   ],
   "source": [
    "supp = FEM.displacementConstraint(\"supp\", ux=0, uy=0, uz=0)\n",
    "load = FEM.traction(\"load\", fy=-1)"
   ]
  },
  {
   "cell_type": "code",
   "execution_count": 56,
   "metadata": {},
   "outputs": [
    {
     "data": {
      "text/plain": [
       "(sparse([1, 2, 3, 4, 5, 6, 7, 8, 9, 10  …  3930, 3940, 3941, 3942, 3952, 3953, 3954, 3955, 3956, 3957], [1, 2, 3, 4, 5, 6, 7, 8, 9, 10  …  3957, 3957, 3957, 3957, 3957, 3957, 3957, 3957, 3957, 3957], [1.0, 1.0, 1.0, 1.0, 1.0, 1.0, 1.0, 1.0, 1.0, 1.0  …  -111263.73626327184, -2.033710018167767e-7, -417239.01098897494, -194711.5384620511, -2.363221938139759e-7, 2.3431130102835596e-7, -166895.60439514305, -4.81745075830986e-7, 4.772506727590553e-7, 2.280906593405065e6], 3957, 3957), [0.0; 0.0; … ; 0.0; 0.0;;])"
      ]
     },
     "metadata": {},
     "output_type": "display_data"
    }
   ],
   "source": [
    "K, f = FEM.applyBoundaryConditions!(problem, K, [supp], [load])"
   ]
  },
  {
   "cell_type": "code",
   "execution_count": 57,
   "metadata": {},
   "outputs": [
    {
     "data": {
      "text/plain": [
       "3957×1 Matrix{Float64}:\n",
       "  0.0\n",
       "  0.0\n",
       "  0.0\n",
       "  0.0\n",
       "  0.0\n",
       "  0.0\n",
       "  0.0\n",
       "  0.0\n",
       "  0.0\n",
       "  0.0\n",
       "  ⋮\n",
       "  0.003631792246852705\n",
       " -0.058691448041721335\n",
       "  5.184883834508301e-5\n",
       " -0.007271852809419789\n",
       " -0.058769019734762805\n",
       " -5.170150221969204e-5\n",
       " -0.007271839248953249\n",
       " -0.058769185002445726\n",
       "  5.1599762504800414e-5"
      ]
     },
     "metadata": {},
     "output_type": "display_data"
    }
   ],
   "source": [
    "q = FEM.solveDisplacement(K, f)"
   ]
  },
  {
   "cell_type": "code",
   "execution_count": 58,
   "metadata": {},
   "outputs": [
    {
     "data": {
      "text/plain": [
       "Main.FEM.StressField([[59.47684351178468; -0.4300961528011411; … ; 0.11865942972343078; 0.14043215361232697;;], [38.972887582833124; 0.04305896336231871; … ; 0.0030041300573592396; -0.010253013975813907;;], [51.02032054852775; -0.017985418987780864; … ; 0.008970201651595715; -0.010404892338509164;;], [44.92523441952926; 0.04831505193277234; … ; 0.004019974043525758; -0.011027663578027536;;], [50.99382030536884; -0.020959099107077387; … ; -0.0010781594495168781; -0.002196073301644841;;], [53.48188329809547; -0.007919206160912623; … ; -0.001774394996540098; -0.0078419145962223;;], [14.913883497347324; 0.029714592399790636; … ; 0.0010158072748287538; -0.005858845841042459;;], [-36.15352209324717; -0.18554432897064013; … ; -0.0003186872633456717; -0.016150041628204673;;], [0.22578364076891994; -0.8001813104800214; … ; -0.041112037645586075; 0.040569502952312764;;], [0.8097364399664853; -0.6117972827209428; … ; 0.17272207812605567; -0.22565540344139157;;]  …  [0.3104911789524535; -0.257944633789336; … ; 0.03184964468283633; 0.010540990076268485;;], [-0.05132784352363594; -1.71853866916143; … ; 0.0014379659739891621; 0.07659703014979155;;], [-0.024923812227680996; -1.7157733058414237; … ; -0.001230228232360084; 0.0009531184476827548;;], [-0.0446951227436031; -1.7170647800681602; … ; 0.0004918065522892563; -0.001088449351240861;;], [29.909564042082188; -0.08701990931983575; … ; -0.00011633056016988009; -0.002335121555541164;;], [-0.006120394182809142; -1.7214969763501582; … ; -0.0018194057013185402; -0.0022032187731650943;;], [30.091973372829305; -0.08683287512777581; … ; 2.382977050397803e-5; 0.002113064761981809;;], [30.09197524163227; -0.08666673085389592; … ; 0.0014613162201304603; 0.006624247790394833;;], [-30.089322505847367; -0.08737788321311885; … ; -0.00012982299319512272; -0.0023782839113286602;;], [0.005436995820638381; -1.717265747098337; … ; 0.0018422171475533235; -0.0031339781239192455;;]], [9, 10, 11, 12, 13, 14, 15, 16, 17, 18  …  201, 202, 203, 204, 205, 206, 207, 208, 209, 210], 1)"
      ]
     },
     "metadata": {},
     "output_type": "display_data"
    }
   ],
   "source": [
    "S = FEM.solveStress(problem, q)"
   ]
  },
  {
   "cell_type": "code",
   "execution_count": 59,
   "metadata": {},
   "outputs": [],
   "source": [
    "gmsh.option.setNumber(\"View.IntervalsType\", 3)\n",
    "gmsh.option.setNumber(\"View.VectorType\", 5)\n",
    "gmsh.option.setString(\"View.Format\", \"%.6g\")"
   ]
  },
  {
   "cell_type": "code",
   "execution_count": 60,
   "metadata": {},
   "outputs": [
    {
     "data": {
      "text/plain": [
       "\"uvec..ok\""
      ]
     },
     "metadata": {},
     "output_type": "display_data"
    },
    {
     "data": {
      "text/plain": [
       "\"ux..ok\""
      ]
     },
     "metadata": {},
     "output_type": "display_data"
    },
    {
     "data": {
      "text/plain": [
       "\"uy..ok\""
      ]
     },
     "metadata": {},
     "output_type": "display_data"
    },
    {
     "data": {
      "text/plain": [
       "\"uz..ok\""
      ]
     },
     "metadata": {},
     "output_type": "display_data"
    },
    {
     "data": {
      "text/plain": [
       "\"s..ok\""
      ]
     },
     "metadata": {},
     "output_type": "display_data"
    },
    {
     "data": {
      "text/plain": [
       "\"sx..ok\""
      ]
     },
     "metadata": {},
     "output_type": "display_data"
    },
    {
     "data": {
      "text/plain": [
       "\"sy..ok\""
      ]
     },
     "metadata": {},
     "output_type": "display_data"
    },
    {
     "data": {
      "text/plain": [
       "\"sz..ok\""
      ]
     },
     "metadata": {},
     "output_type": "display_data"
    },
    {
     "data": {
      "text/plain": [
       "\"sxy..ok\""
      ]
     },
     "metadata": {},
     "output_type": "display_data"
    },
    {
     "data": {
      "text/plain": [
       "\"syz..ok\""
      ]
     },
     "metadata": {},
     "output_type": "display_data"
    },
    {
     "data": {
      "text/plain": [
       "\"szx..ok\""
      ]
     },
     "metadata": {},
     "output_type": "display_data"
    },
    {
     "name": "stdout",
     "output_type": "stream",
     "text": [
      "Info    : Running Plugin(Smooth)...\n",
      "Info    : Done running Plugin(Smooth)\n",
      "Info    : Running Plugin(Smooth)...\n",
      "Info    : Done running Plugin(Smooth)\n",
      "Info    : Running Plugin(Smooth)...\n",
      "Info    : Done running Plugin(Smooth)\n",
      "Info    : Running Plugin(Smooth)...\n",
      "Info    : Done running Plugin(Smooth)\n",
      "Info    : Running Plugin(Smooth)...\n",
      "Info    : Done running Plugin(Smooth)\n",
      "Info    : Running Plugin(Smooth)...\n",
      "Info    : Done running Plugin(Smooth)\n",
      "Info    : Running Plugin(Smooth)...\n",
      "Info    : Done running Plugin(Smooth)\n"
     ]
    },
    {
     "data": {
      "text/plain": [
       "10"
      ]
     },
     "metadata": {},
     "output_type": "display_data"
    }
   ],
   "source": [
    "u = FEM.showDoFResults(problem, q, \"uvec\", name=\"uvec\", visible=false)\n",
    "ux = FEM.showDoFResults(problem, q, \"ux\", name=\"ux\", visible=false)\n",
    "uy = FEM.showDoFResults(problem, q, \"uy\", name=\"uy\", visible=false)\n",
    "uz = FEM.showDoFResults(problem, q, \"uz\", name=\"uz\", visible=false)\n",
    "s = FEM.showStressResults(problem, S, \"s\", name=\"σ\", visible=true, smooth=true)\n",
    "sx = FEM.showStressResults(problem, S, \"sx\", name=\"σx\", visible=false, smooth=true)\n",
    "sy = FEM.showStressResults(problem, S, \"sy\", name=\"σy\", visible=false, smooth=true)\n",
    "sz = FEM.showStressResults(problem, S, \"sz\", name=\"σz\", visible=false, smooth=true)\n",
    "sxy = FEM.showStressResults(problem, S, \"sxy\", name=\"τxy\", visible=false, smooth=true)\n",
    "syz = FEM.showStressResults(problem, S, \"syz\", name=\"τyz\", visible=false, smooth=true)\n",
    "szx = FEM.showStressResults(problem, S, \"szx\", name=\"τzx\", visible=false, smooth=true)"
   ]
  },
  {
   "cell_type": "code",
   "execution_count": 61,
   "metadata": {},
   "outputs": [],
   "source": [
    "FEM.plotOnPath(problem, \"path\", sx, 100, name=\"σx\", visible=false);\n",
    "FEM.plotOnPath(problem, \"path\", sxy, 100, name=\"τxy\", visible=false);\n",
    "FEM.plotOnPath(problem, \"path\", ux, 100, name=\"ux\", visible=false);"
   ]
  },
  {
   "cell_type": "code",
   "execution_count": 62,
   "metadata": {},
   "outputs": [],
   "source": [
    "#gmsh.option.setNumber(\"PostProcessing.Binary\", 1)\n",
    "#gmsh.option.setNumber(\"PostProcessing.SaveMesh\", 1)\n",
    "\n",
    "#gmsh.write(\"rect.msh\")\n",
    "#gmsh.write(\"rect.opt\")\n",
    "#gmsh.view.write(4, \"rect.pos\")"
   ]
  },
  {
   "cell_type": "code",
   "execution_count": 63,
   "metadata": {},
   "outputs": [
    {
     "name": "stdout",
     "output_type": "stream",
     "text": [
      "-------------------------------------------------------\n",
      "Version       : 4.12.2\n",
      "License       : GNU General Public License\n",
      "Build OS      : Linux64-sdk\n",
      "Build date    : 20240121\n",
      "Build host    : gmsh.info\n",
      "Build options : 64Bit ALGLIB[contrib] ANN[contrib] Bamg Blas[petsc] Blossom Cgns DIntegration Dlopen DomHex Eigen[contrib] Fltk Gmm[contrib] Hxt Jpeg Kbipack Lapack[petsc] LinuxJoystick MathEx[contrib] Med Mesh Metis[contrib] Mmg Mpeg Netgen ONELAB ONELABMetamodel OpenCASCADE OpenCASCADE-CAF OpenGL OpenMP OptHom PETSc Parser Plugins Png Post QuadMeshingTools QuadTri Solver TetGen/BR Voro++[contrib] WinslowUntangler Zlib\n",
      "FLTK version  : 1.4.0\n",
      "PETSc version : 3.14.4 (real arithmtic)\n",
      "OCC version   : 7.7.2\n",
      "MED version   : 4.1.0\n",
      "Packaged by   : geuzaine\n",
      "Web site      : https://gmsh.info\n",
      "Issue tracker : https://gitlab.onelab.info/gmsh/gmsh/issues\n",
      "-------------------------------------------------------\n"
     ]
    }
   ],
   "source": [
    "gmsh.fltk.run()"
   ]
  },
  {
   "cell_type": "code",
   "execution_count": 64,
   "metadata": {
    "slideshow": {
     "slide_type": ""
    },
    "tags": []
   },
   "outputs": [],
   "source": [
    "gmsh.finalize()"
   ]
  }
 ],
 "metadata": {
  "kernelspec": {
   "display_name": "Julia 1.10.0",
   "language": "julia",
   "name": "julia-1.10"
  },
  "language_info": {
   "file_extension": ".jl",
   "mimetype": "application/julia",
   "name": "julia",
   "version": "1.10.0"
  },
  "varInspector": {
   "cols": {
    "lenName": 16,
    "lenType": 16,
    "lenVar": 40
   },
   "kernels_config": {
    "python": {
     "delete_cmd_postfix": "",
     "delete_cmd_prefix": "del ",
     "library": "var_list.py",
     "varRefreshCmd": "print(var_dic_list())"
    },
    "r": {
     "delete_cmd_postfix": ") ",
     "delete_cmd_prefix": "rm(",
     "library": "var_list.r",
     "varRefreshCmd": "cat(var_dic_list()) "
    }
   },
   "types_to_exclude": [
    "module",
    "function",
    "builtin_function_or_method",
    "instance",
    "_Feature"
   ],
   "window_display": false
  }
 },
 "nbformat": 4,
 "nbformat_minor": 4
}
