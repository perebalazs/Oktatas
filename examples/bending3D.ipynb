{
 "cells": [
  {
   "cell_type": "code",
   "execution_count": 239,
   "metadata": {},
   "outputs": [
    {
     "name": "stderr",
     "output_type": "stream",
     "text": [
      "WARNING: replacing module FEM.\n"
     ]
    }
   ],
   "source": [
    "using LinearAlgebra, SparseArrays\n",
    "import gmsh\n",
    "gmsh.initialize()\n",
    "\n",
    "include(\"../src/FEM.jl\")\n",
    "using .FEM"
   ]
  },
  {
   "cell_type": "code",
   "execution_count": 240,
   "metadata": {},
   "outputs": [
    {
     "name": "stdout",
     "output_type": "stream",
     "text": [
      "Info    : Reading 'bending3D.geo'...\n",
      "Info    : Meshing 1D...\n",
      "Info    : [  0%] Meshing curve 1 (Line)\n",
      "Info    : [ 10%] Meshing curve 2 (Line)\n",
      "Info    : [ 20%] Meshing curve 3 (Line)\n",
      "Info    : [ 30%] Meshing curve 4 (Line)\n",
      "Info    : [ 40%] Meshing curve 5 (Line)\n",
      "Info    : [ 50%] Meshing curve 6 (Line)\n",
      "Info    : [ 50%] Meshing curve 7 (Line)\n",
      "Info    : [ 60%] Meshing curve 8 (Line)\n",
      "Info    : [ 70%] Meshing curve 9 (Line)\n",
      "Info    : [ 80%] Meshing curve 10 (Line)\n",
      "Info    : [ 90%] Meshing curve 11 (Line)\n",
      "Info    : [100%] Meshing curve 12 (Line)\n",
      "Info    : Done meshing 1D (Wall 0.000762775s, CPU 0.000717s)\n",
      "Info    : Meshing 2D...\n",
      "Info    : [  0%] Meshing surface 1 (Transfinite)\n",
      "Info    : [ 20%] Meshing surface 2 (Transfinite)\n",
      "Info    : [ 40%] Meshing surface 3 (Transfinite)\n",
      "Info    : [ 50%] Meshing surface 4 (Transfinite)\n",
      "Info    : [ 70%] Meshing surface 5 (Transfinite)\n",
      "Info    : [ 90%] Meshing surface 6 (Transfinite)\n",
      "Info    : Done meshing 2D (Wall 0.000255332s, CPU 0.000255s)\n",
      "Info    : Meshing 3D...\n",
      "Info    : Meshing volume 1 (Transfinite)\n",
      "Info    : Done meshing 3D (Wall 0.00199853s, CPU 0.001565s)\n",
      "Info    : Optimizing mesh...\n",
      "Info    : Done optimizing mesh (Wall 2.5133e-05s, CPU 2.3e-05s)\n",
      "Info    : Meshing order 3 (curvilinear on)...\n",
      "Info    : [  0%] Meshing curve 1 order 3\n",
      "Info    : [ 10%] Meshing curve 2 order 3\n",
      "Info    : [ 20%] Meshing curve 3 order 3\n",
      "Info    : [ 20%] Meshing curve 4 order 3\n",
      "Info    : [ 30%] Meshing curve 5 order 3\n",
      "Info    : [ 30%] Meshing curve 6 order 3\n",
      "Info    : [ 40%] Meshing curve 7 order 3\n",
      "Info    : [ 40%] Meshing curve 8 order 3\n",
      "Info    : [ 50%] Meshing curve 9 order 3\n",
      "Info    : [ 50%] Meshing curve 10 order 3\n",
      "Info    : [ 60%] Meshing curve 11 order 3\n",
      "Info    : [ 60%] Meshing curve 12 order 3\n",
      "Info    : [ 70%] Meshing surface 1 order 3\n",
      "Info    : [ 70%] Meshing surface 2 order 3\n",
      "Info    : [ 80%] Meshing surface 3 order 3\n",
      "Info    : [ 80%] Meshing surface 4 order 3\n",
      "Info    : [ 90%] Meshing surface 5 order 3\n",
      "Info    : [ 90%] Meshing surface 6 order 3\n",
      "Info    : [100%] Meshing volume 1 order 3\n",
      "Info    : Done meshing order 3 (Wall 0.0239271s, CPU 0.021614s)\n",
      "Info    : 9100 nodes 800 elements\n",
      "Info    : Done reading 'bending3D.geo'\n"
     ]
    }
   ],
   "source": [
    "gmsh.open(\"bending3D.geo\")"
   ]
  },
  {
   "cell_type": "code",
   "execution_count": 241,
   "metadata": {},
   "outputs": [
    {
     "data": {
      "text/plain": [
       "Main.FEM.Problem(\"bending3D\", \"Solid\", 3, 200000.0, 0.3, 7.85e-9, 1.0, 9100)"
      ]
     },
     "metadata": {},
     "output_type": "display_data"
    }
   ],
   "source": [
    "problem = FEM.Problem()"
   ]
  },
  {
   "cell_type": "code",
   "execution_count": 242,
   "metadata": {},
   "outputs": [
    {
     "name": "stdout",
     "output_type": "stream",
     "text": [
      "-------------------------------------------------------\n",
      "Version       : 4.12.2\n",
      "License       : GNU General Public License\n",
      "Build OS      : Linux64-sdk\n",
      "Build date    : 20240121\n",
      "Build host    : gmsh.info\n",
      "Build options : 64Bit ALGLIB[contrib] ANN[contrib] Bamg Blas[petsc] Blossom Cgns DIntegration Dlopen DomHex Eigen[contrib] Fltk Gmm[contrib] Hxt Jpeg Kbipack Lapack[petsc] LinuxJoystick MathEx[contrib] Med Mesh Metis[contrib] Mmg Mpeg Netgen ONELAB ONELABMetamodel OpenCASCADE OpenCASCADE-CAF OpenGL OpenMP OptHom PETSc Parser Plugins Png Post QuadMeshingTools QuadTri Solver TetGen/BR Voro++[contrib] WinslowUntangler Zlib\n",
      "FLTK version  : 1.4.0\n",
      "PETSc version : 3.14.4 (real arithmtic)\n",
      "OCC version   : 7.7.2\n",
      "MED version   : 4.1.0\n",
      "Packaged by   : geuzaine\n",
      "Web site      : https://gmsh.info\n",
      "Issue tracker : https://gitlab.onelab.info/gmsh/gmsh/issues\n",
      "-------------------------------------------------------\n"
     ]
    }
   ],
   "source": [
    "gmsh.fltk.run()"
   ]
  },
  {
   "cell_type": "code",
   "execution_count": 243,
   "metadata": {},
   "outputs": [],
   "source": [
    "# Néhány láthatósági beállítás 0:kikapcs. 1:bekapcs.\n",
    "gmsh.option.setNumber(\"Geometry.CurveLabels\", 0)\n",
    "gmsh.option.setNumber(\"Geometry.Points\", 0)\n",
    "gmsh.option.setNumber(\"Geometry.Curves\", 0)\n",
    "gmsh.option.setNumber(\"Mesh.Points\", 0)\n",
    "gmsh.option.setNumber(\"Mesh.Lines\", 0)\n",
    "gmsh.option.setNumber(\"Mesh.SurfaceEdges\", 0)\n",
    "gmsh.option.setNumber(\"Mesh.NodeLabels\", 0)\n",
    "gmsh.option.setNumber(\"Mesh.LineLabels\", 0)\n",
    "gmsh.option.setNumber(\"Mesh.SurfaceLabels\", 0)"
   ]
  },
  {
   "cell_type": "code",
   "execution_count": 244,
   "metadata": {},
   "outputs": [
    {
     "data": {
      "text/plain": [
       "27300×27300 SparseMatrixCSC{Float64, Int64} with 8588844 stored entries:\n",
       "⎡⣿⣿⣿⠷⠶⢾⣧⣤⣼⡗⣧⣿⡷⣅⣛⣟⠒⠒⠺⣤⣤⣤⣧⣤⣿⠶⠤⢬⣀⣀⣀⣃⣀⣻⠶⢬⣀⣀⣃⣘⎤\n",
       "⎢⢿⡟⢿⣷⡒⠚⠃⠈⢹⣗⠃⢹⣗⠋⠛⡿⣖⠒⠚⠀⠀⠀⠃⠀⠻⣖⠒⠚⠁⠈⠉⠃⠈⢻⣖⠚⠀⠉⠃⠙⎥\n",
       "⎢⣸⣇⣸⠈⠻⣦⣀⣀⣸⡹⣄⣈⡿⣄⣀⣇⠈⠻⣦⣀⣀⣀⣀⣀⣀⠈⠻⣦⣀⣀⣀⣀⣀⣀⠙⢦⣀⣀⣀⣀⎥\n",
       "⎢⠉⣿⡉⠀⠀⢸⠻⣦⡘⡇⢳⢯⡇⢳⢿⡏⠀⠀⠈⠛⢦⡈⠹⣦⠉⠀⠀⠈⠻⣦⡈⠹⣦⠉⠀⠈⢳⣌⢻⡌⎥\n",
       "⎢⢶⠿⢷⢶⣖⡺⠶⠬⢿⣷⣾⡿⠃⠈⠛⡿⢶⣶⣶⠶⣶⣿⠶⠬⠷⠀⠀⠀⠀⠀⠙⠂⠈⠓⠀⠀⠀⠙⠂⠙⎥\n",
       "⎢⣭⣿⣍⣀⡀⢹⡽⣖⣾⡿⢿⣷⣀⣀⠀⡏⠙⠒⠯⠽⣗⣺⡭⣗⣦⣀⡀⢀⣀⣀⠀⠀⠀⢀⣀⢀⣀⡀⠀⠀⎥\n",
       "⎢⠝⢯⡽⠙⠛⢯⢭⣉⡉⠀⠀⢸⣿⣿⣏⣿⠀⠀⠀⠀⠀⠀⠀⠀⠨⣿⣛⡯⢽⣛⣿⢭⣉⠩⣟⡿⣽⣻⢭⡉⎥\n",
       "⎢⣿⢼⣿⡤⠤⢼⡿⠷⣿⡤⡤⠤⣯⣽⣿⣿⡤⠤⣤⣤⠤⣤⡤⢤⣤⡤⢤⣭⡽⠷⣿⡿⢿⣿⠤⣭⠽⢾⡿⣿⎥\n",
       "⎢⢸⠀⢸⠙⣦⡀⠀⠀⢸⣷⢳⠀⠀⠀⠀⡏⠻⣦⡀⠙⢧⡄⠀⠀⠈⠻⣦⡀⠙⢦⡀⠀⠀⠀⠀⠀⠀⠀⠀⠀⎥\n",
       "⎢⠚⣦⠚⠀⠈⢻⣦⠀⢸⡟⣏⡇⠀⠀⠀⣿⣄⠈⠻⣦⡀⠙⢧⡀⠰⣄⠈⠻⣦⡀⠙⢦⡀⠀⠀⠀⠀⠀⠀⠀⎥\n",
       "⎢⠀⣿⠀⠀⠀⢸⡈⠳⣼⣿⣹⣹⠀⠀⠀⣧⠉⠷⣄⠈⠻⣦⡈⢳⡄⠈⠳⣄⠈⠻⣦⡈⠳⡄⠀⠀⠀⠀⠀⠀⎥\n",
       "⎢⠉⣿⠉⠀⠀⢸⠳⣦⡘⡇⢧⢯⠀⠀⠀⣏⠀⠀⠉⠳⢦⣈⠻⣦⡉⠀⠀⠈⠳⢦⣈⠻⣦⡉⠀⠀⠀⠀⠀⠀⎥\n",
       "⎢⢻⡟⢻⢦⡀⠘⠃⠀⠙⠃⠈⢻⣦⣦⠀⡿⣦⡀⠐⢦⡀⠉⠃⠈⠻⣦⡀⠐⢦⡄⠉⠃⠈⠻⣄⠐⢦⠀⠀⠀⎥\n",
       "⎢⡀⣇⣸⠀⠻⣦⡀⠀⠀⠀⠀⢈⡿⡼⡄⣷⠈⠻⣦⡀⠙⢦⡀⠀⢀⠈⠻⣦⡀⠙⢧⡀⠀⢀⠘⢧⡈⢳⡀⠀⎥\n",
       "⎢⠀⢸⡁⠀⠀⢸⠻⣦⠀⠀⠀⢸⣷⢳⢷⡏⠳⣄⠈⠻⣦⡀⠹⣆⠈⠷⣄⠈⠻⣦⡀⠹⣦⠘⢧⡈⢳⡄⢻⡀⎥\n",
       "⎢⠤⢸⠧⠀⠀⢸⣆⡈⠳⠀⠀⠀⡟⣟⣿⡿⠀⠈⠳⣄⡈⠻⣦⡘⠧⠀⠉⠳⣄⡈⠻⣦⡘⠷⠈⠳⣄⠹⣆⠳⎥\n",
       "⎢⣤⣸⣦⣀⠀⢸⡌⠛⢦⠀⠀⢀⡇⡘⣿⣷⠀⠀⠀⠈⠙⠦⡌⠻⣦⡀⠀⢀⣈⠛⢶⡌⠻⣦⡀⢀⡈⠳⡜⢧⎥\n",
       "⎢⡘⣇⣸⠙⠳⣄⡀⠀⠀⠀⠀⢘⣿⡽⡄⣧⠀⠀⠀⠀⠀⠀⠀⠀⢀⠙⠶⣄⡉⠳⢦⡀⠀⢈⠻⣦⡙⢦⡀⠀⎥\n",
       "⎢⠀⢸⡄⠀⠀⢸⡙⢶⣄⠀⠀⠸⣷⣻⣳⣇⠀⠀⠀⠀⠀⠀⠀⠀⠈⠓⢦⣈⠙⠶⣄⡙⢦⡈⠳⣌⠻⣦⡹⣆⎥\n",
       "⎣⣉⢸⣍⠀⠀⢸⡛⠶⣌⠀⠀⠀⡇⠳⣿⣯⠀⠀⠀⠀⠀⠀⠀⠀⠀⠀⠀⠈⠛⠲⢬⡙⠶⣍⠀⠈⠳⢮⡻⣮⎦"
      ]
     },
     "metadata": {},
     "output_type": "display_data"
    }
   ],
   "source": [
    "K = FEM.stiffnessMatrix(problem)"
   ]
  },
  {
   "cell_type": "code",
   "execution_count": 245,
   "metadata": {},
   "outputs": [
    {
     "data": {
      "text/plain": [
       "(\"load\", 0, -1, 0)"
      ]
     },
     "metadata": {},
     "output_type": "display_data"
    }
   ],
   "source": [
    "supp = FEM.displacementConstraint(\"supp\", ux=0, uy=0, uz=0)\n",
    "load = FEM.load(\"load\", fy=-1)"
   ]
  },
  {
   "cell_type": "code",
   "execution_count": 246,
   "metadata": {},
   "outputs": [
    {
     "data": {
      "text/plain": [
       "27300-element Vector{Float64}:\n",
       " 0.0\n",
       " 0.0\n",
       " 0.0\n",
       " 0.0\n",
       " 0.0\n",
       " 0.0\n",
       " 0.0\n",
       " 0.0\n",
       " 0.0\n",
       " 0.0\n",
       " ⋮\n",
       " 0.0\n",
       " 0.0\n",
       " 0.0\n",
       " 0.0\n",
       " 0.0\n",
       " 0.0\n",
       " 0.0\n",
       " 0.0\n",
       " 0.0"
      ]
     },
     "metadata": {},
     "output_type": "display_data"
    }
   ],
   "source": [
    "f = FEM.loadVector(problem, [load])"
   ]
  },
  {
   "cell_type": "code",
   "execution_count": 247,
   "metadata": {},
   "outputs": [
    {
     "data": {
      "text/plain": [
       "Any[]"
      ]
     },
     "metadata": {},
     "output_type": "display_data"
    }
   ],
   "source": [
    "FEM.applyBoundaryConditions!(problem, K, f, [supp])"
   ]
  },
  {
   "cell_type": "code",
   "execution_count": 248,
   "metadata": {},
   "outputs": [
    {
     "data": {
      "text/plain": [
       "27300-element Vector{Float64}:\n",
       "  0.0\n",
       "  0.0\n",
       "  0.0\n",
       "  0.0\n",
       "  0.0\n",
       "  0.0\n",
       "  0.0\n",
       "  0.0\n",
       "  0.0\n",
       "  0.0\n",
       "  ⋮\n",
       "  0.008283400964929884\n",
       " -0.1967708558453944\n",
       " -1.1210428556094117e-6\n",
       "  0.008285163083479907\n",
       " -0.19677265552517553\n",
       " -1.1408926134774675e-6\n",
       "  0.011609410778629882\n",
       " -0.19677468999068304\n",
       " -2.466806523019841e-6"
      ]
     },
     "metadata": {},
     "output_type": "display_data"
    }
   ],
   "source": [
    "q = FEM.solveDisplacement(K, f)"
   ]
  },
  {
   "cell_type": "code",
   "execution_count": 249,
   "metadata": {},
   "outputs": [
    {
     "data": {
      "text/plain": [
       "Main.FEM.StressField([[-16.07261393342841; 1.7647279636740762; … ; 0.5382915187733299; -1.3714252475347948;;], [-20.205785564059; -2.171748346875752; … ; 0.2380516051485936; -0.08139511205240257;;], [-18.92104502291772; -1.516367858467073; … ; 0.06521032667659978; 0.0011588402381592644;;], [-18.039279225122545; -1.3143791360999009; … ; 0.013185496144054093; 0.0025869744063529154;;], [-17.340135101351276; -1.2752684153821154; … ; 0.0020153443160727917; 0.0007775589993981313;;], [-16.667532703714848; -1.2689014508904515; … ; 0.0002018297114702064; 0.00014594482671359543;;], [-16.000053292303797; -1.268095414352989; … ; -8.645024810616269e-7; 1.7479300352007954e-5;;], [-15.333321407335836; -1.2680473117551707; … ; -6.0012753553582425e-6; 1.864279477459263e-7;;], [-14.666661529845138; -1.268056954951786; … ; -1.5847194350040792e-6; -5.612039775115818e-7;;], [-13.999998921137244; -1.268060954176345; … ; -2.3784126951157237e-7; -1.7953000464032698e-7;;]  …  [19.999999974357433; -0.03578270441651372; … ; 2.2645871514486735e-9; 1.685303008258643e-8;;], [17.99999997394962; -0.03578269747993904; … ; 5.6496236735761896e-8; 1.1785992803936551e-7;;], [16.000000436147754; -0.03578265258467038; … ; 4.9374265313073e-7; 4.955959405084087e-7;;], [14.000004824624403; -0.03578241474140692; … ; 3.0936559174619906e-6; 6.277499593476676e-7;;], [12.000030610183334; -0.03578085911911961; … ; 1.5337133981960708e-5; -1.07837763221319e-5;;], [10.000145631497922; -0.03577474156496726; … ; 6.008582467724098e-5; -0.00012181032997404806;;], [8.000422417872587; -0.0357146234291631; … ; 0.00016488882517734166; -0.0007716615083548373;;], [6.001688089024174; -0.03592534216561962; … ; 5.7791478317456866e-5; -0.002903041372185222;;], [4.006251685794358; -0.03419219486392515; … ; -0.0026341341088466077; -0.004772819782278559;;], [1.920839925022596; -0.09470101672858956; … ; 4.461112180661403e-5; -0.06119346424003089;;]], [19, 20, 21, 22, 23, 24, 25, 26, 27, 28  …  279, 280, 281, 282, 283, 284, 285, 286, 287, 288], 1)"
      ]
     },
     "metadata": {},
     "output_type": "display_data"
    }
   ],
   "source": [
    "S = FEM.solveStress(problem, q)"
   ]
  },
  {
   "cell_type": "code",
   "execution_count": 250,
   "metadata": {},
   "outputs": [],
   "source": [
    "gmsh.option.setNumber(\"View.IntervalsType\", 3)\n",
    "gmsh.option.setNumber(\"View.VectorType\", 5)\n",
    "gmsh.option.setString(\"View.Format\", \"%.6g\")"
   ]
  },
  {
   "cell_type": "code",
   "execution_count": 251,
   "metadata": {},
   "outputs": [
    {
     "data": {
      "text/plain": [
       "\"uvec..ok\""
      ]
     },
     "metadata": {},
     "output_type": "display_data"
    },
    {
     "data": {
      "text/plain": [
       "\"ux..ok\""
      ]
     },
     "metadata": {},
     "output_type": "display_data"
    },
    {
     "data": {
      "text/plain": [
       "\"uy..ok\""
      ]
     },
     "metadata": {},
     "output_type": "display_data"
    },
    {
     "data": {
      "text/plain": [
       "\"uz..ok\""
      ]
     },
     "metadata": {},
     "output_type": "display_data"
    },
    {
     "data": {
      "text/plain": [
       "\"s..ok\""
      ]
     },
     "metadata": {},
     "output_type": "display_data"
    },
    {
     "data": {
      "text/plain": [
       "\"sx..ok\""
      ]
     },
     "metadata": {},
     "output_type": "display_data"
    },
    {
     "data": {
      "text/plain": [
       "\"sy..ok\""
      ]
     },
     "metadata": {},
     "output_type": "display_data"
    },
    {
     "data": {
      "text/plain": [
       "\"sz..ok\""
      ]
     },
     "metadata": {},
     "output_type": "display_data"
    },
    {
     "data": {
      "text/plain": [
       "\"sxy..ok\""
      ]
     },
     "metadata": {},
     "output_type": "display_data"
    },
    {
     "data": {
      "text/plain": [
       "\"syz..ok\""
      ]
     },
     "metadata": {},
     "output_type": "display_data"
    },
    {
     "data": {
      "text/plain": [
       "\"szx..ok\""
      ]
     },
     "metadata": {},
     "output_type": "display_data"
    },
    {
     "name": "stdout",
     "output_type": "stream",
     "text": [
      "Info    : Running Plugin(Smooth)...\n",
      "Info    : Done running Plugin(Smooth)\n",
      "Info    : Running Plugin(Smooth)...\n",
      "Info    : Done running Plugin(Smooth)\n",
      "Info    : Running Plugin(Smooth)...\n",
      "Info    : Done running Plugin(Smooth)\n",
      "Info    : Running Plugin(Smooth)...\n",
      "Info    : Done running Plugin(Smooth)\n",
      "Info    : Running Plugin(Smooth)...\n",
      "Info    : Done running Plugin(Smooth)\n",
      "Info    : Running Plugin(Smooth)...\n",
      "Info    : Done running Plugin(Smooth)\n",
      "Info    : Running Plugin(Smooth)...\n",
      "Info    : Done running Plugin(Smooth)\n"
     ]
    },
    {
     "data": {
      "text/plain": [
       "10"
      ]
     },
     "metadata": {},
     "output_type": "display_data"
    }
   ],
   "source": [
    "u = FEM.showDoFResults(problem, q, \"uvec\", name=\"uvec\", visible=false)\n",
    "ux = FEM.showDoFResults(problem, q, \"ux\", name=\"ux\", visible=false)\n",
    "uy = FEM.showDoFResults(problem, q, \"uy\", name=\"uy\", visible=false)\n",
    "uz = FEM.showDoFResults(problem, q, \"uz\", name=\"uz\", visible=false)\n",
    "s = FEM.showStressResults(problem, S, \"s\", name=\"σ\", visible=true, smooth=true)\n",
    "sx = FEM.showStressResults(problem, S, \"sx\", name=\"σx\", visible=false, smooth=true)\n",
    "sy = FEM.showStressResults(problem, S, \"sy\", name=\"σy\", visible=false, smooth=true)\n",
    "sz = FEM.showStressResults(problem, S, \"sz\", name=\"σz\", visible=false, smooth=true)\n",
    "sxy = FEM.showStressResults(problem, S, \"sxy\", name=\"τxy\", visible=false, smooth=true)\n",
    "syz = FEM.showStressResults(problem, S, \"syz\", name=\"τyz\", visible=false, smooth=true)\n",
    "szx = FEM.showStressResults(problem, S, \"szx\", name=\"τzx\", visible=false, smooth=true)"
   ]
  },
  {
   "cell_type": "code",
   "execution_count": 252,
   "metadata": {},
   "outputs": [],
   "source": [
    "FEM.plotOnPath(problem, \"path\", sx, 100, name=\"σx\", visible=false);\n",
    "FEM.plotOnPath(problem, \"path\", sxy, 100, name=\"τxy\", visible=false);\n",
    "FEM.plotOnPath(problem, \"path\", ux, 100, name=\"ux\", visible=false);"
   ]
  },
  {
   "cell_type": "code",
   "execution_count": 253,
   "metadata": {},
   "outputs": [],
   "source": [
    "#gmsh.option.setNumber(\"PostProcessing.Binary\", 1)\n",
    "#gmsh.option.setNumber(\"PostProcessing.SaveMesh\", 1)\n",
    "\n",
    "#gmsh.write(\"rect.msh\")\n",
    "#gmsh.write(\"rect.opt\")\n",
    "#gmsh.view.write(4, \"rect.pos\")"
   ]
  },
  {
   "cell_type": "code",
   "execution_count": 254,
   "metadata": {},
   "outputs": [
    {
     "name": "stdout",
     "output_type": "stream",
     "text": [
      "-------------------------------------------------------\n",
      "Version       : 4.12.2\n",
      "License       : GNU General Public License\n",
      "Build OS      : Linux64-sdk\n",
      "Build date    : 20240121\n",
      "Build host    : gmsh.info\n",
      "Build options : 64Bit ALGLIB[contrib] ANN[contrib] Bamg Blas[petsc] Blossom Cgns DIntegration Dlopen DomHex Eigen[contrib] Fltk Gmm[contrib] Hxt Jpeg Kbipack Lapack[petsc] LinuxJoystick MathEx[contrib] Med Mesh Metis[contrib] Mmg Mpeg Netgen ONELAB ONELABMetamodel OpenCASCADE OpenCASCADE-CAF OpenGL OpenMP OptHom PETSc Parser Plugins Png Post QuadMeshingTools QuadTri Solver TetGen/BR Voro++[contrib] WinslowUntangler Zlib\n",
      "FLTK version  : 1.4.0\n",
      "PETSc version : 3.14.4 (real arithmtic)\n",
      "OCC version   : 7.7.2\n",
      "MED version   : 4.1.0\n",
      "Packaged by   : geuzaine\n",
      "Web site      : https://gmsh.info\n",
      "Issue tracker : https://gitlab.onelab.info/gmsh/gmsh/issues\n",
      "-------------------------------------------------------\n"
     ]
    }
   ],
   "source": [
    "gmsh.fltk.run()"
   ]
  },
  {
   "cell_type": "code",
   "execution_count": 255,
   "metadata": {
    "slideshow": {
     "slide_type": ""
    },
    "tags": []
   },
   "outputs": [],
   "source": [
    "gmsh.finalize()"
   ]
  }
 ],
 "metadata": {
  "kernelspec": {
   "display_name": "Julia 1.10.0",
   "language": "julia",
   "name": "julia-1.10"
  },
  "language_info": {
   "file_extension": ".jl",
   "mimetype": "application/julia",
   "name": "julia",
   "version": "1.10.0"
  },
  "varInspector": {
   "cols": {
    "lenName": 16,
    "lenType": 16,
    "lenVar": 40
   },
   "kernels_config": {
    "python": {
     "delete_cmd_postfix": "",
     "delete_cmd_prefix": "del ",
     "library": "var_list.py",
     "varRefreshCmd": "print(var_dic_list())"
    },
    "r": {
     "delete_cmd_postfix": ") ",
     "delete_cmd_prefix": "rm(",
     "library": "var_list.r",
     "varRefreshCmd": "cat(var_dic_list()) "
    }
   },
   "types_to_exclude": [
    "module",
    "function",
    "builtin_function_or_method",
    "instance",
    "_Feature"
   ],
   "window_display": false
  }
 },
 "nbformat": 4,
 "nbformat_minor": 4
}
