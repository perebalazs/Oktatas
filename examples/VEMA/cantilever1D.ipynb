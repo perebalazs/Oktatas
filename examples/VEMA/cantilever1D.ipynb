{
 "cells": [
  {
   "cell_type": "code",
   "execution_count": 127,
   "metadata": {},
   "outputs": [],
   "source": [
    "using LinearAlgebra, SparseArrays\n",
    "using LowLevelFEM\n",
    "import LowLevelFEM as FEM\n",
    "gmsh.initialize()\n"
   ]
  },
  {
   "cell_type": "code",
   "execution_count": 128,
   "metadata": {},
   "outputs": [
    {
     "name": "stdout",
     "output_type": "stream",
     "text": [
      "Info    : Reading 'cantilever1D-a.geo'...\n",
      "Info    : Done reading 'cantilever1D-a.geo'\n"
     ]
    }
   ],
   "source": [
    "gmsh.open(\"cantilever1D-a.geo\")"
   ]
  },
  {
   "cell_type": "code",
   "execution_count": null,
   "metadata": {},
   "outputs": [
    {
     "data": {
      "text/plain": [
       "3"
      ]
     },
     "metadata": {},
     "output_type": "display_data"
    }
   ],
   "source": [
    "A = 1\n",
    "l = 100\n",
    "n = 2\n",
    "F = 10\n",
    "fx = 1\n",
    "\n",
    "order = 1"
   ]
  },
  {
   "cell_type": "code",
   "execution_count": 130,
   "metadata": {},
   "outputs": [],
   "source": [
    "gmsh.parser.setNumber(\"l\", [l])\n",
    "gmsh.parser.setNumber(\"A\", [A])\n",
    "gmsh.parser.setNumber(\"n\", [n])\n",
    "gmsh.parser.setNumber(\"order\", [order])"
   ]
  },
  {
   "cell_type": "code",
   "execution_count": 131,
   "metadata": {},
   "outputs": [
    {
     "name": "stdout",
     "output_type": "stream",
     "text": [
      "Info    : Reading 'cantilever1D-b.geo'...\n",
      "Info    : Meshing 1D...\n",
      "Info    : [  0%] Meshing curve 1 (Line)\n",
      "Info    : [ 30%] Meshing curve 2 (Line)\n",
      "Info    : [ 60%] Meshing curve 3 (Line)\n",
      "Info    : [ 80%] Meshing curve 4 (Line)\n",
      "Info    : Done meshing 1D (Wall 0.000294892s, CPU 0.000284s)\n",
      "Info    : Meshing 2D...\n",
      "Info    : Meshing surface 1 (Transfinite)\n",
      "Info    : Done meshing 2D (Wall 7.4808e-05s, CPU 7.1e-05s)\n",
      "Info    : Meshing order 3 (curvilinear on)...\n",
      "Info    : [  0%] Meshing curve 1 order 3\n",
      "Info    : [ 30%] Meshing curve 2 order 3\n",
      "Info    : [ 50%] Meshing curve 3 order 3\n",
      "Info    : [ 70%] Meshing curve 4 order 3\n",
      "Info    : [ 90%] Meshing surface 1 order 3\n",
      "Info    : Done meshing order 3 (Wall 0.000221634s, CPU 0.000221s)\n",
      "Info    : 16 nodes 9 elements\n",
      "Info    : Done reading 'cantilever1D-b.geo'\n"
     ]
    }
   ],
   "source": [
    "gmsh.merge(\"cantilever1D-b.geo\")"
   ]
  },
  {
   "cell_type": "code",
   "execution_count": 132,
   "metadata": {},
   "outputs": [
    {
     "name": "stdout",
     "output_type": "stream",
     "text": [
      "Info    : RCMK renumbering...\n",
      "Info    : Done RCMK renumbering (bandwidth is now 15)\n"
     ]
    },
    {
     "data": {
      "text/plain": [
       "LowLevelFEM.Problem(\"cantilever1D-a\", :PlaneStress, 2, 2, LowLevelFEM.Material[LowLevelFEM.Material(\"body\", 200000.0, 0.0, 7.85e-9, 45.0, 4.2e8, 1.2e-5)], 1.0, 16)"
      ]
     },
     "metadata": {},
     "output_type": "display_data"
    }
   ],
   "source": [
    "mat = FEM.material(\"body\", E=2e5, ν=0)\n",
    "problem = FEM.Problem([mat], type=:PlaneStress, bandwidth=:RCMK)"
   ]
  },
  {
   "cell_type": "code",
   "execution_count": 133,
   "metadata": {},
   "outputs": [],
   "source": [
    "# Néhány láthatósági beállítás 0:kikapcs. 1:bekapcs.\n",
    "gmsh.option.setNumber(\"Geometry.CurveLabels\", 0)\n",
    "gmsh.option.setNumber(\"Geometry.Points\", 0)\n",
    "gmsh.option.setNumber(\"Geometry.Curves\", 0)\n",
    "gmsh.option.setNumber(\"Mesh.Points\", 0)\n",
    "gmsh.option.setNumber(\"Mesh.Lines\", 0)\n",
    "gmsh.option.setNumber(\"Mesh.SurfaceEdges\", 1)\n",
    "gmsh.option.setNumber(\"Mesh.NodeLabels\", 0)\n",
    "gmsh.option.setNumber(\"Mesh.LineLabels\", 0)\n",
    "gmsh.option.setNumber(\"Mesh.SurfaceLabels\", 0)"
   ]
  },
  {
   "cell_type": "code",
   "execution_count": 134,
   "metadata": {},
   "outputs": [
    {
     "data": {
      "text/plain": [
       "32×32 SparseMatrixCSC{Float64, Int64} with 1021 stored entries:\n",
       "⎡⣿⣿⣿⣿⣿⣿⣿⣿⣟⣿⣿⣿⣿⣿⣿⣿⎤\n",
       "⎢⣿⣿⣿⣿⣿⣿⣿⣿⣿⣿⣿⣿⣿⣿⣿⣿⎥\n",
       "⎢⣿⣿⣿⣿⣿⣿⣿⣿⣿⣿⣿⣿⣿⣿⣿⣿⎥\n",
       "⎢⣿⣿⣿⣿⣿⣿⣿⣿⣿⣿⣟⣿⣿⣿⣿⣿⎥\n",
       "⎢⣿⣿⣿⣿⣿⣿⣿⣿⣿⣿⣿⣿⣿⣿⣿⣿⎥\n",
       "⎢⣿⣿⣿⣿⣿⣿⣿⣽⣿⣿⣿⣿⣿⣿⣿⣿⎥\n",
       "⎢⣿⣿⣿⣿⣿⣿⣿⣿⣿⣿⣿⣿⣿⣿⣿⣿⎥\n",
       "⎣⣿⣿⣿⣿⣿⣿⣿⣿⣿⣿⣿⣿⣿⣿⣿⣿⎦"
      ]
     },
     "metadata": {},
     "output_type": "display_data"
    }
   ],
   "source": [
    "K = FEM.stiffnessMatrix(problem)"
   ]
  },
  {
   "cell_type": "code",
   "execution_count": 135,
   "metadata": {},
   "outputs": [],
   "source": [
    "supp1 = FEM.displacementConstraint(\"bottom\", uy=0)\n",
    "supp2 = FEM.displacementConstraint(\"left\", ux=0)\n",
    "load1 = FEM.load(\"right\", fx=10)\n",
    "#load2 = FEM.traction(\"bottom\", fx=1)\n",
    "#load3 = FEM.traction(\"top\", fx=1)\n",
    "load4 = FEM.load(\"body\", fx=1);"
   ]
  },
  {
   "cell_type": "code",
   "execution_count": 136,
   "metadata": {},
   "outputs": [
    {
     "data": {
      "text/plain": [
       "32-element Vector{Float64}:\n",
       " 14.062499999999993\n",
       "  0.0\n",
       " 14.062499999999973\n",
       "  0.0\n",
       " 14.06250000000001\n",
       "  0.0\n",
       " 14.06250000000001\n",
       "  0.0\n",
       "  4.687499999999988\n",
       "  0.0\n",
       "  ⋮\n",
       "  0.0\n",
       "  1.5625000000000007\n",
       "  0.0\n",
       "  2.8124999999999982\n",
       "  0.0\n",
       "  2.812499999999994\n",
       "  0.0\n",
       "  1.5624999999999987\n",
       "  0.0"
      ]
     },
     "metadata": {},
     "output_type": "display_data"
    }
   ],
   "source": [
    "f = FEM.loadVector(problem, [load1, load4])"
   ]
  },
  {
   "cell_type": "code",
   "execution_count": 137,
   "metadata": {},
   "outputs": [
    {
     "data": {
      "text/plain": [
       "32×32 SparseMatrixCSC{Float64, Int64} with 583 stored entries:\n",
       "⎡⣿⣿⣿⣿⢸⢸⣿⣿⣟⣿⡇⡇⢸⣿⡇⠀⎤\n",
       "⎢⣿⣿⣿⣿⢸⢸⣿⣿⣿⣿⡇⡇⢸⣿⡇⠀⎥\n",
       "⎢⣒⣒⣒⣒⢑⢔⣒⣒⣒⣒⡂⡂⢐⣒⡂⠀⎥\n",
       "⎢⣿⣿⣿⣿⢸⢸⣿⣿⣿⣿⡇⡇⢸⣿⡇⠀⎥\n",
       "⎢⣿⣿⣿⣿⢸⢸⣿⣿⣿⣿⡇⡇⢸⣿⡇⠀⎥\n",
       "⎢⠭⠭⠭⠭⠨⠨⠭⠭⠭⠭⠕⢅⠨⠭⠅⠀⎥\n",
       "⎢⣶⣶⣶⣶⢰⢰⣶⣶⣶⣶⡆⡆⢱⣶⡆⠀⎥\n",
       "⎣⠉⠉⠉⠉⠈⠈⠉⠉⠉⠉⠁⠁⠈⠉⠑⢄⎦"
      ]
     },
     "metadata": {},
     "output_type": "display_data"
    }
   ],
   "source": [
    "K1, f1 = FEM.applyBoundaryConditions(problem, K, f, [supp1, supp2])\n",
    "K1"
   ]
  },
  {
   "cell_type": "code",
   "execution_count": 138,
   "metadata": {},
   "outputs": [
    {
     "data": {
      "text/plain": [
       "32-element Vector{Float64}:\n",
       "  0.015555555555487058\n",
       "  7.993816235248337e-20\n",
       "  0.02555555555545935\n",
       " -2.4429070920757688e-19\n",
       "  0.02555555555545935\n",
       " -1.5899194955106546e-19\n",
       "  0.015555555555487056\n",
       "  4.9352939195163495e-20\n",
       "  0.0\n",
       " -1.2044712703527034e-19\n",
       "  ⋮\n",
       "  0.0\n",
       "  0.0\n",
       " -2.93150708529777e-19\n",
       "  0.029999999999897085\n",
       "  5.661927832330837e-19\n",
       "  0.029999999999897144\n",
       "  0.0\n",
       "  0.0\n",
       "  0.0"
      ]
     },
     "metadata": {},
     "output_type": "display_data"
    }
   ],
   "source": [
    "q = FEM.solveDisplacement(K1, f1)"
   ]
  },
  {
   "cell_type": "code",
   "execution_count": 139,
   "metadata": {},
   "outputs": [
    {
     "data": {
      "text/plain": [
       "32-element Vector{Float64}:\n",
       "  -9.458034355702694e-11\n",
       "  -6.821210263296962e-13\n",
       "   3.276845461641642e-11\n",
       "  -2.2737367544323206e-13\n",
       "  -1.0187406473960436e-10\n",
       "  -6.821210263296962e-13\n",
       "   3.6273206660553114e-12\n",
       "   2.2737367544323206e-13\n",
       " -41.24999999978171\n",
       "   8.526512829121202e-14\n",
       "   ⋮\n",
       "   1.1368683772161603e-13\n",
       " -13.749999999915644\n",
       "  -1.0658141036401503e-14\n",
       "   2.730260462158185e-12\n",
       "   1.4210854715202004e-13\n",
       "  -2.9097613207795803e-11\n",
       "  -5.684341886080801e-13\n",
       " -13.749999999954523\n",
       "  -6.252776074688882e-13"
      ]
     },
     "metadata": {},
     "output_type": "display_data"
    }
   ],
   "source": [
    "FT = K * q - f"
   ]
  },
  {
   "cell_type": "code",
   "execution_count": 140,
   "metadata": {},
   "outputs": [
    {
     "data": {
      "text/plain": [
       "LowLevelFEM.TensorField([[109.99999999942736; -4.3946328057815173e-13; … ; 0.0; 0.0;;]], [5], 1, :s)"
      ]
     },
     "metadata": {},
     "output_type": "display_data"
    }
   ],
   "source": [
    "S = FEM.solveStress(problem, q)"
   ]
  },
  {
   "cell_type": "code",
   "execution_count": 141,
   "metadata": {},
   "outputs": [],
   "source": [
    "gmsh.option.setNumber(\"View.IntervalsType\", 3)\n",
    "gmsh.option.setNumber(\"View.VectorType\", 5)\n",
    "gmsh.option.setString(\"View.Format\", \"%.6g\")"
   ]
  },
  {
   "cell_type": "code",
   "execution_count": 142,
   "metadata": {},
   "outputs": [
    {
     "data": {
      "text/plain": [
       "3"
      ]
     },
     "metadata": {},
     "output_type": "display_data"
    }
   ],
   "source": [
    "ux = FEM.showDoFResults(problem, q, :ux, name=\"uₓ\", visible=false)\n",
    "sx = FEM.showStressResults(problem, S, :sx, name=\"N\", visible=false, smooth=false)\n",
    "#gmsh.view.option.setNumber(sx, \"MaxRecursionLevel\", 0)\n",
    "ff = FEM.showDoFResults(problem, f, :uvec, name=\"f\", visible=false)\n",
    "ft = FEM.showDoFResults(problem, FT, :uvec, name=\"F_T\", visible=true)"
   ]
  },
  {
   "cell_type": "code",
   "execution_count": 143,
   "metadata": {},
   "outputs": [
    {
     "data": {
      "text/plain": [
       "\"FT = -109.99999999983125 N\""
      ]
     },
     "metadata": {},
     "output_type": "display_data"
    },
    {
     "data": {
      "text/plain": [
       "\"N(0) = 109.99899999942713 N\""
      ]
     },
     "metadata": {},
     "output_type": "display_data"
    }
   ],
   "source": [
    "display(\"FT = $(sum(FT)) N\")\n",
    "display(\"N(0) = $(gmsh.view.probe(sx, 0.001, A/2, 0)[1][1]) N\")"
   ]
  },
  {
   "cell_type": "code",
   "execution_count": 144,
   "metadata": {},
   "outputs": [],
   "source": [
    "gmsh.view.option.setNumber(ft, \"VectorType\", 4)\n",
    "gmsh.view.option.setNumber(ft, \"GlyphLocation\", 2)\n",
    "gmsh.view.option.setNumber(ft, \"ArrowSizeMax\", 100)\n",
    "\n",
    "gmsh.view.option.setNumber(ff, \"VectorType\", 4)\n",
    "gmsh.view.option.setNumber(ff, \"GlyphLocation\", 2)\n",
    "gmsh.view.option.setNumber(ff, \"ArrowSizeMax\", 100)"
   ]
  },
  {
   "cell_type": "code",
   "execution_count": 145,
   "metadata": {},
   "outputs": [],
   "source": [
    "FEM.plotOnPath(problem, \"path\", sx, name=\"N\", visible=true);\n",
    "FEM.plotOnPath(problem, \"path\", ux, name=\"uₓ\", visible=true);"
   ]
  },
  {
   "cell_type": "code",
   "execution_count": 146,
   "metadata": {},
   "outputs": [
    {
     "name": "stdout",
     "output_type": "stream",
     "text": [
      "-------------------------------------------------------\n",
      "Version       : 4.13.1\n",
      "License       : GNU General Public License\n",
      "Build OS      : Linux64-sdk\n",
      "Build date    : 19700101\n",
      "Build host    : amdci7.julia.csail.mit.edu\n",
      "Build options : 64Bit ALGLIB[contrib] ANN[contrib] Bamg Blossom Cairo DIntegration Dlopen DomHex Eigen[contrib] Fltk GMP Gmm[contrib] Hxt Jpeg Kbipack LinuxJoystick MathEx[contrib] Mesh Metis[contrib] Mmg Mpeg Netgen Nii2mesh ONELAB ONELABMetamodel OpenCASCADE OpenCASCADE-CAF OpenGL OpenMP OptHom Parser Plugins Png Post QuadMeshingTools QuadTri Solver TetGen/BR TinyXML2[contrib] Untangle Voro++[contrib] WinslowUntangler Zlib\n",
      "FLTK version  : 1.3.8\n",
      "OCC version   : 7.7.2\n",
      "Packaged by   : root\n",
      "Web site      : https://gmsh.info\n",
      "Issue tracker : https://gitlab.onelab.info/gmsh/gmsh/issues\n",
      "-------------------------------------------------------\n"
     ]
    },
    {
     "name": "stderr",
     "output_type": "stream",
     "text": [
      "XRequest.18: BadValue 0x0\n"
     ]
    }
   ],
   "source": [
    "gmsh.fltk.run()"
   ]
  },
  {
   "cell_type": "code",
   "execution_count": 147,
   "metadata": {
    "slideshow": {
     "slide_type": ""
    },
    "tags": []
   },
   "outputs": [],
   "source": [
    "gmsh.finalize()"
   ]
  }
 ],
 "metadata": {
  "kernelspec": {
   "display_name": "Julia 1.11.3",
   "language": "julia",
   "name": "julia-1.11"
  },
  "language_info": {
   "file_extension": ".jl",
   "mimetype": "application/julia",
   "name": "julia",
   "version": "1.11.3"
  },
  "varInspector": {
   "cols": {
    "lenName": 16,
    "lenType": 16,
    "lenVar": 40
   },
   "kernels_config": {
    "python": {
     "delete_cmd_postfix": "",
     "delete_cmd_prefix": "del ",
     "library": "var_list.py",
     "varRefreshCmd": "print(var_dic_list())"
    },
    "r": {
     "delete_cmd_postfix": ") ",
     "delete_cmd_prefix": "rm(",
     "library": "var_list.r",
     "varRefreshCmd": "cat(var_dic_list()) "
    }
   },
   "types_to_exclude": [
    "module",
    "function",
    "builtin_function_or_method",
    "instance",
    "_Feature"
   ],
   "window_display": false
  }
 },
 "nbformat": 4,
 "nbformat_minor": 4
}
