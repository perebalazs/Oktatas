{
 "cells": [
  {
   "cell_type": "code",
   "execution_count": 1,
   "metadata": {},
   "outputs": [],
   "source": [
    "import LowLevelFEM as FEM\n",
    "using LowLevelFEM\n",
    "\n",
    "gmsh.initialize();"
   ]
  },
  {
   "cell_type": "code",
   "execution_count": 2,
   "metadata": {},
   "outputs": [
    {
     "name": "stdout",
     "output_type": "stream",
     "text": [
      "Info    : Reading 'U-acel.geo'...\n",
      "Info    : Meshing 1D...                                                                                                                         \n",
      "Info    : [  0%] Meshing curve 9 (Line)\n",
      "Info    : [ 10%] Meshing curve 10 (Line)\n",
      "Info    : [ 20%] Meshing curve 11 (Line)\n",
      "Info    : [ 30%] Meshing curve 12 (Line)\n",
      "Info    : [ 40%] Meshing curve 13 (Line)\n",
      "Info    : [ 50%] Meshing curve 14 (Line)\n",
      "Info    : [ 60%] Meshing curve 15 (Line)\n",
      "Info    : [ 60%] Meshing curve 16 (Line)\n",
      "Info    : [ 70%] Meshing curve 17 (Line)\n",
      "Info    : [ 80%] Meshing curve 18 (Line)\n",
      "Info    : [ 90%] Meshing curve 19 (Line)\n",
      "Info    : [100%] Meshing curve 20 (Line)\n",
      "Info    : Done meshing 1D (Wall 0.00131777s, CPU 0.001302s)\n",
      "Info    : Meshing 2D...\n",
      "Info    : [  0%] Meshing surface 1 (Transfinite)\n",
      "Info    : [ 40%] Meshing surface 2 (Transfinite)\n",
      "Info    : [ 70%] Meshing surface 3 (Transfinite)\n",
      "Info    : Done meshing 2D (Wall 0.000707679s, CPU 0.000706s)\n",
      "Info    : 965 nodes 1178 elements\n",
      "Info    : Meshing 1D...\n",
      "Info    : [  0%] Meshing curve 9 (Line)\n",
      "Info    : [ 10%] Meshing curve 10 (Line)\n",
      "Info    : [ 10%] Meshing curve 11 (Line)\n",
      "Info    : [ 10%] Meshing curve 12 (Line)\n",
      "Info    : [ 20%] Meshing curve 13 (Line)\n",
      "Info    : [ 20%] Meshing curve 14 (Line)\n",
      "Info    : [ 20%] Meshing curve 15 (Line)\n",
      "Info    : [ 30%] Meshing curve 16 (Line)\n",
      "Info    : [ 30%] Meshing curve 17 (Line)\n",
      "Info    : [ 30%] Meshing curve 18 (Line)\n",
      "Info    : [ 30%] Meshing curve 19 (Line)\n",
      "Info    : [ 40%] Meshing curve 20 (Line)\n",
      "Info    : [ 40%] Meshing curve 21 (Extruded)\n",
      "Info    : [ 40%] Meshing curve 22 (Extruded)\n",
      "Info    : [ 50%] Meshing curve 23 (Extruded)\n",
      "Info    : [ 50%] Meshing curve 24 (Extruded)\n",
      "Info    : [ 50%] Meshing curve 25 (Extruded)\n",
      "Info    : [ 60%] Meshing curve 26 (Extruded)\n",
      "Info    : [ 60%] Meshing curve 27 (Extruded)\n",
      "Info    : [ 60%] Meshing curve 28 (Extruded)\n",
      "Info    : [ 60%] Meshing curve 29 (Extruded)\n",
      "Info    : [ 70%] Meshing curve 30 (Extruded)\n",
      "Info    : [ 70%] Meshing curve 31 (Extruded)\n",
      "Info    : [ 70%] Meshing curve 32 (Extruded)\n",
      "Info    : [ 80%] Meshing curve 33 (Extruded)\n",
      "Info    : [ 80%] Meshing curve 34 (Extruded)\n",
      "Info    : [ 80%] Meshing curve 35 (Extruded)\n",
      "Info    : [ 80%] Meshing curve 36 (Extruded)\n",
      "Info    : [ 90%] Meshing curve 37 (Extruded)\n",
      "Info    : [ 90%] Meshing curve 38 (Extruded)\n",
      "Info    : [ 90%] Meshing curve 39 (Extruded)\n",
      "Info    : [100%] Meshing curve 40 (Extruded)\n",
      "Info    : [100%] Meshing curve 41 (Extruded)\n",
      "Info    : [100%] Meshing curve 42 (Extruded)\n",
      "Info    : Done meshing 1D (Wall 0.0017553s, CPU 0.001755s)\n",
      "Info    : Meshing 2D...\n",
      "Info    : [  0%] Meshing surface 1 (Transfinite)\n",
      "Info    : [ 10%] Meshing surface 2 (Transfinite)\n",
      "Info    : [ 20%] Meshing surface 3 (Transfinite)\n",
      "Info    : [ 20%] Meshing surface 4 (Extruded)\n",
      "Info    : [ 30%] Meshing surface 5 (Extruded)\n",
      "Info    : [ 30%] Meshing surface 6 (Extruded)\n",
      "Info    : [ 40%] Meshing surface 7 (Extruded)\n",
      "Info    : [ 40%] Meshing surface 8 (Extruded)\n",
      "Info    : [ 50%] Meshing surface 9 (Extruded)\n",
      "Info    : [ 60%] Meshing surface 10 (Extruded)\n",
      "Info    : [ 60%] Meshing surface 11 (Extruded)\n",
      "Info    : [ 70%] Meshing surface 12 (Extruded)\n",
      "Info    : [ 70%] Meshing surface 13 (Extruded)\n",
      "Info    : [ 80%] Meshing surface 14 (Extruded)\n",
      "Info    : [ 80%] Meshing surface 15 (Extruded)\n",
      "Info    : [ 90%] Meshing surface 16 (Extruded)\n",
      "Info    : [ 90%] Meshing surface 17 (Extruded)\n",
      "Info    : [100%] Meshing surface 18 (Extruded)\n",
      "Info    : Done meshing 2D (Wall 0.145588s, CPU 0.131177s)\n",
      "Info    : Meshing 3D...\n",
      "Info    : Meshing volume 1 (Extruded)\n",
      "Info    : Meshing volume 2 (Extruded)\n",
      "Info    : Meshing volume 3 (Extruded)\n",
      "Info    : Done meshing 3D (Wall 0.628933s, CPU 0.596556s)\n",
      "Info    : Optimizing mesh...\n",
      "Info    : Done optimizing mesh (Wall 0.00332085s, CPU 0.003299s)\n",
      "Info    : 97465 nodes 120156 elements\n",
      "Info    : Done reading 'U-acel.geo'\n",
      "Info    : RCMK renumbering...\n",
      "Info    : Done RCMK renumbering (bandwidth is now 1325)\n"
     ]
    },
    {
     "data": {
      "text/plain": [
       "LowLevelFEM.Problem(\"U-acel\", \"Solid\", 3, [(\"body\", 200000.0, 0.3, 7.85e-9)], 1.0, 97465)"
      ]
     },
     "metadata": {},
     "output_type": "display_data"
    }
   ],
   "source": [
    "gmsh.open(\"U-acel.geo\")\n",
    "\n",
    "mat1 = FEM.material(\"body\", E=2e5, ν=0.3)\n",
    "problem = FEM.Problem([mat1], type=\"Solid\", bandwidth=\"none\")"
   ]
  },
  {
   "cell_type": "code",
   "execution_count": 3,
   "metadata": {},
   "outputs": [],
   "source": [
    "#gmsh.fltk.run()"
   ]
  },
  {
   "cell_type": "code",
   "execution_count": 4,
   "metadata": {},
   "outputs": [
    {
     "data": {
      "text/plain": [
       "100"
      ]
     },
     "metadata": {},
     "output_type": "display_data"
    }
   ],
   "source": [
    "xs = (200 * 8 * 4 + 92 * 8 * 54 * 2) / (2 * 92 * 8 + 200 * 8)\n",
    "ys = 100"
   ]
  },
  {
   "cell_type": "code",
   "execution_count": 5,
   "metadata": {},
   "outputs": [
    {
     "data": {
      "text/plain": [
       "Fy (generic function with 1 method)"
      ]
     },
     "metadata": {},
     "output_type": "display_data"
    }
   ],
   "source": [
    "function Fx(x, y, z)\n",
    "    ξ = x - xs\n",
    "    η = y - ys\n",
    "    φ = atan(η, ξ)\n",
    "    r = √(ξ^2 + η^2)\n",
    "    return -r * sin(φ) * 0.01\n",
    "end\n",
    "\n",
    "function Fy(x, y, z)\n",
    "    ξ = x - xs\n",
    "    η = y - ys\n",
    "    φ = atan(η, ξ)\n",
    "    r = √(ξ^2 + η^2)\n",
    "    return r * cos(φ) * 0.01\n",
    "end"
   ]
  },
  {
   "cell_type": "code",
   "execution_count": 6,
   "metadata": {},
   "outputs": [],
   "source": [
    "supp = FEM.displacementConstraint(\"supp\", ux=0, uy=0, uz=0)\n",
    "load = FEM.displacementConstraint(\"load\", ux=Fx, uy=Fy)\n",
    "load0 = FEM.load(\"load\", fy=-1);"
   ]
  },
  {
   "cell_type": "code",
   "execution_count": 7,
   "metadata": {},
   "outputs": [
    {
     "data": {
      "text/plain": [
       "292395×292395 SparseArrays.SparseMatrixCSC{Float64, Int64} with 20282687 stored entries:\n",
       "⎡⣿⣿⡛⠿⠿⡿⠿⠿⠿⠿⠿⠿⠿⠿⠿⠿⠿⠿⣿⠶⠾⠿⠿⠿⠿⠿⠧⠤⠤⠤⠿⠿⠿⠿⠿⠿⠿⠿⠿⠿⎤\n",
       "⎢⣿⡌⠻⣦⡀⡇⠀⠀⠀⠀⠀⠀⠠⠄⠀⠀⠀⠞⠡⠀⢠⡀⠄⠀⠀⠀⠀⠀⠀⠀⠀⠀⠀⠀⠄⠀⠀⠀⠀⠀⎥\n",
       "⎢⣿⡧⠤⠬⠿⣧⡀⠀⠀⠀⠀⠀⠀⡄⠀⠀⠀⠤⠤⠤⠤⠽⠆⠀⠀⠀⠀⠀⠀⠀⢤⡀⠀⠀⠀⠀⠀⠀⠀⠀⎥\n",
       "⎢⣿⡇⠀⠀⠀⠈⠻⣦⡀⠀⠀⠀⠀⡇⠀⠀⠀⠀⠀⠀⠀⠀⠀⠀⠀⠀⠀⠀⠀⠀⠀⠙⢦⡀⠀⠀⠀⠀⠀⠀⎥\n",
       "⎢⣿⡇⠀⠀⠀⠀⠀⠈⠻⣦⡀⠀⠐⡇⠐⠂⠐⠂⠀⠀⠀⠀⠂⠀⠀⣠⠆⠀⠀⠀⠖⠀⠀⠙⠂⠀⠀⠀⠀⠐⎥\n",
       "⎢⣿⡇⠀⠀⠀⠀⠀⠀⠀⠈⠻⣦⡀⡇⠀⠀⠀⠀⠀⠀⠀⠀⠀⣠⠞⠁⠀⠀⠀⠀⠀⠀⠀⠀⠀⠀⠀⠀⠀⠀⎥\n",
       "⎢⣿⡇⠀⠆⠀⠤⠤⠤⠴⠤⠤⠬⠿⣧⡀⠄⢠⠀⠀⠀⠀⠀⠾⠥⠤⠤⠤⠤⠤⠤⠦⠤⠤⠤⠦⣄⣀⠀⠀⠀⎥\n",
       "⎢⣿⡇⠀⠀⠀⠀⠀⠀⠰⠀⠀⠀⠀⠌⠻⣦⣸⠄⠀⠀⠀⠀⠀⠀⠀⠀⠀⠀⠀⠀⠀⠀⠀⠀⠄⠀⠈⣉⣳⠶⎥\n",
       "⎢⣿⡇⣠⠄⠀⡄⠀⠀⠰⠀⠀⠀⠀⠒⠒⠞⠻⣦⡠⣄⠀⠀⠀⠀⠀⠀⠀⠀⠀⠀⠀⠀⠀⠀⠒⠚⠛⠓⠒⠲⎥\n",
       "⎢⢻⡟⠁⠂⠀⡇⠀⠀⠀⠀⠀⠀⠀⠀⠀⠀⠀⢮⡻⣮⡳⣄⠀⠀⠀⠀⠀⠀⠀⠀⠀⠀⠀⠀⠀⠀⠀⠀⠀⠀⎥\n",
       "⎢⣾⡇⠀⠲⣄⡇⠀⠀⠀⠀⠀⠀⠀⠀⠀⠀⠀⠀⠙⢮⡻⣮⡃⠀⠀⠀⠀⠀⠀⠀⠀⠀⠀⠀⠀⠀⠀⠀⠀⠀⎥\n",
       "⎢⣿⡇⠀⠁⠈⠁⠀⠀⠈⠀⠀⣠⠞⡇⠀⠀⠀⠀⠀⠀⠉⠈⠻⣦⡀⠀⠻⣦⡀⠀⠀⠀⠀⠀⠀⠀⠀⠀⠀⠀⎥\n",
       "⎢⣿⡇⠀⠀⠀⠀⠀⠀⠀⣠⠞⠁⠀⡇⠀⠀⠀⠀⠀⠀⠀⠀⠀⠈⠻⣦⡀⠈⠻⣦⡀⠀⠀⠀⠀⠀⠀⠀⠀⠀⎥\n",
       "⎢⠉⡇⠀⠀⠀⠀⠀⠀⠈⠁⠀⠀⠀⡇⠀⠀⠀⠀⠀⠀⠀⠀⠻⣦⡀⠈⠻⣦⡀⠈⠻⣦⡀⠀⠀⠀⠀⠀⠀⠀⎥\n",
       "⎢⠀⡇⠀⠀⠀⠀⠀⠀⠀⠀⠀⠀⠀⡇⠀⠀⠀⠀⠀⠀⠀⠀⠀⠈⠻⣦⡀⠈⠻⣦⡀⠈⠻⣦⡀⠀⠀⠀⠀⠀⎥\n",
       "⎢⣿⡇⠀⠀⠀⠳⣄⠀⠘⠁⠀⠀⠈⡇⠀⠀⠀⠀⠀⠀⠀⠀⠀⠀⠀⠈⠻⣦⡀⠈⠻⣦⡀⠈⠁⠀⠀⠀⠀⠀⎥\n",
       "⎢⣿⡇⠀⠀⠀⠀⠈⠳⣄⠀⠀⠀⠀⡇⠀⠀⠀⠀⠀⠀⠀⠀⠀⠀⠀⠀⠀⠈⠻⣦⡀⠈⠻⣦⡀⠀⠀⠀⠀⠀⎥\n",
       "⎢⣿⡇⠀⠁⠀⠀⠀⠀⠈⠀⠀⠀⠈⢧⠀⠁⣸⠀⠀⠀⠀⠀⠀⠀⠀⠀⠀⠀⠀⠈⠁⠀⠀⠈⠻⣦⡀⠀⠀⠀⎥\n",
       "⎢⣿⡇⠀⠀⠀⠀⠀⠀⠀⠀⠀⠀⠀⠘⡆⢠⢿⠀⠀⠀⠀⠀⠀⠀⠀⠀⠀⠀⠀⠀⠀⠀⠀⠀⠀⠈⠻⣦⡀⠀⎥\n",
       "⎣⣿⡇⠀⠀⠀⠀⠀⠀⢀⠀⠀⠀⠀⠀⢹⡞⢸⡀⠀⠀⠀⠀⠀⠀⠀⠀⠀⠀⠀⠀⠀⠀⠀⠀⠀⠀⠀⠈⠻⣦⎦"
      ]
     },
     "metadata": {},
     "output_type": "display_data"
    }
   ],
   "source": [
    "K = FEM.stiffnessMatrix(problem)"
   ]
  },
  {
   "cell_type": "code",
   "execution_count": 8,
   "metadata": {},
   "outputs": [],
   "source": [
    "f = FEM.loadVector(problem, [load0]);"
   ]
  },
  {
   "cell_type": "code",
   "execution_count": 9,
   "metadata": {},
   "outputs": [],
   "source": [
    "FEM.applyBoundaryConditions!(problem, K, f, [supp]);"
   ]
  },
  {
   "cell_type": "code",
   "execution_count": 10,
   "metadata": {},
   "outputs": [],
   "source": [
    "q = FEM.solveDisplacement(K, f);"
   ]
  },
  {
   "cell_type": "code",
   "execution_count": 11,
   "metadata": {},
   "outputs": [],
   "source": [
    "S = FEM.solveStress(problem, q);"
   ]
  },
  {
   "cell_type": "code",
   "execution_count": 12,
   "metadata": {},
   "outputs": [
    {
     "name": "stdout",
     "output_type": "stream",
     "text": [
      "Info    : Running Plugin(Smooth)...\n",
      "Info    : Done running Plugin(Smooth)\n",
      "Info    : Running Plugin(Smooth)...\n",
      "Info    : Done running Plugin(Smooth)\n",
      "Info    : Running Plugin(Smooth)...\n",
      "Info    : Done running Plugin(Smooth)\n",
      "Info    : Running Plugin(Smooth)...\n",
      "Info    : Done running Plugin(Smooth)\n",
      "Info    : Running Plugin(Smooth)...\n",
      "Info    : Done running Plugin(Smooth)\n",
      "Info    : Running Plugin(Smooth)...\n",
      "Info    : Done running Plugin(Smooth)\n"
     ]
    },
    {
     "data": {
      "text/plain": [
       "10"
      ]
     },
     "metadata": {},
     "output_type": "display_data"
    }
   ],
   "source": [
    "u = FEM.showDoFResults(problem, q, \"uvec\", name=\"uvec\", visible=false)\n",
    "ux = FEM.showDoFResults(problem, q, \"ux\", name=\"ux\", visible=false)\n",
    "uy = FEM.showDoFResults(problem, q, \"uy\", name=\"uy\", visible=false)\n",
    "uz = FEM.showDoFResults(problem, q, \"uz\", name=\"uz\", visible=false)\n",
    "\n",
    "#s = FEM.showStressResults(problem, S, \"s\", name=\"σ\", visible=true, smooth=false)\n",
    "#ss = FEM.showStressResults(problem, S, \"s\", name=\"σ smooth\", visible=false, smooth=true)\n",
    "sx = FEM.showStressResults(problem, S, \"sx\", name=\"σx\", visible=false, smooth=true)\n",
    "sy = FEM.showStressResults(problem, S, \"sy\", name=\"σy\", visible=false, smooth=true)\n",
    "sz = FEM.showStressResults(problem, S, \"sz\", name=\"σz\", visible=false, smooth=true)\n",
    "sxy = FEM.showStressResults(problem, S, \"sxy\", name=\"τxy\", visible=false, smooth=true)\n",
    "syz = FEM.showStressResults(problem, S, \"syz\", name=\"τyz\", visible=false, smooth=true)\n",
    "szx = FEM.showStressResults(problem, S, \"szx\", name=\"τzx\", visible=false, smooth=true)"
   ]
  },
  {
   "cell_type": "code",
   "execution_count": 13,
   "metadata": {},
   "outputs": [],
   "source": [
    "#FEM.plotOnPath(problem, \"path7\", syz, 1000, name=\"τyz\", visible=true);"
   ]
  },
  {
   "cell_type": "code",
   "execution_count": 14,
   "metadata": {},
   "outputs": [
    {
     "name": "stdout",
     "output_type": "stream",
     "text": [
      "-------------------------------------------------------\n",
      "Version       : 4.13.1\n",
      "License       : GNU General Public License\n",
      "Build OS      : Linux64-sdk\n",
      "Build date    : 19700101\n",
      "Build host    : amdci7.julia.csail.mit.edu\n",
      "Build options : 64Bit ALGLIB[contrib] ANN[contrib] Bamg Blossom Cairo DIntegration Dlopen DomHex Eigen[contrib] Fltk GMP Gmm[contrib] Hxt Jpeg Kbipack LinuxJoystick MathEx[contrib] Mesh Metis[contrib] Mmg Mpeg Netgen Nii2mesh ONELAB ONELABMetamodel OpenCASCADE OpenCASCADE-CAF OpenGL OpenMP OptHom Parser Plugins Png Post QuadMeshingTools QuadTri Solver TetGen/BR TinyXML2[contrib] Untangle Voro++[contrib] WinslowUntangler Zlib\n",
      "FLTK version  : 1.3.8\n",
      "OCC version   : 7.7.2\n",
      "Packaged by   : root\n",
      "Web site      : https://gmsh.info\n",
      "Issue tracker : https://gitlab.onelab.info/gmsh/gmsh/issues\n",
      "-------------------------------------------------------\n",
      "Info    : Writing '/home/perebal/tmp/x_0'...\n",
      "Info    : Writing VTK data in uvec_step0_level1_tol-0.0001_npart4/data0.vtu: fieldname = uvec - numElm = 118336 - numNod = 266256 nodes\n",
      "Info    : Writing VTK data in uvec_step0_level1_tol-0.0001_npart4/data1.vtu: fieldname = uvec - numElm = 188864 - numNod = 583632 nodes\n",
      "Info    : Writing VTK data in uvec_step0_level1_tol-0.0001_npart4/data2.vtu: fieldname = uvec - numElm = 236672 - numNod = 798768 nodes\n",
      "Info    : Writing VTK data in uvec_step0_level1_tol-0.0001_npart4/data3.vtu: fieldname = uvec - numElm = 236672 - numNod = 798768 nodes\n",
      "Info    : Done writing VTK data\n",
      "Info    : Writing '/home/perebal/tmp/x_1'...\n",
      "Info    : Writing VTK data in ux_step0_level1_tol-0.0001_npart4/data0.vtu: fieldname = ux - numElm = 118336 - numNod = 266256 nodes\n",
      "Info    : Writing VTK data in ux_step0_level1_tol-0.0001_npart4/data1.vtu: fieldname = ux - numElm = 188864 - numNod = 583632 nodes\n",
      "Info    : Writing VTK data in ux_step0_level1_tol-0.0001_npart4/data2.vtu: fieldname = ux - numElm = 236672 - numNod = 798768 nodes\n",
      "Info    : Writing VTK data in ux_step0_level1_tol-0.0001_npart4/data3.vtu: fieldname = ux - numElm = 236672 - numNod = 798768 nodes\n",
      "Info    : Done writing VTK data\n",
      "Info    : Writing '/home/perebal/tmp/x_2'...\n",
      "Info    : Writing VTK data in uy_step0_level1_tol-0.0001_npart4/data0.vtu: fieldname = uy - numElm = 118336 - numNod = 266256 nodes\n",
      "Info    : Writing VTK data in uy_step0_level1_tol-0.0001_npart4/data1.vtu: fieldname = uy - numElm = 188864 - numNod = 583632 nodes\n",
      "Info    : Writing VTK data in uy_step0_level1_tol-0.0001_npart4/data2.vtu: fieldname = uy - numElm = 236672 - numNod = 798768 nodes\n",
      "Info    : Writing VTK data in uy_step0_level1_tol-0.0001_npart4/data3.vtu: fieldname = uy - numElm = 236672 - numNod = 798768 nodes\n",
      "Info    : Done writing VTK data\n",
      "Info    : Writing '/home/perebal/tmp/x_3'...\n",
      "Info    : Writing VTK data in uz_step0_level1_tol-0.0001_npart4/data0.vtu: fieldname = uz - numElm = 118336 - numNod = 266256 nodes\n",
      "Info    : Writing VTK data in uz_step0_level1_tol-0.0001_npart4/data1.vtu: fieldname = uz - numElm = 188864 - numNod = 583632 nodes\n",
      "Info    : Writing VTK data in uz_step0_level1_tol-0.0001_npart4/data2.vtu: fieldname = uz - numElm = 236672 - numNod = 798768 nodes\n",
      "Info    : Writing VTK data in uz_step0_level1_tol-0.0001_npart4/data3.vtu: fieldname = uz - numElm = 236672 - numNod = 798768 nodes\n",
      "Info    : Done writing VTK data\n",
      "Info    : Writing '/home/perebal/tmp/x_4'...\n",
      "Info    : Writing VTK data in σx_step0_level1_tol-0.0001_npart4/data0.vtu: fieldname = σx - numElm = 118336 - numNod = 266256 nodes\n",
      "Info    : Writing VTK data in σx_step0_level1_tol-0.0001_npart4/data1.vtu: fieldname = σx - numElm = 188864 - numNod = 583632 nodes\n",
      "Info    : Writing VTK data in σx_step0_level1_tol-0.0001_npart4/data2.vtu: fieldname = σx - numElm = 236672 - numNod = 798768 nodes\n",
      "Info    : Writing VTK data in σx_step0_level1_tol-0.0001_npart4/data3.vtu: fieldname = σx - numElm = 236672 - numNod = 798768 nodes\n",
      "Info    : Done writing VTK data\n",
      "Info    : Writing '/home/perebal/tmp/x_5'...\n",
      "Info    : Writing VTK data in σy_step0_level1_tol-0.0001_npart4/data0.vtu: fieldname = σy - numElm = 118336 - numNod = 266256 nodes\n",
      "Info    : Writing VTK data in σy_step0_level1_tol-0.0001_npart4/data1.vtu: fieldname = σy - numElm = 188864 - numNod = 583632 nodes\n",
      "Info    : Writing VTK data in σy_step0_level1_tol-0.0001_npart4/data2.vtu: fieldname = σy - numElm = 236672 - numNod = 798768 nodes\n",
      "Info    : Writing VTK data in σy_step0_level1_tol-0.0001_npart4/data3.vtu: fieldname = σy - numElm = 236672 - numNod = 798768 nodes\n",
      "Info    : Done writing VTK data\n",
      "Info    : Writing '/home/perebal/tmp/x_6'...\n",
      "Info    : Writing VTK data in σz_step0_level1_tol-0.0001_npart4/data0.vtu: fieldname = σz - numElm = 118336 - numNod = 266256 nodes\n",
      "Info    : Writing VTK data in σz_step0_level1_tol-0.0001_npart4/data1.vtu: fieldname = σz - numElm = 188864 - numNod = 583632 nodes\n",
      "Info    : Writing VTK data in σz_step0_level1_tol-0.0001_npart4/data2.vtu: fieldname = σz - numElm = 236672 - numNod = 798768 nodes\n",
      "Info    : Writing VTK data in σz_step0_level1_tol-0.0001_npart4/data3.vtu: fieldname = σz - numElm = 236672 - numNod = 798768 nodes\n",
      "Info    : Done writing VTK data\n",
      "Info    : Writing '/home/perebal/tmp/x_7'...\n",
      "Info    : Writing VTK data in τxy_step0_level1_tol-0.0001_npart4/data0.vtu: fieldname = τxy - numElm = 118336 - numNod = 266256 nodes\n",
      "Info    : Writing VTK data in τxy_step0_level1_tol-0.0001_npart4/data1.vtu: fieldname = τxy - numElm = 188864 - numNod = 583632 nodes\n",
      "Info    : Writing VTK data in τxy_step0_level1_tol-0.0001_npart4/data2.vtu: fieldname = τxy - numElm = 236672 - numNod = 798768 nodes\n",
      "Info    : Writing VTK data in τxy_step0_level1_tol-0.0001_npart4/data3.vtu: fieldname = τxy - numElm = 236672 - numNod = 798768 nodes\n",
      "Info    : Done writing VTK data\n",
      "Info    : Writing '/home/perebal/tmp/x_8'...\n",
      "Info    : Writing VTK data in τyz_step0_level1_tol-0.0001_npart4/data0.vtu: fieldname = τyz - numElm = 118336 - numNod = 266256 nodes\n",
      "Info    : Writing VTK data in τyz_step0_level1_tol-0.0001_npart4/data1.vtu: fieldname = τyz - numElm = 188864 - numNod = 583632 nodes\n",
      "Info    : Writing VTK data in τyz_step0_level1_tol-0.0001_npart4/data2.vtu: fieldname = τyz - numElm = 236672 - numNod = 798768 nodes\n",
      "Info    : Writing VTK data in τyz_step0_level1_tol-0.0001_npart4/data3.vtu: fieldname = τyz - numElm = 236672 - numNod = 798768 nodes\n",
      "Info    : Done writing VTK data\n",
      "Info    : Writing '/home/perebal/tmp/x_9'...\n",
      "Info    : Writing VTK data in τzx_step0_level1_tol-0.0001_npart4/data0.vtu: fieldname = τzx - numElm = 118336 - numNod = 266256 nodes\n",
      "Info    : Writing VTK data in τzx_step0_level1_tol-0.0001_npart4/data1.vtu: fieldname = τzx - numElm = 188864 - numNod = 583632 nodes\n",
      "Info    : Writing VTK data in τzx_step0_level1_tol-0.0001_npart4/data2.vtu: fieldname = τzx - numElm = 236672 - numNod = 798768 nodes\n",
      "Info    : Writing VTK data in τzx_step0_level1_tol-0.0001_npart4/data3.vtu: fieldname = τzx - numElm = 236672 - numNod = 798768 nodes\n",
      "Info    : Done writing VTK data\n",
      "Info    : Writing '/home/perebal/tmp/xxxx_0'...\n",
      "Info    : Writing VTK data in uvec_step0_level1_tol-0.0001_npart4/data0.vtu: fieldname = uvec - numElm = 118336 - numNod = 266256 nodes\n",
      "Info    : Writing VTK data in uvec_step0_level1_tol-0.0001_npart4/data1.vtu: fieldname = uvec - numElm = 188864 - numNod = 583632 nodes\n",
      "Info    : Writing VTK data in uvec_step0_level1_tol-0.0001_npart4/data2.vtu: fieldname = uvec - numElm = 236672 - numNod = 798768 nodes\n",
      "Info    : Writing VTK data in uvec_step0_level1_tol-0.0001_npart4/data3.vtu: fieldname = uvec - numElm = 236672 - numNod = 798768 nodes\n",
      "Info    : Done writing VTK data\n",
      "Info    : Writing '/home/perebal/tmp/xxxx_1'...\n",
      "Info    : Writing VTK data in ux_step0_level1_tol-0.0001_npart4/data0.vtu: fieldname = ux - numElm = 118336 - numNod = 266256 nodes\n",
      "Info    : Writing VTK data in ux_step0_level1_tol-0.0001_npart4/data1.vtu: fieldname = ux - numElm = 188864 - numNod = 583632 nodes\n",
      "Info    : Writing VTK data in ux_step0_level1_tol-0.0001_npart4/data2.vtu: fieldname = ux - numElm = 236672 - numNod = 798768 nodes\n",
      "Info    : Writing VTK data in ux_step0_level1_tol-0.0001_npart4/data3.vtu: fieldname = ux - numElm = 236672 - numNod = 798768 nodes\n",
      "Info    : Done writing VTK data\n",
      "Info    : Writing '/home/perebal/tmp/xxxx_2'...\n",
      "Info    : Writing VTK data in uy_step0_level1_tol-0.0001_npart4/data0.vtu: fieldname = uy - numElm = 118336 - numNod = 266256 nodes\n",
      "Info    : Writing VTK data in uy_step0_level1_tol-0.0001_npart4/data1.vtu: fieldname = uy - numElm = 188864 - numNod = 583632 nodes\n",
      "Info    : Writing VTK data in uy_step0_level1_tol-0.0001_npart4/data2.vtu: fieldname = uy - numElm = 236672 - numNod = 798768 nodes\n",
      "Info    : Writing VTK data in uy_step0_level1_tol-0.0001_npart4/data3.vtu: fieldname = uy - numElm = 236672 - numNod = 798768 nodes\n",
      "Info    : Done writing VTK data\n",
      "Info    : Writing '/home/perebal/tmp/xxxx_3'...\n",
      "Info    : Writing VTK data in uz_step0_level1_tol-0.0001_npart4/data0.vtu: fieldname = uz - numElm = 118336 - numNod = 266256 nodes\n",
      "Info    : Writing VTK data in uz_step0_level1_tol-0.0001_npart4/data1.vtu: fieldname = uz - numElm = 188864 - numNod = 583632 nodes\n",
      "Info    : Writing VTK data in uz_step0_level1_tol-0.0001_npart4/data2.vtu: fieldname = uz - numElm = 236672 - numNod = 798768 nodes\n",
      "Info    : Writing VTK data in uz_step0_level1_tol-0.0001_npart4/data3.vtu: fieldname = uz - numElm = 236672 - numNod = 798768 nodes\n",
      "Info    : Done writing VTK data\n",
      "Info    : Writing '/home/perebal/tmp/xxxx_4'...\n",
      "Info    : Writing VTK data in σx_step0_level1_tol-0.0001_npart4/data0.vtu: fieldname = σx - numElm = 118336 - numNod = 266256 nodes\n",
      "Info    : Writing VTK data in σx_step0_level1_tol-0.0001_npart4/data1.vtu: fieldname = σx - numElm = 188864 - numNod = 583632 nodes\n",
      "Info    : Writing VTK data in σx_step0_level1_tol-0.0001_npart4/data2.vtu: fieldname = σx - numElm = 236672 - numNod = 798768 nodes\n",
      "Info    : Writing VTK data in σx_step0_level1_tol-0.0001_npart4/data3.vtu: fieldname = σx - numElm = 236672 - numNod = 798768 nodes\n",
      "Info    : Done writing VTK data\n",
      "Info    : Writing '/home/perebal/tmp/xxxx_5'...\n",
      "Info    : Writing VTK data in σy_step0_level1_tol-0.0001_npart4/data0.vtu: fieldname = σy - numElm = 118336 - numNod = 266256 nodes\n",
      "Info    : Writing VTK data in σy_step0_level1_tol-0.0001_npart4/data1.vtu: fieldname = σy - numElm = 188864 - numNod = 583632 nodes\n",
      "Info    : Writing VTK data in σy_step0_level1_tol-0.0001_npart4/data2.vtu: fieldname = σy - numElm = 236672 - numNod = 798768 nodes\n",
      "Info    : Writing VTK data in σy_step0_level1_tol-0.0001_npart4/data3.vtu: fieldname = σy - numElm = 236672 - numNod = 798768 nodes\n",
      "Info    : Done writing VTK data\n",
      "Info    : Writing '/home/perebal/tmp/xxxx_6'...\n",
      "Info    : Writing VTK data in σz_step0_level1_tol-0.0001_npart4/data0.vtu: fieldname = σz - numElm = 118336 - numNod = 266256 nodes\n",
      "Info    : Writing VTK data in σz_step0_level1_tol-0.0001_npart4/data1.vtu: fieldname = σz - numElm = 188864 - numNod = 583632 nodes\n",
      "Info    : Writing VTK data in σz_step0_level1_tol-0.0001_npart4/data2.vtu: fieldname = σz - numElm = 236672 - numNod = 798768 nodes\n",
      "Info    : Writing VTK data in σz_step0_level1_tol-0.0001_npart4/data3.vtu: fieldname = σz - numElm = 236672 - numNod = 798768 nodes\n",
      "Info    : Done writing VTK data\n",
      "Info    : Writing '/home/perebal/tmp/xxxx_7'...\n",
      "Info    : Writing VTK data in τxy_step0_level1_tol-0.0001_npart4/data0.vtu: fieldname = τxy - numElm = 118336 - numNod = 266256 nodes\n",
      "Info    : Writing VTK data in τxy_step0_level1_tol-0.0001_npart4/data1.vtu: fieldname = τxy - numElm = 188864 - numNod = 583632 nodes\n",
      "Info    : Writing VTK data in τxy_step0_level1_tol-0.0001_npart4/data2.vtu: fieldname = τxy - numElm = 236672 - numNod = 798768 nodes\n",
      "Info    : Writing VTK data in τxy_step0_level1_tol-0.0001_npart4/data3.vtu: fieldname = τxy - numElm = 236672 - numNod = 798768 nodes\n",
      "Info    : Done writing VTK data\n",
      "Info    : Writing '/home/perebal/tmp/xxxx_8'...\n",
      "Info    : Writing VTK data in τyz_step0_level1_tol-0.0001_npart4/data0.vtu: fieldname = τyz - numElm = 118336 - numNod = 266256 nodes\n",
      "Info    : Writing VTK data in τyz_step0_level1_tol-0.0001_npart4/data1.vtu: fieldname = τyz - numElm = 188864 - numNod = 583632 nodes\n",
      "Info    : Writing VTK data in τyz_step0_level1_tol-0.0001_npart4/data2.vtu: fieldname = τyz - numElm = 236672 - numNod = 798768 nodes\n",
      "Info    : Writing VTK data in τyz_step0_level1_tol-0.0001_npart4/data3.vtu: fieldname = τyz - numElm = 236672 - numNod = 798768 nodes\n",
      "Info    : Done writing VTK data\n",
      "Info    : Writing '/home/perebal/tmp/xxxx_9'...\n",
      "Info    : Writing VTK data in τzx_step0_level1_tol-0.0001_npart4/data0.vtu: fieldname = τzx - numElm = 118336 - numNod = 266256 nodes\n",
      "Info    : Writing VTK data in τzx_step0_level1_tol-0.0001_npart4/data1.vtu: fieldname = τzx - numElm = 188864 - numNod = 583632 nodes\n",
      "Info    : Writing VTK data in τzx_step0_level1_tol-0.0001_npart4/data2.vtu: fieldname = τzx - numElm = 236672 - numNod = 798768 nodes\n",
      "Info    : Writing VTK data in τzx_step0_level1_tol-0.0001_npart4/data3.vtu: fieldname = τzx - numElm = 236672 - numNod = 798768 nodes\n",
      "Info    : Done writing VTK data\n"
     ]
    },
    {
     "name": "stderr",
     "output_type": "stream",
     "text": [
      "XOpenIM() failed\n",
      "XRequest.18: BadValue 0x0\n"
     ]
    }
   ],
   "source": [
    "gmsh.fltk.run()"
   ]
  },
  {
   "cell_type": "code",
   "execution_count": 15,
   "metadata": {},
   "outputs": [],
   "source": [
    "gmsh.finalize()"
   ]
  }
 ],
 "metadata": {
  "kernelspec": {
   "display_name": "Julia 1.11.1",
   "language": "julia",
   "name": "julia-1.11"
  },
  "language_info": {
   "file_extension": ".jl",
   "mimetype": "application/julia",
   "name": "julia",
   "version": "1.11.1"
  }
 },
 "nbformat": 4,
 "nbformat_minor": 4
}
