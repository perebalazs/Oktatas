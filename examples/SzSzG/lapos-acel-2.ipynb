{
 "cells": [
  {
   "cell_type": "code",
   "execution_count": 1,
   "metadata": {},
   "outputs": [],
   "source": [
    "import LowLevelFEM as FEM\n",
    "using LowLevelFEM\n",
    "\n",
    "gmsh.initialize();"
   ]
  },
  {
   "cell_type": "code",
   "execution_count": 2,
   "metadata": {},
   "outputs": [
    {
     "name": "stdout",
     "output_type": "stream",
     "text": [
      "Info    : Reading 'lapos-acel-2.geo'...\n",
      "Info    : Meshing 1D...\n",
      "Info    : [  0%] Meshing curve 1 (Line)\n",
      "Info    : [ 10%] Meshing curve 2 (Line)\n",
      "Info    : [ 20%] Meshing curve 3 (Line)\n",
      "Info    : [ 30%] Meshing curve 4 (Line)\n",
      "Info    : [ 40%] Meshing curve 5 (Line)\n",
      "Info    : [ 50%] Meshing curve 6 (Line)\n",
      "Info    : [ 60%] Meshing curve 7 (Line)\n",
      "Info    : [ 60%] Meshing curve 8 (Line)\n",
      "Info    : [ 70%] Meshing curve 9 (Line)\n",
      "Info    : [ 80%] Meshing curve 10 (Line)\n",
      "Info    : [ 90%] Meshing curve 11 (Line)\n",
      "Info    : [100%] Meshing curve 12 (Line)\n",
      "Info    : Done meshing 1D (Wall 0.00106823s, CPU 0.00107s)\n",
      "Info    : Meshing 2D...\n",
      "Info    : [  0%] Meshing surface 1 (Transfinite)\n",
      "Info    : [ 20%] Meshing surface 2 (Transfinite)\n",
      "Info    : [ 40%] Meshing surface 3 (Transfinite)\n",
      "Info    : [ 60%] Meshing surface 4 (Transfinite)\n",
      "Info    : [ 70%] Meshing surface 5 (Transfinite)\n",
      "Info    : [ 90%] Meshing surface 6 (Transfinite)\n",
      "Info    : Done meshing 2D (Wall 0.00332073s, CPU 0.003319s)\n",
      "Info    : Meshing 3D...\n",
      "Info    : Meshing volume 1 (Transfinite)\n",
      "Info    : Done meshing 3D (Wall 0.0639976s, CPU 0.061722s)\n",
      "Info    : Optimizing mesh...\n",
      "Info    : Done optimizing mesh (Wall 0.000809249s, CPU 0.000808s)\n",
      "Info    : 24924 nodes 32320 elements\n",
      "Info    : Done reading 'lapos-acel-2.geo'\n",
      "Info    : RCMK renumbering...\n",
      "Info    : Done RCMK renumbering (bandwidth is now 252)\n"
     ]
    },
    {
     "data": {
      "text/plain": [
       "LowLevelFEM.Problem(\"lapos-acel-2\", \"Solid\", 3, [(\"beam\", 200000.0, 0.3, 7.85e-9)], 1.0, 24924)"
      ]
     },
     "metadata": {},
     "output_type": "display_data"
    }
   ],
   "source": [
    "gmsh.open(\"lapos-acel-2.geo\")\n",
    "\n",
    "mat1 = FEM.material(\"beam\", E=2e5, ν=0.3)\n",
    "problem = FEM.Problem([mat1], type=\"Solid\", bandwidth=\"none\")"
   ]
  },
  {
   "cell_type": "code",
   "execution_count": 3,
   "metadata": {},
   "outputs": [],
   "source": [
    "#gmsh.fltk.run()"
   ]
  },
  {
   "cell_type": "code",
   "execution_count": 4,
   "metadata": {},
   "outputs": [
    {
     "data": {
      "text/plain": [
       "Fy (generic function with 1 method)"
      ]
     },
     "metadata": {},
     "output_type": "display_data"
    }
   ],
   "source": [
    "function Fx(x, y, z)\n",
    "    ξ = x - 1.5\n",
    "    η = y - 15\n",
    "    φ = atan(η, ξ)\n",
    "    r = √(ξ^2 + η^2)\n",
    "    return -r * sin(φ) * 0.01\n",
    "end\n",
    "\n",
    "function Fy(x, y, z)\n",
    "    ξ = x - 1.5\n",
    "    η = y - 15\n",
    "    φ = atan(η, ξ)\n",
    "    r = √(ξ^2 + η^2)\n",
    "    return r * cos(φ) * 0.01\n",
    "end"
   ]
  },
  {
   "cell_type": "code",
   "execution_count": 5,
   "metadata": {},
   "outputs": [],
   "source": [
    "supp = FEM.displacementConstraint(\"supp\", ux=0, uy=0, uz=0)\n",
    "load = FEM.displacementConstraint(\"load\", ux=Fx, uy=Fy)\n",
    "load0 = FEM.load(\"load\", fx=0);"
   ]
  },
  {
   "cell_type": "code",
   "execution_count": 6,
   "metadata": {},
   "outputs": [
    {
     "data": {
      "text/plain": [
       "74772×74772 SparseArrays.SparseMatrixCSC{Float64, Int64} with 4918486 stored entries:\n",
       "⎡⣿⣿⡛⠛⠛⠛⠛⠛⠛⠒⢺⠦⠤⠤⠤⣤⣤⣤⣤⣬⣿⣿⡿⠿⠿⠿⠿⠿⠿⠿⣿⣿⣿⣿⣿⣷⣶⣶⣶⣾⎤\n",
       "⎢⣿⠈⠻⣦⡀⠀⠀⠀⠀⠀⠀⠀⠀⠀⠀⠀⠀⠀⠀⠀⣿⠈⠙⠳⢦⣄⡀⠀⠀⠀⠀⠀⠀⠀⠀⠀⠀⠀⠀⠀⎥\n",
       "⎢⣿⠀⠀⠈⠻⣦⡀⠀⠀⠀⠀⠀⠀⠀⠀⠀⠀⠀⠀⠀⣿⠀⠀⠀⠀⠈⠙⠳⢦⣄⡀⠀⠀⠀⠀⠀⠀⠀⠀⠀⎥\n",
       "⎢⣿⠀⠀⠀⠀⠈⠻⣦⡀⠀⠀⠀⠀⠀⠀⠀⠀⠀⠀⠀⣿⠀⠀⠀⠀⠀⠀⠀⠀⠈⠙⠳⢦⣄⡀⠀⠀⠀⠀⠀⎥\n",
       "⎢⢻⠀⠀⠀⠀⠀⠀⠈⠻⣦⡀⠀⠀⠀⠀⠀⠀⠀⠀⠀⣿⠀⠀⠀⠀⠀⠀⠀⠀⠀⠀⠀⠀⠈⠙⠳⢦⣄⡀⠀⎥\n",
       "⎢⠺⡖⠀⠀⠀⠀⠀⠀⠀⠈⠻⣦⡀⠀⠀⠀⠀⠀⠀⠀⣿⠲⢤⣀⠀⠀⠀⠀⠀⠀⠀⠀⠀⠀⠀⠀⠀⠈⠙⠓⎥\n",
       "⎢⠀⡇⠀⠀⠀⠀⠀⠀⠀⠀⠀⠈⠻⣦⡀⠀⠀⠀⠀⠀⡏⡇⠀⠈⠙⠲⢤⣀⠀⠀⠀⠀⠀⠀⠀⠀⠀⠀⠀⠀⎥\n",
       "⎢⠀⣧⠀⠀⠀⠀⠀⠀⠀⠀⠀⠀⠀⠈⠻⣦⡀⠀⠀⠀⣇⡇⠀⠀⠀⠀⠀⠈⠙⠲⢤⣀⠀⠀⠀⠀⠀⠀⠀⠀⎥\n",
       "⎢⠀⣿⠀⠀⠀⠀⠀⠀⠀⠀⠀⠀⠀⠀⠀⠈⠻⣦⡀⠀⢸⡇⠀⠀⠀⠀⠀⠀⠀⠀⠀⠈⠙⠲⢤⣀⠀⠀⠀⠀⎥\n",
       "⎢⡀⣿⠀⠀⠀⠀⠀⠀⠀⠀⠀⠀⠀⠀⠀⠀⠀⠈⠻⣦⣸⡇⠀⠀⠀⠀⠀⠀⠀⠀⠀⠀⠀⠀⠀⠈⠙⠲⢤⣀⎥\n",
       "⎢⣿⣿⡛⠛⠛⠛⠛⠛⠛⠛⢻⡛⠯⠭⠭⠽⠶⠶⠶⠾⣿⣿⡛⠻⠿⠿⠿⠿⠿⠿⠿⠿⠿⠿⠿⠿⠿⠿⠿⠿⎥\n",
       "⎢⣿⡏⢷⡀⠀⠀⠀⠀⠀⠀⠀⢳⡀⠀⠀⠀⠀⠀⠀⠀⣿⡈⠻⣦⡀⠀⠀⠀⠀⠀⠀⠀⠀⠀⠀⠀⠀⠀⠀⠀⎥\n",
       "⎢⣿⡇⠈⢷⡀⠀⠀⠀⠀⠀⠀⠀⢳⡀⠀⠀⠀⠀⠀⠀⣿⡇⠀⠈⠻⣦⡀⠀⠀⠀⠀⠀⠀⠀⠀⠀⠀⠀⠀⠀⎥\n",
       "⎢⣿⡇⠀⠈⢷⡀⠀⠀⠀⠀⠀⠀⠀⢳⡀⠀⠀⠀⠀⠀⣿⡇⠀⠀⠀⠈⠻⣦⡀⠀⠀⠀⠀⠀⠀⠀⠀⠀⠀⠀⎥\n",
       "⎢⣿⡇⠀⠀⠈⢷⡀⠀⠀⠀⠀⠀⠀⠀⢳⡀⠀⠀⠀⠀⣿⡇⠀⠀⠀⠀⠀⠈⠻⣦⡀⠀⠀⠀⠀⠀⠀⠀⠀⠀⎥\n",
       "⎢⣿⣿⠀⠀⠀⠈⢷⡀⠀⠀⠀⠀⠀⠀⠀⢳⡀⠀⠀⠀⣿⡇⠀⠀⠀⠀⠀⠀⠀⠈⠻⣦⡀⠀⠀⠀⠀⠀⠀⠀⎥\n",
       "⎢⣿⣿⠀⠀⠀⠀⠈⢷⡀⠀⠀⠀⠀⠀⠀⠀⢳⡀⠀⠀⣿⡇⠀⠀⠀⠀⠀⠀⠀⠀⠀⠈⠻⣦⡀⠀⠀⠀⠀⠀⎥\n",
       "⎢⢿⣿⠀⠀⠀⠀⠀⠈⢷⡀⠀⠀⠀⠀⠀⠀⠀⢳⡀⠀⣿⡇⠀⠀⠀⠀⠀⠀⠀⠀⠀⠀⠀⠈⠻⣦⡀⠀⠀⠀⎥\n",
       "⎢⢸⣿⠀⠀⠀⠀⠀⠀⠈⢷⡀⠀⠀⠀⠀⠀⠀⠀⢳⡀⣿⡇⠀⠀⠀⠀⠀⠀⠀⠀⠀⠀⠀⠀⠀⠈⠻⣦⡀⠀⎥\n",
       "⎣⣸⣿⠀⠀⠀⠀⠀⠀⠀⠈⢷⠀⠀⠀⠀⠀⠀⠀⠀⢳⣿⡇⠀⠀⠀⠀⠀⠀⠀⠀⠀⠀⠀⠀⠀⠀⠀⠈⠻⣦⎦"
      ]
     },
     "metadata": {},
     "output_type": "display_data"
    }
   ],
   "source": [
    "K = FEM.stiffnessMatrix(problem)"
   ]
  },
  {
   "cell_type": "code",
   "execution_count": 7,
   "metadata": {},
   "outputs": [],
   "source": [
    "f = FEM.loadVector(problem, [load0]);"
   ]
  },
  {
   "cell_type": "code",
   "execution_count": 8,
   "metadata": {},
   "outputs": [],
   "source": [
    "FEM.applyBoundaryConditions!(problem, K, f, [supp, load]);"
   ]
  },
  {
   "cell_type": "code",
   "execution_count": 9,
   "metadata": {},
   "outputs": [],
   "source": [
    "q = FEM.solveDisplacement(K, f)\n",
    "S = FEM.solveStress(problem, q);"
   ]
  },
  {
   "cell_type": "code",
   "execution_count": 10,
   "metadata": {},
   "outputs": [
    {
     "name": "stdout",
     "output_type": "stream",
     "text": [
      "Info    : Running Plugin(Smooth)...\n",
      "Info    : Done running Plugin(Smooth)\n",
      "Info    : Running Plugin(Smooth)...\n",
      "Info    : Done running Plugin(Smooth)\n",
      "Info    : Running Plugin(Smooth)...\n",
      "Info    : Done running Plugin(Smooth)\n",
      "Info    : Running Plugin(Smooth)...\n",
      "Info    : Done running Plugin(Smooth)\n",
      "Info    : Running Plugin(Smooth)...\n",
      "Info    : Done running Plugin(Smooth)\n",
      "Info    : Running Plugin(Smooth)...\n",
      "Info    : Done running Plugin(Smooth)\n"
     ]
    },
    {
     "data": {
      "text/plain": [
       "10"
      ]
     },
     "metadata": {},
     "output_type": "display_data"
    }
   ],
   "source": [
    "u = FEM.showDoFResults(problem, q, \"uvec\", name=\"uvec\", visible=true)\n",
    "ux = FEM.showDoFResults(problem, q, \"ux\", name=\"ux\", visible=false)\n",
    "uy = FEM.showDoFResults(problem, q, \"uy\", name=\"uy\", visible=false)\n",
    "uz = FEM.showDoFResults(problem, q, \"uz\", name=\"uz\", visible=false)\n",
    "\n",
    "#s = FEM.showStressResults(problem, S, \"s\", name=\"σ\", visible=true, smooth=false)\n",
    "#ss = FEM.showStressResults(problem, S, \"s\", name=\"σ smooth\", visible=false, smooth=true)\n",
    "sx = FEM.showStressResults(problem, S, \"sx\", name=\"σx\", visible=false, smooth=true)\n",
    "sy = FEM.showStressResults(problem, S, \"sy\", name=\"σy\", visible=false, smooth=true)\n",
    "sz = FEM.showStressResults(problem, S, \"sz\", name=\"σz\", visible=false, smooth=true)\n",
    "sxy = FEM.showStressResults(problem, S, \"sxy\", name=\"τxy\", visible=false, smooth=true)\n",
    "syz = FEM.showStressResults(problem, S, \"syz\", name=\"τyz\", visible=false, smooth=true)\n",
    "szx = FEM.showStressResults(problem, S, \"szx\", name=\"τzx\", visible=false, smooth=true)"
   ]
  },
  {
   "cell_type": "code",
   "execution_count": 11,
   "metadata": {},
   "outputs": [],
   "source": [
    "p1, xy = FEM.plotOnPath(problem, \"path\", syz, 100, name=\"τyz\", plot=true, visible=false);\n",
    "FEM.plotOnPath(problem, \"path1\", syz, 100, name=\"τyz1\", visible=false);\n",
    "FEM.plotOnPath(problem, \"path2\", syz, 100, name=\"τyz2\", visible=false);"
   ]
  },
  {
   "cell_type": "code",
   "execution_count": 12,
   "metadata": {},
   "outputs": [
    {
     "data": {
      "image/png": "[encoded data removed]",
      "image/svg+xml": [
       "<?xml version=\"1.0\" encoding=\"utf-8\"?>\n",
       "<svg xmlns=\"http://www.w3.org/2000/svg\" xmlns:xlink=\"http://www.w3.org/1999/xlink\" width=\"600\" height=\"400\" viewBox=\"0 0 2400 1600\">\n",
       "<defs>\n",
       "  <clipPath id=\"clip650\">\n",
       "    <rect x=\"0\" y=\"0\" width=\"2400\" height=\"1600\"/>\n",
       "  </clipPath>\n",
       "</defs>\n",
       "<path clip-path=\"url(#clip650)\" d=\"M0 1600 L2400 1600 L2400 0 L0 0  Z\" fill=\"#ffffff\" fill-rule=\"evenodd\" fill-opacity=\"1\"/>\n",
       "<defs>\n",
       "  <clipPath id=\"clip651\">\n",
       "    <rect x=\"480\" y=\"0\" width=\"1681\" height=\"1600\"/>\n",
       "  </clipPath>\n",
       "</defs>\n",
       "<path clip-path=\"url(#clip650)\" d=\"M147.709 1486.45 L2352.76 1486.45 L2352.76 47.2441 L147.709 47.2441  Z\" fill=\"#ffffff\" fill-rule=\"evenodd\" fill-opacity=\"1\"/>\n",
       "<defs>\n",
       "  <clipPath id=\"clip652\">\n",
       "    <rect x=\"147\" y=\"47\" width=\"2206\" height=\"1440\"/>\n",
       "  </clipPath>\n",
       "</defs>\n",
       "<polyline clip-path=\"url(#clip652)\" style=\"stroke:#000000; stroke-linecap:round; stroke-linejoin:round; stroke-width:2; stroke-opacity:0.1; fill:none\" points=\"210.116,1486.45 210.116,47.2441 \"/>\n",
       "<polyline clip-path=\"url(#clip652)\" style=\"stroke:#000000; stroke-linecap:round; stroke-linejoin:round; stroke-width:2; stroke-opacity:0.1; fill:none\" points=\"840.49,1486.45 840.49,47.2441 \"/>\n",
       "<polyline clip-path=\"url(#clip652)\" style=\"stroke:#000000; stroke-linecap:round; stroke-linejoin:round; stroke-width:2; stroke-opacity:0.1; fill:none\" points=\"1470.86,1486.45 1470.86,47.2441 \"/>\n",
       "<polyline clip-path=\"url(#clip652)\" style=\"stroke:#000000; stroke-linecap:round; stroke-linejoin:round; stroke-width:2; stroke-opacity:0.1; fill:none\" points=\"2101.24,1486.45 2101.24,47.2441 \"/>\n",
       "<polyline clip-path=\"url(#clip652)\" style=\"stroke:#000000; stroke-linecap:round; stroke-linejoin:round; stroke-width:2; stroke-opacity:0.1; fill:none\" points=\"147.709,1420.52 2352.76,1420.52 \"/>\n",
       "<polyline clip-path=\"url(#clip652)\" style=\"stroke:#000000; stroke-linecap:round; stroke-linejoin:round; stroke-width:2; stroke-opacity:0.1; fill:none\" points=\"147.709,1028.12 2352.76,1028.12 \"/>\n",
       "<polyline clip-path=\"url(#clip652)\" style=\"stroke:#000000; stroke-linecap:round; stroke-linejoin:round; stroke-width:2; stroke-opacity:0.1; fill:none\" points=\"147.709,635.726 2352.76,635.726 \"/>\n",
       "<polyline clip-path=\"url(#clip652)\" style=\"stroke:#000000; stroke-linecap:round; stroke-linejoin:round; stroke-width:2; stroke-opacity:0.1; fill:none\" points=\"147.709,243.329 2352.76,243.329 \"/>\n",
       "<polyline clip-path=\"url(#clip650)\" style=\"stroke:#000000; stroke-linecap:round; stroke-linejoin:round; stroke-width:4; stroke-opacity:1; fill:none\" points=\"147.709,1486.45 2352.76,1486.45 \"/>\n",
       "<polyline clip-path=\"url(#clip650)\" style=\"stroke:#000000; stroke-linecap:round; stroke-linejoin:round; stroke-width:4; stroke-opacity:1; fill:none\" points=\"210.116,1486.45 210.116,1467.55 \"/>\n",
       "<polyline clip-path=\"url(#clip650)\" style=\"stroke:#000000; stroke-linecap:round; stroke-linejoin:round; stroke-width:4; stroke-opacity:1; fill:none\" points=\"840.49,1486.45 840.49,1467.55 \"/>\n",
       "<polyline clip-path=\"url(#clip650)\" style=\"stroke:#000000; stroke-linecap:round; stroke-linejoin:round; stroke-width:4; stroke-opacity:1; fill:none\" points=\"1470.86,1486.45 1470.86,1467.55 \"/>\n",
       "<polyline clip-path=\"url(#clip650)\" style=\"stroke:#000000; stroke-linecap:round; stroke-linejoin:round; stroke-width:4; stroke-opacity:1; fill:none\" points=\"2101.24,1486.45 2101.24,1467.55 \"/>\n",
       "<path clip-path=\"url(#clip650)\" d=\"M210.116 1517.37 Q206.505 1517.37 204.677 1520.93 Q202.871 1524.47 202.871 1531.6 Q202.871 1538.71 204.677 1542.27 Q206.505 1545.82 210.116 1545.82 Q213.751 1545.82 215.556 1542.27 Q217.385 1538.71 217.385 1531.6 Q217.385 1524.47 215.556 1520.93 Q213.751 1517.37 210.116 1517.37 M210.116 1513.66 Q215.927 1513.66 218.982 1518.27 Q222.061 1522.85 222.061 1531.6 Q222.061 1540.33 218.982 1544.94 Q215.927 1549.52 210.116 1549.52 Q204.306 1549.52 201.228 1544.94 Q198.172 1540.33 198.172 1531.6 Q198.172 1522.85 201.228 1518.27 Q204.306 1513.66 210.116 1513.66 Z\" fill=\"#000000\" fill-rule=\"nonzero\" fill-opacity=\"1\" /><path clip-path=\"url(#clip650)\" d=\"M815.178 1544.91 L822.816 1544.91 L822.816 1518.55 L814.506 1520.21 L814.506 1515.95 L822.77 1514.29 L827.446 1514.29 L827.446 1544.91 L835.085 1544.91 L835.085 1548.85 L815.178 1548.85 L815.178 1544.91 Z\" fill=\"#000000\" fill-rule=\"nonzero\" fill-opacity=\"1\" /><path clip-path=\"url(#clip650)\" d=\"M854.529 1517.37 Q850.918 1517.37 849.089 1520.93 Q847.284 1524.47 847.284 1531.6 Q847.284 1538.71 849.089 1542.27 Q850.918 1545.82 854.529 1545.82 Q858.163 1545.82 859.969 1542.27 Q861.798 1538.71 861.798 1531.6 Q861.798 1524.47 859.969 1520.93 Q858.163 1517.37 854.529 1517.37 M854.529 1513.66 Q860.339 1513.66 863.395 1518.27 Q866.474 1522.85 866.474 1531.6 Q866.474 1540.33 863.395 1544.94 Q860.339 1549.52 854.529 1549.52 Q848.719 1549.52 845.64 1544.94 Q842.585 1540.33 842.585 1531.6 Q842.585 1522.85 845.64 1518.27 Q848.719 1513.66 854.529 1513.66 Z\" fill=\"#000000\" fill-rule=\"nonzero\" fill-opacity=\"1\" /><path clip-path=\"url(#clip650)\" d=\"M1449.64 1544.91 L1465.96 1544.91 L1465.96 1548.85 L1444.01 1548.85 L1444.01 1544.91 Q1446.67 1542.16 1451.26 1537.53 Q1455.86 1532.88 1457.04 1531.53 Q1459.29 1529.01 1460.17 1527.27 Q1461.07 1525.51 1461.07 1523.82 Q1461.07 1521.07 1459.13 1519.33 Q1457.21 1517.6 1454.1 1517.6 Q1451.91 1517.6 1449.45 1518.36 Q1447.02 1519.13 1444.24 1520.68 L1444.24 1515.95 Q1447.07 1514.82 1449.52 1514.24 Q1451.97 1513.66 1454.01 1513.66 Q1459.38 1513.66 1462.58 1516.35 Q1465.77 1519.03 1465.77 1523.52 Q1465.77 1525.65 1464.96 1527.57 Q1464.17 1529.47 1462.07 1532.07 Q1461.49 1532.74 1458.39 1535.95 Q1455.28 1539.15 1449.64 1544.91 Z\" fill=\"#000000\" fill-rule=\"nonzero\" fill-opacity=\"1\" /><path clip-path=\"url(#clip650)\" d=\"M1485.77 1517.37 Q1482.16 1517.37 1480.33 1520.93 Q1478.53 1524.47 1478.53 1531.6 Q1478.53 1538.71 1480.33 1542.27 Q1482.16 1545.82 1485.77 1545.82 Q1489.4 1545.82 1491.21 1542.27 Q1493.04 1538.71 1493.04 1531.6 Q1493.04 1524.47 1491.21 1520.93 Q1489.4 1517.37 1485.77 1517.37 M1485.77 1513.66 Q1491.58 1513.66 1494.64 1518.27 Q1497.72 1522.85 1497.72 1531.6 Q1497.72 1540.33 1494.64 1544.94 Q1491.58 1549.52 1485.77 1549.52 Q1479.96 1549.52 1476.88 1544.94 Q1473.83 1540.33 1473.83 1531.6 Q1473.83 1522.85 1476.88 1518.27 Q1479.96 1513.66 1485.77 1513.66 Z\" fill=\"#000000\" fill-rule=\"nonzero\" fill-opacity=\"1\" /><path clip-path=\"url(#clip650)\" d=\"M2090.08 1530.21 Q2093.44 1530.93 2095.31 1533.2 Q2097.21 1535.47 2097.21 1538.8 Q2097.21 1543.92 2093.69 1546.72 Q2090.17 1549.52 2083.69 1549.52 Q2081.51 1549.52 2079.2 1549.08 Q2076.91 1548.66 2074.45 1547.81 L2074.45 1543.29 Q2076.4 1544.43 2078.71 1545.01 Q2081.03 1545.58 2083.55 1545.58 Q2087.95 1545.58 2090.24 1543.85 Q2092.56 1542.11 2092.56 1538.8 Q2092.56 1535.75 2090.4 1534.03 Q2088.27 1532.3 2084.45 1532.3 L2080.43 1532.3 L2080.43 1528.45 L2084.64 1528.45 Q2088.09 1528.45 2089.92 1527.09 Q2091.75 1525.7 2091.75 1523.11 Q2091.75 1520.45 2089.85 1519.03 Q2087.97 1517.6 2084.45 1517.6 Q2082.53 1517.6 2080.33 1518.01 Q2078.14 1518.43 2075.5 1519.31 L2075.5 1515.14 Q2078.16 1514.4 2080.47 1514.03 Q2082.81 1513.66 2084.87 1513.66 Q2090.2 1513.66 2093.3 1516.09 Q2096.4 1518.5 2096.4 1522.62 Q2096.4 1525.49 2094.76 1527.48 Q2093.11 1529.45 2090.08 1530.21 Z\" fill=\"#000000\" fill-rule=\"nonzero\" fill-opacity=\"1\" /><path clip-path=\"url(#clip650)\" d=\"M2116.07 1517.37 Q2112.46 1517.37 2110.63 1520.93 Q2108.83 1524.47 2108.83 1531.6 Q2108.83 1538.71 2110.63 1542.27 Q2112.46 1545.82 2116.07 1545.82 Q2119.71 1545.82 2121.51 1542.27 Q2123.34 1538.71 2123.34 1531.6 Q2123.34 1524.47 2121.51 1520.93 Q2119.71 1517.37 2116.07 1517.37 M2116.07 1513.66 Q2121.88 1513.66 2124.94 1518.27 Q2128.02 1522.85 2128.02 1531.6 Q2128.02 1540.33 2124.94 1544.94 Q2121.88 1549.52 2116.07 1549.52 Q2110.26 1549.52 2107.19 1544.94 Q2104.13 1540.33 2104.13 1531.6 Q2104.13 1522.85 2107.19 1518.27 Q2110.26 1513.66 2116.07 1513.66 Z\" fill=\"#000000\" fill-rule=\"nonzero\" fill-opacity=\"1\" /><polyline clip-path=\"url(#clip650)\" style=\"stroke:#000000; stroke-linecap:round; stroke-linejoin:round; stroke-width:4; stroke-opacity:1; fill:none\" points=\"147.709,1486.45 147.709,47.2441 \"/>\n",
       "<polyline clip-path=\"url(#clip650)\" style=\"stroke:#000000; stroke-linecap:round; stroke-linejoin:round; stroke-width:4; stroke-opacity:1; fill:none\" points=\"147.709,1420.52 166.607,1420.52 \"/>\n",
       "<polyline clip-path=\"url(#clip650)\" style=\"stroke:#000000; stroke-linecap:round; stroke-linejoin:round; stroke-width:4; stroke-opacity:1; fill:none\" points=\"147.709,1028.12 166.607,1028.12 \"/>\n",
       "<polyline clip-path=\"url(#clip650)\" style=\"stroke:#000000; stroke-linecap:round; stroke-linejoin:round; stroke-width:4; stroke-opacity:1; fill:none\" points=\"147.709,635.726 166.607,635.726 \"/>\n",
       "<polyline clip-path=\"url(#clip650)\" style=\"stroke:#000000; stroke-linecap:round; stroke-linejoin:round; stroke-width:4; stroke-opacity:1; fill:none\" points=\"147.709,243.329 166.607,243.329 \"/>\n",
       "<path clip-path=\"url(#clip650)\" d=\"M50.9921 1420.97 L80.6679 1420.97 L80.6679 1424.91 L50.9921 1424.91 L50.9921 1420.97 Z\" fill=\"#000000\" fill-rule=\"nonzero\" fill-opacity=\"1\" /><path clip-path=\"url(#clip650)\" d=\"M90.8067 1403.24 L109.163 1403.24 L109.163 1407.18 L95.0891 1407.18 L95.0891 1415.65 Q96.1076 1415.3 97.1261 1415.14 Q98.1447 1414.96 99.1632 1414.96 Q104.95 1414.96 108.33 1418.13 Q111.709 1421.3 111.709 1426.71 Q111.709 1432.29 108.237 1435.39 Q104.765 1438.47 98.4456 1438.47 Q96.2697 1438.47 94.0012 1438.1 Q91.7558 1437.73 89.3484 1436.99 L89.3484 1432.29 Q91.4317 1433.43 93.6539 1433.98 Q95.8761 1434.54 98.353 1434.54 Q102.358 1434.54 104.696 1432.43 Q107.033 1430.33 107.033 1426.71 Q107.033 1423.1 104.696 1421 Q102.358 1418.89 98.353 1418.89 Q96.478 1418.89 94.603 1419.31 Q92.7512 1419.72 90.8067 1420.6 L90.8067 1403.24 Z\" fill=\"#000000\" fill-rule=\"nonzero\" fill-opacity=\"1\" /><path clip-path=\"url(#clip650)\" d=\"M99.765 1013.92 Q96.1539 1013.92 94.3252 1017.49 Q92.5197 1021.03 92.5197 1028.16 Q92.5197 1035.27 94.3252 1038.83 Q96.1539 1042.37 99.765 1042.37 Q103.399 1042.37 105.205 1038.83 Q107.033 1035.27 107.033 1028.16 Q107.033 1021.03 105.205 1017.49 Q103.399 1013.92 99.765 1013.92 M99.765 1010.22 Q105.575 1010.22 108.631 1014.83 Q111.709 1019.41 111.709 1028.16 Q111.709 1036.89 108.631 1041.49 Q105.575 1046.08 99.765 1046.08 Q93.9549 1046.08 90.8762 1041.49 Q87.8206 1036.89 87.8206 1028.16 Q87.8206 1019.41 90.8762 1014.83 Q93.9549 1010.22 99.765 1010.22 Z\" fill=\"#000000\" fill-rule=\"nonzero\" fill-opacity=\"1\" /><path clip-path=\"url(#clip650)\" d=\"M90.8067 618.446 L109.163 618.446 L109.163 622.382 L95.0891 622.382 L95.0891 630.854 Q96.1076 630.507 97.1261 630.345 Q98.1447 630.159 99.1632 630.159 Q104.95 630.159 108.33 633.331 Q111.709 636.502 111.709 641.919 Q111.709 647.497 108.237 650.599 Q104.765 653.678 98.4456 653.678 Q96.2697 653.678 94.0012 653.307 Q91.7558 652.937 89.3484 652.196 L89.3484 647.497 Q91.4317 648.631 93.6539 649.187 Q95.8761 649.743 98.353 649.743 Q102.358 649.743 104.696 647.636 Q107.033 645.53 107.033 641.919 Q107.033 638.307 104.696 636.201 Q102.358 634.095 98.353 634.095 Q96.478 634.095 94.603 634.511 Q92.7512 634.928 90.8067 635.807 L90.8067 618.446 Z\" fill=\"#000000\" fill-rule=\"nonzero\" fill-opacity=\"1\" /><path clip-path=\"url(#clip650)\" d=\"M60.4134 256.673 L68.0522 256.673 L68.0522 230.308 L59.7421 231.974 L59.7421 227.715 L68.0059 226.049 L72.6818 226.049 L72.6818 256.673 L80.3207 256.673 L80.3207 260.609 L60.4134 260.609 L60.4134 256.673 Z\" fill=\"#000000\" fill-rule=\"nonzero\" fill-opacity=\"1\" /><path clip-path=\"url(#clip650)\" d=\"M99.765 229.127 Q96.1539 229.127 94.3252 232.692 Q92.5197 236.234 92.5197 243.363 Q92.5197 250.47 94.3252 254.034 Q96.1539 257.576 99.765 257.576 Q103.399 257.576 105.205 254.034 Q107.033 250.47 107.033 243.363 Q107.033 236.234 105.205 232.692 Q103.399 229.127 99.765 229.127 M99.765 225.424 Q105.575 225.424 108.631 230.03 Q111.709 234.613 111.709 243.363 Q111.709 252.09 108.631 256.697 Q105.575 261.28 99.765 261.28 Q93.9549 261.28 90.8762 256.697 Q87.8206 252.09 87.8206 243.363 Q87.8206 234.613 90.8762 230.03 Q93.9549 225.424 99.765 225.424 Z\" fill=\"#000000\" fill-rule=\"nonzero\" fill-opacity=\"1\" /><polyline clip-path=\"url(#clip652)\" style=\"stroke:#009af9; stroke-linecap:round; stroke-linejoin:round; stroke-width:4; stroke-opacity:1; fill:none\" points=\"210.116,1445.72 212.027,1435.71 213.937,1425.7 215.847,1415.69 217.757,1405.68 219.667,1395.67 221.578,1385.67 223.488,1375.66 225.398,1365.65 227.308,1355.64 229.219,1345.63 231.129,1335.63 233.039,1325.62 234.949,1315.61 236.859,1305.6 238.77,1295.59 240.68,1285.58 242.59,1275.58 244.5,1265.57 246.411,1255.56 248.321,1245.55 250.231,1235.54 252.141,1225.53 254.051,1215.53 255.962,1205.52 257.872,1195.51 259.782,1185.5 261.692,1175.49 263.603,1165.49 265.513,1155.48 267.423,1145.47 269.333,1135.46 271.243,1125.45 273.154,1115.44 275.064,1110.15 276.974,1104.86 278.884,1099.57 280.795,1094.28 282.705,1088.98 284.615,1083.69 286.525,1078.4 288.436,1073.11 290.346,1067.82 292.256,1062.52 294.166,1057.23 296.076,1051.94 297.987,1046.65 299.897,1041.35 301.807,1036.06 303.717,1030.77 305.628,1025.48 307.538,1020.19 309.448,1014.89 311.358,1009.6 313.268,1004.31 315.179,999.018 317.089,993.726 318.999,988.434 320.909,983.141 322.82,977.849 324.73,972.557 326.64,967.265 328.55,961.973 330.46,956.681 332.371,951.389 334.281,946.097 336.191,940.804 338.101,930.796 340.012,920.788 341.922,910.78 343.832,900.772 345.742,890.763 347.652,880.755 349.563,870.747 351.473,860.739 353.383,850.73 355.293,840.722 357.204,830.714 359.114,820.706 361.024,810.698 362.934,800.689 364.844,790.681 366.755,780.673 368.665,770.665 370.575,760.656 372.485,750.648 374.396,740.64 376.306,730.632 378.216,720.624 380.126,710.615 382.036,700.607 383.947,690.599 385.857,680.591 387.767,670.582 389.677,660.574 391.588,650.566 393.498,640.558 395.408,630.55 397.318,620.541 399.228,610.533 418.331,554.732 437.433,498.931 456.535,443.13 475.637,376.206 494.74,304.516 513.842,232.826 532.944,181.396 552.046,160.357 571.148,139.317 590.251,119.706 609.353,112.955 628.455,106.204 647.557,99.4525 666.66,96.4191 685.762,94.3151 704.864,92.2111 723.966,90.8282 743.069,90.1663 762.171,89.5044 781.273,88.9334 800.375,88.7258 819.477,88.5182 838.58,88.3107 857.682,88.2312 876.784,88.1661 895.886,88.1009 914.989,88.0625 934.091,88.0421 953.193,88.0216 972.295,88.0053 991.397,87.9989 1010.5,87.9925 1029.6,87.986 1048.7,87.984 1067.81,87.982 1086.91,87.98 1106.01,87.9789 1125.11,87.9783 1144.22,87.9776 1163.32,87.9771 1182.42,87.9769 1201.52,87.9767 1220.62,87.9765 1239.73,87.9765 1258.83,87.9764 1277.93,87.9763 1297.03,87.9763 1316.14,87.9763 1335.24,87.9763 1354.34,87.9763 1373.44,87.9763 1392.54,87.9763 1411.65,87.9763 1430.75,87.9764 1449.85,87.9765 1468.95,87.9765 1488.06,87.9767 1507.16,87.9769 1526.26,87.9771 1545.36,87.9776 1564.46,87.9783 1583.57,87.9789 1602.67,87.98 1621.77,87.982 1640.87,87.984 1659.98,87.986 1679.08,87.9925 1698.18,87.9989 1717.28,88.0053 1736.38,88.0216 1755.49,88.0421 1774.59,88.0625 1793.69,88.1009 1812.79,88.1661 1831.9,88.2312 1851,88.3107 1870.1,88.5182 1889.2,88.7258 1908.3,88.9334 1927.41,89.5044 1946.51,90.1663 1965.61,90.8282 1984.71,92.2111 2003.82,94.3151 2022.92,96.4191 2042.02,99.4525 2061.12,106.204 2080.22,112.955 2099.33,119.706 2118.43,139.317 2137.53,160.357 2156.63,181.396 2175.74,232.826 2194.84,304.516 2213.94,376.206 2233.04,443.13 2252.14,498.931 2271.25,554.732 2290.35,610.533 \"/>\n",
       "<path clip-path=\"url(#clip650)\" d=\"M2006.32 1438.47 L2279.25 1438.47 L2279.25 1334.79 L2006.32 1334.79  Z\" fill=\"#ffffff\" fill-rule=\"evenodd\" fill-opacity=\"1\"/>\n",
       "<polyline clip-path=\"url(#clip650)\" style=\"stroke:#000000; stroke-linecap:round; stroke-linejoin:round; stroke-width:4; stroke-opacity:1; fill:none\" points=\"2006.32,1438.47 2279.25,1438.47 2279.25,1334.79 2006.32,1334.79 2006.32,1438.47 \"/>\n",
       "<polyline clip-path=\"url(#clip650)\" style=\"stroke:#009af9; stroke-linecap:round; stroke-linejoin:round; stroke-width:4; stroke-opacity:1; fill:none\" points=\"2030.82,1386.63 2177.82,1386.63 \"/>\n",
       "<path clip-path=\"url(#clip650)\" d=\"M2216.17 1406.32 Q2214.36 1410.95 2212.65 1412.36 Q2210.93 1413.78 2208.06 1413.78 L2204.66 1413.78 L2204.66 1410.21 L2207.16 1410.21 Q2208.92 1410.21 2209.89 1409.38 Q2210.87 1408.54 2212.05 1405.44 L2212.81 1403.5 L2202.32 1377.99 L2206.84 1377.99 L2214.94 1398.27 L2223.04 1377.99 L2227.55 1377.99 L2216.17 1406.32 Z\" fill=\"#000000\" fill-rule=\"nonzero\" fill-opacity=\"1\" /><path clip-path=\"url(#clip650)\" d=\"M2234.85 1399.98 L2242.49 1399.98 L2242.49 1373.61 L2234.18 1375.28 L2234.18 1371.02 L2242.44 1369.35 L2247.11 1369.35 L2247.11 1399.98 L2254.75 1399.98 L2254.75 1403.91 L2234.85 1403.91 L2234.85 1399.98 Z\" fill=\"#000000\" fill-rule=\"nonzero\" fill-opacity=\"1\" /></svg>\n"
      ],
      "text/html": [
       "<?xml version=\"1.0\" encoding=\"utf-8\"?>\n",
       "<svg xmlns=\"http://www.w3.org/2000/svg\" xmlns:xlink=\"http://www.w3.org/1999/xlink\" width=\"600\" height=\"400\" viewBox=\"0 0 2400 1600\">\n",
       "<defs>\n",
       "  <clipPath id=\"clip700\">\n",
       "    <rect x=\"0\" y=\"0\" width=\"2400\" height=\"1600\"/>\n",
       "  </clipPath>\n",
       "</defs>\n",
       "<path clip-path=\"url(#clip700)\" d=\"M0 1600 L2400 1600 L2400 0 L0 0  Z\" fill=\"#ffffff\" fill-rule=\"evenodd\" fill-opacity=\"1\"/>\n",
       "<defs>\n",
       "  <clipPath id=\"clip701\">\n",
       "    <rect x=\"480\" y=\"0\" width=\"1681\" height=\"1600\"/>\n",
       "  </clipPath>\n",
       "</defs>\n",
       "<path clip-path=\"url(#clip700)\" d=\"M147.709 1486.45 L2352.76 1486.45 L2352.76 47.2441 L147.709 47.2441  Z\" fill=\"#ffffff\" fill-rule=\"evenodd\" fill-opacity=\"1\"/>\n",
       "<defs>\n",
       "  <clipPath id=\"clip702\">\n",
       "    <rect x=\"147\" y=\"47\" width=\"2206\" height=\"1440\"/>\n",
       "  </clipPath>\n",
       "</defs>\n",
       "<polyline clip-path=\"url(#clip702)\" style=\"stroke:#000000; stroke-linecap:round; stroke-linejoin:round; stroke-width:2; stroke-opacity:0.1; fill:none\" points=\"210.116,1486.45 210.116,47.2441 \"/>\n",
       "<polyline clip-path=\"url(#clip702)\" style=\"stroke:#000000; stroke-linecap:round; stroke-linejoin:round; stroke-width:2; stroke-opacity:0.1; fill:none\" points=\"840.49,1486.45 840.49,47.2441 \"/>\n",
       "<polyline clip-path=\"url(#clip702)\" style=\"stroke:#000000; stroke-linecap:round; stroke-linejoin:round; stroke-width:2; stroke-opacity:0.1; fill:none\" points=\"1470.86,1486.45 1470.86,47.2441 \"/>\n",
       "<polyline clip-path=\"url(#clip702)\" style=\"stroke:#000000; stroke-linecap:round; stroke-linejoin:round; stroke-width:2; stroke-opacity:0.1; fill:none\" points=\"2101.24,1486.45 2101.24,47.2441 \"/>\n",
       "<polyline clip-path=\"url(#clip702)\" style=\"stroke:#000000; stroke-linecap:round; stroke-linejoin:round; stroke-width:2; stroke-opacity:0.1; fill:none\" points=\"147.709,1420.52 2352.76,1420.52 \"/>\n",
       "<polyline clip-path=\"url(#clip702)\" style=\"stroke:#000000; stroke-linecap:round; stroke-linejoin:round; stroke-width:2; stroke-opacity:0.1; fill:none\" points=\"147.709,1028.12 2352.76,1028.12 \"/>\n",
       "<polyline clip-path=\"url(#clip702)\" style=\"stroke:#000000; stroke-linecap:round; stroke-linejoin:round; stroke-width:2; stroke-opacity:0.1; fill:none\" points=\"147.709,635.726 2352.76,635.726 \"/>\n",
       "<polyline clip-path=\"url(#clip702)\" style=\"stroke:#000000; stroke-linecap:round; stroke-linejoin:round; stroke-width:2; stroke-opacity:0.1; fill:none\" points=\"147.709,243.329 2352.76,243.329 \"/>\n",
       "<polyline clip-path=\"url(#clip700)\" style=\"stroke:#000000; stroke-linecap:round; stroke-linejoin:round; stroke-width:4; stroke-opacity:1; fill:none\" points=\"147.709,1486.45 2352.76,1486.45 \"/>\n",
       "<polyline clip-path=\"url(#clip700)\" style=\"stroke:#000000; stroke-linecap:round; stroke-linejoin:round; stroke-width:4; stroke-opacity:1; fill:none\" points=\"210.116,1486.45 210.116,1467.55 \"/>\n",
       "<polyline clip-path=\"url(#clip700)\" style=\"stroke:#000000; stroke-linecap:round; stroke-linejoin:round; stroke-width:4; stroke-opacity:1; fill:none\" points=\"840.49,1486.45 840.49,1467.55 \"/>\n",
       "<polyline clip-path=\"url(#clip700)\" style=\"stroke:#000000; stroke-linecap:round; stroke-linejoin:round; stroke-width:4; stroke-opacity:1; fill:none\" points=\"1470.86,1486.45 1470.86,1467.55 \"/>\n",
       "<polyline clip-path=\"url(#clip700)\" style=\"stroke:#000000; stroke-linecap:round; stroke-linejoin:round; stroke-width:4; stroke-opacity:1; fill:none\" points=\"2101.24,1486.45 2101.24,1467.55 \"/>\n",
       "<path clip-path=\"url(#clip700)\" d=\"M210.116 1517.37 Q206.505 1517.37 204.677 1520.93 Q202.871 1524.47 202.871 1531.6 Q202.871 1538.71 204.677 1542.27 Q206.505 1545.82 210.116 1545.82 Q213.751 1545.82 215.556 1542.27 Q217.385 1538.71 217.385 1531.6 Q217.385 1524.47 215.556 1520.93 Q213.751 1517.37 210.116 1517.37 M210.116 1513.66 Q215.927 1513.66 218.982 1518.27 Q222.061 1522.85 222.061 1531.6 Q222.061 1540.33 218.982 1544.94 Q215.927 1549.52 210.116 1549.52 Q204.306 1549.52 201.228 1544.94 Q198.172 1540.33 198.172 1531.6 Q198.172 1522.85 201.228 1518.27 Q204.306 1513.66 210.116 1513.66 Z\" fill=\"#000000\" fill-rule=\"nonzero\" fill-opacity=\"1\" /><path clip-path=\"url(#clip700)\" d=\"M815.178 1544.91 L822.816 1544.91 L822.816 1518.55 L814.506 1520.21 L814.506 1515.95 L822.77 1514.29 L827.446 1514.29 L827.446 1544.91 L835.085 1544.91 L835.085 1548.85 L815.178 1548.85 L815.178 1544.91 Z\" fill=\"#000000\" fill-rule=\"nonzero\" fill-opacity=\"1\" /><path clip-path=\"url(#clip700)\" d=\"M854.529 1517.37 Q850.918 1517.37 849.089 1520.93 Q847.284 1524.47 847.284 1531.6 Q847.284 1538.71 849.089 1542.27 Q850.918 1545.82 854.529 1545.82 Q858.163 1545.82 859.969 1542.27 Q861.798 1538.71 861.798 1531.6 Q861.798 1524.47 859.969 1520.93 Q858.163 1517.37 854.529 1517.37 M854.529 1513.66 Q860.339 1513.66 863.395 1518.27 Q866.474 1522.85 866.474 1531.6 Q866.474 1540.33 863.395 1544.94 Q860.339 1549.52 854.529 1549.52 Q848.719 1549.52 845.64 1544.94 Q842.585 1540.33 842.585 1531.6 Q842.585 1522.85 845.64 1518.27 Q848.719 1513.66 854.529 1513.66 Z\" fill=\"#000000\" fill-rule=\"nonzero\" fill-opacity=\"1\" /><path clip-path=\"url(#clip700)\" d=\"M1449.64 1544.91 L1465.96 1544.91 L1465.96 1548.85 L1444.01 1548.85 L1444.01 1544.91 Q1446.67 1542.16 1451.26 1537.53 Q1455.86 1532.88 1457.04 1531.53 Q1459.29 1529.01 1460.17 1527.27 Q1461.07 1525.51 1461.07 1523.82 Q1461.07 1521.07 1459.13 1519.33 Q1457.21 1517.6 1454.1 1517.6 Q1451.91 1517.6 1449.45 1518.36 Q1447.02 1519.13 1444.24 1520.68 L1444.24 1515.95 Q1447.07 1514.82 1449.52 1514.24 Q1451.97 1513.66 1454.01 1513.66 Q1459.38 1513.66 1462.58 1516.35 Q1465.77 1519.03 1465.77 1523.52 Q1465.77 1525.65 1464.96 1527.57 Q1464.17 1529.47 1462.07 1532.07 Q1461.49 1532.74 1458.39 1535.95 Q1455.28 1539.15 1449.64 1544.91 Z\" fill=\"#000000\" fill-rule=\"nonzero\" fill-opacity=\"1\" /><path clip-path=\"url(#clip700)\" d=\"M1485.77 1517.37 Q1482.16 1517.37 1480.33 1520.93 Q1478.53 1524.47 1478.53 1531.6 Q1478.53 1538.71 1480.33 1542.27 Q1482.16 1545.82 1485.77 1545.82 Q1489.4 1545.82 1491.21 1542.27 Q1493.04 1538.71 1493.04 1531.6 Q1493.04 1524.47 1491.21 1520.93 Q1489.4 1517.37 1485.77 1517.37 M1485.77 1513.66 Q1491.58 1513.66 1494.64 1518.27 Q1497.72 1522.85 1497.72 1531.6 Q1497.72 1540.33 1494.64 1544.94 Q1491.58 1549.52 1485.77 1549.52 Q1479.96 1549.52 1476.88 1544.94 Q1473.83 1540.33 1473.83 1531.6 Q1473.83 1522.85 1476.88 1518.27 Q1479.96 1513.66 1485.77 1513.66 Z\" fill=\"#000000\" fill-rule=\"nonzero\" fill-opacity=\"1\" /><path clip-path=\"url(#clip700)\" d=\"M2090.08 1530.21 Q2093.44 1530.93 2095.31 1533.2 Q2097.21 1535.47 2097.21 1538.8 Q2097.21 1543.92 2093.69 1546.72 Q2090.17 1549.52 2083.69 1549.52 Q2081.51 1549.52 2079.2 1549.08 Q2076.91 1548.66 2074.45 1547.81 L2074.45 1543.29 Q2076.4 1544.43 2078.71 1545.01 Q2081.03 1545.58 2083.55 1545.58 Q2087.95 1545.58 2090.24 1543.85 Q2092.56 1542.11 2092.56 1538.8 Q2092.56 1535.75 2090.4 1534.03 Q2088.27 1532.3 2084.45 1532.3 L2080.43 1532.3 L2080.43 1528.45 L2084.64 1528.45 Q2088.09 1528.45 2089.92 1527.09 Q2091.75 1525.7 2091.75 1523.11 Q2091.75 1520.45 2089.85 1519.03 Q2087.97 1517.6 2084.45 1517.6 Q2082.53 1517.6 2080.33 1518.01 Q2078.14 1518.43 2075.5 1519.31 L2075.5 1515.14 Q2078.16 1514.4 2080.47 1514.03 Q2082.81 1513.66 2084.87 1513.66 Q2090.2 1513.66 2093.3 1516.09 Q2096.4 1518.5 2096.4 1522.62 Q2096.4 1525.49 2094.76 1527.48 Q2093.11 1529.45 2090.08 1530.21 Z\" fill=\"#000000\" fill-rule=\"nonzero\" fill-opacity=\"1\" /><path clip-path=\"url(#clip700)\" d=\"M2116.07 1517.37 Q2112.46 1517.37 2110.63 1520.93 Q2108.83 1524.47 2108.83 1531.6 Q2108.83 1538.71 2110.63 1542.27 Q2112.46 1545.82 2116.07 1545.82 Q2119.71 1545.82 2121.51 1542.27 Q2123.34 1538.71 2123.34 1531.6 Q2123.34 1524.47 2121.51 1520.93 Q2119.71 1517.37 2116.07 1517.37 M2116.07 1513.66 Q2121.88 1513.66 2124.94 1518.27 Q2128.02 1522.85 2128.02 1531.6 Q2128.02 1540.33 2124.94 1544.94 Q2121.88 1549.52 2116.07 1549.52 Q2110.26 1549.52 2107.19 1544.94 Q2104.13 1540.33 2104.13 1531.6 Q2104.13 1522.85 2107.19 1518.27 Q2110.26 1513.66 2116.07 1513.66 Z\" fill=\"#000000\" fill-rule=\"nonzero\" fill-opacity=\"1\" /><polyline clip-path=\"url(#clip700)\" style=\"stroke:#000000; stroke-linecap:round; stroke-linejoin:round; stroke-width:4; stroke-opacity:1; fill:none\" points=\"147.709,1486.45 147.709,47.2441 \"/>\n",
       "<polyline clip-path=\"url(#clip700)\" style=\"stroke:#000000; stroke-linecap:round; stroke-linejoin:round; stroke-width:4; stroke-opacity:1; fill:none\" points=\"147.709,1420.52 166.607,1420.52 \"/>\n",
       "<polyline clip-path=\"url(#clip700)\" style=\"stroke:#000000; stroke-linecap:round; stroke-linejoin:round; stroke-width:4; stroke-opacity:1; fill:none\" points=\"147.709,1028.12 166.607,1028.12 \"/>\n",
       "<polyline clip-path=\"url(#clip700)\" style=\"stroke:#000000; stroke-linecap:round; stroke-linejoin:round; stroke-width:4; stroke-opacity:1; fill:none\" points=\"147.709,635.726 166.607,635.726 \"/>\n",
       "<polyline clip-path=\"url(#clip700)\" style=\"stroke:#000000; stroke-linecap:round; stroke-linejoin:round; stroke-width:4; stroke-opacity:1; fill:none\" points=\"147.709,243.329 166.607,243.329 \"/>\n",
       "<path clip-path=\"url(#clip700)\" d=\"M50.9921 1420.97 L80.6679 1420.97 L80.6679 1424.91 L50.9921 1424.91 L50.9921 1420.97 Z\" fill=\"#000000\" fill-rule=\"nonzero\" fill-opacity=\"1\" /><path clip-path=\"url(#clip700)\" d=\"M90.8067 1403.24 L109.163 1403.24 L109.163 1407.18 L95.0891 1407.18 L95.0891 1415.65 Q96.1076 1415.3 97.1261 1415.14 Q98.1447 1414.96 99.1632 1414.96 Q104.95 1414.96 108.33 1418.13 Q111.709 1421.3 111.709 1426.71 Q111.709 1432.29 108.237 1435.39 Q104.765 1438.47 98.4456 1438.47 Q96.2697 1438.47 94.0012 1438.1 Q91.7558 1437.73 89.3484 1436.99 L89.3484 1432.29 Q91.4317 1433.43 93.6539 1433.98 Q95.8761 1434.54 98.353 1434.54 Q102.358 1434.54 104.696 1432.43 Q107.033 1430.33 107.033 1426.71 Q107.033 1423.1 104.696 1421 Q102.358 1418.89 98.353 1418.89 Q96.478 1418.89 94.603 1419.31 Q92.7512 1419.72 90.8067 1420.6 L90.8067 1403.24 Z\" fill=\"#000000\" fill-rule=\"nonzero\" fill-opacity=\"1\" /><path clip-path=\"url(#clip700)\" d=\"M99.765 1013.92 Q96.1539 1013.92 94.3252 1017.49 Q92.5197 1021.03 92.5197 1028.16 Q92.5197 1035.27 94.3252 1038.83 Q96.1539 1042.37 99.765 1042.37 Q103.399 1042.37 105.205 1038.83 Q107.033 1035.27 107.033 1028.16 Q107.033 1021.03 105.205 1017.49 Q103.399 1013.92 99.765 1013.92 M99.765 1010.22 Q105.575 1010.22 108.631 1014.83 Q111.709 1019.41 111.709 1028.16 Q111.709 1036.89 108.631 1041.49 Q105.575 1046.08 99.765 1046.08 Q93.9549 1046.08 90.8762 1041.49 Q87.8206 1036.89 87.8206 1028.16 Q87.8206 1019.41 90.8762 1014.83 Q93.9549 1010.22 99.765 1010.22 Z\" fill=\"#000000\" fill-rule=\"nonzero\" fill-opacity=\"1\" /><path clip-path=\"url(#clip700)\" d=\"M90.8067 618.446 L109.163 618.446 L109.163 622.382 L95.0891 622.382 L95.0891 630.854 Q96.1076 630.507 97.1261 630.345 Q98.1447 630.159 99.1632 630.159 Q104.95 630.159 108.33 633.331 Q111.709 636.502 111.709 641.919 Q111.709 647.497 108.237 650.599 Q104.765 653.678 98.4456 653.678 Q96.2697 653.678 94.0012 653.307 Q91.7558 652.937 89.3484 652.196 L89.3484 647.497 Q91.4317 648.631 93.6539 649.187 Q95.8761 649.743 98.353 649.743 Q102.358 649.743 104.696 647.636 Q107.033 645.53 107.033 641.919 Q107.033 638.307 104.696 636.201 Q102.358 634.095 98.353 634.095 Q96.478 634.095 94.603 634.511 Q92.7512 634.928 90.8067 635.807 L90.8067 618.446 Z\" fill=\"#000000\" fill-rule=\"nonzero\" fill-opacity=\"1\" /><path clip-path=\"url(#clip700)\" d=\"M60.4134 256.673 L68.0522 256.673 L68.0522 230.308 L59.7421 231.974 L59.7421 227.715 L68.0059 226.049 L72.6818 226.049 L72.6818 256.673 L80.3207 256.673 L80.3207 260.609 L60.4134 260.609 L60.4134 256.673 Z\" fill=\"#000000\" fill-rule=\"nonzero\" fill-opacity=\"1\" /><path clip-path=\"url(#clip700)\" d=\"M99.765 229.127 Q96.1539 229.127 94.3252 232.692 Q92.5197 236.234 92.5197 243.363 Q92.5197 250.47 94.3252 254.034 Q96.1539 257.576 99.765 257.576 Q103.399 257.576 105.205 254.034 Q107.033 250.47 107.033 243.363 Q107.033 236.234 105.205 232.692 Q103.399 229.127 99.765 229.127 M99.765 225.424 Q105.575 225.424 108.631 230.03 Q111.709 234.613 111.709 243.363 Q111.709 252.09 108.631 256.697 Q105.575 261.28 99.765 261.28 Q93.9549 261.28 90.8762 256.697 Q87.8206 252.09 87.8206 243.363 Q87.8206 234.613 90.8762 230.03 Q93.9549 225.424 99.765 225.424 Z\" fill=\"#000000\" fill-rule=\"nonzero\" fill-opacity=\"1\" /><polyline clip-path=\"url(#clip702)\" style=\"stroke:#009af9; stroke-linecap:round; stroke-linejoin:round; stroke-width:4; stroke-opacity:1; fill:none\" points=\"210.116,1445.72 212.027,1435.71 213.937,1425.7 215.847,1415.69 217.757,1405.68 219.667,1395.67 221.578,1385.67 223.488,1375.66 225.398,1365.65 227.308,1355.64 229.219,1345.63 231.129,1335.63 233.039,1325.62 234.949,1315.61 236.859,1305.6 238.77,1295.59 240.68,1285.58 242.59,1275.58 244.5,1265.57 246.411,1255.56 248.321,1245.55 250.231,1235.54 252.141,1225.53 254.051,1215.53 255.962,1205.52 257.872,1195.51 259.782,1185.5 261.692,1175.49 263.603,1165.49 265.513,1155.48 267.423,1145.47 269.333,1135.46 271.243,1125.45 273.154,1115.44 275.064,1110.15 276.974,1104.86 278.884,1099.57 280.795,1094.28 282.705,1088.98 284.615,1083.69 286.525,1078.4 288.436,1073.11 290.346,1067.82 292.256,1062.52 294.166,1057.23 296.076,1051.94 297.987,1046.65 299.897,1041.35 301.807,1036.06 303.717,1030.77 305.628,1025.48 307.538,1020.19 309.448,1014.89 311.358,1009.6 313.268,1004.31 315.179,999.018 317.089,993.726 318.999,988.434 320.909,983.141 322.82,977.849 324.73,972.557 326.64,967.265 328.55,961.973 330.46,956.681 332.371,951.389 334.281,946.097 336.191,940.804 338.101,930.796 340.012,920.788 341.922,910.78 343.832,900.772 345.742,890.763 347.652,880.755 349.563,870.747 351.473,860.739 353.383,850.73 355.293,840.722 357.204,830.714 359.114,820.706 361.024,810.698 362.934,800.689 364.844,790.681 366.755,780.673 368.665,770.665 370.575,760.656 372.485,750.648 374.396,740.64 376.306,730.632 378.216,720.624 380.126,710.615 382.036,700.607 383.947,690.599 385.857,680.591 387.767,670.582 389.677,660.574 391.588,650.566 393.498,640.558 395.408,630.55 397.318,620.541 399.228,610.533 418.331,554.732 437.433,498.931 456.535,443.13 475.637,376.206 494.74,304.516 513.842,232.826 532.944,181.396 552.046,160.357 571.148,139.317 590.251,119.706 609.353,112.955 628.455,106.204 647.557,99.4525 666.66,96.4191 685.762,94.3151 704.864,92.2111 723.966,90.8282 743.069,90.1663 762.171,89.5044 781.273,88.9334 800.375,88.7258 819.477,88.5182 838.58,88.3107 857.682,88.2312 876.784,88.1661 895.886,88.1009 914.989,88.0625 934.091,88.0421 953.193,88.0216 972.295,88.0053 991.397,87.9989 1010.5,87.9925 1029.6,87.986 1048.7,87.984 1067.81,87.982 1086.91,87.98 1106.01,87.9789 1125.11,87.9783 1144.22,87.9776 1163.32,87.9771 1182.42,87.9769 1201.52,87.9767 1220.62,87.9765 1239.73,87.9765 1258.83,87.9764 1277.93,87.9763 1297.03,87.9763 1316.14,87.9763 1335.24,87.9763 1354.34,87.9763 1373.44,87.9763 1392.54,87.9763 1411.65,87.9763 1430.75,87.9764 1449.85,87.9765 1468.95,87.9765 1488.06,87.9767 1507.16,87.9769 1526.26,87.9771 1545.36,87.9776 1564.46,87.9783 1583.57,87.9789 1602.67,87.98 1621.77,87.982 1640.87,87.984 1659.98,87.986 1679.08,87.9925 1698.18,87.9989 1717.28,88.0053 1736.38,88.0216 1755.49,88.0421 1774.59,88.0625 1793.69,88.1009 1812.79,88.1661 1831.9,88.2312 1851,88.3107 1870.1,88.5182 1889.2,88.7258 1908.3,88.9334 1927.41,89.5044 1946.51,90.1663 1965.61,90.8282 1984.71,92.2111 2003.82,94.3151 2022.92,96.4191 2042.02,99.4525 2061.12,106.204 2080.22,112.955 2099.33,119.706 2118.43,139.317 2137.53,160.357 2156.63,181.396 2175.74,232.826 2194.84,304.516 2213.94,376.206 2233.04,443.13 2252.14,498.931 2271.25,554.732 2290.35,610.533 \"/>\n",
       "<path clip-path=\"url(#clip700)\" d=\"M2006.32 1438.47 L2279.25 1438.47 L2279.25 1334.79 L2006.32 1334.79  Z\" fill=\"#ffffff\" fill-rule=\"evenodd\" fill-opacity=\"1\"/>\n",
       "<polyline clip-path=\"url(#clip700)\" style=\"stroke:#000000; stroke-linecap:round; stroke-linejoin:round; stroke-width:4; stroke-opacity:1; fill:none\" points=\"2006.32,1438.47 2279.25,1438.47 2279.25,1334.79 2006.32,1334.79 2006.32,1438.47 \"/>\n",
       "<polyline clip-path=\"url(#clip700)\" style=\"stroke:#009af9; stroke-linecap:round; stroke-linejoin:round; stroke-width:4; stroke-opacity:1; fill:none\" points=\"2030.82,1386.63 2177.82,1386.63 \"/>\n",
       "<path clip-path=\"url(#clip700)\" d=\"M2216.17 1406.32 Q2214.36 1410.95 2212.65 1412.36 Q2210.93 1413.78 2208.06 1413.78 L2204.66 1413.78 L2204.66 1410.21 L2207.16 1410.21 Q2208.92 1410.21 2209.89 1409.38 Q2210.87 1408.54 2212.05 1405.44 L2212.81 1403.5 L2202.32 1377.99 L2206.84 1377.99 L2214.94 1398.27 L2223.04 1377.99 L2227.55 1377.99 L2216.17 1406.32 Z\" fill=\"#000000\" fill-rule=\"nonzero\" fill-opacity=\"1\" /><path clip-path=\"url(#clip700)\" d=\"M2234.85 1399.98 L2242.49 1399.98 L2242.49 1373.61 L2234.18 1375.28 L2234.18 1371.02 L2242.44 1369.35 L2247.11 1369.35 L2247.11 1399.98 L2254.75 1399.98 L2254.75 1403.91 L2234.85 1403.91 L2234.85 1399.98 Z\" fill=\"#000000\" fill-rule=\"nonzero\" fill-opacity=\"1\" /></svg>\n"
      ]
     },
     "metadata": {},
     "output_type": "display_data"
    }
   ],
   "source": [
    "using Plots\n",
    "plot(xy)"
   ]
  },
  {
   "cell_type": "code",
   "execution_count": 13,
   "metadata": {},
   "outputs": [
    {
     "name": "stdout",
     "output_type": "stream",
     "text": [
      "-------------------------------------------------------\n",
      "Version       : 4.13.1\n",
      "License       : GNU General Public License\n",
      "Build OS      : Linux64-sdk\n",
      "Build date    : 19700101\n",
      "Build host    : amdci7.julia.csail.mit.edu\n",
      "Build options : 64Bit ALGLIB[contrib] ANN[contrib] Bamg Blossom Cairo DIntegration Dlopen DomHex Eigen[contrib] Fltk GMP Gmm[contrib] Hxt Jpeg Kbipack LinuxJoystick MathEx[contrib] Mesh Metis[contrib] Mmg Mpeg Netgen Nii2mesh ONELAB ONELABMetamodel OpenCASCADE OpenCASCADE-CAF OpenGL OpenMP OptHom Parser Plugins Png Post QuadMeshingTools QuadTri Solver TetGen/BR TinyXML2[contrib] Untangle Voro++[contrib] WinslowUntangler Zlib\n",
      "FLTK version  : 1.3.8\n",
      "OCC version   : 7.7.2\n",
      "Packaged by   : root\n",
      "Web site      : https://gmsh.info\n",
      "Issue tracker : https://gitlab.onelab.info/gmsh/gmsh/issues\n",
      "-------------------------------------------------------\n"
     ]
    },
    {
     "name": "stderr",
     "output_type": "stream",
     "text": [
      "XOpenIM() failed\n",
      "XRequest.18: BadValue 0x0\n"
     ]
    }
   ],
   "source": [
    "gmsh.fltk.run()"
   ]
  },
  {
   "cell_type": "code",
   "execution_count": 14,
   "metadata": {},
   "outputs": [],
   "source": [
    "gmsh.finalize()"
   ]
  }
 ],
 "metadata": {
  "kernelspec": {
   "display_name": "Julia 1.11.1",
   "language": "julia",
   "name": "julia-1.11"
  },
  "language_info": {
   "file_extension": ".jl",
   "mimetype": "application/julia",
   "name": "julia",
   "version": "1.11.1"
  }
 },
 "nbformat": 4,
 "nbformat_minor": 4
}
