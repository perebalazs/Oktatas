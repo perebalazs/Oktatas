{
 "cells": [
  {
   "cell_type": "code",
   "execution_count": 141,
   "metadata": {},
   "outputs": [],
   "source": [
    "import LowLevelFEM as FEM\n",
    "using LowLevelFEM\n",
    "\n",
    "gmsh.initialize();"
   ]
  },
  {
   "cell_type": "code",
   "execution_count": 142,
   "metadata": {},
   "outputs": [
    {
     "name": "stdout",
     "output_type": "stream",
     "text": [
      "Info    : Reading 'BC-as-a-function.geo'...\n",
      "Info    : Meshing 1D...\n",
      "Info    : [  0%] Meshing curve 1 (Line)\n",
      "Info    : [ 10%] Meshing curve 2 (Line)\n",
      "Info    : [ 20%] Meshing curve 3 (Line)\n",
      "Info    : [ 30%] Meshing curve 4 (Line)\n",
      "Info    : [ 40%] Meshing curve 5 (Line)\n",
      "Info    : [ 50%] Meshing curve 6 (Line)\n",
      "Info    : [ 60%] Meshing curve 7 (Line)\n",
      "Info    : [ 60%] Meshing curve 8 (Line)\n",
      "Info    : [ 70%] Meshing curve 9 (Line)\n",
      "Info    : [ 80%] Meshing curve 10 (Line)\n",
      "Info    : [ 90%] Meshing curve 11 (Line)\n",
      "Info    : [100%] Meshing curve 12 (Line)\n",
      "Info    : Done meshing 1D (Wall 0.000832669s, CPU 0.000833s)\n",
      "Info    : Meshing 2D...\n",
      "Info    : [  0%] Meshing surface 1 (Transfinite)\n",
      "Info    : [ 20%] Meshing surface 2 (Transfinite)\n",
      "Info    : [ 40%] Meshing surface 3 (Transfinite)\n",
      "Info    : [ 60%] Meshing surface 4 (Transfinite)\n",
      "Info    : [ 70%] Meshing surface 5 (Transfinite)\n",
      "Info    : [ 90%] Meshing surface 6 (Transfinite)\n",
      "Info    : Done meshing 2D (Wall 0.000313389s, CPU 0.000312s)\n",
      "Info    : Meshing 3D...\n",
      "Info    : Meshing volume 1 (Transfinite)\n",
      "Info    : Done meshing 3D (Wall 0.00104891s, CPU 0.001048s)\n",
      "Info    : Optimizing mesh...\n",
      "Info    : Done optimizing mesh (Wall 1.0813e-05s, CPU 1.1e-05s)\n",
      "Info    : 496 nodes 800 elements\n",
      "Info    : Done reading 'BC-as-a-function.geo'\n",
      "Info    : RCMK renumbering...\n",
      "Info    : Done RCMK renumbering (bandwidth is now 37)\n"
     ]
    },
    {
     "data": {
      "text/plain": [
       "LowLevelFEM.Problem(\"BC-as-a-function\", \"Solid\", 3, [(\"beam\", 200000.0, 0.3, 7.85e-9)], 1.0, 496)"
      ]
     },
     "metadata": {},
     "output_type": "display_data"
    }
   ],
   "source": [
    "gmsh.open(\"BC-as-a-function.geo\")\n",
    "\n",
    "mat1 = FEM.material(\"beam\", E=2e5, ν=0.3)\n",
    "problem = FEM.Problem([mat1], type=\"Solid\", bandwidth=\"none\")"
   ]
  },
  {
   "cell_type": "code",
   "execution_count": 143,
   "metadata": {},
   "outputs": [],
   "source": [
    "#gmsh.fltk.run()"
   ]
  },
  {
   "cell_type": "code",
   "execution_count": 144,
   "metadata": {},
   "outputs": [
    {
     "data": {
      "text/plain": [
       "Ux (generic function with 1 method)"
      ]
     },
     "metadata": {},
     "output_type": "display_data"
    }
   ],
   "source": [
    "Ux(x, y, z) = x^2"
   ]
  },
  {
   "cell_type": "code",
   "execution_count": 145,
   "metadata": {},
   "outputs": [],
   "source": [
    "supp = FEM.displacementConstraint(\"supp\", ux=0, uy=0, uz=0)\n",
    "load = FEM.displacementConstraint(\"beam\", ux=Ux);\n",
    "load2 = FEM.load(\"load\", fx=0);"
   ]
  },
  {
   "cell_type": "code",
   "execution_count": 146,
   "metadata": {},
   "outputs": [
    {
     "data": {
      "text/plain": [
       "1488×1488 SparseArrays.SparseMatrixCSC{Float64, Int64} with 81191 stored entries:\n",
       "⎡⢿⢗⡇⠀⡿⠀⢸⠀⠀⡇⠀⣿⡇⠀⠀⠀⢸⠀⠀⠀⠀⡇⠀⢸⠀⢸⠀⠀⡇⠀⣺⠀⢸⠀⠀⡇⠀⡯⠀⢐⎤\n",
       "⎢⠉⠉⠻⣦⡁⠀⠀⠀⠀⠁⠀⠉⠙⠶⢤⣀⠈⠀⠀⠀⠀⠙⢦⡈⠀⠈⠀⠀⠀⠀⠘⢦⡈⠀⠀⠁⠀⠀⠀⠀⎥\n",
       "⎢⠛⠋⠁⠈⠻⣦⡀⠀⠀⠀⠀⠘⠳⠦⣄⡈⠉⠀⠀⠀⠀⠀⠀⠉⠀⠘⢷⣀⠀⠀⠀⠀⠉⠀⠀⠳⣄⠀⠀⠀⎥\n",
       "⎢⠒⠒⠀⠀⠀⠈⠻⣦⡀⠀⠀⠒⠀⠀⠈⠙⠳⢦⣄⡀⠀⠀⠀⠰⣄⠀⠀⠙⠃⠀⠀⠀⠐⣦⡀⠀⠈⠃⠀⠀⎥\n",
       "⎢⠤⠤⠄⠀⠀⠀⠀⠈⠻⣦⡀⠠⠀⠀⠀⠀⠠⣤⣈⠙⠳⠆⠀⠀⠈⠳⠀⠀⢤⡀⠀⠀⠀⠈⠻⠆⠀⢤⡀⠀⎥\n",
       "⎢⣤⣤⡄⠀⣀⠀⢠⠀⠀⡈⠻⣦⡄⠀⠀⠀⢠⠀⠉⠛⠶⡄⠀⢠⠀⢀⠀⠀⡀⠛⣦⠀⢠⠀⠀⡄⠀⣤⠙⢦⎥\n",
       "⎢⠉⠉⢳⡄⠹⡆⠀⠀⠀⠀⠀⠉⠻⣦⡀⠀⠀⠀⠀⠀⠀⢻⡄⠀⠀⠈⢧⠀⠁⠀⠹⣆⠈⠀⠀⢳⡄⠁⠀⠈⎥\n",
       "⎢⠀⠀⠀⢳⡀⠹⣆⠀⠀⠀⠀⠀⠀⠈⠻⣦⡀⠀⠀⠀⠀⠀⢻⡄⠀⠀⠈⢧⠀⠀⠀⠹⣆⠀⠀⠀⢳⡀⠀⠀⎥\n",
       "⎢⠒⠒⠂⠀⠃⠀⠹⣆⠀⣦⠀⠒⠀⠀⠀⠈⠻⣦⡀⠀⠀⠀⠀⢻⡄⠀⠀⠈⢧⠀⠀⠀⠹⣆⠀⠀⠈⢳⡀⠀⎥\n",
       "⎢⠀⠀⠀⠀⠀⠀⠀⠹⣆⠘⣧⠀⠀⠀⠀⠀⠀⠈⠻⣦⡀⠀⠀⠀⢻⡄⠀⠀⠈⣧⠀⠀⠀⠹⣆⠀⠀⠀⢳⡀⎥\n",
       "⎢⠤⠤⣄⠀⠀⠀⠀⠀⠹⠆⠘⠧⣤⣀⠀⠀⠀⠀⠀⠈⠻⣦⡀⢠⡀⠻⠀⠀⠀⠈⢧⡀⢠⣄⠹⠆⠀⠀⠀⠻⎥\n",
       "⎢⣀⣀⡈⠳⡄⠀⢀⡀⠀⠀⠀⣀⠀⠉⠛⠶⣤⣀⠀⠀⠀⣈⠻⣦⡙⢦⠀⠀⠀⠀⢀⡙⢦⡙⢷⡄⠀⠀⠀⠀⎥\n",
       "⎢⣀⣀⡀⠀⣀⠀⠀⠙⢦⡀⠀⢀⡀⠀⠀⠀⠀⠉⠛⠶⣤⡈⠳⣌⠻⣦⡀⠀⡀⠀⠈⠻⣆⠙⢦⡀⠀⣀⠀⠀⎥\n",
       "⎢⠀⠀⠀⠀⠙⢳⣄⠀⠀⠀⠀⠀⠉⠓⠦⣄⡀⠀⠀⠀⠀⠀⠀⠀⠀⠈⠻⣦⡙⢦⡀⠀⠀⠀⠀⠙⢦⡙⢳⣄⎥\n",
       "⎢⠉⠉⠀⠀⠀⠀⠉⠀⠀⠳⣤⠈⠁⠀⠀⠀⠉⠓⠦⣤⡀⠀⠀⠀⠀⠈⠳⣌⠻⣦⡉⠀⠀⠀⠀⠻⣦⡙⢦⡉⎥\n",
       "⎢⠚⠚⠲⣄⠀⠀⠀⠀⠀⠀⠈⠛⠳⢦⣄⡀⠀⠀⠀⠀⠉⠳⣄⠰⣦⡀⠀⠈⠃⠈⠻⣦⡐⢦⡀⠲⣌⠳⣤⡙⎥\n",
       "⎢⠒⠒⠂⠈⠃⠀⠰⣤⡀⠀⠀⠒⠂⠀⠈⠙⠳⢦⣄⡀⠀⢶⣌⠳⣌⠙⠀⠀⠀⠀⠰⣌⠻⣦⡙⢦⡈⠳⣌⠛⎥\n",
       "⎢⠤⠤⠄⠀⢤⡀⠀⠈⠻⠆⠀⠤⢤⣀⠀⠀⠀⠀⠈⠙⠳⠆⠙⠷⠈⠳⣄⠀⣤⡀⢠⡈⠳⣌⠻⣦⡙⢦⡈⠳⎥\n",
       "⎢⡤⡤⠀⠀⠀⠙⠦⠀⠀⣄⠀⣤⠄⠉⠙⠲⢦⣀⠀⠀⠀⠀⠀⠀⠀⢠⣌⠳⣌⠻⢦⡙⢦⡈⠳⣌⠻⣦⡙⠦⎥\n",
       "⎣⢀⢀⠀⠀⠀⠀⠀⠀⠀⠈⠳⣄⡀⠀⠀⠀⠀⠈⠙⠲⣤⡀⠀⠀⠀⠀⠙⢶⡌⠳⣄⠻⣦⠙⢦⡈⠳⡌⠻⣦⎦"
      ]
     },
     "metadata": {},
     "output_type": "display_data"
    }
   ],
   "source": [
    "K = FEM.stiffnessMatrix(problem)"
   ]
  },
  {
   "cell_type": "code",
   "execution_count": 147,
   "metadata": {},
   "outputs": [],
   "source": [
    "f = FEM.loadVector(problem, [load2]);"
   ]
  },
  {
   "cell_type": "code",
   "execution_count": 148,
   "metadata": {},
   "outputs": [],
   "source": [
    "FEM.applyBoundaryConditions!(problem, K, f, [supp, load]);"
   ]
  },
  {
   "cell_type": "code",
   "execution_count": 149,
   "metadata": {},
   "outputs": [],
   "source": [
    "q = FEM.solveDisplacement(K, f)\n",
    "S = FEM.solveStress(problem, q);"
   ]
  },
  {
   "cell_type": "code",
   "execution_count": 150,
   "metadata": {},
   "outputs": [
    {
     "name": "stdout",
     "output_type": "stream",
     "text": [
      "Info    : Running Plugin(Smooth)...\n",
      "Info    : Done running Plugin(Smooth)\n",
      "Info    : Running Plugin(Smooth)...\n",
      "Info    : Done running Plugin(Smooth)\n",
      "Info    : Running Plugin(Smooth)...\n",
      "Info    : Done running Plugin(Smooth)\n",
      "Info    : Running Plugin(Smooth)...\n",
      "Info    : Done running Plugin(Smooth)\n",
      "Info    : Running Plugin(Smooth)...\n",
      "Info    : Done running Plugin(Smooth)\n",
      "Info    : Running Plugin(Smooth)...\n",
      "Info    : Done running Plugin(Smooth)\n"
     ]
    },
    {
     "data": {
      "text/plain": [
       "7"
      ]
     },
     "metadata": {},
     "output_type": "display_data"
    }
   ],
   "source": [
    "u = FEM.showDoFResults(problem, q, \"uvec\", name=\"uvec\", visible=false)\n",
    "ux = FEM.showDoFResults(problem, q, \"ux\", name=\"ux\", visible=false)\n",
    "#uy = FEM.showDoFResults(problem, q, \"uy\", name=\"uy\", visible=false)\n",
    "\n",
    "#s = FEM.showStressResults(problem, S, \"s\", name=\"σ\", visible=true, smooth=false)\n",
    "#ss = FEM.showStressResults(problem, S, \"s\", name=\"σ smooth\", visible=false, smooth=true)\n",
    "sx = FEM.showStressResults(problem, S, \"sx\", name=\"σx\", visible=false, smooth=true)\n",
    "sy = FEM.showStressResults(problem, S, \"sy\", name=\"σy\", visible=false, smooth=true)\n",
    "sz = FEM.showStressResults(problem, S, \"sz\", name=\"σz\", visible=false, smooth=true)\n",
    "sxy = FEM.showStressResults(problem, S, \"sxy\", name=\"τxy\", visible=false, smooth=true)\n",
    "syz = FEM.showStressResults(problem, S, \"syz\", name=\"τyz\", visible=false, smooth=true)\n",
    "szx = FEM.showStressResults(problem, S, \"szx\", name=\"τzx\", visible=false, smooth=true)"
   ]
  },
  {
   "cell_type": "code",
   "execution_count": 151,
   "metadata": {},
   "outputs": [
    {
     "data": {
      "text/plain": [
       "9"
      ]
     },
     "metadata": {},
     "output_type": "display_data"
    }
   ],
   "source": [
    "p1 = FEM.plotOnPath(problem, \"centerline\", ux, 100, name=\"ux\", visible=true)\n",
    "p2 = FEM.plotOnPath(problem, \"centerline\", sx, 100, name=\"sx\", visible=true)"
   ]
  },
  {
   "cell_type": "code",
   "execution_count": 152,
   "metadata": {},
   "outputs": [],
   "source": [
    "#FEM.plotOnPath(problem, \"top\", sy, 1000, name=\"σy\", visible=false);"
   ]
  },
  {
   "cell_type": "code",
   "execution_count": 153,
   "metadata": {},
   "outputs": [
    {
     "name": "stdout",
     "output_type": "stream",
     "text": [
      "-------------------------------------------------------\n",
      "Version       : 4.13.1\n",
      "License       : GNU General Public License\n",
      "Build OS      : Linux64-sdk\n",
      "Build date    : 19700101\n",
      "Build host    : amdci7.julia.csail.mit.edu\n",
      "Build options : 64Bit ALGLIB[contrib] ANN[contrib] Bamg Blossom Cairo DIntegration Dlopen DomHex Eigen[contrib] Fltk GMP Gmm[contrib] Hxt Jpeg Kbipack LinuxJoystick MathEx[contrib] Mesh Metis[contrib] Mmg Mpeg Netgen Nii2mesh ONELAB ONELABMetamodel OpenCASCADE OpenCASCADE-CAF OpenGL OpenMP OptHom Parser Plugins Png Post QuadMeshingTools QuadTri Solver TetGen/BR TinyXML2[contrib] Untangle Voro++[contrib] WinslowUntangler Zlib\n",
      "FLTK version  : 1.3.8\n",
      "OCC version   : 7.7.2\n",
      "Packaged by   : root\n",
      "Web site      : https://gmsh.info\n",
      "Issue tracker : https://gitlab.onelab.info/gmsh/gmsh/issues\n",
      "-------------------------------------------------------\n"
     ]
    },
    {
     "name": "stderr",
     "output_type": "stream",
     "text": [
      "XRequest.18: BadValue 0x0\n"
     ]
    }
   ],
   "source": [
    "gmsh.fltk.run()"
   ]
  },
  {
   "cell_type": "code",
   "execution_count": 154,
   "metadata": {},
   "outputs": [],
   "source": [
    "gmsh.finalize()"
   ]
  }
 ],
 "metadata": {
  "kernelspec": {
   "display_name": "Julia 1.11.1",
   "language": "julia",
   "name": "julia-1.11"
  },
  "language_info": {
   "file_extension": ".jl",
   "mimetype": "application/julia",
   "name": "julia",
   "version": "1.11.1"
  }
 },
 "nbformat": 4,
 "nbformat_minor": 4
}
