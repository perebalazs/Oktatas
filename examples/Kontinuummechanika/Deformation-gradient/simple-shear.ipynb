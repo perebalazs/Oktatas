{
 "cells": [
  {
   "cell_type": "code",
   "execution_count": 1,
   "id": "1399b2b5",
   "metadata": {},
   "outputs": [
    {
     "name": "stdout",
     "output_type": "stream",
     "text": [
      "Info    : Increasing process stack size (8192 kB < 16 MB)\n"
     ]
    }
   ],
   "source": [
    "using LowLevelFEM\n",
    "import LowLevelFEM as FEM\n",
    "gmsh.initialize()"
   ]
  },
  {
   "cell_type": "code",
   "execution_count": 2,
   "id": "3667e6f9",
   "metadata": {},
   "outputs": [
    {
     "name": "stdout",
     "output_type": "stream",
     "text": [
      "Info    : Reading 'cube.geo'...\n",
      "Info    : Meshing 1D...\n",
      "Info    : [  0%] Meshing curve 1 (Line)\n",
      "Info    : [ 10%] Meshing curve 2 (Line)\n",
      "Info    : [ 20%] Meshing curve 3 (Line)\n",
      "Info    : [ 30%] Meshing curve 4 (Line)\n",
      "Info    : [ 40%] Meshing curve 5 (Line)\n",
      "Info    : [ 50%] Meshing curve 6 (Line)\n",
      "Info    : [ 60%] Meshing curve 7 (Line)\n",
      "Info    : [ 60%] Meshing curve 8 (Line)\n",
      "Info    : [ 70%] Meshing curve 9 (Line)\n",
      "Info    : [ 80%] Meshing curve 10 (Line)\n",
      "Info    : [ 90%] Meshing curve 11 (Line)\n",
      "Info    : [100%] Meshing curve 12 (Line)\n",
      "Info    : Done meshing 1D (Wall 0.000571243s, CPU 0.000572s)\n",
      "Info    : Meshing 2D...\n",
      "Info    : [  0%] Meshing surface 1 (Transfinite)\n",
      "Info    : [ 20%] Meshing surface 2 (Transfinite)\n",
      "Info    : [ 40%] Meshing surface 3 (Transfinite)\n",
      "Info    : [ 60%] Meshing surface 4 (Transfinite)\n",
      "Info    : [ 70%] Meshing surface 5 (Transfinite)\n",
      "Info    : [ 90%] Meshing surface 6 (Transfinite)\n",
      "Info    : Done meshing 2D (Wall 0.000138428s, CPU 0.000138s)\n",
      "Info    : Meshing 3D...\n",
      "Info    : Meshing volume 1 (Transfinite)\n",
      "Info    : Done meshing 3D (Wall 0.000190673s, CPU 0.00019s)\n",
      "Info    : Optimizing mesh...\n",
      "Info    : Done optimizing mesh (Wall 1.817e-06s, CPU 1e-06s)\n",
      "Info    : Meshing order 2 (curvilinear on)...\n",
      "Info    : [  0%] Meshing curve 1 order 2\n",
      "Info    : [ 10%] Meshing curve 2 order 2\n",
      "Info    : [ 20%] Meshing curve 3 order 2\n",
      "Info    : [ 20%] Meshing curve 4 order 2\n",
      "Info    : [ 30%] Meshing curve 5 order 2\n",
      "Info    : [ 30%] Meshing curve 6 order 2\n",
      "Info    : [ 40%] Meshing curve 7 order 2\n",
      "Info    : [ 40%] Meshing curve 8 order 2\n",
      "Info    : [ 50%] Meshing curve 9 order 2\n",
      "Info    : [ 50%] Meshing curve 10 order 2\n",
      "Info    : [ 60%] Meshing curve 11 order 2\n",
      "Info    : [ 60%] Meshing curve 12 order 2\n",
      "Info    : [ 70%] Meshing surface 1 order 2\n",
      "Info    : [ 70%] Meshing surface 2 order 2\n",
      "Info    : [ 80%] Meshing surface 3 order 2\n",
      "Info    : [ 80%] Meshing surface 4 order 2\n",
      "Info    : [ 90%] Meshing surface 5 order 2\n",
      "Info    : [ 90%] Meshing surface 6 order 2\n",
      "Info    : [100%] Meshing volume 1 order 2\n",
      "Info    : Done meshing order 2 (Wall 0.000986221s, CPU 0.000985s)\n",
      "Info    : 343 nodes 125 elements\n",
      "Info    : Done reading 'cube.geo'\n"
     ]
    }
   ],
   "source": [
    "gmsh.open(\"cube.geo\")"
   ]
  },
  {
   "cell_type": "code",
   "execution_count": 3,
   "id": "d69aa201",
   "metadata": {},
   "outputs": [
    {
     "name": "stdout",
     "output_type": "stream",
     "text": [
      "Info    : RCMK renumbering...\n",
      "Info    : Done RCMK renumbering (bandwidth is now 218)\n"
     ]
    },
    {
     "data": {
      "text/plain": [
       "LowLevelFEM.Problem(\"cube\", :Solid, 3, 3, LowLevelFEM.Material[LowLevelFEM.Material(\"body\", :Hooke, 200000.0, 0.3, 7.85e-9, 45.0, 4.2e8, 1.2e-5, 115384.61538461536, 76923.07692307692, 166666.66666666666)], 1.0, 343)"
      ]
     },
     "metadata": {},
     "output_type": "display_data"
    }
   ],
   "source": [
    "mat = FEM.material(\"body\")\n",
    "problem = FEM.Problem([mat])"
   ]
  },
  {
   "cell_type": "code",
   "execution_count": 4,
   "id": "fb1b78b0",
   "metadata": {},
   "outputs": [
    {
     "data": {
      "text/plain": [
       "z (generic function with 1 method)"
      ]
     },
     "metadata": {},
     "output_type": "display_data"
    }
   ],
   "source": [
    "γ = 0.5\n",
    "x(X, Y, Z) = X + γ * Y\n",
    "y(X, Y, Z) = Y\n",
    "z(X, Y, Z) = Z"
   ]
  },
  {
   "cell_type": "code",
   "execution_count": 5,
   "id": "a4b1f9a2",
   "metadata": {},
   "outputs": [
    {
     "data": {
      "text/plain": [
       "LowLevelFEM.VectorField(Matrix{Float64}[], [0.0; 0.0; … ; 0.8333333333333335; 0.8333333333333337;;], [0.0], Int64[], 1, :u3D, LowLevelFEM.Problem(\"cube\", :Solid, 3, 3, LowLevelFEM.Material[LowLevelFEM.Material(\"body\", :Hooke, 200000.0, 0.3, 7.85e-9, 45.0, 4.2e8, 1.2e-5, 115384.61538461536, 76923.07692307692, 166666.66666666666)], 1.0, 343))"
      ]
     },
     "metadata": {},
     "output_type": "display_data"
    }
   ],
   "source": [
    "deformation = FEM.field(\"body\", fx=x, fy=y, fz=z)\n",
    "r = FEM.vectorField(problem, [deformation])"
   ]
  },
  {
   "cell_type": "code",
   "execution_count": 6,
   "id": "fd77746d",
   "metadata": {},
   "outputs": [
    {
     "data": {
      "text/plain": [
       "1"
      ]
     },
     "metadata": {},
     "output_type": "display_data"
    }
   ],
   "source": [
    "r0 = FEM.showDeformationResults(r, :vector, visible=true)"
   ]
  },
  {
   "cell_type": "code",
   "execution_count": 7,
   "id": "88ea759d",
   "metadata": {},
   "outputs": [
    {
     "name": "stdout",
     "output_type": "stream",
     "text": [
      "-------------------------------------------------------\n",
      "Version       : 4.13.1\n",
      "License       : GNU General Public License\n",
      "Build OS      : Linux64-sdk\n",
      "Build date    : 19700101\n",
      "Build host    : amdci7.julia.csail.mit.edu\n",
      "Build options : 64Bit ALGLIB[contrib] ANN[contrib] Bamg Blossom Cairo DIntegration Dlopen DomHex Eigen[contrib] Fltk GMP Gmm[contrib] Hxt Jpeg Kbipack LinuxJoystick MathEx[contrib] Mesh Metis[contrib] Mmg Mpeg Netgen Nii2mesh ONELAB ONELABMetamodel OpenCASCADE OpenCASCADE-CAF OpenGL OpenMP OptHom Parser Plugins Png Post QuadMeshingTools QuadTri Solver TetGen/BR TinyXML2[contrib] Untangle Voro++[contrib] WinslowUntangler Zlib\n",
      "FLTK version  : 1.3.8\n",
      "OCC version   : 7.7.2\n",
      "Packaged by   : root\n",
      "Web site      : https://gmsh.info\n",
      "Issue tracker : https://gitlab.onelab.info/gmsh/gmsh/issues\n",
      "-------------------------------------------------------\n"
     ]
    },
    {
     "name": "stderr",
     "output_type": "stream",
     "text": [
      "XOpenIM() failed\n",
      "XRequest.18: BadValue 0x0\n"
     ]
    }
   ],
   "source": [
    "FEM.openPostProcessor()"
   ]
  },
  {
   "cell_type": "code",
   "execution_count": 8,
   "id": "1ff80d72",
   "metadata": {},
   "outputs": [
    {
     "data": {
      "text/plain": [
       "LowLevelFEM.TensorField([[1.0000000000000004; -8.881784197001252e-16; … ; 0.0; 1.0;;], [1.0; 0.0; … ; -5.551115123125783e-17; 0.9999999999999999;;], [0.9999999999999982; 4.440892098500626e-16; … ; -2.465190328815662e-32; 1.0;;], [1.0000000000000009; 0.0; … ; 0.0; 1.0;;], [0.9999999999999982; 0.0; … ; 3.32800694390114e-31; 1.0;;], [1.0; 1.7763568394002505e-15; … ; -5.551115123125793e-17; 1.0;;], [1.0000000000000018; 0.0; … ; 2.3592239273284576e-16; 1.0;;], [1.0; 1.7763568394002505e-15; … ; 2.7755575615627927e-17; 0.9999999999999999;;], [1.0; 0.0; … ; -3.88578058618805e-16; 1.0;;], [1.0000000000000004; 8.881784197001252e-16; … ; 0.0; 1.0;;]  …  [1.0000000000000036; 0.0; … ; -4.440892098500626e-16; 1.0;;], [1.0000000000000009; 8.881784197001252e-16; … ; 0.0; 1.0;;], [1.0000000000000009; 0.0; … ; 1.1102230246251565e-16; 1.0;;], [0.9999999999999982; 0.0; … ; 5.551115123125763e-17; 1.0;;], [1.0; 0.0; … ; 0.0; 1.0;;], [0.9999999999999982; -1.7763568394002505e-15; … ; -5.551115123125852e-17; 1.0;;], [1.0; 0.0; … ; -1.1102230246251467e-16; 0.9999999999999999;;], [1.0; 0.0; … ; -2.3592239273284557e-16; 1.0000000000000002;;], [1.0; 0.0; … ; 3.885780586188055e-16; 1.0;;], [1.0000000000000036; 0.0; … ; -4.996003610813197e-16; 1.0;;]], Matrix{Float64}(undef, 0, 0), [0.0], [99, 100, 101, 102, 103, 104, 105, 106, 107, 108  …  116, 117, 118, 119, 120, 121, 122, 123, 124, 125], 1, :e, LowLevelFEM.Problem(\"cube\", :Solid, 3, 3, LowLevelFEM.Material[LowLevelFEM.Material(\"body\", :Hooke, 200000.0, 0.3, 7.85e-9, 45.0, 4.2e8, 1.2e-5, 115384.61538461536, 76923.07692307692, 166666.66666666666)], 1.0, 343))"
      ]
     },
     "metadata": {},
     "output_type": "display_data"
    }
   ],
   "source": [
    "F = ∇(r)"
   ]
  },
  {
   "cell_type": "code",
   "execution_count": 9,
   "id": "c91237ba",
   "metadata": {},
   "outputs": [
    {
     "data": {
      "text/plain": [
       "3×3 Matrix{Float64}:\n",
       "  1.0   0.5  -0.0\n",
       " -0.0   1.0   0.0\n",
       "  0.0  -0.0   1.0"
      ]
     },
     "metadata": {},
     "output_type": "display_data"
    }
   ],
   "source": [
    "FEM.probe(F, 0.5, 0.5, 0.5)"
   ]
  },
  {
   "cell_type": "code",
   "execution_count": 10,
   "id": "7d99c24e",
   "metadata": {},
   "outputs": [
    {
     "data": {
      "text/plain": [
       "LowLevelFEM.VectorField([[0.16666666666666669; 0.33333333333333337; … ; 0.16666666666666669; 0.1666666666666667;;], [0.5000000000000001; 0.33333333333333354; … ; 0.16666666666666674; 0.16666666666666674;;], [0.8333333333333335; 0.3333333333333336; … ; 0.16666666666666674; 0.16666666666666669;;], [0.33333333333333337; 0.6666666666666667; … ; 0.5000000000000001; 0.16666666666666669;;], [0.666666666666667; 0.6666666666666671; … ; 0.5000000000000002; 0.1666666666666668;;], [1.0000000000000004; 0.6666666666666672; … ; 0.5000000000000004; 0.16666666666666669;;], [0.5; 1.0; … ; 0.8333333333333336; 0.16666666666666666;;], [0.8333333333333334; 1.0; … ; 0.8333333333333335; 0.16666666666666666;;], [1.1666666666666667; 1.0; … ; 0.8333333333333335; 0.16666666666666657;;], [0.16666666666666666; 0.3333333333333333; … ; 0.1666666666666667; 0.5;;]  …  [1.1666666666666665; 1.0; … ; 0.8333333333333336; 0.4999999999999999;;], [0.16666666666666666; 0.3333333333333333; … ; 0.1666666666666667; 0.8333333333333334;;], [0.5; 0.33333333333333337; … ; 0.16666666666666663; 0.8333333333333335;;], [0.8333333333333334; 0.3333333333333333; … ; 0.16666666666666663; 0.8333333333333335;;], [0.3333333333333333; 0.6666666666666666; … ; 0.49999999999999983; 0.8333333333333336;;], [0.6666666666666667; 0.6666666666666667; … ; 0.49999999999999994; 0.8333333333333335;;], [1.0; 0.6666666666666666; … ; 0.5; 0.8333333333333335;;], [0.5; 1.0; … ; 0.8333333333333335; 0.8333333333333334;;], [0.8333333333333333; 1.0; … ; 0.8333333333333333; 0.8333333333333335;;], [1.1666666666666665; 1.0; … ; 0.8333333333333335; 0.8333333333333337;;]], Matrix{Float64}(undef, 0, 0), [0.0], [99, 100, 101, 102, 103, 104, 105, 106, 107, 108  …  116, 117, 118, 119, 120, 121, 122, 123, 124, 125], 1, :u3D, LowLevelFEM.Problem(\"cube\", :Solid, 3, 3, LowLevelFEM.Material[LowLevelFEM.Material(\"body\", :Hooke, 200000.0, 0.3, 7.85e-9, 45.0, 4.2e8, 1.2e-5, 115384.61538461536, 76923.07692307692, 166666.66666666666)], 1.0, 343))"
      ]
     },
     "metadata": {},
     "output_type": "display_data"
    }
   ],
   "source": [
    "rr = FEM.nodesToElements(r)"
   ]
  },
  {
   "cell_type": "code",
   "execution_count": 11,
   "id": "fb47f847",
   "metadata": {},
   "outputs": [
    {
     "data": {
      "text/plain": [
       ":u3D"
      ]
     },
     "metadata": {},
     "output_type": "display_data"
    }
   ],
   "source": [
    "rr.type"
   ]
  },
  {
   "cell_type": "code",
   "execution_count": 12,
   "id": "568c7f7c",
   "metadata": {},
   "outputs": [
    {
     "data": {
      "text/plain": [
       "\"type=e\""
      ]
     },
     "metadata": {},
     "output_type": "display_data"
    },
    {
     "data": {
      "text/plain": [
       "\"epn=9\""
      ]
     },
     "metadata": {},
     "output_type": "display_data"
    },
    {
     "ename": "BoundsError",
     "evalue": "BoundsError: attempt to access 81×1 Matrix{Float64} at index [82:90, 1:1]",
     "output_type": "error",
     "traceback": [
      "BoundsError: attempt to access 81×1 Matrix{Float64} at index [82:90, 1:1]\n",
      "\n",
      "Stacktrace:\n",
      " [1] throw_boundserror(A::Matrix{Float64}, I::Tuple{UnitRange{Int64}, Base.Slice{Base.OneTo{Int64}}})\n",
      "   @ Base ./essentials.jl:14\n",
      " [2] checkbounds\n",
      "   @ ./abstractarray.jl:699 [inlined]\n",
      " [3] _getindex\n",
      "   @ ./multidimensional.jl:914 [inlined]\n",
      " [4] getindex\n",
      "   @ ./abstractarray.jl:1312 [inlined]\n",
      " [5] elementsToNodes(S::LowLevelFEM.VectorField)\n",
      "   @ LowLevelFEM ~/Dokumentumok/GitHub/LowLevelFEM.jl/src/general.jl:2467\n",
      " [6] top-level scope\n",
      "   @ ~/Dokumentumok/GitHub/Oktatas/examples/Kontinuummechanika/Deformation-gradient/jl_notebook_cell_df34fa98e69747e1a8f8a730347b8e2f_X14sZmlsZQ==.jl:3"
     ]
    }
   ],
   "source": [
    "R = FEM.nodePositionVector(problem)\n",
    "RR = FEM.nodesToElements(R)\n",
    "FEM.showDoFResults(FEM.elementsToNodes(rr - RR), :q)"
   ]
  },
  {
   "cell_type": "code",
   "execution_count": 13,
   "id": "46a9147a",
   "metadata": {},
   "outputs": [
    {
     "data": {
      "text/plain": [
       ":e"
      ]
     },
     "metadata": {},
     "output_type": "display_data"
    }
   ],
   "source": [
    "xx = rr - RR\n",
    "xx.type"
   ]
  },
  {
   "cell_type": "code",
   "execution_count": 12,
   "id": "76590819",
   "metadata": {},
   "outputs": [
    {
     "name": "stderr",
     "output_type": "stream",
     "text": [
      "Error   : Gmsh has not been initialized\n",
      "Error   : Gmsh has not been initialized\n"
     ]
    },
    {
     "ename": "UndefVarError",
     "evalue": "UndefVarError: `error` not defined in local scope\nSuggestion: check for an assignment to a local variable that shadows a global of the same name.\nHint: a global variable of this name also exists in Base.",
     "output_type": "error",
     "traceback": [
      "UndefVarError: `error` not defined in local scope\n",
      "Suggestion: check for an assignment to a local variable that shadows a global of the same name.\n",
      "Hint: a global variable of this name also exists in Base.\n",
      "\n",
      "Stacktrace:\n",
      " [1] getLastError()\n",
      "   @ LowLevelFEM.gmsh.logger ~/.julia/artifacts/548af07fc27d416ad9c5fd0694b301f877eddc61/lib/gmsh.jl:9897\n",
      " [2] finalize()\n",
      "   @ LowLevelFEM.gmsh ~/.julia/artifacts/548af07fc27d416ad9c5fd0694b301f877eddc61/lib/gmsh.jl:94\n",
      " [3] top-level scope\n",
      "   @ ~/Dokumentumok/GitHub/Oktatas/examples/Kontinuummechanika/Deformation-gradient/jl_notebook_cell_df34fa98e69747e1a8f8a730347b8e2f_X10sZmlsZQ==.jl:1"
     ]
    }
   ],
   "source": [
    "gmsh.finalize()"
   ]
  }
 ],
 "metadata": {
  "kernelspec": {
   "display_name": "Julia 1.11.6",
   "language": "julia",
   "name": "julia-1.11"
  },
  "language_info": {
   "file_extension": ".jl",
   "mimetype": "application/julia",
   "name": "julia",
   "version": "1.11.6"
  }
 },
 "nbformat": 4,
 "nbformat_minor": 5
}
