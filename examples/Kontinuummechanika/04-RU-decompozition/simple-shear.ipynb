{
 "cells": [
  {
   "cell_type": "code",
   "execution_count": 1,
   "id": "1399b2b5",
   "metadata": {},
   "outputs": [
    {
     "name": "stdout",
     "output_type": "stream",
     "text": [
      "Info    : Increasing process stack size (8192 kB < 16 MB)\n"
     ]
    }
   ],
   "source": [
    "using LowLevelFEM\n",
    "import LowLevelFEM as FEM\n",
    "gmsh.initialize()"
   ]
  },
  {
   "cell_type": "code",
   "execution_count": 2,
   "id": "3667e6f9",
   "metadata": {},
   "outputs": [
    {
     "name": "stdout",
     "output_type": "stream",
     "text": [
      "Info    : Reading 'cube.geo'...\n",
      "Info    : Meshing 1D...\n",
      "Info    : [  0%] Meshing curve 1 (Line)\n",
      "Info    : [ 10%] Meshing curve 2 (Line)\n",
      "Info    : [ 20%] Meshing curve 3 (Line)\n",
      "Info    : [ 30%] Meshing curve 4 (Line)\n",
      "Info    : [ 40%] Meshing curve 5 (Line)\n",
      "Info    : [ 50%] Meshing curve 6 (Line)\n",
      "Info    : [ 60%] Meshing curve 7 (Line)\n",
      "Info    : [ 60%] Meshing curve 8 (Line)\n",
      "Info    : [ 70%] Meshing curve 9 (Line)\n",
      "Info    : [ 80%] Meshing curve 10 (Line)\n",
      "Info    : [ 90%] Meshing curve 11 (Line)\n",
      "Info    : [100%] Meshing curve 12 (Line)\n",
      "Info    : Done meshing 1D (Wall 0.00176768s, CPU 0.001768s)\n",
      "Info    : Meshing 2D...\n",
      "Info    : [  0%] Meshing surface 1 (Transfinite)\n",
      "Info    : [ 20%] Meshing surface 2 (Transfinite)\n",
      "Info    : [ 40%] Meshing surface 3 (Transfinite)\n",
      "Info    : [ 60%] Meshing surface 4 (Transfinite)\n",
      "Info    : [ 70%] Meshing surface 5 (Transfinite)\n",
      "Info    : [ 90%] Meshing surface 6 (Transfinite)\n",
      "Info    : Done meshing 2D (Wall 0.000557922s, CPU 0.000557s)\n",
      "Info    : Meshing 3D...\n",
      "Info    : Meshing volume 1 (Transfinite)\n",
      "Info    : Done meshing 3D (Wall 0.000438099s, CPU 0.000437s)\n",
      "Info    : Optimizing mesh...\n",
      "Info    : Done optimizing mesh (Wall 4.881e-06s, CPU 5e-06s)\n",
      "Info    : Meshing order 2 (curvilinear on)...\n",
      "Info    : [  0%] Meshing curve 1 order 2\n",
      "Info    : [ 10%] Meshing curve 2 order 2\n",
      "Info    : [ 20%] Meshing curve 3 order 2\n",
      "Info    : [ 20%] Meshing curve 4 order 2\n",
      "Info    : [ 30%] Meshing curve 5 order 2\n",
      "Info    : [ 30%] Meshing curve 6 order 2\n",
      "Info    : [ 40%] Meshing curve 7 order 2\n",
      "Info    : [ 40%] Meshing curve 8 order 2\n",
      "Info    : [ 50%] Meshing curve 9 order 2\n",
      "Info    : [ 50%] Meshing curve 10 order 2\n",
      "Info    : [ 60%] Meshing curve 11 order 2\n",
      "Info    : [ 60%] Meshing curve 12 order 2\n",
      "Info    : [ 70%] Meshing surface 1 order 2\n",
      "Info    : [ 70%] Meshing surface 2 order 2\n",
      "Info    : [ 80%] Meshing surface 3 order 2\n",
      "Info    : [ 80%] Meshing surface 4 order 2\n",
      "Info    : [ 90%] Meshing surface 5 order 2\n",
      "Info    : [ 90%] Meshing surface 6 order 2\n",
      "Info    : [100%] Meshing volume 1 order 2\n",
      "Info    : Done meshing order 2 (Wall 0.00228647s, CPU 0.002277s)\n",
      "Info    : 343 nodes 125 elements\n",
      "Info    : Done reading 'cube.geo'\n"
     ]
    }
   ],
   "source": [
    "gmsh.open(\"cube.geo\")"
   ]
  },
  {
   "cell_type": "code",
   "execution_count": 3,
   "id": "d69aa201",
   "metadata": {},
   "outputs": [
    {
     "name": "stdout",
     "output_type": "stream",
     "text": [
      "Info    : RCMK renumbering...\n",
      "Info    : Done RCMK renumbering (bandwidth is now 218)\n"
     ]
    },
    {
     "data": {
      "text/plain": [
       "LowLevelFEM.Problem(\"cube\", :Solid, 3, 3, LowLevelFEM.Material[LowLevelFEM.Material(\"body\", :Hooke, 200000.0, 0.3, 7.85e-9, 45.0, 4.2e8, 1.2e-5, 115384.61538461536, 76923.07692307692, 166666.66666666666)], 1.0, 343)"
      ]
     },
     "metadata": {},
     "output_type": "display_data"
    }
   ],
   "source": [
    "mat = FEM.material(\"body\")\n",
    "problem = FEM.Problem([mat])"
   ]
  },
  {
   "cell_type": "code",
   "execution_count": 4,
   "id": "fb1b78b0",
   "metadata": {},
   "outputs": [
    {
     "data": {
      "text/plain": [
       "z (generic function with 1 method)"
      ]
     },
     "metadata": {},
     "output_type": "display_data"
    }
   ],
   "source": [
    "γ = 0.5\n",
    "x(X, Y, Z) = X + γ * Y\n",
    "y(X, Y, Z) = Y\n",
    "z(X, Y, Z) = Z"
   ]
  },
  {
   "cell_type": "code",
   "execution_count": 5,
   "id": "a4b1f9a2",
   "metadata": {},
   "outputs": [
    {
     "data": {
      "text/plain": [
       "LowLevelFEM.VectorField(Matrix{Float64}[], [0.0; 0.0; … ; 0.8333333333333335; 0.8333333333333337;;], [0.0], Int64[], 1, :u3D, LowLevelFEM.Problem(\"cube\", :Solid, 3, 3, LowLevelFEM.Material[LowLevelFEM.Material(\"body\", :Hooke, 200000.0, 0.3, 7.85e-9, 45.0, 4.2e8, 1.2e-5, 115384.61538461536, 76923.07692307692, 166666.66666666666)], 1.0, 343))"
      ]
     },
     "metadata": {},
     "output_type": "display_data"
    }
   ],
   "source": [
    "deformation = FEM.field(\"body\", fx=x, fy=y, fz=z)\n",
    "r = FEM.vectorField(problem, [deformation])"
   ]
  },
  {
   "cell_type": "code",
   "execution_count": 6,
   "id": "fd77746d",
   "metadata": {},
   "outputs": [
    {
     "data": {
      "text/plain": [
       "1"
      ]
     },
     "metadata": {},
     "output_type": "display_data"
    }
   ],
   "source": [
    "r0 = FEM.showDeformationResults(r, :vector, visible=true)"
   ]
  },
  {
   "cell_type": "code",
   "execution_count": 7,
   "id": "88ea759d",
   "metadata": {},
   "outputs": [],
   "source": [
    "#FEM.openPostProcessor()"
   ]
  },
  {
   "cell_type": "code",
   "execution_count": 8,
   "id": "1ff80d72",
   "metadata": {},
   "outputs": [
    {
     "data": {
      "text/plain": [
       "LowLevelFEM.TensorField([[1.0000000000000004; -8.881784197001252e-16; … ; 0.0; 1.0;;], [1.0; 0.0; … ; -5.551115123125783e-17; 0.9999999999999999;;], [0.9999999999999982; 4.440892098500626e-16; … ; -2.465190328815662e-32; 1.0;;], [1.0000000000000009; 0.0; … ; 0.0; 1.0;;], [0.9999999999999982; 0.0; … ; 3.32800694390114e-31; 1.0;;], [1.0; 1.7763568394002505e-15; … ; -5.551115123125793e-17; 1.0;;], [1.0000000000000018; 0.0; … ; 2.3592239273284576e-16; 1.0;;], [1.0; 1.7763568394002505e-15; … ; 2.7755575615627927e-17; 0.9999999999999999;;], [1.0; 0.0; … ; -3.88578058618805e-16; 1.0;;], [1.0000000000000004; 8.881784197001252e-16; … ; 0.0; 1.0;;]  …  [1.0000000000000036; 0.0; … ; -4.440892098500626e-16; 1.0;;], [1.0000000000000009; 8.881784197001252e-16; … ; 0.0; 1.0;;], [1.0000000000000009; 0.0; … ; 1.1102230246251565e-16; 1.0;;], [0.9999999999999982; 0.0; … ; 5.551115123125763e-17; 1.0;;], [1.0; 0.0; … ; 0.0; 1.0;;], [0.9999999999999982; -1.7763568394002505e-15; … ; -5.551115123125852e-17; 1.0;;], [1.0; 0.0; … ; -1.1102230246251467e-16; 0.9999999999999999;;], [1.0; 0.0; … ; -2.3592239273284557e-16; 1.0000000000000002;;], [1.0; 0.0; … ; 3.885780586188055e-16; 1.0;;], [1.0000000000000036; 0.0; … ; -4.996003610813197e-16; 1.0;;]], Matrix{Float64}(undef, 0, 0), [0.0], [99, 100, 101, 102, 103, 104, 105, 106, 107, 108  …  116, 117, 118, 119, 120, 121, 122, 123, 124, 125], 1, :e, LowLevelFEM.Problem(\"cube\", :Solid, 3, 3, LowLevelFEM.Material[LowLevelFEM.Material(\"body\", :Hooke, 200000.0, 0.3, 7.85e-9, 45.0, 4.2e8, 1.2e-5, 115384.61538461536, 76923.07692307692, 166666.66666666666)], 1.0, 343))"
      ]
     },
     "metadata": {},
     "output_type": "display_data"
    }
   ],
   "source": [
    "F = ∇(r)"
   ]
  },
  {
   "cell_type": "code",
   "execution_count": 9,
   "id": "c91237ba",
   "metadata": {},
   "outputs": [
    {
     "data": {
      "text/plain": [
       "3×3 Matrix{Float64}:\n",
       "  1.0   0.5  -0.0\n",
       " -0.0   1.0   0.0\n",
       "  0.0  -0.0   1.0"
      ]
     },
     "metadata": {},
     "output_type": "display_data"
    }
   ],
   "source": [
    "atP = \"P\"\n",
    "FEM.probe(F, atP)"
   ]
  },
  {
   "cell_type": "code",
   "execution_count": 10,
   "id": "29c10088",
   "metadata": {},
   "outputs": [
    {
     "data": {
      "text/plain": [
       "3×3 Matrix{Float64}:\n",
       "  1.0  0.5   -0.0\n",
       "  0.5  1.25   0.0\n",
       " -0.0  0.0    1.0"
      ]
     },
     "metadata": {},
     "output_type": "display_data"
    }
   ],
   "source": [
    "UU = F' * F\n",
    "FEM.probe(UU, atP)"
   ]
  },
  {
   "cell_type": "code",
   "execution_count": 11,
   "id": "a66e14e5",
   "metadata": {},
   "outputs": [],
   "source": [
    "using LinearAlgebra"
   ]
  },
  {
   "cell_type": "code",
   "execution_count": 12,
   "id": "94215b0a",
   "metadata": {},
   "outputs": [
    {
     "data": {
      "text/plain": [
       "3-element Vector{Float64}:\n",
       " 1.6403882032\n",
       " 1.0\n",
       " 0.6096117968"
      ]
     },
     "metadata": {},
     "output_type": "display_data"
    }
   ],
   "source": [
    "λλ, Q = eigen(UU)\n",
    "FEM.probe(λλ, atP)"
   ]
  },
  {
   "cell_type": "code",
   "execution_count": 13,
   "id": "ede59d3f",
   "metadata": {},
   "outputs": [
    {
     "data": {
      "text/plain": [
       "3×3 Matrix{Float64}:\n",
       " 0.615412  0.0  -0.788205\n",
       " 0.788205  0.0   0.615412\n",
       " 0.0       1.0  -0.0"
      ]
     },
     "metadata": {},
     "output_type": "display_data"
    }
   ],
   "source": [
    "FEM.probe(Q, atP)"
   ]
  },
  {
   "cell_type": "code",
   "execution_count": 14,
   "id": "12773ef1",
   "metadata": {},
   "outputs": [
    {
     "data": {
      "text/plain": [
       "3×3 Matrix{Float64}:\n",
       "  1.0  0.0  -0.0\n",
       "  0.0  1.0   0.0\n",
       " -0.0  0.0   1.0"
      ]
     },
     "metadata": {},
     "output_type": "display_data"
    }
   ],
   "source": [
    "FEM.probe(Q' * Q, atP)"
   ]
  },
  {
   "cell_type": "code",
   "execution_count": 15,
   "id": "a5761065",
   "metadata": {},
   "outputs": [
    {
     "data": {
      "text/plain": [
       "3×3 Matrix{Float64}:\n",
       " 1.64039  0.0  0.0\n",
       " 0.0      1.0  0.0\n",
       " 0.0      0.0  0.609612"
      ]
     },
     "metadata": {},
     "output_type": "display_data"
    }
   ],
   "source": [
    "ΛΛ = diagm(λλ)\n",
    "FEM.probe(ΛΛ, atP)"
   ]
  },
  {
   "cell_type": "code",
   "execution_count": 16,
   "id": "a8e2c480",
   "metadata": {},
   "outputs": [
    {
     "data": {
      "text/plain": [
       "3×3 Matrix{Float64}:\n",
       "  1.64039  0.0  -0.0\n",
       "  0.0      1.0   0.0\n",
       " -0.0      0.0   0.609612"
      ]
     },
     "metadata": {},
     "output_type": "display_data"
    }
   ],
   "source": [
    "ΛΛ2 = Q' * UU * Q\n",
    "FEM.probe(ΛΛ2, atP)"
   ]
  },
  {
   "cell_type": "code",
   "execution_count": 17,
   "id": "f1439a53",
   "metadata": {},
   "outputs": [
    {
     "data": {
      "text/plain": [
       "3×3 Matrix{Float64}:\n",
       "  1.0   0.5   -0.0\n",
       "  0.5   1.25  -0.0\n",
       " -0.0  -0.0    1.0"
      ]
     },
     "metadata": {},
     "output_type": "display_data"
    }
   ],
   "source": [
    "UU2 = Q * ΛΛ * Q'\n",
    "FEM.probe(UU2, atP)"
   ]
  },
  {
   "cell_type": "code",
   "execution_count": 18,
   "id": "8a4cb6a0",
   "metadata": {},
   "outputs": [
    {
     "data": {
      "text/plain": [
       "3-element Vector{Float64}:\n",
       " -0.788205438\n",
       "  0.6154122094\n",
       " -0.0"
      ]
     },
     "metadata": {},
     "output_type": "display_data"
    }
   ],
   "source": [
    "N1, N2, N3 = FEM.getEigenVectors(Q)\n",
    "FEM.probe(N3, atP)"
   ]
  },
  {
   "cell_type": "code",
   "execution_count": 19,
   "id": "dc2b6577",
   "metadata": {},
   "outputs": [
    {
     "data": {
      "text/plain": [
       "1.6403882032"
      ]
     },
     "metadata": {},
     "output_type": "display_data"
    }
   ],
   "source": [
    "λλ1, λλ2, λλ3 = FEM.getEigenValues(λλ)\n",
    "FEM.probe(λλ1, atP)"
   ]
  },
  {
   "cell_type": "code",
   "execution_count": 20,
   "id": "8a9ea161",
   "metadata": {},
   "outputs": [
    {
     "data": {
      "text/plain": [
       "LowLevelFEM.ScalarField([[0.7807764064044159; 0.780776406404415; … ; 0.7807764064044154; 0.7807764064044151;;], [0.7807764064044155; 0.7807764064044143; … ; 0.7807764064044157; 0.7807764064044149;;], [0.7807764064044135; 0.780776406404415; … ; 0.7807764064044143; 0.7807764064044151;;], [0.7807764064044158; 0.7807764064044153; … ; 0.7807764064044159; 0.7807764064044153;;], [0.7807764064044134; 0.7807764064044154; … ; 0.7807764064044154; 0.7807764064044153;;], [0.7807764064044135; 0.7807764064044149; … ; 0.780776406404414; 0.7807764064044154;;], [0.7807764064044159; 0.7807764064044163; … ; 0.780776406404416; 0.7807764064044153;;], [0.7807764064044139; 0.780776406404415; … ; 0.7807764064044154; 0.7807764064044155;;], [0.7807764064044145; 0.7807764064044143; … ; 0.7807764064044135; 0.7807764064044155;;], [0.7807764064044148; 0.7807764064044151; … ; 0.7807764064044159; 0.7807764064044151;;]  …  [0.7807764064044181; 0.7807764064044135; … ; 0.7807764064044158; 0.7807764064044146;;], [0.7807764064044148; 0.7807764064044151; … ; 0.7807764064044156; 0.7807764064044148;;], [0.7807764064044156; 0.7807764064044144; … ; 0.7807764064044148; 0.780776406404415;;], [0.7807764064044145; 0.7807764064044146; … ; 0.7807764064044144; 0.7807764064044156;;], [0.7807764064044148; 0.7807764064044148; … ; 0.7807764064044154; 0.7807764064044148;;], [0.7807764064044158; 0.7807764064044161; … ; 0.7807764064044153; 0.7807764064044154;;], [0.7807764064044145; 0.7807764064044138; … ; 0.7807764064044154; 0.7807764064044153;;], [0.7807764064044157; 0.7807764064044151; … ; 0.780776406404415; 0.7807764064044157;;], [0.7807764064044151; 0.7807764064044153; … ; 0.7807764064044156; 0.7807764064044149;;], [0.7807764064044177; 0.7807764064044149; … ; 0.7807764064044135; 0.7807764064044157;;]], Matrix{Float64}(undef, 0, 0), [0.0], [99, 100, 101, 102, 103, 104, 105, 106, 107, 108  …  116, 117, 118, 119, 120, 121, 122, 123, 124, 125], 1, :scalar, LowLevelFEM.Problem(\"cube\", :Solid, 3, 3, LowLevelFEM.Material[LowLevelFEM.Material(\"body\", :Hooke, 200000.0, 0.3, 7.85e-9, 45.0, 4.2e8, 1.2e-5, 115384.61538461536, 76923.07692307692, 166666.66666666666)], 1.0, 343))"
      ]
     },
     "metadata": {},
     "output_type": "display_data"
    }
   ],
   "source": [
    "λ1 = sqrt(λλ1)\n",
    "λ2 = sqrt(λλ2)\n",
    "λ3 = sqrt(λλ3)"
   ]
  },
  {
   "cell_type": "code",
   "execution_count": 21,
   "id": "4c5e7108",
   "metadata": {},
   "outputs": [
    {
     "data": {
      "text/plain": [
       "3×3 Matrix{Float64}:\n",
       " 1.0  0.5   0.0\n",
       " 0.5  1.25  0.0\n",
       " 0.0  0.0   1.0"
      ]
     },
     "metadata": {},
     "output_type": "display_data"
    }
   ],
   "source": [
    "UU3 = N1 ∘ N1 * λλ1 + N2 ∘ N2 * λλ2 + N3 ∘ N3 * λλ3\n",
    "FEM.probe(UU3, atP)"
   ]
  },
  {
   "cell_type": "code",
   "execution_count": 22,
   "id": "f555542d",
   "metadata": {},
   "outputs": [
    {
     "data": {
      "text/plain": [
       "3×3 Matrix{Float64}:\n",
       " 0.970143  0.242536  0.0\n",
       " 0.242536  1.09141   0.0\n",
       " 0.0       0.0       1.0"
      ]
     },
     "metadata": {},
     "output_type": "display_data"
    }
   ],
   "source": [
    "U = N1 ∘ N1 * λ1 + N2 ∘ N2 * λ2 + N3 ∘ N3 * λ3\n",
    "FEM.probe(U, atP)"
   ]
  },
  {
   "cell_type": "code",
   "execution_count": 23,
   "id": "851ac678",
   "metadata": {},
   "outputs": [],
   "source": [
    "using LinearAlgebra"
   ]
  },
  {
   "cell_type": "code",
   "execution_count": 24,
   "id": "38d5d765",
   "metadata": {},
   "outputs": [
    {
     "data": {
      "text/plain": [
       "1.0"
      ]
     },
     "metadata": {},
     "output_type": "display_data"
    }
   ],
   "source": [
    "FEM.probe(N1 ⋅ N1, atP)"
   ]
  },
  {
   "cell_type": "code",
   "execution_count": 25,
   "id": "2ee3b9fb",
   "metadata": {},
   "outputs": [
    {
     "data": {
      "text/plain": [
       "0.0"
      ]
     },
     "metadata": {},
     "output_type": "display_data"
    }
   ],
   "source": [
    "FEM.probe(N1 ⋅ N2, atP)"
   ]
  },
  {
   "cell_type": "code",
   "execution_count": 26,
   "id": "35989033",
   "metadata": {},
   "outputs": [
    {
     "data": {
      "text/plain": [
       "4"
      ]
     },
     "metadata": {},
     "output_type": "display_data"
    }
   ],
   "source": [
    "FEM.showElementResults(N1, :vector, smooth=false)\n",
    "FEM.showElementResults(N2, :vector, smooth=false)\n",
    "FEM.showElementResults(N3, :vector, smooth=false)"
   ]
  },
  {
   "cell_type": "code",
   "execution_count": 27,
   "id": "4c5aa356",
   "metadata": {},
   "outputs": [
    {
     "data": {
      "text/plain": [
       "7"
      ]
     },
     "metadata": {},
     "output_type": "display_data"
    }
   ],
   "source": [
    "FEM.showDoFResults(λ1, :scalar)\n",
    "FEM.showDoFResults(λ2, :scalar)\n",
    "FEM.showDoFResults(λ3, :scalar)"
   ]
  },
  {
   "cell_type": "code",
   "execution_count": 28,
   "id": "d3bc5130",
   "metadata": {},
   "outputs": [
    {
     "data": {
      "text/plain": [
       "3×3 Matrix{Float64}:\n",
       "  0.970143   0.242536  -0.0\n",
       " -0.242536   0.970143   0.0\n",
       " -0.0       -0.0        1.0"
      ]
     },
     "metadata": {},
     "output_type": "display_data"
    }
   ],
   "source": [
    "R = F * inv(U)\n",
    "FEM.probe(R, atP)"
   ]
  },
  {
   "cell_type": "code",
   "execution_count": 29,
   "id": "4690eecb",
   "metadata": {},
   "outputs": [
    {
     "data": {
      "text/plain": [
       "8"
      ]
     },
     "metadata": {},
     "output_type": "display_data"
    }
   ],
   "source": [
    "R0 = FEM.nodePositionVector(problem)\n",
    "R0 = FEM.nodesToElements(R0)\n",
    "FEM.showDeformationResults(U * R0, :vector)"
   ]
  },
  {
   "cell_type": "code",
   "execution_count": 30,
   "id": "8204e88a",
   "metadata": {},
   "outputs": [
    {
     "data": {
      "text/plain": [
       "9"
      ]
     },
     "metadata": {},
     "output_type": "display_data"
    }
   ],
   "source": [
    "FEM.showDeformationResults(R * R0, :vector)"
   ]
  },
  {
   "cell_type": "code",
   "execution_count": 31,
   "id": "d0710a2a",
   "metadata": {},
   "outputs": [
    {
     "data": {
      "text/plain": [
       "10"
      ]
     },
     "metadata": {},
     "output_type": "display_data"
    }
   ],
   "source": [
    "FEM.showDeformationResults(R * U * R0, :vector)"
   ]
  },
  {
   "cell_type": "code",
   "execution_count": 32,
   "id": "01309dab",
   "metadata": {},
   "outputs": [
    {
     "name": "stdout",
     "output_type": "stream",
     "text": [
      "-------------------------------------------------------\n",
      "Version       : 4.13.1\n",
      "License       : GNU General Public License\n",
      "Build OS      : Linux64-sdk\n",
      "Build date    : 19700101\n",
      "Build host    : amdci7.julia.csail.mit.edu\n",
      "Build options : 64Bit ALGLIB[contrib] ANN[contrib] Bamg Blossom Cairo DIntegration Dlopen DomHex Eigen[contrib] Fltk GMP Gmm[contrib] Hxt Jpeg Kbipack LinuxJoystick MathEx[contrib] Mesh Metis[contrib] Mmg Mpeg Netgen Nii2mesh ONELAB ONELABMetamodel OpenCASCADE OpenCASCADE-CAF OpenGL OpenMP OptHom Parser Plugins Png Post QuadMeshingTools QuadTri Solver TetGen/BR TinyXML2[contrib] Untangle Voro++[contrib] WinslowUntangler Zlib\n",
      "FLTK version  : 1.3.8\n",
      "OCC version   : 7.7.2\n",
      "Packaged by   : root\n",
      "Web site      : https://gmsh.info\n",
      "Issue tracker : https://gitlab.onelab.info/gmsh/gmsh/issues\n",
      "-------------------------------------------------------\n"
     ]
    },
    {
     "name": "stderr",
     "output_type": "stream",
     "text": [
      "XOpenIM() failed\n",
      "XRequest.18: BadValue 0x0\n"
     ]
    }
   ],
   "source": [
    "FEM.openPostProcessor()"
   ]
  },
  {
   "cell_type": "code",
   "execution_count": 33,
   "id": "76590819",
   "metadata": {},
   "outputs": [],
   "source": [
    "gmsh.finalize()"
   ]
  }
 ],
 "metadata": {
  "kernelspec": {
   "display_name": "Julia 1.11.6",
   "language": "julia",
   "name": "julia-1.11"
  },
  "language_info": {
   "file_extension": ".jl",
   "mimetype": "application/julia",
   "name": "julia",
   "version": "1.11.6"
  }
 },
 "nbformat": 4,
 "nbformat_minor": 5
}
