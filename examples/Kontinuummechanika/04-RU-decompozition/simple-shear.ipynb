{
 "cells": [
  {
   "cell_type": "code",
   "execution_count": null,
   "id": "1399b2b5",
   "metadata": {},
   "outputs": [],
   "source": [
    "using LowLevelFEM\n",
    "import LowLevelFEM as FEM\n",
    "gmsh.initialize()"
   ]
  },
  {
   "cell_type": "code",
   "execution_count": null,
   "id": "3667e6f9",
   "metadata": {},
   "outputs": [],
   "source": [
    "gmsh.open(\"cube.geo\")"
   ]
  },
  {
   "cell_type": "code",
   "execution_count": null,
   "id": "d69aa201",
   "metadata": {},
   "outputs": [],
   "source": [
    "mat = FEM.material(\"body\")\n",
    "problem = FEM.Problem([mat])"
   ]
  },
  {
   "cell_type": "code",
   "execution_count": null,
   "id": "fb1b78b0",
   "metadata": {},
   "outputs": [],
   "source": [
    "γ = 0.5\n",
    "x(X, Y, Z) = X + γ * Y\n",
    "y(X, Y, Z) = Y\n",
    "z(X, Y, Z) = Z"
   ]
  },
  {
   "cell_type": "code",
   "execution_count": null,
   "id": "a4b1f9a2",
   "metadata": {},
   "outputs": [],
   "source": [
    "deformation = FEM.field(\"body\", fx=x, fy=y, fz=z)\n",
    "r = FEM.vectorField(problem, [deformation])"
   ]
  },
  {
   "cell_type": "code",
   "execution_count": null,
   "id": "fd77746d",
   "metadata": {},
   "outputs": [],
   "source": [
    "r0 = FEM.showDeformationResults(r, :vector, visible=true)"
   ]
  },
  {
   "cell_type": "code",
   "execution_count": null,
   "id": "88ea759d",
   "metadata": {},
   "outputs": [],
   "source": [
    "#FEM.openPostProcessor()"
   ]
  },
  {
   "cell_type": "code",
   "execution_count": null,
   "id": "1ff80d72",
   "metadata": {},
   "outputs": [],
   "source": [
    "F = ∇(r)"
   ]
  },
  {
   "cell_type": "code",
   "execution_count": null,
   "id": "c91237ba",
   "metadata": {},
   "outputs": [],
   "source": [
    "atP = \"P\"\n",
    "FEM.probe(F, atP)"
   ]
  },
  {
   "cell_type": "code",
   "execution_count": null,
   "id": "29c10088",
   "metadata": {},
   "outputs": [],
   "source": [
    "UU = F' * F\n",
    "FEM.probe(UU, atP)"
   ]
  },
  {
   "cell_type": "code",
   "execution_count": null,
   "id": "a66e14e5",
   "metadata": {},
   "outputs": [],
   "source": [
    "using LinearAlgebra"
   ]
  },
  {
   "cell_type": "code",
   "execution_count": null,
   "id": "94215b0a",
   "metadata": {},
   "outputs": [],
   "source": [
    "λλ, Q = eigen(UU)\n",
    "FEM.probe(λλ, atP)"
   ]
  },
  {
   "cell_type": "code",
   "execution_count": null,
   "id": "ede59d3f",
   "metadata": {},
   "outputs": [],
   "source": [
    "FEM.probe(Q, atP)"
   ]
  },
  {
   "cell_type": "code",
   "execution_count": null,
   "id": "12773ef1",
   "metadata": {},
   "outputs": [],
   "source": [
    "FEM.probe(Q' * Q, atP)"
   ]
  },
  {
   "cell_type": "code",
   "execution_count": null,
   "id": "a5761065",
   "metadata": {},
   "outputs": [],
   "source": [
    "ΛΛ = diagm(λλ)\n",
    "FEM.probe(ΛΛ, atP)"
   ]
  },
  {
   "cell_type": "code",
   "execution_count": null,
   "id": "a8e2c480",
   "metadata": {},
   "outputs": [],
   "source": [
    "ΛΛ2 = Q' * UU * Q\n",
    "FEM.probe(ΛΛ2, atP)"
   ]
  },
  {
   "cell_type": "code",
   "execution_count": null,
   "id": "f1439a53",
   "metadata": {},
   "outputs": [],
   "source": [
    "UU2 = Q * ΛΛ * Q'\n",
    "FEM.probe(UU2, atP)"
   ]
  },
  {
   "cell_type": "code",
   "execution_count": null,
   "id": "8a4cb6a0",
   "metadata": {},
   "outputs": [],
   "source": [
    "N1, N2, N3 = FEM.getEigenVectors(Q)\n",
    "FEM.probe(N3, atP)"
   ]
  },
  {
   "cell_type": "code",
   "execution_count": null,
   "id": "dc2b6577",
   "metadata": {},
   "outputs": [],
   "source": [
    "λλ1, λλ2, λλ3 = FEM.getEigenValues(λλ)\n",
    "FEM.probe(λλ1, atP)"
   ]
  },
  {
   "cell_type": "code",
   "execution_count": null,
   "id": "8a9ea161",
   "metadata": {},
   "outputs": [],
   "source": [
    "λ1 = sqrt(λλ1)\n",
    "λ2 = sqrt(λλ2)\n",
    "λ3 = sqrt(λλ3)"
   ]
  },
  {
   "cell_type": "code",
   "execution_count": null,
   "id": "4c5e7108",
   "metadata": {},
   "outputs": [],
   "source": [
    "UU3 = N1 ∘ N1 * λλ1 + N2 ∘ N2 * λλ2 + N3 ∘ N3 * λλ3\n",
    "FEM.probe(UU3, atP)"
   ]
  },
  {
   "cell_type": "code",
   "execution_count": null,
   "id": "f555542d",
   "metadata": {},
   "outputs": [],
   "source": [
    "U = N1 ∘ N1 * λ1 + N2 ∘ N2 * λ2 + N3 ∘ N3 * λ3\n",
    "FEM.probe(U, atP)"
   ]
  },
  {
   "cell_type": "code",
   "execution_count": null,
   "id": "851ac678",
   "metadata": {},
   "outputs": [],
   "source": [
    "using LinearAlgebra"
   ]
  },
  {
   "cell_type": "code",
   "execution_count": null,
   "id": "38d5d765",
   "metadata": {},
   "outputs": [],
   "source": [
    "FEM.probe(N1 ⋅ N1, atP)"
   ]
  },
  {
   "cell_type": "code",
   "execution_count": null,
   "id": "2ee3b9fb",
   "metadata": {},
   "outputs": [],
   "source": [
    "FEM.probe(N1 ⋅ N2, atP)"
   ]
  },
  {
   "cell_type": "code",
   "execution_count": null,
   "id": "35989033",
   "metadata": {},
   "outputs": [],
   "source": [
    "FEM.showElementResults(N1, :vector, smooth=false)\n",
    "FEM.showElementResults(N2, :vector, smooth=false)\n",
    "FEM.showElementResults(N3, :vector, smooth=false)"
   ]
  },
  {
   "cell_type": "code",
   "execution_count": null,
   "id": "4c5aa356",
   "metadata": {},
   "outputs": [],
   "source": [
    "FEM.showDoFResults(λ1, :scalar)\n",
    "FEM.showDoFResults(λ2, :scalar)\n",
    "FEM.showDoFResults(λ3, :scalar)"
   ]
  },
  {
   "cell_type": "code",
   "execution_count": null,
   "id": "d3bc5130",
   "metadata": {},
   "outputs": [],
   "source": [
    "R = F * inv(U)\n",
    "FEM.probe(R, atP)"
   ]
  },
  {
   "cell_type": "code",
   "execution_count": null,
   "id": "4690eecb",
   "metadata": {},
   "outputs": [],
   "source": [
    "R0 = FEM.nodePositionVector(problem)\n",
    "R0 = FEM.nodesToElements(R0)\n",
    "FEM.showDeformationResults(U * R0, :vector)"
   ]
  },
  {
   "cell_type": "code",
   "execution_count": null,
   "id": "8204e88a",
   "metadata": {},
   "outputs": [],
   "source": [
    "FEM.showDeformationResults(R * R0, :vector)"
   ]
  },
  {
   "cell_type": "code",
   "execution_count": null,
   "id": "d0710a2a",
   "metadata": {},
   "outputs": [],
   "source": [
    "FEM.showDeformationResults(R * U * R0, :vector)"
   ]
  },
  {
   "cell_type": "code",
   "execution_count": null,
   "id": "01309dab",
   "metadata": {},
   "outputs": [],
   "source": [
    "FEM.openPostProcessor()"
   ]
  },
  {
   "cell_type": "code",
   "execution_count": null,
   "id": "76590819",
   "metadata": {},
   "outputs": [],
   "source": [
    "gmsh.finalize()"
   ]
  }
 ],
 "metadata": {
  "kernelspec": {
   "display_name": "Julia 1.11.6",
   "language": "julia",
   "name": "julia-1.11"
  },
  "language_info": {
   "file_extension": ".jl",
   "mimetype": "application/julia",
   "name": "julia",
   "version": "1.11.6"
  }
 },
 "nbformat": 4,
 "nbformat_minor": 5
}
