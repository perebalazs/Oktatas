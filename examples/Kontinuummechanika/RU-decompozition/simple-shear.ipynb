{
 "cells": [
  {
   "cell_type": "code",
   "execution_count": 1,
   "id": "1399b2b5",
   "metadata": {},
   "outputs": [
    {
     "name": "stdout",
     "output_type": "stream",
     "text": [
      "Info    : Increasing process stack size (8192 kB < 16 MB)\n"
     ]
    }
   ],
   "source": [
    "using LowLevelFEM\n",
    "import LowLevelFEM as FEM\n",
    "gmsh.initialize()"
   ]
  },
  {
   "cell_type": "code",
   "execution_count": 2,
   "id": "3667e6f9",
   "metadata": {},
   "outputs": [
    {
     "name": "stdout",
     "output_type": "stream",
     "text": [
      "Info    : Reading 'cube.geo'...\n",
      "Info    : Meshing 1D...\n",
      "Info    : [  0%] Meshing curve 1 (Line)\n",
      "Info    : [ 10%] Meshing curve 2 (Line)\n",
      "Info    : [ 20%] Meshing curve 3 (Line)\n",
      "Info    : [ 30%] Meshing curve 4 (Line)\n",
      "Info    : [ 40%] Meshing curve 5 (Line)\n",
      "Info    : [ 50%] Meshing curve 6 (Line)\n",
      "Info    : [ 60%] Meshing curve 7 (Line)\n",
      "Info    : [ 60%] Meshing curve 8 (Line)\n",
      "Info    : [ 70%] Meshing curve 9 (Line)\n",
      "Info    : [ 80%] Meshing curve 10 (Line)\n",
      "Info    : [ 90%] Meshing curve 11 (Line)\n",
      "Info    : [100%] Meshing curve 12 (Line)\n",
      "Info    : Done meshing 1D (Wall 0.000576143s, CPU 0.000578s)\n",
      "Info    : Meshing 2D...\n",
      "Info    : [  0%] Meshing surface 1 (Transfinite)\n",
      "Info    : [ 20%] Meshing surface 2 (Transfinite)\n",
      "Info    : [ 40%] Meshing surface 3 (Transfinite)\n",
      "Info    : [ 60%] Meshing surface 4 (Transfinite)\n",
      "Info    : [ 70%] Meshing surface 5 (Transfinite)\n",
      "Info    : [ 90%] Meshing surface 6 (Transfinite)\n",
      "Info    : Done meshing 2D (Wall 0.000150013s, CPU 0.00015s)\n",
      "Info    : Meshing 3D...\n",
      "Info    : Meshing volume 1 (Transfinite)\n",
      "Info    : Done meshing 3D (Wall 0.000197899s, CPU 0.000198s)\n",
      "Info    : Optimizing mesh...\n",
      "Info    : Done optimizing mesh (Wall 2.01901e-06s, CPU 2e-06s)\n",
      "Info    : Meshing order 2 (curvilinear on)...\n",
      "Info    : [  0%] Meshing curve 1 order 2\n",
      "Info    : [ 10%] Meshing curve 2 order 2\n",
      "Info    : [ 20%] Meshing curve 3 order 2\n",
      "Info    : [ 20%] Meshing curve 4 order 2\n",
      "Info    : [ 30%] Meshing curve 5 order 2\n",
      "Info    : [ 30%] Meshing curve 6 order 2\n",
      "Info    : [ 40%] Meshing curve 7 order 2\n",
      "Info    : [ 40%] Meshing curve 8 order 2\n",
      "Info    : [ 50%] Meshing curve 9 order 2\n",
      "Info    : [ 50%] Meshing curve 10 order 2\n",
      "Info    : [ 60%] Meshing curve 11 order 2\n",
      "Info    : [ 60%] Meshing curve 12 order 2\n",
      "Info    : [ 70%] Meshing surface 1 order 2\n",
      "Info    : [ 70%] Meshing surface 2 order 2\n",
      "Info    : [ 80%] Meshing surface 3 order 2\n",
      "Info    : [ 80%] Meshing surface 4 order 2\n",
      "Info    : [ 90%] Meshing surface 5 order 2\n",
      "Info    : [ 90%] Meshing surface 6 order 2\n",
      "Info    : [100%] Meshing volume 1 order 2\n",
      "Info    : Done meshing order 2 (Wall 0.00106052s, CPU 0.001059s)\n",
      "Info    : 343 nodes 125 elements\n",
      "Info    : Done reading 'cube.geo'\n"
     ]
    }
   ],
   "source": [
    "gmsh.open(\"cube.geo\")"
   ]
  },
  {
   "cell_type": "code",
   "execution_count": 3,
   "id": "d69aa201",
   "metadata": {},
   "outputs": [
    {
     "name": "stdout",
     "output_type": "stream",
     "text": [
      "Info    : RCMK renumbering...\n",
      "Info    : Done RCMK renumbering (bandwidth is now 218)\n"
     ]
    },
    {
     "data": {
      "text/plain": [
       "LowLevelFEM.Problem(\"cube\", :Solid, 3, 3, LowLevelFEM.Material[LowLevelFEM.Material(\"body\", :Hooke, 200000.0, 0.3, 7.85e-9, 45.0, 4.2e8, 1.2e-5, 115384.61538461536, 76923.07692307692, 166666.66666666666)], 1.0, 343)"
      ]
     },
     "metadata": {},
     "output_type": "display_data"
    }
   ],
   "source": [
    "mat = FEM.material(\"body\")\n",
    "problem = FEM.Problem([mat])"
   ]
  },
  {
   "cell_type": "code",
   "execution_count": 4,
   "id": "fb1b78b0",
   "metadata": {},
   "outputs": [
    {
     "data": {
      "text/plain": [
       "z (generic function with 1 method)"
      ]
     },
     "metadata": {},
     "output_type": "display_data"
    }
   ],
   "source": [
    "γ = 0.5\n",
    "x(X, Y, Z) = X + γ * Y\n",
    "y(X, Y, Z) = Y\n",
    "z(X, Y, Z) = Z"
   ]
  },
  {
   "cell_type": "code",
   "execution_count": 5,
   "id": "a4b1f9a2",
   "metadata": {},
   "outputs": [
    {
     "data": {
      "text/plain": [
       "LowLevelFEM.VectorField(Matrix{Float64}[], [0.0; 0.0; … ; 0.8333333333333335; 0.8333333333333337;;], [0.0], Int64[], 1, :u3D, LowLevelFEM.Problem(\"cube\", :Solid, 3, 3, LowLevelFEM.Material[LowLevelFEM.Material(\"body\", :Hooke, 200000.0, 0.3, 7.85e-9, 45.0, 4.2e8, 1.2e-5, 115384.61538461536, 76923.07692307692, 166666.66666666666)], 1.0, 343))"
      ]
     },
     "metadata": {},
     "output_type": "display_data"
    }
   ],
   "source": [
    "deformation = FEM.field(\"body\", fx=x, fy=y, fz=z)\n",
    "r = FEM.vectorField(problem, [deformation])"
   ]
  },
  {
   "cell_type": "code",
   "execution_count": 6,
   "id": "fd77746d",
   "metadata": {},
   "outputs": [
    {
     "data": {
      "text/plain": [
       "1"
      ]
     },
     "metadata": {},
     "output_type": "display_data"
    }
   ],
   "source": [
    "r0 = FEM.showDeformationResults(r, :vector, visible=true)"
   ]
  },
  {
   "cell_type": "code",
   "execution_count": 7,
   "id": "88ea759d",
   "metadata": {},
   "outputs": [],
   "source": [
    "#FEM.openPostProcessor()"
   ]
  },
  {
   "cell_type": "code",
   "execution_count": 8,
   "id": "1ff80d72",
   "metadata": {},
   "outputs": [
    {
     "data": {
      "text/plain": [
       "LowLevelFEM.TensorField([[1.0000000000000004; -8.881784197001252e-16; … ; 0.0; 1.0;;], [1.0; 0.0; … ; -5.551115123125783e-17; 0.9999999999999999;;], [0.9999999999999982; 4.440892098500626e-16; … ; -2.465190328815662e-32; 1.0;;], [1.0000000000000009; 0.0; … ; 0.0; 1.0;;], [0.9999999999999982; 0.0; … ; 3.32800694390114e-31; 1.0;;], [1.0; 1.7763568394002505e-15; … ; -5.551115123125793e-17; 1.0;;], [1.0000000000000018; 0.0; … ; 2.3592239273284576e-16; 1.0;;], [1.0; 1.7763568394002505e-15; … ; 2.7755575615627927e-17; 0.9999999999999999;;], [1.0; 0.0; … ; -3.88578058618805e-16; 1.0;;], [1.0000000000000004; 8.881784197001252e-16; … ; 0.0; 1.0;;]  …  [1.0000000000000036; 0.0; … ; -4.440892098500626e-16; 1.0;;], [1.0000000000000009; 8.881784197001252e-16; … ; 0.0; 1.0;;], [1.0000000000000009; 0.0; … ; 1.1102230246251565e-16; 1.0;;], [0.9999999999999982; 0.0; … ; 5.551115123125763e-17; 1.0;;], [1.0; 0.0; … ; 0.0; 1.0;;], [0.9999999999999982; -1.7763568394002505e-15; … ; -5.551115123125852e-17; 1.0;;], [1.0; 0.0; … ; -1.1102230246251467e-16; 0.9999999999999999;;], [1.0; 0.0; … ; -2.3592239273284557e-16; 1.0000000000000002;;], [1.0; 0.0; … ; 3.885780586188055e-16; 1.0;;], [1.0000000000000036; 0.0; … ; -4.996003610813197e-16; 1.0;;]], Matrix{Float64}(undef, 0, 0), [0.0], [99, 100, 101, 102, 103, 104, 105, 106, 107, 108  …  116, 117, 118, 119, 120, 121, 122, 123, 124, 125], 1, :e, LowLevelFEM.Problem(\"cube\", :Solid, 3, 3, LowLevelFEM.Material[LowLevelFEM.Material(\"body\", :Hooke, 200000.0, 0.3, 7.85e-9, 45.0, 4.2e8, 1.2e-5, 115384.61538461536, 76923.07692307692, 166666.66666666666)], 1.0, 343))"
      ]
     },
     "metadata": {},
     "output_type": "display_data"
    }
   ],
   "source": [
    "F = ∇(r)"
   ]
  },
  {
   "cell_type": "code",
   "execution_count": 9,
   "id": "c91237ba",
   "metadata": {},
   "outputs": [
    {
     "data": {
      "text/plain": [
       "3×3 Matrix{Float64}:\n",
       "  1.0   0.5  -0.0\n",
       " -0.0   1.0   0.0\n",
       "  0.0  -0.0   1.0"
      ]
     },
     "metadata": {},
     "output_type": "display_data"
    }
   ],
   "source": [
    "FEM.probe(F, 0.5, 0.5, 0.5)"
   ]
  },
  {
   "cell_type": "code",
   "execution_count": 10,
   "id": "29c10088",
   "metadata": {},
   "outputs": [
    {
     "data": {
      "text/plain": [
       "3×3 Matrix{Float64}:\n",
       "  0.970143   0.242536  -0.0\n",
       "  0.242536   1.09141   -0.0\n",
       " -0.0       -0.0        1.0"
      ]
     },
     "metadata": {},
     "output_type": "display_data"
    }
   ],
   "source": [
    "U = sqrt(F' * F)\n",
    "FEM.probe(U, 0.5, 0.5, 0.5)"
   ]
  },
  {
   "cell_type": "code",
   "execution_count": 11,
   "id": "52bba31d",
   "metadata": {},
   "outputs": [
    {
     "data": {
      "text/plain": [
       "3×3 Matrix{Float64}:\n",
       "  1.0  0.5   -0.0\n",
       "  0.5  1.25   0.0\n",
       " -0.0  0.0    1.0"
      ]
     },
     "metadata": {},
     "output_type": "display_data"
    }
   ],
   "source": [
    "UU = F' * F\n",
    "FEM.probe(UU, 0.5, 0.5, 0.5)"
   ]
  },
  {
   "cell_type": "code",
   "execution_count": 12,
   "id": "a66e14e5",
   "metadata": {},
   "outputs": [],
   "source": [
    "using LinearAlgebra"
   ]
  },
  {
   "cell_type": "code",
   "execution_count": 13,
   "id": "94215b0a",
   "metadata": {},
   "outputs": [
    {
     "data": {
      "text/plain": [
       "3-element Vector{Float64}:\n",
       " 1.6403882032\n",
       " 1.0\n",
       " 0.6096117968"
      ]
     },
     "metadata": {},
     "output_type": "display_data"
    }
   ],
   "source": [
    "λλ, Q = eigen(UU)\n",
    "FEM.probe(λλ, 0.5, 0.5, 0.5)"
   ]
  },
  {
   "cell_type": "code",
   "execution_count": 14,
   "id": "ede59d3f",
   "metadata": {},
   "outputs": [
    {
     "data": {
      "text/plain": [
       "3×3 Matrix{Float64}:\n",
       " 0.615412  0.0  -0.788205\n",
       " 0.788205  0.0   0.615412\n",
       " 0.0       1.0  -0.0"
      ]
     },
     "metadata": {},
     "output_type": "display_data"
    }
   ],
   "source": [
    "FEM.probe(Q, 0.5, 0.5, 0.5)"
   ]
  },
  {
   "cell_type": "code",
   "execution_count": 15,
   "id": "12773ef1",
   "metadata": {},
   "outputs": [
    {
     "data": {
      "text/plain": [
       "3×3 Matrix{Float64}:\n",
       "  1.0  0.0  -0.0\n",
       "  0.0  1.0   0.0\n",
       " -0.0  0.0   1.0"
      ]
     },
     "metadata": {},
     "output_type": "display_data"
    }
   ],
   "source": [
    "FEM.probe(Q' * Q, 0.5, 0.5, 0.5)"
   ]
  },
  {
   "cell_type": "code",
   "execution_count": 16,
   "id": "a5761065",
   "metadata": {},
   "outputs": [
    {
     "data": {
      "text/plain": [
       "3×3 Matrix{Float64}:\n",
       " 1.64039  0.0  0.0\n",
       " 0.0      1.0  0.0\n",
       " 0.0      0.0  0.609612"
      ]
     },
     "metadata": {},
     "output_type": "display_data"
    }
   ],
   "source": [
    "ΛΛ = diagm(λλ)\n",
    "FEM.probe(ΛΛ, 0.5, 0.5, 0.5)"
   ]
  },
  {
   "cell_type": "code",
   "execution_count": 17,
   "id": "a8e2c480",
   "metadata": {},
   "outputs": [
    {
     "data": {
      "text/plain": [
       "3×3 Matrix{Float64}:\n",
       "  1.64039  0.0  -0.0\n",
       "  0.0      1.0   0.0\n",
       " -0.0      0.0   0.609612"
      ]
     },
     "metadata": {},
     "output_type": "display_data"
    }
   ],
   "source": [
    "ΛΛ2 = Q' * UU * Q\n",
    "FEM.probe(ΛΛ2, 0.5, 0.5, 0.5)"
   ]
  },
  {
   "cell_type": "code",
   "execution_count": 18,
   "id": "f1439a53",
   "metadata": {},
   "outputs": [
    {
     "data": {
      "text/plain": [
       "3×3 Matrix{Float64}:\n",
       "  1.0   0.5   -0.0\n",
       "  0.5   1.25  -0.0\n",
       " -0.0  -0.0    1.0"
      ]
     },
     "metadata": {},
     "output_type": "display_data"
    }
   ],
   "source": [
    "U2 = Q * ΛΛ * Q'\n",
    "FEM.probe(U2, 0.5, 0.5, 0.5)"
   ]
  },
  {
   "cell_type": "code",
   "execution_count": 19,
   "id": "8a4cb6a0",
   "metadata": {},
   "outputs": [
    {
     "data": {
      "text/plain": [
       "3-element Vector{Float64}:\n",
       " -0.788205438\n",
       "  0.6154122094\n",
       " -0.0"
      ]
     },
     "metadata": {},
     "output_type": "display_data"
    }
   ],
   "source": [
    "N1, N2, N3 = FEM.getEigenVectors(Q)\n",
    "FEM.probe(N3, \"P\")"
   ]
  },
  {
   "cell_type": "code",
   "execution_count": 20,
   "id": "dc2b6577",
   "metadata": {},
   "outputs": [
    {
     "data": {
      "text/plain": [
       "1.6403882032"
      ]
     },
     "metadata": {},
     "output_type": "display_data"
    }
   ],
   "source": [
    "λλ1, λλ2, λλ3 = FEM.getEigenValues(λλ)\n",
    "FEM.probe(λλ1, \"P\")"
   ]
  },
  {
   "cell_type": "code",
   "execution_count": 21,
   "id": "8a9ea161",
   "metadata": {},
   "outputs": [
    {
     "data": {
      "text/plain": [
       "LowLevelFEM.ScalarField([[0.7807764064044159; 0.780776406404415; … ; 0.7807764064044154; 0.7807764064044151;;], [0.7807764064044155; 0.7807764064044143; … ; 0.7807764064044157; 0.7807764064044149;;], [0.7807764064044135; 0.780776406404415; … ; 0.7807764064044143; 0.7807764064044151;;], [0.7807764064044158; 0.7807764064044153; … ; 0.7807764064044159; 0.7807764064044153;;], [0.7807764064044134; 0.7807764064044154; … ; 0.7807764064044154; 0.7807764064044153;;], [0.7807764064044135; 0.7807764064044149; … ; 0.780776406404414; 0.7807764064044154;;], [0.7807764064044159; 0.7807764064044163; … ; 0.780776406404416; 0.7807764064044153;;], [0.7807764064044139; 0.780776406404415; … ; 0.7807764064044154; 0.7807764064044155;;], [0.7807764064044145; 0.7807764064044143; … ; 0.7807764064044135; 0.7807764064044155;;], [0.7807764064044148; 0.7807764064044151; … ; 0.7807764064044159; 0.7807764064044151;;]  …  [0.7807764064044181; 0.7807764064044135; … ; 0.7807764064044158; 0.7807764064044146;;], [0.7807764064044148; 0.7807764064044151; … ; 0.7807764064044156; 0.7807764064044148;;], [0.7807764064044156; 0.7807764064044144; … ; 0.7807764064044148; 0.780776406404415;;], [0.7807764064044145; 0.7807764064044146; … ; 0.7807764064044144; 0.7807764064044156;;], [0.7807764064044148; 0.7807764064044148; … ; 0.7807764064044154; 0.7807764064044148;;], [0.7807764064044158; 0.7807764064044161; … ; 0.7807764064044153; 0.7807764064044154;;], [0.7807764064044145; 0.7807764064044138; … ; 0.7807764064044154; 0.7807764064044153;;], [0.7807764064044157; 0.7807764064044151; … ; 0.780776406404415; 0.7807764064044157;;], [0.7807764064044151; 0.7807764064044153; … ; 0.7807764064044156; 0.7807764064044149;;], [0.7807764064044177; 0.7807764064044149; … ; 0.7807764064044135; 0.7807764064044157;;]], Matrix{Float64}(undef, 0, 0), [0.0], [99, 100, 101, 102, 103, 104, 105, 106, 107, 108  …  116, 117, 118, 119, 120, 121, 122, 123, 124, 125], 1, :scalar, LowLevelFEM.Problem(\"cube\", :Solid, 3, 3, LowLevelFEM.Material[LowLevelFEM.Material(\"body\", :Hooke, 200000.0, 0.3, 7.85e-9, 45.0, 4.2e8, 1.2e-5, 115384.61538461536, 76923.07692307692, 166666.66666666666)], 1.0, 343))"
      ]
     },
     "metadata": {},
     "output_type": "display_data"
    }
   ],
   "source": [
    "λ1 = sqrt(λλ1)\n",
    "λ2 = sqrt(λλ2)\n",
    "λ3 = sqrt(λλ3)"
   ]
  },
  {
   "cell_type": "code",
   "execution_count": 22,
   "id": "4c5e7108",
   "metadata": {},
   "outputs": [
    {
     "data": {
      "text/plain": [
       "3×3 Matrix{Float64}:\n",
       " 1.0   0.5    0.0\n",
       " 0.5   1.25  -0.0\n",
       " 0.0  -0.0    1.0"
      ]
     },
     "metadata": {},
     "output_type": "display_data"
    }
   ],
   "source": [
    "U3 = N1 ∘ N1 * λλ1 + N2 ∘ N2 * λλ2 + N3 ∘ N3 * λλ3\n",
    "atP = \"P\"\n",
    "FEM.probe(U3, 0.5, 0.3, 0.4)"
   ]
  },
  {
   "cell_type": "code",
   "execution_count": 23,
   "id": "396f2539",
   "metadata": {},
   "outputs": [
    {
     "data": {
      "text/plain": [
       "3-element Vector{Float64}:\n",
       " 1.0\n",
       " 1.0\n",
       " 0.0"
      ]
     },
     "metadata": {},
     "output_type": "display_data"
    }
   ],
   "source": [
    "fe1 = FEM.field(\"body\", fx=1, fy=1, fz=0)\n",
    "e1 = FEM.vectorField(problem, [fe1])\n",
    "e1 = FEM.nodesToElements(e1)\n",
    "FEM.probe(e1, atP)"
   ]
  },
  {
   "cell_type": "code",
   "execution_count": 24,
   "id": "1685eea6",
   "metadata": {},
   "outputs": [
    {
     "data": {
      "text/plain": [
       "3-element Vector{Float64}:\n",
       " 0.0\n",
       " 2.0\n",
       " 0.0"
      ]
     },
     "metadata": {},
     "output_type": "display_data"
    }
   ],
   "source": [
    "fe2 = FEM.field(\"body\", fx=0, fy=2, fz=0)\n",
    "e2 = FEM.vectorField(problem, [fe2])\n",
    "e2 = FEM.nodesToElements(e2)\n",
    "FEM.probe(e2, atP)"
   ]
  },
  {
   "cell_type": "code",
   "execution_count": 25,
   "id": "be7dabbd",
   "metadata": {},
   "outputs": [
    {
     "data": {
      "text/plain": [
       "3×3 Matrix{Float64}:\n",
       " 1.0  1.0  0.0\n",
       " 1.0  1.0  0.0\n",
       " 0.0  0.0  0.0"
      ]
     },
     "metadata": {},
     "output_type": "display_data"
    }
   ],
   "source": [
    "G1 = e1 ∘ e1\n",
    "FEM.probe(G1, atP)"
   ]
  },
  {
   "cell_type": "code",
   "execution_count": 26,
   "id": "f5be2395",
   "metadata": {},
   "outputs": [
    {
     "data": {
      "text/plain": [
       "2.0"
      ]
     },
     "metadata": {},
     "output_type": "display_data"
    }
   ],
   "source": [
    "fa1 = FEM.field(\"body\", f=2)\n",
    "a1 = FEM.ScalarField(problem, [fa1])\n",
    "FEM.probe(a1, atP)"
   ]
  },
  {
   "cell_type": "code",
   "execution_count": 27,
   "id": "27d92593",
   "metadata": {},
   "outputs": [
    {
     "data": {
      "text/plain": [
       "3.0"
      ]
     },
     "metadata": {},
     "output_type": "display_data"
    }
   ],
   "source": [
    "fa2 = FEM.field(\"body\", f=3)\n",
    "a2 = FEM.ScalarField(problem, [fa2])\n",
    "FEM.probe(a2, atP)"
   ]
  },
  {
   "cell_type": "code",
   "execution_count": 28,
   "id": "621c04ce",
   "metadata": {},
   "outputs": [
    {
     "data": {
      "text/plain": [
       "3×3 Matrix{Float64}:\n",
       " 2.0   2.0  0.0\n",
       " 2.0  14.0  0.0\n",
       " 0.0   0.0  0.0"
      ]
     },
     "metadata": {},
     "output_type": "display_data"
    }
   ],
   "source": [
    "U01 = e1 ∘ e1 * a1 + e2 ∘ e2 * a2\n",
    "FEM.probe(U01, atP)"
   ]
  },
  {
   "cell_type": "code",
   "execution_count": 29,
   "id": "e56bc6a4",
   "metadata": {},
   "outputs": [
    {
     "data": {
      "text/plain": [
       "1.0"
      ]
     },
     "metadata": {},
     "output_type": "display_data"
    }
   ],
   "source": [
    "N1N1 = N1 ⋅ N1\n",
    "FEM.probe(N1N1, atP)"
   ]
  },
  {
   "cell_type": "code",
   "execution_count": 30,
   "id": "a4315d53",
   "metadata": {},
   "outputs": [
    {
     "data": {
      "text/plain": [
       "4.0"
      ]
     },
     "metadata": {},
     "output_type": "display_data"
    }
   ],
   "source": [
    "GG1 = G1 ⋅ G1\n",
    "FEM.probe(GG1, atP)"
   ]
  },
  {
   "cell_type": "code",
   "execution_count": 31,
   "id": "8dbbc8cb",
   "metadata": {},
   "outputs": [
    {
     "data": {
      "text/plain": [
       "3-element Vector{Float64}:\n",
       " 0.6233288721\n",
       " 0.7983449128\n",
       " 0.0"
      ]
     },
     "metadata": {},
     "output_type": "display_data"
    }
   ],
   "source": [
    "v1 = a1 * N1\n",
    "FEM.probe(a1 * N1, 0.6, 0.6, 0.6)\n"
   ]
  },
  {
   "cell_type": "code",
   "execution_count": 32,
   "id": "35989033",
   "metadata": {},
   "outputs": [
    {
     "data": {
      "text/plain": [
       "4"
      ]
     },
     "metadata": {},
     "output_type": "display_data"
    }
   ],
   "source": [
    "FEM.showElementResults(N1, :vector, smooth=false)\n",
    "FEM.showElementResults(N2, :vector, smooth=false)\n",
    "FEM.showElementResults(N3, :vector, smooth=false)"
   ]
  },
  {
   "cell_type": "code",
   "execution_count": 33,
   "id": "4c5aa356",
   "metadata": {},
   "outputs": [
    {
     "data": {
      "text/plain": [
       "7"
      ]
     },
     "metadata": {},
     "output_type": "display_data"
    }
   ],
   "source": [
    "FEM.showDoFResults(λ1, :scalar)\n",
    "FEM.showDoFResults(λ2, :scalar)\n",
    "FEM.showDoFResults(λ3, :scalar)"
   ]
  },
  {
   "cell_type": "code",
   "execution_count": 34,
   "id": "2b8e08b3",
   "metadata": {},
   "outputs": [
    {
     "data": {
      "text/plain": [
       "3-element Vector{Float64}:\n",
       "  0.6154122094026356\n",
       "  0.7882054380161093\n",
       " -3.069424334495955e-16"
      ]
     },
     "metadata": {},
     "output_type": "display_data"
    },
    {
     "data": {
      "text/plain": [
       "3-element Vector{Float64}:\n",
       " -0.6154122094026357\n",
       " -0.7882054380161091\n",
       " -1.9467299642837778e-15"
      ]
     },
     "metadata": {},
     "output_type": "display_data"
    },
    {
     "data": {
      "text/plain": [
       "3-element Vector{Float64}:\n",
       " 0.6154122094026356\n",
       " 0.7882054380161093\n",
       " 0.0"
      ]
     },
     "metadata": {},
     "output_type": "display_data"
    },
    {
     "data": {
      "text/plain": [
       "3-element Vector{Float64}:\n",
       " -0.6154122094026372\n",
       " -0.7882054380161081\n",
       " -1.7932587475589793e-15"
      ]
     },
     "metadata": {},
     "output_type": "display_data"
    },
    {
     "data": {
      "text/plain": [
       "3-element Vector{Float64}:\n",
       " -0.6154122094026359\n",
       " -0.788205438016109\n",
       " -1.9467299642837742e-15"
      ]
     },
     "metadata": {},
     "output_type": "display_data"
    },
    {
     "data": {
      "text/plain": [
       "3-element Vector{Float64}:\n",
       "  0.6154122094026359\n",
       "  0.7882054380161091\n",
       " -1.1982670508090175e-16"
      ]
     },
     "metadata": {},
     "output_type": "display_data"
    },
    {
     "data": {
      "text/plain": [
       "3-element Vector{Float64}:\n",
       " -0.6154122094026352\n",
       " -0.7882054380161096\n",
       " -1.4001341206723816e-15"
      ]
     },
     "metadata": {},
     "output_type": "display_data"
    },
    {
     "data": {
      "text/plain": [
       "3-element Vector{Float64}:\n",
       " -0.6154122094026357\n",
       " -0.7882054380161092\n",
       "  1.2466629039475885e-15"
      ]
     },
     "metadata": {},
     "output_type": "display_data"
    },
    {
     "data": {
      "text/plain": [
       "3-element Vector{Float64}:\n",
       " 0.6154122094026352\n",
       " 0.7882054380161095\n",
       " 1.1141557716992642e-16"
      ]
     },
     "metadata": {},
     "output_type": "display_data"
    },
    {
     "data": {
      "text/plain": [
       "3-element Vector{Float64}:\n",
       " -0.6154122094026352\n",
       " -0.7882054380161094\n",
       " -6.586745153338285e-16"
      ]
     },
     "metadata": {},
     "output_type": "display_data"
    },
    {
     "data": {
      "text/plain": [
       "3-element Vector{Float64}:\n",
       " -0.6154122094026354\n",
       " -0.7882054380161093\n",
       "  5.999419859277069e-16"
      ]
     },
     "metadata": {},
     "output_type": "display_data"
    },
    {
     "data": {
      "text/plain": [
       "3-element Vector{Float64}:\n",
       " -0.6154122094026359\n",
       " -0.7882054380161091\n",
       " -9.73364982141891e-16"
      ]
     },
     "metadata": {},
     "output_type": "display_data"
    },
    {
     "data": {
      "text/plain": [
       "3-element Vector{Float64}:\n",
       "  0.6154122094026356\n",
       "  0.7882054380161093\n",
       " -3.3977848457028764e-16"
      ]
     },
     "metadata": {},
     "output_type": "display_data"
    },
    {
     "data": {
      "text/plain": [
       "3-element Vector{Float64}:\n",
       " -0.6154122094026357\n",
       " -0.7882054380161092\n",
       " -8.966293737794902e-16"
      ]
     },
     "metadata": {},
     "output_type": "display_data"
    },
    {
     "data": {
      "text/plain": [
       "3-element Vector{Float64}:\n",
       " -0.6154122094026355\n",
       " -0.7882054380161093\n",
       " -7.000670603361931e-16"
      ]
     },
     "metadata": {},
     "output_type": "display_data"
    },
    {
     "data": {
      "text/plain": [
       "3-element Vector{Float64}:\n",
       " -0.6154122094026351\n",
       " -0.7882054380161096\n",
       "  8.966293737794902e-16"
      ]
     },
     "metadata": {},
     "output_type": "display_data"
    },
    {
     "data": {
      "text/plain": [
       "3-element Vector{Float64}:\n",
       " 0.6154122094026366\n",
       " 0.7882054380161085\n",
       " 7.852137966095646e-16"
      ]
     },
     "metadata": {},
     "output_type": "display_data"
    },
    {
     "data": {
      "text/plain": [
       "3-element Vector{Float64}:\n",
       " 0.6154122094026362\n",
       " 0.7882054380161089\n",
       " 3.146904668080577e-16"
      ]
     },
     "metadata": {},
     "output_type": "display_data"
    },
    {
     "data": {
      "text/plain": [
       "3-element Vector{Float64}:\n",
       "  0.6154122094026362\n",
       "  0.7882054380161089\n",
       " -4.590874610693699e-16"
      ]
     },
     "metadata": {},
     "output_type": "display_data"
    },
    {
     "data": {
      "text/plain": [
       "3-element Vector{Float64}:\n",
       " -0.6154122094026374\n",
       " -0.7882054380161079\n",
       "  1.9467299642837762e-15"
      ]
     },
     "metadata": {},
     "output_type": "display_data"
    },
    {
     "data": {
      "text/plain": [
       "3-element Vector{Float64}:\n",
       "  0.6154122094026353\n",
       "  0.7882054380161095\n",
       " -3.298141709138649e-17"
      ]
     },
     "metadata": {},
     "output_type": "display_data"
    },
    {
     "data": {
      "text/plain": [
       "3-element Vector{Float64}:\n",
       " 0.6154122094026359\n",
       " 0.7882054380161091\n",
       " 0.0"
      ]
     },
     "metadata": {},
     "output_type": "display_data"
    },
    {
     "data": {
      "text/plain": [
       "3-element Vector{Float64}:\n",
       " -0.6154122094026356\n",
       " -0.7882054380161093\n",
       "  0.0"
      ]
     },
     "metadata": {},
     "output_type": "display_data"
    },
    {
     "data": {
      "text/plain": [
       "3-element Vector{Float64}:\n",
       " -0.6154122094026362\n",
       " -0.7882054380161089\n",
       "  4.494955100240714e-16"
      ]
     },
     "metadata": {},
     "output_type": "display_data"
    },
    {
     "data": {
      "text/plain": [
       "3-element Vector{Float64}:\n",
       " 0.6154122094026356\n",
       " 0.7882054380161093\n",
       " 0.0"
      ]
     },
     "metadata": {},
     "output_type": "display_data"
    },
    {
     "data": {
      "text/plain": [
       "3-element Vector{Float64}:\n",
       " 0.6154122094026359\n",
       " 0.7882054380161091\n",
       " 0.0"
      ]
     },
     "metadata": {},
     "output_type": "display_data"
    },
    {
     "data": {
      "text/plain": [
       "3-element Vector{Float64}:\n",
       " -0.6154122094026357\n",
       " -0.7882054380161091\n",
       "  0.0"
      ]
     },
     "metadata": {},
     "output_type": "display_data"
    },
    {
     "data": {
      "text/plain": [
       "3-element Vector{Float64}:\n",
       " 0.6154122094026362\n",
       " 0.7882054380161088\n",
       " 1.0931916872227907e-15"
      ]
     },
     "metadata": {},
     "output_type": "display_data"
    },
    {
     "data": {
      "text/plain": [
       "3-element Vector{Float64}:\n",
       " 0.6154122094026347\n",
       " 0.78820543801611\n",
       " 8.535382770609868e-16"
      ]
     },
     "metadata": {},
     "output_type": "display_data"
    },
    {
     "data": {
      "text/plain": [
       "3-element Vector{Float64}:\n",
       " -0.6154122094026344\n",
       " -0.7882054380161102\n",
       " -1.4001341206723812e-15"
      ]
     },
     "metadata": {},
     "output_type": "display_data"
    },
    {
     "data": {
      "text/plain": [
       "3-element Vector{Float64}:\n",
       " -0.615412209402636\n",
       " -0.7882054380161089\n",
       "  1.2466629039476027e-15"
      ]
     },
     "metadata": {},
     "output_type": "display_data"
    },
    {
     "data": {
      "text/plain": [
       "3-element Vector{Float64}:\n",
       " 0.6154122094026357\n",
       " 0.7882054380161091\n",
       " 8.535382770609816e-16"
      ]
     },
     "metadata": {},
     "output_type": "display_data"
    },
    {
     "data": {
      "text/plain": [
       "3-element Vector{Float64}:\n",
       " -0.615412209402636\n",
       " -0.7882054380161091\n",
       " -1.826903259202871e-15"
      ]
     },
     "metadata": {},
     "output_type": "display_data"
    },
    {
     "data": {
      "text/plain": [
       "3-element Vector{Float64}:\n",
       " 0.6154122094026345\n",
       " 0.7882054380161101\n",
       " 0.0"
      ]
     },
     "metadata": {},
     "output_type": "display_data"
    },
    {
     "data": {
      "text/plain": [
       "3-element Vector{Float64}:\n",
       " -0.6154122094026345\n",
       " -0.7882054380161101\n",
       " -1.5536053373971685e-15"
      ]
     },
     "metadata": {},
     "output_type": "display_data"
    },
    {
     "data": {
      "text/plain": [
       "3-element Vector{Float64}:\n",
       " -0.6154122094026351\n",
       " -0.7882054380161095\n",
       "  9.218627575124161e-16"
      ]
     },
     "metadata": {},
     "output_type": "display_data"
    },
    {
     "data": {
      "text/plain": [
       "3-element Vector{Float64}:\n",
       " -0.6154122094026355\n",
       " -0.7882054380161093\n",
       "  0.0"
      ]
     },
     "metadata": {},
     "output_type": "display_data"
    },
    {
     "data": {
      "text/plain": [
       "3-element Vector{Float64}:\n",
       " -0.6154122094026363\n",
       " -0.7882054380161088\n",
       "  3.533171352801652e-15"
      ]
     },
     "metadata": {},
     "output_type": "display_data"
    },
    {
     "data": {
      "text/plain": [
       "3-element Vector{Float64}:\n",
       " -0.6154122094026357\n",
       " -0.7882054380161091\n",
       "  8.858565995998647e-16"
      ]
     },
     "metadata": {},
     "output_type": "display_data"
    },
    {
     "data": {
      "text/plain": [
       "3-element Vector{Float64}:\n",
       " -0.6154122094026356\n",
       " -0.7882054380161092\n",
       "  5.999419859277081e-16"
      ]
     },
     "metadata": {},
     "output_type": "display_data"
    },
    {
     "data": {
      "text/plain": [
       "3-element Vector{Float64}:\n",
       " -0.6154122094026349\n",
       " -0.7882054380161099\n",
       "  1.946729964283779e-15"
      ]
     },
     "metadata": {},
     "output_type": "display_data"
    },
    {
     "data": {
      "text/plain": [
       "3-element Vector{Float64}:\n",
       " 0.6154122094026356\n",
       " 0.7882054380161093\n",
       " 0.0"
      ]
     },
     "metadata": {},
     "output_type": "display_data"
    },
    {
     "data": {
      "text/plain": [
       "3-element Vector{Float64}:\n",
       " -0.6154122094026349\n",
       " -0.7882054380161098\n",
       "  2.646797024619967e-15"
      ]
     },
     "metadata": {},
     "output_type": "display_data"
    },
    {
     "data": {
      "text/plain": [
       "3-element Vector{Float64}:\n",
       " 0.6154122094026364\n",
       " 0.7882054380161085\n",
       " 0.0"
      ]
     },
     "metadata": {},
     "output_type": "display_data"
    },
    {
     "data": {
      "text/plain": [
       "3-element Vector{Float64}:\n",
       " 0.6154122094026357\n",
       " 0.7882054380161092\n",
       " 4.021988493500829e-16"
      ]
     },
     "metadata": {},
     "output_type": "display_data"
    },
    {
     "data": {
      "text/plain": [
       "3-element Vector{Float64}:\n",
       " -0.6154122094026362\n",
       " -0.7882054380161089\n",
       "  7.38434864517392e-16"
      ]
     },
     "metadata": {},
     "output_type": "display_data"
    },
    {
     "data": {
      "text/plain": [
       "3-element Vector{Float64}:\n",
       " -0.6154122094026362\n",
       " -0.7882054380161088\n",
       "  2.8002682413447585e-15"
      ]
     },
     "metadata": {},
     "output_type": "display_data"
    },
    {
     "data": {
      "text/plain": [
       "3-element Vector{Float64}:\n",
       " 0.6154122094026359\n",
       " 0.7882054380161091\n",
       " 0.0"
      ]
     },
     "metadata": {},
     "output_type": "display_data"
    },
    {
     "data": {
      "text/plain": [
       "3-element Vector{Float64}:\n",
       " -0.6154122094026357\n",
       " -0.7882054380161091\n",
       "  1.6734320424780774e-15"
      ]
     },
     "metadata": {},
     "output_type": "display_data"
    },
    {
     "data": {
      "text/plain": [
       "3-element Vector{Float64}:\n",
       " -0.6154122094026359\n",
       " -0.7882054380161092\n",
       "  7.983482170578376e-16"
      ]
     },
     "metadata": {},
     "output_type": "display_data"
    },
    {
     "data": {
      "text/plain": [
       "3-element Vector{Float64}:\n",
       " 0.6154122094026359\n",
       " 0.7882054380161091\n",
       " 0.0"
      ]
     },
     "metadata": {},
     "output_type": "display_data"
    },
    {
     "data": {
      "text/plain": [
       "3-element Vector{Float64}:\n",
       " -0.6154122094026359\n",
       " -0.7882054380161091\n",
       "  5.465958436113943e-16"
      ]
     },
     "metadata": {},
     "output_type": "display_data"
    },
    {
     "data": {
      "text/plain": [
       "3-element Vector{Float64}:\n",
       " 0.6154122094026363\n",
       " 0.7882054380161087\n",
       " 0.0"
      ]
     },
     "metadata": {},
     "output_type": "display_data"
    },
    {
     "data": {
      "text/plain": [
       "3-element Vector{Float64}:\n",
       " -0.6154122094026359\n",
       " -0.7882054380161091\n",
       "  4.866824910709446e-16"
      ]
     },
     "metadata": {},
     "output_type": "display_data"
    },
    {
     "data": {
      "text/plain": [
       "3-element Vector{Float64}:\n",
       " 0.6154122094026335\n",
       " 0.7882054380161109\n",
       " 4.2676913853049076e-16"
      ]
     },
     "metadata": {},
     "output_type": "display_data"
    },
    {
     "data": {
      "text/plain": [
       "3-element Vector{Float64}:\n",
       " 0.6154122094026354\n",
       " 0.7882054380161095\n",
       " 8.535382770609633e-16"
      ]
     },
     "metadata": {},
     "output_type": "display_data"
    },
    {
     "data": {
      "text/plain": [
       "3-element Vector{Float64}:\n",
       " 0.6154122094026353\n",
       " 0.7882054380161095\n",
       " 0.0"
      ]
     },
     "metadata": {},
     "output_type": "display_data"
    },
    {
     "data": {
      "text/plain": [
       "3-element Vector{Float64}:\n",
       " -0.6154122094026347\n",
       " -0.78820543801611\n",
       " -1.5536053373971298e-15"
      ]
     },
     "metadata": {},
     "output_type": "display_data"
    },
    {
     "data": {
      "text/plain": [
       "3-element Vector{Float64}:\n",
       " -0.6154122094026383\n",
       " -0.7882054380161073\n",
       " -2.253672397733354e-15"
      ]
     },
     "metadata": {},
     "output_type": "display_data"
    },
    {
     "data": {
      "text/plain": [
       "3-element Vector{Float64}:\n",
       " 0.6154122094026362\n",
       " 0.7882054380161089\n",
       " 1.0931916872227917e-15"
      ]
     },
     "metadata": {},
     "output_type": "display_data"
    },
    {
     "data": {
      "text/plain": [
       "3-element Vector{Float64}:\n",
       " 0.6154122094026371\n",
       " 0.7882054380161081\n",
       " 0.0"
      ]
     },
     "metadata": {},
     "output_type": "display_data"
    },
    {
     "data": {
      "text/plain": [
       "3-element Vector{Float64}:\n",
       " 0.6154122094026373\n",
       " 0.7882054380161079\n",
       " 1.0931916872227795e-15"
      ]
     },
     "metadata": {},
     "output_type": "display_data"
    },
    {
     "data": {
      "text/plain": [
       "3-element Vector{Float64}:\n",
       " 0.6154122094026356\n",
       " 0.7882054380161092\n",
       " 3.5844465807907046e-16"
      ]
     },
     "metadata": {},
     "output_type": "display_data"
    },
    {
     "data": {
      "text/plain": [
       "3-element Vector{Float64}:\n",
       " 0.6154122094026352\n",
       " 0.7882054380161095\n",
       " 4.0219884935008266e-16"
      ]
     },
     "metadata": {},
     "output_type": "display_data"
    },
    {
     "data": {
      "text/plain": [
       "3-element Vector{Float64}:\n",
       "  0.6154122094026366\n",
       "  0.7882054380161085\n",
       " -1.1604807105105878e-15"
      ]
     },
     "metadata": {},
     "output_type": "display_data"
    },
    {
     "data": {
      "text/plain": [
       "3-element Vector{Float64}:\n",
       " -0.6154122094026356\n",
       " -0.7882054380161091\n",
       "  5.250502952521427e-16"
      ]
     },
     "metadata": {},
     "output_type": "display_data"
    },
    {
     "data": {
      "text/plain": [
       "3-element Vector{Float64}:\n",
       " -0.6154122094026355\n",
       " -0.7882054380161093\n",
       " -2.8002682413447617e-15"
      ]
     },
     "metadata": {},
     "output_type": "display_data"
    },
    {
     "data": {
      "text/plain": [
       "3-element Vector{Float64}:\n",
       " -0.6154122094026356\n",
       " -0.7882054380161093\n",
       "  2.800268241344759e-15"
      ]
     },
     "metadata": {},
     "output_type": "display_data"
    },
    {
     "data": {
      "text/plain": [
       "3-element Vector{Float64}:\n",
       " 0.6154122094026353\n",
       " 0.7882054380161095\n",
       " 0.0"
      ]
     },
     "metadata": {},
     "output_type": "display_data"
    },
    {
     "data": {
      "text/plain": [
       "3-element Vector{Float64}:\n",
       " -0.6154122094026361\n",
       " -0.7882054380161088\n",
       " -7.000670603361746e-16"
      ]
     },
     "metadata": {},
     "output_type": "display_data"
    },
    {
     "data": {
      "text/plain": [
       "3-element Vector{Float64}:\n",
       " -0.6154122094026344\n",
       " -0.7882054380161101\n",
       " -1.4684586011238127e-15"
      ]
     },
     "metadata": {},
     "output_type": "display_data"
    },
    {
     "data": {
      "text/plain": [
       "3-element Vector{Float64}:\n",
       " 0.6154122094026352\n",
       " 0.7882054380161096\n",
       " 4.836577502497806e-16"
      ]
     },
     "metadata": {},
     "output_type": "display_data"
    },
    {
     "data": {
      "text/plain": [
       "3-element Vector{Float64}:\n",
       " 0.6154122094026362\n",
       " 0.7882054380161088\n",
       " 5.465958436113968e-16"
      ]
     },
     "metadata": {},
     "output_type": "display_data"
    },
    {
     "data": {
      "text/plain": [
       "3-element Vector{Float64}:\n",
       " 0.6154122094026344\n",
       " 0.7882054380161102\n",
       " 5.465958436113973e-16"
      ]
     },
     "metadata": {},
     "output_type": "display_data"
    },
    {
     "data": {
      "text/plain": [
       "3-element Vector{Float64}:\n",
       " 0.6154122094026355\n",
       " 0.7882054380161093\n",
       " 2.9012017762764557e-16"
      ]
     },
     "metadata": {},
     "output_type": "display_data"
    },
    {
     "data": {
      "text/plain": [
       "3-element Vector{Float64}:\n",
       " -0.6154122094026356\n",
       " -0.7882054380161091\n",
       " -2.5653381237202755e-15"
      ]
     },
     "metadata": {},
     "output_type": "display_data"
    },
    {
     "data": {
      "text/plain": [
       "3-element Vector{Float64}:\n",
       "  0.615412209402636\n",
       "  0.788205438016109\n",
       " -1.888142800848316e-16"
      ]
     },
     "metadata": {},
     "output_type": "display_data"
    },
    {
     "data": {
      "text/plain": [
       "3-element Vector{Float64}:\n",
       " -0.6154122094026361\n",
       " -0.7882054380161089\n",
       "  0.0"
      ]
     },
     "metadata": {},
     "output_type": "display_data"
    },
    {
     "data": {
      "text/plain": [
       "3-element Vector{Float64}:\n",
       " 0.6154122094026356\n",
       " 0.7882054380161092\n",
       " 0.0"
      ]
     },
     "metadata": {},
     "output_type": "display_data"
    },
    {
     "data": {
      "text/plain": [
       "3-element Vector{Float64}:\n",
       " -0.6154122094026345\n",
       " -0.7882054380161101\n",
       "  0.0"
      ]
     },
     "metadata": {},
     "output_type": "display_data"
    },
    {
     "data": {
      "text/plain": [
       "3-element Vector{Float64}:\n",
       " 0.6154122094026356\n",
       " 0.7882054380161093\n",
       " 0.0"
      ]
     },
     "metadata": {},
     "output_type": "display_data"
    },
    {
     "data": {
      "text/plain": [
       "3-element Vector{Float64}:\n",
       " -0.6154122094026353\n",
       " -0.7882054380161095\n",
       " -3.893459928567534e-15"
      ]
     },
     "metadata": {},
     "output_type": "display_data"
    },
    {
     "data": {
      "text/plain": [
       "3-element Vector{Float64}:\n",
       " 0.615412209402637\n",
       " 0.7882054380161082\n",
       " 3.931246268865968e-16"
      ]
     },
     "metadata": {},
     "output_type": "display_data"
    },
    {
     "data": {
      "text/plain": [
       "3-element Vector{Float64}:\n",
       " -0.6154122094026372\n",
       " -0.788205438016108\n",
       " -1.793258747558978e-15"
      ]
     },
     "metadata": {},
     "output_type": "display_data"
    },
    {
     "data": {
      "text/plain": [
       "3-element Vector{Float64}:\n",
       " 0.6154122094026363\n",
       " 0.7882054380161087\n",
       " 0.0"
      ]
     },
     "metadata": {},
     "output_type": "display_data"
    },
    {
     "data": {
      "text/plain": [
       "3-element Vector{Float64}:\n",
       " -0.615412209402637\n",
       " -0.7882054380161082\n",
       " -4.200402362017143e-15"
      ]
     },
     "metadata": {},
     "output_type": "display_data"
    },
    {
     "data": {
      "text/plain": [
       "3-element Vector{Float64}:\n",
       " -0.6154122094026361\n",
       " -0.7882054380161088\n",
       " -1.9467299642837825e-15"
      ]
     },
     "metadata": {},
     "output_type": "display_data"
    },
    {
     "data": {
      "text/plain": [
       "3-element Vector{Float64}:\n",
       " -0.6154122094026363\n",
       " -0.7882054380161088\n",
       " -7.000670603362005e-16"
      ]
     },
     "metadata": {},
     "output_type": "display_data"
    },
    {
     "data": {
      "text/plain": [
       "3-element Vector{Float64}:\n",
       " 0.6154122094026364\n",
       " 0.7882054380161087\n",
       " 3.586517495117912e-15"
      ]
     },
     "metadata": {},
     "output_type": "display_data"
    },
    {
     "data": {
      "text/plain": [
       "3-element Vector{Float64}:\n",
       " 0.6154122094026366\n",
       " 0.7882054380161085\n",
       " 7.85213796609564e-16"
      ]
     },
     "metadata": {},
     "output_type": "display_data"
    },
    {
     "data": {
      "text/plain": [
       "3-element Vector{Float64}:\n",
       " -0.6154122094026335\n",
       " -0.788205438016111\n",
       "  9.457699521403173e-16"
      ]
     },
     "metadata": {},
     "output_type": "display_data"
    },
    {
     "data": {
      "text/plain": [
       "3-element Vector{Float64}:\n",
       " -0.6154122094026366\n",
       " -0.7882054380161085\n",
       "  1.533095246201562e-15"
      ]
     },
     "metadata": {},
     "output_type": "display_data"
    },
    {
     "data": {
      "text/plain": [
       "3-element Vector{Float64}:\n",
       "  0.6154122094026356\n",
       "  0.7882054380161092\n",
       " -3.14690466808057e-16"
      ]
     },
     "metadata": {},
     "output_type": "display_data"
    },
    {
     "data": {
      "text/plain": [
       "3-element Vector{Float64}:\n",
       " -0.6154122094026357\n",
       " -0.7882054380161091\n",
       "  5.999419859277065e-16"
      ]
     },
     "metadata": {},
     "output_type": "display_data"
    },
    {
     "data": {
      "text/plain": [
       "3-element Vector{Float64}:\n",
       " 0.6154122094026356\n",
       " 0.7882054380161093\n",
       " 0.0"
      ]
     },
     "metadata": {},
     "output_type": "display_data"
    },
    {
     "data": {
      "text/plain": [
       "3-element Vector{Float64}:\n",
       " -0.6154122094026354\n",
       " -0.7882054380161093\n",
       "  2.8433593380632663e-15"
      ]
     },
     "metadata": {},
     "output_type": "display_data"
    },
    {
     "data": {
      "text/plain": [
       "3-element Vector{Float64}:\n",
       " -0.6154122094026349\n",
       " -0.7882054380161098\n",
       "  1.793258747558993e-15"
      ]
     },
     "metadata": {},
     "output_type": "display_data"
    },
    {
     "data": {
      "text/plain": [
       "3-element Vector{Float64}:\n",
       " 0.6154122094026364\n",
       " 0.7882054380161087\n",
       " 7.337115719800878e-16"
      ]
     },
     "metadata": {},
     "output_type": "display_data"
    },
    {
     "data": {
      "text/plain": [
       "3-element Vector{Float64}:\n",
       " 0.6154122094026351\n",
       " 0.7882054380161096\n",
       " 4.2676913853049214e-16"
      ]
     },
     "metadata": {},
     "output_type": "display_data"
    },
    {
     "data": {
      "text/plain": [
       "3-element Vector{Float64}:\n",
       " -0.6154122094026361\n",
       " -0.7882054380161089\n",
       " -8.612863104194564e-16"
      ]
     },
     "metadata": {},
     "output_type": "display_data"
    },
    {
     "data": {
      "text/plain": [
       "3-element Vector{Float64}:\n",
       " -0.6154122094026363\n",
       " -0.7882054380161088\n",
       "  1.4001341206723818e-15"
      ]
     },
     "metadata": {},
     "output_type": "display_data"
    },
    {
     "data": {
      "text/plain": [
       "3-element Vector{Float64}:\n",
       " -0.6154122094026356\n",
       " -0.7882054380161093\n",
       "  0.0"
      ]
     },
     "metadata": {},
     "output_type": "display_data"
    },
    {
     "data": {
      "text/plain": [
       "3-element Vector{Float64}:\n",
       " 0.6154122094026357\n",
       " 0.7882054380161092\n",
       " 0.0"
      ]
     },
     "metadata": {},
     "output_type": "display_data"
    },
    {
     "data": {
      "text/plain": [
       "3-element Vector{Float64}:\n",
       " 0.6154122094026347\n",
       " 0.78820543801611\n",
       " 1.6424399090441843e-16"
      ]
     },
     "metadata": {},
     "output_type": "display_data"
    },
    {
     "data": {
      "text/plain": [
       "3-element Vector{Float64}:\n",
       " 0.6154122094026356\n",
       " 0.7882054380161092\n",
       " 0.0"
      ]
     },
     "metadata": {},
     "output_type": "display_data"
    },
    {
     "data": {
      "text/plain": [
       "3-element Vector{Float64}:\n",
       " 0.6154122094026356\n",
       " 0.7882054380161093\n",
       " 0.0"
      ]
     },
     "metadata": {},
     "output_type": "display_data"
    },
    {
     "data": {
      "text/plain": [
       "3-element Vector{Float64}:\n",
       " -0.6154122094026361\n",
       " -0.7882054380161089\n",
       "  4.866824910709442e-16"
      ]
     },
     "metadata": {},
     "output_type": "display_data"
    },
    {
     "data": {
      "text/plain": [
       "3-element Vector{Float64}:\n",
       " 0.6154122094026354\n",
       " 0.7882054380161094\n",
       " 0.0"
      ]
     },
     "metadata": {},
     "output_type": "display_data"
    },
    {
     "data": {
      "text/plain": [
       "3-element Vector{Float64}:\n",
       " -0.6154122094026344\n",
       " -0.7882054380161101\n",
       " -3.739988711842774e-15"
      ]
     },
     "metadata": {},
     "output_type": "display_data"
    },
    {
     "data": {
      "text/plain": [
       "3-element Vector{Float64}:\n",
       " 0.6154122094026361\n",
       " 0.7882054380161089\n",
       " 1.0931916872227927e-15"
      ]
     },
     "metadata": {},
     "output_type": "display_data"
    },
    {
     "data": {
      "text/plain": [
       "3-element Vector{Float64}:\n",
       " -0.6154122094026365\n",
       " -0.7882054380161085\n",
       " -7.000670603362184e-16"
      ]
     },
     "metadata": {},
     "output_type": "display_data"
    },
    {
     "data": {
      "text/plain": [
       "3-element Vector{Float64}:\n",
       " -0.6154122094026334\n",
       " -0.7882054380161111\n",
       " -3.5865174951179436e-15"
      ]
     },
     "metadata": {},
     "output_type": "display_data"
    },
    {
     "data": {
      "text/plain": [
       "3-element Vector{Float64}:\n",
       " -0.6154122094026382\n",
       " -0.7882054380161072\n",
       " -2.2536723977333716e-15"
      ]
     },
     "metadata": {},
     "output_type": "display_data"
    },
    {
     "data": {
      "text/plain": [
       "3-element Vector{Float64}:\n",
       " -0.6154122094026365\n",
       " -0.7882054380161085\n",
       "  3.586517495117942e-15"
      ]
     },
     "metadata": {},
     "output_type": "display_data"
    },
    {
     "data": {
      "text/plain": [
       "3-element Vector{Float64}:\n",
       " -0.6154122094026356\n",
       " -0.7882054380161093\n",
       " -2.100201181008621e-15"
      ]
     },
     "metadata": {},
     "output_type": "display_data"
    },
    {
     "data": {
      "text/plain": [
       "3-element Vector{Float64}:\n",
       " -0.6154122094026361\n",
       " -0.788205438016109\n",
       "  1.4001341206724317e-15"
      ]
     },
     "metadata": {},
     "output_type": "display_data"
    },
    {
     "data": {
      "text/plain": [
       "3-element Vector{Float64}:\n",
       " -0.6154122094026355\n",
       " -0.7882054380161092\n",
       " -3.3468640849561647e-15"
      ]
     },
     "metadata": {},
     "output_type": "display_data"
    },
    {
     "data": {
      "text/plain": [
       "3-element Vector{Float64}:\n",
       " -0.6154122094026346\n",
       " -0.7882054380161101\n",
       " -4.866824910709381e-16"
      ]
     },
     "metadata": {},
     "output_type": "display_data"
    },
    {
     "data": {
      "text/plain": [
       "3-element Vector{Float64}:\n",
       " -0.6154122094026351\n",
       " -0.7882054380161098\n",
       "  7.066342705603225e-16"
      ]
     },
     "metadata": {},
     "output_type": "display_data"
    },
    {
     "data": {
      "text/plain": [
       "3-element Vector{Float64}:\n",
       " -0.6154122094026359\n",
       " -0.7882054380161091\n",
       "  0.0"
      ]
     },
     "metadata": {},
     "output_type": "display_data"
    },
    {
     "data": {
      "text/plain": [
       "3-element Vector{Float64}:\n",
       " -0.6154122094026345\n",
       " -0.7882054380161101\n",
       "  1.8933838219674547e-15"
      ]
     },
     "metadata": {},
     "output_type": "display_data"
    },
    {
     "data": {
      "text/plain": [
       "3-element Vector{Float64}:\n",
       " -0.6154122094026356\n",
       " -0.7882054380161093\n",
       "  2.9968305547880683e-15"
      ]
     },
     "metadata": {},
     "output_type": "display_data"
    },
    {
     "data": {
      "text/plain": [
       "3-element Vector{Float64}:\n",
       " 0.615412209402636\n",
       " 0.788205438016109\n",
       " 1.5347121672484832e-16"
      ]
     },
     "metadata": {},
     "output_type": "display_data"
    },
    {
     "data": {
      "text/plain": [
       "3-element Vector{Float64}:\n",
       " -0.6154122094026362\n",
       " -0.7882054380161089\n",
       "  6.3867857364626875e-15"
      ]
     },
     "metadata": {},
     "output_type": "display_data"
    },
    {
     "data": {
      "text/plain": [
       "3-element Vector{Float64}:\n",
       " 0.615412209402634\n",
       " 0.7882054380161106\n",
       " 6.664225486923005e-16"
      ]
     },
     "metadata": {},
     "output_type": "display_data"
    },
    {
     "data": {
      "text/plain": [
       "3-element Vector{Float64}:\n",
       "  0.615412209402633\n",
       "  0.7882054380161114\n",
       " -2.759503000157524e-17"
      ]
     },
     "metadata": {},
     "output_type": "display_data"
    },
    {
     "data": {
      "text/plain": [
       "3-element Vector{Float64}:\n",
       " 0.6154122094026366\n",
       " 0.7882054380161085\n",
       " 4.0219884935008178e-16"
      ]
     },
     "metadata": {},
     "output_type": "display_data"
    },
    {
     "data": {
      "text/plain": [
       "3-element Vector{Float64}:\n",
       " 0.6154122094026372\n",
       " 0.7882054380161081\n",
       " 0.0"
      ]
     },
     "metadata": {},
     "output_type": "display_data"
    },
    {
     "data": {
      "text/plain": [
       "3-element Vector{Float64}:\n",
       "  0.6154122094026359\n",
       "  0.7882054380161092\n",
       " -3.33211274346147e-16"
      ]
     },
     "metadata": {},
     "output_type": "display_data"
    },
    {
     "data": {
      "text/plain": [
       "3-element Vector{Float64}:\n",
       " -0.6154122094026354\n",
       " -0.7882054380161093\n",
       " -3.0669989529263156e-15"
      ]
     },
     "metadata": {},
     "output_type": "display_data"
    },
    {
     "data": {
      "text/plain": [
       "3-element Vector{Float64}:\n",
       " -0.615412209402635\n",
       " -0.7882054380161096\n",
       "  7.300237366064053e-16"
      ]
     },
     "metadata": {},
     "output_type": "display_data"
    },
    {
     "data": {
      "text/plain": [
       "3-element Vector{Float64}:\n",
       " -0.6154122094026363\n",
       " -0.7882054380161088\n",
       "  1.0716461388635406e-15"
      ]
     },
     "metadata": {},
     "output_type": "display_data"
    },
    {
     "data": {
      "text/plain": [
       "3-element Vector{Float64}:\n",
       " -0.615412209402636\n",
       " -0.7882054380161089\n",
       " -3.8934599285675524e-15"
      ]
     },
     "metadata": {},
     "output_type": "display_data"
    },
    {
     "data": {
      "text/plain": [
       "3-element Vector{Float64}:\n",
       " -0.6154122094026354\n",
       " -0.7882054380161093\n",
       "  9.134516296014385e-16"
      ]
     },
     "metadata": {},
     "output_type": "display_data"
    },
    {
     "data": {
      "text/plain": [
       "3-element Vector{Float64}:\n",
       " -0.6154122094026352\n",
       " -0.7882054380161094\n",
       " -6.61699256154992e-16"
      ]
     },
     "metadata": {},
     "output_type": "display_data"
    },
    {
     "data": {
      "text/plain": [
       "3-element Vector{Float64}:\n",
       " 0.6154122094026364\n",
       " 0.7882054380161085\n",
       " 4.2676913853048455e-16"
      ]
     },
     "metadata": {},
     "output_type": "display_data"
    },
    {
     "data": {
      "text/plain": [
       "3-element Vector{Float64}:\n",
       " -0.6154122094026355\n",
       " -0.7882054380161093\n",
       "  4.440055772178939e-15"
      ]
     },
     "metadata": {},
     "output_type": "display_data"
    },
    {
     "data": {
      "text/plain": [
       "3-element Vector{Float64}:\n",
       " -0.6154122094026347\n",
       " -0.78820543801611\n",
       " -2.1002011810086635e-15"
      ]
     },
     "metadata": {},
     "output_type": "display_data"
    },
    {
     "data": {
      "text/plain": [
       "3-element Vector{Float64}:\n",
       " -0.6154122094026363\n",
       " -0.7882054380161088\n",
       "  1.4001341206724301e-15"
      ]
     },
     "metadata": {},
     "output_type": "display_data"
    },
    {
     "data": {
      "text/plain": [
       "3-element Vector{Float64}:\n",
       " 0.6154122094026344\n",
       " 0.7882054380161101\n",
       " 1.2130183923036981e-15"
      ]
     },
     "metadata": {},
     "output_type": "display_data"
    },
    {
     "data": {
      "text/plain": [
       "3-element Vector{Float64}:\n",
       " -0.6154122094026379\n",
       " -0.7882054380161075\n",
       " -4.2004023620171755e-15"
      ]
     },
     "metadata": {},
     "output_type": "display_data"
    },
    {
     "data": {
      "text/plain": [
       "3-element Vector{Float64}:\n",
       " 0.6154122094026383\n",
       " 0.7882054380161071\n",
       " 1.0931916872227886e-15"
      ]
     },
     "metadata": {},
     "output_type": "display_data"
    },
    {
     "data": {
      "text/plain": [
       "3-element Vector{Float64}:\n",
       " 0.6154122094026363\n",
       " 0.7882054380161088\n",
       " 0.0"
      ]
     },
     "metadata": {},
     "output_type": "display_data"
    },
    {
     "data": {
      "text/plain": [
       "3-element Vector{Float64}:\n",
       " 0.615412209402634\n",
       " 0.7882054380161104\n",
       " 0.0"
      ]
     },
     "metadata": {},
     "output_type": "display_data"
    },
    {
     "data": {
      "text/plain": [
       "3-element Vector{Float64}:\n",
       " 0.6154122094026357\n",
       " 0.7882054380161092\n",
       " 5.526453252537123e-16"
      ]
     },
     "metadata": {},
     "output_type": "display_data"
    },
    {
     "data": {
      "text/plain": [
       "3-element Vector{Float64}:\n",
       " -0.6154122094026354\n",
       " -0.7882054380161094\n",
       " -6.133189445329451e-15"
      ]
     },
     "metadata": {},
     "output_type": "display_data"
    },
    {
     "data": {
      "text/plain": [
       "3-element Vector{Float64}:\n",
       " -0.6154122094026356\n",
       " -0.7882054380161091\n",
       " -6.754967711557754e-16"
      ]
     },
     "metadata": {},
     "output_type": "display_data"
    },
    {
     "data": {
      "text/plain": [
       "3-element Vector{Float64}:\n",
       " -0.6154122094026361\n",
       " -0.788205438016109\n",
       " -5.465958436113952e-16"
      ]
     },
     "metadata": {},
     "output_type": "display_data"
    },
    {
     "data": {
      "text/plain": [
       "3-element Vector{Float64}:\n",
       " -0.6154122094026357\n",
       " -0.7882054380161092\n",
       " -7.000670603361642e-16"
      ]
     },
     "metadata": {},
     "output_type": "display_data"
    },
    {
     "data": {
      "text/plain": [
       "3-element Vector{Float64}:\n",
       " -0.6154122094026371\n",
       " -0.7882054380161081\n",
       " -7.00067060336227e-16"
      ]
     },
     "metadata": {},
     "output_type": "display_data"
    },
    {
     "data": {
      "text/plain": [
       "3-element Vector{Float64}:\n",
       " -0.6154122094026359\n",
       " -0.7882054380161091\n",
       " -4.2004023620171195e-15"
      ]
     },
     "metadata": {},
     "output_type": "display_data"
    },
    {
     "data": {
      "text/plain": [
       "3-element Vector{Float64}:\n",
       " 0.6154122094026355\n",
       " 0.7882054380161094\n",
       " 7.85213796609565e-16"
      ]
     },
     "metadata": {},
     "output_type": "display_data"
    },
    {
     "data": {
      "text/plain": [
       "3-element Vector{Float64}:\n",
       " -0.6154122094026341\n",
       " -0.7882054380161104\n",
       "  1.159154521405548e-15"
      ]
     },
     "metadata": {},
     "output_type": "display_data"
    },
    {
     "data": {
      "text/plain": [
       "3-element Vector{Float64}:\n",
       " 0.6154122094026364\n",
       " 0.7882054380161085\n",
       " 0.0"
      ]
     },
     "metadata": {},
     "output_type": "display_data"
    },
    {
     "data": {
      "text/plain": [
       "3-element Vector{Float64}:\n",
       " 0.6154122094026342\n",
       " 0.7882054380161104\n",
       " 0.0"
      ]
     },
     "metadata": {},
     "output_type": "display_data"
    },
    {
     "data": {
      "text/plain": [
       "3-element Vector{Float64}:\n",
       " -0.6154122094026372\n",
       " -0.7882054380161081\n",
       "  7.000670603361904e-16"
      ]
     },
     "metadata": {},
     "output_type": "display_data"
    },
    {
     "data": {
      "text/plain": [
       "3-element Vector{Float64}:\n",
       " -0.615412209402636\n",
       " -0.788205438016109\n",
       "  1.0398455449064765e-15"
      ]
     },
     "metadata": {},
     "output_type": "display_data"
    },
    {
     "data": {
      "text/plain": [
       "3-element Vector{Float64}:\n",
       "  0.6154122094026363\n",
       "  0.7882054380161088\n",
       " -3.4398404852576385e-16"
      ]
     },
     "metadata": {},
     "output_type": "display_data"
    },
    {
     "data": {
      "text/plain": [
       "3-element Vector{Float64}:\n",
       "  0.6154122094026354\n",
       "  0.7882054380161094\n",
       " -1.888142800848388e-16"
      ]
     },
     "metadata": {},
     "output_type": "display_data"
    },
    {
     "data": {
      "text/plain": [
       "3-element Vector{Float64}:\n",
       "  0.6154122094026359\n",
       "  0.788205438016109\n",
       " -1.0931916872227901e-15"
      ]
     },
     "metadata": {},
     "output_type": "display_data"
    },
    {
     "data": {
      "text/plain": [
       "3-element Vector{Float64}:\n",
       " 0.6154122094026342\n",
       " 0.7882054380161104\n",
       " 0.0"
      ]
     },
     "metadata": {},
     "output_type": "display_data"
    },
    {
     "data": {
      "text/plain": [
       "3-element Vector{Float64}:\n",
       " 0.6154122094026354\n",
       " 0.7882054380161093\n",
       " 0.0"
      ]
     },
     "metadata": {},
     "output_type": "display_data"
    },
    {
     "data": {
      "text/plain": [
       "3-element Vector{Float64}:\n",
       " -0.615412209402637\n",
       " -0.7882054380161082\n",
       " -8.535382770609862e-16"
      ]
     },
     "metadata": {},
     "output_type": "display_data"
    },
    {
     "data": {
      "text/plain": [
       "3-element Vector{Float64}:\n",
       " 0.6154122094026353\n",
       " 0.7882054380161095\n",
       " 0.0"
      ]
     },
     "metadata": {},
     "output_type": "display_data"
    },
    {
     "data": {
      "text/plain": [
       "3-element Vector{Float64}:\n",
       " 0.6154122094026356\n",
       " 0.7882054380161093\n",
       " 0.0"
      ]
     },
     "metadata": {},
     "output_type": "display_data"
    },
    {
     "data": {
      "text/plain": [
       "3-element Vector{Float64}:\n",
       " 0.6154122094026342\n",
       " 0.7882054380161104\n",
       " 0.0"
      ]
     },
     "metadata": {},
     "output_type": "display_data"
    },
    {
     "data": {
      "text/plain": [
       "3-element Vector{Float64}:\n",
       " -0.6154122094026361\n",
       " -0.788205438016109\n",
       "  2.8528059231378696e-15"
      ]
     },
     "metadata": {},
     "output_type": "display_data"
    },
    {
     "data": {
      "text/plain": [
       "3-element Vector{Float64}:\n",
       " -0.6154122094026355\n",
       " -0.7882054380161093\n",
       " -5.8401898928513046e-15"
      ]
     },
     "metadata": {},
     "output_type": "display_data"
    },
    {
     "data": {
      "text/plain": [
       "3-element Vector{Float64}:\n",
       " -0.6154122094026361\n",
       " -0.7882054380161088\n",
       "  3.893459928567496e-15"
      ]
     },
     "metadata": {},
     "output_type": "display_data"
    },
    {
     "data": {
      "text/plain": [
       "3-element Vector{Float64}:\n",
       " 0.6154122094026356\n",
       " 0.7882054380161093\n",
       " 0.0"
      ]
     },
     "metadata": {},
     "output_type": "display_data"
    },
    {
     "data": {
      "text/plain": [
       "3-element Vector{Float64}:\n",
       " -0.6154122094026362\n",
       " -0.7882054380161088\n",
       " -8.535382770609867e-16"
      ]
     },
     "metadata": {},
     "output_type": "display_data"
    },
    {
     "data": {
      "text/plain": [
       "3-element Vector{Float64}:\n",
       " -0.6154122094026384\n",
       " -0.7882054380161071\n",
       " -4.267691385304973e-16"
      ]
     },
     "metadata": {},
     "output_type": "display_data"
    },
    {
     "data": {
      "text/plain": [
       "3-element Vector{Float64}:\n",
       " -0.6154122094026362\n",
       " -0.7882054380161088\n",
       "  1.0398455449064826e-15"
      ]
     },
     "metadata": {},
     "output_type": "display_data"
    },
    {
     "data": {
      "text/plain": [
       "3-element Vector{Float64}:\n",
       "  0.6154122094026351\n",
       "  0.7882054380161096\n",
       " -2.4570289180412366e-16"
      ]
     },
     "metadata": {},
     "output_type": "display_data"
    },
    {
     "data": {
      "text/plain": [
       "3-element Vector{Float64}:\n",
       " -0.6154122094026357\n",
       " -0.7882054380161091\n",
       "  2.386633523262551e-15"
      ]
     },
     "metadata": {},
     "output_type": "display_data"
    },
    {
     "data": {
      "text/plain": [
       "3-element Vector{Float64}:\n",
       " -0.6154122094026356\n",
       " -0.7882054380161093\n",
       " -3.586517495117962e-15"
      ]
     },
     "metadata": {},
     "output_type": "display_data"
    },
    {
     "data": {
      "text/plain": [
       "3-element Vector{Float64}:\n",
       " -0.6154122094026356\n",
       " -0.7882054380161093\n",
       " -1.7932587475589982e-15"
      ]
     },
     "metadata": {},
     "output_type": "display_data"
    },
    {
     "data": {
      "text/plain": [
       "3-element Vector{Float64}:\n",
       " -0.6154122094026357\n",
       " -0.7882054380161091\n",
       " -2.800268241344773e-15"
      ]
     },
     "metadata": {},
     "output_type": "display_data"
    },
    {
     "data": {
      "text/plain": [
       "3-element Vector{Float64}:\n",
       " 0.6154122094026369\n",
       " 0.7882054380161083\n",
       " 9.723295249782634e-16"
      ]
     },
     "metadata": {},
     "output_type": "display_data"
    },
    {
     "data": {
      "text/plain": [
       "3-element Vector{Float64}:\n",
       " -0.6154122094026359\n",
       " -0.7882054380161091\n",
       "  8.091209912374668e-16"
      ]
     },
     "metadata": {},
     "output_type": "display_data"
    },
    {
     "data": {
      "text/plain": [
       "3-element Vector{Float64}:\n",
       " -0.6154122094026356\n",
       " -0.7882054380161091\n",
       " -6.401537077957392e-16"
      ]
     },
     "metadata": {},
     "output_type": "display_data"
    },
    {
     "data": {
      "text/plain": [
       "3-element Vector{Float64}:\n",
       " -0.6154122094026353\n",
       " -0.7882054380161094\n",
       " -2.8002682413447684e-15"
      ]
     },
     "metadata": {},
     "output_type": "display_data"
    },
    {
     "data": {
      "text/plain": [
       "3-element Vector{Float64}:\n",
       " -0.6154122094026362\n",
       " -0.7882054380161088\n",
       "  0.0"
      ]
     },
     "metadata": {},
     "output_type": "display_data"
    },
    {
     "data": {
      "text/plain": [
       "3-element Vector{Float64}:\n",
       " -0.615412209402636\n",
       " -0.788205438016109\n",
       " -1.346787978356073e-15"
      ]
     },
     "metadata": {},
     "output_type": "display_data"
    },
    {
     "data": {
      "text/plain": [
       "3-element Vector{Float64}:\n",
       " 0.6154122094026354\n",
       " 0.7882054380161095\n",
       " 1.1779660608850403e-16"
      ]
     },
     "metadata": {},
     "output_type": "display_data"
    },
    {
     "data": {
      "text/plain": [
       "3-element Vector{Float64}:\n",
       "  0.6154122094026362\n",
       "  0.7882054380161088\n",
       " -2.15746215533895e-16"
      ]
     },
     "metadata": {},
     "output_type": "display_data"
    },
    {
     "data": {
      "text/plain": [
       "3-element Vector{Float64}:\n",
       " -0.6154122094026356\n",
       " -0.7882054380161093\n",
       "  4.986651615790349e-15"
      ]
     },
     "metadata": {},
     "output_type": "display_data"
    },
    {
     "data": {
      "text/plain": [
       "3-element Vector{Float64}:\n",
       " -0.6154122094026342\n",
       " -0.7882054380161103\n",
       " -5.741908736129711e-16"
      ]
     },
     "metadata": {},
     "output_type": "display_data"
    },
    {
     "data": {
      "text/plain": [
       "3-element Vector{Float64}:\n",
       " -0.6154122094026354\n",
       " -0.7882054380161093\n",
       "  0.0"
      ]
     },
     "metadata": {},
     "output_type": "display_data"
    },
    {
     "data": {
      "text/plain": [
       "3-element Vector{Float64}:\n",
       " -0.6154122094026359\n",
       " -0.788205438016109\n",
       " -7.479977423685517e-15"
      ]
     },
     "metadata": {},
     "output_type": "display_data"
    },
    {
     "data": {
      "text/plain": [
       "3-element Vector{Float64}:\n",
       " -0.6154122094026326\n",
       " -0.7882054380161115\n",
       " -3.1933928682313737e-15"
      ]
     },
     "metadata": {},
     "output_type": "display_data"
    },
    {
     "data": {
      "text/plain": [
       "3-element Vector{Float64}:\n",
       " -0.6154122094026336\n",
       " -0.7882054380161108\n",
       "  3.893459928567518e-15"
      ]
     },
     "metadata": {},
     "output_type": "display_data"
    },
    {
     "data": {
      "text/plain": [
       "3-element Vector{Float64}:\n",
       " 0.6154122094026356\n",
       " 0.7882054380161093\n",
       " 0.0"
      ]
     },
     "metadata": {},
     "output_type": "display_data"
    },
    {
     "data": {
      "text/plain": [
       "3-element Vector{Float64}:\n",
       " -0.615412209402637\n",
       " -0.7882054380161081\n",
       "  1.5199608257532718e-15"
      ]
     },
     "metadata": {},
     "output_type": "display_data"
    },
    {
     "data": {
      "text/plain": [
       "3-element Vector{Float64}:\n",
       " -0.6154122094026377\n",
       " -0.7882054380161077\n",
       " -5.053940639078139e-15"
      ]
     },
     "metadata": {},
     "output_type": "display_data"
    },
    {
     "data": {
      "text/plain": [
       "3-element Vector{Float64}:\n",
       "  0.6154122094026355\n",
       "  0.7882054380161093\n",
       " -3.0694243344962644e-16"
      ]
     },
     "metadata": {},
     "output_type": "display_data"
    },
    {
     "data": {
      "text/plain": [
       "3-element Vector{Float64}:\n",
       " -0.6154122094026327\n",
       " -0.7882054380161115\n",
       " -2.800268241344761e-15"
      ]
     },
     "metadata": {},
     "output_type": "display_data"
    },
    {
     "data": {
      "text/plain": [
       "3-element Vector{Float64}:\n",
       " -0.615412209402634\n",
       " -0.7882054380161106\n",
       " -3.038886194342955e-15"
      ]
     },
     "metadata": {},
     "output_type": "display_data"
    },
    {
     "data": {
      "text/plain": [
       "3-element Vector{Float64}:\n",
       " -0.6154122094026345\n",
       " -0.7882054380161101\n",
       "  1.2358901297679643e-15"
      ]
     },
     "metadata": {},
     "output_type": "display_data"
    },
    {
     "data": {
      "text/plain": [
       "3-element Vector{Float64}:\n",
       " 0.6154122094026375\n",
       " 0.7882054380161078\n",
       " 4.932497012950793e-16"
      ]
     },
     "metadata": {},
     "output_type": "display_data"
    },
    {
     "data": {
      "text/plain": [
       "3-element Vector{Float64}:\n",
       " -0.6154122094026355\n",
       " -0.7882054380161093\n",
       " -2.133845692652514e-16"
      ]
     },
     "metadata": {},
     "output_type": "display_data"
    },
    {
     "data": {
      "text/plain": [
       "3-element Vector{Float64}:\n",
       " 0.6154122094026344\n",
       " 0.7882054380161101\n",
       " 3.8655741666245724e-16"
      ]
     },
     "metadata": {},
     "output_type": "display_data"
    },
    {
     "data": {
      "text/plain": [
       "3-element Vector{Float64}:\n",
       " -0.615412209402634\n",
       " -0.7882054380161105\n",
       " -2.8002682413447838e-15"
      ]
     },
     "metadata": {},
     "output_type": "display_data"
    },
    {
     "data": {
      "text/plain": [
       "3-element Vector{Float64}:\n",
       " -0.6154122094026357\n",
       " -0.7882054380161092\n",
       "  2.493325807895204e-15"
      ]
     },
     "metadata": {},
     "output_type": "display_data"
    },
    {
     "data": {
      "text/plain": [
       "3-element Vector{Float64}:\n",
       " 0.6154122094026366\n",
       " 0.7882054380161084\n",
       " 0.0"
      ]
     },
     "metadata": {},
     "output_type": "display_data"
    },
    {
     "data": {
      "text/plain": [
       "3-element Vector{Float64}:\n",
       " -0.6154122094026355\n",
       " -0.7882054380161093\n",
       " -8.895898343016283e-15"
      ]
     },
     "metadata": {},
     "output_type": "display_data"
    },
    {
     "data": {
      "text/plain": [
       "3-element Vector{Float64}:\n",
       " -0.6154122094026377\n",
       " -0.7882054380161077\n",
       "  5.849636477925941e-16"
      ]
     },
     "metadata": {},
     "output_type": "display_data"
    },
    {
     "data": {
      "text/plain": [
       "3-element Vector{Float64}:\n",
       "  0.615412209402634\n",
       "  0.7882054380161106\n",
       " -2.7595030001568695e-17"
      ]
     },
     "metadata": {},
     "output_type": "display_data"
    },
    {
     "data": {
      "text/plain": [
       "3-element Vector{Float64}:\n",
       " -0.615412209402634\n",
       " -0.7882054380161105\n",
       " -2.8002682413447838e-15"
      ]
     },
     "metadata": {},
     "output_type": "display_data"
    },
    {
     "data": {
      "text/plain": [
       "3-element Vector{Float64}:\n",
       " -0.6154122094026361\n",
       " -0.7882054380161089\n",
       " -1.5475558557548584e-15"
      ]
     },
     "metadata": {},
     "output_type": "display_data"
    },
    {
     "data": {
      "text/plain": [
       "3-element Vector{Float64}:\n",
       " -0.6154122094026357\n",
       " -0.7882054380161092\n",
       "  2.6636192804419173e-15"
      ]
     },
     "metadata": {},
     "output_type": "display_data"
    },
    {
     "data": {
      "text/plain": [
       "3-element Vector{Float64}:\n",
       " -0.6154122094026357\n",
       " -0.7882054380161092\n",
       "  5.999419859277062e-16"
      ]
     },
     "metadata": {},
     "output_type": "display_data"
    },
    {
     "data": {
      "text/plain": [
       "3-element Vector{Float64}:\n",
       "  0.615412209402635\n",
       "  0.7882054380161098\n",
       " -1.83427892995046e-16"
      ]
     },
     "metadata": {},
     "output_type": "display_data"
    },
    {
     "data": {
      "text/plain": [
       "3-element Vector{Float64}:\n",
       " 0.6154122094026359\n",
       " 0.7882054380161091\n",
       " 2.18638337444558e-15"
      ]
     },
     "metadata": {},
     "output_type": "display_data"
    },
    {
     "data": {
      "text/plain": [
       "3-element Vector{Float64}:\n",
       " -0.615412209402636\n",
       " -0.7882054380161091\n",
       "  0.0"
      ]
     },
     "metadata": {},
     "output_type": "display_data"
    },
    {
     "data": {
      "text/plain": [
       "3-element Vector{Float64}:\n",
       " -0.6154122094026352\n",
       " -0.7882054380161095\n",
       " -8.025537810133252e-16"
      ]
     },
     "metadata": {},
     "output_type": "display_data"
    },
    {
     "data": {
      "text/plain": [
       "3-element Vector{Float64}:\n",
       " -0.6154122094026355\n",
       " -0.7882054380161093\n",
       "  1.0931916872227978e-15"
      ]
     },
     "metadata": {},
     "output_type": "display_data"
    },
    {
     "data": {
      "text/plain": [
       "3-element Vector{Float64}:\n",
       " -0.6154122094026363\n",
       " -0.7882054380161088\n",
       " -3.8934599285675374e-15"
      ]
     },
     "metadata": {},
     "output_type": "display_data"
    },
    {
     "data": {
      "text/plain": [
       "3-element Vector{Float64}:\n",
       "  0.6154122094026359\n",
       "  0.788205438016109\n",
       " -3.0694243344962614e-16"
      ]
     },
     "metadata": {},
     "output_type": "display_data"
    },
    {
     "data": {
      "text/plain": [
       "3-element Vector{Float64}:\n",
       " -0.6154122094026372\n",
       " -0.7882054380161079\n",
       " -2.8002682413447467e-15"
      ]
     },
     "metadata": {},
     "output_type": "display_data"
    },
    {
     "data": {
      "text/plain": [
       "3-element Vector{Float64}:\n",
       " 0.6154122094026342\n",
       " 0.7882054380161104\n",
       " 0.0"
      ]
     },
     "metadata": {},
     "output_type": "display_data"
    },
    {
     "data": {
      "text/plain": [
       "3-element Vector{Float64}:\n",
       " -0.6154122094026382\n",
       " -0.7882054380161072\n",
       "  2.373499102814267e-15"
      ]
     },
     "metadata": {},
     "output_type": "display_data"
    },
    {
     "data": {
      "text/plain": [
       "3-element Vector{Float64}:\n",
       " 0.6154122094026356\n",
       " 0.7882054380161093\n",
       " 0.0"
      ]
     },
     "metadata": {},
     "output_type": "display_data"
    },
    {
     "data": {
      "text/plain": [
       "3-element Vector{Float64}:\n",
       " 0.6154122094026336\n",
       " 0.7882054380161109\n",
       " 0.0"
      ]
     },
     "metadata": {},
     "output_type": "display_data"
    },
    {
     "data": {
      "text/plain": [
       "3-element Vector{Float64}:\n",
       " -0.615412209402634\n",
       " -0.7882054380161105\n",
       " -1.7754010345734044e-15"
      ]
     },
     "metadata": {},
     "output_type": "display_data"
    },
    {
     "data": {
      "text/plain": [
       "3-element Vector{Float64}:\n",
       "  0.6154122094026377\n",
       "  0.7882054380161075\n",
       " -3.7157907852734473e-16"
      ]
     },
     "metadata": {},
     "output_type": "display_data"
    },
    {
     "data": {
      "text/plain": [
       "3-element Vector{Float64}:\n",
       "  0.6154122094026362\n",
       "  0.7882054380161088\n",
       " -1.0931916872227856e-15"
      ]
     },
     "metadata": {},
     "output_type": "display_data"
    },
    {
     "data": {
      "text/plain": [
       "3-element Vector{Float64}:\n",
       " -0.6154122094026355\n",
       " -0.7882054380161093\n",
       " -8.259432470594056e-16"
      ]
     },
     "metadata": {},
     "output_type": "display_data"
    },
    {
     "data": {
      "text/plain": [
       "3-element Vector{Float64}:\n",
       " -0.6154122094026361\n",
       " -0.7882054380161089\n",
       " -5.586593601718056e-15"
      ]
     },
     "metadata": {},
     "output_type": "display_data"
    },
    {
     "data": {
      "text/plain": [
       "3-element Vector{Float64}:\n",
       " -0.6154122094026385\n",
       " -0.7882054380161071\n",
       " -2.8002682413447605e-15"
      ]
     },
     "metadata": {},
     "output_type": "display_data"
    },
    {
     "data": {
      "text/plain": [
       "3-element Vector{Float64}:\n",
       " -0.6154122094026346\n",
       " -0.7882054380161101\n",
       " -2.4933258078950815e-15"
      ]
     },
     "metadata": {},
     "output_type": "display_data"
    },
    {
     "data": {
      "text/plain": [
       "3-element Vector{Float64}:\n",
       " -0.6154122094026343\n",
       " -0.7882054380161103\n",
       " -2.8002682413447538e-15"
      ]
     },
     "metadata": {},
     "output_type": "display_data"
    },
    {
     "data": {
      "text/plain": [
       "3-element Vector{Float64}:\n",
       "  0.6154122094026389\n",
       "  0.7882054380161068\n",
       " -3.840922246774436e-15"
      ]
     },
     "metadata": {},
     "output_type": "display_data"
    },
    {
     "data": {
      "text/plain": [
       "3-element Vector{Float64}:\n",
       " 0.6154122094026326\n",
       " 0.7882054380161115\n",
       " 0.0"
      ]
     },
     "metadata": {},
     "output_type": "display_data"
    },
    {
     "data": {
      "text/plain": [
       "3-element Vector{Float64}:\n",
       " -0.6154122094026382\n",
       " -0.7882054380161072\n",
       "  6.724720303346254e-16"
      ]
     },
     "metadata": {},
     "output_type": "display_data"
    },
    {
     "data": {
      "text/plain": [
       "3-element Vector{Float64}:\n",
       " 0.6154122094026342\n",
       " 0.7882054380161104\n",
       " 0.0"
      ]
     },
     "metadata": {},
     "output_type": "display_data"
    },
    {
     "data": {
      "text/plain": [
       "3-element Vector{Float64}:\n",
       "  0.615412209402638\n",
       "  0.7882054380161074\n",
       " -2.5175237344644604e-16"
      ]
     },
     "metadata": {},
     "output_type": "display_data"
    },
    {
     "data": {
      "text/plain": [
       "3-element Vector{Float64}:\n",
       " -0.6154122094026363\n",
       " -0.7882054380161088\n",
       "  0.0"
      ]
     },
     "metadata": {},
     "output_type": "display_data"
    },
    {
     "data": {
      "text/plain": [
       "3-element Vector{Float64}:\n",
       " -0.6154122094026367\n",
       " -0.7882054380161083\n",
       "  1.0992411688651191e-15"
      ]
     },
     "metadata": {},
     "output_type": "display_data"
    },
    {
     "data": {
      "text/plain": [
       "3-element Vector{Float64}:\n",
       " 0.6154122094026356\n",
       " 0.7882054380161093\n",
       " 2.0261179508560696e-16"
      ]
     },
     "metadata": {},
     "output_type": "display_data"
    },
    {
     "data": {
      "text/plain": [
       "3-element Vector{Float64}:\n",
       " 0.6154122094026359\n",
       " 0.7882054380161091\n",
       " 2.1863833744455783e-15"
      ]
     },
     "metadata": {},
     "output_type": "display_data"
    },
    {
     "data": {
      "text/plain": [
       "3-element Vector{Float64}:\n",
       " -0.6154122094026344\n",
       " -0.7882054380161102\n",
       "  9.733649821418913e-16"
      ]
     },
     "metadata": {},
     "output_type": "display_data"
    },
    {
     "data": {
      "text/plain": [
       "3-element Vector{Float64}:\n",
       " -0.6154122094026366\n",
       " -0.7882054380161085\n",
       "  1.912567724058067e-15"
      ]
     },
     "metadata": {},
     "output_type": "display_data"
    },
    {
     "data": {
      "text/plain": [
       "3-element Vector{Float64}:\n",
       " 0.6154122094026364\n",
       " 0.7882054380161085\n",
       " 1.9656231344330467e-16"
      ]
     },
     "metadata": {},
     "output_type": "display_data"
    },
    {
     "data": {
      "text/plain": [
       "3-element Vector{Float64}:\n",
       " 0.6154122094026356\n",
       " 0.7882054380161093\n",
       " 0.0"
      ]
     },
     "metadata": {},
     "output_type": "display_data"
    },
    {
     "data": {
      "text/plain": [
       "3-element Vector{Float64}:\n",
       " -0.6154122094026356\n",
       " -0.7882054380161093\n",
       " -1.946729964283771e-15"
      ]
     },
     "metadata": {},
     "output_type": "display_data"
    },
    {
     "data": {
      "text/plain": [
       "3-element Vector{Float64}:\n",
       "  0.6154122094026354\n",
       "  0.7882054380161095\n",
       " -6.569759636176855e-16"
      ]
     },
     "metadata": {},
     "output_type": "display_data"
    },
    {
     "data": {
      "text/plain": [
       "3-element Vector{Float64}:\n",
       " -0.6154122094026365\n",
       " -0.7882054380161084\n",
       " -2.8002682413447495e-15"
      ]
     },
     "metadata": {},
     "output_type": "display_data"
    },
    {
     "data": {
      "text/plain": [
       "3-element Vector{Float64}:\n",
       " -0.6154122094026355\n",
       " -0.7882054380161094\n",
       " -2.339854591170367e-15"
      ]
     },
     "metadata": {},
     "output_type": "display_data"
    },
    {
     "data": {
      "text/plain": [
       "3-element Vector{Float64}:\n",
       " -0.6154122094026359\n",
       " -0.7882054380161092\n",
       " -4.2676913853049387e-16"
      ]
     },
     "metadata": {},
     "output_type": "display_data"
    },
    {
     "data": {
      "text/plain": [
       "3-element Vector{Float64}:\n",
       " -0.6154122094026364\n",
       " -0.7882054380161088\n",
       " -8.966293737794995e-16"
      ]
     },
     "metadata": {},
     "output_type": "display_data"
    },
    {
     "data": {
      "text/plain": [
       "3-element Vector{Float64}:\n",
       " -0.6154122094026352\n",
       " -0.7882054380161094\n",
       "  8.582615695982934e-16"
      ]
     },
     "metadata": {},
     "output_type": "display_data"
    },
    {
     "data": {
      "text/plain": [
       "3-element Vector{Float64}:\n",
       " 0.6154122094026351\n",
       " 0.7882054380161096\n",
       " 7.414596053385508e-16"
      ]
     },
     "metadata": {},
     "output_type": "display_data"
    },
    {
     "data": {
      "text/plain": [
       "3-element Vector{Float64}:\n",
       " 0.6154122094026354\n",
       " 0.7882054380161094\n",
       " 3.872949837371945e-15"
      ]
     },
     "metadata": {},
     "output_type": "display_data"
    },
    {
     "data": {
      "text/plain": [
       "3-element Vector{Float64}:\n",
       " 0.6154122094026356\n",
       " 0.7882054380161093\n",
       " 0.0"
      ]
     },
     "metadata": {},
     "output_type": "display_data"
    },
    {
     "data": {
      "text/plain": [
       "3-element Vector{Float64}:\n",
       " -0.6154122094026355\n",
       " -0.7882054380161093\n",
       "  6.701103840659792e-16"
      ]
     },
     "metadata": {},
     "output_type": "display_data"
    },
    {
     "data": {
      "text/plain": [
       "3-element Vector{Float64}:\n",
       " 0.6154122094026352\n",
       " 0.7882054380161095\n",
       " 0.0"
      ]
     },
     "metadata": {},
     "output_type": "display_data"
    },
    {
     "data": {
      "text/plain": [
       "3-element Vector{Float64}:\n",
       " -0.6154122094026359\n",
       " -0.7882054380161092\n",
       "  0.0"
      ]
     },
     "metadata": {},
     "output_type": "display_data"
    },
    {
     "data": {
      "text/plain": [
       "3-element Vector{Float64}:\n",
       " 0.6154122094026356\n",
       " 0.7882054380161093\n",
       " 0.0"
      ]
     },
     "metadata": {},
     "output_type": "display_data"
    },
    {
     "data": {
      "text/plain": [
       "3-element Vector{Float64}:\n",
       " 0.6154122094026372\n",
       " 0.7882054380161081\n",
       " 1.5704275932191262e-15"
      ]
     },
     "metadata": {},
     "output_type": "display_data"
    },
    {
     "data": {
      "text/plain": [
       "3-element Vector{Float64}:\n",
       " -0.6154122094026355\n",
       " -0.7882054380161093\n",
       " -1.1160634246870555e-15"
      ]
     },
     "metadata": {},
     "output_type": "display_data"
    },
    {
     "data": {
      "text/plain": [
       "3-element Vector{Float64}:\n",
       " -0.6154122094026361\n",
       " -0.7882054380161089\n",
       "  0.0"
      ]
     },
     "metadata": {},
     "output_type": "display_data"
    },
    {
     "data": {
      "text/plain": [
       "3-element Vector{Float64}:\n",
       " -0.6154122094026365\n",
       " -0.7882054380161084\n",
       " -1.0585117184152644e-15"
      ]
     },
     "metadata": {},
     "output_type": "display_data"
    },
    {
     "data": {
      "text/plain": [
       "3-element Vector{Float64}:\n",
       " -0.6154122094026351\n",
       " -0.7882054380161096\n",
       "  9.656169487834255e-16"
      ]
     },
     "metadata": {},
     "output_type": "display_data"
    },
    {
     "data": {
      "text/plain": [
       "3-element Vector{Float64}:\n",
       " -0.6154122094026357\n",
       " -0.7882054380161091\n",
       "  6.916559324252172e-16"
      ]
     },
     "metadata": {},
     "output_type": "display_data"
    },
    {
     "data": {
      "text/plain": [
       "3-element Vector{Float64}:\n",
       " -0.6154122094026355\n",
       " -0.7882054380161094\n",
       "  1.2190678739460121e-15"
      ]
     },
     "metadata": {},
     "output_type": "display_data"
    },
    {
     "data": {
      "text/plain": [
       "3-element Vector{Float64}:\n",
       "  0.6154122094026355\n",
       "  0.7882054380161094\n",
       " -1.1369458784937995e-15"
      ]
     },
     "metadata": {},
     "output_type": "display_data"
    },
    {
     "data": {
      "text/plain": [
       "3-element Vector{Float64}:\n",
       " -0.6154122094026353\n",
       " -0.7882054380161095\n",
       " -5.933747757035691e-16"
      ]
     },
     "metadata": {},
     "output_type": "display_data"
    },
    {
     "data": {
      "text/plain": [
       "3-element Vector{Float64}:\n",
       " -0.6154122094026365\n",
       " -0.7882054380161085\n",
       "  1.2634851597695337e-15"
      ]
     },
     "metadata": {},
     "output_type": "display_data"
    },
    {
     "data": {
      "text/plain": [
       "3-element Vector{Float64}:\n",
       " -0.6154122094026355\n",
       " -0.7882054380161093\n",
       "  0.0"
      ]
     },
     "metadata": {},
     "output_type": "display_data"
    },
    {
     "data": {
      "text/plain": [
       "3-element Vector{Float64}:\n",
       " 0.6154122094026359\n",
       " 0.7882054380161091\n",
       " 2.1863833744455795e-15"
      ]
     },
     "metadata": {},
     "output_type": "display_data"
    },
    {
     "data": {
      "text/plain": [
       "3-element Vector{Float64}:\n",
       "  0.6154122094026349\n",
       "  0.7882054380161098\n",
       " -2.2076024001260197e-16"
      ]
     },
     "metadata": {},
     "output_type": "display_data"
    },
    {
     "data": {
      "text/plain": [
       "3-element Vector{Float64}:\n",
       " -0.6154122094026344\n",
       " -0.7882054380161102\n",
       "  2.2536723977333693e-15"
      ]
     },
     "metadata": {},
     "output_type": "display_data"
    },
    {
     "data": {
      "text/plain": [
       "3-element Vector{Float64}:\n",
       " 0.615412209402636\n",
       " 0.7882054380161091\n",
       " 4.3091096718508566e-17"
      ]
     },
     "metadata": {},
     "output_type": "display_data"
    },
    {
     "data": {
      "text/plain": [
       "3-element Vector{Float64}:\n",
       " -0.6154122094026364\n",
       " -0.7882054380161087\n",
       " -3.4141531082439435e-15"
      ]
     },
     "metadata": {},
     "output_type": "display_data"
    },
    {
     "data": {
      "text/plain": [
       "3-element Vector{Float64}:\n",
       "  0.6154122094026344\n",
       "  0.7882054380161102\n",
       " -6.728902328780612e-17"
      ]
     },
     "metadata": {},
     "output_type": "display_data"
    },
    {
     "data": {
      "text/plain": [
       "3-element Vector{Float64}:\n",
       " -0.6154122094026362\n",
       " -0.7882054380161087\n",
       "  3.2270373798752532e-15"
      ]
     },
     "metadata": {},
     "output_type": "display_data"
    },
    {
     "data": {
      "text/plain": [
       "3-element Vector{Float64}:\n",
       "  0.6154122094026369\n",
       "  0.7882054380161084\n",
       " -1.836349844277456e-15"
      ]
     },
     "metadata": {},
     "output_type": "display_data"
    },
    {
     "data": {
      "text/plain": [
       "3-element Vector{Float64}:\n",
       " -0.615412209402635\n",
       " -0.7882054380161098\n",
       "  1.8437255150248303e-15"
      ]
     },
     "metadata": {},
     "output_type": "display_data"
    },
    {
     "data": {
      "text/plain": [
       "3-element Vector{Float64}:\n",
       "  0.615412209402634\n",
       "  0.7882054380161104\n",
       " -5.910131294349165e-16"
      ]
     },
     "metadata": {},
     "output_type": "display_data"
    },
    {
     "data": {
      "text/plain": [
       "3-element Vector{Float64}:\n",
       " -0.6154122094026352\n",
       " -0.7882054380161095\n",
       " -1.5068264053050055e-15"
      ]
     },
     "metadata": {},
     "output_type": "display_data"
    },
    {
     "data": {
      "text/plain": [
       "3-element Vector{Float64}:\n",
       " -0.6154122094026352\n",
       " -0.7882054380161096\n",
       "  0.0"
      ]
     },
     "metadata": {},
     "output_type": "display_data"
    },
    {
     "data": {
      "text/plain": [
       "3-element Vector{Float64}:\n",
       " 0.6154122094026352\n",
       " 0.7882054380161096\n",
       " 3.200768538978558e-16"
      ]
     },
     "metadata": {},
     "output_type": "display_data"
    },
    {
     "data": {
      "text/plain": [
       "3-element Vector{Float64}:\n",
       "  0.6154122094026352\n",
       "  0.7882054380161096\n",
       " -6.485648357067162e-16"
      ]
     },
     "metadata": {},
     "output_type": "display_data"
    },
    {
     "data": {
      "text/plain": [
       "3-element Vector{Float64}:\n",
       " -0.6154122094026354\n",
       " -0.7882054380161094\n",
       "  5.99941985927706e-16"
      ]
     },
     "metadata": {},
     "output_type": "display_data"
    },
    {
     "data": {
      "text/plain": [
       "3-element Vector{Float64}:\n",
       "  0.6154122094026357\n",
       "  0.7882054380161091\n",
       " -4.932497012950828e-16"
      ]
     },
     "metadata": {},
     "output_type": "display_data"
    },
    {
     "data": {
      "text/plain": [
       "3-element Vector{Float64}:\n",
       "  0.6154122094026366\n",
       "  0.7882054380161085\n",
       " -4.099468827085433e-16"
      ]
     },
     "metadata": {},
     "output_type": "display_data"
    },
    {
     "data": {
      "text/plain": [
       "3-element Vector{Float64}:\n",
       "  0.6154122094026357\n",
       "  0.7882054380161092\n",
       " -1.6424399090441989e-16"
      ]
     },
     "metadata": {},
     "output_type": "display_data"
    },
    {
     "data": {
      "text/plain": [
       "3-element Vector{Float64}:\n",
       " -0.6154122094026349\n",
       " -0.7882054380161098\n",
       " -5.250502952521451e-16"
      ]
     },
     "metadata": {},
     "output_type": "display_data"
    },
    {
     "data": {
      "text/plain": [
       "3-element Vector{Float64}:\n",
       " 0.6154122094026363\n",
       " 0.7882054380161088\n",
       " 0.0"
      ]
     },
     "metadata": {},
     "output_type": "display_data"
    },
    {
     "data": {
      "text/plain": [
       "3-element Vector{Float64}:\n",
       " 0.6154122094026364\n",
       " 0.7882054380161085\n",
       " 5.802403552552915e-16"
      ]
     },
     "metadata": {},
     "output_type": "display_data"
    },
    {
     "data": {
      "text/plain": [
       "3-element Vector{Float64}:\n",
       " -0.6154122094026357\n",
       " -0.7882054380161092\n",
       "  0.0"
      ]
     },
     "metadata": {},
     "output_type": "display_data"
    },
    {
     "data": {
      "text/plain": [
       "3-element Vector{Float64}:\n",
       " -0.6154122094026357\n",
       " -0.7882054380161092\n",
       "  0.0"
      ]
     },
     "metadata": {},
     "output_type": "display_data"
    },
    {
     "data": {
      "text/plain": [
       "3-element Vector{Float64}:\n",
       " 0.6154122094026355\n",
       " 0.7882054380161093\n",
       " 1.0931916872227848e-15"
      ]
     },
     "metadata": {},
     "output_type": "display_data"
    },
    {
     "data": {
      "text/plain": [
       "3-element Vector{Float64}:\n",
       " -0.6154122094026359\n",
       " -0.7882054380161091\n",
       " -8.535382770609905e-16"
      ]
     },
     "metadata": {},
     "output_type": "display_data"
    },
    {
     "data": {
      "text/plain": [
       "3-element Vector{Float64}:\n",
       " 0.6154122094026364\n",
       " 0.7882054380161088\n",
       " 0.0"
      ]
     },
     "metadata": {},
     "output_type": "display_data"
    },
    {
     "data": {
      "text/plain": [
       "3-element Vector{Float64}:\n",
       " 0.6154122094026355\n",
       " 0.7882054380161093\n",
       " 0.0"
      ]
     },
     "metadata": {},
     "output_type": "display_data"
    },
    {
     "data": {
      "text/plain": [
       "3-element Vector{Float64}:\n",
       " -0.6154122094026341\n",
       " -0.7882054380161104\n",
       " -4.5073447954667275e-15"
      ]
     },
     "metadata": {},
     "output_type": "display_data"
    },
    {
     "data": {
      "text/plain": [
       "3-element Vector{Float64}:\n",
       " 0.6154122094026356\n",
       " 0.7882054380161093\n",
       " 7.862492537731705e-16"
      ]
     },
     "metadata": {},
     "output_type": "display_data"
    },
    {
     "data": {
      "text/plain": [
       "3-element Vector{Float64}:\n",
       " -0.6154122094026356\n",
       " -0.7882054380161092\n",
       "  2.800268241344737e-15"
      ]
     },
     "metadata": {},
     "output_type": "display_data"
    },
    {
     "data": {
      "text/plain": [
       "3-element Vector{Float64}:\n",
       " -0.6154122094026334\n",
       " -0.788205438016111\n",
       "  2.6898881213384764e-15"
      ]
     },
     "metadata": {},
     "output_type": "display_data"
    },
    {
     "data": {
      "text/plain": [
       "3-element Vector{Float64}:\n",
       " -0.6154122094026335\n",
       " -0.7882054380161109\n",
       " -5.465958436114137e-16"
      ]
     },
     "metadata": {},
     "output_type": "display_data"
    },
    {
     "data": {
      "text/plain": [
       "3-element Vector{Float64}:\n",
       " 0.6154122094026371\n",
       " 0.7882054380161081\n",
       " 0.0"
      ]
     },
     "metadata": {},
     "output_type": "display_data"
    },
    {
     "data": {
      "text/plain": [
       "3-element Vector{Float64}:\n",
       " 0.6154122094026362\n",
       " 0.7882054380161089\n",
       " 1.09319168722279e-15"
      ]
     },
     "metadata": {},
     "output_type": "display_data"
    },
    {
     "data": {
      "text/plain": [
       "3-element Vector{Float64}:\n",
       " -0.6154122094026362\n",
       " -0.7882054380161088\n",
       " -1.0501005905042903e-15"
      ]
     },
     "metadata": {},
     "output_type": "display_data"
    },
    {
     "data": {
      "text/plain": [
       "3-element Vector{Float64}:\n",
       " 0.6154122094026357\n",
       " 0.7882054380161092\n",
       " 1.2971296714134302e-15"
      ]
     },
     "metadata": {},
     "output_type": "display_data"
    },
    {
     "data": {
      "text/plain": [
       "3-element Vector{Float64}:\n",
       " -0.6154122094026355\n",
       " -0.7882054380161092\n",
       " -1.1160634246870634e-15"
      ]
     },
     "metadata": {},
     "output_type": "display_data"
    },
    {
     "data": {
      "text/plain": [
       "3-element Vector{Float64}:\n",
       " -0.6154122094026354\n",
       " -0.7882054380161093\n",
       " -4.372766748891166e-15"
      ]
     },
     "metadata": {},
     "output_type": "display_data"
    },
    {
     "data": {
      "text/plain": [
       "3-element Vector{Float64}:\n",
       " -0.6154122094026352\n",
       " -0.7882054380161095\n",
       " -1.3785885723131297e-15"
      ]
     },
     "metadata": {},
     "output_type": "display_data"
    },
    {
     "data": {
      "text/plain": [
       "3-element Vector{Float64}:\n",
       " 0.6154122094026352\n",
       " 0.7882054380161096\n",
       " 2.1863833744455338e-15"
      ]
     },
     "metadata": {},
     "output_type": "display_data"
    },
    {
     "data": {
      "text/plain": [
       "3-element Vector{Float64}:\n",
       " 0.6154122094026354\n",
       " 0.7882054380161094\n",
       " 3.5844465807906967e-16"
      ]
     },
     "metadata": {},
     "output_type": "display_data"
    },
    {
     "data": {
      "text/plain": [
       "3-element Vector{Float64}:\n",
       " -0.6154122094026352\n",
       " -0.7882054380161096\n",
       "  2.800268241344749e-15"
      ]
     },
     "metadata": {},
     "output_type": "display_data"
    },
    {
     "data": {
      "text/plain": [
       "3-element Vector{Float64}:\n",
       " -0.6154122094026359\n",
       " -0.7882054380161091\n",
       " -3.3468640849561423e-15"
      ]
     },
     "metadata": {},
     "output_type": "display_data"
    },
    {
     "data": {
      "text/plain": [
       "3-element Vector{Float64}:\n",
       " -0.6154122094026334\n",
       " -0.788205438016111\n",
       "  6.832448045142176e-16"
      ]
     },
     "metadata": {},
     "output_type": "display_data"
    },
    {
     "data": {
      "text/plain": [
       "3-element Vector{Float64}:\n",
       " 0.6154122094026355\n",
       " 0.7882054380161093\n",
       " 0.0"
      ]
     },
     "metadata": {},
     "output_type": "display_data"
    },
    {
     "data": {
      "text/plain": [
       "3-element Vector{Float64}:\n",
       " 0.6154122094026344\n",
       " 0.7882054380161102\n",
       " 0.0"
      ]
     },
     "metadata": {},
     "output_type": "display_data"
    },
    {
     "data": {
      "text/plain": [
       "3-element Vector{Float64}:\n",
       " -0.6154122094026341\n",
       " -0.7882054380161104\n",
       " -4.950936189819174e-16"
      ]
     },
     "metadata": {},
     "output_type": "display_data"
    },
    {
     "data": {
      "text/plain": [
       "3-element Vector{Float64}:\n",
       " 0.6154122094026354\n",
       " 0.7882054380161093\n",
       " 8.535382770609876e-16"
      ]
     },
     "metadata": {},
     "output_type": "display_data"
    },
    {
     "data": {
      "text/plain": [
       "3-element Vector{Float64}:\n",
       "  0.6154122094026355\n",
       "  0.7882054380161092\n",
       " -1.9656231344328963e-16"
      ]
     },
     "metadata": {},
     "output_type": "display_data"
    },
    {
     "data": {
      "text/plain": [
       "3-element Vector{Float64}:\n",
       " -0.615412209402636\n",
       " -0.7882054380161089\n",
       "  0.0"
      ]
     },
     "metadata": {},
     "output_type": "display_data"
    },
    {
     "data": {
      "text/plain": [
       "3-element Vector{Float64}:\n",
       " -0.6154122094026357\n",
       " -0.7882054380161091\n",
       "  0.0"
      ]
     },
     "metadata": {},
     "output_type": "display_data"
    },
    {
     "data": {
      "text/plain": [
       "3-element Vector{Float64}:\n",
       " -0.6154122094026356\n",
       " -0.7882054380161092\n",
       "  2.488602515357868e-15"
      ]
     },
     "metadata": {},
     "output_type": "display_data"
    },
    {
     "data": {
      "text/plain": [
       "3-element Vector{Float64}:\n",
       " 0.6154122094026357\n",
       " 0.7882054380161092\n",
       " 7.852137966095638e-16"
      ]
     },
     "metadata": {},
     "output_type": "display_data"
    },
    {
     "data": {
      "text/plain": [
       "3-element Vector{Float64}:\n",
       " -0.6154122094026361\n",
       " -0.7882054380161089\n",
       "  6.317425798847668e-16"
      ]
     },
     "metadata": {},
     "output_type": "display_data"
    },
    {
     "data": {
      "text/plain": [
       "3-element Vector{Float64}:\n",
       "  0.6154122094026373\n",
       "  0.7882054380161079\n",
       " -2.0329121577207704e-15"
      ]
     },
     "metadata": {},
     "output_type": "display_data"
    },
    {
     "data": {
      "text/plain": [
       "3-element Vector{Float64}:\n",
       " -0.615412209402637\n",
       " -0.7882054380161083\n",
       "  3.08301274822508e-15"
      ]
     },
     "metadata": {},
     "output_type": "display_data"
    },
    {
     "data": {
      "text/plain": [
       "3-element Vector{Float64}:\n",
       " -0.6154122094026366\n",
       " -0.7882054380161083\n",
       "  3.739988711842778e-15"
      ]
     },
     "metadata": {},
     "output_type": "display_data"
    },
    {
     "data": {
      "text/plain": [
       "3-element Vector{Float64}:\n",
       "  0.615412209402636\n",
       "  0.788205438016109\n",
       " -3.2795750616683596e-15"
      ]
     },
     "metadata": {},
     "output_type": "display_data"
    },
    {
     "data": {
      "text/plain": [
       "3-element Vector{Float64}:\n",
       " -0.615412209402635\n",
       " -0.7882054380161098\n",
       " -1.1066494918803478e-14"
      ]
     },
     "metadata": {},
     "output_type": "display_data"
    },
    {
     "data": {
      "text/plain": [
       "3-element Vector{Float64}:\n",
       " -0.6154122094026371\n",
       " -0.7882054380161082\n",
       " -4.2004023620171605e-15"
      ]
     },
     "metadata": {},
     "output_type": "display_data"
    },
    {
     "data": {
      "text/plain": [
       "3-element Vector{Float64}:\n",
       " -0.615412209402636\n",
       " -0.7882054380161089\n",
       " -3.9365510252860554e-15"
      ]
     },
     "metadata": {},
     "output_type": "display_data"
    },
    {
     "data": {
      "text/plain": [
       "3-element Vector{Float64}:\n",
       " -0.6154122094026355\n",
       " -0.7882054380161092\n",
       " -2.3398545911703504e-15"
      ]
     },
     "metadata": {},
     "output_type": "display_data"
    },
    {
     "data": {
      "text/plain": [
       "3-element Vector{Float64}:\n",
       " 0.6154122094026359\n",
       " 0.7882054380161091\n",
       " 4.09946882708545e-16"
      ]
     },
     "metadata": {},
     "output_type": "display_data"
    },
    {
     "data": {
      "text/plain": [
       "3-element Vector{Float64}:\n",
       " -0.6154122094026355\n",
       " -0.7882054380161093\n",
       " -1.5260103073955995e-15"
      ]
     },
     "metadata": {},
     "output_type": "display_data"
    },
    {
     "data": {
      "text/plain": [
       "3-element Vector{Float64}:\n",
       " 0.6154122094026352\n",
       " 0.7882054380161095\n",
       " 3.279575061668363e-15"
      ]
     },
     "metadata": {},
     "output_type": "display_data"
    },
    {
     "data": {
      "text/plain": [
       "3-element Vector{Float64}:\n",
       " 0.6154122094026361\n",
       " 0.788205438016109\n",
       " 7.414596053385521e-16"
      ]
     },
     "metadata": {},
     "output_type": "display_data"
    },
    {
     "data": {
      "text/plain": [
       "3-element Vector{Float64}:\n",
       " -0.6154122094026354\n",
       " -0.7882054380161095\n",
       " -2.7797581501491444e-15"
      ]
     },
     "metadata": {},
     "output_type": "display_data"
    },
    {
     "data": {
      "text/plain": [
       "3-element Vector{Float64}:\n",
       " 0.6154122094026366\n",
       " 0.7882054380161084\n",
       " 7.8521379660956e-16"
      ]
     },
     "metadata": {},
     "output_type": "display_data"
    },
    {
     "data": {
      "text/plain": [
       "3-element Vector{Float64}:\n",
       " 0.6154122094026351\n",
       " 0.7882054380161096\n",
       " 1.0398455449064781e-15"
      ]
     },
     "metadata": {},
     "output_type": "display_data"
    },
    {
     "data": {
      "text/plain": [
       "3-element Vector{Float64}:\n",
       "  0.6154122094026354\n",
       "  0.7882054380161094\n",
       " -9.864994025901613e-16"
      ]
     },
     "metadata": {},
     "output_type": "display_data"
    },
    {
     "data": {
      "text/plain": [
       "3-element Vector{Float64}:\n",
       " -0.6154122094026367\n",
       " -0.7882054380161084\n",
       "  2.5269703195390568e-15"
      ]
     },
     "metadata": {},
     "output_type": "display_data"
    },
    {
     "data": {
      "text/plain": [
       "3-element Vector{Float64}:\n",
       " -0.6154122094026366\n",
       " -0.7882054380161084\n",
       "  1.2574356781272016e-15"
      ]
     },
     "metadata": {},
     "output_type": "display_data"
    },
    {
     "data": {
      "text/plain": [
       "3-element Vector{Float64}:\n",
       " -0.6154122094026356\n",
       " -0.7882054380161091\n",
       " -1.1160634246870609e-15"
      ]
     },
     "metadata": {},
     "output_type": "display_data"
    },
    {
     "data": {
      "text/plain": [
       "3-element Vector{Float64}:\n",
       " -0.6154122094026356\n",
       " -0.7882054380161093\n",
       "  4.2676913853049436e-16"
      ]
     },
     "metadata": {},
     "output_type": "display_data"
    },
    {
     "data": {
      "text/plain": [
       "3-element Vector{Float64}:\n",
       " -0.6154122094026354\n",
       " -0.7882054380161095\n",
       " -8.535382770609895e-16"
      ]
     },
     "metadata": {},
     "output_type": "display_data"
    },
    {
     "data": {
      "text/plain": [
       "3-element Vector{Float64}:\n",
       "  0.6154122094026355\n",
       "  0.7882054380161093\n",
       " -1.4506008881382296e-16"
      ]
     },
     "metadata": {},
     "output_type": "display_data"
    },
    {
     "data": {
      "text/plain": [
       "3-element Vector{Float64}:\n",
       " 0.6154122094026362\n",
       " 0.7882054380161088\n",
       " 5.105896856988459e-16"
      ]
     },
     "metadata": {},
     "output_type": "display_data"
    },
    {
     "data": {
      "text/plain": [
       "3-element Vector{Float64}:\n",
       " -0.6154122094026355\n",
       " -0.7882054380161092\n",
       " -1.1807000697648142e-15"
      ]
     },
     "metadata": {},
     "output_type": "display_data"
    },
    {
     "data": {
      "text/plain": [
       "3-element Vector{Float64}:\n",
       " -0.6154122094026356\n",
       " -0.7882054380161092\n",
       " -2.386633523262541e-15"
      ]
     },
     "metadata": {},
     "output_type": "display_data"
    },
    {
     "data": {
      "text/plain": [
       "3-element Vector{Float64}:\n",
       " -0.6154122094026354\n",
       " -0.7882054380161094\n",
       " -7.000670603361914e-16"
      ]
     },
     "metadata": {},
     "output_type": "display_data"
    },
    {
     "data": {
      "text/plain": [
       "3-element Vector{Float64}:\n",
       " 0.6154122094026355\n",
       " 0.7882054380161094\n",
       " 2.1338456926524666e-16"
      ]
     },
     "metadata": {},
     "output_type": "display_data"
    },
    {
     "data": {
      "text/plain": [
       "3-element Vector{Float64}:\n",
       " -0.6154122094026309\n",
       " -0.788205438016113\n",
       " -9.35941836468161e-15"
      ]
     },
     "metadata": {},
     "output_type": "display_data"
    },
    {
     "data": {
      "text/plain": [
       "3-element Vector{Float64}:\n",
       " -0.6154122094026354\n",
       " -0.7882054380161093\n",
       " -2.4933258078951935e-15"
      ]
     },
     "metadata": {},
     "output_type": "display_data"
    },
    {
     "data": {
      "text/plain": [
       "3-element Vector{Float64}:\n",
       " -0.6154122094026364\n",
       " -0.7882054380161087\n",
       " -3.6296085918364695e-15"
      ]
     },
     "metadata": {},
     "output_type": "display_data"
    },
    {
     "data": {
      "text/plain": [
       "3-element Vector{Float64}:\n",
       " 0.6154122094026323\n",
       " 0.7882054380161119\n",
       " 6.32778037048422e-16"
      ]
     },
     "metadata": {},
     "output_type": "display_data"
    },
    {
     "data": {
      "text/plain": [
       "3-element Vector{Float64}:\n",
       " -0.6154122094026363\n",
       " -0.7882054380161088\n",
       " -1.1680379785702601e-14"
      ]
     },
     "metadata": {},
     "output_type": "display_data"
    },
    {
     "data": {
      "text/plain": [
       "3-element Vector{Float64}:\n",
       " -0.6154122094026364\n",
       " -0.7882054380161087\n",
       " -5.600536482689545e-15"
      ]
     },
     "metadata": {},
     "output_type": "display_data"
    },
    {
     "data": {
      "text/plain": [
       "3-element Vector{Float64}:\n",
       " -0.6154122094026361\n",
       " -0.7882054380161089\n",
       " -1.750167650840444e-15"
      ]
     },
     "metadata": {},
     "output_type": "display_data"
    },
    {
     "data": {
      "text/plain": [
       "3-element Vector{Float64}:\n",
       " -0.6154122094026365\n",
       " -0.7882054380161087\n",
       "  2.4071436144581386e-15"
      ]
     },
     "metadata": {},
     "output_type": "display_data"
    },
    {
     "data": {
      "text/plain": [
       "3-element Vector{Float64}:\n",
       " -0.6154122094026346\n",
       " -0.7882054380161101\n",
       "  8.198937654170969e-16"
      ]
     },
     "metadata": {},
     "output_type": "display_data"
    },
    {
     "data": {
      "text/plain": [
       "3-element Vector{Float64}:\n",
       "  0.6154122094026341\n",
       "  0.7882054380161103\n",
       " -4.0389740106622893e-16"
      ]
     },
     "metadata": {},
     "output_type": "display_data"
    },
    {
     "data": {
      "text/plain": [
       "3-element Vector{Float64}:\n",
       " -0.6154122094026362\n",
       " -0.7882054380161088\n",
       " -2.2930756590782063e-15"
      ]
     },
     "metadata": {},
     "output_type": "display_data"
    },
    {
     "data": {
      "text/plain": [
       "3-element Vector{Float64}:\n",
       " -0.615412209402635\n",
       " -0.7882054380161098\n",
       "  0.0"
      ]
     },
     "metadata": {},
     "output_type": "display_data"
    },
    {
     "data": {
      "text/plain": [
       "3-element Vector{Float64}:\n",
       " -0.6154122094026363\n",
       " -0.7882054380161088\n",
       "  9.864994025901663e-16"
      ]
     },
     "metadata": {},
     "output_type": "display_data"
    },
    {
     "data": {
      "text/plain": [
       "3-element Vector{Float64}:\n",
       " 0.6154122094026356\n",
       " 0.7882054380161093\n",
       " 0.0"
      ]
     },
     "metadata": {},
     "output_type": "display_data"
    },
    {
     "data": {
      "text/plain": [
       "3-element Vector{Float64}:\n",
       " -0.6154122094026346\n",
       " -0.78820543801611\n",
       "  0.0"
      ]
     },
     "metadata": {},
     "output_type": "display_data"
    },
    {
     "data": {
      "text/plain": [
       "3-element Vector{Float64}:\n",
       " -0.6154122094026362\n",
       " -0.7882054380161089\n",
       "  1.7998259577831248e-15"
      ]
     },
     "metadata": {},
     "output_type": "display_data"
    },
    {
     "data": {
      "text/plain": [
       "3-element Vector{Float64}:\n",
       " -0.6154122094026381\n",
       " -0.7882054380161073\n",
       " -6.7273726815562165e-15"
      ]
     },
     "metadata": {},
     "output_type": "display_data"
    },
    {
     "data": {
      "text/plain": [
       "3-element Vector{Float64}:\n",
       "  0.6154122094026382\n",
       "  0.7882054380161073\n",
       " -5.802403552553102e-16"
      ]
     },
     "metadata": {},
     "output_type": "display_data"
    },
    {
     "data": {
      "text/plain": [
       "3-element Vector{Float64}:\n",
       " -0.6154122094026361\n",
       " -0.7882054380161089\n",
       " -9.289476963183543e-16"
      ]
     },
     "metadata": {},
     "output_type": "display_data"
    },
    {
     "data": {
      "text/plain": [
       "3-element Vector{Float64}:\n",
       " -0.6154122094026357\n",
       " -0.7882054380161092\n",
       "  1.2803074155914823e-15"
      ]
     },
     "metadata": {},
     "output_type": "display_data"
    },
    {
     "data": {
      "text/plain": [
       "3-element Vector{Float64}:\n",
       " -0.6154122094026355\n",
       " -0.7882054380161093\n",
       " -7.000670603361927e-16"
      ]
     },
     "metadata": {},
     "output_type": "display_data"
    },
    {
     "data": {
      "text/plain": [
       "3-element Vector{Float64}:\n",
       " -0.615412209402636\n",
       " -0.7882054380161091\n",
       " -6.53288128244018e-16"
      ]
     },
     "metadata": {},
     "output_type": "display_data"
    },
    {
     "data": {
      "text/plain": [
       "3-element Vector{Float64}:\n",
       " -0.6154122094026362\n",
       " -0.7882054380161089\n",
       " -1.1100139430447362e-15"
      ]
     },
     "metadata": {},
     "output_type": "display_data"
    },
    {
     "data": {
      "text/plain": [
       "3-element Vector{Float64}:\n",
       " -0.6154122094026354\n",
       " -0.7882054380161095\n",
       " -4.759097168913204e-16"
      ]
     },
     "metadata": {},
     "output_type": "display_data"
    },
    {
     "data": {
      "text/plain": [
       "3-element Vector{Float64}:\n",
       " -0.6154122094026353\n",
       " -0.7882054380161095\n",
       "  3.840113786251245e-15"
      ]
     },
     "metadata": {},
     "output_type": "display_data"
    },
    {
     "data": {
      "text/plain": [
       "3-element Vector{Float64}:\n",
       " -0.6154122094026356\n",
       " -0.7882054380161093\n",
       " -8.535382770609902e-16"
      ]
     },
     "metadata": {},
     "output_type": "display_data"
    },
    {
     "data": {
      "text/plain": [
       "3-element Vector{Float64}:\n",
       " 0.6154122094026359\n",
       " 0.7882054380161091\n",
       " 0.0"
      ]
     },
     "metadata": {},
     "output_type": "display_data"
    },
    {
     "data": {
      "text/plain": [
       "3-element Vector{Float64}:\n",
       " -0.6154122094026344\n",
       " -0.7882054380161102\n",
       " -1.1680379785702638e-14"
      ]
     },
     "metadata": {},
     "output_type": "display_data"
    },
    {
     "data": {
      "text/plain": [
       "3-element Vector{Float64}:\n",
       " -0.6154122094026342\n",
       " -0.7882054380161103\n",
       " -4.7469982056285915e-15"
      ]
     },
     "metadata": {},
     "output_type": "display_data"
    },
    {
     "data": {
      "text/plain": [
       "3-element Vector{Float64}:\n",
       " -0.615412209402634\n",
       " -0.7882054380161104\n",
       " -2.296763494451841e-15"
      ]
     },
     "metadata": {},
     "output_type": "display_data"
    },
    {
     "data": {
      "text/plain": [
       "3-element Vector{Float64}:\n",
       " -0.6154122094026364\n",
       " -0.7882054380161088\n",
       "  2.8339127529886266e-15"
      ]
     },
     "metadata": {},
     "output_type": "display_data"
    },
    {
     "data": {
      "text/plain": [
       "3-element Vector{Float64}:\n",
       " -0.6154122094026329\n",
       " -0.7882054380161115\n",
       "  6.693728169912359e-15"
      ]
     },
     "metadata": {},
     "output_type": "display_data"
    },
    {
     "data": {
      "text/plain": [
       "3-element Vector{Float64}:\n",
       " -0.6154122094026353\n",
       " -0.7882054380161095\n",
       "  2.732979218057013e-15"
      ]
     },
     "metadata": {},
     "output_type": "display_data"
    },
    {
     "data": {
      "text/plain": [
       "3-element Vector{Float64}:\n",
       "  0.6154122094026399\n",
       "  0.7882054380161061\n",
       " -3.08301274822509e-15"
      ]
     },
     "metadata": {},
     "output_type": "display_data"
    },
    {
     "data": {
      "text/plain": [
       "3-element Vector{Float64}:\n",
       " -0.6154122094026343\n",
       " -0.7882054380161103\n",
       "  2.459681296251288e-15"
      ]
     },
     "metadata": {},
     "output_type": "display_data"
    },
    {
     "data": {
      "text/plain": [
       "3-element Vector{Float64}:\n",
       " -0.6154122094026359\n",
       " -0.7882054380161091\n",
       " -4.166757850373237e-15"
      ]
     },
     "metadata": {},
     "output_type": "display_data"
    },
    {
     "data": {
      "text/plain": [
       "3-element Vector{Float64}:\n",
       " -0.615412209402637\n",
       " -0.7882054380161083\n",
       " -1.1268361988666906e-15"
      ]
     },
     "metadata": {},
     "output_type": "display_data"
    },
    {
     "data": {
      "text/plain": [
       "3-element Vector{Float64}:\n",
       " 0.6154122094026335\n",
       " 0.7882054380161109\n",
       " 6.852958136338002e-15"
      ]
     },
     "metadata": {},
     "output_type": "display_data"
    },
    {
     "data": {
      "text/plain": [
       "3-element Vector{Float64}:\n",
       " -0.6154122094026346\n",
       " -0.7882054380161101\n",
       " -2.209255111909837e-15"
      ]
     },
     "metadata": {},
     "output_type": "display_data"
    },
    {
     "data": {
      "text/plain": [
       "3-element Vector{Float64}:\n",
       " -0.6154122094026365\n",
       " -0.7882054380161085\n",
       "  2.1863833744455712e-15"
      ]
     },
     "metadata": {},
     "output_type": "display_data"
    },
    {
     "data": {
      "text/plain": [
       "3-element Vector{Float64}:\n",
       " -0.615412209402634\n",
       " -0.7882054380161105\n",
       "  1.7070765541219745e-15"
      ]
     },
     "metadata": {},
     "output_type": "display_data"
    },
    {
     "data": {
      "text/plain": [
       "3-element Vector{Float64}:\n",
       " -0.6154122094026362\n",
       " -0.7882054380161089\n",
       " -3.8934599285675824e-15"
      ]
     },
     "metadata": {},
     "output_type": "display_data"
    },
    {
     "data": {
      "text/plain": [
       "3-element Vector{Float64}:\n",
       " -0.6154122094026356\n",
       " -0.7882054380161092\n",
       " -1.146537829539047e-15"
      ]
     },
     "metadata": {},
     "output_type": "display_data"
    },
    {
     "data": {
      "text/plain": [
       "3-element Vector{Float64}:\n",
       " -0.6154122094026347\n",
       " -0.78820543801611\n",
       " -4.917291678175292e-15"
      ]
     },
     "metadata": {},
     "output_type": "display_data"
    },
    {
     "data": {
      "text/plain": [
       "3-element Vector{Float64}:\n",
       " -0.6154122094026356\n",
       " -0.7882054380161093\n",
       " -6.724720303346306e-16"
      ]
     },
     "metadata": {},
     "output_type": "display_data"
    },
    {
     "data": {
      "text/plain": [
       "3-element Vector{Float64}:\n",
       " 0.6154122094026373\n",
       " 0.7882054380161079\n",
       " 0.0"
      ]
     },
     "metadata": {},
     "output_type": "display_data"
    },
    {
     "data": {
      "text/plain": [
       "3-element Vector{Float64}:\n",
       " -0.6154122094026342\n",
       " -0.7882054380161104\n",
       "  2.0150544447352045e-15"
      ]
     },
     "metadata": {},
     "output_type": "display_data"
    },
    {
     "data": {
      "text/plain": [
       "3-element Vector{Float64}:\n",
       " 0.6154122094026372\n",
       " 0.788205438016108\n",
       " 0.0"
      ]
     },
     "metadata": {},
     "output_type": "display_data"
    },
    {
     "data": {
      "text/plain": [
       "3-element Vector{Float64}:\n",
       " -0.6154122094026351\n",
       " -0.7882054380161096\n",
       "  2.146980113100753e-15"
      ]
     },
     "metadata": {},
     "output_type": "display_data"
    },
    {
     "data": {
      "text/plain": [
       "3-element Vector{Float64}:\n",
       " 0.6154122094026362\n",
       " 0.7882054380161088\n",
       " 3.7157907852734394e-16"
      ]
     },
     "metadata": {},
     "output_type": "display_data"
    },
    {
     "data": {
      "text/plain": [
       "3-element Vector{Float64}:\n",
       " -0.6154122094026356\n",
       " -0.7882054380161092\n",
       "  0.0"
      ]
     },
     "metadata": {},
     "output_type": "display_data"
    },
    {
     "data": {
      "text/plain": [
       "3-element Vector{Float64}:\n",
       " -0.6154122094026356\n",
       " -0.7882054380161093\n",
       " -3.946806070883863e-15"
      ]
     },
     "metadata": {},
     "output_type": "display_data"
    },
    {
     "data": {
      "text/plain": [
       "3-element Vector{Float64}:\n",
       " 0.615412209402634\n",
       " 0.7882054380161106\n",
       " 0.0"
      ]
     },
     "metadata": {},
     "output_type": "display_data"
    },
    {
     "data": {
      "text/plain": [
       "3-element Vector{Float64}:\n",
       " -0.6154122094026354\n",
       " -0.7882054380161094\n",
       "  0.0"
      ]
     },
     "metadata": {},
     "output_type": "display_data"
    },
    {
     "data": {
      "text/plain": [
       "3-element Vector{Float64}:\n",
       " 0.6154122094026342\n",
       " 0.7882054380161104\n",
       " 0.0"
      ]
     },
     "metadata": {},
     "output_type": "display_data"
    },
    {
     "data": {
      "text/plain": [
       "3-element Vector{Float64}:\n",
       "  0.6154122094026365\n",
       "  0.7882054380161085\n",
       " -9.39720470497987e-16"
      ]
     },
     "metadata": {},
     "output_type": "display_data"
    },
    {
     "data": {
      "text/plain": [
       "3-element Vector{Float64}:\n",
       " -0.6154122094026356\n",
       " -0.7882054380161092\n",
       "  3.586517495117942e-15"
      ]
     },
     "metadata": {},
     "output_type": "display_data"
    },
    {
     "data": {
      "text/plain": [
       "3-element Vector{Float64}:\n",
       " -0.615412209402637\n",
       " -0.7882054380161082\n",
       " -8.535382770609845e-16"
      ]
     },
     "metadata": {},
     "output_type": "display_data"
    },
    {
     "data": {
      "text/plain": [
       "3-element Vector{Float64}:\n",
       "  0.6154122094026369\n",
       "  0.7882054380161083\n",
       " -1.3328450973845992e-15"
      ]
     },
     "metadata": {},
     "output_type": "display_data"
    },
    {
     "data": {
      "text/plain": [
       "3-element Vector{Float64}:\n",
       " 0.6154122094026377\n",
       " 0.7882054380161077\n",
       " 3.069424334495988e-16"
      ]
     },
     "metadata": {},
     "output_type": "display_data"
    },
    {
     "data": {
      "text/plain": [
       "3-element Vector{Float64}:\n",
       " -0.6154122094026351\n",
       " -0.7882054380161095\n",
       "  1.5536053373970878e-15"
      ]
     },
     "metadata": {},
     "output_type": "display_data"
    },
    {
     "data": {
      "text/plain": [
       "3-element Vector{Float64}:\n",
       "  0.6154122094026377\n",
       "  0.7882054380161075\n",
       " -6.66422548692285e-16"
      ]
     },
     "metadata": {},
     "output_type": "display_data"
    },
    {
     "data": {
      "text/plain": [
       "3-element Vector{Float64}:\n",
       " -0.6154122094026356\n",
       " -0.7882054380161093\n",
       " -1.707076554121971e-15"
      ]
     },
     "metadata": {},
     "output_type": "display_data"
    },
    {
     "data": {
      "text/plain": [
       "3-element Vector{Float64}:\n",
       " 0.6154122094026386\n",
       " 0.788205438016107\n",
       " 0.0"
      ]
     },
     "metadata": {},
     "output_type": "display_data"
    },
    {
     "data": {
      "text/plain": [
       "3-element Vector{Float64}:\n",
       " -0.6154122094026356\n",
       " -0.7882054380161092\n",
       "  1.7202109745702631e-15"
      ]
     },
     "metadata": {},
     "output_type": "display_data"
    },
    {
     "data": {
      "text/plain": [
       "3-element Vector{Float64}:\n",
       " -0.6154122094026363\n",
       " -0.7882054380161088\n",
       " -1.5260103073956052e-15"
      ]
     },
     "metadata": {},
     "output_type": "display_data"
    },
    {
     "data": {
      "text/plain": [
       "3-element Vector{Float64}:\n",
       " -0.6154122094026362\n",
       " -0.7882054380161088\n",
       " -3.586517495117989e-15"
      ]
     },
     "metadata": {},
     "output_type": "display_data"
    },
    {
     "data": {
      "text/plain": [
       "3-element Vector{Float64}:\n",
       " -0.6154122094026364\n",
       " -0.7882054380161087\n",
       "  2.732979218056961e-15"
      ]
     },
     "metadata": {},
     "output_type": "display_data"
    },
    {
     "data": {
      "text/plain": [
       "3-element Vector{Float64}:\n",
       "  0.6154122094026356\n",
       "  0.7882054380161093\n",
       " -9.86499402590164e-16"
      ]
     },
     "metadata": {},
     "output_type": "display_data"
    },
    {
     "data": {
      "text/plain": [
       "3-element Vector{Float64}:\n",
       " -0.6154122094026362\n",
       " -0.7882054380161088\n",
       "  1.0398455449064795e-15"
      ]
     },
     "metadata": {},
     "output_type": "display_data"
    },
    {
     "data": {
      "text/plain": [
       "3-element Vector{Float64}:\n",
       " 0.6154122094026367\n",
       " 0.7882054380161083\n",
       " 2.423965870280126e-15"
      ]
     },
     "metadata": {},
     "output_type": "display_data"
    },
    {
     "data": {
      "text/plain": [
       "3-element Vector{Float64}:\n",
       " -0.6154122094026357\n",
       " -0.7882054380161091\n",
       "  0.0"
      ]
     },
     "metadata": {},
     "output_type": "display_data"
    },
    {
     "data": {
      "text/plain": [
       "3-element Vector{Float64}:\n",
       " -0.6154122094026372\n",
       " -0.7882054380161081\n",
       " -9.289476963183606e-16"
      ]
     },
     "metadata": {},
     "output_type": "display_data"
    },
    {
     "data": {
      "text/plain": [
       "3-element Vector{Float64}:\n",
       " 0.6154122094026373\n",
       " 0.7882054380161079\n",
       " 3.5844465807907174e-16"
      ]
     },
     "metadata": {},
     "output_type": "display_data"
    },
    {
     "data": {
      "text/plain": [
       "3-element Vector{Float64}:\n",
       " 0.6154122094026363\n",
       " 0.7882054380161087\n",
       " 0.0"
      ]
     },
     "metadata": {},
     "output_type": "display_data"
    },
    {
     "data": {
      "text/plain": [
       "3-element Vector{Float64}:\n",
       " -0.6154122094026356\n",
       " -0.7882054380161092\n",
       " -3.556560818847748e-15"
      ]
     },
     "metadata": {},
     "output_type": "display_data"
    },
    {
     "data": {
      "text/plain": [
       "3-element Vector{Float64}:\n",
       " -0.6154122094026354\n",
       " -0.7882054380161095\n",
       "  9.610798375516813e-16"
      ]
     },
     "metadata": {},
     "output_type": "display_data"
    },
    {
     "data": {
      "text/plain": [
       "3-element Vector{Float64}:\n",
       " -0.6154122094026371\n",
       " -0.7882054380161081\n",
       "  5.826020015239462e-16"
      ]
     },
     "metadata": {},
     "output_type": "display_data"
    },
    {
     "data": {
      "text/plain": [
       "3-element Vector{Float64}:\n",
       " -0.6154122094026357\n",
       " -0.7882054380161091\n",
       "  3.533171352801648e-15"
      ]
     },
     "metadata": {},
     "output_type": "display_data"
    },
    {
     "data": {
      "text/plain": [
       "3-element Vector{Float64}:\n",
       " 0.6154122094026363\n",
       " 0.7882054380161087\n",
       " 0.0"
      ]
     },
     "metadata": {},
     "output_type": "display_data"
    },
    {
     "data": {
      "text/plain": [
       "3-element Vector{Float64}:\n",
       " -0.6154122094026359\n",
       " -0.7882054380161091\n",
       "  8.966293737794906e-16"
      ]
     },
     "metadata": {},
     "output_type": "display_data"
    },
    {
     "data": {
      "text/plain": [
       "3-element Vector{Float64}:\n",
       " -0.6154122094026356\n",
       " -0.7882054380161091\n",
       "  3.893459928567609e-15"
      ]
     },
     "metadata": {},
     "output_type": "display_data"
    },
    {
     "data": {
      "text/plain": [
       "3-element Vector{Float64}:\n",
       " -0.6154122094026356\n",
       " -0.7882054380161092\n",
       "  1.4001341206724116e-15"
      ]
     },
     "metadata": {},
     "output_type": "display_data"
    },
    {
     "data": {
      "text/plain": [
       "3-element Vector{Float64}:\n",
       " -0.6154122094026326\n",
       " -0.7882054380161115\n",
       "  3.2606818915190574e-15"
      ]
     },
     "metadata": {},
     "output_type": "display_data"
    },
    {
     "data": {
      "text/plain": [
       "3-element Vector{Float64}:\n",
       " -0.6154122094026341\n",
       " -0.7882054380161104\n",
       "  9.426707387969374e-15"
      ]
     },
     "metadata": {},
     "output_type": "display_data"
    },
    {
     "data": {
      "text/plain": [
       "3-element Vector{Float64}:\n",
       " -0.6154122094026349\n",
       " -0.78820543801611\n",
       "  5.840189892851375e-15"
      ]
     },
     "metadata": {},
     "output_type": "display_data"
    },
    {
     "data": {
      "text/plain": [
       "3-element Vector{Float64}:\n",
       " -0.6154122094026371\n",
       " -0.7882054380161081\n",
       " -8.880111544357847e-15"
      ]
     },
     "metadata": {},
     "output_type": "display_data"
    },
    {
     "data": {
      "text/plain": [
       "3-element Vector{Float64}:\n",
       " -0.6154122094026373\n",
       " -0.7882054380161079\n",
       "  5.207411855802832e-15"
      ]
     },
     "metadata": {},
     "output_type": "display_data"
    },
    {
     "data": {
      "text/plain": [
       "3-element Vector{Float64}:\n",
       " -0.6154122094026367\n",
       " -0.7882054380161084\n",
       "  4.32022906709801e-15"
      ]
     },
     "metadata": {},
     "output_type": "display_data"
    },
    {
     "data": {
      "text/plain": [
       "3-element Vector{Float64}:\n",
       " 0.6154122094026353\n",
       " 0.7882054380161095\n",
       " 0.0"
      ]
     },
     "metadata": {},
     "output_type": "display_data"
    },
    {
     "data": {
      "text/plain": [
       "3-element Vector{Float64}:\n",
       " -0.6154122094026344\n",
       " -0.7882054380161103\n",
       "  0.0"
      ]
     },
     "metadata": {},
     "output_type": "display_data"
    },
    {
     "data": {
      "text/plain": [
       "3-element Vector{Float64}:\n",
       " -0.615412209402637\n",
       " -0.7882054380161082\n",
       " -1.4132685411206383e-15"
      ]
     },
     "metadata": {},
     "output_type": "display_data"
    },
    {
     "data": {
      "text/plain": [
       "3-element Vector{Float64}:\n",
       " -0.6154122094026341\n",
       " -0.7882054380161104\n",
       " -2.6360242504403483e-15"
      ]
     },
     "metadata": {},
     "output_type": "display_data"
    },
    {
     "data": {
      "text/plain": [
       "3-element Vector{Float64}:\n",
       " -0.6154122094026341\n",
       " -0.7882054380161103\n",
       " -3.3862673463009517e-15"
      ]
     },
     "metadata": {},
     "output_type": "display_data"
    },
    {
     "data": {
      "text/plain": [
       "3-element Vector{Float64}:\n",
       " 0.6154122094026337\n",
       " 0.7882054380161106\n",
       " 0.0"
      ]
     },
     "metadata": {},
     "output_type": "display_data"
    },
    {
     "data": {
      "text/plain": [
       "3-element Vector{Float64}:\n",
       " -0.6154122094026344\n",
       " -0.7882054380161103\n",
       "  1.2532301141717192e-15"
      ]
     },
     "metadata": {},
     "output_type": "display_data"
    },
    {
     "data": {
      "text/plain": [
       "3-element Vector{Float64}:\n",
       " -0.6154122094026347\n",
       " -0.7882054380161099\n",
       " -1.0398455449064673e-15"
      ]
     },
     "metadata": {},
     "output_type": "display_data"
    },
    {
     "data": {
      "text/plain": [
       "3-element Vector{Float64}:\n",
       " -0.6154122094026347\n",
       " -0.78820543801611\n",
       " -3.1765706124094326e-15"
      ]
     },
     "metadata": {},
     "output_type": "display_data"
    },
    {
     "data": {
      "text/plain": [
       "3-element Vector{Float64}:\n",
       " -0.6154122094026374\n",
       " -0.7882054380161079\n",
       " -1.7717131991997246e-15"
      ]
     },
     "metadata": {},
     "output_type": "display_data"
    },
    {
     "data": {
      "text/plain": [
       "3-element Vector{Float64}:\n",
       " 0.6154122094026336\n",
       " 0.7882054380161109\n",
       " 1.6061430191902887e-15"
      ]
     },
     "metadata": {},
     "output_type": "display_data"
    },
    {
     "data": {
      "text/plain": [
       "3-element Vector{Float64}:\n",
       " -0.6154122094026374\n",
       " -0.7882054380161078\n",
       "  4.491557996808418e-15"
      ]
     },
     "metadata": {},
     "output_type": "display_data"
    },
    {
     "data": {
      "text/plain": [
       "3-element Vector{Float64}:\n",
       " 0.6154122094026355\n",
       " 0.7882054380161093\n",
       " 0.0"
      ]
     },
     "metadata": {},
     "output_type": "display_data"
    },
    {
     "data": {
      "text/plain": [
       "3-element Vector{Float64}:\n",
       " 0.6154122094026359\n",
       " 0.7882054380161091\n",
       " 5.46595843611392e-16"
      ]
     },
     "metadata": {},
     "output_type": "display_data"
    },
    {
     "data": {
      "text/plain": [
       "3-element Vector{Float64}:\n",
       "  0.6154122094026359\n",
       "  0.7882054380161091\n",
       " -2.1863833744455783e-15"
      ]
     },
     "metadata": {},
     "output_type": "display_data"
    },
    {
     "data": {
      "text/plain": [
       "3-element Vector{Float64}:\n",
       " 0.6154122094026342\n",
       " 0.7882054380161104\n",
       " 7.431581570546978e-16"
      ]
     },
     "metadata": {},
     "output_type": "display_data"
    },
    {
     "data": {
      "text/plain": [
       "3-element Vector{Float64}:\n",
       " 0.6154122094026355\n",
       " 0.7882054380161094\n",
       " 7.505338278020336e-16"
      ]
     },
     "metadata": {},
     "output_type": "display_data"
    },
    {
     "data": {
      "text/plain": [
       "3-element Vector{Float64}:\n",
       " -0.6154122094026342\n",
       " -0.7882054380161104\n",
       " -7.000670603361923e-16"
      ]
     },
     "metadata": {},
     "output_type": "display_data"
    },
    {
     "data": {
      "text/plain": [
       "3-element Vector{Float64}:\n",
       " -0.6154122094026359\n",
       " -0.788205438016109\n",
       " -9.050405016904651e-16"
      ]
     },
     "metadata": {},
     "output_type": "display_data"
    },
    {
     "data": {
      "text/plain": [
       "3-element Vector{Float64}:\n",
       " -0.6154122094026394\n",
       " -0.7882054380161063\n",
       "  4.9866516157903365e-15"
      ]
     },
     "metadata": {},
     "output_type": "display_data"
    },
    {
     "data": {
      "text/plain": [
       "3-element Vector{Float64}:\n",
       " -0.6154122094026339\n",
       " -0.7882054380161106\n",
       " -8.880111544357893e-15"
      ]
     },
     "metadata": {},
     "output_type": "display_data"
    },
    {
     "data": {
      "text/plain": [
       "3-element Vector{Float64}:\n",
       " -0.6154122094026369\n",
       " -0.7882054380161083\n",
       "  5.634180994333316e-15"
      ]
     },
     "metadata": {},
     "output_type": "display_data"
    },
    {
     "data": {
      "text/plain": [
       "3-element Vector{Float64}:\n",
       " -0.6154122094026351\n",
       " -0.7882054380161095\n",
       "  3.8934599285674885e-15"
      ]
     },
     "metadata": {},
     "output_type": "display_data"
    },
    {
     "data": {
      "text/plain": [
       "3-element Vector{Float64}:\n",
       " 0.6154122094026336\n",
       " 0.7882054380161109\n",
       " 0.0"
      ]
     },
     "metadata": {},
     "output_type": "display_data"
    },
    {
     "data": {
      "text/plain": [
       "3-element Vector{Float64}:\n",
       " -0.6154122094026323\n",
       " -0.7882054380161119\n",
       "  5.600536482689544e-15"
      ]
     },
     "metadata": {},
     "output_type": "display_data"
    },
    {
     "data": {
      "text/plain": [
       "3-element Vector{Float64}:\n",
       " -0.6154122094026389\n",
       " -0.7882054380161067\n",
       "  3.859815416923595e-15"
      ]
     },
     "metadata": {},
     "output_type": "display_data"
    },
    {
     "data": {
      "text/plain": [
       "3-element Vector{Float64}:\n",
       " 0.6154122094026342\n",
       " 0.7882054380161104\n",
       " 0.0"
      ]
     },
     "metadata": {},
     "output_type": "display_data"
    },
    {
     "data": {
      "text/plain": [
       "3-element Vector{Float64}:\n",
       "  0.6154122094026354\n",
       "  0.7882054380161094\n",
       " -1.5704275932191307e-15"
      ]
     },
     "metadata": {},
     "output_type": "display_data"
    },
    {
     "data": {
      "text/plain": [
       "3-element Vector{Float64}:\n",
       " -0.6154122094026372\n",
       " -0.7882054380161081\n",
       " -9.181749221387344e-16"
      ]
     },
     "metadata": {},
     "output_type": "display_data"
    },
    {
     "data": {
      "text/plain": [
       "3-element Vector{Float64}:\n",
       " -0.6154122094026357\n",
       " -0.7882054380161091\n",
       "  3.893459928567545e-15"
      ]
     },
     "metadata": {},
     "output_type": "display_data"
    },
    {
     "data": {
      "text/plain": [
       "3-element Vector{Float64}:\n",
       " -0.615412209402634\n",
       " -0.7882054380161106\n",
       " -3.313219573312231e-15"
      ]
     },
     "metadata": {},
     "output_type": "display_data"
    },
    {
     "data": {
      "text/plain": [
       "3-element Vector{Float64}:\n",
       " -0.6154122094026374\n",
       " -0.7882054380161079\n",
       "  2.5064602283434687e-15"
      ]
     },
     "metadata": {},
     "output_type": "display_data"
    },
    {
     "data": {
      "text/plain": [
       "3-element Vector{Float64}:\n",
       " -0.6154122094026339\n",
       " -0.7882054380161106\n",
       "  5.7718654123999425e-15"
      ]
     },
     "metadata": {},
     "output_type": "display_data"
    },
    {
     "data": {
      "text/plain": [
       "3-element Vector{Float64}:\n",
       " -0.6154122094026363\n",
       " -0.7882054380161087\n",
       " -1.1465378295391653e-15"
      ]
     },
     "metadata": {},
     "output_type": "display_data"
    },
    {
     "data": {
      "text/plain": [
       "3-element Vector{Float64}:\n",
       " -0.6154122094026362\n",
       " -0.7882054380161089\n",
       "  3.893459928567546e-15"
      ]
     },
     "metadata": {},
     "output_type": "display_data"
    },
    {
     "data": {
      "text/plain": [
       "3-element Vector{Float64}:\n",
       "  0.6154122094026356\n",
       "  0.7882054380161093\n",
       " -8.535382770609886e-16"
      ]
     },
     "metadata": {},
     "output_type": "display_data"
    },
    {
     "data": {
      "text/plain": [
       "3-element Vector{Float64}:\n",
       " 0.615412209402634\n",
       " 0.7882054380161105\n",
       " 0.0"
      ]
     },
     "metadata": {},
     "output_type": "display_data"
    },
    {
     "data": {
      "text/plain": [
       "3-element Vector{Float64}:\n",
       " -0.6154122094026381\n",
       " -0.7882054380161073\n",
       " -1.5260103073955862e-15"
      ]
     },
     "metadata": {},
     "output_type": "display_data"
    },
    {
     "data": {
      "text/plain": [
       "3-element Vector{Float64}:\n",
       " -0.6154122094026392\n",
       " -0.7882054380161064\n",
       "  8.213688995665549e-15"
      ]
     },
     "metadata": {},
     "output_type": "display_data"
    },
    {
     "data": {
      "text/plain": [
       "3-element Vector{Float64}:\n",
       " 0.6154122094026372\n",
       " 0.788205438016108\n",
       " 1.007009493785784e-15"
      ]
     },
     "metadata": {},
     "output_type": "display_data"
    },
    {
     "data": {
      "text/plain": [
       "3-element Vector{Float64}:\n",
       " -0.6154122094026363\n",
       " -0.7882054380161087\n",
       "  0.0"
      ]
     },
     "metadata": {},
     "output_type": "display_data"
    },
    {
     "data": {
      "text/plain": [
       "3-element Vector{Float64}:\n",
       " -0.6154122094026365\n",
       " -0.7882054380161087\n",
       " -1.4923657957517156e-15"
      ]
     },
     "metadata": {},
     "output_type": "display_data"
    },
    {
     "data": {
      "text/plain": [
       "3-element Vector{Float64}:\n",
       " 0.6154122094026367\n",
       " 0.7882054380161084\n",
       " 1.4647707657501326e-15"
      ]
     },
     "metadata": {},
     "output_type": "display_data"
    },
    {
     "data": {
      "text/plain": [
       "3-element Vector{Float64}:\n",
       " -0.6154122094026364\n",
       " -0.7882054380161087\n",
       " -4.864980993022581e-15"
      ]
     },
     "metadata": {},
     "output_type": "display_data"
    },
    {
     "data": {
      "text/plain": [
       "3-element Vector{Float64}:\n",
       "  0.6154122094026354\n",
       "  0.7882054380161094\n",
       " -3.069424334495945e-16"
      ]
     },
     "metadata": {},
     "output_type": "display_data"
    },
    {
     "data": {
      "text/plain": [
       "3-element Vector{Float64}:\n",
       "  0.6154122094026355\n",
       "  0.7882054380161093\n",
       " -5.465958436113945e-16"
      ]
     },
     "metadata": {},
     "output_type": "display_data"
    },
    {
     "data": {
      "text/plain": [
       "3-element Vector{Float64}:\n",
       " 0.6154122094026369\n",
       " 0.7882054380161083\n",
       " 0.0"
      ]
     },
     "metadata": {},
     "output_type": "display_data"
    },
    {
     "data": {
      "text/plain": [
       "3-element Vector{Float64}:\n",
       " 0.6154122094026356\n",
       " 0.7882054380161093\n",
       " 0.0"
      ]
     },
     "metadata": {},
     "output_type": "display_data"
    },
    {
     "data": {
      "text/plain": [
       "3-element Vector{Float64}:\n",
       " 0.6154122094026356\n",
       " 0.7882054380161093\n",
       " 0.0"
      ]
     },
     "metadata": {},
     "output_type": "display_data"
    },
    {
     "data": {
      "text/plain": [
       "3-element Vector{Float64}:\n",
       "  0.6154122094026357\n",
       "  0.7882054380161091\n",
       " -1.7070765541219798e-15"
      ]
     },
     "metadata": {},
     "output_type": "display_data"
    },
    {
     "data": {
      "text/plain": [
       "3-element Vector{Float64}:\n",
       "  0.6154122094026362\n",
       "  0.7882054380161089\n",
       " -2.426036784607385e-15"
      ]
     },
     "metadata": {},
     "output_type": "display_data"
    },
    {
     "data": {
      "text/plain": [
       "3-element Vector{Float64}:\n",
       " 0.6154122094026351\n",
       " 0.7882054380161096\n",
       " 0.0"
      ]
     },
     "metadata": {},
     "output_type": "display_data"
    },
    {
     "data": {
      "text/plain": [
       "3-element Vector{Float64}:\n",
       " -0.6154122094026356\n",
       " -0.7882054380161093\n",
       "  1.0931916872227982e-15"
      ]
     },
     "metadata": {},
     "output_type": "display_data"
    },
    {
     "data": {
      "text/plain": [
       "3-element Vector{Float64}:\n",
       " -0.6154122094026365\n",
       " -0.7882054380161087\n",
       " -2.493325807895184e-15"
      ]
     },
     "metadata": {},
     "output_type": "display_data"
    },
    {
     "data": {
      "text/plain": [
       "3-element Vector{Float64}:\n",
       " 0.6154122094026355\n",
       " 0.7882054380161094\n",
       " 0.0"
      ]
     },
     "metadata": {},
     "output_type": "display_data"
    },
    {
     "data": {
      "text/plain": [
       "3-element Vector{Float64}:\n",
       " 0.6154122094026372\n",
       " 0.788205438016108\n",
       " 2.186383374445572e-15"
      ]
     },
     "metadata": {},
     "output_type": "display_data"
    },
    {
     "data": {
      "text/plain": [
       "3-element Vector{Float64}:\n",
       " -0.615412209402635\n",
       " -0.7882054380161096\n",
       "  2.4933258078951663e-15"
      ]
     },
     "metadata": {},
     "output_type": "display_data"
    },
    {
     "data": {
      "text/plain": [
       "3-element Vector{Float64}:\n",
       " -0.6154122094026356\n",
       " -0.7882054380161093\n",
       " -1.7070765541219773e-15"
      ]
     },
     "metadata": {},
     "output_type": "display_data"
    },
    {
     "data": {
      "text/plain": [
       "3-element Vector{Float64}:\n",
       " 0.6154122094026356\n",
       " 0.7882054380161093\n",
       " 0.0"
      ]
     },
     "metadata": {},
     "output_type": "display_data"
    },
    {
     "data": {
      "text/plain": [
       "3-element Vector{Float64}:\n",
       " -0.6154122094026355\n",
       " -0.7882054380161094\n",
       "  2.1170234368305273e-15"
      ]
     },
     "metadata": {},
     "output_type": "display_data"
    },
    {
     "data": {
      "text/plain": [
       "3-element Vector{Float64}:\n",
       "  0.6154122094026357\n",
       "  0.7882054380161091\n",
       " -2.5064602283434486e-15"
      ]
     },
     "metadata": {},
     "output_type": "display_data"
    },
    {
     "data": {
      "text/plain": [
       "3-element Vector{Float64}:\n",
       " -0.6154122094026354\n",
       " -0.7882054380161095\n",
       " -4.573016897708119e-15"
      ]
     },
     "metadata": {},
     "output_type": "display_data"
    },
    {
     "data": {
      "text/plain": [
       "3-element Vector{Float64}:\n",
       "  0.6154122094026374\n",
       "  0.7882054380161078\n",
       " -5.465958436113922e-16"
      ]
     },
     "metadata": {},
     "output_type": "display_data"
    },
    {
     "data": {
      "text/plain": [
       "3-element Vector{Float64}:\n",
       " -0.6154122094026362\n",
       " -0.7882054380161088\n",
       "  2.39674320288967e-15"
      ]
     },
     "metadata": {},
     "output_type": "display_data"
    },
    {
     "data": {
      "text/plain": [
       "3-element Vector{Float64}:\n",
       " 0.6154122094026351\n",
       " 0.7882054380161096\n",
       " 0.0"
      ]
     },
     "metadata": {},
     "output_type": "display_data"
    },
    {
     "data": {
      "text/plain": [
       "3-element Vector{Float64}:\n",
       " 0.6154122094026369\n",
       " 0.7882054380161082\n",
       " 1.5704275932191254e-15"
      ]
     },
     "metadata": {},
     "output_type": "display_data"
    },
    {
     "data": {
      "text/plain": [
       "3-element Vector{Float64}:\n",
       " -0.6154122094026359\n",
       " -0.788205438016109\n",
       "  1.9803744759276695e-15"
      ]
     },
     "metadata": {},
     "output_type": "display_data"
    },
    {
     "data": {
      "text/plain": [
       "3-element Vector{Float64}:\n",
       " -0.6154122094026355\n",
       " -0.7882054380161093\n",
       "  4.609313787562076e-16"
      ]
     },
     "metadata": {},
     "output_type": "display_data"
    },
    {
     "data": {
      "text/plain": [
       "3-element Vector{Float64}:\n",
       "  0.6154122094026354\n",
       "  0.7882054380161093\n",
       " -1.7596142359150842e-15"
      ]
     },
     "metadata": {},
     "output_type": "display_data"
    },
    {
     "data": {
      "text/plain": [
       "3-element Vector{Float64}:\n",
       " 0.6154122094026356\n",
       " 0.7882054380161092\n",
       " 0.0"
      ]
     },
     "metadata": {},
     "output_type": "display_data"
    },
    {
     "data": {
      "text/plain": [
       "3-element Vector{Float64}:\n",
       " -0.6154122094026355\n",
       " -0.7882054380161093\n",
       " -9.134516296014395e-16"
      ]
     },
     "metadata": {},
     "output_type": "display_data"
    },
    {
     "data": {
      "text/plain": [
       "3-element Vector{Float64}:\n",
       " -0.6154122094026364\n",
       " -0.7882054380161088\n",
       " -1.0332783346823366e-15"
      ]
     },
     "metadata": {},
     "output_type": "display_data"
    },
    {
     "data": {
      "text/plain": [
       "3-element Vector{Float64}:\n",
       " 0.615412209402636\n",
       " 0.788205438016109\n",
       " 1.534712167247971e-16"
      ]
     },
     "metadata": {},
     "output_type": "display_data"
    },
    {
     "data": {
      "text/plain": [
       "3-element Vector{Float64}:\n",
       " -0.6154122094026361\n",
       " -0.7882054380161089\n",
       " -3.8934599285675556e-15"
      ]
     },
     "metadata": {},
     "output_type": "display_data"
    },
    {
     "data": {
      "text/plain": [
       "3-element Vector{Float64}:\n",
       " 0.6154122094026346\n",
       " 0.78820543801611\n",
       " 0.0"
      ]
     },
     "metadata": {},
     "output_type": "display_data"
    },
    {
     "data": {
      "text/plain": [
       "3-element Vector{Float64}:\n",
       "  0.6154122094026349\n",
       "  0.7882054380161099\n",
       " -1.7070765541219784e-15"
      ]
     },
     "metadata": {},
     "output_type": "display_data"
    },
    {
     "data": {
      "text/plain": [
       "3-element Vector{Float64}:\n",
       "  0.6154122094026356\n",
       "  0.7882054380161093\n",
       " -3.0694243344958724e-16"
      ]
     },
     "metadata": {},
     "output_type": "display_data"
    },
    {
     "data": {
      "text/plain": [
       "3-element Vector{Float64}:\n",
       " -0.6154122094026352\n",
       " -0.7882054380161096\n",
       "  3.8934599285675706e-15"
      ]
     },
     "metadata": {},
     "output_type": "display_data"
    },
    {
     "data": {
      "text/plain": [
       "3-element Vector{Float64}:\n",
       " 0.6154122094026345\n",
       " 0.7882054380161101\n",
       " 0.0"
      ]
     },
     "metadata": {},
     "output_type": "display_data"
    },
    {
     "data": {
      "text/plain": [
       "3-element Vector{Float64}:\n",
       " 0.6154122094026353\n",
       " 0.7882054380161095\n",
       " 2.3965341016180246e-16"
      ]
     },
     "metadata": {},
     "output_type": "display_data"
    },
    {
     "data": {
      "text/plain": [
       "3-element Vector{Float64}:\n",
       " -0.6154122094026354\n",
       " -0.7882054380161093\n",
       " -2.910648361351009e-15"
      ]
     },
     "metadata": {},
     "output_type": "display_data"
    },
    {
     "data": {
      "text/plain": [
       "3-element Vector{Float64}:\n",
       " -0.6154122094026351\n",
       " -0.7882054380161096\n",
       "  5.465958436113963e-16"
      ]
     },
     "metadata": {},
     "output_type": "display_data"
    },
    {
     "data": {
      "text/plain": [
       "3-element Vector{Float64}:\n",
       " -0.6154122094026353\n",
       " -0.7882054380161095\n",
       "  2.890801364707945e-15"
      ]
     },
     "metadata": {},
     "output_type": "display_data"
    },
    {
     "data": {
      "text/plain": [
       "3-element Vector{Float64}:\n",
       " 0.6154122094026351\n",
       " 0.7882054380161098\n",
       " 0.0"
      ]
     },
     "metadata": {},
     "output_type": "display_data"
    },
    {
     "data": {
      "text/plain": [
       "3-element Vector{Float64}:\n",
       "  0.6154122094026346\n",
       "  0.78820543801611\n",
       " -1.7070765541219737e-15"
      ]
     },
     "metadata": {},
     "output_type": "display_data"
    },
    {
     "data": {
      "text/plain": [
       "3-element Vector{Float64}:\n",
       " 0.6154122094026356\n",
       " 0.7882054380161093\n",
       " 0.0"
      ]
     },
     "metadata": {},
     "output_type": "display_data"
    },
    {
     "data": {
      "text/plain": [
       "3-element Vector{Float64}:\n",
       " -0.615412209402635\n",
       " -0.7882054380161098\n",
       "  1.843725515024833e-15"
      ]
     },
     "metadata": {},
     "output_type": "display_data"
    },
    {
     "data": {
      "text/plain": [
       "3-element Vector{Float64}:\n",
       "  0.6154122094026355\n",
       "  0.7882054380161094\n",
       " -1.8663065205477057e-15"
      ]
     },
     "metadata": {},
     "output_type": "display_data"
    },
    {
     "data": {
      "text/plain": [
       "3-element Vector{Float64}:\n",
       " -0.6154122094026352\n",
       " -0.7882054380161096\n",
       " -4.700219273536403e-15"
      ]
     },
     "metadata": {},
     "output_type": "display_data"
    },
    {
     "data": {
      "text/plain": [
       "3-element Vector{Float64}:\n",
       " -0.6154122094026363\n",
       " -0.7882054380161087\n",
       "  5.465958436113939e-16"
      ]
     },
     "metadata": {},
     "output_type": "display_data"
    },
    {
     "data": {
      "text/plain": [
       "3-element Vector{Float64}:\n",
       " -0.6154122094026353\n",
       " -0.7882054380161094\n",
       "  0.0"
      ]
     },
     "metadata": {},
     "output_type": "display_data"
    },
    {
     "data": {
      "text/plain": [
       "3-element Vector{Float64}:\n",
       " 0.6154122094026345\n",
       " 0.7882054380161101\n",
       " 0.0"
      ]
     },
     "metadata": {},
     "output_type": "display_data"
    },
    {
     "data": {
      "text/plain": [
       "3-element Vector{Float64}:\n",
       " 0.6154122094026364\n",
       " 0.7882054380161085\n",
       " 0.0"
      ]
     },
     "metadata": {},
     "output_type": "display_data"
    },
    {
     "data": {
      "text/plain": [
       "3-element Vector{Float64}:\n",
       " -0.6154122094026356\n",
       " -0.7882054380161091\n",
       " -7.599804128766431e-16"
      ]
     },
     "metadata": {},
     "output_type": "display_data"
    },
    {
     "data": {
      "text/plain": [
       "3-element Vector{Float64}:\n",
       " -0.6154122094026357\n",
       " -0.7882054380161091\n",
       "  1.4001341206723834e-15"
      ]
     },
     "metadata": {},
     "output_type": "display_data"
    },
    {
     "data": {
      "text/plain": [
       "3-element Vector{Float64}:\n",
       " -0.6154122094026354\n",
       " -0.7882054380161093\n",
       " -3.0123266215049892e-15"
      ]
     },
     "metadata": {},
     "output_type": "display_data"
    },
    {
     "data": {
      "text/plain": [
       "3-element Vector{Float64}:\n",
       " 0.6154122094026353\n",
       " 0.7882054380161095\n",
       " 0.0"
      ]
     },
     "metadata": {},
     "output_type": "display_data"
    },
    {
     "data": {
      "text/plain": [
       "3-element Vector{Float64}:\n",
       " -0.615412209402636\n",
       " -0.788205438016109\n",
       " -1.6734320424780861e-15"
      ]
     },
     "metadata": {},
     "output_type": "display_data"
    },
    {
     "data": {
      "text/plain": [
       "3-element Vector{Float64}:\n",
       " -0.615412209402635\n",
       " -0.7882054380161098\n",
       "  0.0"
      ]
     },
     "metadata": {},
     "output_type": "display_data"
    },
    {
     "data": {
      "text/plain": [
       "3-element Vector{Float64}:\n",
       " -0.6154122094026357\n",
       " -0.7882054380161091\n",
       " -4.866824910709448e-16"
      ]
     },
     "metadata": {},
     "output_type": "display_data"
    },
    {
     "data": {
      "text/plain": [
       "3-element Vector{Float64}:\n",
       " -0.6154122094026347\n",
       " -0.7882054380161099\n",
       "  3.893459928567588e-15"
      ]
     },
     "metadata": {},
     "output_type": "display_data"
    },
    {
     "data": {
      "text/plain": [
       "3-element Vector{Float64}:\n",
       " 0.6154122094026353\n",
       " 0.7882054380161095\n",
       " 0.0"
      ]
     },
     "metadata": {},
     "output_type": "display_data"
    },
    {
     "data": {
      "text/plain": [
       "3-element Vector{Float64}:\n",
       " 0.6154122094026359\n",
       " 0.7882054380161091\n",
       " 1.0931916872227894e-15"
      ]
     },
     "metadata": {},
     "output_type": "display_data"
    },
    {
     "data": {
      "text/plain": [
       "3-element Vector{Float64}:\n",
       " -0.6154122094026336\n",
       " -0.7882054380161109\n",
       " -4.003840048573842e-15"
      ]
     },
     "metadata": {},
     "output_type": "display_data"
    },
    {
     "data": {
      "text/plain": [
       "3-element Vector{Float64}:\n",
       " 0.615412209402637\n",
       " 0.7882054380161081\n",
       " 0.0"
      ]
     },
     "metadata": {},
     "output_type": "display_data"
    },
    {
     "data": {
      "text/plain": [
       "3-element Vector{Float64}:\n",
       " 0.6154122094026371\n",
       " 0.7882054380161081\n",
       " 0.0"
      ]
     },
     "metadata": {},
     "output_type": "display_data"
    },
    {
     "data": {
      "text/plain": [
       "3-element Vector{Float64}:\n",
       " 0.6154122094026371\n",
       " 0.7882054380161081\n",
       " 0.0"
      ]
     },
     "metadata": {},
     "output_type": "display_data"
    },
    {
     "data": {
      "text/plain": [
       "3-element Vector{Float64}:\n",
       " -0.6154122094026374\n",
       " -0.7882054380161078\n",
       " -1.7070765541219587e-15"
      ]
     },
     "metadata": {},
     "output_type": "display_data"
    },
    {
     "data": {
      "text/plain": [
       "3-element Vector{Float64}:\n",
       "  0.615412209402636\n",
       "  0.788205438016109\n",
       " -5.465958436113952e-16"
      ]
     },
     "metadata": {},
     "output_type": "display_data"
    },
    {
     "data": {
      "text/plain": [
       "3-element Vector{Float64}:\n",
       " 0.6154122094026335\n",
       " 0.788205438016111\n",
       " 3.759300084535456e-16"
      ]
     },
     "metadata": {},
     "output_type": "display_data"
    },
    {
     "data": {
      "text/plain": [
       "3-element Vector{Float64}:\n",
       " -0.6154122094026362\n",
       " -0.7882054380161088\n",
       "  2.8002682413447802e-15"
      ]
     },
     "metadata": {},
     "output_type": "display_data"
    },
    {
     "data": {
      "text/plain": [
       "3-element Vector{Float64}:\n",
       " 0.6154122094026353\n",
       " 0.7882054380161095\n",
       " 0.0"
      ]
     },
     "metadata": {},
     "output_type": "display_data"
    },
    {
     "data": {
      "text/plain": [
       "3-element Vector{Float64}:\n",
       " 0.6154122094026356\n",
       " 0.7882054380161093\n",
       " 0.0"
      ]
     },
     "metadata": {},
     "output_type": "display_data"
    },
    {
     "data": {
      "text/plain": [
       "3-element Vector{Float64}:\n",
       " -0.6154122094026352\n",
       " -0.7882054380161095\n",
       " -1.8437255150248256e-15"
      ]
     },
     "metadata": {},
     "output_type": "display_data"
    },
    {
     "data": {
      "text/plain": [
       "3-element Vector{Float64}:\n",
       " 0.615412209402635\n",
       " 0.7882054380161098\n",
       " 0.0"
      ]
     },
     "metadata": {},
     "output_type": "display_data"
    },
    {
     "data": {
      "text/plain": [
       "3-element Vector{Float64}:\n",
       " -0.6154122094026355\n",
       " -0.7882054380161093\n",
       "  0.0"
      ]
     },
     "metadata": {},
     "output_type": "display_data"
    },
    {
     "data": {
      "text/plain": [
       "3-element Vector{Float64}:\n",
       " 0.6154122094026326\n",
       " 0.7882054380161115\n",
       " 0.0"
      ]
     },
     "metadata": {},
     "output_type": "display_data"
    },
    {
     "data": {
      "text/plain": [
       "3-element Vector{Float64}:\n",
       " -0.6154122094026367\n",
       " -0.7882054380161084\n",
       " -1.2803074155914648e-15"
      ]
     },
     "metadata": {},
     "output_type": "display_data"
    },
    {
     "data": {
      "text/plain": [
       "3-element Vector{Float64}:\n",
       " 0.6154122094026374\n",
       " 0.7882054380161079\n",
       " 2.186383374445568e-15"
      ]
     },
     "metadata": {},
     "output_type": "display_data"
    },
    {
     "data": {
      "text/plain": [
       "3-element Vector{Float64}:\n",
       " 0.6154122094026342\n",
       " 0.7882054380161103\n",
       " 4.4359139435241493e-16"
      ]
     },
     "metadata": {},
     "output_type": "display_data"
    },
    {
     "data": {
      "text/plain": [
       "3-element Vector{Float64}:\n",
       " 0.6154122094026357\n",
       " 0.7882054380161091\n",
       " 0.0"
      ]
     },
     "metadata": {},
     "output_type": "display_data"
    },
    {
     "data": {
      "text/plain": [
       "3-element Vector{Float64}:\n",
       " -0.615412209402636\n",
       " -0.788205438016109\n",
       "  3.4835130458590134e-15"
      ]
     },
     "metadata": {},
     "output_type": "display_data"
    },
    {
     "data": {
      "text/plain": [
       "3-element Vector{Float64}:\n",
       " 0.6154122094026359\n",
       " 0.788205438016109\n",
       " 4.897072318921108e-16"
      ]
     },
     "metadata": {},
     "output_type": "display_data"
    },
    {
     "data": {
      "text/plain": [
       "3-element Vector{Float64}:\n",
       " 0.6154122094026355\n",
       " 0.7882054380161093\n",
       " 2.1863833744455696e-15"
      ]
     },
     "metadata": {},
     "output_type": "display_data"
    },
    {
     "data": {
      "text/plain": [
       "3-element Vector{Float64}:\n",
       " -0.6154122094026361\n",
       " -0.7882054380161091\n",
       " -5.677272091051926e-15"
      ]
     },
     "metadata": {},
     "output_type": "display_data"
    },
    {
     "data": {
      "text/plain": [
       "3-element Vector{Float64}:\n",
       "  0.615412209402634\n",
       "  0.7882054380161106\n",
       " -1.7070765541219792e-15"
      ]
     },
     "metadata": {},
     "output_type": "display_data"
    },
    {
     "data": {
      "text/plain": [
       "3-element Vector{Float64}:\n",
       " -0.6154122094026361\n",
       " -0.7882054380161089\n",
       " -1.1951606793181113e-15"
      ]
     },
     "metadata": {},
     "output_type": "display_data"
    },
    {
     "data": {
      "text/plain": [
       "3-element Vector{Float64}:\n",
       " 0.6154122094026363\n",
       " 0.7882054380161087\n",
       " 0.0"
      ]
     },
     "metadata": {},
     "output_type": "display_data"
    },
    {
     "data": {
      "text/plain": [
       "3-element Vector{Float64}:\n",
       " 0.6154122094026372\n",
       " 0.788205438016108\n",
       " 0.0"
      ]
     },
     "metadata": {},
     "output_type": "display_data"
    },
    {
     "data": {
      "text/plain": [
       "3-element Vector{Float64}:\n",
       " -0.6154122094026364\n",
       " -0.7882054380161087\n",
       "  3.893459928567573e-15"
      ]
     },
     "metadata": {},
     "output_type": "display_data"
    },
    {
     "data": {
      "text/plain": [
       "3-element Vector{Float64}:\n",
       "  0.6154122094026379\n",
       "  0.7882054380161075\n",
       " -2.396534101617957e-16"
      ]
     },
     "metadata": {},
     "output_type": "display_data"
    },
    {
     "data": {
      "text/plain": [
       "3-element Vector{Float64}:\n",
       " -0.6154122094026362\n",
       " -0.7882054380161089\n",
       "  4.986651615790282e-15"
      ]
     },
     "metadata": {},
     "output_type": "display_data"
    },
    {
     "data": {
      "text/plain": [
       "3-element Vector{Float64}:\n",
       "  0.6154122094026366\n",
       "  0.7882054380161084\n",
       " -2.396534101617933e-16"
      ]
     },
     "metadata": {},
     "output_type": "display_data"
    },
    {
     "data": {
      "text/plain": [
       "3-element Vector{Float64}:\n",
       " -0.6154122094026381\n",
       " -0.7882054380161074\n",
       " -2.493325807895197e-15"
      ]
     },
     "metadata": {},
     "output_type": "display_data"
    },
    {
     "data": {
      "text/plain": [
       "3-element Vector{Float64}:\n",
       " -0.615412209402636\n",
       " -0.7882054380161089\n",
       "  2.4933258078951513e-15"
      ]
     },
     "metadata": {},
     "output_type": "display_data"
    },
    {
     "data": {
      "text/plain": [
       "3-element Vector{Float64}:\n",
       " 0.6154122094026356\n",
       " 0.7882054380161093\n",
       " 0.0"
      ]
     },
     "metadata": {},
     "output_type": "display_data"
    },
    {
     "data": {
      "text/plain": [
       "3-element Vector{Float64}:\n",
       " 0.6154122094026359\n",
       " 0.7882054380161091\n",
       " 0.0"
      ]
     },
     "metadata": {},
     "output_type": "display_data"
    },
    {
     "data": {
      "text/plain": [
       "3-element Vector{Float64}:\n",
       " -0.6154122094026345\n",
       " -0.78820543801611\n",
       " -1.4001341206723797e-15"
      ]
     },
     "metadata": {},
     "output_type": "display_data"
    },
    {
     "data": {
      "text/plain": [
       "3-element Vector{Float64}:\n",
       "  0.6154122094026375\n",
       "  0.7882054380161078\n",
       " -2.1863833744455744e-15"
      ]
     },
     "metadata": {},
     "output_type": "display_data"
    },
    {
     "data": {
      "text/plain": [
       "3-element Vector{Float64}:\n",
       " -0.6154122094026356\n",
       " -0.7882054380161092\n",
       "  2.4933258078951753e-15"
      ]
     },
     "metadata": {},
     "output_type": "display_data"
    },
    {
     "data": {
      "text/plain": [
       "3-element Vector{Float64}:\n",
       " 0.6154122094026356\n",
       " 0.7882054380161093\n",
       " 4.0994688270854613e-16"
      ]
     },
     "metadata": {},
     "output_type": "display_data"
    },
    {
     "data": {
      "text/plain": [
       "3-element Vector{Float64}:\n",
       " -0.6154122094026365\n",
       " -0.7882054380161087\n",
       " -4.5730168977081414e-15"
      ]
     },
     "metadata": {},
     "output_type": "display_data"
    },
    {
     "data": {
      "text/plain": [
       "3-element Vector{Float64}:\n",
       " 0.6154122094026354\n",
       " 0.7882054380161095\n",
       " 7.862492537731954e-16"
      ]
     },
     "metadata": {},
     "output_type": "display_data"
    },
    {
     "data": {
      "text/plain": [
       "3-element Vector{Float64}:\n",
       " -0.6154122094026363\n",
       " -0.7882054380161088\n",
       "  1.4001341206723818e-15"
      ]
     },
     "metadata": {},
     "output_type": "display_data"
    },
    {
     "data": {
      "text/plain": [
       "3-element Vector{Float64}:\n",
       " 0.6154122094026369\n",
       " 0.7882054380161083\n",
       " 8.043976987001656e-16"
      ]
     },
     "metadata": {},
     "output_type": "display_data"
    },
    {
     "data": {
      "text/plain": [
       "3-element Vector{Float64}:\n",
       " 0.6154122094026364\n",
       " 0.7882054380161087\n",
       " 6.431784486169082e-16"
      ]
     },
     "metadata": {},
     "output_type": "display_data"
    },
    {
     "data": {
      "text/plain": [
       "3-element Vector{Float64}:\n",
       " 0.6154122094026367\n",
       " 0.7882054380161084\n",
       " 1.9130854526398494e-15"
      ]
     },
     "metadata": {},
     "output_type": "display_data"
    },
    {
     "data": {
      "text/plain": [
       "3-element Vector{Float64}:\n",
       " 0.6154122094026356\n",
       " 0.7882054380161092\n",
       " 0.0"
      ]
     },
     "metadata": {},
     "output_type": "display_data"
    },
    {
     "data": {
      "text/plain": [
       "3-element Vector{Float64}:\n",
       " 0.6154122094026356\n",
       " 0.7882054380161093\n",
       " 0.0"
      ]
     },
     "metadata": {},
     "output_type": "display_data"
    },
    {
     "data": {
      "text/plain": [
       "3-element Vector{Float64}:\n",
       " -0.6154122094026354\n",
       " -0.7882054380161094\n",
       "  1.0884683946854837e-15"
      ]
     },
     "metadata": {},
     "output_type": "display_data"
    },
    {
     "data": {
      "text/plain": [
       "3-element Vector{Float64}:\n",
       " -0.6154122094026354\n",
       " -0.7882054380161095\n",
       " -4.2676913853049436e-16"
      ]
     },
     "metadata": {},
     "output_type": "display_data"
    },
    {
     "data": {
      "text/plain": [
       "3-element Vector{Float64}:\n",
       " -0.6154122094026356\n",
       " -0.7882054380161092\n",
       " -1.4600474732128348e-15"
      ]
     },
     "metadata": {},
     "output_type": "display_data"
    },
    {
     "data": {
      "text/plain": [
       "3-element Vector{Float64}:\n",
       " 0.6154122094026354\n",
       " 0.7882054380161093\n",
       " 0.0"
      ]
     },
     "metadata": {},
     "output_type": "display_data"
    },
    {
     "data": {
      "text/plain": [
       "3-element Vector{Float64}:\n",
       " -0.6154122094026354\n",
       " -0.7882054380161094\n",
       "  5.634180994333436e-16"
      ]
     },
     "metadata": {},
     "output_type": "display_data"
    },
    {
     "data": {
      "text/plain": [
       "3-element Vector{Float64}:\n",
       " -0.6154122094026333\n",
       " -0.7882054380161111\n",
       "  4.9866516157903365e-15"
      ]
     },
     "metadata": {},
     "output_type": "display_data"
    },
    {
     "data": {
      "text/plain": [
       "3-element Vector{Float64}:\n",
       " -0.6154122094026364\n",
       " -0.7882054380161088\n",
       "  6.079843303013145e-15"
      ]
     },
     "metadata": {},
     "output_type": "display_data"
    },
    {
     "data": {
      "text/plain": [
       "3-element Vector{Float64}:\n",
       "  0.6154122094026363\n",
       "  0.7882054380161088\n",
       " -3.0694243344959636e-16"
      ]
     },
     "metadata": {},
     "output_type": "display_data"
    },
    {
     "data": {
      "text/plain": [
       "3-element Vector{Float64}:\n",
       " -0.6154122094026333\n",
       " -0.7882054380161111\n",
       "  2.4933258078951674e-15"
      ]
     },
     "metadata": {},
     "output_type": "display_data"
    },
    {
     "data": {
      "text/plain": [
       "3-element Vector{Float64}:\n",
       " -0.6154122094026364\n",
       " -0.7882054380161085\n",
       "  2.1863833744455803e-15"
      ]
     },
     "metadata": {},
     "output_type": "display_data"
    },
    {
     "data": {
      "text/plain": [
       "3-element Vector{Float64}:\n",
       " -0.615412209402636\n",
       " -0.788205438016109\n",
       "  3.893459928567588e-15"
      ]
     },
     "metadata": {},
     "output_type": "display_data"
    },
    {
     "data": {
      "text/plain": [
       "3-element Vector{Float64}:\n",
       " -0.6154122094026365\n",
       " -0.7882054380161085\n",
       " -6.4971658564690615e-15"
      ]
     },
     "metadata": {},
     "output_type": "display_data"
    },
    {
     "data": {
      "text/plain": [
       "3-element Vector{Float64}:\n",
       " 0.6154122094026371\n",
       " 0.7882054380161081\n",
       " 3.9312462688656803e-16"
      ]
     },
     "metadata": {},
     "output_type": "display_data"
    },
    {
     "data": {
      "text/plain": [
       "3-element Vector{Float64}:\n",
       " -0.615412209402634\n",
       " -0.7882054380161105\n",
       "  1.4001341206723858e-15"
      ]
     },
     "metadata": {},
     "output_type": "display_data"
    },
    {
     "data": {
      "text/plain": [
       "3-element Vector{Float64}:\n",
       " 0.6154122094026351\n",
       " 0.7882054380161096\n",
       " 0.0"
      ]
     },
     "metadata": {},
     "output_type": "display_data"
    },
    {
     "data": {
      "text/plain": [
       "3-element Vector{Float64}:\n",
       " -0.6154122094026352\n",
       " -0.7882054380161095\n",
       "  2.1863833744455677e-15"
      ]
     },
     "metadata": {},
     "output_type": "display_data"
    },
    {
     "data": {
      "text/plain": [
       "3-element Vector{Float64}:\n",
       " -0.6154122094026357\n",
       " -0.7882054380161091\n",
       "  2.344205521096564e-15"
      ]
     },
     "metadata": {},
     "output_type": "display_data"
    },
    {
     "data": {
      "text/plain": [
       "3-element Vector{Float64}:\n",
       " 0.6154122094026359\n",
       " 0.7882054380161091\n",
       " 0.0"
      ]
     },
     "metadata": {},
     "output_type": "display_data"
    },
    {
     "data": {
      "text/plain": [
       "3-element Vector{Float64}:\n",
       " -0.6154122094026346\n",
       " -0.78820543801611\n",
       " -2.7666237297008688e-15"
      ]
     },
     "metadata": {},
     "output_type": "display_data"
    },
    {
     "data": {
      "text/plain": [
       "3-element Vector{Float64}:\n",
       " 0.6154122094026357\n",
       " 0.7882054380161092\n",
       " 1.1137017784184297e-15"
      ]
     },
     "metadata": {},
     "output_type": "display_data"
    },
    {
     "data": {
      "text/plain": [
       "3-element Vector{Float64}:\n",
       " -0.615412209402636\n",
       " -0.7882054380161089\n",
       " -8.679861395540893e-15"
      ]
     },
     "metadata": {},
     "output_type": "display_data"
    },
    {
     "data": {
      "text/plain": [
       "3-element Vector{Float64}:\n",
       " 0.6154122094026357\n",
       " 0.7882054380161092\n",
       " 1.0931916872227884e-15"
      ]
     },
     "metadata": {},
     "output_type": "display_data"
    },
    {
     "data": {
      "text/plain": [
       "3-element Vector{Float64}:\n",
       " -0.6154122094026355\n",
       " -0.7882054380161093\n",
       " -2.0605071877223493e-15"
      ]
     },
     "metadata": {},
     "output_type": "display_data"
    },
    {
     "data": {
      "text/plain": [
       "3-element Vector{Float64}:\n",
       " -0.6154122094026371\n",
       " -0.7882054380161081\n",
       "  2.424338232891235e-15"
      ]
     },
     "metadata": {},
     "output_type": "display_data"
    },
    {
     "data": {
      "text/plain": [
       "3-element Vector{Float64}:\n",
       " -0.6154122094026373\n",
       " -0.788205438016108\n",
       " -3.3132195733122833e-15"
      ]
     },
     "metadata": {},
     "output_type": "display_data"
    },
    {
     "data": {
      "text/plain": [
       "3-element Vector{Float64}:\n",
       " 0.6154122094026341\n",
       " 0.7882054380161104\n",
       " 0.0"
      ]
     },
     "metadata": {},
     "output_type": "display_data"
    },
    {
     "data": {
      "text/plain": [
       "3-element Vector{Float64}:\n",
       " -0.6154122094026357\n",
       " -0.7882054380161091\n",
       "  2.8002682413447688e-15"
      ]
     },
     "metadata": {},
     "output_type": "display_data"
    },
    {
     "data": {
      "text/plain": [
       "3-element Vector{Float64}:\n",
       " -0.6154122094026347\n",
       " -0.7882054380161099\n",
       " -2.732979218056971e-15"
      ]
     },
     "metadata": {},
     "output_type": "display_data"
    },
    {
     "data": {
      "text/plain": [
       "3-element Vector{Float64}:\n",
       " -0.6154122094026369\n",
       " -0.7882054380161082\n",
       " -3.012326621505001e-15"
      ]
     },
     "metadata": {},
     "output_type": "display_data"
    },
    {
     "data": {
      "text/plain": [
       "3-element Vector{Float64}:\n",
       " -0.6154122094026354\n",
       " -0.7882054380161095\n",
       " -1.4731818936611193e-15"
      ]
     },
     "metadata": {},
     "output_type": "display_data"
    },
    {
     "data": {
      "text/plain": [
       "3-element Vector{Float64}:\n",
       "  0.615412209402636\n",
       "  0.7882054380161089\n",
       " -5.465958436113951e-16"
      ]
     },
     "metadata": {},
     "output_type": "display_data"
    },
    {
     "data": {
      "text/plain": [
       "3-element Vector{Float64}:\n",
       " 0.6154122094026363\n",
       " 0.7882054380161088\n",
       " 8.51467362733722e-17"
      ]
     },
     "metadata": {},
     "output_type": "display_data"
    },
    {
     "data": {
      "text/plain": [
       "3-element Vector{Float64}:\n",
       "  0.6154122094026365\n",
       "  0.7882054380161085\n",
       " -2.186383374445579e-15"
      ]
     },
     "metadata": {},
     "output_type": "display_data"
    },
    {
     "data": {
      "text/plain": [
       "3-element Vector{Float64}:\n",
       " -0.6154122094026347\n",
       " -0.7882054380161099\n",
       "  3.8934599285675595e-15"
      ]
     },
     "metadata": {},
     "output_type": "display_data"
    },
    {
     "data": {
      "text/plain": [
       "3-element Vector{Float64}:\n",
       " -0.6154122094026331\n",
       " -0.7882054380161113\n",
       " -4.790089302347129e-15"
      ]
     },
     "metadata": {},
     "output_type": "display_data"
    },
    {
     "data": {
      "text/plain": [
       "3-element Vector{Float64}:\n",
       " 0.6154122094026356\n",
       " 0.7882054380161093\n",
       " 3.931246268865726e-16"
      ]
     },
     "metadata": {},
     "output_type": "display_data"
    },
    {
     "data": {
      "text/plain": [
       "3-element Vector{Float64}:\n",
       " 0.6154122094026363\n",
       " 0.7882054380161088\n",
       " 0.0"
      ]
     },
     "metadata": {},
     "output_type": "display_data"
    },
    {
     "data": {
      "text/plain": [
       "3-element Vector{Float64}:\n",
       " 0.6154122094026381\n",
       " 0.7882054380161073\n",
       " 0.0"
      ]
     },
     "metadata": {},
     "output_type": "display_data"
    },
    {
     "data": {
      "text/plain": [
       "3-element Vector{Float64}:\n",
       "  0.615412209402638\n",
       "  0.7882054380161074\n",
       " -4.79306820323607e-16"
      ]
     },
     "metadata": {},
     "output_type": "display_data"
    },
    {
     "data": {
      "text/plain": [
       "3-element Vector{Float64}:\n",
       " -0.6154122094026331\n",
       " -0.7882054380161112\n",
       "  2.800268241344796e-15"
      ]
     },
     "metadata": {},
     "output_type": "display_data"
    },
    {
     "data": {
      "text/plain": [
       "3-element Vector{Float64}:\n",
       " -0.6154122094026361\n",
       " -0.7882054380161088\n",
       " -1.0931916872227876e-15"
      ]
     },
     "metadata": {},
     "output_type": "display_data"
    },
    {
     "data": {
      "text/plain": [
       "3-element Vector{Float64}:\n",
       " 0.6154122094026349\n",
       " 0.7882054380161099\n",
       " 0.0"
      ]
     },
     "metadata": {},
     "output_type": "display_data"
    },
    {
     "data": {
      "text/plain": [
       "3-element Vector{Float64}:\n",
       " -0.6154122094026359\n",
       " -0.7882054380161091\n",
       "  3.8934599285675856e-15"
      ]
     },
     "metadata": {},
     "output_type": "display_data"
    },
    {
     "data": {
      "text/plain": [
       "3-element Vector{Float64}:\n",
       "  0.6154122094026347\n",
       "  0.78820543801611\n",
       " -7.172616787692701e-16"
      ]
     },
     "metadata": {},
     "output_type": "display_data"
    },
    {
     "data": {
      "text/plain": [
       "3-element Vector{Float64}:\n",
       "  0.6154122094026369\n",
       "  0.7882054380161082\n",
       " -2.186383374445564e-15"
      ]
     },
     "metadata": {},
     "output_type": "display_data"
    },
    {
     "data": {
      "text/plain": [
       "3-element Vector{Float64}:\n",
       " -0.6154122094026361\n",
       " -0.7882054380161089\n",
       " -2.459681296251261e-15"
      ]
     },
     "metadata": {},
     "output_type": "display_data"
    },
    {
     "data": {
      "text/plain": [
       "3-element Vector{Float64}:\n",
       "  0.6154122094026362\n",
       "  0.7882054380161088\n",
       " -2.186383374445568e-15"
      ]
     },
     "metadata": {},
     "output_type": "display_data"
    },
    {
     "data": {
      "text/plain": [
       "3-element Vector{Float64}:\n",
       " 0.6154122094026337\n",
       " 0.7882054380161108\n",
       " 7.731148333248804e-16"
      ]
     },
     "metadata": {},
     "output_type": "display_data"
    },
    {
     "data": {
      "text/plain": [
       "3-element Vector{Float64}:\n",
       " 0.6154122094026342\n",
       " 0.7882054380161104\n",
       " 0.0"
      ]
     },
     "metadata": {},
     "output_type": "display_data"
    },
    {
     "data": {
      "text/plain": [
       "3-element Vector{Float64}:\n",
       "  0.6154122094026334\n",
       "  0.788205438016111\n",
       " -8.535382770610041e-16"
      ]
     },
     "metadata": {},
     "output_type": "display_data"
    },
    {
     "data": {
      "text/plain": [
       "3-element Vector{Float64}:\n",
       "  0.6154122094026357\n",
       "  0.7882054380161092\n",
       " -1.7596142359150872e-15"
      ]
     },
     "metadata": {},
     "output_type": "display_data"
    },
    {
     "data": {
      "text/plain": [
       "3-element Vector{Float64}:\n",
       " -0.6154122094026342\n",
       " -0.7882054380161104\n",
       " -3.2102151240533634e-15"
      ]
     },
     "metadata": {},
     "output_type": "display_data"
    },
    {
     "data": {
      "text/plain": [
       "3-element Vector{Float64}:\n",
       " 0.6154122094026343\n",
       " 0.7882054380161103\n",
       " 0.0"
      ]
     },
     "metadata": {},
     "output_type": "display_data"
    },
    {
     "data": {
      "text/plain": [
       "3-element Vector{Float64}:\n",
       " -0.6154122094026356\n",
       " -0.7882054380161093\n",
       " -2.9369172022476088e-15"
      ]
     },
     "metadata": {},
     "output_type": "display_data"
    },
    {
     "data": {
      "text/plain": [
       "3-element Vector{Float64}:\n",
       " 0.6154122094026361\n",
       " 0.788205438016109\n",
       " 1.6121925008326015e-15"
      ]
     },
     "metadata": {},
     "output_type": "display_data"
    },
    {
     "data": {
      "text/plain": [
       "3-element Vector{Float64}:\n",
       " 0.6154122094026362\n",
       " 0.7882054380161089\n",
       " 4.897072318921103e-16"
      ]
     },
     "metadata": {},
     "output_type": "display_data"
    },
    {
     "data": {
      "text/plain": [
       "3-element Vector{Float64}:\n",
       " -0.6154122094026353\n",
       " -0.7882054380161094\n",
       " -1.473181893661108e-15"
      ]
     },
     "metadata": {},
     "output_type": "display_data"
    },
    {
     "data": {
      "text/plain": [
       "3-element Vector{Float64}:\n",
       " 0.6154122094026357\n",
       " 0.7882054380161092\n",
       " 0.0"
      ]
     },
     "metadata": {},
     "output_type": "display_data"
    },
    {
     "data": {
      "text/plain": [
       "3-element Vector{Float64}:\n",
       " 0.6154122094026356\n",
       " 0.7882054380161093\n",
       " 0.0"
      ]
     },
     "metadata": {},
     "output_type": "display_data"
    },
    {
     "data": {
      "text/plain": [
       "3-element Vector{Float64}:\n",
       " 0.6154122094026342\n",
       " 0.7882054380161104\n",
       " 0.0"
      ]
     },
     "metadata": {},
     "output_type": "display_data"
    },
    {
     "data": {
      "text/plain": [
       "3-element Vector{Float64}:\n",
       " 0.6154122094026356\n",
       " 0.7882054380161093\n",
       " 0.0"
      ]
     },
     "metadata": {},
     "output_type": "display_data"
    },
    {
     "data": {
      "text/plain": [
       "3-element Vector{Float64}:\n",
       " -0.6154122094026364\n",
       " -0.7882054380161087\n",
       " -8.535382770609875e-16"
      ]
     },
     "metadata": {},
     "output_type": "display_data"
    },
    {
     "data": {
      "text/plain": [
       "3-element Vector{Float64}:\n",
       " 0.6154122094026342\n",
       " 0.7882054380161104\n",
       " 0.0"
      ]
     },
     "metadata": {},
     "output_type": "display_data"
    },
    {
     "data": {
      "text/plain": [
       "3-element Vector{Float64}:\n",
       " 0.6154122094026356\n",
       " 0.7882054380161093\n",
       " 0.0"
      ]
     },
     "metadata": {},
     "output_type": "display_data"
    },
    {
     "data": {
      "text/plain": [
       "3-element Vector{Float64}:\n",
       " -0.6154122094026363\n",
       " -0.7882054380161088\n",
       "  4.986651615790328e-15"
      ]
     },
     "metadata": {},
     "output_type": "display_data"
    },
    {
     "data": {
      "text/plain": [
       "3-element Vector{Float64}:\n",
       " -0.6154122094026382\n",
       " -0.7882054380161072\n",
       "  3.586517495117957e-15"
      ]
     },
     "metadata": {},
     "output_type": "display_data"
    },
    {
     "data": {
      "text/plain": [
       "3-element Vector{Float64}:\n",
       "  0.6154122094026367\n",
       "  0.7882054380161083\n",
       " -2.1863833744456048e-15"
      ]
     },
     "metadata": {},
     "output_type": "display_data"
    },
    {
     "data": {
      "text/plain": [
       "3-element Vector{Float64}:\n",
       " 0.6154122094026359\n",
       " 0.7882054380161091\n",
       " 0.0"
      ]
     },
     "metadata": {},
     "output_type": "display_data"
    },
    {
     "data": {
      "text/plain": [
       "3-element Vector{Float64}:\n",
       " 0.6154122094026342\n",
       " 0.7882054380161104\n",
       " 0.0"
      ]
     },
     "metadata": {},
     "output_type": "display_data"
    },
    {
     "data": {
      "text/plain": [
       "3-element Vector{Float64}:\n",
       " 0.6154122094026369\n",
       " 0.7882054380161082\n",
       " 0.0"
      ]
     },
     "metadata": {},
     "output_type": "display_data"
    },
    {
     "data": {
      "text/plain": [
       "3-element Vector{Float64}:\n",
       " 0.6154122094026359\n",
       " 0.7882054380161091\n",
       " 0.0"
      ]
     },
     "metadata": {},
     "output_type": "display_data"
    },
    {
     "data": {
      "text/plain": [
       "3-element Vector{Float64}:\n",
       " -0.6154122094026352\n",
       " -0.7882054380161096\n",
       " -1.4001341206723816e-15"
      ]
     },
     "metadata": {},
     "output_type": "display_data"
    },
    {
     "data": {
      "text/plain": [
       "3-element Vector{Float64}:\n",
       " -0.6154122094026356\n",
       " -0.7882054380161093\n",
       " -1.7070765541219773e-15"
      ]
     },
     "metadata": {},
     "output_type": "display_data"
    },
    {
     "data": {
      "text/plain": [
       "3-element Vector{Float64}:\n",
       " -0.615412209402636\n",
       " -0.7882054380161091\n",
       "  1.400134120672385e-15"
      ]
     },
     "metadata": {},
     "output_type": "display_data"
    },
    {
     "data": {
      "text/plain": [
       "3-element Vector{Float64}:\n",
       "  0.615412209402636\n",
       "  0.788205438016109\n",
       " -3.2007685389787133e-16"
      ]
     },
     "metadata": {},
     "output_type": "display_data"
    },
    {
     "data": {
      "text/plain": [
       "3-element Vector{Float64}:\n",
       " 0.6154122094026356\n",
       " 0.7882054380161092\n",
       " 0.0"
      ]
     },
     "metadata": {},
     "output_type": "display_data"
    },
    {
     "data": {
      "text/plain": [
       "3-element Vector{Float64}:\n",
       " -0.6154122094026372\n",
       " -0.788205438016108\n",
       " -1.7070765541219952e-15"
      ]
     },
     "metadata": {},
     "output_type": "display_data"
    },
    {
     "data": {
      "text/plain": [
       "3-element Vector{Float64}:\n",
       " 0.6154122094026385\n",
       " 0.7882054380161069\n",
       " 3.4700878934693e-15"
      ]
     },
     "metadata": {},
     "output_type": "display_data"
    },
    {
     "data": {
      "text/plain": [
       "3-element Vector{Float64}:\n",
       " -0.6154122094026363\n",
       " -0.7882054380161087\n",
       " -2.903272690603727e-15"
      ]
     },
     "metadata": {},
     "output_type": "display_data"
    },
    {
     "data": {
      "text/plain": [
       "3-element Vector{Float64}:\n",
       " 0.6154122094026356\n",
       " 0.7882054380161093\n",
       " 0.0"
      ]
     },
     "metadata": {},
     "output_type": "display_data"
    },
    {
     "data": {
      "text/plain": [
       "3-element Vector{Float64}:\n",
       " -0.6154122094026353\n",
       " -0.7882054380161095\n",
       "  1.4001341206723848e-15"
      ]
     },
     "metadata": {},
     "output_type": "display_data"
    },
    {
     "data": {
      "text/plain": [
       "3-element Vector{Float64}:\n",
       " 0.6154122094026372\n",
       " 0.788205438016108\n",
       " 0.0"
      ]
     },
     "metadata": {},
     "output_type": "display_data"
    },
    {
     "data": {
      "text/plain": [
       "3-element Vector{Float64}:\n",
       " -0.6154122094026366\n",
       " -0.7882054380161083\n",
       "  1.0884683946854932e-15"
      ]
     },
     "metadata": {},
     "output_type": "display_data"
    },
    {
     "data": {
      "text/plain": [
       "3-element Vector{Float64}:\n",
       " -0.615412209402636\n",
       " -0.788205438016109\n",
       "  3.479825210485342e-15"
      ]
     },
     "metadata": {},
     "output_type": "display_data"
    },
    {
     "data": {
      "text/plain": [
       "3-element Vector{Float64}:\n",
       "  0.6154122094026357\n",
       "  0.7882054380161092\n",
       " -2.840706959853229e-16"
      ]
     },
     "metadata": {},
     "output_type": "display_data"
    },
    {
     "data": {
      "text/plain": [
       "3-element Vector{Float64}:\n",
       " -0.6154122094026352\n",
       " -0.7882054380161096\n",
       "  0.0"
      ]
     },
     "metadata": {},
     "output_type": "display_data"
    },
    {
     "data": {
      "text/plain": [
       "3-element Vector{Float64}:\n",
       " 0.6154122094026356\n",
       " 0.7882054380161093\n",
       " 0.0"
      ]
     },
     "metadata": {},
     "output_type": "display_data"
    },
    {
     "data": {
      "text/plain": [
       "3-element Vector{Float64}:\n",
       " -0.6154122094026339\n",
       " -0.7882054380161108\n",
       "  4.986651615790346e-15"
      ]
     },
     "metadata": {},
     "output_type": "display_data"
    },
    {
     "data": {
      "text/plain": [
       "3-element Vector{Float64}:\n",
       " -0.6154122094026342\n",
       " -0.7882054380161104\n",
       "  5.293594049239986e-15"
      ]
     },
     "metadata": {},
     "output_type": "display_data"
    },
    {
     "data": {
      "text/plain": [
       "3-element Vector{Float64}:\n",
       " -0.615412209402639\n",
       " -0.7882054380161065\n",
       "  3.893459928567584e-15"
      ]
     },
     "metadata": {},
     "output_type": "display_data"
    },
    {
     "data": {
      "text/plain": [
       "3-element Vector{Float64}:\n",
       " 0.6154122094026329\n",
       " 0.7882054380161114\n",
       " 0.0"
      ]
     },
     "metadata": {},
     "output_type": "display_data"
    },
    {
     "data": {
      "text/plain": [
       "3-element Vector{Float64}:\n",
       "  0.6154122094026359\n",
       "  0.7882054380161091\n",
       " -2.1863833744455807e-15"
      ]
     },
     "metadata": {},
     "output_type": "display_data"
    },
    {
     "data": {
      "text/plain": [
       "3-element Vector{Float64}:\n",
       "  0.615412209402637\n",
       "  0.7882054380161082\n",
       " -2.207602400125156e-16"
      ]
     },
     "metadata": {},
     "output_type": "display_data"
    },
    {
     "data": {
      "text/plain": [
       "3-element Vector{Float64}:\n",
       " -0.6154122094026352\n",
       " -0.7882054380161096\n",
       "  3.039921651506608e-15"
      ]
     },
     "metadata": {},
     "output_type": "display_data"
    },
    {
     "data": {
      "text/plain": [
       "3-element Vector{Float64}:\n",
       " 0.6154122094026339\n",
       " 0.7882054380161106\n",
       " 0.0"
      ]
     },
     "metadata": {},
     "output_type": "display_data"
    },
    {
     "data": {
      "text/plain": [
       "3-element Vector{Float64}:\n",
       "  0.6154122094026372\n",
       "  0.788205438016108\n",
       " -1.7070765541219952e-15"
      ]
     },
     "metadata": {},
     "output_type": "display_data"
    },
    {
     "data": {
      "text/plain": [
       "3-element Vector{Float64}:\n",
       " 0.6154122094026369\n",
       " 0.7882054380161083\n",
       " 0.0"
      ]
     },
     "metadata": {},
     "output_type": "display_data"
    },
    {
     "data": {
      "text/plain": [
       "3-element Vector{Float64}:\n",
       " -0.6154122094026374\n",
       " -0.7882054380161079\n",
       " -2.6838386396961873e-15"
      ]
     },
     "metadata": {},
     "output_type": "display_data"
    },
    {
     "data": {
      "text/plain": [
       "3-element Vector{Float64}:\n",
       " -0.6154122094026361\n",
       " -0.7882054380161089\n",
       "  2.186383374445578e-15"
      ]
     },
     "metadata": {},
     "output_type": "display_data"
    },
    {
     "data": {
      "text/plain": [
       "3-element Vector{Float64}:\n",
       "  0.6154122094026362\n",
       "  0.7882054380161089\n",
       " -7.936249245205371e-16"
      ]
     },
     "metadata": {},
     "output_type": "display_data"
    },
    {
     "data": {
      "text/plain": [
       "3-element Vector{Float64}:\n",
       " 0.6154122094026359\n",
       " 0.7882054380161091\n",
       " 8.929415384059501e-16"
      ]
     },
     "metadata": {},
     "output_type": "display_data"
    },
    {
     "data": {
      "text/plain": [
       "3-element Vector{Float64}:\n",
       " -0.6154122094026369\n",
       " -0.7882054380161082\n",
       " -3.1203450952426595e-15"
      ]
     },
     "metadata": {},
     "output_type": "display_data"
    },
    {
     "data": {
      "text/plain": [
       "3-element Vector{Float64}:\n",
       " -0.6154122094026342\n",
       " -0.7882054380161104\n",
       "  5.600536482689549e-15"
      ]
     },
     "metadata": {},
     "output_type": "display_data"
    },
    {
     "data": {
      "text/plain": [
       "3-element Vector{Float64}:\n",
       "  0.6154122094026346\n",
       "  0.78820543801611\n",
       " -1.7070765541219958e-15"
      ]
     },
     "metadata": {},
     "output_type": "display_data"
    },
    {
     "data": {
      "text/plain": [
       "3-element Vector{Float64}:\n",
       " 0.6154122094026364\n",
       " 0.7882054380161087\n",
       " 0.0"
      ]
     },
     "metadata": {},
     "output_type": "display_data"
    },
    {
     "data": {
      "text/plain": [
       "3-element Vector{Float64}:\n",
       " 0.6154122094026342\n",
       " 0.7882054380161104\n",
       " 0.0"
      ]
     },
     "metadata": {},
     "output_type": "display_data"
    },
    {
     "data": {
      "text/plain": [
       "3-element Vector{Float64}:\n",
       " 0.6154122094026355\n",
       " 0.7882054380161093\n",
       " 1.1497079363309575e-15"
      ]
     },
     "metadata": {},
     "output_type": "display_data"
    },
    {
     "data": {
      "text/plain": [
       "3-element Vector{Float64}:\n",
       " -0.6154122094026354\n",
       " -0.7882054380161093\n",
       "  2.8002682413447566e-15"
      ]
     },
     "metadata": {},
     "output_type": "display_data"
    },
    {
     "data": {
      "text/plain": [
       "3-element Vector{Float64}:\n",
       " 0.6154122094026366\n",
       " 0.7882054380161084\n",
       " 0.0"
      ]
     },
     "metadata": {},
     "output_type": "display_data"
    },
    {
     "data": {
      "text/plain": [
       "3-element Vector{Float64}:\n",
       " -0.6154122094026352\n",
       " -0.7882054380161095\n",
       " -2.732979218056956e-15"
      ]
     },
     "metadata": {},
     "output_type": "display_data"
    },
    {
     "data": {
      "text/plain": [
       "3-element Vector{Float64}:\n",
       " 0.6154122094026356\n",
       " 0.7882054380161092\n",
       " 0.0"
      ]
     },
     "metadata": {},
     "output_type": "display_data"
    },
    {
     "data": {
      "text/plain": [
       "3-element Vector{Float64}:\n",
       " -0.6154122094026373\n",
       " -0.7882054380161079\n",
       "  7.216126086954384e-16"
      ]
     },
     "metadata": {},
     "output_type": "display_data"
    },
    {
     "data": {
      "text/plain": [
       "3-element Vector{Float64}:\n",
       " -0.6154122094026356\n",
       " -0.7882054380161093\n",
       "  4.950936189819169e-16"
      ]
     },
     "metadata": {},
     "output_type": "display_data"
    },
    {
     "data": {
      "text/plain": [
       "3-element Vector{Float64}:\n",
       " 0.6154122094026372\n",
       " 0.788205438016108\n",
       " 0.0"
      ]
     },
     "metadata": {},
     "output_type": "display_data"
    },
    {
     "data": {
      "text/plain": [
       "3-element Vector{Float64}:\n",
       "  0.6154122094026359\n",
       "  0.7882054380161091\n",
       " -2.1863833744455783e-15"
      ]
     },
     "metadata": {},
     "output_type": "display_data"
    },
    {
     "data": {
      "text/plain": [
       "3-element Vector{Float64}:\n",
       "  0.6154122094026334\n",
       "  0.7882054380161109\n",
       " -1.0742985170734822e-15"
      ]
     },
     "metadata": {},
     "output_type": "display_data"
    },
    {
     "data": {
      "text/plain": [
       "3-element Vector{Float64}:\n",
       "  0.6154122094026395\n",
       "  0.7882054380161062\n",
       " -2.1863833744455748e-15"
      ]
     },
     "metadata": {},
     "output_type": "display_data"
    },
    {
     "data": {
      "text/plain": [
       "3-element Vector{Float64}:\n",
       " 0.6154122094026336\n",
       " 0.7882054380161109\n",
       " 0.0"
      ]
     },
     "metadata": {},
     "output_type": "display_data"
    },
    {
     "data": {
      "text/plain": [
       "3-element Vector{Float64}:\n",
       " 0.6154122094026356\n",
       " 0.7882054380161093\n",
       " 0.0"
      ]
     },
     "metadata": {},
     "output_type": "display_data"
    },
    {
     "data": {
      "text/plain": [
       "3-element Vector{Float64}:\n",
       "  0.6154122094026322\n",
       "  0.7882054380161118\n",
       " -1.7070765541219842e-15"
      ]
     },
     "metadata": {},
     "output_type": "display_data"
    },
    {
     "data": {
      "text/plain": [
       "3-element Vector{Float64}:\n",
       " 0.6154122094026336\n",
       " 0.7882054380161109\n",
       " 0.0"
      ]
     },
     "metadata": {},
     "output_type": "display_data"
    },
    {
     "data": {
      "text/plain": [
       "3-element Vector{Float64}:\n",
       " -0.6154122094026385\n",
       " -0.7882054380161071\n",
       "  5.600536482689522e-15"
      ]
     },
     "metadata": {},
     "output_type": "display_data"
    },
    {
     "data": {
      "text/plain": [
       "3-element Vector{Float64}:\n",
       " 0.6154122094026392\n",
       " 0.7882054380161064\n",
       " 0.0"
      ]
     },
     "metadata": {},
     "output_type": "display_data"
    },
    {
     "data": {
      "text/plain": [
       "3-element Vector{Float64}:\n",
       " 0.6154122094026343\n",
       " 0.7882054380161103\n",
       " 0.0"
      ]
     },
     "metadata": {},
     "output_type": "display_data"
    },
    {
     "data": {
      "text/plain": [
       "3-element Vector{Float64}:\n",
       " 0.615412209402637\n",
       " 0.7882054380161082\n",
       " 9.673155004995944e-16"
      ]
     },
     "metadata": {},
     "output_type": "display_data"
    },
    {
     "data": {
      "text/plain": [
       "3-element Vector{Float64}:\n",
       "  0.6154122094026349\n",
       "  0.7882054380161098\n",
       " -1.0931916872227815e-15"
      ]
     },
     "metadata": {},
     "output_type": "display_data"
    },
    {
     "data": {
      "text/plain": [
       "3-element Vector{Float64}:\n",
       "  0.6154122094026364\n",
       "  0.7882054380161085\n",
       " -1.1773029663324558e-15"
      ]
     },
     "metadata": {},
     "output_type": "display_data"
    },
    {
     "data": {
      "text/plain": [
       "3-element Vector{Float64}:\n",
       " -0.6154122094026356\n",
       " -0.7882054380161092\n",
       "  3.59965191556622e-15"
      ]
     },
     "metadata": {},
     "output_type": "display_data"
    },
    {
     "data": {
      "text/plain": [
       "3-element Vector{Float64}:\n",
       "  0.6154122094026359\n",
       "  0.7882054380161091\n",
       " -1.0931916872227894e-15"
      ]
     },
     "metadata": {},
     "output_type": "display_data"
    },
    {
     "data": {
      "text/plain": [
       "3-element Vector{Float64}:\n",
       " 0.6154122094026342\n",
       " 0.7882054380161104\n",
       " 0.0"
      ]
     },
     "metadata": {},
     "output_type": "display_data"
    },
    {
     "data": {
      "text/plain": [
       "3-element Vector{Float64}:\n",
       " 0.6154122094026336\n",
       " 0.7882054380161109\n",
       " 0.0"
      ]
     },
     "metadata": {},
     "output_type": "display_data"
    },
    {
     "data": {
      "text/plain": [
       "3-element Vector{Float64}:\n",
       " -0.6154122094026343\n",
       " -0.7882054380161103\n",
       " -8.535382770609857e-16"
      ]
     },
     "metadata": {},
     "output_type": "display_data"
    },
    {
     "data": {
      "text/plain": [
       "3-element Vector{Float64}:\n",
       "  0.6154122094026356\n",
       "  0.7882054380161093\n",
       " -8.535382770609886e-16"
      ]
     },
     "metadata": {},
     "output_type": "display_data"
    },
    {
     "data": {
      "text/plain": [
       "3-element Vector{Float64}:\n",
       " -0.6154122094026355\n",
       " -0.7882054380161093\n",
       "  2.2752179460926164e-15"
      ]
     },
     "metadata": {},
     "output_type": "display_data"
    },
    {
     "data": {
      "text/plain": [
       "3-element Vector{Float64}:\n",
       " -0.6154122094026359\n",
       " -0.7882054380161091\n",
       "  7.786919857135084e-15"
      ]
     },
     "metadata": {},
     "output_type": "display_data"
    },
    {
     "data": {
      "text/plain": [
       "3-element Vector{Float64}:\n",
       "  0.6154122094026369\n",
       "  0.7882054380161082\n",
       " -2.186383374445605e-15"
      ]
     },
     "metadata": {},
     "output_type": "display_data"
    },
    {
     "data": {
      "text/plain": [
       "3-element Vector{Float64}:\n",
       " -0.6154122094026357\n",
       " -0.7882054380161091\n",
       "  3.887410446925221e-15"
      ]
     },
     "metadata": {},
     "output_type": "display_data"
    },
    {
     "data": {
      "text/plain": [
       "3-element Vector{Float64}:\n",
       " -0.6154122094026359\n",
       " -0.7882054380161092\n",
       "  2.4297246199810377e-15"
      ]
     },
     "metadata": {},
     "output_type": "display_data"
    },
    {
     "data": {
      "text/plain": [
       "3-element Vector{Float64}:\n",
       "  0.6154122094026326\n",
       "  0.7882054380161116\n",
       " -1.707076554121981e-15"
      ]
     },
     "metadata": {},
     "output_type": "display_data"
    },
    {
     "data": {
      "text/plain": [
       "3-element Vector{Float64}:\n",
       " -0.6154122094026355\n",
       " -0.7882054380161093\n",
       "  0.0"
      ]
     },
     "metadata": {},
     "output_type": "display_data"
    },
    {
     "data": {
      "text/plain": [
       "3-element Vector{Float64}:\n",
       " -1.2308244188\n",
       " -1.576410876\n",
       "  0.0"
      ]
     },
     "metadata": {},
     "output_type": "display_data"
    }
   ],
   "source": [
    "FEM.probe(N1 * a1, atP)"
   ]
  },
  {
   "cell_type": "code",
   "execution_count": 35,
   "id": "0f1eea40",
   "metadata": {},
   "outputs": [
    {
     "data": {
      "text/plain": [
       "3-element Vector{Float64}:\n",
       "  0.6154122094026356\n",
       "  0.7882054380161093\n",
       " -3.069424334495955e-16"
      ]
     },
     "metadata": {},
     "output_type": "display_data"
    },
    {
     "data": {
      "text/plain": [
       "3-element Vector{Float64}:\n",
       " -0.6154122094026357\n",
       " -0.7882054380161091\n",
       " -1.9467299642837778e-15"
      ]
     },
     "metadata": {},
     "output_type": "display_data"
    },
    {
     "data": {
      "text/plain": [
       "3-element Vector{Float64}:\n",
       " 0.6154122094026356\n",
       " 0.7882054380161093\n",
       " 0.0"
      ]
     },
     "metadata": {},
     "output_type": "display_data"
    },
    {
     "data": {
      "text/plain": [
       "3-element Vector{Float64}:\n",
       " -0.6154122094026372\n",
       " -0.7882054380161081\n",
       " -1.7932587475589793e-15"
      ]
     },
     "metadata": {},
     "output_type": "display_data"
    },
    {
     "data": {
      "text/plain": [
       "3-element Vector{Float64}:\n",
       " -0.6154122094026359\n",
       " -0.788205438016109\n",
       " -1.9467299642837742e-15"
      ]
     },
     "metadata": {},
     "output_type": "display_data"
    },
    {
     "data": {
      "text/plain": [
       "3-element Vector{Float64}:\n",
       "  0.6154122094026359\n",
       "  0.7882054380161091\n",
       " -1.1982670508090175e-16"
      ]
     },
     "metadata": {},
     "output_type": "display_data"
    },
    {
     "data": {
      "text/plain": [
       "3-element Vector{Float64}:\n",
       " -0.6154122094026352\n",
       " -0.7882054380161096\n",
       " -1.4001341206723816e-15"
      ]
     },
     "metadata": {},
     "output_type": "display_data"
    },
    {
     "data": {
      "text/plain": [
       "3-element Vector{Float64}:\n",
       " -0.6154122094026357\n",
       " -0.7882054380161092\n",
       "  1.2466629039475885e-15"
      ]
     },
     "metadata": {},
     "output_type": "display_data"
    },
    {
     "data": {
      "text/plain": [
       "3-element Vector{Float64}:\n",
       " 0.6154122094026352\n",
       " 0.7882054380161095\n",
       " 1.1141557716992642e-16"
      ]
     },
     "metadata": {},
     "output_type": "display_data"
    },
    {
     "data": {
      "text/plain": [
       "3-element Vector{Float64}:\n",
       " -0.6154122094026352\n",
       " -0.7882054380161094\n",
       " -6.586745153338285e-16"
      ]
     },
     "metadata": {},
     "output_type": "display_data"
    },
    {
     "data": {
      "text/plain": [
       "3-element Vector{Float64}:\n",
       " -0.6154122094026354\n",
       " -0.7882054380161093\n",
       "  5.999419859277069e-16"
      ]
     },
     "metadata": {},
     "output_type": "display_data"
    },
    {
     "data": {
      "text/plain": [
       "3-element Vector{Float64}:\n",
       " -0.6154122094026359\n",
       " -0.7882054380161091\n",
       " -9.73364982141891e-16"
      ]
     },
     "metadata": {},
     "output_type": "display_data"
    },
    {
     "data": {
      "text/plain": [
       "3-element Vector{Float64}:\n",
       "  0.6154122094026356\n",
       "  0.7882054380161093\n",
       " -3.3977848457028764e-16"
      ]
     },
     "metadata": {},
     "output_type": "display_data"
    },
    {
     "data": {
      "text/plain": [
       "3-element Vector{Float64}:\n",
       " -0.6154122094026357\n",
       " -0.7882054380161092\n",
       " -8.966293737794902e-16"
      ]
     },
     "metadata": {},
     "output_type": "display_data"
    },
    {
     "data": {
      "text/plain": [
       "3-element Vector{Float64}:\n",
       " -0.6154122094026355\n",
       " -0.7882054380161093\n",
       " -7.000670603361931e-16"
      ]
     },
     "metadata": {},
     "output_type": "display_data"
    },
    {
     "data": {
      "text/plain": [
       "3-element Vector{Float64}:\n",
       " -0.6154122094026351\n",
       " -0.7882054380161096\n",
       "  8.966293737794902e-16"
      ]
     },
     "metadata": {},
     "output_type": "display_data"
    },
    {
     "data": {
      "text/plain": [
       "3-element Vector{Float64}:\n",
       " 0.6154122094026366\n",
       " 0.7882054380161085\n",
       " 7.852137966095646e-16"
      ]
     },
     "metadata": {},
     "output_type": "display_data"
    },
    {
     "data": {
      "text/plain": [
       "3-element Vector{Float64}:\n",
       " 0.6154122094026362\n",
       " 0.7882054380161089\n",
       " 3.146904668080577e-16"
      ]
     },
     "metadata": {},
     "output_type": "display_data"
    },
    {
     "data": {
      "text/plain": [
       "3-element Vector{Float64}:\n",
       "  0.6154122094026362\n",
       "  0.7882054380161089\n",
       " -4.590874610693699e-16"
      ]
     },
     "metadata": {},
     "output_type": "display_data"
    },
    {
     "data": {
      "text/plain": [
       "3-element Vector{Float64}:\n",
       " -0.6154122094026374\n",
       " -0.7882054380161079\n",
       "  1.9467299642837762e-15"
      ]
     },
     "metadata": {},
     "output_type": "display_data"
    },
    {
     "data": {
      "text/plain": [
       "3-element Vector{Float64}:\n",
       "  0.6154122094026353\n",
       "  0.7882054380161095\n",
       " -3.298141709138649e-17"
      ]
     },
     "metadata": {},
     "output_type": "display_data"
    },
    {
     "data": {
      "text/plain": [
       "3-element Vector{Float64}:\n",
       " 0.6154122094026359\n",
       " 0.7882054380161091\n",
       " 0.0"
      ]
     },
     "metadata": {},
     "output_type": "display_data"
    },
    {
     "data": {
      "text/plain": [
       "3-element Vector{Float64}:\n",
       " -0.6154122094026356\n",
       " -0.7882054380161093\n",
       "  0.0"
      ]
     },
     "metadata": {},
     "output_type": "display_data"
    },
    {
     "data": {
      "text/plain": [
       "3-element Vector{Float64}:\n",
       " -0.6154122094026362\n",
       " -0.7882054380161089\n",
       "  4.494955100240714e-16"
      ]
     },
     "metadata": {},
     "output_type": "display_data"
    },
    {
     "data": {
      "text/plain": [
       "3-element Vector{Float64}:\n",
       " 0.6154122094026356\n",
       " 0.7882054380161093\n",
       " 0.0"
      ]
     },
     "metadata": {},
     "output_type": "display_data"
    },
    {
     "data": {
      "text/plain": [
       "3-element Vector{Float64}:\n",
       " 0.6154122094026359\n",
       " 0.7882054380161091\n",
       " 0.0"
      ]
     },
     "metadata": {},
     "output_type": "display_data"
    },
    {
     "data": {
      "text/plain": [
       "3-element Vector{Float64}:\n",
       " -0.6154122094026357\n",
       " -0.7882054380161091\n",
       "  0.0"
      ]
     },
     "metadata": {},
     "output_type": "display_data"
    },
    {
     "data": {
      "text/plain": [
       "3-element Vector{Float64}:\n",
       " 0.6154122094026362\n",
       " 0.7882054380161088\n",
       " 1.0931916872227907e-15"
      ]
     },
     "metadata": {},
     "output_type": "display_data"
    },
    {
     "data": {
      "text/plain": [
       "3-element Vector{Float64}:\n",
       " 0.6154122094026347\n",
       " 0.78820543801611\n",
       " 8.535382770609868e-16"
      ]
     },
     "metadata": {},
     "output_type": "display_data"
    },
    {
     "data": {
      "text/plain": [
       "3-element Vector{Float64}:\n",
       " -0.6154122094026344\n",
       " -0.7882054380161102\n",
       " -1.4001341206723812e-15"
      ]
     },
     "metadata": {},
     "output_type": "display_data"
    },
    {
     "data": {
      "text/plain": [
       "3-element Vector{Float64}:\n",
       " -0.615412209402636\n",
       " -0.7882054380161089\n",
       "  1.2466629039476027e-15"
      ]
     },
     "metadata": {},
     "output_type": "display_data"
    },
    {
     "data": {
      "text/plain": [
       "3-element Vector{Float64}:\n",
       " 0.6154122094026357\n",
       " 0.7882054380161091\n",
       " 8.535382770609816e-16"
      ]
     },
     "metadata": {},
     "output_type": "display_data"
    },
    {
     "data": {
      "text/plain": [
       "3-element Vector{Float64}:\n",
       " -0.615412209402636\n",
       " -0.7882054380161091\n",
       " -1.826903259202871e-15"
      ]
     },
     "metadata": {},
     "output_type": "display_data"
    },
    {
     "data": {
      "text/plain": [
       "3-element Vector{Float64}:\n",
       " 0.6154122094026345\n",
       " 0.7882054380161101\n",
       " 0.0"
      ]
     },
     "metadata": {},
     "output_type": "display_data"
    },
    {
     "data": {
      "text/plain": [
       "3-element Vector{Float64}:\n",
       " -0.6154122094026345\n",
       " -0.7882054380161101\n",
       " -1.5536053373971685e-15"
      ]
     },
     "metadata": {},
     "output_type": "display_data"
    },
    {
     "data": {
      "text/plain": [
       "3-element Vector{Float64}:\n",
       " -0.6154122094026351\n",
       " -0.7882054380161095\n",
       "  9.218627575124161e-16"
      ]
     },
     "metadata": {},
     "output_type": "display_data"
    },
    {
     "data": {
      "text/plain": [
       "3-element Vector{Float64}:\n",
       " -0.6154122094026355\n",
       " -0.7882054380161093\n",
       "  0.0"
      ]
     },
     "metadata": {},
     "output_type": "display_data"
    },
    {
     "data": {
      "text/plain": [
       "3-element Vector{Float64}:\n",
       " -0.6154122094026363\n",
       " -0.7882054380161088\n",
       "  3.533171352801652e-15"
      ]
     },
     "metadata": {},
     "output_type": "display_data"
    },
    {
     "data": {
      "text/plain": [
       "3-element Vector{Float64}:\n",
       " -0.6154122094026357\n",
       " -0.7882054380161091\n",
       "  8.858565995998647e-16"
      ]
     },
     "metadata": {},
     "output_type": "display_data"
    },
    {
     "data": {
      "text/plain": [
       "3-element Vector{Float64}:\n",
       " -0.6154122094026356\n",
       " -0.7882054380161092\n",
       "  5.999419859277081e-16"
      ]
     },
     "metadata": {},
     "output_type": "display_data"
    },
    {
     "data": {
      "text/plain": [
       "3-element Vector{Float64}:\n",
       " -0.6154122094026349\n",
       " -0.7882054380161099\n",
       "  1.946729964283779e-15"
      ]
     },
     "metadata": {},
     "output_type": "display_data"
    },
    {
     "data": {
      "text/plain": [
       "3-element Vector{Float64}:\n",
       " 0.6154122094026356\n",
       " 0.7882054380161093\n",
       " 0.0"
      ]
     },
     "metadata": {},
     "output_type": "display_data"
    },
    {
     "data": {
      "text/plain": [
       "3-element Vector{Float64}:\n",
       " -0.6154122094026349\n",
       " -0.7882054380161098\n",
       "  2.646797024619967e-15"
      ]
     },
     "metadata": {},
     "output_type": "display_data"
    },
    {
     "data": {
      "text/plain": [
       "3-element Vector{Float64}:\n",
       " 0.6154122094026364\n",
       " 0.7882054380161085\n",
       " 0.0"
      ]
     },
     "metadata": {},
     "output_type": "display_data"
    },
    {
     "data": {
      "text/plain": [
       "3-element Vector{Float64}:\n",
       " 0.6154122094026357\n",
       " 0.7882054380161092\n",
       " 4.021988493500829e-16"
      ]
     },
     "metadata": {},
     "output_type": "display_data"
    },
    {
     "data": {
      "text/plain": [
       "3-element Vector{Float64}:\n",
       " -0.6154122094026362\n",
       " -0.7882054380161089\n",
       "  7.38434864517392e-16"
      ]
     },
     "metadata": {},
     "output_type": "display_data"
    },
    {
     "data": {
      "text/plain": [
       "3-element Vector{Float64}:\n",
       " -0.6154122094026362\n",
       " -0.7882054380161088\n",
       "  2.8002682413447585e-15"
      ]
     },
     "metadata": {},
     "output_type": "display_data"
    },
    {
     "data": {
      "text/plain": [
       "3-element Vector{Float64}:\n",
       " 0.6154122094026359\n",
       " 0.7882054380161091\n",
       " 0.0"
      ]
     },
     "metadata": {},
     "output_type": "display_data"
    },
    {
     "data": {
      "text/plain": [
       "3-element Vector{Float64}:\n",
       " -0.6154122094026357\n",
       " -0.7882054380161091\n",
       "  1.6734320424780774e-15"
      ]
     },
     "metadata": {},
     "output_type": "display_data"
    },
    {
     "data": {
      "text/plain": [
       "3-element Vector{Float64}:\n",
       " -0.6154122094026359\n",
       " -0.7882054380161092\n",
       "  7.983482170578376e-16"
      ]
     },
     "metadata": {},
     "output_type": "display_data"
    },
    {
     "data": {
      "text/plain": [
       "3-element Vector{Float64}:\n",
       " 0.6154122094026359\n",
       " 0.7882054380161091\n",
       " 0.0"
      ]
     },
     "metadata": {},
     "output_type": "display_data"
    },
    {
     "data": {
      "text/plain": [
       "3-element Vector{Float64}:\n",
       " -0.6154122094026359\n",
       " -0.7882054380161091\n",
       "  5.465958436113943e-16"
      ]
     },
     "metadata": {},
     "output_type": "display_data"
    },
    {
     "data": {
      "text/plain": [
       "3-element Vector{Float64}:\n",
       " 0.6154122094026363\n",
       " 0.7882054380161087\n",
       " 0.0"
      ]
     },
     "metadata": {},
     "output_type": "display_data"
    },
    {
     "data": {
      "text/plain": [
       "3-element Vector{Float64}:\n",
       " -0.6154122094026359\n",
       " -0.7882054380161091\n",
       "  4.866824910709446e-16"
      ]
     },
     "metadata": {},
     "output_type": "display_data"
    },
    {
     "data": {
      "text/plain": [
       "3-element Vector{Float64}:\n",
       " 0.6154122094026335\n",
       " 0.7882054380161109\n",
       " 4.2676913853049076e-16"
      ]
     },
     "metadata": {},
     "output_type": "display_data"
    },
    {
     "data": {
      "text/plain": [
       "3-element Vector{Float64}:\n",
       " 0.6154122094026354\n",
       " 0.7882054380161095\n",
       " 8.535382770609633e-16"
      ]
     },
     "metadata": {},
     "output_type": "display_data"
    },
    {
     "data": {
      "text/plain": [
       "3-element Vector{Float64}:\n",
       " 0.6154122094026353\n",
       " 0.7882054380161095\n",
       " 0.0"
      ]
     },
     "metadata": {},
     "output_type": "display_data"
    },
    {
     "data": {
      "text/plain": [
       "3-element Vector{Float64}:\n",
       " -0.6154122094026347\n",
       " -0.78820543801611\n",
       " -1.5536053373971298e-15"
      ]
     },
     "metadata": {},
     "output_type": "display_data"
    },
    {
     "data": {
      "text/plain": [
       "3-element Vector{Float64}:\n",
       " -0.6154122094026383\n",
       " -0.7882054380161073\n",
       " -2.253672397733354e-15"
      ]
     },
     "metadata": {},
     "output_type": "display_data"
    },
    {
     "data": {
      "text/plain": [
       "3-element Vector{Float64}:\n",
       " 0.6154122094026362\n",
       " 0.7882054380161089\n",
       " 1.0931916872227917e-15"
      ]
     },
     "metadata": {},
     "output_type": "display_data"
    },
    {
     "data": {
      "text/plain": [
       "3-element Vector{Float64}:\n",
       " 0.6154122094026371\n",
       " 0.7882054380161081\n",
       " 0.0"
      ]
     },
     "metadata": {},
     "output_type": "display_data"
    },
    {
     "data": {
      "text/plain": [
       "3-element Vector{Float64}:\n",
       " 0.6154122094026373\n",
       " 0.7882054380161079\n",
       " 1.0931916872227795e-15"
      ]
     },
     "metadata": {},
     "output_type": "display_data"
    },
    {
     "data": {
      "text/plain": [
       "3-element Vector{Float64}:\n",
       " 0.6154122094026356\n",
       " 0.7882054380161092\n",
       " 3.5844465807907046e-16"
      ]
     },
     "metadata": {},
     "output_type": "display_data"
    },
    {
     "data": {
      "text/plain": [
       "3-element Vector{Float64}:\n",
       " 0.6154122094026352\n",
       " 0.7882054380161095\n",
       " 4.0219884935008266e-16"
      ]
     },
     "metadata": {},
     "output_type": "display_data"
    },
    {
     "data": {
      "text/plain": [
       "3-element Vector{Float64}:\n",
       "  0.6154122094026366\n",
       "  0.7882054380161085\n",
       " -1.1604807105105878e-15"
      ]
     },
     "metadata": {},
     "output_type": "display_data"
    },
    {
     "data": {
      "text/plain": [
       "3-element Vector{Float64}:\n",
       " -0.6154122094026356\n",
       " -0.7882054380161091\n",
       "  5.250502952521427e-16"
      ]
     },
     "metadata": {},
     "output_type": "display_data"
    },
    {
     "data": {
      "text/plain": [
       "3-element Vector{Float64}:\n",
       " -0.6154122094026355\n",
       " -0.7882054380161093\n",
       " -2.8002682413447617e-15"
      ]
     },
     "metadata": {},
     "output_type": "display_data"
    },
    {
     "data": {
      "text/plain": [
       "3-element Vector{Float64}:\n",
       " -0.6154122094026356\n",
       " -0.7882054380161093\n",
       "  2.800268241344759e-15"
      ]
     },
     "metadata": {},
     "output_type": "display_data"
    },
    {
     "data": {
      "text/plain": [
       "3-element Vector{Float64}:\n",
       " 0.6154122094026353\n",
       " 0.7882054380161095\n",
       " 0.0"
      ]
     },
     "metadata": {},
     "output_type": "display_data"
    },
    {
     "data": {
      "text/plain": [
       "3-element Vector{Float64}:\n",
       " -0.6154122094026361\n",
       " -0.7882054380161088\n",
       " -7.000670603361746e-16"
      ]
     },
     "metadata": {},
     "output_type": "display_data"
    },
    {
     "data": {
      "text/plain": [
       "3-element Vector{Float64}:\n",
       " -0.6154122094026344\n",
       " -0.7882054380161101\n",
       " -1.4684586011238127e-15"
      ]
     },
     "metadata": {},
     "output_type": "display_data"
    },
    {
     "data": {
      "text/plain": [
       "3-element Vector{Float64}:\n",
       " 0.6154122094026352\n",
       " 0.7882054380161096\n",
       " 4.836577502497806e-16"
      ]
     },
     "metadata": {},
     "output_type": "display_data"
    },
    {
     "data": {
      "text/plain": [
       "3-element Vector{Float64}:\n",
       " 0.6154122094026362\n",
       " 0.7882054380161088\n",
       " 5.465958436113968e-16"
      ]
     },
     "metadata": {},
     "output_type": "display_data"
    },
    {
     "data": {
      "text/plain": [
       "3-element Vector{Float64}:\n",
       " 0.6154122094026344\n",
       " 0.7882054380161102\n",
       " 5.465958436113973e-16"
      ]
     },
     "metadata": {},
     "output_type": "display_data"
    },
    {
     "data": {
      "text/plain": [
       "3-element Vector{Float64}:\n",
       " 0.6154122094026355\n",
       " 0.7882054380161093\n",
       " 2.9012017762764557e-16"
      ]
     },
     "metadata": {},
     "output_type": "display_data"
    },
    {
     "data": {
      "text/plain": [
       "3-element Vector{Float64}:\n",
       " -0.6154122094026356\n",
       " -0.7882054380161091\n",
       " -2.5653381237202755e-15"
      ]
     },
     "metadata": {},
     "output_type": "display_data"
    },
    {
     "data": {
      "text/plain": [
       "3-element Vector{Float64}:\n",
       "  0.615412209402636\n",
       "  0.788205438016109\n",
       " -1.888142800848316e-16"
      ]
     },
     "metadata": {},
     "output_type": "display_data"
    },
    {
     "data": {
      "text/plain": [
       "3-element Vector{Float64}:\n",
       " -0.6154122094026361\n",
       " -0.7882054380161089\n",
       "  0.0"
      ]
     },
     "metadata": {},
     "output_type": "display_data"
    },
    {
     "data": {
      "text/plain": [
       "3-element Vector{Float64}:\n",
       " 0.6154122094026356\n",
       " 0.7882054380161092\n",
       " 0.0"
      ]
     },
     "metadata": {},
     "output_type": "display_data"
    },
    {
     "data": {
      "text/plain": [
       "3-element Vector{Float64}:\n",
       " -0.6154122094026345\n",
       " -0.7882054380161101\n",
       "  0.0"
      ]
     },
     "metadata": {},
     "output_type": "display_data"
    },
    {
     "data": {
      "text/plain": [
       "3-element Vector{Float64}:\n",
       " 0.6154122094026356\n",
       " 0.7882054380161093\n",
       " 0.0"
      ]
     },
     "metadata": {},
     "output_type": "display_data"
    },
    {
     "data": {
      "text/plain": [
       "3-element Vector{Float64}:\n",
       " -0.6154122094026353\n",
       " -0.7882054380161095\n",
       " -3.893459928567534e-15"
      ]
     },
     "metadata": {},
     "output_type": "display_data"
    },
    {
     "data": {
      "text/plain": [
       "3-element Vector{Float64}:\n",
       " 0.615412209402637\n",
       " 0.7882054380161082\n",
       " 3.931246268865968e-16"
      ]
     },
     "metadata": {},
     "output_type": "display_data"
    },
    {
     "data": {
      "text/plain": [
       "3-element Vector{Float64}:\n",
       " -0.6154122094026372\n",
       " -0.788205438016108\n",
       " -1.793258747558978e-15"
      ]
     },
     "metadata": {},
     "output_type": "display_data"
    },
    {
     "data": {
      "text/plain": [
       "3-element Vector{Float64}:\n",
       " 0.6154122094026363\n",
       " 0.7882054380161087\n",
       " 0.0"
      ]
     },
     "metadata": {},
     "output_type": "display_data"
    },
    {
     "data": {
      "text/plain": [
       "3-element Vector{Float64}:\n",
       " -0.615412209402637\n",
       " -0.7882054380161082\n",
       " -4.200402362017143e-15"
      ]
     },
     "metadata": {},
     "output_type": "display_data"
    },
    {
     "data": {
      "text/plain": [
       "3-element Vector{Float64}:\n",
       " -0.6154122094026361\n",
       " -0.7882054380161088\n",
       " -1.9467299642837825e-15"
      ]
     },
     "metadata": {},
     "output_type": "display_data"
    },
    {
     "data": {
      "text/plain": [
       "3-element Vector{Float64}:\n",
       " -0.6154122094026363\n",
       " -0.7882054380161088\n",
       " -7.000670603362005e-16"
      ]
     },
     "metadata": {},
     "output_type": "display_data"
    },
    {
     "data": {
      "text/plain": [
       "3-element Vector{Float64}:\n",
       " 0.6154122094026364\n",
       " 0.7882054380161087\n",
       " 3.586517495117912e-15"
      ]
     },
     "metadata": {},
     "output_type": "display_data"
    },
    {
     "data": {
      "text/plain": [
       "3-element Vector{Float64}:\n",
       " 0.6154122094026366\n",
       " 0.7882054380161085\n",
       " 7.85213796609564e-16"
      ]
     },
     "metadata": {},
     "output_type": "display_data"
    },
    {
     "data": {
      "text/plain": [
       "3-element Vector{Float64}:\n",
       " -0.6154122094026335\n",
       " -0.788205438016111\n",
       "  9.457699521403173e-16"
      ]
     },
     "metadata": {},
     "output_type": "display_data"
    },
    {
     "data": {
      "text/plain": [
       "3-element Vector{Float64}:\n",
       " -0.6154122094026366\n",
       " -0.7882054380161085\n",
       "  1.533095246201562e-15"
      ]
     },
     "metadata": {},
     "output_type": "display_data"
    },
    {
     "data": {
      "text/plain": [
       "3-element Vector{Float64}:\n",
       "  0.6154122094026356\n",
       "  0.7882054380161092\n",
       " -3.14690466808057e-16"
      ]
     },
     "metadata": {},
     "output_type": "display_data"
    },
    {
     "data": {
      "text/plain": [
       "3-element Vector{Float64}:\n",
       " -0.6154122094026357\n",
       " -0.7882054380161091\n",
       "  5.999419859277065e-16"
      ]
     },
     "metadata": {},
     "output_type": "display_data"
    },
    {
     "data": {
      "text/plain": [
       "3-element Vector{Float64}:\n",
       " 0.6154122094026356\n",
       " 0.7882054380161093\n",
       " 0.0"
      ]
     },
     "metadata": {},
     "output_type": "display_data"
    },
    {
     "data": {
      "text/plain": [
       "3-element Vector{Float64}:\n",
       " -0.6154122094026354\n",
       " -0.7882054380161093\n",
       "  2.8433593380632663e-15"
      ]
     },
     "metadata": {},
     "output_type": "display_data"
    },
    {
     "data": {
      "text/plain": [
       "3-element Vector{Float64}:\n",
       " -0.6154122094026349\n",
       " -0.7882054380161098\n",
       "  1.793258747558993e-15"
      ]
     },
     "metadata": {},
     "output_type": "display_data"
    },
    {
     "data": {
      "text/plain": [
       "3-element Vector{Float64}:\n",
       " 0.6154122094026364\n",
       " 0.7882054380161087\n",
       " 7.337115719800878e-16"
      ]
     },
     "metadata": {},
     "output_type": "display_data"
    },
    {
     "data": {
      "text/plain": [
       "3-element Vector{Float64}:\n",
       " 0.6154122094026351\n",
       " 0.7882054380161096\n",
       " 4.2676913853049214e-16"
      ]
     },
     "metadata": {},
     "output_type": "display_data"
    },
    {
     "data": {
      "text/plain": [
       "3-element Vector{Float64}:\n",
       " -0.6154122094026361\n",
       " -0.7882054380161089\n",
       " -8.612863104194564e-16"
      ]
     },
     "metadata": {},
     "output_type": "display_data"
    },
    {
     "data": {
      "text/plain": [
       "3-element Vector{Float64}:\n",
       " -0.6154122094026363\n",
       " -0.7882054380161088\n",
       "  1.4001341206723818e-15"
      ]
     },
     "metadata": {},
     "output_type": "display_data"
    },
    {
     "data": {
      "text/plain": [
       "3-element Vector{Float64}:\n",
       " -0.6154122094026356\n",
       " -0.7882054380161093\n",
       "  0.0"
      ]
     },
     "metadata": {},
     "output_type": "display_data"
    },
    {
     "data": {
      "text/plain": [
       "3-element Vector{Float64}:\n",
       " 0.6154122094026357\n",
       " 0.7882054380161092\n",
       " 0.0"
      ]
     },
     "metadata": {},
     "output_type": "display_data"
    },
    {
     "data": {
      "text/plain": [
       "3-element Vector{Float64}:\n",
       " 0.6154122094026347\n",
       " 0.78820543801611\n",
       " 1.6424399090441843e-16"
      ]
     },
     "metadata": {},
     "output_type": "display_data"
    },
    {
     "data": {
      "text/plain": [
       "3-element Vector{Float64}:\n",
       " 0.6154122094026356\n",
       " 0.7882054380161092\n",
       " 0.0"
      ]
     },
     "metadata": {},
     "output_type": "display_data"
    },
    {
     "data": {
      "text/plain": [
       "3-element Vector{Float64}:\n",
       " 0.6154122094026356\n",
       " 0.7882054380161093\n",
       " 0.0"
      ]
     },
     "metadata": {},
     "output_type": "display_data"
    },
    {
     "data": {
      "text/plain": [
       "3-element Vector{Float64}:\n",
       " -0.6154122094026361\n",
       " -0.7882054380161089\n",
       "  4.866824910709442e-16"
      ]
     },
     "metadata": {},
     "output_type": "display_data"
    },
    {
     "data": {
      "text/plain": [
       "3-element Vector{Float64}:\n",
       " 0.6154122094026354\n",
       " 0.7882054380161094\n",
       " 0.0"
      ]
     },
     "metadata": {},
     "output_type": "display_data"
    },
    {
     "data": {
      "text/plain": [
       "3-element Vector{Float64}:\n",
       " -0.6154122094026344\n",
       " -0.7882054380161101\n",
       " -3.739988711842774e-15"
      ]
     },
     "metadata": {},
     "output_type": "display_data"
    },
    {
     "data": {
      "text/plain": [
       "3-element Vector{Float64}:\n",
       " 0.6154122094026361\n",
       " 0.7882054380161089\n",
       " 1.0931916872227927e-15"
      ]
     },
     "metadata": {},
     "output_type": "display_data"
    },
    {
     "data": {
      "text/plain": [
       "3-element Vector{Float64}:\n",
       " -0.6154122094026365\n",
       " -0.7882054380161085\n",
       " -7.000670603362184e-16"
      ]
     },
     "metadata": {},
     "output_type": "display_data"
    },
    {
     "data": {
      "text/plain": [
       "3-element Vector{Float64}:\n",
       " -0.6154122094026334\n",
       " -0.7882054380161111\n",
       " -3.5865174951179436e-15"
      ]
     },
     "metadata": {},
     "output_type": "display_data"
    },
    {
     "data": {
      "text/plain": [
       "3-element Vector{Float64}:\n",
       " -0.6154122094026382\n",
       " -0.7882054380161072\n",
       " -2.2536723977333716e-15"
      ]
     },
     "metadata": {},
     "output_type": "display_data"
    },
    {
     "data": {
      "text/plain": [
       "3-element Vector{Float64}:\n",
       " -0.6154122094026365\n",
       " -0.7882054380161085\n",
       "  3.586517495117942e-15"
      ]
     },
     "metadata": {},
     "output_type": "display_data"
    },
    {
     "data": {
      "text/plain": [
       "3-element Vector{Float64}:\n",
       " -0.6154122094026356\n",
       " -0.7882054380161093\n",
       " -2.100201181008621e-15"
      ]
     },
     "metadata": {},
     "output_type": "display_data"
    },
    {
     "data": {
      "text/plain": [
       "3-element Vector{Float64}:\n",
       " -0.6154122094026361\n",
       " -0.788205438016109\n",
       "  1.4001341206724317e-15"
      ]
     },
     "metadata": {},
     "output_type": "display_data"
    },
    {
     "data": {
      "text/plain": [
       "3-element Vector{Float64}:\n",
       " -0.6154122094026355\n",
       " -0.7882054380161092\n",
       " -3.3468640849561647e-15"
      ]
     },
     "metadata": {},
     "output_type": "display_data"
    },
    {
     "data": {
      "text/plain": [
       "3-element Vector{Float64}:\n",
       " -0.6154122094026346\n",
       " -0.7882054380161101\n",
       " -4.866824910709381e-16"
      ]
     },
     "metadata": {},
     "output_type": "display_data"
    },
    {
     "data": {
      "text/plain": [
       "3-element Vector{Float64}:\n",
       " -0.6154122094026351\n",
       " -0.7882054380161098\n",
       "  7.066342705603225e-16"
      ]
     },
     "metadata": {},
     "output_type": "display_data"
    },
    {
     "data": {
      "text/plain": [
       "3-element Vector{Float64}:\n",
       " -0.6154122094026359\n",
       " -0.7882054380161091\n",
       "  0.0"
      ]
     },
     "metadata": {},
     "output_type": "display_data"
    },
    {
     "data": {
      "text/plain": [
       "3-element Vector{Float64}:\n",
       " -0.6154122094026345\n",
       " -0.7882054380161101\n",
       "  1.8933838219674547e-15"
      ]
     },
     "metadata": {},
     "output_type": "display_data"
    },
    {
     "data": {
      "text/plain": [
       "3-element Vector{Float64}:\n",
       " -0.6154122094026356\n",
       " -0.7882054380161093\n",
       "  2.9968305547880683e-15"
      ]
     },
     "metadata": {},
     "output_type": "display_data"
    },
    {
     "data": {
      "text/plain": [
       "3-element Vector{Float64}:\n",
       " 0.615412209402636\n",
       " 0.788205438016109\n",
       " 1.5347121672484832e-16"
      ]
     },
     "metadata": {},
     "output_type": "display_data"
    },
    {
     "data": {
      "text/plain": [
       "3-element Vector{Float64}:\n",
       " -0.6154122094026362\n",
       " -0.7882054380161089\n",
       "  6.3867857364626875e-15"
      ]
     },
     "metadata": {},
     "output_type": "display_data"
    },
    {
     "data": {
      "text/plain": [
       "3-element Vector{Float64}:\n",
       " 0.615412209402634\n",
       " 0.7882054380161106\n",
       " 6.664225486923005e-16"
      ]
     },
     "metadata": {},
     "output_type": "display_data"
    },
    {
     "data": {
      "text/plain": [
       "3-element Vector{Float64}:\n",
       "  0.615412209402633\n",
       "  0.7882054380161114\n",
       " -2.759503000157524e-17"
      ]
     },
     "metadata": {},
     "output_type": "display_data"
    },
    {
     "data": {
      "text/plain": [
       "3-element Vector{Float64}:\n",
       " 0.6154122094026366\n",
       " 0.7882054380161085\n",
       " 4.0219884935008178e-16"
      ]
     },
     "metadata": {},
     "output_type": "display_data"
    },
    {
     "data": {
      "text/plain": [
       "3-element Vector{Float64}:\n",
       " 0.6154122094026372\n",
       " 0.7882054380161081\n",
       " 0.0"
      ]
     },
     "metadata": {},
     "output_type": "display_data"
    },
    {
     "data": {
      "text/plain": [
       "3-element Vector{Float64}:\n",
       "  0.6154122094026359\n",
       "  0.7882054380161092\n",
       " -3.33211274346147e-16"
      ]
     },
     "metadata": {},
     "output_type": "display_data"
    },
    {
     "data": {
      "text/plain": [
       "3-element Vector{Float64}:\n",
       " -0.6154122094026354\n",
       " -0.7882054380161093\n",
       " -3.0669989529263156e-15"
      ]
     },
     "metadata": {},
     "output_type": "display_data"
    },
    {
     "data": {
      "text/plain": [
       "3-element Vector{Float64}:\n",
       " -0.615412209402635\n",
       " -0.7882054380161096\n",
       "  7.300237366064053e-16"
      ]
     },
     "metadata": {},
     "output_type": "display_data"
    },
    {
     "data": {
      "text/plain": [
       "3-element Vector{Float64}:\n",
       " -0.6154122094026363\n",
       " -0.7882054380161088\n",
       "  1.0716461388635406e-15"
      ]
     },
     "metadata": {},
     "output_type": "display_data"
    },
    {
     "data": {
      "text/plain": [
       "3-element Vector{Float64}:\n",
       " -0.615412209402636\n",
       " -0.7882054380161089\n",
       " -3.8934599285675524e-15"
      ]
     },
     "metadata": {},
     "output_type": "display_data"
    },
    {
     "data": {
      "text/plain": [
       "3-element Vector{Float64}:\n",
       " -0.6154122094026354\n",
       " -0.7882054380161093\n",
       "  9.134516296014385e-16"
      ]
     },
     "metadata": {},
     "output_type": "display_data"
    },
    {
     "data": {
      "text/plain": [
       "3-element Vector{Float64}:\n",
       " -0.6154122094026352\n",
       " -0.7882054380161094\n",
       " -6.61699256154992e-16"
      ]
     },
     "metadata": {},
     "output_type": "display_data"
    },
    {
     "data": {
      "text/plain": [
       "3-element Vector{Float64}:\n",
       " 0.6154122094026364\n",
       " 0.7882054380161085\n",
       " 4.2676913853048455e-16"
      ]
     },
     "metadata": {},
     "output_type": "display_data"
    },
    {
     "data": {
      "text/plain": [
       "3-element Vector{Float64}:\n",
       " -0.6154122094026355\n",
       " -0.7882054380161093\n",
       "  4.440055772178939e-15"
      ]
     },
     "metadata": {},
     "output_type": "display_data"
    },
    {
     "data": {
      "text/plain": [
       "3-element Vector{Float64}:\n",
       " -0.6154122094026347\n",
       " -0.78820543801611\n",
       " -2.1002011810086635e-15"
      ]
     },
     "metadata": {},
     "output_type": "display_data"
    },
    {
     "data": {
      "text/plain": [
       "3-element Vector{Float64}:\n",
       " -0.6154122094026363\n",
       " -0.7882054380161088\n",
       "  1.4001341206724301e-15"
      ]
     },
     "metadata": {},
     "output_type": "display_data"
    },
    {
     "data": {
      "text/plain": [
       "3-element Vector{Float64}:\n",
       " 0.6154122094026344\n",
       " 0.7882054380161101\n",
       " 1.2130183923036981e-15"
      ]
     },
     "metadata": {},
     "output_type": "display_data"
    },
    {
     "data": {
      "text/plain": [
       "3-element Vector{Float64}:\n",
       " -0.6154122094026379\n",
       " -0.7882054380161075\n",
       " -4.2004023620171755e-15"
      ]
     },
     "metadata": {},
     "output_type": "display_data"
    },
    {
     "data": {
      "text/plain": [
       "3-element Vector{Float64}:\n",
       " 0.6154122094026383\n",
       " 0.7882054380161071\n",
       " 1.0931916872227886e-15"
      ]
     },
     "metadata": {},
     "output_type": "display_data"
    },
    {
     "data": {
      "text/plain": [
       "3-element Vector{Float64}:\n",
       " 0.6154122094026363\n",
       " 0.7882054380161088\n",
       " 0.0"
      ]
     },
     "metadata": {},
     "output_type": "display_data"
    },
    {
     "data": {
      "text/plain": [
       "3-element Vector{Float64}:\n",
       " 0.615412209402634\n",
       " 0.7882054380161104\n",
       " 0.0"
      ]
     },
     "metadata": {},
     "output_type": "display_data"
    },
    {
     "data": {
      "text/plain": [
       "3-element Vector{Float64}:\n",
       " 0.6154122094026357\n",
       " 0.7882054380161092\n",
       " 5.526453252537123e-16"
      ]
     },
     "metadata": {},
     "output_type": "display_data"
    },
    {
     "data": {
      "text/plain": [
       "3-element Vector{Float64}:\n",
       " -0.6154122094026354\n",
       " -0.7882054380161094\n",
       " -6.133189445329451e-15"
      ]
     },
     "metadata": {},
     "output_type": "display_data"
    },
    {
     "data": {
      "text/plain": [
       "3-element Vector{Float64}:\n",
       " -0.6154122094026356\n",
       " -0.7882054380161091\n",
       " -6.754967711557754e-16"
      ]
     },
     "metadata": {},
     "output_type": "display_data"
    },
    {
     "data": {
      "text/plain": [
       "3-element Vector{Float64}:\n",
       " -0.6154122094026361\n",
       " -0.788205438016109\n",
       " -5.465958436113952e-16"
      ]
     },
     "metadata": {},
     "output_type": "display_data"
    },
    {
     "data": {
      "text/plain": [
       "3-element Vector{Float64}:\n",
       " -0.6154122094026357\n",
       " -0.7882054380161092\n",
       " -7.000670603361642e-16"
      ]
     },
     "metadata": {},
     "output_type": "display_data"
    },
    {
     "data": {
      "text/plain": [
       "3-element Vector{Float64}:\n",
       " -0.6154122094026371\n",
       " -0.7882054380161081\n",
       " -7.00067060336227e-16"
      ]
     },
     "metadata": {},
     "output_type": "display_data"
    },
    {
     "data": {
      "text/plain": [
       "3-element Vector{Float64}:\n",
       " -0.6154122094026359\n",
       " -0.7882054380161091\n",
       " -4.2004023620171195e-15"
      ]
     },
     "metadata": {},
     "output_type": "display_data"
    },
    {
     "data": {
      "text/plain": [
       "3-element Vector{Float64}:\n",
       " 0.6154122094026355\n",
       " 0.7882054380161094\n",
       " 7.85213796609565e-16"
      ]
     },
     "metadata": {},
     "output_type": "display_data"
    },
    {
     "data": {
      "text/plain": [
       "3-element Vector{Float64}:\n",
       " -0.6154122094026341\n",
       " -0.7882054380161104\n",
       "  1.159154521405548e-15"
      ]
     },
     "metadata": {},
     "output_type": "display_data"
    },
    {
     "data": {
      "text/plain": [
       "3-element Vector{Float64}:\n",
       " 0.6154122094026364\n",
       " 0.7882054380161085\n",
       " 0.0"
      ]
     },
     "metadata": {},
     "output_type": "display_data"
    },
    {
     "data": {
      "text/plain": [
       "3-element Vector{Float64}:\n",
       " 0.6154122094026342\n",
       " 0.7882054380161104\n",
       " 0.0"
      ]
     },
     "metadata": {},
     "output_type": "display_data"
    },
    {
     "data": {
      "text/plain": [
       "3-element Vector{Float64}:\n",
       " -0.6154122094026372\n",
       " -0.7882054380161081\n",
       "  7.000670603361904e-16"
      ]
     },
     "metadata": {},
     "output_type": "display_data"
    },
    {
     "data": {
      "text/plain": [
       "3-element Vector{Float64}:\n",
       " -0.615412209402636\n",
       " -0.788205438016109\n",
       "  1.0398455449064765e-15"
      ]
     },
     "metadata": {},
     "output_type": "display_data"
    },
    {
     "data": {
      "text/plain": [
       "3-element Vector{Float64}:\n",
       "  0.6154122094026363\n",
       "  0.7882054380161088\n",
       " -3.4398404852576385e-16"
      ]
     },
     "metadata": {},
     "output_type": "display_data"
    },
    {
     "data": {
      "text/plain": [
       "3-element Vector{Float64}:\n",
       "  0.6154122094026354\n",
       "  0.7882054380161094\n",
       " -1.888142800848388e-16"
      ]
     },
     "metadata": {},
     "output_type": "display_data"
    },
    {
     "data": {
      "text/plain": [
       "3-element Vector{Float64}:\n",
       "  0.6154122094026359\n",
       "  0.788205438016109\n",
       " -1.0931916872227901e-15"
      ]
     },
     "metadata": {},
     "output_type": "display_data"
    },
    {
     "data": {
      "text/plain": [
       "3-element Vector{Float64}:\n",
       " 0.6154122094026342\n",
       " 0.7882054380161104\n",
       " 0.0"
      ]
     },
     "metadata": {},
     "output_type": "display_data"
    },
    {
     "data": {
      "text/plain": [
       "3-element Vector{Float64}:\n",
       " 0.6154122094026354\n",
       " 0.7882054380161093\n",
       " 0.0"
      ]
     },
     "metadata": {},
     "output_type": "display_data"
    },
    {
     "data": {
      "text/plain": [
       "3-element Vector{Float64}:\n",
       " -0.615412209402637\n",
       " -0.7882054380161082\n",
       " -8.535382770609862e-16"
      ]
     },
     "metadata": {},
     "output_type": "display_data"
    },
    {
     "data": {
      "text/plain": [
       "3-element Vector{Float64}:\n",
       " 0.6154122094026353\n",
       " 0.7882054380161095\n",
       " 0.0"
      ]
     },
     "metadata": {},
     "output_type": "display_data"
    },
    {
     "data": {
      "text/plain": [
       "3-element Vector{Float64}:\n",
       " 0.6154122094026356\n",
       " 0.7882054380161093\n",
       " 0.0"
      ]
     },
     "metadata": {},
     "output_type": "display_data"
    },
    {
     "data": {
      "text/plain": [
       "3-element Vector{Float64}:\n",
       " 0.6154122094026342\n",
       " 0.7882054380161104\n",
       " 0.0"
      ]
     },
     "metadata": {},
     "output_type": "display_data"
    },
    {
     "data": {
      "text/plain": [
       "3-element Vector{Float64}:\n",
       " -0.6154122094026361\n",
       " -0.788205438016109\n",
       "  2.8528059231378696e-15"
      ]
     },
     "metadata": {},
     "output_type": "display_data"
    },
    {
     "data": {
      "text/plain": [
       "3-element Vector{Float64}:\n",
       " -0.6154122094026355\n",
       " -0.7882054380161093\n",
       " -5.8401898928513046e-15"
      ]
     },
     "metadata": {},
     "output_type": "display_data"
    },
    {
     "data": {
      "text/plain": [
       "3-element Vector{Float64}:\n",
       " -0.6154122094026361\n",
       " -0.7882054380161088\n",
       "  3.893459928567496e-15"
      ]
     },
     "metadata": {},
     "output_type": "display_data"
    },
    {
     "data": {
      "text/plain": [
       "3-element Vector{Float64}:\n",
       " 0.6154122094026356\n",
       " 0.7882054380161093\n",
       " 0.0"
      ]
     },
     "metadata": {},
     "output_type": "display_data"
    },
    {
     "data": {
      "text/plain": [
       "3-element Vector{Float64}:\n",
       " -0.6154122094026362\n",
       " -0.7882054380161088\n",
       " -8.535382770609867e-16"
      ]
     },
     "metadata": {},
     "output_type": "display_data"
    },
    {
     "data": {
      "text/plain": [
       "3-element Vector{Float64}:\n",
       " -0.6154122094026384\n",
       " -0.7882054380161071\n",
       " -4.267691385304973e-16"
      ]
     },
     "metadata": {},
     "output_type": "display_data"
    },
    {
     "data": {
      "text/plain": [
       "3-element Vector{Float64}:\n",
       " -0.6154122094026362\n",
       " -0.7882054380161088\n",
       "  1.0398455449064826e-15"
      ]
     },
     "metadata": {},
     "output_type": "display_data"
    },
    {
     "data": {
      "text/plain": [
       "3-element Vector{Float64}:\n",
       "  0.6154122094026351\n",
       "  0.7882054380161096\n",
       " -2.4570289180412366e-16"
      ]
     },
     "metadata": {},
     "output_type": "display_data"
    },
    {
     "data": {
      "text/plain": [
       "3-element Vector{Float64}:\n",
       " -0.6154122094026357\n",
       " -0.7882054380161091\n",
       "  2.386633523262551e-15"
      ]
     },
     "metadata": {},
     "output_type": "display_data"
    },
    {
     "data": {
      "text/plain": [
       "3-element Vector{Float64}:\n",
       " -0.6154122094026356\n",
       " -0.7882054380161093\n",
       " -3.586517495117962e-15"
      ]
     },
     "metadata": {},
     "output_type": "display_data"
    },
    {
     "data": {
      "text/plain": [
       "3-element Vector{Float64}:\n",
       " -0.6154122094026356\n",
       " -0.7882054380161093\n",
       " -1.7932587475589982e-15"
      ]
     },
     "metadata": {},
     "output_type": "display_data"
    },
    {
     "data": {
      "text/plain": [
       "3-element Vector{Float64}:\n",
       " -0.6154122094026357\n",
       " -0.7882054380161091\n",
       " -2.800268241344773e-15"
      ]
     },
     "metadata": {},
     "output_type": "display_data"
    },
    {
     "data": {
      "text/plain": [
       "3-element Vector{Float64}:\n",
       " 0.6154122094026369\n",
       " 0.7882054380161083\n",
       " 9.723295249782634e-16"
      ]
     },
     "metadata": {},
     "output_type": "display_data"
    },
    {
     "data": {
      "text/plain": [
       "3-element Vector{Float64}:\n",
       " -0.6154122094026359\n",
       " -0.7882054380161091\n",
       "  8.091209912374668e-16"
      ]
     },
     "metadata": {},
     "output_type": "display_data"
    },
    {
     "data": {
      "text/plain": [
       "3-element Vector{Float64}:\n",
       " -0.6154122094026356\n",
       " -0.7882054380161091\n",
       " -6.401537077957392e-16"
      ]
     },
     "metadata": {},
     "output_type": "display_data"
    },
    {
     "data": {
      "text/plain": [
       "3-element Vector{Float64}:\n",
       " -0.6154122094026353\n",
       " -0.7882054380161094\n",
       " -2.8002682413447684e-15"
      ]
     },
     "metadata": {},
     "output_type": "display_data"
    },
    {
     "data": {
      "text/plain": [
       "3-element Vector{Float64}:\n",
       " -0.6154122094026362\n",
       " -0.7882054380161088\n",
       "  0.0"
      ]
     },
     "metadata": {},
     "output_type": "display_data"
    },
    {
     "data": {
      "text/plain": [
       "3-element Vector{Float64}:\n",
       " -0.615412209402636\n",
       " -0.788205438016109\n",
       " -1.346787978356073e-15"
      ]
     },
     "metadata": {},
     "output_type": "display_data"
    },
    {
     "data": {
      "text/plain": [
       "3-element Vector{Float64}:\n",
       " 0.6154122094026354\n",
       " 0.7882054380161095\n",
       " 1.1779660608850403e-16"
      ]
     },
     "metadata": {},
     "output_type": "display_data"
    },
    {
     "data": {
      "text/plain": [
       "3-element Vector{Float64}:\n",
       "  0.6154122094026362\n",
       "  0.7882054380161088\n",
       " -2.15746215533895e-16"
      ]
     },
     "metadata": {},
     "output_type": "display_data"
    },
    {
     "data": {
      "text/plain": [
       "3-element Vector{Float64}:\n",
       " -0.6154122094026356\n",
       " -0.7882054380161093\n",
       "  4.986651615790349e-15"
      ]
     },
     "metadata": {},
     "output_type": "display_data"
    },
    {
     "data": {
      "text/plain": [
       "3-element Vector{Float64}:\n",
       " -0.6154122094026342\n",
       " -0.7882054380161103\n",
       " -5.741908736129711e-16"
      ]
     },
     "metadata": {},
     "output_type": "display_data"
    },
    {
     "data": {
      "text/plain": [
       "3-element Vector{Float64}:\n",
       " -0.6154122094026354\n",
       " -0.7882054380161093\n",
       "  0.0"
      ]
     },
     "metadata": {},
     "output_type": "display_data"
    },
    {
     "data": {
      "text/plain": [
       "3-element Vector{Float64}:\n",
       " -0.6154122094026359\n",
       " -0.788205438016109\n",
       " -7.479977423685517e-15"
      ]
     },
     "metadata": {},
     "output_type": "display_data"
    },
    {
     "data": {
      "text/plain": [
       "3-element Vector{Float64}:\n",
       " -0.6154122094026326\n",
       " -0.7882054380161115\n",
       " -3.1933928682313737e-15"
      ]
     },
     "metadata": {},
     "output_type": "display_data"
    },
    {
     "data": {
      "text/plain": [
       "3-element Vector{Float64}:\n",
       " -0.6154122094026336\n",
       " -0.7882054380161108\n",
       "  3.893459928567518e-15"
      ]
     },
     "metadata": {},
     "output_type": "display_data"
    },
    {
     "data": {
      "text/plain": [
       "3-element Vector{Float64}:\n",
       " 0.6154122094026356\n",
       " 0.7882054380161093\n",
       " 0.0"
      ]
     },
     "metadata": {},
     "output_type": "display_data"
    },
    {
     "data": {
      "text/plain": [
       "3-element Vector{Float64}:\n",
       " -0.615412209402637\n",
       " -0.7882054380161081\n",
       "  1.5199608257532718e-15"
      ]
     },
     "metadata": {},
     "output_type": "display_data"
    },
    {
     "data": {
      "text/plain": [
       "3-element Vector{Float64}:\n",
       " -0.6154122094026377\n",
       " -0.7882054380161077\n",
       " -5.053940639078139e-15"
      ]
     },
     "metadata": {},
     "output_type": "display_data"
    },
    {
     "data": {
      "text/plain": [
       "3-element Vector{Float64}:\n",
       "  0.6154122094026355\n",
       "  0.7882054380161093\n",
       " -3.0694243344962644e-16"
      ]
     },
     "metadata": {},
     "output_type": "display_data"
    },
    {
     "data": {
      "text/plain": [
       "3-element Vector{Float64}:\n",
       " -0.6154122094026327\n",
       " -0.7882054380161115\n",
       " -2.800268241344761e-15"
      ]
     },
     "metadata": {},
     "output_type": "display_data"
    },
    {
     "data": {
      "text/plain": [
       "3-element Vector{Float64}:\n",
       " -0.615412209402634\n",
       " -0.7882054380161106\n",
       " -3.038886194342955e-15"
      ]
     },
     "metadata": {},
     "output_type": "display_data"
    },
    {
     "data": {
      "text/plain": [
       "3-element Vector{Float64}:\n",
       " -0.6154122094026345\n",
       " -0.7882054380161101\n",
       "  1.2358901297679643e-15"
      ]
     },
     "metadata": {},
     "output_type": "display_data"
    },
    {
     "data": {
      "text/plain": [
       "3-element Vector{Float64}:\n",
       " 0.6154122094026375\n",
       " 0.7882054380161078\n",
       " 4.932497012950793e-16"
      ]
     },
     "metadata": {},
     "output_type": "display_data"
    },
    {
     "data": {
      "text/plain": [
       "3-element Vector{Float64}:\n",
       " -0.6154122094026355\n",
       " -0.7882054380161093\n",
       " -2.133845692652514e-16"
      ]
     },
     "metadata": {},
     "output_type": "display_data"
    },
    {
     "data": {
      "text/plain": [
       "3-element Vector{Float64}:\n",
       " 0.6154122094026344\n",
       " 0.7882054380161101\n",
       " 3.8655741666245724e-16"
      ]
     },
     "metadata": {},
     "output_type": "display_data"
    },
    {
     "data": {
      "text/plain": [
       "3-element Vector{Float64}:\n",
       " -0.615412209402634\n",
       " -0.7882054380161105\n",
       " -2.8002682413447838e-15"
      ]
     },
     "metadata": {},
     "output_type": "display_data"
    },
    {
     "data": {
      "text/plain": [
       "3-element Vector{Float64}:\n",
       " -0.6154122094026357\n",
       " -0.7882054380161092\n",
       "  2.493325807895204e-15"
      ]
     },
     "metadata": {},
     "output_type": "display_data"
    },
    {
     "data": {
      "text/plain": [
       "3-element Vector{Float64}:\n",
       " 0.6154122094026366\n",
       " 0.7882054380161084\n",
       " 0.0"
      ]
     },
     "metadata": {},
     "output_type": "display_data"
    },
    {
     "data": {
      "text/plain": [
       "3-element Vector{Float64}:\n",
       " -0.6154122094026355\n",
       " -0.7882054380161093\n",
       " -8.895898343016283e-15"
      ]
     },
     "metadata": {},
     "output_type": "display_data"
    },
    {
     "data": {
      "text/plain": [
       "3-element Vector{Float64}:\n",
       " -0.6154122094026377\n",
       " -0.7882054380161077\n",
       "  5.849636477925941e-16"
      ]
     },
     "metadata": {},
     "output_type": "display_data"
    },
    {
     "data": {
      "text/plain": [
       "3-element Vector{Float64}:\n",
       "  0.615412209402634\n",
       "  0.7882054380161106\n",
       " -2.7595030001568695e-17"
      ]
     },
     "metadata": {},
     "output_type": "display_data"
    },
    {
     "data": {
      "text/plain": [
       "3-element Vector{Float64}:\n",
       " -0.615412209402634\n",
       " -0.7882054380161105\n",
       " -2.8002682413447838e-15"
      ]
     },
     "metadata": {},
     "output_type": "display_data"
    },
    {
     "data": {
      "text/plain": [
       "3-element Vector{Float64}:\n",
       " -0.6154122094026361\n",
       " -0.7882054380161089\n",
       " -1.5475558557548584e-15"
      ]
     },
     "metadata": {},
     "output_type": "display_data"
    },
    {
     "data": {
      "text/plain": [
       "3-element Vector{Float64}:\n",
       " -0.6154122094026357\n",
       " -0.7882054380161092\n",
       "  2.6636192804419173e-15"
      ]
     },
     "metadata": {},
     "output_type": "display_data"
    },
    {
     "data": {
      "text/plain": [
       "3-element Vector{Float64}:\n",
       " -0.6154122094026357\n",
       " -0.7882054380161092\n",
       "  5.999419859277062e-16"
      ]
     },
     "metadata": {},
     "output_type": "display_data"
    },
    {
     "data": {
      "text/plain": [
       "3-element Vector{Float64}:\n",
       "  0.615412209402635\n",
       "  0.7882054380161098\n",
       " -1.83427892995046e-16"
      ]
     },
     "metadata": {},
     "output_type": "display_data"
    },
    {
     "data": {
      "text/plain": [
       "3-element Vector{Float64}:\n",
       " 0.6154122094026359\n",
       " 0.7882054380161091\n",
       " 2.18638337444558e-15"
      ]
     },
     "metadata": {},
     "output_type": "display_data"
    },
    {
     "data": {
      "text/plain": [
       "3-element Vector{Float64}:\n",
       " -0.615412209402636\n",
       " -0.7882054380161091\n",
       "  0.0"
      ]
     },
     "metadata": {},
     "output_type": "display_data"
    },
    {
     "data": {
      "text/plain": [
       "3-element Vector{Float64}:\n",
       " -0.6154122094026352\n",
       " -0.7882054380161095\n",
       " -8.025537810133252e-16"
      ]
     },
     "metadata": {},
     "output_type": "display_data"
    },
    {
     "data": {
      "text/plain": [
       "3-element Vector{Float64}:\n",
       " -0.6154122094026355\n",
       " -0.7882054380161093\n",
       "  1.0931916872227978e-15"
      ]
     },
     "metadata": {},
     "output_type": "display_data"
    },
    {
     "data": {
      "text/plain": [
       "3-element Vector{Float64}:\n",
       " -0.6154122094026363\n",
       " -0.7882054380161088\n",
       " -3.8934599285675374e-15"
      ]
     },
     "metadata": {},
     "output_type": "display_data"
    },
    {
     "data": {
      "text/plain": [
       "3-element Vector{Float64}:\n",
       "  0.6154122094026359\n",
       "  0.788205438016109\n",
       " -3.0694243344962614e-16"
      ]
     },
     "metadata": {},
     "output_type": "display_data"
    },
    {
     "data": {
      "text/plain": [
       "3-element Vector{Float64}:\n",
       " -0.6154122094026372\n",
       " -0.7882054380161079\n",
       " -2.8002682413447467e-15"
      ]
     },
     "metadata": {},
     "output_type": "display_data"
    },
    {
     "data": {
      "text/plain": [
       "3-element Vector{Float64}:\n",
       " 0.6154122094026342\n",
       " 0.7882054380161104\n",
       " 0.0"
      ]
     },
     "metadata": {},
     "output_type": "display_data"
    },
    {
     "data": {
      "text/plain": [
       "3-element Vector{Float64}:\n",
       " -0.6154122094026382\n",
       " -0.7882054380161072\n",
       "  2.373499102814267e-15"
      ]
     },
     "metadata": {},
     "output_type": "display_data"
    },
    {
     "data": {
      "text/plain": [
       "3-element Vector{Float64}:\n",
       " 0.6154122094026356\n",
       " 0.7882054380161093\n",
       " 0.0"
      ]
     },
     "metadata": {},
     "output_type": "display_data"
    },
    {
     "data": {
      "text/plain": [
       "3-element Vector{Float64}:\n",
       " 0.6154122094026336\n",
       " 0.7882054380161109\n",
       " 0.0"
      ]
     },
     "metadata": {},
     "output_type": "display_data"
    },
    {
     "data": {
      "text/plain": [
       "3-element Vector{Float64}:\n",
       " -0.615412209402634\n",
       " -0.7882054380161105\n",
       " -1.7754010345734044e-15"
      ]
     },
     "metadata": {},
     "output_type": "display_data"
    },
    {
     "data": {
      "text/plain": [
       "3-element Vector{Float64}:\n",
       "  0.6154122094026377\n",
       "  0.7882054380161075\n",
       " -3.7157907852734473e-16"
      ]
     },
     "metadata": {},
     "output_type": "display_data"
    },
    {
     "data": {
      "text/plain": [
       "3-element Vector{Float64}:\n",
       "  0.6154122094026362\n",
       "  0.7882054380161088\n",
       " -1.0931916872227856e-15"
      ]
     },
     "metadata": {},
     "output_type": "display_data"
    },
    {
     "data": {
      "text/plain": [
       "3-element Vector{Float64}:\n",
       " -0.6154122094026355\n",
       " -0.7882054380161093\n",
       " -8.259432470594056e-16"
      ]
     },
     "metadata": {},
     "output_type": "display_data"
    },
    {
     "data": {
      "text/plain": [
       "3-element Vector{Float64}:\n",
       " -0.6154122094026361\n",
       " -0.7882054380161089\n",
       " -5.586593601718056e-15"
      ]
     },
     "metadata": {},
     "output_type": "display_data"
    },
    {
     "data": {
      "text/plain": [
       "3-element Vector{Float64}:\n",
       " -0.6154122094026385\n",
       " -0.7882054380161071\n",
       " -2.8002682413447605e-15"
      ]
     },
     "metadata": {},
     "output_type": "display_data"
    },
    {
     "data": {
      "text/plain": [
       "3-element Vector{Float64}:\n",
       " -0.6154122094026346\n",
       " -0.7882054380161101\n",
       " -2.4933258078950815e-15"
      ]
     },
     "metadata": {},
     "output_type": "display_data"
    },
    {
     "data": {
      "text/plain": [
       "3-element Vector{Float64}:\n",
       " -0.6154122094026343\n",
       " -0.7882054380161103\n",
       " -2.8002682413447538e-15"
      ]
     },
     "metadata": {},
     "output_type": "display_data"
    },
    {
     "data": {
      "text/plain": [
       "3-element Vector{Float64}:\n",
       "  0.6154122094026389\n",
       "  0.7882054380161068\n",
       " -3.840922246774436e-15"
      ]
     },
     "metadata": {},
     "output_type": "display_data"
    },
    {
     "data": {
      "text/plain": [
       "3-element Vector{Float64}:\n",
       " 0.6154122094026326\n",
       " 0.7882054380161115\n",
       " 0.0"
      ]
     },
     "metadata": {},
     "output_type": "display_data"
    },
    {
     "data": {
      "text/plain": [
       "3-element Vector{Float64}:\n",
       " -0.6154122094026382\n",
       " -0.7882054380161072\n",
       "  6.724720303346254e-16"
      ]
     },
     "metadata": {},
     "output_type": "display_data"
    },
    {
     "data": {
      "text/plain": [
       "3-element Vector{Float64}:\n",
       " 0.6154122094026342\n",
       " 0.7882054380161104\n",
       " 0.0"
      ]
     },
     "metadata": {},
     "output_type": "display_data"
    },
    {
     "data": {
      "text/plain": [
       "3-element Vector{Float64}:\n",
       "  0.615412209402638\n",
       "  0.7882054380161074\n",
       " -2.5175237344644604e-16"
      ]
     },
     "metadata": {},
     "output_type": "display_data"
    },
    {
     "data": {
      "text/plain": [
       "3-element Vector{Float64}:\n",
       " -0.6154122094026363\n",
       " -0.7882054380161088\n",
       "  0.0"
      ]
     },
     "metadata": {},
     "output_type": "display_data"
    },
    {
     "data": {
      "text/plain": [
       "3-element Vector{Float64}:\n",
       " -0.6154122094026367\n",
       " -0.7882054380161083\n",
       "  1.0992411688651191e-15"
      ]
     },
     "metadata": {},
     "output_type": "display_data"
    },
    {
     "data": {
      "text/plain": [
       "3-element Vector{Float64}:\n",
       " 0.6154122094026356\n",
       " 0.7882054380161093\n",
       " 2.0261179508560696e-16"
      ]
     },
     "metadata": {},
     "output_type": "display_data"
    },
    {
     "data": {
      "text/plain": [
       "3-element Vector{Float64}:\n",
       " 0.6154122094026359\n",
       " 0.7882054380161091\n",
       " 2.1863833744455783e-15"
      ]
     },
     "metadata": {},
     "output_type": "display_data"
    },
    {
     "data": {
      "text/plain": [
       "3-element Vector{Float64}:\n",
       " -0.6154122094026344\n",
       " -0.7882054380161102\n",
       "  9.733649821418913e-16"
      ]
     },
     "metadata": {},
     "output_type": "display_data"
    },
    {
     "data": {
      "text/plain": [
       "3-element Vector{Float64}:\n",
       " -0.6154122094026366\n",
       " -0.7882054380161085\n",
       "  1.912567724058067e-15"
      ]
     },
     "metadata": {},
     "output_type": "display_data"
    },
    {
     "data": {
      "text/plain": [
       "3-element Vector{Float64}:\n",
       " 0.6154122094026364\n",
       " 0.7882054380161085\n",
       " 1.9656231344330467e-16"
      ]
     },
     "metadata": {},
     "output_type": "display_data"
    },
    {
     "data": {
      "text/plain": [
       "3-element Vector{Float64}:\n",
       " 0.6154122094026356\n",
       " 0.7882054380161093\n",
       " 0.0"
      ]
     },
     "metadata": {},
     "output_type": "display_data"
    },
    {
     "data": {
      "text/plain": [
       "3-element Vector{Float64}:\n",
       " -0.6154122094026356\n",
       " -0.7882054380161093\n",
       " -1.946729964283771e-15"
      ]
     },
     "metadata": {},
     "output_type": "display_data"
    },
    {
     "data": {
      "text/plain": [
       "3-element Vector{Float64}:\n",
       "  0.6154122094026354\n",
       "  0.7882054380161095\n",
       " -6.569759636176855e-16"
      ]
     },
     "metadata": {},
     "output_type": "display_data"
    },
    {
     "data": {
      "text/plain": [
       "3-element Vector{Float64}:\n",
       " -0.6154122094026365\n",
       " -0.7882054380161084\n",
       " -2.8002682413447495e-15"
      ]
     },
     "metadata": {},
     "output_type": "display_data"
    },
    {
     "data": {
      "text/plain": [
       "3-element Vector{Float64}:\n",
       " -0.6154122094026355\n",
       " -0.7882054380161094\n",
       " -2.339854591170367e-15"
      ]
     },
     "metadata": {},
     "output_type": "display_data"
    },
    {
     "data": {
      "text/plain": [
       "3-element Vector{Float64}:\n",
       " -0.6154122094026359\n",
       " -0.7882054380161092\n",
       " -4.2676913853049387e-16"
      ]
     },
     "metadata": {},
     "output_type": "display_data"
    },
    {
     "data": {
      "text/plain": [
       "3-element Vector{Float64}:\n",
       " -0.6154122094026364\n",
       " -0.7882054380161088\n",
       " -8.966293737794995e-16"
      ]
     },
     "metadata": {},
     "output_type": "display_data"
    },
    {
     "data": {
      "text/plain": [
       "3-element Vector{Float64}:\n",
       " -0.6154122094026352\n",
       " -0.7882054380161094\n",
       "  8.582615695982934e-16"
      ]
     },
     "metadata": {},
     "output_type": "display_data"
    },
    {
     "data": {
      "text/plain": [
       "3-element Vector{Float64}:\n",
       " 0.6154122094026351\n",
       " 0.7882054380161096\n",
       " 7.414596053385508e-16"
      ]
     },
     "metadata": {},
     "output_type": "display_data"
    },
    {
     "data": {
      "text/plain": [
       "3-element Vector{Float64}:\n",
       " 0.6154122094026354\n",
       " 0.7882054380161094\n",
       " 3.872949837371945e-15"
      ]
     },
     "metadata": {},
     "output_type": "display_data"
    },
    {
     "data": {
      "text/plain": [
       "3-element Vector{Float64}:\n",
       " 0.6154122094026356\n",
       " 0.7882054380161093\n",
       " 0.0"
      ]
     },
     "metadata": {},
     "output_type": "display_data"
    },
    {
     "data": {
      "text/plain": [
       "3-element Vector{Float64}:\n",
       " -0.6154122094026355\n",
       " -0.7882054380161093\n",
       "  6.701103840659792e-16"
      ]
     },
     "metadata": {},
     "output_type": "display_data"
    },
    {
     "data": {
      "text/plain": [
       "3-element Vector{Float64}:\n",
       " 0.6154122094026352\n",
       " 0.7882054380161095\n",
       " 0.0"
      ]
     },
     "metadata": {},
     "output_type": "display_data"
    },
    {
     "data": {
      "text/plain": [
       "3-element Vector{Float64}:\n",
       " -0.6154122094026359\n",
       " -0.7882054380161092\n",
       "  0.0"
      ]
     },
     "metadata": {},
     "output_type": "display_data"
    },
    {
     "data": {
      "text/plain": [
       "3-element Vector{Float64}:\n",
       " 0.6154122094026356\n",
       " 0.7882054380161093\n",
       " 0.0"
      ]
     },
     "metadata": {},
     "output_type": "display_data"
    },
    {
     "data": {
      "text/plain": [
       "3-element Vector{Float64}:\n",
       " 0.6154122094026372\n",
       " 0.7882054380161081\n",
       " 1.5704275932191262e-15"
      ]
     },
     "metadata": {},
     "output_type": "display_data"
    },
    {
     "data": {
      "text/plain": [
       "3-element Vector{Float64}:\n",
       " -0.6154122094026355\n",
       " -0.7882054380161093\n",
       " -1.1160634246870555e-15"
      ]
     },
     "metadata": {},
     "output_type": "display_data"
    },
    {
     "data": {
      "text/plain": [
       "3-element Vector{Float64}:\n",
       " -0.6154122094026361\n",
       " -0.7882054380161089\n",
       "  0.0"
      ]
     },
     "metadata": {},
     "output_type": "display_data"
    },
    {
     "data": {
      "text/plain": [
       "3-element Vector{Float64}:\n",
       " -0.6154122094026365\n",
       " -0.7882054380161084\n",
       " -1.0585117184152644e-15"
      ]
     },
     "metadata": {},
     "output_type": "display_data"
    },
    {
     "data": {
      "text/plain": [
       "3-element Vector{Float64}:\n",
       " -0.6154122094026351\n",
       " -0.7882054380161096\n",
       "  9.656169487834255e-16"
      ]
     },
     "metadata": {},
     "output_type": "display_data"
    },
    {
     "data": {
      "text/plain": [
       "3-element Vector{Float64}:\n",
       " -0.6154122094026357\n",
       " -0.7882054380161091\n",
       "  6.916559324252172e-16"
      ]
     },
     "metadata": {},
     "output_type": "display_data"
    },
    {
     "data": {
      "text/plain": [
       "3-element Vector{Float64}:\n",
       " -0.6154122094026355\n",
       " -0.7882054380161094\n",
       "  1.2190678739460121e-15"
      ]
     },
     "metadata": {},
     "output_type": "display_data"
    },
    {
     "data": {
      "text/plain": [
       "3-element Vector{Float64}:\n",
       "  0.6154122094026355\n",
       "  0.7882054380161094\n",
       " -1.1369458784937995e-15"
      ]
     },
     "metadata": {},
     "output_type": "display_data"
    },
    {
     "data": {
      "text/plain": [
       "3-element Vector{Float64}:\n",
       " -0.6154122094026353\n",
       " -0.7882054380161095\n",
       " -5.933747757035691e-16"
      ]
     },
     "metadata": {},
     "output_type": "display_data"
    },
    {
     "data": {
      "text/plain": [
       "3-element Vector{Float64}:\n",
       " -0.6154122094026365\n",
       " -0.7882054380161085\n",
       "  1.2634851597695337e-15"
      ]
     },
     "metadata": {},
     "output_type": "display_data"
    },
    {
     "data": {
      "text/plain": [
       "3-element Vector{Float64}:\n",
       " -0.6154122094026355\n",
       " -0.7882054380161093\n",
       "  0.0"
      ]
     },
     "metadata": {},
     "output_type": "display_data"
    },
    {
     "data": {
      "text/plain": [
       "3-element Vector{Float64}:\n",
       " 0.6154122094026359\n",
       " 0.7882054380161091\n",
       " 2.1863833744455795e-15"
      ]
     },
     "metadata": {},
     "output_type": "display_data"
    },
    {
     "data": {
      "text/plain": [
       "3-element Vector{Float64}:\n",
       "  0.6154122094026349\n",
       "  0.7882054380161098\n",
       " -2.2076024001260197e-16"
      ]
     },
     "metadata": {},
     "output_type": "display_data"
    },
    {
     "data": {
      "text/plain": [
       "3-element Vector{Float64}:\n",
       " -0.6154122094026344\n",
       " -0.7882054380161102\n",
       "  2.2536723977333693e-15"
      ]
     },
     "metadata": {},
     "output_type": "display_data"
    },
    {
     "data": {
      "text/plain": [
       "3-element Vector{Float64}:\n",
       " 0.615412209402636\n",
       " 0.7882054380161091\n",
       " 4.3091096718508566e-17"
      ]
     },
     "metadata": {},
     "output_type": "display_data"
    },
    {
     "data": {
      "text/plain": [
       "3-element Vector{Float64}:\n",
       " -0.6154122094026364\n",
       " -0.7882054380161087\n",
       " -3.4141531082439435e-15"
      ]
     },
     "metadata": {},
     "output_type": "display_data"
    },
    {
     "data": {
      "text/plain": [
       "3-element Vector{Float64}:\n",
       "  0.6154122094026344\n",
       "  0.7882054380161102\n",
       " -6.728902328780612e-17"
      ]
     },
     "metadata": {},
     "output_type": "display_data"
    },
    {
     "data": {
      "text/plain": [
       "3-element Vector{Float64}:\n",
       " -0.6154122094026362\n",
       " -0.7882054380161087\n",
       "  3.2270373798752532e-15"
      ]
     },
     "metadata": {},
     "output_type": "display_data"
    },
    {
     "data": {
      "text/plain": [
       "3-element Vector{Float64}:\n",
       "  0.6154122094026369\n",
       "  0.7882054380161084\n",
       " -1.836349844277456e-15"
      ]
     },
     "metadata": {},
     "output_type": "display_data"
    },
    {
     "data": {
      "text/plain": [
       "3-element Vector{Float64}:\n",
       " -0.615412209402635\n",
       " -0.7882054380161098\n",
       "  1.8437255150248303e-15"
      ]
     },
     "metadata": {},
     "output_type": "display_data"
    },
    {
     "data": {
      "text/plain": [
       "3-element Vector{Float64}:\n",
       "  0.615412209402634\n",
       "  0.7882054380161104\n",
       " -5.910131294349165e-16"
      ]
     },
     "metadata": {},
     "output_type": "display_data"
    },
    {
     "data": {
      "text/plain": [
       "3-element Vector{Float64}:\n",
       " -0.6154122094026352\n",
       " -0.7882054380161095\n",
       " -1.5068264053050055e-15"
      ]
     },
     "metadata": {},
     "output_type": "display_data"
    },
    {
     "data": {
      "text/plain": [
       "3-element Vector{Float64}:\n",
       " -0.6154122094026352\n",
       " -0.7882054380161096\n",
       "  0.0"
      ]
     },
     "metadata": {},
     "output_type": "display_data"
    },
    {
     "data": {
      "text/plain": [
       "3-element Vector{Float64}:\n",
       " 0.6154122094026352\n",
       " 0.7882054380161096\n",
       " 3.200768538978558e-16"
      ]
     },
     "metadata": {},
     "output_type": "display_data"
    },
    {
     "data": {
      "text/plain": [
       "3-element Vector{Float64}:\n",
       "  0.6154122094026352\n",
       "  0.7882054380161096\n",
       " -6.485648357067162e-16"
      ]
     },
     "metadata": {},
     "output_type": "display_data"
    },
    {
     "data": {
      "text/plain": [
       "3-element Vector{Float64}:\n",
       " -0.6154122094026354\n",
       " -0.7882054380161094\n",
       "  5.99941985927706e-16"
      ]
     },
     "metadata": {},
     "output_type": "display_data"
    },
    {
     "data": {
      "text/plain": [
       "3-element Vector{Float64}:\n",
       "  0.6154122094026357\n",
       "  0.7882054380161091\n",
       " -4.932497012950828e-16"
      ]
     },
     "metadata": {},
     "output_type": "display_data"
    },
    {
     "data": {
      "text/plain": [
       "3-element Vector{Float64}:\n",
       "  0.6154122094026366\n",
       "  0.7882054380161085\n",
       " -4.099468827085433e-16"
      ]
     },
     "metadata": {},
     "output_type": "display_data"
    },
    {
     "data": {
      "text/plain": [
       "3-element Vector{Float64}:\n",
       "  0.6154122094026357\n",
       "  0.7882054380161092\n",
       " -1.6424399090441989e-16"
      ]
     },
     "metadata": {},
     "output_type": "display_data"
    },
    {
     "data": {
      "text/plain": [
       "3-element Vector{Float64}:\n",
       " -0.6154122094026349\n",
       " -0.7882054380161098\n",
       " -5.250502952521451e-16"
      ]
     },
     "metadata": {},
     "output_type": "display_data"
    },
    {
     "data": {
      "text/plain": [
       "3-element Vector{Float64}:\n",
       " 0.6154122094026363\n",
       " 0.7882054380161088\n",
       " 0.0"
      ]
     },
     "metadata": {},
     "output_type": "display_data"
    },
    {
     "data": {
      "text/plain": [
       "3-element Vector{Float64}:\n",
       " 0.6154122094026364\n",
       " 0.7882054380161085\n",
       " 5.802403552552915e-16"
      ]
     },
     "metadata": {},
     "output_type": "display_data"
    },
    {
     "data": {
      "text/plain": [
       "3-element Vector{Float64}:\n",
       " -0.6154122094026357\n",
       " -0.7882054380161092\n",
       "  0.0"
      ]
     },
     "metadata": {},
     "output_type": "display_data"
    },
    {
     "data": {
      "text/plain": [
       "3-element Vector{Float64}:\n",
       " -0.6154122094026357\n",
       " -0.7882054380161092\n",
       "  0.0"
      ]
     },
     "metadata": {},
     "output_type": "display_data"
    },
    {
     "data": {
      "text/plain": [
       "3-element Vector{Float64}:\n",
       " 0.6154122094026355\n",
       " 0.7882054380161093\n",
       " 1.0931916872227848e-15"
      ]
     },
     "metadata": {},
     "output_type": "display_data"
    },
    {
     "data": {
      "text/plain": [
       "3-element Vector{Float64}:\n",
       " -0.6154122094026359\n",
       " -0.7882054380161091\n",
       " -8.535382770609905e-16"
      ]
     },
     "metadata": {},
     "output_type": "display_data"
    },
    {
     "data": {
      "text/plain": [
       "3-element Vector{Float64}:\n",
       " 0.6154122094026364\n",
       " 0.7882054380161088\n",
       " 0.0"
      ]
     },
     "metadata": {},
     "output_type": "display_data"
    },
    {
     "data": {
      "text/plain": [
       "3-element Vector{Float64}:\n",
       " 0.6154122094026355\n",
       " 0.7882054380161093\n",
       " 0.0"
      ]
     },
     "metadata": {},
     "output_type": "display_data"
    },
    {
     "data": {
      "text/plain": [
       "3-element Vector{Float64}:\n",
       " -0.6154122094026341\n",
       " -0.7882054380161104\n",
       " -4.5073447954667275e-15"
      ]
     },
     "metadata": {},
     "output_type": "display_data"
    },
    {
     "data": {
      "text/plain": [
       "3-element Vector{Float64}:\n",
       " 0.6154122094026356\n",
       " 0.7882054380161093\n",
       " 7.862492537731705e-16"
      ]
     },
     "metadata": {},
     "output_type": "display_data"
    },
    {
     "data": {
      "text/plain": [
       "3-element Vector{Float64}:\n",
       " -0.6154122094026356\n",
       " -0.7882054380161092\n",
       "  2.800268241344737e-15"
      ]
     },
     "metadata": {},
     "output_type": "display_data"
    },
    {
     "data": {
      "text/plain": [
       "3-element Vector{Float64}:\n",
       " -0.6154122094026334\n",
       " -0.788205438016111\n",
       "  2.6898881213384764e-15"
      ]
     },
     "metadata": {},
     "output_type": "display_data"
    },
    {
     "data": {
      "text/plain": [
       "3-element Vector{Float64}:\n",
       " -0.6154122094026335\n",
       " -0.7882054380161109\n",
       " -5.465958436114137e-16"
      ]
     },
     "metadata": {},
     "output_type": "display_data"
    },
    {
     "data": {
      "text/plain": [
       "3-element Vector{Float64}:\n",
       " 0.6154122094026371\n",
       " 0.7882054380161081\n",
       " 0.0"
      ]
     },
     "metadata": {},
     "output_type": "display_data"
    },
    {
     "data": {
      "text/plain": [
       "3-element Vector{Float64}:\n",
       " 0.6154122094026362\n",
       " 0.7882054380161089\n",
       " 1.09319168722279e-15"
      ]
     },
     "metadata": {},
     "output_type": "display_data"
    },
    {
     "data": {
      "text/plain": [
       "3-element Vector{Float64}:\n",
       " -0.6154122094026362\n",
       " -0.7882054380161088\n",
       " -1.0501005905042903e-15"
      ]
     },
     "metadata": {},
     "output_type": "display_data"
    },
    {
     "data": {
      "text/plain": [
       "3-element Vector{Float64}:\n",
       " 0.6154122094026357\n",
       " 0.7882054380161092\n",
       " 1.2971296714134302e-15"
      ]
     },
     "metadata": {},
     "output_type": "display_data"
    },
    {
     "data": {
      "text/plain": [
       "3-element Vector{Float64}:\n",
       " -0.6154122094026355\n",
       " -0.7882054380161092\n",
       " -1.1160634246870634e-15"
      ]
     },
     "metadata": {},
     "output_type": "display_data"
    },
    {
     "data": {
      "text/plain": [
       "3-element Vector{Float64}:\n",
       " -0.6154122094026354\n",
       " -0.7882054380161093\n",
       " -4.372766748891166e-15"
      ]
     },
     "metadata": {},
     "output_type": "display_data"
    },
    {
     "data": {
      "text/plain": [
       "3-element Vector{Float64}:\n",
       " -0.6154122094026352\n",
       " -0.7882054380161095\n",
       " -1.3785885723131297e-15"
      ]
     },
     "metadata": {},
     "output_type": "display_data"
    },
    {
     "data": {
      "text/plain": [
       "3-element Vector{Float64}:\n",
       " 0.6154122094026352\n",
       " 0.7882054380161096\n",
       " 2.1863833744455338e-15"
      ]
     },
     "metadata": {},
     "output_type": "display_data"
    },
    {
     "data": {
      "text/plain": [
       "3-element Vector{Float64}:\n",
       " 0.6154122094026354\n",
       " 0.7882054380161094\n",
       " 3.5844465807906967e-16"
      ]
     },
     "metadata": {},
     "output_type": "display_data"
    },
    {
     "data": {
      "text/plain": [
       "3-element Vector{Float64}:\n",
       " -0.6154122094026352\n",
       " -0.7882054380161096\n",
       "  2.800268241344749e-15"
      ]
     },
     "metadata": {},
     "output_type": "display_data"
    },
    {
     "data": {
      "text/plain": [
       "3-element Vector{Float64}:\n",
       " -0.6154122094026359\n",
       " -0.7882054380161091\n",
       " -3.3468640849561423e-15"
      ]
     },
     "metadata": {},
     "output_type": "display_data"
    },
    {
     "data": {
      "text/plain": [
       "3-element Vector{Float64}:\n",
       " -0.6154122094026334\n",
       " -0.788205438016111\n",
       "  6.832448045142176e-16"
      ]
     },
     "metadata": {},
     "output_type": "display_data"
    },
    {
     "data": {
      "text/plain": [
       "3-element Vector{Float64}:\n",
       " 0.6154122094026355\n",
       " 0.7882054380161093\n",
       " 0.0"
      ]
     },
     "metadata": {},
     "output_type": "display_data"
    },
    {
     "data": {
      "text/plain": [
       "3-element Vector{Float64}:\n",
       " 0.6154122094026344\n",
       " 0.7882054380161102\n",
       " 0.0"
      ]
     },
     "metadata": {},
     "output_type": "display_data"
    },
    {
     "data": {
      "text/plain": [
       "3-element Vector{Float64}:\n",
       " -0.6154122094026341\n",
       " -0.7882054380161104\n",
       " -4.950936189819174e-16"
      ]
     },
     "metadata": {},
     "output_type": "display_data"
    },
    {
     "data": {
      "text/plain": [
       "3-element Vector{Float64}:\n",
       " 0.6154122094026354\n",
       " 0.7882054380161093\n",
       " 8.535382770609876e-16"
      ]
     },
     "metadata": {},
     "output_type": "display_data"
    },
    {
     "data": {
      "text/plain": [
       "3-element Vector{Float64}:\n",
       "  0.6154122094026355\n",
       "  0.7882054380161092\n",
       " -1.9656231344328963e-16"
      ]
     },
     "metadata": {},
     "output_type": "display_data"
    },
    {
     "data": {
      "text/plain": [
       "3-element Vector{Float64}:\n",
       " -0.615412209402636\n",
       " -0.7882054380161089\n",
       "  0.0"
      ]
     },
     "metadata": {},
     "output_type": "display_data"
    },
    {
     "data": {
      "text/plain": [
       "3-element Vector{Float64}:\n",
       " -0.6154122094026357\n",
       " -0.7882054380161091\n",
       "  0.0"
      ]
     },
     "metadata": {},
     "output_type": "display_data"
    },
    {
     "data": {
      "text/plain": [
       "3-element Vector{Float64}:\n",
       " -0.6154122094026356\n",
       " -0.7882054380161092\n",
       "  2.488602515357868e-15"
      ]
     },
     "metadata": {},
     "output_type": "display_data"
    },
    {
     "data": {
      "text/plain": [
       "3-element Vector{Float64}:\n",
       " 0.6154122094026357\n",
       " 0.7882054380161092\n",
       " 7.852137966095638e-16"
      ]
     },
     "metadata": {},
     "output_type": "display_data"
    },
    {
     "data": {
      "text/plain": [
       "3-element Vector{Float64}:\n",
       " -0.6154122094026361\n",
       " -0.7882054380161089\n",
       "  6.317425798847668e-16"
      ]
     },
     "metadata": {},
     "output_type": "display_data"
    },
    {
     "data": {
      "text/plain": [
       "3-element Vector{Float64}:\n",
       "  0.6154122094026373\n",
       "  0.7882054380161079\n",
       " -2.0329121577207704e-15"
      ]
     },
     "metadata": {},
     "output_type": "display_data"
    },
    {
     "data": {
      "text/plain": [
       "3-element Vector{Float64}:\n",
       " -0.615412209402637\n",
       " -0.7882054380161083\n",
       "  3.08301274822508e-15"
      ]
     },
     "metadata": {},
     "output_type": "display_data"
    },
    {
     "data": {
      "text/plain": [
       "3-element Vector{Float64}:\n",
       " -0.6154122094026366\n",
       " -0.7882054380161083\n",
       "  3.739988711842778e-15"
      ]
     },
     "metadata": {},
     "output_type": "display_data"
    },
    {
     "data": {
      "text/plain": [
       "3-element Vector{Float64}:\n",
       "  0.615412209402636\n",
       "  0.788205438016109\n",
       " -3.2795750616683596e-15"
      ]
     },
     "metadata": {},
     "output_type": "display_data"
    },
    {
     "data": {
      "text/plain": [
       "3-element Vector{Float64}:\n",
       " -0.615412209402635\n",
       " -0.7882054380161098\n",
       " -1.1066494918803478e-14"
      ]
     },
     "metadata": {},
     "output_type": "display_data"
    },
    {
     "data": {
      "text/plain": [
       "3-element Vector{Float64}:\n",
       " -0.6154122094026371\n",
       " -0.7882054380161082\n",
       " -4.2004023620171605e-15"
      ]
     },
     "metadata": {},
     "output_type": "display_data"
    },
    {
     "data": {
      "text/plain": [
       "3-element Vector{Float64}:\n",
       " -0.615412209402636\n",
       " -0.7882054380161089\n",
       " -3.9365510252860554e-15"
      ]
     },
     "metadata": {},
     "output_type": "display_data"
    },
    {
     "data": {
      "text/plain": [
       "3-element Vector{Float64}:\n",
       " -0.6154122094026355\n",
       " -0.7882054380161092\n",
       " -2.3398545911703504e-15"
      ]
     },
     "metadata": {},
     "output_type": "display_data"
    },
    {
     "data": {
      "text/plain": [
       "3-element Vector{Float64}:\n",
       " 0.6154122094026359\n",
       " 0.7882054380161091\n",
       " 4.09946882708545e-16"
      ]
     },
     "metadata": {},
     "output_type": "display_data"
    },
    {
     "data": {
      "text/plain": [
       "3-element Vector{Float64}:\n",
       " -0.6154122094026355\n",
       " -0.7882054380161093\n",
       " -1.5260103073955995e-15"
      ]
     },
     "metadata": {},
     "output_type": "display_data"
    },
    {
     "data": {
      "text/plain": [
       "3-element Vector{Float64}:\n",
       " 0.6154122094026352\n",
       " 0.7882054380161095\n",
       " 3.279575061668363e-15"
      ]
     },
     "metadata": {},
     "output_type": "display_data"
    },
    {
     "data": {
      "text/plain": [
       "3-element Vector{Float64}:\n",
       " 0.6154122094026361\n",
       " 0.788205438016109\n",
       " 7.414596053385521e-16"
      ]
     },
     "metadata": {},
     "output_type": "display_data"
    },
    {
     "data": {
      "text/plain": [
       "3-element Vector{Float64}:\n",
       " -0.6154122094026354\n",
       " -0.7882054380161095\n",
       " -2.7797581501491444e-15"
      ]
     },
     "metadata": {},
     "output_type": "display_data"
    },
    {
     "data": {
      "text/plain": [
       "3-element Vector{Float64}:\n",
       " 0.6154122094026366\n",
       " 0.7882054380161084\n",
       " 7.8521379660956e-16"
      ]
     },
     "metadata": {},
     "output_type": "display_data"
    },
    {
     "data": {
      "text/plain": [
       "3-element Vector{Float64}:\n",
       " 0.6154122094026351\n",
       " 0.7882054380161096\n",
       " 1.0398455449064781e-15"
      ]
     },
     "metadata": {},
     "output_type": "display_data"
    },
    {
     "data": {
      "text/plain": [
       "3-element Vector{Float64}:\n",
       "  0.6154122094026354\n",
       "  0.7882054380161094\n",
       " -9.864994025901613e-16"
      ]
     },
     "metadata": {},
     "output_type": "display_data"
    },
    {
     "data": {
      "text/plain": [
       "3-element Vector{Float64}:\n",
       " -0.6154122094026367\n",
       " -0.7882054380161084\n",
       "  2.5269703195390568e-15"
      ]
     },
     "metadata": {},
     "output_type": "display_data"
    },
    {
     "data": {
      "text/plain": [
       "3-element Vector{Float64}:\n",
       " -0.6154122094026366\n",
       " -0.7882054380161084\n",
       "  1.2574356781272016e-15"
      ]
     },
     "metadata": {},
     "output_type": "display_data"
    },
    {
     "data": {
      "text/plain": [
       "3-element Vector{Float64}:\n",
       " -0.6154122094026356\n",
       " -0.7882054380161091\n",
       " -1.1160634246870609e-15"
      ]
     },
     "metadata": {},
     "output_type": "display_data"
    },
    {
     "data": {
      "text/plain": [
       "3-element Vector{Float64}:\n",
       " -0.6154122094026356\n",
       " -0.7882054380161093\n",
       "  4.2676913853049436e-16"
      ]
     },
     "metadata": {},
     "output_type": "display_data"
    },
    {
     "data": {
      "text/plain": [
       "3-element Vector{Float64}:\n",
       " -0.6154122094026354\n",
       " -0.7882054380161095\n",
       " -8.535382770609895e-16"
      ]
     },
     "metadata": {},
     "output_type": "display_data"
    },
    {
     "data": {
      "text/plain": [
       "3-element Vector{Float64}:\n",
       "  0.6154122094026355\n",
       "  0.7882054380161093\n",
       " -1.4506008881382296e-16"
      ]
     },
     "metadata": {},
     "output_type": "display_data"
    },
    {
     "data": {
      "text/plain": [
       "3-element Vector{Float64}:\n",
       " 0.6154122094026362\n",
       " 0.7882054380161088\n",
       " 5.105896856988459e-16"
      ]
     },
     "metadata": {},
     "output_type": "display_data"
    },
    {
     "data": {
      "text/plain": [
       "3-element Vector{Float64}:\n",
       " -0.6154122094026355\n",
       " -0.7882054380161092\n",
       " -1.1807000697648142e-15"
      ]
     },
     "metadata": {},
     "output_type": "display_data"
    },
    {
     "data": {
      "text/plain": [
       "3-element Vector{Float64}:\n",
       " -0.6154122094026356\n",
       " -0.7882054380161092\n",
       " -2.386633523262541e-15"
      ]
     },
     "metadata": {},
     "output_type": "display_data"
    },
    {
     "data": {
      "text/plain": [
       "3-element Vector{Float64}:\n",
       " -0.6154122094026354\n",
       " -0.7882054380161094\n",
       " -7.000670603361914e-16"
      ]
     },
     "metadata": {},
     "output_type": "display_data"
    },
    {
     "data": {
      "text/plain": [
       "3-element Vector{Float64}:\n",
       " 0.6154122094026355\n",
       " 0.7882054380161094\n",
       " 2.1338456926524666e-16"
      ]
     },
     "metadata": {},
     "output_type": "display_data"
    },
    {
     "data": {
      "text/plain": [
       "3-element Vector{Float64}:\n",
       " -0.6154122094026309\n",
       " -0.788205438016113\n",
       " -9.35941836468161e-15"
      ]
     },
     "metadata": {},
     "output_type": "display_data"
    },
    {
     "data": {
      "text/plain": [
       "3-element Vector{Float64}:\n",
       " -0.6154122094026354\n",
       " -0.7882054380161093\n",
       " -2.4933258078951935e-15"
      ]
     },
     "metadata": {},
     "output_type": "display_data"
    },
    {
     "data": {
      "text/plain": [
       "3-element Vector{Float64}:\n",
       " -0.6154122094026364\n",
       " -0.7882054380161087\n",
       " -3.6296085918364695e-15"
      ]
     },
     "metadata": {},
     "output_type": "display_data"
    },
    {
     "data": {
      "text/plain": [
       "3-element Vector{Float64}:\n",
       " 0.6154122094026323\n",
       " 0.7882054380161119\n",
       " 6.32778037048422e-16"
      ]
     },
     "metadata": {},
     "output_type": "display_data"
    },
    {
     "data": {
      "text/plain": [
       "3-element Vector{Float64}:\n",
       " -0.6154122094026363\n",
       " -0.7882054380161088\n",
       " -1.1680379785702601e-14"
      ]
     },
     "metadata": {},
     "output_type": "display_data"
    },
    {
     "data": {
      "text/plain": [
       "3-element Vector{Float64}:\n",
       " -0.6154122094026364\n",
       " -0.7882054380161087\n",
       " -5.600536482689545e-15"
      ]
     },
     "metadata": {},
     "output_type": "display_data"
    },
    {
     "data": {
      "text/plain": [
       "3-element Vector{Float64}:\n",
       " -0.6154122094026361\n",
       " -0.7882054380161089\n",
       " -1.750167650840444e-15"
      ]
     },
     "metadata": {},
     "output_type": "display_data"
    },
    {
     "data": {
      "text/plain": [
       "3-element Vector{Float64}:\n",
       " -0.6154122094026365\n",
       " -0.7882054380161087\n",
       "  2.4071436144581386e-15"
      ]
     },
     "metadata": {},
     "output_type": "display_data"
    },
    {
     "data": {
      "text/plain": [
       "3-element Vector{Float64}:\n",
       " -0.6154122094026346\n",
       " -0.7882054380161101\n",
       "  8.198937654170969e-16"
      ]
     },
     "metadata": {},
     "output_type": "display_data"
    },
    {
     "data": {
      "text/plain": [
       "3-element Vector{Float64}:\n",
       "  0.6154122094026341\n",
       "  0.7882054380161103\n",
       " -4.0389740106622893e-16"
      ]
     },
     "metadata": {},
     "output_type": "display_data"
    },
    {
     "data": {
      "text/plain": [
       "3-element Vector{Float64}:\n",
       " -0.6154122094026362\n",
       " -0.7882054380161088\n",
       " -2.2930756590782063e-15"
      ]
     },
     "metadata": {},
     "output_type": "display_data"
    },
    {
     "data": {
      "text/plain": [
       "3-element Vector{Float64}:\n",
       " -0.615412209402635\n",
       " -0.7882054380161098\n",
       "  0.0"
      ]
     },
     "metadata": {},
     "output_type": "display_data"
    },
    {
     "data": {
      "text/plain": [
       "3-element Vector{Float64}:\n",
       " -0.6154122094026363\n",
       " -0.7882054380161088\n",
       "  9.864994025901663e-16"
      ]
     },
     "metadata": {},
     "output_type": "display_data"
    },
    {
     "data": {
      "text/plain": [
       "3-element Vector{Float64}:\n",
       " 0.6154122094026356\n",
       " 0.7882054380161093\n",
       " 0.0"
      ]
     },
     "metadata": {},
     "output_type": "display_data"
    },
    {
     "data": {
      "text/plain": [
       "3-element Vector{Float64}:\n",
       " -0.6154122094026346\n",
       " -0.78820543801611\n",
       "  0.0"
      ]
     },
     "metadata": {},
     "output_type": "display_data"
    },
    {
     "data": {
      "text/plain": [
       "3-element Vector{Float64}:\n",
       " -0.6154122094026362\n",
       " -0.7882054380161089\n",
       "  1.7998259577831248e-15"
      ]
     },
     "metadata": {},
     "output_type": "display_data"
    },
    {
     "data": {
      "text/plain": [
       "3-element Vector{Float64}:\n",
       " -0.6154122094026381\n",
       " -0.7882054380161073\n",
       " -6.7273726815562165e-15"
      ]
     },
     "metadata": {},
     "output_type": "display_data"
    },
    {
     "data": {
      "text/plain": [
       "3-element Vector{Float64}:\n",
       "  0.6154122094026382\n",
       "  0.7882054380161073\n",
       " -5.802403552553102e-16"
      ]
     },
     "metadata": {},
     "output_type": "display_data"
    },
    {
     "data": {
      "text/plain": [
       "3-element Vector{Float64}:\n",
       " -0.6154122094026361\n",
       " -0.7882054380161089\n",
       " -9.289476963183543e-16"
      ]
     },
     "metadata": {},
     "output_type": "display_data"
    },
    {
     "data": {
      "text/plain": [
       "3-element Vector{Float64}:\n",
       " -0.6154122094026357\n",
       " -0.7882054380161092\n",
       "  1.2803074155914823e-15"
      ]
     },
     "metadata": {},
     "output_type": "display_data"
    },
    {
     "data": {
      "text/plain": [
       "3-element Vector{Float64}:\n",
       " -0.6154122094026355\n",
       " -0.7882054380161093\n",
       " -7.000670603361927e-16"
      ]
     },
     "metadata": {},
     "output_type": "display_data"
    },
    {
     "data": {
      "text/plain": [
       "3-element Vector{Float64}:\n",
       " -0.615412209402636\n",
       " -0.7882054380161091\n",
       " -6.53288128244018e-16"
      ]
     },
     "metadata": {},
     "output_type": "display_data"
    },
    {
     "data": {
      "text/plain": [
       "3-element Vector{Float64}:\n",
       " -0.6154122094026362\n",
       " -0.7882054380161089\n",
       " -1.1100139430447362e-15"
      ]
     },
     "metadata": {},
     "output_type": "display_data"
    },
    {
     "data": {
      "text/plain": [
       "3-element Vector{Float64}:\n",
       " -0.6154122094026354\n",
       " -0.7882054380161095\n",
       " -4.759097168913204e-16"
      ]
     },
     "metadata": {},
     "output_type": "display_data"
    },
    {
     "data": {
      "text/plain": [
       "3-element Vector{Float64}:\n",
       " -0.6154122094026353\n",
       " -0.7882054380161095\n",
       "  3.840113786251245e-15"
      ]
     },
     "metadata": {},
     "output_type": "display_data"
    },
    {
     "data": {
      "text/plain": [
       "3-element Vector{Float64}:\n",
       " -0.6154122094026356\n",
       " -0.7882054380161093\n",
       " -8.535382770609902e-16"
      ]
     },
     "metadata": {},
     "output_type": "display_data"
    },
    {
     "data": {
      "text/plain": [
       "3-element Vector{Float64}:\n",
       " 0.6154122094026359\n",
       " 0.7882054380161091\n",
       " 0.0"
      ]
     },
     "metadata": {},
     "output_type": "display_data"
    },
    {
     "data": {
      "text/plain": [
       "3-element Vector{Float64}:\n",
       " -0.6154122094026344\n",
       " -0.7882054380161102\n",
       " -1.1680379785702638e-14"
      ]
     },
     "metadata": {},
     "output_type": "display_data"
    },
    {
     "data": {
      "text/plain": [
       "3-element Vector{Float64}:\n",
       " -0.6154122094026342\n",
       " -0.7882054380161103\n",
       " -4.7469982056285915e-15"
      ]
     },
     "metadata": {},
     "output_type": "display_data"
    },
    {
     "data": {
      "text/plain": [
       "3-element Vector{Float64}:\n",
       " -0.615412209402634\n",
       " -0.7882054380161104\n",
       " -2.296763494451841e-15"
      ]
     },
     "metadata": {},
     "output_type": "display_data"
    },
    {
     "data": {
      "text/plain": [
       "3-element Vector{Float64}:\n",
       " -0.6154122094026364\n",
       " -0.7882054380161088\n",
       "  2.8339127529886266e-15"
      ]
     },
     "metadata": {},
     "output_type": "display_data"
    },
    {
     "data": {
      "text/plain": [
       "3-element Vector{Float64}:\n",
       " -0.6154122094026329\n",
       " -0.7882054380161115\n",
       "  6.693728169912359e-15"
      ]
     },
     "metadata": {},
     "output_type": "display_data"
    },
    {
     "data": {
      "text/plain": [
       "3-element Vector{Float64}:\n",
       " -0.6154122094026353\n",
       " -0.7882054380161095\n",
       "  2.732979218057013e-15"
      ]
     },
     "metadata": {},
     "output_type": "display_data"
    },
    {
     "data": {
      "text/plain": [
       "3-element Vector{Float64}:\n",
       "  0.6154122094026399\n",
       "  0.7882054380161061\n",
       " -3.08301274822509e-15"
      ]
     },
     "metadata": {},
     "output_type": "display_data"
    },
    {
     "data": {
      "text/plain": [
       "3-element Vector{Float64}:\n",
       " -0.6154122094026343\n",
       " -0.7882054380161103\n",
       "  2.459681296251288e-15"
      ]
     },
     "metadata": {},
     "output_type": "display_data"
    },
    {
     "data": {
      "text/plain": [
       "3-element Vector{Float64}:\n",
       " -0.6154122094026359\n",
       " -0.7882054380161091\n",
       " -4.166757850373237e-15"
      ]
     },
     "metadata": {},
     "output_type": "display_data"
    },
    {
     "data": {
      "text/plain": [
       "3-element Vector{Float64}:\n",
       " -0.615412209402637\n",
       " -0.7882054380161083\n",
       " -1.1268361988666906e-15"
      ]
     },
     "metadata": {},
     "output_type": "display_data"
    },
    {
     "data": {
      "text/plain": [
       "3-element Vector{Float64}:\n",
       " 0.6154122094026335\n",
       " 0.7882054380161109\n",
       " 6.852958136338002e-15"
      ]
     },
     "metadata": {},
     "output_type": "display_data"
    },
    {
     "data": {
      "text/plain": [
       "3-element Vector{Float64}:\n",
       " -0.6154122094026346\n",
       " -0.7882054380161101\n",
       " -2.209255111909837e-15"
      ]
     },
     "metadata": {},
     "output_type": "display_data"
    },
    {
     "data": {
      "text/plain": [
       "3-element Vector{Float64}:\n",
       " -0.6154122094026365\n",
       " -0.7882054380161085\n",
       "  2.1863833744455712e-15"
      ]
     },
     "metadata": {},
     "output_type": "display_data"
    },
    {
     "data": {
      "text/plain": [
       "3-element Vector{Float64}:\n",
       " -0.615412209402634\n",
       " -0.7882054380161105\n",
       "  1.7070765541219745e-15"
      ]
     },
     "metadata": {},
     "output_type": "display_data"
    },
    {
     "data": {
      "text/plain": [
       "3-element Vector{Float64}:\n",
       " -0.6154122094026362\n",
       " -0.7882054380161089\n",
       " -3.8934599285675824e-15"
      ]
     },
     "metadata": {},
     "output_type": "display_data"
    },
    {
     "data": {
      "text/plain": [
       "3-element Vector{Float64}:\n",
       " -0.6154122094026356\n",
       " -0.7882054380161092\n",
       " -1.146537829539047e-15"
      ]
     },
     "metadata": {},
     "output_type": "display_data"
    },
    {
     "data": {
      "text/plain": [
       "3-element Vector{Float64}:\n",
       " -0.6154122094026347\n",
       " -0.78820543801611\n",
       " -4.917291678175292e-15"
      ]
     },
     "metadata": {},
     "output_type": "display_data"
    },
    {
     "data": {
      "text/plain": [
       "3-element Vector{Float64}:\n",
       " -0.6154122094026356\n",
       " -0.7882054380161093\n",
       " -6.724720303346306e-16"
      ]
     },
     "metadata": {},
     "output_type": "display_data"
    },
    {
     "data": {
      "text/plain": [
       "3-element Vector{Float64}:\n",
       " 0.6154122094026373\n",
       " 0.7882054380161079\n",
       " 0.0"
      ]
     },
     "metadata": {},
     "output_type": "display_data"
    },
    {
     "data": {
      "text/plain": [
       "3-element Vector{Float64}:\n",
       " -0.6154122094026342\n",
       " -0.7882054380161104\n",
       "  2.0150544447352045e-15"
      ]
     },
     "metadata": {},
     "output_type": "display_data"
    },
    {
     "data": {
      "text/plain": [
       "3-element Vector{Float64}:\n",
       " 0.6154122094026372\n",
       " 0.788205438016108\n",
       " 0.0"
      ]
     },
     "metadata": {},
     "output_type": "display_data"
    },
    {
     "data": {
      "text/plain": [
       "3-element Vector{Float64}:\n",
       " -0.6154122094026351\n",
       " -0.7882054380161096\n",
       "  2.146980113100753e-15"
      ]
     },
     "metadata": {},
     "output_type": "display_data"
    },
    {
     "data": {
      "text/plain": [
       "3-element Vector{Float64}:\n",
       " 0.6154122094026362\n",
       " 0.7882054380161088\n",
       " 3.7157907852734394e-16"
      ]
     },
     "metadata": {},
     "output_type": "display_data"
    },
    {
     "data": {
      "text/plain": [
       "3-element Vector{Float64}:\n",
       " -0.6154122094026356\n",
       " -0.7882054380161092\n",
       "  0.0"
      ]
     },
     "metadata": {},
     "output_type": "display_data"
    },
    {
     "data": {
      "text/plain": [
       "3-element Vector{Float64}:\n",
       " -0.6154122094026356\n",
       " -0.7882054380161093\n",
       " -3.946806070883863e-15"
      ]
     },
     "metadata": {},
     "output_type": "display_data"
    },
    {
     "data": {
      "text/plain": [
       "3-element Vector{Float64}:\n",
       " 0.615412209402634\n",
       " 0.7882054380161106\n",
       " 0.0"
      ]
     },
     "metadata": {},
     "output_type": "display_data"
    },
    {
     "data": {
      "text/plain": [
       "3-element Vector{Float64}:\n",
       " -0.6154122094026354\n",
       " -0.7882054380161094\n",
       "  0.0"
      ]
     },
     "metadata": {},
     "output_type": "display_data"
    },
    {
     "data": {
      "text/plain": [
       "3-element Vector{Float64}:\n",
       " 0.6154122094026342\n",
       " 0.7882054380161104\n",
       " 0.0"
      ]
     },
     "metadata": {},
     "output_type": "display_data"
    },
    {
     "data": {
      "text/plain": [
       "3-element Vector{Float64}:\n",
       "  0.6154122094026365\n",
       "  0.7882054380161085\n",
       " -9.39720470497987e-16"
      ]
     },
     "metadata": {},
     "output_type": "display_data"
    },
    {
     "data": {
      "text/plain": [
       "3-element Vector{Float64}:\n",
       " -0.6154122094026356\n",
       " -0.7882054380161092\n",
       "  3.586517495117942e-15"
      ]
     },
     "metadata": {},
     "output_type": "display_data"
    },
    {
     "data": {
      "text/plain": [
       "3-element Vector{Float64}:\n",
       " -0.615412209402637\n",
       " -0.7882054380161082\n",
       " -8.535382770609845e-16"
      ]
     },
     "metadata": {},
     "output_type": "display_data"
    },
    {
     "data": {
      "text/plain": [
       "3-element Vector{Float64}:\n",
       "  0.6154122094026369\n",
       "  0.7882054380161083\n",
       " -1.3328450973845992e-15"
      ]
     },
     "metadata": {},
     "output_type": "display_data"
    },
    {
     "data": {
      "text/plain": [
       "3-element Vector{Float64}:\n",
       " 0.6154122094026377\n",
       " 0.7882054380161077\n",
       " 3.069424334495988e-16"
      ]
     },
     "metadata": {},
     "output_type": "display_data"
    },
    {
     "data": {
      "text/plain": [
       "3-element Vector{Float64}:\n",
       " -0.6154122094026351\n",
       " -0.7882054380161095\n",
       "  1.5536053373970878e-15"
      ]
     },
     "metadata": {},
     "output_type": "display_data"
    },
    {
     "data": {
      "text/plain": [
       "3-element Vector{Float64}:\n",
       "  0.6154122094026377\n",
       "  0.7882054380161075\n",
       " -6.66422548692285e-16"
      ]
     },
     "metadata": {},
     "output_type": "display_data"
    },
    {
     "data": {
      "text/plain": [
       "3-element Vector{Float64}:\n",
       " -0.6154122094026356\n",
       " -0.7882054380161093\n",
       " -1.707076554121971e-15"
      ]
     },
     "metadata": {},
     "output_type": "display_data"
    },
    {
     "data": {
      "text/plain": [
       "3-element Vector{Float64}:\n",
       " 0.6154122094026386\n",
       " 0.788205438016107\n",
       " 0.0"
      ]
     },
     "metadata": {},
     "output_type": "display_data"
    },
    {
     "data": {
      "text/plain": [
       "3-element Vector{Float64}:\n",
       " -0.6154122094026356\n",
       " -0.7882054380161092\n",
       "  1.7202109745702631e-15"
      ]
     },
     "metadata": {},
     "output_type": "display_data"
    },
    {
     "data": {
      "text/plain": [
       "3-element Vector{Float64}:\n",
       " -0.6154122094026363\n",
       " -0.7882054380161088\n",
       " -1.5260103073956052e-15"
      ]
     },
     "metadata": {},
     "output_type": "display_data"
    },
    {
     "data": {
      "text/plain": [
       "3-element Vector{Float64}:\n",
       " -0.6154122094026362\n",
       " -0.7882054380161088\n",
       " -3.586517495117989e-15"
      ]
     },
     "metadata": {},
     "output_type": "display_data"
    },
    {
     "data": {
      "text/plain": [
       "3-element Vector{Float64}:\n",
       " -0.6154122094026364\n",
       " -0.7882054380161087\n",
       "  2.732979218056961e-15"
      ]
     },
     "metadata": {},
     "output_type": "display_data"
    },
    {
     "data": {
      "text/plain": [
       "3-element Vector{Float64}:\n",
       "  0.6154122094026356\n",
       "  0.7882054380161093\n",
       " -9.86499402590164e-16"
      ]
     },
     "metadata": {},
     "output_type": "display_data"
    },
    {
     "data": {
      "text/plain": [
       "3-element Vector{Float64}:\n",
       " -0.6154122094026362\n",
       " -0.7882054380161088\n",
       "  1.0398455449064795e-15"
      ]
     },
     "metadata": {},
     "output_type": "display_data"
    },
    {
     "data": {
      "text/plain": [
       "3-element Vector{Float64}:\n",
       " 0.6154122094026367\n",
       " 0.7882054380161083\n",
       " 2.423965870280126e-15"
      ]
     },
     "metadata": {},
     "output_type": "display_data"
    },
    {
     "data": {
      "text/plain": [
       "3-element Vector{Float64}:\n",
       " -0.6154122094026357\n",
       " -0.7882054380161091\n",
       "  0.0"
      ]
     },
     "metadata": {},
     "output_type": "display_data"
    },
    {
     "data": {
      "text/plain": [
       "3-element Vector{Float64}:\n",
       " -0.6154122094026372\n",
       " -0.7882054380161081\n",
       " -9.289476963183606e-16"
      ]
     },
     "metadata": {},
     "output_type": "display_data"
    },
    {
     "data": {
      "text/plain": [
       "3-element Vector{Float64}:\n",
       " 0.6154122094026373\n",
       " 0.7882054380161079\n",
       " 3.5844465807907174e-16"
      ]
     },
     "metadata": {},
     "output_type": "display_data"
    },
    {
     "data": {
      "text/plain": [
       "3-element Vector{Float64}:\n",
       " 0.6154122094026363\n",
       " 0.7882054380161087\n",
       " 0.0"
      ]
     },
     "metadata": {},
     "output_type": "display_data"
    },
    {
     "data": {
      "text/plain": [
       "3-element Vector{Float64}:\n",
       " -0.6154122094026356\n",
       " -0.7882054380161092\n",
       " -3.556560818847748e-15"
      ]
     },
     "metadata": {},
     "output_type": "display_data"
    },
    {
     "data": {
      "text/plain": [
       "3-element Vector{Float64}:\n",
       " -0.6154122094026354\n",
       " -0.7882054380161095\n",
       "  9.610798375516813e-16"
      ]
     },
     "metadata": {},
     "output_type": "display_data"
    },
    {
     "data": {
      "text/plain": [
       "3-element Vector{Float64}:\n",
       " -0.6154122094026371\n",
       " -0.7882054380161081\n",
       "  5.826020015239462e-16"
      ]
     },
     "metadata": {},
     "output_type": "display_data"
    },
    {
     "data": {
      "text/plain": [
       "3-element Vector{Float64}:\n",
       " -0.6154122094026357\n",
       " -0.7882054380161091\n",
       "  3.533171352801648e-15"
      ]
     },
     "metadata": {},
     "output_type": "display_data"
    },
    {
     "data": {
      "text/plain": [
       "3-element Vector{Float64}:\n",
       " 0.6154122094026363\n",
       " 0.7882054380161087\n",
       " 0.0"
      ]
     },
     "metadata": {},
     "output_type": "display_data"
    },
    {
     "data": {
      "text/plain": [
       "3-element Vector{Float64}:\n",
       " -0.6154122094026359\n",
       " -0.7882054380161091\n",
       "  8.966293737794906e-16"
      ]
     },
     "metadata": {},
     "output_type": "display_data"
    },
    {
     "data": {
      "text/plain": [
       "3-element Vector{Float64}:\n",
       " -0.6154122094026356\n",
       " -0.7882054380161091\n",
       "  3.893459928567609e-15"
      ]
     },
     "metadata": {},
     "output_type": "display_data"
    },
    {
     "data": {
      "text/plain": [
       "3-element Vector{Float64}:\n",
       " -0.6154122094026356\n",
       " -0.7882054380161092\n",
       "  1.4001341206724116e-15"
      ]
     },
     "metadata": {},
     "output_type": "display_data"
    },
    {
     "data": {
      "text/plain": [
       "3-element Vector{Float64}:\n",
       " -0.6154122094026326\n",
       " -0.7882054380161115\n",
       "  3.2606818915190574e-15"
      ]
     },
     "metadata": {},
     "output_type": "display_data"
    },
    {
     "data": {
      "text/plain": [
       "3-element Vector{Float64}:\n",
       " -0.6154122094026341\n",
       " -0.7882054380161104\n",
       "  9.426707387969374e-15"
      ]
     },
     "metadata": {},
     "output_type": "display_data"
    },
    {
     "data": {
      "text/plain": [
       "3-element Vector{Float64}:\n",
       " -0.6154122094026349\n",
       " -0.78820543801611\n",
       "  5.840189892851375e-15"
      ]
     },
     "metadata": {},
     "output_type": "display_data"
    },
    {
     "data": {
      "text/plain": [
       "3-element Vector{Float64}:\n",
       " -0.6154122094026371\n",
       " -0.7882054380161081\n",
       " -8.880111544357847e-15"
      ]
     },
     "metadata": {},
     "output_type": "display_data"
    },
    {
     "data": {
      "text/plain": [
       "3-element Vector{Float64}:\n",
       " -0.6154122094026373\n",
       " -0.7882054380161079\n",
       "  5.207411855802832e-15"
      ]
     },
     "metadata": {},
     "output_type": "display_data"
    },
    {
     "data": {
      "text/plain": [
       "3-element Vector{Float64}:\n",
       " -0.6154122094026367\n",
       " -0.7882054380161084\n",
       "  4.32022906709801e-15"
      ]
     },
     "metadata": {},
     "output_type": "display_data"
    },
    {
     "data": {
      "text/plain": [
       "3-element Vector{Float64}:\n",
       " 0.6154122094026353\n",
       " 0.7882054380161095\n",
       " 0.0"
      ]
     },
     "metadata": {},
     "output_type": "display_data"
    },
    {
     "data": {
      "text/plain": [
       "3-element Vector{Float64}:\n",
       " -0.6154122094026344\n",
       " -0.7882054380161103\n",
       "  0.0"
      ]
     },
     "metadata": {},
     "output_type": "display_data"
    },
    {
     "data": {
      "text/plain": [
       "3-element Vector{Float64}:\n",
       " -0.615412209402637\n",
       " -0.7882054380161082\n",
       " -1.4132685411206383e-15"
      ]
     },
     "metadata": {},
     "output_type": "display_data"
    },
    {
     "data": {
      "text/plain": [
       "3-element Vector{Float64}:\n",
       " -0.6154122094026341\n",
       " -0.7882054380161104\n",
       " -2.6360242504403483e-15"
      ]
     },
     "metadata": {},
     "output_type": "display_data"
    },
    {
     "data": {
      "text/plain": [
       "3-element Vector{Float64}:\n",
       " -0.6154122094026341\n",
       " -0.7882054380161103\n",
       " -3.3862673463009517e-15"
      ]
     },
     "metadata": {},
     "output_type": "display_data"
    },
    {
     "data": {
      "text/plain": [
       "3-element Vector{Float64}:\n",
       " 0.6154122094026337\n",
       " 0.7882054380161106\n",
       " 0.0"
      ]
     },
     "metadata": {},
     "output_type": "display_data"
    },
    {
     "data": {
      "text/plain": [
       "3-element Vector{Float64}:\n",
       " -0.6154122094026344\n",
       " -0.7882054380161103\n",
       "  1.2532301141717192e-15"
      ]
     },
     "metadata": {},
     "output_type": "display_data"
    },
    {
     "data": {
      "text/plain": [
       "3-element Vector{Float64}:\n",
       " -0.6154122094026347\n",
       " -0.7882054380161099\n",
       " -1.0398455449064673e-15"
      ]
     },
     "metadata": {},
     "output_type": "display_data"
    },
    {
     "data": {
      "text/plain": [
       "3-element Vector{Float64}:\n",
       " -0.6154122094026347\n",
       " -0.78820543801611\n",
       " -3.1765706124094326e-15"
      ]
     },
     "metadata": {},
     "output_type": "display_data"
    },
    {
     "data": {
      "text/plain": [
       "3-element Vector{Float64}:\n",
       " -0.6154122094026374\n",
       " -0.7882054380161079\n",
       " -1.7717131991997246e-15"
      ]
     },
     "metadata": {},
     "output_type": "display_data"
    },
    {
     "data": {
      "text/plain": [
       "3-element Vector{Float64}:\n",
       " 0.6154122094026336\n",
       " 0.7882054380161109\n",
       " 1.6061430191902887e-15"
      ]
     },
     "metadata": {},
     "output_type": "display_data"
    },
    {
     "data": {
      "text/plain": [
       "3-element Vector{Float64}:\n",
       " -0.6154122094026374\n",
       " -0.7882054380161078\n",
       "  4.491557996808418e-15"
      ]
     },
     "metadata": {},
     "output_type": "display_data"
    },
    {
     "data": {
      "text/plain": [
       "3-element Vector{Float64}:\n",
       " 0.6154122094026355\n",
       " 0.7882054380161093\n",
       " 0.0"
      ]
     },
     "metadata": {},
     "output_type": "display_data"
    },
    {
     "data": {
      "text/plain": [
       "3-element Vector{Float64}:\n",
       " 0.6154122094026359\n",
       " 0.7882054380161091\n",
       " 5.46595843611392e-16"
      ]
     },
     "metadata": {},
     "output_type": "display_data"
    },
    {
     "data": {
      "text/plain": [
       "3-element Vector{Float64}:\n",
       "  0.6154122094026359\n",
       "  0.7882054380161091\n",
       " -2.1863833744455783e-15"
      ]
     },
     "metadata": {},
     "output_type": "display_data"
    },
    {
     "data": {
      "text/plain": [
       "3-element Vector{Float64}:\n",
       " 0.6154122094026342\n",
       " 0.7882054380161104\n",
       " 7.431581570546978e-16"
      ]
     },
     "metadata": {},
     "output_type": "display_data"
    },
    {
     "data": {
      "text/plain": [
       "3-element Vector{Float64}:\n",
       " 0.6154122094026355\n",
       " 0.7882054380161094\n",
       " 7.505338278020336e-16"
      ]
     },
     "metadata": {},
     "output_type": "display_data"
    },
    {
     "data": {
      "text/plain": [
       "3-element Vector{Float64}:\n",
       " -0.6154122094026342\n",
       " -0.7882054380161104\n",
       " -7.000670603361923e-16"
      ]
     },
     "metadata": {},
     "output_type": "display_data"
    },
    {
     "data": {
      "text/plain": [
       "3-element Vector{Float64}:\n",
       " -0.6154122094026359\n",
       " -0.788205438016109\n",
       " -9.050405016904651e-16"
      ]
     },
     "metadata": {},
     "output_type": "display_data"
    },
    {
     "data": {
      "text/plain": [
       "3-element Vector{Float64}:\n",
       " -0.6154122094026394\n",
       " -0.7882054380161063\n",
       "  4.9866516157903365e-15"
      ]
     },
     "metadata": {},
     "output_type": "display_data"
    },
    {
     "data": {
      "text/plain": [
       "3-element Vector{Float64}:\n",
       " -0.6154122094026339\n",
       " -0.7882054380161106\n",
       " -8.880111544357893e-15"
      ]
     },
     "metadata": {},
     "output_type": "display_data"
    },
    {
     "data": {
      "text/plain": [
       "3-element Vector{Float64}:\n",
       " -0.6154122094026369\n",
       " -0.7882054380161083\n",
       "  5.634180994333316e-15"
      ]
     },
     "metadata": {},
     "output_type": "display_data"
    },
    {
     "data": {
      "text/plain": [
       "3-element Vector{Float64}:\n",
       " -0.6154122094026351\n",
       " -0.7882054380161095\n",
       "  3.8934599285674885e-15"
      ]
     },
     "metadata": {},
     "output_type": "display_data"
    },
    {
     "data": {
      "text/plain": [
       "3-element Vector{Float64}:\n",
       " 0.6154122094026336\n",
       " 0.7882054380161109\n",
       " 0.0"
      ]
     },
     "metadata": {},
     "output_type": "display_data"
    },
    {
     "data": {
      "text/plain": [
       "3-element Vector{Float64}:\n",
       " -0.6154122094026323\n",
       " -0.7882054380161119\n",
       "  5.600536482689544e-15"
      ]
     },
     "metadata": {},
     "output_type": "display_data"
    },
    {
     "data": {
      "text/plain": [
       "3-element Vector{Float64}:\n",
       " -0.6154122094026389\n",
       " -0.7882054380161067\n",
       "  3.859815416923595e-15"
      ]
     },
     "metadata": {},
     "output_type": "display_data"
    },
    {
     "data": {
      "text/plain": [
       "3-element Vector{Float64}:\n",
       " 0.6154122094026342\n",
       " 0.7882054380161104\n",
       " 0.0"
      ]
     },
     "metadata": {},
     "output_type": "display_data"
    },
    {
     "data": {
      "text/plain": [
       "3-element Vector{Float64}:\n",
       "  0.6154122094026354\n",
       "  0.7882054380161094\n",
       " -1.5704275932191307e-15"
      ]
     },
     "metadata": {},
     "output_type": "display_data"
    },
    {
     "data": {
      "text/plain": [
       "3-element Vector{Float64}:\n",
       " -0.6154122094026372\n",
       " -0.7882054380161081\n",
       " -9.181749221387344e-16"
      ]
     },
     "metadata": {},
     "output_type": "display_data"
    },
    {
     "data": {
      "text/plain": [
       "3-element Vector{Float64}:\n",
       " -0.6154122094026357\n",
       " -0.7882054380161091\n",
       "  3.893459928567545e-15"
      ]
     },
     "metadata": {},
     "output_type": "display_data"
    },
    {
     "data": {
      "text/plain": [
       "3-element Vector{Float64}:\n",
       " -0.615412209402634\n",
       " -0.7882054380161106\n",
       " -3.313219573312231e-15"
      ]
     },
     "metadata": {},
     "output_type": "display_data"
    },
    {
     "data": {
      "text/plain": [
       "3-element Vector{Float64}:\n",
       " -0.6154122094026374\n",
       " -0.7882054380161079\n",
       "  2.5064602283434687e-15"
      ]
     },
     "metadata": {},
     "output_type": "display_data"
    },
    {
     "data": {
      "text/plain": [
       "3-element Vector{Float64}:\n",
       " -0.6154122094026339\n",
       " -0.7882054380161106\n",
       "  5.7718654123999425e-15"
      ]
     },
     "metadata": {},
     "output_type": "display_data"
    },
    {
     "data": {
      "text/plain": [
       "3-element Vector{Float64}:\n",
       " -0.6154122094026363\n",
       " -0.7882054380161087\n",
       " -1.1465378295391653e-15"
      ]
     },
     "metadata": {},
     "output_type": "display_data"
    },
    {
     "data": {
      "text/plain": [
       "3-element Vector{Float64}:\n",
       " -0.6154122094026362\n",
       " -0.7882054380161089\n",
       "  3.893459928567546e-15"
      ]
     },
     "metadata": {},
     "output_type": "display_data"
    },
    {
     "data": {
      "text/plain": [
       "3-element Vector{Float64}:\n",
       "  0.6154122094026356\n",
       "  0.7882054380161093\n",
       " -8.535382770609886e-16"
      ]
     },
     "metadata": {},
     "output_type": "display_data"
    },
    {
     "data": {
      "text/plain": [
       "3-element Vector{Float64}:\n",
       " 0.615412209402634\n",
       " 0.7882054380161105\n",
       " 0.0"
      ]
     },
     "metadata": {},
     "output_type": "display_data"
    },
    {
     "data": {
      "text/plain": [
       "3-element Vector{Float64}:\n",
       " -0.6154122094026381\n",
       " -0.7882054380161073\n",
       " -1.5260103073955862e-15"
      ]
     },
     "metadata": {},
     "output_type": "display_data"
    },
    {
     "data": {
      "text/plain": [
       "3-element Vector{Float64}:\n",
       " -0.6154122094026392\n",
       " -0.7882054380161064\n",
       "  8.213688995665549e-15"
      ]
     },
     "metadata": {},
     "output_type": "display_data"
    },
    {
     "data": {
      "text/plain": [
       "3-element Vector{Float64}:\n",
       " 0.6154122094026372\n",
       " 0.788205438016108\n",
       " 1.007009493785784e-15"
      ]
     },
     "metadata": {},
     "output_type": "display_data"
    },
    {
     "data": {
      "text/plain": [
       "3-element Vector{Float64}:\n",
       " -0.6154122094026363\n",
       " -0.7882054380161087\n",
       "  0.0"
      ]
     },
     "metadata": {},
     "output_type": "display_data"
    },
    {
     "data": {
      "text/plain": [
       "3-element Vector{Float64}:\n",
       " -0.6154122094026365\n",
       " -0.7882054380161087\n",
       " -1.4923657957517156e-15"
      ]
     },
     "metadata": {},
     "output_type": "display_data"
    },
    {
     "data": {
      "text/plain": [
       "3-element Vector{Float64}:\n",
       " 0.6154122094026367\n",
       " 0.7882054380161084\n",
       " 1.4647707657501326e-15"
      ]
     },
     "metadata": {},
     "output_type": "display_data"
    },
    {
     "data": {
      "text/plain": [
       "3-element Vector{Float64}:\n",
       " -0.6154122094026364\n",
       " -0.7882054380161087\n",
       " -4.864980993022581e-15"
      ]
     },
     "metadata": {},
     "output_type": "display_data"
    },
    {
     "data": {
      "text/plain": [
       "3-element Vector{Float64}:\n",
       "  0.6154122094026354\n",
       "  0.7882054380161094\n",
       " -3.069424334495945e-16"
      ]
     },
     "metadata": {},
     "output_type": "display_data"
    },
    {
     "data": {
      "text/plain": [
       "3-element Vector{Float64}:\n",
       "  0.6154122094026355\n",
       "  0.7882054380161093\n",
       " -5.465958436113945e-16"
      ]
     },
     "metadata": {},
     "output_type": "display_data"
    },
    {
     "data": {
      "text/plain": [
       "3-element Vector{Float64}:\n",
       " 0.6154122094026369\n",
       " 0.7882054380161083\n",
       " 0.0"
      ]
     },
     "metadata": {},
     "output_type": "display_data"
    },
    {
     "data": {
      "text/plain": [
       "3-element Vector{Float64}:\n",
       " 0.6154122094026356\n",
       " 0.7882054380161093\n",
       " 0.0"
      ]
     },
     "metadata": {},
     "output_type": "display_data"
    },
    {
     "data": {
      "text/plain": [
       "3-element Vector{Float64}:\n",
       " 0.6154122094026356\n",
       " 0.7882054380161093\n",
       " 0.0"
      ]
     },
     "metadata": {},
     "output_type": "display_data"
    },
    {
     "data": {
      "text/plain": [
       "3-element Vector{Float64}:\n",
       "  0.6154122094026357\n",
       "  0.7882054380161091\n",
       " -1.7070765541219798e-15"
      ]
     },
     "metadata": {},
     "output_type": "display_data"
    },
    {
     "data": {
      "text/plain": [
       "3-element Vector{Float64}:\n",
       "  0.6154122094026362\n",
       "  0.7882054380161089\n",
       " -2.426036784607385e-15"
      ]
     },
     "metadata": {},
     "output_type": "display_data"
    },
    {
     "data": {
      "text/plain": [
       "3-element Vector{Float64}:\n",
       " 0.6154122094026351\n",
       " 0.7882054380161096\n",
       " 0.0"
      ]
     },
     "metadata": {},
     "output_type": "display_data"
    },
    {
     "data": {
      "text/plain": [
       "3-element Vector{Float64}:\n",
       " -0.6154122094026356\n",
       " -0.7882054380161093\n",
       "  1.0931916872227982e-15"
      ]
     },
     "metadata": {},
     "output_type": "display_data"
    },
    {
     "data": {
      "text/plain": [
       "3-element Vector{Float64}:\n",
       " -0.6154122094026365\n",
       " -0.7882054380161087\n",
       " -2.493325807895184e-15"
      ]
     },
     "metadata": {},
     "output_type": "display_data"
    },
    {
     "data": {
      "text/plain": [
       "3-element Vector{Float64}:\n",
       " 0.6154122094026355\n",
       " 0.7882054380161094\n",
       " 0.0"
      ]
     },
     "metadata": {},
     "output_type": "display_data"
    },
    {
     "data": {
      "text/plain": [
       "3-element Vector{Float64}:\n",
       " 0.6154122094026372\n",
       " 0.788205438016108\n",
       " 2.186383374445572e-15"
      ]
     },
     "metadata": {},
     "output_type": "display_data"
    },
    {
     "data": {
      "text/plain": [
       "3-element Vector{Float64}:\n",
       " -0.615412209402635\n",
       " -0.7882054380161096\n",
       "  2.4933258078951663e-15"
      ]
     },
     "metadata": {},
     "output_type": "display_data"
    },
    {
     "data": {
      "text/plain": [
       "3-element Vector{Float64}:\n",
       " -0.6154122094026356\n",
       " -0.7882054380161093\n",
       " -1.7070765541219773e-15"
      ]
     },
     "metadata": {},
     "output_type": "display_data"
    },
    {
     "data": {
      "text/plain": [
       "3-element Vector{Float64}:\n",
       " 0.6154122094026356\n",
       " 0.7882054380161093\n",
       " 0.0"
      ]
     },
     "metadata": {},
     "output_type": "display_data"
    },
    {
     "data": {
      "text/plain": [
       "3-element Vector{Float64}:\n",
       " -0.6154122094026355\n",
       " -0.7882054380161094\n",
       "  2.1170234368305273e-15"
      ]
     },
     "metadata": {},
     "output_type": "display_data"
    },
    {
     "data": {
      "text/plain": [
       "3-element Vector{Float64}:\n",
       "  0.6154122094026357\n",
       "  0.7882054380161091\n",
       " -2.5064602283434486e-15"
      ]
     },
     "metadata": {},
     "output_type": "display_data"
    },
    {
     "data": {
      "text/plain": [
       "3-element Vector{Float64}:\n",
       " -0.6154122094026354\n",
       " -0.7882054380161095\n",
       " -4.573016897708119e-15"
      ]
     },
     "metadata": {},
     "output_type": "display_data"
    },
    {
     "data": {
      "text/plain": [
       "3-element Vector{Float64}:\n",
       "  0.6154122094026374\n",
       "  0.7882054380161078\n",
       " -5.465958436113922e-16"
      ]
     },
     "metadata": {},
     "output_type": "display_data"
    },
    {
     "data": {
      "text/plain": [
       "3-element Vector{Float64}:\n",
       " -0.6154122094026362\n",
       " -0.7882054380161088\n",
       "  2.39674320288967e-15"
      ]
     },
     "metadata": {},
     "output_type": "display_data"
    },
    {
     "data": {
      "text/plain": [
       "3-element Vector{Float64}:\n",
       " 0.6154122094026351\n",
       " 0.7882054380161096\n",
       " 0.0"
      ]
     },
     "metadata": {},
     "output_type": "display_data"
    },
    {
     "data": {
      "text/plain": [
       "3-element Vector{Float64}:\n",
       " 0.6154122094026369\n",
       " 0.7882054380161082\n",
       " 1.5704275932191254e-15"
      ]
     },
     "metadata": {},
     "output_type": "display_data"
    },
    {
     "data": {
      "text/plain": [
       "3-element Vector{Float64}:\n",
       " -0.6154122094026359\n",
       " -0.788205438016109\n",
       "  1.9803744759276695e-15"
      ]
     },
     "metadata": {},
     "output_type": "display_data"
    },
    {
     "data": {
      "text/plain": [
       "3-element Vector{Float64}:\n",
       " -0.6154122094026355\n",
       " -0.7882054380161093\n",
       "  4.609313787562076e-16"
      ]
     },
     "metadata": {},
     "output_type": "display_data"
    },
    {
     "data": {
      "text/plain": [
       "3-element Vector{Float64}:\n",
       "  0.6154122094026354\n",
       "  0.7882054380161093\n",
       " -1.7596142359150842e-15"
      ]
     },
     "metadata": {},
     "output_type": "display_data"
    },
    {
     "data": {
      "text/plain": [
       "3-element Vector{Float64}:\n",
       " 0.6154122094026356\n",
       " 0.7882054380161092\n",
       " 0.0"
      ]
     },
     "metadata": {},
     "output_type": "display_data"
    },
    {
     "data": {
      "text/plain": [
       "3-element Vector{Float64}:\n",
       " -0.6154122094026355\n",
       " -0.7882054380161093\n",
       " -9.134516296014395e-16"
      ]
     },
     "metadata": {},
     "output_type": "display_data"
    },
    {
     "data": {
      "text/plain": [
       "3-element Vector{Float64}:\n",
       " -0.6154122094026364\n",
       " -0.7882054380161088\n",
       " -1.0332783346823366e-15"
      ]
     },
     "metadata": {},
     "output_type": "display_data"
    },
    {
     "data": {
      "text/plain": [
       "3-element Vector{Float64}:\n",
       " 0.615412209402636\n",
       " 0.788205438016109\n",
       " 1.534712167247971e-16"
      ]
     },
     "metadata": {},
     "output_type": "display_data"
    },
    {
     "data": {
      "text/plain": [
       "3-element Vector{Float64}:\n",
       " -0.6154122094026361\n",
       " -0.7882054380161089\n",
       " -3.8934599285675556e-15"
      ]
     },
     "metadata": {},
     "output_type": "display_data"
    },
    {
     "data": {
      "text/plain": [
       "3-element Vector{Float64}:\n",
       " 0.6154122094026346\n",
       " 0.78820543801611\n",
       " 0.0"
      ]
     },
     "metadata": {},
     "output_type": "display_data"
    },
    {
     "data": {
      "text/plain": [
       "3-element Vector{Float64}:\n",
       "  0.6154122094026349\n",
       "  0.7882054380161099\n",
       " -1.7070765541219784e-15"
      ]
     },
     "metadata": {},
     "output_type": "display_data"
    },
    {
     "data": {
      "text/plain": [
       "3-element Vector{Float64}:\n",
       "  0.6154122094026356\n",
       "  0.7882054380161093\n",
       " -3.0694243344958724e-16"
      ]
     },
     "metadata": {},
     "output_type": "display_data"
    },
    {
     "data": {
      "text/plain": [
       "3-element Vector{Float64}:\n",
       " -0.6154122094026352\n",
       " -0.7882054380161096\n",
       "  3.8934599285675706e-15"
      ]
     },
     "metadata": {},
     "output_type": "display_data"
    },
    {
     "data": {
      "text/plain": [
       "3-element Vector{Float64}:\n",
       " 0.6154122094026345\n",
       " 0.7882054380161101\n",
       " 0.0"
      ]
     },
     "metadata": {},
     "output_type": "display_data"
    },
    {
     "data": {
      "text/plain": [
       "3-element Vector{Float64}:\n",
       " 0.6154122094026353\n",
       " 0.7882054380161095\n",
       " 2.3965341016180246e-16"
      ]
     },
     "metadata": {},
     "output_type": "display_data"
    },
    {
     "data": {
      "text/plain": [
       "3-element Vector{Float64}:\n",
       " -0.6154122094026354\n",
       " -0.7882054380161093\n",
       " -2.910648361351009e-15"
      ]
     },
     "metadata": {},
     "output_type": "display_data"
    },
    {
     "data": {
      "text/plain": [
       "3-element Vector{Float64}:\n",
       " -0.6154122094026351\n",
       " -0.7882054380161096\n",
       "  5.465958436113963e-16"
      ]
     },
     "metadata": {},
     "output_type": "display_data"
    },
    {
     "data": {
      "text/plain": [
       "3-element Vector{Float64}:\n",
       " -0.6154122094026353\n",
       " -0.7882054380161095\n",
       "  2.890801364707945e-15"
      ]
     },
     "metadata": {},
     "output_type": "display_data"
    },
    {
     "data": {
      "text/plain": [
       "3-element Vector{Float64}:\n",
       " 0.6154122094026351\n",
       " 0.7882054380161098\n",
       " 0.0"
      ]
     },
     "metadata": {},
     "output_type": "display_data"
    },
    {
     "data": {
      "text/plain": [
       "3-element Vector{Float64}:\n",
       "  0.6154122094026346\n",
       "  0.78820543801611\n",
       " -1.7070765541219737e-15"
      ]
     },
     "metadata": {},
     "output_type": "display_data"
    },
    {
     "data": {
      "text/plain": [
       "3-element Vector{Float64}:\n",
       " 0.6154122094026356\n",
       " 0.7882054380161093\n",
       " 0.0"
      ]
     },
     "metadata": {},
     "output_type": "display_data"
    },
    {
     "data": {
      "text/plain": [
       "3-element Vector{Float64}:\n",
       " -0.615412209402635\n",
       " -0.7882054380161098\n",
       "  1.843725515024833e-15"
      ]
     },
     "metadata": {},
     "output_type": "display_data"
    },
    {
     "data": {
      "text/plain": [
       "3-element Vector{Float64}:\n",
       "  0.6154122094026355\n",
       "  0.7882054380161094\n",
       " -1.8663065205477057e-15"
      ]
     },
     "metadata": {},
     "output_type": "display_data"
    },
    {
     "data": {
      "text/plain": [
       "3-element Vector{Float64}:\n",
       " -0.6154122094026352\n",
       " -0.7882054380161096\n",
       " -4.700219273536403e-15"
      ]
     },
     "metadata": {},
     "output_type": "display_data"
    },
    {
     "data": {
      "text/plain": [
       "3-element Vector{Float64}:\n",
       " -0.6154122094026363\n",
       " -0.7882054380161087\n",
       "  5.465958436113939e-16"
      ]
     },
     "metadata": {},
     "output_type": "display_data"
    },
    {
     "data": {
      "text/plain": [
       "3-element Vector{Float64}:\n",
       " -0.6154122094026353\n",
       " -0.7882054380161094\n",
       "  0.0"
      ]
     },
     "metadata": {},
     "output_type": "display_data"
    },
    {
     "data": {
      "text/plain": [
       "3-element Vector{Float64}:\n",
       " 0.6154122094026345\n",
       " 0.7882054380161101\n",
       " 0.0"
      ]
     },
     "metadata": {},
     "output_type": "display_data"
    },
    {
     "data": {
      "text/plain": [
       "3-element Vector{Float64}:\n",
       " 0.6154122094026364\n",
       " 0.7882054380161085\n",
       " 0.0"
      ]
     },
     "metadata": {},
     "output_type": "display_data"
    },
    {
     "data": {
      "text/plain": [
       "3-element Vector{Float64}:\n",
       " -0.6154122094026356\n",
       " -0.7882054380161091\n",
       " -7.599804128766431e-16"
      ]
     },
     "metadata": {},
     "output_type": "display_data"
    },
    {
     "data": {
      "text/plain": [
       "3-element Vector{Float64}:\n",
       " -0.6154122094026357\n",
       " -0.7882054380161091\n",
       "  1.4001341206723834e-15"
      ]
     },
     "metadata": {},
     "output_type": "display_data"
    },
    {
     "data": {
      "text/plain": [
       "3-element Vector{Float64}:\n",
       " -0.6154122094026354\n",
       " -0.7882054380161093\n",
       " -3.0123266215049892e-15"
      ]
     },
     "metadata": {},
     "output_type": "display_data"
    },
    {
     "data": {
      "text/plain": [
       "3-element Vector{Float64}:\n",
       " 0.6154122094026353\n",
       " 0.7882054380161095\n",
       " 0.0"
      ]
     },
     "metadata": {},
     "output_type": "display_data"
    },
    {
     "data": {
      "text/plain": [
       "3-element Vector{Float64}:\n",
       " -0.615412209402636\n",
       " -0.788205438016109\n",
       " -1.6734320424780861e-15"
      ]
     },
     "metadata": {},
     "output_type": "display_data"
    },
    {
     "data": {
      "text/plain": [
       "3-element Vector{Float64}:\n",
       " -0.615412209402635\n",
       " -0.7882054380161098\n",
       "  0.0"
      ]
     },
     "metadata": {},
     "output_type": "display_data"
    },
    {
     "data": {
      "text/plain": [
       "3-element Vector{Float64}:\n",
       " -0.6154122094026357\n",
       " -0.7882054380161091\n",
       " -4.866824910709448e-16"
      ]
     },
     "metadata": {},
     "output_type": "display_data"
    },
    {
     "data": {
      "text/plain": [
       "3-element Vector{Float64}:\n",
       " -0.6154122094026347\n",
       " -0.7882054380161099\n",
       "  3.893459928567588e-15"
      ]
     },
     "metadata": {},
     "output_type": "display_data"
    },
    {
     "data": {
      "text/plain": [
       "3-element Vector{Float64}:\n",
       " 0.6154122094026353\n",
       " 0.7882054380161095\n",
       " 0.0"
      ]
     },
     "metadata": {},
     "output_type": "display_data"
    },
    {
     "data": {
      "text/plain": [
       "3-element Vector{Float64}:\n",
       " 0.6154122094026359\n",
       " 0.7882054380161091\n",
       " 1.0931916872227894e-15"
      ]
     },
     "metadata": {},
     "output_type": "display_data"
    },
    {
     "data": {
      "text/plain": [
       "3-element Vector{Float64}:\n",
       " -0.6154122094026336\n",
       " -0.7882054380161109\n",
       " -4.003840048573842e-15"
      ]
     },
     "metadata": {},
     "output_type": "display_data"
    },
    {
     "data": {
      "text/plain": [
       "3-element Vector{Float64}:\n",
       " 0.615412209402637\n",
       " 0.7882054380161081\n",
       " 0.0"
      ]
     },
     "metadata": {},
     "output_type": "display_data"
    },
    {
     "data": {
      "text/plain": [
       "3-element Vector{Float64}:\n",
       " 0.6154122094026371\n",
       " 0.7882054380161081\n",
       " 0.0"
      ]
     },
     "metadata": {},
     "output_type": "display_data"
    },
    {
     "data": {
      "text/plain": [
       "3-element Vector{Float64}:\n",
       " 0.6154122094026371\n",
       " 0.7882054380161081\n",
       " 0.0"
      ]
     },
     "metadata": {},
     "output_type": "display_data"
    },
    {
     "data": {
      "text/plain": [
       "3-element Vector{Float64}:\n",
       " -0.6154122094026374\n",
       " -0.7882054380161078\n",
       " -1.7070765541219587e-15"
      ]
     },
     "metadata": {},
     "output_type": "display_data"
    },
    {
     "data": {
      "text/plain": [
       "3-element Vector{Float64}:\n",
       "  0.615412209402636\n",
       "  0.788205438016109\n",
       " -5.465958436113952e-16"
      ]
     },
     "metadata": {},
     "output_type": "display_data"
    },
    {
     "data": {
      "text/plain": [
       "3-element Vector{Float64}:\n",
       " 0.6154122094026335\n",
       " 0.788205438016111\n",
       " 3.759300084535456e-16"
      ]
     },
     "metadata": {},
     "output_type": "display_data"
    },
    {
     "data": {
      "text/plain": [
       "3-element Vector{Float64}:\n",
       " -0.6154122094026362\n",
       " -0.7882054380161088\n",
       "  2.8002682413447802e-15"
      ]
     },
     "metadata": {},
     "output_type": "display_data"
    },
    {
     "data": {
      "text/plain": [
       "3-element Vector{Float64}:\n",
       " 0.6154122094026353\n",
       " 0.7882054380161095\n",
       " 0.0"
      ]
     },
     "metadata": {},
     "output_type": "display_data"
    },
    {
     "data": {
      "text/plain": [
       "3-element Vector{Float64}:\n",
       " 0.6154122094026356\n",
       " 0.7882054380161093\n",
       " 0.0"
      ]
     },
     "metadata": {},
     "output_type": "display_data"
    },
    {
     "data": {
      "text/plain": [
       "3-element Vector{Float64}:\n",
       " -0.6154122094026352\n",
       " -0.7882054380161095\n",
       " -1.8437255150248256e-15"
      ]
     },
     "metadata": {},
     "output_type": "display_data"
    },
    {
     "data": {
      "text/plain": [
       "3-element Vector{Float64}:\n",
       " 0.615412209402635\n",
       " 0.7882054380161098\n",
       " 0.0"
      ]
     },
     "metadata": {},
     "output_type": "display_data"
    },
    {
     "data": {
      "text/plain": [
       "3-element Vector{Float64}:\n",
       " -0.6154122094026355\n",
       " -0.7882054380161093\n",
       "  0.0"
      ]
     },
     "metadata": {},
     "output_type": "display_data"
    },
    {
     "data": {
      "text/plain": [
       "3-element Vector{Float64}:\n",
       " 0.6154122094026326\n",
       " 0.7882054380161115\n",
       " 0.0"
      ]
     },
     "metadata": {},
     "output_type": "display_data"
    },
    {
     "data": {
      "text/plain": [
       "3-element Vector{Float64}:\n",
       " -0.6154122094026367\n",
       " -0.7882054380161084\n",
       " -1.2803074155914648e-15"
      ]
     },
     "metadata": {},
     "output_type": "display_data"
    },
    {
     "data": {
      "text/plain": [
       "3-element Vector{Float64}:\n",
       " 0.6154122094026374\n",
       " 0.7882054380161079\n",
       " 2.186383374445568e-15"
      ]
     },
     "metadata": {},
     "output_type": "display_data"
    },
    {
     "data": {
      "text/plain": [
       "3-element Vector{Float64}:\n",
       " 0.6154122094026342\n",
       " 0.7882054380161103\n",
       " 4.4359139435241493e-16"
      ]
     },
     "metadata": {},
     "output_type": "display_data"
    },
    {
     "data": {
      "text/plain": [
       "3-element Vector{Float64}:\n",
       " 0.6154122094026357\n",
       " 0.7882054380161091\n",
       " 0.0"
      ]
     },
     "metadata": {},
     "output_type": "display_data"
    },
    {
     "data": {
      "text/plain": [
       "3-element Vector{Float64}:\n",
       " -0.615412209402636\n",
       " -0.788205438016109\n",
       "  3.4835130458590134e-15"
      ]
     },
     "metadata": {},
     "output_type": "display_data"
    },
    {
     "data": {
      "text/plain": [
       "3-element Vector{Float64}:\n",
       " 0.6154122094026359\n",
       " 0.788205438016109\n",
       " 4.897072318921108e-16"
      ]
     },
     "metadata": {},
     "output_type": "display_data"
    },
    {
     "data": {
      "text/plain": [
       "3-element Vector{Float64}:\n",
       " 0.6154122094026355\n",
       " 0.7882054380161093\n",
       " 2.1863833744455696e-15"
      ]
     },
     "metadata": {},
     "output_type": "display_data"
    },
    {
     "data": {
      "text/plain": [
       "3-element Vector{Float64}:\n",
       " -0.6154122094026361\n",
       " -0.7882054380161091\n",
       " -5.677272091051926e-15"
      ]
     },
     "metadata": {},
     "output_type": "display_data"
    },
    {
     "data": {
      "text/plain": [
       "3-element Vector{Float64}:\n",
       "  0.615412209402634\n",
       "  0.7882054380161106\n",
       " -1.7070765541219792e-15"
      ]
     },
     "metadata": {},
     "output_type": "display_data"
    },
    {
     "data": {
      "text/plain": [
       "3-element Vector{Float64}:\n",
       " -0.6154122094026361\n",
       " -0.7882054380161089\n",
       " -1.1951606793181113e-15"
      ]
     },
     "metadata": {},
     "output_type": "display_data"
    },
    {
     "data": {
      "text/plain": [
       "3-element Vector{Float64}:\n",
       " 0.6154122094026363\n",
       " 0.7882054380161087\n",
       " 0.0"
      ]
     },
     "metadata": {},
     "output_type": "display_data"
    },
    {
     "data": {
      "text/plain": [
       "3-element Vector{Float64}:\n",
       " 0.6154122094026372\n",
       " 0.788205438016108\n",
       " 0.0"
      ]
     },
     "metadata": {},
     "output_type": "display_data"
    },
    {
     "data": {
      "text/plain": [
       "3-element Vector{Float64}:\n",
       " -0.6154122094026364\n",
       " -0.7882054380161087\n",
       "  3.893459928567573e-15"
      ]
     },
     "metadata": {},
     "output_type": "display_data"
    },
    {
     "data": {
      "text/plain": [
       "3-element Vector{Float64}:\n",
       "  0.6154122094026379\n",
       "  0.7882054380161075\n",
       " -2.396534101617957e-16"
      ]
     },
     "metadata": {},
     "output_type": "display_data"
    },
    {
     "data": {
      "text/plain": [
       "3-element Vector{Float64}:\n",
       " -0.6154122094026362\n",
       " -0.7882054380161089\n",
       "  4.986651615790282e-15"
      ]
     },
     "metadata": {},
     "output_type": "display_data"
    },
    {
     "data": {
      "text/plain": [
       "3-element Vector{Float64}:\n",
       "  0.6154122094026366\n",
       "  0.7882054380161084\n",
       " -2.396534101617933e-16"
      ]
     },
     "metadata": {},
     "output_type": "display_data"
    },
    {
     "data": {
      "text/plain": [
       "3-element Vector{Float64}:\n",
       " -0.6154122094026381\n",
       " -0.7882054380161074\n",
       " -2.493325807895197e-15"
      ]
     },
     "metadata": {},
     "output_type": "display_data"
    },
    {
     "data": {
      "text/plain": [
       "3-element Vector{Float64}:\n",
       " -0.615412209402636\n",
       " -0.7882054380161089\n",
       "  2.4933258078951513e-15"
      ]
     },
     "metadata": {},
     "output_type": "display_data"
    },
    {
     "data": {
      "text/plain": [
       "3-element Vector{Float64}:\n",
       " 0.6154122094026356\n",
       " 0.7882054380161093\n",
       " 0.0"
      ]
     },
     "metadata": {},
     "output_type": "display_data"
    },
    {
     "data": {
      "text/plain": [
       "3-element Vector{Float64}:\n",
       " 0.6154122094026359\n",
       " 0.7882054380161091\n",
       " 0.0"
      ]
     },
     "metadata": {},
     "output_type": "display_data"
    },
    {
     "data": {
      "text/plain": [
       "3-element Vector{Float64}:\n",
       " -0.6154122094026345\n",
       " -0.78820543801611\n",
       " -1.4001341206723797e-15"
      ]
     },
     "metadata": {},
     "output_type": "display_data"
    },
    {
     "data": {
      "text/plain": [
       "3-element Vector{Float64}:\n",
       "  0.6154122094026375\n",
       "  0.7882054380161078\n",
       " -2.1863833744455744e-15"
      ]
     },
     "metadata": {},
     "output_type": "display_data"
    },
    {
     "data": {
      "text/plain": [
       "3-element Vector{Float64}:\n",
       " -0.6154122094026356\n",
       " -0.7882054380161092\n",
       "  2.4933258078951753e-15"
      ]
     },
     "metadata": {},
     "output_type": "display_data"
    },
    {
     "data": {
      "text/plain": [
       "3-element Vector{Float64}:\n",
       " 0.6154122094026356\n",
       " 0.7882054380161093\n",
       " 4.0994688270854613e-16"
      ]
     },
     "metadata": {},
     "output_type": "display_data"
    },
    {
     "data": {
      "text/plain": [
       "3-element Vector{Float64}:\n",
       " -0.6154122094026365\n",
       " -0.7882054380161087\n",
       " -4.5730168977081414e-15"
      ]
     },
     "metadata": {},
     "output_type": "display_data"
    },
    {
     "data": {
      "text/plain": [
       "3-element Vector{Float64}:\n",
       " 0.6154122094026354\n",
       " 0.7882054380161095\n",
       " 7.862492537731954e-16"
      ]
     },
     "metadata": {},
     "output_type": "display_data"
    },
    {
     "data": {
      "text/plain": [
       "3-element Vector{Float64}:\n",
       " -0.6154122094026363\n",
       " -0.7882054380161088\n",
       "  1.4001341206723818e-15"
      ]
     },
     "metadata": {},
     "output_type": "display_data"
    },
    {
     "data": {
      "text/plain": [
       "3-element Vector{Float64}:\n",
       " 0.6154122094026369\n",
       " 0.7882054380161083\n",
       " 8.043976987001656e-16"
      ]
     },
     "metadata": {},
     "output_type": "display_data"
    },
    {
     "data": {
      "text/plain": [
       "3-element Vector{Float64}:\n",
       " 0.6154122094026364\n",
       " 0.7882054380161087\n",
       " 6.431784486169082e-16"
      ]
     },
     "metadata": {},
     "output_type": "display_data"
    },
    {
     "data": {
      "text/plain": [
       "3-element Vector{Float64}:\n",
       " 0.6154122094026367\n",
       " 0.7882054380161084\n",
       " 1.9130854526398494e-15"
      ]
     },
     "metadata": {},
     "output_type": "display_data"
    },
    {
     "data": {
      "text/plain": [
       "3-element Vector{Float64}:\n",
       " 0.6154122094026356\n",
       " 0.7882054380161092\n",
       " 0.0"
      ]
     },
     "metadata": {},
     "output_type": "display_data"
    },
    {
     "data": {
      "text/plain": [
       "3-element Vector{Float64}:\n",
       " 0.6154122094026356\n",
       " 0.7882054380161093\n",
       " 0.0"
      ]
     },
     "metadata": {},
     "output_type": "display_data"
    },
    {
     "data": {
      "text/plain": [
       "3-element Vector{Float64}:\n",
       " -0.6154122094026354\n",
       " -0.7882054380161094\n",
       "  1.0884683946854837e-15"
      ]
     },
     "metadata": {},
     "output_type": "display_data"
    },
    {
     "data": {
      "text/plain": [
       "3-element Vector{Float64}:\n",
       " -0.6154122094026354\n",
       " -0.7882054380161095\n",
       " -4.2676913853049436e-16"
      ]
     },
     "metadata": {},
     "output_type": "display_data"
    },
    {
     "data": {
      "text/plain": [
       "3-element Vector{Float64}:\n",
       " -0.6154122094026356\n",
       " -0.7882054380161092\n",
       " -1.4600474732128348e-15"
      ]
     },
     "metadata": {},
     "output_type": "display_data"
    },
    {
     "data": {
      "text/plain": [
       "3-element Vector{Float64}:\n",
       " 0.6154122094026354\n",
       " 0.7882054380161093\n",
       " 0.0"
      ]
     },
     "metadata": {},
     "output_type": "display_data"
    },
    {
     "data": {
      "text/plain": [
       "3-element Vector{Float64}:\n",
       " -0.6154122094026354\n",
       " -0.7882054380161094\n",
       "  5.634180994333436e-16"
      ]
     },
     "metadata": {},
     "output_type": "display_data"
    },
    {
     "data": {
      "text/plain": [
       "3-element Vector{Float64}:\n",
       " -0.6154122094026333\n",
       " -0.7882054380161111\n",
       "  4.9866516157903365e-15"
      ]
     },
     "metadata": {},
     "output_type": "display_data"
    },
    {
     "data": {
      "text/plain": [
       "3-element Vector{Float64}:\n",
       " -0.6154122094026364\n",
       " -0.7882054380161088\n",
       "  6.079843303013145e-15"
      ]
     },
     "metadata": {},
     "output_type": "display_data"
    },
    {
     "data": {
      "text/plain": [
       "3-element Vector{Float64}:\n",
       "  0.6154122094026363\n",
       "  0.7882054380161088\n",
       " -3.0694243344959636e-16"
      ]
     },
     "metadata": {},
     "output_type": "display_data"
    },
    {
     "data": {
      "text/plain": [
       "3-element Vector{Float64}:\n",
       " -0.6154122094026333\n",
       " -0.7882054380161111\n",
       "  2.4933258078951674e-15"
      ]
     },
     "metadata": {},
     "output_type": "display_data"
    },
    {
     "data": {
      "text/plain": [
       "3-element Vector{Float64}:\n",
       " -0.6154122094026364\n",
       " -0.7882054380161085\n",
       "  2.1863833744455803e-15"
      ]
     },
     "metadata": {},
     "output_type": "display_data"
    },
    {
     "data": {
      "text/plain": [
       "3-element Vector{Float64}:\n",
       " -0.615412209402636\n",
       " -0.788205438016109\n",
       "  3.893459928567588e-15"
      ]
     },
     "metadata": {},
     "output_type": "display_data"
    },
    {
     "data": {
      "text/plain": [
       "3-element Vector{Float64}:\n",
       " -0.6154122094026365\n",
       " -0.7882054380161085\n",
       " -6.4971658564690615e-15"
      ]
     },
     "metadata": {},
     "output_type": "display_data"
    },
    {
     "data": {
      "text/plain": [
       "3-element Vector{Float64}:\n",
       " 0.6154122094026371\n",
       " 0.7882054380161081\n",
       " 3.9312462688656803e-16"
      ]
     },
     "metadata": {},
     "output_type": "display_data"
    },
    {
     "data": {
      "text/plain": [
       "3-element Vector{Float64}:\n",
       " -0.615412209402634\n",
       " -0.7882054380161105\n",
       "  1.4001341206723858e-15"
      ]
     },
     "metadata": {},
     "output_type": "display_data"
    },
    {
     "data": {
      "text/plain": [
       "3-element Vector{Float64}:\n",
       " 0.6154122094026351\n",
       " 0.7882054380161096\n",
       " 0.0"
      ]
     },
     "metadata": {},
     "output_type": "display_data"
    },
    {
     "data": {
      "text/plain": [
       "3-element Vector{Float64}:\n",
       " -0.6154122094026352\n",
       " -0.7882054380161095\n",
       "  2.1863833744455677e-15"
      ]
     },
     "metadata": {},
     "output_type": "display_data"
    },
    {
     "data": {
      "text/plain": [
       "3-element Vector{Float64}:\n",
       " -0.6154122094026357\n",
       " -0.7882054380161091\n",
       "  2.344205521096564e-15"
      ]
     },
     "metadata": {},
     "output_type": "display_data"
    },
    {
     "data": {
      "text/plain": [
       "3-element Vector{Float64}:\n",
       " 0.6154122094026359\n",
       " 0.7882054380161091\n",
       " 0.0"
      ]
     },
     "metadata": {},
     "output_type": "display_data"
    },
    {
     "data": {
      "text/plain": [
       "3-element Vector{Float64}:\n",
       " -0.6154122094026346\n",
       " -0.78820543801611\n",
       " -2.7666237297008688e-15"
      ]
     },
     "metadata": {},
     "output_type": "display_data"
    },
    {
     "data": {
      "text/plain": [
       "3-element Vector{Float64}:\n",
       " 0.6154122094026357\n",
       " 0.7882054380161092\n",
       " 1.1137017784184297e-15"
      ]
     },
     "metadata": {},
     "output_type": "display_data"
    },
    {
     "data": {
      "text/plain": [
       "3-element Vector{Float64}:\n",
       " -0.615412209402636\n",
       " -0.7882054380161089\n",
       " -8.679861395540893e-15"
      ]
     },
     "metadata": {},
     "output_type": "display_data"
    },
    {
     "data": {
      "text/plain": [
       "3-element Vector{Float64}:\n",
       " 0.6154122094026357\n",
       " 0.7882054380161092\n",
       " 1.0931916872227884e-15"
      ]
     },
     "metadata": {},
     "output_type": "display_data"
    },
    {
     "data": {
      "text/plain": [
       "3-element Vector{Float64}:\n",
       " -0.6154122094026355\n",
       " -0.7882054380161093\n",
       " -2.0605071877223493e-15"
      ]
     },
     "metadata": {},
     "output_type": "display_data"
    },
    {
     "data": {
      "text/plain": [
       "3-element Vector{Float64}:\n",
       " -0.6154122094026371\n",
       " -0.7882054380161081\n",
       "  2.424338232891235e-15"
      ]
     },
     "metadata": {},
     "output_type": "display_data"
    },
    {
     "data": {
      "text/plain": [
       "3-element Vector{Float64}:\n",
       " -0.6154122094026373\n",
       " -0.788205438016108\n",
       " -3.3132195733122833e-15"
      ]
     },
     "metadata": {},
     "output_type": "display_data"
    },
    {
     "data": {
      "text/plain": [
       "3-element Vector{Float64}:\n",
       " 0.6154122094026341\n",
       " 0.7882054380161104\n",
       " 0.0"
      ]
     },
     "metadata": {},
     "output_type": "display_data"
    },
    {
     "data": {
      "text/plain": [
       "3-element Vector{Float64}:\n",
       " -0.6154122094026357\n",
       " -0.7882054380161091\n",
       "  2.8002682413447688e-15"
      ]
     },
     "metadata": {},
     "output_type": "display_data"
    },
    {
     "data": {
      "text/plain": [
       "3-element Vector{Float64}:\n",
       " -0.6154122094026347\n",
       " -0.7882054380161099\n",
       " -2.732979218056971e-15"
      ]
     },
     "metadata": {},
     "output_type": "display_data"
    },
    {
     "data": {
      "text/plain": [
       "3-element Vector{Float64}:\n",
       " -0.6154122094026369\n",
       " -0.7882054380161082\n",
       " -3.012326621505001e-15"
      ]
     },
     "metadata": {},
     "output_type": "display_data"
    },
    {
     "data": {
      "text/plain": [
       "3-element Vector{Float64}:\n",
       " -0.6154122094026354\n",
       " -0.7882054380161095\n",
       " -1.4731818936611193e-15"
      ]
     },
     "metadata": {},
     "output_type": "display_data"
    },
    {
     "data": {
      "text/plain": [
       "3-element Vector{Float64}:\n",
       "  0.615412209402636\n",
       "  0.7882054380161089\n",
       " -5.465958436113951e-16"
      ]
     },
     "metadata": {},
     "output_type": "display_data"
    },
    {
     "data": {
      "text/plain": [
       "3-element Vector{Float64}:\n",
       " 0.6154122094026363\n",
       " 0.7882054380161088\n",
       " 8.51467362733722e-17"
      ]
     },
     "metadata": {},
     "output_type": "display_data"
    },
    {
     "data": {
      "text/plain": [
       "3-element Vector{Float64}:\n",
       "  0.6154122094026365\n",
       "  0.7882054380161085\n",
       " -2.186383374445579e-15"
      ]
     },
     "metadata": {},
     "output_type": "display_data"
    },
    {
     "data": {
      "text/plain": [
       "3-element Vector{Float64}:\n",
       " -0.6154122094026347\n",
       " -0.7882054380161099\n",
       "  3.8934599285675595e-15"
      ]
     },
     "metadata": {},
     "output_type": "display_data"
    },
    {
     "data": {
      "text/plain": [
       "3-element Vector{Float64}:\n",
       " -0.6154122094026331\n",
       " -0.7882054380161113\n",
       " -4.790089302347129e-15"
      ]
     },
     "metadata": {},
     "output_type": "display_data"
    },
    {
     "data": {
      "text/plain": [
       "3-element Vector{Float64}:\n",
       " 0.6154122094026356\n",
       " 0.7882054380161093\n",
       " 3.931246268865726e-16"
      ]
     },
     "metadata": {},
     "output_type": "display_data"
    },
    {
     "data": {
      "text/plain": [
       "3-element Vector{Float64}:\n",
       " 0.6154122094026363\n",
       " 0.7882054380161088\n",
       " 0.0"
      ]
     },
     "metadata": {},
     "output_type": "display_data"
    },
    {
     "data": {
      "text/plain": [
       "3-element Vector{Float64}:\n",
       " 0.6154122094026381\n",
       " 0.7882054380161073\n",
       " 0.0"
      ]
     },
     "metadata": {},
     "output_type": "display_data"
    },
    {
     "data": {
      "text/plain": [
       "3-element Vector{Float64}:\n",
       "  0.615412209402638\n",
       "  0.7882054380161074\n",
       " -4.79306820323607e-16"
      ]
     },
     "metadata": {},
     "output_type": "display_data"
    },
    {
     "data": {
      "text/plain": [
       "3-element Vector{Float64}:\n",
       " -0.6154122094026331\n",
       " -0.7882054380161112\n",
       "  2.800268241344796e-15"
      ]
     },
     "metadata": {},
     "output_type": "display_data"
    },
    {
     "data": {
      "text/plain": [
       "3-element Vector{Float64}:\n",
       " -0.6154122094026361\n",
       " -0.7882054380161088\n",
       " -1.0931916872227876e-15"
      ]
     },
     "metadata": {},
     "output_type": "display_data"
    },
    {
     "data": {
      "text/plain": [
       "3-element Vector{Float64}:\n",
       " 0.6154122094026349\n",
       " 0.7882054380161099\n",
       " 0.0"
      ]
     },
     "metadata": {},
     "output_type": "display_data"
    },
    {
     "data": {
      "text/plain": [
       "3-element Vector{Float64}:\n",
       " -0.6154122094026359\n",
       " -0.7882054380161091\n",
       "  3.8934599285675856e-15"
      ]
     },
     "metadata": {},
     "output_type": "display_data"
    },
    {
     "data": {
      "text/plain": [
       "3-element Vector{Float64}:\n",
       "  0.6154122094026347\n",
       "  0.78820543801611\n",
       " -7.172616787692701e-16"
      ]
     },
     "metadata": {},
     "output_type": "display_data"
    },
    {
     "data": {
      "text/plain": [
       "3-element Vector{Float64}:\n",
       "  0.6154122094026369\n",
       "  0.7882054380161082\n",
       " -2.186383374445564e-15"
      ]
     },
     "metadata": {},
     "output_type": "display_data"
    },
    {
     "data": {
      "text/plain": [
       "3-element Vector{Float64}:\n",
       " -0.6154122094026361\n",
       " -0.7882054380161089\n",
       " -2.459681296251261e-15"
      ]
     },
     "metadata": {},
     "output_type": "display_data"
    },
    {
     "data": {
      "text/plain": [
       "3-element Vector{Float64}:\n",
       "  0.6154122094026362\n",
       "  0.7882054380161088\n",
       " -2.186383374445568e-15"
      ]
     },
     "metadata": {},
     "output_type": "display_data"
    },
    {
     "data": {
      "text/plain": [
       "3-element Vector{Float64}:\n",
       " 0.6154122094026337\n",
       " 0.7882054380161108\n",
       " 7.731148333248804e-16"
      ]
     },
     "metadata": {},
     "output_type": "display_data"
    },
    {
     "data": {
      "text/plain": [
       "3-element Vector{Float64}:\n",
       " 0.6154122094026342\n",
       " 0.7882054380161104\n",
       " 0.0"
      ]
     },
     "metadata": {},
     "output_type": "display_data"
    },
    {
     "data": {
      "text/plain": [
       "3-element Vector{Float64}:\n",
       "  0.6154122094026334\n",
       "  0.788205438016111\n",
       " -8.535382770610041e-16"
      ]
     },
     "metadata": {},
     "output_type": "display_data"
    },
    {
     "data": {
      "text/plain": [
       "3-element Vector{Float64}:\n",
       "  0.6154122094026357\n",
       "  0.7882054380161092\n",
       " -1.7596142359150872e-15"
      ]
     },
     "metadata": {},
     "output_type": "display_data"
    },
    {
     "data": {
      "text/plain": [
       "3-element Vector{Float64}:\n",
       " -0.6154122094026342\n",
       " -0.7882054380161104\n",
       " -3.2102151240533634e-15"
      ]
     },
     "metadata": {},
     "output_type": "display_data"
    },
    {
     "data": {
      "text/plain": [
       "3-element Vector{Float64}:\n",
       " 0.6154122094026343\n",
       " 0.7882054380161103\n",
       " 0.0"
      ]
     },
     "metadata": {},
     "output_type": "display_data"
    },
    {
     "data": {
      "text/plain": [
       "3-element Vector{Float64}:\n",
       " -0.6154122094026356\n",
       " -0.7882054380161093\n",
       " -2.9369172022476088e-15"
      ]
     },
     "metadata": {},
     "output_type": "display_data"
    },
    {
     "data": {
      "text/plain": [
       "3-element Vector{Float64}:\n",
       " 0.6154122094026361\n",
       " 0.788205438016109\n",
       " 1.6121925008326015e-15"
      ]
     },
     "metadata": {},
     "output_type": "display_data"
    },
    {
     "data": {
      "text/plain": [
       "3-element Vector{Float64}:\n",
       " 0.6154122094026362\n",
       " 0.7882054380161089\n",
       " 4.897072318921103e-16"
      ]
     },
     "metadata": {},
     "output_type": "display_data"
    },
    {
     "data": {
      "text/plain": [
       "3-element Vector{Float64}:\n",
       " -0.6154122094026353\n",
       " -0.7882054380161094\n",
       " -1.473181893661108e-15"
      ]
     },
     "metadata": {},
     "output_type": "display_data"
    },
    {
     "data": {
      "text/plain": [
       "3-element Vector{Float64}:\n",
       " 0.6154122094026357\n",
       " 0.7882054380161092\n",
       " 0.0"
      ]
     },
     "metadata": {},
     "output_type": "display_data"
    },
    {
     "data": {
      "text/plain": [
       "3-element Vector{Float64}:\n",
       " 0.6154122094026356\n",
       " 0.7882054380161093\n",
       " 0.0"
      ]
     },
     "metadata": {},
     "output_type": "display_data"
    },
    {
     "data": {
      "text/plain": [
       "3-element Vector{Float64}:\n",
       " 0.6154122094026342\n",
       " 0.7882054380161104\n",
       " 0.0"
      ]
     },
     "metadata": {},
     "output_type": "display_data"
    },
    {
     "data": {
      "text/plain": [
       "3-element Vector{Float64}:\n",
       " 0.6154122094026356\n",
       " 0.7882054380161093\n",
       " 0.0"
      ]
     },
     "metadata": {},
     "output_type": "display_data"
    },
    {
     "data": {
      "text/plain": [
       "3-element Vector{Float64}:\n",
       " -0.6154122094026364\n",
       " -0.7882054380161087\n",
       " -8.535382770609875e-16"
      ]
     },
     "metadata": {},
     "output_type": "display_data"
    },
    {
     "data": {
      "text/plain": [
       "3-element Vector{Float64}:\n",
       " 0.6154122094026342\n",
       " 0.7882054380161104\n",
       " 0.0"
      ]
     },
     "metadata": {},
     "output_type": "display_data"
    },
    {
     "data": {
      "text/plain": [
       "3-element Vector{Float64}:\n",
       " 0.6154122094026356\n",
       " 0.7882054380161093\n",
       " 0.0"
      ]
     },
     "metadata": {},
     "output_type": "display_data"
    },
    {
     "data": {
      "text/plain": [
       "3-element Vector{Float64}:\n",
       " -0.6154122094026363\n",
       " -0.7882054380161088\n",
       "  4.986651615790328e-15"
      ]
     },
     "metadata": {},
     "output_type": "display_data"
    },
    {
     "data": {
      "text/plain": [
       "3-element Vector{Float64}:\n",
       " -0.6154122094026382\n",
       " -0.7882054380161072\n",
       "  3.586517495117957e-15"
      ]
     },
     "metadata": {},
     "output_type": "display_data"
    },
    {
     "data": {
      "text/plain": [
       "3-element Vector{Float64}:\n",
       "  0.6154122094026367\n",
       "  0.7882054380161083\n",
       " -2.1863833744456048e-15"
      ]
     },
     "metadata": {},
     "output_type": "display_data"
    },
    {
     "data": {
      "text/plain": [
       "3-element Vector{Float64}:\n",
       " 0.6154122094026359\n",
       " 0.7882054380161091\n",
       " 0.0"
      ]
     },
     "metadata": {},
     "output_type": "display_data"
    },
    {
     "data": {
      "text/plain": [
       "3-element Vector{Float64}:\n",
       " 0.6154122094026342\n",
       " 0.7882054380161104\n",
       " 0.0"
      ]
     },
     "metadata": {},
     "output_type": "display_data"
    },
    {
     "data": {
      "text/plain": [
       "3-element Vector{Float64}:\n",
       " 0.6154122094026369\n",
       " 0.7882054380161082\n",
       " 0.0"
      ]
     },
     "metadata": {},
     "output_type": "display_data"
    },
    {
     "data": {
      "text/plain": [
       "3-element Vector{Float64}:\n",
       " 0.6154122094026359\n",
       " 0.7882054380161091\n",
       " 0.0"
      ]
     },
     "metadata": {},
     "output_type": "display_data"
    },
    {
     "data": {
      "text/plain": [
       "3-element Vector{Float64}:\n",
       " -0.6154122094026352\n",
       " -0.7882054380161096\n",
       " -1.4001341206723816e-15"
      ]
     },
     "metadata": {},
     "output_type": "display_data"
    },
    {
     "data": {
      "text/plain": [
       "3-element Vector{Float64}:\n",
       " -0.6154122094026356\n",
       " -0.7882054380161093\n",
       " -1.7070765541219773e-15"
      ]
     },
     "metadata": {},
     "output_type": "display_data"
    },
    {
     "data": {
      "text/plain": [
       "3-element Vector{Float64}:\n",
       " -0.615412209402636\n",
       " -0.7882054380161091\n",
       "  1.400134120672385e-15"
      ]
     },
     "metadata": {},
     "output_type": "display_data"
    },
    {
     "data": {
      "text/plain": [
       "3-element Vector{Float64}:\n",
       "  0.615412209402636\n",
       "  0.788205438016109\n",
       " -3.2007685389787133e-16"
      ]
     },
     "metadata": {},
     "output_type": "display_data"
    },
    {
     "data": {
      "text/plain": [
       "3-element Vector{Float64}:\n",
       " 0.6154122094026356\n",
       " 0.7882054380161092\n",
       " 0.0"
      ]
     },
     "metadata": {},
     "output_type": "display_data"
    },
    {
     "data": {
      "text/plain": [
       "3-element Vector{Float64}:\n",
       " -0.6154122094026372\n",
       " -0.788205438016108\n",
       " -1.7070765541219952e-15"
      ]
     },
     "metadata": {},
     "output_type": "display_data"
    },
    {
     "data": {
      "text/plain": [
       "3-element Vector{Float64}:\n",
       " 0.6154122094026385\n",
       " 0.7882054380161069\n",
       " 3.4700878934693e-15"
      ]
     },
     "metadata": {},
     "output_type": "display_data"
    },
    {
     "data": {
      "text/plain": [
       "3-element Vector{Float64}:\n",
       " -0.6154122094026363\n",
       " -0.7882054380161087\n",
       " -2.903272690603727e-15"
      ]
     },
     "metadata": {},
     "output_type": "display_data"
    },
    {
     "data": {
      "text/plain": [
       "3-element Vector{Float64}:\n",
       " 0.6154122094026356\n",
       " 0.7882054380161093\n",
       " 0.0"
      ]
     },
     "metadata": {},
     "output_type": "display_data"
    },
    {
     "data": {
      "text/plain": [
       "3-element Vector{Float64}:\n",
       " -0.6154122094026353\n",
       " -0.7882054380161095\n",
       "  1.4001341206723848e-15"
      ]
     },
     "metadata": {},
     "output_type": "display_data"
    },
    {
     "data": {
      "text/plain": [
       "3-element Vector{Float64}:\n",
       " 0.6154122094026372\n",
       " 0.788205438016108\n",
       " 0.0"
      ]
     },
     "metadata": {},
     "output_type": "display_data"
    },
    {
     "data": {
      "text/plain": [
       "3-element Vector{Float64}:\n",
       " -0.6154122094026366\n",
       " -0.7882054380161083\n",
       "  1.0884683946854932e-15"
      ]
     },
     "metadata": {},
     "output_type": "display_data"
    },
    {
     "data": {
      "text/plain": [
       "3-element Vector{Float64}:\n",
       " -0.615412209402636\n",
       " -0.788205438016109\n",
       "  3.479825210485342e-15"
      ]
     },
     "metadata": {},
     "output_type": "display_data"
    },
    {
     "data": {
      "text/plain": [
       "3-element Vector{Float64}:\n",
       "  0.6154122094026357\n",
       "  0.7882054380161092\n",
       " -2.840706959853229e-16"
      ]
     },
     "metadata": {},
     "output_type": "display_data"
    },
    {
     "data": {
      "text/plain": [
       "3-element Vector{Float64}:\n",
       " -0.6154122094026352\n",
       " -0.7882054380161096\n",
       "  0.0"
      ]
     },
     "metadata": {},
     "output_type": "display_data"
    },
    {
     "data": {
      "text/plain": [
       "3-element Vector{Float64}:\n",
       " 0.6154122094026356\n",
       " 0.7882054380161093\n",
       " 0.0"
      ]
     },
     "metadata": {},
     "output_type": "display_data"
    },
    {
     "data": {
      "text/plain": [
       "3-element Vector{Float64}:\n",
       " -0.6154122094026339\n",
       " -0.7882054380161108\n",
       "  4.986651615790346e-15"
      ]
     },
     "metadata": {},
     "output_type": "display_data"
    },
    {
     "data": {
      "text/plain": [
       "3-element Vector{Float64}:\n",
       " -0.6154122094026342\n",
       " -0.7882054380161104\n",
       "  5.293594049239986e-15"
      ]
     },
     "metadata": {},
     "output_type": "display_data"
    },
    {
     "data": {
      "text/plain": [
       "3-element Vector{Float64}:\n",
       " -0.615412209402639\n",
       " -0.7882054380161065\n",
       "  3.893459928567584e-15"
      ]
     },
     "metadata": {},
     "output_type": "display_data"
    },
    {
     "data": {
      "text/plain": [
       "3-element Vector{Float64}:\n",
       " 0.6154122094026329\n",
       " 0.7882054380161114\n",
       " 0.0"
      ]
     },
     "metadata": {},
     "output_type": "display_data"
    },
    {
     "data": {
      "text/plain": [
       "3-element Vector{Float64}:\n",
       "  0.6154122094026359\n",
       "  0.7882054380161091\n",
       " -2.1863833744455807e-15"
      ]
     },
     "metadata": {},
     "output_type": "display_data"
    },
    {
     "data": {
      "text/plain": [
       "3-element Vector{Float64}:\n",
       "  0.615412209402637\n",
       "  0.7882054380161082\n",
       " -2.207602400125156e-16"
      ]
     },
     "metadata": {},
     "output_type": "display_data"
    },
    {
     "data": {
      "text/plain": [
       "3-element Vector{Float64}:\n",
       " -0.6154122094026352\n",
       " -0.7882054380161096\n",
       "  3.039921651506608e-15"
      ]
     },
     "metadata": {},
     "output_type": "display_data"
    },
    {
     "data": {
      "text/plain": [
       "3-element Vector{Float64}:\n",
       " 0.6154122094026339\n",
       " 0.7882054380161106\n",
       " 0.0"
      ]
     },
     "metadata": {},
     "output_type": "display_data"
    },
    {
     "data": {
      "text/plain": [
       "3-element Vector{Float64}:\n",
       "  0.6154122094026372\n",
       "  0.788205438016108\n",
       " -1.7070765541219952e-15"
      ]
     },
     "metadata": {},
     "output_type": "display_data"
    },
    {
     "data": {
      "text/plain": [
       "3-element Vector{Float64}:\n",
       " 0.6154122094026369\n",
       " 0.7882054380161083\n",
       " 0.0"
      ]
     },
     "metadata": {},
     "output_type": "display_data"
    },
    {
     "data": {
      "text/plain": [
       "3-element Vector{Float64}:\n",
       " -0.6154122094026374\n",
       " -0.7882054380161079\n",
       " -2.6838386396961873e-15"
      ]
     },
     "metadata": {},
     "output_type": "display_data"
    },
    {
     "data": {
      "text/plain": [
       "3-element Vector{Float64}:\n",
       " -0.6154122094026361\n",
       " -0.7882054380161089\n",
       "  2.186383374445578e-15"
      ]
     },
     "metadata": {},
     "output_type": "display_data"
    },
    {
     "data": {
      "text/plain": [
       "3-element Vector{Float64}:\n",
       "  0.6154122094026362\n",
       "  0.7882054380161089\n",
       " -7.936249245205371e-16"
      ]
     },
     "metadata": {},
     "output_type": "display_data"
    },
    {
     "data": {
      "text/plain": [
       "3-element Vector{Float64}:\n",
       " 0.6154122094026359\n",
       " 0.7882054380161091\n",
       " 8.929415384059501e-16"
      ]
     },
     "metadata": {},
     "output_type": "display_data"
    },
    {
     "data": {
      "text/plain": [
       "3-element Vector{Float64}:\n",
       " -0.6154122094026369\n",
       " -0.7882054380161082\n",
       " -3.1203450952426595e-15"
      ]
     },
     "metadata": {},
     "output_type": "display_data"
    },
    {
     "data": {
      "text/plain": [
       "3-element Vector{Float64}:\n",
       " -0.6154122094026342\n",
       " -0.7882054380161104\n",
       "  5.600536482689549e-15"
      ]
     },
     "metadata": {},
     "output_type": "display_data"
    },
    {
     "data": {
      "text/plain": [
       "3-element Vector{Float64}:\n",
       "  0.6154122094026346\n",
       "  0.78820543801611\n",
       " -1.7070765541219958e-15"
      ]
     },
     "metadata": {},
     "output_type": "display_data"
    },
    {
     "data": {
      "text/plain": [
       "3-element Vector{Float64}:\n",
       " 0.6154122094026364\n",
       " 0.7882054380161087\n",
       " 0.0"
      ]
     },
     "metadata": {},
     "output_type": "display_data"
    },
    {
     "data": {
      "text/plain": [
       "3-element Vector{Float64}:\n",
       " 0.6154122094026342\n",
       " 0.7882054380161104\n",
       " 0.0"
      ]
     },
     "metadata": {},
     "output_type": "display_data"
    },
    {
     "data": {
      "text/plain": [
       "3-element Vector{Float64}:\n",
       " 0.6154122094026355\n",
       " 0.7882054380161093\n",
       " 1.1497079363309575e-15"
      ]
     },
     "metadata": {},
     "output_type": "display_data"
    },
    {
     "data": {
      "text/plain": [
       "3-element Vector{Float64}:\n",
       " -0.6154122094026354\n",
       " -0.7882054380161093\n",
       "  2.8002682413447566e-15"
      ]
     },
     "metadata": {},
     "output_type": "display_data"
    },
    {
     "data": {
      "text/plain": [
       "3-element Vector{Float64}:\n",
       " 0.6154122094026366\n",
       " 0.7882054380161084\n",
       " 0.0"
      ]
     },
     "metadata": {},
     "output_type": "display_data"
    },
    {
     "data": {
      "text/plain": [
       "3-element Vector{Float64}:\n",
       " -0.6154122094026352\n",
       " -0.7882054380161095\n",
       " -2.732979218056956e-15"
      ]
     },
     "metadata": {},
     "output_type": "display_data"
    },
    {
     "data": {
      "text/plain": [
       "3-element Vector{Float64}:\n",
       " 0.6154122094026356\n",
       " 0.7882054380161092\n",
       " 0.0"
      ]
     },
     "metadata": {},
     "output_type": "display_data"
    },
    {
     "data": {
      "text/plain": [
       "3-element Vector{Float64}:\n",
       " -0.6154122094026373\n",
       " -0.7882054380161079\n",
       "  7.216126086954384e-16"
      ]
     },
     "metadata": {},
     "output_type": "display_data"
    },
    {
     "data": {
      "text/plain": [
       "3-element Vector{Float64}:\n",
       " -0.6154122094026356\n",
       " -0.7882054380161093\n",
       "  4.950936189819169e-16"
      ]
     },
     "metadata": {},
     "output_type": "display_data"
    },
    {
     "data": {
      "text/plain": [
       "3-element Vector{Float64}:\n",
       " 0.6154122094026372\n",
       " 0.788205438016108\n",
       " 0.0"
      ]
     },
     "metadata": {},
     "output_type": "display_data"
    },
    {
     "data": {
      "text/plain": [
       "3-element Vector{Float64}:\n",
       "  0.6154122094026359\n",
       "  0.7882054380161091\n",
       " -2.1863833744455783e-15"
      ]
     },
     "metadata": {},
     "output_type": "display_data"
    },
    {
     "data": {
      "text/plain": [
       "3-element Vector{Float64}:\n",
       "  0.6154122094026334\n",
       "  0.7882054380161109\n",
       " -1.0742985170734822e-15"
      ]
     },
     "metadata": {},
     "output_type": "display_data"
    },
    {
     "data": {
      "text/plain": [
       "3-element Vector{Float64}:\n",
       "  0.6154122094026395\n",
       "  0.7882054380161062\n",
       " -2.1863833744455748e-15"
      ]
     },
     "metadata": {},
     "output_type": "display_data"
    },
    {
     "data": {
      "text/plain": [
       "3-element Vector{Float64}:\n",
       " 0.6154122094026336\n",
       " 0.7882054380161109\n",
       " 0.0"
      ]
     },
     "metadata": {},
     "output_type": "display_data"
    },
    {
     "data": {
      "text/plain": [
       "3-element Vector{Float64}:\n",
       " 0.6154122094026356\n",
       " 0.7882054380161093\n",
       " 0.0"
      ]
     },
     "metadata": {},
     "output_type": "display_data"
    },
    {
     "data": {
      "text/plain": [
       "3-element Vector{Float64}:\n",
       "  0.6154122094026322\n",
       "  0.7882054380161118\n",
       " -1.7070765541219842e-15"
      ]
     },
     "metadata": {},
     "output_type": "display_data"
    },
    {
     "data": {
      "text/plain": [
       "3-element Vector{Float64}:\n",
       " 0.6154122094026336\n",
       " 0.7882054380161109\n",
       " 0.0"
      ]
     },
     "metadata": {},
     "output_type": "display_data"
    },
    {
     "data": {
      "text/plain": [
       "3-element Vector{Float64}:\n",
       " -0.6154122094026385\n",
       " -0.7882054380161071\n",
       "  5.600536482689522e-15"
      ]
     },
     "metadata": {},
     "output_type": "display_data"
    },
    {
     "data": {
      "text/plain": [
       "3-element Vector{Float64}:\n",
       " 0.6154122094026392\n",
       " 0.7882054380161064\n",
       " 0.0"
      ]
     },
     "metadata": {},
     "output_type": "display_data"
    },
    {
     "data": {
      "text/plain": [
       "3-element Vector{Float64}:\n",
       " 0.6154122094026343\n",
       " 0.7882054380161103\n",
       " 0.0"
      ]
     },
     "metadata": {},
     "output_type": "display_data"
    },
    {
     "data": {
      "text/plain": [
       "3-element Vector{Float64}:\n",
       " 0.615412209402637\n",
       " 0.7882054380161082\n",
       " 9.673155004995944e-16"
      ]
     },
     "metadata": {},
     "output_type": "display_data"
    },
    {
     "data": {
      "text/plain": [
       "3-element Vector{Float64}:\n",
       "  0.6154122094026349\n",
       "  0.7882054380161098\n",
       " -1.0931916872227815e-15"
      ]
     },
     "metadata": {},
     "output_type": "display_data"
    },
    {
     "data": {
      "text/plain": [
       "3-element Vector{Float64}:\n",
       "  0.6154122094026364\n",
       "  0.7882054380161085\n",
       " -1.1773029663324558e-15"
      ]
     },
     "metadata": {},
     "output_type": "display_data"
    },
    {
     "data": {
      "text/plain": [
       "3-element Vector{Float64}:\n",
       " -0.6154122094026356\n",
       " -0.7882054380161092\n",
       "  3.59965191556622e-15"
      ]
     },
     "metadata": {},
     "output_type": "display_data"
    },
    {
     "data": {
      "text/plain": [
       "3-element Vector{Float64}:\n",
       "  0.6154122094026359\n",
       "  0.7882054380161091\n",
       " -1.0931916872227894e-15"
      ]
     },
     "metadata": {},
     "output_type": "display_data"
    },
    {
     "data": {
      "text/plain": [
       "3-element Vector{Float64}:\n",
       " 0.6154122094026342\n",
       " 0.7882054380161104\n",
       " 0.0"
      ]
     },
     "metadata": {},
     "output_type": "display_data"
    },
    {
     "data": {
      "text/plain": [
       "3-element Vector{Float64}:\n",
       " 0.6154122094026336\n",
       " 0.7882054380161109\n",
       " 0.0"
      ]
     },
     "metadata": {},
     "output_type": "display_data"
    },
    {
     "data": {
      "text/plain": [
       "3-element Vector{Float64}:\n",
       " -0.6154122094026343\n",
       " -0.7882054380161103\n",
       " -8.535382770609857e-16"
      ]
     },
     "metadata": {},
     "output_type": "display_data"
    },
    {
     "data": {
      "text/plain": [
       "3-element Vector{Float64}:\n",
       "  0.6154122094026356\n",
       "  0.7882054380161093\n",
       " -8.535382770609886e-16"
      ]
     },
     "metadata": {},
     "output_type": "display_data"
    },
    {
     "data": {
      "text/plain": [
       "3-element Vector{Float64}:\n",
       " -0.6154122094026355\n",
       " -0.7882054380161093\n",
       "  2.2752179460926164e-15"
      ]
     },
     "metadata": {},
     "output_type": "display_data"
    },
    {
     "data": {
      "text/plain": [
       "3-element Vector{Float64}:\n",
       " -0.6154122094026359\n",
       " -0.7882054380161091\n",
       "  7.786919857135084e-15"
      ]
     },
     "metadata": {},
     "output_type": "display_data"
    },
    {
     "data": {
      "text/plain": [
       "3-element Vector{Float64}:\n",
       "  0.6154122094026369\n",
       "  0.7882054380161082\n",
       " -2.186383374445605e-15"
      ]
     },
     "metadata": {},
     "output_type": "display_data"
    },
    {
     "data": {
      "text/plain": [
       "3-element Vector{Float64}:\n",
       " -0.6154122094026357\n",
       " -0.7882054380161091\n",
       "  3.887410446925221e-15"
      ]
     },
     "metadata": {},
     "output_type": "display_data"
    },
    {
     "data": {
      "text/plain": [
       "3-element Vector{Float64}:\n",
       " -0.6154122094026359\n",
       " -0.7882054380161092\n",
       "  2.4297246199810377e-15"
      ]
     },
     "metadata": {},
     "output_type": "display_data"
    },
    {
     "data": {
      "text/plain": [
       "3-element Vector{Float64}:\n",
       "  0.6154122094026326\n",
       "  0.7882054380161116\n",
       " -1.707076554121981e-15"
      ]
     },
     "metadata": {},
     "output_type": "display_data"
    },
    {
     "data": {
      "text/plain": [
       "3-element Vector{Float64}:\n",
       " -0.6154122094026355\n",
       " -0.7882054380161093\n",
       "  0.0"
      ]
     },
     "metadata": {},
     "output_type": "display_data"
    },
    {
     "data": {
      "text/plain": [
       "3-element Vector{Float64}:\n",
       " -1.2308244188\n",
       " -1.576410876\n",
       "  0.0"
      ]
     },
     "metadata": {},
     "output_type": "display_data"
    }
   ],
   "source": [
    "aa1 = FEM.field(\"body\", f=2)\n",
    "a11 = FEM.ScalarField(problem, [aa1])\n",
    "FEM.probe(N1 * a1, atP)"
   ]
  },
  {
   "cell_type": "code",
   "execution_count": 36,
   "id": "7429a909",
   "metadata": {},
   "outputs": [
    {
     "data": {
      "text/plain": [
       "3-element Vector{Float64}:\n",
       " 0.6154122094\n",
       " 0.788205438\n",
       " 0.0"
      ]
     },
     "metadata": {},
     "output_type": "display_data"
    }
   ],
   "source": [
    "FEM.probe(N1, atP)"
   ]
  },
  {
   "cell_type": "code",
   "execution_count": 37,
   "id": "8354be2e",
   "metadata": {},
   "outputs": [
    {
     "data": {
      "text/plain": [
       "2.0"
      ]
     },
     "metadata": {},
     "output_type": "display_data"
    }
   ],
   "source": [
    "FEM.probe(a1, atP)"
   ]
  },
  {
   "cell_type": "code",
   "execution_count": null,
   "id": "01309dab",
   "metadata": {},
   "outputs": [],
   "source": [
    "FEM.openPostProcessor()"
   ]
  },
  {
   "cell_type": "code",
   "execution_count": null,
   "id": "76590819",
   "metadata": {},
   "outputs": [],
   "source": [
    "gmsh.finalize()"
   ]
  }
 ],
 "metadata": {
  "kernelspec": {
   "display_name": "Julia 1.11.6",
   "language": "julia",
   "name": "julia-1.11"
  },
  "language_info": {
   "file_extension": ".jl",
   "mimetype": "application/julia",
   "name": "julia",
   "version": "1.11.6"
  }
 },
 "nbformat": 4,
 "nbformat_minor": 5
}
