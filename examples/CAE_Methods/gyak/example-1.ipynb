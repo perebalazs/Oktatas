{
 "cells": [
  {
   "cell_type": "code",
   "execution_count": 14,
   "metadata": {},
   "outputs": [],
   "source": [
    "using LowLevelFEM\n",
    "import LowLevelFEM as FEM\n",
    "\n",
    "gmsh.initialize()"
   ]
  },
  {
   "cell_type": "code",
   "execution_count": 15,
   "metadata": {},
   "outputs": [
    {
     "name": "stdout",
     "output_type": "stream",
     "text": [
      "Info    : Reading 'example-1.geo'...\n",
      "Info    : Meshing 1D...                                                                                                                        \n",
      "Info    : [  0%] Meshing curve 8 (Ellipse)\n",
      "Info    : [ 20%] Meshing curve 9 (Line)\n",
      "Info    : [ 30%] Meshing curve 10 (Line)\n",
      "Info    : [ 40%] Meshing curve 11 (Line)\n",
      "Info    : [ 60%] Meshing curve 12 (Line)\n",
      "Info    : [ 70%] Meshing curve 13 (Line)\n",
      "Info    : [ 80%] Meshing curve 14 (Circle)\n",
      "Info    : [ 90%] Meshing curve 15 (Line)\n",
      "Info    : Done meshing 1D (Wall 0.00650534s, CPU 0.006506s)\n",
      "Info    : Meshing 2D...\n",
      "Info    : Meshing surface 1 (Plane, Frontal-Delaunay)\n",
      "Info    : Done meshing 2D (Wall 0.0185373s, CPU 0.017423s)\n",
      "Info    : Meshing order 3 (curvilinear on)...\n",
      "Info    : [  0%] Meshing curve 8 order 3\n",
      "Info    : [ 20%] Meshing curve 9 order 3\n",
      "Info    : [ 30%] Meshing curve 10 order 3\n",
      "Info    : [ 40%] Meshing curve 11 order 3\n",
      "Info    : [ 50%] Meshing curve 12 order 3\n",
      "Info    : [ 60%] Meshing curve 13 order 3\n",
      "Info    : [ 70%] Meshing curve 14 order 3\n",
      "Info    : [ 80%] Meshing curve 15 order 3\n",
      "Info    : [ 90%] Meshing surface 1 order 3\n",
      "Info    : Surface mesh: worst distortion = 0.741241 (0 elements in ]0, 0.2]); worst gamma = 0.691894\n",
      "Info    : Done meshing order 3 (Wall 0.0109025s, CPU 0.010838s)\n",
      "Info    : 2341 nodes 575 elements\n",
      "Info    : Done reading 'example-1.geo'\n"
     ]
    }
   ],
   "source": [
    "gmsh.open(\"example-1.geo\")"
   ]
  },
  {
   "cell_type": "code",
   "execution_count": 16,
   "metadata": {},
   "outputs": [
    {
     "name": "stdout",
     "output_type": "stream",
     "text": [
      "-------------------------------------------------------\n",
      "Version       : 4.13.1\n",
      "License       : GNU General Public License\n",
      "Build OS      : Linux64-sdk\n",
      "Build date    : 19700101\n",
      "Build host    : amdci7.julia.csail.mit.edu\n",
      "Build options : 64Bit ALGLIB[contrib] ANN[contrib] Bamg Blossom Cairo DIntegration Dlopen DomHex Eigen[contrib] Fltk GMP Gmm[contrib] Hxt Jpeg Kbipack LinuxJoystick MathEx[contrib] Mesh Metis[contrib] Mmg Mpeg Netgen Nii2mesh ONELAB ONELABMetamodel OpenCASCADE OpenCASCADE-CAF OpenGL OpenMP OptHom Parser Plugins Png Post QuadMeshingTools QuadTri Solver TetGen/BR TinyXML2[contrib] Untangle Voro++[contrib] WinslowUntangler Zlib\n",
      "FLTK version  : 1.3.8\n",
      "OCC version   : 7.7.2\n",
      "Packaged by   : root\n",
      "Web site      : https://gmsh.info\n",
      "Issue tracker : https://gitlab.onelab.info/gmsh/gmsh/issues\n",
      "-------------------------------------------------------\n",
      "Info    : Refining mesh...\n",
      "Info    : Meshing order 2 (curvilinear on)...\n",
      "Info    : [  0%] Meshing curve 8 order 2\n",
      "Info    : [ 20%] Meshing curve 9 order 2\n",
      "Info    : [ 30%] Meshing curve 10 order 2\n",
      "Info    : [ 40%] Meshing curve 11 order 2\n",
      "Info    : [ 50%] Meshing curve 12 order 2\n",
      "Info    : [ 60%] Meshing curve 13 order 2\n",
      "Info    : [ 70%] Meshing curve 14 order 2\n",
      "Info    : [ 80%] Meshing curve 15 order 2\n",
      "Info    : [ 90%] Meshing surface 1 order 2\n",
      "Info    : Surface mesh: worst distortion = 0.755835 (0 elements in ]0, 0.2]); worst gamma = 0.691894\n",
      "Info    : Done meshing order 2 (Wall 0.00619757s, CPU 0.006191s)\n",
      "Info    : Done refining mesh (Wall 0.00864771s, CPU 0.008629s)\n",
      "Info    : Refining mesh...\n",
      "Info    : Meshing order 2 (curvilinear on)...\n",
      "Info    : [  0%] Meshing curve 8 order 2\n",
      "Info    : [ 20%] Meshing curve 9 order 2\n",
      "Info    : [ 30%] Meshing curve 10 order 2\n",
      "Info    : [ 40%] Meshing curve 11 order 2\n",
      "Info    : [ 50%] Meshing curve 12 order 2\n",
      "Info    : [ 60%] Meshing curve 13 order 2\n",
      "Info    : [ 70%] Meshing curve 14 order 2\n",
      "Info    : [ 80%] Meshing curve 15 order 2\n",
      "Info    : [ 90%] Meshing surface 1 order 2\n",
      "Info    : Surface mesh: worst distortion = 0.848774 (0 elements in ]0, 0.2]); worst gamma = 0.691894\n",
      "Info    : Done meshing order 2 (Wall 0.017974s, CPU 0.017602s)\n",
      "Info    : Done refining mesh (Wall 0.0220722s, CPU 0.021699s)\n"
     ]
    },
    {
     "name": "stderr",
     "output_type": "stream",
     "text": [
      "XRequest.18: BadValue 0x0\n"
     ]
    }
   ],
   "source": [
    "FEM.openPreProcessor()"
   ]
  },
  {
   "cell_type": "code",
   "execution_count": 17,
   "metadata": {},
   "outputs": [
    {
     "name": "stdout",
     "output_type": "stream",
     "text": [
      "Info    : RCMK renumbering...\n",
      "Info    : Done RCMK renumbering (bandwidth is now 120)\n",
      "Info    : Mapping does not contain a node tag (4115) - incrementing after last provided tag (4114)\n"
     ]
    },
    {
     "data": {
      "text/plain": [
       "LowLevelFEM.Problem(\"example-1\", :PlaneStress, 2, 2, LowLevelFEM.Material[LowLevelFEM.Material(\"body\", 200000.0, 0.3, 7.85e-9, 45.0, 4.2e8, 1.2e-5)], 1.0, 4114)"
      ]
     },
     "metadata": {},
     "output_type": "display_data"
    }
   ],
   "source": [
    "mat = FEM.material(\"body\", E=2e5, ν=0.3)\n",
    "problem = FEM.Problem([mat], type=:PlaneStress)"
   ]
  },
  {
   "cell_type": "code",
   "execution_count": 18,
   "metadata": {},
   "outputs": [
    {
     "data": {
      "text/plain": [
       "(\"load\", 0, -1, 0)"
      ]
     },
     "metadata": {},
     "output_type": "display_data"
    }
   ],
   "source": [
    "supp = FEM.displacementConstraint(\"supp\", ux=0, uy=0)\n",
    "load = FEM.load(\"load\", fy=-1)"
   ]
  },
  {
   "cell_type": "code",
   "execution_count": 19,
   "metadata": {},
   "outputs": [
    {
     "data": {
      "text/plain": [
       "LowLevelFEM.TensorField([[1.6441547118492656; -0.8118571910973508; … ; 0.0; 0.0;;], [1.401447322358174; -0.9239996748912402; … ; 0.0; 0.0;;], [1.6189851898796732; -0.8993122681580314; … ; 0.0; 0.0;;], [1.4472985984610252; -0.9548313331873783; … ; 0.0; 0.0;;], [1.3790332043561924; -1.00908253818929; … ; 0.0; 0.0;;], [1.412515024395632; -1.0343638521812077; … ; 0.0; 0.0;;], [1.1867061281927855; -1.1375562391553098; … ; 0.0; 0.0;;], [1.2141745205034524; -1.0623486171858583; … ; 0.0; 0.0;;], [1.5829575618421765; -0.9840914044889599; … ; 0.0; 0.0;;], [1.3487606260079945; -1.0901100669114463; … ; 0.0; 0.0;;]  …  [0.4194396049516378; -0.43055534238604953; … ; 0.0; 0.0;;], [0.4128949050269435; -0.4634329758123807; … ; 0.0; 0.0;;], [0.31315664658590503; -0.3832679272250114; … ; 0.0; 0.0;;], [0.3539518063387894; -0.3714164373536881; … ; 0.0; 0.0;;], [0.3376143771791853; -0.36979946921331697; … ; 0.0; 0.0;;], [0.3788215463920439; -0.41189987416499996; … ; 0.0; 0.0;;], [0.43437267480369335; -0.5072418169471602; … ; 0.0; 0.0;;], [0.49820851045564285; -0.4975741140237934; … ; 0.0; 0.0;;], [0.4468355769651149; -0.4714774040159856; … ; 0.0; 0.0;;], [0.5264976678399944; -0.5410203847834826; … ; 0.0; 0.0;;]], [41, 42, 43, 44, 45, 46, 47, 48, 49, 50  …  7983, 7984, 7985, 7986, 7987, 7988, 7989, 7990, 7991, 7992], 1, :s)"
      ]
     },
     "metadata": {},
     "output_type": "display_data"
    }
   ],
   "source": [
    "q = FEM.solveDisplacement(problem, [load], [supp])\n",
    "S = FEM.solveStress(problem, q)"
   ]
  },
  {
   "cell_type": "code",
   "execution_count": 20,
   "metadata": {},
   "outputs": [
    {
     "name": "stdout",
     "output_type": "stream",
     "text": [
      "Info    : Running Plugin(Smooth)...\n",
      "Info    : Done running Plugin(Smooth)\n"
     ]
    },
    {
     "data": {
      "text/plain": [
       "1"
      ]
     },
     "metadata": {},
     "output_type": "display_data"
    }
   ],
   "source": [
    "s = FEM.showStressResults(problem, S, :s, visible=true, smooth=false)\n",
    "sx = FEM.showStressResults(problem, S, :sx)"
   ]
  },
  {
   "cell_type": "code",
   "execution_count": 21,
   "metadata": {},
   "outputs": [
    {
     "data": {
      "text/plain": [
       "2"
      ]
     },
     "metadata": {},
     "output_type": "display_data"
    }
   ],
   "source": [
    "err = FEM.fieldError(problem, S)\n",
    "err0 = FEM.showDoFResults(problem, err, :s)"
   ]
  },
  {
   "cell_type": "code",
   "execution_count": 22,
   "metadata": {},
   "outputs": [
    {
     "name": "stdout",
     "output_type": "stream",
     "text": [
      "-------------------------------------------------------\n",
      "Version       : 4.13.1\n",
      "License       : GNU General Public License\n",
      "Build OS      : Linux64-sdk\n",
      "Build date    : 19700101\n",
      "Build host    : amdci7.julia.csail.mit.edu\n",
      "Build options : 64Bit ALGLIB[contrib] ANN[contrib] Bamg Blossom Cairo DIntegration Dlopen DomHex Eigen[contrib] Fltk GMP Gmm[contrib] Hxt Jpeg Kbipack LinuxJoystick MathEx[contrib] Mesh Metis[contrib] Mmg Mpeg Netgen Nii2mesh ONELAB ONELABMetamodel OpenCASCADE OpenCASCADE-CAF OpenGL OpenMP OptHom Parser Plugins Png Post QuadMeshingTools QuadTri Solver TetGen/BR TinyXML2[contrib] Untangle Voro++[contrib] WinslowUntangler Zlib\n",
      "FLTK version  : 1.3.8\n",
      "OCC version   : 7.7.2\n",
      "Packaged by   : root\n",
      "Web site      : https://gmsh.info\n",
      "Issue tracker : https://gitlab.onelab.info/gmsh/gmsh/issues\n",
      "-------------------------------------------------------\n"
     ]
    },
    {
     "name": "stderr",
     "output_type": "stream",
     "text": [
      "XRequest.18: BadValue 0x0\n"
     ]
    }
   ],
   "source": [
    "FEM.openPostProcessor()"
   ]
  },
  {
   "cell_type": "code",
   "execution_count": 23,
   "metadata": {},
   "outputs": [],
   "source": [
    "gmsh.finalize()"
   ]
  }
 ],
 "metadata": {
  "kernelspec": {
   "display_name": "Julia 1.11.4",
   "language": "julia",
   "name": "julia-1.11"
  },
  "language_info": {
   "file_extension": ".jl",
   "mimetype": "application/julia",
   "name": "julia",
   "version": "1.11.4"
  }
 },
 "nbformat": 4,
 "nbformat_minor": 2
}
