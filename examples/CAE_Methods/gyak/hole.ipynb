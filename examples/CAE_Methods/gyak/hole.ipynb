{
 "cells": [
  {
   "cell_type": "code",
   "execution_count": 25,
   "metadata": {},
   "outputs": [
    {
     "name": "stderr",
     "output_type": "stream",
     "text": [
      "Warning : Gmsh has aleady been initialized\n"
     ]
    }
   ],
   "source": [
    "using LowLevelFEM\n",
    "import LowLevelFEM as FEM\n",
    "\n",
    "gmsh.initialize()"
   ]
  },
  {
   "cell_type": "code",
   "execution_count": 26,
   "metadata": {},
   "outputs": [
    {
     "data": {
      "text/plain": [
       "0.5"
      ]
     },
     "metadata": {},
     "output_type": "display_data"
    }
   ],
   "source": [
    "d = 5\n",
    "l = 10\n",
    "es = 5\n",
    "esh = 0.5"
   ]
  },
  {
   "cell_type": "code",
   "execution_count": 27,
   "metadata": {},
   "outputs": [],
   "source": [
    "FEM.setParameter(\"d\", d)\n",
    "FEM.setParameter(\"l\", l)\n",
    "FEM.setParameter(\"es\", es)\n",
    "FEM.setParameter(\"esh\", esh)"
   ]
  },
  {
   "cell_type": "code",
   "execution_count": 28,
   "metadata": {},
   "outputs": [
    {
     "name": "stdout",
     "output_type": "stream",
     "text": [
      "Info    : Reading 'hole.geo'...\n"
     ]
    },
    {
     "name": "stderr",
     "output_type": "stream",
     "text": [
      "Error   : OpenCASCADE surface with tag 1 already exists\n"
     ]
    },
    {
     "ename": "ErrorException",
     "evalue": "OpenCASCADE surface with tag 1 already exists",
     "output_type": "error",
     "traceback": [
      "OpenCASCADE surface with tag 1 already exists\n",
      "\n",
      "Stacktrace:\n",
      " [1] error(s::String)\n",
      "   @ Base ./error.jl:35\n",
      " [2] merge(fileName::String)\n",
      "   @ LowLevelFEM.gmsh ~/.julia/artifacts/548af07fc27d416ad9c5fd0694b301f877eddc61/lib/gmsh.jl:132\n",
      " [3] top-level scope\n",
      "   @ ~/Dokumentumok/GitHub/Oktatas/examples/CAE_Methods/gyak/jl_notebook_cell_df34fa98e69747e1a8f8a730347b8e2f_W3sZmlsZQ==.jl:1"
     ]
    }
   ],
   "source": [
    "gmsh.merge(\"hole.geo\")"
   ]
  },
  {
   "cell_type": "code",
   "execution_count": 29,
   "metadata": {},
   "outputs": [
    {
     "name": "stdout",
     "output_type": "stream",
     "text": [
      "-------------------------------------------------------\n",
      "Version       : 4.13.1\n",
      "License       : GNU General Public License\n",
      "Build OS      : Linux64-sdk\n",
      "Build date    : 19700101\n",
      "Build host    : amdci7.julia.csail.mit.edu\n",
      "Build options : 64Bit ALGLIB[contrib] ANN[contrib] Bamg Blossom Cairo DIntegration Dlopen DomHex Eigen[contrib] Fltk GMP Gmm[contrib] Hxt Jpeg Kbipack LinuxJoystick MathEx[contrib] Mesh Metis[contrib] Mmg Mpeg Netgen Nii2mesh ONELAB ONELABMetamodel OpenCASCADE OpenCASCADE-CAF OpenGL OpenMP OptHom Parser Plugins Png Post QuadMeshingTools QuadTri Solver TetGen/BR TinyXML2[contrib] Untangle Voro++[contrib] WinslowUntangler Zlib\n",
      "FLTK version  : 1.3.8\n",
      "OCC version   : 7.7.2\n",
      "Packaged by   : root\n",
      "Web site      : https://gmsh.info\n",
      "Issue tracker : https://gitlab.onelab.info/gmsh/gmsh/issues\n",
      "-------------------------------------------------------\n"
     ]
    },
    {
     "name": "stderr",
     "output_type": "stream",
     "text": [
      "XRequest.18: BadValue 0x0\n"
     ]
    }
   ],
   "source": [
    "FEM.openPreProcessor()"
   ]
  },
  {
   "cell_type": "code",
   "execution_count": 30,
   "metadata": {},
   "outputs": [
    {
     "name": "stdout",
     "output_type": "stream",
     "text": [
      "Info    : RCMK renumbering...\n",
      "Info    : Done RCMK renumbering (bandwidth is now 304)\n"
     ]
    },
    {
     "data": {
      "text/plain": [
       "LowLevelFEM.Problem(\"hole\", :PlaneStress, 2, 2, LowLevelFEM.Material[LowLevelFEM.Material(\"body\", 200000.0, 0.3, 7.85e-9, 45.0, 4.2e8, 1.2e-5)], 1.0, 5080)"
      ]
     },
     "metadata": {},
     "output_type": "display_data"
    }
   ],
   "source": [
    "mat = FEM.material(\"body\")\n",
    "problem = FEM.Problem([mat], type=:PlaneStress)"
   ]
  },
  {
   "cell_type": "code",
   "execution_count": 31,
   "metadata": {},
   "outputs": [
    {
     "data": {
      "text/plain": [
       "(\"right\", 1, 0, 0)"
      ]
     },
     "metadata": {},
     "output_type": "display_data"
    }
   ],
   "source": [
    "supp1 = FEM.displacementConstraint(\"left\", ux=0)\n",
    "supp2 = FEM.displacementConstraint(\"bottom\", uy=0)\n",
    "\n",
    "load = FEM.load(\"right\", fx=1)"
   ]
  },
  {
   "cell_type": "code",
   "execution_count": 32,
   "metadata": {},
   "outputs": [
    {
     "data": {
      "text/plain": [
       "10160×10160 SparseMatrixCSC{Float64, Int64} with 20310 stored entries:\n",
       "⎡⠻⢆⡀⠀⠀⠀⠀⠀⠀⠀⠀⠀⠀⠀⠀⠀⠀⠀⠀⠀⠀⠀⠀⠀⠀⠀⠀⠀⠀⠀⠀⠀⠀⠀⠀⠀⠀⠀⠀⠀⎤\n",
       "⎢⠀⠈⠛⢄⡀⠀⠀⠀⠀⠀⠀⠀⠀⠀⠀⠀⠀⠀⠀⠀⠀⠀⠀⠀⠀⠀⠀⠀⠀⠀⠀⠀⠀⠀⠀⠀⠀⠀⠀⠀⎥\n",
       "⎢⠀⠀⠀⠈⠑⣤⡀⠀⠀⠀⠀⠀⠀⠀⠀⠀⠀⠀⠀⠀⠀⠀⠀⠀⠀⠀⠀⠀⠀⠀⠀⠀⠀⠀⠀⠀⠀⠀⠀⠀⎥\n",
       "⎢⠀⠀⠀⠀⠀⠈⠱⣦⠀⠀⠀⠀⠀⠀⠀⠀⠀⠀⠀⠀⠀⠀⠀⠀⠀⠀⠀⠀⠀⠀⠀⠀⠀⠀⠀⠀⠀⠀⠀⠀⎥\n",
       "⎢⠀⠀⠀⠀⠀⠀⠀⠀⠱⢆⠀⠀⠀⠀⠀⠀⠀⠀⠀⠀⠀⠀⠀⠀⠀⠀⠀⠀⠀⠀⠀⠀⠀⠀⠀⠀⠀⠀⠀⠀⎥\n",
       "⎢⠀⠀⠀⠀⠀⠀⠀⠀⠀⠀⠻⢆⠀⠀⠀⠀⠀⠀⠀⠀⠀⠀⠀⠀⠀⠀⠀⠀⠀⠀⠀⠀⠀⠀⠀⠀⠀⠀⠀⠀⎥\n",
       "⎢⠀⠀⠀⠀⠀⠀⠀⠀⠀⠀⠀⠀⠛⢄⡀⠀⠀⠀⠀⠀⠀⠀⠀⠀⠀⠀⠀⠀⠀⠀⠀⠀⠀⠀⠀⠀⠀⠀⠀⠀⎥\n",
       "⎢⠀⠀⠀⠀⠀⠀⠀⠀⠀⠀⠀⠀⠀⠈⠛⣤⡀⠀⠀⠀⠀⠀⠀⠀⠀⠀⠀⠀⠀⠀⠀⠀⠀⠀⠀⠀⠀⠀⠀⠀⎥\n",
       "⎢⠀⠀⠀⠀⠀⠀⠀⠀⠀⠀⠀⠀⠀⠀⠀⠈⠑⣤⠀⠀⠀⠀⠀⠀⠀⠀⠀⠀⠀⠀⠀⠀⠀⠀⠀⠀⠀⠀⠀⠀⎥\n",
       "⎢⠀⠀⠀⠀⠀⠀⠀⠀⠀⠀⠀⠀⠀⠀⠀⠀⠀⠀⠱⣦⠀⠀⠀⠀⠀⠀⠀⠀⠀⠀⠀⠀⠀⠀⠀⠀⠀⠀⠀⠀⎥\n",
       "⎢⠀⠀⠀⠀⠀⠀⠀⠀⠀⠀⠀⠀⠀⠀⠀⠀⠀⠀⠀⠀⠻⢆⠀⠀⠀⠀⠀⠀⠀⠀⠀⠀⠀⠀⠀⠀⠀⠀⠀⠀⎥\n",
       "⎢⠀⠀⠀⠀⠀⠀⠀⠀⠀⠀⠀⠀⠀⠀⠀⠀⠀⠀⠀⠀⠀⠀⠛⢄⡀⠀⠀⠀⠀⠀⠀⠀⠀⠀⠀⠀⠀⠀⠀⠀⎥\n",
       "⎢⠀⠀⠀⠀⠀⠀⠀⠀⠀⠀⠀⠀⠀⠀⠀⠀⠀⠀⠀⠀⠀⠀⠀⠈⠛⣤⡀⠀⠀⠀⠀⠀⠀⠀⠀⠀⠀⠀⠀⠀⎥\n",
       "⎢⠀⠀⠀⠀⠀⠀⠀⠀⠀⠀⠀⠀⠀⠀⠀⠀⠀⠀⠀⠀⠀⠀⠀⠀⠀⠈⠑⣤⠀⠀⠀⠀⠀⠀⠀⠀⠀⠀⠀⠀⎥\n",
       "⎢⠀⠀⠀⠀⠀⠀⠀⠀⠀⠀⠀⠀⠀⠀⠀⠀⠀⠀⠀⠀⠀⠀⠀⠀⠀⠀⠀⠀⠱⣦⠀⠀⠀⠀⠀⠀⠀⠀⠀⠀⎥\n",
       "⎢⠀⠀⠀⠀⠀⠀⠀⠀⠀⠀⠀⠀⠀⠀⠀⠀⠀⠀⠀⠀⠀⠀⠀⠀⠀⠀⠀⠀⠀⠀⠱⢆⠀⠀⠀⠀⠀⠀⠀⠀⎥\n",
       "⎢⠀⠀⠀⠀⠀⠀⠀⠀⠀⠀⠀⠀⠀⠀⠀⠀⠀⠀⠀⠀⠀⠀⠀⠀⠀⠀⠀⠀⠀⠀⠀⠀⠻⢆⡀⠀⠀⠀⠀⠀⎥\n",
       "⎢⠀⠀⠀⠀⠀⠀⠀⠀⠀⠀⠀⠀⠀⠀⠀⠀⠀⠀⠀⠀⠀⠀⠀⠀⠀⠀⠀⠀⠀⠀⠀⠀⠀⠈⠛⢄⡀⠀⠀⠀⎥\n",
       "⎢⠀⠀⠀⠀⠀⠀⠀⠀⠀⠀⠀⠀⠀⠀⠀⠀⠀⠀⠀⠀⠀⠀⠀⠀⠀⠀⠀⠀⠀⠀⠀⠀⠀⠀⠀⠈⠑⣤⡀⠀⎥\n",
       "⎣⠀⠀⠀⠀⠀⠀⠀⠀⠀⠀⠀⠀⠀⠀⠀⠀⠀⠀⠀⠀⠀⠀⠀⠀⠀⠀⠀⠀⠀⠀⠀⠀⠀⠀⠀⠀⠀⠈⠱⣦⎦"
      ]
     },
     "metadata": {},
     "output_type": "display_data"
    }
   ],
   "source": [
    "fx(x, y) = x / √(x^2 + y^2)\n",
    "fy(x, y) = y / √(x^2 + y^2)\n",
    "cs = FEM.CoordinateSystem([fx, fy, 0], [0, 0, 0])\n",
    "T = FEM.rotateNodes(problem, \"body\", cs)"
   ]
  },
  {
   "cell_type": "code",
   "execution_count": 33,
   "metadata": {},
   "outputs": [
    {
     "data": {
      "text/plain": [
       "LowLevelFEM.TensorField([[1.033279349814105; 0.020917565792608516; … ; 0.0; 0.0;;], [1.000570732196942; 0.00472698446899455; … ; 0.0; 0.0;;], [1.063757022881215; -0.02210216363525339; … ; 0.0; 0.0;;], [1.0363004457800193; 0.06260537188710551; … ; 0.0; 0.0;;], [1.0016079560137288; 0.1045201417478765; … ; 0.0; 0.0;;], [0.8663283606622719; 0.013769515001186942; … ; 0.0; 0.0;;], [1.0000877244275035; -0.00010318272010758615; … ; 0.0; 0.0;;], [1.040112286779269; 0.030544481709911846; … ; 0.0; 0.0;;], [0.9336017866007527; -0.012183417227658817; … ; 0.0; 0.0;;], [-0.11523902413451458; 0.11110710753720375; … ; 0.0; 0.0;;]  …  [0.9873548063953305; 0.014834303408945615; … ; 0.0; 0.0;;], [1.4850267521300988; -0.0847260668292357; … ; 0.0; 0.0;;], [0.9996160281383321; 0.0015909863765804723; … ; 0.0; 0.0;;], [1.3767076158224056; -0.1320654826931628; … ; 0.0; 0.0;;], [1.0424834664923042; 0.008320332419470118; … ; 0.0; 0.0;;], [0.9995777943449764; 0.0016262357976758205; … ; 0.0; 0.0;;], [1.0043962116130785; -3.594894217167854e-5; … ; 0.0; 0.0;;], [0.9899434119549384; 0.012135817230260117; … ; 0.0; 0.0;;], [1.5684576031677644; -0.32819159597715825; … ; 0.0; 0.0;;], [0.9978813203551656; 0.0011659770734304639; … ; 0.0; 0.0;;]], [93, 94, 95, 96, 97, 98, 99, 100, 101, 102  …  2567, 2568, 2569, 2570, 2571, 2572, 2573, 2574, 2575, 2576], 1, :s)"
      ]
     },
     "metadata": {},
     "output_type": "display_data"
    }
   ],
   "source": [
    "q = FEM.solveDisplacement(problem, [load], [supp1, supp2])\n",
    "S = FEM.solveStress(problem, q)"
   ]
  },
  {
   "cell_type": "code",
   "execution_count": 34,
   "metadata": {},
   "outputs": [
    {
     "data": {
      "text/plain": [
       "10160-element Vector{Float64}:\n",
       "  0.0002893719382153587\n",
       " -7.57080315207252e-5\n",
       "  0.0\n",
       "  0.0\n",
       "  0.0003549953585940591\n",
       " -0.0003549953585927849\n",
       "  0.00010636069970303586\n",
       "  0.00010636069970265015\n",
       "  0.0004589959155504463\n",
       "  0.0002487359743779983\n",
       "  ⋮\n",
       " -0.00013311372530632284\n",
       "  0.00033922499917104907\n",
       " -0.00018201001894899125\n",
       " -0.0001769095631399115\n",
       " -0.00017009537481250334\n",
       " -0.0001877365846350349\n",
       " -0.0001554840923324561\n",
       "  0.00022971827913062528\n",
       "  0.0002614772755475715"
      ]
     },
     "metadata": {},
     "output_type": "display_data"
    }
   ],
   "source": [
    "K = FEM.stiffnessMatrix(problem)\n",
    "f = FEM.loadVector(problem, [load])\n",
    "FEM.applyBoundaryConditions!(problem, K, f, [supp1, supp2])\n",
    "K1 = T * K * T'\n",
    "f1 = T * f\n",
    "q1 = FEM.solveDisplacement(K1, f1)\n",
    "#q = T * q\n",
    "#S = FEM.solveStress(problem, q)"
   ]
  },
  {
   "cell_type": "code",
   "execution_count": null,
   "metadata": {},
   "outputs": [
    {
     "data": {
      "text/plain": [
       "* (generic function with 283 methods)"
      ]
     },
     "metadata": {},
     "output_type": "display_data"
    }
   ],
   "source": [
    "using SparseArrays\n",
    "struct Transformation\n",
    "    T::SparseMatrixCSC{Float64}\n",
    "    n::Int64\n",
    "end\n",
    "\n",
    "a = Transformation(T, length(T))\n",
    "\n",
    "\n",
    "import Base.transpose\n",
    "function transpose(A::Transformation)\n",
    "    return Transformation(transpose(A.T), A.n)\n",
    "end\n",
    "\n",
    "import Base.adjoint\n",
    "function adjoint(A::Transformation)\n",
    "    return Transformation(adjoint(A.T), A.n)\n",
    "end\n",
    "\n",
    "import Base.*\n",
    "function *(A::Transformation, B)\n",
    "    n, m = size(B)\n",
    "    N = A.n ÷ 3\n",
    "    if 3n == A.n\n",
    "        for i in 1:N\n",
    "            A.T[3i-2:3n, 3i-2:3n] * \n",
    "    return dropzeros!(A.T * B)\n",
    "end\n",
    "function *(B, A::Transformation)\n",
    "    return dropzeros!(B * A.T)\n",
    "end"
   ]
  },
  {
   "cell_type": "code",
   "execution_count": 21,
   "metadata": {},
   "outputs": [
    {
     "data": {
      "text/plain": [
       "Transformation(sparse([1, 2, 3, 4, 3, 4, 5, 6, 5, 6  …  10155, 10156, 10157, 10158, 10157, 10158, 10159, 10160, 10159, 10160], [1, 2, 3, 3, 4, 4, 5, 5, 6, 6  …  10156, 10156, 10157, 10157, 10158, 10158, 10159, 10159, 10160, 10160], [1.0, 1.0, -0.7071067811865476, 0.7071067811865476, -0.7071067811865476, -0.7071067811865476, 0.7071067811865476, 0.7071067811865476, -0.7071067811865476, 0.7071067811865476  …  -0.8610399732929038, -0.508537279254683, -0.5657364576174512, 0.8245861146796362, -0.8245861146796362, -0.5657364576174512, 0.2986820029947006, -0.9543526921883092, 0.9543526921883092, 0.2986820029947006], 10160, 10160), 103225600)"
      ]
     },
     "metadata": {},
     "output_type": "display_data"
    }
   ],
   "source": [
    "transpose(a)"
   ]
  },
  {
   "cell_type": "code",
   "execution_count": 40,
   "metadata": {},
   "outputs": [
    {
     "data": {
      "text/plain": [
       "10160×10160 SparseMatrixCSC{Float64, Int64} with 230158 stored entries:\n",
       "⎡⣿⣿⡇⠀⠀⠀⠀⢾⣿⣿⣿⣟⠳⣤⢷⢷⣻⡚⡾⣎⣴⢷⣿⣽⣾⣾⣾⣿⣛⢟⡟⡠⢸⢟⣟⠻⢠⠁⢰⣀⎤\n",
       "⎢⠉⠉⣿⣿⣼⡇⠰⣿⣿⣿⣿⣿⣿⣿⣿⣿⣿⡿⣿⣿⣿⣿⣿⣿⣿⣿⣿⣿⣿⣿⣿⣿⣿⣿⣿⣷⣿⣿⣯⣫⎥\n",
       "⎢⠀⠀⠶⠿⠿⣧⣤⣿⣿⣿⣿⣿⣿⣿⣿⣿⣿⣿⣶⣿⣿⣿⣿⣿⣿⣿⣿⣿⣿⣿⣿⣿⣿⣿⣿⣿⣿⣿⣿⣷⎥\n",
       "⎢⣠⣄⣴⣦⣤⣿⣿⣿⣿⣿⣿⣿⣿⣿⣿⣷⣿⣿⣿⣿⣿⣿⣿⣿⣿⣿⣿⣿⣷⣯⣿⣿⣿⣯⣿⣿⣿⣿⣿⣿⎥\n",
       "⎢⣿⣿⣿⣿⣿⣿⣿⣿⣿⣿⣿⣿⣿⣿⣿⣿⣿⣿⣿⣿⣿⣿⣿⣿⣿⣿⣿⣿⣿⣿⣿⣿⣿⣿⣿⣿⣿⣿⣿⣿⎥\n",
       "⎢⣿⢿⣿⣿⣿⣿⣿⣿⣿⣿⣿⣿⣿⣿⣿⣿⣿⠿⠿⠿⣿⣿⣿⣿⡿⢿⢿⠿⣿⢿⡿⣿⡿⣿⡿⡿⢿⢿⢿⣿⎥\n",
       "⎢⠙⣦⣿⣿⣿⣿⣿⣿⣿⣿⣿⣿⣿⣿⣿⣿⣿⣿⣿⣿⣛⠿⣶⡓⢣⣷⡳⣿⢷⣱⡔⡮⣾⣛⡌⡤⣞⡿⣿⠤⎥\n",
       "⎢⢽⣗⣿⣿⣿⣿⢿⣿⣿⣿⣿⣿⣿⣿⣿⣿⣿⣿⣿⣾⢽⣷⣻⣿⡵⣿⣑⣫⢾⠿⣿⢠⢌⡝⢥⣻⣷⣤⣿⡠⎥\n",
       "⎢⣻⠺⣿⡿⣿⣿⣿⣿⣿⣿⣿⡟⣿⣿⣿⣿⣿⣿⣿⣿⣟⣿⣿⢿⣿⣻⣟⢽⡨⡝⡒⣧⢸⢡⠊⠇⣡⣗⡫⡗⎥\n",
       "⎢⡺⢯⣿⣿⣼⣿⣿⣿⣿⣿⣿⡇⣿⣿⣻⣿⣿⣿⣿⣿⣿⣿⣿⣿⣿⡫⣿⣮⢋⢦⡿⣽⠱⣿⡯⡞⢫⡽⡷⡞⎥\n",
       "⎢⢴⣟⣿⣿⣿⣿⣿⣿⣿⣿⣿⣿⣿⡜⢷⣷⣿⣽⣿⣿⣿⣿⣿⣿⣷⡟⣽⡧⢿⡷⣵⡜⢼⣿⣪⠸⢵⣼⡽⡯⎥\n",
       "⎢⣟⣿⣿⣿⣿⣿⣿⣿⣿⣿⣿⣿⢼⠻⣿⣾⣿⣟⣿⣿⣿⣿⣿⣿⣿⣿⣿⣿⣿⡶⣻⣿⡮⣿⢟⣛⣮⠷⣾⡏⎥\n",
       "⎢⣺⣿⣿⣿⣿⣿⣿⣿⣿⣿⣿⣏⢭⣶⣵⣯⣿⣻⡿⡻⣽⠿⣿⣿⣿⣿⣿⣿⣿⣿⣿⣧⣿⣯⢷⣿⣿⣷⣿⣾⎥\n",
       "⎢⣾⣿⣿⣿⣿⣿⣿⣿⣿⣿⣿⡗⣽⣮⡵⣸⣟⣝⡻⣿⠷⡿⣿⣿⣿⣿⣿⣿⣿⣿⣿⣾⣿⣾⣙⣟⣼⣾⡿⣥⎥\n",
       "⎢⣿⢜⣿⣿⣿⣿⡽⣿⣿⣿⣿⣟⢝⣳⣾⡗⣆⠮⠫⣔⢿⡷⢻⡿⣿⣿⣿⣿⣿⣿⣿⣿⣿⣿⣿⢿⠿⣿⡿⡻⎥\n",
       "⎢⠛⡩⣿⣿⣿⣿⣿⣿⣿⣿⣿⣯⡰⡭⠛⣛⠼⣬⣟⣯⣑⠿⣿⣾⠿⣿⣻⣿⣿⣿⣿⣿⣿⣿⣿⣿⣿⣷⣿⣧⎥\n",
       "⎢⣶⢖⣿⣿⣿⣿⡿⣿⣿⣿⣿⣯⣾⢻⣆⠵⠖⣒⣵⣦⣶⣷⣮⣯⡿⣿⣻⣿⣿⣿⣿⣿⣿⣿⣿⣿⣿⣿⣿⣗⎥\n",
       "⎢⣿⡙⢿⣿⣿⣿⣿⣿⣿⣿⣿⡯⠂⡭⣥⣳⠮⠄⣫⠯⣊⡚⣿⢱⣽⣷⣷⢼⣿⣟⣿⣿⣿⣿⣿⣿⣿⣿⣿⣷⎥\n",
       "⎢⠄⠒⣿⣿⣿⣿⣿⣿⣿⣿⣿⣗⣾⡽⠙⣿⢥⢾⣏⡶⣑⣷⢮⡟⢿⣿⣲⣿⣿⣧⢿⣿⣿⣿⣿⣿⣿⣿⣿⣯⎥\n",
       "⎣⠐⢲⡯⣻⢿⣿⣿⣿⣿⣿⣿⣷⠛⡟⠛⡻⢯⠮⣹⠯⡷⡯⡾⠿⣻⣿⠟⣯⣿⡫⠿⣿⢿⢿⢿⣿⡿⣿⣿⣿⎦"
      ]
     },
     "metadata": {},
     "output_type": "display_data"
    }
   ],
   "source": [
    "a' * K * a"
   ]
  },
  {
   "cell_type": "code",
   "execution_count": 43,
   "metadata": {},
   "outputs": [
    {
     "data": {
      "text/plain": [
       "10160×10160 SparseMatrixCSC{Float64, Int64} with 0 stored entries:\n",
       "⎡⠀⠀⠀⠀⠀⠀⠀⠀⠀⠀⠀⠀⠀⠀⠀⠀⠀⠀⠀⠀⠀⠀⠀⠀⠀⠀⠀⠀⠀⠀⠀⠀⠀⠀⠀⠀⠀⠀⠀⠀⎤\n",
       "⎢⠀⠀⠀⠀⠀⠀⠀⠀⠀⠀⠀⠀⠀⠀⠀⠀⠀⠀⠀⠀⠀⠀⠀⠀⠀⠀⠀⠀⠀⠀⠀⠀⠀⠀⠀⠀⠀⠀⠀⠀⎥\n",
       "⎢⠀⠀⠀⠀⠀⠀⠀⠀⠀⠀⠀⠀⠀⠀⠀⠀⠀⠀⠀⠀⠀⠀⠀⠀⠀⠀⠀⠀⠀⠀⠀⠀⠀⠀⠀⠀⠀⠀⠀⠀⎥\n",
       "⎢⠀⠀⠀⠀⠀⠀⠀⠀⠀⠀⠀⠀⠀⠀⠀⠀⠀⠀⠀⠀⠀⠀⠀⠀⠀⠀⠀⠀⠀⠀⠀⠀⠀⠀⠀⠀⠀⠀⠀⠀⎥\n",
       "⎢⠀⠀⠀⠀⠀⠀⠀⠀⠀⠀⠀⠀⠀⠀⠀⠀⠀⠀⠀⠀⠀⠀⠀⠀⠀⠀⠀⠀⠀⠀⠀⠀⠀⠀⠀⠀⠀⠀⠀⠀⎥\n",
       "⎢⠀⠀⠀⠀⠀⠀⠀⠀⠀⠀⠀⠀⠀⠀⠀⠀⠀⠀⠀⠀⠀⠀⠀⠀⠀⠀⠀⠀⠀⠀⠀⠀⠀⠀⠀⠀⠀⠀⠀⠀⎥\n",
       "⎢⠀⠀⠀⠀⠀⠀⠀⠀⠀⠀⠀⠀⠀⠀⠀⠀⠀⠀⠀⠀⠀⠀⠀⠀⠀⠀⠀⠀⠀⠀⠀⠀⠀⠀⠀⠀⠀⠀⠀⠀⎥\n",
       "⎢⠀⠀⠀⠀⠀⠀⠀⠀⠀⠀⠀⠀⠀⠀⠀⠀⠀⠀⠀⠀⠀⠀⠀⠀⠀⠀⠀⠀⠀⠀⠀⠀⠀⠀⠀⠀⠀⠀⠀⠀⎥\n",
       "⎢⠀⠀⠀⠀⠀⠀⠀⠀⠀⠀⠀⠀⠀⠀⠀⠀⠀⠀⠀⠀⠀⠀⠀⠀⠀⠀⠀⠀⠀⠀⠀⠀⠀⠀⠀⠀⠀⠀⠀⠀⎥\n",
       "⎢⠀⠀⠀⠀⠀⠀⠀⠀⠀⠀⠀⠀⠀⠀⠀⠀⠀⠀⠀⠀⠀⠀⠀⠀⠀⠀⠀⠀⠀⠀⠀⠀⠀⠀⠀⠀⠀⠀⠀⠀⎥\n",
       "⎢⠀⠀⠀⠀⠀⠀⠀⠀⠀⠀⠀⠀⠀⠀⠀⠀⠀⠀⠀⠀⠀⠀⠀⠀⠀⠀⠀⠀⠀⠀⠀⠀⠀⠀⠀⠀⠀⠀⠀⠀⎥\n",
       "⎢⠀⠀⠀⠀⠀⠀⠀⠀⠀⠀⠀⠀⠀⠀⠀⠀⠀⠀⠀⠀⠀⠀⠀⠀⠀⠀⠀⠀⠀⠀⠀⠀⠀⠀⠀⠀⠀⠀⠀⠀⎥\n",
       "⎢⠀⠀⠀⠀⠀⠀⠀⠀⠀⠀⠀⠀⠀⠀⠀⠀⠀⠀⠀⠀⠀⠀⠀⠀⠀⠀⠀⠀⠀⠀⠀⠀⠀⠀⠀⠀⠀⠀⠀⠀⎥\n",
       "⎢⠀⠀⠀⠀⠀⠀⠀⠀⠀⠀⠀⠀⠀⠀⠀⠀⠀⠀⠀⠀⠀⠀⠀⠀⠀⠀⠀⠀⠀⠀⠀⠀⠀⠀⠀⠀⠀⠀⠀⠀⎥\n",
       "⎢⠀⠀⠀⠀⠀⠀⠀⠀⠀⠀⠀⠀⠀⠀⠀⠀⠀⠀⠀⠀⠀⠀⠀⠀⠀⠀⠀⠀⠀⠀⠀⠀⠀⠀⠀⠀⠀⠀⠀⠀⎥\n",
       "⎢⠀⠀⠀⠀⠀⠀⠀⠀⠀⠀⠀⠀⠀⠀⠀⠀⠀⠀⠀⠀⠀⠀⠀⠀⠀⠀⠀⠀⠀⠀⠀⠀⠀⠀⠀⠀⠀⠀⠀⠀⎥\n",
       "⎢⠀⠀⠀⠀⠀⠀⠀⠀⠀⠀⠀⠀⠀⠀⠀⠀⠀⠀⠀⠀⠀⠀⠀⠀⠀⠀⠀⠀⠀⠀⠀⠀⠀⠀⠀⠀⠀⠀⠀⠀⎥\n",
       "⎢⠀⠀⠀⠀⠀⠀⠀⠀⠀⠀⠀⠀⠀⠀⠀⠀⠀⠀⠀⠀⠀⠀⠀⠀⠀⠀⠀⠀⠀⠀⠀⠀⠀⠀⠀⠀⠀⠀⠀⠀⎥\n",
       "⎢⠀⠀⠀⠀⠀⠀⠀⠀⠀⠀⠀⠀⠀⠀⠀⠀⠀⠀⠀⠀⠀⠀⠀⠀⠀⠀⠀⠀⠀⠀⠀⠀⠀⠀⠀⠀⠀⠀⠀⠀⎥\n",
       "⎣⠀⠀⠀⠀⠀⠀⠀⠀⠀⠀⠀⠀⠀⠀⠀⠀⠀⠀⠀⠀⠀⠀⠀⠀⠀⠀⠀⠀⠀⠀⠀⠀⠀⠀⠀⠀⠀⠀⠀⠀⎦"
      ]
     },
     "metadata": {},
     "output_type": "display_data"
    }
   ],
   "source": [
    "T' * K * T - a' * K * a"
   ]
  },
  {
   "cell_type": "code",
   "execution_count": null,
   "metadata": {},
   "outputs": [],
   "source": [
    "sx = FEM.showStressResults(problem, S, :sx)\n",
    "sy = FEM.showStressResults(problem, S, :sy)\n",
    "sxy = FEM.showStressResults(problem, S, :sxy)\n",
    "seqv = FEM.showStressResults(problem, S, :seqv)"
   ]
  },
  {
   "cell_type": "code",
   "execution_count": null,
   "metadata": {},
   "outputs": [],
   "source": [
    "p1 = FEM.plotOnPath(problem, \"circle\", seqv)"
   ]
  },
  {
   "cell_type": "code",
   "execution_count": null,
   "metadata": {},
   "outputs": [],
   "source": [
    "FEM.openPostProcessor()"
   ]
  },
  {
   "cell_type": "code",
   "execution_count": null,
   "metadata": {},
   "outputs": [],
   "source": [
    "gmsh.finalize()"
   ]
  }
 ],
 "metadata": {
  "kernelspec": {
   "display_name": "Julia 1.11.4",
   "language": "julia",
   "name": "julia-1.11"
  },
  "language_info": {
   "file_extension": ".jl",
   "mimetype": "application/julia",
   "name": "julia",
   "version": "1.11.4"
  }
 },
 "nbformat": 4,
 "nbformat_minor": 2
}
