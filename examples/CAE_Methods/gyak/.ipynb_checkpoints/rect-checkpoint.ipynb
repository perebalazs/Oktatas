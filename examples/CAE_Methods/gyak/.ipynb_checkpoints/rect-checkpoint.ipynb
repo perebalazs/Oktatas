{
 "cells": [
  {
   "cell_type": "code",
   "execution_count": null,
   "id": "112e2d31-bc74-4ceb-a893-a55aea244e58",
   "metadata": {},
   "outputs": [],
   "source": []
  }
 ],
 "metadata": {
  "kernelspec": {
   "display_name": "Julia 1.10.2",
   "language": "julia",
   "name": "julia-1.10"
  },
  "language_info": {
   "file_extension": ".jl",
   "mimetype": "application/julia",
   "name": "julia",
   "version": "1.10.2"
  }
 },
 "nbformat": 4,
 "nbformat_minor": 5
}
