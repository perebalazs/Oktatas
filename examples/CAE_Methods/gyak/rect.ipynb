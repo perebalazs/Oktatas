{
 "cells": [
  {
   "cell_type": "code",
   "execution_count": 1,
   "id": "112e2d31-bc74-4ceb-a893-a55aea244e58",
   "metadata": {},
   "outputs": [
    {
     "name": "stderr",
     "output_type": "stream",
     "text": [
      "\u001b[32m\u001b[1mPrecompiling\u001b[22m\u001b[39m LowLevelFEM\n",
      "\u001b[32m  ✓ \u001b[39mLowLevelFEM\n",
      "  1 dependency successfully precompiled in 4 seconds. 52 already precompiled.\n"
     ]
    }
   ],
   "source": [
    "import LowLevelFEM as FEM\n",
    "using LowLevelFEM\n",
    "\n",
    "gmsh.initialize()"
   ]
  },
  {
   "cell_type": "code",
   "execution_count": 2,
   "id": "dce08677-5f6e-43cc-8886-03922e62e145",
   "metadata": {},
   "outputs": [
    {
     "name": "stdout",
     "output_type": "stream",
     "text": [
      "Info    : Reading 'rect.geo'...\n",
      "Info    : Meshing 1D...\n",
      "Info    : [  0%] Meshing curve 1 (Line)\n",
      "Info    : [ 30%] Meshing curve 2 (Line)\n",
      "Info    : [ 50%] Meshing curve 3 (Line)\n",
      "Info    : [ 80%] Meshing curve 4 (Line)\n",
      "Info    : Done meshing 1D (Wall 0.000358302s, CPU 0.00034s)\n",
      "Info    : Meshing 2D...\n",
      "Info    : Meshing surface 1 (Plane, Frontal-Delaunay)\n",
      "Info    : Blossom: 687 internal 60 closed\n",
      "Info    : Blossom recombination completed (Wall 0.0073579s, CPU 0.007358s): 235 quads, 0 triangles, 0 invalid quads, 0 quads with Q < 0.1, avg Q = 0.803741, min Q = 0.503659\n",
      "Info    : Done meshing 2D (Wall 0.0202686s, CPU 0.020269s)\n",
      "Info    : Meshing order 4 (curvilinear on)...\n",
      "Info    : [  0%] Meshing curve 1 order 4\n",
      "Info    : [ 20%] Meshing curve 2 order 4\n",
      "Info    : [ 40%] Meshing curve 3 order 4\n",
      "Info    : [ 60%] Meshing curve 4 order 4\n",
      "Info    : [ 80%] Meshing surface 1 order 4\n",
      "Info    : Done meshing order 4 (Wall 0.00526491s, CPU 0.005263s)\n",
      "Info    : 3881 nodes 299 elements\n",
      "Info    : Done reading 'rect.geo'\n"
     ]
    }
   ],
   "source": [
    "gmsh.open(\"rect.geo\")"
   ]
  },
  {
   "cell_type": "code",
   "execution_count": 3,
   "id": "56be1f1e-d46c-44c8-9cce-6813405a7544",
   "metadata": {},
   "outputs": [
    {
     "name": "stdout",
     "output_type": "stream",
     "text": [
      "Info    : RCMK renumbering...\n",
      "Info    : Done RCMK renumbering (bandwidth is now 656)\n"
     ]
    },
    {
     "data": {
      "text/plain": [
       "LowLevelFEM.Problem(\"rect\", \"PlaneStress\", 2, [(\"body\", 200000.0, 0.3, 7.85e-9)], 1.0, 3881)"
      ]
     },
     "execution_count": 3,
     "metadata": {},
     "output_type": "execute_result"
    }
   ],
   "source": [
    "mat = FEM.material(\"body\", E=2.e5, ν=0.3)\n",
    "problem = FEM.Problem([mat], type=\"PlaneStress\")"
   ]
  },
  {
   "cell_type": "code",
   "execution_count": 4,
   "id": "59616bac-ac53-4c78-ae74-07520a67a028",
   "metadata": {},
   "outputs": [
    {
     "data": {
      "text/plain": [
       "7762×7762 SparseArrays.SparseMatrixCSC{Float64, Int64} with 544324 stored entries:\n",
       "⎡⢿⣷⡀⠰⣦⣄⠀⠀⠀⠀⠀⠀⠀⠀⠀⠀⠀⠀⠀⠀⠀⠀⠀⠀⠀⠀⠀⠀⠀⠀⠀⠀⠀⠀⠀⠀⠀⠀⠀⠀⎤\n",
       "⎢⢀⡈⣿⣿⣁⡈⡁⣷⣤⡀⠀⠀⠀⠀⠀⠀⠀⠀⠀⠀⠀⠀⠀⠀⠀⠀⠀⠀⠀⠀⠀⠀⠀⠀⠀⠀⠀⠀⠀⠀⎥\n",
       "⎢⠈⢿⡁⠸⡿⣯⡁⠀⠀⣿⣄⠀⣀⠀⠀⠀⠀⠀⠀⠀⠀⠀⠀⠀⠀⠀⠀⠀⠀⠀⠀⠀⠀⠀⠀⠀⠀⠀⠀⠀⎥\n",
       "⎢⠀⠀⢥⣬⠁⠈⠿⣧⣼⠁⠸⠆⠙⢦⡄⠀⠀⠀⠀⠀⠀⠀⠀⠀⠀⠀⠀⠀⠀⠀⠀⠀⠀⠀⠀⠀⠀⠀⠀⠀⎥\n",
       "⎢⠀⠀⠀⠻⣤⣤⠖⠛⠛⣤⣤⠀⠰⠘⠛⣤⠀⠀⠀⠀⠀⠀⠀⠀⠀⠀⠀⠀⠀⠀⠀⠀⠀⠀⠀⠀⠀⠀⠀⠀⎥\n",
       "⎢⠀⠀⠀⠀⠀⠙⠲⠆⠀⠛⠻⣦⡆⠶⠀⠙⢳⣄⠀⠀⠀⠀⠀⠀⠀⠀⠀⠀⠀⠀⠀⠀⠀⠀⠀⠀⠀⠀⠀⠀⎥\n",
       "⎢⠀⠀⠀⠀⠀⠘⠳⣄⣐⠂⢨⡍⢻⣶⣰⡆⢸⠉⢳⣄⠀⠀⠀⠀⠀⠀⠀⠀⠀⠀⠀⠀⠀⠀⠀⠀⠀⠀⠀⠀⎥\n",
       "⎢⠀⠀⠀⠀⠀⠀⠀⠉⠛⣤⣄⠀⠰⠾⠿⣧⣀⠀⡼⠸⢳⡄⠀⠀⠀⠀⠀⠀⠀⠀⠀⠀⠀⠀⠀⠀⠀⠀⠀⠀⎥\n",
       "⎢⠀⠀⠀⠀⠀⠀⠀⠀⠀⠀⠙⢶⡖⠒⠀⠘⠻⣦⡆⠆⠈⠛⣦⡀⠀⠀⠀⠀⠀⠀⠀⠀⠀⠀⠀⠀⠀⠀⠀⠀⎥\n",
       "⎢⠀⠀⠀⠀⠀⠀⠀⠀⠀⠀⠀⠀⠙⢶⣒⡋⠨⠍⢻⣶⣘⠀⡍⢻⣦⡀⠀⠀⠀⠀⠀⠀⠀⠀⠀⠀⠀⠀⠀⠀⎥\n",
       "⎢⠀⠀⠀⠀⠀⠀⠀⠀⠀⠀⠀⠀⠀⠀⠙⠶⣦⠀⠒⠘⠻⣦⡀⠶⠊⢻⣄⠀⠀⠀⠀⠀⠀⠀⠀⠀⠀⠀⠀⠀⎥\n",
       "⎢⠀⠀⠀⠀⠀⠀⠀⠀⠀⠀⠀⠀⠀⠀⠀⠀⠈⠻⣧⣉⢠⡌⠿⣧⡘⣠⢹⣷⣄⠀⠀⠀⠀⠀⠀⠀⠀⠀⠀⠀⎥\n",
       "⎢⠀⠀⠀⠀⠀⠀⠀⠀⠀⠀⠀⠀⠀⠀⠀⠀⠀⠀⠈⠻⣮⣀⠒⣨⡿⣯⡀⠂⣻⢳⡀⠀⠀⠀⠀⠀⠀⠀⠀⠀⎥\n",
       "⎢⠀⠀⠀⠀⠀⠀⠀⠀⠀⠀⠀⠀⠀⠀⠀⠀⠀⠀⠀⠀⠀⠙⢷⣶⠠⠈⢻⣶⡡⠄⠛⣆⠀⠀⠀⠀⠀⠀⠀⠀⎥\n",
       "⎢⠀⠀⠀⠀⠀⠀⠀⠀⠀⠀⠀⠀⠀⠀⠀⠀⠀⠀⠀⠀⠀⠀⠀⠙⢿⣚⠁⠎⢻⣶⡇⠏⣻⣆⠀⠀⠀⠀⠀⠀⎥\n",
       "⎢⠀⠀⠀⠀⠀⠀⠀⠀⠀⠀⠀⠀⠀⠀⠀⠀⠀⠀⠀⠀⠀⠀⠀⠀⠀⠈⠻⢤⡭⠍⡿⣯⣫⠍⢷⡀⠀⠀⠀⠀⎥\n",
       "⎢⠀⠀⠀⠀⠀⠀⠀⠀⠀⠀⠀⠀⠀⠀⠀⠀⠀⠀⠀⠀⠀⠀⠀⠀⠀⠀⠀⠀⠻⢾⡏⠞⢿⣷⡟⡿⣆⠀⠀⠀⎥\n",
       "⎢⠀⠀⠀⠀⠀⠀⠀⠀⠀⠀⠀⠀⠀⠀⠀⠀⠀⠀⠀⠀⠀⠀⠀⠀⠀⠀⠀⠀⠀⠀⠙⠳⣿⡭⣿⣿⣭⣧⡀⠀⎥\n",
       "⎢⠀⠀⠀⠀⠀⠀⠀⠀⠀⠀⠀⠀⠀⠀⠀⠀⠀⠀⠀⠀⠀⠀⠀⠀⠀⠀⠀⠀⠀⠀⠀⠀⠈⠙⠧⣿⣿⣿⣟⣆⎥\n",
       "⎣⠀⠀⠀⠀⠀⠀⠀⠀⠀⠀⠀⠀⠀⠀⠀⠀⠀⠀⠀⠀⠀⠀⠀⠀⠀⠀⠀⠀⠀⠀⠀⠀⠀⠀⠀⠈⠻⢽⣿⣿⎦"
      ]
     },
     "execution_count": 4,
     "metadata": {},
     "output_type": "execute_result"
    }
   ],
   "source": [
    "K = FEM.stiffnessMatrix(problem)"
   ]
  },
  {
   "cell_type": "code",
   "execution_count": 5,
   "id": "b5930e4c-bab7-4d62-b070-6b98b3e79601",
   "metadata": {},
   "outputs": [
    {
     "data": {
      "text/plain": [
       "7762-element Vector{Float64}:\n",
       " 0.0\n",
       " 0.0\n",
       " 0.0\n",
       " 0.0\n",
       " 0.0\n",
       " 0.0\n",
       " 0.0\n",
       " 0.0\n",
       " 0.0\n",
       " 0.0\n",
       " 0.0\n",
       " 0.0\n",
       " 0.0\n",
       " ⋮\n",
       " 0.0\n",
       " 0.0\n",
       " 0.0\n",
       " 0.0\n",
       " 0.0\n",
       " 0.0\n",
       " 0.0\n",
       " 0.0\n",
       " 0.0\n",
       " 0.0\n",
       " 0.0\n",
       " 0.0"
      ]
     },
     "execution_count": 5,
     "metadata": {},
     "output_type": "execute_result"
    }
   ],
   "source": [
    "force = FEM.load(\"right\", fx=1)\n",
    "f = FEM.loadVector(problem, [force])"
   ]
  },
  {
   "cell_type": "code",
   "execution_count": 6,
   "id": "4fa8f14d-a6f6-4174-abc7-80c404c76beb",
   "metadata": {},
   "outputs": [
    {
     "data": {
      "text/plain": [
       "(\"left\", 0, 0, 0 + 1im)"
      ]
     },
     "execution_count": 6,
     "metadata": {},
     "output_type": "execute_result"
    }
   ],
   "source": [
    "support = FEM.displacementConstraint(\"left\", ux=0, uy=0)"
   ]
  },
  {
   "cell_type": "code",
   "execution_count": 7,
   "id": "6765212a-976b-4739-85ac-b6f374c9950b",
   "metadata": {},
   "outputs": [],
   "source": [
    "FEM.applyBoundaryConditions!(problem, K, f, [support])"
   ]
  },
  {
   "cell_type": "code",
   "execution_count": 8,
   "id": "67ec291c-3f4f-4552-b3a2-df71d9035ccc",
   "metadata": {},
   "outputs": [
    {
     "data": {
      "text/plain": [
       "7762×7762 SparseArrays.SparseMatrixCSC{Float64, Int64} with 535570 stored entries:\n",
       "⎡⢿⣷⡀⠰⣦⣄⠀⠀⠀⠀⠀⠀⠀⠀⠀⠀⠀⠀⠀⠀⠀⠀⠀⠀⠀⠀⠀⠀⠀⠀⠀⠀⠀⠀⠀⠀⠀⠀⠀⠀⎤\n",
       "⎢⢀⡈⣿⣿⣁⡈⡁⣷⣤⡀⠀⠀⠀⠀⠀⠀⠀⠀⠀⠀⠀⠀⠀⠀⠀⠀⠀⠀⠀⠀⠀⠀⠀⠀⠀⠀⠀⠀⠀⠀⎥\n",
       "⎢⠈⢿⡁⠸⡿⣯⡁⠀⠀⣿⣄⠀⣀⠀⠀⠀⠀⠀⠀⠀⠀⠀⠀⠀⠀⠀⠀⠀⠀⠀⠀⠀⠀⠀⠀⠀⠀⠀⠀⠀⎥\n",
       "⎢⠀⠀⢥⣬⠁⠈⠿⣧⣼⠁⠸⠆⠙⢦⡄⠀⠀⠀⠀⠀⠀⠀⠀⠀⠀⠀⠀⠀⠀⠀⠀⠀⠀⠀⠀⠀⠀⠀⠀⠀⎥\n",
       "⎢⠀⠀⠀⠻⣤⣤⠖⠛⠛⣤⣤⠀⠰⠘⠛⣤⠀⠀⠀⠀⠀⠀⠀⠀⠀⠀⠀⠀⠀⠀⠀⠀⠀⠀⠀⠀⠀⠀⠀⠀⎥\n",
       "⎢⠀⠀⠀⠀⠀⠙⠲⠆⠀⠛⠻⣦⡆⠶⠀⠙⢳⣄⠀⠀⠀⠀⠀⠀⠀⠀⠀⠀⠀⠀⠀⠀⠀⠀⠀⠀⠀⠀⠀⠀⎥\n",
       "⎢⠀⠀⠀⠀⠀⠘⠳⣄⣐⠂⢨⡍⢻⣶⣰⡆⢸⠉⢳⣄⠀⠀⠀⠀⠀⠀⠀⠀⠀⠀⠀⠀⠀⠀⠀⠀⠀⠀⠀⠀⎥\n",
       "⎢⠀⠀⠀⠀⠀⠀⠀⠉⠛⣤⣄⠀⠰⠾⠿⣧⣀⠀⡼⠸⢳⡄⠀⠀⠀⠀⠀⠀⠀⠀⠀⠀⠀⠀⠀⠀⠀⠀⠀⠀⎥\n",
       "⎢⠀⠀⠀⠀⠀⠀⠀⠀⠀⠀⠙⢶⡖⠒⠀⠘⠻⣦⡆⠆⠈⠛⣦⡀⠀⠀⠀⠀⠀⠀⠀⠀⠀⠀⠀⠀⠀⠀⠀⠀⎥\n",
       "⎢⠀⠀⠀⠀⠀⠀⠀⠀⠀⠀⠀⠀⠙⢶⣒⡋⠨⠍⢻⣶⣘⠀⡍⢻⣦⡀⠀⠀⠀⠀⠀⠀⠀⠀⠀⠀⠀⠀⠀⠀⎥\n",
       "⎢⠀⠀⠀⠀⠀⠀⠀⠀⠀⠀⠀⠀⠀⠀⠙⠶⣦⠀⠒⠘⠻⣦⡀⠶⠊⢻⣄⠀⠀⠀⠀⠀⠀⠀⠀⠀⠀⠀⠀⠀⎥\n",
       "⎢⠀⠀⠀⠀⠀⠀⠀⠀⠀⠀⠀⠀⠀⠀⠀⠀⠈⠻⣧⣉⢠⡌⠿⣧⡘⣠⢹⣷⣄⠀⠀⠀⠀⠀⠀⠀⠀⠀⠀⠀⎥\n",
       "⎢⠀⠀⠀⠀⠀⠀⠀⠀⠀⠀⠀⠀⠀⠀⠀⠀⠀⠀⠈⠻⣮⣀⠒⣨⡿⣯⡀⠂⣻⢳⡀⠀⠀⠀⠀⠀⠀⠀⠀⠀⎥\n",
       "⎢⠀⠀⠀⠀⠀⠀⠀⠀⠀⠀⠀⠀⠀⠀⠀⠀⠀⠀⠀⠀⠀⠙⢷⣶⠠⠈⢻⣶⡡⠄⠛⣆⠀⠀⠀⠀⠀⠀⠀⠀⎥\n",
       "⎢⠀⠀⠀⠀⠀⠀⠀⠀⠀⠀⠀⠀⠀⠀⠀⠀⠀⠀⠀⠀⠀⠀⠀⠙⢿⣚⠁⠎⢻⣶⡇⠏⣻⣆⠀⠀⠀⠀⠀⠀⎥\n",
       "⎢⠀⠀⠀⠀⠀⠀⠀⠀⠀⠀⠀⠀⠀⠀⠀⠀⠀⠀⠀⠀⠀⠀⠀⠀⠀⠈⠻⢤⡭⠍⡿⣯⣫⠍⢷⡀⠀⠀⠀⠀⎥\n",
       "⎢⠀⠀⠀⠀⠀⠀⠀⠀⠀⠀⠀⠀⠀⠀⠀⠀⠀⠀⠀⠀⠀⠀⠀⠀⠀⠀⠀⠀⠻⢾⡏⠞⢿⣷⡟⡿⣆⠀⠀⠀⎥\n",
       "⎢⠀⠀⠀⠀⠀⠀⠀⠀⠀⠀⠀⠀⠀⠀⠀⠀⠀⠀⠀⠀⠀⠀⠀⠀⠀⠀⠀⠀⠀⠀⠙⠳⣿⡭⣿⣿⣭⣧⡀⠀⎥\n",
       "⎢⠀⠀⠀⠀⠀⠀⠀⠀⠀⠀⠀⠀⠀⠀⠀⠀⠀⠀⠀⠀⠀⠀⠀⠀⠀⠀⠀⠀⠀⠀⠀⠀⠈⠙⠧⣿⣿⣿⣟⣆⎥\n",
       "⎣⠀⠀⠀⠀⠀⠀⠀⠀⠀⠀⠀⠀⠀⠀⠀⠀⠀⠀⠀⠀⠀⠀⠀⠀⠀⠀⠀⠀⠀⠀⠀⠀⠀⠀⠀⠈⠻⢽⣿⣿⎦"
      ]
     },
     "execution_count": 8,
     "metadata": {},
     "output_type": "execute_result"
    }
   ],
   "source": [
    "K"
   ]
  },
  {
   "cell_type": "code",
   "execution_count": 9,
   "id": "93d3cd83-13ba-4ce1-a2cd-1417e7452b27",
   "metadata": {},
   "outputs": [
    {
     "data": {
      "text/plain": [
       "7762-element Vector{Float64}:\n",
       "  0.0\n",
       "  0.0\n",
       "  0.0\n",
       "  0.0\n",
       "  0.0\n",
       "  0.0\n",
       "  1.0763720296971242e-5\n",
       "  7.3341999843953035e-6\n",
       "  1.2987996472525206e-5\n",
       "  8.121366569419674e-6\n",
       "  1.4894100462316673e-5\n",
       "  9.926062104250216e-6\n",
       "  6.336858845910239e-6\n",
       "  ⋮\n",
       "  0.00027478419623395604\n",
       " -2.6431836760233224e-5\n",
       "  0.00026850975997394635\n",
       " -2.8356016061963687e-5\n",
       "  0.000261960200837514\n",
       " -2.6842722994708544e-5\n",
       "  0.00026822924963976875\n",
       " -2.4915550352979387e-5\n",
       "  0.00026837117320692357\n",
       " -2.6636859938786145e-5\n",
       "  0.0002741047738444298\n",
       " -2.4693048716721238e-5"
      ]
     },
     "execution_count": 9,
     "metadata": {},
     "output_type": "execute_result"
    }
   ],
   "source": [
    "q = FEM.solveDisplacement(K, f)"
   ]
  },
  {
   "cell_type": "code",
   "execution_count": 10,
   "id": "25eca76b-d182-4683-a8a1-0c3d917ded06",
   "metadata": {},
   "outputs": [
    {
     "data": {
      "text/plain": [
       "LowLevelFEM.StressField([[0.9991870145826574; 0.002355894178804587; … ; 0.0; 0.0;;], [0.995752018941592; 0.009442501052498154; … ; 0.0; 0.0;;], [0.9918037698677241; -0.09050792078186905; … ; 0.0; 0.0;;], [0.9908841273778097; 0.011965553658700074; … ; 0.0; 0.0;;], [0.9677385683985421; 0.040084505416303005; … ; 0.0; 0.0;;], [0.9908849864006382; 0.011966565314264623; … ; 0.0; 0.0;;], [1.0033294590356319; -0.032413695820910485; … ; 0.0; 0.0;;], [1.0245120254280593; -0.1034960497754173; … ; 0.0; 0.0;;], [1.0032286667116297; 0.10803498834462857; … ; 0.0; 0.0;;], [0.9997961206000812; -0.0003788597931838888; … ; 0.0; 0.0;;]  …  [0.9994735765114802; 0.005879552102318414; … ; 0.0; 0.0;;], [0.9240361097824059; -5.8307577568032066e-5; … ; 0.0; 0.0;;], [0.9999903484712076; 2.440426828607354e-5; … ; 0.0; 0.0;;], [1.0174791466389206; 0.06208113343067101; … ; 0.0; 0.0;;], [0.9999899605011944; -2.396880442728637e-5; … ; 0.0; 0.0;;], [0.9996435251496587; 0.0016311484623092404; … ; 0.0; 0.0;;], [0.9974724322465517; -0.007030637707595458; … ; 0.0; 0.0;;], [0.9304178115081589; 0.0005296149839282344; … ; 0.0; 0.0;;], [0.994078043700564; 0.004001099178622331; … ; 0.0; 0.0;;], [0.9979989260444082; 0.0015097823420251854; … ; 0.0; 0.0;;]], [21, 22, 23, 24, 25, 26, 27, 28, 29, 30  …  246, 247, 248, 249, 250, 251, 252, 253, 254, 255], 1)"
      ]
     },
     "execution_count": 10,
     "metadata": {},
     "output_type": "execute_result"
    }
   ],
   "source": [
    "S = FEM.solveStress(problem, q)"
   ]
  },
  {
   "cell_type": "code",
   "execution_count": 11,
   "id": "4db908d2-6556-4932-8d9c-df224fc5a725",
   "metadata": {},
   "outputs": [
    {
     "data": {
      "text/plain": [
       "1"
      ]
     },
     "execution_count": 11,
     "metadata": {},
     "output_type": "execute_result"
    }
   ],
   "source": [
    "u = FEM.showDoFResults(problem, q, \"uvec\", name=\"u vec\", visible=true)"
   ]
  },
  {
   "cell_type": "code",
   "execution_count": 12,
   "id": "b2f28ecc-b9e6-46ce-aacd-8f4beadcd440",
   "metadata": {},
   "outputs": [
    {
     "data": {
      "text/plain": [
       "2"
      ]
     },
     "execution_count": 12,
     "metadata": {},
     "output_type": "execute_result"
    }
   ],
   "source": [
    "ux = FEM.showDoFResults(problem, q, \"ux\", name=\"u x\", visible=false)"
   ]
  },
  {
   "cell_type": "code",
   "execution_count": 13,
   "id": "3102ff58-7164-433d-945f-333cf8df370d",
   "metadata": {},
   "outputs": [
    {
     "name": "stdout",
     "output_type": "stream",
     "text": [
      "Info    : Running Plugin(Smooth)...\n",
      "Info    : Done running Plugin(Smooth)\n"
     ]
    },
    {
     "data": {
      "text/plain": [
       "3"
      ]
     },
     "execution_count": 13,
     "metadata": {},
     "output_type": "execute_result"
    }
   ],
   "source": [
    "s = FEM.showStressResults(problem, S, \"s\", name=\"s\", visible=false)"
   ]
  },
  {
   "cell_type": "code",
   "execution_count": 14,
   "id": "11d611a6-8797-4937-9ac5-5bf5f5200de3",
   "metadata": {},
   "outputs": [
    {
     "name": "stdout",
     "output_type": "stream",
     "text": [
      "Info    : Running Plugin(Smooth)...\n",
      "Info    : Done running Plugin(Smooth)\n"
     ]
    },
    {
     "data": {
      "text/plain": [
       "4"
      ]
     },
     "execution_count": 14,
     "metadata": {},
     "output_type": "execute_result"
    }
   ],
   "source": [
    "sx = FEM.showStressResults(problem, S, \"sx\", name=\"s x\", visible=false)"
   ]
  },
  {
   "cell_type": "code",
   "execution_count": 15,
   "id": "a5e9fc11-81a0-47ef-852c-42e86d497848",
   "metadata": {},
   "outputs": [
    {
     "data": {
      "text/plain": [
       "([1.3134407276524807, 0.21909714664656882, 0.0, 0.21909714664656882, 0.1495664234222128, 0.0, 0.0, 0.0, 0.0], 0.0)"
      ]
     },
     "execution_count": 15,
     "metadata": {},
     "output_type": "execute_result"
    }
   ],
   "source": [
    "gmsh.view.probe(s, 1,1,0)"
   ]
  },
  {
   "cell_type": "code",
   "execution_count": 16,
   "id": "446df0f7-b2a1-4c23-b30e-3bd53a0741be",
   "metadata": {},
   "outputs": [
    {
     "data": {
      "text/plain": [
       "([6.181932351239028e-6], 0.0)"
      ]
     },
     "execution_count": 16,
     "metadata": {},
     "output_type": "execute_result"
    }
   ],
   "source": [
    "gmsh.view.probe(ux, 1,1,0)"
   ]
  },
  {
   "cell_type": "code",
   "execution_count": 17,
   "id": "d41d2584-2e55-48fb-951b-2a9ff00c5cd7",
   "metadata": {},
   "outputs": [
    {
     "name": "stdout",
     "output_type": "stream",
     "text": [
      "-------------------------------------------------------\n",
      "Version       : 4.12.2\n",
      "License       : GNU General Public License\n",
      "Build OS      : Linux64-sdk\n",
      "Build date    : 19700101\n",
      "Build host    : amdci7.julia.csail.mit.edu\n",
      "Build options : 64Bit ALGLIB[contrib] ANN[contrib] Bamg Blossom Cairo DIntegration Dlopen DomHex Eigen[contrib] Fltk GMP Gmm[contrib] Hxt Jpeg Kbipack LinuxJoystick MathEx[contrib] Mesh Metis[contrib] Mmg Mpeg Netgen ONELAB ONELABMetamodel OpenCASCADE OpenCASCADE-CAF OpenGL OpenMP OptHom Parser Plugins Png Post QuadMeshingTools QuadTri Solver TetGen/BR Voro++[contrib] WinslowUntangler Zlib\n",
      "FLTK version  : 1.3.8\n",
      "OCC version   : 7.6.2\n",
      "Packaged by   : root\n",
      "Web site      : https://gmsh.info\n",
      "Issue tracker : https://gitlab.onelab.info/gmsh/gmsh/issues\n",
      "-------------------------------------------------------\n"
     ]
    },
    {
     "name": "stderr",
     "output_type": "stream",
     "text": [
      "XRequest.18: BadValue 0x0\n"
     ]
    }
   ],
   "source": [
    "gmsh.fltk.run()"
   ]
  },
  {
   "cell_type": "code",
   "execution_count": null,
   "id": "398ab91f-774a-4146-a610-0afcef82ceea",
   "metadata": {},
   "outputs": [],
   "source": [
    "gmsh.finalize()"
   ]
  },
  {
   "cell_type": "code",
   "execution_count": null,
   "id": "e0ac910b-9012-4cfd-bab2-319c5f91a4e5",
   "metadata": {},
   "outputs": [],
   "source": []
  }
 ],
 "metadata": {
  "kernelspec": {
   "display_name": "Julia 1.10.2",
   "language": "julia",
   "name": "julia-1.10"
  },
  "language_info": {
   "file_extension": ".jl",
   "mimetype": "application/julia",
   "name": "julia",
   "version": "1.10.2"
  }
 },
 "nbformat": 4,
 "nbformat_minor": 5
}
