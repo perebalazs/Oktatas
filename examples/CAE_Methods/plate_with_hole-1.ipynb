{
 "cells": [
  {
   "cell_type": "code",
   "execution_count": 136,
   "metadata": {},
   "outputs": [],
   "source": [
    "import LowLevelFEM as FEM\n",
    "using LowLevelFEM\n",
    "\n",
    "gmsh.initialize();"
   ]
  },
  {
   "cell_type": "code",
   "execution_count": 137,
   "metadata": {},
   "outputs": [
    {
     "name": "stdout",
     "output_type": "stream",
     "text": [
      "Info    : Reading 'plate_with_hole_quad_5st_size-1-graded.geo'...\n",
      "Info    : Meshing 1D...nts                                                                                                          \n",
      "Info    : [  0%] Meshing curve 1 (Ellipse)\n",
      "Info    : [ 20%] Meshing curve 2 (Line)\n",
      "Info    : [ 30%] Meshing curve 3 (Line)\n",
      "Info    : [ 50%] Meshing curve 4 (Line)\n",
      "Info    : [ 60%] Meshing curve 5 (Ellipse)\n",
      "Info    : [ 80%] Meshing curve 6 (Line)\n",
      "Info    : [ 90%] Meshing curve 7 (Line)\n",
      "Info    : Done meshing 1D (Wall 0.0211776s, CPU 0.02058s)\n",
      "Info    : Meshing 2D...\n",
      "Info    : [  0%] Meshing surface 1 (Plane, Frontal-Delaunay)\n",
      "Info    : [  0%] Blossom: 2182 internal 195 closed\n",
      "Info    : [  0%] Blossom recombination completed (Wall 0.0886323s, CPU 0.060914s): 748 quads, 0 triangles, 0 invalid quads, 0 quads with Q < 0.1, avg Q = 0.716865, min Q = 0.414253\n",
      "Info    : [ 60%] Meshing surface 2 (Plane, Frontal-Delaunay)\n",
      "Info    : [ 60%] Blossom: 2200 internal 195 closed\n",
      "Info    : [ 60%] Blossom recombination completed (Wall 0.0623648s, CPU 0.057137s): 758 quads, 0 triangles, 0 invalid quads, 0 quads with Q < 0.1, avg Q = 0.72974, min Q = 0.416975\n",
      "Info    : Done meshing 2D (Wall 0.245171s, CPU 0.204102s)\n",
      "Info    : Meshing order 5 (curvilinear on)...\n",
      "Info    : [  0%] Meshing curve 1 order 5\n",
      "Info    : [ 20%] Meshing curve 2 order 5\n",
      "Info    : [ 30%] Meshing curve 3 order 5\n",
      "Info    : [ 40%] Meshing curve 4 order 5\n",
      "Info    : [ 50%] Meshing curve 5 order 5\n",
      "Info    : [ 60%] Meshing curve 6 order 5\n",
      "Info    : [ 70%] Meshing curve 7 order 5\n",
      "Info    : [ 80%] Meshing surface 1 order 5\n",
      "Info    : [ 90%] Meshing surface 2 order 5\n",
      "Info    : Done meshing order 5 (Wall 0.0661126s, CPU 0.063882s)\n",
      "Info    : 38541 nodes 1886 elements\n",
      "Info    : Done reading 'plate_with_hole_quad_5st_size-1-graded.geo'\n",
      "-------------------------------------------------------\n",
      "Version       : 4.13.1\n",
      "License       : GNU General Public License\n",
      "Build OS      : Linux64-sdk\n",
      "Build date    : 19700101\n",
      "Build host    : amdci7.julia.csail.mit.edu\n",
      "Build options : 64Bit ALGLIB[contrib] ANN[contrib] Bamg Blossom Cairo DIntegration Dlopen DomHex Eigen[contrib] Fltk GMP Gmm[contrib] Hxt Jpeg Kbipack LinuxJoystick MathEx[contrib] Mesh Metis[contrib] Mmg Mpeg Netgen Nii2mesh ONELAB ONELABMetamodel OpenCASCADE OpenCASCADE-CAF OpenGL OpenMP OptHom Parser Plugins Png Post QuadMeshingTools QuadTri Solver TetGen/BR TinyXML2[contrib] Untangle Voro++[contrib] WinslowUntangler Zlib\n",
      "FLTK version  : 1.3.8\n",
      "OCC version   : 7.7.2\n",
      "Packaged by   : root\n",
      "Web site      : https://gmsh.info\n",
      "Issue tracker : https://gitlab.onelab.info/gmsh/gmsh/issues\n",
      "-------------------------------------------------------\n",
      "Info    : RCMK renumbering...\n",
      "Info    : Done RCMK renumbering (bandwidth is now 3190)\n"
     ]
    },
    {
     "name": "stderr",
     "output_type": "stream",
     "text": [
      "Warning : Unknown OpenCASCADE entity of dimension 0 with tag 7\n",
      "XRequest.18: BadValue 0x0\n"
     ]
    },
    {
     "data": {
      "text/plain": [
       "LowLevelFEM.Problem(\"plate_with_hole_quad_5st_size-1-graded\", :PlaneStress, 2, 2, LowLevelFEM.Material[LowLevelFEM.Material(\"body\", 200000.0, 0.3, 7.85e-9, 45.0, 4.2e8, 1.2e-5)], 1.0, 38541)"
      ]
     },
     "metadata": {},
     "output_type": "display_data"
    }
   ],
   "source": [
    "#gmsh.open(\"plate_with_hole_tria_1st_size-def.geo\")\n",
    "#gmsh.open(\"plate_with_hole_tria_1st_size-5.geo\")\n",
    "#gmsh.open(\"plate_with_hole_tria_1st_size-1.geo\")\n",
    "\n",
    "#gmsh.open(\"plate_with_hole_tria_1st_size-graded.geo\")\n",
    "\n",
    "#gmsh.open(\"plate_with_hole_tria_2nd_size-def.geo\")\n",
    "#gmsh.open(\"plate_with_hole_tria_3rd_size-def.geo\")\n",
    "#gmsh.open(\"plate_with_hole_tria_5th_size-def.geo\")\n",
    "\n",
    "#gmsh.open(\"plate_with_hole_quad_1st_size-def.geo\")\n",
    "\n",
    "#gmsh.open(\"plate_with_hole_quad_1st_size-5.geo\")\n",
    "#gmsh.open(\"plate_with_hole_quad_2nd_size-5.geo\")\n",
    "\n",
    "gmsh.open(\"plate_with_hole_quad_5st_size-1-graded.geo\")\n",
    "\n",
    "#gmsh.open(\"plate_with_hole_quad_1st_size-regular.geo\")\n",
    "#gmsh.open(\"plate_with_hole_quad_2nd_size-regular.geo\")\n",
    "#gmsh.open(\"plate_with_hole_quad_5th_size-regular.geo\")\n",
    "\n",
    "#gmsh.open(\"plate_with_hole_quad_1st_size-regular2.geo\")\n",
    "\n",
    "FEM.openPreProcessor()\n",
    "\n",
    "mat = FEM.material(\"body\")\n",
    "problem = FEM.Problem([mat], type=:PlaneStress, bandwidth=:none)\n",
    "#problem = FEM.Problem([mat], type=\"PlaneStress\")"
   ]
  },
  {
   "cell_type": "code",
   "execution_count": 138,
   "metadata": {},
   "outputs": [],
   "source": [
    "#gmsh.fltk.run()"
   ]
  },
  {
   "cell_type": "code",
   "execution_count": 139,
   "metadata": {},
   "outputs": [],
   "source": [
    "supp1 = FEM.displacementConstraint(\"bottom\", uy=0)\n",
    "supp2 = FEM.displacementConstraint(\"left\", ux=0)\n",
    "load = FEM.load(\"top\", fy=1);"
   ]
  },
  {
   "cell_type": "code",
   "execution_count": 140,
   "metadata": {},
   "outputs": [
    {
     "data": {
      "text/plain": [
       "77082×77082 SparseArrays.SparseMatrixCSC{Float64, Int64} with 7404324 stored entries:\n",
       "⎡⠿⣧⡿⠿⠿⠿⠧⠿⠿⠟⠿⠿⠿⠿⠻⠛⠛⠣⠬⠁⢨⡅⣬⣥⢤⣤⣤⣤⠅⣤⣬⣬⣬⣤⣤⣤⣥⠄⠈⠨⎤\n",
       "⎢⣿⡏⣿⣿⣿⣿⣿⣿⣿⣿⣿⣻⢿⣻⣿⣿⡟⢿⣿⣻⡿⠉⠈⠉⠈⠁⠉⠉⠉⠉⠉⠉⠉⠉⠉⠀⠁⠀⠈⠈⎥\n",
       "⎢⣿⡇⣿⣿⣿⣿⣿⣿⣿⣿⣿⣿⣿⣿⣿⡿⣟⣭⣷⣿⣷⠀⠀⠀⠀⠀⠀⠀⠀⠀⠀⠀⠀⠀⠀⠀⠀⠀⠀⠀⎥\n",
       "⎢⣭⡇⣿⣿⣿⣿⣿⣿⣿⣿⣿⣿⣿⣿⣿⣭⣻⣿⣿⣿⢮⠀⠀⠀⠀⠀⠀⠀⠀⠀⠀⠀⠀⠀⠀⠀⠀⠀⠀⠀⎥\n",
       "⎢⣿⠇⣿⣿⣿⣿⣿⣿⣿⣿⡿⣿⣿⣿⣿⣿⣷⣿⣿⠻⣟⠀⠀⠀⠀⠀⠀⠀⠀⠀⠀⠀⠀⠀⠀⠀⠀⠀⠀⠀⎥\n",
       "⎢⣿⡇⣿⣻⣿⣿⣿⣿⣿⣯⣿⣿⣿⣿⣽⣶⣿⣿⣷⣻⡵⠀⠀⠀⠀⠀⠀⠀⠀⠀⠀⠀⠀⠀⠀⠀⠀⠀⠀⠀⎥\n",
       "⎢⣿⡇⣿⣳⣿⣿⣿⣿⣿⣿⣿⣿⢿⣷⣲⣿⡿⣿⣿⣿⢵⠀⠀⠀⠀⠀⠀⠀⠀⠀⠀⠀⠀⠀⠀⠀⠀⠀⠀⠀⎥\n",
       "⎢⣿⠂⣿⣿⣿⡿⡟⣿⣿⣿⢳⣿⣼⣾⢿⣷⣛⣿⣷⣿⣾⠀⠀⠀⠀⠀⠀⠀⠀⠀⠀⠀⠀⠀⠀⠀⠀⠀⠀⠀⎥\n",
       "⎢⠿⡀⣿⣍⡟⣽⣿⣾⣽⣿⣿⣿⣿⣯⣿⣼⣿⣿⣯⣽⣯⠀⠀⠀⠀⠀⠀⠀⠀⠀⠀⠀⠀⠀⠀⠀⠀⠀⠀⠀⎥\n",
       "⎢⠆⠃⣿⣻⣽⣿⣿⣿⣿⡛⣽⣻⣿⣿⣽⣿⣏⣿⣿⣿⣷⠀⠀⠀⠀⠀⠀⠀⠀⠀⠀⠀⠀⠀⠀⠀⠀⠀⠀⠀⎥\n",
       "⎢⠆⠶⡟⠋⠙⠛⠊⠓⠛⠙⠑⠋⠑⠓⠚⠛⠋⠛⠙⠛⢻⣶⣶⣶⣶⣶⣶⣶⣶⣶⣶⣶⣶⣶⣶⣶⣶⣶⣶⣶⎥\n",
       "⎢⠆⣿⡆⠀⠀⠀⠀⠀⠀⠀⠀⠀⠀⠀⠀⠀⠀⠀⠀⠀⢸⣿⣿⣿⣾⣿⣿⣿⣿⣟⣿⣗⣿⡿⣧⣍⣿⣷⣿⡾⎥\n",
       "⎢⠀⣷⠆⠀⠀⠀⠀⠀⠀⠀⠀⠀⠀⠀⠀⠀⠀⠀⠀⠀⢸⣿⣾⣿⣿⣿⣿⣿⣿⣿⣿⣯⢿⢾⡮⡷⣿⣿⡿⡯⎥\n",
       "⎢⠀⣿⡇⠀⠀⠀⠀⠀⠀⠀⠀⠀⠀⠀⠀⠀⠀⠀⠀⠀⢸⣿⣿⣿⣿⣿⣿⣿⣿⣿⣿⣿⣿⣿⣯⣯⣿⣿⣿⣆⎥\n",
       "⎢⠁⣥⡇⠀⠀⠀⠀⠀⠀⠀⠀⠀⠀⠀⠀⠀⠀⠀⠀⠀⢸⣿⣿⢿⣿⣿⣿⣿⣿⣿⣿⣿⣽⣿⣴⣥⣽⣿⣿⠋⎥\n",
       "⎢⡂⣿⡇⠀⠀⠀⠀⠀⠀⠀⠀⠀⠀⠀⠀⠀⠀⠀⠀⠀⢸⣿⢿⢿⡿⣿⣿⣿⣿⣿⣿⣿⣻⣿⣯⣿⣿⣿⣝⣓⎥\n",
       "⎢⠂⣿⡇⠀⠀⠀⠀⠀⠀⠀⠀⠀⠀⠀⠀⠀⠀⠀⠀⠀⢸⣿⣿⡿⣻⣗⣿⣿⣷⣿⣿⣾⣿⣿⣟⣥⣻⣷⣿⣿⎥\n",
       "⎢⠀⣿⠃⠀⠀⠀⠀⠀⠀⠀⠀⠀⠀⠀⠀⠀⠀⠀⠀⠀⢸⣿⡍⢿⢮⡯⡯⣿⠔⣿⣯⣿⠟⣽⢿⣷⣿⣵⣿⠿⎥\n",
       "⎢⠁⠟⠁⠀⠀⠀⠀⠀⠀⠀⠀⠀⠀⠀⠀⠀⠀⠀⠀⠀⢸⣿⢿⣿⣿⣿⣿⣿⣷⣿⣿⣿⢿⣾⢟⣿⣿⣿⣿⡿⎥\n",
       "⎣⡂⡀⡂⠀⠀⠀⠀⠀⠀⠀⠀⠀⠀⠀⠀⠀⠀⠀⠀⠀⢸⣿⣻⡿⡿⡯⠻⢿⡿⠛⢷⢹⣿⣿⣿⡟⣿⡿⣿⣿⎦"
      ]
     },
     "metadata": {},
     "output_type": "display_data"
    }
   ],
   "source": [
    "K = FEM.stiffnessMatrix(problem)"
   ]
  },
  {
   "cell_type": "code",
   "execution_count": 141,
   "metadata": {},
   "outputs": [],
   "source": [
    "f = FEM.loadVector(problem, [load]);"
   ]
  },
  {
   "cell_type": "code",
   "execution_count": 142,
   "metadata": {},
   "outputs": [],
   "source": [
    "FEM.applyBoundaryConditions!(problem, K, f, [supp1, supp2]);"
   ]
  },
  {
   "cell_type": "code",
   "execution_count": 143,
   "metadata": {},
   "outputs": [],
   "source": [
    "q = FEM.solveDisplacement(K, f)\n",
    "S = FEM.solveStress(problem, q);"
   ]
  },
  {
   "cell_type": "code",
   "execution_count": 144,
   "metadata": {},
   "outputs": [
    {
     "name": "stdout",
     "output_type": "stream",
     "text": [
      "Info    : Running Plugin(Smooth)...\n",
      "Info    : Done running Plugin(Smooth)\n"
     ]
    },
    {
     "data": {
      "text/plain": [
       "1"
      ]
     },
     "metadata": {},
     "output_type": "display_data"
    }
   ],
   "source": [
    "#u = FEM.showDoFResults(problem, q, :uvec, name=\"uvec\", visible=false)\n",
    "#ux = FEM.showDoFResults(problem, q, :ux, name=\"ux\", visible=false)\n",
    "#uy = FEM.showDoFResults(problem, q, :uy, name=\"uy\", visible=false)\n",
    "\n",
    "s = FEM.showStressResults(problem, S, :s, name=\"σ\", visible=true, smooth=false)\n",
    "ss = FEM.showStressResults(problem, S, :s, name=\"σ smooth\", visible=false, smooth=true)\n",
    "#sx = FEM.showStressResults(problem, S, :sx, name=\"σx\", visible=false, smooth=true)\n",
    "#sy = FEM.showStressResults(problem, S, :sy, name=\"σy\", visible=false, smooth=true)\n",
    "#synsm = FEM.showStressResults(problem, S, :sy, name=\"σy non-smooth\", visible=false, smooth=false)\n",
    "#sxy = FEM.showStressResults(problem, S, :sxy, name=\"τxy\", visible=false, smooth=true)"
   ]
  },
  {
   "cell_type": "code",
   "execution_count": 145,
   "metadata": {},
   "outputs": [
    {
     "data": {
      "text/plain": [
       "2"
      ]
     },
     "metadata": {},
     "output_type": "display_data"
    }
   ],
   "source": [
    "err = FEM.fieldError(problem, S)\n",
    "serr = FEM.showDoFResults(problem, err, :s, name=\"error\")"
   ]
  },
  {
   "cell_type": "code",
   "execution_count": 146,
   "metadata": {},
   "outputs": [],
   "source": [
    "#FEM.plotOnPath(problem, \"left\", ss, name=\"σred\", visible=false);\n",
    "#FEM.plotOnPath(problem, \"path\", ss, name=\"σred\", visible=false);\n",
    "#FEM.plotOnPath(problem, \"bottom\", ss, name=\"σred\", visible=false);\n",
    "#FEM.plotOnPath(problem, \"path\", s, name=\"σred_ϵ\", visible=false);\n",
    "#FEM.plotOnPath(problem, \"top\", sy, name=\"σy\", visible=false);\n",
    "#FEM.plotOnPath(problem, \"top\", synsm, name=\"σy non-smooth\", visible=false);"
   ]
  },
  {
   "cell_type": "code",
   "execution_count": 147,
   "metadata": {},
   "outputs": [
    {
     "name": "stdout",
     "output_type": "stream",
     "text": [
      "-------------------------------------------------------\n",
      "Version       : 4.13.1\n",
      "License       : GNU General Public License\n",
      "Build OS      : Linux64-sdk\n",
      "Build date    : 19700101\n",
      "Build host    : amdci7.julia.csail.mit.edu\n",
      "Build options : 64Bit ALGLIB[contrib] ANN[contrib] Bamg Blossom Cairo DIntegration Dlopen DomHex Eigen[contrib] Fltk GMP Gmm[contrib] Hxt Jpeg Kbipack LinuxJoystick MathEx[contrib] Mesh Metis[contrib] Mmg Mpeg Netgen Nii2mesh ONELAB ONELABMetamodel OpenCASCADE OpenCASCADE-CAF OpenGL OpenMP OptHom Parser Plugins Png Post QuadMeshingTools QuadTri Solver TetGen/BR TinyXML2[contrib] Untangle Voro++[contrib] WinslowUntangler Zlib\n",
      "FLTK version  : 1.3.8\n",
      "OCC version   : 7.7.2\n",
      "Packaged by   : root\n",
      "Web site      : https://gmsh.info\n",
      "Issue tracker : https://gitlab.onelab.info/gmsh/gmsh/issues\n",
      "-------------------------------------------------------\n"
     ]
    }
   ],
   "source": [
    "gmsh.fltk.openTreeItem(\"0Modules/Post-processing\")"
   ]
  },
  {
   "cell_type": "code",
   "execution_count": 148,
   "metadata": {},
   "outputs": [
    {
     "name": "stderr",
     "output_type": "stream",
     "text": [
      "XRequest.18: BadValue 0x0\n"
     ]
    }
   ],
   "source": [
    "gmsh.fltk.run()"
   ]
  },
  {
   "cell_type": "code",
   "execution_count": 149,
   "metadata": {},
   "outputs": [],
   "source": [
    "gmsh.finalize()"
   ]
  },
  {
   "cell_type": "code",
   "execution_count": 150,
   "metadata": {},
   "outputs": [
    {
     "data": {
      "text/plain": [
       "3.0"
      ]
     },
     "metadata": {},
     "output_type": "display_data"
    }
   ],
   "source": [
    "N = 1\n",
    "σr = -N / 2 * (3 - 4 + 1)\n",
    "σφ = N / 2 * (1 + 1) + N / 2 * (3 + 1)"
   ]
  }
 ],
 "metadata": {
  "kernelspec": {
   "display_name": "Julia 1.11.4",
   "language": "julia",
   "name": "julia-1.11"
  },
  "language_info": {
   "file_extension": ".jl",
   "mimetype": "application/julia",
   "name": "julia",
   "version": "1.11.4"
  }
 },
 "nbformat": 4,
 "nbformat_minor": 4
}
