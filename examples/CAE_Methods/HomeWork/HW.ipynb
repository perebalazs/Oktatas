{
 "cells": [
  {
   "cell_type": "code",
   "execution_count": null,
   "metadata": {},
   "outputs": [],
   "source": [
    "using LowLevelFEM\n",
    "import LowLevelFEM as FEM\n",
    "\n",
    "gmsh.initialize()"
   ]
  },
  {
   "cell_type": "code",
   "execution_count": null,
   "metadata": {},
   "outputs": [],
   "source": [
    "gmsh.model.add(\"tri-10\")"
   ]
  },
  {
   "cell_type": "code",
   "execution_count": null,
   "metadata": {},
   "outputs": [],
   "source": [
    "gmsh.model.setFileName(\"L-shaped-1.geo\")"
   ]
  },
  {
   "cell_type": "code",
   "execution_count": null,
   "metadata": {},
   "outputs": [],
   "source": [
    "gmsh.parser.setNumber(\"R\", [5])\n",
    "gmsh.parser.setNumber(\"es\", [10])\n",
    "gmsh.parser.setNumber(\"esR\", [10])"
   ]
  },
  {
   "cell_type": "code",
   "execution_count": null,
   "metadata": {},
   "outputs": [],
   "source": [
    "gmsh.merge(\"L-shaped-1.geo\")"
   ]
  },
  {
   "cell_type": "code",
   "execution_count": null,
   "metadata": {},
   "outputs": [],
   "source": [
    "#gmsh.model.mesh.recombine()\n",
    "gmsh.model.mesh.setOrder(1)"
   ]
  },
  {
   "cell_type": "code",
   "execution_count": null,
   "metadata": {},
   "outputs": [],
   "source": [
    "gmsh.fltk.run()"
   ]
  },
  {
   "cell_type": "code",
   "execution_count": null,
   "metadata": {},
   "outputs": [],
   "source": [
    "mat = FEM.material(\"body\", E=2e5, ν=0.3)\n",
    "tri10 = FEM.Problem([mat], type=:PlaneStress);"
   ]
  },
  {
   "cell_type": "code",
   "execution_count": null,
   "metadata": {},
   "outputs": [],
   "source": [
    "supp = FEM.displacementConstraint(\"support\", ux=0, uy=0)\n",
    "load = FEM.load(\"load\", fy=-1)\n",
    "q = FEM.solveDisplacement(tri10, [load], [supp])\n",
    "S = FEM.solveStress(tri10, q);"
   ]
  },
  {
   "cell_type": "code",
   "execution_count": null,
   "metadata": {},
   "outputs": [],
   "source": [
    "seqv = FEM.showStressResults(tri10, S, :seqv, visible=true, smooth=false)\n",
    "seqvs = FEM.showStressResults(tri10, S, :seqv)\n",
    "p1 = FEM.plotOnPath(tri10, \"path1\", seqv)\n",
    "p2 = FEM.plotOnPath(tri10, \"path2\", seqv)"
   ]
  },
  {
   "cell_type": "code",
   "execution_count": null,
   "metadata": {},
   "outputs": [],
   "source": [
    "Serr = FEM.fieldError(tri10, S)\n",
    "serr = FEM.showDoFResults(tri10, Serr, :seqv, name=\"error\")\n",
    "perr = FEM.plotOnPath(tri10, \"path2\", serr)"
   ]
  },
  {
   "cell_type": "code",
   "execution_count": null,
   "metadata": {},
   "outputs": [],
   "source": [
    "gmsh.fltk.run()"
   ]
  },
  {
   "cell_type": "code",
   "execution_count": null,
   "metadata": {},
   "outputs": [],
   "source": [
    "gmsh.model.add(\"tri-5\")\n",
    "gmsh.parser.setNumber(\"R\", [5])\n",
    "gmsh.parser.setNumber(\"es\", [5])\n",
    "gmsh.parser.setNumber(\"esR\", [5])\n",
    "gmsh.merge(\"L-shaped-1.geo\")\n",
    "#gmsh.model.mesh.recombine()\n",
    "gmsh.model.mesh.setOrder(1)\n",
    "tri5 = FEM.Problem([mat], type=:PlaneStress);\n",
    "supp = FEM.displacementConstraint(\"support\", ux=0, uy=0)\n",
    "load = FEM.load(\"load\", fy=-1)\n",
    "q = FEM.solveDisplacement(tri5, [load], [supp])\n",
    "S = FEM.solveStress(tri5, q);\n",
    "seqv = FEM.showStressResults(tri5, S, :seqv, visible=true, smooth=false)\n",
    "seqv = FEM.showStressResults(tri5, S, :seqv)\n",
    "p1 = FEM.plotOnPath(tri5, \"path1\", seqv)\n",
    "p2 = FEM.plotOnPath(tri5, \"path2\", seqv)\n",
    "Serr = FEM.fieldError(tri5, S)\n",
    "serr = FEM.showDoFResults(tri5, Serr, :seqv, name=\"error\")\n",
    "perr = FEM.plotOnPath(tri5, \"path2\", serr)\n",
    "gmsh.fltk.run()"
   ]
  },
  {
   "cell_type": "code",
   "execution_count": null,
   "metadata": {},
   "outputs": [],
   "source": [
    "gmsh.model.add(\"tri-1\")\n",
    "gmsh.parser.setNumber(\"R\", [5])\n",
    "gmsh.parser.setNumber(\"es\", [1])\n",
    "gmsh.parser.setNumber(\"esR\", [1])\n",
    "gmsh.merge(\"L-shaped-1.geo\")\n",
    "#gmsh.model.mesh.recombine()\n",
    "gmsh.model.mesh.setOrder(1)\n",
    "tri1 = FEM.Problem([mat], type=:PlaneStress);\n",
    "supp = FEM.displacementConstraint(\"support\", ux=0, uy=0)\n",
    "load = FEM.load(\"load\", fy=-1)\n",
    "q = FEM.solveDisplacement(tri1, [load], [supp])\n",
    "S = FEM.solveStress(tri1, q);\n",
    "seqv = FEM.showStressResults(tri1, S, :seqv, visible=true, smooth=false)\n",
    "seqv = FEM.showStressResults(tri1, S, :seqv)\n",
    "p1 = FEM.plotOnPath(tri1, \"path1\", seqv)\n",
    "p2 = FEM.plotOnPath(tri1, \"path2\", seqv)\n",
    "Serr = FEM.fieldError(tri1, S)\n",
    "serr = FEM.showDoFResults(tri1, Serr, :seqv, name=\"error\")\n",
    "perr = FEM.plotOnPath(tri1, \"path2\", serr)\n",
    "gmsh.fltk.run()"
   ]
  },
  {
   "cell_type": "code",
   "execution_count": null,
   "metadata": {},
   "outputs": [],
   "source": [
    "gmsh.model.add(\"tri-1-10\")\n",
    "gmsh.parser.setNumber(\"R\", [5])\n",
    "gmsh.parser.setNumber(\"es\", [10])\n",
    "gmsh.parser.setNumber(\"esR\", [1])\n",
    "gmsh.merge(\"L-shaped-1.geo\")\n",
    "#gmsh.model.mesh.recombine()\n",
    "gmsh.model.mesh.setOrder(1)\n",
    "tri110 = FEM.Problem([mat], type=:PlaneStress);\n",
    "supp = FEM.displacementConstraint(\"support\", ux=0, uy=0)\n",
    "load = FEM.load(\"load\", fy=-1)\n",
    "q = FEM.solveDisplacement(tri110, [load], [supp])\n",
    "S = FEM.solveStress(tri110, q);\n",
    "seqv = FEM.showStressResults(tri110, S, :seqv, visible=true, smooth=false)\n",
    "seqv = FEM.showStressResults(tri110, S, :seqv)\n",
    "p1 = FEM.plotOnPath(tri110, \"path1\", seqv)\n",
    "p2 = FEM.plotOnPath(tri110, \"path2\", seqv)\n",
    "Serr = FEM.fieldError(tri110, S)\n",
    "serr = FEM.showDoFResults(tri110, Serr, :seqv, name=\"error\")\n",
    "perr = FEM.plotOnPath(tri110, \"path2\", serr)\n",
    "gmsh.fltk.run()"
   ]
  },
  {
   "cell_type": "code",
   "execution_count": null,
   "metadata": {},
   "outputs": [],
   "source": [
    "gmsh.model.add(\"tri-10-2nd\")\n",
    "gmsh.parser.setNumber(\"R\", [5])\n",
    "gmsh.parser.setNumber(\"es\", [10])\n",
    "gmsh.parser.setNumber(\"esR\", [10])\n",
    "gmsh.merge(\"L-shaped-1.geo\")\n",
    "#gmsh.model.mesh.recombine()\n",
    "gmsh.model.mesh.setOrder(2)\n",
    "tri10_2nd = FEM.Problem([mat], type=:PlaneStress);\n",
    "supp = FEM.displacementConstraint(\"support\", ux=0, uy=0)\n",
    "load = FEM.load(\"load\", fy=-1)\n",
    "q = FEM.solveDisplacement(tri10_2nd, [load], [supp])\n",
    "S = FEM.solveStress(tri10_2nd, q);\n",
    "seqv = FEM.showStressResults(tri10_2nd, S, :seqv, visible=true, smooth=false)\n",
    "seqvs = FEM.showStressResults(tri10_2nd, S, :seqv)\n",
    "p1 = FEM.plotOnPath(tri10_2nd, \"path1\", seqv)\n",
    "p2 = FEM.plotOnPath(tri10_2nd, \"path2\", seqv)\n",
    "Serr = FEM.fieldError(tri10_2nd, S)\n",
    "serr = FEM.showDoFResults(tri10_2nd, Serr, :seqv, name=\"error\")\n",
    "perr = FEM.plotOnPath(tri10_2nd, \"path2\", serr)\n",
    "gmsh.fltk.run()"
   ]
  },
  {
   "cell_type": "code",
   "execution_count": null,
   "metadata": {},
   "outputs": [],
   "source": [
    "gmsh.model.add(\"tri-10-3rd\")\n",
    "gmsh.parser.setNumber(\"R\", [5])\n",
    "gmsh.parser.setNumber(\"es\", [10])\n",
    "gmsh.parser.setNumber(\"esR\", [10])\n",
    "gmsh.merge(\"L-shaped-1.geo\")\n",
    "#gmsh.model.mesh.recombine()\n",
    "gmsh.model.mesh.setOrder(3)\n",
    "tri10_3rd = FEM.Problem([mat], type=:PlaneStress);\n",
    "supp = FEM.displacementConstraint(\"support\", ux=0, uy=0)\n",
    "load = FEM.load(\"load\", fy=-1)\n",
    "q = FEM.solveDisplacement(tri10_3rd, [load], [supp])\n",
    "S = FEM.solveStress(tri10_3rd, q);\n",
    "seqv = FEM.showStressResults(tri10_3rd, S, :seqv, visible=true, smooth=false)\n",
    "seqvs = FEM.showStressResults(tri10_3rd, S, :seqv)\n",
    "p1 = FEM.plotOnPath(tri10_3rd, \"path1\", seqv)\n",
    "p2 = FEM.plotOnPath(tri10_3rd, \"path2\", seqv)\n",
    "Serr = FEM.fieldError(tri10_3rd, S)\n",
    "serr = FEM.showDoFResults(tri10_3rd, Serr, :seqv, name=\"error\")\n",
    "perr = FEM.plotOnPath(tri10_3rd, \"path2\", serr)\n",
    "gmsh.fltk.run()"
   ]
  },
  {
   "cell_type": "code",
   "execution_count": null,
   "metadata": {},
   "outputs": [],
   "source": [
    "gmsh.model.add(\"tri-10-4th\")\n",
    "gmsh.parser.setNumber(\"R\", [5])\n",
    "gmsh.parser.setNumber(\"es\", [10])\n",
    "gmsh.parser.setNumber(\"esR\", [10])\n",
    "gmsh.merge(\"L-shaped-1.geo\")\n",
    "#gmsh.model.mesh.recombine()\n",
    "gmsh.model.mesh.setOrder(4)\n",
    "tri10_4th = FEM.Problem([mat], type=:PlaneStress);\n",
    "supp = FEM.displacementConstraint(\"support\", ux=0, uy=0)\n",
    "load = FEM.load(\"load\", fy=-1)\n",
    "q = FEM.solveDisplacement(tri10_4th, [load], [supp])\n",
    "S = FEM.solveStress(tri10_4th, q);\n",
    "seqv = FEM.showStressResults(tri10_4th, S, :seqv, visible=true, smooth=false)\n",
    "seqvs = FEM.showStressResults(tri10_4th, S, :seqv)\n",
    "p1 = FEM.plotOnPath(tri10_4th, \"path1\", seqv)\n",
    "p2 = FEM.plotOnPath(tri10_4th, \"path2\", seqv)\n",
    "Serr = FEM.fieldError(tri10_4th, S)\n",
    "serr = FEM.showDoFResults(tri10_4th, Serr, :seqv, name=\"error\")\n",
    "perr = FEM.plotOnPath(tri10_4th, \"path2\", serr)\n",
    "gmsh.fltk.run()"
   ]
  },
  {
   "cell_type": "code",
   "execution_count": null,
   "metadata": {},
   "outputs": [],
   "source": [
    "gmsh.model.add(\"quad-10-4th\")\n",
    "gmsh.parser.setNumber(\"R\", [5])\n",
    "gmsh.parser.setNumber(\"es\", [10])\n",
    "gmsh.parser.setNumber(\"esR\", [10])\n",
    "gmsh.merge(\"L-shaped-1.geo\")\n",
    "gmsh.model.mesh.recombine()\n",
    "gmsh.model.mesh.setOrder(4)\n",
    "quad10_4th = FEM.Problem([mat], type=:PlaneStress);\n",
    "supp = FEM.displacementConstraint(\"support\", ux=0, uy=0)\n",
    "load = FEM.load(\"load\", fy=-1)\n",
    "q = FEM.solveDisplacement(quad10_4th, [load], [supp])\n",
    "S = FEM.solveStress(quad10_4th, q);\n",
    "seqv = FEM.showStressResults(quad10_4th, S, :seqv, visible=true, smooth=false)\n",
    "seqvs = FEM.showStressResults(quad10_4th, S, :seqv)\n",
    "p1 = FEM.plotOnPath(quad10_4th, \"path1\", seqv)\n",
    "p2 = FEM.plotOnPath(quad10_4th, \"path2\", seqv)\n",
    "Serr = FEM.fieldError(quad10_4th, S)\n",
    "serr = FEM.showDoFResults(quad10_4th, Serr, :seqv, name=\"error\")\n",
    "perr = FEM.plotOnPath(quad10_4th, \"path2\", serr)\n",
    "gmsh.fltk.run()"
   ]
  },
  {
   "cell_type": "code",
   "execution_count": null,
   "metadata": {},
   "outputs": [],
   "source": [
    "gmsh.model.add(\"quad-1-10-4th\")\n",
    "gmsh.parser.setNumber(\"R\", [5])\n",
    "gmsh.parser.setNumber(\"es\", [10])\n",
    "gmsh.parser.setNumber(\"esR\", [1])\n",
    "gmsh.merge(\"L-shaped-1.geo\")\n",
    "gmsh.model.mesh.recombine()\n",
    "gmsh.model.mesh.setOrder(4)\n",
    "quad1_10_4th = FEM.Problem([mat], type=:PlaneStress);\n",
    "supp = FEM.displacementConstraint(\"support\", ux=0, uy=0)\n",
    "load = FEM.load(\"load\", fy=-1)\n",
    "q = FEM.solveDisplacement(quad1_10_4th, [load], [supp])\n",
    "S = FEM.solveStress(quad1_10_4th, q);\n",
    "seqv = FEM.showStressResults(quad1_10_4th, S, :seqv, visible=true, smooth=false)\n",
    "seqvs = FEM.showStressResults(quad1_10_4th, S, :seqv)\n",
    "p1 = FEM.plotOnPath(quad1_10_4th, \"path1\", seqv)\n",
    "p2 = FEM.plotOnPath(quad1_10_4th, \"path2\", seqv)\n",
    "Serr = FEM.fieldError(quad1_10_4th, S)\n",
    "serr = FEM.showDoFResults(quad1_10_4th, Serr, :seqv, name=\"error\")\n",
    "perr = FEM.plotOnPath(quad1_10_4th, \"path2\", serr)\n",
    "gmsh.fltk.run()"
   ]
  },
  {
   "cell_type": "code",
   "execution_count": null,
   "metadata": {},
   "outputs": [],
   "source": [
    "gmsh.finalize()"
   ]
  }
 ],
 "metadata": {
  "kernelspec": {
   "display_name": "Julia 1.11.3",
   "language": "julia",
   "name": "julia-1.11"
  },
  "language_info": {
   "file_extension": ".jl",
   "mimetype": "application/julia",
   "name": "julia",
   "version": "1.11.3"
  }
 },
 "nbformat": 4,
 "nbformat_minor": 2
}
