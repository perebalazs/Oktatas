{
 "cells": [
  {
   "cell_type": "markdown",
   "metadata": {},
   "source": [
    "# Example problem: L-shaped plate\n",
    "\n",
    "Loading *LowLevelFEM* *Julia* extension and initialize *GMSH*."
   ]
  },
  {
   "cell_type": "code",
   "execution_count": 1,
   "metadata": {},
   "outputs": [],
   "source": [
    "using LowLevelFEM\n",
    "import LowLevelFEM as FEM\n",
    "\n",
    "gmsh.initialize()"
   ]
  },
  {
   "cell_type": "markdown",
   "metadata": {},
   "source": [
    "## Geometry of the L-shaped plate\n",
    "\n",
    "![alt text](image.png)\n",
    "\n",
    "where *load* is the place of traction and at *support* all degrees of freedom is fixed. Results, like stress can be plotted as function along *path1* and *path2*.\n",
    "\n",
    "The name of the first finite element (FE) model is *tri-10*."
   ]
  },
  {
   "cell_type": "code",
   "execution_count": 2,
   "metadata": {},
   "outputs": [],
   "source": [
    "gmsh.model.add(\"tri-10\")"
   ]
  },
  {
   "cell_type": "markdown",
   "metadata": {},
   "source": [
    "The name of the file which describes the geometry is *L-shaped-1.geo*. "
   ]
  },
  {
   "cell_type": "code",
   "execution_count": 3,
   "metadata": {},
   "outputs": [],
   "source": [
    "gmsh.model.setFileName(\"L-shaped-1.geo\")"
   ]
  },
  {
   "cell_type": "markdown",
   "metadata": {},
   "source": [
    "Some parameters can be given here, like the radius of fillet (*R*), finite element sizes at the fillet (*esR*) and elsewhere (*es*)."
   ]
  },
  {
   "cell_type": "code",
   "execution_count": 4,
   "metadata": {},
   "outputs": [],
   "source": [
    "gmsh.parser.setNumber(\"R\", [5])\n",
    "gmsh.parser.setNumber(\"es\", [10])\n",
    "gmsh.parser.setNumber(\"esR\", [10])"
   ]
  },
  {
   "cell_type": "markdown",
   "metadata": {},
   "source": [
    "Reading the geometry from a *GMSH* file."
   ]
  },
  {
   "cell_type": "code",
   "execution_count": 5,
   "metadata": {},
   "outputs": [
    {
     "name": "stdout",
     "output_type": "stream",
     "text": [
      "Info    : Reading 'L-shaped-1.geo'...\n",
      "Info    : Meshing 1D...\n",
      "Info    : [  0%] Meshing curve 1 (Line)\n",
      "Info    : [ 20%] Meshing curve 2 (Line)\n",
      "Info    : [ 30%] Meshing curve 3 (Line)\n",
      "Info    : [ 50%] Meshing curve 4 (Circle)\n",
      "Info    : [ 60%] Meshing curve 5 (Line)\n",
      "Info    : [ 80%] Meshing curve 6 (Line)\n",
      "Info    : [ 90%] Meshing curve 7 (Line)\n",
      "Info    : Done meshing 1D (Wall 0.000699352s, CPU 0.0007s)\n",
      "Info    : Meshing 2D...\n",
      "Info    : Meshing surface 1 (Plane, Frontal-Delaunay)\n",
      "Info    : Done meshing 2D (Wall 0.00459845s, CPU 0.003633s)\n",
      "Info    : 146 nodes 296 elements\n",
      "Info    : Done reading 'L-shaped-1.geo'\n"
     ]
    }
   ],
   "source": [
    "gmsh.merge(\"L-shaped-1.geo\")"
   ]
  },
  {
   "cell_type": "markdown",
   "metadata": {},
   "source": [
    "Setting some options:\n",
    "- the FE mesh can be built from triangles (here is default) or quadrilaterals (recombeine, see later),\n",
    "- the order of the approximation (here is one)."
   ]
  },
  {
   "cell_type": "code",
   "execution_count": 6,
   "metadata": {},
   "outputs": [],
   "source": [
    "#gmsh.model.mesh.recombine()\n",
    "gmsh.model.mesh.setOrder(1)"
   ]
  },
  {
   "cell_type": "markdown",
   "metadata": {},
   "source": [
    "Launching *GMSH* user interface."
   ]
  },
  {
   "cell_type": "code",
   "execution_count": 7,
   "metadata": {},
   "outputs": [
    {
     "name": "stdout",
     "output_type": "stream",
     "text": [
      "-------------------------------------------------------\n",
      "Version       : 4.13.1\n",
      "License       : GNU General Public License\n",
      "Build OS      : Linux64-sdk\n",
      "Build date    : 19700101\n",
      "Build host    : amdci7.julia.csail.mit.edu\n",
      "Build options : 64Bit ALGLIB[contrib] ANN[contrib] Bamg Blossom Cairo DIntegration Dlopen DomHex Eigen[contrib] Fltk GMP Gmm[contrib] Hxt Jpeg Kbipack LinuxJoystick MathEx[contrib] Mesh Metis[contrib] Mmg Mpeg Netgen Nii2mesh ONELAB ONELABMetamodel OpenCASCADE OpenCASCADE-CAF OpenGL OpenMP OptHom Parser Plugins Png Post QuadMeshingTools QuadTri Solver TetGen/BR TinyXML2[contrib] Untangle Voro++[contrib] WinslowUntangler Zlib\n",
      "FLTK version  : 1.3.8\n",
      "OCC version   : 7.7.2\n",
      "Packaged by   : root\n",
      "Web site      : https://gmsh.info\n",
      "Issue tracker : https://gitlab.onelab.info/gmsh/gmsh/issues\n",
      "-------------------------------------------------------\n"
     ]
    },
    {
     "name": "stderr",
     "output_type": "stream",
     "text": [
      "XOpenIM() failed\n",
      "XRequest.18: BadValue 0x0\n"
     ]
    }
   ],
   "source": [
    "gmsh.fltk.run()"
   ]
  },
  {
   "cell_type": "code",
   "execution_count": 8,
   "metadata": {},
   "outputs": [
    {
     "name": "stdout",
     "output_type": "stream",
     "text": [
      "Info    : RCMK renumbering...\n",
      "Info    : Done RCMK renumbering (bandwidth is now 13)\n",
      "Info    : Mapping does not contain a node tag (146) - incrementing after last provided tag (145)\n"
     ]
    }
   ],
   "source": [
    "mat = FEM.material(\"body\", E=2e5, ν=0.3)\n",
    "tri10 = FEM.Problem([mat], type=:PlaneStress);"
   ]
  },
  {
   "cell_type": "code",
   "execution_count": 9,
   "metadata": {},
   "outputs": [],
   "source": [
    "supp = FEM.displacementConstraint(\"support\", ux=0, uy=0)\n",
    "load = FEM.load(\"load\", fy=-1)\n",
    "q = FEM.solveDisplacement(tri10, [load], [supp])\n",
    "S = FEM.solveStress(tri10, q);"
   ]
  },
  {
   "cell_type": "code",
   "execution_count": 10,
   "metadata": {},
   "outputs": [
    {
     "name": "stdout",
     "output_type": "stream",
     "text": [
      "Info    : Running Plugin(Smooth)...\n",
      "Info    : Done running Plugin(Smooth)\n"
     ]
    },
    {
     "data": {
      "text/plain": [
       "4"
      ]
     },
     "metadata": {},
     "output_type": "display_data"
    }
   ],
   "source": [
    "seqv = FEM.showStressResults(tri10, S, :seqv, visible=true, smooth=false)\n",
    "seqvs = FEM.showStressResults(tri10, S, :seqv)\n",
    "p1 = FEM.plotOnPath(tri10, \"path1\", seqv)\n",
    "p2 = FEM.plotOnPath(tri10, \"path2\", seqv)"
   ]
  },
  {
   "cell_type": "code",
   "execution_count": 11,
   "metadata": {},
   "outputs": [
    {
     "data": {
      "text/plain": [
       "6"
      ]
     },
     "metadata": {},
     "output_type": "display_data"
    }
   ],
   "source": [
    "Serr = FEM.fieldError(tri10, S)\n",
    "serr = FEM.showDoFResults(tri10, Serr, :seqv, name=\"error\")\n",
    "perr = FEM.plotOnPath(tri10, \"path2\", serr)"
   ]
  },
  {
   "cell_type": "code",
   "execution_count": 12,
   "metadata": {},
   "outputs": [
    {
     "name": "stdout",
     "output_type": "stream",
     "text": [
      "-------------------------------------------------------\n",
      "Version       : 4.13.1\n",
      "License       : GNU General Public License\n",
      "Build OS      : Linux64-sdk\n",
      "Build date    : 19700101\n",
      "Build host    : amdci7.julia.csail.mit.edu\n",
      "Build options : 64Bit ALGLIB[contrib] ANN[contrib] Bamg Blossom Cairo DIntegration Dlopen DomHex Eigen[contrib] Fltk GMP Gmm[contrib] Hxt Jpeg Kbipack LinuxJoystick MathEx[contrib] Mesh Metis[contrib] Mmg Mpeg Netgen Nii2mesh ONELAB ONELABMetamodel OpenCASCADE OpenCASCADE-CAF OpenGL OpenMP OptHom Parser Plugins Png Post QuadMeshingTools QuadTri Solver TetGen/BR TinyXML2[contrib] Untangle Voro++[contrib] WinslowUntangler Zlib\n",
      "FLTK version  : 1.3.8\n",
      "OCC version   : 7.7.2\n",
      "Packaged by   : root\n",
      "Web site      : https://gmsh.info\n",
      "Issue tracker : https://gitlab.onelab.info/gmsh/gmsh/issues\n",
      "-------------------------------------------------------\n"
     ]
    },
    {
     "name": "stderr",
     "output_type": "stream",
     "text": [
      "XRequest.18: BadValue 0x0\n"
     ]
    }
   ],
   "source": [
    "gmsh.fltk.run()"
   ]
  },
  {
   "cell_type": "code",
   "execution_count": 13,
   "metadata": {},
   "outputs": [
    {
     "name": "stdout",
     "output_type": "stream",
     "text": [
      "Info    : Reading 'L-shaped-1.geo'...\n",
      "Info    : Meshing 1D...\n",
      "Info    : [  0%] Meshing curve 1 (Line)\n",
      "Info    : [ 20%] Meshing curve 2 (Line)\n",
      "Info    : [ 30%] Meshing curve 3 (Line)\n",
      "Info    : [ 50%] Meshing curve 4 (Circle)\n",
      "Info    : [ 60%] Meshing curve 5 (Line)\n",
      "Info    : [ 80%] Meshing curve 6 (Line)\n",
      "Info    : [ 90%] Meshing curve 7 (Line)\n",
      "Info    : Done meshing 1D (Wall 0.000745359s, CPU 0.000745s)\n",
      "Info    : Meshing 2D...\n",
      "Info    : Meshing surface 1 (Plane, Frontal-Delaunay)\n",
      "Info    : Done meshing 2D (Wall 0.0176178s, CPU 0.017071s)\n",
      "Info    : 424 nodes 852 elements\n",
      "Info    : Done reading 'L-shaped-1.geo'\n",
      "Info    : RCMK renumbering...\n",
      "Info    : Done RCMK renumbering (bandwidth is now 32)\n",
      "Info    : Mapping does not contain a node tag (424) - incrementing after last provided tag (423)\n",
      "Info    : Running Plugin(Smooth)...\n",
      "Info    : Done running Plugin(Smooth)\n",
      "-------------------------------------------------------\n",
      "Version       : 4.13.1\n",
      "License       : GNU General Public License\n",
      "Build OS      : Linux64-sdk\n",
      "Build date    : 19700101\n",
      "Build host    : amdci7.julia.csail.mit.edu\n",
      "Build options : 64Bit ALGLIB[contrib] ANN[contrib] Bamg Blossom Cairo DIntegration Dlopen DomHex Eigen[contrib] Fltk GMP Gmm[contrib] Hxt Jpeg Kbipack LinuxJoystick MathEx[contrib] Mesh Metis[contrib] Mmg Mpeg Netgen Nii2mesh ONELAB ONELABMetamodel OpenCASCADE OpenCASCADE-CAF OpenGL OpenMP OptHom Parser Plugins Png Post QuadMeshingTools QuadTri Solver TetGen/BR TinyXML2[contrib] Untangle Voro++[contrib] WinslowUntangler Zlib\n",
      "FLTK version  : 1.3.8\n",
      "OCC version   : 7.7.2\n",
      "Packaged by   : root\n",
      "Web site      : https://gmsh.info\n",
      "Issue tracker : https://gitlab.onelab.info/gmsh/gmsh/issues\n",
      "-------------------------------------------------------\n"
     ]
    },
    {
     "name": "stderr",
     "output_type": "stream",
     "text": [
      "XRequest.18: BadValue 0x0\n"
     ]
    }
   ],
   "source": [
    "gmsh.model.add(\"tri-5\")\n",
    "gmsh.parser.setNumber(\"R\", [5])\n",
    "gmsh.parser.setNumber(\"es\", [5])\n",
    "gmsh.parser.setNumber(\"esR\", [5])\n",
    "gmsh.merge(\"L-shaped-1.geo\")\n",
    "#gmsh.model.mesh.recombine()\n",
    "gmsh.model.mesh.setOrder(1)\n",
    "tri5 = FEM.Problem([mat], type=:PlaneStress);\n",
    "supp = FEM.displacementConstraint(\"support\", ux=0, uy=0)\n",
    "load = FEM.load(\"load\", fy=-1)\n",
    "q = FEM.solveDisplacement(tri5, [load], [supp])\n",
    "S = FEM.solveStress(tri5, q);\n",
    "seqv = FEM.showStressResults(tri5, S, :seqv, visible=true, smooth=false)\n",
    "seqv = FEM.showStressResults(tri5, S, :seqv)\n",
    "p1 = FEM.plotOnPath(tri5, \"path1\", seqv)\n",
    "p2 = FEM.plotOnPath(tri5, \"path2\", seqv)\n",
    "Serr = FEM.fieldError(tri5, S)\n",
    "serr = FEM.showDoFResults(tri5, Serr, :seqv, name=\"error\")\n",
    "perr = FEM.plotOnPath(tri5, \"path2\", serr)\n",
    "gmsh.fltk.run()"
   ]
  },
  {
   "cell_type": "code",
   "execution_count": 14,
   "metadata": {},
   "outputs": [
    {
     "name": "stdout",
     "output_type": "stream",
     "text": [
      "Info    : Reading 'L-shaped-1.geo'...\n",
      "Info    : Meshing 1D...\n",
      "Info    : [  0%] Meshing curve 1 (Line)\n",
      "Info    : [ 20%] Meshing curve 2 (Line)\n",
      "Info    : [ 30%] Meshing curve 3 (Line)\n",
      "Info    : [ 50%] Meshing curve 4 (Circle)\n",
      "Info    : [ 60%] Meshing curve 5 (Line)\n",
      "Info    : [ 80%] Meshing curve 6 (Line)\n",
      "Info    : [ 90%] Meshing curve 7 (Line)\n",
      "Info    : Done meshing 1D (Wall 0.00149977s, CPU 0.000437s)\n",
      "Info    : Meshing 2D...\n",
      "Info    : Meshing surface 1 (Plane, Frontal-Delaunay)\n",
      "Info    : Done meshing 2D (Wall 0.479201s, CPU 0.394969s)\n",
      "Info    : 9030 nodes 18064 elements\n",
      "Info    : Done reading 'L-shaped-1.geo'\n",
      "Info    : RCMK renumbering...\n",
      "Info    : Done RCMK renumbering (bandwidth is now 135)\n",
      "Info    : Mapping does not contain a node tag (9030) - incrementing after last provided tag (9029)\n",
      "Info    : Running Plugin(Smooth)...\n",
      "Info    : Done running Plugin(Smooth)\n",
      "-------------------------------------------------------\n",
      "Version       : 4.13.1\n",
      "License       : GNU General Public License\n",
      "Build OS      : Linux64-sdk\n",
      "Build date    : 19700101\n",
      "Build host    : amdci7.julia.csail.mit.edu\n",
      "Build options : 64Bit ALGLIB[contrib] ANN[contrib] Bamg Blossom Cairo DIntegration Dlopen DomHex Eigen[contrib] Fltk GMP Gmm[contrib] Hxt Jpeg Kbipack LinuxJoystick MathEx[contrib] Mesh Metis[contrib] Mmg Mpeg Netgen Nii2mesh ONELAB ONELABMetamodel OpenCASCADE OpenCASCADE-CAF OpenGL OpenMP OptHom Parser Plugins Png Post QuadMeshingTools QuadTri Solver TetGen/BR TinyXML2[contrib] Untangle Voro++[contrib] WinslowUntangler Zlib\n",
      "FLTK version  : 1.3.8\n",
      "OCC version   : 7.7.2\n",
      "Packaged by   : root\n",
      "Web site      : https://gmsh.info\n",
      "Issue tracker : https://gitlab.onelab.info/gmsh/gmsh/issues\n",
      "-------------------------------------------------------\n"
     ]
    },
    {
     "name": "stderr",
     "output_type": "stream",
     "text": [
      "XRequest.18: BadValue 0x0\n"
     ]
    }
   ],
   "source": [
    "gmsh.model.add(\"tri-1\")\n",
    "gmsh.parser.setNumber(\"R\", [5])\n",
    "gmsh.parser.setNumber(\"es\", [1])\n",
    "gmsh.parser.setNumber(\"esR\", [1])\n",
    "gmsh.merge(\"L-shaped-1.geo\")\n",
    "#gmsh.model.mesh.recombine()\n",
    "gmsh.model.mesh.setOrder(1)\n",
    "tri1 = FEM.Problem([mat], type=:PlaneStress);\n",
    "supp = FEM.displacementConstraint(\"support\", ux=0, uy=0)\n",
    "load = FEM.load(\"load\", fy=-1)\n",
    "q = FEM.solveDisplacement(tri1, [load], [supp])\n",
    "S = FEM.solveStress(tri1, q);\n",
    "seqv = FEM.showStressResults(tri1, S, :seqv, visible=true, smooth=false)\n",
    "seqv = FEM.showStressResults(tri1, S, :seqv)\n",
    "p1 = FEM.plotOnPath(tri1, \"path1\", seqv)\n",
    "p2 = FEM.plotOnPath(tri1, \"path2\", seqv)\n",
    "Serr = FEM.fieldError(tri1, S)\n",
    "serr = FEM.showDoFResults(tri1, Serr, :seqv, name=\"error\")\n",
    "perr = FEM.plotOnPath(tri1, \"path2\", serr)\n",
    "gmsh.fltk.run()"
   ]
  },
  {
   "cell_type": "code",
   "execution_count": 15,
   "metadata": {},
   "outputs": [
    {
     "name": "stdout",
     "output_type": "stream",
     "text": [
      "Info    : Reading 'L-shaped-1.geo'...\n",
      "Info    : Meshing 1D...\n",
      "Info    : [  0%] Meshing curve 1 (Line)\n",
      "Info    : [ 20%] Meshing curve 2 (Line)\n",
      "Info    : [ 30%] Meshing curve 3 (Line)\n",
      "Info    : [ 50%] Meshing curve 4 (Circle)\n",
      "Info    : [ 60%] Meshing curve 5 (Line)\n",
      "Info    : [ 80%] Meshing curve 6 (Line)\n",
      "Info    : [ 90%] Meshing curve 7 (Line)\n",
      "Info    : Done meshing 1D (Wall 0.00703205s, CPU 0.006841s)\n",
      "Info    : Meshing 2D...\n",
      "Info    : Meshing surface 1 (Plane, Frontal-Delaunay)\n",
      "Info    : Done meshing 2D (Wall 0.0118249s, CPU 0.011762s)\n",
      "Info    : 313 nodes 630 elements\n",
      "Info    : Done reading 'L-shaped-1.geo'\n",
      "Info    : RCMK renumbering...\n",
      "Info    : Done RCMK renumbering (bandwidth is now 22)\n",
      "Info    : Mapping does not contain a node tag (313) - incrementing after last provided tag (312)\n",
      "Info    : Running Plugin(Smooth)...\n",
      "Info    : Done running Plugin(Smooth)\n",
      "-------------------------------------------------------\n",
      "Version       : 4.13.1\n",
      "License       : GNU General Public License\n",
      "Build OS      : Linux64-sdk\n",
      "Build date    : 19700101\n",
      "Build host    : amdci7.julia.csail.mit.edu\n",
      "Build options : 64Bit ALGLIB[contrib] ANN[contrib] Bamg Blossom Cairo DIntegration Dlopen DomHex Eigen[contrib] Fltk GMP Gmm[contrib] Hxt Jpeg Kbipack LinuxJoystick MathEx[contrib] Mesh Metis[contrib] Mmg Mpeg Netgen Nii2mesh ONELAB ONELABMetamodel OpenCASCADE OpenCASCADE-CAF OpenGL OpenMP OptHom Parser Plugins Png Post QuadMeshingTools QuadTri Solver TetGen/BR TinyXML2[contrib] Untangle Voro++[contrib] WinslowUntangler Zlib\n",
      "FLTK version  : 1.3.8\n",
      "OCC version   : 7.7.2\n",
      "Packaged by   : root\n",
      "Web site      : https://gmsh.info\n",
      "Issue tracker : https://gitlab.onelab.info/gmsh/gmsh/issues\n",
      "-------------------------------------------------------\n"
     ]
    },
    {
     "name": "stderr",
     "output_type": "stream",
     "text": [
      "XRequest.18: BadValue 0x0\n"
     ]
    }
   ],
   "source": [
    "gmsh.model.add(\"tri-1-10\")\n",
    "gmsh.parser.setNumber(\"R\", [5])\n",
    "gmsh.parser.setNumber(\"es\", [10])\n",
    "gmsh.parser.setNumber(\"esR\", [1])\n",
    "gmsh.merge(\"L-shaped-1.geo\")\n",
    "#gmsh.model.mesh.recombine()\n",
    "gmsh.model.mesh.setOrder(1)\n",
    "tri110 = FEM.Problem([mat], type=:PlaneStress);\n",
    "supp = FEM.displacementConstraint(\"support\", ux=0, uy=0)\n",
    "load = FEM.load(\"load\", fy=-1)\n",
    "q = FEM.solveDisplacement(tri110, [load], [supp])\n",
    "S = FEM.solveStress(tri110, q);\n",
    "seqv = FEM.showStressResults(tri110, S, :seqv, visible=true, smooth=false)\n",
    "seqv = FEM.showStressResults(tri110, S, :seqv)\n",
    "p1 = FEM.plotOnPath(tri110, \"path1\", seqv)\n",
    "p2 = FEM.plotOnPath(tri110, \"path2\", seqv)\n",
    "Serr = FEM.fieldError(tri110, S)\n",
    "serr = FEM.showDoFResults(tri110, Serr, :seqv, name=\"error\")\n",
    "perr = FEM.plotOnPath(tri110, \"path2\", serr)\n",
    "gmsh.fltk.run()"
   ]
  },
  {
   "cell_type": "code",
   "execution_count": 16,
   "metadata": {},
   "outputs": [
    {
     "name": "stdout",
     "output_type": "stream",
     "text": [
      "Info    : Reading 'L-shaped-1.geo'...\n",
      "Info    : Meshing 1D...\n",
      "Info    : [  0%] Meshing curve 1 (Line)\n",
      "Info    : [ 20%] Meshing curve 2 (Line)\n",
      "Info    : [ 30%] Meshing curve 3 (Line)\n",
      "Info    : [ 50%] Meshing curve 4 (Circle)\n",
      "Info    : [ 60%] Meshing curve 5 (Line)\n",
      "Info    : [ 80%] Meshing curve 6 (Line)\n",
      "Info    : [ 90%] Meshing curve 7 (Line)\n",
      "Info    : Done meshing 1D (Wall 0.00054887s, CPU 0.00055s)\n",
      "Info    : Meshing 2D...\n",
      "Info    : Meshing surface 1 (Plane, Frontal-Delaunay)\n",
      "Info    : Done meshing 2D (Wall 0.00909442s, CPU 0.008716s)\n",
      "Info    : 146 nodes 296 elements\n",
      "Info    : Done reading 'L-shaped-1.geo'\n",
      "Info    : Meshing order 2 (curvilinear on)...\n",
      "Info    : [  0%] Meshing curve 1 order 2\n",
      "Info    : [ 20%] Meshing curve 2 order 2\n",
      "Info    : [ 30%] Meshing curve 3 order 2\n",
      "Info    : [ 40%] Meshing curve 4 order 2\n",
      "Info    : [ 50%] Meshing curve 5 order 2\n",
      "Info    : [ 60%] Meshing curve 6 order 2\n",
      "Info    : [ 70%] Meshing curve 7 order 2\n",
      "Info    : [ 80%] Meshing curve 8 order 2\n",
      "Info    : [ 90%] Meshing surface 1 order 2\n",
      "Info    : Surface mesh: worst distortion = 0.691451 (0 elements in ]0, 0.2]); worst gamma = 0.772463\n",
      "Info    : Done meshing order 2 (Wall 0.00149986s, CPU 0.001442s)\n",
      "Info    : RCMK renumbering...\n",
      "Info    : Done RCMK renumbering (bandwidth is now 77)\n",
      "Info    : Mapping does not contain a node tag (536) - incrementing after last provided tag (535)\n",
      "Info    : Running Plugin(Smooth)...\n",
      "Info    : Done running Plugin(Smooth)\n",
      "-------------------------------------------------------\n",
      "Version       : 4.13.1\n",
      "License       : GNU General Public License\n",
      "Build OS      : Linux64-sdk\n",
      "Build date    : 19700101\n",
      "Build host    : amdci7.julia.csail.mit.edu\n",
      "Build options : 64Bit ALGLIB[contrib] ANN[contrib] Bamg Blossom Cairo DIntegration Dlopen DomHex Eigen[contrib] Fltk GMP Gmm[contrib] Hxt Jpeg Kbipack LinuxJoystick MathEx[contrib] Mesh Metis[contrib] Mmg Mpeg Netgen Nii2mesh ONELAB ONELABMetamodel OpenCASCADE OpenCASCADE-CAF OpenGL OpenMP OptHom Parser Plugins Png Post QuadMeshingTools QuadTri Solver TetGen/BR TinyXML2[contrib] Untangle Voro++[contrib] WinslowUntangler Zlib\n",
      "FLTK version  : 1.3.8\n",
      "OCC version   : 7.7.2\n",
      "Packaged by   : root\n",
      "Web site      : https://gmsh.info\n",
      "Issue tracker : https://gitlab.onelab.info/gmsh/gmsh/issues\n",
      "-------------------------------------------------------\n"
     ]
    },
    {
     "name": "stderr",
     "output_type": "stream",
     "text": [
      "XRequest.18: BadValue 0x0\n"
     ]
    }
   ],
   "source": [
    "gmsh.model.add(\"tri-10-2nd\")\n",
    "gmsh.parser.setNumber(\"R\", [5])\n",
    "gmsh.parser.setNumber(\"es\", [10])\n",
    "gmsh.parser.setNumber(\"esR\", [10])\n",
    "gmsh.merge(\"L-shaped-1.geo\")\n",
    "#gmsh.model.mesh.recombine()\n",
    "gmsh.model.mesh.setOrder(2)\n",
    "tri10_2nd = FEM.Problem([mat], type=:PlaneStress);\n",
    "supp = FEM.displacementConstraint(\"support\", ux=0, uy=0)\n",
    "load = FEM.load(\"load\", fy=-1)\n",
    "q = FEM.solveDisplacement(tri10_2nd, [load], [supp])\n",
    "S = FEM.solveStress(tri10_2nd, q);\n",
    "seqv = FEM.showStressResults(tri10_2nd, S, :seqv, visible=true, smooth=false)\n",
    "seqvs = FEM.showStressResults(tri10_2nd, S, :seqv)\n",
    "p1 = FEM.plotOnPath(tri10_2nd, \"path1\", seqv)\n",
    "p2 = FEM.plotOnPath(tri10_2nd, \"path2\", seqv)\n",
    "Serr = FEM.fieldError(tri10_2nd, S)\n",
    "serr = FEM.showDoFResults(tri10_2nd, Serr, :seqv, name=\"error\")\n",
    "perr = FEM.plotOnPath(tri10_2nd, \"path2\", serr)\n",
    "gmsh.fltk.run()"
   ]
  },
  {
   "cell_type": "code",
   "execution_count": 17,
   "metadata": {},
   "outputs": [
    {
     "name": "stdout",
     "output_type": "stream",
     "text": [
      "Info    : Reading 'L-shaped-1.geo'...\n",
      "Info    : Meshing 1D...\n",
      "Info    : [  0%] Meshing curve 1 (Line)\n",
      "Info    : [ 20%] Meshing curve 2 (Line)\n",
      "Info    : [ 30%] Meshing curve 3 (Line)\n",
      "Info    : [ 50%] Meshing curve 4 (Circle)\n",
      "Info    : [ 60%] Meshing curve 5 (Line)\n",
      "Info    : [ 80%] Meshing curve 6 (Line)\n",
      "Info    : [ 90%] Meshing curve 7 (Line)\n",
      "Info    : Done meshing 1D (Wall 0.00200817s, CPU 0.001891s)\n",
      "Info    : Meshing 2D...\n",
      "Info    : Meshing surface 1 (Plane, Frontal-Delaunay)\n",
      "Info    : Done meshing 2D (Wall 0.0163435s, CPU 0.013755s)\n",
      "Info    : 146 nodes 296 elements\n",
      "Info    : Done reading 'L-shaped-1.geo'\n",
      "Info    : Meshing order 3 (curvilinear on)...\n",
      "Info    : [  0%] Meshing curve 1 order 3\n",
      "Info    : [ 20%] Meshing curve 2 order 3\n",
      "Info    : [ 30%] Meshing curve 3 order 3\n",
      "Info    : [ 40%] Meshing curve 4 order 3\n",
      "Info    : [ 50%] Meshing curve 5 order 3\n",
      "Info    : [ 60%] Meshing curve 6 order 3\n",
      "Info    : [ 70%] Meshing curve 7 order 3\n",
      "Info    : [ 80%] Meshing curve 8 order 3\n",
      "Info    : [ 90%] Meshing surface 1 order 3\n",
      "Info    : Surface mesh: worst distortion = 0.639595 (0 elements in ]0, 0.2]); worst gamma = 0.772463\n",
      "Info    : Done meshing order 3 (Wall 0.0102527s, CPU 0.008382s)\n",
      "Info    : RCMK renumbering...\n",
      "Info    : Done RCMK renumbering (bandwidth is now 189)\n",
      "Info    : Mapping does not contain a node tag (1172) - incrementing after last provided tag (1171)\n",
      "Info    : Running Plugin(Smooth)...\n",
      "Info    : Done running Plugin(Smooth)\n",
      "-------------------------------------------------------\n",
      "Version       : 4.13.1\n",
      "License       : GNU General Public License\n",
      "Build OS      : Linux64-sdk\n",
      "Build date    : 19700101\n",
      "Build host    : amdci7.julia.csail.mit.edu\n",
      "Build options : 64Bit ALGLIB[contrib] ANN[contrib] Bamg Blossom Cairo DIntegration Dlopen DomHex Eigen[contrib] Fltk GMP Gmm[contrib] Hxt Jpeg Kbipack LinuxJoystick MathEx[contrib] Mesh Metis[contrib] Mmg Mpeg Netgen Nii2mesh ONELAB ONELABMetamodel OpenCASCADE OpenCASCADE-CAF OpenGL OpenMP OptHom Parser Plugins Png Post QuadMeshingTools QuadTri Solver TetGen/BR TinyXML2[contrib] Untangle Voro++[contrib] WinslowUntangler Zlib\n",
      "FLTK version  : 1.3.8\n",
      "OCC version   : 7.7.2\n",
      "Packaged by   : root\n",
      "Web site      : https://gmsh.info\n",
      "Issue tracker : https://gitlab.onelab.info/gmsh/gmsh/issues\n",
      "-------------------------------------------------------\n"
     ]
    },
    {
     "name": "stderr",
     "output_type": "stream",
     "text": [
      "XRequest.18: BadValue 0x0\n"
     ]
    }
   ],
   "source": [
    "gmsh.model.add(\"tri-10-3rd\")\n",
    "gmsh.parser.setNumber(\"R\", [5])\n",
    "gmsh.parser.setNumber(\"es\", [10])\n",
    "gmsh.parser.setNumber(\"esR\", [10])\n",
    "gmsh.merge(\"L-shaped-1.geo\")\n",
    "#gmsh.model.mesh.recombine()\n",
    "gmsh.model.mesh.setOrder(3)\n",
    "tri10_3rd = FEM.Problem([mat], type=:PlaneStress);\n",
    "supp = FEM.displacementConstraint(\"support\", ux=0, uy=0)\n",
    "load = FEM.load(\"load\", fy=-1)\n",
    "q = FEM.solveDisplacement(tri10_3rd, [load], [supp])\n",
    "S = FEM.solveStress(tri10_3rd, q);\n",
    "seqv = FEM.showStressResults(tri10_3rd, S, :seqv, visible=true, smooth=false)\n",
    "seqvs = FEM.showStressResults(tri10_3rd, S, :seqv)\n",
    "p1 = FEM.plotOnPath(tri10_3rd, \"path1\", seqv)\n",
    "p2 = FEM.plotOnPath(tri10_3rd, \"path2\", seqv)\n",
    "Serr = FEM.fieldError(tri10_3rd, S)\n",
    "serr = FEM.showDoFResults(tri10_3rd, Serr, :seqv, name=\"error\")\n",
    "perr = FEM.plotOnPath(tri10_3rd, \"path2\", serr)\n",
    "gmsh.fltk.run()"
   ]
  },
  {
   "cell_type": "code",
   "execution_count": 18,
   "metadata": {},
   "outputs": [
    {
     "name": "stdout",
     "output_type": "stream",
     "text": [
      "Info    : Reading 'L-shaped-1.geo'...\n",
      "Info    : Meshing 1D...\n",
      "Info    : [  0%] Meshing curve 1 (Line)\n",
      "Info    : [ 20%] Meshing curve 2 (Line)\n",
      "Info    : [ 30%] Meshing curve 3 (Line)\n",
      "Info    : [ 50%] Meshing curve 4 (Circle)\n",
      "Info    : [ 60%] Meshing curve 5 (Line)\n",
      "Info    : [ 80%] Meshing curve 6 (Line)\n",
      "Info    : [ 90%] Meshing curve 7 (Line)\n",
      "Info    : Done meshing 1D (Wall 0.00216787s, CPU 0.002163s)\n",
      "Info    : Meshing 2D...\n",
      "Info    : Meshing surface 1 (Plane, Frontal-Delaunay)\n",
      "Info    : Done meshing 2D (Wall 0.0151846s, CPU 0.013021s)\n",
      "Info    : 146 nodes 296 elements\n",
      "Info    : Done reading 'L-shaped-1.geo'\n",
      "Info    : Meshing order 4 (curvilinear on)...\n",
      "Info    : [  0%] Meshing curve 1 order 4\n",
      "Info    : [ 20%] Meshing curve 2 order 4\n",
      "Info    : [ 30%] Meshing curve 3 order 4\n",
      "Info    : [ 40%] Meshing curve 4 order 4\n",
      "Info    : [ 50%] Meshing curve 5 order 4\n",
      "Info    : [ 60%] Meshing curve 6 order 4\n",
      "Info    : [ 70%] Meshing curve 7 order 4\n",
      "Info    : [ 80%] Meshing curve 8 order 4\n",
      "Info    : [ 90%] Meshing surface 1 order 4\n",
      "Info    : Surface mesh: worst distortion = 0.641369 (0 elements in ]0, 0.2]); worst gamma = 0.772463\n",
      "Info    : Done meshing order 4 (Wall 0.0123933s, CPU 0.009278s)\n",
      "Info    : RCMK renumbering...\n",
      "Info    : Done RCMK renumbering (bandwidth is now 332)\n",
      "Info    : Mapping does not contain a node tag (2054) - incrementing after last provided tag (2053)\n",
      "Info    : Running Plugin(Smooth)...\n",
      "Info    : Done running Plugin(Smooth)\n",
      "-------------------------------------------------------\n",
      "Version       : 4.13.1\n",
      "License       : GNU General Public License\n",
      "Build OS      : Linux64-sdk\n",
      "Build date    : 19700101\n",
      "Build host    : amdci7.julia.csail.mit.edu\n",
      "Build options : 64Bit ALGLIB[contrib] ANN[contrib] Bamg Blossom Cairo DIntegration Dlopen DomHex Eigen[contrib] Fltk GMP Gmm[contrib] Hxt Jpeg Kbipack LinuxJoystick MathEx[contrib] Mesh Metis[contrib] Mmg Mpeg Netgen Nii2mesh ONELAB ONELABMetamodel OpenCASCADE OpenCASCADE-CAF OpenGL OpenMP OptHom Parser Plugins Png Post QuadMeshingTools QuadTri Solver TetGen/BR TinyXML2[contrib] Untangle Voro++[contrib] WinslowUntangler Zlib\n",
      "FLTK version  : 1.3.8\n",
      "OCC version   : 7.7.2\n",
      "Packaged by   : root\n",
      "Web site      : https://gmsh.info\n",
      "Issue tracker : https://gitlab.onelab.info/gmsh/gmsh/issues\n",
      "-------------------------------------------------------\n"
     ]
    },
    {
     "name": "stderr",
     "output_type": "stream",
     "text": [
      "XRequest.18: BadValue 0x0\n"
     ]
    }
   ],
   "source": [
    "gmsh.model.add(\"tri-10-4th\")\n",
    "gmsh.parser.setNumber(\"R\", [5])\n",
    "gmsh.parser.setNumber(\"es\", [10])\n",
    "gmsh.parser.setNumber(\"esR\", [10])\n",
    "gmsh.merge(\"L-shaped-1.geo\")\n",
    "#gmsh.model.mesh.recombine()\n",
    "gmsh.model.mesh.setOrder(4)\n",
    "tri10_4th = FEM.Problem([mat], type=:PlaneStress);\n",
    "supp = FEM.displacementConstraint(\"support\", ux=0, uy=0)\n",
    "load = FEM.load(\"load\", fy=-1)\n",
    "q = FEM.solveDisplacement(tri10_4th, [load], [supp])\n",
    "S = FEM.solveStress(tri10_4th, q);\n",
    "seqv = FEM.showStressResults(tri10_4th, S, :seqv, visible=true, smooth=false)\n",
    "seqvs = FEM.showStressResults(tri10_4th, S, :seqv)\n",
    "p1 = FEM.plotOnPath(tri10_4th, \"path1\", seqv)\n",
    "p2 = FEM.plotOnPath(tri10_4th, \"path2\", seqv)\n",
    "Serr = FEM.fieldError(tri10_4th, S)\n",
    "serr = FEM.showDoFResults(tri10_4th, Serr, :seqv, name=\"error\")\n",
    "perr = FEM.plotOnPath(tri10_4th, \"path2\", serr)\n",
    "gmsh.fltk.run()"
   ]
  },
  {
   "cell_type": "code",
   "execution_count": 19,
   "metadata": {},
   "outputs": [
    {
     "name": "stdout",
     "output_type": "stream",
     "text": [
      "Info    : Reading 'L-shaped-1.geo'...\n",
      "Info    : Meshing 1D...\n",
      "Info    : [  0%] Meshing curve 1 (Line)\n",
      "Info    : [ 20%] Meshing curve 2 (Line)\n",
      "Info    : [ 30%] Meshing curve 3 (Line)\n",
      "Info    : [ 50%] Meshing curve 4 (Circle)\n",
      "Info    : [ 60%] Meshing curve 5 (Line)\n",
      "Info    : [ 80%] Meshing curve 6 (Line)\n",
      "Info    : [ 90%] Meshing curve 7 (Line)\n",
      "Info    : Done meshing 1D (Wall 0.00214624s, CPU 0.002144s)\n",
      "Info    : Meshing 2D...\n",
      "Info    : Meshing surface 1 (Plane, Frontal-Delaunay)\n",
      "Info    : Done meshing 2D (Wall 0.012646s, CPU 0.011862s)\n",
      "Info    : 146 nodes 296 elements\n",
      "Info    : Done reading 'L-shaped-1.geo'\n",
      "Info    : Recombining 2D mesh...\n",
      "Info    : Blossom: 348 internal 42 closed\n",
      "Info    : Blossom recombination completed (Wall 0.00753649s, CPU 0.007496s): 120 quads, 0 triangles, 0 invalid quads, 0 quads with Q < 0.1, avg Q = 0.761068, min Q = 0.501508\n",
      "Info    : Done recombining 2D mesh (Wall 0.00765841s, CPU 0.007624s)\n",
      "Info    : Meshing order 4 (curvilinear on)...\n",
      "Info    : [  0%] Meshing curve 1 order 4\n",
      "Info    : [ 20%] Meshing curve 2 order 4\n",
      "Info    : [ 30%] Meshing curve 3 order 4\n",
      "Info    : [ 40%] Meshing curve 4 order 4\n",
      "Info    : [ 50%] Meshing curve 5 order 4\n",
      "Info    : [ 60%] Meshing curve 6 order 4\n",
      "Info    : [ 70%] Meshing curve 7 order 4\n",
      "Info    : [ 80%] Meshing curve 8 order 4\n",
      "Info    : [ 90%] Meshing surface 1 order 4\n",
      "Info    : Done meshing order 4 (Wall 0.00545706s, CPU 0.005439s)\n",
      "Info    : RCMK renumbering...\n",
      "Info    : Done RCMK renumbering (bandwidth is now 380)\n",
      "Info    : Mapping does not contain a node tag (2006) - incrementing after last provided tag (2005)\n",
      "Info    : Running Plugin(Smooth)...\n",
      "Info    : Done running Plugin(Smooth)\n",
      "-------------------------------------------------------\n",
      "Version       : 4.13.1\n",
      "License       : GNU General Public License\n",
      "Build OS      : Linux64-sdk\n",
      "Build date    : 19700101\n",
      "Build host    : amdci7.julia.csail.mit.edu\n",
      "Build options : 64Bit ALGLIB[contrib] ANN[contrib] Bamg Blossom Cairo DIntegration Dlopen DomHex Eigen[contrib] Fltk GMP Gmm[contrib] Hxt Jpeg Kbipack LinuxJoystick MathEx[contrib] Mesh Metis[contrib] Mmg Mpeg Netgen Nii2mesh ONELAB ONELABMetamodel OpenCASCADE OpenCASCADE-CAF OpenGL OpenMP OptHom Parser Plugins Png Post QuadMeshingTools QuadTri Solver TetGen/BR TinyXML2[contrib] Untangle Voro++[contrib] WinslowUntangler Zlib\n",
      "FLTK version  : 1.3.8\n",
      "OCC version   : 7.7.2\n",
      "Packaged by   : root\n",
      "Web site      : https://gmsh.info\n",
      "Issue tracker : https://gitlab.onelab.info/gmsh/gmsh/issues\n",
      "-------------------------------------------------------\n"
     ]
    },
    {
     "name": "stderr",
     "output_type": "stream",
     "text": [
      "XRequest.18: BadValue 0x0\n"
     ]
    }
   ],
   "source": [
    "gmsh.model.add(\"quad-10-4th\")\n",
    "gmsh.parser.setNumber(\"R\", [5])\n",
    "gmsh.parser.setNumber(\"es\", [10])\n",
    "gmsh.parser.setNumber(\"esR\", [10])\n",
    "gmsh.merge(\"L-shaped-1.geo\")\n",
    "gmsh.model.mesh.recombine()\n",
    "gmsh.model.mesh.setOrder(4)\n",
    "quad10_4th = FEM.Problem([mat], type=:PlaneStress);\n",
    "supp = FEM.displacementConstraint(\"support\", ux=0, uy=0)\n",
    "load = FEM.load(\"load\", fy=-1)\n",
    "q = FEM.solveDisplacement(quad10_4th, [load], [supp])\n",
    "S = FEM.solveStress(quad10_4th, q);\n",
    "seqv = FEM.showStressResults(quad10_4th, S, :seqv, visible=true, smooth=false)\n",
    "seqvs = FEM.showStressResults(quad10_4th, S, :seqv)\n",
    "p1 = FEM.plotOnPath(quad10_4th, \"path1\", seqv)\n",
    "p2 = FEM.plotOnPath(quad10_4th, \"path2\", seqv)\n",
    "Serr = FEM.fieldError(quad10_4th, S)\n",
    "serr = FEM.showDoFResults(quad10_4th, Serr, :seqv, name=\"error\")\n",
    "perr = FEM.plotOnPath(quad10_4th, \"path2\", serr)\n",
    "gmsh.fltk.run()"
   ]
  },
  {
   "cell_type": "code",
   "execution_count": 20,
   "metadata": {},
   "outputs": [
    {
     "name": "stdout",
     "output_type": "stream",
     "text": [
      "Info    : Reading 'L-shaped-1.geo'...\n",
      "Info    : Meshing 1D...\n",
      "Info    : [  0%] Meshing curve 1 (Line)\n",
      "Info    : [ 20%] Meshing curve 2 (Line)\n",
      "Info    : [ 30%] Meshing curve 3 (Line)\n",
      "Info    : [ 50%] Meshing curve 4 (Circle)\n",
      "Info    : [ 60%] Meshing curve 5 (Line)\n",
      "Info    : [ 80%] Meshing curve 6 (Line)\n",
      "Info    : [ 90%] Meshing curve 7 (Line)\n",
      "Info    : Done meshing 1D (Wall 0.0117962s, CPU 0.009828s)\n",
      "Info    : Meshing 2D...\n",
      "Info    : Meshing surface 1 (Plane, Frontal-Delaunay)\n",
      "Info    : Done meshing 2D (Wall 0.0254864s, CPU 0.022063s)\n",
      "Info    : 313 nodes 630 elements\n",
      "Info    : Done reading 'L-shaped-1.geo'\n",
      "Info    : Recombining 2D mesh...\n",
      "Info    : Blossom: 809 internal 62 closed\n",
      "Info    : Blossom recombination completed (Wall 0.0172163s, CPU 0.015662s): 275 quads, 0 triangles, 0 invalid quads, 0 quads with Q < 0.1, avg Q = 0.750793, min Q = 0.463843\n",
      "Info    : Done recombining 2D mesh (Wall 0.0173111s, CPU 0.015762s)\n",
      "Info    : Meshing order 4 (curvilinear on)...\n",
      "Info    : [  0%] Meshing curve 1 order 4\n",
      "Info    : [ 20%] Meshing curve 2 order 4\n",
      "Info    : [ 30%] Meshing curve 3 order 4\n",
      "Info    : [ 40%] Meshing curve 4 order 4\n",
      "Info    : [ 50%] Meshing curve 5 order 4\n",
      "Info    : [ 60%] Meshing curve 6 order 4\n",
      "Info    : [ 70%] Meshing curve 7 order 4\n",
      "Info    : [ 80%] Meshing curve 8 order 4\n",
      "Info    : [ 90%] Meshing surface 1 order 4\n",
      "Info    : Done meshing order 4 (Wall 0.0123484s, CPU 0.010458s)\n",
      "Info    : RCMK renumbering...\n",
      "Info    : Done RCMK renumbering (bandwidth is now 628)\n",
      "Info    : Mapping does not contain a node tag (4526) - incrementing after last provided tag (4525)\n",
      "Info    : Running Plugin(Smooth)...\n",
      "Info    : Done running Plugin(Smooth)\n",
      "-------------------------------------------------------\n",
      "Version       : 4.13.1\n",
      "License       : GNU General Public License\n",
      "Build OS      : Linux64-sdk\n",
      "Build date    : 19700101\n",
      "Build host    : amdci7.julia.csail.mit.edu\n",
      "Build options : 64Bit ALGLIB[contrib] ANN[contrib] Bamg Blossom Cairo DIntegration Dlopen DomHex Eigen[contrib] Fltk GMP Gmm[contrib] Hxt Jpeg Kbipack LinuxJoystick MathEx[contrib] Mesh Metis[contrib] Mmg Mpeg Netgen Nii2mesh ONELAB ONELABMetamodel OpenCASCADE OpenCASCADE-CAF OpenGL OpenMP OptHom Parser Plugins Png Post QuadMeshingTools QuadTri Solver TetGen/BR TinyXML2[contrib] Untangle Voro++[contrib] WinslowUntangler Zlib\n",
      "FLTK version  : 1.3.8\n",
      "OCC version   : 7.7.2\n",
      "Packaged by   : root\n",
      "Web site      : https://gmsh.info\n",
      "Issue tracker : https://gitlab.onelab.info/gmsh/gmsh/issues\n",
      "-------------------------------------------------------\n"
     ]
    },
    {
     "name": "stderr",
     "output_type": "stream",
     "text": [
      "XRequest.18: BadValue 0x0\n"
     ]
    }
   ],
   "source": [
    "gmsh.model.add(\"quad-1-10-4th\")\n",
    "gmsh.parser.setNumber(\"R\", [5])\n",
    "gmsh.parser.setNumber(\"es\", [10])\n",
    "gmsh.parser.setNumber(\"esR\", [1])\n",
    "gmsh.merge(\"L-shaped-1.geo\")\n",
    "gmsh.model.mesh.recombine()\n",
    "gmsh.model.mesh.setOrder(4)\n",
    "quad1_10_4th = FEM.Problem([mat], type=:PlaneStress);\n",
    "supp = FEM.displacementConstraint(\"support\", ux=0, uy=0)\n",
    "load = FEM.load(\"load\", fy=-1)\n",
    "q = FEM.solveDisplacement(quad1_10_4th, [load], [supp])\n",
    "S = FEM.solveStress(quad1_10_4th, q);\n",
    "seqv = FEM.showStressResults(quad1_10_4th, S, :seqv, visible=true, smooth=false)\n",
    "seqvs = FEM.showStressResults(quad1_10_4th, S, :seqv)\n",
    "p1 = FEM.plotOnPath(quad1_10_4th, \"path1\", seqv)\n",
    "p2 = FEM.plotOnPath(quad1_10_4th, \"path2\", seqv)\n",
    "Serr = FEM.fieldError(quad1_10_4th, S)\n",
    "serr = FEM.showDoFResults(quad1_10_4th, Serr, :seqv, name=\"error\")\n",
    "perr = FEM.plotOnPath(quad1_10_4th, \"path2\", serr)\n",
    "gmsh.fltk.run()"
   ]
  },
  {
   "cell_type": "code",
   "execution_count": 21,
   "metadata": {},
   "outputs": [],
   "source": [
    "gmsh.finalize()"
   ]
  }
 ],
 "metadata": {
  "kernelspec": {
   "display_name": "Julia 1.11.4",
   "language": "julia",
   "name": "julia-1.11"
  },
  "language_info": {
   "file_extension": ".jl",
   "mimetype": "application/julia",
   "name": "julia",
   "version": "1.11.4"
  }
 },
 "nbformat": 4,
 "nbformat_minor": 2
}
