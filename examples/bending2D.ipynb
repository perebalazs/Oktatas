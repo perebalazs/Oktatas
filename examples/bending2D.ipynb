{
 "cells": [
  {
   "cell_type": "code",
   "execution_count": 17,
   "metadata": {},
   "outputs": [
    {
     "name": "stderr",
     "output_type": "stream",
     "text": [
      "WARNING: replacing module FEM.\n"
     ]
    }
   ],
   "source": [
    "using LinearAlgebra, SparseArrays\n",
    "import gmsh\n",
    "gmsh.initialize()\n",
    "\n",
    "include(\"../src/FEM.jl\")\n",
    "using .FEM"
   ]
  },
  {
   "cell_type": "code",
   "execution_count": 18,
   "metadata": {},
   "outputs": [
    {
     "data": {
      "text/plain": [
       "Main.FEM.Problem(\"bending2D\", \"PlaneStress\", 2, 200000.0, 0.3, 7.85e-9, 1.0)"
      ]
     },
     "metadata": {},
     "output_type": "display_data"
    }
   ],
   "source": [
    "problem = FEM.Problem(\"bending2D\", type=\"PlaneStress\")"
   ]
  },
  {
   "cell_type": "code",
   "execution_count": 19,
   "metadata": {},
   "outputs": [
    {
     "name": "stdout",
     "output_type": "stream",
     "text": [
      "Info    : Reading 'bending2D.geo'...\n",
      "Info    : Meshing 1D...\n",
      "Info    : [  0%] Meshing curve 1 (Line)\n",
      "Info    : [ 30%] Meshing curve 2 (Line)\n",
      "Info    : [ 50%] Meshing curve 3 (Line)\n",
      "Info    : [ 80%] Meshing curve 4 (Line)\n",
      "Info    : Done meshing 1D (Wall 0.000630521s, CPU 0.000589s)\n",
      "Info    : Meshing 2D...\n",
      "Info    : Meshing surface 1 (Plane, Frontal-Delaunay)\n",
      "Info    : Done meshing 2D (Wall 0.0193283s, CPU 0.019255s)\n",
      "Info    : Meshing order 3 (curvilinear on)...\n",
      "Info    : [  0%] Meshing curve 1 order 3\n",
      "Info    : [ 20%] Meshing curve 2 order 3\n",
      "Info    : [ 40%] Meshing curve 3 order 3\n",
      "Info    : [ 60%] Meshing curve 4 order 3\n",
      "Info    : [ 80%] Meshing surface 1 order 3\n",
      "Info    : Surface mesh: worst distortion = 1 (0 elements in ]0, 0.2]); worst gamma = 0.910792\n",
      "Info    : Done meshing order 3 (Wall 0.00787035s, CPU 0.006695s)\n",
      "Info    : 1393 nodes 364 elements\n",
      "Info    : Done reading 'bending2D.geo'\n"
     ]
    }
   ],
   "source": [
    "gmsh.open(\"bending2D.geo\")"
   ]
  },
  {
   "cell_type": "code",
   "execution_count": 20,
   "metadata": {},
   "outputs": [
    {
     "name": "stdout",
     "output_type": "stream",
     "text": [
      "-------------------------------------------------------\n",
      "Version       : 4.12.2\n",
      "License       : GNU General Public License\n",
      "Build OS      : Linux64-sdk\n",
      "Build date    : 20240121\n",
      "Build host    : gmsh.info\n",
      "Build options : 64Bit ALGLIB[contrib] ANN[contrib] Bamg Blas[petsc] Blossom Cgns DIntegration Dlopen DomHex Eigen[contrib] Fltk Gmm[contrib] Hxt Jpeg Kbipack Lapack[petsc] LinuxJoystick MathEx[contrib] Med Mesh Metis[contrib] Mmg Mpeg Netgen ONELAB ONELABMetamodel OpenCASCADE OpenCASCADE-CAF OpenGL OpenMP OptHom PETSc Parser Plugins Png Post QuadMeshingTools QuadTri Solver TetGen/BR Voro++[contrib] WinslowUntangler Zlib\n",
      "FLTK version  : 1.4.0\n",
      "PETSc version : 3.14.4 (real arithmtic)\n",
      "OCC version   : 7.7.2\n",
      "MED version   : 4.1.0\n",
      "Packaged by   : geuzaine\n",
      "Web site      : https://gmsh.info\n",
      "Issue tracker : https://gitlab.onelab.info/gmsh/gmsh/issues\n",
      "-------------------------------------------------------\n",
      "Info    : Refining mesh...\n",
      "Info    : Meshing order 2 (curvilinear on)...\n",
      "Info    : [  0%] Meshing curve 1 order 2\n",
      "Info    : [ 20%] Meshing curve 2 order 2\n",
      "Info    : [ 40%] Meshing curve 3 order 2\n",
      "Info    : [ 50%] Meshing curve 4 order 2\n",
      "Info    : [ 70%] Meshing curve 5 order 2\n",
      "Info    : [ 90%] Meshing surface 1 order 2\n",
      "Info    : Surface mesh: worst distortion = 1 (0 elements in ]0, 0.2]); worst gamma = 0.910792\n",
      "Info    : Done meshing order 2 (Wall 0.00235573s, CPU 0.002343s)\n",
      "Info    : Done refining mesh (Wall 0.00281078s, CPU 0.002791s)\n",
      "Info    : Recombining 2D mesh...\n",
      "Info    : Blossom: 1628 internal 152 closed\n",
      "Info    : Blossom recombination completed (Wall 0.0226624s, CPU 0.022634s): 567 quads, 0 triangles, 0 invalid quads, 0 quads with Q < 0.1, avg Q = 0.774939, min Q = 0.524594\n",
      "Info    : Done recombining 2D mesh (Wall 0.0228236s, CPU 0.022802s)\n",
      "Info    : Meshing order 3 (curvilinear on)...\n",
      "Info    : [  0%] Meshing curve 1 order 3\n",
      "Info    : [ 20%] Meshing curve 2 order 3\n",
      "Info    : [ 40%] Meshing curve 3 order 3\n",
      "Info    : [ 50%] Meshing curve 4 order 3\n",
      "Info    : [ 70%] Meshing curve 5 order 3\n",
      "Info    : [ 90%] Meshing surface 1 order 3\n",
      "Info    : Done meshing order 3 (Wall 0.00994808s, CPU 0.009948s)\n"
     ]
    }
   ],
   "source": [
    "gmsh.fltk.run()"
   ]
  },
  {
   "cell_type": "code",
   "execution_count": 21,
   "metadata": {},
   "outputs": [],
   "source": [
    "# Néhány láthatósági beállítás 0:kikapcs. 1:bekapcs.\n",
    "gmsh.option.setNumber(\"Geometry.CurveLabels\", 0)\n",
    "gmsh.option.setNumber(\"Geometry.Points\", 0)\n",
    "gmsh.option.setNumber(\"Geometry.Curves\", 0)\n",
    "gmsh.option.setNumber(\"Mesh.Points\", 0)\n",
    "gmsh.option.setNumber(\"Mesh.Lines\", 0)\n",
    "gmsh.option.setNumber(\"Mesh.SurfaceEdges\", 0)\n",
    "gmsh.option.setNumber(\"Mesh.NodeLabels\", 0)\n",
    "gmsh.option.setNumber(\"Mesh.LineLabels\", 0)\n",
    "gmsh.option.setNumber(\"Mesh.SurfaceLabels\", 0)"
   ]
  },
  {
   "cell_type": "code",
   "execution_count": 22,
   "metadata": {},
   "outputs": [
    {
     "data": {
      "text/plain": [
       "10664×10664 SparseMatrixCSC{Float64, Int64} with 514864 stored entries:\n",
       "⎡⣿⢟⣁⠙⣾⣿⢀⣟⣃⡸⡿⡿⢟⢻⠾⠿⡿⠿⢗⠀⣖⡶⣒⠰⣒⠀⠀⠀⠀⠀⠀⠀⠀⠀⠀⣚⣚⣃⠀⡀⎤\n",
       "⎢⣅⠘⡿⣯⣹⣿⣠⣝⣛⣛⣫⣨⣟⣻⣿⣯⣭⣿⣿⣯⣸⣝⣀⣛⣀⣀⣀⣀⣀⣀⣀⣀⣀⣀⣃⣭⣭⣍⣠⣤⎥\n",
       "⎢⣾⣿⣷⣾⣿⣿⣿⣻⣞⣺⣿⣿⣿⣿⣾⣿⣯⣿⣿⣿⣿⣻⣛⣿⣿⢿⣿⣿⣯⣭⣿⣯⣽⣝⣟⣙⡙⢛⣛⠉⎥\n",
       "⎢⣤⢴⣄⢾⣿⣻⡿⣯⣅⠛⠛⠛⢑⠛⠚⠛⠛⡛⠛⠛⢻⣽⣿⡽⢛⠛⠛⠛⠛⠛⠛⠛⠛⠛⣻⠷⠶⡶⣷⠶⎥\n",
       "⎢⣉⡸⣿⢸⣺⣹⣥⠙⠿⣧⣄⣁⢀⡀⣀⡍⡀⣰⠤⠄⠀⠒⠃⣀⢁⣠⠠⣄⡄⠀⠀⡀⢀⢐⠀⠈⠀⠉⠁⠀⎥\n",
       "⎢⣿⡯⡋⣺⣿⣿⣿⠀⠄⢹⢿⣷⡮⢝⢁⡥⠵⠎⡧⣐⠏⠓⠈⢐⢄⣌⡞⣂⠁⠤⠄⠀⢠⡈⠁⠀⠀⠀⠀⠀⎥\n",
       "⎢⣿⣑⣿⣹⣿⣿⣵⠐⠀⠰⣎⢏⣻⣾⢮⠁⣡⣯⢡⢏⡂⠠⠀⠇⠀⠡⢡⡠⡆⠦⣀⠂⠠⠄⠅⠀⠀⠀⠀⠀⎥\n",
       "⎢⣾⡇⡿⣿⣾⣿⣾⠀⡄⠼⠅⡴⠎⠓⣻⣾⣿⢻⡍⠅⡥⠘⠀⠐⡐⠴⠢⠄⠒⠐⢘⣉⠣⠂⠁⠀⠀⠀⠀⠀⎥\n",
       "⎢⣿⡏⣧⣿⣯⣿⣿⠠⢀⣨⡱⠇⡥⣾⣿⣛⢿⣷⡺⡀⠡⣰⠀⣄⠂⢉⡀⠊⡕⠲⢐⡚⠅⢈⠧⠄⠀⠀⠀⠀⎥\n",
       "⎢⠙⠑⡿⣿⣿⣿⣿⠀⠀⠇⢉⢫⡥⢖⠇⠍⠚⠪⢻⣶⡧⠀⠀⠐⠂⠨⠅⣀⠺⢲⣬⠀⠳⠢⠐⠂⠀⠀⠀⠀⎥\n",
       "⎢⢸⡽⣖⢾⣿⣻⣟⣶⢠⠀⢯⠁⠈⡈⣁⠋⢁⣢⠉⠋⢻⣶⣷⣶⢽⠀⠈⠀⠘⠁⠁⠈⠉⢀⡒⠛⠂⠐⠂⠀⎥\n",
       "⎢⢘⡘⣤⢸⣿⣼⣟⡿⠉⢠⢂⢀⠤⠄⢀⠀⠀⢤⢀⠀⢹⣿⣻⣾⣙⠀⠀⢐⠀⠀⠀⠀⠀⠨⢿⡋⠀⠀⡉⠀⎥\n",
       "⎢⠘⠘⠀⢸⣿⣟⣿⠐⠁⣰⡀⢵⠄⡀⢐⡌⡌⢀⡈⡀⠓⠓⠓⠘⢻⣶⣴⣕⣿⣅⠇⢔⣠⡶⠚⠁⠀⠀⠀⠀⎥\n",
       "⎢⠀⠀⠀⢸⣿⣿⣿⠀⠀⢦⠺⢩⠁⡲⠈⠆⡠⠈⠁⢡⠂⠀⢀⢀⢔⢿⢿⣷⣿⡮⣹⡽⠟⠉⢀⠀⠀⠀⠀⠀⎥\n",
       "⎢⠀⠀⠀⢸⡏⣿⣿⠀⠀⠉⠁⡄⠨⡍⢘⠀⢱⡉⢺⣂⠖⠀⠀⠀⠟⢿⡻⡿⣿⣿⣟⡗⣤⠐⠀⠀⠀⠀⠀⠀⎥\n",
       "⎢⠀⠀⠀⢸⡿⣿⣿⠀⠀⠠⠀⠁⠠⠘⡖⢰⣰⠰⠂⠛⡁⠀⠀⠀⢉⢅⣗⡾⢿⠽⣿⣿⣽⢈⠀⠀⠀⠀⠀⠀⎥\n",
       "⎢⠀⠀⠀⢸⣗⢿⣿⠀⢀⢐⡀⠲⠀⠆⠩⠂⡁⢁⠹⡂⠃⢀⡀⡀⢠⡾⡟⠁⢀⠛⡓⢛⣿⣿⣂⠀⠀⠀⠀⠀⎥\n",
       "⎢⣠⢠⡍⣼⣟⢹⢿⡞⡀⠀⠁⠀⠁⠁⠁⠀⠉⠇⠰⠀⣼⠈⡿⠳⠞⠀⠀⠐⠀⠀⠀⠀⠈⠘⠻⣦⣤⣰⠦⣄⎥\n",
       "⎢⠾⢸⡇⢿⣷⢈⢸⡧⡄⠀⠀⠀⠀⠀⠀⠀⠀⠀⠀⠀⢈⠀⠀⠀⠀⠀⠀⠀⠀⠀⠀⠀⠀⠀⢀⣻⣿⣿⣼⣯⎥\n",
       "⎣⠀⠠⠀⣾⡟⠘⢹⡟⠁⠀⠀⠀⠀⠀⠀⠀⠀⠀⠀⠀⠈⠀⠃⠈⠀⠀⠀⠀⠀⠀⠀⠀⠀⠀⠈⢧⡶⣿⢻⣶⎦"
      ]
     },
     "metadata": {},
     "output_type": "display_data"
    }
   ],
   "source": [
    "K = FEM.stiffnessMatrix(problem)"
   ]
  },
  {
   "cell_type": "code",
   "execution_count": 23,
   "metadata": {},
   "outputs": [
    {
     "data": {
      "text/plain": [
       "(\"load\", 0, -1, 0)"
      ]
     },
     "metadata": {},
     "output_type": "display_data"
    }
   ],
   "source": [
    "supp = FEM.displacementConstraint(\"supp\", ux=0, uy=0)\n",
    "load = FEM.traction(\"load\", fy=-1)"
   ]
  },
  {
   "cell_type": "code",
   "execution_count": 24,
   "metadata": {},
   "outputs": [
    {
     "data": {
      "text/plain": [
       "(sparse([1, 2, 3, 4, 141, 142, 411, 412, 413, 414  …  10647, 10648, 10657, 10658, 10659, 10660, 10661, 10662, 10663, 10664], [1, 2, 3, 3, 3, 3, 3, 3, 3, 3  …  10664, 10664, 10664, 10664, 10664, 10664, 10664, 10664, 10664, 10664], [1.0, 1.0, 78957.97019293235, -36608.28825971323, -565.8122281006715, 637.3732000234737, 11916.746530836082, -2036.6823403110268, -47363.87270206412, 4470.458445318061  …  11868.989660497264, 66653.37934510759, -171940.6297427944, -589149.3503149266, -4285.6894433169155, -93011.81291327311, 187971.97394331888, -624942.1586965838, -17551.851893174535, 1.5333405107424275e6], 10664, 10664), [0.0; 0.0; … ; 0.0; 0.0;;])"
      ]
     },
     "metadata": {},
     "output_type": "display_data"
    }
   ],
   "source": [
    "K, f = FEM.applyBoundaryConditions!(problem, K, [supp], [load])"
   ]
  },
  {
   "cell_type": "code",
   "execution_count": 25,
   "metadata": {},
   "outputs": [
    {
     "data": {
      "text/plain": [
       "10664×1 Matrix{Float64}:\n",
       "  0.0\n",
       "  0.0\n",
       " -0.015006274155236943\n",
       " -0.20121741749316824\n",
       "  0.015006274140061313\n",
       " -0.20121741739381305\n",
       "  0.0\n",
       "  0.0\n",
       " -0.00045562456475072986\n",
       " -0.00021981760552890604\n",
       "  ⋮\n",
       " -0.00021897706502619995\n",
       "  6.353752278562226e-5\n",
       " -7.421794712208078e-5\n",
       "  4.896366613368016e-5\n",
       " -9.897027276490547e-5\n",
       "  8.068812162656377e-5\n",
       " -0.00013186383105340342\n",
       "  9.09110972951682e-5\n",
       " -0.00010353212827364557"
      ]
     },
     "metadata": {},
     "output_type": "display_data"
    }
   ],
   "source": [
    "q = FEM.solveDisplacement(K, f)"
   ]
  },
  {
   "cell_type": "code",
   "execution_count": 26,
   "metadata": {},
   "outputs": [
    {
     "data": {
      "text/plain": [
       "([[-19.22535466455126, -0.7866774642582129, 0.0, -0.7866774642582129, 8.395240058689524e-11, 0.0, 0.0, 0.0, 0.0, -14.451623725658004  …  0.0, -18.42272095513915, -0.8700477930227819, 0.0, -0.8700477930227819, -3.240963053485757e-12, 0.0, 0.0, 0.0, 0.0], [-9.277036120972308, -1.3327234704517439, 0.0, -1.3327234704517439, -1.0291811847196186e-10, 0.0, 0.0, 0.0, 0.0, -7.558629821833632  …  0.0, -12.499999648127085, -1.2072348142886038, 0.0, -1.2072348142886038, -7.903455667701564e-11, 0.0, 0.0, 0.0, 0.0], [-19.225354664564694, -0.786677464258512, 0.0, -0.786677464258512, 9.425082936331819e-11, 0.0, 0.0, 0.0, 0.0, -16.223265323063803  …  0.0, -14.561571675858408, -1.0920329602110295, 0.0, -1.0920329602110295, 2.1045387654794467e-11, 0.0, 0.0, 0.0, 0.0], [-0.26004362585594515, -1.4998692350016214, 0.0, -1.4998692350016214, 8.954836872021588e-12, 0.0, 0.0, 0.0, 0.0, -9.27703612094479  …  0.0, -2.6591658829252207, -1.4856192674357296, 0.0, -1.4856192674357296, -1.1104117625393428e-11, 0.0, 0.0, 0.0, 0.0], [-0.2600436258757713, -1.4998692350159704, 0.0, -1.4998692350159704, -5.657242729828482e-11, 0.0, 0.0, 0.0, 0.0, 0.1540115106097805  …  0.0, 5.30411855933429, -1.4442878279794171, 0.0, -1.4442878279794171, 2.3104407276264283e-11, 0.0, 0.0, 0.0, 0.0], [1.2675732508718565, -1.4110222869907791, 0.0, -1.4110222869907791, 0.0030181616280196, 0.0, 0.0, 0.0, 0.0, -0.022145705322534334  …  0.0, 0.737954106685643, -1.4661350425510404, 0.0, -1.4661350425510404, 0.004579164495543242, 0.0, 0.0, 0.0, 0.0], [-5.65536001826352, -0.6546548634647598, 0.0, -0.6546548634647598, -1.5996725808209433e-5, 0.0, 0.0, 0.0, 0.0, -4.994212208310531  …  0.0, -4.085734393559831, -0.986805486070834, 0.0, -0.986805486070834, -0.00015546177928604799, 0.0, 0.0, 0.0, 0.0], [18.699953752324433, -0.637161453799945, 0.0, -0.637161453799945, 7.23581194961298e-11, 0.0, 0.0, 0.0, 0.0, 19.037529514988748  …  0.0, 15.144382366476755, -0.9478803224240056, 0.0, -0.9478803224240056, 2.2494894835745072e-11, 0.0, 0.0, 0.0, 0.0], [-42.21284657861696, -0.5947800102940376, 0.0, -0.5947800102940376, 0.02598010603337997, 0.0, 0.0, 0.0, 0.0, -28.759972512310323  …  0.0, -38.62844662443187, -0.7087192243118565, 0.0, -0.7087192243118565, 0.06979401457622103, 0.0, 0.0, 0.0, 0.0], [3.042065712798166, -0.6370397404748422, 0.0, -0.6370397404748422, 0.005367758373815312, 0.0, 0.0, 0.0, 0.0, 1.8657156734729163  …  0.0, 2.286925151431731, -0.7829912781091959, 0.0, -0.7829912781091959, 0.01712248587218901, 0.0, 0.0, 0.0, 0.0]  …  [-0.003064991972245662, -0.9999189630343663, 0.0, -0.9999189630343663, 0.6926230809614702, 0.0, 0.0, 0.0, 0.0, -0.07129002662613741  …  0.0, -0.010630077708564722, -1.1323260196705043, 0.0, -1.1323260196705043, 0.821405922978932, 0.0, 0.0, 0.0, 0.0], [8.3192601601893, -0.3670610927542797, 0.0, -0.3670610927542797, 1.0454845809819204, 0.0, 0.0, 0.0, 0.0, 12.997129633183906  …  0.0, 16.39856771160178, -0.7844745433156138, 0.0, -0.7844745433156138, 1.7319604397135837, 0.0, 0.0, 0.0, 0.0], [18.825796081956376, -0.4438440910677638, 0.0, -0.4438440910677638, 2.676433313192265, 0.0, 0.0, 0.0, 0.0, 21.17106748341918  …  0.0, 28.11400825939312, -1.304332657893814, 0.0, -1.304332657893814, 2.40657587679324, 0.0, 0.0, 0.0, 0.0], [13.656801117223356, 2.532214790442148, 0.0, 2.532214790442148, 4.097040335167006, 0.0, 0.0, 0.0, 0.0, 18.83278411648838  …  0.0, 24.380490071975764, 0.36878259876102387, 0.0, 0.36878259876102387, 5.772355577587424, 0.0, 0.0, 0.0, 0.0], [0.04723183574270811, -1.463703004001771, 0.0, -1.463703004001771, -0.11712549352961892, 0.0, 0.0, 0.0, 0.0, 0.16156933541355262  …  0.0, 0.06189393525007088, -1.5502300805131708, 0.0, -1.5502300805131708, -0.028606327424937333, 0.0, 0.0, 0.0, 0.0], [0.0010665453226937679, -1.5614477609125403, 0.0, -1.5614477609125403, -0.0004982836008583367, 0.0, 0.0, 0.0, 0.0, 0.1726355380123135  …  0.0, -0.05840093637372373, -1.5819526909453452, 0.0, -1.5819526909453452, 0.0006572477146444648, 0.0, 0.0, 0.0, 0.0], [-0.04605001416556517, -1.4628126997511077, 0.0, -1.4628126997511077, 0.11711363018231599, 0.0, 0.0, 0.0, 0.0, 0.0005277335161855747  …  0.0, -0.11273348818535227, -1.5225111637269928, 0.0, -1.5225111637269928, 0.049091330108748416, 0.0, 0.0, 0.0, 0.0], [-8.432902097151109, -0.38282498472412463, 0.0, -0.38282498472412463, -1.0503539971211666, 0.0, 0.0, 0.0, 0.0, -13.255213820353635  …  0.0, -5.366261739601249, -1.071062815203974, 0.0, -1.071062815203974, -0.3757547813767883, 0.0, 0.0, 0.0, 0.0], [-0.10446297049596473, -1.0331989247678124, 0.0, -1.0331989247678124, -0.007584540672176277, 0.0, 0.0, 0.0, 0.0, -8.806191640700607  …  0.0, 2.792118446433116, -1.505283905529549, 0.0, -1.505283905529549, 0.08458264307936458, 0.0, 0.0, 0.0, 0.0], [8.319249247248393, -0.36704873031771074, 0.0, -0.36704873031771074, 1.044228884231253, 0.0, 0.0, 0.0, 0.0, -0.10501439791731886  …  0.0, 9.535053635357423, -1.1103553094681378, 0.0, -1.1103553094681378, 0.6523874404846564, 0.0, 0.0, 0.0, 0.0]], [17, 18, 19, 20, 21, 22, 23, 24, 25, 26  …  574, 575, 576, 577, 578, 579, 580, 581, 582, 583])"
      ]
     },
     "metadata": {},
     "output_type": "display_data"
    }
   ],
   "source": [
    "S = FEM.solveStress(problem, q)"
   ]
  },
  {
   "cell_type": "code",
   "execution_count": 27,
   "metadata": {},
   "outputs": [],
   "source": [
    "gmsh.option.setNumber(\"View.IntervalsType\", 3)\n",
    "gmsh.option.setNumber(\"View.VectorType\", 5)\n",
    "gmsh.option.setString(\"View.Format\", \"%.6g\")"
   ]
  },
  {
   "cell_type": "code",
   "execution_count": 28,
   "metadata": {},
   "outputs": [
    {
     "data": {
      "text/plain": [
       "\"uvec..ok\""
      ]
     },
     "metadata": {},
     "output_type": "display_data"
    },
    {
     "data": {
      "text/plain": [
       "\"ux..ok\""
      ]
     },
     "metadata": {},
     "output_type": "display_data"
    },
    {
     "data": {
      "text/plain": [
       "\"uy..ok\""
      ]
     },
     "metadata": {},
     "output_type": "display_data"
    },
    {
     "data": {
      "text/plain": [
       "\"uz..ok\""
      ]
     },
     "metadata": {},
     "output_type": "display_data"
    },
    {
     "data": {
      "text/plain": [
       "\"s..ok\""
      ]
     },
     "metadata": {},
     "output_type": "display_data"
    },
    {
     "data": {
      "text/plain": [
       "\"sx..ok\""
      ]
     },
     "metadata": {},
     "output_type": "display_data"
    },
    {
     "data": {
      "text/plain": [
       "\"sy..ok\""
      ]
     },
     "metadata": {},
     "output_type": "display_data"
    },
    {
     "data": {
      "text/plain": [
       "\"sz..ok\""
      ]
     },
     "metadata": {},
     "output_type": "display_data"
    },
    {
     "data": {
      "text/plain": [
       "\"sxy..ok\""
      ]
     },
     "metadata": {},
     "output_type": "display_data"
    },
    {
     "data": {
      "text/plain": [
       "\"syz..ok\""
      ]
     },
     "metadata": {},
     "output_type": "display_data"
    },
    {
     "data": {
      "text/plain": [
       "\"szx..ok\""
      ]
     },
     "metadata": {},
     "output_type": "display_data"
    },
    {
     "name": "stdout",
     "output_type": "stream",
     "text": [
      "Info    : Running Plugin(Smooth)...\n",
      "Info    : Done running Plugin(Smooth)\n",
      "Info    : Running Plugin(Smooth)...\n",
      "Info    : Done running Plugin(Smooth)\n",
      "Info    : Running Plugin(Smooth)...\n",
      "Info    : Done running Plugin(Smooth)\n",
      "Info    : Running Plugin(Smooth)...\n",
      "Info    : Done running Plugin(Smooth)\n",
      "Info    : Running Plugin(Smooth)...\n",
      "Info    : Done running Plugin(Smooth)\n",
      "Info    : Running Plugin(Smooth)...\n",
      "Info    : Done running Plugin(Smooth)\n",
      "Info    : Running Plugin(Smooth)...\n",
      "Info    : Done running Plugin(Smooth)\n"
     ]
    },
    {
     "data": {
      "text/plain": [
       "10"
      ]
     },
     "metadata": {},
     "output_type": "display_data"
    }
   ],
   "source": [
    "u = FEM.showDisplacementResults(problem, q, \"uvec\", name=\"uvec\", visible=false)\n",
    "ux = FEM.showDisplacementResults(problem, q, \"ux\", name=\"ux\", visible=false)\n",
    "uy = FEM.showDisplacementResults(problem, q, \"uy\", name=\"uy\", visible=false)\n",
    "uz = FEM.showDisplacementResults(problem, q, \"uz\", name=\"uz\", visible=false)\n",
    "s = FEM.showStressResults(problem, S, \"s\", name=\"σ\", visible=true, smooth=true)\n",
    "sx = FEM.showStressResults(problem, S, \"sx\", name=\"σx\", visible=false, smooth=true)\n",
    "sy = FEM.showStressResults(problem, S, \"sy\", name=\"σy\", visible=false, smooth=true)\n",
    "sz = FEM.showStressResults(problem, S, \"sz\", name=\"σz\", visible=false, smooth=true)\n",
    "sxy = FEM.showStressResults(problem, S, \"sxy\", name=\"τxy\", visible=false, smooth=true)\n",
    "syz = FEM.showStressResults(problem, S, \"syz\", name=\"τyz\", visible=false, smooth=true)\n",
    "szx = FEM.showStressResults(problem, S, \"szx\", name=\"τzx\", visible=false, smooth=true)"
   ]
  },
  {
   "cell_type": "code",
   "execution_count": 29,
   "metadata": {},
   "outputs": [],
   "source": [
    "FEM.plotOnPath(problem, \"path\", sx, 100, name=\"σx\", visible=false);\n",
    "FEM.plotOnPath(problem, \"path\", sxy, 100, name=\"τxy\", visible=false);\n",
    "FEM.plotOnPath(problem, \"path\", ux, 100, name=\"ux\", visible=false);"
   ]
  },
  {
   "cell_type": "code",
   "execution_count": 30,
   "metadata": {},
   "outputs": [],
   "source": [
    "#gmsh.option.setNumber(\"PostProcessing.Binary\", 1)\n",
    "#gmsh.option.setNumber(\"PostProcessing.SaveMesh\", 1)\n",
    "\n",
    "#gmsh.write(\"rect.msh\")\n",
    "#gmsh.write(\"rect.opt\")\n",
    "#gmsh.view.write(4, \"rect.pos\")"
   ]
  },
  {
   "cell_type": "code",
   "execution_count": 31,
   "metadata": {},
   "outputs": [
    {
     "name": "stdout",
     "output_type": "stream",
     "text": [
      "-------------------------------------------------------\n",
      "Version       : 4.12.2\n",
      "License       : GNU General Public License\n",
      "Build OS      : Linux64-sdk\n",
      "Build date    : 20240121\n",
      "Build host    : gmsh.info\n",
      "Build options : 64Bit ALGLIB[contrib] ANN[contrib] Bamg Blas[petsc] Blossom Cgns DIntegration Dlopen DomHex Eigen[contrib] Fltk Gmm[contrib] Hxt Jpeg Kbipack Lapack[petsc] LinuxJoystick MathEx[contrib] Med Mesh Metis[contrib] Mmg Mpeg Netgen ONELAB ONELABMetamodel OpenCASCADE OpenCASCADE-CAF OpenGL OpenMP OptHom PETSc Parser Plugins Png Post QuadMeshingTools QuadTri Solver TetGen/BR Voro++[contrib] WinslowUntangler Zlib\n",
      "FLTK version  : 1.4.0\n",
      "PETSc version : 3.14.4 (real arithmtic)\n",
      "OCC version   : 7.7.2\n",
      "MED version   : 4.1.0\n",
      "Packaged by   : geuzaine\n",
      "Web site      : https://gmsh.info\n",
      "Issue tracker : https://gitlab.onelab.info/gmsh/gmsh/issues\n",
      "-------------------------------------------------------\n"
     ]
    }
   ],
   "source": [
    "gmsh.fltk.run()"
   ]
  },
  {
   "cell_type": "code",
   "execution_count": 32,
   "metadata": {
    "slideshow": {
     "slide_type": ""
    },
    "tags": []
   },
   "outputs": [],
   "source": [
    "gmsh.finalize()"
   ]
  }
 ],
 "metadata": {
  "kernelspec": {
   "display_name": "Julia 1.10.0",
   "language": "julia",
   "name": "julia-1.10"
  },
  "language_info": {
   "file_extension": ".jl",
   "mimetype": "application/julia",
   "name": "julia",
   "version": "1.10.0"
  },
  "varInspector": {
   "cols": {
    "lenName": 16,
    "lenType": 16,
    "lenVar": 40
   },
   "kernels_config": {
    "python": {
     "delete_cmd_postfix": "",
     "delete_cmd_prefix": "del ",
     "library": "var_list.py",
     "varRefreshCmd": "print(var_dic_list())"
    },
    "r": {
     "delete_cmd_postfix": ") ",
     "delete_cmd_prefix": "rm(",
     "library": "var_list.r",
     "varRefreshCmd": "cat(var_dic_list()) "
    }
   },
   "types_to_exclude": [
    "module",
    "function",
    "builtin_function_or_method",
    "instance",
    "_Feature"
   ],
   "window_display": false
  }
 },
 "nbformat": 4,
 "nbformat_minor": 4
}
