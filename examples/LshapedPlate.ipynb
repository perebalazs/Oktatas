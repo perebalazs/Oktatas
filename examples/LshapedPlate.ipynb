{
 "cells": [
  {
   "cell_type": "code",
   "execution_count": 305,
   "metadata": {},
   "outputs": [
    {
     "name": "stderr",
     "output_type": "stream",
     "text": [
      "WARNING: replacing module FEM.\n"
     ]
    }
   ],
   "source": [
    "using LinearAlgebra, SparseArrays\n",
    "import gmsh\n",
    "gmsh.initialize()\n",
    "\n",
    "include(\"../src/FEM.jl\")\n",
    "using .FEM"
   ]
  },
  {
   "cell_type": "code",
   "execution_count": 306,
   "metadata": {},
   "outputs": [
    {
     "data": {
      "text/plain": [
       "Main.FEM.Problem(\"Lshape\", \"PlaneStress\", 2, 200000.0, 0.3, 7.85e-9, 1.0)"
      ]
     },
     "metadata": {},
     "output_type": "display_data"
    }
   ],
   "source": [
    "# Adatok\n",
    "E = 2e5\n",
    "ν = 0.3\n",
    "thickness = 1\n",
    "\n",
    "problem = FEM.Problem(\"Lshape\", type=\"PlaneStress\", E=E, ν=ν, thickness=thickness)"
   ]
  },
  {
   "cell_type": "code",
   "execution_count": 307,
   "metadata": {},
   "outputs": [
    {
     "name": "stdout",
     "output_type": "stream",
     "text": [
      "Info    : Reading 'LshapedPlate2.geo'...\n",
      "Info    : Meshing 1D...\n",
      "Info    : [  0%] Meshing curve 1 (Line)\n",
      "Info    : [ 20%] Meshing curve 2 (Line)\n",
      "Info    : [ 30%] Meshing curve 3 (Line)\n",
      "Info    : [ 50%] Meshing curve 4 (Circle)\n",
      "Info    : [ 60%] Meshing curve 5 (Line)\n",
      "Info    : [ 80%] Meshing curve 6 (Line)\n",
      "Info    : [ 90%] Meshing curve 7 (Line)\n",
      "Info    : Done meshing 1D (Wall 0.00643305s, CPU 0.006433s)\n",
      "Info    : Meshing 2D...\n",
      "Info    : Meshing surface 1 (Plane, Frontal-Delaunay)\n",
      "Info    : Done meshing 2D (Wall 0.00723304s, CPU 0.007181s)\n",
      "Info    : Meshing order 4 (curvilinear on)...\n",
      "Info    : [  0%] Meshing curve 1 order 4\n",
      "Info    : [ 20%] Meshing curve 2 order 4\n",
      "Info    : [ 30%] Meshing curve 3 order 4\n",
      "Info    : [ 40%] Meshing curve 4 order 4\n",
      "Info    : [ 50%] Meshing curve 5 order 4\n",
      "Info    : [ 70%] Meshing curve 6 order 4\n",
      "Info    : [ 80%] Meshing curve 7 order 4\n",
      "Info    : [ 90%] Meshing surface 1 order 4\n",
      "Info    : Surface mesh: worst distortion = 0.776535 (0 elements in ]0, 0.2]); worst gamma = 0.746895\n",
      "Info    : Done meshing order 4 (Wall 0.00549735s, CPU 0.005437s)\n",
      "Info    : Optimizing mesh (HighOrder)...\n",
      "Info    : Optimizing high-order mesh...\n",
      "Info    : Optimizing mesh...\n",
      "Info    : Computing connectivity and bad elements for entity 1...\n",
      "Info    : Starting patch generation from 0 bad elements...\n",
      "Info    : Constructing 0 primary patches\n",
      "Info    : Computing patch connectivity...\n",
      "Info    : Identifying groups of primary patches...\n",
      "Info    : Merging primary patches into 0 patches...\n",
      "Info    : Computing boundaries for 0 patches...\n",
      "Info    : Generated 0 patches\n",
      "Info    : Optimization succeeded\n",
      "Info    : Done optimizing mesh (0.001364 s)\n",
      "Info    : Done optimizing high-order mesh (0.001364 s)\n",
      "Info    : Done optimizing mesh (Wall 0.00148052s, CPU 0.001482s)\n",
      "Info    : 2696 nodes 380 elements\n",
      "Info    : Done reading 'LshapedPlate2.geo'\n"
     ]
    }
   ],
   "source": [
    "#gmsh.open(\"LshapedPlate.geo\")\n",
    "gmsh.open(\"LshapedPlate2.geo\")"
   ]
  },
  {
   "cell_type": "code",
   "execution_count": 308,
   "metadata": {},
   "outputs": [
    {
     "data": {
      "text/plain": [
       "(\"load\", 0, -1, 0)"
      ]
     },
     "metadata": {},
     "output_type": "display_data"
    }
   ],
   "source": [
    "bc1 = FEM.displacementConstraint(\"fix\", ux=0, uy=0)\n",
    "ld1 = FEM.traction(\"load\", fy=-1)"
   ]
  },
  {
   "cell_type": "code",
   "execution_count": 309,
   "metadata": {},
   "outputs": [
    {
     "name": "stdout",
     "output_type": "stream",
     "text": [
      "-------------------------------------------------------\n",
      "Version       : 4.12.2\n",
      "License       : GNU General Public License\n",
      "Build OS      : Linux64-sdk\n",
      "Build date    : 20240121\n",
      "Build host    : gmsh.info\n",
      "Build options : 64Bit ALGLIB[contrib] ANN[contrib] Bamg Blas[petsc] Blossom Cgns DIntegration Dlopen DomHex Eigen[contrib] Fltk Gmm[contrib] Hxt Jpeg Kbipack Lapack[petsc] LinuxJoystick MathEx[contrib] Med Mesh Metis[contrib] Mmg Mpeg Netgen ONELAB ONELABMetamodel OpenCASCADE OpenCASCADE-CAF OpenGL OpenMP OptHom PETSc Parser Plugins Png Post QuadMeshingTools QuadTri Solver TetGen/BR Voro++[contrib] WinslowUntangler Zlib\n",
      "FLTK version  : 1.4.0\n",
      "PETSc version : 3.14.4 (real arithmtic)\n",
      "OCC version   : 7.7.2\n",
      "MED version   : 4.1.0\n",
      "Packaged by   : geuzaine\n",
      "Web site      : https://gmsh.info\n",
      "Issue tracker : https://gitlab.onelab.info/gmsh/gmsh/issues\n",
      "-------------------------------------------------------\n",
      "Info    : Recombining 2D mesh...\n",
      "Info    : Blossom recombination completed (Wall 0.0194124s, CPU 0.019259s): 0 quads, 325 triangles, 0 invalid quads, 0 quads with Q < 0.1, avg Q = -nan, min Q = 1\n",
      "Info    : Done recombining 2D mesh (Wall 0.019444s, CPU 0.019289s)\n",
      "Info    : Meshing order 3 (curvilinear on)...\n",
      "Info    : [  0%] Meshing curve 1 order 3\n",
      "Info    : [ 20%] Meshing curve 2 order 3\n",
      "Info    : [ 30%] Meshing curve 3 order 3\n",
      "Info    : [ 40%] Meshing curve 4 order 3\n",
      "Info    : [ 50%] Meshing curve 5 order 3\n",
      "Info    : [ 60%] Meshing curve 6 order 3\n",
      "Info    : [ 70%] Meshing curve 7 order 3\n",
      "Info    : [ 80%] Meshing curve 8 order 3\n",
      "Info    : [ 90%] Meshing surface 1 order 3\n",
      "Info    : Surface mesh: worst distortion = 0.78037 (0 elements in ]0, 0.2]); worst gamma = 0.822028\n",
      "Info    : Done meshing order 3 (Wall 0.00298764s, CPU 0.002977s)\n",
      "Info    : Meshing order 3 (curvilinear on)...\n",
      "Info    : [  0%] Meshing curve 1 order 3\n",
      "Info    : [ 20%] Meshing curve 2 order 3\n",
      "Info    : [ 30%] Meshing curve 3 order 3\n",
      "Info    : [ 40%] Meshing curve 4 order 3\n",
      "Info    : [ 50%] Meshing curve 5 order 3\n",
      "Info    : [ 60%] Meshing curve 6 order 3\n",
      "Info    : [ 70%] Meshing curve 7 order 3\n",
      "Info    : [ 80%] Meshing curve 8 order 3\n",
      "Info    : [ 90%] Meshing surface 1 order 3\n",
      "Info    : Surface mesh: worst distortion = 0.78037 (0 elements in ]0, 0.2]); worst gamma = 0.822028\n",
      "Info    : Done meshing order 3 (Wall 0.00195721s, CPU 0.001959s)\n",
      "Info    : Meshing order 3 (curvilinear on)...\n",
      "Info    : [  0%] Meshing curve 1 order 3\n",
      "Info    : [ 20%] Meshing curve 2 order 3\n",
      "Info    : [ 30%] Meshing curve 3 order 3\n",
      "Info    : [ 40%] Meshing curve 4 order 3\n",
      "Info    : [ 50%] Meshing curve 5 order 3\n",
      "Info    : [ 60%] Meshing curve 6 order 3\n",
      "Info    : [ 70%] Meshing curve 7 order 3\n",
      "Info    : [ 80%] Meshing curve 8 order 3\n",
      "Info    : [ 90%] Meshing surface 1 order 3\n",
      "Info    : Surface mesh: worst distortion = 0.78037 (0 elements in ]0, 0.2]); worst gamma = 0.822028\n",
      "Info    : Done meshing order 3 (Wall 0.00206875s, CPU 0.00113s)\n",
      "Info    : Recombining 2D mesh...\n",
      "Info    : Blossom recombination completed (Wall 0.00645149s, CPU 0.006448s): 0 quads, 325 triangles, 0 invalid quads, 0 quads with Q < 0.1, avg Q = -nan, min Q = 1\n",
      "Info    : Done recombining 2D mesh (Wall 0.00648076s, CPU 0.006485s)\n",
      "Info    : Meshing order 3 (curvilinear on)...\n",
      "Info    : [  0%] Meshing curve 1 order 3\n",
      "Info    : [ 20%] Meshing curve 2 order 3\n",
      "Info    : [ 30%] Meshing curve 3 order 3\n",
      "Info    : [ 40%] Meshing curve 4 order 3\n",
      "Info    : [ 50%] Meshing curve 5 order 3\n",
      "Info    : [ 60%] Meshing curve 6 order 3\n",
      "Info    : [ 70%] Meshing curve 7 order 3\n",
      "Info    : [ 80%] Meshing curve 8 order 3\n",
      "Info    : [ 90%] Meshing surface 1 order 3\n",
      "Info    : Done meshing order 3 (Wall 0.0020394s, CPU 0.001043s)\n",
      "Info    : Meshing order 3 (curvilinear on)...\n",
      "Info    : [  0%] Meshing curve 1 order 3\n",
      "Info    : [ 20%] Meshing curve 2 order 3\n",
      "Info    : [ 30%] Meshing curve 3 order 3\n",
      "Info    : [ 40%] Meshing curve 4 order 3\n",
      "Info    : [ 50%] Meshing curve 5 order 3\n",
      "Info    : [ 60%] Meshing curve 6 order 3\n",
      "Info    : [ 70%] Meshing curve 7 order 3\n",
      "Info    : [ 80%] Meshing curve 8 order 3\n",
      "Info    : [ 90%] Meshing surface 1 order 3\n",
      "Info    : Done meshing order 3 (Wall 0.00166165s, CPU 0.001662s)\n",
      "Info    : Refining mesh...\n",
      "Info    : Meshing order 2 (curvilinear on)...\n",
      "Info    : [  0%] Meshing curve 1 order 2\n",
      "Info    : [ 20%] Meshing curve 2 order 2\n",
      "Info    : [ 30%] Meshing curve 3 order 2\n",
      "Info    : [ 40%] Meshing curve 4 order 2\n",
      "Info    : [ 50%] Meshing curve 5 order 2\n",
      "Info    : [ 60%] Meshing curve 6 order 2\n",
      "Info    : [ 70%] Meshing curve 7 order 2\n",
      "Info    : [ 80%] Meshing curve 8 order 2\n",
      "Info    : [ 90%] Meshing surface 1 order 2\n",
      "Info    : Surface mesh: worst distortion = 0.809895 (0 elements in ]0, 0.2]); worst gamma = 0.830605\n",
      "Info    : Done meshing order 2 (Wall 0.00150225s, CPU 0.001458s)\n",
      "Info    : Done refining mesh (Wall 0.00210945s, CPU 0.002068s)\n",
      "Info    : Meshing order 3 (curvilinear on)...\n",
      "Info    : [  0%] Meshing curve 1 order 3\n",
      "Info    : [ 20%] Meshing curve 2 order 3\n",
      "Info    : [ 30%] Meshing curve 3 order 3\n",
      "Info    : [ 40%] Meshing curve 4 order 3\n",
      "Info    : [ 50%] Meshing curve 5 order 3\n",
      "Info    : [ 60%] Meshing curve 6 order 3\n",
      "Info    : [ 70%] Meshing curve 7 order 3\n",
      "Info    : [ 80%] Meshing curve 8 order 3\n",
      "Info    : [ 90%] Meshing surface 1 order 3\n",
      "Info    : Surface mesh: worst distortion = 0.870641 (0 elements in ]0, 0.2]); worst gamma = 0.821816\n",
      "Info    : Done meshing order 3 (Wall 0.0133091s, CPU 0.013283s)\n"
     ]
    },
    {
     "name": "stderr",
     "output_type": "stream",
     "text": [
      "Warning : Cannot apply Blossom: odd number of triangles (325) in surface 1\n",
      "Warning : Cannot apply Blossom: odd number of triangles (325) in surface 1\n",
      "Warning : Surface mesh: worst distortion = -6.1667 (avg = -4.77547, 325 elements with jac. < 0); worst gamma = 0.830605\n",
      "Warning : Surface mesh: worst distortion = -6.1667 (avg = -4.77547, 325 elements with jac. < 0); worst gamma = 0.830605\n"
     ]
    }
   ],
   "source": [
    "gmsh.fltk.run()"
   ]
  },
  {
   "cell_type": "code",
   "execution_count": 310,
   "metadata": {},
   "outputs": [],
   "source": [
    "# Néhány láthatósági beállítás 0:kikapcs. 1:bekapcs.\n",
    "gmsh.option.setNumber(\"Geometry.CurveLabels\", 0)\n",
    "gmsh.option.setNumber(\"Geometry.Points\", 0)\n",
    "gmsh.option.setNumber(\"Geometry.Curves\", 0)\n",
    "gmsh.option.setNumber(\"Mesh.Points\", 0)\n",
    "gmsh.option.setNumber(\"Mesh.Lines\", 0)\n",
    "gmsh.option.setNumber(\"Mesh.SurfaceEdges\", 0)\n",
    "gmsh.option.setNumber(\"Mesh.NodeLabels\", 0)\n",
    "gmsh.option.setNumber(\"Mesh.LineLabels\", 0)\n",
    "gmsh.option.setNumber(\"Mesh.SurfaceLabels\", 0)"
   ]
  },
  {
   "cell_type": "code",
   "execution_count": 311,
   "metadata": {},
   "outputs": [
    {
     "data": {
      "text/plain": [
       "11984×11984 SparseMatrixCSC{Float64, Int64} with 400624 stored entries:\n",
       "⎡⡿⣯⡁⣿⣿⠇⢢⢢⠺⠰⡇⠰⡈⣹⣾⣭⢭⣘⣿⣾⠂⢦⣞⡽⢎⠚⢠⣠⠜⠃⠀⢂⠧⠀⠀⠤⠠⠀⠀⠁⎤\n",
       "⎢⣥⣬⣿⣿⣿⣿⣿⣿⣿⣿⣿⣿⣿⣿⣿⣿⣿⣟⣿⡽⣿⣿⣟⣿⣿⣻⣛⡿⣿⡿⣛⣿⣿⣿⡿⡿⠿⣿⡿⠿⎥\n",
       "⎢⠿⠟⣿⣿⣿⣿⣿⣾⢛⣽⣟⣿⣟⣟⢿⣿⣿⡿⣿⡻⣿⣿⣿⣿⣿⣿⣿⣿⣿⣷⣿⣿⣟⣿⣿⣿⣿⣿⣵⣗⎥\n",
       "⎢⠨⣒⣿⣿⣻⣿⣿⣿⡕⣉⢐⢫⣔⢠⣒⠈⠈⠁⠃⠊⢩⠫⠋⠍⠚⠈⠁⡑⠭⠛⠉⠩⠈⠪⠹⡉⠉⠍⠉⣉⎥\n",
       "⎢⢚⡂⣿⣿⣟⣴⡕⢩⣿⣿⣜⠺⣙⠦⢁⡂⡖⠄⠈⠊⠁⡂⠀⠐⠀⢀⠀⠀⠠⢀⠀⡀⠒⠀⠀⡀⠀⡌⡀⡥⎥\n",
       "⎢⢉⡉⣿⣿⣿⣽⡴⣐⣲⡙⠿⣧⣰⢋⠤⠐⠎⡭⠋⡀⣦⠐⣁⠠⡳⠔⠆⠁⢄⡀⠹⠀⠜⡔⡀⠀⠀⠠⠂⠀⎥\n",
       "⎢⣆⣨⣿⣿⣿⢽⠐⣙⠳⡜⡴⢚⡿⣯⣷⡗⠢⢌⠉⠀⠀⠀⡩⠩⣝⠈⠀⠀⠠⠀⠀⡨⠀⢐⠀⡄⠀⡀⠀⠀⎥\n",
       "⎢⡞⣿⣿⣿⣿⣷⡘⠘⠡⠰⢀⠃⢽⠿⢿⣷⡃⠀⣭⣠⢙⢈⡠⡰⠀⠀⣪⠐⡂⡀⠄⠀⠂⢀⡠⠀⠘⠀⡀⠀⎥\n",
       "⎢⣃⢳⣿⢿⣿⡿⠆⠀⠘⠍⡎⡥⡈⢆⠉⠈⠻⣦⡄⢀⠤⡞⠁⢂⠡⣊⠛⣼⡃⠀⡤⠒⠇⠉⠢⠙⠍⠶⠀⡀⎥\n",
       "⎢⣻⣿⣟⡿⣿⡻⡩⠀⡢⠀⠋⠠⠃⠀⠃⣻⠀⢉⠻⣦⡲⠧⣷⡶⠄⡀⠁⡈⢐⠂⠁⠃⠤⠀⠈⠀⠈⠉⠀⠀⎥\n",
       "⎢⠨⣄⣿⣿⣿⣿⡧⡒⠡⠠⢈⠛⠀⠀⡓⢐⣠⠧⠼⡎⠻⣦⡄⡳⠴⢆⡘⠠⡔⡒⠵⠄⡡⠀⠈⢈⠊⠨⠀⠃⎥\n",
       "⎢⣞⡽⣿⣽⣿⣿⡏⠄⢀⠀⠁⡘⡇⡊⢀⡪⠡⢀⢹⡿⢤⡩⢻⣶⣳⠰⠠⣑⡱⢎⠀⠰⡈⢁⣀⠊⢂⠃⠘⢐⎥\n",
       "⎢⣪⠑⣿⣻⣿⣿⡚⠀⠀⢀⢙⠎⡓⠙⠀⠀⡡⢢⠀⠡⠰⢇⢙⡚⢻⣶⡆⠱⢠⡍⡴⢾⡔⡏⠆⢃⠂⠀⠀⡆⎥\n",
       "⎢⠀⣲⣿⡼⣿⣿⢅⠠⠀⠀⠌⠁⠀⠀⢊⠚⣛⣤⡁⠠⠒⡈⢄⢢⢌⡉⣿⣿⣡⠲⢓⣡⡀⠏⣀⣐⢨⠅⠩⠀⎥\n",
       "⎢⠶⠁⣿⡿⢿⣿⣧⠃⠀⢂⠀⠱⠀⠂⠈⠨⠉⠈⠰⠐⢰⠩⡱⢎⡄⠶⢡⡚⢿⣷⣄⢙⠃⣇⡂⡨⣂⡀⠃⠆⎥\n",
       "⎢⠠⢀⣿⣼⣿⣿⡇⡀⠀⠠⠓⠂⡀⡠⠀⠁⢠⠋⠥⠀⠑⠇⢀⡀⣰⣏⠝⣰⣄⢙⢻⣶⣢⠮⢖⠾⢃⣵⡔⠃⎥\n",
       "⎢⠉⠃⣿⣿⣿⣽⡢⡀⠘⠀⢒⠥⢀⢀⠈⢀⡍⠁⠀⠃⠁⠊⠆⢈⡴⠭⡤⠌⠭⢤⡨⡞⣿⣿⣇⡾⢟⣴⣺⠀⎥\n",
       "⎢⠀⡄⣿⡯⣿⣿⡗⠢⠀⠠⠀⠈⠀⠤⠀⠊⣌⠂⠂⠀⡂⢀⡠⠘⠬⢁⢀⢸⡈⡨⣸⡕⣩⡽⡿⣯⣼⢜⣣⡬⎥\n",
       "⎢⠀⠂⣿⣧⣿⣿⡇⠄⡀⠤⠀⡀⠀⠠⠒⠀⢣⡅⡆⠀⡊⡀⠬⠐⠈⠀⠆⠖⠈⠸⢍⣴⢛⣵⣒⢟⡻⣮⣯⡣⎥\n",
       "⎣⠄⠀⣿⡏⢵⢿⡇⢠⠄⡬⠈⠀⠀⠀⠀⠈⠀⠠⠀⠀⠤⠀⢒⢀⠠⠤⠃⠂⠩⠄⠴⠉⠚⠚⡉⡾⠯⡻⢿⣷⎦"
      ]
     },
     "metadata": {},
     "output_type": "display_data"
    }
   ],
   "source": [
    "K = FEM.stiffnessMatrix(problem)"
   ]
  },
  {
   "cell_type": "code",
   "execution_count": 312,
   "metadata": {},
   "outputs": [
    {
     "data": {
      "text/plain": [
       "(sparse([1, 2, 15, 16, 41, 42, 43, 44, 507, 508  …  10349, 10350, 10351, 10352, 11975, 11976, 11977, 11978, 11983, 11984], [1, 1, 1, 1, 1, 1, 1, 1, 1, 1  …  11984, 11984, 11984, 11984, 11984, 11984, 11984, 11984, 11984, 11984], [105169.0813210948, 41507.938166471955, -10048.401282829196, 1695.4738994070099, -76052.45987069221, 15551.8975536615, 40221.897830615, -4067.15756804089, 2017.6247677544475, 2258.7741251386574  …  145839.5005036418, -36717.8977363959, -126759.52737133921, -368473.8635800154, -127621.2471396651, -137703.39411274975, 145839.50050364065, -36717.89773638293, 217082.548014735, 1.0857903108583167e6], 11984, 11984), [0.0; 0.0; … ; 0.0; 0.0;;])"
      ]
     },
     "metadata": {},
     "output_type": "display_data"
    }
   ],
   "source": [
    "K, f = FEM.applyBoundaryConditions!(problem, K, [bc1], [ld1])"
   ]
  },
  {
   "cell_type": "code",
   "execution_count": 313,
   "metadata": {},
   "outputs": [
    {
     "data": {
      "text/plain": [
       "11984×1 Matrix{Float64}:\n",
       " -0.008395839313810178\n",
       "  0.002689199456554872\n",
       " -0.0098483521541372\n",
       " -0.012110317513770716\n",
       " -0.001036452496357365\n",
       " -0.012130678040286771\n",
       " -0.0018219171265757993\n",
       " -0.002942940358352288\n",
       " -0.0019286577026260813\n",
       " -0.0025215268122278783\n",
       "  ⋮\n",
       " -0.0022680204624162936\n",
       " -0.0024901384081857216\n",
       " -0.0022802741676877653\n",
       " -0.00248085096548105\n",
       " -0.002341177547542982\n",
       " -0.0024031789412758044\n",
       " -0.00239012502671153\n",
       " -0.002433351009760303\n",
       " -0.002209434730608941"
      ]
     },
     "metadata": {},
     "output_type": "display_data"
    }
   ],
   "source": [
    "q = FEM.solveDisplacement(K, f)"
   ]
  },
  {
   "cell_type": "code",
   "execution_count": 314,
   "metadata": {},
   "outputs": [
    {
     "data": {
      "text/plain": [
       "([[1.1929844204075923, 0.027132922982604255, 0.0, 0.027132922982604255, 2.3095745206033222, 0.0, 0.0, 0.0, 0.0, 1.5937591948103886  …  0.0, 1.3211551798241015, -0.1327837878114422, 0.0, -0.1327837878114422, 3.052640481808801, 0.0, 0.0, 0.0, 0.0], [1.5931539107677448, -0.1382655304096056, 0.0, -0.1382655304096056, 3.1885005964236837, 0.0, 0.0, 0.0, 0.0, 1.545991375297607  …  0.0, 1.4427240037165059, -0.3264755294814735, 0.0, -0.3264755294814735, 3.835022204511401, 0.0, 0.0, 0.0, 0.0], [1.5942286790518916, -0.13888647151201816, 0.0, -0.13888647151201816, 3.1912050544929578, 0.0, 0.0, 0.0, 0.0, 2.149963762359765  …  0.0, 1.7674800109988524, -0.3681001301356469, 0.0, -0.3681001301356469, 3.963681018813846, 0.0, 0.0, 0.0, 0.0], [1.1733071932453907, -0.27131327132031774, 0.0, -0.27131327132031774, 3.670146892207379, 0.0, 0.0, 0.0, 0.0, 1.5439367853061632  …  0.0, 1.2350325775891995, -0.4576827382524691, 0.0, -0.4576827382524691, 4.500684768314787, 0.0, 0.0, 0.0, 0.0], [2.494033911007784, 0.7281931732943933, 0.0, 0.7281931732943933, 5.1491874138988045, 0.0, 0.0, 0.0, 0.0, 2.7451844057598382  …  0.0, 2.867678451055383, 0.5221857168030823, 0.0, 0.5221857168030823, 5.689732875618923, 0.0, 0.0, 0.0, 0.0], [2.740765046260421, 0.22035150080765986, 0.0, 0.22035150080765986, 6.057806028327854, 0.0, 0.0, 0.0, 0.0, 3.847481917180637  …  0.0, 3.31297909824417, 0.27386225543429976, 0.0, 0.27386225543429976, 6.3164368029263365, 0.0, 0.0, 0.0, 0.0], [2.7493033257954114, 0.2178376842585512, 0.0, 0.2178376842585512, 6.06174944205666, 0.0, 0.0, 0.0, 0.0, 3.011048635780416  …  0.0, 3.1590599109823634, -0.10157016960006526, 0.0, -0.10157016960006526, 6.722206952060305, 0.0, 0.0, 0.0, 0.0], [3.4097355849397752, 0.4997848124491247, 0.0, 0.4997848124491247, 5.832581666384796, 0.0, 0.0, 0.0, 0.0, 3.8508763050497143  …  0.0, 3.963501176505668, 0.25197602762615856, 0.0, 0.25197602762615856, 6.4808590925299185, 0.0, 0.0, 0.0, 0.0], [-0.002168208586807073, -1.0018144988794158, 0.0, -1.0018144988794158, -0.17226882753567513, 0.0, 0.0, 0.0, 0.0, 0.04015910900406104  …  0.0, 0.015381168178287344, -1.3260448696004528, 0.0, -1.3260448696004528, -0.22877539491828716, 0.0, 0.0, 0.0, 0.0], [0.0440714472797189, -1.3527953376670443, 0.0, -1.3527953376670443, -0.32824532207760043, 0.0, 0.0, 0.0, 0.0, 0.2414492768186328  …  0.0, 0.08155588365037277, -1.4599141606968407, 0.0, -1.4599141606968407, -0.17487871493694657, 0.0, 0.0, 0.0, 0.0]  …  [3.028231409983085, 0.4818983775683684, 0.0, 0.4818983775683684, 3.634559019573648, 0.0, 0.0, 0.0, 0.0, 3.2516497041636665  …  0.0, 3.0465040853042202, 0.24654071297040012, 0.0, 0.24654071297040012, 3.7531034729101096, 0.0, 0.0, 0.0, 0.0], [2.6199437611581198, 0.7151843952195578, 0.0, 0.7151843952195578, 2.963411446106613, 0.0, 0.0, 0.0, 0.0, 2.823534310059871  …  0.0, 2.643163284315446, 0.5200999311118673, 0.0, 0.5200999311118673, 3.0584889347261455, 0.0, 0.0, 0.0, 0.0], [6.580721102576426, -2.2391096450502195, 0.0, -2.2391096450502195, 10.99078866896718, 0.0, 0.0, 0.0, 0.0, 7.063060304837556  …  0.0, 7.063880690480707, -2.747930993522194, 0.0, -2.747930993522194, 11.53858106675592, 0.0, 0.0, 0.0, 0.0], [7.063945111754405, -3.3874046939214906, 0.0, -3.3874046939214906, 11.398271381909504, 0.0, 0.0, 0.0, 0.0, 8.485681527061068  …  0.0, 7.676625382298398, -3.4082990246022185, 0.0, -3.4082990246022185, 12.089007193257903, 0.0, 0.0, 0.0, 0.0], [7.0606498102379796, -3.383357760849997, 0.0, -3.383357760849997, 11.393300689308738, 0.0, 0.0, 0.0, 0.0, 7.944379860566476  …  0.0, 7.751389891798364, -4.166658677647565, 0.0, -4.166658677647565, 11.682135500593821, 0.0, 0.0, 0.0, 0.0], [7.708257152659414, -2.7302613221710827, 0.0, -2.7302613221710827, 12.08644362676452, 0.0, 0.0, 0.0, 0.0, 8.492645270131934  …  0.0, 8.43305700645967, -3.433786323260166, 0.0, -3.433786323260166, 12.817052289878594, 0.0, 0.0, 0.0, 0.0], [3.0088132900550653, -0.6410922908572468, 0.0, -0.6410922908572468, 6.917301909231583, 0.0, 0.0, 0.0, 0.0, 3.921169371833886  …  0.0, 3.5643130311972833, -0.41940141961621463, 0.0, -0.41940141961621463, 7.33437757561216, 0.0, 0.0, 0.0, 0.0], [3.9291849902655693, -0.6996914780694108, 0.0, -0.6996914780694108, 7.886942732748723, 0.0, 0.0, 0.0, 0.0, 5.0751342874188206  …  0.0, 4.260254486678924, -0.23255741529358714, 0.0, -0.23255741529358714, 7.580811369657821, 0.0, 0.0, 0.0, 0.0], [3.9092872195564983, -0.7142839898057634, 0.0, -0.7142839898057634, 7.8550397341072085, 0.0, 0.0, 0.0, 0.0, 5.346058947910857  …  0.0, 4.754152673676183, -0.47685285755381857, 0.0, -0.47685285755381857, 8.183299848400583, 0.0, 0.0, 0.0, 0.0], [3.8293145684007914, -0.032884939321458195, 0.0, -0.032884939321458195, 7.061590945704216, 0.0, 0.0, 0.0, 0.0, 5.045659668919215  …  0.0, 4.526277232178423, 0.007195848073183566, 0.0, 0.007195848073183566, 7.088867038082468, 0.0, 0.0, 0.0, 0.0]], [17, 18, 19, 20, 21, 22, 23, 24, 25, 26  …  1307, 1308, 1309, 1310, 1311, 1312, 1313, 1314, 1315, 1316])"
      ]
     },
     "metadata": {},
     "output_type": "display_data"
    }
   ],
   "source": [
    "S = FEM.solveStress(problem, q)"
   ]
  },
  {
   "cell_type": "code",
   "execution_count": 315,
   "metadata": {},
   "outputs": [],
   "source": [
    "gmsh.option.setNumber(\"View.IntervalsType\", 3)\n",
    "gmsh.option.setNumber(\"View.VectorType\", 5)\n",
    "gmsh.option.setString(\"View.Format\", \"%.6g\")"
   ]
  },
  {
   "cell_type": "code",
   "execution_count": 316,
   "metadata": {},
   "outputs": [
    {
     "data": {
      "text/plain": [
       "\"uvec..ok\""
      ]
     },
     "metadata": {},
     "output_type": "display_data"
    },
    {
     "data": {
      "text/plain": [
       "\"ux..ok\""
      ]
     },
     "metadata": {},
     "output_type": "display_data"
    },
    {
     "data": {
      "text/plain": [
       "\"uy..ok\""
      ]
     },
     "metadata": {},
     "output_type": "display_data"
    },
    {
     "data": {
      "text/plain": [
       "\"uz..ok\""
      ]
     },
     "metadata": {},
     "output_type": "display_data"
    },
    {
     "data": {
      "text/plain": [
       "\"s..ok\""
      ]
     },
     "metadata": {},
     "output_type": "display_data"
    },
    {
     "data": {
      "text/plain": [
       "\"s..ok\""
      ]
     },
     "metadata": {},
     "output_type": "display_data"
    },
    {
     "data": {
      "text/plain": [
       "\"sx..ok\""
      ]
     },
     "metadata": {},
     "output_type": "display_data"
    },
    {
     "data": {
      "text/plain": [
       "\"sy..ok\""
      ]
     },
     "metadata": {},
     "output_type": "display_data"
    },
    {
     "data": {
      "text/plain": [
       "\"sz..ok\""
      ]
     },
     "metadata": {},
     "output_type": "display_data"
    },
    {
     "data": {
      "text/plain": [
       "\"sxy..ok\""
      ]
     },
     "metadata": {},
     "output_type": "display_data"
    },
    {
     "data": {
      "text/plain": [
       "\"syz..ok\""
      ]
     },
     "metadata": {},
     "output_type": "display_data"
    },
    {
     "data": {
      "text/plain": [
       "\"szx..ok\""
      ]
     },
     "metadata": {},
     "output_type": "display_data"
    },
    {
     "name": "stdout",
     "output_type": "stream",
     "text": [
      "Info    : Running Plugin(Smooth)...\n",
      "Info    : Done running Plugin(Smooth)\n",
      "Info    : Running Plugin(Smooth)...\n",
      "Info    : Done running Plugin(Smooth)\n",
      "Info    : Running Plugin(Smooth)...\n",
      "Info    : Done running Plugin(Smooth)\n",
      "Info    : Running Plugin(Smooth)...\n",
      "Info    : Done running Plugin(Smooth)\n",
      "Info    : Running Plugin(Smooth)...\n",
      "Info    : Done running Plugin(Smooth)\n",
      "Info    : Running Plugin(Smooth)...\n",
      "Info    : Done running Plugin(Smooth)\n",
      "Info    : Running Plugin(Smooth)...\n",
      "Info    : Done running Plugin(Smooth)\n"
     ]
    },
    {
     "data": {
      "text/plain": [
       "11"
      ]
     },
     "metadata": {},
     "output_type": "display_data"
    }
   ],
   "source": [
    "u = FEM.showDisplacementResults(problem, q, \"uvec\", name=\"uvec\", visible=false)\n",
    "ux = FEM.showDisplacementResults(problem, q, \"ux\", name=\"ux\", visible=false)\n",
    "uy = FEM.showDisplacementResults(problem, q, \"uy\", name=\"uy\", visible=false)\n",
    "uz = FEM.showDisplacementResults(problem, q, \"uz\", name=\"uz\", visible=false)\n",
    "s = FEM.showStressResults(problem, S, \"s\", name=\"σ red\", visible=false, smooth=false)\n",
    "ss = FEM.showStressResults(problem, S, \"s\", name=\"σ red smooth\", visible=true, smooth=true)\n",
    "sx = FEM.showStressResults(problem, S, \"sx\", name=\"σx\", visible=false, smooth=true)\n",
    "sy = FEM.showStressResults(problem, S, \"sy\", name=\"σy\", visible=false, smooth=true)\n",
    "sz = FEM.showStressResults(problem, S, \"sz\", name=\"σz\", visible=false, smooth=true)\n",
    "sxy = FEM.showStressResults(problem, S, \"sxy\", name=\"τxy\", visible=false, smooth=true)\n",
    "syz = FEM.showStressResults(problem, S, \"syz\", name=\"τyz\", visible=false, smooth=true)\n",
    "szx = FEM.showStressResults(problem, S, \"szx\", name=\"τzx\", visible=false, smooth=true)"
   ]
  },
  {
   "cell_type": "code",
   "execution_count": 317,
   "metadata": {},
   "outputs": [],
   "source": [
    "FEM.plotOnPath(problem, \"path\", s, 100, name=\"σred\", visible=false);"
   ]
  },
  {
   "cell_type": "code",
   "execution_count": 318,
   "metadata": {},
   "outputs": [],
   "source": [
    "#gmsh.option.setNumber(\"PostProcessing.Binary\", 1)\n",
    "#gmsh.option.setNumber(\"PostProcessing.SaveMesh\", 1)\n",
    "\n",
    "#gmsh.write(\"rect.msh\")\n",
    "#gmsh.write(\"rect.opt\")\n",
    "#gmsh.view.write(4, \"rect.pos\")"
   ]
  },
  {
   "cell_type": "code",
   "execution_count": 319,
   "metadata": {},
   "outputs": [
    {
     "name": "stdout",
     "output_type": "stream",
     "text": [
      "-------------------------------------------------------\n",
      "Version       : 4.12.2\n",
      "License       : GNU General Public License\n",
      "Build OS      : Linux64-sdk\n",
      "Build date    : 20240121\n",
      "Build host    : gmsh.info\n",
      "Build options : 64Bit ALGLIB[contrib] ANN[contrib] Bamg Blas[petsc] Blossom Cgns DIntegration Dlopen DomHex Eigen[contrib] Fltk Gmm[contrib] Hxt Jpeg Kbipack Lapack[petsc] LinuxJoystick MathEx[contrib] Med Mesh Metis[contrib] Mmg Mpeg Netgen ONELAB ONELABMetamodel OpenCASCADE OpenCASCADE-CAF OpenGL OpenMP OptHom PETSc Parser Plugins Png Post QuadMeshingTools QuadTri Solver TetGen/BR Voro++[contrib] WinslowUntangler Zlib\n",
      "FLTK version  : 1.4.0\n",
      "PETSc version : 3.14.4 (real arithmtic)\n",
      "OCC version   : 7.7.2\n",
      "MED version   : 4.1.0\n",
      "Packaged by   : geuzaine\n",
      "Web site      : https://gmsh.info\n",
      "Issue tracker : https://gitlab.onelab.info/gmsh/gmsh/issues\n",
      "-------------------------------------------------------\n"
     ]
    }
   ],
   "source": [
    "gmsh.fltk.run()"
   ]
  },
  {
   "cell_type": "code",
   "execution_count": 320,
   "metadata": {
    "slideshow": {
     "slide_type": ""
    },
    "tags": []
   },
   "outputs": [],
   "source": [
    "gmsh.finalize()"
   ]
  }
 ],
 "metadata": {
  "kernelspec": {
   "display_name": "Julia 1.10.0",
   "language": "julia",
   "name": "julia-1.10"
  },
  "language_info": {
   "file_extension": ".jl",
   "mimetype": "application/julia",
   "name": "julia",
   "version": "1.10.0"
  },
  "varInspector": {
   "cols": {
    "lenName": 16,
    "lenType": 16,
    "lenVar": 40
   },
   "kernels_config": {
    "python": {
     "delete_cmd_postfix": "",
     "delete_cmd_prefix": "del ",
     "library": "var_list.py",
     "varRefreshCmd": "print(var_dic_list())"
    },
    "r": {
     "delete_cmd_postfix": ") ",
     "delete_cmd_prefix": "rm(",
     "library": "var_list.r",
     "varRefreshCmd": "cat(var_dic_list()) "
    }
   },
   "types_to_exclude": [
    "module",
    "function",
    "builtin_function_or_method",
    "instance",
    "_Feature"
   ],
   "window_display": false
  }
 },
 "nbformat": 4,
 "nbformat_minor": 4
}
