{
 "cells": [
  {
   "cell_type": "code",
   "execution_count": 1,
   "metadata": {},
   "outputs": [],
   "source": [
    "using LinearAlgebra, SparseArrays\n",
    "import gmsh\n",
    "gmsh.initialize()\n",
    "\n",
    "include(\"../src/FEM.jl\")\n",
    "using .FEM"
   ]
  },
  {
   "cell_type": "code",
   "execution_count": 2,
   "metadata": {},
   "outputs": [
    {
     "data": {
      "text/plain": [
       "Main.FEM.Problem(\"Lshape\", \"PlaneStress\", 2, 200000.0, 0.3, 7.85e-9, 1.0)"
      ]
     },
     "metadata": {},
     "output_type": "display_data"
    }
   ],
   "source": [
    "# Adatok\n",
    "E = 2e5\n",
    "ν = 0.3\n",
    "thickness = 1\n",
    "\n",
    "problem = FEM.Problem(\"Lshape\", type=\"PlaneStress\", E=E, ν=ν, thickness=thickness)"
   ]
  },
  {
   "cell_type": "code",
   "execution_count": 3,
   "metadata": {},
   "outputs": [
    {
     "name": "stdout",
     "output_type": "stream",
     "text": [
      "Info    : Reading 'LshapedPlate2.geo'...\n",
      "Info    : Meshing 1D...\n",
      "Info    : [  0%] Meshing curve 1 (Line)\n",
      "Info    : [ 20%] Meshing curve 2 (Line)\n",
      "Info    : [ 30%] Meshing curve 3 (Line)\n",
      "Info    : [ 50%] Meshing curve 4 (Circle)\n",
      "Info    : [ 60%] Meshing curve 5 (Line)\n",
      "Info    : [ 80%] Meshing curve 6 (Line)\n",
      "Info    : [ 90%] Meshing curve 7 (Line)\n",
      "Info    : Done meshing 1D (Wall 0.00665108s, CPU 0.005476s)\n",
      "Info    : Meshing 2D...\n",
      "Info    : Meshing surface 1 (Plane, Frontal-Delaunay)\n",
      "Info    : Done meshing 2D (Wall 0.00895219s, CPU 0.006709s)\n",
      "Info    : Meshing order 4 (curvilinear on)...\n",
      "Info    : [  0%] Meshing curve 1 order 4\n",
      "Info    : [ 20%] Meshing curve 2 order 4\n",
      "Info    : [ 30%] Meshing curve 3 order 4\n",
      "Info    : [ 40%] Meshing curve 4 order 4\n",
      "Info    : [ 50%] Meshing curve 5 order 4\n",
      "Info    : [ 70%] Meshing curve 6 order 4\n",
      "Info    : [ 80%] Meshing curve 7 order 4\n",
      "Info    : [ 90%] Meshing surface 1 order 4\n",
      "Info    : Surface mesh: worst distortion = 0.776535 (0 elements in ]0, 0.2]); worst gamma = 0.746895\n",
      "Info    : Done meshing order 4 (Wall 0.00534784s, CPU 0.005148s)\n",
      "Info    : Optimizing mesh (HighOrder)...\n",
      "Info    : Optimizing high-order mesh...\n",
      "Info    : Optimizing mesh...\n",
      "Info    : Computing connectivity and bad elements for entity 1...\n",
      "Info    : Starting patch generation from 0 bad elements...\n",
      "Info    : Constructing 0 primary patches\n",
      "Info    : Computing patch connectivity...\n",
      "Info    : Identifying groups of primary patches...\n",
      "Info    : Merging primary patches into 0 patches...\n",
      "Info    : Computing boundaries for 0 patches...\n",
      "Info    : Generated 0 patches\n",
      "Info    : Optimization succeeded\n",
      "Info    : Done optimizing mesh (0.000809 s)\n",
      "Info    : Done optimizing high-order mesh (0.000809 s)\n",
      "Info    : Done optimizing mesh (Wall 0.0106993s, CPU 0.00086s)\n",
      "Info    : 2696 nodes 380 elements\n",
      "Info    : Done reading 'LshapedPlate2.geo'\n"
     ]
    }
   ],
   "source": [
    "#gmsh.open(\"LshapedPlate.geo\")\n",
    "gmsh.open(\"LshapedPlate2.geo\")"
   ]
  },
  {
   "cell_type": "code",
   "execution_count": 4,
   "metadata": {},
   "outputs": [
    {
     "data": {
      "text/plain": [
       "(\"load\", 0, -1, 0)"
      ]
     },
     "metadata": {},
     "output_type": "display_data"
    }
   ],
   "source": [
    "bc1 = FEM.displacementConstraint(\"fix\", ux=0, uy=0)\n",
    "ld1 = FEM.traction(\"load\", fy=-1)"
   ]
  },
  {
   "cell_type": "code",
   "execution_count": 5,
   "metadata": {},
   "outputs": [
    {
     "name": "stdout",
     "output_type": "stream",
     "text": [
      "-------------------------------------------------------\n",
      "Version       : 4.12.2\n",
      "License       : GNU General Public License\n",
      "Build OS      : Linux64-sdk\n",
      "Build date    : 20240121\n",
      "Build host    : gmsh.info\n",
      "Build options : 64Bit ALGLIB[contrib] ANN[contrib] Bamg Blas[petsc] Blossom Cgns DIntegration Dlopen DomHex Eigen[contrib] Fltk Gmm[contrib] Hxt Jpeg Kbipack Lapack[petsc] LinuxJoystick MathEx[contrib] Med Mesh Metis[contrib] Mmg Mpeg Netgen ONELAB ONELABMetamodel OpenCASCADE OpenCASCADE-CAF OpenGL OpenMP OptHom PETSc Parser Plugins Png Post QuadMeshingTools QuadTri Solver TetGen/BR Voro++[contrib] WinslowUntangler Zlib\n",
      "FLTK version  : 1.4.0\n",
      "PETSc version : 3.14.4 (real arithmtic)\n",
      "OCC version   : 7.7.2\n",
      "MED version   : 4.1.0\n",
      "Packaged by   : geuzaine\n",
      "Web site      : https://gmsh.info\n",
      "Issue tracker : https://gitlab.onelab.info/gmsh/gmsh/issues\n",
      "-------------------------------------------------------\n"
     ]
    }
   ],
   "source": [
    "gmsh.fltk.run()"
   ]
  },
  {
   "cell_type": "code",
   "execution_count": 6,
   "metadata": {},
   "outputs": [],
   "source": [
    "# Néhány láthatósági beállítás 0:kikapcs. 1:bekapcs.\n",
    "gmsh.option.setNumber(\"Geometry.CurveLabels\", 0)\n",
    "gmsh.option.setNumber(\"Geometry.Points\", 0)\n",
    "gmsh.option.setNumber(\"Geometry.Curves\", 0)\n",
    "gmsh.option.setNumber(\"Mesh.Points\", 0)\n",
    "gmsh.option.setNumber(\"Mesh.Lines\", 0)\n",
    "gmsh.option.setNumber(\"Mesh.SurfaceEdges\", 0)\n",
    "gmsh.option.setNumber(\"Mesh.NodeLabels\", 0)\n",
    "gmsh.option.setNumber(\"Mesh.LineLabels\", 0)\n",
    "gmsh.option.setNumber(\"Mesh.SurfaceLabels\", 0)"
   ]
  },
  {
   "cell_type": "code",
   "execution_count": 7,
   "metadata": {},
   "outputs": [
    {
     "data": {
      "text/plain": [
       "5390×5390 SparseMatrixCSC{Float64, Int64} with 246660 stored entries:\n",
       "⎡⡿⣯⡉⣧⡿⢲⢖⠸⡅⢨⢀⢠⠘⢻⣟⡛⣋⢀⣿⣧⡓⢢⣰⢽⣡⠝⢃⢈⢀⠛⠃⠱⠞⣃⠀⠀⡀⡀⠀⠁⎤\n",
       "⎢⠧⣬⣿⣿⣿⣬⣬⣤⣴⣶⣦⣤⣦⣶⢭⣽⣵⣶⢿⣭⣥⣤⣭⣷⣧⣧⣤⣶⣧⣤⣤⣤⣥⣤⣤⣤⣤⣤⣤⣤⎥\n",
       "⎢⢻⣋⡛⣿⣿⣿⣿⢞⠷⠚⣿⠟⢛⠛⣛⠻⠻⠛⡛⢋⡟⢟⢿⠿⢟⡿⠿⠻⠻⠛⠟⠻⠛⢿⡟⠿⠿⠿⠻⠷⎥\n",
       "⎢⣘⡑⠂⣿⣻⢟⡻⣮⢤⡆⣤⢒⢥⡈⡶⠀⠀⠀⠀⡈⠤⠋⠁⠐⠈⠀⠀⠐⠉⠂⠀⠀⠈⠀⠁⠡⠀⠈⠄⠤⎥\n",
       "⎢⡁⣉⢰⣿⣹⠃⠠⠷⣿⣿⣎⠱⠠⢒⠠⠍⢎⣐⣀⡈⠀⢈⢀⠀⢁⠀⠠⢀⡀⠤⠤⠠⠀⠁⠀⠠⠄⠲⠠⠰⎥\n",
       "⎢⠀⣐⠈⣿⣿⠟⢠⢛⢎⡙⠻⣦⣘⢉⠒⡈⠯⠹⢐⢀⠸⠆⢒⡀⣊⡷⠐⠄⠠⠤⠈⠏⠠⠉⠬⠄⠀⠀⠇⠀⎥\n",
       "⎢⣶⣀⢨⣿⣿⠐⡁⠳⢠⢂⡖⢘⡿⣯⣷⡖⠂⢤⡁⠀⠀⠀⢀⡍⢌⡛⠁⠀⠀⠐⠀⠀⡘⠀⡒⠠⠄⢀⠀⠀⎥\n",
       "⎢⣿⠹⣇⣷⣿⡘⠘⠋⡄⠆⡘⠠⢹⠿⢿⣷⡚⠀⢡⠁⡌⡃⡃⢄⠦⠀⠐⠪⢒⢀⢠⠀⠐⠀⢀⣀⠀⠂⡀⠀⎥\n",
       "⎢⠋⢘⢱⣿⣿⠂⠀⠀⢊⢱⣏⡃⠈⣄⠚⠈⠻⢆⡀⠈⠅⣠⠏⠐⡊⣐⠨⢇⣲⠂⠠⣐⠴⠊⠊⠄⠫⠢⠅⠀⎥\n",
       "⎢⠿⣿⡟⣷⡿⢈⡀⠠⡀⠸⠐⢐⠁⠈⠅⠒⡀⠈⠿⣧⡡⢬⡰⣦⢲⡈⠑⠈⠑⠤⠔⠹⠇⡠⠀⠒⠀⠒⠀⠁⎥\n",
       "⎢⠹⣈⠁⣿⣿⢍⡤⠃⡀⢀⠲⠆⠀⠀⠦⠩⠁⣡⡁⣎⠻⢆⡈⠱⣄⢌⠄⠞⢀⠬⢔⢀⠀⡂⠀⠑⠢⠂⡃⠧⎥\n",
       "⎢⣔⣞⢧⣿⣿⡗⢁⠀⠀⠐⠘⠰⡄⠴⠉⢌⢋⠁⠰⣮⢆⡈⡻⣮⡴⠄⡝⡐⠌⣪⠆⠀⡄⠑⠀⢠⢰⠰⠐⠤⎥\n",
       "⎢⣅⠞⠭⣿⣿⡵⠂⠀⠁⠐⢮⡼⣦⠱⠈⠃⢊⢨⡘⠲⡀⢝⠐⠏⠿⣧⡄⡅⣏⢀⢃⣠⣎⣔⢚⠩⠂⠅⠀⠬⎥\n",
       "⎢⡉⢐⢠⣿⣿⡃⢀⠀⠀⢂⠐⠄⠁⠀⡰⡀⠦⢆⡑⠀⣠⠅⢓⠩⠄⠭⢻⣶⡶⢪⡵⠅⠌⢙⠂⠀⠰⢒⢐⡃⎥\n",
       "⎢⣤⠐⠉⣿⣿⠂⠣⠀⠀⡌⠀⡆⢀⠀⠘⢐⠸⠚⠑⡄⡀⡔⡢⣡⠋⢙⡸⣋⣿⣿⣅⠙⢫⠁⡮⠅⡢⠃⢠⣡⎥\n",
       "⎢⢍⡀⠀⣿⣿⡁⠀⠀⠀⡃⡦⠄⠀⠀⠀⠒⢀⢢⣔⡁⠐⢑⠈⠁⠉⣰⠕⠏⣅⠙⢻⣶⡂⣈⣪⢼⣪⢗⡤⡄⎥\n",
       "⎢⠾⢡⠁⣿⣿⣄⠂⠀⠄⠀⡄⠂⠒⠈⠐⠀⡰⠃⠉⡡⠠⠠⢄⠉⢊⢽⣆⢁⠏⠒⡈⢨⡵⣯⣗⡢⣴⣯⡭⡄⎥\n",
       "⎢⠀⠀⠀⣿⣿⡍⠅⡀⠀⡀⠂⠇⠘⡈⠀⢰⠊⠄⢠⠀⢄⠀⠀⣀⡞⡐⠈⠀⠎⠏⣊⣞⠹⡹⣻⣾⣃⣯⠯⣡⎥\n",
       "⎢⠀⠨⠀⣿⣿⡇⡀⠀⢠⡁⠀⠀⠀⢁⠠⠀⠫⡂⢠⠀⠨⠂⢐⡒⠌⠄⢰⢂⠬⠊⢮⢞⡴⣿⡭⣼⣿⣿⣿⣧⎥\n",
       "⎣⠄⠀⠀⣿⢿⡆⠀⡅⢀⡂⠉⠁⠀⠀⠀⠈⠁⠁⠄⠀⠭⡌⠐⡄⡀⡄⠴⠰⠄⣲⠀⠯⠃⠯⠏⣣⠿⣿⢿⣷⎦"
      ]
     },
     "metadata": {},
     "output_type": "display_data"
    }
   ],
   "source": [
    "K = FEM.stiffnessMatrix(problem)"
   ]
  },
  {
   "cell_type": "code",
   "execution_count": 8,
   "metadata": {},
   "outputs": [
    {
     "data": {
      "text/plain": [
       "(sparse([1, 2, 15, 16, 27, 28, 29, 30, 31, 32  …  4751, 4752, 4753, 4754, 5385, 5386, 5387, 5388, 5389, 5390], [1, 1, 1, 1, 1, 1, 1, 1, 1, 1  …  5390, 5390, 5390, 5390, 5390, 5390, 5390, 5390, 5390, 5390], [91872.89587285672, 34776.44018563235, 6799.591315204919, -1200.8713770417608, -73660.48757102159, 22199.435282616054, 57719.44080416985, -7130.357798111504, -31029.456202454592, 2416.657065794606  …  -247551.57161295606, -634222.6936912419, 71196.66751251146, 190173.33022618302, 163875.53053340493, -192033.06978716663, -337085.14594142046, -578786.9083798807, 482178.51336106734, 1.7220585772105148e6], 5390, 5390), [0.0; 0.0; … ; 0.0; 0.0;;])"
      ]
     },
     "metadata": {},
     "output_type": "display_data"
    }
   ],
   "source": [
    "K, f = FEM.applyBoundaryConditions!(problem, K, [bc1], [ld1])"
   ]
  },
  {
   "cell_type": "code",
   "execution_count": 9,
   "metadata": {},
   "outputs": [
    {
     "data": {
      "text/plain": [
       "5390×1 Matrix{Float64}:\n",
       " -0.008395346468335618\n",
       "  0.002689105070928197\n",
       " -0.009846943651376075\n",
       " -0.012108825836629504\n",
       " -0.0010369912772082526\n",
       " -0.012129417456507372\n",
       " -0.0018216406420458013\n",
       " -0.002942834438628039\n",
       " -0.0019284287921212842\n",
       " -0.002521431065193534\n",
       "  ⋮\n",
       " -0.0027331648818487877\n",
       " -0.0021147065694840502\n",
       " -0.0026981865426645244\n",
       " -0.0025415629255510453\n",
       " -0.0023537428923798465\n",
       " -0.002454427978699429\n",
       " -0.0023260644141961944\n",
       " -0.002459899700192128\n",
       " -0.0022465539837190477"
      ]
     },
     "metadata": {},
     "output_type": "display_data"
    }
   ],
   "source": [
    "q = FEM.solveDisplacement(K, f)"
   ]
  },
  {
   "cell_type": "code",
   "execution_count": 10,
   "metadata": {},
   "outputs": [
    {
     "data": {
      "text/plain": [
       "Main.FEM.StressField([[1.1764817477561347, 0.02481192595169139, 0.0, 0.02481192595169139, 2.300538018681516, 0.0, 0.0, 0.0, 0.0, 2.1828024374625805  …  0.0, 1.323142560301919, -0.4147477831284195, 0.0, -0.4147477831284195, 4.243418694072147, 0.0, 0.0, 0.0, 0.0], [2.56985835261784, 0.7307042855883077, 0.0, 0.7307042855883077, 5.180019269683106, 0.0, 0.0, 0.0, 0.0, 3.110313479908518  …  0.0, 3.685379843827036, 0.29317946223201047, 0.0, 0.29317946223201047, 6.384090162150691, 0.0, 0.0, 0.0, 0.0], [0.00035322078923106376, -0.9992755579089339, 0.0, -0.9992755579089339, -0.16315074758180376, 0.0, 0.0, 0.0, 0.0, 0.299939408876443  …  0.0, 0.10799768407325902, -1.49670336502091, 0.0, -1.49670336502091, -0.12225285355101002, 0.0, 0.0, 0.0, 0.0], [0.07077221881940687, -0.16643703090854375, 0.0, -0.16643703090854375, 8.465269885451349, 0.0, 0.0, 0.0, 0.0, 2.734901593992589e-5  …  0.0, 0.03015839757661931, -0.07979968149114311, 0.0, -0.07979968149114311, 8.299221170162879, 0.0, 0.0, 0.0, 0.0], [1.1781578079803157, 0.025576873433333074, 0.0, 0.025576873433333074, 2.301025794775086, 0.0, 0.0, 0.0, 0.0, 1.8058110816350859  …  0.0, 1.848591448143298, -0.0357310449890596, 0.0, -0.0357310449890596, 3.0430543804167076, 0.0, 0.0, 0.0, 0.0], [8.581116541802066, -1.426707438015138, 0.0, -1.426707438015138, 0.37052515957549126, 0.0, 0.0, 0.0, 0.0, 8.318919887027123  …  0.0, 7.939936921299729, -1.8286480583488305, 0.0, -1.8286480583488305, 0.6587279267089248, 0.0, 0.0, 0.0, 0.0], [-0.2519479543324311, 1.5112484172411196, 0.0, 1.5112484172411196, -1.1055209614715027, 0.0, 0.0, 0.0, 0.0, -0.7856266860143177  …  0.0, -0.26628238157768036, 2.0185295816992013, 0.0, 2.0185295816992013, -0.514335433709744, 0.0, 0.0, 0.0, 0.0], [1.9001935239697794, -1.031258346921446, 0.0, -1.031258346921446, 0.14092359503156016, 0.0, 0.0, 0.0, 0.0, 1.4955969797056066  …  0.0, 2.131861585601822, -0.6329946389504387, 0.0, -0.6329946389504387, 0.042067843126246784, 0.0, 0.0, 0.0, 0.0], [0.9598478569377558, -0.5217271281710559, 0.0, -0.5217271281710559, 5.237962170217883, 0.0, 0.0, 0.0, 0.0, 2.177235005588545  …  0.0, 1.5241933863809067, -0.8777680611254982, 0.0, -0.8777680611254982, 5.904856192482531, 0.0, 0.0, 0.0, 0.0], [-0.0038359902674429402, -1.0005708156457351, 0.0, -1.0005708156457351, -0.16385590806332748, 0.0, 0.0, 0.0, 0.0, 0.012701578501856714  …  0.0, 0.06424605211123283, -1.2813440687459288, 0.0, -1.2813440687459288, -0.4544134141438182, 0.0, 0.0, 0.0, 0.0]  …  [1.006615812954688, -1.7542059859240853, 0.0, -1.7542059859240853, 10.792238732017266, 0.0, 0.0, 0.0, 0.0, 2.7241496817670265  …  0.0, 1.5140322514379752, -2.350385811097134, 0.0, -2.350385811097134, 11.445547924533445, 0.0, 0.0, 0.0, 0.0], [4.80561098614667, -3.091488840780556, 0.0, -3.091488840780556, 3.726752666448793, 0.0, 0.0, 0.0, 0.0, 3.727112541115181  …  0.0, 3.664305967886898, -2.694721880611978, 0.0, -2.694721880611978, 4.449478993940294, 0.0, 0.0, 0.0, 0.0], [1.7312949582480397, 0.03526029909092957, 0.0, 0.03526029909092957, 5.2552670547021245, 0.0, 0.0, 0.0, 0.0, 1.0974342902917265  …  0.0, 1.0833356317644673, 0.15623015787973826, 0.0, 0.15623015787973826, 4.447367239845028, 0.0, 0.0, 0.0, 0.0], [-1.044418238699995, -0.9745653613766556, 0.0, -0.9745653613766556, -0.04071890763212915, 0.0, 0.0, 0.0, 0.0, -2.101681719036841  …  0.0, -1.005737051802573, -0.6528687821610534, 0.0, -0.6528687821610534, -0.02969767183725036, 0.0, 0.0, 0.0, 0.0], [3.2701321654370723, -0.15051682199328825, 0.0, -0.15051682199328825, 4.329348504615892, 0.0, 0.0, 0.0, 0.0, 2.1831020253761233  …  0.0, 2.6563213720476364, -0.031375792989679484, 0.0, -0.031375792989679484, 3.661005560267625, 0.0, 0.0, 0.0, 0.0], [0.13382653212672055, 0.038925083957052284, 0.0, 0.038925083957052284, -0.510376954762904, 0.0, 0.0, 0.0, 0.0, 0.07767824126109169  …  0.0, 0.16810716809231352, 0.06737554738149168, 0.0, 0.06737554738149168, -1.6807444935250255, 0.0, 0.0, 0.0, 0.0], [2.579723002144414, 0.7269858187084896, 0.0, 0.7269858187084896, 5.185300185343232, 0.0, 0.0, 0.0, 0.0, 4.598846068879369  …  0.0, 3.638726809537042, 0.5627777906410965, 0.0, 0.5627777906410965, 5.2224480826554185, 0.0, 0.0, 0.0, 0.0], [2.7006924480133914, 0.865498850575372, 0.0, 0.865498850575372, 3.1794427364480633, 0.0, 0.0, 0.0, 0.0, 3.27023664981124  …  0.0, 2.8008736385224227, 0.3250544231732044, 0.0, 0.3250544231732044, 3.398738322338759, 0.0, 0.0, 0.0, 0.0], [6.528097763110562, -2.259901399310945, 0.0, -2.259901399310945, 10.960663545752073, 0.0, 0.0, 0.0, 0.0, 8.018169290094269  …  0.0, 7.982485971475024, -3.756456048426945, 0.0, -3.756456048426945, 12.289248646127183, 0.0, 0.0, 0.0, 0.0], [3.1230916373734803, -0.5671084552474492, 0.0, -0.5671084552474492, 6.9980896267573485, 0.0, 0.0, 0.0, 0.0, 5.052114388020694  …  0.0, 4.3830011414716825, -0.021648787886284174, 0.0, -0.021648787886284174, 7.198650114065979, 0.0, 0.0, 0.0, 0.0]], [9, 10, 11, 12, 13, 14, 15, 16, 17, 18  …  324, 325, 326, 327, 328, 329, 330, 331, 332, 333])"
      ]
     },
     "metadata": {},
     "output_type": "display_data"
    }
   ],
   "source": [
    "S = FEM.solveStress(problem, q)"
   ]
  },
  {
   "cell_type": "code",
   "execution_count": 11,
   "metadata": {},
   "outputs": [],
   "source": [
    "gmsh.option.setNumber(\"View.IntervalsType\", 3)\n",
    "gmsh.option.setNumber(\"View.VectorType\", 5)\n",
    "gmsh.option.setString(\"View.Format\", \"%.6g\")"
   ]
  },
  {
   "cell_type": "code",
   "execution_count": 12,
   "metadata": {},
   "outputs": [
    {
     "data": {
      "text/plain": [
       "\"uvec..ok\""
      ]
     },
     "metadata": {},
     "output_type": "display_data"
    },
    {
     "data": {
      "text/plain": [
       "\"ux..ok\""
      ]
     },
     "metadata": {},
     "output_type": "display_data"
    },
    {
     "data": {
      "text/plain": [
       "\"uy..ok\""
      ]
     },
     "metadata": {},
     "output_type": "display_data"
    },
    {
     "data": {
      "text/plain": [
       "\"uz..ok\""
      ]
     },
     "metadata": {},
     "output_type": "display_data"
    },
    {
     "data": {
      "text/plain": [
       "\"s..ok\""
      ]
     },
     "metadata": {},
     "output_type": "display_data"
    },
    {
     "data": {
      "text/plain": [
       "\"s..ok\""
      ]
     },
     "metadata": {},
     "output_type": "display_data"
    },
    {
     "data": {
      "text/plain": [
       "\"sx..ok\""
      ]
     },
     "metadata": {},
     "output_type": "display_data"
    },
    {
     "data": {
      "text/plain": [
       "\"sy..ok\""
      ]
     },
     "metadata": {},
     "output_type": "display_data"
    },
    {
     "data": {
      "text/plain": [
       "\"sz..ok\""
      ]
     },
     "metadata": {},
     "output_type": "display_data"
    },
    {
     "data": {
      "text/plain": [
       "\"sxy..ok\""
      ]
     },
     "metadata": {},
     "output_type": "display_data"
    },
    {
     "data": {
      "text/plain": [
       "\"syz..ok\""
      ]
     },
     "metadata": {},
     "output_type": "display_data"
    },
    {
     "data": {
      "text/plain": [
       "\"szx..ok\""
      ]
     },
     "metadata": {},
     "output_type": "display_data"
    },
    {
     "name": "stdout",
     "output_type": "stream",
     "text": [
      "Info    : Running Plugin(Smooth)...\n",
      "Info    : Done running Plugin(Smooth)\n",
      "Info    : Running Plugin(Smooth)...\n",
      "Info    : Done running Plugin(Smooth)\n",
      "Info    : Running Plugin(Smooth)...\n",
      "Info    : Done running Plugin(Smooth)\n",
      "Info    : Running Plugin(Smooth)...\n",
      "Info    : Done running Plugin(Smooth)\n",
      "Info    : Running Plugin(Smooth)...\n",
      "Info    : Done running Plugin(Smooth)\n",
      "Info    : Running Plugin(Smooth)...\n",
      "Info    : Done running Plugin(Smooth)\n",
      "Info    : Running Plugin(Smooth)...\n",
      "Info    : Done running Plugin(Smooth)\n"
     ]
    },
    {
     "data": {
      "text/plain": [
       "12"
      ]
     },
     "metadata": {},
     "output_type": "display_data"
    }
   ],
   "source": [
    "u = FEM.showDoFResults(problem, q, \"uvec\", name=\"uvec\", visible=false)\n",
    "ux = FEM.showDoFResults(problem, q, \"ux\", name=\"ux\", visible=false)\n",
    "uy = FEM.showDoFResults(problem, q, \"uy\", name=\"uy\", visible=false)\n",
    "uz = FEM.showDoFResults(problem, q, \"uz\", name=\"uz\", visible=false)\n",
    "s = FEM.showStressResults(problem, S, \"s\", name=\"σ red\", visible=false, smooth=false)\n",
    "ss = FEM.showStressResults(problem, S, \"s\", name=\"σ red smooth\", visible=true, smooth=true)\n",
    "sx = FEM.showStressResults(problem, S, \"sx\", name=\"σx\", visible=false, smooth=true)\n",
    "sy = FEM.showStressResults(problem, S, \"sy\", name=\"σy\", visible=false, smooth=true)\n",
    "sz = FEM.showStressResults(problem, S, \"sz\", name=\"σz\", visible=false, smooth=true)\n",
    "sxy = FEM.showStressResults(problem, S, \"sxy\", name=\"τxy\", visible=false, smooth=true)\n",
    "syz = FEM.showStressResults(problem, S, \"syz\", name=\"τyz\", visible=false, smooth=true)\n",
    "szx = FEM.showStressResults(problem, S, \"szx\", name=\"τzx\", visible=false, smooth=true)"
   ]
  },
  {
   "cell_type": "code",
   "execution_count": 13,
   "metadata": {},
   "outputs": [],
   "source": [
    "FEM.plotOnPath(problem, \"path\", s, 100, name=\"σred\", visible=false);"
   ]
  },
  {
   "cell_type": "code",
   "execution_count": 14,
   "metadata": {},
   "outputs": [],
   "source": [
    "#gmsh.option.setNumber(\"PostProcessing.Binary\", 1)\n",
    "#gmsh.option.setNumber(\"PostProcessing.SaveMesh\", 1)\n",
    "\n",
    "#gmsh.write(\"rect.msh\")\n",
    "#gmsh.write(\"rect.opt\")\n",
    "#gmsh.view.write(4, \"rect.pos\")"
   ]
  },
  {
   "cell_type": "code",
   "execution_count": 15,
   "metadata": {},
   "outputs": [
    {
     "name": "stdout",
     "output_type": "stream",
     "text": [
      "-------------------------------------------------------\n",
      "Version       : 4.12.2\n",
      "License       : GNU General Public License\n",
      "Build OS      : Linux64-sdk\n",
      "Build date    : 20240121\n",
      "Build host    : gmsh.info\n",
      "Build options : 64Bit ALGLIB[contrib] ANN[contrib] Bamg Blas[petsc] Blossom Cgns DIntegration Dlopen DomHex Eigen[contrib] Fltk Gmm[contrib] Hxt Jpeg Kbipack Lapack[petsc] LinuxJoystick MathEx[contrib] Med Mesh Metis[contrib] Mmg Mpeg Netgen ONELAB ONELABMetamodel OpenCASCADE OpenCASCADE-CAF OpenGL OpenMP OptHom PETSc Parser Plugins Png Post QuadMeshingTools QuadTri Solver TetGen/BR Voro++[contrib] WinslowUntangler Zlib\n",
      "FLTK version  : 1.4.0\n",
      "PETSc version : 3.14.4 (real arithmtic)\n",
      "OCC version   : 7.7.2\n",
      "MED version   : 4.1.0\n",
      "Packaged by   : geuzaine\n",
      "Web site      : https://gmsh.info\n",
      "Issue tracker : https://gitlab.onelab.info/gmsh/gmsh/issues\n",
      "-------------------------------------------------------\n"
     ]
    }
   ],
   "source": [
    "gmsh.fltk.run()"
   ]
  },
  {
   "cell_type": "code",
   "execution_count": 16,
   "metadata": {
    "slideshow": {
     "slide_type": ""
    },
    "tags": []
   },
   "outputs": [],
   "source": [
    "gmsh.finalize()"
   ]
  }
 ],
 "metadata": {
  "kernelspec": {
   "display_name": "Julia 1.10.0",
   "language": "julia",
   "name": "julia-1.10"
  },
  "language_info": {
   "file_extension": ".jl",
   "mimetype": "application/julia",
   "name": "julia",
   "version": "1.10.0"
  },
  "varInspector": {
   "cols": {
    "lenName": 16,
    "lenType": 16,
    "lenVar": 40
   },
   "kernels_config": {
    "python": {
     "delete_cmd_postfix": "",
     "delete_cmd_prefix": "del ",
     "library": "var_list.py",
     "varRefreshCmd": "print(var_dic_list())"
    },
    "r": {
     "delete_cmd_postfix": ") ",
     "delete_cmd_prefix": "rm(",
     "library": "var_list.r",
     "varRefreshCmd": "cat(var_dic_list()) "
    }
   },
   "types_to_exclude": [
    "module",
    "function",
    "builtin_function_or_method",
    "instance",
    "_Feature"
   ],
   "window_display": false
  }
 },
 "nbformat": 4,
 "nbformat_minor": 4
}
