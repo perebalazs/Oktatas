{
 "cells": [
  {
   "cell_type": "code",
   "execution_count": 1,
   "metadata": {},
   "outputs": [],
   "source": [
    "using LinearAlgebra, SparseArrays\n",
    "using Arpack\n",
    "import gmsh\n",
    "gmsh.initialize()\n",
    "\n",
    "include(\"../src/FEM.jl\")\n",
    "using .FEM"
   ]
  },
  {
   "cell_type": "code",
   "execution_count": 2,
   "metadata": {},
   "outputs": [
    {
     "data": {
      "text/plain": [
       "Main.FEM.Problem(\"rectangle\", \"PlaneStress\", 2, 200000.0, 0.3, 7.85e-9, 1.0)"
      ]
     },
     "metadata": {},
     "output_type": "display_data"
    }
   ],
   "source": [
    "# Adatok\n",
    "E = 2e5\n",
    "ν = 0.3\n",
    "ρ = 7.85e-9\n",
    "thickness = 1\n",
    "height = 10\n",
    "base = 100\n",
    "elemSize = 2 #22\n",
    "\n",
    "approxOrder = 2\n",
    "internalNodes = true\n",
    "quadElements = true\n",
    "\n",
    "problem = FEM.Problem(\"rectangle\", type=\"PlaneStress\", E=E, ν=ν, ρ=ρ, thickness=thickness)"
   ]
  },
  {
   "cell_type": "code",
   "execution_count": 3,
   "metadata": {},
   "outputs": [],
   "source": [
    "# Geometria megrajzolása\n",
    "gmsh.model.add(problem.name)\n",
    "\n",
    "p1 = gmsh.model.occ.addPoint(0, 0, 0)\n",
    "p2 = gmsh.model.occ.addPoint(base, 0, 0)\n",
    "#p23 = gmsh.model.occ.addPoint(base, height / 2, 0)\n",
    "p3 = gmsh.model.occ.addPoint(base, height, 0)\n",
    "p4 = gmsh.model.occ.addPoint(0, height, 0)\n",
    "\n",
    "l1 = gmsh.model.occ.addLine(p1, p2)\n",
    "l2 = gmsh.model.occ.addLine(p2, p3)\n",
    "#l23 = gmsh.model.occ.addLine(p23, p3)\n",
    "l3 = gmsh.model.occ.addLine(p3, p4)\n",
    "l4 = gmsh.model.occ.addLine(p4, p1)\n",
    "\n",
    "cl1 = gmsh.model.occ.addCurveLoop([l1, l2, l3, l4])\n",
    "\n",
    "l5 = gmsh.model.occ.addCircle(base / 2, height / 2, 0, min(base, height) / 4)\n",
    "cl2 = gmsh.model.occ.addCurveLoop([l5])\n",
    "\n",
    "sf1 = gmsh.model.occ.addPlaneSurface([cl1, cl2])\n",
    "#display(sf1)\n",
    "\n",
    "#cp1 = gmsh.model.occ.addPoint(base / 2, height / 2, 0)\n",
    "#cl1 = gmsh.model.occ.addLine(p1, p3)\n",
    "#cl2 = gmsh.model.occ.addLine(p2, p4)\n",
    "\n",
    "#sf2 = gmsh.model.occ.fragment([(2, sf1)], [(1, cl1)])\n",
    "#gmsh.model.occ.removeAllDuplicates()\n",
    "\n",
    "#p5 = gmsh.model.occ.addPoint(0, height / 2, 0)\n",
    "#p6 = gmsh.model.occ.addPoint(base, height / 2, 0)\n",
    "#l5 = gmsh.model.occ.addLine(p5, p6)\n",
    "\n",
    "gmsh.model.occ.synchronize()\n",
    "#sf2"
   ]
  },
  {
   "cell_type": "code",
   "execution_count": 4,
   "metadata": {},
   "outputs": [],
   "source": [
    "phg = gmsh.model.addPhysicalGroup(1, [l2])\n",
    "gmsh.model.setPhysicalName(1, phg, \"supp\")\n",
    "phg = gmsh.model.addPhysicalGroup(1, [l4])\n",
    "gmsh.model.setPhysicalName(1, phg, \"load\")"
   ]
  },
  {
   "cell_type": "code",
   "execution_count": 5,
   "metadata": {},
   "outputs": [
    {
     "data": {
      "text/plain": [
       "(\"load\", 1, 0, 0)"
      ]
     },
     "metadata": {},
     "output_type": "display_data"
    }
   ],
   "source": [
    "supp = FEM.displacementConstraint(\"supp\", ux=0, uy=0)\n",
    "load = FEM.traction(\"load\", fx=1, fy=0)"
   ]
  },
  {
   "cell_type": "code",
   "execution_count": 6,
   "metadata": {},
   "outputs": [
    {
     "name": "stdout",
     "output_type": "stream",
     "text": [
      "Info    : Meshing 1D...\n",
      "Info    : [  0%] Meshing curve 1 (Line)\n",
      "Info    : [ 20%] Meshing curve 2 (Line)\n",
      "Info    : [ 40%] Meshing curve 3 (Line)\n",
      "Info    : [ 60%] Meshing curve 4 (Line)\n",
      "Info    : [ 80%] Meshing curve 5 (Circle)\n",
      "Info    : Done meshing 1D (Wall 0.000437016s, CPU 0.000439s)\n",
      "Info    : 118 nodes 123 elements\n",
      "Info    : Meshing 2D...\n",
      "Info    : Meshing surface 1 (Plane, Frontal-Delaunay)\n",
      "Info    : Done meshing 2D (Wall 0.0219846s, CPU 0.021894s)\n",
      "Info    : 359 nodes 723 elements\n",
      "Info    : Recombining 2D mesh...\n",
      "Info    : Blossom: 841 internal 118 closed\n",
      "Info    : Blossom recombination completed (Wall 0.013932s, CPU 0.013851s): 294 quads, 0 triangles, 0 invalid quads, 0 quads with Q < 0.1, avg Q = 0.799105, min Q = 0.508151\n",
      "Info    : Done recombining 2D mesh (Wall 0.013993s, CPU 0.013915s)\n",
      "Info    : Meshing order 2 (curvilinear on)...\n",
      "Info    : [  0%] Meshing curve 1 order 2\n",
      "Info    : [ 20%] Meshing curve 2 order 2\n",
      "Info    : [ 40%] Meshing curve 3 order 2\n",
      "Info    : [ 50%] Meshing curve 4 order 2\n",
      "Info    : [ 70%] Meshing curve 5 order 2\n",
      "Info    : [ 90%] Meshing surface 1 order 2\n",
      "Info    : Done meshing order 2 (Wall 0.00484698s, CPU 0.004843s)\n"
     ]
    }
   ],
   "source": [
    "FEM.generateMesh(problem, sf1, elemSize, approxOrder=approxOrder, algorithm=6, quadrangle=quadElements, internalNodes=internalNodes)"
   ]
  },
  {
   "cell_type": "code",
   "execution_count": 7,
   "metadata": {},
   "outputs": [
    {
     "data": {
      "text/plain": [
       "\"true\""
      ]
     },
     "metadata": {},
     "output_type": "display_data"
    }
   ],
   "source": [
    "ENV[\"LIBGL_ALWAYS_SOFTWARE\"] = \"true\"\n",
    "#gmsh.fltk.run()\n",
    "#gmsh.fltk.wait(3)"
   ]
  },
  {
   "cell_type": "code",
   "execution_count": 8,
   "metadata": {},
   "outputs": [],
   "source": [
    "# Néhány láthatósági beállítás 0:kikapcs. 1:bekapcs.\n",
    "gmsh.option.setNumber(\"Geometry.CurveLabels\", 0)\n",
    "gmsh.option.setNumber(\"Geometry.Points\", 0)\n",
    "gmsh.option.setNumber(\"Geometry.Curves\", 0)\n",
    "gmsh.option.setNumber(\"Mesh.Points\", 0)\n",
    "gmsh.option.setNumber(\"Mesh.Lines\", 0)\n",
    "gmsh.option.setNumber(\"Mesh.SurfaceEdges\", 0)\n",
    "gmsh.option.setNumber(\"Mesh.NodeLabels\", 0)\n",
    "gmsh.option.setNumber(\"Mesh.LineLabels\", 0)\n",
    "gmsh.option.setNumber(\"Mesh.SurfaceLabels\", 0)"
   ]
  },
  {
   "cell_type": "code",
   "execution_count": 9,
   "metadata": {},
   "outputs": [
    {
     "data": {
      "text/plain": [
       "2588×2588 SparseMatrixCSC{Float64, Int64} with 77152 stored entries:\n",
       "⎡⠻⣦⣳⣜⠀⠃⠘⣦⢸⢸⠤⢰⢰⢐⣃⣠⡐⣄⠤⠄⠀⠠⣄⢠⡲⠤⠼⠂⠐⡖⣰⢀⠃⠀⠀⠀⠀⡐⡐⡃⎤\n",
       "⎢⣙⢾⡵⣯⡀⣀⠀⢺⣹⠰⠒⢸⣹⠠⡥⠴⠄⠦⠒⠂⠀⠐⢮⣹⣝⢚⡓⠀⠀⠆⠼⡡⡁⠀⠀⠀⠀⠄⢌⠄⎥\n",
       "⎢⠤⠀⠀⢨⣻⢞⡳⠆⡧⠂⢌⡧⣻⠁⡗⠴⡣⢚⡁⢈⣹⠦⠀⣉⠀⡇⢈⢈⠀⠀⠁⣟⡷⠌⠀⠀⠀⠐⢻⠀⎥\n",
       "⎢⠲⣤⣠⣀⠹⠎⠵⣧⢳⣥⣄⣳⣽⣠⣯⣾⣵⣉⣀⡄⠘⢓⣀⣀⣠⣧⣤⣤⠠⣶⣀⣏⢿⣆⣀⠀⢀⠼⠹⡀⎥\n",
       "⎢⣒⣒⢓⡚⠩⠋⠝⣶⣿⣿⣊⡟⣿⣻⣿⣾⣷⣿⠁⡈⠹⠛⣀⠋⢛⡋⢙⣚⣿⣿⣿⣿⣸⠉⠐⠛⣿⣻⣿⣟⎥\n",
       "⎢⢀⣃⣘⣀⠦⡵⢤⣹⣮⠼⣻⣾⢿⣿⣭⡉⠌⠠⣟⡛⠦⣴⣂⣶⣾⣿⡛⡿⠤⠤⢢⠲⣘⣶⣾⣻⢯⣏⢇⣅⎥\n",
       "⎢⢐⢒⠓⡚⠟⠚⠓⣻⣿⣻⣿⣷⣿⣿⡛⣚⣒⣃⠀⡽⢃⡼⣺⢿⡿⣝⣿⣿⣘⣛⣟⣲⣾⣾⢿⣦⣿⣟⣗⣛⎥\n",
       "⎢⠉⣸⢁⡏⢙⡍⣫⣿⣻⣿⡇⠻⣻⢨⣿⣿⣭⣹⠀⠐⢘⠁⣵⠀⠛⢚⠘⠛⢿⣻⠿⡟⠉⡀⠀⠀⠛⡟⡟⠛⎥\n",
       "⎢⠐⢬⠠⡅⣩⢊⡕⢻⣽⣿⠂⡁⠼⢸⣇⣻⣿⢟⡀⠀⡨⠑⠈⠀⠀⠐⠀⢀⢇⢿⣪⢫⠴⠂⠀⠀⢉⡲⣝⣙⎥\n",
       "⎢⠀⠇⠸⠀⡁⢈⠀⠼⡁⠠⣿⠹⣄⡤⢀⠀⠀⠈⣿⣿⡀⠰⠇⢨⠰⡠⣧⡯⠀⠀⡀⡠⠀⢀⢀⣠⡄⢄⡀⢀⎥\n",
       "⎢⠀⡀⢀⠀⠳⡞⢶⢀⣷⠂⢈⣧⣉⡴⠖⠐⢆⠊⢀⡈⡻⣮⡀⢉⡉⣏⢉⣈⠀⠒⠁⠲⢈⢥⢀⣤⠶⠀⠒⠆⎥\n",
       "⎢⠀⣙⣎⣳⡄⢠⠀⢸⡤⠘⢨⣼⣾⣞⠑⠛⠂⠀⡉⣁⡄⢈⣻⣾⣾⣤⡄⣨⡠⠣⡙⠙⠰⣲⣖⢀⡐⠀⠀⠃⎥\n",
       "⎢⠘⡎⣳⢙⠤⠤⠤⣾⡿⠰⣾⣿⣟⢯⣻⢀⢀⠀⠐⡢⡧⢬⠚⣿⣻⣾⣷⣛⢉⣐⣉⠂⢊⠑⠣⠤⠈⢙⠚⡛⎥\n",
       "⎢⠲⠃⠙⠈⡂⢐⠀⣿⣳⢰⣿⡬⣿⣿⣶⠀⠀⢀⡭⡿⡃⢰⡀⣩⣽⢻⢿⣷⡀⠀⢓⣀⠎⣱⣬⠭⢷⣶⢴⣶⎥\n",
       "⎢⢰⠤⠠⠄⠀⠀⢠⣦⣿⣿⠀⡇⣶⢸⣿⣳⣭⣕⠀⠀⢠⠀⠤⡊⢃⢰⠀⠈⣿⣿⣼⡍⣈⠂⠀⠀⠙⢶⣷⣅⎥\n",
       "⎢⠐⢚⠖⡣⣥⢤⡤⢼⣿⣿⢨⡒⢻⣹⣿⠧⡮⣚⠀⡨⢡⡀⣗⠈⠣⠘⠙⢰⡖⠿⣛⣼⣾⣍⠉⠀⣶⡶⣼⡏⎥\n",
       "⎢⠉⠀⠁⠈⡙⠏⠻⢷⡖⠚⢲⣼⣺⣿⠃⠠⠰⠃⠀⢀⠆⣔⢰⣢⢎⠐⢎⣡⠢⠘⡞⢿⢻⣶⣶⠢⣶⡜⡏⠁⎥\n",
       "⎢⠀⠀⠀⠀⠀⠀⠀⠘⣴⠀⣾⣻⠻⣷⠀⠀⠀⠀⠀⣰⠀⣴⠘⢙⠉⡆⡆⡟⠀⠀⠃⠀⠸⡛⢻⣶⡆⠀⠄⠀⎥\n",
       "⎢⢀⠠⠀⠄⢀⠀⣀⡔⣿⣻⡯⢷⣿⢿⣿⠤⢣⡰⠀⢍⠘⠃⠐⠈⣆⢀⢹⣷⢳⣄⢸⡿⣘⠿⠈⠉⣿⣿⣗⣿⎥\n",
       "⎣⠴⠨⠂⠕⠛⠒⠓⠢⣿⢿⠍⢵⣽⢹⣿⠉⣗⢹⠀⢈⠸⠄⠤⠀⣾⠠⢰⣷⠝⢿⡶⠿⠏⠉⠀⠁⣽⣽⣵⣿⎦"
      ]
     },
     "metadata": {},
     "output_type": "display_data"
    }
   ],
   "source": [
    "K = FEM.stiffnessMatrix(problem)"
   ]
  },
  {
   "cell_type": "code",
   "execution_count": 10,
   "metadata": {},
   "outputs": [
    {
     "data": {
      "text/plain": [
       "2588×2588 SparseMatrixCSC{Float64, Int64} with 2588 stored entries:\n",
       "⎡⠑⢄⠀⠀⠀⠀⠀⠀⠀⠀⠀⠀⠀⠀⠀⠀⠀⠀⠀⠀⠀⠀⠀⠀⠀⠀⠀⠀⠀⠀⠀⠀⠀⠀⠀⠀⠀⠀⠀⠀⎤\n",
       "⎢⠀⠀⠑⢄⠀⠀⠀⠀⠀⠀⠀⠀⠀⠀⠀⠀⠀⠀⠀⠀⠀⠀⠀⠀⠀⠀⠀⠀⠀⠀⠀⠀⠀⠀⠀⠀⠀⠀⠀⠀⎥\n",
       "⎢⠀⠀⠀⠀⠑⢄⠀⠀⠀⠀⠀⠀⠀⠀⠀⠀⠀⠀⠀⠀⠀⠀⠀⠀⠀⠀⠀⠀⠀⠀⠀⠀⠀⠀⠀⠀⠀⠀⠀⠀⎥\n",
       "⎢⠀⠀⠀⠀⠀⠀⠑⢄⠀⠀⠀⠀⠀⠀⠀⠀⠀⠀⠀⠀⠀⠀⠀⠀⠀⠀⠀⠀⠀⠀⠀⠀⠀⠀⠀⠀⠀⠀⠀⠀⎥\n",
       "⎢⠀⠀⠀⠀⠀⠀⠀⠀⠑⢄⠀⠀⠀⠀⠀⠀⠀⠀⠀⠀⠀⠀⠀⠀⠀⠀⠀⠀⠀⠀⠀⠀⠀⠀⠀⠀⠀⠀⠀⠀⎥\n",
       "⎢⠀⠀⠀⠀⠀⠀⠀⠀⠀⠀⠑⢄⠀⠀⠀⠀⠀⠀⠀⠀⠀⠀⠀⠀⠀⠀⠀⠀⠀⠀⠀⠀⠀⠀⠀⠀⠀⠀⠀⠀⎥\n",
       "⎢⠀⠀⠀⠀⠀⠀⠀⠀⠀⠀⠀⠀⠑⢄⠀⠀⠀⠀⠀⠀⠀⠀⠀⠀⠀⠀⠀⠀⠀⠀⠀⠀⠀⠀⠀⠀⠀⠀⠀⠀⎥\n",
       "⎢⠀⠀⠀⠀⠀⠀⠀⠀⠀⠀⠀⠀⠀⠀⠑⢄⠀⠀⠀⠀⠀⠀⠀⠀⠀⠀⠀⠀⠀⠀⠀⠀⠀⠀⠀⠀⠀⠀⠀⠀⎥\n",
       "⎢⠀⠀⠀⠀⠀⠀⠀⠀⠀⠀⠀⠀⠀⠀⠀⠀⠑⢄⠀⠀⠀⠀⠀⠀⠀⠀⠀⠀⠀⠀⠀⠀⠀⠀⠀⠀⠀⠀⠀⠀⎥\n",
       "⎢⠀⠀⠀⠀⠀⠀⠀⠀⠀⠀⠀⠀⠀⠀⠀⠀⠀⠀⠑⢄⠀⠀⠀⠀⠀⠀⠀⠀⠀⠀⠀⠀⠀⠀⠀⠀⠀⠀⠀⠀⎥\n",
       "⎢⠀⠀⠀⠀⠀⠀⠀⠀⠀⠀⠀⠀⠀⠀⠀⠀⠀⠀⠀⠀⠑⢄⠀⠀⠀⠀⠀⠀⠀⠀⠀⠀⠀⠀⠀⠀⠀⠀⠀⠀⎥\n",
       "⎢⠀⠀⠀⠀⠀⠀⠀⠀⠀⠀⠀⠀⠀⠀⠀⠀⠀⠀⠀⠀⠀⠀⠑⢄⠀⠀⠀⠀⠀⠀⠀⠀⠀⠀⠀⠀⠀⠀⠀⠀⎥\n",
       "⎢⠀⠀⠀⠀⠀⠀⠀⠀⠀⠀⠀⠀⠀⠀⠀⠀⠀⠀⠀⠀⠀⠀⠀⠀⠑⢄⠀⠀⠀⠀⠀⠀⠀⠀⠀⠀⠀⠀⠀⠀⎥\n",
       "⎢⠀⠀⠀⠀⠀⠀⠀⠀⠀⠀⠀⠀⠀⠀⠀⠀⠀⠀⠀⠀⠀⠀⠀⠀⠀⠀⠑⢄⠀⠀⠀⠀⠀⠀⠀⠀⠀⠀⠀⠀⎥\n",
       "⎢⠀⠀⠀⠀⠀⠀⠀⠀⠀⠀⠀⠀⠀⠀⠀⠀⠀⠀⠀⠀⠀⠀⠀⠀⠀⠀⠀⠀⠑⢄⠀⠀⠀⠀⠀⠀⠀⠀⠀⠀⎥\n",
       "⎢⠀⠀⠀⠀⠀⠀⠀⠀⠀⠀⠀⠀⠀⠀⠀⠀⠀⠀⠀⠀⠀⠀⠀⠀⠀⠀⠀⠀⠀⠀⠑⢄⠀⠀⠀⠀⠀⠀⠀⠀⎥\n",
       "⎢⠀⠀⠀⠀⠀⠀⠀⠀⠀⠀⠀⠀⠀⠀⠀⠀⠀⠀⠀⠀⠀⠀⠀⠀⠀⠀⠀⠀⠀⠀⠀⠀⠑⢄⠀⠀⠀⠀⠀⠀⎥\n",
       "⎢⠀⠀⠀⠀⠀⠀⠀⠀⠀⠀⠀⠀⠀⠀⠀⠀⠀⠀⠀⠀⠀⠀⠀⠀⠀⠀⠀⠀⠀⠀⠀⠀⠀⠀⠑⢄⠀⠀⠀⠀⎥\n",
       "⎢⠀⠀⠀⠀⠀⠀⠀⠀⠀⠀⠀⠀⠀⠀⠀⠀⠀⠀⠀⠀⠀⠀⠀⠀⠀⠀⠀⠀⠀⠀⠀⠀⠀⠀⠀⠀⠑⢄⠀⠀⎥\n",
       "⎣⠀⠀⠀⠀⠀⠀⠀⠀⠀⠀⠀⠀⠀⠀⠀⠀⠀⠀⠀⠀⠀⠀⠀⠀⠀⠀⠀⠀⠀⠀⠀⠀⠀⠀⠀⠀⠀⠀⠑⢄⎦"
      ]
     },
     "metadata": {},
     "output_type": "display_data"
    }
   ],
   "source": [
    "M = FEM.massMatrix(problem, \"xxx\")"
   ]
  },
  {
   "cell_type": "code",
   "execution_count": 11,
   "metadata": {},
   "outputs": [
    {
     "data": {
      "text/plain": [
       "2588×2588 SparseMatrixCSC{Float64, Int64} with 77152 stored entries:\n",
       "⎡⠻⣦⣳⣜⠀⠃⠘⣦⢸⢸⠤⢰⢰⢐⣃⣠⡐⣄⠤⠄⠀⠠⣄⢠⡲⠤⠼⠂⠐⡖⣰⢀⠃⠀⠀⠀⠀⡐⡐⡃⎤\n",
       "⎢⣙⢾⡵⣯⡀⣀⠀⢺⣹⠰⠒⢸⣹⠠⡥⠴⠄⠦⠒⠂⠀⠐⢮⣹⣝⢚⡓⠀⠀⠆⠼⡡⡁⠀⠀⠀⠀⠄⢌⠄⎥\n",
       "⎢⠤⠀⠀⢨⣻⢞⡳⠆⡧⠂⢌⡧⣻⠁⡗⠴⡣⢚⡁⢈⣹⠦⠀⣉⠀⡇⢈⢈⠀⠀⠁⣟⡷⠌⠀⠀⠀⠐⢻⠀⎥\n",
       "⎢⠲⣤⣠⣀⠹⠎⠵⣧⢳⣥⣄⣳⣽⣠⣯⣾⣵⣉⣀⡄⠘⢓⣀⣀⣠⣧⣤⣤⠠⣶⣀⣏⢿⣆⣀⠀⢀⠼⠹⡀⎥\n",
       "⎢⣒⣒⢓⡚⠩⠋⠝⣶⣿⣿⣊⡟⣿⣻⣿⣾⣷⣿⠁⡈⠹⠛⣀⠋⢛⡋⢙⣚⣿⣿⣿⣿⣸⠉⠐⠛⣿⣻⣿⣟⎥\n",
       "⎢⢀⣃⣘⣀⠦⡵⢤⣹⣮⠼⣻⣾⢿⣿⣭⡉⠌⠠⣟⡛⠦⣴⣂⣶⣾⣿⡛⡿⠤⠤⢢⠲⣘⣶⣾⣻⢯⣏⢇⣅⎥\n",
       "⎢⢐⢒⠓⡚⠟⠚⠓⣻⣿⣻⣿⣷⣿⣿⡛⣚⣒⣃⠀⡽⢃⡼⣺⢿⡿⣝⣿⣿⣘⣛⣟⣲⣾⣾⢿⣦⣿⣟⣗⣛⎥\n",
       "⎢⠉⣸⢁⡏⢙⡍⣫⣿⣻⣿⡇⠻⣻⢨⣿⣿⣭⣹⠀⠐⢘⠁⣵⠀⠛⢚⠘⠛⢿⣻⠿⡟⠉⡀⠀⠀⠛⡟⡟⠛⎥\n",
       "⎢⠐⢬⠠⡅⣩⢊⡕⢻⣽⣿⠂⡁⠼⢸⣇⣻⣿⢟⡀⠀⡨⠑⠈⠀⠀⠐⠀⢀⢇⢿⣪⢫⠴⠂⠀⠀⢉⡲⣝⣙⎥\n",
       "⎢⠀⠇⠸⠀⡁⢈⠀⠼⡁⠠⣿⠹⣄⡤⢀⠀⠀⠈⣿⣿⡀⠰⠇⢨⠰⡠⣧⡯⠀⠀⡀⡠⠀⢀⢀⣠⡄⢄⡀⢀⎥\n",
       "⎢⠀⡀⢀⠀⠳⡞⢶⢀⣷⠂⢈⣧⣉⡴⠖⠐⢆⠊⢀⡈⡻⣮⡀⢉⡉⣏⢉⣈⠀⠒⠁⠲⢈⢥⢀⣤⠶⠀⠒⠆⎥\n",
       "⎢⠀⣙⣎⣳⡄⢠⠀⢸⡤⠘⢨⣼⣾⣞⠑⠛⠂⠀⡉⣁⡄⢈⣻⣾⣾⣤⡄⣨⡠⠣⡙⠙⠰⣲⣖⢀⡐⠀⠀⠃⎥\n",
       "⎢⠘⡎⣳⢙⠤⠤⠤⣾⡿⠰⣾⣿⣟⢯⣻⢀⢀⠀⠐⡢⡧⢬⠚⣿⣻⣾⣷⣛⢉⣐⣉⠂⢊⠑⠣⠤⠈⢙⠚⡛⎥\n",
       "⎢⠲⠃⠙⠈⡂⢐⠀⣿⣳⢰⣿⡬⣿⣿⣶⠀⠀⢀⡭⡿⡃⢰⡀⣩⣽⢻⢿⣷⡀⠀⢓⣀⠎⣱⣬⠭⢷⣶⢴⣶⎥\n",
       "⎢⢰⠤⠠⠄⠀⠀⢠⣦⣿⣿⠀⡇⣶⢸⣿⣳⣭⣕⠀⠀⢠⠀⠤⡊⢃⢰⠀⠈⣿⣿⣼⡍⣈⠂⠀⠀⠙⢶⣷⣅⎥\n",
       "⎢⠐⢚⠖⡣⣥⢤⡤⢼⣿⣿⢨⡒⢻⣹⣿⠧⡮⣚⠀⡨⢡⡀⣗⠈⠣⠘⠙⢰⡖⠿⣛⣼⣾⣍⠉⠀⣶⡶⣼⡏⎥\n",
       "⎢⠉⠀⠁⠈⡙⠏⠻⢷⡖⠚⢲⣼⣺⣿⠃⠠⠰⠃⠀⢀⠆⣔⢰⣢⢎⠐⢎⣡⠢⠘⡞⢿⢻⣶⣶⠢⣶⡜⡏⠁⎥\n",
       "⎢⠀⠀⠀⠀⠀⠀⠀⠘⣴⠀⣾⣻⠻⣷⠀⠀⠀⠀⠀⣰⠀⣴⠘⢙⠉⡆⡆⡟⠀⠀⠃⠀⠸⡛⢻⣶⡆⠀⠄⠀⎥\n",
       "⎢⢀⠠⠀⠄⢀⠀⣀⡔⣿⣻⡯⢷⣿⢿⣿⠤⢣⡰⠀⢍⠘⠃⠐⠈⣆⢀⢹⣷⢳⣄⢸⡿⣘⠿⠈⠉⣿⣿⣗⣿⎥\n",
       "⎣⠴⠨⠂⠕⠛⠒⠓⠢⣿⢿⠍⢵⣽⢹⣿⠉⣗⢹⠀⢈⠸⠄⠤⠀⣾⠠⢰⣷⠝⢿⡶⠿⠏⠉⠀⠁⣽⣽⣵⣿⎦"
      ]
     },
     "metadata": {},
     "output_type": "display_data"
    }
   ],
   "source": [
    "C = 1e-8 * K"
   ]
  },
  {
   "cell_type": "code",
   "execution_count": 12,
   "metadata": {},
   "outputs": [],
   "source": [
    "K, M, C, f = FEM.applyBoundaryConditions!(problem, K, M, C, [supp], [load]);"
   ]
  },
  {
   "cell_type": "code",
   "execution_count": 13,
   "metadata": {},
   "outputs": [
    {
     "data": {
      "text/plain": [
       "2.7452732708927537e-7"
      ]
     },
     "metadata": {},
     "output_type": "display_data"
    }
   ],
   "source": [
    "Tₘᵢₙ = FEM.smallestPeriodTime(K, M)"
   ]
  },
  {
   "cell_type": "code",
   "execution_count": 14,
   "metadata": {},
   "outputs": [
    {
     "data": {
      "text/plain": [
       "2588×1 Matrix{Float64}:\n",
       "  0.0005387852269263491\n",
       " -7.6115437689389405e-6\n",
       "  0.0\n",
       "  0.0\n",
       "  0.0\n",
       "  0.0\n",
       "  0.000538762506926716\n",
       "  7.3884565755569184e-6\n",
       "  0.0\n",
       "  0.0\n",
       "  ⋮\n",
       " -7.853248222284115e-7\n",
       "  3.1421379658552815e-5\n",
       "  3.6610079548423785e-6\n",
       "  2.9191277887710163e-5\n",
       " -4.04847997703222e-6\n",
       "  0.00030929112484203146\n",
       " -3.5355086539642655e-6\n",
       "  0.00022889873554789056\n",
       " -3.545778249026863e-6"
      ]
     },
     "metadata": {},
     "output_type": "display_data"
    }
   ],
   "source": [
    "q = FEM.solveDisplacement(K, f)"
   ]
  },
  {
   "cell_type": "markdown",
   "metadata": {},
   "source": [
    "$$\\mathbf{M}\\ddot{\\mathbf{q}}+\\mathbf{C}\\dot{\\mathbf{q}}+\\mathbf{K}\\mathbf{q}=\\mathbf{f}$$\n",
    "$$\\mathbf{M}\\ddot{\\mathbf{q}}_n+\\mathbf{C}\\dot{\\mathbf{q}}_n+\\mathbf{K}\\mathbf{q}_n=\\mathbf{f}_n$$\n",
    "$$\\ddot{\\mathbf{q}}_n = \\frac{\\mathbf{q}_{n+1}-2\\mathbf{q}_{n}+\\mathbf{q}_{n-1}}{\\Delta t^2}$$\n",
    "$$\\dot{\\mathbf{q}}_n = \\frac{\\mathbf{q}_{n}-\\mathbf{q}_{n-1}}{\\Delta t}$$\n",
    "$$\\mathbf{M}\\frac{\\mathbf{q}_{n+1}-2\\mathbf{q}_{n}+\\mathbf{q}_{n-1}}{\\Delta t^2}+\\mathbf{C}\\frac{\\mathbf{q}_{n}-\\mathbf{q}_{n-1}}{\\Delta t}+\\mathbf{K}\\mathbf{q}_n=\\mathbf{f}_n$$\n",
    "$$\\mathbf{M}(\\mathbf{q}_{n+1}-2\\mathbf{q}_{n}+\\mathbf{q}_{n-1})+\\Delta t\\mathbf{C}(\\mathbf{q}_{n}-\\mathbf{q}_{n-1})+\\Delta t^2\\mathbf{K}\\mathbf{q}_n=\\Delta t^2\\mathbf{f}_n$$\n",
    "$$\\mathbf{M}\\mathbf{q}_{n+1}=\\left(2\\mathbf{M}-\\Delta t\\mathbf{C}-\\Delta t^{2}\\mathbf{K}\\right)\\mathbf{q}_{n}+(\\Delta t\\mathbf{C}-\\mathbf{M})\\mathbf{q}_{n-1}+\\Delta t^{2}\\mathbf{f}_{n}$$"
   ]
  },
  {
   "cell_type": "code",
   "execution_count": 15,
   "metadata": {},
   "outputs": [
    {
     "data": {
      "text/plain": [
       "(2588, 557)"
      ]
     },
     "metadata": {},
     "output_type": "display_data"
    }
   ],
   "source": [
    "c = √(problem.E / problem.ρ)\n",
    "ξₘₐₓ = 1e-1\n",
    "β = ξₘₐₓ * Tₘᵢₙ / π\n",
    "C = β * K\n",
    "u, v, t = FEM.CDM(K, M, C, base / c * 2, Tₘᵢₙ / π * (√(1 + ξₘₐₓ^2) - ξₘₐₓ) * 0.9)\n",
    "size(u)"
   ]
  },
  {
   "cell_type": "code",
   "execution_count": 16,
   "metadata": {},
   "outputs": [
    {
     "data": {
      "text/plain": [
       "([[-0.9663738559958264, 0.036019482518845396, 0.0, 0.036019482518845396, -0.07407900603346898, 0.0, 0.0, 0.0, 0.0, -1.0354483194027035  …  0.0, -0.9668919524784818, 0.08222141866118841, 0.0, 0.08222141866118841, -0.06944499369215112, 0.0, 0.0, 0.0, 0.0], [-0.9663975402210722, -0.03620082482717023, 0.0, -0.03620082482717023, -0.07394270689526714, 0.0, 0.0, 0.0, 0.0, -0.8666344017434887  …  0.0, -0.9672985009444018, -0.08230552506090555, 0.0, -0.08230552506090555, -0.06929267675986953, 0.0, 0.0, 0.0, 0.0], [-0.9999999984234273, 7.77702388332208e-9, 0.0, 7.77702388332208e-9, -3.4356889555553494e-10, 0.0, 0.0, 0.0, 0.0, -1.000000008850516  …  0.0, -1.0000000054696279, 1.71188851022092e-9, 0.0, 1.71188851022092e-9, -6.326500601172569e-9, 0.0, 0.0, 0.0, 0.0], [-0.8796445431632653, 0.0689614230525848, 0.0, 0.0689614230525848, -0.1395809017410744, 0.0, 0.0, 0.0, 0.0, -0.9634592443352236  …  0.0, -0.9671010679707414, 0.07171717379132521, 0.0, 0.07171717379132521, -0.06674995118174032, 0.0, 0.0, 0.0, 0.0], [-0.8801542074254203, -0.07019244514658629, 0.0, -0.07019244514658629, -0.13891617175193, 0.0, 0.0, 0.0, 0.0, -1.0533101976898838  …  0.0, -0.9678218924088737, -0.07194555227106968, 0.0, -0.07194555227106968, -0.06651886205420032, 0.0, 0.0, 0.0, 0.0], [-1.5954850603594946, 0.19012632658749282, 0.0, 0.19012632658749282, -0.16156207423691937, 0.0, 0.0, 0.0, 0.0, -3.326915312337404  …  0.0, -2.0047742760483382, -0.00023121032700717213, 0.0, -0.00023121032700717213, -0.25954495266623795, 0.0, 0.0, 0.0, 0.0], [-0.8579902966017463, 0.09774510912012879, 0.0, 0.09774510912012879, -0.12977302631454676, 0.0, 0.0, 0.0, 0.0, -1.0506896942512407  …  0.0, -0.9257083872424746, 0.16514043646809157, 0.0, 0.16514043646809157, -0.08987448482238211, 0.0, 0.0, 0.0, 0.0], [-0.8585320776106286, -0.09817032661196436, 0.0, -0.09817032661196436, -0.12935624886837743, 0.0, 0.0, 0.0, 0.0, -0.6878401756533482  …  0.0, -0.9268459946115846, -0.16524531277276724, 0.0, -0.16524531277276724, -0.08964307002135785, 0.0, 0.0, 0.0, 0.0], [-1.0000000082295104, -3.4855907223019233e-8, 0.0, -3.4855907223019233e-8, -4.8777031913527225e-8, 0.0, 0.0, 0.0, 0.0, -1.0000000056845988  …  0.0, -1.0000000091189156, -1.3996920776528835e-8, 0.0, -1.3996920776528835e-8, -2.4081016125609978e-8, 0.0, 0.0, 0.0, 0.0], [-1.0574252542178344, 0.005285812589447749, 0.0, 0.005285812589447749, 0.006948383757316878, 0.0, 0.0, 0.0, 0.0, -1.020833806252691  …  0.0, -1.0323010010864104, 0.019720554261922398, 0.0, 0.019720554261922398, -0.00794637012151711, 0.0, 0.0, 0.0, 0.0]  …  [-1.000000013299829, 2.487217329797056e-8, 0.0, 2.487217329797056e-8, -2.5355023969275692e-8, 0.0, 0.0, 0.0, 0.0, -1.000000007277331  …  0.0, -1.0000000080797824, 9.994938737500476e-9, 0.0, 9.994938737500476e-9, -2.0259182387238894e-8, 0.0, 0.0, 0.0, 0.0], [-1.0167049213651616, 0.006167045646017257, 0.0, 0.006167045646017257, -0.05124788062500668, 0.0, 0.0, 0.0, 0.0, -1.0000282944962047  …  0.0, -1.0115538000573563, 0.03135120584520241, 0.0, 0.03135120584520241, -0.06288518558680184, 0.0, 0.0, 0.0, 0.0], [-1.000000004928612, -3.681283376423859e-9, 0.0, -3.681283376423859e-9, 1.3130786458148691e-9, 0.0, 0.0, 0.0, 0.0, -1.000000001287924  …  0.0, -1.000000001539561, -5.270837394015302e-9, 0.0, -5.270837394015302e-9, 2.265650334010161e-9, 0.0, 0.0, 0.0, 0.0], [-1.0000000070402473, 3.1168612779550613e-9, 0.0, 3.1168612779550613e-9, -1.2662014770015162e-9, 0.0, 0.0, 0.0, 0.0, -0.9999999985920134  …  0.0, -1.000000002730245, 4.849386117026318e-9, 0.0, 4.849386117026318e-9, 1.6959249560244416e-9, 0.0, 0.0, 0.0, 0.0], [-1.018918305507711, -0.008923567398220988, 0.0, -0.008923567398220988, -0.044726966718691974, 0.0, 0.0, 0.0, 0.0, -1.0005379740841838  …  0.0, -1.0089598937748965, -0.027777942689691804, 0.0, -0.027777942689691804, -0.061851457471648275, 0.0, 0.0, 0.0, 0.0], [-1.0000000088840628, 2.205283898868939e-9, 0.0, 2.205283898868939e-9, -1.7558991483035413e-9, 0.0, 0.0, 0.0, 0.0, -1.0000000058942695  …  0.0, -1.0000000087794354, -3.098107707877329e-10, 0.0, -3.098107707877329e-10, -6.560833099023e-9, 0.0, 0.0, 0.0, 0.0], [-0.9951263939415482, 0.009640635697543426, 0.0, 0.009640635697543426, 0.0028591683516639432, 0.0, 0.0, 0.0, 0.0, -1.0091424549741999  …  0.0, -1.0052634009158448, 0.007719292431304595, 0.0, 0.007719292431304595, 0.0012144333541564412, 0.0, 0.0, 0.0, 0.0], [-0.9929660018280076, -0.010270165830657324, 0.0, -0.010270165830657324, 0.003767387439916392, 0.0, 0.0, 0.0, 0.0, -0.9926031444895381  …  0.0, -1.002969831141349, -0.007966763658311688, 0.0, -0.007966763658311688, -0.0007862436720155186, 0.0, 0.0, 0.0, 0.0], [-1.4560822327614211, 0.05389903274416777, 0.0, 0.05389903274416777, 0.3082398330279532, 0.0, 0.0, 0.0, 0.0, -0.7118125836620954  …  0.0, -1.1266705036925835, 0.2299566230184308, 0.0, 0.2299566230184308, 0.1223240931176941, 0.0, 0.0, 0.0, 0.0], [-1.456822484624099, -0.05264600094991677, 0.0, -0.05264600094991677, 0.30795557376564664, 0.0, 0.0, 0.0, 0.0, -1.2873376802790963  …  0.0, -1.1290634111388076, -0.2293140273040587, 0.0, -0.2293140273040587, 0.12252300010590389, 0.0, 0.0, 0.0, 0.0]], [124, 125, 126, 127, 128, 129, 130, 131, 132, 133  …  408, 409, 410, 411, 412, 413, 414, 415, 416, 417])"
      ]
     },
     "metadata": {},
     "output_type": "display_data"
    }
   ],
   "source": [
    "S = FEM.solveStress(problem, q)"
   ]
  },
  {
   "cell_type": "code",
   "execution_count": 17,
   "metadata": {},
   "outputs": [],
   "source": [
    "gmsh.option.setNumber(\"View.IntervalsType\", 3)\n",
    "gmsh.option.setNumber(\"View.VectorType\", 5)\n",
    "gmsh.option.setString(\"View.Format\", \"%.6g\")"
   ]
  },
  {
   "cell_type": "code",
   "execution_count": 18,
   "metadata": {
    "notebookRunGroups": {
     "groupValue": ""
    }
   },
   "outputs": [
    {
     "data": {
      "text/plain": [
       "\"uvec..ok\""
      ]
     },
     "metadata": {},
     "output_type": "display_data"
    },
    {
     "data": {
      "text/plain": [
       "\"ux..ok\""
      ]
     },
     "metadata": {},
     "output_type": "display_data"
    },
    {
     "data": {
      "text/plain": [
       "\"uy..ok\""
      ]
     },
     "metadata": {},
     "output_type": "display_data"
    },
    {
     "data": {
      "text/plain": [
       "\"uz..ok\""
      ]
     },
     "metadata": {},
     "output_type": "display_data"
    },
    {
     "data": {
      "text/plain": [
       "\"s..ok\""
      ]
     },
     "metadata": {},
     "output_type": "display_data"
    },
    {
     "data": {
      "text/plain": [
       "\"sx..ok\""
      ]
     },
     "metadata": {},
     "output_type": "display_data"
    },
    {
     "data": {
      "text/plain": [
       "\"sy..ok\""
      ]
     },
     "metadata": {},
     "output_type": "display_data"
    },
    {
     "data": {
      "text/plain": [
       "\"sz..ok\""
      ]
     },
     "metadata": {},
     "output_type": "display_data"
    },
    {
     "data": {
      "text/plain": [
       "\"sxy..ok\""
      ]
     },
     "metadata": {},
     "output_type": "display_data"
    },
    {
     "data": {
      "text/plain": [
       "\"syz..ok\""
      ]
     },
     "metadata": {},
     "output_type": "display_data"
    },
    {
     "data": {
      "text/plain": [
       "\"szx..ok\""
      ]
     },
     "metadata": {},
     "output_type": "display_data"
    },
    {
     "name": "stdout",
     "output_type": "stream",
     "text": [
      "Info    : Running Plugin(Smooth)...\n",
      "Info    : Done running Plugin(Smooth)\n",
      "Info    : Running Plugin(Smooth)...\n",
      "Info    : Done running Plugin(Smooth)\n",
      "Info    : Running Plugin(Smooth)...\n",
      "Info    : Done running Plugin(Smooth)\n",
      "Info    : Running Plugin(Smooth)...\n",
      "Info    : Done running Plugin(Smooth)\n",
      "Info    : Running Plugin(Smooth)...\n",
      "Info    : Done running Plugin(Smooth)\n",
      "Info    : Running Plugin(Smooth)...\n",
      "Info    : Done running Plugin(Smooth)\n",
      "Info    : Running Plugin(Smooth)...\n",
      "Info    : Done running Plugin(Smooth)\n"
     ]
    },
    {
     "data": {
      "text/plain": [
       "12"
      ]
     },
     "metadata": {},
     "output_type": "display_data"
    }
   ],
   "source": [
    "u = FEM.showDisplacementResults(problem, q, \"uvec\", name=\"uvec\", visible=false)\n",
    "ux = FEM.showDisplacementResults(problem, q, \"ux\", name=\"ux\", visible=false)\n",
    "uy = FEM.showDisplacementResults(problem, q, \"uy\", name=\"uy\", visible=false)\n",
    "uz = FEM.showDisplacementResults(problem, q, \"uz\", name=\"uz\", visible=false)\n",
    "s = FEM.showStressResults(problem, S, \"s\", name=\"σ\", visible=false, smooth=true)\n",
    "sx = FEM.showStressResults(problem, S, \"sx\", name=\"σx\", visible=false, smooth=true)\n",
    "sy = FEM.showStressResults(problem, S, \"sy\", name=\"σy\", visible=false, smooth=true)\n",
    "sz = FEM.showStressResults(problem, S, \"sz\", name=\"σz\", visible=false, smooth=true)\n",
    "sxy = FEM.showStressResults(problem, S, \"sxy\", name=\"τxy\", visible=false, smooth=true)\n",
    "syz = FEM.showStressResults(problem, S, \"syz\", name=\"τyz\", visible=false, smooth=true)\n",
    "szx = FEM.showStressResults(problem, S, \"szx\", name=\"τzx\", visible=false, smooth=true)\n",
    "vvec = FEM.showResultsVTvec(problem, v, t, name=\"v(t)\", visible=true)\n",
    "#vvec = FEM.showDisplacementResults(problem, v[:, 1000], \"uvec\", name=\"v(500)\", visible=true)"
   ]
  },
  {
   "cell_type": "code",
   "execution_count": 19,
   "metadata": {},
   "outputs": [],
   "source": [
    "#pp1 = gmsh.model.occ.addPoint(0, height / 2, 0)\n",
    "#pp2 = gmsh.model.occ.addPoint(base, height / 2, 0)\n",
    "#pp3 = gmsh.model.occ.addPoint(base / 8, height / 4, 0)\n",
    "\n",
    "#pl1 = gmsh.model.occ.addLine(pp1, pp2)\n",
    "#pl2 = gmsh.model.occ.addSpline([pp1, pp3, pp2])\n",
    "\n",
    "\n",
    "#gmsh.model.occ.synchronize()"
   ]
  },
  {
   "cell_type": "code",
   "execution_count": 20,
   "metadata": {},
   "outputs": [
    {
     "data": {
      "text/plain": [
       "84"
      ]
     },
     "metadata": {},
     "output_type": "display_data"
    },
    {
     "ename": "MethodError",
     "evalue": "MethodError: no method matching getindex(::Int32, ::Colon, ::Int64)\n\nClosest candidates are:\n  getindex(::Number, !Matched::Integer...)\n   @ Base number.jl:101\n  getindex(::Number, !Matched::Integer)\n   @ Base number.jl:96\n  getindex(::Number)\n   @ Base number.jl:95\n  ...\n",
     "output_type": "error",
     "traceback": [
      "MethodError: no method matching getindex(::Int32, ::Colon, ::Int64)\n",
      "\n",
      "Closest candidates are:\n",
      "  getindex(::Number, !Matched::Integer...)\n",
      "   @ Base number.jl:101\n",
      "  getindex(::Number, !Matched::Integer)\n",
      "   @ Base number.jl:96\n",
      "  getindex(::Number)\n",
      "   @ Base number.jl:95\n",
      "  ...\n",
      "\n",
      "\n",
      "Stacktrace:\n",
      " [1] top-level scope\n",
      "   @ ~/Dokumentumok/GitHub/Oktatas/examples/wavePropagationInRectangle.ipynb:3"
     ]
    }
   ],
   "source": [
    "sts = ceil(Int64, (base / c * 2) / 6 / (Tₘᵢₙ / π * (√(1 + ξₘₐₓ^2) - ξₘₐₓ)))\n",
    "display(sts)\n",
    "Sp = FEM.solveStress(problem, u[:, sts])\n",
    "sp = FEM.showStressResults(problem, Sp, \"s\", name=\"σ at t\", visible=false, smooth=false)\n",
    "#sp = FEM.showResultS(problem, Sp, name=\"σ at t\", visible=false, smooth=false)\n",
    "#FEM.plotOnPath(problem, \"path\", sp, 500, name=\"σred on path\", visible=false);"
   ]
  },
  {
   "cell_type": "code",
   "execution_count": 21,
   "metadata": {},
   "outputs": [],
   "source": [
    "#gmsh.option.setNumber(\"PostProcessing.Binary\", 1)\n",
    "#gmsh.option.setNumber(\"PostProcessing.SaveMesh\", 1)\n",
    "\n",
    "#gmsh.write(\"rect.msh\")\n",
    "#gmsh.write(\"rect.opt\")\n",
    "#gmsh.view.write(4, \"rect.pos\")"
   ]
  },
  {
   "cell_type": "code",
   "execution_count": 22,
   "metadata": {},
   "outputs": [
    {
     "name": "stdout",
     "output_type": "stream",
     "text": [
      "-------------------------------------------------------\n",
      "Version       : 4.12.2\n",
      "License       : GNU General Public License\n",
      "Build OS      : Linux64-sdk\n",
      "Build date    : 20240121\n",
      "Build host    : gmsh.info\n",
      "Build options : 64Bit ALGLIB[contrib] ANN[contrib] Bamg Blas[petsc] Blossom Cgns DIntegration Dlopen DomHex Eigen[contrib] Fltk Gmm[contrib] Hxt Jpeg Kbipack Lapack[petsc] LinuxJoystick MathEx[contrib] Med Mesh Metis[contrib] Mmg Mpeg Netgen ONELAB ONELABMetamodel OpenCASCADE OpenCASCADE-CAF OpenGL OpenMP OptHom PETSc Parser Plugins Png Post QuadMeshingTools QuadTri Solver TetGen/BR Voro++[contrib] WinslowUntangler Zlib\n",
      "FLTK version  : 1.4.0\n",
      "PETSc version : 3.14.4 (real arithmtic)\n",
      "OCC version   : 7.7.2\n",
      "MED version   : 4.1.0\n",
      "Packaged by   : geuzaine\n",
      "Web site      : https://gmsh.info\n",
      "Issue tracker : https://gitlab.onelab.info/gmsh/gmsh/issues\n",
      "-------------------------------------------------------\n"
     ]
    }
   ],
   "source": [
    "ENV[\"LIBGL_ALWAYS_SOFTWARE\"] = \"false\"\n",
    "gmsh.fltk.run()"
   ]
  },
  {
   "cell_type": "code",
   "execution_count": 23,
   "metadata": {
    "slideshow": {
     "slide_type": ""
    },
    "tags": []
   },
   "outputs": [],
   "source": [
    "gmsh.finalize()"
   ]
  }
 ],
 "metadata": {
  "kernelspec": {
   "display_name": "Julia 1.10.0",
   "language": "julia",
   "name": "julia-1.10"
  },
  "language_info": {
   "file_extension": ".jl",
   "mimetype": "application/julia",
   "name": "julia",
   "version": "1.10.0"
  },
  "varInspector": {
   "cols": {
    "lenName": 16,
    "lenType": 16,
    "lenVar": 40
   },
   "kernels_config": {
    "python": {
     "delete_cmd_postfix": "",
     "delete_cmd_prefix": "del ",
     "library": "var_list.py",
     "varRefreshCmd": "print(var_dic_list())"
    },
    "r": {
     "delete_cmd_postfix": ") ",
     "delete_cmd_prefix": "rm(",
     "library": "var_list.r",
     "varRefreshCmd": "cat(var_dic_list()) "
    }
   },
   "types_to_exclude": [
    "module",
    "function",
    "builtin_function_or_method",
    "instance",
    "_Feature"
   ],
   "window_display": false
  }
 },
 "nbformat": 4,
 "nbformat_minor": 4
}
