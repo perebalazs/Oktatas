{
 "cells": [
  {
   "cell_type": "code",
   "execution_count": 4,
   "id": "dc45e465",
   "metadata": {},
   "outputs": [],
   "source": [
    "using LowLevelFEM\n",
    "import LowLevelFEM as FEM\n",
    "\n",
    "gmsh.initialize()"
   ]
  },
  {
   "cell_type": "code",
   "execution_count": 5,
   "id": "19c0cc6c",
   "metadata": {},
   "outputs": [
    {
     "name": "stdout",
     "output_type": "stream",
     "text": [
      "Info    : Reading 'furat.geo'...\n",
      "Info    : Meshing 1D...                                                                                                                        \n",
      "Info    : [  0%] Meshing curve 5 (Ellipse)\n",
      "Info    : [ 30%] Meshing curve 6 (Line)\n",
      "Info    : [ 50%] Meshing curve 7 (Line)\n",
      "Info    : [ 70%] Meshing curve 8 (Line)\n",
      "Info    : [ 90%] Meshing curve 9 (Line)\n",
      "Info    : Done meshing 1D (Wall 0.00118934s, CPU 0.001182s)\n",
      "Info    : Meshing 2D...\n",
      "Info    : Meshing surface 1 (Plane, Frontal-Delaunay)\n",
      "Info    : Blossom: 22788 internal 756 closed\n",
      "Info    : Blossom recombination completed (Wall 0.875629s, CPU 0.866532s): 7553 quads, 0 triangles, 0 invalid quads, 0 quads with Q < 0.1, avg Q = 0.805118, min Q = 0.312842\n",
      "Info    : Done meshing 2D (Wall 1.41433s, CPU 1.39668s)\n",
      "Info    : Meshing order 4 (curvilinear on)...\n",
      "Info    : [  0%] Meshing curve 5 order 4\n",
      "Info    : [ 20%] Meshing curve 6 order 4\n",
      "Info    : [ 40%] Meshing curve 7 order 4\n",
      "Info    : [ 60%] Meshing curve 8 order 4\n",
      "Info    : [ 70%] Meshing curve 9 order 4\n",
      "Info    : [ 90%] Meshing surface 1 order 4\n",
      "Info    : Done meshing order 4 (Wall 0.169785s, CPU 0.167915s)\n",
      "Info    : 122360 nodes 8314 elements\n",
      "Info    : Done reading 'furat.geo'\n"
     ]
    }
   ],
   "source": [
    "gmsh.open(\"furat.geo\")"
   ]
  },
  {
   "cell_type": "code",
   "execution_count": 6,
   "id": "96d02919",
   "metadata": {},
   "outputs": [
    {
     "name": "stdout",
     "output_type": "stream",
     "text": [
      "Info    : RCMK renumbering...\n",
      "Info    : Done RCMK renumbering (bandwidth is now 5365)\n"
     ]
    },
    {
     "data": {
      "text/plain": [
       "LowLevelFEM.Problem(\"furat\", :PlaneStress, 2, 2, LowLevelFEM.Material[LowLevelFEM.Material(\"plate\", 200000.0, 0.3, 7.85e-9, 45.0, 4.2e8, 1.2e-5)], 1.0, 122360)"
      ]
     },
     "metadata": {},
     "output_type": "display_data"
    }
   ],
   "source": [
    "mat = FEM.material(\"plate\", E=2e5, ν=0.3)\n",
    "problem = FEM.Problem([mat], type=:PlaneStress)"
   ]
  },
  {
   "cell_type": "code",
   "execution_count": 7,
   "id": "ef9df417",
   "metadata": {},
   "outputs": [
    {
     "data": {
      "text/plain": [
       "(\"right\", 0, 1, 0)"
      ]
     },
     "metadata": {},
     "output_type": "display_data"
    }
   ],
   "source": [
    "supp1 = FEM.displacementConstraint(\"left\", ux=0, uy=0)\n",
    "supp2 = FEM.displacementConstraint(\"right\", uy=0)\n",
    "load = FEM.load(\"right\", fx=1)\n",
    "loadL = FEM.load(\"left\", fy=-1)\n",
    "loadR = FEM.load(\"right\", fy=1)"
   ]
  },
  {
   "cell_type": "code",
   "execution_count": 8,
   "id": "6527f096",
   "metadata": {},
   "outputs": [
    {
     "data": {
      "text/plain": [
       "244720-element Vector{Float64}:\n",
       "  0.002575733259242966\n",
       "  4.9038817107401e-10\n",
       "  0.0\n",
       "  0.0\n",
       "  0.004956911004767871\n",
       "  0.0\n",
       "  0.0\n",
       "  0.0\n",
       "  0.004956910781830732\n",
       "  0.0\n",
       "  ⋮\n",
       " -2.1337219889981666e-5\n",
       "  0.002463063685535801\n",
       " -2.1214675034023918e-5\n",
       "  0.002463167001644638\n",
       " -2.138847892739162e-5\n",
       "  0.002463908730593332\n",
       " -2.1506566689757308e-5\n",
       "  0.0024634843526827525\n",
       " -2.1361701986850116e-5"
      ]
     },
     "metadata": {},
     "output_type": "display_data"
    }
   ],
   "source": [
    "q = FEM.solveDisplacement(problem, [load], [supp1, supp2])"
   ]
  },
  {
   "cell_type": "code",
   "execution_count": 9,
   "id": "36a413a8",
   "metadata": {},
   "outputs": [
    {
     "data": {
      "text/plain": [
       "LowLevelFEM.TensorField([[1.000058220699212; -2.5561726603022854e-6; … ; 0.0; 0.0;;], [1.0000632696975962; 5.327858762332876e-6; … ; 0.0; 0.0;;], [1.0000139405301542; 4.429681243592905e-6; … ; 0.0; 0.0;;], [0.7859335642834363; -0.06994854531082405; … ; 0.0; 0.0;;], [0.9995487995907826; -0.0008938111873736375; … ; 0.0; 0.0;;], [1.0135681740518414; 0.004762456389248218; … ; 0.0; 0.0;;], [0.9999761683542354; -4.938031145505274e-5; … ; 0.0; 0.0;;], [1.0002700117027234; -0.00031270188455995537; … ; 0.0; 0.0;;], [1.0006774186962515; 0.0006855838883672005; … ; 0.0; 0.0;;], [0.9999201970762527; 2.0281561039222768e-5; … ; 0.0; 0.0;;]  …  [0.06552000925673007; -0.019793344267665658; … ; 0.0; 0.0;;], [-0.02553732066118819; 0.05151403171609548; … ; 0.0; 0.0;;], [0.6065618419048677; -0.4390533857323366; … ; 0.0; 0.0;;], [-0.03085738977145422; -0.00863543756689355; … ; 0.0; 0.0;;], [-0.032289003636975566; 0.02408485129681687; … ; 0.0; 0.0;;], [0.06269648377949254; -0.01791602730680689; … ; 0.0; 0.0;;], [0.1514400815516474; 0.09696936174211485; … ; 0.0; 0.0;;], [-0.038522439200446956; 0.015484473761787897; … ; 0.0; 0.0;;], [0.3949802566227719; -0.2009498654273079; … ; 0.0; 0.0;;], [1.5300837537894176; 0.5727900646516393; … ; 0.0; 0.0;;]], [762, 763, 764, 765, 766, 767, 768, 769, 770, 771  …  8305, 8306, 8307, 8308, 8309, 8310, 8311, 8312, 8313, 8314], 1, :s)"
      ]
     },
     "metadata": {},
     "output_type": "display_data"
    }
   ],
   "source": [
    "S = FEM.solveStress(problem, q)"
   ]
  },
  {
   "cell_type": "code",
   "execution_count": 10,
   "id": "71a31445",
   "metadata": {},
   "outputs": [
    {
     "data": {
      "text/plain": [
       "1101240×1 Matrix{Float64}:\n",
       " -7.412675537277202e-8\n",
       "  1.1984391210723326e-9\n",
       "  0.0\n",
       "  1.1984391210723326e-9\n",
       " -1.030695238202516\n",
       "  0.0\n",
       "  0.0\n",
       "  0.0\n",
       "  0.0\n",
       "  2.8688293167017287\n",
       "  ⋮\n",
       "  1.4708178506041354\n",
       "  0.6000741028033157\n",
       "  0.0\n",
       "  0.6000741028033157\n",
       "  0.3491976918849163\n",
       "  0.0\n",
       "  0.0\n",
       "  0.0\n",
       "  0.0"
      ]
     },
     "metadata": {},
     "output_type": "display_data"
    }
   ],
   "source": [
    "S1 = FEM.elementsToNodes(problem, S)"
   ]
  },
  {
   "cell_type": "code",
   "execution_count": 11,
   "id": "7accc1e2",
   "metadata": {},
   "outputs": [
    {
     "data": {
      "text/plain": [
       "τRφ (generic function with 1 method)"
      ]
     },
     "metadata": {},
     "output_type": "display_data"
    }
   ],
   "source": [
    "a = 5\n",
    "N = 1\n",
    "σR(x, y, z) = N * (1 - a^2 / (x^2 + y^2)) / 2 + N * cos(2 * atan(y / x)) * (3 * a^2 / (x^2 + y^2)^2 - 4 * a^2 / (x^2 + y^2) + 1) / 2\n",
    "σφ(x, y, z) = N * (1 + a^2 / (x^2 + y^2)) / 2 - N * cos(2 * atan(y / x)) * (3 * a^4 / (x^2 + y^2)^2 + 1) / 2\n",
    "τRφ(x, y, z) = N * sin(2 * atan(y / x)) * (3 * a^2 / (x^2 + y^2)^2 - 2 * a^2 / (x^2 + y^2) - 1) / 2"
   ]
  },
  {
   "cell_type": "code",
   "execution_count": 12,
   "id": "04504c27",
   "metadata": {},
   "outputs": [
    {
     "data": {
      "text/plain": [
       "122360-element Vector{Float64}:\n",
       " -0.0\n",
       " -0.09902950679461633\n",
       "  0.09902950679461633\n",
       "  0.09902950679461633\n",
       " -0.09902950679461633\n",
       " -0.05724938173957289\n",
       " -0.11440824043926864\n",
       " -0.17138619619474277\n",
       " -0.2280931551463894\n",
       " -0.28443945193625164\n",
       "  ⋮\n",
       "  1.1514302094453335\n",
       "  1.1662489677165289\n",
       "  1.1871241441546159\n",
       "  1.1722862022718383\n",
       "  1.1590247740015087\n",
       "  1.1765901814064577\n",
       "  1.1798638615517256\n",
       "  1.1617700163029976\n",
       "  1.1693519817799902"
      ]
     },
     "metadata": {},
     "output_type": "display_data"
    }
   ],
   "source": [
    "sR = FEM.field(\"plate\", f=σR)\n",
    "sφ = FEM.field(\"plate\", f=σφ)\n",
    "sRφ = FEM.field(\"plate\", f=τRφ)\n",
    "\n",
    "sR1 = FEM.scalarField(problem, [sR])\n",
    "sφ1 = FEM.scalarField(problem, [sφ])\n",
    "sRφ1 = FEM.scalarField(problem, [sRφ])"
   ]
  },
  {
   "cell_type": "code",
   "execution_count": 13,
   "id": "ab3ae4db",
   "metadata": {},
   "outputs": [
    {
     "name": "stdout",
     "output_type": "stream",
     "text": [
      "Info    : Running Plugin(Smooth)...\n",
      "Info    : Done running Plugin(Smooth)\n"
     ]
    },
    {
     "data": {
      "text/plain": [
       "3"
      ]
     },
     "metadata": {},
     "output_type": "display_data"
    }
   ],
   "source": [
    "FEM.showStressResults(problem, S, :s, visible=true)\n",
    "\n",
    "FEM.showDoFResults(problem, sR1, :scalar)\n",
    "FEM.showDoFResults(problem, sφ1, :scalar)\n",
    "FEM.showDoFResults(problem, sRφ1, :scalar)"
   ]
  },
  {
   "cell_type": "code",
   "execution_count": 14,
   "id": "b5c73b1d",
   "metadata": {},
   "outputs": [
    {
     "data": {
      "text/plain": [
       "LowLevelFEM.Transformation(sparse([1, 2, 3, 4, 3, 4, 5, 6, 5, 6  …  244715, 244716, 244717, 244718, 244717, 244718, 244719, 244720, 244719, 244720], [1, 2, 3, 3, 4, 4, 5, 5, 6, 6  …  244716, 244716, 244717, 244717, 244718, 244718, 244719, 244719, 244720, 244720], [1.0, 1.0, -0.9950371902099892, -0.09950371902099892, 0.09950371902099892, -0.9950371902099892, 0.9950371902099892, -0.09950371902099892, 0.09950371902099892, 0.9950371902099892  …  -0.8550115733341447, -0.5186089176486175, -0.5111781465702527, 0.8594747829162885, -0.8594747829162885, -0.5111781465702527, -0.5173178695987247, 0.8557933289023915, -0.8557933289023915, -0.5173178695987247], 244720, 244720), 122360, 2)"
      ]
     },
     "metadata": {},
     "output_type": "display_data"
    }
   ],
   "source": [
    "nx(x, y) = x\n",
    "ny(x, y) = y\n",
    "cs = FEM.CoordinateSystem([nx, ny])\n",
    "Q = FEM.rotateNodes(problem, \"plate\", cs)"
   ]
  },
  {
   "cell_type": "code",
   "execution_count": 15,
   "id": "658580e0",
   "metadata": {},
   "outputs": [],
   "source": [
    "S2 = Q' * S1 * Q;"
   ]
  },
  {
   "cell_type": "code",
   "execution_count": 16,
   "id": "75356771",
   "metadata": {},
   "outputs": [
    {
     "data": {
      "text/plain": [
       "1101240×1 Matrix{Float64}:\n",
       " 6.290976073408672e-11\n",
       " 1.6702594688109472e-9\n",
       " 0.0\n",
       " 1.6702594688109472e-9\n",
       " 1.294018225905802e-10\n",
       " 0.0\n",
       " 0.0\n",
       " 0.0\n",
       " 0.0\n",
       " 0.0\n",
       " ⋮\n",
       " 0.0\n",
       " 0.0\n",
       " 0.0\n",
       " 0.0\n",
       " 0.0\n",
       " 0.0\n",
       " 0.0\n",
       " 0.0\n",
       " 0.0"
      ]
     },
     "metadata": {},
     "output_type": "display_data"
    }
   ],
   "source": [
    "e = FEM.fieldError(problem, S)"
   ]
  },
  {
   "cell_type": "code",
   "execution_count": 17,
   "id": "bd30bc6b",
   "metadata": {},
   "outputs": [
    {
     "data": {
      "text/plain": [
       "7"
      ]
     },
     "metadata": {},
     "output_type": "display_data"
    }
   ],
   "source": [
    "FEM.showDoFResults(problem, S2, :sx, name=\"σR\")\n",
    "FEM.showDoFResults(problem, S2, :sy, name=\"σφ\")\n",
    "FEM.showDoFResults(problem, S2, :sxy, name=\"τRφ\")\n",
    "FEM.showDoFResults(problem, e, :scalar, name=\"Error\")"
   ]
  },
  {
   "cell_type": "code",
   "execution_count": 18,
   "id": "b8cf5616",
   "metadata": {},
   "outputs": [
    {
     "name": "stdout",
     "output_type": "stream",
     "text": [
      "-------------------------------------------------------\n",
      "Version       : 4.13.1\n",
      "License       : GNU General Public License\n",
      "Build OS      : Linux64-sdk\n",
      "Build date    : 19700101\n",
      "Build host    : amdci7.julia.csail.mit.edu\n",
      "Build options : 64Bit ALGLIB[contrib] ANN[contrib] Bamg Blossom Cairo DIntegration Dlopen DomHex Eigen[contrib] Fltk GMP Gmm[contrib] Hxt Jpeg Kbipack LinuxJoystick MathEx[contrib] Mesh Metis[contrib] Mmg Mpeg Netgen Nii2mesh ONELAB ONELABMetamodel OpenCASCADE OpenCASCADE-CAF OpenGL OpenMP OptHom Parser Plugins Png Post QuadMeshingTools QuadTri Solver TetGen/BR TinyXML2[contrib] Untangle Voro++[contrib] WinslowUntangler Zlib\n",
      "FLTK version  : 1.3.8\n",
      "OCC version   : 7.7.2\n",
      "Packaged by   : root\n",
      "Web site      : https://gmsh.info\n",
      "Issue tracker : https://gitlab.onelab.info/gmsh/gmsh/issues\n",
      "-------------------------------------------------------\n"
     ]
    },
    {
     "name": "stderr",
     "output_type": "stream",
     "text": [
      "XOpenIM() failed\n",
      "XRequest.18: BadValue 0x0\n"
     ]
    }
   ],
   "source": [
    "FEM.openPostProcessor()"
   ]
  },
  {
   "cell_type": "code",
   "execution_count": 19,
   "id": "e7cd99bd",
   "metadata": {},
   "outputs": [],
   "source": [
    "gmsh.finalize()"
   ]
  }
 ],
 "metadata": {
  "kernelspec": {
   "display_name": "Julia 1.11.6",
   "language": "julia",
   "name": "julia-1.11"
  },
  "language_info": {
   "file_extension": ".jl",
   "mimetype": "application/julia",
   "name": "julia",
   "version": "1.11.6"
  }
 },
 "nbformat": 4,
 "nbformat_minor": 5
}
