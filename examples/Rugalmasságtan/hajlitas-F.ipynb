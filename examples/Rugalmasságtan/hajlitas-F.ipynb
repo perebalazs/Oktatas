{
 "cells": [
  {
   "cell_type": "code",
   "execution_count": 237,
   "metadata": {},
   "outputs": [],
   "source": [
    "using Symbolics"
   ]
  },
  {
   "cell_type": "code",
   "execution_count": 238,
   "metadata": {},
   "outputs": [],
   "source": [
    "@variables x y C₁ C₂ C₃;"
   ]
  },
  {
   "cell_type": "code",
   "execution_count": 239,
   "metadata": {},
   "outputs": [],
   "source": [
    "Dx = Differential(x)\n",
    "Dy = Differential(y);"
   ]
  },
  {
   "cell_type": "code",
   "execution_count": 240,
   "metadata": {},
   "outputs": [
    {
     "data": {
      "text/latex": [
       "$$ \\begin{equation}\n",
       "x^{2} \\mathtt{C{_1}} + \\mathtt{C{_2}} x y + y^{2} \\mathtt{C{_3}}\n",
       "\\end{equation}\n",
       " $$"
      ],
      "text/plain": [
       "C₁*(x^2) + C₂*x*y + C₃*(y^2)"
      ]
     },
     "metadata": {},
     "output_type": "display_data"
    }
   ],
   "source": [
    "ϕ = C₁ * x^2 + C₂ * x * y + C₃ * y^2"
   ]
  },
  {
   "cell_type": "code",
   "execution_count": 241,
   "metadata": {},
   "outputs": [
    {
     "data": {
      "text/latex": [
       "$$ \\begin{equation}\n",
       "2 \\mathtt{C{_1}}\n",
       "\\end{equation}\n",
       " $$"
      ],
      "text/plain": [
       "2C₁"
      ]
     },
     "metadata": {},
     "output_type": "display_data"
    }
   ],
   "source": [
    "σₓ = expand_derivatives(Dx(Dx(ϕ)))"
   ]
  },
  {
   "cell_type": "code",
   "execution_count": 242,
   "metadata": {},
   "outputs": [],
   "source": [
    "using LowLevelFEM\n",
    "import LowLevelFEM as FEM\n",
    "\n",
    "gmsh.initialize()"
   ]
  },
  {
   "cell_type": "code",
   "execution_count": 243,
   "metadata": {},
   "outputs": [
    {
     "name": "stdout",
     "output_type": "stream",
     "text": [
      "Info    : Reading 'beam.geo'...\n",
      "Info    : Meshing 1D...\n",
      "Info    : [  0%] Meshing curve 1 (Line)\n",
      "Info    : [ 30%] Meshing curve 2 (Line)\n",
      "Info    : [ 60%] Meshing curve 3 (Line)\n",
      "Info    : [ 80%] Meshing curve 4 (Line)\n",
      "Info    : Done meshing 1D (Wall 0.00373052s, CPU 0.000736s)\n",
      "Info    : Meshing 2D...\n",
      "Info    : Meshing surface 1 (Plane, Frontal-Delaunay)\n",
      "Info    : Done meshing 2D (Wall 0.119862s, CPU 0.111326s)\n",
      "Info    : Meshing order 2 (curvilinear on)...\n",
      "Info    : [  0%] Meshing curve 1 order 2\n",
      "Info    : [ 30%] Meshing curve 2 order 2\n",
      "Info    : [ 50%] Meshing curve 3 order 2\n",
      "Info    : [ 70%] Meshing curve 4 order 2\n",
      "Info    : [ 90%] Meshing surface 1 order 2\n",
      "Info    : Surface mesh: worst distortion = 1 (0 elements in ]0, 0.2]); worst gamma = 0.87295\n",
      "Info    : Done meshing order 2 (Wall 0.0245472s, CPU 0.022639s)\n",
      "Info    : 5033 nodes 2630 elements\n",
      "Info    : Done reading 'beam.geo'\n"
     ]
    }
   ],
   "source": [
    "gmsh.open(\"beam.geo\")"
   ]
  },
  {
   "cell_type": "code",
   "execution_count": 244,
   "metadata": {},
   "outputs": [],
   "source": [
    "#gmsh.fltk.run()"
   ]
  },
  {
   "cell_type": "code",
   "execution_count": 245,
   "metadata": {},
   "outputs": [
    {
     "name": "stdout",
     "output_type": "stream",
     "text": [
      "Info    : RCMK renumbering...\n",
      "Info    : Done RCMK renumbering (bandwidth is now 100)\n"
     ]
    }
   ],
   "source": [
    "mat = FEM.material(\"body\")\n",
    "problem = FEM.Problem([mat], type=:PlaneStress);"
   ]
  },
  {
   "cell_type": "code",
   "execution_count": 246,
   "metadata": {},
   "outputs": [],
   "source": [
    "M = 1\n",
    "l = 100\n",
    "h = 10\n",
    "p = -1\n",
    "load = FEM.load(\"top\", fy=p)\n",
    "supp = FEM.displacementConstraint(\"left\", ux=0, uy=0);"
   ]
  },
  {
   "cell_type": "code",
   "execution_count": 247,
   "metadata": {},
   "outputs": [],
   "source": [
    "q = FEM.solveDisplacement(problem, [load], [supp]);"
   ]
  },
  {
   "cell_type": "code",
   "execution_count": 248,
   "metadata": {},
   "outputs": [],
   "source": [
    "S = FEM.solveStress(problem, q)\n",
    "S = FEM.elementsToNodes(problem, S);"
   ]
  },
  {
   "cell_type": "code",
   "execution_count": 249,
   "metadata": {},
   "outputs": [
    {
     "name": "stdout",
     "output_type": "stream",
     "text": [
      "-------------------------------------------------------\n",
      "Version       : 4.13.1\n",
      "License       : GNU General Public License\n",
      "Build OS      : Linux64-sdk\n",
      "Build date    : 19700101\n",
      "Build host    : amdci7.julia.csail.mit.edu\n",
      "Build options : 64Bit ALGLIB[contrib] ANN[contrib] Bamg Blossom Cairo DIntegration Dlopen DomHex Eigen[contrib] Fltk GMP Gmm[contrib] Hxt Jpeg Kbipack LinuxJoystick MathEx[contrib] Mesh Metis[contrib] Mmg Mpeg Netgen Nii2mesh ONELAB ONELABMetamodel OpenCASCADE OpenCASCADE-CAF OpenGL OpenMP OptHom Parser Plugins Png Post QuadMeshingTools QuadTri Solver TetGen/BR TinyXML2[contrib] Untangle Voro++[contrib] WinslowUntangler Zlib\n",
      "FLTK version  : 1.3.8\n",
      "OCC version   : 7.7.2\n",
      "Packaged by   : root\n",
      "Web site      : https://gmsh.info\n",
      "Issue tracker : https://gitlab.onelab.info/gmsh/gmsh/issues\n",
      "-------------------------------------------------------\n"
     ]
    },
    {
     "data": {
      "text/plain": [
       "2"
      ]
     },
     "metadata": {},
     "output_type": "display_data"
    }
   ],
   "source": [
    "sx = FEM.showDoFResults(problem, S, :sx)\n",
    "sy = FEM.showDoFResults(problem, S, :sy)\n",
    "sxy = FEM.showDoFResults(problem, S, :sxy)"
   ]
  },
  {
   "cell_type": "code",
   "execution_count": 250,
   "metadata": {},
   "outputs": [
    {
     "data": {
      "text/plain": [
       "exactxy (generic function with 1 method)"
      ]
     },
     "metadata": {},
     "output_type": "display_data"
    }
   ],
   "source": [
    "exactx(x, y, z) = p * (2y - h) * (10 * y^2 - 10 * h * y - 15 * x^2 + 30 * l * x - 15 * l^2 + h^2) / (5 * h^3)\n",
    "exacty(x, y, z) = -p * (2y - 3h) * y^2 / h^3\n",
    "exactxy(x, y, z) = 6p * (x - l) * (y - h) * y / h^3"
   ]
  },
  {
   "cell_type": "code",
   "execution_count": 251,
   "metadata": {},
   "outputs": [],
   "source": [
    "sx0 = FEM.displacementConstraint(\"body\", ux=exactx, uy=exacty)\n",
    "sxy0 = FEM.displacementConstraint(\"body\", ux=exactxy)\n",
    "dof = length(q)\n",
    "ssx = zeros(dof)\n",
    "ssxy = zeros(dof)\n",
    "FEM.applyBoundaryConditions!(problem, ssx, [sx0])\n",
    "FEM.applyBoundaryConditions!(problem, ssxy, [sxy0])"
   ]
  },
  {
   "cell_type": "code",
   "execution_count": 252,
   "metadata": {},
   "outputs": [
    {
     "data": {
      "text/plain": [
       "5"
      ]
     },
     "metadata": {},
     "output_type": "display_data"
    }
   ],
   "source": [
    "sx1 = FEM.showDoFResults(problem, ssx, :ux, name=\"sx-exact\")\n",
    "sy1 = FEM.showDoFResults(problem, ssx, :uy, name=\"sy-exact\")\n",
    "sxy1 = FEM.showDoFResults(problem, ssxy, :ux, name=\"sxy-exact\")"
   ]
  },
  {
   "cell_type": "code",
   "execution_count": 253,
   "metadata": {},
   "outputs": [
    {
     "name": "stderr",
     "output_type": "stream",
     "text": [
      "XRequest.18: BadValue 0x0\n"
     ]
    }
   ],
   "source": [
    "gmsh.fltk.run()"
   ]
  },
  {
   "cell_type": "code",
   "execution_count": 254,
   "metadata": {},
   "outputs": [],
   "source": [
    "gmsh.finalize()"
   ]
  }
 ],
 "metadata": {
  "kernelspec": {
   "display_name": "Julia 1.11.3",
   "language": "julia",
   "name": "julia-1.11"
  },
  "language_info": {
   "file_extension": ".jl",
   "mimetype": "application/julia",
   "name": "julia",
   "version": "1.11.3"
  }
 },
 "nbformat": 4,
 "nbformat_minor": 2
}
