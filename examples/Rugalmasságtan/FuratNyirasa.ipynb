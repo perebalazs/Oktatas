{
 "cells": [
  {
   "cell_type": "code",
   "execution_count": 18,
   "id": "dc45e465",
   "metadata": {},
   "outputs": [],
   "source": [
    "using LowLevelFEM\n",
    "import LowLevelFEM as FEM\n",
    "\n",
    "gmsh.initialize()"
   ]
  },
  {
   "cell_type": "code",
   "execution_count": 19,
   "id": "19c0cc6c",
   "metadata": {},
   "outputs": [
    {
     "name": "stdout",
     "output_type": "stream",
     "text": [
      "Info    : Reading 'furat.geo'...\n",
      "Info    : Meshing 1D...                                                                                                                        \n",
      "Info    : [  0%] Meshing curve 5 (Ellipse)\n",
      "Info    : [ 30%] Meshing curve 6 (Line)\n",
      "Info    : [ 50%] Meshing curve 7 (Line)\n",
      "Info    : [ 70%] Meshing curve 8 (Line)\n",
      "Info    : [ 90%] Meshing curve 9 (Line)\n",
      "Info    : Done meshing 1D (Wall 0.00152772s, CPU 0.001318s)\n",
      "Info    : Meshing 2D...\n",
      "Info    : Meshing surface 1 (Plane, Frontal-Delaunay)\n",
      "Info    : Blossom: 22788 internal 756 closed\n",
      "Info    : Blossom recombination completed (Wall 0.926226s, CPU 0.904798s): 7553 quads, 0 triangles, 0 invalid quads, 0 quads with Q < 0.1, avg Q = 0.805118, min Q = 0.312842\n",
      "Info    : Done meshing 2D (Wall 1.69232s, CPU 1.56156s)\n",
      "Info    : Meshing order 4 (curvilinear on)...\n",
      "Info    : [  0%] Meshing curve 5 order 4\n",
      "Info    : [ 20%] Meshing curve 6 order 4\n",
      "Info    : [ 40%] Meshing curve 7 order 4\n",
      "Info    : [ 60%] Meshing curve 8 order 4\n",
      "Info    : [ 70%] Meshing curve 9 order 4\n",
      "Info    : [ 90%] Meshing surface 1 order 4\n",
      "Info    : Done meshing order 4 (Wall 0.193s, CPU 0.184437s)\n",
      "Info    : 122360 nodes 8314 elements\n",
      "Info    : Done reading 'furat.geo'\n"
     ]
    }
   ],
   "source": [
    "gmsh.open(\"furat.geo\")"
   ]
  },
  {
   "cell_type": "code",
   "execution_count": 20,
   "id": "51b85711",
   "metadata": {},
   "outputs": [
    {
     "name": "stdout",
     "output_type": "stream",
     "text": [
      "-------------------------------------------------------\n",
      "Version       : 4.13.1\n",
      "License       : GNU General Public License\n",
      "Build OS      : Linux64-sdk\n",
      "Build date    : 19700101\n",
      "Build host    : amdci7.julia.csail.mit.edu\n",
      "Build options : 64Bit ALGLIB[contrib] ANN[contrib] Bamg Blossom Cairo DIntegration Dlopen DomHex Eigen[contrib] Fltk GMP Gmm[contrib] Hxt Jpeg Kbipack LinuxJoystick MathEx[contrib] Mesh Metis[contrib] Mmg Mpeg Netgen Nii2mesh ONELAB ONELABMetamodel OpenCASCADE OpenCASCADE-CAF OpenGL OpenMP OptHom Parser Plugins Png Post QuadMeshingTools QuadTri Solver TetGen/BR TinyXML2[contrib] Untangle Voro++[contrib] WinslowUntangler Zlib\n",
      "FLTK version  : 1.3.8\n",
      "OCC version   : 7.7.2\n",
      "Packaged by   : root\n",
      "Web site      : https://gmsh.info\n",
      "Issue tracker : https://gitlab.onelab.info/gmsh/gmsh/issues\n",
      "-------------------------------------------------------\n"
     ]
    },
    {
     "name": "stderr",
     "output_type": "stream",
     "text": [
      "XRequest.18: BadValue 0x0\n"
     ]
    }
   ],
   "source": [
    "FEM.openPreProcessor()"
   ]
  },
  {
   "cell_type": "code",
   "execution_count": 21,
   "id": "96d02919",
   "metadata": {},
   "outputs": [
    {
     "name": "stdout",
     "output_type": "stream",
     "text": [
      "Info    : RCMK renumbering...\n",
      "Info    : Done RCMK renumbering (bandwidth is now 5365)\n"
     ]
    },
    {
     "data": {
      "text/plain": [
       "LowLevelFEM.Problem(\"furat\", :PlaneStress, 2, 2, LowLevelFEM.Material[LowLevelFEM.Material(\"plate\", 200000.0, 0.3, 7.85e-9, 45.0, 4.2e8, 1.2e-5)], 1.0, 122360)"
      ]
     },
     "metadata": {},
     "output_type": "display_data"
    }
   ],
   "source": [
    "mat = FEM.material(\"plate\", E=2e5, ν=0.3)\n",
    "problem = FEM.Problem([mat], type=:PlaneStress)"
   ]
  },
  {
   "cell_type": "code",
   "execution_count": 22,
   "id": "ef9df417",
   "metadata": {},
   "outputs": [
    {
     "data": {
      "text/plain": [
       "(\"right\", 0, 1, 0)"
      ]
     },
     "metadata": {},
     "output_type": "display_data"
    }
   ],
   "source": [
    "supp1 = FEM.displacementConstraint(\"bottom\", ux=0, uy=0)\n",
    "supp2 = FEM.displacementConstraint(\"top\", uy=0)\n",
    "load = FEM.load(\"top\", fx=1)\n",
    "loadL = FEM.load(\"left\", fy=-1)\n",
    "loadR = FEM.load(\"right\", fy=1)"
   ]
  },
  {
   "cell_type": "code",
   "execution_count": 23,
   "id": "6527f096",
   "metadata": {},
   "outputs": [
    {
     "data": {
      "text/plain": [
       "244720-element Vector{Float64}:\n",
       "  0.0006544994873285986\n",
       "  6.608356190505692e-5\n",
       "  0.0\n",
       "  0.0\n",
       "  0.0\n",
       "  0.0\n",
       "  0.0013002466067258992\n",
       "  0.0\n",
       "  0.0013002466067236235\n",
       "  0.0\n",
       "  ⋮\n",
       " -3.5784631437786974e-5\n",
       "  0.0007672842872115836\n",
       " -3.6153661116875896e-5\n",
       "  0.0007675344556193303\n",
       " -3.575066547884793e-5\n",
       "  0.0007680697094737109\n",
       " -3.5382364526651405e-5\n",
       "  0.0007676782627192909\n",
       " -3.57702675222972e-5"
      ]
     },
     "metadata": {},
     "output_type": "display_data"
    }
   ],
   "source": [
    "q = FEM.solveDisplacement(problem, [load, loadL, loadR], [supp1, supp2])"
   ]
  },
  {
   "cell_type": "code",
   "execution_count": 24,
   "id": "36a413a8",
   "metadata": {},
   "outputs": [
    {
     "data": {
      "text/plain": [
       "LowLevelFEM.TensorField([[0.0046648689285649775; 1.0024436179508034; … ; 0.0; 0.0;;], [0.0044990448982212845; 1.002861589179139; … ; 0.0; 0.0;;], [0.0004517409472600734; 1.0014739180337962; … ; 0.0; 0.0;;], [-0.17079879395495087; 1.1310030521893715; … ; 0.0; 0.0;;], [-0.0006310762767661141; 1.0001453499426398; … ; 0.0; 0.0;;], [0.025035532640849067; 0.9980809166784997; … ; 0.0; 0.0;;], [0.00040006406988835633; 1.0007218121485573; … ; 0.0; 0.0;;], [-0.01053801773784912; 1.0018715432241816; … ; 0.0; 0.0;;], [0.0005780013491655588; 1.0002961889591888; … ; 0.0; 0.0;;], [0.0012354751947258069; 1.0033442554791647; … ; 0.0; 0.0;;]  …  [-0.7221660405217002; 1.077492776570004; … ; 0.0; 0.0;;], [-0.24627101243986224; 0.5561383250848857; … ; 0.0; 0.0;;], [-1.7784831989834307; 1.6862316392157757; … ; 0.0; 0.0;;], [0.014373479938204644; 0.2910755981143577; … ; 0.0; 0.0;;], [-0.18258107914919064; 0.5290179143266268; … ; 0.0; 0.0;;], [-0.7703128873448812; 1.1718478185717691; … ; 0.0; 0.0;;], [0.9104317742905976; 1.1785363717794095; … ; 0.0; 0.0;;], [-0.0839851926382847; 0.45914711728735913; … ; 0.0; 0.0;;], [-0.541912124595136; 1.205953804148835; … ; 0.0; 0.0;;], [1.8543588820284584; 1.2220605173000922; … ; 0.0; 0.0;;]], [762, 763, 764, 765, 766, 767, 768, 769, 770, 771  …  8305, 8306, 8307, 8308, 8309, 8310, 8311, 8312, 8313, 8314], 1, :s)"
      ]
     },
     "metadata": {},
     "output_type": "display_data"
    }
   ],
   "source": [
    "S = FEM.solveStress(problem, q)"
   ]
  },
  {
   "cell_type": "code",
   "execution_count": 25,
   "id": "71a31445",
   "metadata": {},
   "outputs": [
    {
     "data": {
      "text/plain": [
       "1101240×1 Matrix{Float64}:\n",
       " 5.133846930904795e-9\n",
       " 6.891675878380933e-8\n",
       " 0.0\n",
       " 6.891675878380933e-8\n",
       " 0.0011845139160270796\n",
       " 0.0\n",
       " 0.0\n",
       " 0.0\n",
       " 0.0\n",
       " 0.000598542401173702\n",
       " ⋮\n",
       " 1.937136605002138\n",
       " 1.279619994043514\n",
       " 0.0\n",
       " 1.279619994043514\n",
       " 1.0958569146116064\n",
       " 0.0\n",
       " 0.0\n",
       " 0.0\n",
       " 0.0"
      ]
     },
     "metadata": {},
     "output_type": "display_data"
    }
   ],
   "source": [
    "S1 = FEM.elementsToNodes(problem, S)"
   ]
  },
  {
   "cell_type": "code",
   "execution_count": 26,
   "id": "7accc1e2",
   "metadata": {},
   "outputs": [
    {
     "data": {
      "text/plain": [
       "τRφ (generic function with 1 method)"
      ]
     },
     "metadata": {},
     "output_type": "display_data"
    }
   ],
   "source": [
    "a = 5\n",
    "T = 1\n",
    "σR(x, y, z) = T * (1 - 4 * a^2 / (x^2 + y^2) + 3 * a^4 / (x^2 + y^2)^2) * sin(2 * atan(y, x))\n",
    "σφ(x, y, z) = T * (-1 - 3 * a^4 / (x^2 + y^2)^2) * sin(2 * atan(y / x))\n",
    "τRφ(x, y, z) = T * (1 + 2 * a^2 / (x^2 + y^2) - 3 * a^4 / (x^2 + y^2)^2) * cos(2 * atan(y, x))"
   ]
  },
  {
   "cell_type": "code",
   "execution_count": 27,
   "id": "04504c27",
   "metadata": {},
   "outputs": [
    {
     "data": {
      "text/plain": [
       "122360-element Vector{Float64}:\n",
       "  0.0\n",
       "  0.9803920895932353\n",
       "  0.9803920895932353\n",
       "  0.9803920895932353\n",
       "  0.9803920895932353\n",
       " -4.437381116894298e-16\n",
       " -4.4268537236589004e-16\n",
       " -4.409326564766995e-16\n",
       "  8.769654708518835e-16\n",
       "  0.0\n",
       "  ⋮\n",
       " -0.24542596613455486\n",
       " -0.23800070361181655\n",
       " -0.2036254228093807\n",
       " -0.2105462277405363\n",
       " -0.24176028225469134\n",
       " -0.22106502026695612\n",
       " -0.20709705744877335\n",
       " -0.2281898139595762\n",
       " -0.22465635338992232"
      ]
     },
     "metadata": {},
     "output_type": "display_data"
    }
   ],
   "source": [
    "sR = FEM.field(\"plate\", f=σR)\n",
    "sφ = FEM.field(\"plate\", f=σφ)\n",
    "sRφ = FEM.field(\"plate\", f=τRφ)\n",
    "\n",
    "sR1 = FEM.scalarField(problem, [sR])\n",
    "sφ1 = FEM.scalarField(problem, [sφ])\n",
    "sRφ1 = FEM.scalarField(problem, [sRφ])"
   ]
  },
  {
   "cell_type": "code",
   "execution_count": 28,
   "id": "ab3ae4db",
   "metadata": {},
   "outputs": [
    {
     "name": "stdout",
     "output_type": "stream",
     "text": [
      "Info    : Running Plugin(Smooth)...\n",
      "Info    : Done running Plugin(Smooth)\n"
     ]
    },
    {
     "data": {
      "text/plain": [
       "3"
      ]
     },
     "metadata": {},
     "output_type": "display_data"
    }
   ],
   "source": [
    "FEM.showStressResults(problem, S, :s, visible=true)\n",
    "\n",
    "FEM.showDoFResults(problem, sR1, :scalar)\n",
    "FEM.showDoFResults(problem, sφ1, :scalar)\n",
    "FEM.showDoFResults(problem, sRφ1, :scalar)"
   ]
  },
  {
   "cell_type": "code",
   "execution_count": 29,
   "id": "b5c73b1d",
   "metadata": {},
   "outputs": [
    {
     "data": {
      "text/plain": [
       "LowLevelFEM.Transformation(sparse([1, 2, 3, 4, 3, 4, 5, 6, 5, 6  …  244715, 244716, 244717, 244718, 244717, 244718, 244719, 244720, 244719, 244720], [1, 2, 3, 3, 4, 4, 5, 5, 6, 6  …  244716, 244716, 244717, 244717, 244718, 244718, 244719, 244719, 244720, 244720], [1.0, 1.0, -0.9950371902099892, -0.09950371902099892, 0.09950371902099892, -0.9950371902099892, 0.9950371902099892, -0.09950371902099892, 0.09950371902099892, 0.9950371902099892  …  -0.8550115733341447, -0.5186089176486175, -0.5111781465702527, 0.8594747829162885, -0.8594747829162885, -0.5111781465702527, -0.5173178695987247, 0.8557933289023915, -0.8557933289023915, -0.5173178695987247], 244720, 244720), 122360, 2)"
      ]
     },
     "metadata": {},
     "output_type": "display_data"
    }
   ],
   "source": [
    "nx(x, y) = x\n",
    "ny(x, y) = y\n",
    "cs = FEM.CoordinateSystem([nx, ny])\n",
    "Q = FEM.rotateNodes(problem, \"plate\", cs)"
   ]
  },
  {
   "cell_type": "code",
   "execution_count": 30,
   "id": "658580e0",
   "metadata": {},
   "outputs": [],
   "source": [
    "S2 = Q' * S1 * Q;"
   ]
  },
  {
   "cell_type": "code",
   "execution_count": 31,
   "id": "75356771",
   "metadata": {},
   "outputs": [
    {
     "data": {
      "text/plain": [
       "1101240×1 Matrix{Float64}:\n",
       " 4.938292942971434e-10\n",
       " 3.1393436938970924e-10\n",
       " 0.0\n",
       " 3.1393436938970924e-10\n",
       " 1.6040091590022176e-9\n",
       " 0.0\n",
       " 0.0\n",
       " 0.0\n",
       " 0.0\n",
       " 0.0\n",
       " ⋮\n",
       " 0.0\n",
       " 0.0\n",
       " 0.0\n",
       " 0.0\n",
       " 0.0\n",
       " 0.0\n",
       " 0.0\n",
       " 0.0\n",
       " 0.0"
      ]
     },
     "metadata": {},
     "output_type": "display_data"
    }
   ],
   "source": [
    "e = FEM.fieldError(problem, S)"
   ]
  },
  {
   "cell_type": "code",
   "execution_count": 32,
   "id": "bd30bc6b",
   "metadata": {},
   "outputs": [
    {
     "data": {
      "text/plain": [
       "7"
      ]
     },
     "metadata": {},
     "output_type": "display_data"
    }
   ],
   "source": [
    "FEM.showDoFResults(problem, S2, :sx, name=\"σR\")\n",
    "FEM.showDoFResults(problem, S2, :sy, name=\"σφ\")\n",
    "FEM.showDoFResults(problem, S2, :sxy, name=\"τRφ\")\n",
    "FEM.showDoFResults(problem, e, :scalar, name=\"Error\")"
   ]
  },
  {
   "cell_type": "code",
   "execution_count": 33,
   "id": "b8cf5616",
   "metadata": {},
   "outputs": [
    {
     "name": "stdout",
     "output_type": "stream",
     "text": [
      "-------------------------------------------------------\n",
      "Version       : 4.13.1\n",
      "License       : GNU General Public License\n",
      "Build OS      : Linux64-sdk\n",
      "Build date    : 19700101\n",
      "Build host    : amdci7.julia.csail.mit.edu\n",
      "Build options : 64Bit ALGLIB[contrib] ANN[contrib] Bamg Blossom Cairo DIntegration Dlopen DomHex Eigen[contrib] Fltk GMP Gmm[contrib] Hxt Jpeg Kbipack LinuxJoystick MathEx[contrib] Mesh Metis[contrib] Mmg Mpeg Netgen Nii2mesh ONELAB ONELABMetamodel OpenCASCADE OpenCASCADE-CAF OpenGL OpenMP OptHom Parser Plugins Png Post QuadMeshingTools QuadTri Solver TetGen/BR TinyXML2[contrib] Untangle Voro++[contrib] WinslowUntangler Zlib\n",
      "FLTK version  : 1.3.8\n",
      "OCC version   : 7.7.2\n",
      "Packaged by   : root\n",
      "Web site      : https://gmsh.info\n",
      "Issue tracker : https://gitlab.onelab.info/gmsh/gmsh/issues\n",
      "-------------------------------------------------------\n"
     ]
    },
    {
     "name": "stderr",
     "output_type": "stream",
     "text": [
      "XRequest.18: BadValue 0x0\n"
     ]
    }
   ],
   "source": [
    "FEM.openPostProcessor()"
   ]
  },
  {
   "cell_type": "code",
   "execution_count": 34,
   "id": "e7cd99bd",
   "metadata": {},
   "outputs": [],
   "source": [
    "gmsh.finalize()"
   ]
  }
 ],
 "metadata": {
  "kernelspec": {
   "display_name": "Julia 1.11.5",
   "language": "julia",
   "name": "julia-1.11"
  },
  "language_info": {
   "file_extension": ".jl",
   "mimetype": "application/julia",
   "name": "julia",
   "version": "1.11.5"
  }
 },
 "nbformat": 4,
 "nbformat_minor": 5
}
